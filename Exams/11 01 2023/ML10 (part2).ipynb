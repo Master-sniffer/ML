{
  "cells": [
    {
      "cell_type": "code",
      "execution_count": 2,
      "id": "4ff04463",
      "metadata": {
        "id": "4ff04463"
      },
      "outputs": [],
      "source": [
        "import numpy as np\n",
        "import matplotlib.pyplot as plt\n",
        " \n",
        "from sklearn.datasets import load_breast_cancer\n",
        "from sklearn.model_selection import train_test_split\n",
        "from sklearn.svm import SVC"
      ]
    },
    {
      "cell_type": "markdown",
      "id": "276eee9c",
      "metadata": {
        "id": "276eee9c"
      },
      "source": [
        "Загружаем данные и разделяем их на тренировочную и тестовую выборки"
      ]
    },
    {
      "cell_type": "code",
      "execution_count": 3,
      "id": "847e36dc",
      "metadata": {
        "id": "847e36dc"
      },
      "outputs": [],
      "source": [
        "breast_cancer = load_breast_cancer()\n",
        "X_ = breast_cancer.data\n",
        "y_ = breast_cancer.target\n",
        "X_2d = X_[:, :2]\n",
        "X_train, X_test, y_train, y_test = train_test_split(X_2d, y_)"
      ]
    },
    {
      "cell_type": "code",
      "execution_count": 4,
      "id": "39ac7b3e",
      "metadata": {
        "id": "39ac7b3e",
        "outputId": "3af9a207-f34c-4fcb-a515-6e901d652b71",
        "colab": {
          "base_uri": "https://localhost:8080/"
        }
      },
      "outputs": [
        {
          "output_type": "stream",
          "name": "stdout",
          "text": [
            "0.7276995305164319\n",
            "0.7832167832167832\n"
          ]
        }
      ],
      "source": [
        "clf = SVC(C=0.01)\n",
        " \n",
        "clf.fit(X_train, y_train)\n",
        " \n",
        "print(clf.score(X_train, y_train))\n",
        "print(clf.score(X_test, y_test))"
      ]
    },
    {
      "cell_type": "markdown",
      "id": "25165640",
      "metadata": {
        "id": "25165640"
      },
      "source": [
        "Строим графики обучения"
      ]
    },
    {
      "cell_type": "code",
      "execution_count": 6,
      "id": "0c1ed40a",
      "metadata": {
        "id": "0c1ed40a",
        "outputId": "98438c7a-e782-40c9-b869-0c3966da578a",
        "colab": {
          "base_uri": "https://localhost:8080/",
          "height": 320
        }
      },
      "outputs": [
        {
          "output_type": "display_data",
          "data": {
            "text/plain": [
              "<Figure size 720x360 with 1 Axes>"
            ],
            "image/png": "[encoded data removed]"
          },
          "metadata": {
            "needs_background": "light"
          }
        }
      ],
      "source": [
        "training_scores = []\n",
        "test_scores = []\n",
        "numbers = []\n",
        " \n",
        "for i in np.linspace(20, len(X_train), 20):\n",
        "    \n",
        "    clf = SVC(C=10, kernel='rbf')\n",
        "    X = X_train[:int(i)]\n",
        "    y = y_train[:int(i)]\n",
        "    clf.fit(X, y)\n",
        "    \n",
        "    numbers.append(int(i))\n",
        "    training_scores.append(clf.score(X_train, y_train))\n",
        "    test_scores.append(clf.score(X_test, y_test))\n",
        "    \n",
        "plt.figure(figsize=(10, 5))\n",
        "plt.plot(numbers, training_scores, label=\"training scores\")\n",
        "plt.plot(numbers, test_scores, label=\"test scores\")\n",
        "plt.legend(loc=\"best\")\n",
        "plt.show()"
      ]
    },
    {
      "cell_type": "markdown",
      "id": "e06d4b34",
      "metadata": {
        "id": "e06d4b34"
      },
      "source": [
        "Зависимость качества модели от показателя нормализации"
      ]
    },
    {
      "cell_type": "code",
      "execution_count": 7,
      "id": "446daa02",
      "metadata": {
        "id": "446daa02",
        "outputId": "41c8fedb-66d9-449e-a6e7-0ba42c052b8d",
        "colab": {
          "base_uri": "https://localhost:8080/"
        }
      },
      "outputs": [
        {
          "output_type": "stream",
          "name": "stdout",
          "text": [
            "0.0001 0.6408450704225352 0.5874125874125874\n",
            "0.001 0.6173708920187794 0.6573426573426573\n",
            "0.01 0.6924882629107981 0.7132867132867133\n",
            "0.1 0.903755868544601 0.916083916083916\n",
            "1 0.9107981220657277 0.8811188811188811\n",
            "10 0.9084507042253521 0.9020979020979021\n",
            "100 0.9178403755868545 0.8951048951048951\n",
            "1000 0.9107981220657277 0.8881118881118881\n",
            "10000 0.9107981220657277 0.8951048951048951\n",
            "100000 0.9272300469483568 0.8601398601398601\n",
            "1000000 0.9084507042253521 0.8741258741258742\n"
          ]
        }
      ],
      "source": [
        "for i in range(-4, 7):\n",
        "    X_2d = X_[:, :2]\n",
        "    X_train, X_test, y_train, y_test = train_test_split(X_2d, y_)\n",
        "    \n",
        "    r = 10 ** i\n",
        "    clf = SVC(C=r)\n",
        "    clf.fit(X_train, y_train)\n",
        "\n",
        "    print(r, clf.score(X_train, y_train), clf.score(X_test, y_test))"
      ]
    },
    {
      "cell_type": "markdown",
      "id": "a0819b31",
      "metadata": {
        "id": "a0819b31"
      },
      "source": [
        "Зависимость качества модели от размера параметров"
      ]
    },
    {
      "cell_type": "code",
      "execution_count": 8,
      "id": "fd3a056b",
      "metadata": {
        "id": "fd3a056b",
        "outputId": "2a4aa2b1-acbf-49f9-bf37-2ab75653d85d",
        "colab": {
          "base_uri": "https://localhost:8080/"
        }
      },
      "outputs": [
        {
          "output_type": "stream",
          "name": "stdout",
          "text": [
            "0 0.8286384976525821 0.7622377622377622\n",
            "1 0.6901408450704225 0.6923076923076923\n",
            "2 0.6338028169014085 0.6083916083916084\n",
            "3 0.7676056338028169 0.8251748251748252\n",
            "4 0.7816901408450704 0.7062937062937062\n",
            "5 0.7370892018779343 0.8461538461538461\n",
            "6 0.7206572769953051 0.6363636363636364\n",
            "7 0.7676056338028169 0.7132867132867133\n",
            "8 0.7676056338028169 0.7622377622377622\n",
            "9 0.7230046948356808 0.6993006993006993\n",
            "10 0.7370892018779343 0.7062937062937062\n",
            "11 0.755868544600939 0.7902097902097902\n",
            "12 0.7276995305164319 0.6503496503496503\n",
            "13 0.7723004694835681 0.7482517482517482\n",
            "14 0.7488262910798122 0.7762237762237763\n",
            "15 0.7300469483568075 0.6643356643356644\n",
            "16 0.7417840375586855 0.7832167832167832\n",
            "17 0.7112676056338029 0.7202797202797203\n",
            "18 0.7253521126760564 0.6853146853146853\n",
            "19 0.7417840375586855 0.7062937062937062\n",
            "20 0.7605633802816901 0.7412587412587412\n",
            "21 0.687793427230047 0.6573426573426573\n",
            "22 0.7300469483568075 0.7622377622377622\n",
            "23 0.7676056338028169 0.7902097902097902\n",
            "24 0.7769953051643192 0.8181818181818182\n",
            "25 0.7769953051643192 0.7692307692307693\n",
            "26 0.7511737089201878 0.8041958041958042\n",
            "27 0.7910798122065728 0.7132867132867133\n",
            "28 0.7793427230046949 0.7342657342657343\n",
            "29 0.7629107981220657 0.7552447552447552\n"
          ]
        }
      ],
      "source": [
        "for i in range(30):\n",
        "    X_2d = X_[:, :i + 1]\n",
        "    X_train, X_test, y_train, y_test = train_test_split(X_2d, y_)\n",
        "    clf = SVC(C=0.01)\n",
        "    \n",
        "    clf.fit(X_train, y_train)\n",
        "\n",
        "    print(i, clf.score(X_train, y_train), clf.score(X_test, y_test))"
      ]
    },
    {
      "cell_type": "code",
      "execution_count": 9,
      "id": "ce7852d7",
      "metadata": {
        "id": "ce7852d7",
        "outputId": "ec028822-d624-4589-aca0-9c22a9e16a99",
        "colab": {
          "base_uri": "https://localhost:8080/"
        }
      },
      "outputs": [
        {
          "output_type": "stream",
          "name": "stdout",
          "text": [
            "0.8967136150234741\n",
            "0.8531468531468531\n"
          ]
        }
      ],
      "source": [
        "X_2d = X_[:, :2]\n",
        "X_train, X_test, y_train, y_test = train_test_split(X_2d, y_)\n",
        "clf = SVC(kernel='linear', C=0.01)\n",
        " \n",
        "clf.fit(X_train, y_train)\n",
        " \n",
        "print(clf.score(X_train, y_train))\n",
        "print(clf.score(X_test, y_test))"
      ]
    },
    {
      "cell_type": "markdown",
      "id": "90168ba1",
      "metadata": {
        "id": "90168ba1"
      },
      "source": [
        "Зависимость качества модели от количества данных в выборке"
      ]
    },
    {
      "cell_type": "code",
      "execution_count": 10,
      "id": "af058950",
      "metadata": {
        "id": "af058950",
        "outputId": "ee4f9f97-ff38-4250-8d43-7f4eaefbdd80",
        "colab": {
          "base_uri": "https://localhost:8080/",
          "height": 338
        }
      },
      "outputs": [
        {
          "output_type": "execute_result",
          "data": {
            "text/plain": [
              "<matplotlib.legend.Legend at 0x7f4076552c10>"
            ]
          },
          "metadata": {},
          "execution_count": 10
        },
        {
          "output_type": "display_data",
          "data": {
            "text/plain": [
              "<Figure size 720x360 with 1 Axes>"
            ],
            "image/png": "[encoded data removed]"
          },
          "metadata": {
            "needs_background": "light"
          }
        }
      ],
      "source": [
        "training_scores = []\n",
        "test_scores = []\n",
        "numbers = []\n",
        " \n",
        "for i in np.linspace(20, len(X_train), 20):\n",
        "    \n",
        "    clf = SVC(C=10, kernel='rbf')\n",
        "    X = X_train[:int(i)]\n",
        "    y = y_train[:int(i)]\n",
        "    clf.fit(X, y)\n",
        "    \n",
        "    numbers.append(int(i))\n",
        "    training_scores.append(clf.score(X_train, y_train))\n",
        "    test_scores.append(clf.score(X_test, y_test))\n",
        "    \n",
        "plt.figure(figsize=(10, 5))\n",
        "plt.plot(numbers, training_scores, label=\"training scores\")\n",
        "plt.plot(numbers, test_scores, label=\"test scores\")\n",
        "plt.legend(loc=\"best\")"
      ]
    },
    {
      "cell_type": "markdown",
      "id": "be251285",
      "metadata": {
        "id": "be251285"
      },
      "source": [
        "Вывод: качество модели зависит от её гиперпараметров "
      ]
    }
  ],
  "metadata": {
    "kernelspec": {
      "display_name": "Python 3",
      "language": "python",
      "name": "python3"
    },
    "language_info": {
      "codemirror_mode": {
        "name": "ipython",
        "version": 3
      },
      "file_extension": ".py",
      "mimetype": "text/x-python",
      "name": "python",
      "nbconvert_exporter": "python",
      "pygments_lexer": "ipython3",
      "version": "3.8.8"
    },
    "colab": {
      "name": "ML10_Алхажа_Омран_ПИ19-1_3.1.ipynb",
      "provenance": []
    }
  },
  "nbformat": 4,
  "nbformat_minor": 5
}