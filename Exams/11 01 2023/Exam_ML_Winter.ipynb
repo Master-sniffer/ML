{
  "cells": [
    {
      "cell_type": "markdown",
      "metadata": {
        "id": "qddQ-lKSdghB"
      },
      "source": [
        "# Билет 3"
      ]
    },
    {
      "cell_type": "code",
      "execution_count": null,
      "metadata": {
        "id": "CZxzCfUXdghJ"
      },
      "outputs": [],
      "source": [
        "import random\n",
        "import re\n",
        "import typing as t\n",
        "from collections import defaultdict\n",
        "from pathlib import Path\n",
        "\n",
        "import matplotlib.animation as animation\n",
        "import matplotlib.pyplot as plt\n",
        "import nltk\n",
        "import pandas as pd\n",
        "import seaborn as sns\n",
        "import torch\n",
        "import torch.nn as nn\n",
        "import torch.optim as optim\n",
        "from nltk.corpus import wordnet, stopwords\n",
        "from sklearn import metrics\n",
        "from sklearn.model_selection import train_test_split\n",
        "from sklearn.preprocessing import LabelEncoder\n",
        "from torch.utils.data import Dataset, DataLoader\n",
        "from tqdm import tqdm"
      ]
    },
    {
      "cell_type": "code",
      "execution_count": null,
      "metadata": {
        "id": "7onIRt8FdghM"
      },
      "outputs": [],
      "source": [
        "# @formatter:off\n",
        "%matplotlib inline\n",
        "# @formatter:on"
      ]
    },
    {
      "cell_type": "code",
      "execution_count": null,
      "metadata": {
        "colab": {
          "base_uri": "https://localhost:8080/"
        },
        "id": "IIQrKzukdghN",
        "outputId": "b5b9c1bf-2dda-4c2a-9abe-09f94eedad94"
      },
      "outputs": [
        {
          "output_type": "stream",
          "name": "stderr",
          "text": [
            "[nltk_data] Downloading package punkt to /root/nltk_data...\n",
            "[nltk_data]   Unzipping tokenizers/punkt.zip.\n",
            "[nltk_data] Downloading package stopwords to /root/nltk_data...\n",
            "[nltk_data]   Unzipping corpora/stopwords.zip.\n",
            "[nltk_data] Downloading package wordnet to /root/nltk_data...\n",
            "[nltk_data] Downloading package omw-1.4 to /root/nltk_data...\n",
            "[nltk_data] Downloading package averaged_perceptron_tagger to\n",
            "[nltk_data]     /root/nltk_data...\n",
            "[nltk_data]   Unzipping taggers/averaged_perceptron_tagger.zip.\n"
          ]
        },
        {
          "output_type": "execute_result",
          "data": {
            "text/plain": [
              "True"
            ]
          },
          "metadata": {},
          "execution_count": 3
        }
      ],
      "source": [
        "nltk.download('punkt')\n",
        "nltk.download('stopwords')\n",
        "nltk.download('wordnet')\n",
        "nltk.download('omw-1.4')\n",
        "nltk.download('averaged_perceptron_tagger')"
      ]
    },
    {
      "cell_type": "code",
      "execution_count": null,
      "metadata": {
        "id": "pgGd8f0sdghP"
      },
      "outputs": [],
      "source": [
        "torch.set_warn_always(True)\n",
        "\n",
        "sns.set_theme()\n",
        "plt.rcParams[\"figure.figsize\"] = (8, 4)"
      ]
    },
    {
      "cell_type": "code",
      "execution_count": null,
      "metadata": {
        "colab": {
          "base_uri": "https://localhost:8080/"
        },
        "id": "ARCbucYrdghP",
        "outputId": "08008e53-6398-4779-bd3d-784692483e66"
      },
      "outputs": [
        {
          "output_type": "stream",
          "name": "stdout",
          "text": [
            "Using CPU device\n"
          ]
        }
      ],
      "source": [
        "DATA_DIR = Path(\"../data/\")\n",
        "\n",
        "CUDA = \"cuda\"\n",
        "CPU = \"cpu\"\n",
        "DEVICE = CUDA if torch.cuda.is_available() else CPU\n",
        "print(f\"Using {DEVICE.upper()} device\")"
      ]
    },
    {
      "cell_type": "markdown",
      "metadata": {
        "id": "oyB-sDi4dghR"
      },
      "source": [
        "## Предобработка данных и подготовка датасета"
      ]
    },
    {
      "cell_type": "code",
      "execution_count": null,
      "metadata": {
        "id": "5fhNBvEcdghS"
      },
      "outputs": [],
      "source": [
        "def get_pos(word: str) -> str:\n",
        "    tag = nltk.pos_tag([word])[0][1]\n",
        "    if tag.startswith(\"J\"):\n",
        "        return wordnet.ADJ\n",
        "    elif tag.startswith(\"V\"):\n",
        "        return wordnet.VERB\n",
        "    elif tag.startswith(\"R\"):\n",
        "        return wordnet.ADV\n",
        "    else:\n",
        "        return wordnet.NOUN\n",
        "\n",
        "\n",
        "_wordnet_lemmatizer = nltk.WordNetLemmatizer()\n",
        "\n",
        "\n",
        "def wordnet_lemmatizer(token: str) -> str:\n",
        "    return _wordnet_lemmatizer.lemmatize(token, pos=get_pos(token))\n",
        "\n",
        "\n",
        "PATTERN = re.compile(r\"[^a-z]\", flags=re.MULTILINE)\n",
        "STOPWORDS = set(stopwords.words(\"english\"))\n",
        "\n",
        "\n",
        "def preprocess_text(\n",
        "        text: str,\n",
        "        lemmatizer_or_stemmer: t.Callable[[str], str] = None,\n",
        "        min_word_len: int = 0,\n",
        ") -> str:\n",
        "    text = text.lower()\n",
        "    text = PATTERN.sub(\" \", text)\n",
        "\n",
        "    words = []\n",
        "    for word in nltk.word_tokenize(text):\n",
        "        if word not in STOPWORDS and len(word) >= min_word_len:\n",
        "            if not lemmatizer_or_stemmer:\n",
        "                words.append(word)\n",
        "                continue\n",
        "            word = lemmatizer_or_stemmer(word)\n",
        "            if word not in STOPWORDS and len(word) >= min_word_len:\n",
        "                words.append(word)\n",
        "\n",
        "    return \" \".join(words)"
      ]
    },
    {
      "cell_type": "code",
      "execution_count": null,
      "metadata": {
        "id": "xzufC6D0dghT"
      },
      "outputs": [],
      "source": [
        "class ActivitiesVocab:\n",
        "    pad = \"<PAD>\"\n",
        "    unknown = \"<UNK>\"\n",
        "\n",
        "    def __init__(self, texts: t.List[str]):\n",
        "        uniques = set()\n",
        "        max_len = 0\n",
        "        for text in texts:\n",
        "            words = nltk.word_tokenize(text)\n",
        "            uniques.update(words)\n",
        "            max_len = max(len(words), max_len)\n",
        "\n",
        "        self.alphabet = [self.pad, self.unknown, *uniques]\n",
        "        self.max_len = max_len\n",
        "\n",
        "        w2i = {w: i for i, w in enumerate(self.alphabet)}\n",
        "        unknown_idx = w2i[self.unknown]\n",
        "        self.w2i = defaultdict(lambda: unknown_idx, w2i)\n",
        "\n",
        "    def __len__(self):\n",
        "        return len(self.alphabet)\n",
        "\n",
        "    def encode(self, text: str) -> torch.Tensor:\n",
        "        indices = [self.w2i[w] for w in nltk.word_tokenize(text)]\n",
        "        indices += [self.w2i[self.pad]] * (self.max_len - len(indices))\n",
        "        return torch.tensor(indices, dtype=torch.long)\n",
        "\n",
        "    def decode(self, indices: torch.Tensor) -> str:\n",
        "        pad_indices = torch.nonzero(indices == self.w2i[self.pad], as_tuple=True)[0]  # noqa\n",
        "        if len(pad_indices):\n",
        "            indices = indices[:pad_indices[0]]\n",
        "        return \" \".join(self.alphabet[i] for i in indices)\n",
        "\n",
        "\n",
        "class ActivitiesDataset(Dataset):\n",
        "    df: pd.DataFrame\n",
        "    texts: t.List[str]\n",
        "\n",
        "    encoder: LabelEncoder\n",
        "    classes: t.List[str]\n",
        "\n",
        "    vocab: ActivitiesVocab\n",
        "    data: torch.Tensor\n",
        "    targets: torch.Tensor\n",
        "\n",
        "    def __init__(self, df: pd.DataFrame, vocab: ActivitiesVocab = None, encoder: LabelEncoder = None):\n",
        "        self.df = df\n",
        "\n",
        "        with tqdm(total=len(df)) as pbar:\n",
        "            self._pbar, self._i, self._n = pbar, 0, 100\n",
        "            self.texts = df[\"text\"].apply(self.preprocess_text).tolist()\n",
        "        self.vocab = vocab or ActivitiesVocab(self.texts)\n",
        "\n",
        "        if encoder:\n",
        "            self.encoder = encoder\n",
        "            encode = self.encoder.transform\n",
        "        else:\n",
        "            self.encoder = LabelEncoder()\n",
        "            encode = self.encoder.fit_transform\n",
        "\n",
        "        self.data = torch.vstack([self.vocab.encode(text) for text in self.texts])\n",
        "        targets = encode(df[\"type\"])\n",
        "        self.classes = self.encoder.classes_.tolist()\n",
        "        self.targets = torch.tensor(targets, dtype=torch.long)\n",
        "\n",
        "    def __len__(self):\n",
        "        return self.data.size(0)\n",
        "\n",
        "    def __getitem__(self, idx):\n",
        "        return self.data[idx], self.targets[idx]\n",
        "\n",
        "    def preprocess_text(self, text: str) -> str:\n",
        "        self._i += 1\n",
        "        if self._i % self._n == 0:\n",
        "            self._pbar.update(self._n)\n",
        "        return preprocess_text(text, lemmatizer_or_stemmer=wordnet_lemmatizer, min_word_len=3)"
      ]
    },
    {
      "cell_type": "code",
      "execution_count": null,
      "metadata": {
        "colab": {
          "base_uri": "https://localhost:8080/",
          "height": 273
        },
        "id": "wvVspgASdghU",
        "outputId": "4e505ce4-9da8-46c7-9449-9939b11c5aa3"
      },
      "outputs": [
        {
          "output_type": "stream",
          "name": "stdout",
          "text": [
            "politics         345\n",
            "medical          299\n",
            "entertainment    260\n",
            "sports           258\n",
            "Name: type, dtype: int64\n"
          ]
        },
        {
          "output_type": "display_data",
          "data": {
            "text/plain": [
              "<Figure size 216x180 with 1 Axes>"
            ],
            "image/png": "[encoded data removed]"
          },
          "metadata": {}
        }
      ],
      "source": [
        "activities_df = pd.read_csv(\"/content/tweet_cat.csv\")\n",
        "vc = activities_df[\"type\"].value_counts()\n",
        "print(vc)\n",
        "activities_df[\"type\"].value_counts().plot.bar(rot=0, figsize=(3, 2.5));"
      ]
    },
    {
      "cell_type": "code",
      "execution_count": null,
      "metadata": {
        "colab": {
          "base_uri": "https://localhost:8080/"
        },
        "id": "WjLZArGTdghV",
        "outputId": "8496d5e6-34ce-4530-b3fd-a1548068c46c"
      },
      "outputs": [
        {
          "output_type": "stream",
          "name": "stderr",
          "text": [
            " 97%|█████████▋| 900/929 [00:04<00:00, 209.74it/s]\n",
            " 86%|████████▌ | 200/233 [00:00<00:00, 444.00it/s]\n"
          ]
        },
        {
          "output_type": "execute_result",
          "data": {
            "text/plain": [
              "(929, 233)"
            ]
          },
          "metadata": {},
          "execution_count": 10
        }
      ],
      "source": [
        "train_df, test_df = train_test_split(activities_df, test_size=0.2, random_state=0)\n",
        "\n",
        "train_dataset = ActivitiesDataset(train_df)\n",
        "test_dataset = ActivitiesDataset(test_df, vocab=train_dataset.vocab, encoder=train_dataset.encoder)\n",
        "len(train_dataset), len(test_dataset)"
      ]
    },
    {
      "cell_type": "markdown",
      "metadata": {
        "id": "c7jwUkt4dghV"
      },
      "source": [
        "## Построение и обучение модели"
      ]
    },
    {
      "cell_type": "code",
      "execution_count": null,
      "metadata": {
        "id": "PSkT4W30dghW"
      },
      "outputs": [],
      "source": [
        "def get_weights(targets: torch.Tensor) -> torch.Tensor:\n",
        "    _, counts = targets.unique(return_counts=True)\n",
        "    return counts.max() / counts\n",
        "\n",
        "\n",
        "def common_train(\n",
        "        model: nn.Module,\n",
        "        loss_fn: nn.Module,\n",
        "        optimizer: optim.Optimizer,\n",
        "        epochs: int,\n",
        "        train_dataloader: DataLoader,\n",
        "        test_dataloader: DataLoader,\n",
        "        verbose: int = None,\n",
        "        device: str = CPU,\n",
        ") -> t.Tuple[t.List[float], t.List[float], t.List[float], t.List[float]]:\n",
        "    train_losses, train_accuracy_list = [], []\n",
        "    test_losses, test_accuracy_list = [], []\n",
        "    for epoch in range(epochs):\n",
        "        print(f\"Epoch {epoch + 1}\\n\" + \"-\" * 32)\n",
        "\n",
        "        train_loss, train_accuracy = train_loop(train_dataloader, model, loss_fn, optimizer, verbose, device)\n",
        "        print(f\"Train Error: loss: {train_loss:.6f}, accuracy: {train_accuracy:.4f}\")\n",
        "        train_losses.append(train_loss)\n",
        "        train_accuracy_list.append(train_accuracy)\n",
        "\n",
        "        test_loss, test_accuracy = test_loop(test_dataloader, model, loss_fn, device)\n",
        "        print(f\" Test Error: loss: {test_loss:.6f}, accuracy: {test_accuracy:.4f}\\n\")\n",
        "        test_losses.append(test_loss)\n",
        "        test_accuracy_list.append(test_accuracy)\n",
        "\n",
        "        torch.cuda.empty_cache()\n",
        "    return train_losses, train_accuracy_list, test_losses, test_accuracy_list\n",
        "\n",
        "\n",
        "def train_loop(\n",
        "        dataloader: DataLoader,\n",
        "        model: nn.Module,\n",
        "        loss_fn: nn.Module,\n",
        "        optimizer: optim.Optimizer,\n",
        "        verbose: int = None,\n",
        "        device: str = CPU,\n",
        ") -> t.Tuple[float, float]:\n",
        "    model.train()\n",
        "\n",
        "    size = len(dataloader.dataset)  # noqa\n",
        "    num_batches = len(dataloader)\n",
        "    avg_loss, avg_accuracy = 0, 0\n",
        "\n",
        "    for batch, (x, y) in enumerate(dataloader):\n",
        "        x, y = x.to(device), y.to(device)\n",
        "\n",
        "        pred = model(x)\n",
        "        loss = loss_fn(pred, y)\n",
        "\n",
        "        optimizer.zero_grad()\n",
        "        loss.backward()\n",
        "        optimizer.step()\n",
        "\n",
        "        y_true = torch.flatten(y).detach().cpu()\n",
        "        y_pred = torch.flatten(pred.argmax(1)).detach().cpu()\n",
        "        accuracy = metrics.accuracy_score(y_true, y_pred)\n",
        "\n",
        "        avg_loss += loss\n",
        "        avg_accuracy += accuracy\n",
        "        if verbose and batch % verbose == 0:\n",
        "            print(f\"[{batch * len(x):>4d}/{size:>4d}]: loss: {loss:.6f}, accuracy: {accuracy:.4f}\")\n",
        "\n",
        "        del x, y, pred, loss\n",
        "        torch.cuda.empty_cache()\n",
        "\n",
        "    return (avg_loss / num_batches).item(), avg_accuracy / num_batches\n",
        "\n",
        "\n",
        "@torch.no_grad()\n",
        "def test_loop(\n",
        "        dataloader: DataLoader,\n",
        "        model: nn.Module,\n",
        "        loss_fn: nn.Module,\n",
        "        device: str = CPU,\n",
        ") -> t.Tuple[float, float]:\n",
        "    model.eval()\n",
        "    y_true, y_pred = get_y_true_y_pred(model, dataloader, device)\n",
        "    return loss_fn(y_pred, y_true).item(), metrics.accuracy_score(y_true.cpu(), y_pred.argmax(1).cpu())\n",
        "\n",
        "\n",
        "@torch.no_grad()\n",
        "def get_y_true_y_pred(\n",
        "        model: nn.Module,\n",
        "        dataloader: DataLoader,\n",
        "        device: str = CPU,\n",
        ") -> t.Tuple[torch.Tensor, torch.Tensor]:\n",
        "    model.eval()\n",
        "\n",
        "    y_test = []\n",
        "    y_pred = []\n",
        "    for x, y in dataloader:\n",
        "        x, y = x.to(device), y.to(device)\n",
        "        pred = model(x)\n",
        "        y_test.append(y)\n",
        "        y_pred.append(pred)\n",
        "\n",
        "        del x\n",
        "        torch.cuda.empty_cache()\n",
        "\n",
        "    return torch.flatten(torch.vstack(y_test)), torch.vstack(y_pred)\n",
        "\n",
        "\n",
        "def plot_train_test(\n",
        "        train_losses: t.List[float],\n",
        "        train_accuracy: t.List[float],\n",
        "        test_losses: t.List[float],\n",
        "        test_accuracy: t.List[float],\n",
        ") -> None:\n",
        "    fig, axes = plt.subplots(2, 1, figsize=(6, 7))\n",
        "    epochs = torch.arange(len(train_losses))\n",
        "\n",
        "    axes[0].plot(epochs, train_losses)\n",
        "    axes[0].plot(epochs, test_losses)\n",
        "    axes[0].set_ylabel(\"loss\")\n",
        "    axes[0].legend([\"train\", \"test\"])\n",
        "\n",
        "    axes[1].plot(epochs, train_accuracy)\n",
        "    axes[1].plot(epochs, test_accuracy)\n",
        "    axes[1].set_xlabel(\"epoch\")\n",
        "    axes[1].set_ylabel(\"accuracy\")"
      ]
    },
    {
      "cell_type": "code",
      "execution_count": null,
      "metadata": {
        "id": "Ka1zlk_rdghW"
      },
      "outputs": [],
      "source": [
        "class ActivitiesRNNClassifier(nn.Module):\n",
        "    _STATE_T = t.Union[t.Optional[torch.Tensor], t.Optional[t.Tuple[torch.Tensor, torch.Tensor]]]\n",
        "    rnn_state: _STATE_T\n",
        "\n",
        "    def __init__(\n",
        "            self,\n",
        "            num_embeddings: int,\n",
        "            embedding_dim: int,\n",
        "            rnn_hidden_size: int,\n",
        "            vector_size: int,\n",
        "            num_classes: int,\n",
        "    ):\n",
        "        super().__init__()\n",
        "        self.embedding = nn.Embedding(num_embeddings=num_embeddings, embedding_dim=embedding_dim, padding_idx=0)\n",
        "        self.rnn = nn.RNN(input_size=embedding_dim, hidden_size=rnn_hidden_size, batch_first=True)\n",
        "        self.classifier = nn.Sequential(\n",
        "            nn.Linear(rnn_hidden_size * vector_size, 128),\n",
        "            nn.ReLU(),\n",
        "            nn.Dropout(),\n",
        "            nn.Linear(128, 5),\n",
        "            nn.Linear(5, num_classes),\n",
        "        )\n",
        "        self.reset_rnn_state()\n",
        "\n",
        "    def forward(self, x: torch.Tensor) -> torch.Tensor:\n",
        "        x = self.embedding(x)\n",
        "\n",
        "        x, rnn_state = self.rnn(x, self.rnn_state)\n",
        "        self.keep_rnn_state(rnn_state)\n",
        "\n",
        "        x = torch.flatten(x, 1)\n",
        "        return self.classifier(x)\n",
        "\n",
        "    def reset_rnn_state(self):\n",
        "        self.rnn_state = None\n",
        "\n",
        "    def keep_rnn_state(self, state: _STATE_T):\n",
        "        if isinstance(self.rnn, nn.LSTM):\n",
        "            self.rnn_state = (state[0].detach(), state[1].detach())\n",
        "        else:\n",
        "            self.rnn_state = state.detach()\n",
        "\n",
        "    def train(self, mode: bool = True):\n",
        "        self.reset_rnn_state()\n",
        "        return super().train(mode)"
      ]
    },
    {
      "cell_type": "code",
      "execution_count": null,
      "metadata": {
        "colab": {
          "base_uri": "https://localhost:8080/"
        },
        "id": "NWGmDdJNdghX",
        "outputId": "dc8b5940-d665-4fae-f0e8-de9e4d8aa4b9"
      },
      "outputs": [
        {
          "output_type": "execute_result",
          "data": {
            "text/plain": [
              "ActivitiesRNNClassifier(\n",
              "  (embedding): Embedding(4996, 64, padding_idx=0)\n",
              "  (rnn): RNN(64, 64, batch_first=True)\n",
              "  (classifier): Sequential(\n",
              "    (0): Linear(in_features=1152, out_features=128, bias=True)\n",
              "    (1): ReLU()\n",
              "    (2): Dropout(p=0.5, inplace=False)\n",
              "    (3): Linear(in_features=128, out_features=5, bias=True)\n",
              "    (4): Linear(in_features=5, out_features=4, bias=True)\n",
              "  )\n",
              ")"
            ]
          },
          "metadata": {},
          "execution_count": 39
        }
      ],
      "source": [
        "torch.manual_seed(0)\n",
        "\n",
        "net = ActivitiesRNNClassifier(\n",
        "    num_embeddings=len(train_dataset.vocab),\n",
        "    embedding_dim=64,\n",
        "    rnn_hidden_size=64,\n",
        "    vector_size=train_dataset.vocab.max_len,\n",
        "    num_classes=len(train_dataset.classes),\n",
        ").to(DEVICE)\n",
        "loss_fn = nn.CrossEntropyLoss(weight=get_weights(train_dataset.targets).to(DEVICE))\n",
        "optimizer = optim.Adam(net.parameters(), lr=0.001)\n",
        "\n",
        "train_dataloader = DataLoader(train_dataset, batch_size=33, shuffle=True, drop_last=False)\n",
        "test_dataloader = DataLoader(test_dataset, batch_size=512, drop_last=False)\n",
        "\n",
        "net"
      ]
    },
    {
      "cell_type": "code",
      "execution_count": null,
      "metadata": {
        "colab": {
          "base_uri": "https://localhost:8080/",
          "height": 520
        },
        "id": "Zzmzru7kdghY",
        "outputId": "f18b22a7-2bb6-4aa0-9e73-54fc04278fc4"
      },
      "outputs": [
        {
          "output_type": "stream",
          "name": "stdout",
          "text": [
            "Epoch 1\n",
            "--------------------------------\n",
            "[   0/ 929]: loss: 1.364345, accuracy: 0.3939\n"
          ]
        },
        {
          "output_type": "error",
          "ename": "RuntimeError",
          "evalue": "ignored",
          "traceback": [
            "\u001b[0;31m---------------------------------------------------------------------------\u001b[0m",
            "\u001b[0;31mRuntimeError\u001b[0m                              Traceback (most recent call last)",
            "\u001b[0;32m<timed exec>\u001b[0m in \u001b[0;36m<module>\u001b[0;34m\u001b[0m\n",
            "\u001b[0;32m<ipython-input-11-ded1f7812fc2>\u001b[0m in \u001b[0;36mcommon_train\u001b[0;34m(model, loss_fn, optimizer, epochs, train_dataloader, test_dataloader, verbose, device)\u001b[0m\n\u001b[1;32m     19\u001b[0m         \u001b[0mprint\u001b[0m\u001b[0;34m(\u001b[0m\u001b[0;34mf\"Epoch {epoch + 1}\\n\"\u001b[0m \u001b[0;34m+\u001b[0m \u001b[0;34m\"-\"\u001b[0m \u001b[0;34m*\u001b[0m \u001b[0;36m32\u001b[0m\u001b[0;34m)\u001b[0m\u001b[0;34m\u001b[0m\u001b[0;34m\u001b[0m\u001b[0m\n\u001b[1;32m     20\u001b[0m \u001b[0;34m\u001b[0m\u001b[0m\n\u001b[0;32m---> 21\u001b[0;31m         \u001b[0mtrain_loss\u001b[0m\u001b[0;34m,\u001b[0m \u001b[0mtrain_accuracy\u001b[0m \u001b[0;34m=\u001b[0m \u001b[0mtrain_loop\u001b[0m\u001b[0;34m(\u001b[0m\u001b[0mtrain_dataloader\u001b[0m\u001b[0;34m,\u001b[0m \u001b[0mmodel\u001b[0m\u001b[0;34m,\u001b[0m \u001b[0mloss_fn\u001b[0m\u001b[0;34m,\u001b[0m \u001b[0moptimizer\u001b[0m\u001b[0;34m,\u001b[0m \u001b[0mverbose\u001b[0m\u001b[0;34m,\u001b[0m \u001b[0mdevice\u001b[0m\u001b[0;34m)\u001b[0m\u001b[0;34m\u001b[0m\u001b[0;34m\u001b[0m\u001b[0m\n\u001b[0m\u001b[1;32m     22\u001b[0m         \u001b[0mprint\u001b[0m\u001b[0;34m(\u001b[0m\u001b[0;34mf\"Train Error: loss: {train_loss:.6f}, accuracy: {train_accuracy:.4f}\"\u001b[0m\u001b[0;34m)\u001b[0m\u001b[0;34m\u001b[0m\u001b[0;34m\u001b[0m\u001b[0m\n\u001b[1;32m     23\u001b[0m         \u001b[0mtrain_losses\u001b[0m\u001b[0;34m.\u001b[0m\u001b[0mappend\u001b[0m\u001b[0;34m(\u001b[0m\u001b[0mtrain_loss\u001b[0m\u001b[0;34m)\u001b[0m\u001b[0;34m\u001b[0m\u001b[0;34m\u001b[0m\u001b[0m\n",
            "\u001b[0;32m<ipython-input-11-ded1f7812fc2>\u001b[0m in \u001b[0;36mtrain_loop\u001b[0;34m(dataloader, model, loss_fn, optimizer, verbose, device)\u001b[0m\n\u001b[1;32m     50\u001b[0m         \u001b[0mx\u001b[0m\u001b[0;34m,\u001b[0m \u001b[0my\u001b[0m \u001b[0;34m=\u001b[0m \u001b[0mx\u001b[0m\u001b[0;34m.\u001b[0m\u001b[0mto\u001b[0m\u001b[0;34m(\u001b[0m\u001b[0mdevice\u001b[0m\u001b[0;34m)\u001b[0m\u001b[0;34m,\u001b[0m \u001b[0my\u001b[0m\u001b[0;34m.\u001b[0m\u001b[0mto\u001b[0m\u001b[0;34m(\u001b[0m\u001b[0mdevice\u001b[0m\u001b[0;34m)\u001b[0m\u001b[0;34m\u001b[0m\u001b[0;34m\u001b[0m\u001b[0m\n\u001b[1;32m     51\u001b[0m \u001b[0;34m\u001b[0m\u001b[0m\n\u001b[0;32m---> 52\u001b[0;31m         \u001b[0mpred\u001b[0m \u001b[0;34m=\u001b[0m \u001b[0mmodel\u001b[0m\u001b[0;34m(\u001b[0m\u001b[0mx\u001b[0m\u001b[0;34m)\u001b[0m\u001b[0;34m\u001b[0m\u001b[0;34m\u001b[0m\u001b[0m\n\u001b[0m\u001b[1;32m     53\u001b[0m         \u001b[0mloss\u001b[0m \u001b[0;34m=\u001b[0m \u001b[0mloss_fn\u001b[0m\u001b[0;34m(\u001b[0m\u001b[0mpred\u001b[0m\u001b[0;34m,\u001b[0m \u001b[0my\u001b[0m\u001b[0;34m)\u001b[0m\u001b[0;34m\u001b[0m\u001b[0;34m\u001b[0m\u001b[0m\n\u001b[1;32m     54\u001b[0m \u001b[0;34m\u001b[0m\u001b[0m\n",
            "\u001b[0;32m/usr/local/lib/python3.8/dist-packages/torch/nn/modules/module.py\u001b[0m in \u001b[0;36m_call_impl\u001b[0;34m(self, *input, **kwargs)\u001b[0m\n\u001b[1;32m   1188\u001b[0m         if not (self._backward_hooks or self._forward_hooks or self._forward_pre_hooks or _global_backward_hooks\n\u001b[1;32m   1189\u001b[0m                 or _global_forward_hooks or _global_forward_pre_hooks):\n\u001b[0;32m-> 1190\u001b[0;31m             \u001b[0;32mreturn\u001b[0m \u001b[0mforward_call\u001b[0m\u001b[0;34m(\u001b[0m\u001b[0;34m*\u001b[0m\u001b[0minput\u001b[0m\u001b[0;34m,\u001b[0m \u001b[0;34m**\u001b[0m\u001b[0mkwargs\u001b[0m\u001b[0;34m)\u001b[0m\u001b[0;34m\u001b[0m\u001b[0;34m\u001b[0m\u001b[0m\n\u001b[0m\u001b[1;32m   1191\u001b[0m         \u001b[0;31m# Do not call functions when jit is used\u001b[0m\u001b[0;34m\u001b[0m\u001b[0;34m\u001b[0m\u001b[0;34m\u001b[0m\u001b[0m\n\u001b[1;32m   1192\u001b[0m         \u001b[0mfull_backward_hooks\u001b[0m\u001b[0;34m,\u001b[0m \u001b[0mnon_full_backward_hooks\u001b[0m \u001b[0;34m=\u001b[0m \u001b[0;34m[\u001b[0m\u001b[0;34m]\u001b[0m\u001b[0;34m,\u001b[0m \u001b[0;34m[\u001b[0m\u001b[0;34m]\u001b[0m\u001b[0;34m\u001b[0m\u001b[0;34m\u001b[0m\u001b[0m\n",
            "\u001b[0;32m<ipython-input-38-c93354aa7b12>\u001b[0m in \u001b[0;36mforward\u001b[0;34m(self, x)\u001b[0m\n\u001b[1;32m     26\u001b[0m         \u001b[0mx\u001b[0m \u001b[0;34m=\u001b[0m \u001b[0mself\u001b[0m\u001b[0;34m.\u001b[0m\u001b[0membedding\u001b[0m\u001b[0;34m(\u001b[0m\u001b[0mx\u001b[0m\u001b[0;34m)\u001b[0m\u001b[0;34m\u001b[0m\u001b[0;34m\u001b[0m\u001b[0m\n\u001b[1;32m     27\u001b[0m \u001b[0;34m\u001b[0m\u001b[0m\n\u001b[0;32m---> 28\u001b[0;31m         \u001b[0mx\u001b[0m\u001b[0;34m,\u001b[0m \u001b[0mrnn_state\u001b[0m \u001b[0;34m=\u001b[0m \u001b[0mself\u001b[0m\u001b[0;34m.\u001b[0m\u001b[0mrnn\u001b[0m\u001b[0;34m(\u001b[0m\u001b[0mx\u001b[0m\u001b[0;34m,\u001b[0m \u001b[0mself\u001b[0m\u001b[0;34m.\u001b[0m\u001b[0mrnn_state\u001b[0m\u001b[0;34m)\u001b[0m\u001b[0;34m\u001b[0m\u001b[0;34m\u001b[0m\u001b[0m\n\u001b[0m\u001b[1;32m     29\u001b[0m         \u001b[0mself\u001b[0m\u001b[0;34m.\u001b[0m\u001b[0mkeep_rnn_state\u001b[0m\u001b[0;34m(\u001b[0m\u001b[0mrnn_state\u001b[0m\u001b[0;34m)\u001b[0m\u001b[0;34m\u001b[0m\u001b[0;34m\u001b[0m\u001b[0m\n\u001b[1;32m     30\u001b[0m \u001b[0;34m\u001b[0m\u001b[0m\n",
            "\u001b[0;32m/usr/local/lib/python3.8/dist-packages/torch/nn/modules/module.py\u001b[0m in \u001b[0;36m_call_impl\u001b[0;34m(self, *input, **kwargs)\u001b[0m\n\u001b[1;32m   1188\u001b[0m         if not (self._backward_hooks or self._forward_hooks or self._forward_pre_hooks or _global_backward_hooks\n\u001b[1;32m   1189\u001b[0m                 or _global_forward_hooks or _global_forward_pre_hooks):\n\u001b[0;32m-> 1190\u001b[0;31m             \u001b[0;32mreturn\u001b[0m \u001b[0mforward_call\u001b[0m\u001b[0;34m(\u001b[0m\u001b[0;34m*\u001b[0m\u001b[0minput\u001b[0m\u001b[0;34m,\u001b[0m \u001b[0;34m**\u001b[0m\u001b[0mkwargs\u001b[0m\u001b[0;34m)\u001b[0m\u001b[0;34m\u001b[0m\u001b[0;34m\u001b[0m\u001b[0m\n\u001b[0m\u001b[1;32m   1191\u001b[0m         \u001b[0;31m# Do not call functions when jit is used\u001b[0m\u001b[0;34m\u001b[0m\u001b[0;34m\u001b[0m\u001b[0;34m\u001b[0m\u001b[0m\n\u001b[1;32m   1192\u001b[0m         \u001b[0mfull_backward_hooks\u001b[0m\u001b[0;34m,\u001b[0m \u001b[0mnon_full_backward_hooks\u001b[0m \u001b[0;34m=\u001b[0m \u001b[0;34m[\u001b[0m\u001b[0;34m]\u001b[0m\u001b[0;34m,\u001b[0m \u001b[0;34m[\u001b[0m\u001b[0;34m]\u001b[0m\u001b[0;34m\u001b[0m\u001b[0;34m\u001b[0m\u001b[0m\n",
            "\u001b[0;32m/usr/local/lib/python3.8/dist-packages/torch/nn/modules/rnn.py\u001b[0m in \u001b[0;36mforward\u001b[0;34m(self, input, hx)\u001b[0m\n\u001b[1;32m    470\u001b[0m \u001b[0;34m\u001b[0m\u001b[0m\n\u001b[1;32m    471\u001b[0m         \u001b[0;32massert\u001b[0m \u001b[0mhx\u001b[0m \u001b[0;32mis\u001b[0m \u001b[0;32mnot\u001b[0m \u001b[0;32mNone\u001b[0m\u001b[0;34m\u001b[0m\u001b[0;34m\u001b[0m\u001b[0m\n\u001b[0;32m--> 472\u001b[0;31m         \u001b[0mself\u001b[0m\u001b[0;34m.\u001b[0m\u001b[0mcheck_forward_args\u001b[0m\u001b[0;34m(\u001b[0m\u001b[0minput\u001b[0m\u001b[0;34m,\u001b[0m \u001b[0mhx\u001b[0m\u001b[0;34m,\u001b[0m \u001b[0mbatch_sizes\u001b[0m\u001b[0;34m)\u001b[0m\u001b[0;34m\u001b[0m\u001b[0;34m\u001b[0m\u001b[0m\n\u001b[0m\u001b[1;32m    473\u001b[0m         \u001b[0;32massert\u001b[0m \u001b[0mself\u001b[0m\u001b[0;34m.\u001b[0m\u001b[0mmode\u001b[0m \u001b[0;34m==\u001b[0m \u001b[0;34m'RNN_TANH'\u001b[0m \u001b[0;32mor\u001b[0m \u001b[0mself\u001b[0m\u001b[0;34m.\u001b[0m\u001b[0mmode\u001b[0m \u001b[0;34m==\u001b[0m \u001b[0;34m'RNN_RELU'\u001b[0m\u001b[0;34m\u001b[0m\u001b[0;34m\u001b[0m\u001b[0m\n\u001b[1;32m    474\u001b[0m         \u001b[0;32mif\u001b[0m \u001b[0mbatch_sizes\u001b[0m \u001b[0;32mis\u001b[0m \u001b[0;32mNone\u001b[0m\u001b[0;34m:\u001b[0m\u001b[0;34m\u001b[0m\u001b[0;34m\u001b[0m\u001b[0m\n",
            "\u001b[0;32m/usr/local/lib/python3.8/dist-packages/torch/nn/modules/rnn.py\u001b[0m in \u001b[0;36mcheck_forward_args\u001b[0;34m(self, input, hidden, batch_sizes)\u001b[0m\n\u001b[1;32m    235\u001b[0m         \u001b[0mexpected_hidden_size\u001b[0m \u001b[0;34m=\u001b[0m \u001b[0mself\u001b[0m\u001b[0;34m.\u001b[0m\u001b[0mget_expected_hidden_size\u001b[0m\u001b[0;34m(\u001b[0m\u001b[0minput\u001b[0m\u001b[0;34m,\u001b[0m \u001b[0mbatch_sizes\u001b[0m\u001b[0;34m)\u001b[0m\u001b[0;34m\u001b[0m\u001b[0;34m\u001b[0m\u001b[0m\n\u001b[1;32m    236\u001b[0m \u001b[0;34m\u001b[0m\u001b[0m\n\u001b[0;32m--> 237\u001b[0;31m         \u001b[0mself\u001b[0m\u001b[0;34m.\u001b[0m\u001b[0mcheck_hidden_size\u001b[0m\u001b[0;34m(\u001b[0m\u001b[0mhidden\u001b[0m\u001b[0;34m,\u001b[0m \u001b[0mexpected_hidden_size\u001b[0m\u001b[0;34m)\u001b[0m\u001b[0;34m\u001b[0m\u001b[0;34m\u001b[0m\u001b[0m\n\u001b[0m\u001b[1;32m    238\u001b[0m \u001b[0;34m\u001b[0m\u001b[0m\n\u001b[1;32m    239\u001b[0m     \u001b[0;32mdef\u001b[0m \u001b[0mpermute_hidden\u001b[0m\u001b[0;34m(\u001b[0m\u001b[0mself\u001b[0m\u001b[0;34m,\u001b[0m \u001b[0mhx\u001b[0m\u001b[0;34m:\u001b[0m \u001b[0mTensor\u001b[0m\u001b[0;34m,\u001b[0m \u001b[0mpermutation\u001b[0m\u001b[0;34m:\u001b[0m \u001b[0mOptional\u001b[0m\u001b[0;34m[\u001b[0m\u001b[0mTensor\u001b[0m\u001b[0;34m]\u001b[0m\u001b[0;34m)\u001b[0m\u001b[0;34m:\u001b[0m\u001b[0;34m\u001b[0m\u001b[0;34m\u001b[0m\u001b[0m\n",
            "\u001b[0;32m/usr/local/lib/python3.8/dist-packages/torch/nn/modules/rnn.py\u001b[0m in \u001b[0;36mcheck_hidden_size\u001b[0;34m(self, hx, expected_hidden_size, msg)\u001b[0m\n\u001b[1;32m    229\u001b[0m                           msg: str = 'Expected hidden size {}, got {}') -> None:\n\u001b[1;32m    230\u001b[0m         \u001b[0;32mif\u001b[0m \u001b[0mhx\u001b[0m\u001b[0;34m.\u001b[0m\u001b[0msize\u001b[0m\u001b[0;34m(\u001b[0m\u001b[0;34m)\u001b[0m \u001b[0;34m!=\u001b[0m \u001b[0mexpected_hidden_size\u001b[0m\u001b[0;34m:\u001b[0m\u001b[0;34m\u001b[0m\u001b[0;34m\u001b[0m\u001b[0m\n\u001b[0;32m--> 231\u001b[0;31m             \u001b[0;32mraise\u001b[0m \u001b[0mRuntimeError\u001b[0m\u001b[0;34m(\u001b[0m\u001b[0mmsg\u001b[0m\u001b[0;34m.\u001b[0m\u001b[0mformat\u001b[0m\u001b[0;34m(\u001b[0m\u001b[0mexpected_hidden_size\u001b[0m\u001b[0;34m,\u001b[0m \u001b[0mlist\u001b[0m\u001b[0;34m(\u001b[0m\u001b[0mhx\u001b[0m\u001b[0;34m.\u001b[0m\u001b[0msize\u001b[0m\u001b[0;34m(\u001b[0m\u001b[0;34m)\u001b[0m\u001b[0;34m)\u001b[0m\u001b[0;34m)\u001b[0m\u001b[0;34m)\u001b[0m\u001b[0;34m\u001b[0m\u001b[0;34m\u001b[0m\u001b[0m\n\u001b[0m\u001b[1;32m    232\u001b[0m \u001b[0;34m\u001b[0m\u001b[0m\n\u001b[1;32m    233\u001b[0m     \u001b[0;32mdef\u001b[0m \u001b[0mcheck_forward_args\u001b[0m\u001b[0;34m(\u001b[0m\u001b[0mself\u001b[0m\u001b[0;34m,\u001b[0m \u001b[0minput\u001b[0m\u001b[0;34m:\u001b[0m \u001b[0mTensor\u001b[0m\u001b[0;34m,\u001b[0m \u001b[0mhidden\u001b[0m\u001b[0;34m:\u001b[0m \u001b[0mTensor\u001b[0m\u001b[0;34m,\u001b[0m \u001b[0mbatch_sizes\u001b[0m\u001b[0;34m:\u001b[0m \u001b[0mOptional\u001b[0m\u001b[0;34m[\u001b[0m\u001b[0mTensor\u001b[0m\u001b[0;34m]\u001b[0m\u001b[0;34m)\u001b[0m\u001b[0;34m:\u001b[0m\u001b[0;34m\u001b[0m\u001b[0;34m\u001b[0m\u001b[0m\n",
            "\u001b[0;31mRuntimeError\u001b[0m: Expected hidden size (1, 5, 64), got [1, 33, 64]"
          ]
        }
      ],
      "source": [
        "%%time\n",
        "\n",
        "train_losses, train_accuracy, test_losses, test_accuracy = common_train(\n",
        "    epochs=10,\n",
        "    model=net,\n",
        "    loss_fn=loss_fn,\n",
        "    optimizer=optimizer,\n",
        "    train_dataloader=train_dataloader,\n",
        "    test_dataloader=test_dataloader,\n",
        "    verbose=50,\n",
        "    device=DEVICE,\n",
        ")"
      ]
    },
    {
      "cell_type": "code",
      "execution_count": null,
      "metadata": {
        "id": "gnSJYm_TdghY"
      },
      "outputs": [],
      "source": [
        "plot_train_test(train_losses, train_accuracy, test_losses, test_accuracy)"
      ]
    },
    {
      "cell_type": "code",
      "execution_count": null,
      "metadata": {
        "id": "LQSg1wYvdghZ"
      },
      "outputs": [],
      "source": [
        "y_true, y_pred = get_y_true_y_pred(net, test_dataloader, DEVICE)\n",
        "y_true, y_pred = y_true.cpu(), y_pred.argmax(1).cpu()"
      ]
    },
    {
      "cell_type": "code",
      "execution_count": null,
      "metadata": {
        "id": "YIzBseRmdghZ"
      },
      "outputs": [],
      "source": [
        "cm_display = metrics.ConfusionMatrixDisplay.from_predictions(\n",
        "    y_true,\n",
        "    y_pred,\n",
        "    display_labels=train_dataset.classes,\n",
        "    colorbar=False,\n",
        "    xticks_rotation=0,\n",
        "    cmap=sns.color_palette('light:b', as_cmap=True)\n",
        ")\n",
        "cm_display.ax_.grid(False)\n",
        "cm_display.figure_.set_size_inches(3.5, 3.5)"
      ]
    },
    {
      "cell_type": "code",
      "execution_count": null,
      "metadata": {
        "id": "54EVb8Dsdgha"
      },
      "outputs": [],
      "source": [
        "print(metrics.classification_report(y_true, y_pred, target_names=train_dataset.classes, zero_division=True))"
      ]
    },
    {
      "cell_type": "code",
      "execution_count": null,
      "metadata": {
        "id": "1xbC5kiFdgha"
      },
      "outputs": [],
      "source": [
        "net.eval()\n",
        "for i in torch.randperm(len(test_dataset))[:5]:\n",
        "    x, y = test_dataset[i]\n",
        "    x, y = x.to(DEVICE), y.to(DEVICE)\n",
        "    pred = net(x.unsqueeze(0))\n",
        "\n",
        "    pred_proba, pred_label_indices = torch.softmax(pred, 1).topk(min(len(test_dataset.classes), 3), dim=1)\n",
        "    pred_labels = test_dataset.encoder.inverse_transform(pred_label_indices.squeeze().cpu())\n",
        "    predicts = \", \".join([f\"{label} ({prob:.2f})\" for (label, prob) in zip(pred_labels, pred_proba.squeeze())])\n",
        "\n",
        "    text = test_dataset.texts[i]\n",
        "    text = text if len(text) < 80 else text[:80] + \"...\"\n",
        "    target = test_dataset.encoder.inverse_transform([y.cpu()])[0]\n",
        "\n",
        "    print(f\"Input:   {text}\")\n",
        "    print(f\"Target:  {target}\")\n",
        "    print(f\"Predict: {predicts}\\n\")"
      ]
    },
    {
      "cell_type": "markdown",
      "source": [
        "3 задача"
      ],
      "metadata": {
        "id": "9am2m1vuf3V3"
      }
    },
    {
      "cell_type": "code",
      "execution_count": null,
      "metadata": {
        "id": "ggLQM1Vgdghb"
      },
      "outputs": [],
      "source": [
        "plt.rcParams[\"figure.figsize\"] = (3.5, 2.5)"
      ]
    },
    {
      "cell_type": "code",
      "execution_count": null,
      "metadata": {
        "colab": {
          "base_uri": "https://localhost:8080/",
          "height": 188
        },
        "id": "6oQr3Udjdghb",
        "outputId": "0dea7dfb-0069-44ba-eb2e-7956a6e20c9f"
      },
      "outputs": [
        {
          "output_type": "display_data",
          "data": {
            "text/plain": [
              "<Figure size 252x180 with 1 Axes>"
            ],
            "image/png": "[encoded data removed]"
          },
          "metadata": {}
        }
      ],
      "source": [
        "def f(x: torch.Tensor) -> torch.Tensor:\n",
        "    return (x**2-25*x+10)/x\n",
        "\n",
        "\n",
        "SIGN = -1\n",
        "\n",
        "START, END = 0.5, 24\n",
        "EPS = 0.000001\n",
        "LR = 0.001\n",
        "\n",
        "X = torch.arange(START, END + 0.001, 0.001)\n",
        "Y = f(X)\n",
        "plt.plot(X.detach(), Y.detach());"
      ]
    },
    {
      "cell_type": "code",
      "execution_count": null,
      "metadata": {
        "id": "v--HmlqYdghb"
      },
      "outputs": [],
      "source": [
        "SignT = t.Literal[-1, 1] \n",
        "FuncT = t.Callable[[torch.Tensor], torch.Tensor]\n",
        "\n",
        "\n",
        "def sign_func(func: FuncT, sign: SignT) -> FuncT:\n",
        "    return lambda x: -sign * func(x)\n",
        "\n",
        "\n",
        "def save_animation(xs: t.List[torch.Tensor], path: str, limit: int = 500, delay: int = 30) -> None:\n",
        "    xs_ = xs.copy()\n",
        "    delayed = xs_[-1]\n",
        "    if len(xs_) > limit:\n",
        "        xs_ = xs_[::len(xs_) // limit]\n",
        "    for i in range(delay):\n",
        "        xs_.append(delayed)\n",
        "\n",
        "    with tqdm(total=len(xs_) + 1) as pbar:\n",
        "        def animate(i):\n",
        "            scatter.set_data(xs_[i].detach(), f(xs_[i]).detach())\n",
        "            pbar.update()\n",
        "\n",
        "        fig, ax = plt.subplots(1, 1)\n",
        "        ax.plot(X.detach(), Y.detach())\n",
        "        scatter, = ax.plot([], [], marker=\"o\", color=\"r\")\n",
        "        anim = animation.FuncAnimation(fig, animate, interval=1, frames=len(xs_))\n",
        "        anim.save(path, writer=\"pillow\", fps=20)\n",
        "        plt.close()\n",
        "\n",
        "\n",
        "def answer(x: torch.Tensor, sign: SignT, reason: str) -> None:\n",
        "    extrema = \"минимум\" if sign == -1 else \"максимум\"\n",
        "    if torch.isnan(x):\n",
        "        print(f\"Локальный {extrema} не найден\")\n",
        "    else:\n",
        "        x, y = x.item(), f(x).item()\n",
        "        print(f\"Найден локальный {extrema}: {x=:5f}, f(x)={y:5f}\")\n",
        "        plt.plot(X.detach(), Y.detach())\n",
        "        plt.scatter(x, y, color=\"r\")\n",
        "    print(f\"Причина остановки: {reason}\")\n",
        "\n",
        "\n",
        "def gradient_descent(\n",
        "        func: FuncT,\n",
        "        interval: t.Tuple[float, float],\n",
        "        sign: SignT,\n",
        "        eps: float,\n",
        "        lr: float,\n",
        "        initial_state: float = None,\n",
        ") -> t.Tuple[torch.Tensor, t.List[torch.Tensor], str]:\n",
        "    \"\"\"Градиентный спуск\"\"\"\n",
        "    sign_f = sign_func(func, sign)\n",
        "    start, end = interval\n",
        "    if initial_state is None:\n",
        "        initial_state = random.uniform(start, end)\n",
        "    elif initial_state < start or initial_state > end:\n",
        "        return torch.tensor(torch.nan), [torch.tensor(torch.nan)], \"initial_state вне интервала\"\n",
        "\n",
        "    interval_eps = lr * (end - start)  # наивное расширение границ интервала\n",
        "    adj_start, adj_end = start - interval_eps, end + interval_eps\n",
        "\n",
        "    x = torch.tensor(initial_state, dtype=torch.float, requires_grad=True)\n",
        "    if torch.isnan(sign_f(x)):\n",
        "        return torch.tensor(torch.nan), [torch.tensor(torch.nan)], f\"f(initial_state={initial_state:.4f}) не определена\"\n",
        "\n",
        "    i, n = 0, 1000\n",
        "    with tqdm() as pbar:\n",
        "        xs = []\n",
        "        while True:\n",
        "            xs.append(x.detach().clone())  # выполнится минимум 2 раза\n",
        "\n",
        "            if x < adj_start or x > adj_end:  # вышли за границу дальше дозволенного\n",
        "                # искомый экстремум - предыдущая позиция или одна из границ\n",
        "                start_t, end_t = torch.tensor(start), torch.tensor(end)\n",
        "                if start <= xs[-2] <= end:\n",
        "                    _, x = min((sign_f(xs[-2]), xs[-2]), (sign_f(start_t), start_t), (sign_f(end_t), end_t))\n",
        "                else:\n",
        "                    _, x = min((sign_f(start_t), start_t), (sign_f(end_t), end_t))\n",
        "                xs.append(x.detach().clone())\n",
        "                return xs[-1], xs, \"выход за границы интервала\"\n",
        "\n",
        "            y = sign_f(x)\n",
        "            if torch.isnan(y):\n",
        "                xs.pop()\n",
        "                return xs[-1], xs, f\"функция для следующего x={x.item():.4f} не определена\"\n",
        "\n",
        "            # а эти 3 строчки про \"возможности по автоматическому дифференцированию, которые предоставляет PyTorch\"\n",
        "            y.backward()\n",
        "            grad = x.grad.clone()\n",
        "            x.grad.zero_()\n",
        "\n",
        "            with torch.no_grad():\n",
        "                x -= lr * grad  # ладно, это 4-ая\n",
        "                if torch.abs(x - xs[-1]) <= eps:  # найден экстремум с необходимой точностью\n",
        "                    xs.append(x.detach().clone())\n",
        "                    return xs[-1], xs, \"найден экстремум\"\n",
        "\n",
        "            if i % n == 0:\n",
        "                pbar.update(n)\n",
        "            i += 1"
      ]
    },
    {
      "cell_type": "code",
      "execution_count": null,
      "metadata": {
        "colab": {
          "base_uri": "https://localhost:8080/",
          "height": 240
        },
        "id": "vU2NQdqidghc",
        "outputId": "dd5a6b9c-505a-4e80-c2b3-e5a3bd225153"
      },
      "outputs": [
        {
          "output_type": "stream",
          "name": "stderr",
          "text": [
            "18000it [00:03, 4867.19it/s]\n"
          ]
        },
        {
          "output_type": "stream",
          "name": "stdout",
          "text": [
            "Найден локальный минимум: x=3.163974, f(x)=-18.675446\n",
            "Причина остановки: найден экстремум\n"
          ]
        },
        {
          "output_type": "display_data",
          "data": {
            "text/plain": [
              "<Figure size 252x180 with 1 Axes>"
            ],
            "image/png": "[encoded data removed]"
          },
          "metadata": {}
        }
      ],
      "source": [
        "x, xs, reason = gradient_descent(func=f, interval=(START, END), sign=SIGN, eps=EPS, lr=LR, initial_state=9.1)\n",
        "answer(x, SIGN, reason)"
      ]
    },
    {
      "cell_type": "code",
      "execution_count": null,
      "metadata": {
        "colab": {
          "base_uri": "https://localhost:8080/"
        },
        "id": "7dsHovqcdghc",
        "outputId": "79bc4fa9-7e36-4ba0-ca20-c58f542ce649"
      },
      "outputs": [
        {
          "output_type": "stream",
          "name": "stderr",
          "text": [
            "100%|██████████| 540/540 [00:41<00:00, 13.12it/s]\n"
          ]
        }
      ],
      "source": [
        "save_animation(xs, \"autograd_1.gif\")"
      ]
    },
    {
      "cell_type": "markdown",
      "metadata": {
        "id": "lqLMnIfqdghc"
      },
      "source": [
        "![](autograd_1.gif)"
      ]
    },
    {
      "cell_type": "code",
      "execution_count": null,
      "metadata": {
        "colab": {
          "base_uri": "https://localhost:8080/"
        },
        "id": "40u0Hp1Kdghc",
        "outputId": "d41cc5c2-67aa-4c34-b849-e0cf21a5e859"
      },
      "outputs": [
        {
          "output_type": "stream",
          "name": "stdout",
          "text": [
            "Локальный минимум не найден\n",
            "Причина остановки: initial_state вне интервала\n"
          ]
        }
      ],
      "source": [
        "x, xs, reason = gradient_descent(func=f, interval=(START, END), sign=SIGN, eps=EPS, lr=LR, initial_state=-6)\n",
        "answer(x, SIGN, reason)"
      ]
    },
    {
      "cell_type": "code",
      "execution_count": null,
      "metadata": {
        "colab": {
          "base_uri": "https://localhost:8080/"
        },
        "id": "bJiOZfahdghc",
        "outputId": "e3f763af-6d53-43a2-866f-fdf8179c8409"
      },
      "outputs": [
        {
          "output_type": "stream",
          "name": "stderr",
          "text": [
            "100%|██████████| 32/32 [00:02<00:00, 10.88it/s]\n"
          ]
        }
      ],
      "source": [
        "save_animation(xs, \"autograd_2.gif\")"
      ]
    },
    {
      "cell_type": "markdown",
      "metadata": {
        "id": "bDNK0P0Sdghd"
      },
      "source": [
        "![](autograd_2.gif)"
      ]
    },
    {
      "cell_type": "code",
      "execution_count": null,
      "metadata": {
        "id": "rCBKDET2dghd"
      },
      "outputs": [],
      "source": []
    },
    {
      "cell_type": "code",
      "execution_count": null,
      "metadata": {
        "id": "1Gl8319Ldghd"
      },
      "outputs": [],
      "source": []
    }
  ],
  "metadata": {
    "kernelspec": {
      "display_name": "Python 3 (ipykernel)",
      "language": "python",
      "name": "python3"
    },
    "language_info": {
      "codemirror_mode": {
        "name": "ipython",
        "version": 3
      },
      "file_extension": ".py",
      "mimetype": "text/x-python",
      "name": "python",
      "nbconvert_exporter": "python",
      "pygments_lexer": "ipython3",
      "version": "3.8.13"
    },
    "colab": {
      "provenance": []
    }
  },
  "nbformat": 4,
  "nbformat_minor": 0
}