{
  "cells": [
    {
      "cell_type": "markdown",
      "id": "c082ea8a",
      "metadata": {
        "papermill": {
          "duration": 0.011595,
          "end_time": "2023-01-10T20:12:54.376789",
          "exception": false,
          "start_time": "2023-01-10T20:12:54.365194",
          "status": "completed"
        },
        "tags": [],
        "id": "c082ea8a"
      },
      "source": [
        "# Задача 2"
      ]
    },
    {
      "cell_type": "code",
      "source": [
        "%pip install torchmetrics -q"
      ],
      "metadata": {
        "colab": {
          "base_uri": "https://localhost:8080/"
        },
        "id": "FUhLVJBKUPRA",
        "outputId": "35aead10-d6ad-4348-f975-19c63ececc03"
      },
      "id": "FUhLVJBKUPRA",
      "execution_count": null,
      "outputs": [
        {
          "output_type": "stream",
          "name": "stdout",
          "text": [
            "Looking in indexes: https://pypi.org/simple, https://us-python.pkg.dev/colab-wheels/public/simple/\n",
            "Collecting torchmetrics\n",
            "  Downloading torchmetrics-0.11.0-py3-none-any.whl (512 kB)\n",
            "\u001b[2K     \u001b[90m━━━━━━━━━━━━━━━━━━━━━━━━━━━━━━━━━━━━━━\u001b[0m \u001b[32m512.4/512.4 KB\u001b[0m \u001b[31m10.7 MB/s\u001b[0m eta \u001b[36m0:00:00\u001b[0m\n",
            "\u001b[?25hRequirement already satisfied: numpy>=1.17.2 in /usr/local/lib/python3.8/dist-packages (from torchmetrics) (1.21.6)\n",
            "Requirement already satisfied: typing-extensions in /usr/local/lib/python3.8/dist-packages (from torchmetrics) (4.4.0)\n",
            "Requirement already satisfied: torch>=1.8.1 in /usr/local/lib/python3.8/dist-packages (from torchmetrics) (1.13.0+cu116)\n",
            "Requirement already satisfied: packaging in /usr/local/lib/python3.8/dist-packages (from torchmetrics) (21.3)\n",
            "Requirement already satisfied: pyparsing!=3.0.5,>=2.0.2 in /usr/local/lib/python3.8/dist-packages (from packaging->torchmetrics) (3.0.9)\n",
            "Installing collected packages: torchmetrics\n",
            "Successfully installed torchmetrics-0.11.0\n"
          ]
        }
      ]
    },
    {
      "cell_type": "code",
      "execution_count": null,
      "id": "38d52b76",
      "metadata": {
        "execution": {
          "iopub.execute_input": "2023-01-10T20:12:54.468788Z",
          "iopub.status.busy": "2023-01-10T20:12:54.467800Z",
          "iopub.status.idle": "2023-01-10T20:12:59.715967Z",
          "shell.execute_reply": "2023-01-10T20:12:59.714448Z"
        },
        "papermill": {
          "duration": 5.26282,
          "end_time": "2023-01-10T20:12:59.719353",
          "exception": false,
          "start_time": "2023-01-10T20:12:54.456533",
          "status": "completed"
        },
        "tags": [],
        "id": "38d52b76"
      },
      "outputs": [],
      "source": [
        "import torch\n",
        "import torch.nn as nn\n",
        "from torch.utils.data import Dataset, DataLoader,TensorDataset,random_split\n",
        "import torch.nn.functional as F\n",
        "import torchmetrics\n",
        "from torchmetrics import R2Score\n",
        "import numpy as np\n",
        "import pandas as pd\n",
        "import matplotlib.pyplot as plt\n",
        "import seaborn as sns\n",
        "import sklearn\n",
        "from sklearn.model_selection import train_test_split\n",
        "from sklearn import preprocessing\n",
        "from sklearn.preprocessing import *\n",
        "\n"
      ]
    },
    {
      "cell_type": "code",
      "execution_count": null,
      "id": "bd19f791",
      "metadata": {
        "execution": {
          "iopub.execute_input": "2023-01-10T20:12:59.745468Z",
          "iopub.status.busy": "2023-01-10T20:12:59.744700Z",
          "iopub.status.idle": "2023-01-10T20:12:59.792318Z",
          "shell.execute_reply": "2023-01-10T20:12:59.790952Z"
        },
        "papermill": {
          "duration": 0.06391,
          "end_time": "2023-01-10T20:12:59.794767",
          "exception": false,
          "start_time": "2023-01-10T20:12:59.730857",
          "status": "completed"
        },
        "tags": [],
        "colab": {
          "base_uri": "https://localhost:8080/",
          "height": 352
        },
        "id": "bd19f791",
        "outputId": "41c0a5da-3898-4f7c-c7ee-a30a0018a22b"
      },
      "outputs": [
        {
          "output_type": "stream",
          "name": "stdout",
          "text": [
            "(2558, 121)\n"
          ]
        },
        {
          "output_type": "execute_result",
          "data": {
            "text/plain": [
              "   3M Libor_T-1  EM Bond_T-1  US Bond ETF_T-1  Wheat 1_T-1  Wheat 2_T-1  \\\n",
              "0      0.000000     0.000879         0.001050     0.013158     0.013562   \n",
              "1     -0.004587     0.004096         0.002383     0.043599     0.041035   \n",
              "2     -0.003465    -0.002040         0.000856     0.020444     0.017995   \n",
              "3     -0.004624     0.000584        -0.002090    -0.015679    -0.012626   \n",
              "4     -0.009292    -0.000486         0.001047    -0.003540    -0.002558   \n",
              "\n",
              "   Crude Palm Oil_T-1  Brent 1_T-1  Brent 2_T-1  Light Crude_T-1  \\\n",
              "0            0.003163    -0.007879    -0.004945        -0.003486   \n",
              "1            0.040991     0.042356     0.039759         0.029667   \n",
              "2            0.003462     0.006222     0.006541         0.007172   \n",
              "3            0.021992     0.003029     0.004249         0.002498   \n",
              "4           -0.012658    -0.024912    -0.022026        -0.023551   \n",
              "\n",
              "   White Sugar_T-1  ...  MSCI EM_T-22  Shanghai Index_T-22  Nikkei Ind_T-22  \\\n",
              "0        -0.024706  ...     -0.009862             0.073090        -0.028816   \n",
              "1         0.047906  ...      0.006801             0.099088        -0.043704   \n",
              "2         0.005262  ...      0.014873             0.102887        -0.051438   \n",
              "3         0.020775  ...      0.004931             0.087208        -0.054678   \n",
              "4        -0.025000  ...     -0.003838             0.076564        -0.076171   \n",
              "\n",
              "   MSCI APAC ex J_T-22  EMEquity ETF_T-22  Silver_T-22  Platinum_T-22  \\\n",
              "0            -0.001613          -0.012274    -0.025210       0.024300   \n",
              "1             0.007670           0.018151     0.060624       0.068595   \n",
              "2             0.007525           0.028712     0.056289       0.083520   \n",
              "3             0.005445           0.001445     0.041620       0.061601   \n",
              "4            -0.009558          -0.003904     0.058352       0.069414   \n",
              "\n",
              "   Palladium_T-22  Gold_T-22  Gold_T+22  \n",
              "0        0.082695   0.053534   0.004648  \n",
              "1        0.151468   0.085822  -0.002105  \n",
              "2        0.134763   0.083915  -0.037438  \n",
              "3        0.109940   0.076738  -0.028097  \n",
              "4        0.094311   0.084487  -0.045466  \n",
              "\n",
              "[5 rows x 121 columns]"
            ],
            "text/html": [
              "\n",
              "  <div id=\"df-ba0a2523-a422-47bb-80a4-3b54ad8d4fd1\">\n",
              "    <div class=\"colab-df-container\">\n",
              "      <div>\n",
              "<style scoped>\n",
              "    .dataframe tbody tr th:only-of-type {\n",
              "        vertical-align: middle;\n",
              "    }\n",
              "\n",
              "    .dataframe tbody tr th {\n",
              "        vertical-align: top;\n",
              "    }\n",
              "\n",
              "    .dataframe thead th {\n",
              "        text-align: right;\n",
              "    }\n",
              "</style>\n",
              "<table border=\"1\" class=\"dataframe\">\n",
              "  <thead>\n",
              "    <tr style=\"text-align: right;\">\n",
              "      <th></th>\n",
              "      <th>3M Libor_T-1</th>\n",
              "      <th>EM Bond_T-1</th>\n",
              "      <th>US Bond ETF_T-1</th>\n",
              "      <th>Wheat 1_T-1</th>\n",
              "      <th>Wheat 2_T-1</th>\n",
              "      <th>Crude Palm Oil_T-1</th>\n",
              "      <th>Brent 1_T-1</th>\n",
              "      <th>Brent 2_T-1</th>\n",
              "      <th>Light Crude_T-1</th>\n",
              "      <th>White Sugar_T-1</th>\n",
              "      <th>...</th>\n",
              "      <th>MSCI EM_T-22</th>\n",
              "      <th>Shanghai Index_T-22</th>\n",
              "      <th>Nikkei Ind_T-22</th>\n",
              "      <th>MSCI APAC ex J_T-22</th>\n",
              "      <th>EMEquity ETF_T-22</th>\n",
              "      <th>Silver_T-22</th>\n",
              "      <th>Platinum_T-22</th>\n",
              "      <th>Palladium_T-22</th>\n",
              "      <th>Gold_T-22</th>\n",
              "      <th>Gold_T+22</th>\n",
              "    </tr>\n",
              "  </thead>\n",
              "  <tbody>\n",
              "    <tr>\n",
              "      <th>0</th>\n",
              "      <td>0.000000</td>\n",
              "      <td>0.000879</td>\n",
              "      <td>0.001050</td>\n",
              "      <td>0.013158</td>\n",
              "      <td>0.013562</td>\n",
              "      <td>0.003163</td>\n",
              "      <td>-0.007879</td>\n",
              "      <td>-0.004945</td>\n",
              "      <td>-0.003486</td>\n",
              "      <td>-0.024706</td>\n",
              "      <td>...</td>\n",
              "      <td>-0.009862</td>\n",
              "      <td>0.073090</td>\n",
              "      <td>-0.028816</td>\n",
              "      <td>-0.001613</td>\n",
              "      <td>-0.012274</td>\n",
              "      <td>-0.025210</td>\n",
              "      <td>0.024300</td>\n",
              "      <td>0.082695</td>\n",
              "      <td>0.053534</td>\n",
              "      <td>0.004648</td>\n",
              "    </tr>\n",
              "    <tr>\n",
              "      <th>1</th>\n",
              "      <td>-0.004587</td>\n",
              "      <td>0.004096</td>\n",
              "      <td>0.002383</td>\n",
              "      <td>0.043599</td>\n",
              "      <td>0.041035</td>\n",
              "      <td>0.040991</td>\n",
              "      <td>0.042356</td>\n",
              "      <td>0.039759</td>\n",
              "      <td>0.029667</td>\n",
              "      <td>0.047906</td>\n",
              "      <td>...</td>\n",
              "      <td>0.006801</td>\n",
              "      <td>0.099088</td>\n",
              "      <td>-0.043704</td>\n",
              "      <td>0.007670</td>\n",
              "      <td>0.018151</td>\n",
              "      <td>0.060624</td>\n",
              "      <td>0.068595</td>\n",
              "      <td>0.151468</td>\n",
              "      <td>0.085822</td>\n",
              "      <td>-0.002105</td>\n",
              "    </tr>\n",
              "    <tr>\n",
              "      <th>2</th>\n",
              "      <td>-0.003465</td>\n",
              "      <td>-0.002040</td>\n",
              "      <td>0.000856</td>\n",
              "      <td>0.020444</td>\n",
              "      <td>0.017995</td>\n",
              "      <td>0.003462</td>\n",
              "      <td>0.006222</td>\n",
              "      <td>0.006541</td>\n",
              "      <td>0.007172</td>\n",
              "      <td>0.005262</td>\n",
              "      <td>...</td>\n",
              "      <td>0.014873</td>\n",
              "      <td>0.102887</td>\n",
              "      <td>-0.051438</td>\n",
              "      <td>0.007525</td>\n",
              "      <td>0.028712</td>\n",
              "      <td>0.056289</td>\n",
              "      <td>0.083520</td>\n",
              "      <td>0.134763</td>\n",
              "      <td>0.083915</td>\n",
              "      <td>-0.037438</td>\n",
              "    </tr>\n",
              "    <tr>\n",
              "      <th>3</th>\n",
              "      <td>-0.004624</td>\n",
              "      <td>0.000584</td>\n",
              "      <td>-0.002090</td>\n",
              "      <td>-0.015679</td>\n",
              "      <td>-0.012626</td>\n",
              "      <td>0.021992</td>\n",
              "      <td>0.003029</td>\n",
              "      <td>0.004249</td>\n",
              "      <td>0.002498</td>\n",
              "      <td>0.020775</td>\n",
              "      <td>...</td>\n",
              "      <td>0.004931</td>\n",
              "      <td>0.087208</td>\n",
              "      <td>-0.054678</td>\n",
              "      <td>0.005445</td>\n",
              "      <td>0.001445</td>\n",
              "      <td>0.041620</td>\n",
              "      <td>0.061601</td>\n",
              "      <td>0.109940</td>\n",
              "      <td>0.076738</td>\n",
              "      <td>-0.028097</td>\n",
              "    </tr>\n",
              "    <tr>\n",
              "      <th>4</th>\n",
              "      <td>-0.009292</td>\n",
              "      <td>-0.000486</td>\n",
              "      <td>0.001047</td>\n",
              "      <td>-0.003540</td>\n",
              "      <td>-0.002558</td>\n",
              "      <td>-0.012658</td>\n",
              "      <td>-0.024912</td>\n",
              "      <td>-0.022026</td>\n",
              "      <td>-0.023551</td>\n",
              "      <td>-0.025000</td>\n",
              "      <td>...</td>\n",
              "      <td>-0.003838</td>\n",
              "      <td>0.076564</td>\n",
              "      <td>-0.076171</td>\n",
              "      <td>-0.009558</td>\n",
              "      <td>-0.003904</td>\n",
              "      <td>0.058352</td>\n",
              "      <td>0.069414</td>\n",
              "      <td>0.094311</td>\n",
              "      <td>0.084487</td>\n",
              "      <td>-0.045466</td>\n",
              "    </tr>\n",
              "  </tbody>\n",
              "</table>\n",
              "<p>5 rows × 121 columns</p>\n",
              "</div>\n",
              "      <button class=\"colab-df-convert\" onclick=\"convertToInteractive('df-ba0a2523-a422-47bb-80a4-3b54ad8d4fd1')\"\n",
              "              title=\"Convert this dataframe to an interactive table.\"\n",
              "              style=\"display:none;\">\n",
              "        \n",
              "  <svg xmlns=\"http://www.w3.org/2000/svg\" height=\"24px\"viewBox=\"0 0 24 24\"\n",
              "       width=\"24px\">\n",
              "    <path d=\"M0 0h24v24H0V0z\" fill=\"none\"/>\n",
              "    <path d=\"M18.56 5.44l.94 2.06.94-2.06 2.06-.94-2.06-.94-.94-2.06-.94 2.06-2.06.94zm-11 1L8.5 8.5l.94-2.06 2.06-.94-2.06-.94L8.5 2.5l-.94 2.06-2.06.94zm10 10l.94 2.06.94-2.06 2.06-.94-2.06-.94-.94-2.06-.94 2.06-2.06.94z\"/><path d=\"M17.41 7.96l-1.37-1.37c-.4-.4-.92-.59-1.43-.59-.52 0-1.04.2-1.43.59L10.3 9.45l-7.72 7.72c-.78.78-.78 2.05 0 2.83L4 21.41c.39.39.9.59 1.41.59.51 0 1.02-.2 1.41-.59l7.78-7.78 2.81-2.81c.8-.78.8-2.07 0-2.86zM5.41 20L4 18.59l7.72-7.72 1.47 1.35L5.41 20z\"/>\n",
              "  </svg>\n",
              "      </button>\n",
              "      \n",
              "  <style>\n",
              "    .colab-df-container {\n",
              "      display:flex;\n",
              "      flex-wrap:wrap;\n",
              "      gap: 12px;\n",
              "    }\n",
              "\n",
              "    .colab-df-convert {\n",
              "      background-color: #E8F0FE;\n",
              "      border: none;\n",
              "      border-radius: 50%;\n",
              "      cursor: pointer;\n",
              "      display: none;\n",
              "      fill: #1967D2;\n",
              "      height: 32px;\n",
              "      padding: 0 0 0 0;\n",
              "      width: 32px;\n",
              "    }\n",
              "\n",
              "    .colab-df-convert:hover {\n",
              "      background-color: #E2EBFA;\n",
              "      box-shadow: 0px 1px 2px rgba(60, 64, 67, 0.3), 0px 1px 3px 1px rgba(60, 64, 67, 0.15);\n",
              "      fill: #174EA6;\n",
              "    }\n",
              "\n",
              "    [theme=dark] .colab-df-convert {\n",
              "      background-color: #3B4455;\n",
              "      fill: #D2E3FC;\n",
              "    }\n",
              "\n",
              "    [theme=dark] .colab-df-convert:hover {\n",
              "      background-color: #434B5C;\n",
              "      box-shadow: 0px 1px 3px 1px rgba(0, 0, 0, 0.15);\n",
              "      filter: drop-shadow(0px 1px 2px rgba(0, 0, 0, 0.3));\n",
              "      fill: #FFFFFF;\n",
              "    }\n",
              "  </style>\n",
              "\n",
              "      <script>\n",
              "        const buttonEl =\n",
              "          document.querySelector('#df-ba0a2523-a422-47bb-80a4-3b54ad8d4fd1 button.colab-df-convert');\n",
              "        buttonEl.style.display =\n",
              "          google.colab.kernel.accessAllowed ? 'block' : 'none';\n",
              "\n",
              "        async function convertToInteractive(key) {\n",
              "          const element = document.querySelector('#df-ba0a2523-a422-47bb-80a4-3b54ad8d4fd1');\n",
              "          const dataTable =\n",
              "            await google.colab.kernel.invokeFunction('convertToInteractive',\n",
              "                                                     [key], {});\n",
              "          if (!dataTable) return;\n",
              "\n",
              "          const docLinkHtml = 'Like what you see? Visit the ' +\n",
              "            '<a target=\"_blank\" href=https://colab.research.google.com/notebooks/data_table.ipynb>data table notebook</a>'\n",
              "            + ' to learn more about interactive tables.';\n",
              "          element.innerHTML = '';\n",
              "          dataTable['output_type'] = 'display_data';\n",
              "          await google.colab.output.renderOutput(dataTable, element);\n",
              "          const docLink = document.createElement('div');\n",
              "          docLink.innerHTML = docLinkHtml;\n",
              "          element.appendChild(docLink);\n",
              "        }\n",
              "      </script>\n",
              "    </div>\n",
              "  </div>\n",
              "  "
            ]
          },
          "metadata": {},
          "execution_count": 5
        }
      ],
      "source": [
        "dataset = pd.read_csv(\"/content/gold.csv\")\n",
        "print(dataset.shape)\n",
        "dataset.head()"
      ]
    },
    {
      "cell_type": "code",
      "execution_count": null,
      "id": "cf36d552",
      "metadata": {
        "execution": {
          "iopub.execute_input": "2023-01-10T20:12:59.819658Z",
          "iopub.status.busy": "2023-01-10T20:12:59.819213Z",
          "iopub.status.idle": "2023-01-10T20:12:59.870034Z",
          "shell.execute_reply": "2023-01-10T20:12:59.868958Z"
        },
        "papermill": {
          "duration": 0.066541,
          "end_time": "2023-01-10T20:12:59.872279",
          "exception": false,
          "start_time": "2023-01-10T20:12:59.805738",
          "status": "completed"
        },
        "tags": [],
        "colab": {
          "base_uri": "https://localhost:8080/",
          "height": 411
        },
        "id": "cf36d552",
        "outputId": "4bd28fa7-172f-43c7-a58c-c288f7397bc3"
      },
      "outputs": [
        {
          "output_type": "execute_result",
          "data": {
            "text/plain": [
              "       3M Libor_T-1  EM Bond_T-1  US Bond ETF_T-1  Wheat 1_T-1  Wheat 2_T-1  \\\n",
              "count   2558.000000  2558.000000      2558.000000  2558.000000  2558.000000   \n",
              "mean       0.000832     0.000054         0.000035     0.000105     0.000083   \n",
              "std        0.007570     0.004277         0.002073     0.018729     0.017929   \n",
              "min       -0.075051    -0.044433        -0.012440    -0.086872    -0.090000   \n",
              "25%       -0.002105    -0.001950        -0.001127    -0.011117    -0.010545   \n",
              "50%        0.000000     0.000092         0.000091     0.000000     0.000000   \n",
              "75%        0.003278     0.002254         0.001346     0.010361     0.009619   \n",
              "max        0.145989     0.033682         0.008395     0.093916     0.118492   \n",
              "\n",
              "       Crude Palm Oil_T-1  Brent 1_T-1  Brent 2_T-1  Light Crude_T-1  \\\n",
              "count         2558.000000  2558.000000  2558.000000      2558.000000   \n",
              "mean             0.000081     0.000063     0.000048         0.000039   \n",
              "std              0.014268     0.018331     0.017958         0.019077   \n",
              "min             -0.112903    -0.084337    -0.083457        -0.100408   \n",
              "25%             -0.006871    -0.009334    -0.009379        -0.010202   \n",
              "50%              0.000000     0.000000     0.000000         0.000000   \n",
              "75%              0.006567     0.009706     0.009532         0.010429   \n",
              "max              0.153199     0.089039     0.090140         0.099622   \n",
              "\n",
              "       White Sugar_T-1  ...  MSCI EM_T-22  Shanghai Index_T-22  \\\n",
              "count      2558.000000  ...   2558.000000          2558.000000   \n",
              "mean         -0.000126  ...      0.001521             0.001640   \n",
              "std           0.016468  ...      0.050782             0.067590   \n",
              "min          -0.117669  ...     -0.186586            -0.316587   \n",
              "25%          -0.008780  ...     -0.028663            -0.037221   \n",
              "50%           0.000000  ...      0.003532             0.002802   \n",
              "75%           0.008175  ...      0.035178             0.036260   \n",
              "max           0.104769  ...      0.182996             0.275124   \n",
              "\n",
              "       Nikkei Ind_T-22  MSCI APAC ex J_T-22  EMEquity ETF_T-22  Silver_T-22  \\\n",
              "count      2558.000000          2558.000000        2558.000000  2558.000000   \n",
              "mean          0.007724             0.002843           0.001348     0.003429   \n",
              "std           0.055285             0.047920           0.053453     0.082057   \n",
              "min          -0.188626            -0.185257          -0.194926    -0.303009   \n",
              "25%          -0.025363            -0.024215          -0.031686    -0.049056   \n",
              "50%           0.011238             0.006085           0.002076    -0.005047   \n",
              "75%           0.044586             0.033261           0.037184     0.052980   \n",
              "max           0.193466             0.189002           0.194412     0.305908   \n",
              "\n",
              "       Platinum_T-22  Palladium_T-22    Gold_T-22    Gold_T+22  \n",
              "count    2558.000000     2558.000000  2558.000000  2558.000000  \n",
              "mean       -0.002040        0.016255     0.004002     0.003222  \n",
              "std         0.058466        0.081979     0.044998     0.044198  \n",
              "min        -0.212727       -0.267772    -0.149107    -0.149107  \n",
              "25%        -0.041553       -0.037162    -0.023329    -0.023619  \n",
              "50%        -0.004983        0.018242     0.001952     0.001441  \n",
              "75%         0.039107        0.069460     0.032227     0.031532  \n",
              "max         0.223757        0.288488     0.194723     0.194723  \n",
              "\n",
              "[8 rows x 121 columns]"
            ],
            "text/html": [
              "\n",
              "  <div id=\"df-d0591160-4a9d-435f-bb7a-26b3fc7ab5d6\">\n",
              "    <div class=\"colab-df-container\">\n",
              "      <div>\n",
              "<style scoped>\n",
              "    .dataframe tbody tr th:only-of-type {\n",
              "        vertical-align: middle;\n",
              "    }\n",
              "\n",
              "    .dataframe tbody tr th {\n",
              "        vertical-align: top;\n",
              "    }\n",
              "\n",
              "    .dataframe thead th {\n",
              "        text-align: right;\n",
              "    }\n",
              "</style>\n",
              "<table border=\"1\" class=\"dataframe\">\n",
              "  <thead>\n",
              "    <tr style=\"text-align: right;\">\n",
              "      <th></th>\n",
              "      <th>3M Libor_T-1</th>\n",
              "      <th>EM Bond_T-1</th>\n",
              "      <th>US Bond ETF_T-1</th>\n",
              "      <th>Wheat 1_T-1</th>\n",
              "      <th>Wheat 2_T-1</th>\n",
              "      <th>Crude Palm Oil_T-1</th>\n",
              "      <th>Brent 1_T-1</th>\n",
              "      <th>Brent 2_T-1</th>\n",
              "      <th>Light Crude_T-1</th>\n",
              "      <th>White Sugar_T-1</th>\n",
              "      <th>...</th>\n",
              "      <th>MSCI EM_T-22</th>\n",
              "      <th>Shanghai Index_T-22</th>\n",
              "      <th>Nikkei Ind_T-22</th>\n",
              "      <th>MSCI APAC ex J_T-22</th>\n",
              "      <th>EMEquity ETF_T-22</th>\n",
              "      <th>Silver_T-22</th>\n",
              "      <th>Platinum_T-22</th>\n",
              "      <th>Palladium_T-22</th>\n",
              "      <th>Gold_T-22</th>\n",
              "      <th>Gold_T+22</th>\n",
              "    </tr>\n",
              "  </thead>\n",
              "  <tbody>\n",
              "    <tr>\n",
              "      <th>count</th>\n",
              "      <td>2558.000000</td>\n",
              "      <td>2558.000000</td>\n",
              "      <td>2558.000000</td>\n",
              "      <td>2558.000000</td>\n",
              "      <td>2558.000000</td>\n",
              "      <td>2558.000000</td>\n",
              "      <td>2558.000000</td>\n",
              "      <td>2558.000000</td>\n",
              "      <td>2558.000000</td>\n",
              "      <td>2558.000000</td>\n",
              "      <td>...</td>\n",
              "      <td>2558.000000</td>\n",
              "      <td>2558.000000</td>\n",
              "      <td>2558.000000</td>\n",
              "      <td>2558.000000</td>\n",
              "      <td>2558.000000</td>\n",
              "      <td>2558.000000</td>\n",
              "      <td>2558.000000</td>\n",
              "      <td>2558.000000</td>\n",
              "      <td>2558.000000</td>\n",
              "      <td>2558.000000</td>\n",
              "    </tr>\n",
              "    <tr>\n",
              "      <th>mean</th>\n",
              "      <td>0.000832</td>\n",
              "      <td>0.000054</td>\n",
              "      <td>0.000035</td>\n",
              "      <td>0.000105</td>\n",
              "      <td>0.000083</td>\n",
              "      <td>0.000081</td>\n",
              "      <td>0.000063</td>\n",
              "      <td>0.000048</td>\n",
              "      <td>0.000039</td>\n",
              "      <td>-0.000126</td>\n",
              "      <td>...</td>\n",
              "      <td>0.001521</td>\n",
              "      <td>0.001640</td>\n",
              "      <td>0.007724</td>\n",
              "      <td>0.002843</td>\n",
              "      <td>0.001348</td>\n",
              "      <td>0.003429</td>\n",
              "      <td>-0.002040</td>\n",
              "      <td>0.016255</td>\n",
              "      <td>0.004002</td>\n",
              "      <td>0.003222</td>\n",
              "    </tr>\n",
              "    <tr>\n",
              "      <th>std</th>\n",
              "      <td>0.007570</td>\n",
              "      <td>0.004277</td>\n",
              "      <td>0.002073</td>\n",
              "      <td>0.018729</td>\n",
              "      <td>0.017929</td>\n",
              "      <td>0.014268</td>\n",
              "      <td>0.018331</td>\n",
              "      <td>0.017958</td>\n",
              "      <td>0.019077</td>\n",
              "      <td>0.016468</td>\n",
              "      <td>...</td>\n",
              "      <td>0.050782</td>\n",
              "      <td>0.067590</td>\n",
              "      <td>0.055285</td>\n",
              "      <td>0.047920</td>\n",
              "      <td>0.053453</td>\n",
              "      <td>0.082057</td>\n",
              "      <td>0.058466</td>\n",
              "      <td>0.081979</td>\n",
              "      <td>0.044998</td>\n",
              "      <td>0.044198</td>\n",
              "    </tr>\n",
              "    <tr>\n",
              "      <th>min</th>\n",
              "      <td>-0.075051</td>\n",
              "      <td>-0.044433</td>\n",
              "      <td>-0.012440</td>\n",
              "      <td>-0.086872</td>\n",
              "      <td>-0.090000</td>\n",
              "      <td>-0.112903</td>\n",
              "      <td>-0.084337</td>\n",
              "      <td>-0.083457</td>\n",
              "      <td>-0.100408</td>\n",
              "      <td>-0.117669</td>\n",
              "      <td>...</td>\n",
              "      <td>-0.186586</td>\n",
              "      <td>-0.316587</td>\n",
              "      <td>-0.188626</td>\n",
              "      <td>-0.185257</td>\n",
              "      <td>-0.194926</td>\n",
              "      <td>-0.303009</td>\n",
              "      <td>-0.212727</td>\n",
              "      <td>-0.267772</td>\n",
              "      <td>-0.149107</td>\n",
              "      <td>-0.149107</td>\n",
              "    </tr>\n",
              "    <tr>\n",
              "      <th>25%</th>\n",
              "      <td>-0.002105</td>\n",
              "      <td>-0.001950</td>\n",
              "      <td>-0.001127</td>\n",
              "      <td>-0.011117</td>\n",
              "      <td>-0.010545</td>\n",
              "      <td>-0.006871</td>\n",
              "      <td>-0.009334</td>\n",
              "      <td>-0.009379</td>\n",
              "      <td>-0.010202</td>\n",
              "      <td>-0.008780</td>\n",
              "      <td>...</td>\n",
              "      <td>-0.028663</td>\n",
              "      <td>-0.037221</td>\n",
              "      <td>-0.025363</td>\n",
              "      <td>-0.024215</td>\n",
              "      <td>-0.031686</td>\n",
              "      <td>-0.049056</td>\n",
              "      <td>-0.041553</td>\n",
              "      <td>-0.037162</td>\n",
              "      <td>-0.023329</td>\n",
              "      <td>-0.023619</td>\n",
              "    </tr>\n",
              "    <tr>\n",
              "      <th>50%</th>\n",
              "      <td>0.000000</td>\n",
              "      <td>0.000092</td>\n",
              "      <td>0.000091</td>\n",
              "      <td>0.000000</td>\n",
              "      <td>0.000000</td>\n",
              "      <td>0.000000</td>\n",
              "      <td>0.000000</td>\n",
              "      <td>0.000000</td>\n",
              "      <td>0.000000</td>\n",
              "      <td>0.000000</td>\n",
              "      <td>...</td>\n",
              "      <td>0.003532</td>\n",
              "      <td>0.002802</td>\n",
              "      <td>0.011238</td>\n",
              "      <td>0.006085</td>\n",
              "      <td>0.002076</td>\n",
              "      <td>-0.005047</td>\n",
              "      <td>-0.004983</td>\n",
              "      <td>0.018242</td>\n",
              "      <td>0.001952</td>\n",
              "      <td>0.001441</td>\n",
              "    </tr>\n",
              "    <tr>\n",
              "      <th>75%</th>\n",
              "      <td>0.003278</td>\n",
              "      <td>0.002254</td>\n",
              "      <td>0.001346</td>\n",
              "      <td>0.010361</td>\n",
              "      <td>0.009619</td>\n",
              "      <td>0.006567</td>\n",
              "      <td>0.009706</td>\n",
              "      <td>0.009532</td>\n",
              "      <td>0.010429</td>\n",
              "      <td>0.008175</td>\n",
              "      <td>...</td>\n",
              "      <td>0.035178</td>\n",
              "      <td>0.036260</td>\n",
              "      <td>0.044586</td>\n",
              "      <td>0.033261</td>\n",
              "      <td>0.037184</td>\n",
              "      <td>0.052980</td>\n",
              "      <td>0.039107</td>\n",
              "      <td>0.069460</td>\n",
              "      <td>0.032227</td>\n",
              "      <td>0.031532</td>\n",
              "    </tr>\n",
              "    <tr>\n",
              "      <th>max</th>\n",
              "      <td>0.145989</td>\n",
              "      <td>0.033682</td>\n",
              "      <td>0.008395</td>\n",
              "      <td>0.093916</td>\n",
              "      <td>0.118492</td>\n",
              "      <td>0.153199</td>\n",
              "      <td>0.089039</td>\n",
              "      <td>0.090140</td>\n",
              "      <td>0.099622</td>\n",
              "      <td>0.104769</td>\n",
              "      <td>...</td>\n",
              "      <td>0.182996</td>\n",
              "      <td>0.275124</td>\n",
              "      <td>0.193466</td>\n",
              "      <td>0.189002</td>\n",
              "      <td>0.194412</td>\n",
              "      <td>0.305908</td>\n",
              "      <td>0.223757</td>\n",
              "      <td>0.288488</td>\n",
              "      <td>0.194723</td>\n",
              "      <td>0.194723</td>\n",
              "    </tr>\n",
              "  </tbody>\n",
              "</table>\n",
              "<p>8 rows × 121 columns</p>\n",
              "</div>\n",
              "      <button class=\"colab-df-convert\" onclick=\"convertToInteractive('df-d0591160-4a9d-435f-bb7a-26b3fc7ab5d6')\"\n",
              "              title=\"Convert this dataframe to an interactive table.\"\n",
              "              style=\"display:none;\">\n",
              "        \n",
              "  <svg xmlns=\"http://www.w3.org/2000/svg\" height=\"24px\"viewBox=\"0 0 24 24\"\n",
              "       width=\"24px\">\n",
              "    <path d=\"M0 0h24v24H0V0z\" fill=\"none\"/>\n",
              "    <path d=\"M18.56 5.44l.94 2.06.94-2.06 2.06-.94-2.06-.94-.94-2.06-.94 2.06-2.06.94zm-11 1L8.5 8.5l.94-2.06 2.06-.94-2.06-.94L8.5 2.5l-.94 2.06-2.06.94zm10 10l.94 2.06.94-2.06 2.06-.94-2.06-.94-.94-2.06-.94 2.06-2.06.94z\"/><path d=\"M17.41 7.96l-1.37-1.37c-.4-.4-.92-.59-1.43-.59-.52 0-1.04.2-1.43.59L10.3 9.45l-7.72 7.72c-.78.78-.78 2.05 0 2.83L4 21.41c.39.39.9.59 1.41.59.51 0 1.02-.2 1.41-.59l7.78-7.78 2.81-2.81c.8-.78.8-2.07 0-2.86zM5.41 20L4 18.59l7.72-7.72 1.47 1.35L5.41 20z\"/>\n",
              "  </svg>\n",
              "      </button>\n",
              "      \n",
              "  <style>\n",
              "    .colab-df-container {\n",
              "      display:flex;\n",
              "      flex-wrap:wrap;\n",
              "      gap: 12px;\n",
              "    }\n",
              "\n",
              "    .colab-df-convert {\n",
              "      background-color: #E8F0FE;\n",
              "      border: none;\n",
              "      border-radius: 50%;\n",
              "      cursor: pointer;\n",
              "      display: none;\n",
              "      fill: #1967D2;\n",
              "      height: 32px;\n",
              "      padding: 0 0 0 0;\n",
              "      width: 32px;\n",
              "    }\n",
              "\n",
              "    .colab-df-convert:hover {\n",
              "      background-color: #E2EBFA;\n",
              "      box-shadow: 0px 1px 2px rgba(60, 64, 67, 0.3), 0px 1px 3px 1px rgba(60, 64, 67, 0.15);\n",
              "      fill: #174EA6;\n",
              "    }\n",
              "\n",
              "    [theme=dark] .colab-df-convert {\n",
              "      background-color: #3B4455;\n",
              "      fill: #D2E3FC;\n",
              "    }\n",
              "\n",
              "    [theme=dark] .colab-df-convert:hover {\n",
              "      background-color: #434B5C;\n",
              "      box-shadow: 0px 1px 3px 1px rgba(0, 0, 0, 0.15);\n",
              "      filter: drop-shadow(0px 1px 2px rgba(0, 0, 0, 0.3));\n",
              "      fill: #FFFFFF;\n",
              "    }\n",
              "  </style>\n",
              "\n",
              "      <script>\n",
              "        const buttonEl =\n",
              "          document.querySelector('#df-d0591160-4a9d-435f-bb7a-26b3fc7ab5d6 button.colab-df-convert');\n",
              "        buttonEl.style.display =\n",
              "          google.colab.kernel.accessAllowed ? 'block' : 'none';\n",
              "\n",
              "        async function convertToInteractive(key) {\n",
              "          const element = document.querySelector('#df-d0591160-4a9d-435f-bb7a-26b3fc7ab5d6');\n",
              "          const dataTable =\n",
              "            await google.colab.kernel.invokeFunction('convertToInteractive',\n",
              "                                                     [key], {});\n",
              "          if (!dataTable) return;\n",
              "\n",
              "          const docLinkHtml = 'Like what you see? Visit the ' +\n",
              "            '<a target=\"_blank\" href=https://colab.research.google.com/notebooks/data_table.ipynb>data table notebook</a>'\n",
              "            + ' to learn more about interactive tables.';\n",
              "          element.innerHTML = '';\n",
              "          dataTable['output_type'] = 'display_data';\n",
              "          await google.colab.output.renderOutput(dataTable, element);\n",
              "          const docLink = document.createElement('div');\n",
              "          docLink.innerHTML = docLinkHtml;\n",
              "          element.appendChild(docLink);\n",
              "        }\n",
              "      </script>\n",
              "    </div>\n",
              "  </div>\n",
              "  "
            ]
          },
          "metadata": {},
          "execution_count": 6
        }
      ],
      "source": [
        "dataset.describe()"
      ]
    },
    {
      "cell_type": "code",
      "execution_count": null,
      "id": "efeeffa2",
      "metadata": {
        "execution": {
          "iopub.execute_input": "2023-01-10T20:12:59.898349Z",
          "iopub.status.busy": "2023-01-10T20:12:59.897308Z",
          "iopub.status.idle": "2023-01-10T20:12:59.907135Z",
          "shell.execute_reply": "2023-01-10T20:12:59.905756Z"
        },
        "papermill": {
          "duration": 0.024745,
          "end_time": "2023-01-10T20:12:59.909534",
          "exception": false,
          "start_time": "2023-01-10T20:12:59.884789",
          "status": "completed"
        },
        "tags": [],
        "colab": {
          "base_uri": "https://localhost:8080/"
        },
        "id": "efeeffa2",
        "outputId": "a99583ce-500b-459b-d30e-e83d6ed8b96e"
      },
      "outputs": [
        {
          "output_type": "execute_result",
          "data": {
            "text/plain": [
              "3M Libor_T-1       0\n",
              "EM Bond_T-1        0\n",
              "US Bond ETF_T-1    0\n",
              "Wheat 1_T-1        0\n",
              "Wheat 2_T-1        0\n",
              "                  ..\n",
              "Silver_T-22        0\n",
              "Platinum_T-22      0\n",
              "Palladium_T-22     0\n",
              "Gold_T-22          0\n",
              "Gold_T+22          0\n",
              "Length: 121, dtype: int64"
            ]
          },
          "metadata": {},
          "execution_count": 7
        }
      ],
      "source": [
        "dataset.isnull().sum()"
      ]
    },
    {
      "cell_type": "code",
      "execution_count": null,
      "id": "89af0f9a",
      "metadata": {
        "execution": {
          "iopub.execute_input": "2023-01-10T20:12:59.934427Z",
          "iopub.status.busy": "2023-01-10T20:12:59.933191Z",
          "iopub.status.idle": "2023-01-10T20:12:59.943248Z",
          "shell.execute_reply": "2023-01-10T20:12:59.942109Z"
        },
        "papermill": {
          "duration": 0.024776,
          "end_time": "2023-01-10T20:12:59.945710",
          "exception": false,
          "start_time": "2023-01-10T20:12:59.920934",
          "status": "completed"
        },
        "tags": [],
        "colab": {
          "base_uri": "https://localhost:8080/"
        },
        "id": "89af0f9a",
        "outputId": "ce1884c7-d3af-4cfb-9a5b-1dc524eeeb99"
      },
      "outputs": [
        {
          "output_type": "execute_result",
          "data": {
            "text/plain": [
              "0"
            ]
          },
          "metadata": {},
          "execution_count": 8
        }
      ],
      "source": [
        "dataset.isnull().sum().sum()  # Видим, что пустые значения вообще отсутствуют "
      ]
    },
    {
      "cell_type": "code",
      "execution_count": null,
      "id": "ec0b4e3e",
      "metadata": {
        "execution": {
          "iopub.execute_input": "2023-01-10T20:12:59.971633Z",
          "iopub.status.busy": "2023-01-10T20:12:59.971147Z",
          "iopub.status.idle": "2023-01-10T20:12:59.989282Z",
          "shell.execute_reply": "2023-01-10T20:12:59.987725Z"
        },
        "papermill": {
          "duration": 0.034942,
          "end_time": "2023-01-10T20:12:59.992343",
          "exception": false,
          "start_time": "2023-01-10T20:12:59.957401",
          "status": "completed"
        },
        "tags": [],
        "colab": {
          "base_uri": "https://localhost:8080/"
        },
        "id": "ec0b4e3e",
        "outputId": "4c761c66-f675-4a7c-83db-12472a7f0826"
      },
      "outputs": [
        {
          "output_type": "stream",
          "name": "stdout",
          "text": [
            "<class 'pandas.core.frame.DataFrame'>\n",
            "RangeIndex: 2558 entries, 0 to 2557\n",
            "Columns: 121 entries, 3M Libor_T-1 to Gold_T+22\n",
            "dtypes: float64(121)\n",
            "memory usage: 2.4 MB\n"
          ]
        }
      ],
      "source": [
        "dataset.info(memory_usage='deep') # Датасет не занимает много памяти, поэтому не будем клссифицировать колонки"
      ]
    },
    {
      "cell_type": "code",
      "execution_count": null,
      "id": "7bdb55f3",
      "metadata": {
        "execution": {
          "iopub.execute_input": "2023-01-10T20:13:00.044126Z",
          "iopub.status.busy": "2023-01-10T20:13:00.043261Z",
          "iopub.status.idle": "2023-01-10T20:13:00.057335Z",
          "shell.execute_reply": "2023-01-10T20:13:00.055963Z"
        },
        "papermill": {
          "duration": 0.031181,
          "end_time": "2023-01-10T20:13:00.060667",
          "exception": false,
          "start_time": "2023-01-10T20:13:00.029486",
          "status": "completed"
        },
        "tags": [],
        "colab": {
          "base_uri": "https://localhost:8080/"
        },
        "id": "7bdb55f3",
        "outputId": "a7962bbe-86b8-45e3-a2cd-cd84a65074d7"
      },
      "outputs": [
        {
          "output_type": "execute_result",
          "data": {
            "text/plain": [
              "3M Libor_T-1       2020\n",
              "EM Bond_T-1        2429\n",
              "US Bond ETF_T-1    2344\n",
              "Wheat 1_T-1        2378\n",
              "Wheat 2_T-1        2389\n",
              "                   ... \n",
              "Silver_T-22        2545\n",
              "Platinum_T-22      2554\n",
              "Palladium_T-22     2553\n",
              "Gold_T-22          2557\n",
              "Gold_T+22          2557\n",
              "Length: 121, dtype: int64"
            ]
          },
          "metadata": {},
          "execution_count": 11
        }
      ],
      "source": [
        "dataset.nunique() # Тут мы можем убедиться, что кол-во уникальных значений велико, поэтому не будем ничего менять"
      ]
    },
    {
      "cell_type": "code",
      "execution_count": null,
      "id": "5b468095",
      "metadata": {
        "execution": {
          "iopub.execute_input": "2023-01-10T20:13:00.193893Z",
          "iopub.status.busy": "2023-01-10T20:13:00.193445Z",
          "iopub.status.idle": "2023-01-10T20:13:00.498644Z",
          "shell.execute_reply": "2023-01-10T20:13:00.497715Z"
        },
        "papermill": {
          "duration": 0.321522,
          "end_time": "2023-01-10T20:13:00.501461",
          "exception": false,
          "start_time": "2023-01-10T20:13:00.179939",
          "status": "completed"
        },
        "tags": [],
        "colab": {
          "base_uri": "https://localhost:8080/",
          "height": 297
        },
        "id": "5b468095",
        "outputId": "9454c930-20e6-4102-a370-fc9f20d51c7a"
      },
      "outputs": [
        {
          "output_type": "execute_result",
          "data": {
            "text/plain": [
              "<matplotlib.axes._subplots.AxesSubplot at 0x7f4a2ab53970>"
            ]
          },
          "metadata": {},
          "execution_count": 12
        },
        {
          "output_type": "display_data",
          "data": {
            "text/plain": [
              "<Figure size 432x288 with 1 Axes>"
            ],
            "image/png": "[encoded data removed]"
          },
          "metadata": {
            "needs_background": "light"
          }
        }
      ],
      "source": [
        "sns.scatterplot(x=dataset['Gold_T+22'],y=dataset['Gold_T-22']) # Заметно, что иногда наблюдается пересечение"
      ]
    },
    {
      "cell_type": "code",
      "execution_count": null,
      "id": "28782b57",
      "metadata": {
        "execution": {
          "iopub.execute_input": "2023-01-10T20:13:00.997340Z",
          "iopub.status.busy": "2023-01-10T20:13:00.996926Z",
          "iopub.status.idle": "2023-01-10T20:13:01.258941Z",
          "shell.execute_reply": "2023-01-10T20:13:01.257627Z"
        },
        "papermill": {
          "duration": 0.279697,
          "end_time": "2023-01-10T20:13:01.261516",
          "exception": false,
          "start_time": "2023-01-10T20:13:00.981819",
          "status": "completed"
        },
        "tags": [],
        "colab": {
          "base_uri": "https://localhost:8080/",
          "height": 297
        },
        "id": "28782b57",
        "outputId": "558041ac-19ec-44a4-bebc-377111a06b4f"
      },
      "outputs": [
        {
          "output_type": "execute_result",
          "data": {
            "text/plain": [
              "<matplotlib.axes._subplots.AxesSubplot at 0x7f4a2ab37820>"
            ]
          },
          "metadata": {},
          "execution_count": 13
        },
        {
          "output_type": "display_data",
          "data": {
            "text/plain": [
              "<Figure size 432x288 with 1 Axes>"
            ],
            "image/png": "[encoded data removed]"
          },
          "metadata": {
            "needs_background": "light"
          }
        }
      ],
      "source": [
        "sns.regplot(x=dataset['Gold_T+22'],y=dataset['3M Libor_T-1'], data=dataset, order=3, ci=None)\n"
      ]
    },
    {
      "cell_type": "code",
      "source": [
        "sns.regplot(x=dataset['Gold_T+22'],y=dataset['3M Libor_T-1'], data=dataset, order=3, ci=None)\n"
      ],
      "metadata": {
        "id": "pD9Y8jVGVXeW"
      },
      "id": "pD9Y8jVGVXeW",
      "execution_count": null,
      "outputs": []
    },
    {
      "cell_type": "markdown",
      "id": "699084a1",
      "metadata": {
        "papermill": {
          "duration": 0.014066,
          "end_time": "2023-01-10T20:13:01.290088",
          "exception": false,
          "start_time": "2023-01-10T20:13:01.276022",
          "status": "completed"
        },
        "tags": [],
        "id": "699084a1"
      },
      "source": [
        "## Регрессия Pytorch"
      ]
    },
    {
      "cell_type": "code",
      "execution_count": null,
      "id": "5a888426",
      "metadata": {
        "execution": {
          "iopub.execute_input": "2023-01-10T20:13:01.323307Z",
          "iopub.status.busy": "2023-01-10T20:13:01.322297Z",
          "iopub.status.idle": "2023-01-10T20:13:01.329770Z",
          "shell.execute_reply": "2023-01-10T20:13:01.328541Z"
        },
        "papermill": {
          "duration": 0.02635,
          "end_time": "2023-01-10T20:13:01.332255",
          "exception": false,
          "start_time": "2023-01-10T20:13:01.305905",
          "status": "completed"
        },
        "tags": [],
        "colab": {
          "base_uri": "https://localhost:8080/"
        },
        "id": "5a888426",
        "outputId": "5b351e89-9dc2-44b2-b717-410aa83f8e65"
      },
      "outputs": [
        {
          "output_type": "execute_result",
          "data": {
            "text/plain": [
              "Index(['3M Libor_T-1', 'EM Bond_T-1', 'US Bond ETF_T-1', 'Wheat 1_T-1',\n",
              "       'Wheat 2_T-1', 'Crude Palm Oil_T-1', 'Brent 1_T-1', 'Brent 2_T-1',\n",
              "       'Light Crude_T-1', 'White Sugar_T-1',\n",
              "       ...\n",
              "       'MSCI EM_T-22', 'Shanghai Index_T-22', 'Nikkei Ind_T-22',\n",
              "       'MSCI APAC ex J_T-22', 'EMEquity ETF_T-22', 'Silver_T-22',\n",
              "       'Platinum_T-22', 'Palladium_T-22', 'Gold_T-22', 'Gold_T+22'],\n",
              "      dtype='object', length=121)"
            ]
          },
          "metadata": {},
          "execution_count": 14
        }
      ],
      "source": [
        "dataset.columns"
      ]
    },
    {
      "cell_type": "code",
      "execution_count": null,
      "id": "1d70296b",
      "metadata": {
        "execution": {
          "iopub.execute_input": "2023-01-10T20:13:01.364266Z",
          "iopub.status.busy": "2023-01-10T20:13:01.363081Z",
          "iopub.status.idle": "2023-01-10T20:13:01.369005Z",
          "shell.execute_reply": "2023-01-10T20:13:01.367841Z"
        },
        "papermill": {
          "duration": 0.024894,
          "end_time": "2023-01-10T20:13:01.371989",
          "exception": false,
          "start_time": "2023-01-10T20:13:01.347095",
          "status": "completed"
        },
        "tags": [],
        "id": "1d70296b"
      },
      "outputs": [],
      "source": [
        "looking_for = 'Gold_T+22'"
      ]
    },
    {
      "cell_type": "code",
      "execution_count": null,
      "id": "c221abea",
      "metadata": {
        "execution": {
          "iopub.execute_input": "2023-01-10T20:13:01.402458Z",
          "iopub.status.busy": "2023-01-10T20:13:01.401991Z",
          "iopub.status.idle": "2023-01-10T20:13:01.408125Z",
          "shell.execute_reply": "2023-01-10T20:13:01.407228Z"
        },
        "papermill": {
          "duration": 0.024762,
          "end_time": "2023-01-10T20:13:01.411016",
          "exception": false,
          "start_time": "2023-01-10T20:13:01.386254",
          "status": "completed"
        },
        "tags": [],
        "id": "c221abea"
      },
      "outputs": [],
      "source": [
        "X = dataset.drop(labels=[looking_for], axis=1)\n",
        "y = dataset[looking_for]\n"
      ]
    },
    {
      "cell_type": "code",
      "execution_count": null,
      "id": "d817fd0a",
      "metadata": {
        "execution": {
          "iopub.execute_input": "2023-01-10T20:13:01.443104Z",
          "iopub.status.busy": "2023-01-10T20:13:01.442393Z",
          "iopub.status.idle": "2023-01-10T20:13:01.451973Z",
          "shell.execute_reply": "2023-01-10T20:13:01.451038Z"
        },
        "papermill": {
          "duration": 0.028276,
          "end_time": "2023-01-10T20:13:01.454610",
          "exception": false,
          "start_time": "2023-01-10T20:13:01.426334",
          "status": "completed"
        },
        "tags": [],
        "id": "d817fd0a"
      },
      "outputs": [],
      "source": [
        "sscaler = preprocessing.StandardScaler()\n",
        "sscaler.fit(X)\n",
        "X_std= sscaler.transform(X)"
      ]
    },
    {
      "cell_type": "code",
      "execution_count": null,
      "id": "ec1e9839",
      "metadata": {
        "execution": {
          "iopub.execute_input": "2023-01-10T20:13:01.485130Z",
          "iopub.status.busy": "2023-01-10T20:13:01.484306Z",
          "iopub.status.idle": "2023-01-10T20:13:01.493695Z",
          "shell.execute_reply": "2023-01-10T20:13:01.492539Z"
        },
        "papermill": {
          "duration": 0.027247,
          "end_time": "2023-01-10T20:13:01.495969",
          "exception": false,
          "start_time": "2023-01-10T20:13:01.468722",
          "status": "completed"
        },
        "tags": [],
        "colab": {
          "base_uri": "https://localhost:8080/"
        },
        "id": "ec1e9839",
        "outputId": "60523bfa-4a32-488f-f814-cf578678c29a"
      },
      "outputs": [
        {
          "output_type": "execute_result",
          "data": {
            "text/plain": [
              "(1790, 120)"
            ]
          },
          "metadata": {},
          "execution_count": 18
        }
      ],
      "source": [
        "X_train,X_test,y_train,y_test=train_test_split(X_std,y,test_size=0.3,random_state=42)\n",
        "X_train.shape"
      ]
    },
    {
      "cell_type": "markdown",
      "id": "90bc0212",
      "metadata": {
        "papermill": {
          "duration": 0.014845,
          "end_time": "2023-01-10T20:13:01.525411",
          "exception": false,
          "start_time": "2023-01-10T20:13:01.510566",
          "status": "completed"
        },
        "tags": [],
        "id": "90bc0212"
      },
      "source": [
        "!!! ОБРАЩАЙТЕ ВНИМАНИЕ НА КОММЕНТЫ В ЭТИХ МЕСТАХ"
      ]
    },
    {
      "cell_type": "markdown",
      "id": "75d080e7",
      "metadata": {
        "papermill": {
          "duration": 0.013575,
          "end_time": "2023-01-10T20:13:01.553139",
          "exception": false,
          "start_time": "2023-01-10T20:13:01.539564",
          "status": "completed"
        },
        "tags": [],
        "id": "75d080e7"
      },
      "source": [
        "***Здесь вы можете менять значенияя***"
      ]
    },
    {
      "cell_type": "code",
      "execution_count": null,
      "id": "d73965e1",
      "metadata": {
        "execution": {
          "iopub.execute_input": "2023-01-10T20:13:01.583684Z",
          "iopub.status.busy": "2023-01-10T20:13:01.582892Z",
          "iopub.status.idle": "2023-01-10T20:13:01.598424Z",
          "shell.execute_reply": "2023-01-10T20:13:01.597137Z"
        },
        "papermill": {
          "duration": 0.034686,
          "end_time": "2023-01-10T20:13:01.601952",
          "exception": false,
          "start_time": "2023-01-10T20:13:01.567266",
          "status": "completed"
        },
        "tags": [],
        "colab": {
          "base_uri": "https://localhost:8080/"
        },
        "id": "d73965e1",
        "outputId": "1b181d3b-9417-4348-bdf6-7ad1574389ae"
      },
      "outputs": [
        {
          "output_type": "stream",
          "name": "stdout",
          "text": [
            "NN(\n",
            "  (layer1): Linear(in_features=120, out_features=120, bias=True)\n",
            "  (layer2): Linear(in_features=120, out_features=100, bias=True)\n",
            "  (layer3): Linear(in_features=100, out_features=80, bias=True)\n",
            "  (layer4): Linear(in_features=80, out_features=60, bias=True)\n",
            "  (layer5): Linear(in_features=60, out_features=40, bias=True)\n",
            "  (layer6): Linear(in_features=40, out_features=20, bias=True)\n",
            "  (layer7): Linear(in_features=20, out_features=1, bias=True)\n",
            ")\n"
          ]
        }
      ],
      "source": [
        "class NN(nn.Module):\n",
        "  def __init__(self):\n",
        "    super(NN,self).__init__()\n",
        "    self.layer1=nn.Linear(X_train.shape[1],120) \n",
        "    self.layer2=nn.Linear(120,100) \n",
        "    self.layer3=nn.Linear(100,80) \n",
        "    self.layer4=nn.Linear(80,60) \n",
        "    self.layer5=nn.Linear(60,40) \n",
        "    self.layer6=nn.Linear(40,20) \n",
        "    self.layer7=nn.Linear(20,1) \n",
        "\n",
        "    \n",
        "  def forward(self,x):\n",
        "    x=F.relu(self.layer1(x))\n",
        "    x=F.relu(self.layer2(x))\n",
        "    x=F.relu(self.layer3(x))\n",
        "    x=F.relu(self.layer4(x))\n",
        "    x=F.relu(self.layer5(x))\n",
        "    x=F.relu(self.layer6(x))\n",
        "    x=self.layer7(x)\n",
        "    return x\n",
        "model = NN()\n",
        "print(model)"
      ]
    },
    {
      "cell_type": "code",
      "execution_count": null,
      "id": "0e86946c",
      "metadata": {
        "execution": {
          "iopub.execute_input": "2023-01-10T20:13:01.632457Z",
          "iopub.status.busy": "2023-01-10T20:13:01.632050Z",
          "iopub.status.idle": "2023-01-10T20:13:01.643444Z",
          "shell.execute_reply": "2023-01-10T20:13:01.642416Z"
        },
        "papermill": {
          "duration": 0.029645,
          "end_time": "2023-01-10T20:13:01.646049",
          "exception": false,
          "start_time": "2023-01-10T20:13:01.616404",
          "status": "completed"
        },
        "tags": [],
        "colab": {
          "base_uri": "https://localhost:8080/"
        },
        "id": "0e86946c",
        "outputId": "2347f169-0d93-4db8-bd9a-4ff77f12493c"
      },
      "outputs": [
        {
          "output_type": "execute_result",
          "data": {
            "text/plain": [
              "tensor([[-0.1099,  0.6442, -0.2907,  ...,  0.9891,  0.7808, -0.8218],\n",
              "        [-0.1099,  0.9588, -1.1553,  ..., -0.9114, -1.5906,  0.5829],\n",
              "        [ 0.2380,  0.2009, -1.2445,  ..., -1.3350,  0.7382, -0.9608],\n",
              "        ...,\n",
              "        [ 0.7394,  0.4811, -0.2400,  ...,  0.7646,  0.5091,  1.4800],\n",
              "        [-0.2519,  0.4990,  0.7735,  ..., -0.6980, -0.1095, -0.2747],\n",
              "        [-1.4906, -1.8179, -0.7566,  ..., -1.1092, -0.6440, -1.4390]],\n",
              "       requires_grad=True)"
            ]
          },
          "metadata": {},
          "execution_count": 24
        }
      ],
      "source": [
        "x=torch.tensor(np.array(X_train),dtype=torch.float32,requires_grad=True)\n",
        "y=torch.tensor(np.array(y_train).reshape(-1,1),dtype=torch.float32)\n",
        "x"
      ]
    },
    {
      "cell_type": "markdown",
      "id": "44bb9a2b",
      "metadata": {
        "papermill": {
          "duration": 0.016943,
          "end_time": "2023-01-10T20:13:01.679363",
          "exception": false,
          "start_time": "2023-01-10T20:13:01.662420",
          "status": "completed"
        },
        "tags": [],
        "id": "44bb9a2b"
      },
      "source": [
        "***Здесь тоже можете менять значения***"
      ]
    },
    {
      "cell_type": "code",
      "execution_count": null,
      "id": "7d366db1",
      "metadata": {
        "execution": {
          "iopub.execute_input": "2023-01-10T20:13:01.710822Z",
          "iopub.status.busy": "2023-01-10T20:13:01.709808Z",
          "iopub.status.idle": "2023-01-10T20:13:01.715941Z",
          "shell.execute_reply": "2023-01-10T20:13:01.715123Z"
        },
        "papermill": {
          "duration": 0.023825,
          "end_time": "2023-01-10T20:13:01.718307",
          "exception": false,
          "start_time": "2023-01-10T20:13:01.694482",
          "status": "completed"
        },
        "tags": [],
        "id": "7d366db1"
      },
      "outputs": [],
      "source": [
        "loss_fn=nn.MSELoss()\n",
        "optimizer= torch.optim.SGD(model.parameters(),lr=0.0001) "
      ]
    },
    {
      "cell_type": "code",
      "execution_count": null,
      "id": "f10dcaec",
      "metadata": {
        "execution": {
          "iopub.execute_input": "2023-01-10T20:13:01.803239Z",
          "iopub.status.busy": "2023-01-10T20:13:01.802790Z",
          "iopub.status.idle": "2023-01-10T20:13:03.153312Z",
          "shell.execute_reply": "2023-01-10T20:13:03.152020Z"
        },
        "papermill": {
          "duration": 1.369299,
          "end_time": "2023-01-10T20:13:03.156276",
          "exception": false,
          "start_time": "2023-01-10T20:13:01.786977",
          "status": "completed"
        },
        "tags": [],
        "colab": {
          "base_uri": "https://localhost:8080/"
        },
        "id": "f10dcaec",
        "outputId": "32967b91-6455-4e1c-df42-2049d2d0569c"
      },
      "outputs": [
        {
          "output_type": "stream",
          "name": "stdout",
          "text": [
            "epochs: 0......loss:0.03796715289354324\n",
            "epochs: 50......loss:0.03699091821908951\n",
            "epochs: 100......loss:0.03604167699813843\n",
            "epochs: 150......loss:0.035118624567985535\n",
            "epochs: 200......loss:0.03422095626592636\n",
            "epochs: 250......loss:0.03334798663854599\n",
            "epochs: 300......loss:0.03249899297952652\n",
            "epochs: 350......loss:0.03167329356074333\n",
            "epochs: 400......loss:0.030870191752910614\n",
            "epochs: 450......loss:0.03008902445435524\n",
            "epochs: 500......loss:0.02932910993695259\n",
            "epochs: 550......loss:0.028589854016900063\n",
            "epochs: 600......loss:0.02787075750529766\n",
            "epochs: 650......loss:0.02717122621834278\n",
            "epochs: 700......loss:0.02649069018661976\n",
            "epochs: 750......loss:0.025828611105680466\n",
            "epochs: 800......loss:0.0251845084130764\n",
            "epochs: 850......loss:0.02455790713429451\n",
            "epochs: 900......loss:0.02394830249249935\n",
            "epochs: 950......loss:0.023355204612016678\n",
            "epochs: 1000......loss:0.02277814783155918\n",
            "epochs: 1050......loss:0.022216707468032837\n",
            "epochs: 1100......loss:0.021670451387763023\n",
            "epochs: 1150......loss:0.02113897167146206\n",
            "epochs: 1200......loss:0.020621875301003456\n",
            "epochs: 1250......loss:0.02011875994503498\n",
            "epochs: 1300......loss:0.01962922513484955\n",
            "epochs: 1350......loss:0.019152915105223656\n",
            "epochs: 1400......loss:0.0186894740909338\n",
            "epochs: 1450......loss:0.01823853887617588\n"
          ]
        }
      ],
      "source": [
        "epochs=1500 # Можно увеличить данное значение и получить лучше результат\n",
        "losses=[]\n",
        "iters=[]\n",
        "for i in range(epochs):\n",
        "  running_loss = 0.0\n",
        "  #initialize the model parameter\n",
        "  optimizer.zero_grad(set_to_none=True)\n",
        "  #calculate the loss\n",
        "  output=model(x)\n",
        "  loss=loss_fn(output,y)\n",
        "  losses.append(running_loss+loss.item())\n",
        "  iters.append(i)\n",
        "  #backpropagation\n",
        "  loss.backward()\n",
        "  #update the parameters\n",
        "  optimizer.step()\n",
        "  if(i%10==0):\n",
        "        iters.append(i)\n",
        "        losses.append(loss)\n",
        "        \n",
        "  if(i%50==0):\n",
        "    print(f\"epochs: {i}......loss:{loss}\")"
      ]
    },
    {
      "cell_type": "code",
      "execution_count": null,
      "id": "e29e550a",
      "metadata": {
        "execution": {
          "iopub.execute_input": "2023-01-10T20:13:03.186803Z",
          "iopub.status.busy": "2023-01-10T20:13:03.186421Z",
          "iopub.status.idle": "2023-01-10T20:13:03.193864Z",
          "shell.execute_reply": "2023-01-10T20:13:03.192777Z"
        },
        "papermill": {
          "duration": 0.025531,
          "end_time": "2023-01-10T20:13:03.196349",
          "exception": false,
          "start_time": "2023-01-10T20:13:03.170818",
          "status": "completed"
        },
        "tags": [],
        "id": "e29e550a"
      },
      "outputs": [],
      "source": [
        "y_train_pred = model(torch.tensor(X_train,dtype=torch.float32,requires_grad=True))\n",
        "y_test_pred = model(torch.tensor(X_test,dtype=torch.float32))\n",
        "\n",
        "#convert to numpy array\n",
        "y_train_pred = y_train_pred.detach().numpy()\n",
        "y_test_pred = y_test_pred.detach().numpy()"
      ]
    },
    {
      "cell_type": "code",
      "execution_count": null,
      "id": "30c14fae",
      "metadata": {
        "execution": {
          "iopub.execute_input": "2023-01-10T20:13:03.258081Z",
          "iopub.status.busy": "2023-01-10T20:13:03.257649Z",
          "iopub.status.idle": "2023-01-10T20:13:03.268941Z",
          "shell.execute_reply": "2023-01-10T20:13:03.267616Z"
        },
        "papermill": {
          "duration": 0.031348,
          "end_time": "2023-01-10T20:13:03.271370",
          "exception": false,
          "start_time": "2023-01-10T20:13:03.240022",
          "status": "completed"
        },
        "tags": [],
        "colab": {
          "base_uri": "https://localhost:8080/"
        },
        "id": "30c14fae",
        "outputId": "fb462eda-dccd-48ed-b2c2-a96ff79bd775"
      },
      "outputs": [
        {
          "output_type": "stream",
          "name": "stdout",
          "text": [
            "-8.274532475597585\n",
            "-7.751732802349597\n"
          ]
        }
      ],
      "source": [
        "from sklearn.metrics import r2_score\n",
        "\n",
        "test_accuracy=r2_score(y_test,y_test_pred)\n",
        "train_accuracy=r2_score(y_train,y_train_pred)\n",
        "print(train_accuracy)\n",
        "print(test_accuracy)"
      ]
    },
    {
      "cell_type": "code",
      "execution_count": null,
      "id": "9570179c",
      "metadata": {
        "execution": {
          "iopub.execute_input": "2023-01-10T20:13:03.302541Z",
          "iopub.status.busy": "2023-01-10T20:13:03.302089Z",
          "iopub.status.idle": "2023-01-10T20:13:03.515859Z",
          "shell.execute_reply": "2023-01-10T20:13:03.514790Z"
        },
        "papermill": {
          "duration": 0.232474,
          "end_time": "2023-01-10T20:13:03.518402",
          "exception": false,
          "start_time": "2023-01-10T20:13:03.285928",
          "status": "completed"
        },
        "tags": [],
        "colab": {
          "base_uri": "https://localhost:8080/",
          "height": 296
        },
        "id": "9570179c",
        "outputId": "b007f016-e546-4c73-acba-4d5a72bb249f"
      },
      "outputs": [
        {
          "output_type": "stream",
          "name": "stderr",
          "text": [
            "WARNING:matplotlib.legend:No handles with labels found to put in legend.\n"
          ]
        },
        {
          "output_type": "display_data",
          "data": {
            "text/plain": [
              "<Figure size 432x288 with 1 Axes>"
            ],
            "image/png": "[encoded data removed]"
          },
          "metadata": {
            "needs_background": "light"
          }
        }
      ],
      "source": [
        "plt.plot(np.arange(len(iters)),list(map(float, losses)), 'r', linewidth=0.3)\n",
        "plt.xlabel('Epoch')\n",
        "plt.ylabel('Loss')\n",
        "plt.legend()\n",
        "plt.show()"
      ]
    },
    {
      "cell_type": "code",
      "execution_count": null,
      "id": "b53a429e",
      "metadata": {
        "execution": {
          "iopub.execute_input": "2023-01-10T20:13:03.550989Z",
          "iopub.status.busy": "2023-01-10T20:13:03.550565Z",
          "iopub.status.idle": "2023-01-10T20:13:03.828463Z",
          "shell.execute_reply": "2023-01-10T20:13:03.827293Z"
        },
        "papermill": {
          "duration": 0.297093,
          "end_time": "2023-01-10T20:13:03.830967",
          "exception": false,
          "start_time": "2023-01-10T20:13:03.533874",
          "status": "completed"
        },
        "tags": [],
        "colab": {
          "base_uri": "https://localhost:8080/",
          "height": 280
        },
        "id": "b53a429e",
        "outputId": "eb16a9d5-b8b9-4bfb-a93d-dc86229ed986"
      },
      "outputs": [
        {
          "output_type": "display_data",
          "data": {
            "text/plain": [
              "<Figure size 432x288 with 1 Axes>"
            ],
            "image/png": "[encoded data removed]"
          },
          "metadata": {
            "needs_background": "light"
          }
        }
      ],
      "source": [
        "plt.xlabel(looking_for)\n",
        "plt.ylabel(f\"Predicted {looking_for} \")\n",
        "plt.scatter(y_train,y_train_pred,color='r',label=\"train_data\")\n",
        "plt.scatter(y_test,y_test_pred,color='b',label=\"test_data\")\n",
        "plt.legend()\n",
        "plt.show()"
      ]
    },
    {
      "cell_type": "code",
      "execution_count": null,
      "id": "ad92f966",
      "metadata": {
        "execution": {
          "iopub.execute_input": "2023-01-10T20:13:03.866899Z",
          "iopub.status.busy": "2023-01-10T20:13:03.866403Z",
          "iopub.status.idle": "2023-01-10T20:13:04.126800Z",
          "shell.execute_reply": "2023-01-10T20:13:04.125449Z"
        },
        "papermill": {
          "duration": 0.281486,
          "end_time": "2023-01-10T20:13:04.129364",
          "exception": false,
          "start_time": "2023-01-10T20:13:03.847878",
          "status": "completed"
        },
        "tags": [],
        "colab": {
          "base_uri": "https://localhost:8080/",
          "height": 280
        },
        "id": "ad92f966",
        "outputId": "1e908026-7c77-4811-e4fe-d2d27c18ef93"
      },
      "outputs": [
        {
          "output_type": "display_data",
          "data": {
            "text/plain": [
              "<Figure size 432x288 with 1 Axes>"
            ],
            "image/png": "[encoded data removed]"
          },
          "metadata": {
            "needs_background": "light"
          }
        }
      ],
      "source": [
        "plt.xlabel(looking_for)\n",
        "plt.ylabel(f\"Predicted {looking_for} \")\n",
        "plt.plot(y_train,y_train_pred,color='r',label=\"train_data\")\n",
        "plt.plot(y_test,y_test_pred,color='b',label=\"test_data\")\n",
        "plt.legend()\n",
        "plt.show()"
      ]
    },
    {
      "cell_type": "markdown",
      "source": [
        "3 задача"
      ],
      "metadata": {
        "id": "lW8nt45MXomu"
      },
      "id": "lW8nt45MXomu"
    },
    {
      "cell_type": "code",
      "execution_count": null,
      "id": "215fd6e7",
      "metadata": {
        "execution": {
          "iopub.execute_input": "2023-01-10T20:13:22.527616Z",
          "iopub.status.busy": "2023-01-10T20:13:22.527165Z",
          "iopub.status.idle": "2023-01-10T20:13:23.416724Z",
          "shell.execute_reply": "2023-01-10T20:13:23.415476Z"
        },
        "papermill": {
          "duration": 0.911898,
          "end_time": "2023-01-10T20:13:23.418993",
          "exception": false,
          "start_time": "2023-01-10T20:13:22.507095",
          "status": "completed"
        },
        "tags": [],
        "colab": {
          "base_uri": "https://localhost:8080/",
          "height": 265
        },
        "id": "215fd6e7",
        "outputId": "87702f73-6861-45b6-caea-97c89828bda8"
      },
      "outputs": [
        {
          "output_type": "display_data",
          "data": {
            "text/plain": [
              "<Figure size 432x288 with 1 Axes>"
            ],
            "image/png": "[encoded data removed]"
          },
          "metadata": {
            "needs_background": "light"
          }
        }
      ],
      "source": [
        "def f(x: torch.Tensor) -> torch.Tensor:\n",
        "    return torch.log(x ** 2 - 6 * x + 10)\n",
        "\n",
        "\n",
        "SIGN = -1\n",
        "\n",
        "START, END = 0, 10\n",
        "EPS = 0.0000001\n",
        "LR = 0.00005\n",
        "\n",
        "X = torch.arange(START, END + 0.001, 0.001)\n",
        "Y = f(X)\n",
        "plt.plot(X.detach(), Y.detach());"
      ]
    },
    {
      "cell_type": "code",
      "execution_count": null,
      "id": "dca2fd13",
      "metadata": {
        "execution": {
          "iopub.execute_input": "2023-01-10T20:13:04.195963Z",
          "iopub.status.busy": "2023-01-10T20:13:04.195581Z",
          "iopub.status.idle": "2023-01-10T20:13:04.456362Z",
          "shell.execute_reply": "2023-01-10T20:13:04.454472Z"
        },
        "papermill": {
          "duration": 0.281645,
          "end_time": "2023-01-10T20:13:04.459394",
          "exception": false,
          "start_time": "2023-01-10T20:13:04.177749",
          "status": "completed"
        },
        "tags": [],
        "colab": {
          "base_uri": "https://localhost:8080/",
          "height": 279
        },
        "id": "dca2fd13",
        "outputId": "fc95d82b-3db0-4272-b6fb-e8630279210e"
      },
      "outputs": [
        {
          "output_type": "display_data",
          "data": {
            "text/plain": [
              "<Figure size 432x288 with 1 Axes>"
            ],
            "image/png": "[encoded data removed]"
          },
          "metadata": {
            "needs_background": "light"
          }
        }
      ],
      "source": [
        "import math\n",
        "x = torch.linspace(-10, 10, 100, requires_grad = True)\n",
        "Y = torch.log(x**2 + 10*x + 10)\n",
        "y = torch.sum(Y)\n",
        "y.backward()\n",
        " \n",
        "# ploting the function and derivative\n",
        "function_line, = plt.plot(x.detach().numpy(), Y.detach().numpy(), label = 'Function')\n",
        "function_line.set_color(\"red\")\n",
        "derivative_line, = plt.plot(x.detach().numpy(), x.grad.detach().numpy(), label = 'Derivative')\n",
        "derivative_line.set_color(\"green\")\n",
        "plt.xlabel('x')\n",
        "plt.legend()\n",
        "plt.show()"
      ]
    },
    {
      "cell_type": "code",
      "execution_count": null,
      "id": "d12b3ee4",
      "metadata": {
        "papermill": {
          "duration": 0.017925,
          "end_time": "2023-01-10T20:13:23.454796",
          "exception": false,
          "start_time": "2023-01-10T20:13:23.436871",
          "status": "completed"
        },
        "tags": [],
        "id": "d12b3ee4"
      },
      "outputs": [],
      "source": []
    }
  ],
  "metadata": {
    "kernelspec": {
      "display_name": "Python 3",
      "language": "python",
      "name": "python3"
    },
    "language_info": {
      "codemirror_mode": {
        "name": "ipython",
        "version": 3
      },
      "file_extension": ".py",
      "mimetype": "text/x-python",
      "name": "python",
      "nbconvert_exporter": "python",
      "pygments_lexer": "ipython3",
      "version": "3.7.12"
    },
    "papermill": {
      "default_parameters": {},
      "duration": 39.950017,
      "end_time": "2023-01-10T20:13:24.901877",
      "environment_variables": {},
      "exception": null,
      "input_path": "__notebook__.ipynb",
      "output_path": "__notebook__.ipynb",
      "parameters": {},
      "start_time": "2023-01-10T20:12:44.951860",
      "version": "2.3.4"
    },
    "colab": {
      "provenance": []
    }
  },
  "nbformat": 4,
  "nbformat_minor": 5
}