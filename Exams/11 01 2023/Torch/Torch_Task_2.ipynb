{
  "cells": [
    {
      "cell_type": "markdown",
      "id": "c082ea8a",
      "metadata": {
        "papermill": {
          "duration": 0.011595,
          "end_time": "2023-01-10T20:12:54.376789",
          "exception": false,
          "start_time": "2023-01-10T20:12:54.365194",
          "status": "completed"
        },
        "tags": [],
        "id": "c082ea8a"
      },
      "source": [
        "# Задача 2"
      ]
    },
    {
      "cell_type": "code",
      "source": [
        "%pip install torchmetrics"
      ],
      "metadata": {
        "colab": {
          "base_uri": "https://localhost:8080/"
        },
        "id": "h8fvdkiMLGSB",
        "outputId": "5472ff38-7ebf-435a-9cee-17378e1bc015"
      },
      "id": "h8fvdkiMLGSB",
      "execution_count": null,
      "outputs": [
        {
          "output_type": "stream",
          "name": "stdout",
          "text": [
            "Looking in indexes: https://pypi.org/simple, https://us-python.pkg.dev/colab-wheels/public/simple/\n",
            "Requirement already satisfied: torchmetrics in /usr/local/lib/python3.8/dist-packages (0.11.0)\n",
            "Requirement already satisfied: numpy>=1.17.2 in /usr/local/lib/python3.8/dist-packages (from torchmetrics) (1.21.6)\n",
            "Requirement already satisfied: packaging in /usr/local/lib/python3.8/dist-packages (from torchmetrics) (21.3)\n",
            "Requirement already satisfied: typing-extensions in /usr/local/lib/python3.8/dist-packages (from torchmetrics) (4.4.0)\n",
            "Requirement already satisfied: torch>=1.8.1 in /usr/local/lib/python3.8/dist-packages (from torchmetrics) (1.13.0+cu116)\n",
            "Requirement already satisfied: pyparsing!=3.0.5,>=2.0.2 in /usr/local/lib/python3.8/dist-packages (from packaging->torchmetrics) (3.0.9)\n"
          ]
        }
      ]
    },
    {
      "cell_type": "code",
      "execution_count": null,
      "id": "38d52b76",
      "metadata": {
        "execution": {
          "iopub.execute_input": "2023-01-10T20:12:54.468788Z",
          "iopub.status.busy": "2023-01-10T20:12:54.467800Z",
          "iopub.status.idle": "2023-01-10T20:12:59.715967Z",
          "shell.execute_reply": "2023-01-10T20:12:59.714448Z"
        },
        "papermill": {
          "duration": 5.26282,
          "end_time": "2023-01-10T20:12:59.719353",
          "exception": false,
          "start_time": "2023-01-10T20:12:54.456533",
          "status": "completed"
        },
        "tags": [],
        "id": "38d52b76"
      },
      "outputs": [],
      "source": [
        "import torch\n",
        "import torch.nn as nn\n",
        "from torch.utils.data import Dataset, DataLoader,TensorDataset,random_split\n",
        "import torch.nn.functional as F\n",
        "from torchmetrics import R2Score\n",
        "import numpy as np\n",
        "import pandas as pd\n",
        "import matplotlib.pyplot as plt\n",
        "import seaborn as sns\n",
        "import sklearn\n",
        "from sklearn.model_selection import train_test_split\n",
        "from sklearn import preprocessing\n",
        "from sklearn.preprocessing import *\n",
        "\n"
      ]
    },
    {
      "cell_type": "code",
      "execution_count": null,
      "id": "bd19f791",
      "metadata": {
        "execution": {
          "iopub.execute_input": "2023-01-10T20:12:59.745468Z",
          "iopub.status.busy": "2023-01-10T20:12:59.744700Z",
          "iopub.status.idle": "2023-01-10T20:12:59.792318Z",
          "shell.execute_reply": "2023-01-10T20:12:59.790952Z"
        },
        "papermill": {
          "duration": 0.06391,
          "end_time": "2023-01-10T20:12:59.794767",
          "exception": false,
          "start_time": "2023-01-10T20:12:59.730857",
          "status": "completed"
        },
        "tags": [],
        "colab": {
          "base_uri": "https://localhost:8080/",
          "height": 317
        },
        "id": "bd19f791",
        "outputId": "45b07435-eb87-40a9-fd5e-ed62f6b0a180"
      },
      "outputs": [
        {
          "output_type": "stream",
          "name": "stdout",
          "text": [
            "(1460, 81)\n"
          ]
        },
        {
          "output_type": "execute_result",
          "data": {
            "text/plain": [
              "   Id  MSSubClass MSZoning  LotFrontage  LotArea Street Alley LotShape  \\\n",
              "0   1          60       RL         65.0     8450   Pave  None      Reg   \n",
              "1   2          20       RL         80.0     9600   Pave  None      Reg   \n",
              "2   3          60       RL         68.0    11250   Pave  None      IR1   \n",
              "3   4          70       RL         60.0     9550   Pave  None      IR1   \n",
              "4   5          60       RL         84.0    14260   Pave  None      IR1   \n",
              "\n",
              "  LandContour Utilities  ... PoolArea PoolQC Fence MiscFeature MiscVal MoSold  \\\n",
              "0         Lvl    AllPub  ...        0   None  None        None       0      2   \n",
              "1         Lvl    AllPub  ...        0   None  None        None       0      5   \n",
              "2         Lvl    AllPub  ...        0   None  None        None       0      9   \n",
              "3         Lvl    AllPub  ...        0   None  None        None       0      2   \n",
              "4         Lvl    AllPub  ...        0   None  None        None       0     12   \n",
              "\n",
              "  YrSold  SaleType  SaleCondition  SalePrice  \n",
              "0   2008        WD         Normal     208500  \n",
              "1   2007        WD         Normal     181500  \n",
              "2   2008        WD         Normal     223500  \n",
              "3   2006        WD        Abnorml     140000  \n",
              "4   2008        WD         Normal     250000  \n",
              "\n",
              "[5 rows x 81 columns]"
            ],
            "text/html": [
              "\n",
              "  <div id=\"df-8443f236-c61e-4776-ace6-33a643751d88\">\n",
              "    <div class=\"colab-df-container\">\n",
              "      <div>\n",
              "<style scoped>\n",
              "    .dataframe tbody tr th:only-of-type {\n",
              "        vertical-align: middle;\n",
              "    }\n",
              "\n",
              "    .dataframe tbody tr th {\n",
              "        vertical-align: top;\n",
              "    }\n",
              "\n",
              "    .dataframe thead th {\n",
              "        text-align: right;\n",
              "    }\n",
              "</style>\n",
              "<table border=\"1\" class=\"dataframe\">\n",
              "  <thead>\n",
              "    <tr style=\"text-align: right;\">\n",
              "      <th></th>\n",
              "      <th>Id</th>\n",
              "      <th>MSSubClass</th>\n",
              "      <th>MSZoning</th>\n",
              "      <th>LotFrontage</th>\n",
              "      <th>LotArea</th>\n",
              "      <th>Street</th>\n",
              "      <th>Alley</th>\n",
              "      <th>LotShape</th>\n",
              "      <th>LandContour</th>\n",
              "      <th>Utilities</th>\n",
              "      <th>...</th>\n",
              "      <th>PoolArea</th>\n",
              "      <th>PoolQC</th>\n",
              "      <th>Fence</th>\n",
              "      <th>MiscFeature</th>\n",
              "      <th>MiscVal</th>\n",
              "      <th>MoSold</th>\n",
              "      <th>YrSold</th>\n",
              "      <th>SaleType</th>\n",
              "      <th>SaleCondition</th>\n",
              "      <th>SalePrice</th>\n",
              "    </tr>\n",
              "  </thead>\n",
              "  <tbody>\n",
              "    <tr>\n",
              "      <th>0</th>\n",
              "      <td>1</td>\n",
              "      <td>60</td>\n",
              "      <td>RL</td>\n",
              "      <td>65.0</td>\n",
              "      <td>8450</td>\n",
              "      <td>Pave</td>\n",
              "      <td>None</td>\n",
              "      <td>Reg</td>\n",
              "      <td>Lvl</td>\n",
              "      <td>AllPub</td>\n",
              "      <td>...</td>\n",
              "      <td>0</td>\n",
              "      <td>None</td>\n",
              "      <td>None</td>\n",
              "      <td>None</td>\n",
              "      <td>0</td>\n",
              "      <td>2</td>\n",
              "      <td>2008</td>\n",
              "      <td>WD</td>\n",
              "      <td>Normal</td>\n",
              "      <td>208500</td>\n",
              "    </tr>\n",
              "    <tr>\n",
              "      <th>1</th>\n",
              "      <td>2</td>\n",
              "      <td>20</td>\n",
              "      <td>RL</td>\n",
              "      <td>80.0</td>\n",
              "      <td>9600</td>\n",
              "      <td>Pave</td>\n",
              "      <td>None</td>\n",
              "      <td>Reg</td>\n",
              "      <td>Lvl</td>\n",
              "      <td>AllPub</td>\n",
              "      <td>...</td>\n",
              "      <td>0</td>\n",
              "      <td>None</td>\n",
              "      <td>None</td>\n",
              "      <td>None</td>\n",
              "      <td>0</td>\n",
              "      <td>5</td>\n",
              "      <td>2007</td>\n",
              "      <td>WD</td>\n",
              "      <td>Normal</td>\n",
              "      <td>181500</td>\n",
              "    </tr>\n",
              "    <tr>\n",
              "      <th>2</th>\n",
              "      <td>3</td>\n",
              "      <td>60</td>\n",
              "      <td>RL</td>\n",
              "      <td>68.0</td>\n",
              "      <td>11250</td>\n",
              "      <td>Pave</td>\n",
              "      <td>None</td>\n",
              "      <td>IR1</td>\n",
              "      <td>Lvl</td>\n",
              "      <td>AllPub</td>\n",
              "      <td>...</td>\n",
              "      <td>0</td>\n",
              "      <td>None</td>\n",
              "      <td>None</td>\n",
              "      <td>None</td>\n",
              "      <td>0</td>\n",
              "      <td>9</td>\n",
              "      <td>2008</td>\n",
              "      <td>WD</td>\n",
              "      <td>Normal</td>\n",
              "      <td>223500</td>\n",
              "    </tr>\n",
              "    <tr>\n",
              "      <th>3</th>\n",
              "      <td>4</td>\n",
              "      <td>70</td>\n",
              "      <td>RL</td>\n",
              "      <td>60.0</td>\n",
              "      <td>9550</td>\n",
              "      <td>Pave</td>\n",
              "      <td>None</td>\n",
              "      <td>IR1</td>\n",
              "      <td>Lvl</td>\n",
              "      <td>AllPub</td>\n",
              "      <td>...</td>\n",
              "      <td>0</td>\n",
              "      <td>None</td>\n",
              "      <td>None</td>\n",
              "      <td>None</td>\n",
              "      <td>0</td>\n",
              "      <td>2</td>\n",
              "      <td>2006</td>\n",
              "      <td>WD</td>\n",
              "      <td>Abnorml</td>\n",
              "      <td>140000</td>\n",
              "    </tr>\n",
              "    <tr>\n",
              "      <th>4</th>\n",
              "      <td>5</td>\n",
              "      <td>60</td>\n",
              "      <td>RL</td>\n",
              "      <td>84.0</td>\n",
              "      <td>14260</td>\n",
              "      <td>Pave</td>\n",
              "      <td>None</td>\n",
              "      <td>IR1</td>\n",
              "      <td>Lvl</td>\n",
              "      <td>AllPub</td>\n",
              "      <td>...</td>\n",
              "      <td>0</td>\n",
              "      <td>None</td>\n",
              "      <td>None</td>\n",
              "      <td>None</td>\n",
              "      <td>0</td>\n",
              "      <td>12</td>\n",
              "      <td>2008</td>\n",
              "      <td>WD</td>\n",
              "      <td>Normal</td>\n",
              "      <td>250000</td>\n",
              "    </tr>\n",
              "  </tbody>\n",
              "</table>\n",
              "<p>5 rows × 81 columns</p>\n",
              "</div>\n",
              "      <button class=\"colab-df-convert\" onclick=\"convertToInteractive('df-8443f236-c61e-4776-ace6-33a643751d88')\"\n",
              "              title=\"Convert this dataframe to an interactive table.\"\n",
              "              style=\"display:none;\">\n",
              "        \n",
              "  <svg xmlns=\"http://www.w3.org/2000/svg\" height=\"24px\"viewBox=\"0 0 24 24\"\n",
              "       width=\"24px\">\n",
              "    <path d=\"M0 0h24v24H0V0z\" fill=\"none\"/>\n",
              "    <path d=\"M18.56 5.44l.94 2.06.94-2.06 2.06-.94-2.06-.94-.94-2.06-.94 2.06-2.06.94zm-11 1L8.5 8.5l.94-2.06 2.06-.94-2.06-.94L8.5 2.5l-.94 2.06-2.06.94zm10 10l.94 2.06.94-2.06 2.06-.94-2.06-.94-.94-2.06-.94 2.06-2.06.94z\"/><path d=\"M17.41 7.96l-1.37-1.37c-.4-.4-.92-.59-1.43-.59-.52 0-1.04.2-1.43.59L10.3 9.45l-7.72 7.72c-.78.78-.78 2.05 0 2.83L4 21.41c.39.39.9.59 1.41.59.51 0 1.02-.2 1.41-.59l7.78-7.78 2.81-2.81c.8-.78.8-2.07 0-2.86zM5.41 20L4 18.59l7.72-7.72 1.47 1.35L5.41 20z\"/>\n",
              "  </svg>\n",
              "      </button>\n",
              "      \n",
              "  <style>\n",
              "    .colab-df-container {\n",
              "      display:flex;\n",
              "      flex-wrap:wrap;\n",
              "      gap: 12px;\n",
              "    }\n",
              "\n",
              "    .colab-df-convert {\n",
              "      background-color: #E8F0FE;\n",
              "      border: none;\n",
              "      border-radius: 50%;\n",
              "      cursor: pointer;\n",
              "      display: none;\n",
              "      fill: #1967D2;\n",
              "      height: 32px;\n",
              "      padding: 0 0 0 0;\n",
              "      width: 32px;\n",
              "    }\n",
              "\n",
              "    .colab-df-convert:hover {\n",
              "      background-color: #E2EBFA;\n",
              "      box-shadow: 0px 1px 2px rgba(60, 64, 67, 0.3), 0px 1px 3px 1px rgba(60, 64, 67, 0.15);\n",
              "      fill: #174EA6;\n",
              "    }\n",
              "\n",
              "    [theme=dark] .colab-df-convert {\n",
              "      background-color: #3B4455;\n",
              "      fill: #D2E3FC;\n",
              "    }\n",
              "\n",
              "    [theme=dark] .colab-df-convert:hover {\n",
              "      background-color: #434B5C;\n",
              "      box-shadow: 0px 1px 3px 1px rgba(0, 0, 0, 0.15);\n",
              "      filter: drop-shadow(0px 1px 2px rgba(0, 0, 0, 0.3));\n",
              "      fill: #FFFFFF;\n",
              "    }\n",
              "  </style>\n",
              "\n",
              "      <script>\n",
              "        const buttonEl =\n",
              "          document.querySelector('#df-8443f236-c61e-4776-ace6-33a643751d88 button.colab-df-convert');\n",
              "        buttonEl.style.display =\n",
              "          google.colab.kernel.accessAllowed ? 'block' : 'none';\n",
              "\n",
              "        async function convertToInteractive(key) {\n",
              "          const element = document.querySelector('#df-8443f236-c61e-4776-ace6-33a643751d88');\n",
              "          const dataTable =\n",
              "            await google.colab.kernel.invokeFunction('convertToInteractive',\n",
              "                                                     [key], {});\n",
              "          if (!dataTable) return;\n",
              "\n",
              "          const docLinkHtml = 'Like what you see? Visit the ' +\n",
              "            '<a target=\"_blank\" href=https://colab.research.google.com/notebooks/data_table.ipynb>data table notebook</a>'\n",
              "            + ' to learn more about interactive tables.';\n",
              "          element.innerHTML = '';\n",
              "          dataTable['output_type'] = 'display_data';\n",
              "          await google.colab.output.renderOutput(dataTable, element);\n",
              "          const docLink = document.createElement('div');\n",
              "          docLink.innerHTML = docLinkHtml;\n",
              "          element.appendChild(docLink);\n",
              "        }\n",
              "      </script>\n",
              "    </div>\n",
              "  </div>\n",
              "  "
            ]
          },
          "metadata": {},
          "execution_count": 127
        }
      ],
      "source": [
        "dataset = pd.read_csv(\"/content/house.csv\")\n",
        "print(dataset.shape)\n",
        "dataset.head()"
      ]
    },
    {
      "cell_type": "code",
      "execution_count": null,
      "id": "cf36d552",
      "metadata": {
        "execution": {
          "iopub.execute_input": "2023-01-10T20:12:59.819658Z",
          "iopub.status.busy": "2023-01-10T20:12:59.819213Z",
          "iopub.status.idle": "2023-01-10T20:12:59.870034Z",
          "shell.execute_reply": "2023-01-10T20:12:59.868958Z"
        },
        "papermill": {
          "duration": 0.066541,
          "end_time": "2023-01-10T20:12:59.872279",
          "exception": false,
          "start_time": "2023-01-10T20:12:59.805738",
          "status": "completed"
        },
        "tags": [],
        "colab": {
          "base_uri": "https://localhost:8080/",
          "height": 394
        },
        "id": "cf36d552",
        "outputId": "b91fe018-b917-4c79-a7a0-104fa136c102"
      },
      "outputs": [
        {
          "output_type": "execute_result",
          "data": {
            "text/plain": [
              "                Id   MSSubClass  LotFrontage        LotArea  OverallQual  \\\n",
              "count  1460.000000  1460.000000  1201.000000    1460.000000  1460.000000   \n",
              "mean    730.500000    56.897260    70.049958   10516.828082     6.099315   \n",
              "std     421.610009    42.300571    24.284752    9981.264932     1.382997   \n",
              "min       1.000000    20.000000    21.000000    1300.000000     1.000000   \n",
              "25%     365.750000    20.000000    59.000000    7553.500000     5.000000   \n",
              "50%     730.500000    50.000000    69.000000    9478.500000     6.000000   \n",
              "75%    1095.250000    70.000000    80.000000   11601.500000     7.000000   \n",
              "max    1460.000000   190.000000   313.000000  215245.000000    10.000000   \n",
              "\n",
              "       OverallCond    YearBuilt  YearRemodAdd   MasVnrArea   BsmtFinSF1  ...  \\\n",
              "count  1460.000000  1460.000000   1460.000000  1452.000000  1460.000000  ...   \n",
              "mean      5.575342  1971.267808   1984.865753   103.685262   443.639726  ...   \n",
              "std       1.112799    30.202904     20.645407   181.066207   456.098091  ...   \n",
              "min       1.000000  1872.000000   1950.000000     0.000000     0.000000  ...   \n",
              "25%       5.000000  1954.000000   1967.000000     0.000000     0.000000  ...   \n",
              "50%       5.000000  1973.000000   1994.000000     0.000000   383.500000  ...   \n",
              "75%       6.000000  2000.000000   2004.000000   166.000000   712.250000  ...   \n",
              "max       9.000000  2010.000000   2010.000000  1600.000000  5644.000000  ...   \n",
              "\n",
              "        WoodDeckSF  OpenPorchSF  EnclosedPorch    3SsnPorch  ScreenPorch  \\\n",
              "count  1460.000000  1460.000000    1460.000000  1460.000000  1460.000000   \n",
              "mean     94.244521    46.660274      21.954110     3.409589    15.060959   \n",
              "std     125.338794    66.256028      61.119149    29.317331    55.757415   \n",
              "min       0.000000     0.000000       0.000000     0.000000     0.000000   \n",
              "25%       0.000000     0.000000       0.000000     0.000000     0.000000   \n",
              "50%       0.000000    25.000000       0.000000     0.000000     0.000000   \n",
              "75%     168.000000    68.000000       0.000000     0.000000     0.000000   \n",
              "max     857.000000   547.000000     552.000000   508.000000   480.000000   \n",
              "\n",
              "          PoolArea       MiscVal       MoSold       YrSold      SalePrice  \n",
              "count  1460.000000   1460.000000  1460.000000  1460.000000    1460.000000  \n",
              "mean      2.758904     43.489041     6.321918  2007.815753  180921.195890  \n",
              "std      40.177307    496.123024     2.703626     1.328095   79442.502883  \n",
              "min       0.000000      0.000000     1.000000  2006.000000   34900.000000  \n",
              "25%       0.000000      0.000000     5.000000  2007.000000  129975.000000  \n",
              "50%       0.000000      0.000000     6.000000  2008.000000  163000.000000  \n",
              "75%       0.000000      0.000000     8.000000  2009.000000  214000.000000  \n",
              "max     738.000000  15500.000000    12.000000  2010.000000  755000.000000  \n",
              "\n",
              "[8 rows x 38 columns]"
            ],
            "text/html": [
              "\n",
              "  <div id=\"df-1edea96c-9c31-41c7-850f-5194d2b8937c\">\n",
              "    <div class=\"colab-df-container\">\n",
              "      <div>\n",
              "<style scoped>\n",
              "    .dataframe tbody tr th:only-of-type {\n",
              "        vertical-align: middle;\n",
              "    }\n",
              "\n",
              "    .dataframe tbody tr th {\n",
              "        vertical-align: top;\n",
              "    }\n",
              "\n",
              "    .dataframe thead th {\n",
              "        text-align: right;\n",
              "    }\n",
              "</style>\n",
              "<table border=\"1\" class=\"dataframe\">\n",
              "  <thead>\n",
              "    <tr style=\"text-align: right;\">\n",
              "      <th></th>\n",
              "      <th>Id</th>\n",
              "      <th>MSSubClass</th>\n",
              "      <th>LotFrontage</th>\n",
              "      <th>LotArea</th>\n",
              "      <th>OverallQual</th>\n",
              "      <th>OverallCond</th>\n",
              "      <th>YearBuilt</th>\n",
              "      <th>YearRemodAdd</th>\n",
              "      <th>MasVnrArea</th>\n",
              "      <th>BsmtFinSF1</th>\n",
              "      <th>...</th>\n",
              "      <th>WoodDeckSF</th>\n",
              "      <th>OpenPorchSF</th>\n",
              "      <th>EnclosedPorch</th>\n",
              "      <th>3SsnPorch</th>\n",
              "      <th>ScreenPorch</th>\n",
              "      <th>PoolArea</th>\n",
              "      <th>MiscVal</th>\n",
              "      <th>MoSold</th>\n",
              "      <th>YrSold</th>\n",
              "      <th>SalePrice</th>\n",
              "    </tr>\n",
              "  </thead>\n",
              "  <tbody>\n",
              "    <tr>\n",
              "      <th>count</th>\n",
              "      <td>1460.000000</td>\n",
              "      <td>1460.000000</td>\n",
              "      <td>1201.000000</td>\n",
              "      <td>1460.000000</td>\n",
              "      <td>1460.000000</td>\n",
              "      <td>1460.000000</td>\n",
              "      <td>1460.000000</td>\n",
              "      <td>1460.000000</td>\n",
              "      <td>1452.000000</td>\n",
              "      <td>1460.000000</td>\n",
              "      <td>...</td>\n",
              "      <td>1460.000000</td>\n",
              "      <td>1460.000000</td>\n",
              "      <td>1460.000000</td>\n",
              "      <td>1460.000000</td>\n",
              "      <td>1460.000000</td>\n",
              "      <td>1460.000000</td>\n",
              "      <td>1460.000000</td>\n",
              "      <td>1460.000000</td>\n",
              "      <td>1460.000000</td>\n",
              "      <td>1460.000000</td>\n",
              "    </tr>\n",
              "    <tr>\n",
              "      <th>mean</th>\n",
              "      <td>730.500000</td>\n",
              "      <td>56.897260</td>\n",
              "      <td>70.049958</td>\n",
              "      <td>10516.828082</td>\n",
              "      <td>6.099315</td>\n",
              "      <td>5.575342</td>\n",
              "      <td>1971.267808</td>\n",
              "      <td>1984.865753</td>\n",
              "      <td>103.685262</td>\n",
              "      <td>443.639726</td>\n",
              "      <td>...</td>\n",
              "      <td>94.244521</td>\n",
              "      <td>46.660274</td>\n",
              "      <td>21.954110</td>\n",
              "      <td>3.409589</td>\n",
              "      <td>15.060959</td>\n",
              "      <td>2.758904</td>\n",
              "      <td>43.489041</td>\n",
              "      <td>6.321918</td>\n",
              "      <td>2007.815753</td>\n",
              "      <td>180921.195890</td>\n",
              "    </tr>\n",
              "    <tr>\n",
              "      <th>std</th>\n",
              "      <td>421.610009</td>\n",
              "      <td>42.300571</td>\n",
              "      <td>24.284752</td>\n",
              "      <td>9981.264932</td>\n",
              "      <td>1.382997</td>\n",
              "      <td>1.112799</td>\n",
              "      <td>30.202904</td>\n",
              "      <td>20.645407</td>\n",
              "      <td>181.066207</td>\n",
              "      <td>456.098091</td>\n",
              "      <td>...</td>\n",
              "      <td>125.338794</td>\n",
              "      <td>66.256028</td>\n",
              "      <td>61.119149</td>\n",
              "      <td>29.317331</td>\n",
              "      <td>55.757415</td>\n",
              "      <td>40.177307</td>\n",
              "      <td>496.123024</td>\n",
              "      <td>2.703626</td>\n",
              "      <td>1.328095</td>\n",
              "      <td>79442.502883</td>\n",
              "    </tr>\n",
              "    <tr>\n",
              "      <th>min</th>\n",
              "      <td>1.000000</td>\n",
              "      <td>20.000000</td>\n",
              "      <td>21.000000</td>\n",
              "      <td>1300.000000</td>\n",
              "      <td>1.000000</td>\n",
              "      <td>1.000000</td>\n",
              "      <td>1872.000000</td>\n",
              "      <td>1950.000000</td>\n",
              "      <td>0.000000</td>\n",
              "      <td>0.000000</td>\n",
              "      <td>...</td>\n",
              "      <td>0.000000</td>\n",
              "      <td>0.000000</td>\n",
              "      <td>0.000000</td>\n",
              "      <td>0.000000</td>\n",
              "      <td>0.000000</td>\n",
              "      <td>0.000000</td>\n",
              "      <td>0.000000</td>\n",
              "      <td>1.000000</td>\n",
              "      <td>2006.000000</td>\n",
              "      <td>34900.000000</td>\n",
              "    </tr>\n",
              "    <tr>\n",
              "      <th>25%</th>\n",
              "      <td>365.750000</td>\n",
              "      <td>20.000000</td>\n",
              "      <td>59.000000</td>\n",
              "      <td>7553.500000</td>\n",
              "      <td>5.000000</td>\n",
              "      <td>5.000000</td>\n",
              "      <td>1954.000000</td>\n",
              "      <td>1967.000000</td>\n",
              "      <td>0.000000</td>\n",
              "      <td>0.000000</td>\n",
              "      <td>...</td>\n",
              "      <td>0.000000</td>\n",
              "      <td>0.000000</td>\n",
              "      <td>0.000000</td>\n",
              "      <td>0.000000</td>\n",
              "      <td>0.000000</td>\n",
              "      <td>0.000000</td>\n",
              "      <td>0.000000</td>\n",
              "      <td>5.000000</td>\n",
              "      <td>2007.000000</td>\n",
              "      <td>129975.000000</td>\n",
              "    </tr>\n",
              "    <tr>\n",
              "      <th>50%</th>\n",
              "      <td>730.500000</td>\n",
              "      <td>50.000000</td>\n",
              "      <td>69.000000</td>\n",
              "      <td>9478.500000</td>\n",
              "      <td>6.000000</td>\n",
              "      <td>5.000000</td>\n",
              "      <td>1973.000000</td>\n",
              "      <td>1994.000000</td>\n",
              "      <td>0.000000</td>\n",
              "      <td>383.500000</td>\n",
              "      <td>...</td>\n",
              "      <td>0.000000</td>\n",
              "      <td>25.000000</td>\n",
              "      <td>0.000000</td>\n",
              "      <td>0.000000</td>\n",
              "      <td>0.000000</td>\n",
              "      <td>0.000000</td>\n",
              "      <td>0.000000</td>\n",
              "      <td>6.000000</td>\n",
              "      <td>2008.000000</td>\n",
              "      <td>163000.000000</td>\n",
              "    </tr>\n",
              "    <tr>\n",
              "      <th>75%</th>\n",
              "      <td>1095.250000</td>\n",
              "      <td>70.000000</td>\n",
              "      <td>80.000000</td>\n",
              "      <td>11601.500000</td>\n",
              "      <td>7.000000</td>\n",
              "      <td>6.000000</td>\n",
              "      <td>2000.000000</td>\n",
              "      <td>2004.000000</td>\n",
              "      <td>166.000000</td>\n",
              "      <td>712.250000</td>\n",
              "      <td>...</td>\n",
              "      <td>168.000000</td>\n",
              "      <td>68.000000</td>\n",
              "      <td>0.000000</td>\n",
              "      <td>0.000000</td>\n",
              "      <td>0.000000</td>\n",
              "      <td>0.000000</td>\n",
              "      <td>0.000000</td>\n",
              "      <td>8.000000</td>\n",
              "      <td>2009.000000</td>\n",
              "      <td>214000.000000</td>\n",
              "    </tr>\n",
              "    <tr>\n",
              "      <th>max</th>\n",
              "      <td>1460.000000</td>\n",
              "      <td>190.000000</td>\n",
              "      <td>313.000000</td>\n",
              "      <td>215245.000000</td>\n",
              "      <td>10.000000</td>\n",
              "      <td>9.000000</td>\n",
              "      <td>2010.000000</td>\n",
              "      <td>2010.000000</td>\n",
              "      <td>1600.000000</td>\n",
              "      <td>5644.000000</td>\n",
              "      <td>...</td>\n",
              "      <td>857.000000</td>\n",
              "      <td>547.000000</td>\n",
              "      <td>552.000000</td>\n",
              "      <td>508.000000</td>\n",
              "      <td>480.000000</td>\n",
              "      <td>738.000000</td>\n",
              "      <td>15500.000000</td>\n",
              "      <td>12.000000</td>\n",
              "      <td>2010.000000</td>\n",
              "      <td>755000.000000</td>\n",
              "    </tr>\n",
              "  </tbody>\n",
              "</table>\n",
              "<p>8 rows × 38 columns</p>\n",
              "</div>\n",
              "      <button class=\"colab-df-convert\" onclick=\"convertToInteractive('df-1edea96c-9c31-41c7-850f-5194d2b8937c')\"\n",
              "              title=\"Convert this dataframe to an interactive table.\"\n",
              "              style=\"display:none;\">\n",
              "        \n",
              "  <svg xmlns=\"http://www.w3.org/2000/svg\" height=\"24px\"viewBox=\"0 0 24 24\"\n",
              "       width=\"24px\">\n",
              "    <path d=\"M0 0h24v24H0V0z\" fill=\"none\"/>\n",
              "    <path d=\"M18.56 5.44l.94 2.06.94-2.06 2.06-.94-2.06-.94-.94-2.06-.94 2.06-2.06.94zm-11 1L8.5 8.5l.94-2.06 2.06-.94-2.06-.94L8.5 2.5l-.94 2.06-2.06.94zm10 10l.94 2.06.94-2.06 2.06-.94-2.06-.94-.94-2.06-.94 2.06-2.06.94z\"/><path d=\"M17.41 7.96l-1.37-1.37c-.4-.4-.92-.59-1.43-.59-.52 0-1.04.2-1.43.59L10.3 9.45l-7.72 7.72c-.78.78-.78 2.05 0 2.83L4 21.41c.39.39.9.59 1.41.59.51 0 1.02-.2 1.41-.59l7.78-7.78 2.81-2.81c.8-.78.8-2.07 0-2.86zM5.41 20L4 18.59l7.72-7.72 1.47 1.35L5.41 20z\"/>\n",
              "  </svg>\n",
              "      </button>\n",
              "      \n",
              "  <style>\n",
              "    .colab-df-container {\n",
              "      display:flex;\n",
              "      flex-wrap:wrap;\n",
              "      gap: 12px;\n",
              "    }\n",
              "\n",
              "    .colab-df-convert {\n",
              "      background-color: #E8F0FE;\n",
              "      border: none;\n",
              "      border-radius: 50%;\n",
              "      cursor: pointer;\n",
              "      display: none;\n",
              "      fill: #1967D2;\n",
              "      height: 32px;\n",
              "      padding: 0 0 0 0;\n",
              "      width: 32px;\n",
              "    }\n",
              "\n",
              "    .colab-df-convert:hover {\n",
              "      background-color: #E2EBFA;\n",
              "      box-shadow: 0px 1px 2px rgba(60, 64, 67, 0.3), 0px 1px 3px 1px rgba(60, 64, 67, 0.15);\n",
              "      fill: #174EA6;\n",
              "    }\n",
              "\n",
              "    [theme=dark] .colab-df-convert {\n",
              "      background-color: #3B4455;\n",
              "      fill: #D2E3FC;\n",
              "    }\n",
              "\n",
              "    [theme=dark] .colab-df-convert:hover {\n",
              "      background-color: #434B5C;\n",
              "      box-shadow: 0px 1px 3px 1px rgba(0, 0, 0, 0.15);\n",
              "      filter: drop-shadow(0px 1px 2px rgba(0, 0, 0, 0.3));\n",
              "      fill: #FFFFFF;\n",
              "    }\n",
              "  </style>\n",
              "\n",
              "      <script>\n",
              "        const buttonEl =\n",
              "          document.querySelector('#df-1edea96c-9c31-41c7-850f-5194d2b8937c button.colab-df-convert');\n",
              "        buttonEl.style.display =\n",
              "          google.colab.kernel.accessAllowed ? 'block' : 'none';\n",
              "\n",
              "        async function convertToInteractive(key) {\n",
              "          const element = document.querySelector('#df-1edea96c-9c31-41c7-850f-5194d2b8937c');\n",
              "          const dataTable =\n",
              "            await google.colab.kernel.invokeFunction('convertToInteractive',\n",
              "                                                     [key], {});\n",
              "          if (!dataTable) return;\n",
              "\n",
              "          const docLinkHtml = 'Like what you see? Visit the ' +\n",
              "            '<a target=\"_blank\" href=https://colab.research.google.com/notebooks/data_table.ipynb>data table notebook</a>'\n",
              "            + ' to learn more about interactive tables.';\n",
              "          element.innerHTML = '';\n",
              "          dataTable['output_type'] = 'display_data';\n",
              "          await google.colab.output.renderOutput(dataTable, element);\n",
              "          const docLink = document.createElement('div');\n",
              "          docLink.innerHTML = docLinkHtml;\n",
              "          element.appendChild(docLink);\n",
              "        }\n",
              "      </script>\n",
              "    </div>\n",
              "  </div>\n",
              "  "
            ]
          },
          "metadata": {},
          "execution_count": 128
        }
      ],
      "source": [
        "dataset.describe()"
      ]
    },
    {
      "cell_type": "code",
      "execution_count": null,
      "id": "efeeffa2",
      "metadata": {
        "execution": {
          "iopub.execute_input": "2023-01-10T20:12:59.898349Z",
          "iopub.status.busy": "2023-01-10T20:12:59.897308Z",
          "iopub.status.idle": "2023-01-10T20:12:59.907135Z",
          "shell.execute_reply": "2023-01-10T20:12:59.905756Z"
        },
        "papermill": {
          "duration": 0.024745,
          "end_time": "2023-01-10T20:12:59.909534",
          "exception": false,
          "start_time": "2023-01-10T20:12:59.884789",
          "status": "completed"
        },
        "tags": [],
        "colab": {
          "base_uri": "https://localhost:8080/"
        },
        "id": "efeeffa2",
        "outputId": "48634285-7fe6-4c5f-c82a-0e73ffaff4f1"
      },
      "outputs": [
        {
          "output_type": "execute_result",
          "data": {
            "text/plain": [
              "Id                 0\n",
              "MSSubClass         0\n",
              "MSZoning           0\n",
              "LotFrontage      259\n",
              "LotArea            0\n",
              "                ... \n",
              "MoSold             0\n",
              "YrSold             0\n",
              "SaleType           0\n",
              "SaleCondition      0\n",
              "SalePrice          0\n",
              "Length: 81, dtype: int64"
            ]
          },
          "metadata": {},
          "execution_count": 129
        }
      ],
      "source": [
        "dataset.isnull().sum()"
      ]
    },
    {
      "cell_type": "code",
      "source": [
        "dataset.columns[dataset.isna().any()].tolist()"
      ],
      "metadata": {
        "colab": {
          "base_uri": "https://localhost:8080/"
        },
        "id": "-hrLupYiTxIw",
        "outputId": "6c10495a-ea95-4d7a-bc04-d7ca1bb1693d"
      },
      "id": "-hrLupYiTxIw",
      "execution_count": null,
      "outputs": [
        {
          "output_type": "execute_result",
          "data": {
            "text/plain": [
              "['LotFrontage', 'MasVnrArea', 'GarageYrBlt']"
            ]
          },
          "metadata": {},
          "execution_count": 130
        }
      ]
    },
    {
      "cell_type": "markdown",
      "source": [
        "как видим, у нас есть нули, поэтому давайте их заменим на среднее значение"
      ],
      "metadata": {
        "id": "VmPtAVJ4aeSm"
      },
      "id": "VmPtAVJ4aeSm"
    },
    {
      "cell_type": "code",
      "source": [
        "dataset['LotFrontage'] = dataset['LotFrontage'].fillna(dataset['LotFrontage'].mean())\n",
        "dataset['MasVnrArea'] = dataset['MasVnrArea'].fillna(dataset['MasVnrArea'].mean())\n",
        "dataset['GarageYrBlt'] = dataset['GarageYrBlt'].fillna(dataset['GarageYrBlt'].mean())"
      ],
      "metadata": {
        "id": "Oty4af14UFi1"
      },
      "id": "Oty4af14UFi1",
      "execution_count": null,
      "outputs": []
    },
    {
      "cell_type": "code",
      "source": [
        "dataset.columns[dataset.isna().any()].tolist()"
      ],
      "metadata": {
        "colab": {
          "base_uri": "https://localhost:8080/"
        },
        "id": "1aqlsW0HUa_l",
        "outputId": "3bba1978-4796-452f-a11f-10e855af8245"
      },
      "id": "1aqlsW0HUa_l",
      "execution_count": null,
      "outputs": [
        {
          "output_type": "execute_result",
          "data": {
            "text/plain": [
              "[]"
            ]
          },
          "metadata": {},
          "execution_count": 132
        }
      ]
    },
    {
      "cell_type": "code",
      "execution_count": null,
      "id": "89af0f9a",
      "metadata": {
        "execution": {
          "iopub.execute_input": "2023-01-10T20:12:59.934427Z",
          "iopub.status.busy": "2023-01-10T20:12:59.933191Z",
          "iopub.status.idle": "2023-01-10T20:12:59.943248Z",
          "shell.execute_reply": "2023-01-10T20:12:59.942109Z"
        },
        "papermill": {
          "duration": 0.024776,
          "end_time": "2023-01-10T20:12:59.945710",
          "exception": false,
          "start_time": "2023-01-10T20:12:59.920934",
          "status": "completed"
        },
        "tags": [],
        "colab": {
          "base_uri": "https://localhost:8080/"
        },
        "id": "89af0f9a",
        "outputId": "f85f84fc-4d22-4db0-90e1-0eea4d1c64e1"
      },
      "outputs": [
        {
          "output_type": "execute_result",
          "data": {
            "text/plain": [
              "0"
            ]
          },
          "metadata": {},
          "execution_count": 133
        }
      ],
      "source": [
        "dataset.isnull().sum().sum() "
      ]
    },
    {
      "cell_type": "code",
      "execution_count": null,
      "id": "ec0b4e3e",
      "metadata": {
        "execution": {
          "iopub.execute_input": "2023-01-10T20:12:59.971633Z",
          "iopub.status.busy": "2023-01-10T20:12:59.971147Z",
          "iopub.status.idle": "2023-01-10T20:12:59.989282Z",
          "shell.execute_reply": "2023-01-10T20:12:59.987725Z"
        },
        "papermill": {
          "duration": 0.034942,
          "end_time": "2023-01-10T20:12:59.992343",
          "exception": false,
          "start_time": "2023-01-10T20:12:59.957401",
          "status": "completed"
        },
        "tags": [],
        "colab": {
          "base_uri": "https://localhost:8080/"
        },
        "id": "ec0b4e3e",
        "outputId": "d3122632-3457-4d2c-b04b-d1e0531acda3"
      },
      "outputs": [
        {
          "output_type": "stream",
          "name": "stdout",
          "text": [
            "<class 'pandas.core.frame.DataFrame'>\n",
            "RangeIndex: 1460 entries, 0 to 1459\n",
            "Data columns (total 81 columns):\n",
            " #   Column         Non-Null Count  Dtype  \n",
            "---  ------         --------------  -----  \n",
            " 0   Id             1460 non-null   int64  \n",
            " 1   MSSubClass     1460 non-null   int64  \n",
            " 2   MSZoning       1460 non-null   object \n",
            " 3   LotFrontage    1460 non-null   float64\n",
            " 4   LotArea        1460 non-null   int64  \n",
            " 5   Street         1460 non-null   object \n",
            " 6   Alley          1460 non-null   object \n",
            " 7   LotShape       1460 non-null   object \n",
            " 8   LandContour    1460 non-null   object \n",
            " 9   Utilities      1460 non-null   object \n",
            " 10  LotConfig      1460 non-null   object \n",
            " 11  LandSlope      1460 non-null   object \n",
            " 12  Neighborhood   1460 non-null   object \n",
            " 13  Condition1     1460 non-null   object \n",
            " 14  Condition2     1460 non-null   object \n",
            " 15  BldgType       1460 non-null   object \n",
            " 16  HouseStyle     1460 non-null   object \n",
            " 17  OverallQual    1460 non-null   int64  \n",
            " 18  OverallCond    1460 non-null   int64  \n",
            " 19  YearBuilt      1460 non-null   int64  \n",
            " 20  YearRemodAdd   1460 non-null   int64  \n",
            " 21  RoofStyle      1460 non-null   object \n",
            " 22  RoofMatl       1460 non-null   object \n",
            " 23  Exterior1st    1460 non-null   object \n",
            " 24  Exterior2nd    1460 non-null   object \n",
            " 25  MasVnrType     1460 non-null   object \n",
            " 26  MasVnrArea     1460 non-null   float64\n",
            " 27  ExterQual      1460 non-null   object \n",
            " 28  ExterCond      1460 non-null   object \n",
            " 29  Foundation     1460 non-null   object \n",
            " 30  BsmtQual       1460 non-null   object \n",
            " 31  BsmtCond       1460 non-null   object \n",
            " 32  BsmtExposure   1460 non-null   object \n",
            " 33  BsmtFinType1   1460 non-null   object \n",
            " 34  BsmtFinSF1     1460 non-null   int64  \n",
            " 35  BsmtFinType2   1460 non-null   object \n",
            " 36  BsmtFinSF2     1460 non-null   int64  \n",
            " 37  BsmtUnfSF      1460 non-null   int64  \n",
            " 38  TotalBsmtSF    1460 non-null   int64  \n",
            " 39  Heating        1460 non-null   object \n",
            " 40  HeatingQC      1460 non-null   object \n",
            " 41  CentralAir     1460 non-null   object \n",
            " 42  Electrical     1460 non-null   object \n",
            " 43  1stFlrSF       1460 non-null   int64  \n",
            " 44  2ndFlrSF       1460 non-null   int64  \n",
            " 45  LowQualFinSF   1460 non-null   int64  \n",
            " 46  GrLivArea      1460 non-null   int64  \n",
            " 47  BsmtFullBath   1460 non-null   int64  \n",
            " 48  BsmtHalfBath   1460 non-null   int64  \n",
            " 49  FullBath       1460 non-null   int64  \n",
            " 50  HalfBath       1460 non-null   int64  \n",
            " 51  BedroomAbvGr   1460 non-null   int64  \n",
            " 52  KitchenAbvGr   1460 non-null   int64  \n",
            " 53  KitchenQual    1460 non-null   object \n",
            " 54  TotRmsAbvGrd   1460 non-null   int64  \n",
            " 55  Functional     1460 non-null   object \n",
            " 56  Fireplaces     1460 non-null   int64  \n",
            " 57  FireplaceQu    1460 non-null   object \n",
            " 58  GarageType     1460 non-null   object \n",
            " 59  GarageYrBlt    1460 non-null   float64\n",
            " 60  GarageFinish   1460 non-null   object \n",
            " 61  GarageCars     1460 non-null   int64  \n",
            " 62  GarageArea     1460 non-null   int64  \n",
            " 63  GarageQual     1460 non-null   object \n",
            " 64  GarageCond     1460 non-null   object \n",
            " 65  PavedDrive     1460 non-null   object \n",
            " 66  WoodDeckSF     1460 non-null   int64  \n",
            " 67  OpenPorchSF    1460 non-null   int64  \n",
            " 68  EnclosedPorch  1460 non-null   int64  \n",
            " 69  3SsnPorch      1460 non-null   int64  \n",
            " 70  ScreenPorch    1460 non-null   int64  \n",
            " 71  PoolArea       1460 non-null   int64  \n",
            " 72  PoolQC         1460 non-null   object \n",
            " 73  Fence          1460 non-null   object \n",
            " 74  MiscFeature    1460 non-null   object \n",
            " 75  MiscVal        1460 non-null   int64  \n",
            " 76  MoSold         1460 non-null   int64  \n",
            " 77  YrSold         1460 non-null   int64  \n",
            " 78  SaleType       1460 non-null   object \n",
            " 79  SaleCondition  1460 non-null   object \n",
            " 80  SalePrice      1460 non-null   int64  \n",
            "dtypes: float64(3), int64(35), object(43)\n",
            "memory usage: 4.1 MB\n"
          ]
        }
      ],
      "source": [
        "dataset.info(memory_usage='deep')"
      ]
    },
    {
      "cell_type": "code",
      "execution_count": null,
      "id": "7bdb55f3",
      "metadata": {
        "execution": {
          "iopub.execute_input": "2023-01-10T20:13:00.044126Z",
          "iopub.status.busy": "2023-01-10T20:13:00.043261Z",
          "iopub.status.idle": "2023-01-10T20:13:00.057335Z",
          "shell.execute_reply": "2023-01-10T20:13:00.055963Z"
        },
        "papermill": {
          "duration": 0.031181,
          "end_time": "2023-01-10T20:13:00.060667",
          "exception": false,
          "start_time": "2023-01-10T20:13:00.029486",
          "status": "completed"
        },
        "tags": [],
        "colab": {
          "base_uri": "https://localhost:8080/"
        },
        "id": "7bdb55f3",
        "outputId": "848ed117-d368-4f3c-d956-2efcd08a048e"
      },
      "outputs": [
        {
          "output_type": "execute_result",
          "data": {
            "text/plain": [
              "Id               1460\n",
              "MSSubClass         15\n",
              "MSZoning            5\n",
              "LotFrontage       111\n",
              "LotArea          1073\n",
              "                 ... \n",
              "MoSold             12\n",
              "YrSold              5\n",
              "SaleType            9\n",
              "SaleCondition       6\n",
              "SalePrice         663\n",
              "Length: 81, dtype: int64"
            ]
          },
          "metadata": {},
          "execution_count": 135
        }
      ],
      "source": [
        "dataset.nunique()"
      ]
    },
    {
      "cell_type": "code",
      "execution_count": null,
      "id": "b0d47d78",
      "metadata": {
        "execution": {
          "iopub.execute_input": "2023-01-10T20:13:00.088802Z",
          "iopub.status.busy": "2023-01-10T20:13:00.088381Z",
          "iopub.status.idle": "2023-01-10T20:13:00.095799Z",
          "shell.execute_reply": "2023-01-10T20:13:00.094349Z"
        },
        "papermill": {
          "duration": 0.025582,
          "end_time": "2023-01-10T20:13:00.098348",
          "exception": false,
          "start_time": "2023-01-10T20:13:00.072766",
          "status": "completed"
        },
        "tags": [],
        "id": "b0d47d78"
      },
      "outputs": [],
      "source": [
        "# Видно, что некоторые признаки можно категоризировать\n",
        "dataset['YrSold'] = dataset['YrSold'].astype('category')\n",
        "dataset['SaleCondition'] = dataset['SaleCondition'].astype('category')"
      ]
    },
    {
      "cell_type": "code",
      "source": [
        "dataset.info(memory_usage='deep')"
      ],
      "metadata": {
        "colab": {
          "base_uri": "https://localhost:8080/"
        },
        "id": "MoNTtTmhMr6F",
        "outputId": "61ddd319-38ff-4b00-8255-6c34deb82334"
      },
      "id": "MoNTtTmhMr6F",
      "execution_count": null,
      "outputs": [
        {
          "output_type": "stream",
          "name": "stdout",
          "text": [
            "<class 'pandas.core.frame.DataFrame'>\n",
            "RangeIndex: 1460 entries, 0 to 1459\n",
            "Data columns (total 81 columns):\n",
            " #   Column         Non-Null Count  Dtype   \n",
            "---  ------         --------------  -----   \n",
            " 0   Id             1460 non-null   int64   \n",
            " 1   MSSubClass     1460 non-null   int64   \n",
            " 2   MSZoning       1460 non-null   object  \n",
            " 3   LotFrontage    1460 non-null   float64 \n",
            " 4   LotArea        1460 non-null   int64   \n",
            " 5   Street         1460 non-null   object  \n",
            " 6   Alley          1460 non-null   object  \n",
            " 7   LotShape       1460 non-null   object  \n",
            " 8   LandContour    1460 non-null   object  \n",
            " 9   Utilities      1460 non-null   object  \n",
            " 10  LotConfig      1460 non-null   object  \n",
            " 11  LandSlope      1460 non-null   object  \n",
            " 12  Neighborhood   1460 non-null   object  \n",
            " 13  Condition1     1460 non-null   object  \n",
            " 14  Condition2     1460 non-null   object  \n",
            " 15  BldgType       1460 non-null   object  \n",
            " 16  HouseStyle     1460 non-null   object  \n",
            " 17  OverallQual    1460 non-null   int64   \n",
            " 18  OverallCond    1460 non-null   int64   \n",
            " 19  YearBuilt      1460 non-null   int64   \n",
            " 20  YearRemodAdd   1460 non-null   int64   \n",
            " 21  RoofStyle      1460 non-null   object  \n",
            " 22  RoofMatl       1460 non-null   object  \n",
            " 23  Exterior1st    1460 non-null   object  \n",
            " 24  Exterior2nd    1460 non-null   object  \n",
            " 25  MasVnrType     1460 non-null   object  \n",
            " 26  MasVnrArea     1460 non-null   float64 \n",
            " 27  ExterQual      1460 non-null   object  \n",
            " 28  ExterCond      1460 non-null   object  \n",
            " 29  Foundation     1460 non-null   object  \n",
            " 30  BsmtQual       1460 non-null   object  \n",
            " 31  BsmtCond       1460 non-null   object  \n",
            " 32  BsmtExposure   1460 non-null   object  \n",
            " 33  BsmtFinType1   1460 non-null   object  \n",
            " 34  BsmtFinSF1     1460 non-null   int64   \n",
            " 35  BsmtFinType2   1460 non-null   object  \n",
            " 36  BsmtFinSF2     1460 non-null   int64   \n",
            " 37  BsmtUnfSF      1460 non-null   int64   \n",
            " 38  TotalBsmtSF    1460 non-null   int64   \n",
            " 39  Heating        1460 non-null   object  \n",
            " 40  HeatingQC      1460 non-null   object  \n",
            " 41  CentralAir     1460 non-null   object  \n",
            " 42  Electrical     1460 non-null   object  \n",
            " 43  1stFlrSF       1460 non-null   int64   \n",
            " 44  2ndFlrSF       1460 non-null   int64   \n",
            " 45  LowQualFinSF   1460 non-null   int64   \n",
            " 46  GrLivArea      1460 non-null   int64   \n",
            " 47  BsmtFullBath   1460 non-null   int64   \n",
            " 48  BsmtHalfBath   1460 non-null   int64   \n",
            " 49  FullBath       1460 non-null   int64   \n",
            " 50  HalfBath       1460 non-null   int64   \n",
            " 51  BedroomAbvGr   1460 non-null   int64   \n",
            " 52  KitchenAbvGr   1460 non-null   int64   \n",
            " 53  KitchenQual    1460 non-null   object  \n",
            " 54  TotRmsAbvGrd   1460 non-null   int64   \n",
            " 55  Functional     1460 non-null   object  \n",
            " 56  Fireplaces     1460 non-null   int64   \n",
            " 57  FireplaceQu    1460 non-null   object  \n",
            " 58  GarageType     1460 non-null   object  \n",
            " 59  GarageYrBlt    1460 non-null   float64 \n",
            " 60  GarageFinish   1460 non-null   object  \n",
            " 61  GarageCars     1460 non-null   int64   \n",
            " 62  GarageArea     1460 non-null   int64   \n",
            " 63  GarageQual     1460 non-null   object  \n",
            " 64  GarageCond     1460 non-null   object  \n",
            " 65  PavedDrive     1460 non-null   object  \n",
            " 66  WoodDeckSF     1460 non-null   int64   \n",
            " 67  OpenPorchSF    1460 non-null   int64   \n",
            " 68  EnclosedPorch  1460 non-null   int64   \n",
            " 69  3SsnPorch      1460 non-null   int64   \n",
            " 70  ScreenPorch    1460 non-null   int64   \n",
            " 71  PoolArea       1460 non-null   int64   \n",
            " 72  PoolQC         1460 non-null   object  \n",
            " 73  Fence          1460 non-null   object  \n",
            " 74  MiscFeature    1460 non-null   object  \n",
            " 75  MiscVal        1460 non-null   int64   \n",
            " 76  MoSold         1460 non-null   int64   \n",
            " 77  YrSold         1460 non-null   category\n",
            " 78  SaleType       1460 non-null   object  \n",
            " 79  SaleCondition  1460 non-null   category\n",
            " 80  SalePrice      1460 non-null   int64   \n",
            "dtypes: category(2), float64(3), int64(34), object(42)\n",
            "memory usage: 4.0 MB\n"
          ]
        }
      ]
    },
    {
      "cell_type": "markdown",
      "id": "975f4980",
      "metadata": {
        "papermill": {
          "duration": 0.012034,
          "end_time": "2023-01-10T20:13:00.168103",
          "exception": false,
          "start_time": "2023-01-10T20:13:00.156069",
          "status": "completed"
        },
        "tags": [],
        "id": "975f4980"
      },
      "source": [
        "## Графики"
      ]
    },
    {
      "cell_type": "code",
      "execution_count": null,
      "id": "5b468095",
      "metadata": {
        "execution": {
          "iopub.execute_input": "2023-01-10T20:13:00.193893Z",
          "iopub.status.busy": "2023-01-10T20:13:00.193445Z",
          "iopub.status.idle": "2023-01-10T20:13:00.498644Z",
          "shell.execute_reply": "2023-01-10T20:13:00.497715Z"
        },
        "papermill": {
          "duration": 0.321522,
          "end_time": "2023-01-10T20:13:00.501461",
          "exception": false,
          "start_time": "2023-01-10T20:13:00.179939",
          "status": "completed"
        },
        "tags": [],
        "colab": {
          "base_uri": "https://localhost:8080/",
          "height": 296
        },
        "id": "5b468095",
        "outputId": "ec0e0c99-ad73-42d4-b475-df3318c4e72f"
      },
      "outputs": [
        {
          "output_type": "execute_result",
          "data": {
            "text/plain": [
              "<matplotlib.axes._subplots.AxesSubplot at 0x7fb0ada42550>"
            ]
          },
          "metadata": {},
          "execution_count": 138
        },
        {
          "output_type": "display_data",
          "data": {
            "text/plain": [
              "<Figure size 432x288 with 1 Axes>"
            ],
            "image/png": "[encoded data removed]"
          },
          "metadata": {
            "needs_background": "light"
          }
        }
      ],
      "source": [
        "sns.scatterplot(x=dataset['SalePrice'],y=dataset['YrSold'])"
      ]
    },
    {
      "cell_type": "code",
      "execution_count": null,
      "id": "cfa6a81a",
      "metadata": {
        "execution": {
          "iopub.execute_input": "2023-01-10T20:13:00.530237Z",
          "iopub.status.busy": "2023-01-10T20:13:00.529313Z",
          "iopub.status.idle": "2023-01-10T20:13:00.966138Z",
          "shell.execute_reply": "2023-01-10T20:13:00.964752Z"
        },
        "papermill": {
          "duration": 0.453864,
          "end_time": "2023-01-10T20:13:00.968661",
          "exception": false,
          "start_time": "2023-01-10T20:13:00.514797",
          "status": "completed"
        },
        "tags": [],
        "colab": {
          "base_uri": "https://localhost:8080/",
          "height": 297
        },
        "id": "cfa6a81a",
        "outputId": "544746dc-cc43-4630-d4d1-db124c19e6ac"
      },
      "outputs": [
        {
          "output_type": "execute_result",
          "data": {
            "text/plain": [
              "<matplotlib.axes._subplots.AxesSubplot at 0x7fb0ad6b51f0>"
            ]
          },
          "metadata": {},
          "execution_count": 139
        },
        {
          "output_type": "display_data",
          "data": {
            "text/plain": [
              "<Figure size 432x288 with 1 Axes>"
            ],
            "image/png": "[encoded data removed]"
          },
          "metadata": {
            "needs_background": "light"
          }
        }
      ],
      "source": [
        "sns.regplot(x=dataset['SalePrice'],y=dataset['MiscVal'])"
      ]
    },
    {
      "cell_type": "code",
      "execution_count": null,
      "id": "28782b57",
      "metadata": {
        "execution": {
          "iopub.execute_input": "2023-01-10T20:13:00.997340Z",
          "iopub.status.busy": "2023-01-10T20:13:00.996926Z",
          "iopub.status.idle": "2023-01-10T20:13:01.258941Z",
          "shell.execute_reply": "2023-01-10T20:13:01.257627Z"
        },
        "papermill": {
          "duration": 0.279697,
          "end_time": "2023-01-10T20:13:01.261516",
          "exception": false,
          "start_time": "2023-01-10T20:13:00.981819",
          "status": "completed"
        },
        "tags": [],
        "colab": {
          "base_uri": "https://localhost:8080/",
          "height": 296
        },
        "id": "28782b57",
        "outputId": "6109602e-e4d9-4a59-b876-44e0f08306c0"
      },
      "outputs": [
        {
          "output_type": "execute_result",
          "data": {
            "text/plain": [
              "<matplotlib.axes._subplots.AxesSubplot at 0x7fb0ad617760>"
            ]
          },
          "metadata": {},
          "execution_count": 140
        },
        {
          "output_type": "display_data",
          "data": {
            "text/plain": [
              "<Figure size 432x288 with 1 Axes>"
            ],
            "image/png": "[encoded data removed]"
          },
          "metadata": {
            "needs_background": "light"
          }
        }
      ],
      "source": [
        "sns.regplot(x=dataset['SalePrice'],y=dataset['MoSold'], data=dataset, order=3, ci=None)\n"
      ]
    },
    {
      "cell_type": "markdown",
      "id": "699084a1",
      "metadata": {
        "papermill": {
          "duration": 0.014066,
          "end_time": "2023-01-10T20:13:01.290088",
          "exception": false,
          "start_time": "2023-01-10T20:13:01.276022",
          "status": "completed"
        },
        "tags": [],
        "id": "699084a1"
      },
      "source": [
        "## Регрессия Pytorch"
      ]
    },
    {
      "cell_type": "code",
      "execution_count": null,
      "id": "5a888426",
      "metadata": {
        "execution": {
          "iopub.execute_input": "2023-01-10T20:13:01.323307Z",
          "iopub.status.busy": "2023-01-10T20:13:01.322297Z",
          "iopub.status.idle": "2023-01-10T20:13:01.329770Z",
          "shell.execute_reply": "2023-01-10T20:13:01.328541Z"
        },
        "papermill": {
          "duration": 0.02635,
          "end_time": "2023-01-10T20:13:01.332255",
          "exception": false,
          "start_time": "2023-01-10T20:13:01.305905",
          "status": "completed"
        },
        "tags": [],
        "colab": {
          "base_uri": "https://localhost:8080/"
        },
        "id": "5a888426",
        "outputId": "edfaad65-786b-4620-bc3d-2375b5f169f0"
      },
      "outputs": [
        {
          "output_type": "execute_result",
          "data": {
            "text/plain": [
              "Index(['Id', 'MSSubClass', 'MSZoning', 'LotFrontage', 'LotArea', 'Street',\n",
              "       'Alley', 'LotShape', 'LandContour', 'Utilities', 'LotConfig',\n",
              "       'LandSlope', 'Neighborhood', 'Condition1', 'Condition2', 'BldgType',\n",
              "       'HouseStyle', 'OverallQual', 'OverallCond', 'YearBuilt', 'YearRemodAdd',\n",
              "       'RoofStyle', 'RoofMatl', 'Exterior1st', 'Exterior2nd', 'MasVnrType',\n",
              "       'MasVnrArea', 'ExterQual', 'ExterCond', 'Foundation', 'BsmtQual',\n",
              "       'BsmtCond', 'BsmtExposure', 'BsmtFinType1', 'BsmtFinSF1',\n",
              "       'BsmtFinType2', 'BsmtFinSF2', 'BsmtUnfSF', 'TotalBsmtSF', 'Heating',\n",
              "       'HeatingQC', 'CentralAir', 'Electrical', '1stFlrSF', '2ndFlrSF',\n",
              "       'LowQualFinSF', 'GrLivArea', 'BsmtFullBath', 'BsmtHalfBath', 'FullBath',\n",
              "       'HalfBath', 'BedroomAbvGr', 'KitchenAbvGr', 'KitchenQual',\n",
              "       'TotRmsAbvGrd', 'Functional', 'Fireplaces', 'FireplaceQu', 'GarageType',\n",
              "       'GarageYrBlt', 'GarageFinish', 'GarageCars', 'GarageArea', 'GarageQual',\n",
              "       'GarageCond', 'PavedDrive', 'WoodDeckSF', 'OpenPorchSF',\n",
              "       'EnclosedPorch', '3SsnPorch', 'ScreenPorch', 'PoolArea', 'PoolQC',\n",
              "       'Fence', 'MiscFeature', 'MiscVal', 'MoSold', 'YrSold', 'SaleType',\n",
              "       'SaleCondition', 'SalePrice'],\n",
              "      dtype='object')"
            ]
          },
          "metadata": {},
          "execution_count": 141
        }
      ],
      "source": [
        "dataset.columns"
      ]
    },
    {
      "cell_type": "code",
      "execution_count": null,
      "id": "1d70296b",
      "metadata": {
        "execution": {
          "iopub.execute_input": "2023-01-10T20:13:01.364266Z",
          "iopub.status.busy": "2023-01-10T20:13:01.363081Z",
          "iopub.status.idle": "2023-01-10T20:13:01.369005Z",
          "shell.execute_reply": "2023-01-10T20:13:01.367841Z"
        },
        "papermill": {
          "duration": 0.024894,
          "end_time": "2023-01-10T20:13:01.371989",
          "exception": false,
          "start_time": "2023-01-10T20:13:01.347095",
          "status": "completed"
        },
        "tags": [],
        "id": "1d70296b"
      },
      "outputs": [],
      "source": [
        "looking_for = 'SalePrice'"
      ]
    },
    {
      "cell_type": "code",
      "source": [
        "encoder = preprocessing.LabelEncoder()\n",
        "for y in dataset.columns:\n",
        "    if(dataset[y].dtype == np.object or dataset[y].dtype == \"category\"):\n",
        "      dataset[y]= encoder.fit_transform(dataset[y])\n"
      ],
      "metadata": {
        "id": "phUGhs-iPnKx"
      },
      "id": "phUGhs-iPnKx",
      "execution_count": null,
      "outputs": []
    },
    {
      "cell_type": "code",
      "execution_count": null,
      "id": "c221abea",
      "metadata": {
        "execution": {
          "iopub.execute_input": "2023-01-10T20:13:01.402458Z",
          "iopub.status.busy": "2023-01-10T20:13:01.401991Z",
          "iopub.status.idle": "2023-01-10T20:13:01.408125Z",
          "shell.execute_reply": "2023-01-10T20:13:01.407228Z"
        },
        "papermill": {
          "duration": 0.024762,
          "end_time": "2023-01-10T20:13:01.411016",
          "exception": false,
          "start_time": "2023-01-10T20:13:01.386254",
          "status": "completed"
        },
        "tags": [],
        "id": "c221abea"
      },
      "outputs": [],
      "source": [
        "X = dataset.drop(labels=[looking_for], axis=1)\n",
        "y = dataset[looking_for]\n"
      ]
    },
    {
      "cell_type": "code",
      "execution_count": null,
      "id": "d817fd0a",
      "metadata": {
        "execution": {
          "iopub.execute_input": "2023-01-10T20:13:01.443104Z",
          "iopub.status.busy": "2023-01-10T20:13:01.442393Z",
          "iopub.status.idle": "2023-01-10T20:13:01.451973Z",
          "shell.execute_reply": "2023-01-10T20:13:01.451038Z"
        },
        "papermill": {
          "duration": 0.028276,
          "end_time": "2023-01-10T20:13:01.454610",
          "exception": false,
          "start_time": "2023-01-10T20:13:01.426334",
          "status": "completed"
        },
        "tags": [],
        "id": "d817fd0a"
      },
      "outputs": [],
      "source": [
        "sscaler = preprocessing.StandardScaler()\n",
        "X_std= sscaler.fit_transform(X)"
      ]
    },
    {
      "cell_type": "code",
      "execution_count": null,
      "id": "ec1e9839",
      "metadata": {
        "execution": {
          "iopub.execute_input": "2023-01-10T20:13:01.485130Z",
          "iopub.status.busy": "2023-01-10T20:13:01.484306Z",
          "iopub.status.idle": "2023-01-10T20:13:01.493695Z",
          "shell.execute_reply": "2023-01-10T20:13:01.492539Z"
        },
        "papermill": {
          "duration": 0.027247,
          "end_time": "2023-01-10T20:13:01.495969",
          "exception": false,
          "start_time": "2023-01-10T20:13:01.468722",
          "status": "completed"
        },
        "tags": [],
        "colab": {
          "base_uri": "https://localhost:8080/"
        },
        "id": "ec1e9839",
        "outputId": "23146c76-7db6-4b63-8528-1edfcde758f6"
      },
      "outputs": [
        {
          "output_type": "execute_result",
          "data": {
            "text/plain": [
              "(1022, 80)"
            ]
          },
          "metadata": {},
          "execution_count": 146
        }
      ],
      "source": [
        "X_train,X_test,y_train,y_test=train_test_split(X_std,y,test_size=0.3,random_state=42)\n",
        "X_train.shape"
      ]
    },
    {
      "cell_type": "code",
      "execution_count": null,
      "id": "d73965e1",
      "metadata": {
        "execution": {
          "iopub.execute_input": "2023-01-10T20:13:01.583684Z",
          "iopub.status.busy": "2023-01-10T20:13:01.582892Z",
          "iopub.status.idle": "2023-01-10T20:13:01.598424Z",
          "shell.execute_reply": "2023-01-10T20:13:01.597137Z"
        },
        "papermill": {
          "duration": 0.034686,
          "end_time": "2023-01-10T20:13:01.601952",
          "exception": false,
          "start_time": "2023-01-10T20:13:01.567266",
          "status": "completed"
        },
        "tags": [],
        "colab": {
          "base_uri": "https://localhost:8080/"
        },
        "id": "d73965e1",
        "outputId": "10c4ae19-a01e-4969-eb4f-721c744b5313"
      },
      "outputs": [
        {
          "output_type": "stream",
          "name": "stdout",
          "text": [
            "NN(\n",
            "  (layer1): Linear(in_features=80, out_features=80, bias=True)\n",
            "  (layer3): Linear(in_features=80, out_features=60, bias=True)\n",
            "  (layer4): Linear(in_features=60, out_features=40, bias=True)\n",
            "  (layer5): Linear(in_features=40, out_features=20, bias=True)\n",
            "  (layer6): Linear(in_features=20, out_features=1, bias=True)\n",
            ")\n"
          ]
        }
      ],
      "source": [
        "class NN(nn.Module):\n",
        "  def __init__(self):\n",
        "    super(NN,self).__init__()\n",
        "    self.layer1=nn.Linear(X_train.shape[1],80) \n",
        "    self.layer2=nn.Linear(80,60) \n",
        "    self.layer3=nn.Linear(60,40) \n",
        "    self.layer4=nn.Linear(40,20) \n",
        "    self.layer5=nn.Linear(20,1) \n",
        "\n",
        "    \n",
        "  def forward(self,x):\n",
        "    x=F.relu(self.layer1(x))\n",
        "    x=F.relu(self.layer2(x))\n",
        "    x=F.relu(self.layer3(x))\n",
        "    x=F.relu(self.layer4(x))\n",
        "    x=self.layer5(x)\n",
        "    return x\n",
        "model = NN()\n",
        "print(model)"
      ]
    },
    {
      "cell_type": "code",
      "execution_count": null,
      "id": "0e86946c",
      "metadata": {
        "execution": {
          "iopub.execute_input": "2023-01-10T20:13:01.632457Z",
          "iopub.status.busy": "2023-01-10T20:13:01.632050Z",
          "iopub.status.idle": "2023-01-10T20:13:01.643444Z",
          "shell.execute_reply": "2023-01-10T20:13:01.642416Z"
        },
        "papermill": {
          "duration": 0.029645,
          "end_time": "2023-01-10T20:13:01.646049",
          "exception": false,
          "start_time": "2023-01-10T20:13:01.616404",
          "status": "completed"
        },
        "tags": [],
        "colab": {
          "base_uri": "https://localhost:8080/"
        },
        "id": "0e86946c",
        "outputId": "83ef740b-15a9-4a34-feb8-b05a8948c749"
      },
      "outputs": [
        {
          "output_type": "execute_result",
          "data": {
            "text/plain": [
              "tensor([[-1.4106, -0.8726, -0.0455,  ...,  0.1388,  0.3139,  0.2085],\n",
              "        [ 1.7143,  2.9112,  1.5372,  ..., -1.3677,  0.3139,  0.2085],\n",
              "        [ 0.0771,  0.0734, -3.2111,  ...,  1.6452, -3.5532,  0.2085],\n",
              "        ...,\n",
              "        [ 1.3394, -0.8726, -0.0455,  ..., -1.3677,  0.3139,  0.2085],\n",
              "        [ 0.3096, -0.1631, -0.0455,  ..., -0.6144,  0.3139,  0.2085],\n",
              "        [ 0.9408,  1.4923, -0.0455,  ...,  0.8920,  0.3139,  0.2085]],\n",
              "       requires_grad=True)"
            ]
          },
          "metadata": {},
          "execution_count": 229
        }
      ],
      "source": [
        "x=torch.tensor(np.array(X_train),dtype=torch.float32,requires_grad=True)\n",
        "y=torch.tensor(np.array(y_train).reshape(-1,1),dtype=torch.float32)\n",
        "x"
      ]
    },
    {
      "cell_type": "code",
      "execution_count": null,
      "id": "7d366db1",
      "metadata": {
        "execution": {
          "iopub.execute_input": "2023-01-10T20:13:01.710822Z",
          "iopub.status.busy": "2023-01-10T20:13:01.709808Z",
          "iopub.status.idle": "2023-01-10T20:13:01.715941Z",
          "shell.execute_reply": "2023-01-10T20:13:01.715123Z"
        },
        "papermill": {
          "duration": 0.023825,
          "end_time": "2023-01-10T20:13:01.718307",
          "exception": false,
          "start_time": "2023-01-10T20:13:01.694482",
          "status": "completed"
        },
        "tags": [],
        "id": "7d366db1"
      },
      "outputs": [],
      "source": [
        "#import torch.optim as optim\n",
        "loss_fn=nn.MSELoss()\n",
        "optimizer= torch.optim.SGD(model.parameters(),lr=0.000000001) "
      ]
    },
    {
      "cell_type": "code",
      "execution_count": null,
      "id": "f10dcaec",
      "metadata": {
        "execution": {
          "iopub.execute_input": "2023-01-10T20:13:01.803239Z",
          "iopub.status.busy": "2023-01-10T20:13:01.802790Z",
          "iopub.status.idle": "2023-01-10T20:13:03.153312Z",
          "shell.execute_reply": "2023-01-10T20:13:03.152020Z"
        },
        "papermill": {
          "duration": 1.369299,
          "end_time": "2023-01-10T20:13:03.156276",
          "exception": false,
          "start_time": "2023-01-10T20:13:01.786977",
          "status": "completed"
        },
        "tags": [],
        "colab": {
          "base_uri": "https://localhost:8080/"
        },
        "id": "f10dcaec",
        "outputId": "281387e4-2862-48db-834d-196a84db48c0"
      },
      "outputs": [
        {
          "output_type": "stream",
          "name": "stdout",
          "text": [
            "epochs: 0......loss:38892945408.0\n",
            "epochs: 100......loss:38892929024.0\n",
            "epochs: 200......loss:38892912640.0\n",
            "epochs: 300......loss:38892896256.0\n",
            "epochs: 400......loss:38892879872.0\n",
            "epochs: 500......loss:38892855296.0\n",
            "epochs: 600......loss:38892847104.0\n",
            "epochs: 700......loss:38892830720.0\n",
            "epochs: 800......loss:38892810240.0\n",
            "epochs: 900......loss:38892789760.0\n",
            "epochs: 1000......loss:38892773376.0\n",
            "epochs: 1100......loss:38892756992.0\n",
            "epochs: 1200......loss:38892740608.0\n",
            "epochs: 1300......loss:38892720128.0\n",
            "epochs: 1400......loss:38892703744.0\n",
            "epochs: 1500......loss:38892679168.0\n",
            "epochs: 1600......loss:38892662784.0\n",
            "epochs: 1700......loss:38892646400.0\n",
            "epochs: 1800......loss:38892621824.0\n",
            "epochs: 1900......loss:38892605440.0\n",
            "epochs: 2000......loss:38892580864.0\n",
            "epochs: 2100......loss:38892564480.0\n",
            "epochs: 2200......loss:38892539904.0\n",
            "epochs: 2300......loss:38892511232.0\n",
            "epochs: 2400......loss:38892490752.0\n",
            "epochs: 2500......loss:38892462080.0\n",
            "epochs: 2600......loss:38892433408.0\n",
            "epochs: 2700......loss:38892404736.0\n",
            "epochs: 2800......loss:38892371968.0\n",
            "epochs: 2900......loss:38892339200.0\n",
            "epochs: 3000......loss:38892302336.0\n",
            "epochs: 3100......loss:38892261376.0\n",
            "epochs: 3200......loss:38892220416.0\n",
            "epochs: 3300......loss:38892163072.0\n",
            "epochs: 3400......loss:38892109824.0\n"
          ]
        }
      ],
      "source": [
        "epochs=3500 \n",
        "losses=[]\n",
        "iters=[]\n",
        "for i in range(epochs):\n",
        "  running_loss = 0.0\n",
        "  #initialize the model parameter\n",
        "  optimizer.zero_grad(set_to_none=True)\n",
        "  #calculate the loss\n",
        "  output=model(x)\n",
        "  loss=loss_fn(output,y)\n",
        "  losses.append(running_loss+loss.item())\n",
        "  iters.append(i)\n",
        "  #backpropagation\n",
        "  loss.backward()\n",
        "  #update the parameters\n",
        "  optimizer.step()\n",
        "  if(i%10==0):\n",
        "        iters.append(i)\n",
        "        losses.append(loss)\n",
        "        \n",
        "  if(i%100==0):\n",
        "    print(f\"epochs: {i}......loss:{loss}\")"
      ]
    },
    {
      "cell_type": "code",
      "execution_count": null,
      "id": "e29e550a",
      "metadata": {
        "execution": {
          "iopub.execute_input": "2023-01-10T20:13:03.186803Z",
          "iopub.status.busy": "2023-01-10T20:13:03.186421Z",
          "iopub.status.idle": "2023-01-10T20:13:03.193864Z",
          "shell.execute_reply": "2023-01-10T20:13:03.192777Z"
        },
        "papermill": {
          "duration": 0.025531,
          "end_time": "2023-01-10T20:13:03.196349",
          "exception": false,
          "start_time": "2023-01-10T20:13:03.170818",
          "status": "completed"
        },
        "tags": [],
        "id": "e29e550a"
      },
      "outputs": [],
      "source": [
        "y_train_pred = model(torch.tensor(X_train,dtype=torch.float32,requires_grad=True))\n",
        "y_test_pred = model(torch.tensor(X_test,dtype=torch.float32))\n",
        "\n",
        "#convert to numpy array\n",
        "y_train_pred = y_train_pred.detach().numpy()\n",
        "y_test_pred = y_test_pred.detach().numpy()"
      ]
    },
    {
      "cell_type": "markdown",
      "source": [
        "Точность далеко не самая высокая, но с помощью подбора гиперпараметров её можно увеличить"
      ],
      "metadata": {
        "id": "6Bz5ENwHWf8N"
      },
      "id": "6Bz5ENwHWf8N"
    },
    {
      "cell_type": "code",
      "execution_count": null,
      "id": "30c14fae",
      "metadata": {
        "execution": {
          "iopub.execute_input": "2023-01-10T20:13:03.258081Z",
          "iopub.status.busy": "2023-01-10T20:13:03.257649Z",
          "iopub.status.idle": "2023-01-10T20:13:03.268941Z",
          "shell.execute_reply": "2023-01-10T20:13:03.267616Z"
        },
        "papermill": {
          "duration": 0.031348,
          "end_time": "2023-01-10T20:13:03.271370",
          "exception": false,
          "start_time": "2023-01-10T20:13:03.240022",
          "status": "completed"
        },
        "tags": [],
        "colab": {
          "base_uri": "https://localhost:8080/"
        },
        "id": "30c14fae",
        "outputId": "cb25b5b1-14da-4bb1-839c-7d81d085483e"
      },
      "outputs": [
        {
          "output_type": "stream",
          "name": "stdout",
          "text": [
            "-5.462002167673025\n",
            "-4.643382512619857\n"
          ]
        }
      ],
      "source": [
        "from sklearn.metrics import r2_score\n",
        "\n",
        "test_accuracy=r2_score(y_test,y_test_pred)\n",
        "train_accuracy=r2_score(y_train,y_train_pred)\n",
        "print(train_accuracy)\n",
        "print(test_accuracy)"
      ]
    },
    {
      "cell_type": "code",
      "execution_count": null,
      "id": "9570179c",
      "metadata": {
        "execution": {
          "iopub.execute_input": "2023-01-10T20:13:03.302541Z",
          "iopub.status.busy": "2023-01-10T20:13:03.302089Z",
          "iopub.status.idle": "2023-01-10T20:13:03.515859Z",
          "shell.execute_reply": "2023-01-10T20:13:03.514790Z"
        },
        "papermill": {
          "duration": 0.232474,
          "end_time": "2023-01-10T20:13:03.518402",
          "exception": false,
          "start_time": "2023-01-10T20:13:03.285928",
          "status": "completed"
        },
        "tags": [],
        "colab": {
          "base_uri": "https://localhost:8080/",
          "height": 307
        },
        "id": "9570179c",
        "outputId": "b010eee1-ff1f-4967-b486-5fe232aeccbd"
      },
      "outputs": [
        {
          "output_type": "stream",
          "name": "stderr",
          "text": [
            "WARNING:matplotlib.legend:No handles with labels found to put in legend.\n"
          ]
        },
        {
          "output_type": "display_data",
          "data": {
            "text/plain": [
              "<Figure size 432x288 with 1 Axes>"
            ],
            "image/png": "[encoded data removed]"
          },
          "metadata": {
            "needs_background": "light"
          }
        }
      ],
      "source": [
        "plt.plot(np.arange(len(iters)),list(map(float, losses)), 'r', linewidth=0.3)\n",
        "plt.xlabel('Epoch')\n",
        "plt.ylabel('Loss')\n",
        "plt.legend()\n",
        "plt.show()"
      ]
    },
    {
      "cell_type": "code",
      "execution_count": null,
      "id": "b53a429e",
      "metadata": {
        "execution": {
          "iopub.execute_input": "2023-01-10T20:13:03.550989Z",
          "iopub.status.busy": "2023-01-10T20:13:03.550565Z",
          "iopub.status.idle": "2023-01-10T20:13:03.828463Z",
          "shell.execute_reply": "2023-01-10T20:13:03.827293Z"
        },
        "papermill": {
          "duration": 0.297093,
          "end_time": "2023-01-10T20:13:03.830967",
          "exception": false,
          "start_time": "2023-01-10T20:13:03.533874",
          "status": "completed"
        },
        "tags": [],
        "colab": {
          "base_uri": "https://localhost:8080/",
          "height": 279
        },
        "id": "b53a429e",
        "outputId": "22589da5-2336-45b2-fc2b-54f5522073bd"
      },
      "outputs": [
        {
          "output_type": "display_data",
          "data": {
            "text/plain": [
              "<Figure size 432x288 with 1 Axes>"
            ],
            "image/png": "[encoded data removed]"
          },
          "metadata": {
            "needs_background": "light"
          }
        }
      ],
      "source": [
        "plt.xlabel(looking_for)\n",
        "plt.ylabel(f\"Predicted {looking_for} \")\n",
        "plt.scatter(y_train,y_train_pred,color='r',label=\"train_data\")\n",
        "plt.scatter(y_test,y_test_pred,color='b',label=\"test_data\")\n",
        "plt.legend()\n",
        "plt.show()"
      ]
    },
    {
      "cell_type": "code",
      "execution_count": null,
      "id": "ad92f966",
      "metadata": {
        "execution": {
          "iopub.execute_input": "2023-01-10T20:13:03.866899Z",
          "iopub.status.busy": "2023-01-10T20:13:03.866403Z",
          "iopub.status.idle": "2023-01-10T20:13:04.126800Z",
          "shell.execute_reply": "2023-01-10T20:13:04.125449Z"
        },
        "papermill": {
          "duration": 0.281486,
          "end_time": "2023-01-10T20:13:04.129364",
          "exception": false,
          "start_time": "2023-01-10T20:13:03.847878",
          "status": "completed"
        },
        "tags": [],
        "colab": {
          "base_uri": "https://localhost:8080/",
          "height": 279
        },
        "id": "ad92f966",
        "outputId": "0704f064-caa2-4cb6-dffc-f9f48cb1433b"
      },
      "outputs": [
        {
          "output_type": "display_data",
          "data": {
            "text/plain": [
              "<Figure size 432x288 with 1 Axes>"
            ],
            "image/png": "[encoded data removed]"
          },
          "metadata": {
            "needs_background": "light"
          }
        }
      ],
      "source": [
        "plt.xlabel(looking_for)\n",
        "plt.ylabel(f\"Predicted {looking_for} \")\n",
        "plt.plot(y_train,y_train_pred,color='r',label=\"train_data\")\n",
        "plt.plot(y_test,y_test_pred,color='b',label=\"test_data\")\n",
        "plt.legend()\n",
        "plt.show()"
      ]
    },
    {
      "cell_type": "markdown",
      "id": "9f0a54be",
      "metadata": {
        "papermill": {
          "duration": 0.015798,
          "end_time": "2023-01-10T20:13:04.161312",
          "exception": false,
          "start_time": "2023-01-10T20:13:04.145514",
          "status": "completed"
        },
        "tags": [],
        "id": "9f0a54be"
      },
      "source": [
        "# 3 Задание"
      ]
    },
    {
      "cell_type": "code",
      "execution_count": null,
      "id": "215fd6e7",
      "metadata": {
        "execution": {
          "iopub.execute_input": "2023-01-10T20:13:22.527616Z",
          "iopub.status.busy": "2023-01-10T20:13:22.527165Z",
          "iopub.status.idle": "2023-01-10T20:13:23.416724Z",
          "shell.execute_reply": "2023-01-10T20:13:23.415476Z"
        },
        "papermill": {
          "duration": 0.911898,
          "end_time": "2023-01-10T20:13:23.418993",
          "exception": false,
          "start_time": "2023-01-10T20:13:22.507095",
          "status": "completed"
        },
        "tags": [],
        "colab": {
          "base_uri": "https://localhost:8080/",
          "height": 265
        },
        "id": "215fd6e7",
        "outputId": "337d856e-055b-4994-8127-7eac03de876b"
      },
      "outputs": [
        {
          "output_type": "display_data",
          "data": {
            "text/plain": [
              "<Figure size 432x288 with 1 Axes>"
            ],
            "image/png": "[encoded data removed]"
          },
          "metadata": {
            "needs_background": "light"
          }
        }
      ],
      "source": [
        "import math\n",
        "def f(x: torch.Tensor) -> torch.Tensor:\n",
        "    return (3*(x**2) - 6*x + math.pi)\n",
        "\n",
        "\n",
        "SIGN = -1 \n",
        "\n",
        "START, END = -5, 5\n",
        "EPS = 0.0000001\n",
        "LR = 0.00005\n",
        "\n",
        "X = torch.arange(START, END + 0.001, 0.001)\n",
        "Y = f(X)\n",
        "plt.plot(X.detach(), Y.detach());"
      ]
    },
    {
      "cell_type": "markdown",
      "source": [
        "Другой способ показа данной функции"
      ],
      "metadata": {
        "id": "TkPpn7apXtuU"
      },
      "id": "TkPpn7apXtuU"
    },
    {
      "cell_type": "code",
      "source": [
        "import math\n",
        "x = torch.linspace(-5, 5, 100, requires_grad = True)\n",
        "Y = (3*(x**2) - 6*x + math.pi)\n",
        "y = torch.sum(Y)\n",
        "y.backward()\n",
        " \n",
        "# ploting the function and derivative\n",
        "function_line, = plt.plot(x.detach().numpy(), Y.detach().numpy(), label = 'Function')\n",
        "function_line.set_color(\"red\")\n",
        "derivative_line, = plt.plot(x.detach().numpy(), x.grad.detach().numpy(), label = 'Derivative')\n",
        "derivative_line.set_color(\"green\")\n",
        "plt.xlabel('x')\n",
        "plt.legend()\n",
        "plt.show()"
      ],
      "metadata": {
        "colab": {
          "base_uri": "https://localhost:8080/",
          "height": 279
        },
        "id": "DkFmtxJOXlOA",
        "outputId": "4062705e-057f-448e-bf9d-ee18990fe14f"
      },
      "id": "DkFmtxJOXlOA",
      "execution_count": null,
      "outputs": [
        {
          "output_type": "display_data",
          "data": {
            "text/plain": [
              "<Figure size 432x288 with 1 Axes>"
            ],
            "image/png": "[encoded data removed]"
          },
          "metadata": {
            "needs_background": "light"
          }
        }
      ]
    },
    {
      "cell_type": "code",
      "source": [],
      "metadata": {
        "id": "D8cizgGmXsCL"
      },
      "id": "D8cizgGmXsCL",
      "execution_count": null,
      "outputs": []
    }
  ],
  "metadata": {
    "kernelspec": {
      "display_name": "Python 3",
      "language": "python",
      "name": "python3"
    },
    "language_info": {
      "codemirror_mode": {
        "name": "ipython",
        "version": 3
      },
      "file_extension": ".py",
      "mimetype": "text/x-python",
      "name": "python",
      "nbconvert_exporter": "python",
      "pygments_lexer": "ipython3",
      "version": "3.7.12"
    },
    "papermill": {
      "default_parameters": {},
      "duration": 39.950017,
      "end_time": "2023-01-10T20:13:24.901877",
      "environment_variables": {},
      "exception": null,
      "input_path": "__notebook__.ipynb",
      "output_path": "__notebook__.ipynb",
      "parameters": {},
      "start_time": "2023-01-10T20:12:44.951860",
      "version": "2.3.4"
    },
    "colab": {
      "provenance": []
    }
  },
  "nbformat": 4,
  "nbformat_minor": 5
}