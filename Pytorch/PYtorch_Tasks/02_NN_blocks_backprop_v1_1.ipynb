{
  "cells": [
    {
      "cell_type": "code",
      "execution_count": 1,
      "metadata": {
        "id": "PqC4R7SGseKa"
      },
      "outputs": [],
      "source": [
        "import torch"
      ]
    },
    {
      "cell_type": "markdown",
      "metadata": {
        "id": "0J2RM8f5wP33"
      },
      "source": [
        "## 2.1 Создание нейронов и полносвязных слоев"
      ]
    },
    {
      "cell_type": "markdown",
      "metadata": {
        "id": "_2ArJn_nsdZC"
      },
      "source": [
        "2.1.1. Используя операции над матрицами и векторами из библиотеки `torch`, реализовать нейрон с заданными весами `weights` и `bias`. Прогнать вектор `inputs` через нейрон и вывести результат. "
      ]
    },
    {
      "cell_type": "code",
      "execution_count": 2,
      "metadata": {
        "id": "f4agkY9WqPwe"
      },
      "outputs": [],
      "source": [
        "class Neuron:\n",
        "  def __init__(self, weights, bias):\n",
        "    self.weights = weights\n",
        "    self.bias = bias\n",
        "\n",
        "    # <создать атрибуты объекта weights и bias>\n",
        "    pass\n",
        "  \n",
        "  def forward(self, inputs):\n",
        "    self.inputs = inputs\n",
        "    return (self.weights*self.inputs + self.bias) # <реализовать логику нейрона>\n"
      ]
    },
    {
      "cell_type": "code",
      "execution_count": 3,
      "metadata": {
        "id": "HJRkSkHHsb7u"
      },
      "outputs": [],
      "source": [
        "inputs = torch.tensor([1.0, 2.0, 3.0, 4.0])\n",
        "weights = torch.tensor([-0.2, 0.3, -0.5, 0.7])\n",
        "bias = 3.14"
      ]
    },
    {
      "cell_type": "code",
      "source": [
        "neuron = Neuron(weights, bias)\n",
        "neuron.forward(inputs)"
      ],
      "metadata": {
        "colab": {
          "base_uri": "https://localhost:8080/"
        },
        "id": "gCIFJn-igeux",
        "outputId": "5aee8ff1-67c5-466d-c4f5-4bf114990488"
      },
      "execution_count": 4,
      "outputs": [
        {
          "output_type": "execute_result",
          "data": {
            "text/plain": [
              "tensor([2.9400, 3.7400, 1.6400, 5.9400])"
            ]
          },
          "metadata": {},
          "execution_count": 4
        }
      ]
    },
    {
      "cell_type": "markdown",
      "metadata": {
        "id": "1qJvnwiyty37"
      },
      "source": [
        "2.1.2 Используя операции над матрицами и векторами из библиотеки `torch`, реализовать полносвязный слой с заданными весами `weights` и `biases`. Прогнать вектор `inputs` через слой и вывести результат. "
      ]
    },
    {
      "cell_type": "code",
      "execution_count": 5,
      "metadata": {
        "id": "fVWF3a9vtx90"
      },
      "outputs": [],
      "source": [
        "class Linear:\n",
        "  def __init__(self, weights, biases):\n",
        "    self.weights = weights\n",
        "    self.biases = biases\n",
        "    # <создать атрибуты объекта weights и biases>\n",
        "    pass\n",
        "  \n",
        "  def forward(self, inputs):\n",
        "    self.inputs=inputs\n",
        "    \n",
        "    return torch.mv(self.weights,self.inputs)+self.biases # <реализовать логику слоя>"
      ]
    },
    {
      "cell_type": "code",
      "execution_count": 6,
      "metadata": {
        "id": "Fo-JFnHPuFCS"
      },
      "outputs": [],
      "source": [
        "inputs = torch.tensor([1.0, 2.0, 3.0, 4.0])\n",
        "weights = torch.tensor([[-0.2, 0.3, -0.5, 0.7],\n",
        "                        [0.5, -0.91, 0.26, -0.5],\n",
        "                        [-0.26, -0.27, 0.17, 0.87]])\n",
        "\n",
        "biases = torch.tensor([3.14, 2.71, 7.2])"
      ]
    },
    {
      "cell_type": "code",
      "source": [
        "linear = Linear(weights, biases)\n",
        "linear.forward(inputs)"
      ],
      "metadata": {
        "colab": {
          "base_uri": "https://localhost:8080/"
        },
        "id": "oOh0oiq1o2oR",
        "outputId": "8ec3a05d-36e0-4f68-a699-c0801e9561c7"
      },
      "execution_count": 7,
      "outputs": [
        {
          "output_type": "execute_result",
          "data": {
            "text/plain": [
              "tensor([ 4.8400,  0.1700, 10.3900])"
            ]
          },
          "metadata": {},
          "execution_count": 7
        }
      ]
    },
    {
      "cell_type": "markdown",
      "metadata": {
        "id": "mQtsJzcxuyGd"
      },
      "source": [
        "2.1.3 Реализовать полносвязный слой из __2.1.2__ таким образом, чтобы он мог принимать на вход матрицу (батч) с данными. Продемонстрировать работу.\n",
        "Результатом прогона сквозь слой должна быть матрица размера `batch_size` x `n_neurons`.\n"
      ]
    },
    {
      "cell_type": "code",
      "execution_count": 8,
      "metadata": {
        "id": "Z8IizmtsuhO1"
      },
      "outputs": [],
      "source": [
        "weights = torch.tensor([[-0.2, 0.3, -0.5, 0.7],\n",
        "                        [0.5, -0.91, 0.26, -0.5],\n",
        "                        [-0.26, -0.27, 0.17, 0.87]]).T\n",
        "inputs = torch.tensor([[1, 2, 3, 2.5], \n",
        "                       [2, 5, -1, 2], \n",
        "                       [-1.5, 2.7, 3.3, -0.8]])"
      ]
    },
    {
      "cell_type": "code",
      "source": [
        "inputs@weights + biases"
      ],
      "metadata": {
        "colab": {
          "base_uri": "https://localhost:8080/"
        },
        "id": "jpU5EuHIpeME",
        "outputId": "39a9fbf6-e282-4616-b1ec-c849ceaea1d6"
      },
      "execution_count": 9,
      "outputs": [
        {
          "output_type": "execute_result",
          "data": {
            "text/plain": [
              "tensor([[ 3.7900,  0.9200,  9.0850],\n",
              "        [ 6.1400, -2.1000,  6.9000],\n",
              "        [ 2.0400,  0.7610,  6.7260]])"
            ]
          },
          "metadata": {},
          "execution_count": 9
        }
      ]
    },
    {
      "cell_type": "markdown",
      "metadata": {
        "id": "OQ2OxH4_vBLu"
      },
      "source": [
        "2.1.4 Используя операции над матрицами и векторами из библиотеки `torch`, реализовать полносвязный слой из `n_neurons` нейронов с `n_features` весами у каждого нейрона (инициализируются из стандартного нормального распределения). Прогнать вектор `inputs` через слой и вывести результат. Результатом прогона сквозь слой должна быть матрица размера `batch_size` x `n_neurons`."
      ]
    },
    {
      "cell_type": "code",
      "execution_count": 10,
      "metadata": {
        "id": "IOv52EdovASs"
      },
      "outputs": [],
      "source": [
        "class Linear:\n",
        "  def __init__(self, n_features, n_neurons):\n",
        "    # <создать атрибуты объекта weights и biases>\n",
        "    self.weights = torch.randn(n_features, n_neurons)\n",
        "    self.bias = torch.zeros(n_neurons)\n",
        "  \n",
        "  def forward(self, inputs):\n",
        "    return inputs @ self.weights + self.bias # <реализовать логику слоя>"
      ]
    },
    {
      "cell_type": "code",
      "source": [
        "linear = Linear (3,2)\n",
        "inputs = torch.tensor([[1, 2, 3], \n",
        "                       [2, 5, -1], \n",
        "                       [-1.5, 2.7, 3.3]])\n",
        "linear.forward(inputs)"
      ],
      "metadata": {
        "colab": {
          "base_uri": "https://localhost:8080/"
        },
        "id": "9Q35nVhNsTGq",
        "outputId": "74dc381a-d023-44a6-b9bb-7015c9ebbbb5"
      },
      "execution_count": 11,
      "outputs": [
        {
          "output_type": "execute_result",
          "data": {
            "text/plain": [
              "tensor([[ 3.8944, -0.8618],\n",
              "        [ 7.5231,  5.1419],\n",
              "        [ 6.1666,  2.1453]])"
            ]
          },
          "metadata": {},
          "execution_count": 11
        }
      ]
    },
    {
      "cell_type": "markdown",
      "metadata": {
        "id": "IPG4UqL4wajI"
      },
      "source": [
        "2.1.5 Используя решение из __2.1.4__, создать 2 полносвязных слоя и пропустить матрицу `inputs` последовательно через эти два слоя. Количество нейронов в первом слое выбрать произвольно, количество нейронов во втором слое выбрать так, чтобы результатом прогона являлась матрица (3x7). "
      ]
    },
    {
      "cell_type": "code",
      "execution_count": 12,
      "metadata": {
        "id": "RjjQIQlTxJE6"
      },
      "outputs": [],
      "source": [
        "inputs = torch.tensor([[1, 2, 3, 2.5], \n",
        "                       [2, 5, -1, 2], \n",
        "                       [-1.5, 2.7, 3.3, -0.8]])\n"
      ]
    },
    {
      "cell_type": "code",
      "source": [
        "linear1 = Linear (4,3)\n",
        "res = linear1.forward(inputs)\n",
        "linear2 = Linear (3,7)\n",
        "linear2.forward(res)"
      ],
      "metadata": {
        "colab": {
          "base_uri": "https://localhost:8080/"
        },
        "id": "oPYos-UT05Dk",
        "outputId": "fce37235-876a-43d1-af96-42937f622aed"
      },
      "execution_count": 13,
      "outputs": [
        {
          "output_type": "execute_result",
          "data": {
            "text/plain": [
              "tensor([[-5.5410, 16.2606, -7.2217, -4.0349,  1.9969, -1.0059,  1.1946],\n",
              "        [ 0.4343,  3.3037, -1.7478, -0.0490,  3.0189,  8.5534, -1.8616],\n",
              "        [ 2.7679,  0.6497, -1.1789,  2.4839, -0.9326, -0.1334, -0.7779]])"
            ]
          },
          "metadata": {},
          "execution_count": 13
        }
      ]
    },
    {
      "cell_type": "markdown",
      "metadata": {
        "id": "cRVH_2K7xTBC"
      },
      "source": [
        "## 2.2 Создание функций активации"
      ]
    },
    {
      "cell_type": "markdown",
      "metadata": {
        "id": "B9kngE6Fxs9D"
      },
      "source": [
        "2.2.1 Используя операции над матрицами и векторами из библиотеки `torch`, реализовать функцию активации ReLU:\n",
        "\n",
        "![](https://wikimedia.org/api/rest_v1/media/math/render/svg/f4353f4e3e484130504049599d2e7b040793e1eb)\n",
        "\n",
        "Создать матрицу размера (4,3), заполненную числами из стандартного нормального распределения, и проверить работоспособность функции активации."
      ]
    },
    {
      "cell_type": "code",
      "execution_count": 14,
      "metadata": {
        "id": "jZLvMRByxSTC"
      },
      "outputs": [],
      "source": [
        "class ReLU:\n",
        "  def forward(self, inputs):\n",
        "    # <реализовать логику ReLU>\n",
        "    return (torch.clip(inputs, 0))"
      ]
    },
    {
      "cell_type": "code",
      "source": [
        "relu = ReLU()\n",
        "relu.forward(torch.randn(4,3))"
      ],
      "metadata": {
        "colab": {
          "base_uri": "https://localhost:8080/"
        },
        "id": "GnHdclsf1-WI",
        "outputId": "a139d6c4-58d1-4a64-c4b2-b6a40432900a"
      },
      "execution_count": 15,
      "outputs": [
        {
          "output_type": "execute_result",
          "data": {
            "text/plain": [
              "tensor([[0.0000, 2.0838, 3.6679],\n",
              "        [0.5821, 0.0000, 0.0000],\n",
              "        [0.6179, 0.0000, 0.0000],\n",
              "        [1.0829, 0.8777, 0.0000]])"
            ]
          },
          "metadata": {},
          "execution_count": 15
        }
      ]
    },
    {
      "cell_type": "markdown",
      "metadata": {
        "id": "puExCWiKyTtb"
      },
      "source": [
        "2.2.2 Используя операции над матрицами и векторами из библиотеки `torch`, реализовать функцию активации softmax:\n",
        "\n",
        "![](https://wikimedia.org/api/rest_v1/media/math/render/svg/6d7500d980c313da83e4117da701bf7c8f1982f5)\n",
        "\n",
        "Создать матрицу размера (4,3), заполненную числами из стандартного нормального распределения, и проверить работоспособность функции активации. Строки матрицы трактовать как выходы линейного слоя некоторого классификатора для 4 различных примеров."
      ]
    },
    {
      "cell_type": "code",
      "execution_count": 16,
      "metadata": {
        "id": "fXNcFlqqyKHl",
        "colab": {
          "base_uri": "https://localhost:8080/"
        },
        "outputId": "5735dc1f-7e7f-4788-caf4-af1dadf2019e"
      },
      "outputs": [
        {
          "output_type": "execute_result",
          "data": {
            "text/plain": [
              "tensor([[0.1542, 0.1698, 0.0699],\n",
              "        [0.1883, 0.3593, 0.1814],\n",
              "        [0.4723, 0.1022, 0.7261],\n",
              "        [0.1852, 0.3687, 0.0226]])"
            ]
          },
          "metadata": {},
          "execution_count": 16
        }
      ],
      "source": [
        "class Softmax:\n",
        "  def forward(self, inputs):\n",
        "    self.inputs = inputs\n",
        "    return torch.exp(self.inputs)/torch.sum(torch.exp(self.inputs),axis=0)\n",
        "\n",
        "softmax = Softmax()\n",
        "softmax.forward(torch.randn(4,3))"
      ]
    },
    {
      "cell_type": "markdown",
      "metadata": {
        "id": "vxVK2TYez_Ye"
      },
      "source": [
        "2.2.3 Используя операции над матрицами и векторами из библиотеки `torch`, реализовать функцию активации ELU:\n",
        "\n",
        "![](https://wikimedia.org/api/rest_v1/media/math/render/svg/eb23becd37c3602c4838e53f532163279192e4fd)\n",
        "\n",
        "Создать матрицу размера (4,3), заполненную числами из стандартного нормального распределения, и проверить работоспособность функции активации."
      ]
    },
    {
      "cell_type": "code",
      "execution_count": 17,
      "metadata": {
        "id": "NzMz7HDLySxK"
      },
      "outputs": [],
      "source": [
        "import math\n",
        "class ELU:\n",
        "  def __init__(self, alpha):\n",
        "    # <создать атрибут объекта alpha>\n",
        "    self.alpha = alpha\n",
        "    pass\n",
        "\n",
        "  def forward(self, inputs):\n",
        "    # <реализовать логику ReLU>\n",
        "    return (torch.where(inputs < 0, self.alpha * (torch.exp(inputs)-1), inputs) )\n",
        "    "
      ]
    },
    {
      "cell_type": "code",
      "source": [
        "elu = ELU(1.0)\n",
        "elu.forward(torch.randn(4,3))"
      ],
      "metadata": {
        "colab": {
          "base_uri": "https://localhost:8080/"
        },
        "id": "OJjj0U1p7tJo",
        "outputId": "a9bf0c3a-6466-4e3e-cfe8-2a48141ffbca"
      },
      "execution_count": 18,
      "outputs": [
        {
          "output_type": "execute_result",
          "data": {
            "text/plain": [
              "tensor([[ 0.3686,  2.4076, -0.2975],\n",
              "        [ 1.5948, -0.2470, -0.1959],\n",
              "        [-0.2569, -0.4802, -0.7926],\n",
              "        [ 0.5874,  1.7748,  0.2827]])"
            ]
          },
          "metadata": {},
          "execution_count": 18
        }
      ]
    },
    {
      "cell_type": "markdown",
      "metadata": {
        "id": "0peh8r-20Pof"
      },
      "source": [
        "## 2.3 Создание функции потерь"
      ]
    },
    {
      "cell_type": "markdown",
      "metadata": {
        "id": "EY-k3eEs0f7f"
      },
      "source": [
        "2.3.1 Используя операции над матрицами и векторами из библиотеки `torch`, реализовать функцию потерь MSE:\n",
        "\n",
        "![](https://wikimedia.org/api/rest_v1/media/math/render/svg/e258221518869aa1c6561bb75b99476c4734108e)\n",
        "\n",
        "Создать полносвязный слой с 1 нейроном, прогнать через него батч `inputs` и посчитать значение MSE, трактуя вектор `y` как вектор правильных ответов."
      ]
    },
    {
      "cell_type": "code",
      "source": [
        "class Linear:\n",
        "  def __init__(self, n_features, n_neurons):\n",
        "    # <создать атрибуты объекта weights и biases>\n",
        "    self.weights = torch.randn(n_features, n_neurons)\n",
        "    self.bias = torch.zeros(n_neurons)\n",
        "  \n",
        "  def forward(self, inputs):\n",
        "    return inputs @ self.weights + self.bias # <реализовать логику слоя>"
      ],
      "metadata": {
        "id": "Cy7hagY1-gqz"
      },
      "execution_count": 19,
      "outputs": []
    },
    {
      "cell_type": "code",
      "execution_count": 20,
      "metadata": {
        "id": "f9-wdj5Tz-br"
      },
      "outputs": [],
      "source": [
        "class MSELoss:\n",
        "  def forward(self, y_pred, y_true):\n",
        "    print(sum((y_pred-y_true)**2)/(y_true.shape[0])) \n",
        "    #return # <реализовать логику MSE>"
      ]
    },
    {
      "cell_type": "code",
      "execution_count": 21,
      "metadata": {
        "id": "NAyuDU9F1Vuz"
      },
      "outputs": [],
      "source": [
        "inputs = torch.tensor([[1, 2, 3, 2.5], \n",
        "                       [2, 5, -1, 2], \n",
        "                       [-1.5, 2.7, 3.3, -0.8]])\n",
        "\n",
        "y_true = torch.tensor([2, 3, 4])"
      ]
    },
    {
      "cell_type": "code",
      "source": [
        "linear = Linear(4,3)\n",
        "y_pred = linear.forward(inputs)\n",
        "\n",
        "mseloss = MSELoss()\n",
        "mseloss.forward(y_pred, y_true)"
      ],
      "metadata": {
        "colab": {
          "base_uri": "https://localhost:8080/"
        },
        "id": "EGHePtH3iY9H",
        "outputId": "9c756df4-4d2b-4480-8eb6-e00b21533ea3"
      },
      "execution_count": 22,
      "outputs": [
        {
          "output_type": "stream",
          "name": "stdout",
          "text": [
            "tensor([ 6.2679, 10.2165,  2.3127])\n"
          ]
        }
      ]
    },
    {
      "cell_type": "markdown",
      "metadata": {
        "id": "uaR7rILd1eWR"
      },
      "source": [
        "2.3.2 Используя операции над матрицами и векторами из библиотеки `torch`, реализовать функцию потерь Categorical Cross-Entropy:\n",
        "\n",
        "<img src=\"https://i.ibb.co/93gy1dN/Screenshot-9.png\" width=\"200\">\n",
        "\n",
        "Создать полносвязный слой с 3 нейронами и прогнать через него батч `inputs`. Полученный результат пропустить через функцию активации softmax. Посчитать значение CCE, трактуя вектор `y` как вектор правильных ответов."
      ]
    },
    {
      "cell_type": "code",
      "execution_count": 23,
      "metadata": {
        "id": "hQl8pJsT3HcF"
      },
      "outputs": [],
      "source": [
        "class CategoricalCrossentropyLoss:\n",
        "  def forward(self, y_pred, y_true):\n",
        "    return (-torch.sum(y_true * torch.log(torch.clip(y_pred, min=0.1))) )\n",
        "    # <реализовать логику CCE>"
      ]
    },
    {
      "cell_type": "code",
      "execution_count": 24,
      "metadata": {
        "id": "s7Qoupfo1ZGJ"
      },
      "outputs": [],
      "source": [
        "inputs = torch.tensor([[1, 2, 3, 2.5], \n",
        "                        [2, 5, -1, 2], \n",
        "                        [-1.5, 2.7, 3.3, -0.8]])\n",
        "y_true = torch.tensor([1, 0, 0])"
      ]
    },
    {
      "cell_type": "code",
      "source": [
        "linear = Linear(4,3)\n",
        "y_pred = linear.forward(inputs)\n",
        "\n",
        "print(torch.clip(y_pred, min=0.1) )\n",
        "\n",
        "categorical = CategoricalCrossentropyLoss()\n",
        "categorical.forward(y_pred, y_true)"
      ],
      "metadata": {
        "colab": {
          "base_uri": "https://localhost:8080/"
        },
        "id": "oFoyCM0CBjoL",
        "outputId": "37cce793-ea34-44bb-b2d7-d9ea3ab9cb0c"
      },
      "execution_count": 25,
      "outputs": [
        {
          "output_type": "stream",
          "name": "stdout",
          "text": [
            "tensor([[ 4.1952,  4.8703,  7.8541],\n",
            "        [ 7.0080,  2.0572, 13.4102],\n",
            "        [ 0.1000,  0.1000,  2.7871]])\n"
          ]
        },
        {
          "output_type": "execute_result",
          "data": {
            "text/plain": [
              "tensor(-1.0784)"
            ]
          },
          "metadata": {},
          "execution_count": 25
        }
      ]
    },
    {
      "cell_type": "markdown",
      "metadata": {
        "id": "fA6dbanf44_4"
      },
      "source": [
        "2.3.3 Модифицировать 2.3.1, добавив L2-регуляризацию.\n",
        "\n",
        "![](https://wikimedia.org/api/rest_v1/media/math/render/svg/d92ca2429275bfdc0474523babbafe014ca8b580)\n"
      ]
    },
    {
      "cell_type": "code",
      "execution_count": 26,
      "metadata": {
        "id": "ADsZxD-h4_Os"
      },
      "outputs": [],
      "source": [
        "class MSELossL2:\n",
        "  def __init__(self, lambda_):\n",
        "    # <создать атрибут объекта alpha>\n",
        "    self.alpha = lambda_\n",
        "    pass\n",
        "\n",
        "  def data_loss(self, y_pred, y_true):\n",
        "    # <подсчет первого слагаемого из формулы>\n",
        "    return (torch.sum((y_true-y_pred)**2))\n",
        "    \n",
        "\n",
        "  def reg_loss(self, layer):\n",
        "    # используйте атрибуты объекта layer, в которых хранятся веса слоя\n",
        "    # <подсчет второго слагаемого из формулы>\n",
        "    self.layer = layer\n",
        "    return (torch.sum(layer**2))\n",
        "    \n",
        "\n",
        "  def forward(self, y_pred, y_true):\n",
        "    return(self.data_loss(y_pred, y_true) + (self.alpha)*self.reg_loss(y_pred))"
      ]
    },
    {
      "cell_type": "code",
      "source": [
        "mselossl2 = MSELossL2(2)\n",
        "mselossl2.forward(y_pred,y_true)"
      ],
      "metadata": {
        "id": "q_RqGL0zEOOu",
        "colab": {
          "base_uri": "https://localhost:8080/"
        },
        "outputId": "a2bca746-bfb0-45f9-82a2-56c173d51a4b"
      },
      "execution_count": 27,
      "outputs": [
        {
          "output_type": "execute_result",
          "data": {
            "text/plain": [
              "tensor(1077.8455)"
            ]
          },
          "metadata": {},
          "execution_count": 27
        }
      ]
    },
    {
      "cell_type": "markdown",
      "metadata": {
        "id": "w049ZSdR6qQi"
      },
      "source": [
        "## 2.4 Обратное распространение ошибки"
      ]
    },
    {
      "cell_type": "markdown",
      "metadata": {
        "id": "pBtCfSME9W7Q"
      },
      "source": [
        "2.4.1 Используя один нейрон и SGD (1 пример за шаг), решите задачу регрессии"
      ]
    },
    {
      "cell_type": "code",
      "execution_count": 28,
      "metadata": {
        "id": "4xmI-QJ66WAF"
      },
      "outputs": [],
      "source": [
        "from sklearn.datasets import make_regression\n",
        "\n",
        "X, y, coef = make_regression(n_features=4, n_informative=4, coef=True, bias=0.5)\n",
        "X = torch.from_numpy(X).type(torch.float32)\n",
        "y = torch.from_numpy(y).type(torch.float32)"
      ]
    },
    {
      "cell_type": "markdown",
      "metadata": {
        "id": "KpPSPYSpD9Ey"
      },
      "source": [
        "[Граф вычислений для этой задачи](https://i.ibb.co/2dhDxZx/photo-2021-02-15-17-18-04.jpg)"
      ]
    },
    {
      "cell_type": "markdown",
      "metadata": {
        "id": "Fc1sXtGd_J-y"
      },
      "source": [
        "2.4.1.1 Реализуйте класс `SquaredLoss`\n"
      ]
    },
    {
      "cell_type": "code",
      "execution_count": 29,
      "metadata": {
        "id": "llFigkqd_JRU"
      },
      "outputs": [],
      "source": [
        "class SquaredLoss:\n",
        "    def forward(self, y_pred, y_true):\n",
        "        return ((y_true - y_pred) ** 2).mean()\n",
        "\n",
        "    def backward(self, y_pred, y_true):\n",
        "        # df/dc = 2(с-y) - из графа для вычислений\n",
        "        self.dinput = 2 * (y_pred - y_true)# df/dc\n",
        "        return self.dinput"
      ]
    },
    {
      "cell_type": "markdown",
      "metadata": {
        "id": "GY7ForfM97UQ"
      },
      "source": [
        "2.4.1.2. Модифицируйте класс `Neuron` из __2.1.1__:\n",
        "\n",
        "  1) Сделайте так, чтобы веса нейрона инициализировались из стандартного нормального распределения\n",
        "\n",
        "  2) Реализуйте расчет градиента относительно весов `weights` и `bias`"
      ]
    },
    {
      "cell_type": "code",
      "execution_count": 30,
      "metadata": {
        "id": "L0KqxPJU9kAN",
        "colab": {
          "base_uri": "https://localhost:8080/"
        },
        "outputId": "74739bbb-7dd9-41cc-c03f-0d8a5d255ee6"
      },
      "outputs": [
        {
          "output_type": "stream",
          "name": "stdout",
          "text": [
            "tensor([-5.8909])\n"
          ]
        },
        {
          "output_type": "stream",
          "name": "stderr",
          "text": [
            "/usr/local/lib/python3.7/dist-packages/ipykernel_launcher.py:9: UserWarning: The use of `x.T` on tensors of dimension other than 2 to reverse their shape is deprecated and it will throw an error in a future release. Consider `x.mT` to transpose batches of matricesor `x.permute(*torch.arange(x.ndim - 1, -1, -1))` to reverse the dimensions of a tensor. (Triggered internally at  ../aten/src/ATen/native/TensorShape.cpp:2981.)\n",
            "  if __name__ == '__main__':\n"
          ]
        }
      ],
      "source": [
        "class Neuron:\n",
        "    def __init__(self, n_inputs):\n",
        "        # <создать атрибуты объекта weights и bias>\n",
        "        # Создаем случайные веса и смещение нужных размерностей\n",
        "        self.W = torch.randn(n_inputs)\n",
        "        self.B = torch.randn(1)    \n",
        "  \n",
        "    def forward(self, inputs):\n",
        "        return torch.matmul(inputs, self.W.T) + self.B\n",
        "      \n",
        "    def backward(self, dvalue):\n",
        "        # dvalue - значение производной, которое приходит нейрону от следующего слоя сети\n",
        "        # в данном случае это будет значение df/dc (созданное методом backwards у объекта MSELoss)\n",
        "        self.dweights = dvalue # df/dW - из графа вычислений = 2e*1 = dvalue\n",
        "        self.dinput =  dvalue * self.W # df/wX = 2e*w = dvalue * W  ----- Зачем здесь dinput?\n",
        "        self.dbias = dvalue# df/db = 2e = dvalue\n",
        "        \n",
        "        # Возвращаем градиент весов и смещения\n",
        "        return self.dweights, self.dbias\n",
        "\n",
        "\n",
        "inputs = torch.tensor([1.0, 2.0, 3.0, 4.0])\n",
        "\n",
        "naive_neuron = Neuron(4)\n",
        "out = naive_neuron.forward(inputs)\n",
        "print(out)"
      ]
    },
    {
      "cell_type": "markdown",
      "metadata": {
        "id": "rKcO4zOLACxM"
      },
      "source": [
        "2.4.1.3 Допишите цикл для настройки весов нейрона\n",
        "\n",
        "[SGD](https://ru.wikipedia.org/wiki/%D0%A1%D1%82%D0%BE%D1%85%D0%B0%D1%81%D1%82%D0%B8%D1%87%D0%B5%D1%81%D0%BA%D0%B8%D0%B9_%D0%B3%D1%80%D0%B0%D0%B4%D0%B8%D0%B5%D0%BD%D1%82%D0%BD%D1%8B%D0%B9_%D1%81%D0%BF%D1%83%D1%81%D0%BA)\n",
        "\n",
        "![](https://wikimedia.org/api/rest_v1/media/math/render/svg/dda3670f8a8996a0d3bf80856bb4a166cc8db6d4)"
      ]
    },
    {
      "cell_type": "code",
      "execution_count": 34,
      "metadata": {
        "id": "_g_FvwvmALJd",
        "colab": {
          "base_uri": "https://localhost:8080/",
          "height": 357
        },
        "outputId": "b0e05183-4228-4b42-b396-780be07be6ea"
      },
      "outputs": [
        {
          "output_type": "error",
          "ename": "TypeError",
          "evalue": "ignored",
          "traceback": [
            "\u001b[0;31m---------------------------------------------------------------------------\u001b[0m",
            "\u001b[0;31mTypeError\u001b[0m                                 Traceback (most recent call last)",
            "\u001b[0;32m<ipython-input-34-5be21c95c087>\u001b[0m in \u001b[0;36m<module>\u001b[0;34m\u001b[0m\n\u001b[1;32m      3\u001b[0m \u001b[0mn_epoch\u001b[0m \u001b[0;34m=\u001b[0m \u001b[0;36m100\u001b[0m \u001b[0;31m#  количество эпох\u001b[0m\u001b[0;34m\u001b[0m\u001b[0;34m\u001b[0m\u001b[0m\n\u001b[1;32m      4\u001b[0m \u001b[0;34m\u001b[0m\u001b[0m\n\u001b[0;32m----> 5\u001b[0;31m \u001b[0mneuron\u001b[0m \u001b[0;34m=\u001b[0m \u001b[0mNeuron\u001b[0m\u001b[0;34m(\u001b[0m\u001b[0mn_inputs\u001b[0m\u001b[0;34m)\u001b[0m\u001b[0;34m\u001b[0m\u001b[0;34m\u001b[0m\u001b[0m\n\u001b[0m\u001b[1;32m      6\u001b[0m \u001b[0mloss\u001b[0m \u001b[0;34m=\u001b[0m \u001b[0mMSELoss\u001b[0m\u001b[0;34m(\u001b[0m\u001b[0;34m)\u001b[0m\u001b[0;34m\u001b[0m\u001b[0;34m\u001b[0m\u001b[0m\n\u001b[1;32m      7\u001b[0m \u001b[0;34m\u001b[0m\u001b[0m\n",
            "\u001b[0;32m<ipython-input-30-6351fa3ceae5>\u001b[0m in \u001b[0;36m__init__\u001b[0;34m(self, n_inputs)\u001b[0m\n\u001b[1;32m      3\u001b[0m         \u001b[0;31m# <создать атрибуты объекта weights и bias>\u001b[0m\u001b[0;34m\u001b[0m\u001b[0;34m\u001b[0m\u001b[0;34m\u001b[0m\u001b[0m\n\u001b[1;32m      4\u001b[0m         \u001b[0;31m# Создаем случайные веса и смещение нужных размерностей\u001b[0m\u001b[0;34m\u001b[0m\u001b[0;34m\u001b[0m\u001b[0;34m\u001b[0m\u001b[0m\n\u001b[0;32m----> 5\u001b[0;31m         \u001b[0mself\u001b[0m\u001b[0;34m.\u001b[0m\u001b[0mW\u001b[0m \u001b[0;34m=\u001b[0m \u001b[0mtorch\u001b[0m\u001b[0;34m.\u001b[0m\u001b[0mrandn\u001b[0m\u001b[0;34m(\u001b[0m\u001b[0mn_inputs\u001b[0m\u001b[0;34m)\u001b[0m\u001b[0;34m\u001b[0m\u001b[0;34m\u001b[0m\u001b[0m\n\u001b[0m\u001b[1;32m      6\u001b[0m         \u001b[0mself\u001b[0m\u001b[0;34m.\u001b[0m\u001b[0mB\u001b[0m \u001b[0;34m=\u001b[0m \u001b[0mtorch\u001b[0m\u001b[0;34m.\u001b[0m\u001b[0mrandn\u001b[0m\u001b[0;34m(\u001b[0m\u001b[0;36m1\u001b[0m\u001b[0;34m)\u001b[0m\u001b[0;34m\u001b[0m\u001b[0;34m\u001b[0m\u001b[0m\n\u001b[1;32m      7\u001b[0m \u001b[0;34m\u001b[0m\u001b[0m\n",
            "\u001b[0;31mTypeError\u001b[0m: randn(): argument 'size' (position 1) must be tuple of ints, not NoneType"
          ]
        }
      ],
      "source": [
        "n_inputs = None# <размерность элемента выборки >\n",
        "learning_rate = 0.1 #  скорость обучения\n",
        "n_epoch = 100 #  количество эпох\n",
        "\n",
        "neuron = Neuron(n_inputs)\n",
        "loss = MSELoss()\n",
        "\n",
        "losses = []\n",
        "for epoch in range(100):\n",
        "  for x_example, y_example in zip(X, y):\n",
        "    # forward pass\n",
        "    y_pred = None# <прогон через нейрон>\n",
        "    curr_loss = None # <прогон через функцию потерь>\n",
        "    losses.append(curr_loss)\n",
        "\n",
        "    # backprop\n",
        "    # <вызов методов backward>\n",
        "    # обратите внимание на последовательность вызовов: от конца к началу\n",
        "\n",
        "    # <шаг оптимизации для весов (weights и bias) нейрона>"
      ]
    },
    {
      "cell_type": "markdown",
      "metadata": {
        "id": "ebibge9VEgF7"
      },
      "source": [
        "2.4.2 Решите задачу 2.4.1, используя пакетный градиентный спуск"
      ]
    },
    {
      "cell_type": "code",
      "source": [
        "n_inputs = # <размерность элемента выборки >\n",
        "learning_rate = 0.1 #  скорость обучения\n",
        "n_epoch = 100 #  количество эпох\n",
        "\n",
        "neuron = Neuron(n_inputs)\n",
        "loss = MSELoss()\n",
        "\n",
        "losses = []\n",
        "for epoch in range(100):\n",
        "  for x_example, y_example in zip(X, y):\n",
        "    # forward pass\n",
        "    y_pred = # <прогон через нейрон>\n",
        "    curr_loss = # <прогон через функцию потерь>\n",
        "    losses.append(curr_loss)\n",
        "\n",
        "    # backprop\n",
        "    # <вызов методов backward>\n",
        "    # обратите внимание на последовательность вызовов: от конца к началу\n",
        "\n",
        "    # <шаг оптимизации для весов (weights и bias) нейрона>"
      ],
      "metadata": {
        "id": "EqyL8zfjS_7Z"
      },
      "execution_count": null,
      "outputs": []
    },
    {
      "cell_type": "markdown",
      "metadata": {
        "id": "as-QeWSdOELd"
      },
      "source": [
        "Вычисления для этой задачи: \n",
        "[1](https://i.ibb.co/rmtQT6P/photo-2021-02-15-18-00-43.jpg)\n",
        "[2](https://i.ibb.co/NmCFVnQ/photo-2021-02-15-18-01-17.jpg)"
      ]
    },
    {
      "cell_type": "markdown",
      "metadata": {
        "id": "dr9qq4H_J3zt"
      },
      "source": [
        "2.4.1.1 Модифицируйте класс `MSELoss` из __2.3.1__, реализовав расчет производной относительно предыдущего слоя с учетом того, что теперь работа ведется с батчами, а не с индивидуальными примерами\n",
        " "
      ]
    },
    {
      "cell_type": "code",
      "execution_count": null,
      "metadata": {
        "id": "L8wjk9iPMQ4x"
      },
      "outputs": [],
      "source": [
        "class MSELoss:\n",
        "  def forward(self, y_pred, y_true):\n",
        "    return # <реализовать логику MSE>\n",
        "\n",
        "  def backward(self, y_pred, y_true):\n",
        "    self.dinput = # df/dy^\n"
      ]
    },
    {
      "cell_type": "markdown",
      "metadata": {
        "id": "E3fSHCEtJjX8"
      },
      "source": [
        "2.4.2.2. Модифицируйте класс `Neuron` из __2.4.1.2__:\n",
        "\n",
        "  1) Реализуйте метод `forward` таким образом, чтобы он мог принимать на вход матрицу (батч) с данными. \n",
        "\n",
        "  2) Реализуйте расчет градиента относительно весов `weights` и `bias` с учетом того, что теперь работа ведется с батчами, а не с индивидуальными примерами"
      ]
    },
    {
      "cell_type": "code",
      "execution_count": null,
      "metadata": {
        "id": "o_OpuAP0Jpz1"
      },
      "outputs": [],
      "source": [
        "class Neuron:\n",
        "  def __init__(self, n_inputs):\n",
        "    # <создать атрибуты объекта weights и bias>\n",
        "    pass\n",
        "  \n",
        "  def forward(self, inputs):\n",
        "    return # <реализовать логику нейрона>\n",
        "  \n",
        "  def backward(self, dvalue):\n",
        "    # dvalue - значение градиента, которое приходит нейрону от следующего слоя сети\n",
        "    # в данном случае это будет градиент L по y^ (созданный методом backwards у объекта MSELoss)\n",
        "    self.dweights = # df/dW\n",
        "    self.dbias = # df/db\n"
      ]
    },
    {
      "cell_type": "markdown",
      "metadata": {
        "id": "zO-NZrgKMBFx"
      },
      "source": [
        "2.4.2.3 Допишите цикл для настройки весов нейрона"
      ]
    },
    {
      "cell_type": "code",
      "execution_count": null,
      "metadata": {
        "id": "Zqwm_7eqJim1"
      },
      "outputs": [],
      "source": [
        "n_inputs = # <размерность элемента выборки >\n",
        "learning_rate = 0.1 #  скорость обучения\n",
        "n_epoch = 100 #  количество эпох\n",
        "\n",
        "neuron = Neuron(n_inputs)\n",
        "loss = MSELoss()\n",
        "\n",
        "\n",
        "for epoch in range(100):\n",
        "    # forward pass\n",
        "    y_pred = # <прогон через нейрон>\n",
        "    curr_loss = # <прогон через функцию потерь>\n",
        "    losses.append(curr_loss)\n",
        "\n",
        "    # backprop\n",
        "    # <вызов методов backward>\n",
        "    # обратите внимание на последовательность вызовов: от конца к началу\n",
        "\n",
        "    # <шаг оптимизации для весов (weights и bias) нейрона>"
      ]
    },
    {
      "cell_type": "markdown",
      "metadata": {
        "id": "16VtP159OdMk"
      },
      "source": [
        "2.4.3  Используя один полносвязный слой и  пакетный градиетный спуск, решите задачу регрессии из __2.4.1__"
      ]
    },
    {
      "cell_type": "markdown",
      "metadata": {
        "id": "uj5febreSSZ7"
      },
      "source": [
        "2.4.3.1 Модифицируйте класс `Linear` из __2.1.4__. ([вычисление градиентов](https://i.ibb.co/kgVR6m6/photo-2021-02-15-21-30-28.jpg))"
      ]
    },
    {
      "cell_type": "code",
      "execution_count": null,
      "metadata": {
        "id": "9zWuhaLdSB2_"
      },
      "outputs": [],
      "source": [
        "class Linear:\n",
        "  def __init__(self, n_features, n_neurons):\n",
        "    # <создать атрибуты объекта weights и biases>\n",
        "    pass\n",
        "  \n",
        "  def forward(self, inputs):\n",
        "    return # <реализовать логику слоя>\n",
        "\n",
        "  def backward(self, dvalues):\n",
        "    self.dweights = # df/dW\n",
        "    self.dbiases = # df/db\n",
        "    self.dinputs = # df/dX"
      ]
    },
    {
      "cell_type": "markdown",
      "metadata": {
        "id": "j3w1hT9MS_Lt"
      },
      "source": [
        "2.4.3.2 Создайте слой с одним нейроном. Используя класс MSELoss из 2.4.2, убедитесь, что модель обучается"
      ]
    },
    {
      "cell_type": "code",
      "source": [
        "class MSELoss:\n",
        "    def forward(self, y_pred, y_true):\n",
        "        return ((y_true - y_pred) ** 2).mean()\n",
        "\n",
        "    def backward(self, y_pred, y_true):\n",
        "        # df/dc = 2(с-y) - из графа для вычислений\n",
        "        self.dinput = 2 * (y_pred - y_true)# df/dc\n",
        "        return self.dinput"
      ],
      "metadata": {
        "id": "ARUA8xcgTITz"
      },
      "execution_count": null,
      "outputs": []
    },
    {
      "cell_type": "markdown",
      "metadata": {
        "id": "RTkJV-F8TVuN"
      },
      "source": [
        "2.4.4 Используя наработки из 2.4, создайте нейросеть и решите задачу регрессии.\n",
        "\n",
        "Предлагаемая архитектура: \n",
        "1. Полносвязный слой с 10 нейронами\n",
        "2. Активация ReLU\n",
        "3. Полносвязный слой с 1 нейроном"
      ]
    },
    {
      "cell_type": "code",
      "execution_count": null,
      "metadata": {
        "id": "axUjpPz-SvS1"
      },
      "outputs": [],
      "source": [
        "X = torch.linspace(-1, 1, 100).view(-1, 1)\n",
        "y = X.pow(2) + 0.2 * torch.rand(X.size()) "
      ]
    },
    {
      "cell_type": "code",
      "execution_count": null,
      "metadata": {
        "id": "LXoiNxkpTziV"
      },
      "outputs": [],
      "source": [
        "class Activation_ReLU:\n",
        "  def forward(self, inputs):\n",
        "    self.inputs = inputs\n",
        "    self.output = inputs.clip(min=0)\n",
        "    return self.output\n",
        "  \n",
        "  def backward(self, dvalues):\n",
        "    self.dinputs = dvalues.clone()\n",
        "    self.dinputs[self.inputs <= 0] = 0"
      ]
    },
    {
      "cell_type": "code",
      "execution_count": null,
      "metadata": {
        "id": "tXhspwW6T44T"
      },
      "outputs": [],
      "source": [
        "# создание компонентов сети\n",
        "# fc1 = \n",
        "# relu1 = \n",
        "# fc2 = \n",
        "\n",
        "loss = MSELoss()\n",
        "lr = 0.02\n",
        "\n",
        "ys = []\n",
        "for epoch in range(2001):\n",
        "  # <forward pass>\n",
        "  # fc1 > relu1 > fc2 > loss\n",
        "\n",
        "  data_loss = None# <прогон через функцию потерь>\n",
        "\n",
        "  if epoch % 200 == 0:\n",
        "    print(f'epoch {epoch} mean loss {data_loss}')\n",
        "    ys.append(out)\n",
        "  \n",
        "  # <backprop> \n",
        "  # loss > fc2 > relu1 > fc1\n",
        "\n",
        "  # <шаг оптимизации для fc1>\n",
        "\n",
        "  # <шаг оптимизации для fc2>"
      ]
    },
    {
      "cell_type": "code",
      "execution_count": null,
      "metadata": {
        "id": "kpKi0OfoUkwk"
      },
      "outputs": [],
      "source": [
        "import matplotlib.pyplot as plt\n",
        "\n",
        "fig, axs = plt.subplots(len(ys), 1, figsize=(10, 40))\n",
        "for ax, y_ in zip(axs, ys):\n",
        "  ax.scatter(X.numpy(), y.numpy(), color = \"orange\")\n",
        "  ax.plot(X.numpy(), y_.numpy(), 'g-', lw=3)\n",
        "  ax.set_xlim(-1.05, 1.5)\n",
        "  ax.set_ylim(-0.25, 1.25)"
      ]
    }
  ],
  "metadata": {
    "colab": {
      "provenance": [],
      "toc_visible": true
    },
    "kernelspec": {
      "display_name": "Python 3",
      "language": "python",
      "name": "python3"
    },
    "language_info": {
      "codemirror_mode": {
        "name": "ipython",
        "version": 3
      },
      "file_extension": ".py",
      "mimetype": "text/x-python",
      "name": "python",
      "nbconvert_exporter": "python",
      "pygments_lexer": "ipython3",
      "version": "3.8.3"
    }
  },
  "nbformat": 4,
  "nbformat_minor": 0
}