{
  "nbformat": 4,
  "nbformat_minor": 0,
  "metadata": {
    "colab": {
      "provenance": [],
      "authorship_tag": "ABX9TyMg8jiCASeAgPmGvQlo80+4"
    },
    "kernelspec": {
      "name": "python3",
      "display_name": "Python 3"
    },
    "language_info": {
      "name": "python"
    }
  },
  "cells": [
    {
      "cell_type": "code",
      "execution_count": null,
      "metadata": {
        "id": "nCBqZh64q4gr"
      },
      "outputs": [],
      "source": [
        "import torch\n",
        "import torch.nn as nn\n",
        "import numpy as np\n",
        "from sklearn import datasets\n",
        "from sklearn.preprocessing import StandardScaler\n",
        "from sklearn.model_selection import train_test_split"
      ]
    },
    {
      "cell_type": "code",
      "source": [
        "#Prepare data\n",
        "bc = datasets.load_breast_cancer()\n",
        "X, y = bc.data, bc.target\n",
        "\n",
        "n_samples, n_features = X.shape\n",
        "X_train, X_test, y_train,y_test = train_test_split(X,y, test_size=0.2, random_state = 42)\n",
        "\n",
        "#Scale features\n",
        "\n",
        "sc = StandardScaler()\n",
        "X_train = sc.fit_transform(X_train)\n",
        "X_test = sc.fit_transform(X_test)\n",
        "\n",
        "X_train = torch.from_numpy(X_train.astype(np.float32))\n",
        "X_test = torch.from_numpy(X_test.astype(np.float32))\n",
        "y_test = torch.from_numpy(y_test.astype(np.float32))\n",
        "y_train = torch.from_numpy(y_train.astype(np.float32))\n",
        "\n",
        "\n",
        "y_train = y_train.view(y_train.shape[0],1) # to transform it in style [ [1],[1],[1] ] FROM [1,0,1,1]\n",
        "y_test = y_test.view(y_test.shape[0],1)\n",
        "\n"
      ],
      "metadata": {
        "id": "YWI2yN6CrsEg"
      },
      "execution_count": null,
      "outputs": []
    },
    {
      "cell_type": "code",
      "source": [
        "#Design model\n",
        "\n",
        "# f = w*x + b, sigmoid at the end\n",
        "\n",
        "class LogisticRegression(nn.Module):\n",
        "  def __init__(self, n_input_features):\n",
        "    super(LogisticRegression, self).__init__()\n",
        "    self.linear = nn.Linear(n_input_features,1)\n",
        "  \n",
        "  def forward(self,x):\n",
        "    y_predicted = torch.sigmoid(self.linear(x))\n",
        "    return y_predicted\n",
        "\n",
        "model = LogisticRegression(n_features)"
      ],
      "metadata": {
        "id": "6Zm18dVArjx5"
      },
      "execution_count": null,
      "outputs": []
    },
    {
      "cell_type": "code",
      "source": [
        "#Loss and optimizer\n",
        "\n",
        "learning_rate = 0.001\n",
        "\n",
        "criterion = nn.BCELoss()\n",
        "optimizer = torch.optim.SGD(model.parameters(), lr = learning_rate)"
      ],
      "metadata": {
        "id": "nP_OZO_IrlLY"
      },
      "execution_count": null,
      "outputs": []
    },
    {
      "cell_type": "code",
      "source": [
        "#Training loop\n",
        "\n",
        "num_epochs = 100\n",
        "for epoch in range(num_epochs):\n",
        "  #forward pass and loss\n",
        "\n",
        "  y_predicted = model(X_train)\n",
        "  loss = criterion(y_predicted, y_train)\n",
        "\n",
        "  #backward pass\n",
        "  loss.backward()\n",
        "\n",
        "  #update weights\n",
        "  optimizer.step()\n",
        "\n",
        "  # zero gradients\n",
        "  optimizer.zero_grad()\n",
        "\n",
        "  if (epoch+1)%10 == 0:\n",
        "    print(f'epoch {epoch+1}, loss = {loss.item():.4f}')\n",
        "\n",
        "\n",
        "with torch.no_grad():\n",
        "  y_predicted = model(X_test)\n",
        "  y_predicted_classes = y_predicted.round()\n",
        "  acc = y_predicted_classes.eq(y_test).sum() / float(y_test.shape[0])\n",
        "  print(f\"accuracy = {acc:.4f}\")\n"
      ],
      "metadata": {
        "colab": {
          "base_uri": "https://localhost:8080/"
        },
        "id": "MbNCRF7wrnUp",
        "outputId": "006bbad9-2013-4bf4-9ca7-6c2e79a8bda0"
      },
      "execution_count": null,
      "outputs": [
        {
          "output_type": "stream",
          "name": "stdout",
          "text": [
            "epoch 10, loss = 0.4436\n",
            "epoch 20, loss = 0.4383\n",
            "epoch 30, loss = 0.4330\n",
            "epoch 40, loss = 0.4280\n",
            "epoch 50, loss = 0.4231\n",
            "epoch 60, loss = 0.4184\n",
            "epoch 70, loss = 0.4139\n",
            "epoch 80, loss = 0.4095\n",
            "epoch 90, loss = 0.4052\n",
            "epoch 100, loss = 0.4010\n",
            "accuracy = 0.9561\n"
          ]
        }
      ]
    }
  ]
}