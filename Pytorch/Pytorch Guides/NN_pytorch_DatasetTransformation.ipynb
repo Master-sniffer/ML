{
  "nbformat": 4,
  "nbformat_minor": 0,
  "metadata": {
    "colab": {
      "provenance": [],
      "authorship_tag": "ABX9TyM2VG4lOj60gSjHn0IiDlyD"
    },
    "kernelspec": {
      "name": "python3",
      "display_name": "Python 3"
    },
    "language_info": {
      "name": "python"
    }
  },
  "cells": [
    {
      "cell_type": "code",
      "execution_count": null,
      "metadata": {
        "id": "eLxBVenAEMVa"
      },
      "outputs": [],
      "source": [
        "import torch\n",
        "import torchvision \n",
        "import numpy as np\n",
        "from torch.utils.data import Dataset"
      ]
    },
    {
      "cell_type": "code",
      "source": [
        "class WineDataset(Dataset):\n",
        "  def __init__(self,transform = None):\n",
        "    xy = np.loadtxt(\"/content/wine.csv\", delimiter=\",\", dtype=np.float32, skiprows=1 )\n",
        "    self.n_samples = xy.shape[0]\n",
        "\n",
        "    #we do not transfomr to tensor here\n",
        "    self.x = xy[:,1:]\n",
        "    self.y = xy[:,[0]]\n",
        "\n",
        "    self.transform = transform # Whenether we use smth luke *dataset[0]* we call __getitem__ function in which we have transform\n",
        "  \n",
        "  def __getitem__(self, index):\n",
        "    sample = self.x[index], self.y[index] # Here we put in tuple our x and y\n",
        "\n",
        "    if self.transform:\n",
        "      sample = self.transform(sample) # here we init that if we have transform (and it is not null - use functions inited in transform)\n",
        "    \n",
        "    return sample\n",
        "  \n",
        "  def __len__(self):\n",
        "    return self.n_samples"
      ],
      "metadata": {
        "id": "eHj8ght1LlnW"
      },
      "execution_count": null,
      "outputs": []
    },
    {
      "cell_type": "code",
      "source": [
        "class ToTensor: #Our custom class to Transform numpy to Tensor\n",
        "  def __call__(self, sample): # Here we init function which activates when we use *dataset[0]*\n",
        "    inputs, targets = sample\n",
        "    return torch.from_numpy(inputs), torch.from_numpy(targets)"
      ],
      "metadata": {
        "id": "Bx8iM1GMPnAf"
      },
      "execution_count": null,
      "outputs": []
    },
    {
      "cell_type": "code",
      "source": [
        "class MulTransform:\n",
        "  def __init__(self,factor):\n",
        "    self.factor = factor\n",
        "  \n",
        "  def __call__(self,sample): #Here is the same as in the previous cell\n",
        "    inputs, target = sample \n",
        "    inputs *= self.factor\n",
        "    return inputs, target\n"
      ],
      "metadata": {
        "id": "dqKPs0-3fet1"
      },
      "execution_count": null,
      "outputs": []
    },
    {
      "cell_type": "code",
      "source": [
        "dataset = WineDataset(transform = ToTensor()) # Here we use transform which uses custom class ToTensor\n",
        "first_data = dataset[0]\n",
        "features, labels = first_data\n",
        "print((features), (labels))\n",
        "print(type(features), type(labels))"
      ],
      "metadata": {
        "colab": {
          "base_uri": "https://localhost:8080/"
        },
        "id": "NW0WeL8CPop3",
        "outputId": "d063931e-609b-4273-e1a2-23b29279a17f"
      },
      "execution_count": null,
      "outputs": [
        {
          "output_type": "stream",
          "name": "stdout",
          "text": [
            "tensor([1.4230e+01, 1.7100e+00, 2.4300e+00, 1.5600e+01, 1.2700e+02, 2.8000e+00,\n",
            "        3.0600e+00, 2.8000e-01, 2.2900e+00, 5.6400e+00, 1.0400e+00, 3.9200e+00,\n",
            "        1.0650e+03]) tensor([1.])\n",
            "<class 'torch.Tensor'> <class 'torch.Tensor'>\n"
          ]
        }
      ]
    },
    {
      "cell_type": "code",
      "source": [
        "composed = torchvision.transforms.Compose([ToTensor(), MulTransform(2)]) # We use torchvision, which helps to transform data and then we connect to custom classes so they are called whenether we write *dataset[0]*\n",
        "dataset = WineDataset(transform = composed)\n",
        "first_data = dataset[0]\n",
        "features, labels = first_data\n",
        "print((features), (labels))\n",
        "print(type(features), type(labels))"
      ],
      "metadata": {
        "id": "FDff6M_SPpMw",
        "colab": {
          "base_uri": "https://localhost:8080/"
        },
        "outputId": "e7bfc1e2-52e7-410c-cd08-e0b1ed671cef"
      },
      "execution_count": null,
      "outputs": [
        {
          "output_type": "stream",
          "name": "stdout",
          "text": [
            "tensor([2.8460e+01, 3.4200e+00, 4.8600e+00, 3.1200e+01, 2.5400e+02, 5.6000e+00,\n",
            "        6.1200e+00, 5.6000e-01, 4.5800e+00, 1.1280e+01, 2.0800e+00, 7.8400e+00,\n",
            "        2.1300e+03]) tensor([1.])\n",
            "<class 'torch.Tensor'> <class 'torch.Tensor'>\n"
          ]
        }
      ]
    },
    {
      "cell_type": "code",
      "source": [],
      "metadata": {
        "id": "NunBAFTwgsZT"
      },
      "execution_count": null,
      "outputs": []
    }
  ]
}