{
  "cells": [
    {
      "cell_type": "markdown",
      "metadata": {
        "id": "BWMQQXUkmvhw"
      },
      "source": [
        "https://xgboost.readthedocs.io/en/stable/parameter.html\n",
        "\n"
      ]
    },
    {
      "cell_type": "code",
      "execution_count": 116,
      "metadata": {
        "colab": {
          "base_uri": "https://localhost:8080/"
        },
        "id": "FpmywITgTDsa",
        "outputId": "f5eb459b-c19e-4ecd-80cb-1db3b857e40b"
      },
      "outputs": [
        {
          "name": "stdout",
          "output_type": "stream",
          "text": [
            "Looking in indexes: https://pypi.org/simple, https://us-python.pkg.dev/colab-wheels/public/simple/\n",
            "Requirement already satisfied: optuna in /usr/local/lib/python3.7/dist-packages (3.0.2)\n",
            "Requirement already satisfied: sqlalchemy>=1.3.0 in /usr/local/lib/python3.7/dist-packages (from optuna) (1.4.41)\n",
            "Requirement already satisfied: packaging>=20.0 in /usr/local/lib/python3.7/dist-packages (from optuna) (21.3)\n",
            "Requirement already satisfied: tqdm in /usr/local/lib/python3.7/dist-packages (from optuna) (4.64.1)\n",
            "Requirement already satisfied: cliff in /usr/local/lib/python3.7/dist-packages (from optuna) (3.10.1)\n",
            "Requirement already satisfied: cmaes>=0.8.2 in /usr/local/lib/python3.7/dist-packages (from optuna) (0.8.2)\n",
            "Requirement already satisfied: numpy in /usr/local/lib/python3.7/dist-packages (from optuna) (1.21.6)\n",
            "Requirement already satisfied: scipy<1.9.0,>=1.7.0 in /usr/local/lib/python3.7/dist-packages (from optuna) (1.7.3)\n",
            "Requirement already satisfied: colorlog in /usr/local/lib/python3.7/dist-packages (from optuna) (6.7.0)\n",
            "Requirement already satisfied: alembic>=1.5.0 in /usr/local/lib/python3.7/dist-packages (from optuna) (1.8.1)\n",
            "Requirement already satisfied: PyYAML in /usr/local/lib/python3.7/dist-packages (from optuna) (6.0)\n",
            "Requirement already satisfied: Mako in /usr/local/lib/python3.7/dist-packages (from alembic>=1.5.0->optuna) (1.2.3)\n",
            "Requirement already satisfied: importlib-resources in /usr/local/lib/python3.7/dist-packages (from alembic>=1.5.0->optuna) (5.9.0)\n",
            "Requirement already satisfied: importlib-metadata in /usr/local/lib/python3.7/dist-packages (from alembic>=1.5.0->optuna) (5.0.0)\n",
            "Requirement already satisfied: pyparsing!=3.0.5,>=2.0.2 in /usr/local/lib/python3.7/dist-packages (from packaging>=20.0->optuna) (3.0.9)\n",
            "Requirement already satisfied: greenlet!=0.4.17 in /usr/local/lib/python3.7/dist-packages (from sqlalchemy>=1.3.0->optuna) (1.1.3)\n",
            "Requirement already satisfied: autopage>=0.4.0 in /usr/local/lib/python3.7/dist-packages (from cliff->optuna) (0.5.1)\n",
            "Requirement already satisfied: cmd2>=1.0.0 in /usr/local/lib/python3.7/dist-packages (from cliff->optuna) (2.4.2)\n",
            "Requirement already satisfied: pbr!=2.1.0,>=2.0.0 in /usr/local/lib/python3.7/dist-packages (from cliff->optuna) (5.10.0)\n",
            "Requirement already satisfied: PrettyTable>=0.7.2 in /usr/local/lib/python3.7/dist-packages (from cliff->optuna) (3.4.1)\n",
            "Requirement already satisfied: stevedore>=2.0.1 in /usr/local/lib/python3.7/dist-packages (from cliff->optuna) (3.5.0)\n",
            "Requirement already satisfied: typing-extensions in /usr/local/lib/python3.7/dist-packages (from cmd2>=1.0.0->cliff->optuna) (4.1.1)\n",
            "Requirement already satisfied: attrs>=16.3.0 in /usr/local/lib/python3.7/dist-packages (from cmd2>=1.0.0->cliff->optuna) (22.1.0)\n",
            "Requirement already satisfied: wcwidth>=0.1.7 in /usr/local/lib/python3.7/dist-packages (from cmd2>=1.0.0->cliff->optuna) (0.2.5)\n",
            "Requirement already satisfied: pyperclip>=1.6 in /usr/local/lib/python3.7/dist-packages (from cmd2>=1.0.0->cliff->optuna) (1.8.2)\n",
            "Requirement already satisfied: zipp>=0.5 in /usr/local/lib/python3.7/dist-packages (from importlib-metadata->alembic>=1.5.0->optuna) (3.8.1)\n",
            "Requirement already satisfied: MarkupSafe>=0.9.2 in /usr/local/lib/python3.7/dist-packages (from Mako->alembic>=1.5.0->optuna) (2.0.1)\n"
          ]
        }
      ],
      "source": [
        "!pip install optuna "
      ]
    },
    {
      "cell_type": "code",
      "execution_count": 117,
      "metadata": {
        "id": "rCEl9xZZ6h2y"
      },
      "outputs": [],
      "source": [
        "import numpy as np\n",
        "import pandas as pd\n",
        "import matplotlib.pyplot as plt\n",
        "import seaborn as sns \n",
        "from sklearn.linear_model import LogisticRegression\n",
        "from sklearn.neighbors import KNeighborsClassifier\n",
        "from sklearn.preprocessing import LabelEncoder\n",
        "from xgboost import XGBClassifier\n",
        "from sklearn.tree import DecisionTreeClassifier\n",
        "from sklearn.ensemble import RandomForestClassifier\n",
        "from sklearn.model_selection import train_test_split\n",
        "from matplotlib import pyplot as plt\n",
        "from sklearn.preprocessing import RobustScaler\n",
        "from sklearn.utils import resample\n",
        "from sklearn.metrics import matthews_corrcoef\n",
        "\n",
        "from sklearn.experimental import enable_halving_search_cv  # noqa\n",
        "from sklearn.model_selection import HalvingGridSearchCV\n",
        "\n",
        "import optuna\n",
        "\n",
        "import xgboost\n",
        "\n",
        "from sklearn.metrics import make_scorer , accuracy_score, mean_squared_error\n",
        "from sklearn.model_selection import GridSearchCV,KFold,train_test_split"
      ]
    },
    {
      "cell_type": "code",
      "execution_count": 118,
      "metadata": {
        "colab": {
          "base_uri": "https://localhost:8080/",
          "height": 1000
        },
        "id": "BWnVTjpp7Xry",
        "outputId": "1040e1ff-e37b-4f43-fa3f-45ea93ca99f4"
      },
      "outputs": [
        {
          "data": {
            "text/html": [
              "\n",
              "  <div id=\"df-052f5ef5-2253-499c-95e0-ff94f5c853e9\">\n",
              "    <div class=\"colab-df-container\">\n",
              "      <div>\n",
              "<style scoped>\n",
              "    .dataframe tbody tr th:only-of-type {\n",
              "        vertical-align: middle;\n",
              "    }\n",
              "\n",
              "    .dataframe tbody tr th {\n",
              "        vertical-align: top;\n",
              "    }\n",
              "\n",
              "    .dataframe thead th {\n",
              "        text-align: right;\n",
              "    }\n",
              "</style>\n",
              "<table border=\"1\" class=\"dataframe\">\n",
              "  <thead>\n",
              "    <tr style=\"text-align: right;\">\n",
              "      <th></th>\n",
              "      <th>Loan ID</th>\n",
              "      <th>Customer ID</th>\n",
              "      <th>Loan Status</th>\n",
              "      <th>Current Loan Amount</th>\n",
              "      <th>Term</th>\n",
              "      <th>Credit Score</th>\n",
              "      <th>Annual Income</th>\n",
              "      <th>Years in current job</th>\n",
              "      <th>Home Ownership</th>\n",
              "      <th>Purpose</th>\n",
              "      <th>Monthly Debt</th>\n",
              "      <th>Years of Credit History</th>\n",
              "      <th>Months since last delinquent</th>\n",
              "      <th>Number of Open Accounts</th>\n",
              "      <th>Number of Credit Problems</th>\n",
              "      <th>Current Credit Balance</th>\n",
              "      <th>Maximum Open Credit</th>\n",
              "      <th>Bankruptcies</th>\n",
              "      <th>Tax Liens</th>\n",
              "    </tr>\n",
              "  </thead>\n",
              "  <tbody>\n",
              "    <tr>\n",
              "      <th>0</th>\n",
              "      <td>14dd8831-6af5-400b-83ec-68e61888a048</td>\n",
              "      <td>981165ec-3274-42f5-a3b4-d104041a9ca9</td>\n",
              "      <td>Fully Paid</td>\n",
              "      <td>445412</td>\n",
              "      <td>Short Term</td>\n",
              "      <td>709.0</td>\n",
              "      <td>1167493.0</td>\n",
              "      <td>8 years</td>\n",
              "      <td>Home Mortgage</td>\n",
              "      <td>Home Improvements</td>\n",
              "      <td>5214.74</td>\n",
              "      <td>17.2</td>\n",
              "      <td>NaN</td>\n",
              "      <td>6</td>\n",
              "      <td>1</td>\n",
              "      <td>228190</td>\n",
              "      <td>416746.0</td>\n",
              "      <td>1.0</td>\n",
              "      <td>0.0</td>\n",
              "    </tr>\n",
              "    <tr>\n",
              "      <th>1</th>\n",
              "      <td>4771cc26-131a-45db-b5aa-537ea4ba5342</td>\n",
              "      <td>2de017a3-2e01-49cb-a581-08169e83be29</td>\n",
              "      <td>Fully Paid</td>\n",
              "      <td>262328</td>\n",
              "      <td>Short Term</td>\n",
              "      <td>NaN</td>\n",
              "      <td>NaN</td>\n",
              "      <td>10+ years</td>\n",
              "      <td>Home Mortgage</td>\n",
              "      <td>Debt Consolidation</td>\n",
              "      <td>33295.98</td>\n",
              "      <td>21.1</td>\n",
              "      <td>8.0</td>\n",
              "      <td>35</td>\n",
              "      <td>0</td>\n",
              "      <td>229976</td>\n",
              "      <td>850784.0</td>\n",
              "      <td>0.0</td>\n",
              "      <td>0.0</td>\n",
              "    </tr>\n",
              "    <tr>\n",
              "      <th>2</th>\n",
              "      <td>4eed4e6a-aa2f-4c91-8651-ce984ee8fb26</td>\n",
              "      <td>5efb2b2b-bf11-4dfd-a572-3761a2694725</td>\n",
              "      <td>Fully Paid</td>\n",
              "      <td>99999999</td>\n",
              "      <td>Short Term</td>\n",
              "      <td>741.0</td>\n",
              "      <td>2231892.0</td>\n",
              "      <td>8 years</td>\n",
              "      <td>Own Home</td>\n",
              "      <td>Debt Consolidation</td>\n",
              "      <td>29200.53</td>\n",
              "      <td>14.9</td>\n",
              "      <td>29.0</td>\n",
              "      <td>18</td>\n",
              "      <td>1</td>\n",
              "      <td>297996</td>\n",
              "      <td>750090.0</td>\n",
              "      <td>0.0</td>\n",
              "      <td>0.0</td>\n",
              "    </tr>\n",
              "    <tr>\n",
              "      <th>3</th>\n",
              "      <td>77598f7b-32e7-4e3b-a6e5-06ba0d98fe8a</td>\n",
              "      <td>e777faab-98ae-45af-9a86-7ce5b33b1011</td>\n",
              "      <td>Fully Paid</td>\n",
              "      <td>347666</td>\n",
              "      <td>Long Term</td>\n",
              "      <td>721.0</td>\n",
              "      <td>806949.0</td>\n",
              "      <td>3 years</td>\n",
              "      <td>Own Home</td>\n",
              "      <td>Debt Consolidation</td>\n",
              "      <td>8741.90</td>\n",
              "      <td>12.0</td>\n",
              "      <td>NaN</td>\n",
              "      <td>9</td>\n",
              "      <td>0</td>\n",
              "      <td>256329</td>\n",
              "      <td>386958.0</td>\n",
              "      <td>0.0</td>\n",
              "      <td>0.0</td>\n",
              "    </tr>\n",
              "    <tr>\n",
              "      <th>4</th>\n",
              "      <td>d4062e70-befa-4995-8643-a0de73938182</td>\n",
              "      <td>81536ad9-5ccf-4eb8-befb-47a4d608658e</td>\n",
              "      <td>Fully Paid</td>\n",
              "      <td>176220</td>\n",
              "      <td>Short Term</td>\n",
              "      <td>NaN</td>\n",
              "      <td>NaN</td>\n",
              "      <td>5 years</td>\n",
              "      <td>Rent</td>\n",
              "      <td>Debt Consolidation</td>\n",
              "      <td>20639.70</td>\n",
              "      <td>6.1</td>\n",
              "      <td>NaN</td>\n",
              "      <td>15</td>\n",
              "      <td>0</td>\n",
              "      <td>253460</td>\n",
              "      <td>427174.0</td>\n",
              "      <td>0.0</td>\n",
              "      <td>0.0</td>\n",
              "    </tr>\n",
              "    <tr>\n",
              "      <th>...</th>\n",
              "      <td>...</td>\n",
              "      <td>...</td>\n",
              "      <td>...</td>\n",
              "      <td>...</td>\n",
              "      <td>...</td>\n",
              "      <td>...</td>\n",
              "      <td>...</td>\n",
              "      <td>...</td>\n",
              "      <td>...</td>\n",
              "      <td>...</td>\n",
              "      <td>...</td>\n",
              "      <td>...</td>\n",
              "      <td>...</td>\n",
              "      <td>...</td>\n",
              "      <td>...</td>\n",
              "      <td>...</td>\n",
              "      <td>...</td>\n",
              "      <td>...</td>\n",
              "      <td>...</td>\n",
              "    </tr>\n",
              "    <tr>\n",
              "      <th>99995</th>\n",
              "      <td>3f94c18c-ba8f-45d0-8610-88a684a410a9</td>\n",
              "      <td>2da51983-cfef-4b8f-a733-5dfaf69e9281</td>\n",
              "      <td>Fully Paid</td>\n",
              "      <td>147070</td>\n",
              "      <td>Short Term</td>\n",
              "      <td>725.0</td>\n",
              "      <td>475437.0</td>\n",
              "      <td>7 years</td>\n",
              "      <td>Own Home</td>\n",
              "      <td>other</td>\n",
              "      <td>2202.86</td>\n",
              "      <td>22.3</td>\n",
              "      <td>NaN</td>\n",
              "      <td>5</td>\n",
              "      <td>0</td>\n",
              "      <td>47766</td>\n",
              "      <td>658548.0</td>\n",
              "      <td>0.0</td>\n",
              "      <td>0.0</td>\n",
              "    </tr>\n",
              "    <tr>\n",
              "      <th>99996</th>\n",
              "      <td>06eba04f-58fc-424a-b666-ed72aa008900</td>\n",
              "      <td>77f2252a-b7d1-4b07-a746-1202a8304290</td>\n",
              "      <td>Fully Paid</td>\n",
              "      <td>99999999</td>\n",
              "      <td>Short Term</td>\n",
              "      <td>732.0</td>\n",
              "      <td>1289416.0</td>\n",
              "      <td>1 year</td>\n",
              "      <td>Rent</td>\n",
              "      <td>Debt Consolidation</td>\n",
              "      <td>13109.05</td>\n",
              "      <td>9.4</td>\n",
              "      <td>21.0</td>\n",
              "      <td>22</td>\n",
              "      <td>0</td>\n",
              "      <td>153045</td>\n",
              "      <td>509234.0</td>\n",
              "      <td>0.0</td>\n",
              "      <td>0.0</td>\n",
              "    </tr>\n",
              "    <tr>\n",
              "      <th>99997</th>\n",
              "      <td>e1cb4050-eff5-4bdb-a1b0-aabd3f7eaac7</td>\n",
              "      <td>2ced5f10-bd60-4a11-9134-cadce4e7b0a3</td>\n",
              "      <td>Fully Paid</td>\n",
              "      <td>103136</td>\n",
              "      <td>Short Term</td>\n",
              "      <td>742.0</td>\n",
              "      <td>1150545.0</td>\n",
              "      <td>6 years</td>\n",
              "      <td>Rent</td>\n",
              "      <td>Debt Consolidation</td>\n",
              "      <td>7315.57</td>\n",
              "      <td>18.8</td>\n",
              "      <td>18.0</td>\n",
              "      <td>12</td>\n",
              "      <td>1</td>\n",
              "      <td>109554</td>\n",
              "      <td>537548.0</td>\n",
              "      <td>1.0</td>\n",
              "      <td>0.0</td>\n",
              "    </tr>\n",
              "    <tr>\n",
              "      <th>99998</th>\n",
              "      <td>81ab928b-d1a5-4523-9a3c-271ebb01b4fb</td>\n",
              "      <td>3e45ffda-99fd-4cfc-b8b8-446f4a505f36</td>\n",
              "      <td>Fully Paid</td>\n",
              "      <td>530332</td>\n",
              "      <td>Short Term</td>\n",
              "      <td>746.0</td>\n",
              "      <td>1717524.0</td>\n",
              "      <td>9 years</td>\n",
              "      <td>Rent</td>\n",
              "      <td>Debt Consolidation</td>\n",
              "      <td>9890.07</td>\n",
              "      <td>15.0</td>\n",
              "      <td>NaN</td>\n",
              "      <td>8</td>\n",
              "      <td>0</td>\n",
              "      <td>404225</td>\n",
              "      <td>738254.0</td>\n",
              "      <td>0.0</td>\n",
              "      <td>0.0</td>\n",
              "    </tr>\n",
              "    <tr>\n",
              "      <th>99999</th>\n",
              "      <td>c63916c6-6d46-47a9-949a-51d09af4414f</td>\n",
              "      <td>1b3014be-5c07-4d41-abe7-44573c375886</td>\n",
              "      <td>Fully Paid</td>\n",
              "      <td>99999999</td>\n",
              "      <td>Short Term</td>\n",
              "      <td>743.0</td>\n",
              "      <td>935180.0</td>\n",
              "      <td>NaN</td>\n",
              "      <td>Own Home</td>\n",
              "      <td>Debt Consolidation</td>\n",
              "      <td>9118.10</td>\n",
              "      <td>13.0</td>\n",
              "      <td>NaN</td>\n",
              "      <td>4</td>\n",
              "      <td>1</td>\n",
              "      <td>45600</td>\n",
              "      <td>91014.0</td>\n",
              "      <td>1.0</td>\n",
              "      <td>0.0</td>\n",
              "    </tr>\n",
              "  </tbody>\n",
              "</table>\n",
              "<p>100000 rows × 19 columns</p>\n",
              "</div>\n",
              "      <button class=\"colab-df-convert\" onclick=\"convertToInteractive('df-052f5ef5-2253-499c-95e0-ff94f5c853e9')\"\n",
              "              title=\"Convert this dataframe to an interactive table.\"\n",
              "              style=\"display:none;\">\n",
              "        \n",
              "  <svg xmlns=\"http://www.w3.org/2000/svg\" height=\"24px\"viewBox=\"0 0 24 24\"\n",
              "       width=\"24px\">\n",
              "    <path d=\"M0 0h24v24H0V0z\" fill=\"none\"/>\n",
              "    <path d=\"M18.56 5.44l.94 2.06.94-2.06 2.06-.94-2.06-.94-.94-2.06-.94 2.06-2.06.94zm-11 1L8.5 8.5l.94-2.06 2.06-.94-2.06-.94L8.5 2.5l-.94 2.06-2.06.94zm10 10l.94 2.06.94-2.06 2.06-.94-2.06-.94-.94-2.06-.94 2.06-2.06.94z\"/><path d=\"M17.41 7.96l-1.37-1.37c-.4-.4-.92-.59-1.43-.59-.52 0-1.04.2-1.43.59L10.3 9.45l-7.72 7.72c-.78.78-.78 2.05 0 2.83L4 21.41c.39.39.9.59 1.41.59.51 0 1.02-.2 1.41-.59l7.78-7.78 2.81-2.81c.8-.78.8-2.07 0-2.86zM5.41 20L4 18.59l7.72-7.72 1.47 1.35L5.41 20z\"/>\n",
              "  </svg>\n",
              "      </button>\n",
              "      \n",
              "  <style>\n",
              "    .colab-df-container {\n",
              "      display:flex;\n",
              "      flex-wrap:wrap;\n",
              "      gap: 12px;\n",
              "    }\n",
              "\n",
              "    .colab-df-convert {\n",
              "      background-color: #E8F0FE;\n",
              "      border: none;\n",
              "      border-radius: 50%;\n",
              "      cursor: pointer;\n",
              "      display: none;\n",
              "      fill: #1967D2;\n",
              "      height: 32px;\n",
              "      padding: 0 0 0 0;\n",
              "      width: 32px;\n",
              "    }\n",
              "\n",
              "    .colab-df-convert:hover {\n",
              "      background-color: #E2EBFA;\n",
              "      box-shadow: 0px 1px 2px rgba(60, 64, 67, 0.3), 0px 1px 3px 1px rgba(60, 64, 67, 0.15);\n",
              "      fill: #174EA6;\n",
              "    }\n",
              "\n",
              "    [theme=dark] .colab-df-convert {\n",
              "      background-color: #3B4455;\n",
              "      fill: #D2E3FC;\n",
              "    }\n",
              "\n",
              "    [theme=dark] .colab-df-convert:hover {\n",
              "      background-color: #434B5C;\n",
              "      box-shadow: 0px 1px 3px 1px rgba(0, 0, 0, 0.15);\n",
              "      filter: drop-shadow(0px 1px 2px rgba(0, 0, 0, 0.3));\n",
              "      fill: #FFFFFF;\n",
              "    }\n",
              "  </style>\n",
              "\n",
              "      <script>\n",
              "        const buttonEl =\n",
              "          document.querySelector('#df-052f5ef5-2253-499c-95e0-ff94f5c853e9 button.colab-df-convert');\n",
              "        buttonEl.style.display =\n",
              "          google.colab.kernel.accessAllowed ? 'block' : 'none';\n",
              "\n",
              "        async function convertToInteractive(key) {\n",
              "          const element = document.querySelector('#df-052f5ef5-2253-499c-95e0-ff94f5c853e9');\n",
              "          const dataTable =\n",
              "            await google.colab.kernel.invokeFunction('convertToInteractive',\n",
              "                                                     [key], {});\n",
              "          if (!dataTable) return;\n",
              "\n",
              "          const docLinkHtml = 'Like what you see? Visit the ' +\n",
              "            '<a target=\"_blank\" href=https://colab.research.google.com/notebooks/data_table.ipynb>data table notebook</a>'\n",
              "            + ' to learn more about interactive tables.';\n",
              "          element.innerHTML = '';\n",
              "          dataTable['output_type'] = 'display_data';\n",
              "          await google.colab.output.renderOutput(dataTable, element);\n",
              "          const docLink = document.createElement('div');\n",
              "          docLink.innerHTML = docLinkHtml;\n",
              "          element.appendChild(docLink);\n",
              "        }\n",
              "      </script>\n",
              "    </div>\n",
              "  </div>\n",
              "  "
            ],
            "text/plain": [
              "                                    Loan ID  \\\n",
              "0      14dd8831-6af5-400b-83ec-68e61888a048   \n",
              "1      4771cc26-131a-45db-b5aa-537ea4ba5342   \n",
              "2      4eed4e6a-aa2f-4c91-8651-ce984ee8fb26   \n",
              "3      77598f7b-32e7-4e3b-a6e5-06ba0d98fe8a   \n",
              "4      d4062e70-befa-4995-8643-a0de73938182   \n",
              "...                                     ...   \n",
              "99995  3f94c18c-ba8f-45d0-8610-88a684a410a9   \n",
              "99996  06eba04f-58fc-424a-b666-ed72aa008900   \n",
              "99997  e1cb4050-eff5-4bdb-a1b0-aabd3f7eaac7   \n",
              "99998  81ab928b-d1a5-4523-9a3c-271ebb01b4fb   \n",
              "99999  c63916c6-6d46-47a9-949a-51d09af4414f   \n",
              "\n",
              "                                Customer ID Loan Status  Current Loan Amount  \\\n",
              "0      981165ec-3274-42f5-a3b4-d104041a9ca9  Fully Paid               445412   \n",
              "1      2de017a3-2e01-49cb-a581-08169e83be29  Fully Paid               262328   \n",
              "2      5efb2b2b-bf11-4dfd-a572-3761a2694725  Fully Paid             99999999   \n",
              "3      e777faab-98ae-45af-9a86-7ce5b33b1011  Fully Paid               347666   \n",
              "4      81536ad9-5ccf-4eb8-befb-47a4d608658e  Fully Paid               176220   \n",
              "...                                     ...         ...                  ...   \n",
              "99995  2da51983-cfef-4b8f-a733-5dfaf69e9281  Fully Paid               147070   \n",
              "99996  77f2252a-b7d1-4b07-a746-1202a8304290  Fully Paid             99999999   \n",
              "99997  2ced5f10-bd60-4a11-9134-cadce4e7b0a3  Fully Paid               103136   \n",
              "99998  3e45ffda-99fd-4cfc-b8b8-446f4a505f36  Fully Paid               530332   \n",
              "99999  1b3014be-5c07-4d41-abe7-44573c375886  Fully Paid             99999999   \n",
              "\n",
              "             Term  Credit Score  Annual Income Years in current job  \\\n",
              "0      Short Term         709.0      1167493.0              8 years   \n",
              "1      Short Term           NaN            NaN            10+ years   \n",
              "2      Short Term         741.0      2231892.0              8 years   \n",
              "3       Long Term         721.0       806949.0              3 years   \n",
              "4      Short Term           NaN            NaN              5 years   \n",
              "...           ...           ...            ...                  ...   \n",
              "99995  Short Term         725.0       475437.0              7 years   \n",
              "99996  Short Term         732.0      1289416.0               1 year   \n",
              "99997  Short Term         742.0      1150545.0              6 years   \n",
              "99998  Short Term         746.0      1717524.0              9 years   \n",
              "99999  Short Term         743.0       935180.0                  NaN   \n",
              "\n",
              "      Home Ownership             Purpose  Monthly Debt  \\\n",
              "0      Home Mortgage   Home Improvements       5214.74   \n",
              "1      Home Mortgage  Debt Consolidation      33295.98   \n",
              "2           Own Home  Debt Consolidation      29200.53   \n",
              "3           Own Home  Debt Consolidation       8741.90   \n",
              "4               Rent  Debt Consolidation      20639.70   \n",
              "...              ...                 ...           ...   \n",
              "99995       Own Home               other       2202.86   \n",
              "99996           Rent  Debt Consolidation      13109.05   \n",
              "99997           Rent  Debt Consolidation       7315.57   \n",
              "99998           Rent  Debt Consolidation       9890.07   \n",
              "99999       Own Home  Debt Consolidation       9118.10   \n",
              "\n",
              "       Years of Credit History  Months since last delinquent  \\\n",
              "0                         17.2                           NaN   \n",
              "1                         21.1                           8.0   \n",
              "2                         14.9                          29.0   \n",
              "3                         12.0                           NaN   \n",
              "4                          6.1                           NaN   \n",
              "...                        ...                           ...   \n",
              "99995                     22.3                           NaN   \n",
              "99996                      9.4                          21.0   \n",
              "99997                     18.8                          18.0   \n",
              "99998                     15.0                           NaN   \n",
              "99999                     13.0                           NaN   \n",
              "\n",
              "       Number of Open Accounts  Number of Credit Problems  \\\n",
              "0                            6                          1   \n",
              "1                           35                          0   \n",
              "2                           18                          1   \n",
              "3                            9                          0   \n",
              "4                           15                          0   \n",
              "...                        ...                        ...   \n",
              "99995                        5                          0   \n",
              "99996                       22                          0   \n",
              "99997                       12                          1   \n",
              "99998                        8                          0   \n",
              "99999                        4                          1   \n",
              "\n",
              "       Current Credit Balance  Maximum Open Credit  Bankruptcies  Tax Liens  \n",
              "0                      228190             416746.0           1.0        0.0  \n",
              "1                      229976             850784.0           0.0        0.0  \n",
              "2                      297996             750090.0           0.0        0.0  \n",
              "3                      256329             386958.0           0.0        0.0  \n",
              "4                      253460             427174.0           0.0        0.0  \n",
              "...                       ...                  ...           ...        ...  \n",
              "99995                   47766             658548.0           0.0        0.0  \n",
              "99996                  153045             509234.0           0.0        0.0  \n",
              "99997                  109554             537548.0           1.0        0.0  \n",
              "99998                  404225             738254.0           0.0        0.0  \n",
              "99999                   45600              91014.0           1.0        0.0  \n",
              "\n",
              "[100000 rows x 19 columns]"
            ]
          },
          "execution_count": 118,
          "metadata": {},
          "output_type": "execute_result"
        }
      ],
      "source": [
        "df = pd.read_csv('/content/credit_train.csv')\n",
        "df"
      ]
    },
    {
      "cell_type": "code",
      "execution_count": 119,
      "metadata": {
        "id": "VGrJ7LFAahPD"
      },
      "outputs": [],
      "source": [
        "#df = df.drop_duplicates()"
      ]
    },
    {
      "cell_type": "code",
      "execution_count": 120,
      "metadata": {
        "colab": {
          "base_uri": "https://localhost:8080/"
        },
        "id": "1k3kCDvw-xYq",
        "outputId": "2f0f77e9-8f4e-48e1-be6a-a4578b611b11"
      },
      "outputs": [
        {
          "data": {
            "text/plain": [
              "Loan ID                             0\n",
              "Customer ID                         0\n",
              "Loan Status                         0\n",
              "Current Loan Amount                 0\n",
              "Term                                0\n",
              "Credit Score                    19154\n",
              "Annual Income                   19154\n",
              "Years in current job             4222\n",
              "Home Ownership                      0\n",
              "Purpose                             0\n",
              "Monthly Debt                        0\n",
              "Years of Credit History             0\n",
              "Months since last delinquent    53141\n",
              "Number of Open Accounts             0\n",
              "Number of Credit Problems           0\n",
              "Current Credit Balance              0\n",
              "Maximum Open Credit                 2\n",
              "Bankruptcies                      204\n",
              "Tax Liens                          10\n",
              "dtype: int64"
            ]
          },
          "execution_count": 120,
          "metadata": {},
          "output_type": "execute_result"
        }
      ],
      "source": [
        "df.isnull().sum()"
      ]
    },
    {
      "cell_type": "code",
      "execution_count": 121,
      "metadata": {
        "id": "FTJF14R2_HU3"
      },
      "outputs": [],
      "source": [
        "df.drop('Loan ID',axis=1,inplace=True)\n",
        "df.drop('Customer ID',axis=1,inplace=True)"
      ]
    },
    {
      "cell_type": "code",
      "execution_count": 122,
      "metadata": {
        "colab": {
          "base_uri": "https://localhost:8080/",
          "height": 281
        },
        "id": "7Hu7mg-6_c_6",
        "outputId": "87c1e26b-b27f-41b3-eeb0-bd28218dd6fb"
      },
      "outputs": [
        {
          "data": {
            "image/png": "[encoded data removed]",
            "text/plain": [
              "<Figure size 432x288 with 1 Axes>"
            ]
          },
          "metadata": {
            "needs_background": "light"
          },
          "output_type": "display_data"
        }
      ],
      "source": [
        "ax = sns.countplot(x=\"Loan Status\", data=df,hue=\"Home Ownership\",palette=\"Set1\")"
      ]
    },
    {
      "cell_type": "code",
      "execution_count": 123,
      "metadata": {
        "colab": {
          "base_uri": "https://localhost:8080/",
          "height": 362
        },
        "id": "P5CfcIFP_1e6",
        "outputId": "59f44a84-82aa-48b2-9ded-a8eedcb26b9e"
      },
      "outputs": [
        {
          "name": "stderr",
          "output_type": "stream",
          "text": [
            "/usr/local/lib/python3.7/dist-packages/seaborn/distributions.py:2619: FutureWarning: `distplot` is a deprecated function and will be removed in a future version. Please adapt your code to use either `displot` (a figure-level function with similar flexibility) or `histplot` (an axes-level function for histograms).\n",
            "  warnings.warn(msg, FutureWarning)\n"
          ]
        },
        {
          "data": {
            "text/plain": [
              "<matplotlib.axes._subplots.AxesSubplot at 0x7ff24c248750>"
            ]
          },
          "execution_count": 123,
          "metadata": {},
          "output_type": "execute_result"
        },
        {
          "data": {
            "image/png": "[encoded data removed]",
            "text/plain": [
              "<Figure size 432x288 with 1 Axes>"
            ]
          },
          "metadata": {
            "needs_background": "light"
          },
          "output_type": "display_data"
        }
      ],
      "source": [
        "sns.distplot(df[\"Monthly Debt\"])"
      ]
    },
    {
      "cell_type": "code",
      "execution_count": 124,
      "metadata": {
        "colab": {
          "base_uri": "https://localhost:8080/",
          "height": 676
        },
        "id": "gvuS8oqrdx20",
        "outputId": "a59c47fc-c05c-4210-d81b-ef7f54ff0e20"
      },
      "outputs": [
        {
          "data": {
            "text/html": [
              "\n",
              "  <div id=\"df-9e6ee8e9-76fd-420f-b00d-b3d44bffc7a5\">\n",
              "    <div class=\"colab-df-container\">\n",
              "      <div>\n",
              "<style scoped>\n",
              "    .dataframe tbody tr th:only-of-type {\n",
              "        vertical-align: middle;\n",
              "    }\n",
              "\n",
              "    .dataframe tbody tr th {\n",
              "        vertical-align: top;\n",
              "    }\n",
              "\n",
              "    .dataframe thead th {\n",
              "        text-align: right;\n",
              "    }\n",
              "</style>\n",
              "<table border=\"1\" class=\"dataframe\">\n",
              "  <thead>\n",
              "    <tr style=\"text-align: right;\">\n",
              "      <th></th>\n",
              "      <th>Loan Status</th>\n",
              "      <th>Current Loan Amount</th>\n",
              "      <th>Term</th>\n",
              "      <th>Credit Score</th>\n",
              "      <th>Annual Income</th>\n",
              "      <th>Years in current job</th>\n",
              "      <th>Home Ownership</th>\n",
              "      <th>Purpose</th>\n",
              "      <th>Monthly Debt</th>\n",
              "      <th>Years of Credit History</th>\n",
              "      <th>Months since last delinquent</th>\n",
              "      <th>Number of Open Accounts</th>\n",
              "      <th>Number of Credit Problems</th>\n",
              "      <th>Current Credit Balance</th>\n",
              "      <th>Maximum Open Credit</th>\n",
              "      <th>Bankruptcies</th>\n",
              "      <th>Tax Liens</th>\n",
              "    </tr>\n",
              "  </thead>\n",
              "  <tbody>\n",
              "    <tr>\n",
              "      <th>0</th>\n",
              "      <td>Fully Paid</td>\n",
              "      <td>445412</td>\n",
              "      <td>Short Term</td>\n",
              "      <td>709.0</td>\n",
              "      <td>1167493.0</td>\n",
              "      <td>8 years</td>\n",
              "      <td>Home Mortgage</td>\n",
              "      <td>Home Improvements</td>\n",
              "      <td>5214.74</td>\n",
              "      <td>17.2</td>\n",
              "      <td>NaN</td>\n",
              "      <td>6</td>\n",
              "      <td>1</td>\n",
              "      <td>228190</td>\n",
              "      <td>416746.0</td>\n",
              "      <td>1.0</td>\n",
              "      <td>0.0</td>\n",
              "    </tr>\n",
              "    <tr>\n",
              "      <th>1</th>\n",
              "      <td>Fully Paid</td>\n",
              "      <td>262328</td>\n",
              "      <td>Short Term</td>\n",
              "      <td>NaN</td>\n",
              "      <td>NaN</td>\n",
              "      <td>10+ years</td>\n",
              "      <td>Home Mortgage</td>\n",
              "      <td>Debt Consolidation</td>\n",
              "      <td>33295.98</td>\n",
              "      <td>21.1</td>\n",
              "      <td>8.0</td>\n",
              "      <td>35</td>\n",
              "      <td>0</td>\n",
              "      <td>229976</td>\n",
              "      <td>850784.0</td>\n",
              "      <td>0.0</td>\n",
              "      <td>0.0</td>\n",
              "    </tr>\n",
              "    <tr>\n",
              "      <th>2</th>\n",
              "      <td>Fully Paid</td>\n",
              "      <td>99999999</td>\n",
              "      <td>Short Term</td>\n",
              "      <td>741.0</td>\n",
              "      <td>2231892.0</td>\n",
              "      <td>8 years</td>\n",
              "      <td>Own Home</td>\n",
              "      <td>Debt Consolidation</td>\n",
              "      <td>29200.53</td>\n",
              "      <td>14.9</td>\n",
              "      <td>29.0</td>\n",
              "      <td>18</td>\n",
              "      <td>1</td>\n",
              "      <td>297996</td>\n",
              "      <td>750090.0</td>\n",
              "      <td>0.0</td>\n",
              "      <td>0.0</td>\n",
              "    </tr>\n",
              "    <tr>\n",
              "      <th>3</th>\n",
              "      <td>Fully Paid</td>\n",
              "      <td>347666</td>\n",
              "      <td>Long Term</td>\n",
              "      <td>721.0</td>\n",
              "      <td>806949.0</td>\n",
              "      <td>3 years</td>\n",
              "      <td>Own Home</td>\n",
              "      <td>Debt Consolidation</td>\n",
              "      <td>8741.90</td>\n",
              "      <td>12.0</td>\n",
              "      <td>NaN</td>\n",
              "      <td>9</td>\n",
              "      <td>0</td>\n",
              "      <td>256329</td>\n",
              "      <td>386958.0</td>\n",
              "      <td>0.0</td>\n",
              "      <td>0.0</td>\n",
              "    </tr>\n",
              "    <tr>\n",
              "      <th>4</th>\n",
              "      <td>Fully Paid</td>\n",
              "      <td>176220</td>\n",
              "      <td>Short Term</td>\n",
              "      <td>NaN</td>\n",
              "      <td>NaN</td>\n",
              "      <td>5 years</td>\n",
              "      <td>Rent</td>\n",
              "      <td>Debt Consolidation</td>\n",
              "      <td>20639.70</td>\n",
              "      <td>6.1</td>\n",
              "      <td>NaN</td>\n",
              "      <td>15</td>\n",
              "      <td>0</td>\n",
              "      <td>253460</td>\n",
              "      <td>427174.0</td>\n",
              "      <td>0.0</td>\n",
              "      <td>0.0</td>\n",
              "    </tr>\n",
              "    <tr>\n",
              "      <th>...</th>\n",
              "      <td>...</td>\n",
              "      <td>...</td>\n",
              "      <td>...</td>\n",
              "      <td>...</td>\n",
              "      <td>...</td>\n",
              "      <td>...</td>\n",
              "      <td>...</td>\n",
              "      <td>...</td>\n",
              "      <td>...</td>\n",
              "      <td>...</td>\n",
              "      <td>...</td>\n",
              "      <td>...</td>\n",
              "      <td>...</td>\n",
              "      <td>...</td>\n",
              "      <td>...</td>\n",
              "      <td>...</td>\n",
              "      <td>...</td>\n",
              "    </tr>\n",
              "    <tr>\n",
              "      <th>99995</th>\n",
              "      <td>Fully Paid</td>\n",
              "      <td>147070</td>\n",
              "      <td>Short Term</td>\n",
              "      <td>725.0</td>\n",
              "      <td>475437.0</td>\n",
              "      <td>7 years</td>\n",
              "      <td>Own Home</td>\n",
              "      <td>other</td>\n",
              "      <td>2202.86</td>\n",
              "      <td>22.3</td>\n",
              "      <td>NaN</td>\n",
              "      <td>5</td>\n",
              "      <td>0</td>\n",
              "      <td>47766</td>\n",
              "      <td>658548.0</td>\n",
              "      <td>0.0</td>\n",
              "      <td>0.0</td>\n",
              "    </tr>\n",
              "    <tr>\n",
              "      <th>99996</th>\n",
              "      <td>Fully Paid</td>\n",
              "      <td>99999999</td>\n",
              "      <td>Short Term</td>\n",
              "      <td>732.0</td>\n",
              "      <td>1289416.0</td>\n",
              "      <td>1 year</td>\n",
              "      <td>Rent</td>\n",
              "      <td>Debt Consolidation</td>\n",
              "      <td>13109.05</td>\n",
              "      <td>9.4</td>\n",
              "      <td>21.0</td>\n",
              "      <td>22</td>\n",
              "      <td>0</td>\n",
              "      <td>153045</td>\n",
              "      <td>509234.0</td>\n",
              "      <td>0.0</td>\n",
              "      <td>0.0</td>\n",
              "    </tr>\n",
              "    <tr>\n",
              "      <th>99997</th>\n",
              "      <td>Fully Paid</td>\n",
              "      <td>103136</td>\n",
              "      <td>Short Term</td>\n",
              "      <td>742.0</td>\n",
              "      <td>1150545.0</td>\n",
              "      <td>6 years</td>\n",
              "      <td>Rent</td>\n",
              "      <td>Debt Consolidation</td>\n",
              "      <td>7315.57</td>\n",
              "      <td>18.8</td>\n",
              "      <td>18.0</td>\n",
              "      <td>12</td>\n",
              "      <td>1</td>\n",
              "      <td>109554</td>\n",
              "      <td>537548.0</td>\n",
              "      <td>1.0</td>\n",
              "      <td>0.0</td>\n",
              "    </tr>\n",
              "    <tr>\n",
              "      <th>99998</th>\n",
              "      <td>Fully Paid</td>\n",
              "      <td>530332</td>\n",
              "      <td>Short Term</td>\n",
              "      <td>746.0</td>\n",
              "      <td>1717524.0</td>\n",
              "      <td>9 years</td>\n",
              "      <td>Rent</td>\n",
              "      <td>Debt Consolidation</td>\n",
              "      <td>9890.07</td>\n",
              "      <td>15.0</td>\n",
              "      <td>NaN</td>\n",
              "      <td>8</td>\n",
              "      <td>0</td>\n",
              "      <td>404225</td>\n",
              "      <td>738254.0</td>\n",
              "      <td>0.0</td>\n",
              "      <td>0.0</td>\n",
              "    </tr>\n",
              "    <tr>\n",
              "      <th>99999</th>\n",
              "      <td>Fully Paid</td>\n",
              "      <td>99999999</td>\n",
              "      <td>Short Term</td>\n",
              "      <td>743.0</td>\n",
              "      <td>935180.0</td>\n",
              "      <td>NaN</td>\n",
              "      <td>Own Home</td>\n",
              "      <td>Debt Consolidation</td>\n",
              "      <td>9118.10</td>\n",
              "      <td>13.0</td>\n",
              "      <td>NaN</td>\n",
              "      <td>4</td>\n",
              "      <td>1</td>\n",
              "      <td>45600</td>\n",
              "      <td>91014.0</td>\n",
              "      <td>1.0</td>\n",
              "      <td>0.0</td>\n",
              "    </tr>\n",
              "  </tbody>\n",
              "</table>\n",
              "<p>100000 rows × 17 columns</p>\n",
              "</div>\n",
              "      <button class=\"colab-df-convert\" onclick=\"convertToInteractive('df-9e6ee8e9-76fd-420f-b00d-b3d44bffc7a5')\"\n",
              "              title=\"Convert this dataframe to an interactive table.\"\n",
              "              style=\"display:none;\">\n",
              "        \n",
              "  <svg xmlns=\"http://www.w3.org/2000/svg\" height=\"24px\"viewBox=\"0 0 24 24\"\n",
              "       width=\"24px\">\n",
              "    <path d=\"M0 0h24v24H0V0z\" fill=\"none\"/>\n",
              "    <path d=\"M18.56 5.44l.94 2.06.94-2.06 2.06-.94-2.06-.94-.94-2.06-.94 2.06-2.06.94zm-11 1L8.5 8.5l.94-2.06 2.06-.94-2.06-.94L8.5 2.5l-.94 2.06-2.06.94zm10 10l.94 2.06.94-2.06 2.06-.94-2.06-.94-.94-2.06-.94 2.06-2.06.94z\"/><path d=\"M17.41 7.96l-1.37-1.37c-.4-.4-.92-.59-1.43-.59-.52 0-1.04.2-1.43.59L10.3 9.45l-7.72 7.72c-.78.78-.78 2.05 0 2.83L4 21.41c.39.39.9.59 1.41.59.51 0 1.02-.2 1.41-.59l7.78-7.78 2.81-2.81c.8-.78.8-2.07 0-2.86zM5.41 20L4 18.59l7.72-7.72 1.47 1.35L5.41 20z\"/>\n",
              "  </svg>\n",
              "      </button>\n",
              "      \n",
              "  <style>\n",
              "    .colab-df-container {\n",
              "      display:flex;\n",
              "      flex-wrap:wrap;\n",
              "      gap: 12px;\n",
              "    }\n",
              "\n",
              "    .colab-df-convert {\n",
              "      background-color: #E8F0FE;\n",
              "      border: none;\n",
              "      border-radius: 50%;\n",
              "      cursor: pointer;\n",
              "      display: none;\n",
              "      fill: #1967D2;\n",
              "      height: 32px;\n",
              "      padding: 0 0 0 0;\n",
              "      width: 32px;\n",
              "    }\n",
              "\n",
              "    .colab-df-convert:hover {\n",
              "      background-color: #E2EBFA;\n",
              "      box-shadow: 0px 1px 2px rgba(60, 64, 67, 0.3), 0px 1px 3px 1px rgba(60, 64, 67, 0.15);\n",
              "      fill: #174EA6;\n",
              "    }\n",
              "\n",
              "    [theme=dark] .colab-df-convert {\n",
              "      background-color: #3B4455;\n",
              "      fill: #D2E3FC;\n",
              "    }\n",
              "\n",
              "    [theme=dark] .colab-df-convert:hover {\n",
              "      background-color: #434B5C;\n",
              "      box-shadow: 0px 1px 3px 1px rgba(0, 0, 0, 0.15);\n",
              "      filter: drop-shadow(0px 1px 2px rgba(0, 0, 0, 0.3));\n",
              "      fill: #FFFFFF;\n",
              "    }\n",
              "  </style>\n",
              "\n",
              "      <script>\n",
              "        const buttonEl =\n",
              "          document.querySelector('#df-9e6ee8e9-76fd-420f-b00d-b3d44bffc7a5 button.colab-df-convert');\n",
              "        buttonEl.style.display =\n",
              "          google.colab.kernel.accessAllowed ? 'block' : 'none';\n",
              "\n",
              "        async function convertToInteractive(key) {\n",
              "          const element = document.querySelector('#df-9e6ee8e9-76fd-420f-b00d-b3d44bffc7a5');\n",
              "          const dataTable =\n",
              "            await google.colab.kernel.invokeFunction('convertToInteractive',\n",
              "                                                     [key], {});\n",
              "          if (!dataTable) return;\n",
              "\n",
              "          const docLinkHtml = 'Like what you see? Visit the ' +\n",
              "            '<a target=\"_blank\" href=https://colab.research.google.com/notebooks/data_table.ipynb>data table notebook</a>'\n",
              "            + ' to learn more about interactive tables.';\n",
              "          element.innerHTML = '';\n",
              "          dataTable['output_type'] = 'display_data';\n",
              "          await google.colab.output.renderOutput(dataTable, element);\n",
              "          const docLink = document.createElement('div');\n",
              "          docLink.innerHTML = docLinkHtml;\n",
              "          element.appendChild(docLink);\n",
              "        }\n",
              "      </script>\n",
              "    </div>\n",
              "  </div>\n",
              "  "
            ],
            "text/plain": [
              "      Loan Status  Current Loan Amount        Term  Credit Score  \\\n",
              "0      Fully Paid               445412  Short Term         709.0   \n",
              "1      Fully Paid               262328  Short Term           NaN   \n",
              "2      Fully Paid             99999999  Short Term         741.0   \n",
              "3      Fully Paid               347666   Long Term         721.0   \n",
              "4      Fully Paid               176220  Short Term           NaN   \n",
              "...           ...                  ...         ...           ...   \n",
              "99995  Fully Paid               147070  Short Term         725.0   \n",
              "99996  Fully Paid             99999999  Short Term         732.0   \n",
              "99997  Fully Paid               103136  Short Term         742.0   \n",
              "99998  Fully Paid               530332  Short Term         746.0   \n",
              "99999  Fully Paid             99999999  Short Term         743.0   \n",
              "\n",
              "       Annual Income Years in current job Home Ownership             Purpose  \\\n",
              "0          1167493.0              8 years  Home Mortgage   Home Improvements   \n",
              "1                NaN            10+ years  Home Mortgage  Debt Consolidation   \n",
              "2          2231892.0              8 years       Own Home  Debt Consolidation   \n",
              "3           806949.0              3 years       Own Home  Debt Consolidation   \n",
              "4                NaN              5 years           Rent  Debt Consolidation   \n",
              "...              ...                  ...            ...                 ...   \n",
              "99995       475437.0              7 years       Own Home               other   \n",
              "99996      1289416.0               1 year           Rent  Debt Consolidation   \n",
              "99997      1150545.0              6 years           Rent  Debt Consolidation   \n",
              "99998      1717524.0              9 years           Rent  Debt Consolidation   \n",
              "99999       935180.0                  NaN       Own Home  Debt Consolidation   \n",
              "\n",
              "       Monthly Debt  Years of Credit History  Months since last delinquent  \\\n",
              "0           5214.74                     17.2                           NaN   \n",
              "1          33295.98                     21.1                           8.0   \n",
              "2          29200.53                     14.9                          29.0   \n",
              "3           8741.90                     12.0                           NaN   \n",
              "4          20639.70                      6.1                           NaN   \n",
              "...             ...                      ...                           ...   \n",
              "99995       2202.86                     22.3                           NaN   \n",
              "99996      13109.05                      9.4                          21.0   \n",
              "99997       7315.57                     18.8                          18.0   \n",
              "99998       9890.07                     15.0                           NaN   \n",
              "99999       9118.10                     13.0                           NaN   \n",
              "\n",
              "       Number of Open Accounts  Number of Credit Problems  \\\n",
              "0                            6                          1   \n",
              "1                           35                          0   \n",
              "2                           18                          1   \n",
              "3                            9                          0   \n",
              "4                           15                          0   \n",
              "...                        ...                        ...   \n",
              "99995                        5                          0   \n",
              "99996                       22                          0   \n",
              "99997                       12                          1   \n",
              "99998                        8                          0   \n",
              "99999                        4                          1   \n",
              "\n",
              "       Current Credit Balance  Maximum Open Credit  Bankruptcies  Tax Liens  \n",
              "0                      228190             416746.0           1.0        0.0  \n",
              "1                      229976             850784.0           0.0        0.0  \n",
              "2                      297996             750090.0           0.0        0.0  \n",
              "3                      256329             386958.0           0.0        0.0  \n",
              "4                      253460             427174.0           0.0        0.0  \n",
              "...                       ...                  ...           ...        ...  \n",
              "99995                   47766             658548.0           0.0        0.0  \n",
              "99996                  153045             509234.0           0.0        0.0  \n",
              "99997                  109554             537548.0           1.0        0.0  \n",
              "99998                  404225             738254.0           0.0        0.0  \n",
              "99999                   45600              91014.0           1.0        0.0  \n",
              "\n",
              "[100000 rows x 17 columns]"
            ]
          },
          "execution_count": 124,
          "metadata": {},
          "output_type": "execute_result"
        }
      ],
      "source": [
        "df"
      ]
    },
    {
      "cell_type": "code",
      "execution_count": 125,
      "metadata": {
        "id": "JOGnQLV-AE6U"
      },
      "outputs": [],
      "source": [
        "df['Credit Score']=df['Credit Score'].fillna(pd.Series(np.random.choice(df['Credit Score'].dropna(),size=len(df.index))))\n",
        "df['Bankruptcies'].fillna(df['Bankruptcies'].std(),inplace=True)\n",
        "df['Annual Income']=df['Annual Income'].fillna(pd.Series(np.random.choice(df['Annual Income'].dropna(),size=len(df.index))))\n",
        "df['Tax Liens'].fillna(df['Tax Liens'].std(),inplace=True)\n",
        "df['Years in current job']=df['Years in current job'].fillna(pd.Series(np.random.choice(df['Years in current job'].dropna(),size=len(df.index))))\n",
        "df['Maximum Open Credit'].fillna(df['Maximum Open Credit'].mean(),inplace=True)\n",
        "df['Months since last delinquent']=df['Months since last delinquent'].fillna(pd.Series(np.random.choice(df['Months since last delinquent'].dropna(),size=len(df.index))))"
      ]
    },
    {
      "cell_type": "code",
      "execution_count": 126,
      "metadata": {
        "colab": {
          "base_uri": "https://localhost:8080/"
        },
        "id": "Or1aeiScAZWd",
        "outputId": "b831606b-6582-46cc-f202-9b6dda359419"
      },
      "outputs": [
        {
          "data": {
            "text/plain": [
              "Loan Status                     0\n",
              "Current Loan Amount             0\n",
              "Term                            0\n",
              "Credit Score                    0\n",
              "Annual Income                   0\n",
              "Years in current job            0\n",
              "Home Ownership                  0\n",
              "Purpose                         0\n",
              "Monthly Debt                    0\n",
              "Years of Credit History         0\n",
              "Months since last delinquent    0\n",
              "Number of Open Accounts         0\n",
              "Number of Credit Problems       0\n",
              "Current Credit Balance          0\n",
              "Maximum Open Credit             0\n",
              "Bankruptcies                    0\n",
              "Tax Liens                       0\n",
              "dtype: int64"
            ]
          },
          "execution_count": 126,
          "metadata": {},
          "output_type": "execute_result"
        }
      ],
      "source": [
        "df.isnull().sum()"
      ]
    },
    {
      "cell_type": "code",
      "execution_count": 127,
      "metadata": {
        "colab": {
          "base_uri": "https://localhost:8080/"
        },
        "id": "IM7MOMjmji2H",
        "outputId": "87c7a1fc-fbf2-4a10-ad9f-8a1749033944"
      },
      "outputs": [
        {
          "name": "stderr",
          "output_type": "stream",
          "text": [
            "/usr/local/lib/python3.7/dist-packages/ipykernel_launcher.py:1: FutureWarning: Dropping of nuisance columns in DataFrame reductions (with 'numeric_only=None') is deprecated; in a future version this will raise TypeError.  Select only valid columns before calling the reduction.\n",
            "  \"\"\"Entry point for launching an IPython kernel.\n"
          ]
        }
      ],
      "source": [
        "df=df.fillna(df.median())"
      ]
    },
    {
      "cell_type": "code",
      "execution_count": 128,
      "metadata": {
        "colab": {
          "base_uri": "https://localhost:8080/",
          "height": 676
        },
        "id": "5pEGyGVRdpqR",
        "outputId": "4cce6230-6514-4261-c9ec-8ac507f54344"
      },
      "outputs": [
        {
          "data": {
            "text/html": [
              "\n",
              "  <div id=\"df-1b315765-7e5d-443a-af46-722af2266fb4\">\n",
              "    <div class=\"colab-df-container\">\n",
              "      <div>\n",
              "<style scoped>\n",
              "    .dataframe tbody tr th:only-of-type {\n",
              "        vertical-align: middle;\n",
              "    }\n",
              "\n",
              "    .dataframe tbody tr th {\n",
              "        vertical-align: top;\n",
              "    }\n",
              "\n",
              "    .dataframe thead th {\n",
              "        text-align: right;\n",
              "    }\n",
              "</style>\n",
              "<table border=\"1\" class=\"dataframe\">\n",
              "  <thead>\n",
              "    <tr style=\"text-align: right;\">\n",
              "      <th></th>\n",
              "      <th>Loan Status</th>\n",
              "      <th>Current Loan Amount</th>\n",
              "      <th>Term</th>\n",
              "      <th>Credit Score</th>\n",
              "      <th>Annual Income</th>\n",
              "      <th>Years in current job</th>\n",
              "      <th>Home Ownership</th>\n",
              "      <th>Purpose</th>\n",
              "      <th>Monthly Debt</th>\n",
              "      <th>Years of Credit History</th>\n",
              "      <th>Months since last delinquent</th>\n",
              "      <th>Number of Open Accounts</th>\n",
              "      <th>Number of Credit Problems</th>\n",
              "      <th>Current Credit Balance</th>\n",
              "      <th>Maximum Open Credit</th>\n",
              "      <th>Bankruptcies</th>\n",
              "      <th>Tax Liens</th>\n",
              "    </tr>\n",
              "  </thead>\n",
              "  <tbody>\n",
              "    <tr>\n",
              "      <th>0</th>\n",
              "      <td>Fully Paid</td>\n",
              "      <td>445412</td>\n",
              "      <td>Short Term</td>\n",
              "      <td>709.0</td>\n",
              "      <td>1167493.0</td>\n",
              "      <td>8 years</td>\n",
              "      <td>Home Mortgage</td>\n",
              "      <td>Home Improvements</td>\n",
              "      <td>5214.74</td>\n",
              "      <td>17.2</td>\n",
              "      <td>32.0</td>\n",
              "      <td>6</td>\n",
              "      <td>1</td>\n",
              "      <td>228190</td>\n",
              "      <td>416746.0</td>\n",
              "      <td>1.0</td>\n",
              "      <td>0.0</td>\n",
              "    </tr>\n",
              "    <tr>\n",
              "      <th>1</th>\n",
              "      <td>Fully Paid</td>\n",
              "      <td>262328</td>\n",
              "      <td>Short Term</td>\n",
              "      <td>7270.0</td>\n",
              "      <td>741988.0</td>\n",
              "      <td>10+ years</td>\n",
              "      <td>Home Mortgage</td>\n",
              "      <td>Debt Consolidation</td>\n",
              "      <td>33295.98</td>\n",
              "      <td>21.1</td>\n",
              "      <td>8.0</td>\n",
              "      <td>35</td>\n",
              "      <td>0</td>\n",
              "      <td>229976</td>\n",
              "      <td>850784.0</td>\n",
              "      <td>0.0</td>\n",
              "      <td>0.0</td>\n",
              "    </tr>\n",
              "    <tr>\n",
              "      <th>2</th>\n",
              "      <td>Fully Paid</td>\n",
              "      <td>99999999</td>\n",
              "      <td>Short Term</td>\n",
              "      <td>741.0</td>\n",
              "      <td>2231892.0</td>\n",
              "      <td>8 years</td>\n",
              "      <td>Own Home</td>\n",
              "      <td>Debt Consolidation</td>\n",
              "      <td>29200.53</td>\n",
              "      <td>14.9</td>\n",
              "      <td>29.0</td>\n",
              "      <td>18</td>\n",
              "      <td>1</td>\n",
              "      <td>297996</td>\n",
              "      <td>750090.0</td>\n",
              "      <td>0.0</td>\n",
              "      <td>0.0</td>\n",
              "    </tr>\n",
              "    <tr>\n",
              "      <th>3</th>\n",
              "      <td>Fully Paid</td>\n",
              "      <td>347666</td>\n",
              "      <td>Long Term</td>\n",
              "      <td>721.0</td>\n",
              "      <td>806949.0</td>\n",
              "      <td>3 years</td>\n",
              "      <td>Own Home</td>\n",
              "      <td>Debt Consolidation</td>\n",
              "      <td>8741.90</td>\n",
              "      <td>12.0</td>\n",
              "      <td>44.0</td>\n",
              "      <td>9</td>\n",
              "      <td>0</td>\n",
              "      <td>256329</td>\n",
              "      <td>386958.0</td>\n",
              "      <td>0.0</td>\n",
              "      <td>0.0</td>\n",
              "    </tr>\n",
              "    <tr>\n",
              "      <th>4</th>\n",
              "      <td>Fully Paid</td>\n",
              "      <td>176220</td>\n",
              "      <td>Short Term</td>\n",
              "      <td>737.0</td>\n",
              "      <td>1832208.0</td>\n",
              "      <td>5 years</td>\n",
              "      <td>Rent</td>\n",
              "      <td>Debt Consolidation</td>\n",
              "      <td>20639.70</td>\n",
              "      <td>6.1</td>\n",
              "      <td>5.0</td>\n",
              "      <td>15</td>\n",
              "      <td>0</td>\n",
              "      <td>253460</td>\n",
              "      <td>427174.0</td>\n",
              "      <td>0.0</td>\n",
              "      <td>0.0</td>\n",
              "    </tr>\n",
              "    <tr>\n",
              "      <th>...</th>\n",
              "      <td>...</td>\n",
              "      <td>...</td>\n",
              "      <td>...</td>\n",
              "      <td>...</td>\n",
              "      <td>...</td>\n",
              "      <td>...</td>\n",
              "      <td>...</td>\n",
              "      <td>...</td>\n",
              "      <td>...</td>\n",
              "      <td>...</td>\n",
              "      <td>...</td>\n",
              "      <td>...</td>\n",
              "      <td>...</td>\n",
              "      <td>...</td>\n",
              "      <td>...</td>\n",
              "      <td>...</td>\n",
              "      <td>...</td>\n",
              "    </tr>\n",
              "    <tr>\n",
              "      <th>99995</th>\n",
              "      <td>Fully Paid</td>\n",
              "      <td>147070</td>\n",
              "      <td>Short Term</td>\n",
              "      <td>725.0</td>\n",
              "      <td>475437.0</td>\n",
              "      <td>7 years</td>\n",
              "      <td>Own Home</td>\n",
              "      <td>other</td>\n",
              "      <td>2202.86</td>\n",
              "      <td>22.3</td>\n",
              "      <td>18.0</td>\n",
              "      <td>5</td>\n",
              "      <td>0</td>\n",
              "      <td>47766</td>\n",
              "      <td>658548.0</td>\n",
              "      <td>0.0</td>\n",
              "      <td>0.0</td>\n",
              "    </tr>\n",
              "    <tr>\n",
              "      <th>99996</th>\n",
              "      <td>Fully Paid</td>\n",
              "      <td>99999999</td>\n",
              "      <td>Short Term</td>\n",
              "      <td>732.0</td>\n",
              "      <td>1289416.0</td>\n",
              "      <td>1 year</td>\n",
              "      <td>Rent</td>\n",
              "      <td>Debt Consolidation</td>\n",
              "      <td>13109.05</td>\n",
              "      <td>9.4</td>\n",
              "      <td>21.0</td>\n",
              "      <td>22</td>\n",
              "      <td>0</td>\n",
              "      <td>153045</td>\n",
              "      <td>509234.0</td>\n",
              "      <td>0.0</td>\n",
              "      <td>0.0</td>\n",
              "    </tr>\n",
              "    <tr>\n",
              "      <th>99997</th>\n",
              "      <td>Fully Paid</td>\n",
              "      <td>103136</td>\n",
              "      <td>Short Term</td>\n",
              "      <td>742.0</td>\n",
              "      <td>1150545.0</td>\n",
              "      <td>6 years</td>\n",
              "      <td>Rent</td>\n",
              "      <td>Debt Consolidation</td>\n",
              "      <td>7315.57</td>\n",
              "      <td>18.8</td>\n",
              "      <td>18.0</td>\n",
              "      <td>12</td>\n",
              "      <td>1</td>\n",
              "      <td>109554</td>\n",
              "      <td>537548.0</td>\n",
              "      <td>1.0</td>\n",
              "      <td>0.0</td>\n",
              "    </tr>\n",
              "    <tr>\n",
              "      <th>99998</th>\n",
              "      <td>Fully Paid</td>\n",
              "      <td>530332</td>\n",
              "      <td>Short Term</td>\n",
              "      <td>746.0</td>\n",
              "      <td>1717524.0</td>\n",
              "      <td>9 years</td>\n",
              "      <td>Rent</td>\n",
              "      <td>Debt Consolidation</td>\n",
              "      <td>9890.07</td>\n",
              "      <td>15.0</td>\n",
              "      <td>67.0</td>\n",
              "      <td>8</td>\n",
              "      <td>0</td>\n",
              "      <td>404225</td>\n",
              "      <td>738254.0</td>\n",
              "      <td>0.0</td>\n",
              "      <td>0.0</td>\n",
              "    </tr>\n",
              "    <tr>\n",
              "      <th>99999</th>\n",
              "      <td>Fully Paid</td>\n",
              "      <td>99999999</td>\n",
              "      <td>Short Term</td>\n",
              "      <td>743.0</td>\n",
              "      <td>935180.0</td>\n",
              "      <td>10+ years</td>\n",
              "      <td>Own Home</td>\n",
              "      <td>Debt Consolidation</td>\n",
              "      <td>9118.10</td>\n",
              "      <td>13.0</td>\n",
              "      <td>82.0</td>\n",
              "      <td>4</td>\n",
              "      <td>1</td>\n",
              "      <td>45600</td>\n",
              "      <td>91014.0</td>\n",
              "      <td>1.0</td>\n",
              "      <td>0.0</td>\n",
              "    </tr>\n",
              "  </tbody>\n",
              "</table>\n",
              "<p>100000 rows × 17 columns</p>\n",
              "</div>\n",
              "      <button class=\"colab-df-convert\" onclick=\"convertToInteractive('df-1b315765-7e5d-443a-af46-722af2266fb4')\"\n",
              "              title=\"Convert this dataframe to an interactive table.\"\n",
              "              style=\"display:none;\">\n",
              "        \n",
              "  <svg xmlns=\"http://www.w3.org/2000/svg\" height=\"24px\"viewBox=\"0 0 24 24\"\n",
              "       width=\"24px\">\n",
              "    <path d=\"M0 0h24v24H0V0z\" fill=\"none\"/>\n",
              "    <path d=\"M18.56 5.44l.94 2.06.94-2.06 2.06-.94-2.06-.94-.94-2.06-.94 2.06-2.06.94zm-11 1L8.5 8.5l.94-2.06 2.06-.94-2.06-.94L8.5 2.5l-.94 2.06-2.06.94zm10 10l.94 2.06.94-2.06 2.06-.94-2.06-.94-.94-2.06-.94 2.06-2.06.94z\"/><path d=\"M17.41 7.96l-1.37-1.37c-.4-.4-.92-.59-1.43-.59-.52 0-1.04.2-1.43.59L10.3 9.45l-7.72 7.72c-.78.78-.78 2.05 0 2.83L4 21.41c.39.39.9.59 1.41.59.51 0 1.02-.2 1.41-.59l7.78-7.78 2.81-2.81c.8-.78.8-2.07 0-2.86zM5.41 20L4 18.59l7.72-7.72 1.47 1.35L5.41 20z\"/>\n",
              "  </svg>\n",
              "      </button>\n",
              "      \n",
              "  <style>\n",
              "    .colab-df-container {\n",
              "      display:flex;\n",
              "      flex-wrap:wrap;\n",
              "      gap: 12px;\n",
              "    }\n",
              "\n",
              "    .colab-df-convert {\n",
              "      background-color: #E8F0FE;\n",
              "      border: none;\n",
              "      border-radius: 50%;\n",
              "      cursor: pointer;\n",
              "      display: none;\n",
              "      fill: #1967D2;\n",
              "      height: 32px;\n",
              "      padding: 0 0 0 0;\n",
              "      width: 32px;\n",
              "    }\n",
              "\n",
              "    .colab-df-convert:hover {\n",
              "      background-color: #E2EBFA;\n",
              "      box-shadow: 0px 1px 2px rgba(60, 64, 67, 0.3), 0px 1px 3px 1px rgba(60, 64, 67, 0.15);\n",
              "      fill: #174EA6;\n",
              "    }\n",
              "\n",
              "    [theme=dark] .colab-df-convert {\n",
              "      background-color: #3B4455;\n",
              "      fill: #D2E3FC;\n",
              "    }\n",
              "\n",
              "    [theme=dark] .colab-df-convert:hover {\n",
              "      background-color: #434B5C;\n",
              "      box-shadow: 0px 1px 3px 1px rgba(0, 0, 0, 0.15);\n",
              "      filter: drop-shadow(0px 1px 2px rgba(0, 0, 0, 0.3));\n",
              "      fill: #FFFFFF;\n",
              "    }\n",
              "  </style>\n",
              "\n",
              "      <script>\n",
              "        const buttonEl =\n",
              "          document.querySelector('#df-1b315765-7e5d-443a-af46-722af2266fb4 button.colab-df-convert');\n",
              "        buttonEl.style.display =\n",
              "          google.colab.kernel.accessAllowed ? 'block' : 'none';\n",
              "\n",
              "        async function convertToInteractive(key) {\n",
              "          const element = document.querySelector('#df-1b315765-7e5d-443a-af46-722af2266fb4');\n",
              "          const dataTable =\n",
              "            await google.colab.kernel.invokeFunction('convertToInteractive',\n",
              "                                                     [key], {});\n",
              "          if (!dataTable) return;\n",
              "\n",
              "          const docLinkHtml = 'Like what you see? Visit the ' +\n",
              "            '<a target=\"_blank\" href=https://colab.research.google.com/notebooks/data_table.ipynb>data table notebook</a>'\n",
              "            + ' to learn more about interactive tables.';\n",
              "          element.innerHTML = '';\n",
              "          dataTable['output_type'] = 'display_data';\n",
              "          await google.colab.output.renderOutput(dataTable, element);\n",
              "          const docLink = document.createElement('div');\n",
              "          docLink.innerHTML = docLinkHtml;\n",
              "          element.appendChild(docLink);\n",
              "        }\n",
              "      </script>\n",
              "    </div>\n",
              "  </div>\n",
              "  "
            ],
            "text/plain": [
              "      Loan Status  Current Loan Amount        Term  Credit Score  \\\n",
              "0      Fully Paid               445412  Short Term         709.0   \n",
              "1      Fully Paid               262328  Short Term        7270.0   \n",
              "2      Fully Paid             99999999  Short Term         741.0   \n",
              "3      Fully Paid               347666   Long Term         721.0   \n",
              "4      Fully Paid               176220  Short Term         737.0   \n",
              "...           ...                  ...         ...           ...   \n",
              "99995  Fully Paid               147070  Short Term         725.0   \n",
              "99996  Fully Paid             99999999  Short Term         732.0   \n",
              "99997  Fully Paid               103136  Short Term         742.0   \n",
              "99998  Fully Paid               530332  Short Term         746.0   \n",
              "99999  Fully Paid             99999999  Short Term         743.0   \n",
              "\n",
              "       Annual Income Years in current job Home Ownership             Purpose  \\\n",
              "0          1167493.0              8 years  Home Mortgage   Home Improvements   \n",
              "1           741988.0            10+ years  Home Mortgage  Debt Consolidation   \n",
              "2          2231892.0              8 years       Own Home  Debt Consolidation   \n",
              "3           806949.0              3 years       Own Home  Debt Consolidation   \n",
              "4          1832208.0              5 years           Rent  Debt Consolidation   \n",
              "...              ...                  ...            ...                 ...   \n",
              "99995       475437.0              7 years       Own Home               other   \n",
              "99996      1289416.0               1 year           Rent  Debt Consolidation   \n",
              "99997      1150545.0              6 years           Rent  Debt Consolidation   \n",
              "99998      1717524.0              9 years           Rent  Debt Consolidation   \n",
              "99999       935180.0            10+ years       Own Home  Debt Consolidation   \n",
              "\n",
              "       Monthly Debt  Years of Credit History  Months since last delinquent  \\\n",
              "0           5214.74                     17.2                          32.0   \n",
              "1          33295.98                     21.1                           8.0   \n",
              "2          29200.53                     14.9                          29.0   \n",
              "3           8741.90                     12.0                          44.0   \n",
              "4          20639.70                      6.1                           5.0   \n",
              "...             ...                      ...                           ...   \n",
              "99995       2202.86                     22.3                          18.0   \n",
              "99996      13109.05                      9.4                          21.0   \n",
              "99997       7315.57                     18.8                          18.0   \n",
              "99998       9890.07                     15.0                          67.0   \n",
              "99999       9118.10                     13.0                          82.0   \n",
              "\n",
              "       Number of Open Accounts  Number of Credit Problems  \\\n",
              "0                            6                          1   \n",
              "1                           35                          0   \n",
              "2                           18                          1   \n",
              "3                            9                          0   \n",
              "4                           15                          0   \n",
              "...                        ...                        ...   \n",
              "99995                        5                          0   \n",
              "99996                       22                          0   \n",
              "99997                       12                          1   \n",
              "99998                        8                          0   \n",
              "99999                        4                          1   \n",
              "\n",
              "       Current Credit Balance  Maximum Open Credit  Bankruptcies  Tax Liens  \n",
              "0                      228190             416746.0           1.0        0.0  \n",
              "1                      229976             850784.0           0.0        0.0  \n",
              "2                      297996             750090.0           0.0        0.0  \n",
              "3                      256329             386958.0           0.0        0.0  \n",
              "4                      253460             427174.0           0.0        0.0  \n",
              "...                       ...                  ...           ...        ...  \n",
              "99995                   47766             658548.0           0.0        0.0  \n",
              "99996                  153045             509234.0           0.0        0.0  \n",
              "99997                  109554             537548.0           1.0        0.0  \n",
              "99998                  404225             738254.0           0.0        0.0  \n",
              "99999                   45600              91014.0           1.0        0.0  \n",
              "\n",
              "[100000 rows x 17 columns]"
            ]
          },
          "execution_count": 128,
          "metadata": {},
          "output_type": "execute_result"
        }
      ],
      "source": [
        "df"
      ]
    },
    {
      "cell_type": "code",
      "execution_count": 129,
      "metadata": {
        "id": "DRkHBy4gdrRD"
      },
      "outputs": [],
      "source": [
        "df=df.dropna(subset=['Months since last delinquent', 'Credit Score', 'Years in current job'])"
      ]
    },
    {
      "cell_type": "code",
      "execution_count": 130,
      "metadata": {
        "colab": {
          "base_uri": "https://localhost:8080/"
        },
        "id": "J2NM7cvWhWP7",
        "outputId": "86fe49d5-8555-47da-cce4-b8580a6bc6d1"
      },
      "outputs": [
        {
          "data": {
            "text/plain": [
              "Loan Status                     0\n",
              "Current Loan Amount             0\n",
              "Term                            0\n",
              "Credit Score                    0\n",
              "Annual Income                   0\n",
              "Years in current job            0\n",
              "Home Ownership                  0\n",
              "Purpose                         0\n",
              "Monthly Debt                    0\n",
              "Years of Credit History         0\n",
              "Months since last delinquent    0\n",
              "Number of Open Accounts         0\n",
              "Number of Credit Problems       0\n",
              "Current Credit Balance          0\n",
              "Maximum Open Credit             0\n",
              "Bankruptcies                    0\n",
              "Tax Liens                       0\n",
              "dtype: int64"
            ]
          },
          "execution_count": 130,
          "metadata": {},
          "output_type": "execute_result"
        }
      ],
      "source": [
        "df.isnull().sum()"
      ]
    },
    {
      "cell_type": "code",
      "execution_count": 131,
      "metadata": {
        "colab": {
          "base_uri": "https://localhost:8080/"
        },
        "id": "wQaMNwPN2mfQ",
        "outputId": "ef2f78de-520c-4699-8d28-a553ffca6238"
      },
      "outputs": [
        {
          "data": {
            "text/plain": [
              "Loan Status                      object\n",
              "Current Loan Amount               int64\n",
              "Term                             object\n",
              "Credit Score                    float64\n",
              "Annual Income                   float64\n",
              "Years in current job             object\n",
              "Home Ownership                   object\n",
              "Purpose                          object\n",
              "Monthly Debt                    float64\n",
              "Years of Credit History         float64\n",
              "Months since last delinquent    float64\n",
              "Number of Open Accounts           int64\n",
              "Number of Credit Problems         int64\n",
              "Current Credit Balance            int64\n",
              "Maximum Open Credit             float64\n",
              "Bankruptcies                    float64\n",
              "Tax Liens                       float64\n",
              "dtype: object"
            ]
          },
          "execution_count": 131,
          "metadata": {},
          "output_type": "execute_result"
        }
      ],
      "source": [
        "df.dtypes"
      ]
    },
    {
      "cell_type": "code",
      "execution_count": 132,
      "metadata": {
        "colab": {
          "base_uri": "https://localhost:8080/",
          "height": 502
        },
        "id": "f_fTvcw9AxlC",
        "outputId": "a83f0887-abe4-47f5-c920-9c7c5e655455"
      },
      "outputs": [
        {
          "data": {
            "text/html": [
              "\n",
              "  <div id=\"df-05068b07-65a2-42af-a9eb-74114dc4349c\">\n",
              "    <div class=\"colab-df-container\">\n",
              "      <div>\n",
              "<style scoped>\n",
              "    .dataframe tbody tr th:only-of-type {\n",
              "        vertical-align: middle;\n",
              "    }\n",
              "\n",
              "    .dataframe tbody tr th {\n",
              "        vertical-align: top;\n",
              "    }\n",
              "\n",
              "    .dataframe thead th {\n",
              "        text-align: right;\n",
              "    }\n",
              "</style>\n",
              "<table border=\"1\" class=\"dataframe\">\n",
              "  <thead>\n",
              "    <tr style=\"text-align: right;\">\n",
              "      <th></th>\n",
              "      <th>Loan Status</th>\n",
              "      <th>Current Loan Amount</th>\n",
              "      <th>Term</th>\n",
              "      <th>Credit Score</th>\n",
              "      <th>Annual Income</th>\n",
              "      <th>Years in current job</th>\n",
              "      <th>Home Ownership</th>\n",
              "      <th>Purpose</th>\n",
              "      <th>Monthly Debt</th>\n",
              "      <th>Years of Credit History</th>\n",
              "      <th>Months since last delinquent</th>\n",
              "      <th>Number of Open Accounts</th>\n",
              "      <th>Number of Credit Problems</th>\n",
              "      <th>Current Credit Balance</th>\n",
              "      <th>Maximum Open Credit</th>\n",
              "      <th>Bankruptcies</th>\n",
              "      <th>Tax Liens</th>\n",
              "    </tr>\n",
              "  </thead>\n",
              "  <tbody>\n",
              "    <tr>\n",
              "      <th>0</th>\n",
              "      <td>1</td>\n",
              "      <td>445412</td>\n",
              "      <td>1</td>\n",
              "      <td>709.0</td>\n",
              "      <td>1167493.0</td>\n",
              "      <td>8</td>\n",
              "      <td>1</td>\n",
              "      <td>5</td>\n",
              "      <td>5214.74</td>\n",
              "      <td>17.2</td>\n",
              "      <td>32.0</td>\n",
              "      <td>6</td>\n",
              "      <td>1</td>\n",
              "      <td>228190</td>\n",
              "      <td>416746.0</td>\n",
              "      <td>1.0</td>\n",
              "      <td>0.0</td>\n",
              "    </tr>\n",
              "    <tr>\n",
              "      <th>1</th>\n",
              "      <td>1</td>\n",
              "      <td>262328</td>\n",
              "      <td>1</td>\n",
              "      <td>7270.0</td>\n",
              "      <td>741988.0</td>\n",
              "      <td>1</td>\n",
              "      <td>1</td>\n",
              "      <td>3</td>\n",
              "      <td>33295.98</td>\n",
              "      <td>21.1</td>\n",
              "      <td>8.0</td>\n",
              "      <td>35</td>\n",
              "      <td>0</td>\n",
              "      <td>229976</td>\n",
              "      <td>850784.0</td>\n",
              "      <td>0.0</td>\n",
              "      <td>0.0</td>\n",
              "    </tr>\n",
              "    <tr>\n",
              "      <th>2</th>\n",
              "      <td>1</td>\n",
              "      <td>99999999</td>\n",
              "      <td>1</td>\n",
              "      <td>741.0</td>\n",
              "      <td>2231892.0</td>\n",
              "      <td>8</td>\n",
              "      <td>2</td>\n",
              "      <td>3</td>\n",
              "      <td>29200.53</td>\n",
              "      <td>14.9</td>\n",
              "      <td>29.0</td>\n",
              "      <td>18</td>\n",
              "      <td>1</td>\n",
              "      <td>297996</td>\n",
              "      <td>750090.0</td>\n",
              "      <td>0.0</td>\n",
              "      <td>0.0</td>\n",
              "    </tr>\n",
              "    <tr>\n",
              "      <th>3</th>\n",
              "      <td>1</td>\n",
              "      <td>347666</td>\n",
              "      <td>0</td>\n",
              "      <td>721.0</td>\n",
              "      <td>806949.0</td>\n",
              "      <td>3</td>\n",
              "      <td>2</td>\n",
              "      <td>3</td>\n",
              "      <td>8741.90</td>\n",
              "      <td>12.0</td>\n",
              "      <td>44.0</td>\n",
              "      <td>9</td>\n",
              "      <td>0</td>\n",
              "      <td>256329</td>\n",
              "      <td>386958.0</td>\n",
              "      <td>0.0</td>\n",
              "      <td>0.0</td>\n",
              "    </tr>\n",
              "    <tr>\n",
              "      <th>4</th>\n",
              "      <td>1</td>\n",
              "      <td>176220</td>\n",
              "      <td>1</td>\n",
              "      <td>737.0</td>\n",
              "      <td>1832208.0</td>\n",
              "      <td>5</td>\n",
              "      <td>3</td>\n",
              "      <td>3</td>\n",
              "      <td>20639.70</td>\n",
              "      <td>6.1</td>\n",
              "      <td>5.0</td>\n",
              "      <td>15</td>\n",
              "      <td>0</td>\n",
              "      <td>253460</td>\n",
              "      <td>427174.0</td>\n",
              "      <td>0.0</td>\n",
              "      <td>0.0</td>\n",
              "    </tr>\n",
              "    <tr>\n",
              "      <th>...</th>\n",
              "      <td>...</td>\n",
              "      <td>...</td>\n",
              "      <td>...</td>\n",
              "      <td>...</td>\n",
              "      <td>...</td>\n",
              "      <td>...</td>\n",
              "      <td>...</td>\n",
              "      <td>...</td>\n",
              "      <td>...</td>\n",
              "      <td>...</td>\n",
              "      <td>...</td>\n",
              "      <td>...</td>\n",
              "      <td>...</td>\n",
              "      <td>...</td>\n",
              "      <td>...</td>\n",
              "      <td>...</td>\n",
              "      <td>...</td>\n",
              "    </tr>\n",
              "    <tr>\n",
              "      <th>99995</th>\n",
              "      <td>1</td>\n",
              "      <td>147070</td>\n",
              "      <td>1</td>\n",
              "      <td>725.0</td>\n",
              "      <td>475437.0</td>\n",
              "      <td>7</td>\n",
              "      <td>2</td>\n",
              "      <td>11</td>\n",
              "      <td>2202.86</td>\n",
              "      <td>22.3</td>\n",
              "      <td>18.0</td>\n",
              "      <td>5</td>\n",
              "      <td>0</td>\n",
              "      <td>47766</td>\n",
              "      <td>658548.0</td>\n",
              "      <td>0.0</td>\n",
              "      <td>0.0</td>\n",
              "    </tr>\n",
              "    <tr>\n",
              "      <th>99996</th>\n",
              "      <td>1</td>\n",
              "      <td>99999999</td>\n",
              "      <td>1</td>\n",
              "      <td>732.0</td>\n",
              "      <td>1289416.0</td>\n",
              "      <td>0</td>\n",
              "      <td>3</td>\n",
              "      <td>3</td>\n",
              "      <td>13109.05</td>\n",
              "      <td>9.4</td>\n",
              "      <td>21.0</td>\n",
              "      <td>22</td>\n",
              "      <td>0</td>\n",
              "      <td>153045</td>\n",
              "      <td>509234.0</td>\n",
              "      <td>0.0</td>\n",
              "      <td>0.0</td>\n",
              "    </tr>\n",
              "    <tr>\n",
              "      <th>99997</th>\n",
              "      <td>1</td>\n",
              "      <td>103136</td>\n",
              "      <td>1</td>\n",
              "      <td>742.0</td>\n",
              "      <td>1150545.0</td>\n",
              "      <td>6</td>\n",
              "      <td>3</td>\n",
              "      <td>3</td>\n",
              "      <td>7315.57</td>\n",
              "      <td>18.8</td>\n",
              "      <td>18.0</td>\n",
              "      <td>12</td>\n",
              "      <td>1</td>\n",
              "      <td>109554</td>\n",
              "      <td>537548.0</td>\n",
              "      <td>1.0</td>\n",
              "      <td>0.0</td>\n",
              "    </tr>\n",
              "    <tr>\n",
              "      <th>99998</th>\n",
              "      <td>1</td>\n",
              "      <td>530332</td>\n",
              "      <td>1</td>\n",
              "      <td>746.0</td>\n",
              "      <td>1717524.0</td>\n",
              "      <td>9</td>\n",
              "      <td>3</td>\n",
              "      <td>3</td>\n",
              "      <td>9890.07</td>\n",
              "      <td>15.0</td>\n",
              "      <td>67.0</td>\n",
              "      <td>8</td>\n",
              "      <td>0</td>\n",
              "      <td>404225</td>\n",
              "      <td>738254.0</td>\n",
              "      <td>0.0</td>\n",
              "      <td>0.0</td>\n",
              "    </tr>\n",
              "    <tr>\n",
              "      <th>99999</th>\n",
              "      <td>1</td>\n",
              "      <td>99999999</td>\n",
              "      <td>1</td>\n",
              "      <td>743.0</td>\n",
              "      <td>935180.0</td>\n",
              "      <td>1</td>\n",
              "      <td>2</td>\n",
              "      <td>3</td>\n",
              "      <td>9118.10</td>\n",
              "      <td>13.0</td>\n",
              "      <td>82.0</td>\n",
              "      <td>4</td>\n",
              "      <td>1</td>\n",
              "      <td>45600</td>\n",
              "      <td>91014.0</td>\n",
              "      <td>1.0</td>\n",
              "      <td>0.0</td>\n",
              "    </tr>\n",
              "  </tbody>\n",
              "</table>\n",
              "<p>100000 rows × 17 columns</p>\n",
              "</div>\n",
              "      <button class=\"colab-df-convert\" onclick=\"convertToInteractive('df-05068b07-65a2-42af-a9eb-74114dc4349c')\"\n",
              "              title=\"Convert this dataframe to an interactive table.\"\n",
              "              style=\"display:none;\">\n",
              "        \n",
              "  <svg xmlns=\"http://www.w3.org/2000/svg\" height=\"24px\"viewBox=\"0 0 24 24\"\n",
              "       width=\"24px\">\n",
              "    <path d=\"M0 0h24v24H0V0z\" fill=\"none\"/>\n",
              "    <path d=\"M18.56 5.44l.94 2.06.94-2.06 2.06-.94-2.06-.94-.94-2.06-.94 2.06-2.06.94zm-11 1L8.5 8.5l.94-2.06 2.06-.94-2.06-.94L8.5 2.5l-.94 2.06-2.06.94zm10 10l.94 2.06.94-2.06 2.06-.94-2.06-.94-.94-2.06-.94 2.06-2.06.94z\"/><path d=\"M17.41 7.96l-1.37-1.37c-.4-.4-.92-.59-1.43-.59-.52 0-1.04.2-1.43.59L10.3 9.45l-7.72 7.72c-.78.78-.78 2.05 0 2.83L4 21.41c.39.39.9.59 1.41.59.51 0 1.02-.2 1.41-.59l7.78-7.78 2.81-2.81c.8-.78.8-2.07 0-2.86zM5.41 20L4 18.59l7.72-7.72 1.47 1.35L5.41 20z\"/>\n",
              "  </svg>\n",
              "      </button>\n",
              "      \n",
              "  <style>\n",
              "    .colab-df-container {\n",
              "      display:flex;\n",
              "      flex-wrap:wrap;\n",
              "      gap: 12px;\n",
              "    }\n",
              "\n",
              "    .colab-df-convert {\n",
              "      background-color: #E8F0FE;\n",
              "      border: none;\n",
              "      border-radius: 50%;\n",
              "      cursor: pointer;\n",
              "      display: none;\n",
              "      fill: #1967D2;\n",
              "      height: 32px;\n",
              "      padding: 0 0 0 0;\n",
              "      width: 32px;\n",
              "    }\n",
              "\n",
              "    .colab-df-convert:hover {\n",
              "      background-color: #E2EBFA;\n",
              "      box-shadow: 0px 1px 2px rgba(60, 64, 67, 0.3), 0px 1px 3px 1px rgba(60, 64, 67, 0.15);\n",
              "      fill: #174EA6;\n",
              "    }\n",
              "\n",
              "    [theme=dark] .colab-df-convert {\n",
              "      background-color: #3B4455;\n",
              "      fill: #D2E3FC;\n",
              "    }\n",
              "\n",
              "    [theme=dark] .colab-df-convert:hover {\n",
              "      background-color: #434B5C;\n",
              "      box-shadow: 0px 1px 3px 1px rgba(0, 0, 0, 0.15);\n",
              "      filter: drop-shadow(0px 1px 2px rgba(0, 0, 0, 0.3));\n",
              "      fill: #FFFFFF;\n",
              "    }\n",
              "  </style>\n",
              "\n",
              "      <script>\n",
              "        const buttonEl =\n",
              "          document.querySelector('#df-05068b07-65a2-42af-a9eb-74114dc4349c button.colab-df-convert');\n",
              "        buttonEl.style.display =\n",
              "          google.colab.kernel.accessAllowed ? 'block' : 'none';\n",
              "\n",
              "        async function convertToInteractive(key) {\n",
              "          const element = document.querySelector('#df-05068b07-65a2-42af-a9eb-74114dc4349c');\n",
              "          const dataTable =\n",
              "            await google.colab.kernel.invokeFunction('convertToInteractive',\n",
              "                                                     [key], {});\n",
              "          if (!dataTable) return;\n",
              "\n",
              "          const docLinkHtml = 'Like what you see? Visit the ' +\n",
              "            '<a target=\"_blank\" href=https://colab.research.google.com/notebooks/data_table.ipynb>data table notebook</a>'\n",
              "            + ' to learn more about interactive tables.';\n",
              "          element.innerHTML = '';\n",
              "          dataTable['output_type'] = 'display_data';\n",
              "          await google.colab.output.renderOutput(dataTable, element);\n",
              "          const docLink = document.createElement('div');\n",
              "          docLink.innerHTML = docLinkHtml;\n",
              "          element.appendChild(docLink);\n",
              "        }\n",
              "      </script>\n",
              "    </div>\n",
              "  </div>\n",
              "  "
            ],
            "text/plain": [
              "       Loan Status  Current Loan Amount  Term  Credit Score  Annual Income  \\\n",
              "0                1               445412     1         709.0      1167493.0   \n",
              "1                1               262328     1        7270.0       741988.0   \n",
              "2                1             99999999     1         741.0      2231892.0   \n",
              "3                1               347666     0         721.0       806949.0   \n",
              "4                1               176220     1         737.0      1832208.0   \n",
              "...            ...                  ...   ...           ...            ...   \n",
              "99995            1               147070     1         725.0       475437.0   \n",
              "99996            1             99999999     1         732.0      1289416.0   \n",
              "99997            1               103136     1         742.0      1150545.0   \n",
              "99998            1               530332     1         746.0      1717524.0   \n",
              "99999            1             99999999     1         743.0       935180.0   \n",
              "\n",
              "       Years in current job  Home Ownership  Purpose  Monthly Debt  \\\n",
              "0                         8               1        5       5214.74   \n",
              "1                         1               1        3      33295.98   \n",
              "2                         8               2        3      29200.53   \n",
              "3                         3               2        3       8741.90   \n",
              "4                         5               3        3      20639.70   \n",
              "...                     ...             ...      ...           ...   \n",
              "99995                     7               2       11       2202.86   \n",
              "99996                     0               3        3      13109.05   \n",
              "99997                     6               3        3       7315.57   \n",
              "99998                     9               3        3       9890.07   \n",
              "99999                     1               2        3       9118.10   \n",
              "\n",
              "       Years of Credit History  Months since last delinquent  \\\n",
              "0                         17.2                          32.0   \n",
              "1                         21.1                           8.0   \n",
              "2                         14.9                          29.0   \n",
              "3                         12.0                          44.0   \n",
              "4                          6.1                           5.0   \n",
              "...                        ...                           ...   \n",
              "99995                     22.3                          18.0   \n",
              "99996                      9.4                          21.0   \n",
              "99997                     18.8                          18.0   \n",
              "99998                     15.0                          67.0   \n",
              "99999                     13.0                          82.0   \n",
              "\n",
              "       Number of Open Accounts  Number of Credit Problems  \\\n",
              "0                            6                          1   \n",
              "1                           35                          0   \n",
              "2                           18                          1   \n",
              "3                            9                          0   \n",
              "4                           15                          0   \n",
              "...                        ...                        ...   \n",
              "99995                        5                          0   \n",
              "99996                       22                          0   \n",
              "99997                       12                          1   \n",
              "99998                        8                          0   \n",
              "99999                        4                          1   \n",
              "\n",
              "       Current Credit Balance  Maximum Open Credit  Bankruptcies  Tax Liens  \n",
              "0                      228190             416746.0           1.0        0.0  \n",
              "1                      229976             850784.0           0.0        0.0  \n",
              "2                      297996             750090.0           0.0        0.0  \n",
              "3                      256329             386958.0           0.0        0.0  \n",
              "4                      253460             427174.0           0.0        0.0  \n",
              "...                       ...                  ...           ...        ...  \n",
              "99995                   47766             658548.0           0.0        0.0  \n",
              "99996                  153045             509234.0           0.0        0.0  \n",
              "99997                  109554             537548.0           1.0        0.0  \n",
              "99998                  404225             738254.0           0.0        0.0  \n",
              "99999                   45600              91014.0           1.0        0.0  \n",
              "\n",
              "[100000 rows x 17 columns]"
            ]
          },
          "execution_count": 132,
          "metadata": {},
          "output_type": "execute_result"
        }
      ],
      "source": [
        "label_encoder = LabelEncoder()\n",
        "df['Term']=label_encoder.fit_transform(df['Term'])\n",
        "df['Years in current job']=label_encoder.fit_transform(df['Years in current job'])\n",
        "df['Home Ownership']=label_encoder.fit_transform(df['Home Ownership'])\n",
        "df['Purpose']=label_encoder.fit_transform(df['Purpose'])\n",
        "df['Loan Status']=label_encoder.fit_transform(df['Loan Status'])\n",
        "df"
      ]
    },
    {
      "cell_type": "code",
      "execution_count": 133,
      "metadata": {
        "colab": {
          "base_uri": "https://localhost:8080/"
        },
        "id": "VZB05oQHibnn",
        "outputId": "b25400ff-dbef-4ce8-d0d8-6308cd3f67b2"
      },
      "outputs": [
        {
          "data": {
            "text/plain": [
              "Loan Status                     0\n",
              "Current Loan Amount             0\n",
              "Term                            0\n",
              "Credit Score                    0\n",
              "Annual Income                   0\n",
              "Years in current job            0\n",
              "Home Ownership                  0\n",
              "Purpose                         0\n",
              "Monthly Debt                    0\n",
              "Years of Credit History         0\n",
              "Months since last delinquent    0\n",
              "Number of Open Accounts         0\n",
              "Number of Credit Problems       0\n",
              "Current Credit Balance          0\n",
              "Maximum Open Credit             0\n",
              "Bankruptcies                    0\n",
              "Tax Liens                       0\n",
              "dtype: int64"
            ]
          },
          "execution_count": 133,
          "metadata": {},
          "output_type": "execute_result"
        }
      ],
      "source": [
        "df.isnull().sum()"
      ]
    },
    {
      "cell_type": "code",
      "execution_count": 134,
      "metadata": {
        "id": "c4eS1QvVBBS3"
      },
      "outputs": [],
      "source": [
        "X = df.drop(labels='Loan Status', axis=1)\n",
        "y = df['Loan Status']\n",
        "x_train , x_test , y_train , y_test = train_test_split(X, y, test_size=0.25,random_state=42)"
      ]
    },
    {
      "cell_type": "code",
      "execution_count": 135,
      "metadata": {
        "id": "MdKOo_2rsxwc"
      },
      "outputs": [],
      "source": [
        "x_train['Current Loan Amount'] = np.log(x_train['Current Loan Amount'] + 1)\n",
        "x_train['Years of Credit History'] = np.log(x_train['Years of Credit History'] + 1)\n",
        "x_train['Annual Income'] = np.log(x_train['Annual Income'] + 1)\n",
        "x_train['Monthly Debt'] = np.log(x_train['Monthly Debt'] + 1)\n",
        "\n",
        "\n",
        "x_test['Current Loan Amount'] = np.log(x_test['Current Loan Amount'] + 1)\n",
        "x_test['Years of Credit History'] = np.log(x_test['Years of Credit History'] + 1)\n",
        "x_test['Annual Income'] = np.log(x_test['Annual Income'] + 1)\n",
        "x_test['Monthly Debt'] = np.log(x_test['Monthly Debt'] + 1)"
      ]
    },
    {
      "cell_type": "markdown",
      "metadata": {
        "id": "apCAexNRrjQi"
      },
      "source": [
        "**DecisionTreeClassifier**"
      ]
    },
    {
      "cell_type": "code",
      "execution_count": null,
      "metadata": {
        "colab": {
          "base_uri": "https://localhost:8080/"
        },
        "id": "jpWSez_XBIYk",
        "outputId": "8027e87f-15b5-4fc4-aca5-33fc850ee727"
      },
      "outputs": [
        {
          "name": "stdout",
          "output_type": "stream",
          "text": [
            "0.8224\n",
            "0.81064\n",
            "CPU times: user 1.97 s, sys: 10.9 ms, total: 1.98 s\n",
            "Wall time: 1.03 s\n"
          ]
        }
      ],
      "source": [
        "%%time\n",
        "dt =DecisionTreeClassifier(max_features=10 , max_depth=10)\n",
        "dt.fit(x_train ,label_encoder.fit_transform(np.log(y_train+1)) )\n",
        "print(dt.score(x_train , y_train))\n",
        "print(dt.score(x_test , y_test))"
      ]
    },
    {
      "cell_type": "markdown",
      "metadata": {
        "id": "tWTQX3Owqavz"
      },
      "source": [
        "0.82112\n",
        "\n",
        "0.81372\n",
        "\n",
        "CPU times: user 484 ms, sys: 11.9 ms, total: 496 ms\n",
        "Wall time: 500 ms"
      ]
    },
    {
      "cell_type": "markdown",
      "metadata": {
        "id": "EyD64RRcOptx"
      },
      "source": [
        "optuna dec tree"
      ]
    },
    {
      "cell_type": "code",
      "execution_count": null,
      "metadata": {
        "id": "2rPoXrSUOpG3"
      },
      "outputs": [],
      "source": [
        "def objective(trial,data=X,target=y):\n",
        "    \n",
        "    train_x, test_x, train_y, test_y = train_test_split(data, target, test_size=0.25,random_state=42)\n",
        "    train_x['Current Loan Amount'] = np.log(train_x['Current Loan Amount'] + 1)\n",
        "    train_x['Years of Credit History'] = np.log(train_x['Years of Credit History'] + 1)\n",
        "    train_x['Annual Income'] = np.log(train_x['Annual Income'] + 1)\n",
        "    train_x['Monthly Debt'] = np.log(train_x['Monthly Debt'] + 1)\n",
        "\n",
        "\n",
        "    test_x['Current Loan Amount'] = np.log(test_x['Current Loan Amount'] + 1)\n",
        "    test_x['Years of Credit History'] = np.log(test_x['Years of Credit History'] + 1)\n",
        "    test_x['Annual Income'] = np.log(test_x['Annual Income'] + 1)\n",
        "    test_x['Monthly Debt'] = np.log(test_x['Monthly Debt'] + 1)\n",
        "\n",
        "    param = {\n",
        "        'criterion': trial.suggest_categorical('criterion', ['gini', 'entropy']),\n",
        "        'max_features': trial.suggest_categorical('max_features', range(1,17)),\n",
        "        'max_depth': trial.suggest_categorical('max_depth', range(1,20)),\n",
        "    }\n",
        "    model = DecisionTreeClassifier(**param)  \n",
        "    \n",
        "    #model.fit(train_x,label_encoder.fit_transform(np.log(train_y+1)))\n",
        "    model.fit(train_x,train_y)\n",
        "\n",
        "\n",
        "    preds = model.predict(test_x)\n",
        "    \n",
        "    rmse = mean_squared_error(test_y, preds,squared=False)\n",
        "    \n",
        "    return (model.score(x_test , y_test)) # (model.score(x_train , y_train))"
      ]
    },
    {
      "cell_type": "code",
      "execution_count": null,
      "metadata": {
        "id": "GJ098nbfPBW1"
      },
      "outputs": [],
      "source": [
        "study = optuna.create_study(direction='maximize')\n",
        "study.optimize(objective, n_trials=350,\n",
        "               show_progress_bar=True, n_jobs=-1)"
      ]
    },
    {
      "cell_type": "code",
      "execution_count": null,
      "metadata": {
        "colab": {
          "base_uri": "https://localhost:8080/"
        },
        "id": "BvicREjHRMDh",
        "outputId": "37eb7e92-dfb9-468e-e5b7-59912302a8e6"
      },
      "outputs": [
        {
          "data": {
            "text/plain": [
              "{'criterion': 'entropy', 'max_features': 14, 'max_depth': 6}"
            ]
          },
          "execution_count": 902,
          "metadata": {},
          "output_type": "execute_result"
        }
      ],
      "source": [
        "Best_trial = study.best_trial.params\n",
        "#Best_trial[\"n_estimators\"], Best_trial[\"tree_method\"] = 10000, 'gpu_hist'\n",
        "Best_trial\n"
      ]
    },
    {
      "cell_type": "code",
      "execution_count": null,
      "metadata": {
        "colab": {
          "base_uri": "https://localhost:8080/"
        },
        "id": "vocC4P8qRWER",
        "outputId": "0fea230a-90d5-42af-bff3-e7b9ed23c30c"
      },
      "outputs": [
        {
          "data": {
            "text/plain": [
              "0.81744"
            ]
          },
          "execution_count": 903,
          "metadata": {},
          "output_type": "execute_result"
        }
      ],
      "source": [
        "study.best_trial.value"
      ]
    },
    {
      "cell_type": "markdown",
      "metadata": {
        "id": "_pmwohJ-R-VL"
      },
      "source": [
        "{'criterion': 'entropy', 'max_features': 13, 'max_depth': 5}\n",
        "\n",
        "0.81792"
      ]
    },
    {
      "cell_type": "code",
      "execution_count": null,
      "metadata": {
        "id": "vXz6j6q459ez"
      },
      "outputs": [],
      "source": [
        "%%time\n",
        "\n",
        "parameters = { 'max_features':range(1,16),'criterion': ['gini', 'entropy', 'log_loss']}#'max_depth':range(2,20),\n",
        "scorin_fnc = make_scorer(accuracy_score)\n",
        "kflod = KFold(n_splits=10)\n",
        "regressor = DecisionTreeClassifier()\n",
        "\n",
        "grid = GridSearchCV(regressor,parameters,cv=kflod ,n_jobs=-1 )\n",
        "grid = grid.fit(x_train,y_train)\n",
        "reg = grid.best_estimator_\n",
        " \n",
        "print('best score:%f'%grid.best_score_)\n",
        "print('best parameters:')\n",
        "for key in parameters.keys():\n",
        "    print('%s:%d'%(key,reg.get_params()[key]))\n",
        " \n",
        "print('test score : %f'%reg.score(x_test,y_test))"
      ]
    },
    {
      "cell_type": "code",
      "execution_count": null,
      "metadata": {
        "id": "XtOkMcY3GY56"
      },
      "outputs": [],
      "source": [
        "grid.best_score_"
      ]
    },
    {
      "cell_type": "markdown",
      "metadata": {
        "id": "uHQF3OIynq2e"
      },
      "source": [
        "**RandomForestClassifier**"
      ]
    },
    {
      "cell_type": "code",
      "execution_count": null,
      "metadata": {
        "colab": {
          "base_uri": "https://localhost:8080/"
        },
        "id": "ic6Z7kjPBqtz",
        "outputId": "38074ef3-ed8c-4761-8070-b725e7d7ceff"
      },
      "outputs": [
        {
          "name": "stdout",
          "output_type": "stream",
          "text": [
            "0.8158\n",
            "0.8158\n",
            "CPU times: user 58 s, sys: 65.6 ms, total: 58.1 s\n",
            "Wall time: 58.7 s\n"
          ]
        }
      ],
      "source": [
        "%%time\n",
        "rf = RandomForestClassifier(max_features=15,max_depth=15)\n",
        "rf.fit(x_train , y_train)\n",
        "print(rf.score(x_test , y_test))\n",
        "print(rf.score(x_test , y_test))"
      ]
    },
    {
      "cell_type": "markdown",
      "metadata": {
        "id": "jYqlSbDNSMoS"
      },
      "source": [
        "optuna random"
      ]
    },
    {
      "cell_type": "code",
      "execution_count": null,
      "metadata": {
        "id": "bX8ydOA9SMLo"
      },
      "outputs": [],
      "source": [
        "def objective(trial,data=X,target=y):\n",
        "    \n",
        "    train_x, test_x, train_y, test_y = train_test_split(data, target, test_size=0.25,random_state=42)\n",
        "    param = {\n",
        "        'n_jobs':-1,\n",
        "        #'bootstrap': trial.suggest_categorical('bootstrap', [True, False]),\n",
        "        'oob_score': trial.suggest_categorical('oob_score', [True, False]),\n",
        "\n",
        "        'n_estimators': trial.suggest_int('n_estimators', 100,350, step=2),\n",
        "        'criterion': trial.suggest_categorical('criterion', ['gini', 'entropy']),\n",
        "        'max_features': trial.suggest_categorical('max_features', range(1,16)),\n",
        "        'max_depth': trial.suggest_categorical('max_depth', range(1,20)),\n",
        "    }\n",
        "    model = RandomForestClassifier(**param)  \n",
        "    \n",
        "    train_x['Current Loan Amount'] = np.log(train_x['Current Loan Amount'] + 1)\n",
        "    train_x['Years of Credit History'] = np.log(train_x['Years of Credit History'] + 1)\n",
        "    train_x['Annual Income'] = np.log(train_x['Annual Income'] + 1)\n",
        "    train_x['Monthly Debt'] = np.log(train_x['Monthly Debt'] + 1)\n",
        "\n",
        "\n",
        "    test_x['Current Loan Amount'] = np.log(test_x['Current Loan Amount'] + 1)\n",
        "    test_x['Years of Credit History'] = np.log(test_x['Years of Credit History'] + 1)\n",
        "    test_x['Annual Income'] = np.log(test_x['Annual Income'] + 1)\n",
        "    test_x['Monthly Debt'] = np.log(test_x['Monthly Debt'] + 1)\n",
        "\n",
        "\n",
        "\n",
        "    #model.fit(train_x,train_y)\n",
        "    model.fit(train_x,label_encoder.fit_transform(np.log(train_y+1)))\n",
        "    \n",
        "    preds = model.predict(test_x)\n",
        "    \n",
        "    rmse = mean_squared_error(test_y, preds,squared=False)\n",
        "    \n",
        "    return  (model.score(x_test , y_test)) # (model.score(x_train , y_train))"
      ]
    },
    {
      "cell_type": "code",
      "execution_count": null,
      "metadata": {
        "colab": {
          "base_uri": "https://localhost:8080/",
          "height": 1000,
          "referenced_widgets": [
            "f3cfee96e06e41558d947c7043d13b6f",
            "3a0244302c2e46ba9cc216aa4e4c89c2",
            "2c0670ee6bf040eda7ceb3092cc3e49c",
            "c95a053a5a22426b9fa272de5b821d27",
            "8b27eed79f064739b80724d77d070095",
            "4c572d0eb1ca41eba5ef6d8445a1fa39",
            "f2ce3d6f76b746bb83c5068c2a843d88",
            "29937739e32d4e888f6c7f12729d4d14",
            "0736410b21ca49b3b0a3da511d3acf82",
            "1484e003e24847d693ea4708c2d1e1d2",
            "53a504a0e11b4fef82ad57328dbcfdb4"
          ]
        },
        "id": "fqMuKtqsTlbZ",
        "outputId": "36161f80-0f95-4533-8fa1-40035c12553c"
      },
      "outputs": [
        {
          "name": "stderr",
          "output_type": "stream",
          "text": [
            "\u001b[32m[I 2022-10-09 13:51:40,296]\u001b[0m A new study created in memory with name: no-name-7cca5f9b-fb3e-4e0c-9dbd-68fec081caca\u001b[0m\n",
            "/usr/local/lib/python3.7/dist-packages/optuna/progress_bar.py:49: ExperimentalWarning: Progress bar is experimental (supported from v1.2.0). The interface can change in the future.\n",
            "  self._init_valid()\n"
          ]
        },
        {
          "data": {
            "application/vnd.jupyter.widget-view+json": {
              "model_id": "f3cfee96e06e41558d947c7043d13b6f",
              "version_major": 2,
              "version_minor": 0
            },
            "text/plain": [
              "  0%|          | 0/350 [00:00<?, ?it/s]"
            ]
          },
          "metadata": {},
          "output_type": "display_data"
        },
        {
          "name": "stdout",
          "output_type": "stream",
          "text": [
            "\u001b[32m[I 2022-10-09 13:51:59,996]\u001b[0m Trial 1 finished with value: 0.77448 and parameters: {'oob_score': True, 'n_estimators': 290, 'criterion': 'entropy', 'max_features': 5, 'max_depth': 1}. Best is trial 1 with value: 0.77448.\u001b[0m\n",
            "\u001b[32m[I 2022-10-09 13:53:34,207]\u001b[0m Trial 2 finished with value: 0.81744 and parameters: {'oob_score': False, 'n_estimators': 322, 'criterion': 'gini', 'max_features': 5, 'max_depth': 14}. Best is trial 2 with value: 0.81744.\u001b[0m\n",
            "\u001b[32m[I 2022-10-09 13:54:06,827]\u001b[0m Trial 0 finished with value: 0.81736 and parameters: {'oob_score': False, 'n_estimators': 176, 'criterion': 'entropy', 'max_features': 10, 'max_depth': 15}. Best is trial 2 with value: 0.81744.\u001b[0m\n",
            "\u001b[32m[I 2022-10-09 13:54:12,712]\u001b[0m Trial 3 finished with value: 0.817 and parameters: {'oob_score': False, 'n_estimators': 312, 'criterion': 'gini', 'max_features': 1, 'max_depth': 19}. Best is trial 2 with value: 0.81744.\u001b[0m\n",
            "\u001b[32m[I 2022-10-09 13:54:29,328]\u001b[0m Trial 4 finished with value: 0.8112 and parameters: {'oob_score': False, 'n_estimators': 302, 'criterion': 'gini', 'max_features': 1, 'max_depth': 10}. Best is trial 2 with value: 0.81744.\u001b[0m\n",
            "\u001b[32m[I 2022-10-09 13:55:27,268]\u001b[0m Trial 5 finished with value: 0.81752 and parameters: {'oob_score': False, 'n_estimators': 130, 'criterion': 'entropy', 'max_features': 9, 'max_depth': 11}. Best is trial 5 with value: 0.81752.\u001b[0m\n",
            "\u001b[32m[I 2022-10-09 13:55:57,878]\u001b[0m Trial 7 finished with value: 0.8172 and parameters: {'oob_score': False, 'n_estimators': 126, 'criterion': 'gini', 'max_features': 6, 'max_depth': 9}. Best is trial 5 with value: 0.81752.\u001b[0m\n",
            "\u001b[32m[I 2022-10-09 13:56:07,864]\u001b[0m Trial 6 finished with value: 0.81732 and parameters: {'oob_score': False, 'n_estimators': 262, 'criterion': 'entropy', 'max_features': 4, 'max_depth': 15}. Best is trial 5 with value: 0.81752.\u001b[0m\n",
            "\u001b[32m[I 2022-10-09 13:56:56,990]\u001b[0m Trial 9 finished with value: 0.817 and parameters: {'oob_score': False, 'n_estimators': 244, 'criterion': 'gini', 'max_features': 7, 'max_depth': 6}. Best is trial 5 with value: 0.81752.\u001b[0m\n",
            "\u001b[32m[I 2022-10-09 13:57:18,013]\u001b[0m Trial 8 finished with value: 0.81764 and parameters: {'oob_score': True, 'n_estimators': 318, 'criterion': 'gini', 'max_features': 4, 'max_depth': 13}. Best is trial 8 with value: 0.81764.\u001b[0m\n",
            "\u001b[32m[I 2022-10-09 13:57:18,846]\u001b[0m Trial 10 finished with value: 0.81696 and parameters: {'oob_score': False, 'n_estimators': 274, 'criterion': 'gini', 'max_features': 4, 'max_depth': 4}. Best is trial 8 with value: 0.81764.\u001b[0m\n",
            "\u001b[32m[I 2022-10-09 13:59:17,711]\u001b[0m Trial 12 finished with value: 0.8174 and parameters: {'oob_score': True, 'n_estimators': 192, 'criterion': 'entropy', 'max_features': 9, 'max_depth': 11}. Best is trial 8 with value: 0.81764.\u001b[0m\n",
            "\u001b[32m[I 2022-10-09 13:59:25,896]\u001b[0m Trial 11 finished with value: 0.81768 and parameters: {'oob_score': True, 'n_estimators': 208, 'criterion': 'gini', 'max_features': 12, 'max_depth': 13}. Best is trial 11 with value: 0.81768.\u001b[0m\n",
            "\u001b[32m[I 2022-10-09 14:00:47,842]\u001b[0m Trial 13 finished with value: 0.81772 and parameters: {'oob_score': True, 'n_estimators': 118, 'criterion': 'entropy', 'max_features': 12, 'max_depth': 11}. Best is trial 13 with value: 0.81772.\u001b[0m\n",
            "\u001b[32m[I 2022-10-09 14:01:34,618]\u001b[0m Trial 14 finished with value: 0.81736 and parameters: {'oob_score': True, 'n_estimators': 210, 'criterion': 'gini', 'max_features': 12, 'max_depth': 13}. Best is trial 13 with value: 0.81772.\u001b[0m\n",
            "\u001b[32m[I 2022-10-09 14:01:59,481]\u001b[0m Trial 16 finished with value: 0.81696 and parameters: {'oob_score': True, 'n_estimators': 102, 'criterion': 'entropy', 'max_features': 12, 'max_depth': 3}. Best is trial 13 with value: 0.81772.\u001b[0m\n",
            "\u001b[32m[I 2022-10-09 14:03:44,159]\u001b[0m Trial 15 finished with value: 0.81752 and parameters: {'oob_score': True, 'n_estimators': 198, 'criterion': 'entropy', 'max_features': 12, 'max_depth': 13}. Best is trial 13 with value: 0.81772.\u001b[0m\n",
            "\u001b[32m[I 2022-10-09 14:04:50,134]\u001b[0m Trial 17 finished with value: 0.81712 and parameters: {'oob_score': True, 'n_estimators': 162, 'criterion': 'entropy', 'max_features': 12, 'max_depth': 16}. Best is trial 13 with value: 0.81772.\u001b[0m\n",
            "\u001b[32m[I 2022-10-09 14:04:54,841]\u001b[0m Trial 18 finished with value: 0.81716 and parameters: {'oob_score': True, 'n_estimators': 160, 'criterion': 'entropy', 'max_features': 15, 'max_depth': 5}. Best is trial 13 with value: 0.81772.\u001b[0m\n",
            "\u001b[32m[I 2022-10-09 14:05:13,442]\u001b[0m Trial 19 finished with value: 0.81712 and parameters: {'oob_score': True, 'n_estimators': 236, 'criterion': 'gini', 'max_features': 2, 'max_depth': 7}. Best is trial 13 with value: 0.81772.\u001b[0m\n",
            "\u001b[32m[I 2022-10-09 14:05:55,370]\u001b[0m Trial 21 finished with value: 0.81716 and parameters: {'oob_score': True, 'n_estimators': 102, 'criterion': 'entropy', 'max_features': 8, 'max_depth': 8}. Best is trial 13 with value: 0.81772.\u001b[0m\n",
            "\u001b[32m[I 2022-10-09 14:06:39,475]\u001b[0m Trial 20 finished with value: 0.81736 and parameters: {'oob_score': True, 'n_estimators': 228, 'criterion': 'gini', 'max_features': 14, 'max_depth': 8}. Best is trial 13 with value: 0.81772.\u001b[0m\n",
            "\u001b[32m[I 2022-10-09 14:09:53,522]\u001b[0m Trial 22 finished with value: 0.81732 and parameters: {'oob_score': True, 'n_estimators': 340, 'criterion': 'gini', 'max_features': 14, 'max_depth': 13}. Best is trial 13 with value: 0.81772.\u001b[0m\n",
            "\u001b[32m[I 2022-10-09 14:11:14,512]\u001b[0m Trial 23 finished with value: 0.81696 and parameters: {'oob_score': True, 'n_estimators': 332, 'criterion': 'gini', 'max_features': 13, 'max_depth': 18}. Best is trial 13 with value: 0.81772.\u001b[0m\n",
            "\u001b[32m[I 2022-10-09 14:11:22,405]\u001b[0m Trial 25 finished with value: 0.77448 and parameters: {'oob_score': True, 'n_estimators': 136, 'criterion': 'gini', 'max_features': 3, 'max_depth': 2}. Best is trial 13 with value: 0.81772.\u001b[0m\n",
            "\u001b[32m[I 2022-10-09 14:11:23,036]\u001b[0m Trial 24 finished with value: 0.81684 and parameters: {'oob_score': True, 'n_estimators': 136, 'criterion': 'gini', 'max_features': 11, 'max_depth': 17}. Best is trial 13 with value: 0.81772.\u001b[0m\n",
            "\u001b[32m[I 2022-10-09 14:12:23,405]\u001b[0m Trial 27 finished with value: 0.81728 and parameters: {'oob_score': True, 'n_estimators': 258, 'criterion': 'gini', 'max_features': 4, 'max_depth': 12}. Best is trial 13 with value: 0.81772.\u001b[0m\n",
            "\u001b[32m[I 2022-10-09 14:15:22,853]\u001b[0m Trial 26 finished with value: 0.81716 and parameters: {'oob_score': True, 'n_estimators': 350, 'criterion': 'gini', 'max_features': 11, 'max_depth': 17}. Best is trial 13 with value: 0.81772.\u001b[0m\n",
            "\u001b[32m[I 2022-10-09 14:15:51,812]\u001b[0m Trial 28 finished with value: 0.8178 and parameters: {'oob_score': True, 'n_estimators': 348, 'criterion': 'gini', 'max_features': 12, 'max_depth': 13}. Best is trial 28 with value: 0.8178.\u001b[0m\n",
            "\u001b[32m[I 2022-10-09 14:17:50,469]\u001b[0m Trial 30 finished with value: 0.81752 and parameters: {'oob_score': True, 'n_estimators': 182, 'criterion': 'entropy', 'max_features': 10, 'max_depth': 11}. Best is trial 28 with value: 0.8178.\u001b[0m\n",
            "\u001b[32m[I 2022-10-09 14:18:28,160]\u001b[0m Trial 29 finished with value: 0.8174 and parameters: {'oob_score': True, 'n_estimators': 212, 'criterion': 'entropy', 'max_features': 12, 'max_depth': 13}. Best is trial 28 with value: 0.8178.\u001b[0m\n",
            "\u001b[32m[I 2022-10-09 14:20:15,429]\u001b[0m Trial 31 finished with value: 0.81744 and parameters: {'oob_score': True, 'n_estimators': 162, 'criterion': 'entropy', 'max_features': 12, 'max_depth': 13}. Best is trial 28 with value: 0.8178.\u001b[0m\n",
            "\u001b[32m[I 2022-10-09 14:20:41,781]\u001b[0m Trial 33 finished with value: 0.81696 and parameters: {'oob_score': True, 'n_estimators': 298, 'criterion': 'gini', 'max_features': 12, 'max_depth': 1}. Best is trial 28 with value: 0.8178.\u001b[0m\n",
            "\u001b[32m[I 2022-10-09 14:21:26,452]\u001b[0m Trial 32 finished with value: 0.8174 and parameters: {'oob_score': True, 'n_estimators': 294, 'criterion': 'gini', 'max_features': 12, 'max_depth': 13}. Best is trial 28 with value: 0.8178.\u001b[0m\n",
            "\u001b[32m[I 2022-10-09 14:21:37,805]\u001b[0m Trial 34 finished with value: 0.817 and parameters: {'oob_score': True, 'n_estimators': 284, 'criterion': 'gini', 'max_features': 3, 'max_depth': 13}. Best is trial 28 with value: 0.8178.\u001b[0m\n",
            "\u001b[32m[I 2022-10-09 14:23:38,295]\u001b[0m Trial 35 finished with value: 0.81744 and parameters: {'oob_score': True, 'n_estimators': 330, 'criterion': 'gini', 'max_features': 7, 'max_depth': 14}. Best is trial 28 with value: 0.8178.\u001b[0m\n",
            "\u001b[32m[I 2022-10-09 14:23:39,207]\u001b[0m Trial 36 finished with value: 0.81724 and parameters: {'oob_score': True, 'n_estimators': 318, 'criterion': 'gini', 'max_features': 5, 'max_depth': 19}. Best is trial 28 with value: 0.8178.\u001b[0m\n",
            "\u001b[32m[I 2022-10-09 14:24:55,151]\u001b[0m Trial 37 finished with value: 0.81716 and parameters: {'oob_score': True, 'n_estimators': 316, 'criterion': 'gini', 'max_features': 5, 'max_depth': 10}. Best is trial 28 with value: 0.8178.\u001b[0m\n",
            "\u001b[32m[I 2022-10-09 14:25:36,520]\u001b[0m Trial 38 finished with value: 0.8178 and parameters: {'oob_score': True, 'n_estimators': 310, 'criterion': 'gini', 'max_features': 6, 'max_depth': 15}. Best is trial 28 with value: 0.8178.\u001b[0m\n",
            "\u001b[32m[I 2022-10-09 14:26:57,869]\u001b[0m Trial 39 finished with value: 0.8178 and parameters: {'oob_score': False, 'n_estimators': 350, 'criterion': 'gini', 'max_features': 6, 'max_depth': 15}. Best is trial 28 with value: 0.8178.\u001b[0m\n",
            "\u001b[32m[I 2022-10-09 14:27:42,065]\u001b[0m Trial 40 finished with value: 0.81772 and parameters: {'oob_score': False, 'n_estimators': 348, 'criterion': 'gini', 'max_features': 6, 'max_depth': 15}. Best is trial 28 with value: 0.8178.\u001b[0m\n",
            "\u001b[32m[I 2022-10-09 14:28:12,738]\u001b[0m Trial 41 finished with value: 0.81716 and parameters: {'oob_score': False, 'n_estimators': 350, 'criterion': 'entropy', 'max_features': 2, 'max_depth': 15}. Best is trial 28 with value: 0.8178.\u001b[0m\n",
            "\u001b[32m[I 2022-10-09 14:29:41,567]\u001b[0m Trial 42 finished with value: 0.8178 and parameters: {'oob_score': False, 'n_estimators': 334, 'criterion': 'gini', 'max_features': 6, 'max_depth': 15}. Best is trial 28 with value: 0.8178.\u001b[0m\n",
            "\u001b[32m[I 2022-10-09 14:30:13,459]\u001b[0m Trial 43 finished with value: 0.81764 and parameters: {'oob_score': False, 'n_estimators': 338, 'criterion': 'gini', 'max_features': 6, 'max_depth': 15}. Best is trial 28 with value: 0.8178.\u001b[0m\n",
            "\u001b[32m[I 2022-10-09 14:31:31,430]\u001b[0m Trial 44 finished with value: 0.8174 and parameters: {'oob_score': False, 'n_estimators': 308, 'criterion': 'gini', 'max_features': 6, 'max_depth': 15}. Best is trial 28 with value: 0.8178.\u001b[0m\n",
            "\u001b[32m[I 2022-10-09 14:32:04,543]\u001b[0m Trial 45 finished with value: 0.81748 and parameters: {'oob_score': False, 'n_estimators': 308, 'criterion': 'gini', 'max_features': 6, 'max_depth': 15}. Best is trial 28 with value: 0.8178.\u001b[0m\n",
            "\u001b[32m[I 2022-10-09 14:33:29,521]\u001b[0m Trial 46 finished with value: 0.81748 and parameters: {'oob_score': False, 'n_estimators': 328, 'criterion': 'gini', 'max_features': 6, 'max_depth': 15}. Best is trial 28 with value: 0.8178.\u001b[0m\n",
            "\u001b[32m[I 2022-10-09 14:34:01,976]\u001b[0m Trial 47 finished with value: 0.81748 and parameters: {'oob_score': False, 'n_estimators': 328, 'criterion': 'gini', 'max_features': 6, 'max_depth': 15}. Best is trial 28 with value: 0.8178.\u001b[0m\n",
            "\u001b[32m[I 2022-10-09 14:34:27,023]\u001b[0m Trial 49 finished with value: 0.80436 and parameters: {'oob_score': False, 'n_estimators': 282, 'criterion': 'entropy', 'max_features': 1, 'max_depth': 9}. Best is trial 28 with value: 0.8178.\u001b[0m\n",
            "\u001b[32m[I 2022-10-09 14:35:31,953]\u001b[0m Trial 48 finished with value: 0.81776 and parameters: {'oob_score': False, 'n_estimators': 342, 'criterion': 'gini', 'max_features': 6, 'max_depth': 15}. Best is trial 28 with value: 0.8178.\u001b[0m\n",
            "\u001b[32m[I 2022-10-09 14:35:36,267]\u001b[0m Trial 50 finished with value: 0.81696 and parameters: {'oob_score': False, 'n_estimators': 264, 'criterion': 'gini', 'max_features': 15, 'max_depth': 4}. Best is trial 28 with value: 0.8178.\u001b[0m\n",
            "\u001b[32m[I 2022-10-09 14:36:29,850]\u001b[0m Trial 51 finished with value: 0.81692 and parameters: {'oob_score': False, 'n_estimators': 340, 'criterion': 'gini', 'max_features': 6, 'max_depth': 6}. Best is trial 28 with value: 0.8178.\u001b[0m\n",
            "\u001b[32m[I 2022-10-09 14:37:40,139]\u001b[0m Trial 52 finished with value: 0.81768 and parameters: {'oob_score': False, 'n_estimators': 344, 'criterion': 'gini', 'max_features': 6, 'max_depth': 15}. Best is trial 28 with value: 0.8178.\u001b[0m\n",
            "\u001b[32m[I 2022-10-09 14:38:35,773]\u001b[0m Trial 53 finished with value: 0.81764 and parameters: {'oob_score': False, 'n_estimators': 348, 'criterion': 'gini', 'max_features': 6, 'max_depth': 15}. Best is trial 28 with value: 0.8178.\u001b[0m\n",
            "\u001b[32m[I 2022-10-09 14:39:09,145]\u001b[0m Trial 55 finished with value: 0.81696 and parameters: {'oob_score': False, 'n_estimators': 322, 'criterion': 'gini', 'max_features': 6, 'max_depth': 3}. Best is trial 28 with value: 0.8178.\u001b[0m\n",
            "\u001b[32m[I 2022-10-09 14:39:38,016]\u001b[0m Trial 54 finished with value: 0.81756 and parameters: {'oob_score': False, 'n_estimators': 322, 'criterion': 'gini', 'max_features': 6, 'max_depth': 15}. Best is trial 28 with value: 0.8178.\u001b[0m\n",
            "\u001b[32m[I 2022-10-09 14:41:54,824]\u001b[0m Trial 56 finished with value: 0.81764 and parameters: {'oob_score': False, 'n_estimators': 304, 'criterion': 'gini', 'max_features': 9, 'max_depth': 16}. Best is trial 28 with value: 0.8178.\u001b[0m\n",
            "\u001b[32m[I 2022-10-09 14:42:33,543]\u001b[0m Trial 57 finished with value: 0.81788 and parameters: {'oob_score': False, 'n_estimators': 336, 'criterion': 'gini', 'max_features': 9, 'max_depth': 15}. Best is trial 57 with value: 0.81788.\u001b[0m\n",
            "\u001b[32m[I 2022-10-09 14:42:57,643]\u001b[0m Trial 58 finished with value: 0.81696 and parameters: {'oob_score': False, 'n_estimators': 336, 'criterion': 'gini', 'max_features': 8, 'max_depth': 5}. Best is trial 57 with value: 0.81788.\u001b[0m\n",
            "\u001b[32m[I 2022-10-09 14:44:06,454]\u001b[0m Trial 59 finished with value: 0.81716 and parameters: {'oob_score': False, 'n_estimators': 336, 'criterion': 'gini', 'max_features': 9, 'max_depth': 7}. Best is trial 57 with value: 0.81788.\u001b[0m\n",
            "\u001b[32m[I 2022-10-09 14:44:22,903]\u001b[0m Trial 60 finished with value: 0.81724 and parameters: {'oob_score': False, 'n_estimators': 312, 'criterion': 'gini', 'max_features': 9, 'max_depth': 7}. Best is trial 57 with value: 0.81788.\u001b[0m\n",
            "\u001b[32m[I 2022-10-09 14:44:47,289]\u001b[0m Trial 61 finished with value: 0.81696 and parameters: {'oob_score': False, 'n_estimators': 310, 'criterion': 'gini', 'max_features': 13, 'max_depth': 2}. Best is trial 57 with value: 0.81788.\u001b[0m\n",
            "\u001b[32m[I 2022-10-09 14:46:32,349]\u001b[0m Trial 62 finished with value: 0.81756 and parameters: {'oob_score': False, 'n_estimators': 350, 'criterion': 'gini', 'max_features': 6, 'max_depth': 15}. Best is trial 57 with value: 0.81788.\u001b[0m\n",
            "\u001b[32m[I 2022-10-09 14:46:55,662]\u001b[0m Trial 63 finished with value: 0.81744 and parameters: {'oob_score': False, 'n_estimators': 350, 'criterion': 'gini', 'max_features': 6, 'max_depth': 15}. Best is trial 57 with value: 0.81788.\u001b[0m\n",
            "\u001b[32m[I 2022-10-09 14:47:12,402]\u001b[0m Trial 64 finished with value: 0.8172 and parameters: {'oob_score': False, 'n_estimators': 328, 'criterion': 'gini', 'max_features': 1, 'max_depth': 18}. Best is trial 57 with value: 0.81788.\u001b[0m\n",
            "\u001b[32m[I 2022-10-09 14:49:10,921]\u001b[0m Trial 66 finished with value: 0.81728 and parameters: {'oob_score': False, 'n_estimators': 338, 'criterion': 'gini', 'max_features': 7, 'max_depth': 12}. Best is trial 57 with value: 0.81788.\u001b[0m\n",
            "\u001b[32m[I 2022-10-09 14:49:27,583]\u001b[0m Trial 65 finished with value: 0.8174 and parameters: {'oob_score': False, 'n_estimators': 326, 'criterion': 'gini', 'max_features': 7, 'max_depth': 18}. Best is trial 57 with value: 0.81788.\u001b[0m\n",
            "\u001b[32m[I 2022-10-09 14:49:50,261]\u001b[0m Trial 68 finished with value: 0.81696 and parameters: {'oob_score': False, 'n_estimators': 342, 'criterion': 'gini', 'max_features': 10, 'max_depth': 1}. Best is trial 57 with value: 0.81788.\u001b[0m\n",
            "\u001b[32m[I 2022-10-09 14:52:17,692]\u001b[0m Trial 67 finished with value: 0.81736 and parameters: {'oob_score': False, 'n_estimators': 328, 'criterion': 'gini', 'max_features': 10, 'max_depth': 15}. Best is trial 57 with value: 0.81788.\u001b[0m\n",
            "\u001b[32m[I 2022-10-09 14:52:34,838]\u001b[0m Trial 69 finished with value: 0.81748 and parameters: {'oob_score': False, 'n_estimators': 318, 'criterion': 'gini', 'max_features': 9, 'max_depth': 15}. Best is trial 57 with value: 0.81788.\u001b[0m\n",
            "\u001b[32m[I 2022-10-09 14:55:11,822]\u001b[0m Trial 70 finished with value: 0.81736 and parameters: {'oob_score': False, 'n_estimators': 298, 'criterion': 'gini', 'max_features': 11, 'max_depth': 14}. Best is trial 57 with value: 0.81788.\u001b[0m\n",
            "\u001b[32m[I 2022-10-09 14:56:15,012]\u001b[0m Trial 71 finished with value: 0.8176 and parameters: {'oob_score': True, 'n_estimators': 244, 'criterion': 'entropy', 'max_features': 14, 'max_depth': 11}. Best is trial 57 with value: 0.81788.\u001b[0m\n",
            "\u001b[32m[I 2022-10-09 14:59:14,728]\u001b[0m Trial 73 finished with value: 0.81596 and parameters: {'oob_score': True, 'n_estimators': 148, 'criterion': 'entropy', 'max_features': 12, 'max_depth': 19}. Best is trial 57 with value: 0.81788.\u001b[0m\n",
            "\u001b[32m[I 2022-10-09 14:59:47,090]\u001b[0m Trial 74 finished with value: 0.81716 and parameters: {'oob_score': True, 'n_estimators': 112, 'criterion': 'entropy', 'max_features': 4, 'max_depth': 10}. Best is trial 57 with value: 0.81788.\u001b[0m\n",
            "\u001b[32m[I 2022-10-09 15:00:12,765]\u001b[0m Trial 75 finished with value: 0.81716 and parameters: {'oob_score': True, 'n_estimators': 174, 'criterion': 'gini', 'max_features': 2, 'max_depth': 11}. Best is trial 57 with value: 0.81788.\u001b[0m\n",
            "\u001b[32m[I 2022-10-09 15:01:18,728]\u001b[0m Trial 76 finished with value: 0.81704 and parameters: {'oob_score': True, 'n_estimators': 344, 'criterion': 'entropy', 'max_features': 3, 'max_depth': 8}. Best is trial 57 with value: 0.81788.\u001b[0m\n",
            "\u001b[32m[I 2022-10-09 15:01:58,374]\u001b[0m Trial 72 finished with value: 0.81736 and parameters: {'oob_score': True, 'n_estimators': 342, 'criterion': 'entropy', 'max_features': 12, 'max_depth': 19}. Best is trial 57 with value: 0.81788.\u001b[0m\n",
            "\u001b[32m[I 2022-10-09 15:06:21,451]\u001b[0m Trial 77 finished with value: 0.81648 and parameters: {'oob_score': False, 'n_estimators': 334, 'criterion': 'gini', 'max_features': 15, 'max_depth': 17}. Best is trial 57 with value: 0.81788.\u001b[0m\n",
            "\u001b[32m[I 2022-10-09 15:07:03,895]\u001b[0m Trial 78 finished with value: 0.81712 and parameters: {'oob_score': False, 'n_estimators': 334, 'criterion': 'gini', 'max_features': 15, 'max_depth': 17}. Best is trial 57 with value: 0.81788.\u001b[0m\n",
            "\u001b[32m[I 2022-10-09 15:07:44,294]\u001b[0m Trial 79 finished with value: 0.8172 and parameters: {'oob_score': False, 'n_estimators': 334, 'criterion': 'gini', 'max_features': 6, 'max_depth': 9}. Best is trial 57 with value: 0.81788.\u001b[0m\n",
            "\u001b[32m[I 2022-10-09 15:08:02,195]\u001b[0m Trial 80 finished with value: 0.81732 and parameters: {'oob_score': True, 'n_estimators': 220, 'criterion': 'gini', 'max_features': 6, 'max_depth': 9}. Best is trial 57 with value: 0.81788.\u001b[0m\n",
            "\u001b[32m[I 2022-10-09 15:09:52,384]\u001b[0m Trial 81 finished with value: 0.81724 and parameters: {'oob_score': True, 'n_estimators': 218, 'criterion': 'gini', 'max_features': 13, 'max_depth': 11}. Best is trial 57 with value: 0.81788.\u001b[0m\n",
            "\u001b[32m[I 2022-10-09 15:10:07,817]\u001b[0m Trial 82 finished with value: 0.81748 and parameters: {'oob_score': False, 'n_estimators': 344, 'criterion': 'gini', 'max_features': 6, 'max_depth': 15}. Best is trial 57 with value: 0.81788.\u001b[0m\n",
            "\u001b[32m[I 2022-10-09 15:11:58,926]\u001b[0m Trial 83 finished with value: 0.81784 and parameters: {'oob_score': False, 'n_estimators': 346, 'criterion': 'gini', 'max_features': 6, 'max_depth': 15}. Best is trial 57 with value: 0.81788.\u001b[0m\n",
            "\u001b[32m[I 2022-10-09 15:12:13,720]\u001b[0m Trial 84 finished with value: 0.8176 and parameters: {'oob_score': False, 'n_estimators': 344, 'criterion': 'gini', 'max_features': 6, 'max_depth': 15}. Best is trial 57 with value: 0.81788.\u001b[0m\n",
            "\u001b[32m[I 2022-10-09 15:13:05,146]\u001b[0m Trial 86 finished with value: 0.81696 and parameters: {'oob_score': False, 'n_estimators': 322, 'criterion': 'gini', 'max_features': 8, 'max_depth': 4}. Best is trial 57 with value: 0.81788.\u001b[0m\n",
            "\u001b[32m[I 2022-10-09 15:13:35,977]\u001b[0m Trial 87 finished with value: 0.817 and parameters: {'oob_score': False, 'n_estimators': 196, 'criterion': 'gini', 'max_features': 5, 'max_depth': 6}. Best is trial 57 with value: 0.81788.\u001b[0m\n",
            "\u001b[32m[I 2022-10-09 15:14:29,235]\u001b[0m Trial 85 finished with value: 0.81772 and parameters: {'oob_score': False, 'n_estimators': 322, 'criterion': 'gini', 'max_features': 8, 'max_depth': 15}. Best is trial 57 with value: 0.81788.\u001b[0m\n",
            "\u001b[32m[I 2022-10-09 15:16:58,401]\u001b[0m Trial 89 finished with value: 0.81776 and parameters: {'oob_score': False, 'n_estimators': 314, 'criterion': 'gini', 'max_features': 8, 'max_depth': 15}. Best is trial 57 with value: 0.81788.\u001b[0m\n",
            "\u001b[32m[I 2022-10-09 15:17:10,168]\u001b[0m Trial 88 finished with value: 0.81752 and parameters: {'oob_score': False, 'n_estimators': 316, 'criterion': 'gini', 'max_features': 12, 'max_depth': 15}. Best is trial 57 with value: 0.81788.\u001b[0m\n",
            "\u001b[32m[I 2022-10-09 15:19:18,901]\u001b[0m Trial 90 finished with value: 0.81796 and parameters: {'oob_score': False, 'n_estimators': 302, 'criterion': 'gini', 'max_features': 8, 'max_depth': 15}. Best is trial 90 with value: 0.81796.\u001b[0m\n",
            "\u001b[32m[I 2022-10-09 15:19:31,270]\u001b[0m Trial 91 finished with value: 0.81756 and parameters: {'oob_score': False, 'n_estimators': 302, 'criterion': 'gini', 'max_features': 8, 'max_depth': 15}. Best is trial 90 with value: 0.81796.\u001b[0m\n",
            "\u001b[32m[I 2022-10-09 15:21:40,715]\u001b[0m Trial 92 finished with value: 0.81736 and parameters: {'oob_score': False, 'n_estimators': 304, 'criterion': 'gini', 'max_features': 8, 'max_depth': 15}. Best is trial 90 with value: 0.81796.\u001b[0m\n",
            "\u001b[32m[I 2022-10-09 15:21:47,951]\u001b[0m Trial 93 finished with value: 0.8176 and parameters: {'oob_score': False, 'n_estimators': 290, 'criterion': 'gini', 'max_features': 8, 'max_depth': 15}. Best is trial 90 with value: 0.81796.\u001b[0m\n",
            "\u001b[32m[I 2022-10-09 15:22:20,882]\u001b[0m Trial 95 finished with value: 0.81696 and parameters: {'oob_score': False, 'n_estimators': 314, 'criterion': 'gini', 'max_features': 6, 'max_depth': 3}. Best is trial 90 with value: 0.81796.\u001b[0m\n",
            "\u001b[32m[I 2022-10-09 15:23:54,247]\u001b[0m Trial 94 finished with value: 0.81736 and parameters: {'oob_score': False, 'n_estimators': 286, 'criterion': 'gini', 'max_features': 8, 'max_depth': 15}. Best is trial 90 with value: 0.81796.\u001b[0m\n",
            "\u001b[32m[I 2022-10-09 15:24:36,277]\u001b[0m Trial 96 finished with value: 0.81752 and parameters: {'oob_score': False, 'n_estimators': 350, 'criterion': 'gini', 'max_features': 6, 'max_depth': 16}. Best is trial 90 with value: 0.81796.\u001b[0m\n",
            "\u001b[32m[I 2022-10-09 15:24:55,438]\u001b[0m Trial 97 finished with value: 0.81696 and parameters: {'oob_score': False, 'n_estimators': 324, 'criterion': 'gini', 'max_features': 8, 'max_depth': 5}. Best is trial 90 with value: 0.81796.\u001b[0m\n",
            "\u001b[32m[I 2022-10-09 15:26:46,669]\u001b[0m Trial 98 finished with value: 0.81764 and parameters: {'oob_score': False, 'n_estimators': 276, 'criterion': 'gini', 'max_features': 8, 'max_depth': 15}. Best is trial 90 with value: 0.81796.\u001b[0m\n",
            "\u001b[32m[I 2022-10-09 15:27:16,711]\u001b[0m Trial 99 finished with value: 0.81728 and parameters: {'oob_score': False, 'n_estimators': 270, 'criterion': 'gini', 'max_features': 9, 'max_depth': 15}. Best is trial 90 with value: 0.81796.\u001b[0m\n",
            "\u001b[32m[I 2022-10-09 15:27:33,383]\u001b[0m Trial 100 finished with value: 0.81696 and parameters: {'oob_score': True, 'n_estimators': 330, 'criterion': 'entropy', 'max_features': 9, 'max_depth': 2}. Best is trial 90 with value: 0.81796.\u001b[0m\n",
            "\u001b[32m[I 2022-10-09 15:29:03,829]\u001b[0m Trial 101 finished with value: 0.81748 and parameters: {'oob_score': False, 'n_estimators': 332, 'criterion': 'gini', 'max_features': 6, 'max_depth': 13}. Best is trial 90 with value: 0.81796.\u001b[0m\n",
            "\u001b[32m[I 2022-10-09 15:29:47,685]\u001b[0m Trial 102 finished with value: 0.81736 and parameters: {'oob_score': False, 'n_estimators': 320, 'criterion': 'gini', 'max_features': 8, 'max_depth': 13}. Best is trial 90 with value: 0.81796.\u001b[0m\n",
            "\u001b[32m[I 2022-10-09 15:31:42,217]\u001b[0m Trial 103 finished with value: 0.81736 and parameters: {'oob_score': False, 'n_estimators': 338, 'criterion': 'gini', 'max_features': 8, 'max_depth': 15}. Best is trial 90 with value: 0.81796.\u001b[0m\n",
            "\u001b[32m[I 2022-10-09 15:32:19,241]\u001b[0m Trial 105 finished with value: 0.81688 and parameters: {'oob_score': False, 'n_estimators': 346, 'criterion': 'gini', 'max_features': 1, 'max_depth': 15}. Best is trial 90 with value: 0.81796.\u001b[0m\n",
            "\u001b[32m[I 2022-10-09 15:34:11,856]\u001b[0m Trial 104 finished with value: 0.81748 and parameters: {'oob_score': False, 'n_estimators': 340, 'criterion': 'gini', 'max_features': 14, 'max_depth': 15}. Best is trial 90 with value: 0.81796.\u001b[0m\n",
            "\u001b[32m[I 2022-10-09 15:35:46,958]\u001b[0m Trial 107 finished with value: 0.81728 and parameters: {'oob_score': False, 'n_estimators': 308, 'criterion': 'gini', 'max_features': 6, 'max_depth': 12}. Best is trial 90 with value: 0.81796.\u001b[0m\n",
            "\u001b[32m[I 2022-10-09 15:36:32,686]\u001b[0m Trial 108 finished with value: 0.81736 and parameters: {'oob_score': False, 'n_estimators': 294, 'criterion': 'gini', 'max_features': 2, 'max_depth': 15}. Best is trial 90 with value: 0.81796.\u001b[0m\n",
            "\u001b[32m[I 2022-10-09 15:36:41,077]\u001b[0m Trial 106 finished with value: 0.8178 and parameters: {'oob_score': True, 'n_estimators': 310, 'criterion': 'entropy', 'max_features': 12, 'max_depth': 12}. Best is trial 90 with value: 0.81796.\u001b[0m\n",
            "\u001b[32m[I 2022-10-09 15:36:43,099]\u001b[0m Trial 109 finished with value: 0.77448 and parameters: {'oob_score': False, 'n_estimators': 324, 'criterion': 'gini', 'max_features': 4, 'max_depth': 1}. Best is trial 90 with value: 0.81796.\u001b[0m\n",
            "\u001b[32m[I 2022-10-09 15:41:05,796]\u001b[0m Trial 110 finished with value: 0.81756 and parameters: {'oob_score': True, 'n_estimators': 314, 'criterion': 'entropy', 'max_features': 12, 'max_depth': 12}. Best is trial 90 with value: 0.81796.\u001b[0m\n",
            "\u001b[32m[I 2022-10-09 15:41:41,980]\u001b[0m Trial 111 finished with value: 0.81736 and parameters: {'oob_score': True, 'n_estimators': 312, 'criterion': 'entropy', 'max_features': 12, 'max_depth': 14}. Best is trial 90 with value: 0.81796.\u001b[0m\n",
            "\u001b[32m[I 2022-10-09 15:42:48,405]\u001b[0m Trial 112 finished with value: 0.81756 and parameters: {'oob_score': True, 'n_estimators': 330, 'criterion': 'gini', 'max_features': 6, 'max_depth': 12}. Best is trial 90 with value: 0.81796.\u001b[0m\n",
            "\u001b[32m[I 2022-10-09 15:46:18,013]\u001b[0m Trial 113 finished with value: 0.81756 and parameters: {'oob_score': True, 'n_estimators': 330, 'criterion': 'entropy', 'max_features': 12, 'max_depth': 12}. Best is trial 90 with value: 0.81796.\u001b[0m\n",
            "\u001b[32m[I 2022-10-09 15:47:17,595]\u001b[0m Trial 114 finished with value: 0.81736 and parameters: {'oob_score': True, 'n_estimators': 346, 'criterion': 'entropy', 'max_features': 12, 'max_depth': 11}. Best is trial 90 with value: 0.81796.\u001b[0m\n",
            "\u001b[32m[I 2022-10-09 15:49:29,574]\u001b[0m Trial 116 finished with value: 0.81732 and parameters: {'oob_score': True, 'n_estimators': 334, 'criterion': 'entropy', 'max_features': 6, 'max_depth': 10}. Best is trial 90 with value: 0.81796.\u001b[0m\n",
            "\u001b[32m[I 2022-10-09 15:50:16,881]\u001b[0m Trial 115 finished with value: 0.8174 and parameters: {'oob_score': True, 'n_estimators': 338, 'criterion': 'entropy', 'max_features': 11, 'max_depth': 11}. Best is trial 90 with value: 0.81796.\u001b[0m\n",
            "\u001b[32m[I 2022-10-09 15:51:31,698]\u001b[0m Trial 118 finished with value: 0.81728 and parameters: {'oob_score': False, 'n_estimators': 350, 'criterion': 'gini', 'max_features': 3, 'max_depth': 15}. Best is trial 90 with value: 0.81796.\u001b[0m\n",
            "\u001b[32m[I 2022-10-09 15:52:39,963]\u001b[0m Trial 117 finished with value: 0.8178 and parameters: {'oob_score': False, 'n_estimators': 340, 'criterion': 'gini', 'max_features': 10, 'max_depth': 15}. Best is trial 90 with value: 0.81796.\u001b[0m\n",
            "\u001b[32m[I 2022-10-09 15:54:06,640]\u001b[0m Trial 119 finished with value: 0.81736 and parameters: {'oob_score': True, 'n_estimators': 298, 'criterion': 'entropy', 'max_features': 12, 'max_depth': 7}. Best is trial 90 with value: 0.81796.\u001b[0m\n",
            "\u001b[32m[I 2022-10-09 15:54:36,999]\u001b[0m Trial 120 finished with value: 0.81732 and parameters: {'oob_score': True, 'n_estimators': 238, 'criterion': 'entropy', 'max_features': 10, 'max_depth': 8}. Best is trial 90 with value: 0.81796.\u001b[0m\n",
            "\u001b[32m[I 2022-10-09 15:56:02,973]\u001b[0m Trial 121 finished with value: 0.8174 and parameters: {'oob_score': False, 'n_estimators': 342, 'criterion': 'gini', 'max_features': 10, 'max_depth': 8}. Best is trial 90 with value: 0.81796.\u001b[0m\n",
            "\u001b[32m[I 2022-10-09 15:58:47,540]\u001b[0m Trial 122 finished with value: 0.81768 and parameters: {'oob_score': False, 'n_estimators': 342, 'criterion': 'gini', 'max_features': 13, 'max_depth': 15}. Best is trial 90 with value: 0.81796.\u001b[0m\n",
            "\u001b[32m[I 2022-10-09 15:59:09,107]\u001b[0m Trial 123 finished with value: 0.81748 and parameters: {'oob_score': False, 'n_estimators': 324, 'criterion': 'gini', 'max_features': 10, 'max_depth': 15}. Best is trial 90 with value: 0.81796.\u001b[0m\n",
            "\u001b[32m[I 2022-10-09 15:59:30,768]\u001b[0m Trial 125 finished with value: 0.81696 and parameters: {'oob_score': False, 'n_estimators': 186, 'criterion': 'gini', 'max_features': 5, 'max_depth': 4}. Best is trial 90 with value: 0.81796.\u001b[0m\n",
            "\u001b[32m[I 2022-10-09 16:00:22,052]\u001b[0m Trial 126 finished with value: 0.817 and parameters: {'oob_score': False, 'n_estimators': 252, 'criterion': 'gini', 'max_features': 7, 'max_depth': 6}. Best is trial 90 with value: 0.81796.\u001b[0m\n",
            "\u001b[32m[I 2022-10-09 16:01:50,357]\u001b[0m Trial 124 finished with value: 0.817 and parameters: {'oob_score': False, 'n_estimators': 318, 'criterion': 'gini', 'max_features': 10, 'max_depth': 15}. Best is trial 90 with value: 0.81796.\u001b[0m\n",
            "\u001b[32m[I 2022-10-09 16:02:32,207]\u001b[0m Trial 127 finished with value: 0.81768 and parameters: {'oob_score': True, 'n_estimators': 336, 'criterion': 'gini', 'max_features': 6, 'max_depth': 15}. Best is trial 90 with value: 0.81796.\u001b[0m\n",
            "\u001b[32m[I 2022-10-09 16:03:53,579]\u001b[0m Trial 128 finished with value: 0.8178 and parameters: {'oob_score': False, 'n_estimators': 338, 'criterion': 'gini', 'max_features': 6, 'max_depth': 15}. Best is trial 90 with value: 0.81796.\u001b[0m\n",
            "\u001b[32m[I 2022-10-09 16:04:30,425]\u001b[0m Trial 130 finished with value: 0.81696 and parameters: {'oob_score': True, 'n_estimators': 308, 'criterion': 'gini', 'max_features': 6, 'max_depth': 3}. Best is trial 90 with value: 0.81796.\u001b[0m\n",
            "\u001b[32m[I 2022-10-09 16:04:35,805]\u001b[0m Trial 129 finished with value: 0.8176 and parameters: {'oob_score': False, 'n_estimators': 346, 'criterion': 'gini', 'max_features': 6, 'max_depth': 15}. Best is trial 90 with value: 0.81796.\u001b[0m\n",
            "\u001b[32m[I 2022-10-09 16:06:06,027]\u001b[0m Trial 131 finished with value: 0.81708 and parameters: {'oob_score': False, 'n_estimators': 124, 'criterion': 'gini', 'max_features': 12, 'max_depth': 18}. Best is trial 90 with value: 0.81796.\u001b[0m\n",
            "\u001b[32m[I 2022-10-09 16:06:37,191]\u001b[0m Trial 132 finished with value: 0.8174 and parameters: {'oob_score': False, 'n_estimators': 328, 'criterion': 'gini', 'max_features': 6, 'max_depth': 15}. Best is trial 90 with value: 0.81796.\u001b[0m\n",
            "\u001b[32m[I 2022-10-09 16:07:31,262]\u001b[0m Trial 134 finished with value: 0.81692 and parameters: {'oob_score': False, 'n_estimators': 350, 'criterion': 'gini', 'max_features': 6, 'max_depth': 5}. Best is trial 90 with value: 0.81796.\u001b[0m\n",
            "\u001b[32m[I 2022-10-09 16:08:39,556]\u001b[0m Trial 133 finished with value: 0.81764 and parameters: {'oob_score': False, 'n_estimators': 326, 'criterion': 'gini', 'max_features': 8, 'max_depth': 15}. Best is trial 90 with value: 0.81796.\u001b[0m\n",
            "\u001b[32m[I 2022-10-09 16:10:35,817]\u001b[0m Trial 135 finished with value: 0.81748 and parameters: {'oob_score': False, 'n_estimators': 340, 'criterion': 'gini', 'max_features': 9, 'max_depth': 16}. Best is trial 90 with value: 0.81796.\u001b[0m\n",
            "\u001b[32m[I 2022-10-09 16:11:46,130]\u001b[0m Trial 136 finished with value: 0.81744 and parameters: {'oob_score': False, 'n_estimators': 338, 'criterion': 'gini', 'max_features': 9, 'max_depth': 16}. Best is trial 90 with value: 0.81796.\u001b[0m\n",
            "\u001b[32m[I 2022-10-09 16:12:27,695]\u001b[0m Trial 137 finished with value: 0.81756 and parameters: {'oob_score': False, 'n_estimators': 334, 'criterion': 'gini', 'max_features': 6, 'max_depth': 13}. Best is trial 90 with value: 0.81796.\u001b[0m\n",
            "\u001b[32m[I 2022-10-09 16:13:59,614]\u001b[0m Trial 138 finished with value: 0.81764 and parameters: {'oob_score': True, 'n_estimators': 344, 'criterion': 'gini', 'max_features': 6, 'max_depth': 15}. Best is trial 90 with value: 0.81796.\u001b[0m\n",
            "\u001b[32m[I 2022-10-09 16:14:53,483]\u001b[0m Trial 140 finished with value: 0.81696 and parameters: {'oob_score': False, 'n_estimators': 350, 'criterion': 'gini', 'max_features': 15, 'max_depth': 2}. Best is trial 90 with value: 0.81796.\u001b[0m\n",
            "\u001b[32m[I 2022-10-09 16:14:55,590]\u001b[0m Trial 139 finished with value: 0.81736 and parameters: {'oob_score': False, 'n_estimators': 320, 'criterion': 'gini', 'max_features': 8, 'max_depth': 15}. Best is trial 90 with value: 0.81796.\u001b[0m\n",
            "\u001b[32m[I 2022-10-09 16:15:31,609]\u001b[0m Trial 142 finished with value: 0.81688 and parameters: {'oob_score': False, 'n_estimators': 332, 'criterion': 'gini', 'max_features': 1, 'max_depth': 15}. Best is trial 90 with value: 0.81796.\u001b[0m\n",
            "\u001b[32m[I 2022-10-09 16:17:51,115]\u001b[0m Trial 141 finished with value: 0.81724 and parameters: {'oob_score': False, 'n_estimators': 320, 'criterion': 'gini', 'max_features': 8, 'max_depth': 19}. Best is trial 90 with value: 0.81796.\u001b[0m\n",
            "\u001b[32m[I 2022-10-09 16:18:59,171]\u001b[0m Trial 143 finished with value: 0.81744 and parameters: {'oob_score': False, 'n_estimators': 304, 'criterion': 'gini', 'max_features': 12, 'max_depth': 15}. Best is trial 90 with value: 0.81796.\u001b[0m\n",
            "\u001b[32m[I 2022-10-09 16:22:16,429]\u001b[0m Trial 144 finished with value: 0.81736 and parameters: {'oob_score': False, 'n_estimators': 340, 'criterion': 'gini', 'max_features': 14, 'max_depth': 15}. Best is trial 90 with value: 0.81796.\u001b[0m\n",
            "\u001b[32m[I 2022-10-09 16:22:33,848]\u001b[0m Trial 145 finished with value: 0.81788 and parameters: {'oob_score': False, 'n_estimators': 340, 'criterion': 'gini', 'max_features': 11, 'max_depth': 15}. Best is trial 90 with value: 0.81796.\u001b[0m\n",
            "\u001b[32m[I 2022-10-09 16:27:39,106]\u001b[0m Trial 146 finished with value: 0.81776 and parameters: {'oob_score': False, 'n_estimators': 344, 'criterion': 'entropy', 'max_features': 11, 'max_depth': 15}. Best is trial 90 with value: 0.81796.\u001b[0m\n",
            "\u001b[32m[I 2022-10-09 16:27:58,442]\u001b[0m Trial 147 finished with value: 0.81712 and parameters: {'oob_score': True, 'n_estimators': 336, 'criterion': 'entropy', 'max_features': 11, 'max_depth': 15}. Best is trial 90 with value: 0.81796.\u001b[0m\n",
            "\u001b[32m[I 2022-10-09 16:28:27,986]\u001b[0m Trial 148 finished with value: 0.81728 and parameters: {'oob_score': False, 'n_estimators': 326, 'criterion': 'gini', 'max_features': 2, 'max_depth': 15}. Best is trial 90 with value: 0.81796.\u001b[0m\n",
            "\u001b[32m[I 2022-10-09 16:31:34,614]\u001b[0m Trial 149 finished with value: 0.8172 and parameters: {'oob_score': False, 'n_estimators': 344, 'criterion': 'gini', 'max_features': 11, 'max_depth': 15}. Best is trial 90 with value: 0.81796.\u001b[0m\n",
            "\u001b[32m[I 2022-10-09 16:31:52,565]\u001b[0m Trial 151 finished with value: 0.81696 and parameters: {'oob_score': True, 'n_estimators': 174, 'criterion': 'entropy', 'max_features': 11, 'max_depth': 1}. Best is trial 90 with value: 0.81796.\u001b[0m\n",
            "\u001b[32m[I 2022-10-09 16:32:32,166]\u001b[0m Trial 150 finished with value: 0.8174 and parameters: {'oob_score': False, 'n_estimators': 344, 'criterion': 'entropy', 'max_features': 11, 'max_depth': 11}. Best is trial 90 with value: 0.81796.\u001b[0m\n",
            "\u001b[32m[I 2022-10-09 16:37:37,863]\u001b[0m Trial 152 finished with value: 0.8168 and parameters: {'oob_score': False, 'n_estimators': 334, 'criterion': 'entropy', 'max_features': 11, 'max_depth': 17}. Best is trial 90 with value: 0.81796.\u001b[0m\n",
            "\u001b[32m[I 2022-10-09 16:38:32,677]\u001b[0m Trial 153 finished with value: 0.8174 and parameters: {'oob_score': False, 'n_estimators': 350, 'criterion': 'entropy', 'max_features': 11, 'max_depth': 17}. Best is trial 90 with value: 0.81796.\u001b[0m\n",
            "\u001b[32m[I 2022-10-09 16:38:57,870]\u001b[0m Trial 154 finished with value: 0.81712 and parameters: {'oob_score': False, 'n_estimators': 330, 'criterion': 'entropy', 'max_features': 4, 'max_depth': 9}. Best is trial 90 with value: 0.81796.\u001b[0m\n",
            "\u001b[32m[I 2022-10-09 16:40:31,525]\u001b[0m Trial 155 finished with value: 0.81716 and parameters: {'oob_score': False, 'n_estimators': 346, 'criterion': 'entropy', 'max_features': 6, 'max_depth': 9}. Best is trial 90 with value: 0.81796.\u001b[0m\n",
            "\u001b[32m[I 2022-10-09 16:41:15,421]\u001b[0m Trial 157 finished with value: 0.81764 and parameters: {'oob_score': False, 'n_estimators': 202, 'criterion': 'gini', 'max_features': 3, 'max_depth': 15}. Best is trial 90 with value: 0.81796.\u001b[0m\n",
            "\u001b[32m[I 2022-10-09 16:42:19,421]\u001b[0m Trial 156 finished with value: 0.81748 and parameters: {'oob_score': False, 'n_estimators': 312, 'criterion': 'gini', 'max_features': 12, 'max_depth': 14}. Best is trial 90 with value: 0.81796.\u001b[0m\n",
            "\u001b[32m[I 2022-10-09 16:44:47,034]\u001b[0m Trial 158 finished with value: 0.81712 and parameters: {'oob_score': False, 'n_estimators': 310, 'criterion': 'gini', 'max_features': 12, 'max_depth': 15}. Best is trial 90 with value: 0.81796.\u001b[0m\n",
            "\u001b[32m[I 2022-10-09 16:44:57,065]\u001b[0m Trial 159 finished with value: 0.81736 and parameters: {'oob_score': True, 'n_estimators': 316, 'criterion': 'gini', 'max_features': 8, 'max_depth': 15}. Best is trial 90 with value: 0.81796.\u001b[0m\n",
            "\u001b[32m[I 2022-10-09 16:46:49,327]\u001b[0m Trial 160 finished with value: 0.81768 and parameters: {'oob_score': False, 'n_estimators': 340, 'criterion': 'gini', 'max_features': 6, 'max_depth': 15}. Best is trial 90 with value: 0.81796.\u001b[0m\n",
            "\u001b[32m[I 2022-10-09 16:47:03,012]\u001b[0m Trial 161 finished with value: 0.81736 and parameters: {'oob_score': False, 'n_estimators': 338, 'criterion': 'gini', 'max_features': 6, 'max_depth': 15}. Best is trial 90 with value: 0.81796.\u001b[0m\n",
            "\u001b[32m[I 2022-10-09 16:48:30,766]\u001b[0m Trial 163 finished with value: 0.81732 and parameters: {'oob_score': False, 'n_estimators': 324, 'criterion': 'gini', 'max_features': 5, 'max_depth': 12}. Best is trial 90 with value: 0.81796.\u001b[0m\n",
            "\u001b[32m[I 2022-10-09 16:48:53,885]\u001b[0m Trial 162 finished with value: 0.81756 and parameters: {'oob_score': False, 'n_estimators': 338, 'criterion': 'gini', 'max_features': 6, 'max_depth': 15}. Best is trial 90 with value: 0.81796.\u001b[0m\n",
            "\u001b[32m[I 2022-10-09 16:51:34,419]\u001b[0m Trial 164 finished with value: 0.81756 and parameters: {'oob_score': False, 'n_estimators': 346, 'criterion': 'gini', 'max_features': 13, 'max_depth': 10}. Best is trial 90 with value: 0.81796.\u001b[0m\n",
            "\u001b[32m[I 2022-10-09 16:52:44,399]\u001b[0m Trial 165 finished with value: 0.81756 and parameters: {'oob_score': False, 'n_estimators': 350, 'criterion': 'gini', 'max_features': 13, 'max_depth': 13}. Best is trial 90 with value: 0.81796.\u001b[0m\n",
            "\u001b[32m[I 2022-10-09 16:53:34,669]\u001b[0m Trial 167 finished with value: 0.81728 and parameters: {'oob_score': True, 'n_estimators': 152, 'criterion': 'gini', 'max_features': 10, 'max_depth': 7}. Best is trial 90 with value: 0.81796.\u001b[0m\n",
            "\u001b[32m[I 2022-10-09 16:54:25,031]\u001b[0m Trial 166 finished with value: 0.81756 and parameters: {'oob_score': False, 'n_estimators': 332, 'criterion': 'gini', 'max_features': 10, 'max_depth': 13}. Best is trial 90 with value: 0.81796.\u001b[0m\n",
            "\u001b[32m[I 2022-10-09 16:57:00,623]\u001b[0m Trial 168 finished with value: 0.81748 and parameters: {'oob_score': False, 'n_estimators': 332, 'criterion': 'entropy', 'max_features': 7, 'max_depth': 15}. Best is trial 90 with value: 0.81796.\u001b[0m\n",
            "\u001b[32m[I 2022-10-09 16:59:48,680]\u001b[0m Trial 169 finished with value: 0.8176 and parameters: {'oob_score': False, 'n_estimators': 342, 'criterion': 'entropy', 'max_features': 11, 'max_depth': 15}. Best is trial 90 with value: 0.81796.\u001b[0m\n",
            "\u001b[32m[I 2022-10-09 17:00:12,767]\u001b[0m Trial 170 finished with value: 0.81736 and parameters: {'oob_score': True, 'n_estimators': 298, 'criterion': 'gini', 'max_features': 11, 'max_depth': 15}. Best is trial 90 with value: 0.81796.\u001b[0m\n",
            "\u001b[32m[I 2022-10-09 17:01:04,818]\u001b[0m Trial 171 finished with value: 0.817 and parameters: {'oob_score': True, 'n_estimators': 326, 'criterion': 'gini', 'max_features': 8, 'max_depth': 6}. Best is trial 90 with value: 0.81796.\u001b[0m\n",
            "\u001b[32m[I 2022-10-09 17:02:18,042]\u001b[0m Trial 172 finished with value: 0.8176 and parameters: {'oob_score': False, 'n_estimators': 346, 'criterion': 'gini', 'max_features': 6, 'max_depth': 15}. Best is trial 90 with value: 0.81796.\u001b[0m\n",
            "\u001b[32m[I 2022-10-09 17:03:11,849]\u001b[0m Trial 173 finished with value: 0.81756 and parameters: {'oob_score': False, 'n_estimators': 344, 'criterion': 'gini', 'max_features': 6, 'max_depth': 15}. Best is trial 90 with value: 0.81796.\u001b[0m\n",
            "\u001b[32m[I 2022-10-09 17:04:31,384]\u001b[0m Trial 174 finished with value: 0.81736 and parameters: {'oob_score': True, 'n_estimators': 340, 'criterion': 'gini', 'max_features': 6, 'max_depth': 15}. Best is trial 90 with value: 0.81796.\u001b[0m\n",
            "\u001b[32m[I 2022-10-09 17:05:32,671]\u001b[0m Trial 175 finished with value: 0.81748 and parameters: {'oob_score': True, 'n_estimators': 228, 'criterion': 'gini', 'max_features': 12, 'max_depth': 13}. Best is trial 90 with value: 0.81796.\u001b[0m\n",
            "\u001b[32m[I 2022-10-09 17:06:59,343]\u001b[0m Trial 177 finished with value: 0.81756 and parameters: {'oob_score': True, 'n_estimators': 136, 'criterion': 'gini', 'max_features': 12, 'max_depth': 13}. Best is trial 90 with value: 0.81796.\u001b[0m\n",
            "\u001b[32m[I 2022-10-09 17:08:25,069]\u001b[0m Trial 178 finished with value: 0.81696 and parameters: {'oob_score': False, 'n_estimators': 350, 'criterion': 'gini', 'max_features': 13, 'max_depth': 4}. Best is trial 90 with value: 0.81796.\u001b[0m\n",
            "\u001b[32m[I 2022-10-09 17:08:33,992]\u001b[0m Trial 176 finished with value: 0.81724 and parameters: {'oob_score': False, 'n_estimators': 336, 'criterion': 'gini', 'max_features': 13, 'max_depth': 15}. Best is trial 90 with value: 0.81796.\u001b[0m\n",
            "\u001b[32m[I 2022-10-09 17:10:45,179]\u001b[0m Trial 179 finished with value: 0.8172 and parameters: {'oob_score': False, 'n_estimators': 336, 'criterion': 'gini', 'max_features': 6, 'max_depth': 18}. Best is trial 90 with value: 0.81796.\u001b[0m\n",
            "\u001b[32m[I 2022-10-09 17:11:03,035]\u001b[0m Trial 180 finished with value: 0.81796 and parameters: {'oob_score': True, 'n_estimators': 336, 'criterion': 'gini', 'max_features': 6, 'max_depth': 18}. Best is trial 90 with value: 0.81796.\u001b[0m\n",
            "\u001b[32m[I 2022-10-09 17:13:01,950]\u001b[0m Trial 181 finished with value: 0.81748 and parameters: {'oob_score': False, 'n_estimators': 342, 'criterion': 'gini', 'max_features': 9, 'max_depth': 11}. Best is trial 90 with value: 0.81796.\u001b[0m\n",
            "\u001b[32m[I 2022-10-09 17:13:42,427]\u001b[0m Trial 183 finished with value: 0.81696 and parameters: {'oob_score': True, 'n_estimators': 332, 'criterion': 'gini', 'max_features': 6, 'max_depth': 3}. Best is trial 90 with value: 0.81796.\u001b[0m\n",
            "\u001b[32m[I 2022-10-09 17:14:31,129]\u001b[0m Trial 182 finished with value: 0.81736 and parameters: {'oob_score': True, 'n_estimators': 342, 'criterion': 'gini', 'max_features': 9, 'max_depth': 18}. Best is trial 90 with value: 0.81796.\u001b[0m\n",
            "\u001b[32m[I 2022-10-09 17:15:19,403]\u001b[0m Trial 185 finished with value: 0.817 and parameters: {'oob_score': True, 'n_estimators': 168, 'criterion': 'gini', 'max_features': 12, 'max_depth': 5}. Best is trial 90 with value: 0.81796.\u001b[0m\n",
            "\u001b[32m[I 2022-10-09 17:16:54,449]\u001b[0m Trial 186 finished with value: 0.81672 and parameters: {'oob_score': True, 'n_estimators': 120, 'criterion': 'gini', 'max_features': 12, 'max_depth': 18}. Best is trial 90 with value: 0.81796.\u001b[0m\n",
            "\u001b[32m[I 2022-10-09 17:17:58,120]\u001b[0m Trial 184 finished with value: 0.81692 and parameters: {'oob_score': True, 'n_estimators': 328, 'criterion': 'gini', 'max_features': 12, 'max_depth': 18}. Best is trial 90 with value: 0.81796.\u001b[0m\n",
            "\u001b[32m[I 2022-10-09 17:18:32,717]\u001b[0m Trial 187 finished with value: 0.81736 and parameters: {'oob_score': True, 'n_estimators': 206, 'criterion': 'gini', 'max_features': 8, 'max_depth': 15}. Best is trial 90 with value: 0.81796.\u001b[0m\n",
            "\u001b[32m[I 2022-10-09 17:20:00,554]\u001b[0m Trial 188 finished with value: 0.81744 and parameters: {'oob_score': True, 'n_estimators': 320, 'criterion': 'gini', 'max_features': 6, 'max_depth': 15}. Best is trial 90 with value: 0.81796.\u001b[0m\n",
            "\u001b[32m[I 2022-10-09 17:20:59,086]\u001b[0m Trial 189 finished with value: 0.81744 and parameters: {'oob_score': True, 'n_estimators': 320, 'criterion': 'entropy', 'max_features': 6, 'max_depth': 12}. Best is trial 90 with value: 0.81796.\u001b[0m\n",
            "\u001b[32m[I 2022-10-09 17:22:51,246]\u001b[0m Trial 191 finished with value: 0.81768 and parameters: {'oob_score': False, 'n_estimators': 304, 'criterion': 'gini', 'max_features': 6, 'max_depth': 15}. Best is trial 90 with value: 0.81796.\u001b[0m\n",
            "\u001b[32m[I 2022-10-09 17:24:55,689]\u001b[0m Trial 190 finished with value: 0.8172 and parameters: {'oob_score': True, 'n_estimators': 302, 'criterion': 'entropy', 'max_features': 14, 'max_depth': 12}. Best is trial 90 with value: 0.81796.\u001b[0m\n",
            "\u001b[32m[I 2022-10-09 17:24:55,727]\u001b[0m Trial 192 finished with value: 0.8176 and parameters: {'oob_score': False, 'n_estimators': 346, 'criterion': 'gini', 'max_features': 6, 'max_depth': 15}. Best is trial 90 with value: 0.81796.\u001b[0m\n",
            "\u001b[32m[I 2022-10-09 17:29:01,179]\u001b[0m Trial 193 finished with value: 0.8174 and parameters: {'oob_score': False, 'n_estimators': 290, 'criterion': 'gini', 'max_features': 15, 'max_depth': 15}. Best is trial 90 with value: 0.81796.\u001b[0m\n",
            "\u001b[32m[I 2022-10-09 17:29:16,486]\u001b[0m Trial 194 finished with value: 0.8174 and parameters: {'oob_score': False, 'n_estimators': 310, 'criterion': 'gini', 'max_features': 15, 'max_depth': 15}. Best is trial 90 with value: 0.81796.\u001b[0m\n",
            "\u001b[32m[I 2022-10-09 17:33:10,331]\u001b[0m Trial 195 finished with value: 0.81724 and parameters: {'oob_score': False, 'n_estimators': 336, 'criterion': 'gini', 'max_features': 13, 'max_depth': 15}. Best is trial 90 with value: 0.81796.\u001b[0m\n",
            "\u001b[32m[I 2022-10-09 17:33:26,928]\u001b[0m Trial 196 finished with value: 0.8174 and parameters: {'oob_score': False, 'n_estimators': 338, 'criterion': 'gini', 'max_features': 13, 'max_depth': 15}. Best is trial 90 with value: 0.81796.\u001b[0m\n",
            "\u001b[32m[I 2022-10-09 17:35:38,004]\u001b[0m Trial 197 finished with value: 0.8178 and parameters: {'oob_score': False, 'n_estimators': 340, 'criterion': 'gini', 'max_features': 6, 'max_depth': 19}. Best is trial 90 with value: 0.81796.\u001b[0m\n",
            "\u001b[32m[I 2022-10-09 17:36:42,875]\u001b[0m Trial 198 finished with value: 0.81728 and parameters: {'oob_score': False, 'n_estimators': 350, 'criterion': 'gini', 'max_features': 8, 'max_depth': 19}. Best is trial 90 with value: 0.81796.\u001b[0m\n",
            "\u001b[32m[I 2022-10-09 17:37:28,219]\u001b[0m Trial 200 finished with value: 0.817 and parameters: {'oob_score': False, 'n_estimators': 346, 'criterion': 'gini', 'max_features': 1, 'max_depth': 19}. Best is trial 90 with value: 0.81796.\u001b[0m\n",
            "\u001b[32m[I 2022-10-09 17:37:51,870]\u001b[0m Trial 199 finished with value: 0.81716 and parameters: {'oob_score': False, 'n_estimators': 306, 'criterion': 'gini', 'max_features': 6, 'max_depth': 19}. Best is trial 90 with value: 0.81796.\u001b[0m\n",
            "\u001b[32m[I 2022-10-09 17:37:57,253]\u001b[0m Trial 202 finished with value: 0.77484 and parameters: {'oob_score': False, 'n_estimators': 110, 'criterion': 'gini', 'max_features': 2, 'max_depth': 2}. Best is trial 90 with value: 0.81796.\u001b[0m\n",
            "\u001b[32m[I 2022-10-09 17:39:51,028]\u001b[0m Trial 201 finished with value: 0.81748 and parameters: {'oob_score': False, 'n_estimators': 328, 'criterion': 'gini', 'max_features': 6, 'max_depth': 19}. Best is trial 90 with value: 0.81796.\u001b[0m\n",
            "\u001b[32m[I 2022-10-09 17:39:54,199]\u001b[0m Trial 203 finished with value: 0.81764 and parameters: {'oob_score': False, 'n_estimators': 314, 'criterion': 'gini', 'max_features': 6, 'max_depth': 15}. Best is trial 90 with value: 0.81796.\u001b[0m\n",
            "\u001b[32m[I 2022-10-09 17:40:11,841]\u001b[0m Trial 205 finished with value: 0.77448 and parameters: {'oob_score': False, 'n_estimators': 340, 'criterion': 'gini', 'max_features': 6, 'max_depth': 1}. Best is trial 90 with value: 0.81796.\u001b[0m\n",
            "\u001b[32m[I 2022-10-09 17:41:38,947]\u001b[0m Trial 206 finished with value: 0.81724 and parameters: {'oob_score': True, 'n_estimators': 334, 'criterion': 'gini', 'max_features': 4, 'max_depth': 13}. Best is trial 90 with value: 0.81796.\u001b[0m\n",
            "\u001b[32m[I 2022-10-09 17:41:53,049]\u001b[0m Trial 204 finished with value: 0.81776 and parameters: {'oob_score': False, 'n_estimators': 340, 'criterion': 'gini', 'max_features': 6, 'max_depth': 15}. Best is trial 90 with value: 0.81796.\u001b[0m\n",
            "\u001b[32m[I 2022-10-09 17:42:52,905]\u001b[0m Trial 207 finished with value: 0.81736 and parameters: {'oob_score': False, 'n_estimators': 258, 'criterion': 'gini', 'max_features': 6, 'max_depth': 11}. Best is trial 90 with value: 0.81796.\u001b[0m\n",
            "\u001b[32m[I 2022-10-09 17:43:39,210]\u001b[0m Trial 208 finished with value: 0.817 and parameters: {'oob_score': False, 'n_estimators': 342, 'criterion': 'entropy', 'max_features': 6, 'max_depth': 8}. Best is trial 90 with value: 0.81796.\u001b[0m\n",
            "\u001b[32m[I 2022-10-09 17:45:10,443]\u001b[0m Trial 210 finished with value: 0.8172 and parameters: {'oob_score': False, 'n_estimators': 142, 'criterion': 'gini', 'max_features': 12, 'max_depth': 14}. Best is trial 90 with value: 0.81796.\u001b[0m\n",
            "\u001b[32m[I 2022-10-09 17:45:53,914]\u001b[0m Trial 209 finished with value: 0.8174 and parameters: {'oob_score': False, 'n_estimators': 342, 'criterion': 'entropy', 'max_features': 11, 'max_depth': 8}. Best is trial 90 with value: 0.81796.\u001b[0m\n",
            "\u001b[32m[I 2022-10-09 17:46:24,202]\u001b[0m Trial 211 finished with value: 0.81728 and parameters: {'oob_score': False, 'n_estimators': 344, 'criterion': 'gini', 'max_features': 3, 'max_depth': 15}. Best is trial 90 with value: 0.81796.\u001b[0m\n",
            "\u001b[32m[I 2022-10-09 17:48:02,885]\u001b[0m Trial 212 finished with value: 0.81772 and parameters: {'oob_score': False, 'n_estimators': 346, 'criterion': 'gini', 'max_features': 6, 'max_depth': 15}. Best is trial 90 with value: 0.81796.\u001b[0m\n",
            "\u001b[32m[I 2022-10-09 17:48:30,289]\u001b[0m Trial 213 finished with value: 0.81772 and parameters: {'oob_score': False, 'n_estimators': 338, 'criterion': 'gini', 'max_features': 6, 'max_depth': 15}. Best is trial 90 with value: 0.81796.\u001b[0m\n",
            "\u001b[32m[I 2022-10-09 17:50:12,732]\u001b[0m Trial 214 finished with value: 0.81752 and parameters: {'oob_score': False, 'n_estimators': 350, 'criterion': 'gini', 'max_features': 6, 'max_depth': 15}. Best is trial 90 with value: 0.81796.\u001b[0m\n",
            "\u001b[32m[I 2022-10-09 17:50:39,655]\u001b[0m Trial 215 finished with value: 0.81764 and parameters: {'oob_score': False, 'n_estimators': 350, 'criterion': 'gini', 'max_features': 6, 'max_depth': 15}. Best is trial 90 with value: 0.81796.\u001b[0m\n",
            "\u001b[32m[I 2022-10-09 17:52:16,151]\u001b[0m Trial 216 finished with value: 0.8178 and parameters: {'oob_score': False, 'n_estimators': 334, 'criterion': 'gini', 'max_features': 6, 'max_depth': 15}. Best is trial 90 with value: 0.81796.\u001b[0m\n",
            "\u001b[32m[I 2022-10-09 17:52:41,653]\u001b[0m Trial 217 finished with value: 0.81768 and parameters: {'oob_score': False, 'n_estimators': 332, 'criterion': 'gini', 'max_features': 6, 'max_depth': 15}. Best is trial 90 with value: 0.81796.\u001b[0m\n",
            "\u001b[32m[I 2022-10-09 17:54:17,749]\u001b[0m Trial 218 finished with value: 0.81772 and parameters: {'oob_score': False, 'n_estimators': 332, 'criterion': 'gini', 'max_features': 6, 'max_depth': 15}. Best is trial 90 with value: 0.81796.\u001b[0m\n",
            "\u001b[32m[I 2022-10-09 17:54:46,041]\u001b[0m Trial 219 finished with value: 0.81776 and parameters: {'oob_score': False, 'n_estimators': 336, 'criterion': 'gini', 'max_features': 6, 'max_depth': 15}. Best is trial 90 with value: 0.81796.\u001b[0m\n",
            "\u001b[32m[I 2022-10-09 17:55:45,856]\u001b[0m Trial 220 finished with value: 0.81732 and parameters: {'oob_score': False, 'n_estimators': 326, 'criterion': 'gini', 'max_features': 6, 'max_depth': 10}. Best is trial 90 with value: 0.81796.\u001b[0m\n",
            "\u001b[32m[I 2022-10-09 17:56:38,607]\u001b[0m Trial 221 finished with value: 0.81728 and parameters: {'oob_score': False, 'n_estimators': 326, 'criterion': 'gini', 'max_features': 8, 'max_depth': 10}. Best is trial 90 with value: 0.81796.\u001b[0m\n",
            "\u001b[32m[I 2022-10-09 17:57:49,921]\u001b[0m Trial 222 finished with value: 0.81744 and parameters: {'oob_score': False, 'n_estimators': 336, 'criterion': 'gini', 'max_features': 6, 'max_depth': 15}. Best is trial 90 with value: 0.81796.\u001b[0m\n",
            "\u001b[32m[I 2022-10-09 17:58:42,777]\u001b[0m Trial 223 finished with value: 0.8174 and parameters: {'oob_score': False, 'n_estimators': 334, 'criterion': 'gini', 'max_features': 6, 'max_depth': 15}. Best is trial 90 with value: 0.81796.\u001b[0m\n",
            "\u001b[32m[I 2022-10-09 17:59:55,051]\u001b[0m Trial 224 finished with value: 0.8176 and parameters: {'oob_score': False, 'n_estimators': 340, 'criterion': 'gini', 'max_features': 6, 'max_depth': 15}. Best is trial 90 with value: 0.81796.\u001b[0m\n",
            "\u001b[32m[I 2022-10-09 18:00:43,964]\u001b[0m Trial 225 finished with value: 0.81784 and parameters: {'oob_score': False, 'n_estimators': 330, 'criterion': 'gini', 'max_features': 6, 'max_depth': 15}. Best is trial 90 with value: 0.81796.\u001b[0m\n",
            "\u001b[32m[I 2022-10-09 18:02:02,786]\u001b[0m Trial 226 finished with value: 0.81756 and parameters: {'oob_score': False, 'n_estimators': 346, 'criterion': 'gini', 'max_features': 6, 'max_depth': 15}. Best is trial 90 with value: 0.81796.\u001b[0m\n",
            "\u001b[32m[I 2022-10-09 18:03:52,452]\u001b[0m Trial 227 finished with value: 0.81752 and parameters: {'oob_score': False, 'n_estimators': 322, 'criterion': 'gini', 'max_features': 10, 'max_depth': 15}. Best is trial 90 with value: 0.81796.\u001b[0m\n",
            "\u001b[32m[I 2022-10-09 18:05:19,167]\u001b[0m Trial 228 finished with value: 0.8168 and parameters: {'oob_score': False, 'n_estimators': 322, 'criterion': 'gini', 'max_features': 10, 'max_depth': 16}. Best is trial 90 with value: 0.81796.\u001b[0m\n",
            "\u001b[32m[I 2022-10-09 18:05:53,885]\u001b[0m Trial 229 finished with value: 0.81728 and parameters: {'oob_score': False, 'n_estimators': 330, 'criterion': 'gini', 'max_features': 6, 'max_depth': 15}. Best is trial 90 with value: 0.81796.\u001b[0m\n",
            "\u001b[32m[I 2022-10-09 18:07:24,084]\u001b[0m Trial 230 finished with value: 0.81728 and parameters: {'oob_score': False, 'n_estimators': 338, 'criterion': 'gini', 'max_features': 6, 'max_depth': 15}. Best is trial 90 with value: 0.81796.\u001b[0m\n",
            "\u001b[32m[I 2022-10-09 18:07:58,214]\u001b[0m Trial 231 finished with value: 0.8178 and parameters: {'oob_score': False, 'n_estimators': 338, 'criterion': 'gini', 'max_features': 6, 'max_depth': 15}. Best is trial 90 with value: 0.81796.\u001b[0m\n",
            "\u001b[32m[I 2022-10-09 18:09:06,023]\u001b[0m Trial 233 finished with value: 0.817 and parameters: {'oob_score': False, 'n_estimators': 332, 'criterion': 'gini', 'max_features': 6, 'max_depth': 7}. Best is trial 90 with value: 0.81796.\u001b[0m\n",
            "\u001b[32m[I 2022-10-09 18:09:25,028]\u001b[0m Trial 232 finished with value: 0.81764 and parameters: {'oob_score': False, 'n_estimators': 330, 'criterion': 'gini', 'max_features': 6, 'max_depth': 15}. Best is trial 90 with value: 0.81796.\u001b[0m\n",
            "\u001b[32m[I 2022-10-09 18:11:07,866]\u001b[0m Trial 234 finished with value: 0.81732 and parameters: {'oob_score': False, 'n_estimators': 330, 'criterion': 'gini', 'max_features': 6, 'max_depth': 15}. Best is trial 90 with value: 0.81796.\u001b[0m\n",
            "\u001b[32m[I 2022-10-09 18:11:10,802]\u001b[0m Trial 235 finished with value: 0.81744 and parameters: {'oob_score': False, 'n_estimators': 334, 'criterion': 'gini', 'max_features': 5, 'max_depth': 15}. Best is trial 90 with value: 0.81796.\u001b[0m\n",
            "\u001b[32m[I 2022-10-09 18:12:54,283]\u001b[0m Trial 236 finished with value: 0.81736 and parameters: {'oob_score': False, 'n_estimators': 338, 'criterion': 'gini', 'max_features': 5, 'max_depth': 15}. Best is trial 90 with value: 0.81796.\u001b[0m\n",
            "\u001b[32m[I 2022-10-09 18:13:16,902]\u001b[0m Trial 237 finished with value: 0.818 and parameters: {'oob_score': False, 'n_estimators': 344, 'criterion': 'gini', 'max_features': 6, 'max_depth': 15}. Best is trial 237 with value: 0.818.\u001b[0m\n",
            "\u001b[32m[I 2022-10-09 18:14:58,839]\u001b[0m Trial 238 finished with value: 0.81744 and parameters: {'oob_score': False, 'n_estimators': 340, 'criterion': 'gini', 'max_features': 6, 'max_depth': 15}. Best is trial 237 with value: 0.818.\u001b[0m\n",
            "\u001b[32m[I 2022-10-09 18:15:22,961]\u001b[0m Trial 239 finished with value: 0.81768 and parameters: {'oob_score': False, 'n_estimators': 346, 'criterion': 'gini', 'max_features': 6, 'max_depth': 15}. Best is trial 237 with value: 0.818.\u001b[0m\n",
            "\u001b[32m[I 2022-10-09 18:19:01,743]\u001b[0m Trial 240 finished with value: 0.81736 and parameters: {'oob_score': False, 'n_estimators': 344, 'criterion': 'entropy', 'max_features': 7, 'max_depth': 18}. Best is trial 237 with value: 0.818.\u001b[0m\n",
            "\u001b[32m[I 2022-10-09 18:19:27,052]\u001b[0m Trial 241 finished with value: 0.81736 and parameters: {'oob_score': False, 'n_estimators': 342, 'criterion': 'entropy', 'max_features': 7, 'max_depth': 18}. Best is trial 237 with value: 0.818.\u001b[0m\n",
            "\u001b[32m[I 2022-10-09 18:21:08,263]\u001b[0m Trial 242 finished with value: 0.8178 and parameters: {'oob_score': False, 'n_estimators': 342, 'criterion': 'gini', 'max_features': 6, 'max_depth': 15}. Best is trial 237 with value: 0.818.\u001b[0m\n",
            "\u001b[32m[I 2022-10-09 18:21:30,778]\u001b[0m Trial 243 finished with value: 0.81772 and parameters: {'oob_score': False, 'n_estimators': 338, 'criterion': 'gini', 'max_features': 6, 'max_depth': 15}. Best is trial 237 with value: 0.818.\u001b[0m\n",
            "\u001b[32m[I 2022-10-09 18:22:43,216]\u001b[0m Trial 245 finished with value: 0.81696 and parameters: {'oob_score': False, 'n_estimators': 346, 'criterion': 'gini', 'max_features': 11, 'max_depth': 4}. Best is trial 237 with value: 0.818.\u001b[0m\n",
            "\u001b[32m[I 2022-10-09 18:23:12,378]\u001b[0m Trial 244 finished with value: 0.81764 and parameters: {'oob_score': False, 'n_estimators': 338, 'criterion': 'gini', 'max_features': 6, 'max_depth': 15}. Best is trial 237 with value: 0.818.\u001b[0m\n",
            "\u001b[32m[I 2022-10-09 18:23:43,156]\u001b[0m Trial 246 finished with value: 0.817 and parameters: {'oob_score': False, 'n_estimators': 338, 'criterion': 'gini', 'max_features': 6, 'max_depth': 6}. Best is trial 237 with value: 0.818.\u001b[0m\n",
            "\u001b[32m[I 2022-10-09 18:25:19,296]\u001b[0m Trial 247 finished with value: 0.81752 and parameters: {'oob_score': False, 'n_estimators': 344, 'criterion': 'gini', 'max_features': 6, 'max_depth': 15}. Best is trial 237 with value: 0.818.\u001b[0m\n",
            "\u001b[32m[I 2022-10-09 18:25:50,849]\u001b[0m Trial 248 finished with value: 0.81756 and parameters: {'oob_score': False, 'n_estimators': 344, 'criterion': 'gini', 'max_features': 6, 'max_depth': 15}. Best is trial 237 with value: 0.818.\u001b[0m\n",
            "\u001b[32m[I 2022-10-09 18:27:24,337]\u001b[0m Trial 249 finished with value: 0.8176 and parameters: {'oob_score': False, 'n_estimators': 334, 'criterion': 'gini', 'max_features': 6, 'max_depth': 15}. Best is trial 237 with value: 0.818.\u001b[0m\n",
            "\u001b[32m[I 2022-10-09 18:28:01,593]\u001b[0m Trial 250 finished with value: 0.81784 and parameters: {'oob_score': True, 'n_estimators': 314, 'criterion': 'gini', 'max_features': 8, 'max_depth': 12}. Best is trial 237 with value: 0.818.\u001b[0m\n",
            "\u001b[32m[I 2022-10-09 18:28:06,212]\u001b[0m Trial 251 finished with value: 0.81696 and parameters: {'oob_score': False, 'n_estimators': 350, 'criterion': 'gini', 'max_features': 8, 'max_depth': 3}. Best is trial 237 with value: 0.818.\u001b[0m\n",
            "\u001b[32m[I 2022-10-09 18:30:17,129]\u001b[0m Trial 253 finished with value: 0.81748 and parameters: {'oob_score': True, 'n_estimators': 314, 'criterion': 'gini', 'max_features': 8, 'max_depth': 12}. Best is trial 237 with value: 0.818.\u001b[0m\n",
            "\u001b[32m[I 2022-10-09 18:30:25,266]\u001b[0m Trial 252 finished with value: 0.81736 and parameters: {'oob_score': True, 'n_estimators': 316, 'criterion': 'gini', 'max_features': 9, 'max_depth': 12}. Best is trial 237 with value: 0.818.\u001b[0m\n",
            "\u001b[32m[I 2022-10-09 18:31:16,746]\u001b[0m Trial 255 finished with value: 0.81692 and parameters: {'oob_score': False, 'n_estimators': 334, 'criterion': 'gini', 'max_features': 6, 'max_depth': 5}. Best is trial 237 with value: 0.818.\u001b[0m\n",
            "\u001b[32m[I 2022-10-09 18:31:47,891]\u001b[0m Trial 256 finished with value: 0.8166 and parameters: {'oob_score': False, 'n_estimators': 340, 'criterion': 'gini', 'max_features': 1, 'max_depth': 12}. Best is trial 237 with value: 0.818.\u001b[0m\n",
            "\u001b[32m[I 2022-10-09 18:32:40,873]\u001b[0m Trial 254 finished with value: 0.81724 and parameters: {'oob_score': False, 'n_estimators': 332, 'criterion': 'gini', 'max_features': 9, 'max_depth': 12}. Best is trial 237 with value: 0.818.\u001b[0m\n",
            "\u001b[32m[I 2022-10-09 18:35:49,677]\u001b[0m Trial 257 finished with value: 0.81668 and parameters: {'oob_score': False, 'n_estimators': 328, 'criterion': 'gini', 'max_features': 11, 'max_depth': 19}. Best is trial 237 with value: 0.818.\u001b[0m\n",
            "\u001b[32m[I 2022-10-09 18:36:56,115]\u001b[0m Trial 258 finished with value: 0.81688 and parameters: {'oob_score': False, 'n_estimators': 346, 'criterion': 'gini', 'max_features': 11, 'max_depth': 19}. Best is trial 237 with value: 0.818.\u001b[0m\n",
            "\u001b[32m[I 2022-10-09 18:39:08,809]\u001b[0m Trial 260 finished with value: 0.81732 and parameters: {'oob_score': True, 'n_estimators': 340, 'criterion': 'gini', 'max_features': 6, 'max_depth': 15}. Best is trial 237 with value: 0.818.\u001b[0m\n",
            "\u001b[32m[I 2022-10-09 18:40:14,972]\u001b[0m Trial 259 finished with value: 0.81728 and parameters: {'oob_score': False, 'n_estimators': 346, 'criterion': 'gini', 'max_features': 14, 'max_depth': 15}. Best is trial 237 with value: 0.818.\u001b[0m\n",
            "\u001b[32m[I 2022-10-09 18:40:40,995]\u001b[0m Trial 262 finished with value: 0.81696 and parameters: {'oob_score': False, 'n_estimators': 336, 'criterion': 'gini', 'max_features': 6, 'max_depth': 2}. Best is trial 237 with value: 0.818.\u001b[0m\n",
            "\u001b[32m[I 2022-10-09 18:43:00,228]\u001b[0m Trial 263 finished with value: 0.8176 and parameters: {'oob_score': False, 'n_estimators': 340, 'criterion': 'gini', 'max_features': 6, 'max_depth': 17}. Best is trial 237 with value: 0.818.\u001b[0m\n",
            "\u001b[32m[I 2022-10-09 18:43:55,368]\u001b[0m Trial 261 finished with value: 0.81712 and parameters: {'oob_score': False, 'n_estimators': 336, 'criterion': 'gini', 'max_features': 14, 'max_depth': 17}. Best is trial 237 with value: 0.818.\u001b[0m\n",
            "\u001b[32m[I 2022-10-09 18:44:31,707]\u001b[0m Trial 264 finished with value: 0.81716 and parameters: {'oob_score': True, 'n_estimators': 350, 'criterion': 'gini', 'max_features': 6, 'max_depth': 9}. Best is trial 237 with value: 0.818.\u001b[0m\n",
            "\u001b[32m[I 2022-10-09 18:45:31,198]\u001b[0m Trial 265 finished with value: 0.81752 and parameters: {'oob_score': True, 'n_estimators': 342, 'criterion': 'gini', 'max_features': 4, 'max_depth': 15}. Best is trial 237 with value: 0.818.\u001b[0m\n",
            "\u001b[32m[I 2022-10-09 18:45:33,296]\u001b[0m Trial 266 finished with value: 0.81744 and parameters: {'oob_score': False, 'n_estimators': 308, 'criterion': 'gini', 'max_features': 3, 'max_depth': 15}. Best is trial 237 with value: 0.818.\u001b[0m\n",
            "\u001b[32m[I 2022-10-09 18:46:26,135]\u001b[0m Trial 267 finished with value: 0.81724 and parameters: {'oob_score': False, 'n_estimators': 350, 'criterion': 'gini', 'max_features': 2, 'max_depth': 15}. Best is trial 237 with value: 0.818.\u001b[0m\n",
            "\u001b[32m[I 2022-10-09 18:48:05,104]\u001b[0m Trial 268 finished with value: 0.8176 and parameters: {'oob_score': False, 'n_estimators': 326, 'criterion': 'gini', 'max_features': 8, 'max_depth': 15}. Best is trial 237 with value: 0.818.\u001b[0m\n",
            "\u001b[32m[I 2022-10-09 18:48:44,255]\u001b[0m Trial 269 finished with value: 0.81736 and parameters: {'oob_score': False, 'n_estimators': 298, 'criterion': 'gini', 'max_features': 8, 'max_depth': 15}. Best is trial 237 with value: 0.818.\u001b[0m\n",
            "\u001b[32m[I 2022-10-09 18:50:22,205]\u001b[0m Trial 270 finished with value: 0.81768 and parameters: {'oob_score': False, 'n_estimators': 310, 'criterion': 'gini', 'max_features': 8, 'max_depth': 14}. Best is trial 237 with value: 0.818.\u001b[0m\n",
            "\u001b[32m[I 2022-10-09 18:50:27,522]\u001b[0m Trial 271 finished with value: 0.81752 and parameters: {'oob_score': False, 'n_estimators': 336, 'criterion': 'gini', 'max_features': 6, 'max_depth': 12}. Best is trial 237 with value: 0.818.\u001b[0m\n",
            "\u001b[32m[I 2022-10-09 18:51:41,221]\u001b[0m Trial 272 finished with value: 0.81756 and parameters: {'oob_score': True, 'n_estimators': 100, 'criterion': 'entropy', 'max_features': 12, 'max_depth': 11}. Best is trial 237 with value: 0.818.\u001b[0m\n",
            "\u001b[32m[I 2022-10-09 18:52:38,603]\u001b[0m Trial 273 finished with value: 0.81764 and parameters: {'oob_score': True, 'n_estimators': 344, 'criterion': 'gini', 'max_features': 6, 'max_depth': 15}. Best is trial 237 with value: 0.818.\u001b[0m\n",
            "\u001b[32m[I 2022-10-09 18:53:00,930]\u001b[0m Trial 275 finished with value: 0.81696 and parameters: {'oob_score': False, 'n_estimators': 346, 'criterion': 'gini', 'max_features': 10, 'max_depth': 1}. Best is trial 237 with value: 0.818.\u001b[0m\n",
            "\u001b[32m[I 2022-10-09 18:54:05,217]\u001b[0m Trial 274 finished with value: 0.81776 and parameters: {'oob_score': False, 'n_estimators': 318, 'criterion': 'gini', 'max_features': 8, 'max_depth': 15}. Best is trial 237 with value: 0.818.\u001b[0m\n",
            "\u001b[32m[I 2022-10-09 18:55:29,228]\u001b[0m Trial 276 finished with value: 0.81756 and parameters: {'oob_score': False, 'n_estimators': 322, 'criterion': 'gini', 'max_features': 8, 'max_depth': 15}. Best is trial 237 with value: 0.818.\u001b[0m\n",
            "\u001b[32m[I 2022-10-09 18:56:33,405]\u001b[0m Trial 277 finished with value: 0.81764 and parameters: {'oob_score': False, 'n_estimators': 318, 'criterion': 'gini', 'max_features': 8, 'max_depth': 15}. Best is trial 237 with value: 0.818.\u001b[0m\n",
            "\u001b[32m[I 2022-10-09 18:57:36,632]\u001b[0m Trial 279 finished with value: 0.817 and parameters: {'oob_score': False, 'n_estimators': 314, 'criterion': 'gini', 'max_features': 6, 'max_depth': 7}. Best is trial 237 with value: 0.818.\u001b[0m\n",
            "\u001b[32m[I 2022-10-09 18:57:55,276]\u001b[0m Trial 278 finished with value: 0.81748 and parameters: {'oob_score': False, 'n_estimators': 316, 'criterion': 'gini', 'max_features': 8, 'max_depth': 15}. Best is trial 237 with value: 0.818.\u001b[0m\n",
            "\u001b[32m[I 2022-10-09 19:00:38,803]\u001b[0m Trial 280 finished with value: 0.8178 and parameters: {'oob_score': False, 'n_estimators': 328, 'criterion': 'gini', 'max_features': 11, 'max_depth': 13}. Best is trial 237 with value: 0.818.\u001b[0m\n",
            "\u001b[32m[I 2022-10-09 19:01:02,451]\u001b[0m Trial 281 finished with value: 0.8176 and parameters: {'oob_score': True, 'n_estimators': 326, 'criterion': 'gini', 'max_features': 11, 'max_depth': 13}. Best is trial 237 with value: 0.818.\u001b[0m\n",
            "\u001b[32m[I 2022-10-09 19:03:43,471]\u001b[0m Trial 282 finished with value: 0.81752 and parameters: {'oob_score': True, 'n_estimators': 326, 'criterion': 'gini', 'max_features': 11, 'max_depth': 13}. Best is trial 237 with value: 0.818.\u001b[0m\n",
            "\u001b[32m[I 2022-10-09 19:04:01,459]\u001b[0m Trial 283 finished with value: 0.8174 and parameters: {'oob_score': False, 'n_estimators': 330, 'criterion': 'gini', 'max_features': 11, 'max_depth': 13}. Best is trial 237 with value: 0.818.\u001b[0m\n",
            "\u001b[32m[I 2022-10-09 19:06:40,491]\u001b[0m Trial 284 finished with value: 0.81712 and parameters: {'oob_score': False, 'n_estimators': 330, 'criterion': 'gini', 'max_features': 9, 'max_depth': 16}. Best is trial 237 with value: 0.818.\u001b[0m\n",
            "\u001b[32m[I 2022-10-09 19:06:56,048]\u001b[0m Trial 285 finished with value: 0.81756 and parameters: {'oob_score': False, 'n_estimators': 320, 'criterion': 'gini', 'max_features': 11, 'max_depth': 13}. Best is trial 237 with value: 0.818.\u001b[0m\n",
            "\u001b[32m[I 2022-10-09 19:09:16,671]\u001b[0m Trial 287 finished with value: 0.81756 and parameters: {'oob_score': False, 'n_estimators': 340, 'criterion': 'gini', 'max_features': 6, 'max_depth': 18}. Best is trial 237 with value: 0.818.\u001b[0m\n",
            "\u001b[32m[I 2022-10-09 19:09:47,613]\u001b[0m Trial 286 finished with value: 0.81756 and parameters: {'oob_score': False, 'n_estimators': 340, 'criterion': 'gini', 'max_features': 11, 'max_depth': 13}. Best is trial 237 with value: 0.818.\u001b[0m\n",
            "\u001b[32m[I 2022-10-09 19:09:55,714]\u001b[0m Trial 288 finished with value: 0.81696 and parameters: {'oob_score': False, 'n_estimators': 310, 'criterion': 'gini', 'max_features': 6, 'max_depth': 4}. Best is trial 237 with value: 0.818.\u001b[0m\n",
            "\u001b[32m[I 2022-10-09 19:11:34,905]\u001b[0m Trial 289 finished with value: 0.81736 and parameters: {'oob_score': True, 'n_estimators': 334, 'criterion': 'gini', 'max_features': 6, 'max_depth': 12}. Best is trial 237 with value: 0.818.\u001b[0m\n",
            "\u001b[32m[I 2022-10-09 19:11:43,113]\u001b[0m Trial 290 finished with value: 0.81748 and parameters: {'oob_score': True, 'n_estimators': 334, 'criterion': 'gini', 'max_features': 6, 'max_depth': 12}. Best is trial 237 with value: 0.818.\u001b[0m\n",
            "\u001b[32m[I 2022-10-09 19:12:50,522]\u001b[0m Trial 292 finished with value: 0.817 and parameters: {'oob_score': False, 'n_estimators': 304, 'criterion': 'gini', 'max_features': 8, 'max_depth': 6}. Best is trial 237 with value: 0.818.\u001b[0m\n",
            "\u001b[32m[I 2022-10-09 19:14:24,911]\u001b[0m Trial 291 finished with value: 0.8176 and parameters: {'oob_score': False, 'n_estimators': 304, 'criterion': 'gini', 'max_features': 10, 'max_depth': 15}. Best is trial 237 with value: 0.818.\u001b[0m\n",
            "\u001b[32m[I 2022-10-09 19:14:37,504]\u001b[0m Trial 294 finished with value: 0.77448 and parameters: {'oob_score': False, 'n_estimators': 320, 'criterion': 'gini', 'max_features': 1, 'max_depth': 3}. Best is trial 237 with value: 0.818.\u001b[0m\n",
            "\u001b[32m[I 2022-10-09 19:15:53,739]\u001b[0m Trial 293 finished with value: 0.81744 and parameters: {'oob_score': False, 'n_estimators': 322, 'criterion': 'gini', 'max_features': 10, 'max_depth': 15}. Best is trial 237 with value: 0.818.\u001b[0m\n",
            "\u001b[32m[I 2022-10-09 19:16:43,338]\u001b[0m Trial 296 finished with value: 0.81696 and parameters: {'oob_score': False, 'n_estimators': 328, 'criterion': 'gini', 'max_features': 6, 'max_depth': 5}. Best is trial 237 with value: 0.818.\u001b[0m\n",
            "\u001b[32m[I 2022-10-09 19:17:01,332]\u001b[0m Trial 295 finished with value: 0.8172 and parameters: {'oob_score': False, 'n_estimators': 328, 'criterion': 'entropy', 'max_features': 15, 'max_depth': 5}. Best is trial 237 with value: 0.818.\u001b[0m\n",
            "\u001b[32m[I 2022-10-09 19:19:07,098]\u001b[0m Trial 298 finished with value: 0.81752 and parameters: {'oob_score': False, 'n_estimators': 342, 'criterion': 'gini', 'max_features': 6, 'max_depth': 15}. Best is trial 237 with value: 0.818.\u001b[0m\n",
            "\u001b[32m[I 2022-10-09 19:21:16,915]\u001b[0m Trial 297 finished with value: 0.8168 and parameters: {'oob_score': False, 'n_estimators': 332, 'criterion': 'gini', 'max_features': 15, 'max_depth': 15}. Best is trial 237 with value: 0.818.\u001b[0m\n",
            "\u001b[32m[I 2022-10-09 19:21:44,708]\u001b[0m Trial 299 finished with value: 0.81736 and parameters: {'oob_score': True, 'n_estimators': 350, 'criterion': 'gini', 'max_features': 6, 'max_depth': 19}. Best is trial 237 with value: 0.818.\u001b[0m\n",
            "\u001b[32m[I 2022-10-09 19:22:18,774]\u001b[0m Trial 301 finished with value: 0.81716 and parameters: {'oob_score': False, 'n_estimators': 342, 'criterion': 'gini', 'max_features': 2, 'max_depth': 8}. Best is trial 237 with value: 0.818.\u001b[0m\n",
            "\u001b[32m[I 2022-10-09 19:22:43,976]\u001b[0m Trial 300 finished with value: 0.81724 and parameters: {'oob_score': True, 'n_estimators': 350, 'criterion': 'gini', 'max_features': 6, 'max_depth': 9}. Best is trial 237 with value: 0.818.\u001b[0m\n",
            "\u001b[32m[I 2022-10-09 19:23:38,650]\u001b[0m Trial 302 finished with value: 0.8174 and parameters: {'oob_score': False, 'n_estimators': 316, 'criterion': 'gini', 'max_features': 4, 'max_depth': 15}. Best is trial 237 with value: 0.818.\u001b[0m\n",
            "\u001b[32m[I 2022-10-09 19:24:09,374]\u001b[0m Trial 304 finished with value: 0.81696 and parameters: {'oob_score': False, 'n_estimators': 336, 'criterion': 'gini', 'max_features': 8, 'max_depth': 2}. Best is trial 237 with value: 0.818.\u001b[0m\n",
            "\u001b[32m[I 2022-10-09 19:24:24,051]\u001b[0m Trial 303 finished with value: 0.81736 and parameters: {'oob_score': False, 'n_estimators': 338, 'criterion': 'entropy', 'max_features': 3, 'max_depth': 15}. Best is trial 237 with value: 0.818.\u001b[0m\n",
            "\u001b[32m[I 2022-10-09 19:27:43,293]\u001b[0m Trial 306 finished with value: 0.81768 and parameters: {'oob_score': False, 'n_estimators': 324, 'criterion': 'gini', 'max_features': 11, 'max_depth': 15}. Best is trial 237 with value: 0.818.\u001b[0m\n",
            "\u001b[32m[I 2022-10-09 19:29:26,862]\u001b[0m Trial 305 finished with value: 0.81744 and parameters: {'oob_score': False, 'n_estimators': 342, 'criterion': 'entropy', 'max_features': 11, 'max_depth': 15}. Best is trial 237 with value: 0.818.\u001b[0m\n",
            "\u001b[32m[I 2022-10-09 19:31:12,175]\u001b[0m Trial 307 finished with value: 0.81696 and parameters: {'oob_score': True, 'n_estimators': 342, 'criterion': 'gini', 'max_features': 9, 'max_depth': 18}. Best is trial 237 with value: 0.818.\u001b[0m\n",
            "\u001b[32m[I 2022-10-09 19:31:38,546]\u001b[0m Trial 308 finished with value: 0.81744 and parameters: {'oob_score': True, 'n_estimators': 344, 'criterion': 'gini', 'max_features': 9, 'max_depth': 10}. Best is trial 237 with value: 0.818.\u001b[0m\n",
            "\u001b[32m[I 2022-10-09 19:31:54,724]\u001b[0m Trial 310 finished with value: 0.77448 and parameters: {'oob_score': False, 'n_estimators': 334, 'criterion': 'gini', 'max_features': 6, 'max_depth': 1}. Best is trial 237 with value: 0.818.\u001b[0m\n",
            "\u001b[32m[I 2022-10-09 19:32:31,637]\u001b[0m Trial 309 finished with value: 0.81736 and parameters: {'oob_score': False, 'n_estimators': 310, 'criterion': 'gini', 'max_features': 6, 'max_depth': 10}. Best is trial 237 with value: 0.818.\u001b[0m\n",
            "\u001b[32m[I 2022-10-09 19:34:36,024]\u001b[0m Trial 311 finished with value: 0.81732 and parameters: {'oob_score': False, 'n_estimators': 346, 'criterion': 'gini', 'max_features': 8, 'max_depth': 15}. Best is trial 237 with value: 0.818.\u001b[0m\n",
            "\u001b[32m[I 2022-10-09 19:34:42,080]\u001b[0m Trial 312 finished with value: 0.8176 and parameters: {'oob_score': False, 'n_estimators': 278, 'criterion': 'gini', 'max_features': 8, 'max_depth': 15}. Best is trial 237 with value: 0.818.\u001b[0m\n",
            "\u001b[32m[I 2022-10-09 19:36:19,798]\u001b[0m Trial 313 finished with value: 0.81756 and parameters: {'oob_score': False, 'n_estimators': 330, 'criterion': 'gini', 'max_features': 5, 'max_depth': 15}. Best is trial 237 with value: 0.818.\u001b[0m\n",
            "\u001b[32m[I 2022-10-09 19:37:00,005]\u001b[0m Trial 314 finished with value: 0.81728 and parameters: {'oob_score': False, 'n_estimators': 330, 'criterion': 'gini', 'max_features': 7, 'max_depth': 15}. Best is trial 237 with value: 0.818.\u001b[0m\n",
            "\u001b[32m[I 2022-10-09 19:38:15,896]\u001b[0m Trial 315 finished with value: 0.8176 and parameters: {'oob_score': True, 'n_estimators': 336, 'criterion': 'gini', 'max_features': 6, 'max_depth': 13}. Best is trial 237 with value: 0.818.\u001b[0m\n",
            "\u001b[32m[I 2022-10-09 19:40:25,209]\u001b[0m Trial 316 finished with value: 0.81744 and parameters: {'oob_score': True, 'n_estimators': 314, 'criterion': 'gini', 'max_features': 12, 'max_depth': 14}. Best is trial 237 with value: 0.818.\u001b[0m\n",
            "\u001b[32m[I 2022-10-09 19:41:53,940]\u001b[0m Trial 317 finished with value: 0.81756 and parameters: {'oob_score': False, 'n_estimators': 346, 'criterion': 'gini', 'max_features': 12, 'max_depth': 14}. Best is trial 237 with value: 0.818.\u001b[0m\n",
            "\u001b[32m[I 2022-10-09 19:43:13,724]\u001b[0m Trial 318 finished with value: 0.81768 and parameters: {'oob_score': False, 'n_estimators': 324, 'criterion': 'gini', 'max_features': 11, 'max_depth': 12}. Best is trial 237 with value: 0.818.\u001b[0m\n",
            "\u001b[32m[I 2022-10-09 19:43:33,555]\u001b[0m Trial 319 finished with value: 0.8176 and parameters: {'oob_score': False, 'n_estimators': 326, 'criterion': 'gini', 'max_features': 6, 'max_depth': 12}. Best is trial 237 with value: 0.818.\u001b[0m\n",
            "\u001b[32m[I 2022-10-09 19:46:48,800]\u001b[0m Trial 320 finished with value: 0.81772 and parameters: {'oob_score': False, 'n_estimators': 338, 'criterion': 'entropy', 'max_features': 6, 'max_depth': 19}. Best is trial 237 with value: 0.818.\u001b[0m\n",
            "\u001b[32m[I 2022-10-09 19:47:24,977]\u001b[0m Trial 321 finished with value: 0.81768 and parameters: {'oob_score': False, 'n_estimators': 336, 'criterion': 'entropy', 'max_features': 8, 'max_depth': 15}. Best is trial 237 with value: 0.818.\u001b[0m\n",
            "\u001b[32m[I 2022-10-09 19:48:51,182]\u001b[0m Trial 322 finished with value: 0.8176 and parameters: {'oob_score': False, 'n_estimators': 336, 'criterion': 'gini', 'max_features': 6, 'max_depth': 15}. Best is trial 237 with value: 0.818.\u001b[0m\n",
            "\u001b[32m[I 2022-10-09 19:49:30,353]\u001b[0m Trial 323 finished with value: 0.8176 and parameters: {'oob_score': False, 'n_estimators': 346, 'criterion': 'gini', 'max_features': 6, 'max_depth': 15}. Best is trial 237 with value: 0.818.\u001b[0m\n",
            "\u001b[32m[I 2022-10-09 19:50:42,188]\u001b[0m Trial 324 finished with value: 0.81744 and parameters: {'oob_score': True, 'n_estimators': 292, 'criterion': 'gini', 'max_features': 6, 'max_depth': 15}. Best is trial 237 with value: 0.818.\u001b[0m\n",
            "\u001b[32m[I 2022-10-09 19:50:43,837]\u001b[0m Trial 325 finished with value: 0.81708 and parameters: {'oob_score': True, 'n_estimators': 350, 'criterion': 'gini', 'max_features': 6, 'max_depth': 7}. Best is trial 237 with value: 0.818.\u001b[0m\n",
            "\u001b[32m[I 2022-10-09 19:52:34,649]\u001b[0m Trial 327 finished with value: 0.81736 and parameters: {'oob_score': False, 'n_estimators': 342, 'criterion': 'gini', 'max_features': 6, 'max_depth': 13}. Best is trial 237 with value: 0.818.\u001b[0m\n",
            "\u001b[32m[I 2022-10-09 19:52:53,230]\u001b[0m Trial 326 finished with value: 0.81756 and parameters: {'oob_score': False, 'n_estimators': 320, 'criterion': 'gini', 'max_features': 14, 'max_depth': 7}. Best is trial 237 with value: 0.818.\u001b[0m\n",
            "\u001b[32m[I 2022-10-09 19:55:00,244]\u001b[0m Trial 329 finished with value: 0.81736 and parameters: {'oob_score': False, 'n_estimators': 332, 'criterion': 'gini', 'max_features': 6, 'max_depth': 16}. Best is trial 237 with value: 0.818.\u001b[0m\n",
            "\u001b[32m[I 2022-10-09 19:56:26,279]\u001b[0m Trial 328 finished with value: 0.8174 and parameters: {'oob_score': False, 'n_estimators': 300, 'criterion': 'gini', 'max_features': 14, 'max_depth': 15}. Best is trial 237 with value: 0.818.\u001b[0m\n",
            "\u001b[32m[I 2022-10-09 19:57:03,990]\u001b[0m Trial 330 finished with value: 0.81776 and parameters: {'oob_score': False, 'n_estimators': 340, 'criterion': 'gini', 'max_features': 6, 'max_depth': 15}. Best is trial 237 with value: 0.818.\u001b[0m\n",
            "\u001b[32m[I 2022-10-09 19:57:30,437]\u001b[0m Trial 331 finished with value: 0.81696 and parameters: {'oob_score': False, 'n_estimators': 340, 'criterion': 'gini', 'max_features': 10, 'max_depth': 4}. Best is trial 237 with value: 0.818.\u001b[0m\n",
            "\u001b[32m[I 2022-10-09 20:00:19,237]\u001b[0m Trial 332 finished with value: 0.818 and parameters: {'oob_score': False, 'n_estimators': 340, 'criterion': 'gini', 'max_features': 10, 'max_depth': 15}. Best is trial 237 with value: 0.818.\u001b[0m\n",
            "\u001b[32m[I 2022-10-09 20:01:36,989]\u001b[0m Trial 333 finished with value: 0.81752 and parameters: {'oob_score': False, 'n_estimators': 346, 'criterion': 'gini', 'max_features': 11, 'max_depth': 18}. Best is trial 237 with value: 0.818.\u001b[0m\n",
            "\u001b[32m[I 2022-10-09 20:03:45,911]\u001b[0m Trial 334 finished with value: 0.81748 and parameters: {'oob_score': True, 'n_estimators': 346, 'criterion': 'gini', 'max_features': 10, 'max_depth': 15}. Best is trial 237 with value: 0.818.\u001b[0m\n",
            "\u001b[32m[I 2022-10-09 20:04:57,031]\u001b[0m Trial 335 finished with value: 0.81772 and parameters: {'oob_score': True, 'n_estimators': 338, 'criterion': 'gini', 'max_features': 10, 'max_depth': 15}. Best is trial 237 with value: 0.818.\u001b[0m\n",
            "\u001b[32m[I 2022-10-09 20:05:47,208]\u001b[0m Trial 336 finished with value: 0.81696 and parameters: {'oob_score': False, 'n_estimators': 338, 'criterion': 'entropy', 'max_features': 10, 'max_depth': 6}. Best is trial 237 with value: 0.818.\u001b[0m\n",
            "\u001b[32m[I 2022-10-09 20:06:34,664]\u001b[0m Trial 338 finished with value: 0.81696 and parameters: {'oob_score': False, 'n_estimators': 312, 'criterion': 'gini', 'max_features': 10, 'max_depth': 3}. Best is trial 237 with value: 0.818.\u001b[0m\n",
            "\u001b[32m[I 2022-10-09 20:06:52,244]\u001b[0m Trial 337 finished with value: 0.817 and parameters: {'oob_score': False, 'n_estimators': 316, 'criterion': 'entropy', 'max_features': 10, 'max_depth': 6}. Best is trial 237 with value: 0.818.\u001b[0m\n",
            "\u001b[32m[I 2022-10-09 20:07:06,939]\u001b[0m Trial 339 finished with value: 0.81676 and parameters: {'oob_score': False, 'n_estimators': 306, 'criterion': 'gini', 'max_features': 1, 'max_depth': 15}. Best is trial 237 with value: 0.818.\u001b[0m\n",
            "\u001b[32m[I 2022-10-09 20:07:31,226]\u001b[0m Trial 340 finished with value: 0.81696 and parameters: {'oob_score': False, 'n_estimators': 334, 'criterion': 'gini', 'max_features': 1, 'max_depth': 17}. Best is trial 237 with value: 0.818.\u001b[0m\n",
            "\u001b[32m[I 2022-10-09 20:10:12,700]\u001b[0m Trial 342 finished with value: 0.81752 and parameters: {'oob_score': True, 'n_estimators': 328, 'criterion': 'gini', 'max_features': 8, 'max_depth': 15}. Best is trial 237 with value: 0.818.\u001b[0m\n",
            "\u001b[32m[I 2022-10-09 20:11:11,407]\u001b[0m Trial 341 finished with value: 0.817 and parameters: {'oob_score': False, 'n_estimators': 334, 'criterion': 'gini', 'max_features': 12, 'max_depth': 17}. Best is trial 237 with value: 0.818.\u001b[0m\n",
            "\u001b[32m[I 2022-10-09 20:12:12,266]\u001b[0m Trial 344 finished with value: 0.81728 and parameters: {'oob_score': False, 'n_estimators': 320, 'criterion': 'gini', 'max_features': 2, 'max_depth': 19}. Best is trial 237 with value: 0.818.\u001b[0m\n",
            "\u001b[32m[I 2022-10-09 20:14:18,948]\u001b[0m Trial 345 finished with value: 0.81768 and parameters: {'oob_score': False, 'n_estimators': 342, 'criterion': 'gini', 'max_features': 6, 'max_depth': 15}. Best is trial 237 with value: 0.818.\u001b[0m\n",
            "\u001b[32m[I 2022-10-09 20:14:24,394]\u001b[0m Trial 343 finished with value: 0.8166 and parameters: {'oob_score': False, 'n_estimators': 320, 'criterion': 'gini', 'max_features': 12, 'max_depth': 19}. Best is trial 237 with value: 0.818.\u001b[0m\n",
            "\u001b[32m[I 2022-10-09 20:15:36,405]\u001b[0m Trial 346 finished with value: 0.81728 and parameters: {'oob_score': False, 'n_estimators': 330, 'criterion': 'gini', 'max_features': 4, 'max_depth': 13}. Best is trial 237 with value: 0.818.\u001b[0m\n",
            "\u001b[32m[I 2022-10-09 20:16:38,397]\u001b[0m Trial 347 finished with value: 0.81768 and parameters: {'oob_score': True, 'n_estimators': 308, 'criterion': 'gini', 'max_features': 8, 'max_depth': 13}. Best is trial 237 with value: 0.818.\u001b[0m\n",
            "\u001b[32m[I 2022-10-09 20:17:50,734]\u001b[0m Trial 348 finished with value: 0.81756 and parameters: {'oob_score': True, 'n_estimators': 350, 'criterion': 'gini', 'max_features': 11, 'max_depth': 8}. Best is trial 237 with value: 0.818.\u001b[0m\n",
            "\u001b[32m[I 2022-10-09 20:17:52,361]\u001b[0m Trial 349 finished with value: 0.81712 and parameters: {'oob_score': False, 'n_estimators': 350, 'criterion': 'gini', 'max_features': 6, 'max_depth': 8}. Best is trial 237 with value: 0.818.\u001b[0m\n"
          ]
        }
      ],
      "source": [
        "study = optuna.create_study(direction='maximize')\n",
        "study.optimize(objective, n_trials=350,\n",
        "               show_progress_bar=True, n_jobs=-1)"
      ]
    },
    {
      "cell_type": "code",
      "execution_count": null,
      "metadata": {
        "colab": {
          "base_uri": "https://localhost:8080/"
        },
        "id": "UNFZXqbuSLGb",
        "outputId": "4bd349a6-6edb-44f6-c0d2-46cb7736862d"
      },
      "outputs": [
        {
          "data": {
            "text/plain": [
              "{'oob_score': False,\n",
              " 'n_estimators': 344,\n",
              " 'criterion': 'gini',\n",
              " 'max_features': 6,\n",
              " 'max_depth': 15}"
            ]
          },
          "execution_count": 906,
          "metadata": {},
          "output_type": "execute_result"
        }
      ],
      "source": [
        "Best_trial = study.best_trial.params\n",
        "#Best_trial[\"n_estimators\"], Best_trial[\"tree_method\"] = 10000, 'gpu_hist'\n",
        "Best_trial\n"
      ]
    },
    {
      "cell_type": "code",
      "execution_count": null,
      "metadata": {
        "colab": {
          "base_uri": "https://localhost:8080/"
        },
        "id": "RNfwx5E8Shhs",
        "outputId": "dc0e17eb-8e3e-4abd-d17d-4deb3727eb48"
      },
      "outputs": [
        {
          "data": {
            "text/plain": [
              "0.818"
            ]
          },
          "execution_count": 907,
          "metadata": {},
          "output_type": "execute_result"
        }
      ],
      "source": [
        "study.best_trial.value"
      ]
    },
    {
      "cell_type": "code",
      "execution_count": null,
      "metadata": {
        "id": "je6SPSi97_d_"
      },
      "outputs": [],
      "source": [
        "# param_dist = {\n",
        "#         'max_features':range(80,200,4),\n",
        "#         'max_depth':range(2,15,1)\n",
        "#         }\n",
        "\n",
        "rfc=RandomForestClassifier()\n",
        "param_grid = { \n",
        "    'n_estimators': np.arange(200,501,10),\n",
        "    'max_features': ['auto', 'sqrt', 'log2'],\n",
        "    'max_depth' : range(1,15),\n",
        "    'criterion' :['gini', 'entropy']\n",
        "}\n",
        "\n",
        "CV_rfc = GridSearchCV(estimator=rfc, param_grid=param_grid, cv= 6, n_jobs=-1)\n",
        "CV_rfc.fit(x_train, y_train)"
      ]
    },
    {
      "cell_type": "code",
      "execution_count": null,
      "metadata": {
        "id": "j5YeR6oDHEfR"
      },
      "outputs": [],
      "source": [
        "CV_rfc.best_score_"
      ]
    },
    {
      "cell_type": "code",
      "execution_count": null,
      "metadata": {
        "id": "nRTPV78e8b8p"
      },
      "outputs": [],
      "source": [
        "CV_rfc.best_params_"
      ]
    },
    {
      "cell_type": "code",
      "execution_count": null,
      "metadata": {
        "id": "NqPfQS8SQNXj"
      },
      "outputs": [],
      "source": [
        "CV_rfc.best_estimator_.score(x_test,y_test)"
      ]
    },
    {
      "cell_type": "markdown",
      "metadata": {
        "id": "ueSLdO5tnutr"
      },
      "source": [
        "**LogisticRegression**"
      ]
    },
    {
      "cell_type": "code",
      "execution_count": 89,
      "metadata": {
        "id": "V41JTh6BALBM"
      },
      "outputs": [],
      "source": [
        "def objective(trial,data=X,target=y):\n",
        "    \n",
        "    train_x, test_x, train_y, test_y = train_test_split(data, target, test_size=0.25,random_state=42)\n",
        "    param = {\n",
        "        'n_jobs':-1,\n",
        "        'C': trial.suggest_float('C', 1e-6,10.0),\n",
        "        #'penalty': trial.suggest_categorical('penalty', [\"l1\",\"l2\",\"elasticnet\"]),\n",
        "        #'fit_intercept': trial.suggest_categorical('fit_intercept', [True,False]),\n",
        "        'solver': trial.suggest_categorical('solver', ['newton-cg', 'lbfgs', 'liblinear', 'sag', 'saga']),\n",
        "        'max_iter': trial.suggest_int('max_iter', 100,400),\n",
        "    }\n",
        "    # if param[\"solver\"] == \"sag\":\n",
        "    #     param[\"penalty\"] = trial.suggest_categorical(\"penalty\", [\"l2\",'none'])\n",
        "    # elif param[\"solver\"] == \"newton-cg\":\n",
        "    #     param[\"penalty\"] = trial.suggest_categorical(\"penalty\", [\"l2\",'none'])\n",
        "    # elif param[\"solver\"] == \"lbfgs\":\n",
        "    #     param[\"penalty\"] = trial.suggest_categorical(\"penalty\", [\"l2\"])\n",
        "    # elif param[\"solver\"] == \"liblinear\":\n",
        "    #     param[\"penalty\"] = trial.suggest_categorical(\"penalty\", [\"l1\", \"l2\"])\n",
        "\n",
        "    # elif param[\"solver\"] == \"saga\":\n",
        "    #     param[\"penalty\"] = trial.suggest_categorical(\"penalty\", [\"l1\", \"l2\", 'elasticnet'])\n",
        "\n",
        "    if param[\"solver\"] == \"liblinear\" : #and param[\"penalty\"]==\"l2\"\n",
        "      param[\"penalty\"] = trial.suggest_categorical(\"penalty\", [\"l1\", \"l2\"]) \n",
        "      if param[\"penalty\"]==\"l2\":\n",
        "        param[\"dual\"] = True\n",
        "    else:\n",
        "      param[\"dual\"] = False\n",
        "\n",
        "    if param[\"solver\"] == \"saga\":\n",
        "      param[\"penalty\"] = trial.suggest_categorical(\"penalty\", [\"l1\", \"l2\"])\n",
        "\n",
        "    # if param[\"solver\"] == \"sag\":\n",
        "    #   param[\"penalty\"] = trial.suggest_categorical(\"penalty\", [\"l2\"])\n",
        "\n",
        "    # if param[\"solver\"] == \"newton-cg\":\n",
        "    #   param[\"penalty\"] = trial.suggest_categorical(\"penalty\", [\"l2\"])\n",
        "\n",
        "    # if param[\"solver\"] == \"lbfgs\":\n",
        "    #   param[\"penalty\"] = trial.suggest_categorical(\"penalty\", [\"l2\"])\n",
        "\n",
        "    if param[\"solver\"] == \"liblinear\":\n",
        "      param[\"penalty\"] = trial.suggest_categorical(\"penalty\", [\"l1\", \"l2\"])\n",
        "\n",
        "\n",
        "\n",
        "\n",
        "    model = LogisticRegression(**param)  \n",
        "    \n",
        "    train_x['Current Loan Amount'] = np.log(train_x['Current Loan Amount'] + 1)\n",
        "    train_x['Years of Credit History'] = np.log(train_x['Years of Credit History'] + 1)\n",
        "    train_x['Annual Income'] = np.log(train_x['Annual Income'] + 1)\n",
        "    train_x['Monthly Debt'] = np.log(train_x['Monthly Debt'] + 1)\n",
        "\n",
        "\n",
        "    test_x['Current Loan Amount'] = np.log(test_x['Current Loan Amount'] + 1)\n",
        "    test_x['Years of Credit History'] = np.log(test_x['Years of Credit History'] + 1)\n",
        "    test_x['Annual Income'] = np.log(test_x['Annual Income'] + 1)\n",
        "    test_x['Monthly Debt'] = np.log(test_x['Monthly Debt'] + 1)\n",
        "\n",
        "\n",
        "\n",
        "    #model.fit(train_x,train_y)\n",
        "    model.fit(train_x,label_encoder.fit_transform(np.log(train_y+1)))\n",
        "    \n",
        "    preds = model.predict(test_x)\n",
        "    \n",
        "    rmse = mean_squared_error(test_y, preds,squared=False)\n",
        "    \n",
        "    return  (model.score(x_test , y_test)) # (model.score(x_train , y_train))"
      ]
    },
    {
      "cell_type": "code",
      "execution_count": 90,
      "metadata": {
        "colab": {
          "base_uri": "https://localhost:8080/",
          "height": 1000,
          "referenced_widgets": [
            "e1f30f07ae454ca6a305e6b3f0365a32",
            "3f37c339979741319748c395f6a5af3f",
            "8cdca399abdd40a4a2aaaa7094025d1f",
            "af353b0eeeac45a8babd2e4022bd1d85",
            "e2d85f4df08b485ab40de720a076b745",
            "cb2d751de89d404fb42482e8312fa24e",
            "e0b74cf2fd354a1dab1c2caab441ad6c",
            "89ac364e5c16460c8bc3404ded714a18",
            "2356df6fcbe84384b0c087c1b6e756c7",
            "862f42e762ae4360a1b44cc43082183b",
            "954f36e7cc3f4c54bdc2334636798307"
          ]
        },
        "id": "mugEWB-JAEry",
        "outputId": "376cf5ef-684b-44db-b0e4-45cb922a54e1"
      },
      "outputs": [
        {
          "name": "stderr",
          "output_type": "stream",
          "text": [
            "\u001b[32m[I 2022-10-10 00:23:48,740]\u001b[0m A new study created in memory with name: no-name-bd8011d3-75fc-4ff7-a963-a0780ded8f5b\u001b[0m\n",
            "/usr/local/lib/python3.7/dist-packages/optuna/progress_bar.py:49: ExperimentalWarning: Progress bar is experimental (supported from v1.2.0). The interface can change in the future.\n",
            "  self._init_valid()\n"
          ]
        },
        {
          "data": {
            "application/vnd.jupyter.widget-view+json": {
              "model_id": "e1f30f07ae454ca6a305e6b3f0365a32",
              "version_major": 2,
              "version_minor": 0
            },
            "text/plain": [
              "  0%|          | 0/350 [00:00<?, ?it/s]"
            ]
          },
          "metadata": {},
          "output_type": "display_data"
        },
        {
          "name": "stderr",
          "output_type": "stream",
          "text": [
            "/usr/local/lib/python3.7/dist-packages/sklearn/linear_model/_logistic.py:1526: UserWarning: 'n_jobs' > 1 does not have any effect when 'solver' is set to 'liblinear'. Got 'n_jobs' = 2.\n",
            "  \" = {}.\".format(effective_n_jobs(self.n_jobs))\n",
            "/usr/local/lib/python3.7/dist-packages/sklearn/svm/_base.py:1208: ConvergenceWarning: Liblinear failed to converge, increase the number of iterations.\n",
            "  ConvergenceWarning,\n"
          ]
        },
        {
          "name": "stdout",
          "output_type": "stream",
          "text": [
            "\u001b[32m[I 2022-10-10 00:23:55,217]\u001b[0m Trial 0 finished with value: 0.24524 and parameters: {'C': 0.7021933101221741, 'solver': 'liblinear', 'max_iter': 132, 'penalty': 'l2'}. Best is trial 0 with value: 0.24524.\u001b[0m\n"
          ]
        },
        {
          "name": "stderr",
          "output_type": "stream",
          "text": [
            "/usr/local/lib/python3.7/dist-packages/sklearn/linear_model/_logistic.py:1526: UserWarning: 'n_jobs' > 1 does not have any effect when 'solver' is set to 'liblinear'. Got 'n_jobs' = 2.\n",
            "  \" = {}.\".format(effective_n_jobs(self.n_jobs))\n"
          ]
        },
        {
          "name": "stdout",
          "output_type": "stream",
          "text": [
            "\u001b[32m[I 2022-10-10 00:24:03,581]\u001b[0m Trial 2 finished with value: 0.81476 and parameters: {'C': 6.006877562630546, 'solver': 'liblinear', 'max_iter': 360, 'penalty': 'l1'}. Best is trial 2 with value: 0.81476.\u001b[0m\n",
            "\u001b[32m[I 2022-10-10 00:24:10,476]\u001b[0m Trial 1 finished with value: 0.81472 and parameters: {'C': 2.253179900491681, 'solver': 'newton-cg', 'max_iter': 158}. Best is trial 2 with value: 0.81476.\u001b[0m\n"
          ]
        },
        {
          "name": "stderr",
          "output_type": "stream",
          "text": [
            "/usr/local/lib/python3.7/dist-packages/sklearn/linear_model/_sag.py:354: ConvergenceWarning: The max_iter was reached which means the coef_ did not converge\n",
            "  ConvergenceWarning,\n"
          ]
        },
        {
          "name": "stdout",
          "output_type": "stream",
          "text": [
            "\u001b[32m[I 2022-10-10 00:24:23,546]\u001b[0m Trial 3 finished with value: 0.77108 and parameters: {'C': 2.7591868439729295, 'solver': 'saga', 'max_iter': 296, 'penalty': 'l2'}. Best is trial 2 with value: 0.81476.\u001b[0m\n"
          ]
        },
        {
          "name": "stderr",
          "output_type": "stream",
          "text": [
            "/usr/local/lib/python3.7/dist-packages/sklearn/linear_model/_sag.py:354: ConvergenceWarning: The max_iter was reached which means the coef_ did not converge\n",
            "  ConvergenceWarning,\n",
            "/usr/local/lib/python3.7/dist-packages/sklearn/linear_model/_logistic.py:1526: UserWarning: 'n_jobs' > 1 does not have any effect when 'solver' is set to 'liblinear'. Got 'n_jobs' = 2.\n",
            "  \" = {}.\".format(effective_n_jobs(self.n_jobs))\n"
          ]
        },
        {
          "name": "stdout",
          "output_type": "stream",
          "text": [
            "\u001b[32m[I 2022-10-10 00:24:31,978]\u001b[0m Trial 4 finished with value: 0.81472 and parameters: {'C': 1.6467034849910687, 'solver': 'newton-cg', 'max_iter': 199}. Best is trial 2 with value: 0.81476.\u001b[0m\n",
            "\u001b[32m[I 2022-10-10 00:24:32,058]\u001b[0m Trial 5 finished with value: 0.77108 and parameters: {'C': 8.54989961410599, 'solver': 'saga', 'max_iter': 129, 'penalty': 'l2'}. Best is trial 2 with value: 0.81476.\u001b[0m\n",
            "\u001b[32m[I 2022-10-10 00:24:38,230]\u001b[0m Trial 6 finished with value: 0.81472 and parameters: {'C': 3.5919067524043515, 'solver': 'liblinear', 'max_iter': 154, 'penalty': 'l1'}. Best is trial 2 with value: 0.81476.\u001b[0m\n"
          ]
        },
        {
          "name": "stderr",
          "output_type": "stream",
          "text": [
            "/usr/local/lib/python3.7/dist-packages/sklearn/linear_model/_logistic.py:1526: UserWarning: 'n_jobs' > 1 does not have any effect when 'solver' is set to 'liblinear'. Got 'n_jobs' = 2.\n",
            "  \" = {}.\".format(effective_n_jobs(self.n_jobs))\n"
          ]
        },
        {
          "name": "stdout",
          "output_type": "stream",
          "text": [
            "\u001b[32m[I 2022-10-10 00:24:44,868]\u001b[0m Trial 7 finished with value: 0.81472 and parameters: {'C': 3.94073216470126, 'solver': 'newton-cg', 'max_iter': 106}. Best is trial 2 with value: 0.81476.\u001b[0m\n"
          ]
        },
        {
          "name": "stderr",
          "output_type": "stream",
          "text": [
            "/usr/local/lib/python3.7/dist-packages/sklearn/linear_model/_logistic.py:1526: UserWarning: 'n_jobs' > 1 does not have any effect when 'solver' is set to 'liblinear'. Got 'n_jobs' = 2.\n",
            "  \" = {}.\".format(effective_n_jobs(self.n_jobs))\n",
            "/usr/local/lib/python3.7/dist-packages/sklearn/svm/_base.py:1208: ConvergenceWarning: Liblinear failed to converge, increase the number of iterations.\n",
            "  ConvergenceWarning,\n",
            "/usr/local/lib/python3.7/dist-packages/sklearn/linear_model/_logistic.py:1526: UserWarning: 'n_jobs' > 1 does not have any effect when 'solver' is set to 'liblinear'. Got 'n_jobs' = 2.\n",
            "  \" = {}.\".format(effective_n_jobs(self.n_jobs))\n"
          ]
        },
        {
          "name": "stdout",
          "output_type": "stream",
          "text": [
            "\u001b[32m[I 2022-10-10 00:24:47,864]\u001b[0m Trial 8 finished with value: 0.77448 and parameters: {'C': 2.782208751013274, 'solver': 'liblinear', 'max_iter': 207, 'penalty': 'l2'}. Best is trial 2 with value: 0.81476.\u001b[0m\n",
            "\u001b[32m[I 2022-10-10 00:24:49,447]\u001b[0m Trial 9 finished with value: 0.81468 and parameters: {'C': 4.351134003290822, 'solver': 'liblinear', 'max_iter': 185, 'penalty': 'l1'}. Best is trial 2 with value: 0.81476.\u001b[0m\n",
            "\u001b[32m[I 2022-10-10 00:24:51,150]\u001b[0m Trial 11 finished with value: 0.78636 and parameters: {'C': 6.873050742563997, 'solver': 'lbfgs', 'max_iter': 393}. Best is trial 2 with value: 0.81476.\u001b[0m\n"
          ]
        },
        {
          "name": "stderr",
          "output_type": "stream",
          "text": [
            "/usr/local/lib/python3.7/dist-packages/sklearn/svm/_base.py:1208: ConvergenceWarning: Liblinear failed to converge, increase the number of iterations.\n",
            "  ConvergenceWarning,\n"
          ]
        },
        {
          "name": "stdout",
          "output_type": "stream",
          "text": [
            "\u001b[32m[I 2022-10-10 00:24:57,175]\u001b[0m Trial 10 finished with value: 0.77448 and parameters: {'C': 2.626919595545838, 'solver': 'liblinear', 'max_iter': 221, 'penalty': 'l2'}. Best is trial 2 with value: 0.81476.\u001b[0m\n"
          ]
        },
        {
          "name": "stderr",
          "output_type": "stream",
          "text": [
            "/usr/local/lib/python3.7/dist-packages/sklearn/linear_model/_sag.py:354: ConvergenceWarning: The max_iter was reached which means the coef_ did not converge\n",
            "  ConvergenceWarning,\n"
          ]
        },
        {
          "name": "stdout",
          "output_type": "stream",
          "text": [
            "\u001b[32m[I 2022-10-10 00:25:07,536]\u001b[0m Trial 12 finished with value: 0.77108 and parameters: {'C': 6.297656646315058, 'solver': 'sag', 'max_iter': 300}. Best is trial 2 with value: 0.81476.\u001b[0m\n"
          ]
        },
        {
          "name": "stderr",
          "output_type": "stream",
          "text": [
            "/usr/local/lib/python3.7/dist-packages/sklearn/linear_model/_sag.py:354: ConvergenceWarning: The max_iter was reached which means the coef_ did not converge\n",
            "  ConvergenceWarning,\n"
          ]
        },
        {
          "name": "stdout",
          "output_type": "stream",
          "text": [
            "\u001b[32m[I 2022-10-10 00:25:13,182]\u001b[0m Trial 13 finished with value: 0.77108 and parameters: {'C': 6.333976089193983, 'solver': 'sag', 'max_iter': 299}. Best is trial 2 with value: 0.81476.\u001b[0m\n",
            "\u001b[32m[I 2022-10-10 00:25:25,956]\u001b[0m Trial 14 finished with value: 0.81472 and parameters: {'C': 5.836007775143662, 'solver': 'newton-cg', 'max_iter': 389}. Best is trial 2 with value: 0.81476.\u001b[0m\n",
            "\u001b[32m[I 2022-10-10 00:25:27,641]\u001b[0m Trial 16 finished with value: 0.78636 and parameters: {'C': 9.964916404076536, 'solver': 'lbfgs', 'max_iter': 347}. Best is trial 2 with value: 0.81476.\u001b[0m\n",
            "\u001b[32m[I 2022-10-10 00:25:43,429]\u001b[0m Trial 15 finished with value: 0.81472 and parameters: {'C': 9.12556526975118, 'solver': 'newton-cg', 'max_iter': 392}. Best is trial 2 with value: 0.81476.\u001b[0m\n",
            "\u001b[32m[I 2022-10-10 00:25:57,265]\u001b[0m Trial 17 finished with value: 0.81476 and parameters: {'C': 0.005078442512918002, 'solver': 'newton-cg', 'max_iter': 253}. Best is trial 2 with value: 0.81476.\u001b[0m\n",
            "\u001b[32m[I 2022-10-10 00:25:58,932]\u001b[0m Trial 19 finished with value: 0.78636 and parameters: {'C': 7.736638699788208, 'solver': 'lbfgs', 'max_iter': 258}. Best is trial 2 with value: 0.81476.\u001b[0m\n",
            "\u001b[32m[I 2022-10-10 00:26:12,762]\u001b[0m Trial 18 finished with value: 0.81472 and parameters: {'C': 0.44955050292195753, 'solver': 'newton-cg', 'max_iter': 275}. Best is trial 2 with value: 0.81476.\u001b[0m\n"
          ]
        },
        {
          "name": "stderr",
          "output_type": "stream",
          "text": [
            "/usr/local/lib/python3.7/dist-packages/sklearn/linear_model/_sag.py:354: ConvergenceWarning: The max_iter was reached which means the coef_ did not converge\n",
            "  ConvergenceWarning,\n"
          ]
        },
        {
          "name": "stdout",
          "output_type": "stream",
          "text": [
            "\u001b[32m[I 2022-10-10 00:26:17,499]\u001b[0m Trial 20 finished with value: 0.77108 and parameters: {'C': 0.00018621749558694368, 'solver': 'sag', 'max_iter': 332}. Best is trial 2 with value: 0.81476.\u001b[0m\n"
          ]
        },
        {
          "name": "stderr",
          "output_type": "stream",
          "text": [
            "/usr/local/lib/python3.7/dist-packages/sklearn/linear_model/_sag.py:354: ConvergenceWarning: The max_iter was reached which means the coef_ did not converge\n",
            "  ConvergenceWarning,\n"
          ]
        },
        {
          "name": "stdout",
          "output_type": "stream",
          "text": [
            "\u001b[32m[I 2022-10-10 00:26:31,926]\u001b[0m Trial 21 finished with value: 0.77108 and parameters: {'C': 5.050212268148919, 'solver': 'sag', 'max_iter': 346}. Best is trial 2 with value: 0.81476.\u001b[0m\n",
            "\u001b[32m[I 2022-10-10 00:26:48,673]\u001b[0m Trial 22 finished with value: 0.81472 and parameters: {'C': 1.7645920006558162, 'solver': 'newton-cg', 'max_iter': 245}. Best is trial 2 with value: 0.81476.\u001b[0m\n",
            "\u001b[32m[I 2022-10-10 00:26:52,023]\u001b[0m Trial 23 finished with value: 0.81476 and parameters: {'C': 1.3517603409003356, 'solver': 'newton-cg', 'max_iter': 168}. Best is trial 2 with value: 0.81476.\u001b[0m\n",
            "\u001b[32m[I 2022-10-10 00:27:14,724]\u001b[0m Trial 25 finished with value: 0.81472 and parameters: {'C': 1.060311354029519, 'solver': 'newton-cg', 'max_iter': 235}. Best is trial 2 with value: 0.81476.\u001b[0m\n",
            "\u001b[32m[I 2022-10-10 00:27:16,356]\u001b[0m Trial 24 finished with value: 0.81472 and parameters: {'C': 1.5664700124438888, 'solver': 'newton-cg', 'max_iter': 240}. Best is trial 2 with value: 0.81476.\u001b[0m\n"
          ]
        },
        {
          "name": "stderr",
          "output_type": "stream",
          "text": [
            "/usr/local/lib/python3.7/dist-packages/sklearn/linear_model/_sag.py:354: ConvergenceWarning: The max_iter was reached which means the coef_ did not converge\n",
            "  ConvergenceWarning,\n",
            "/usr/local/lib/python3.7/dist-packages/sklearn/linear_model/_logistic.py:1526: UserWarning: 'n_jobs' > 1 does not have any effect when 'solver' is set to 'liblinear'. Got 'n_jobs' = 2.\n",
            "  \" = {}.\".format(effective_n_jobs(self.n_jobs))\n"
          ]
        },
        {
          "name": "stdout",
          "output_type": "stream",
          "text": [
            "\u001b[32m[I 2022-10-10 00:27:26,550]\u001b[0m Trial 26 finished with value: 0.77108 and parameters: {'C': 5.152439150046194, 'solver': 'saga', 'max_iter': 171, 'penalty': 'l1'}. Best is trial 2 with value: 0.81476.\u001b[0m\n"
          ]
        },
        {
          "name": "stderr",
          "output_type": "stream",
          "text": [
            "/usr/local/lib/python3.7/dist-packages/sklearn/linear_model/_sag.py:354: ConvergenceWarning: The max_iter was reached which means the coef_ did not converge\n",
            "  ConvergenceWarning,\n"
          ]
        },
        {
          "name": "stdout",
          "output_type": "stream",
          "text": [
            "\u001b[32m[I 2022-10-10 00:27:27,939]\u001b[0m Trial 27 finished with value: 0.77108 and parameters: {'C': 4.945212149658896, 'solver': 'saga', 'max_iter': 166, 'penalty': 'l1'}. Best is trial 2 with value: 0.81476.\u001b[0m\n"
          ]
        },
        {
          "name": "stderr",
          "output_type": "stream",
          "text": [
            "/usr/local/lib/python3.7/dist-packages/sklearn/linear_model/_logistic.py:1526: UserWarning: 'n_jobs' > 1 does not have any effect when 'solver' is set to 'liblinear'. Got 'n_jobs' = 2.\n",
            "  \" = {}.\".format(effective_n_jobs(self.n_jobs))\n"
          ]
        },
        {
          "name": "stdout",
          "output_type": "stream",
          "text": [
            "\u001b[32m[I 2022-10-10 00:27:32,349]\u001b[0m Trial 28 finished with value: 0.81468 and parameters: {'C': 7.568476495502415, 'solver': 'liblinear', 'max_iter': 362, 'penalty': 'l1'}. Best is trial 2 with value: 0.81476.\u001b[0m\n"
          ]
        },
        {
          "name": "stderr",
          "output_type": "stream",
          "text": [
            "/usr/local/lib/python3.7/dist-packages/sklearn/linear_model/_logistic.py:1526: UserWarning: 'n_jobs' > 1 does not have any effect when 'solver' is set to 'liblinear'. Got 'n_jobs' = 2.\n",
            "  \" = {}.\".format(effective_n_jobs(self.n_jobs))\n"
          ]
        },
        {
          "name": "stdout",
          "output_type": "stream",
          "text": [
            "\u001b[32m[I 2022-10-10 00:27:36,779]\u001b[0m Trial 29 finished with value: 0.81472 and parameters: {'C': 0.04100557710879915, 'solver': 'liblinear', 'max_iter': 366, 'penalty': 'l1'}. Best is trial 2 with value: 0.81476.\u001b[0m\n",
            "\u001b[32m[I 2022-10-10 00:27:39,908]\u001b[0m Trial 30 finished with value: 0.81472 and parameters: {'C': 0.9119289814205772, 'solver': 'liblinear', 'max_iter': 276, 'penalty': 'l1'}. Best is trial 2 with value: 0.81476.\u001b[0m\n",
            "\u001b[32m[I 2022-10-10 00:27:53,303]\u001b[0m Trial 31 finished with value: 0.81472 and parameters: {'C': 1.2073214166879298, 'solver': 'newton-cg', 'max_iter': 132}. Best is trial 2 with value: 0.81476.\u001b[0m\n",
            "\u001b[32m[I 2022-10-10 00:28:10,471]\u001b[0m Trial 32 finished with value: 0.81472 and parameters: {'C': 9.951888835414298, 'solver': 'newton-cg', 'max_iter': 375}. Best is trial 2 with value: 0.81476.\u001b[0m\n",
            "\u001b[32m[I 2022-10-10 00:28:14,973]\u001b[0m Trial 33 finished with value: 0.81476 and parameters: {'C': 8.997796859226076, 'solver': 'newton-cg', 'max_iter': 319}. Best is trial 2 with value: 0.81476.\u001b[0m\n",
            "\u001b[32m[I 2022-10-10 00:28:36,249]\u001b[0m Trial 35 finished with value: 0.81472 and parameters: {'C': 3.2018335887290434, 'solver': 'newton-cg', 'max_iter': 322}. Best is trial 2 with value: 0.81476.\u001b[0m\n",
            "\u001b[32m[I 2022-10-10 00:28:41,385]\u001b[0m Trial 34 finished with value: 0.81472 and parameters: {'C': 9.920322941766806, 'solver': 'newton-cg', 'max_iter': 371}. Best is trial 2 with value: 0.81476.\u001b[0m\n",
            "\u001b[32m[I 2022-10-10 00:29:06,854]\u001b[0m Trial 36 finished with value: 0.81472 and parameters: {'C': 8.431787028129134, 'solver': 'newton-cg', 'max_iter': 318}. Best is trial 2 with value: 0.81476.\u001b[0m\n",
            "\u001b[32m[I 2022-10-10 00:29:12,590]\u001b[0m Trial 37 finished with value: 0.81472 and parameters: {'C': 8.361273724204079, 'solver': 'newton-cg', 'max_iter': 317}. Best is trial 2 with value: 0.81476.\u001b[0m\n"
          ]
        },
        {
          "name": "stderr",
          "output_type": "stream",
          "text": [
            "/usr/local/lib/python3.7/dist-packages/sklearn/linear_model/_sag.py:354: ConvergenceWarning: The max_iter was reached which means the coef_ did not converge\n",
            "  ConvergenceWarning,\n"
          ]
        },
        {
          "name": "stdout",
          "output_type": "stream",
          "text": [
            "\u001b[32m[I 2022-10-10 00:29:33,337]\u001b[0m Trial 39 finished with value: 0.77108 and parameters: {'C': 2.1690415493698074, 'solver': 'saga', 'max_iter': 270, 'penalty': 'l1'}. Best is trial 2 with value: 0.81476.\u001b[0m\n"
          ]
        },
        {
          "name": "stderr",
          "output_type": "stream",
          "text": [
            "/usr/local/lib/python3.7/dist-packages/sklearn/linear_model/_logistic.py:1526: UserWarning: 'n_jobs' > 1 does not have any effect when 'solver' is set to 'liblinear'. Got 'n_jobs' = 2.\n",
            "  \" = {}.\".format(effective_n_jobs(self.n_jobs))\n"
          ]
        },
        {
          "name": "stdout",
          "output_type": "stream",
          "text": [
            "\u001b[32m[I 2022-10-10 00:29:35,372]\u001b[0m Trial 38 finished with value: 0.81472 and parameters: {'C': 2.1231268414927635, 'solver': 'newton-cg', 'max_iter': 260}. Best is trial 2 with value: 0.81476.\u001b[0m\n"
          ]
        },
        {
          "name": "stderr",
          "output_type": "stream",
          "text": [
            "/usr/local/lib/python3.7/dist-packages/sklearn/linear_model/_logistic.py:1526: UserWarning: 'n_jobs' > 1 does not have any effect when 'solver' is set to 'liblinear'. Got 'n_jobs' = 2.\n",
            "  \" = {}.\".format(effective_n_jobs(self.n_jobs))\n"
          ]
        },
        {
          "name": "stdout",
          "output_type": "stream",
          "text": [
            "\u001b[32m[I 2022-10-10 00:29:39,117]\u001b[0m Trial 41 finished with value: 0.81468 and parameters: {'C': 4.115915938915837, 'solver': 'liblinear', 'max_iter': 202, 'penalty': 'l1'}. Best is trial 2 with value: 0.81476.\u001b[0m\n",
            "\u001b[32m[I 2022-10-10 00:29:42,055]\u001b[0m Trial 40 finished with value: 0.81476 and parameters: {'C': 7.249053786703801, 'solver': 'liblinear', 'max_iter': 217, 'penalty': 'l1'}. Best is trial 2 with value: 0.81476.\u001b[0m\n"
          ]
        },
        {
          "name": "stderr",
          "output_type": "stream",
          "text": [
            "/usr/local/lib/python3.7/dist-packages/sklearn/linear_model/_logistic.py:1526: UserWarning: 'n_jobs' > 1 does not have any effect when 'solver' is set to 'liblinear'. Got 'n_jobs' = 2.\n",
            "  \" = {}.\".format(effective_n_jobs(self.n_jobs))\n"
          ]
        },
        {
          "name": "stdout",
          "output_type": "stream",
          "text": [
            "\u001b[32m[I 2022-10-10 00:29:45,078]\u001b[0m Trial 43 finished with value: 0.81468 and parameters: {'C': 7.103581030273172, 'solver': 'liblinear', 'max_iter': 217, 'penalty': 'l1'}. Best is trial 2 with value: 0.81476.\u001b[0m\n"
          ]
        },
        {
          "name": "stderr",
          "output_type": "stream",
          "text": [
            "/usr/local/lib/python3.7/dist-packages/sklearn/linear_model/_logistic.py:1526: UserWarning: 'n_jobs' > 1 does not have any effect when 'solver' is set to 'liblinear'. Got 'n_jobs' = 2.\n",
            "  \" = {}.\".format(effective_n_jobs(self.n_jobs))\n"
          ]
        },
        {
          "name": "stdout",
          "output_type": "stream",
          "text": [
            "\u001b[32m[I 2022-10-10 00:29:47,831]\u001b[0m Trial 44 finished with value: 0.81468 and parameters: {'C': 8.938884450124139, 'solver': 'liblinear', 'max_iter': 188, 'penalty': 'l1'}. Best is trial 2 with value: 0.81476.\u001b[0m\n"
          ]
        },
        {
          "name": "stderr",
          "output_type": "stream",
          "text": [
            "/usr/local/lib/python3.7/dist-packages/sklearn/linear_model/_logistic.py:1526: UserWarning: 'n_jobs' > 1 does not have any effect when 'solver' is set to 'liblinear'. Got 'n_jobs' = 2.\n",
            "  \" = {}.\".format(effective_n_jobs(self.n_jobs))\n"
          ]
        },
        {
          "name": "stdout",
          "output_type": "stream",
          "text": [
            "\u001b[32m[I 2022-10-10 00:29:56,175]\u001b[0m Trial 45 finished with value: 0.81476 and parameters: {'C': 5.88001642992878, 'solver': 'liblinear', 'max_iter': 147, 'penalty': 'l1'}. Best is trial 2 with value: 0.81476.\u001b[0m\n"
          ]
        },
        {
          "name": "stderr",
          "output_type": "stream",
          "text": [
            "/usr/local/lib/python3.7/dist-packages/sklearn/linear_model/_logistic.py:1526: UserWarning: 'n_jobs' > 1 does not have any effect when 'solver' is set to 'liblinear'. Got 'n_jobs' = 2.\n",
            "  \" = {}.\".format(effective_n_jobs(self.n_jobs))\n"
          ]
        },
        {
          "name": "stdout",
          "output_type": "stream",
          "text": [
            "\u001b[32m[I 2022-10-10 00:29:58,681]\u001b[0m Trial 46 finished with value: 0.81468 and parameters: {'C': 5.804420381530891, 'solver': 'liblinear', 'max_iter': 134, 'penalty': 'l1'}. Best is trial 2 with value: 0.81476.\u001b[0m\n"
          ]
        },
        {
          "name": "stderr",
          "output_type": "stream",
          "text": [
            "/usr/local/lib/python3.7/dist-packages/sklearn/linear_model/_logistic.py:1526: UserWarning: 'n_jobs' > 1 does not have any effect when 'solver' is set to 'liblinear'. Got 'n_jobs' = 2.\n",
            "  \" = {}.\".format(effective_n_jobs(self.n_jobs))\n"
          ]
        },
        {
          "name": "stdout",
          "output_type": "stream",
          "text": [
            "\u001b[32m[I 2022-10-10 00:30:04,337]\u001b[0m Trial 47 finished with value: 0.81468 and parameters: {'C': 6.436667399095503, 'solver': 'liblinear', 'max_iter': 148, 'penalty': 'l1'}. Best is trial 2 with value: 0.81476.\u001b[0m\n"
          ]
        },
        {
          "name": "stderr",
          "output_type": "stream",
          "text": [
            "/usr/local/lib/python3.7/dist-packages/sklearn/linear_model/_logistic.py:1526: UserWarning: 'n_jobs' > 1 does not have any effect when 'solver' is set to 'liblinear'. Got 'n_jobs' = 2.\n",
            "  \" = {}.\".format(effective_n_jobs(self.n_jobs))\n"
          ]
        },
        {
          "name": "stdout",
          "output_type": "stream",
          "text": [
            "\u001b[32m[I 2022-10-10 00:30:10,395]\u001b[0m Trial 48 finished with value: 0.81472 and parameters: {'C': 5.507416591511668, 'solver': 'liblinear', 'max_iter': 109, 'penalty': 'l1'}. Best is trial 2 with value: 0.81476.\u001b[0m\n",
            "\u001b[32m[I 2022-10-10 00:30:11,082]\u001b[0m Trial 42 finished with value: 0.81472 and parameters: {'C': 9.191990472681557, 'solver': 'newton-cg', 'max_iter': 345}. Best is trial 2 with value: 0.81476.\u001b[0m\n"
          ]
        },
        {
          "name": "stderr",
          "output_type": "stream",
          "text": [
            "/usr/local/lib/python3.7/dist-packages/sklearn/linear_model/_logistic.py:1526: UserWarning: 'n_jobs' > 1 does not have any effect when 'solver' is set to 'liblinear'. Got 'n_jobs' = 2.\n",
            "  \" = {}.\".format(effective_n_jobs(self.n_jobs))\n"
          ]
        },
        {
          "name": "stdout",
          "output_type": "stream",
          "text": [
            "\u001b[32m[I 2022-10-10 00:30:12,069]\u001b[0m Trial 49 finished with value: 0.78636 and parameters: {'C': 7.705522106500303, 'solver': 'lbfgs', 'max_iter': 192}. Best is trial 2 with value: 0.81476.\u001b[0m\n",
            "\u001b[32m[I 2022-10-10 00:30:19,131]\u001b[0m Trial 50 finished with value: 0.81476 and parameters: {'C': 4.640058628278824, 'solver': 'liblinear', 'max_iter': 181, 'penalty': 'l1'}. Best is trial 2 with value: 0.81476.\u001b[0m\n"
          ]
        },
        {
          "name": "stderr",
          "output_type": "stream",
          "text": [
            "/usr/local/lib/python3.7/dist-packages/sklearn/linear_model/_logistic.py:1526: UserWarning: 'n_jobs' > 1 does not have any effect when 'solver' is set to 'liblinear'. Got 'n_jobs' = 2.\n",
            "  \" = {}.\".format(effective_n_jobs(self.n_jobs))\n"
          ]
        },
        {
          "name": "stdout",
          "output_type": "stream",
          "text": [
            "\u001b[32m[I 2022-10-10 00:30:23,580]\u001b[0m Trial 52 finished with value: 0.81468 and parameters: {'C': 4.470940002801979, 'solver': 'liblinear', 'max_iter': 177, 'penalty': 'l1'}. Best is trial 2 with value: 0.81476.\u001b[0m\n"
          ]
        },
        {
          "name": "stderr",
          "output_type": "stream",
          "text": [
            "/usr/local/lib/python3.7/dist-packages/sklearn/linear_model/_logistic.py:1526: UserWarning: 'n_jobs' > 1 does not have any effect when 'solver' is set to 'liblinear'. Got 'n_jobs' = 2.\n",
            "  \" = {}.\".format(effective_n_jobs(self.n_jobs))\n"
          ]
        },
        {
          "name": "stdout",
          "output_type": "stream",
          "text": [
            "\u001b[32m[I 2022-10-10 00:30:26,609]\u001b[0m Trial 53 finished with value: 0.81468 and parameters: {'C': 6.802910518669966, 'solver': 'liblinear', 'max_iter': 148, 'penalty': 'l1'}. Best is trial 2 with value: 0.81476.\u001b[0m\n",
            "\u001b[32m[I 2022-10-10 00:30:35,285]\u001b[0m Trial 51 finished with value: 0.81472 and parameters: {'C': 4.474617608589228, 'solver': 'newton-cg', 'max_iter': 178}. Best is trial 2 with value: 0.81476.\u001b[0m\n"
          ]
        },
        {
          "name": "stderr",
          "output_type": "stream",
          "text": [
            "/usr/local/lib/python3.7/dist-packages/sklearn/linear_model/_logistic.py:1526: UserWarning: 'n_jobs' > 1 does not have any effect when 'solver' is set to 'liblinear'. Got 'n_jobs' = 2.\n",
            "  \" = {}.\".format(effective_n_jobs(self.n_jobs))\n"
          ]
        },
        {
          "name": "stdout",
          "output_type": "stream",
          "text": [
            "\u001b[32m[I 2022-10-10 00:30:36,993]\u001b[0m Trial 55 finished with value: 0.81468 and parameters: {'C': 7.236976652659594, 'solver': 'liblinear', 'max_iter': 222, 'penalty': 'l1'}. Best is trial 2 with value: 0.81476.\u001b[0m\n"
          ]
        },
        {
          "name": "stderr",
          "output_type": "stream",
          "text": [
            "/usr/local/lib/python3.7/dist-packages/sklearn/linear_model/_logistic.py:1526: UserWarning: 'n_jobs' > 1 does not have any effect when 'solver' is set to 'liblinear'. Got 'n_jobs' = 2.\n",
            "  \" = {}.\".format(effective_n_jobs(self.n_jobs))\n",
            "/usr/local/lib/python3.7/dist-packages/sklearn/linear_model/_sag.py:354: ConvergenceWarning: The max_iter was reached which means the coef_ did not converge\n",
            "  ConvergenceWarning,\n"
          ]
        },
        {
          "name": "stdout",
          "output_type": "stream",
          "text": [
            "\u001b[32m[I 2022-10-10 00:30:43,662]\u001b[0m Trial 54 finished with value: 0.77108 and parameters: {'C': 5.89572048135093, 'solver': 'sag', 'max_iter': 290}. Best is trial 2 with value: 0.81476.\u001b[0m\n"
          ]
        },
        {
          "name": "stderr",
          "output_type": "stream",
          "text": [
            "/usr/local/lib/python3.7/dist-packages/sklearn/linear_model/_logistic.py:1526: UserWarning: 'n_jobs' > 1 does not have any effect when 'solver' is set to 'liblinear'. Got 'n_jobs' = 2.\n",
            "  \" = {}.\".format(effective_n_jobs(self.n_jobs))\n"
          ]
        },
        {
          "name": "stdout",
          "output_type": "stream",
          "text": [
            "\u001b[32m[I 2022-10-10 00:30:45,314]\u001b[0m Trial 56 finished with value: 0.81476 and parameters: {'C': 3.5534378479104007, 'solver': 'liblinear', 'max_iter': 117, 'penalty': 'l1'}. Best is trial 2 with value: 0.81476.\u001b[0m\n"
          ]
        },
        {
          "name": "stderr",
          "output_type": "stream",
          "text": [
            "/usr/local/lib/python3.7/dist-packages/sklearn/linear_model/_logistic.py:1526: UserWarning: 'n_jobs' > 1 does not have any effect when 'solver' is set to 'liblinear'. Got 'n_jobs' = 2.\n",
            "  \" = {}.\".format(effective_n_jobs(self.n_jobs))\n"
          ]
        },
        {
          "name": "stdout",
          "output_type": "stream",
          "text": [
            "\u001b[32m[I 2022-10-10 00:30:48,324]\u001b[0m Trial 58 finished with value: 0.81468 and parameters: {'C': 3.693837869340827, 'solver': 'liblinear', 'max_iter': 113, 'penalty': 'l1'}. Best is trial 2 with value: 0.81476.\u001b[0m\n",
            "\u001b[32m[I 2022-10-10 00:30:50,037]\u001b[0m Trial 59 finished with value: 0.78636 and parameters: {'C': 5.507154111938513, 'solver': 'lbfgs', 'max_iter': 120}. Best is trial 2 with value: 0.81476.\u001b[0m\n"
          ]
        },
        {
          "name": "stderr",
          "output_type": "stream",
          "text": [
            "/usr/local/lib/python3.7/dist-packages/sklearn/linear_model/_logistic.py:1526: UserWarning: 'n_jobs' > 1 does not have any effect when 'solver' is set to 'liblinear'. Got 'n_jobs' = 2.\n",
            "  \" = {}.\".format(effective_n_jobs(self.n_jobs))\n"
          ]
        },
        {
          "name": "stdout",
          "output_type": "stream",
          "text": [
            "\u001b[32m[I 2022-10-10 00:30:50,268]\u001b[0m Trial 57 finished with value: 0.81476 and parameters: {'C': 3.314730947504529, 'solver': 'liblinear', 'max_iter': 211, 'penalty': 'l1'}. Best is trial 2 with value: 0.81476.\u001b[0m\n"
          ]
        },
        {
          "name": "stderr",
          "output_type": "stream",
          "text": [
            "/usr/local/lib/python3.7/dist-packages/sklearn/linear_model/_logistic.py:1526: UserWarning: 'n_jobs' > 1 does not have any effect when 'solver' is set to 'liblinear'. Got 'n_jobs' = 2.\n",
            "  \" = {}.\".format(effective_n_jobs(self.n_jobs))\n"
          ]
        },
        {
          "name": "stdout",
          "output_type": "stream",
          "text": [
            "\u001b[32m[I 2022-10-10 00:30:54,064]\u001b[0m Trial 61 finished with value: 0.81468 and parameters: {'C': 3.145864588190982, 'solver': 'liblinear', 'max_iter': 295, 'penalty': 'l1'}. Best is trial 2 with value: 0.81476.\u001b[0m\n"
          ]
        },
        {
          "name": "stderr",
          "output_type": "stream",
          "text": [
            "/usr/local/lib/python3.7/dist-packages/sklearn/linear_model/_logistic.py:1526: UserWarning: 'n_jobs' > 1 does not have any effect when 'solver' is set to 'liblinear'. Got 'n_jobs' = 2.\n",
            "  \" = {}.\".format(effective_n_jobs(self.n_jobs))\n"
          ]
        },
        {
          "name": "stdout",
          "output_type": "stream",
          "text": [
            "\u001b[32m[I 2022-10-10 00:30:57,639]\u001b[0m Trial 60 finished with value: 0.81476 and parameters: {'C': 8.052077306119532, 'solver': 'liblinear', 'max_iter': 101, 'penalty': 'l1'}. Best is trial 2 with value: 0.81476.\u001b[0m\n"
          ]
        },
        {
          "name": "stderr",
          "output_type": "stream",
          "text": [
            "/usr/local/lib/python3.7/dist-packages/sklearn/svm/_base.py:1208: ConvergenceWarning: Liblinear failed to converge, increase the number of iterations.\n",
            "  ConvergenceWarning,\n"
          ]
        },
        {
          "name": "stdout",
          "output_type": "stream",
          "text": [
            "\u001b[32m[I 2022-10-10 00:31:01,555]\u001b[0m Trial 62 finished with value: 0.77448 and parameters: {'C': 0.5308563987969077, 'solver': 'liblinear', 'max_iter': 158, 'penalty': 'l2'}. Best is trial 2 with value: 0.81476.\u001b[0m\n"
          ]
        },
        {
          "name": "stderr",
          "output_type": "stream",
          "text": [
            "/usr/local/lib/python3.7/dist-packages/sklearn/linear_model/_sag.py:354: ConvergenceWarning: The max_iter was reached which means the coef_ did not converge\n",
            "  ConvergenceWarning,\n"
          ]
        },
        {
          "name": "stdout",
          "output_type": "stream",
          "text": [
            "\u001b[32m[I 2022-10-10 00:31:11,593]\u001b[0m Trial 64 finished with value: 0.77108 and parameters: {'C': 2.6888438792778673, 'solver': 'saga', 'max_iter': 128, 'penalty': 'l1'}. Best is trial 2 with value: 0.81476.\u001b[0m\n",
            "\u001b[32m[I 2022-10-10 00:31:18,493]\u001b[0m Trial 63 finished with value: 0.81476 and parameters: {'C': 8.050050357141847, 'solver': 'newton-cg', 'max_iter': 227}. Best is trial 2 with value: 0.81476.\u001b[0m\n",
            "\u001b[32m[I 2022-10-10 00:31:22,893]\u001b[0m Trial 65 finished with value: 0.81476 and parameters: {'C': 9.528280684894899, 'solver': 'newton-cg', 'max_iter': 100}. Best is trial 2 with value: 0.81476.\u001b[0m\n"
          ]
        },
        {
          "name": "stderr",
          "output_type": "stream",
          "text": [
            "/usr/local/lib/python3.7/dist-packages/sklearn/linear_model/_sag.py:354: ConvergenceWarning: The max_iter was reached which means the coef_ did not converge\n",
            "  ConvergenceWarning,\n"
          ]
        },
        {
          "name": "stdout",
          "output_type": "stream",
          "text": [
            "\u001b[32m[I 2022-10-10 00:31:24,627]\u001b[0m Trial 66 finished with value: 0.77108 and parameters: {'C': 8.836156918037355, 'solver': 'sag', 'max_iter': 102}. Best is trial 2 with value: 0.81476.\u001b[0m\n"
          ]
        },
        {
          "name": "stderr",
          "output_type": "stream",
          "text": [
            "/usr/local/lib/python3.7/dist-packages/sklearn/linear_model/_logistic.py:1526: UserWarning: 'n_jobs' > 1 does not have any effect when 'solver' is set to 'liblinear'. Got 'n_jobs' = 2.\n",
            "  \" = {}.\".format(effective_n_jobs(self.n_jobs))\n",
            "/usr/local/lib/python3.7/dist-packages/sklearn/svm/_base.py:1208: ConvergenceWarning: Liblinear failed to converge, increase the number of iterations.\n",
            "  ConvergenceWarning,\n",
            "/usr/local/lib/python3.7/dist-packages/sklearn/linear_model/_logistic.py:1526: UserWarning: 'n_jobs' > 1 does not have any effect when 'solver' is set to 'liblinear'. Got 'n_jobs' = 2.\n",
            "  \" = {}.\".format(effective_n_jobs(self.n_jobs))\n"
          ]
        },
        {
          "name": "stdout",
          "output_type": "stream",
          "text": [
            "\u001b[32m[I 2022-10-10 00:31:31,215]\u001b[0m Trial 68 finished with value: 0.68588 and parameters: {'C': 9.47199561885339, 'solver': 'liblinear', 'max_iter': 146, 'penalty': 'l2'}. Best is trial 2 with value: 0.81476.\u001b[0m\n",
            "\u001b[32m[I 2022-10-10 00:31:36,900]\u001b[0m Trial 69 finished with value: 0.81472 and parameters: {'C': 8.079124467877065, 'solver': 'liblinear', 'max_iter': 231, 'penalty': 'l1'}. Best is trial 2 with value: 0.81476.\u001b[0m\n"
          ]
        },
        {
          "name": "stderr",
          "output_type": "stream",
          "text": [
            "/usr/local/lib/python3.7/dist-packages/sklearn/linear_model/_logistic.py:1526: UserWarning: 'n_jobs' > 1 does not have any effect when 'solver' is set to 'liblinear'. Got 'n_jobs' = 2.\n",
            "  \" = {}.\".format(effective_n_jobs(self.n_jobs))\n"
          ]
        },
        {
          "name": "stdout",
          "output_type": "stream",
          "text": [
            "\u001b[32m[I 2022-10-10 00:31:41,856]\u001b[0m Trial 67 finished with value: 0.81472 and parameters: {'C': 8.935023471936416, 'solver': 'newton-cg', 'max_iter': 144}. Best is trial 2 with value: 0.81476.\u001b[0m\n",
            "\u001b[32m[I 2022-10-10 00:31:44,889]\u001b[0m Trial 70 finished with value: 0.81476 and parameters: {'C': 7.402314911119065, 'solver': 'liblinear', 'max_iter': 115, 'penalty': 'l1'}. Best is trial 2 with value: 0.81476.\u001b[0m\n"
          ]
        },
        {
          "name": "stderr",
          "output_type": "stream",
          "text": [
            "/usr/local/lib/python3.7/dist-packages/sklearn/linear_model/_logistic.py:1526: UserWarning: 'n_jobs' > 1 does not have any effect when 'solver' is set to 'liblinear'. Got 'n_jobs' = 2.\n",
            "  \" = {}.\".format(effective_n_jobs(self.n_jobs))\n"
          ]
        },
        {
          "name": "stdout",
          "output_type": "stream",
          "text": [
            "\u001b[32m[I 2022-10-10 00:31:53,378]\u001b[0m Trial 72 finished with value: 0.81476 and parameters: {'C': 7.311338461802861, 'solver': 'liblinear', 'max_iter': 120, 'penalty': 'l1'}. Best is trial 2 with value: 0.81476.\u001b[0m\n"
          ]
        },
        {
          "name": "stderr",
          "output_type": "stream",
          "text": [
            "/usr/local/lib/python3.7/dist-packages/sklearn/linear_model/_logistic.py:1526: UserWarning: 'n_jobs' > 1 does not have any effect when 'solver' is set to 'liblinear'. Got 'n_jobs' = 2.\n",
            "  \" = {}.\".format(effective_n_jobs(self.n_jobs))\n"
          ]
        },
        {
          "name": "stdout",
          "output_type": "stream",
          "text": [
            "\u001b[32m[I 2022-10-10 00:32:02,398]\u001b[0m Trial 71 finished with value: 0.81472 and parameters: {'C': 9.482260602948253, 'solver': 'newton-cg', 'max_iter': 256}. Best is trial 2 with value: 0.81476.\u001b[0m\n",
            "\u001b[32m[I 2022-10-10 00:32:02,505]\u001b[0m Trial 73 finished with value: 0.81476 and parameters: {'C': 4.754402912074714, 'solver': 'liblinear', 'max_iter': 119, 'penalty': 'l1'}. Best is trial 2 with value: 0.81476.\u001b[0m\n"
          ]
        },
        {
          "name": "stderr",
          "output_type": "stream",
          "text": [
            "/usr/local/lib/python3.7/dist-packages/sklearn/linear_model/_logistic.py:1526: UserWarning: 'n_jobs' > 1 does not have any effect when 'solver' is set to 'liblinear'. Got 'n_jobs' = 2.\n",
            "  \" = {}.\".format(effective_n_jobs(self.n_jobs))\n"
          ]
        },
        {
          "name": "stdout",
          "output_type": "stream",
          "text": [
            "\u001b[32m[I 2022-10-10 00:32:04,211]\u001b[0m Trial 75 finished with value: 0.78636 and parameters: {'C': 6.547606917854336, 'solver': 'lbfgs', 'max_iter': 164}. Best is trial 2 with value: 0.81476.\u001b[0m\n",
            "\u001b[32m[I 2022-10-10 00:32:04,909]\u001b[0m Trial 74 finished with value: 0.81468 and parameters: {'C': 4.763119152523827, 'solver': 'liblinear', 'max_iter': 212, 'penalty': 'l1'}. Best is trial 2 with value: 0.81476.\u001b[0m\n"
          ]
        },
        {
          "name": "stderr",
          "output_type": "stream",
          "text": [
            "/usr/local/lib/python3.7/dist-packages/sklearn/linear_model/_sag.py:354: ConvergenceWarning: The max_iter was reached which means the coef_ did not converge\n",
            "  ConvergenceWarning,\n"
          ]
        },
        {
          "name": "stdout",
          "output_type": "stream",
          "text": [
            "\u001b[32m[I 2022-10-10 00:32:17,319]\u001b[0m Trial 77 finished with value: 0.77108 and parameters: {'C': 1.7146981244954183, 'solver': 'saga', 'max_iter': 196, 'penalty': 'l2'}. Best is trial 2 with value: 0.81476.\u001b[0m\n",
            "\u001b[32m[I 2022-10-10 00:32:29,136]\u001b[0m Trial 76 finished with value: 0.81472 and parameters: {'C': 1.4357935451827901, 'solver': 'newton-cg', 'max_iter': 199}. Best is trial 2 with value: 0.81476.\u001b[0m\n",
            "\u001b[32m[I 2022-10-10 00:32:39,118]\u001b[0m Trial 78 finished with value: 0.81476 and parameters: {'C': 8.148376992434297, 'solver': 'newton-cg', 'max_iter': 226}. Best is trial 2 with value: 0.81476.\u001b[0m\n"
          ]
        },
        {
          "name": "stderr",
          "output_type": "stream",
          "text": [
            "/usr/local/lib/python3.7/dist-packages/sklearn/linear_model/_logistic.py:1526: UserWarning: 'n_jobs' > 1 does not have any effect when 'solver' is set to 'liblinear'. Got 'n_jobs' = 2.\n",
            "  \" = {}.\".format(effective_n_jobs(self.n_jobs))\n"
          ]
        },
        {
          "name": "stdout",
          "output_type": "stream",
          "text": [
            "\u001b[32m[I 2022-10-10 00:32:42,725]\u001b[0m Trial 80 finished with value: 0.81468 and parameters: {'C': 8.097185930576627, 'solver': 'liblinear', 'max_iter': 207, 'penalty': 'l1'}. Best is trial 2 with value: 0.81476.\u001b[0m\n",
            "\u001b[32m[I 2022-10-10 00:32:46,021]\u001b[0m Trial 79 finished with value: 0.81472 and parameters: {'C': 8.027867819382797, 'solver': 'newton-cg', 'max_iter': 137}. Best is trial 2 with value: 0.81476.\u001b[0m\n",
            "\u001b[32m[I 2022-10-10 00:32:58,226]\u001b[0m Trial 82 finished with value: 0.81472 and parameters: {'C': 9.57465410655362, 'solver': 'newton-cg', 'max_iter': 104}. Best is trial 2 with value: 0.81476.\u001b[0m\n",
            "\u001b[32m[I 2022-10-10 00:32:59,498]\u001b[0m Trial 81 finished with value: 0.81472 and parameters: {'C': 7.3029835326110994, 'solver': 'newton-cg', 'max_iter': 138}. Best is trial 2 with value: 0.81476.\u001b[0m\n",
            "\u001b[32m[I 2022-10-10 00:33:13,881]\u001b[0m Trial 84 finished with value: 0.81472 and parameters: {'C': 7.500974497562263, 'solver': 'newton-cg', 'max_iter': 119}. Best is trial 2 with value: 0.81476.\u001b[0m\n",
            "\u001b[32m[I 2022-10-10 00:33:21,742]\u001b[0m Trial 83 finished with value: 0.81472 and parameters: {'C': 8.625720722093742, 'solver': 'newton-cg', 'max_iter': 181}. Best is trial 2 with value: 0.81476.\u001b[0m\n"
          ]
        },
        {
          "name": "stderr",
          "output_type": "stream",
          "text": [
            "/usr/local/lib/python3.7/dist-packages/sklearn/linear_model/_logistic.py:1526: UserWarning: 'n_jobs' > 1 does not have any effect when 'solver' is set to 'liblinear'. Got 'n_jobs' = 2.\n",
            "  \" = {}.\".format(effective_n_jobs(self.n_jobs))\n"
          ]
        },
        {
          "name": "stdout",
          "output_type": "stream",
          "text": [
            "\u001b[32m[I 2022-10-10 00:33:25,951]\u001b[0m Trial 86 finished with value: 0.81468 and parameters: {'C': 3.0574774756675387, 'solver': 'liblinear', 'max_iter': 248, 'penalty': 'l1'}. Best is trial 2 with value: 0.81476.\u001b[0m\n",
            "\u001b[32m[I 2022-10-10 00:33:29,708]\u001b[0m Trial 85 finished with value: 0.81472 and parameters: {'C': 8.536002887739985, 'solver': 'newton-cg', 'max_iter': 127}. Best is trial 2 with value: 0.81476.\u001b[0m\n"
          ]
        },
        {
          "name": "stderr",
          "output_type": "stream",
          "text": [
            "/usr/local/lib/python3.7/dist-packages/sklearn/linear_model/_logistic.py:1526: UserWarning: 'n_jobs' > 1 does not have any effect when 'solver' is set to 'liblinear'. Got 'n_jobs' = 2.\n",
            "  \" = {}.\".format(effective_n_jobs(self.n_jobs))\n"
          ]
        },
        {
          "name": "stdout",
          "output_type": "stream",
          "text": [
            "\u001b[32m[I 2022-10-10 00:33:37,986]\u001b[0m Trial 88 finished with value: 0.81476 and parameters: {'C': 9.262277474397065, 'solver': 'liblinear', 'max_iter': 114, 'penalty': 'l1'}. Best is trial 2 with value: 0.81476.\u001b[0m\n",
            "\u001b[32m[I 2022-10-10 00:33:50,903]\u001b[0m Trial 87 finished with value: 0.81472 and parameters: {'C': 9.225676498386976, 'solver': 'newton-cg', 'max_iter': 282}. Best is trial 2 with value: 0.81476.\u001b[0m\n",
            "\u001b[32m[I 2022-10-10 00:33:50,966]\u001b[0m Trial 89 finished with value: 0.81472 and parameters: {'C': 9.333670528590442, 'solver': 'newton-cg', 'max_iter': 112}. Best is trial 2 with value: 0.81476.\u001b[0m\n"
          ]
        },
        {
          "name": "stderr",
          "output_type": "stream",
          "text": [
            "/usr/local/lib/python3.7/dist-packages/sklearn/linear_model/_logistic.py:1526: UserWarning: 'n_jobs' > 1 does not have any effect when 'solver' is set to 'liblinear'. Got 'n_jobs' = 2.\n",
            "  \" = {}.\".format(effective_n_jobs(self.n_jobs))\n",
            "/usr/local/lib/python3.7/dist-packages/sklearn/linear_model/_logistic.py:1526: UserWarning: 'n_jobs' > 1 does not have any effect when 'solver' is set to 'liblinear'. Got 'n_jobs' = 2.\n",
            "  \" = {}.\".format(effective_n_jobs(self.n_jobs))\n"
          ]
        },
        {
          "name": "stdout",
          "output_type": "stream",
          "text": [
            "\u001b[32m[I 2022-10-10 00:33:58,659]\u001b[0m Trial 91 finished with value: 0.81476 and parameters: {'C': 6.865821458171563, 'solver': 'liblinear', 'max_iter': 101, 'penalty': 'l1'}. Best is trial 2 with value: 0.81476.\u001b[0m\n"
          ]
        },
        {
          "name": "stderr",
          "output_type": "stream",
          "text": [
            "/usr/local/lib/python3.7/dist-packages/sklearn/linear_model/_logistic.py:1526: UserWarning: 'n_jobs' > 1 does not have any effect when 'solver' is set to 'liblinear'. Got 'n_jobs' = 2.\n",
            "  \" = {}.\".format(effective_n_jobs(self.n_jobs))\n"
          ]
        },
        {
          "name": "stdout",
          "output_type": "stream",
          "text": [
            "\u001b[32m[I 2022-10-10 00:34:00,614]\u001b[0m Trial 90 finished with value: 0.81476 and parameters: {'C': 6.8980379635257965, 'solver': 'liblinear', 'max_iter': 126, 'penalty': 'l1'}. Best is trial 2 with value: 0.81476.\u001b[0m\n"
          ]
        },
        {
          "name": "stderr",
          "output_type": "stream",
          "text": [
            "/usr/local/lib/python3.7/dist-packages/sklearn/linear_model/_logistic.py:1526: UserWarning: 'n_jobs' > 1 does not have any effect when 'solver' is set to 'liblinear'. Got 'n_jobs' = 2.\n",
            "  \" = {}.\".format(effective_n_jobs(self.n_jobs))\n"
          ]
        },
        {
          "name": "stdout",
          "output_type": "stream",
          "text": [
            "\u001b[32m[I 2022-10-10 00:34:02,001]\u001b[0m Trial 92 finished with value: 0.81468 and parameters: {'C': 7.7737362978436675, 'solver': 'liblinear', 'max_iter': 124, 'penalty': 'l1'}. Best is trial 2 with value: 0.81476.\u001b[0m\n"
          ]
        },
        {
          "name": "stderr",
          "output_type": "stream",
          "text": [
            "/usr/local/lib/python3.7/dist-packages/sklearn/linear_model/_logistic.py:1526: UserWarning: 'n_jobs' > 1 does not have any effect when 'solver' is set to 'liblinear'. Got 'n_jobs' = 2.\n",
            "  \" = {}.\".format(effective_n_jobs(self.n_jobs))\n",
            "/usr/local/lib/python3.7/dist-packages/sklearn/linear_model/_logistic.py:1526: UserWarning: 'n_jobs' > 1 does not have any effect when 'solver' is set to 'liblinear'. Got 'n_jobs' = 2.\n",
            "  \" = {}.\".format(effective_n_jobs(self.n_jobs))\n"
          ]
        },
        {
          "name": "stdout",
          "output_type": "stream",
          "text": [
            "\u001b[32m[I 2022-10-10 00:34:05,183]\u001b[0m Trial 93 finished with value: 0.81468 and parameters: {'C': 3.7455662653929003, 'solver': 'liblinear', 'max_iter': 156, 'penalty': 'l1'}. Best is trial 2 with value: 0.81476.\u001b[0m\n",
            "\u001b[32m[I 2022-10-10 00:34:05,379]\u001b[0m Trial 94 finished with value: 0.81468 and parameters: {'C': 6.11437976360504, 'solver': 'liblinear', 'max_iter': 118, 'penalty': 'l1'}. Best is trial 2 with value: 0.81476.\u001b[0m\n",
            "\u001b[32m[I 2022-10-10 00:34:11,494]\u001b[0m Trial 95 finished with value: 0.81476 and parameters: {'C': 5.4171681045096385, 'solver': 'liblinear', 'max_iter': 239, 'penalty': 'l1'}. Best is trial 2 with value: 0.81476.\u001b[0m\n"
          ]
        },
        {
          "name": "stderr",
          "output_type": "stream",
          "text": [
            "/usr/local/lib/python3.7/dist-packages/sklearn/linear_model/_logistic.py:1526: UserWarning: 'n_jobs' > 1 does not have any effect when 'solver' is set to 'liblinear'. Got 'n_jobs' = 2.\n",
            "  \" = {}.\".format(effective_n_jobs(self.n_jobs))\n"
          ]
        },
        {
          "name": "stdout",
          "output_type": "stream",
          "text": [
            "\u001b[32m[I 2022-10-10 00:34:17,806]\u001b[0m Trial 97 finished with value: 0.81476 and parameters: {'C': 5.4268874582212225, 'solver': 'liblinear', 'max_iter': 236, 'penalty': 'l1'}. Best is trial 2 with value: 0.81476.\u001b[0m\n"
          ]
        },
        {
          "name": "stderr",
          "output_type": "stream",
          "text": [
            "/usr/local/lib/python3.7/dist-packages/sklearn/linear_model/_sag.py:354: ConvergenceWarning: The max_iter was reached which means the coef_ did not converge\n",
            "  ConvergenceWarning,\n"
          ]
        },
        {
          "name": "stdout",
          "output_type": "stream",
          "text": [
            "\u001b[32m[I 2022-10-10 00:34:19,329]\u001b[0m Trial 96 finished with value: 0.77108 and parameters: {'C': 0.2816338392077377, 'solver': 'sag', 'max_iter': 217}. Best is trial 2 with value: 0.81476.\u001b[0m\n"
          ]
        },
        {
          "name": "stderr",
          "output_type": "stream",
          "text": [
            "/usr/local/lib/python3.7/dist-packages/sklearn/linear_model/_logistic.py:1526: UserWarning: 'n_jobs' > 1 does not have any effect when 'solver' is set to 'liblinear'. Got 'n_jobs' = 2.\n",
            "  \" = {}.\".format(effective_n_jobs(self.n_jobs))\n",
            "/usr/local/lib/python3.7/dist-packages/sklearn/svm/_base.py:1208: ConvergenceWarning: Liblinear failed to converge, increase the number of iterations.\n",
            "  ConvergenceWarning,\n",
            "/usr/local/lib/python3.7/dist-packages/sklearn/linear_model/_logistic.py:1526: UserWarning: 'n_jobs' > 1 does not have any effect when 'solver' is set to 'liblinear'. Got 'n_jobs' = 2.\n",
            "  \" = {}.\".format(effective_n_jobs(self.n_jobs))\n"
          ]
        },
        {
          "name": "stdout",
          "output_type": "stream",
          "text": [
            "\u001b[32m[I 2022-10-10 00:34:29,668]\u001b[0m Trial 99 finished with value: 0.24132 and parameters: {'C': 3.2932015980545595, 'solver': 'liblinear', 'max_iter': 266, 'penalty': 'l2'}. Best is trial 2 with value: 0.81476.\u001b[0m\n"
          ]
        },
        {
          "name": "stderr",
          "output_type": "stream",
          "text": [
            "/usr/local/lib/python3.7/dist-packages/sklearn/linear_model/_sag.py:354: ConvergenceWarning: The max_iter was reached which means the coef_ did not converge\n",
            "  ConvergenceWarning,\n"
          ]
        },
        {
          "name": "stdout",
          "output_type": "stream",
          "text": [
            "\u001b[32m[I 2022-10-10 00:34:31,255]\u001b[0m Trial 98 finished with value: 0.77108 and parameters: {'C': 8.29588623317113, 'solver': 'sag', 'max_iter': 228}. Best is trial 2 with value: 0.81476.\u001b[0m\n"
          ]
        },
        {
          "name": "stderr",
          "output_type": "stream",
          "text": [
            "/usr/local/lib/python3.7/dist-packages/sklearn/linear_model/_logistic.py:1526: UserWarning: 'n_jobs' > 1 does not have any effect when 'solver' is set to 'liblinear'. Got 'n_jobs' = 2.\n",
            "  \" = {}.\".format(effective_n_jobs(self.n_jobs))\n"
          ]
        },
        {
          "name": "stdout",
          "output_type": "stream",
          "text": [
            "\u001b[32m[I 2022-10-10 00:34:33,338]\u001b[0m Trial 100 finished with value: 0.81468 and parameters: {'C': 5.318510066187333, 'solver': 'liblinear', 'max_iter': 238, 'penalty': 'l1'}. Best is trial 2 with value: 0.81476.\u001b[0m\n"
          ]
        },
        {
          "name": "stderr",
          "output_type": "stream",
          "text": [
            "/usr/local/lib/python3.7/dist-packages/sklearn/linear_model/_logistic.py:1526: UserWarning: 'n_jobs' > 1 does not have any effect when 'solver' is set to 'liblinear'. Got 'n_jobs' = 2.\n",
            "  \" = {}.\".format(effective_n_jobs(self.n_jobs))\n"
          ]
        },
        {
          "name": "stdout",
          "output_type": "stream",
          "text": [
            "\u001b[32m[I 2022-10-10 00:34:38,402]\u001b[0m Trial 101 finished with value: 0.81472 and parameters: {'C': 4.200338822935041, 'solver': 'liblinear', 'max_iter': 206, 'penalty': 'l1'}. Best is trial 2 with value: 0.81476.\u001b[0m\n",
            "\u001b[32m[I 2022-10-10 00:34:40,171]\u001b[0m Trial 103 finished with value: 0.78636 and parameters: {'C': 9.730224054449254, 'solver': 'lbfgs', 'max_iter': 169}. Best is trial 2 with value: 0.81476.\u001b[0m\n"
          ]
        },
        {
          "name": "stderr",
          "output_type": "stream",
          "text": [
            "/usr/local/lib/python3.7/dist-packages/sklearn/linear_model/_logistic.py:1526: UserWarning: 'n_jobs' > 1 does not have any effect when 'solver' is set to 'liblinear'. Got 'n_jobs' = 2.\n",
            "  \" = {}.\".format(effective_n_jobs(self.n_jobs))\n"
          ]
        },
        {
          "name": "stdout",
          "output_type": "stream",
          "text": [
            "\u001b[32m[I 2022-10-10 00:34:43,272]\u001b[0m Trial 102 finished with value: 0.81476 and parameters: {'C': 4.1516943140715545, 'solver': 'liblinear', 'max_iter': 108, 'penalty': 'l1'}. Best is trial 2 with value: 0.81476.\u001b[0m\n"
          ]
        },
        {
          "name": "stderr",
          "output_type": "stream",
          "text": [
            "/usr/local/lib/python3.7/dist-packages/sklearn/linear_model/_logistic.py:1526: UserWarning: 'n_jobs' > 1 does not have any effect when 'solver' is set to 'liblinear'. Got 'n_jobs' = 2.\n",
            "  \" = {}.\".format(effective_n_jobs(self.n_jobs))\n"
          ]
        },
        {
          "name": "stdout",
          "output_type": "stream",
          "text": [
            "\u001b[32m[I 2022-10-10 00:34:50,227]\u001b[0m Trial 105 finished with value: 0.81472 and parameters: {'C': 6.7154656397707555, 'solver': 'liblinear', 'max_iter': 139, 'penalty': 'l1'}. Best is trial 2 with value: 0.81476.\u001b[0m\n",
            "\u001b[32m[I 2022-10-10 00:34:57,165]\u001b[0m Trial 104 finished with value: 0.81472 and parameters: {'C': 6.916977992578271, 'solver': 'liblinear', 'max_iter': 108, 'penalty': 'l1'}. Best is trial 2 with value: 0.81476.\u001b[0m\n",
            "\u001b[32m[I 2022-10-10 00:35:01,730]\u001b[0m Trial 106 finished with value: 0.81472 and parameters: {'C': 7.054736065919666, 'solver': 'newton-cg', 'max_iter': 100}. Best is trial 2 with value: 0.81476.\u001b[0m\n"
          ]
        },
        {
          "name": "stderr",
          "output_type": "stream",
          "text": [
            "/usr/local/lib/python3.7/dist-packages/sklearn/linear_model/_sag.py:354: ConvergenceWarning: The max_iter was reached which means the coef_ did not converge\n",
            "  ConvergenceWarning,\n"
          ]
        },
        {
          "name": "stdout",
          "output_type": "stream",
          "text": [
            "\u001b[32m[I 2022-10-10 00:35:08,094]\u001b[0m Trial 107 finished with value: 0.77108 and parameters: {'C': 6.100458885651181, 'solver': 'saga', 'max_iter': 152, 'penalty': 'l1'}. Best is trial 2 with value: 0.81476.\u001b[0m\n"
          ]
        },
        {
          "name": "stderr",
          "output_type": "stream",
          "text": [
            "/usr/local/lib/python3.7/dist-packages/sklearn/linear_model/_logistic.py:1526: UserWarning: 'n_jobs' > 1 does not have any effect when 'solver' is set to 'liblinear'. Got 'n_jobs' = 2.\n",
            "  \" = {}.\".format(effective_n_jobs(self.n_jobs))\n",
            "/usr/local/lib/python3.7/dist-packages/sklearn/linear_model/_sag.py:354: ConvergenceWarning: The max_iter was reached which means the coef_ did not converge\n",
            "  ConvergenceWarning,\n"
          ]
        },
        {
          "name": "stdout",
          "output_type": "stream",
          "text": [
            "\u001b[32m[I 2022-10-10 00:35:19,895]\u001b[0m Trial 108 finished with value: 0.77108 and parameters: {'C': 0.759745109867801, 'solver': 'saga', 'max_iter': 245, 'penalty': 'l1'}. Best is trial 2 with value: 0.81476.\u001b[0m\n"
          ]
        },
        {
          "name": "stderr",
          "output_type": "stream",
          "text": [
            "/usr/local/lib/python3.7/dist-packages/sklearn/linear_model/_logistic.py:1526: UserWarning: 'n_jobs' > 1 does not have any effect when 'solver' is set to 'liblinear'. Got 'n_jobs' = 2.\n",
            "  \" = {}.\".format(effective_n_jobs(self.n_jobs))\n"
          ]
        },
        {
          "name": "stdout",
          "output_type": "stream",
          "text": [
            "\u001b[32m[I 2022-10-10 00:35:21,719]\u001b[0m Trial 109 finished with value: 0.81472 and parameters: {'C': 5.647453210693981, 'solver': 'liblinear', 'max_iter': 245, 'penalty': 'l1'}. Best is trial 2 with value: 0.81476.\u001b[0m\n"
          ]
        },
        {
          "name": "stderr",
          "output_type": "stream",
          "text": [
            "/usr/local/lib/python3.7/dist-packages/sklearn/linear_model/_logistic.py:1526: UserWarning: 'n_jobs' > 1 does not have any effect when 'solver' is set to 'liblinear'. Got 'n_jobs' = 2.\n",
            "  \" = {}.\".format(effective_n_jobs(self.n_jobs))\n"
          ]
        },
        {
          "name": "stdout",
          "output_type": "stream",
          "text": [
            "\u001b[32m[I 2022-10-10 00:35:23,662]\u001b[0m Trial 110 finished with value: 0.81468 and parameters: {'C': 2.3855891778727676, 'solver': 'liblinear', 'max_iter': 186, 'penalty': 'l1'}. Best is trial 2 with value: 0.81476.\u001b[0m\n"
          ]
        },
        {
          "name": "stderr",
          "output_type": "stream",
          "text": [
            "/usr/local/lib/python3.7/dist-packages/sklearn/linear_model/_logistic.py:1526: UserWarning: 'n_jobs' > 1 does not have any effect when 'solver' is set to 'liblinear'. Got 'n_jobs' = 2.\n",
            "  \" = {}.\".format(effective_n_jobs(self.n_jobs))\n",
            "/usr/local/lib/python3.7/dist-packages/sklearn/svm/_base.py:1208: ConvergenceWarning: Liblinear failed to converge, increase the number of iterations.\n",
            "  ConvergenceWarning,\n",
            "/usr/local/lib/python3.7/dist-packages/sklearn/linear_model/_logistic.py:1526: UserWarning: 'n_jobs' > 1 does not have any effect when 'solver' is set to 'liblinear'. Got 'n_jobs' = 2.\n",
            "  \" = {}.\".format(effective_n_jobs(self.n_jobs))\n"
          ]
        },
        {
          "name": "stdout",
          "output_type": "stream",
          "text": [
            "\u001b[32m[I 2022-10-10 00:35:27,085]\u001b[0m Trial 111 finished with value: 0.77448 and parameters: {'C': 4.998061209643884, 'solver': 'liblinear', 'max_iter': 122, 'penalty': 'l2'}. Best is trial 2 with value: 0.81476.\u001b[0m\n",
            "\u001b[32m[I 2022-10-10 00:35:29,609]\u001b[0m Trial 113 finished with value: 0.81468 and parameters: {'C': 5.260178421063293, 'solver': 'liblinear', 'max_iter': 225, 'penalty': 'l1'}. Best is trial 2 with value: 0.81476.\u001b[0m\n"
          ]
        },
        {
          "name": "stderr",
          "output_type": "stream",
          "text": [
            "/usr/local/lib/python3.7/dist-packages/sklearn/linear_model/_logistic.py:1526: UserWarning: 'n_jobs' > 1 does not have any effect when 'solver' is set to 'liblinear'. Got 'n_jobs' = 2.\n",
            "  \" = {}.\".format(effective_n_jobs(self.n_jobs))\n"
          ]
        },
        {
          "name": "stdout",
          "output_type": "stream",
          "text": [
            "\u001b[32m[I 2022-10-10 00:35:33,428]\u001b[0m Trial 114 finished with value: 0.81468 and parameters: {'C': 4.631387133129487, 'solver': 'liblinear', 'max_iter': 256, 'penalty': 'l1'}. Best is trial 2 with value: 0.81476.\u001b[0m\n"
          ]
        },
        {
          "name": "stderr",
          "output_type": "stream",
          "text": [
            "/usr/local/lib/python3.7/dist-packages/sklearn/linear_model/_logistic.py:1526: UserWarning: 'n_jobs' > 1 does not have any effect when 'solver' is set to 'liblinear'. Got 'n_jobs' = 2.\n",
            "  \" = {}.\".format(effective_n_jobs(self.n_jobs))\n"
          ]
        },
        {
          "name": "stdout",
          "output_type": "stream",
          "text": [
            "\u001b[32m[I 2022-10-10 00:35:36,694]\u001b[0m Trial 115 finished with value: 0.81468 and parameters: {'C': 3.8324360492269265, 'solver': 'liblinear', 'max_iter': 235, 'penalty': 'l1'}. Best is trial 2 with value: 0.81476.\u001b[0m\n"
          ]
        },
        {
          "name": "stderr",
          "output_type": "stream",
          "text": [
            "/usr/local/lib/python3.7/dist-packages/sklearn/linear_model/_logistic.py:1526: UserWarning: 'n_jobs' > 1 does not have any effect when 'solver' is set to 'liblinear'. Got 'n_jobs' = 2.\n",
            "  \" = {}.\".format(effective_n_jobs(self.n_jobs))\n"
          ]
        },
        {
          "name": "stdout",
          "output_type": "stream",
          "text": [
            "\u001b[32m[I 2022-10-10 00:35:36,940]\u001b[0m Trial 112 finished with value: 0.81476 and parameters: {'C': 5.311763466114863, 'solver': 'liblinear', 'max_iter': 254, 'penalty': 'l1'}. Best is trial 2 with value: 0.81476.\u001b[0m\n"
          ]
        },
        {
          "name": "stderr",
          "output_type": "stream",
          "text": [
            "/usr/local/lib/python3.7/dist-packages/sklearn/linear_model/_logistic.py:1526: UserWarning: 'n_jobs' > 1 does not have any effect when 'solver' is set to 'liblinear'. Got 'n_jobs' = 2.\n",
            "  \" = {}.\".format(effective_n_jobs(self.n_jobs))\n"
          ]
        },
        {
          "name": "stdout",
          "output_type": "stream",
          "text": [
            "\u001b[32m[I 2022-10-10 00:35:38,463]\u001b[0m Trial 116 finished with value: 0.81468 and parameters: {'C': 3.4398824517929194, 'solver': 'liblinear', 'max_iter': 108, 'penalty': 'l1'}. Best is trial 2 with value: 0.81476.\u001b[0m\n"
          ]
        },
        {
          "name": "stderr",
          "output_type": "stream",
          "text": [
            "/usr/local/lib/python3.7/dist-packages/sklearn/linear_model/_logistic.py:1526: UserWarning: 'n_jobs' > 1 does not have any effect when 'solver' is set to 'liblinear'. Got 'n_jobs' = 2.\n",
            "  \" = {}.\".format(effective_n_jobs(self.n_jobs))\n"
          ]
        },
        {
          "name": "stdout",
          "output_type": "stream",
          "text": [
            "\u001b[32m[I 2022-10-10 00:35:42,209]\u001b[0m Trial 118 finished with value: 0.81468 and parameters: {'C': 1.9783177550721909, 'solver': 'liblinear', 'max_iter': 131, 'penalty': 'l1'}. Best is trial 2 with value: 0.81476.\u001b[0m\n"
          ]
        },
        {
          "name": "stderr",
          "output_type": "stream",
          "text": [
            "/usr/local/lib/python3.7/dist-packages/sklearn/linear_model/_logistic.py:1526: UserWarning: 'n_jobs' > 1 does not have any effect when 'solver' is set to 'liblinear'. Got 'n_jobs' = 2.\n",
            "  \" = {}.\".format(effective_n_jobs(self.n_jobs))\n"
          ]
        },
        {
          "name": "stdout",
          "output_type": "stream",
          "text": [
            "\u001b[32m[I 2022-10-10 00:35:44,150]\u001b[0m Trial 117 finished with value: 0.81476 and parameters: {'C': 3.449975639088868, 'solver': 'liblinear', 'max_iter': 130, 'penalty': 'l1'}. Best is trial 2 with value: 0.81476.\u001b[0m\n"
          ]
        },
        {
          "name": "stderr",
          "output_type": "stream",
          "text": [
            "/usr/local/lib/python3.7/dist-packages/sklearn/linear_model/_logistic.py:1526: UserWarning: 'n_jobs' > 1 does not have any effect when 'solver' is set to 'liblinear'. Got 'n_jobs' = 2.\n",
            "  \" = {}.\".format(effective_n_jobs(self.n_jobs))\n"
          ]
        },
        {
          "name": "stdout",
          "output_type": "stream",
          "text": [
            "\u001b[32m[I 2022-10-10 00:35:46,323]\u001b[0m Trial 119 finished with value: 0.81468 and parameters: {'C': 6.290676344772328, 'solver': 'liblinear', 'max_iter': 161, 'penalty': 'l1'}. Best is trial 2 with value: 0.81476.\u001b[0m\n",
            "\u001b[32m[I 2022-10-10 00:35:52,273]\u001b[0m Trial 120 finished with value: 0.81476 and parameters: {'C': 4.799955182767687, 'solver': 'liblinear', 'max_iter': 141, 'penalty': 'l1'}. Best is trial 2 with value: 0.81476.\u001b[0m\n"
          ]
        },
        {
          "name": "stderr",
          "output_type": "stream",
          "text": [
            "/usr/local/lib/python3.7/dist-packages/sklearn/linear_model/_logistic.py:1526: UserWarning: 'n_jobs' > 1 does not have any effect when 'solver' is set to 'liblinear'. Got 'n_jobs' = 2.\n",
            "  \" = {}.\".format(effective_n_jobs(self.n_jobs))\n"
          ]
        },
        {
          "name": "stdout",
          "output_type": "stream",
          "text": [
            "\u001b[32m[I 2022-10-10 00:35:53,639]\u001b[0m Trial 122 finished with value: 0.81468 and parameters: {'C': 7.50127670516712, 'solver': 'liblinear', 'max_iter': 113, 'penalty': 'l1'}. Best is trial 2 with value: 0.81476.\u001b[0m\n"
          ]
        },
        {
          "name": "stderr",
          "output_type": "stream",
          "text": [
            "/usr/local/lib/python3.7/dist-packages/sklearn/linear_model/_logistic.py:1526: UserWarning: 'n_jobs' > 1 does not have any effect when 'solver' is set to 'liblinear'. Got 'n_jobs' = 2.\n",
            "  \" = {}.\".format(effective_n_jobs(self.n_jobs))\n"
          ]
        },
        {
          "name": "stdout",
          "output_type": "stream",
          "text": [
            "\u001b[32m[I 2022-10-10 00:35:56,565]\u001b[0m Trial 123 finished with value: 0.81468 and parameters: {'C': 4.1045607642872515, 'solver': 'liblinear', 'max_iter': 172, 'penalty': 'l1'}. Best is trial 2 with value: 0.81476.\u001b[0m\n"
          ]
        },
        {
          "name": "stderr",
          "output_type": "stream",
          "text": [
            "/usr/local/lib/python3.7/dist-packages/sklearn/linear_model/_logistic.py:1526: UserWarning: 'n_jobs' > 1 does not have any effect when 'solver' is set to 'liblinear'. Got 'n_jobs' = 2.\n",
            "  \" = {}.\".format(effective_n_jobs(self.n_jobs))\n"
          ]
        },
        {
          "name": "stdout",
          "output_type": "stream",
          "text": [
            "\u001b[32m[I 2022-10-10 00:36:04,038]\u001b[0m Trial 124 finished with value: 0.81476 and parameters: {'C': 2.916573288969248, 'solver': 'liblinear', 'max_iter': 219, 'penalty': 'l1'}. Best is trial 2 with value: 0.81476.\u001b[0m\n"
          ]
        },
        {
          "name": "stderr",
          "output_type": "stream",
          "text": [
            "/usr/local/lib/python3.7/dist-packages/sklearn/linear_model/_logistic.py:1526: UserWarning: 'n_jobs' > 1 does not have any effect when 'solver' is set to 'liblinear'. Got 'n_jobs' = 2.\n",
            "  \" = {}.\".format(effective_n_jobs(self.n_jobs))\n"
          ]
        },
        {
          "name": "stdout",
          "output_type": "stream",
          "text": [
            "\u001b[32m[I 2022-10-10 00:36:07,109]\u001b[0m Trial 125 finished with value: 0.81468 and parameters: {'C': 8.722612648575907, 'solver': 'liblinear', 'max_iter': 233, 'penalty': 'l1'}. Best is trial 2 with value: 0.81476.\u001b[0m\n",
            "\u001b[32m[I 2022-10-10 00:36:08,817]\u001b[0m Trial 126 finished with value: 0.78636 and parameters: {'C': 7.8469526175199045, 'solver': 'lbfgs', 'max_iter': 306}. Best is trial 2 with value: 0.81476.\u001b[0m\n"
          ]
        },
        {
          "name": "stderr",
          "output_type": "stream",
          "text": [
            "/usr/local/lib/python3.7/dist-packages/sklearn/linear_model/_logistic.py:1526: UserWarning: 'n_jobs' > 1 does not have any effect when 'solver' is set to 'liblinear'. Got 'n_jobs' = 2.\n",
            "  \" = {}.\".format(effective_n_jobs(self.n_jobs))\n"
          ]
        },
        {
          "name": "stdout",
          "output_type": "stream",
          "text": [
            "\u001b[32m[I 2022-10-10 00:36:10,293]\u001b[0m Trial 121 finished with value: 0.81472 and parameters: {'C': 8.792401220150856, 'solver': 'newton-cg', 'max_iter': 173}. Best is trial 2 with value: 0.81476.\u001b[0m\n"
          ]
        },
        {
          "name": "stderr",
          "output_type": "stream",
          "text": [
            "/usr/local/lib/python3.7/dist-packages/sklearn/linear_model/_logistic.py:1526: UserWarning: 'n_jobs' > 1 does not have any effect when 'solver' is set to 'liblinear'. Got 'n_jobs' = 2.\n",
            "  \" = {}.\".format(effective_n_jobs(self.n_jobs))\n"
          ]
        },
        {
          "name": "stdout",
          "output_type": "stream",
          "text": [
            "\u001b[32m[I 2022-10-10 00:36:16,280]\u001b[0m Trial 127 finished with value: 0.81472 and parameters: {'C': 4.416683703373717, 'solver': 'liblinear', 'max_iter': 116, 'penalty': 'l1'}. Best is trial 2 with value: 0.81476.\u001b[0m\n",
            "\u001b[32m[I 2022-10-10 00:36:18,906]\u001b[0m Trial 128 finished with value: 0.81476 and parameters: {'C': 7.37723575533468, 'solver': 'liblinear', 'max_iter': 399, 'penalty': 'l1'}. Best is trial 2 with value: 0.81476.\u001b[0m\n"
          ]
        },
        {
          "name": "stderr",
          "output_type": "stream",
          "text": [
            "/usr/local/lib/python3.7/dist-packages/sklearn/linear_model/_logistic.py:1526: UserWarning: 'n_jobs' > 1 does not have any effect when 'solver' is set to 'liblinear'. Got 'n_jobs' = 2.\n",
            "  \" = {}.\".format(effective_n_jobs(self.n_jobs))\n"
          ]
        },
        {
          "name": "stdout",
          "output_type": "stream",
          "text": [
            "\u001b[32m[I 2022-10-10 00:36:20,191]\u001b[0m Trial 130 finished with value: 0.81468 and parameters: {'C': 4.813824270487899, 'solver': 'liblinear', 'max_iter': 382, 'penalty': 'l1'}. Best is trial 2 with value: 0.81476.\u001b[0m\n",
            "\u001b[32m[I 2022-10-10 00:36:42,746]\u001b[0m Trial 129 finished with value: 0.81472 and parameters: {'C': 8.344630670660752, 'solver': 'newton-cg', 'max_iter': 193}. Best is trial 2 with value: 0.81476.\u001b[0m\n",
            "\u001b[32m[I 2022-10-10 00:36:45,521]\u001b[0m Trial 131 finished with value: 0.81472 and parameters: {'C': 2.4383082610571942, 'solver': 'newton-cg', 'max_iter': 264}. Best is trial 2 with value: 0.81476.\u001b[0m\n",
            "\u001b[32m[I 2022-10-10 00:36:57,472]\u001b[0m Trial 133 finished with value: 0.81476 and parameters: {'C': 9.06477380359398, 'solver': 'newton-cg', 'max_iter': 102}. Best is trial 2 with value: 0.81476.\u001b[0m\n",
            "\u001b[32m[I 2022-10-10 00:36:58,208]\u001b[0m Trial 132 finished with value: 0.81472 and parameters: {'C': 9.135863939954376, 'solver': 'newton-cg', 'max_iter': 125}. Best is trial 2 with value: 0.81476.\u001b[0m\n",
            "\u001b[32m[I 2022-10-10 00:37:26,297]\u001b[0m Trial 134 finished with value: 0.81472 and parameters: {'C': 2.8492058989917135, 'solver': 'newton-cg', 'max_iter': 219}. Best is trial 2 with value: 0.81476.\u001b[0m\n",
            "\u001b[32m[I 2022-10-10 00:37:28,630]\u001b[0m Trial 135 finished with value: 0.81472 and parameters: {'C': 8.157660746566158, 'solver': 'newton-cg', 'max_iter': 211}. Best is trial 2 with value: 0.81476.\u001b[0m\n"
          ]
        },
        {
          "name": "stderr",
          "output_type": "stream",
          "text": [
            "/usr/local/lib/python3.7/dist-packages/sklearn/linear_model/_logistic.py:1526: UserWarning: 'n_jobs' > 1 does not have any effect when 'solver' is set to 'liblinear'. Got 'n_jobs' = 2.\n",
            "  \" = {}.\".format(effective_n_jobs(self.n_jobs))\n"
          ]
        },
        {
          "name": "stdout",
          "output_type": "stream",
          "text": [
            "\u001b[32m[I 2022-10-10 00:37:38,464]\u001b[0m Trial 136 finished with value: 0.81472 and parameters: {'C': 6.622404528284833, 'solver': 'newton-cg', 'max_iter': 101}. Best is trial 2 with value: 0.81476.\u001b[0m\n",
            "\u001b[32m[I 2022-10-10 00:37:45,113]\u001b[0m Trial 137 finished with value: 0.81472 and parameters: {'C': 1.3662394456849984, 'solver': 'liblinear', 'max_iter': 114, 'penalty': 'l1'}. Best is trial 2 with value: 0.81476.\u001b[0m\n"
          ]
        },
        {
          "name": "stderr",
          "output_type": "stream",
          "text": [
            "/usr/local/lib/python3.7/dist-packages/sklearn/linear_model/_logistic.py:1526: UserWarning: 'n_jobs' > 1 does not have any effect when 'solver' is set to 'liblinear'. Got 'n_jobs' = 2.\n",
            "  \" = {}.\".format(effective_n_jobs(self.n_jobs))\n"
          ]
        },
        {
          "name": "stdout",
          "output_type": "stream",
          "text": [
            "\u001b[32m[I 2022-10-10 00:37:50,478]\u001b[0m Trial 139 finished with value: 0.81468 and parameters: {'C': 7.040635452076721, 'solver': 'liblinear', 'max_iter': 121, 'penalty': 'l1'}. Best is trial 2 with value: 0.81476.\u001b[0m\n"
          ]
        },
        {
          "name": "stderr",
          "output_type": "stream",
          "text": [
            "/usr/local/lib/python3.7/dist-packages/sklearn/linear_model/_logistic.py:1526: UserWarning: 'n_jobs' > 1 does not have any effect when 'solver' is set to 'liblinear'. Got 'n_jobs' = 2.\n",
            "  \" = {}.\".format(effective_n_jobs(self.n_jobs))\n"
          ]
        },
        {
          "name": "stdout",
          "output_type": "stream",
          "text": [
            "\u001b[32m[I 2022-10-10 00:37:55,738]\u001b[0m Trial 140 finished with value: 0.81476 and parameters: {'C': 3.488501480912989, 'solver': 'liblinear', 'max_iter': 142, 'penalty': 'l1'}. Best is trial 2 with value: 0.81476.\u001b[0m\n"
          ]
        },
        {
          "name": "stderr",
          "output_type": "stream",
          "text": [
            "/usr/local/lib/python3.7/dist-packages/sklearn/linear_model/_logistic.py:1526: UserWarning: 'n_jobs' > 1 does not have any effect when 'solver' is set to 'liblinear'. Got 'n_jobs' = 2.\n",
            "  \" = {}.\".format(effective_n_jobs(self.n_jobs))\n"
          ]
        },
        {
          "name": "stdout",
          "output_type": "stream",
          "text": [
            "\u001b[32m[I 2022-10-10 00:37:59,166]\u001b[0m Trial 138 finished with value: 0.81476 and parameters: {'C': 7.13262424430191, 'solver': 'newton-cg', 'max_iter': 151}. Best is trial 2 with value: 0.81476.\u001b[0m\n"
          ]
        },
        {
          "name": "stderr",
          "output_type": "stream",
          "text": [
            "/usr/local/lib/python3.7/dist-packages/sklearn/linear_model/_logistic.py:1526: UserWarning: 'n_jobs' > 1 does not have any effect when 'solver' is set to 'liblinear'. Got 'n_jobs' = 2.\n",
            "  \" = {}.\".format(effective_n_jobs(self.n_jobs))\n",
            "/usr/local/lib/python3.7/dist-packages/sklearn/svm/_base.py:1208: ConvergenceWarning: Liblinear failed to converge, increase the number of iterations.\n",
            "  ConvergenceWarning,\n"
          ]
        },
        {
          "name": "stdout",
          "output_type": "stream",
          "text": [
            "\u001b[32m[I 2022-10-10 00:38:02,272]\u001b[0m Trial 142 finished with value: 0.81468 and parameters: {'C': 7.923075877711013, 'solver': 'liblinear', 'max_iter': 107, 'penalty': 'l1'}. Best is trial 2 with value: 0.81476.\u001b[0m\n",
            "\u001b[32m[I 2022-10-10 00:38:02,346]\u001b[0m Trial 141 finished with value: 0.77412 and parameters: {'C': 7.192934441436599, 'solver': 'liblinear', 'max_iter': 150, 'penalty': 'l2'}. Best is trial 2 with value: 0.81476.\u001b[0m\n"
          ]
        },
        {
          "name": "stderr",
          "output_type": "stream",
          "text": [
            "/usr/local/lib/python3.7/dist-packages/sklearn/linear_model/_logistic.py:1526: UserWarning: 'n_jobs' > 1 does not have any effect when 'solver' is set to 'liblinear'. Got 'n_jobs' = 2.\n",
            "  \" = {}.\".format(effective_n_jobs(self.n_jobs))\n",
            "/usr/local/lib/python3.7/dist-packages/sklearn/linear_model/_logistic.py:1526: UserWarning: 'n_jobs' > 1 does not have any effect when 'solver' is set to 'liblinear'. Got 'n_jobs' = 2.\n",
            "  \" = {}.\".format(effective_n_jobs(self.n_jobs))\n"
          ]
        },
        {
          "name": "stdout",
          "output_type": "stream",
          "text": [
            "\u001b[32m[I 2022-10-10 00:38:05,810]\u001b[0m Trial 144 finished with value: 0.81468 and parameters: {'C': 2.9362737663498883, 'solver': 'liblinear', 'max_iter': 399, 'penalty': 'l1'}. Best is trial 2 with value: 0.81476.\u001b[0m\n"
          ]
        },
        {
          "name": "stderr",
          "output_type": "stream",
          "text": [
            "/usr/local/lib/python3.7/dist-packages/sklearn/linear_model/_logistic.py:1526: UserWarning: 'n_jobs' > 1 does not have any effect when 'solver' is set to 'liblinear'. Got 'n_jobs' = 2.\n",
            "  \" = {}.\".format(effective_n_jobs(self.n_jobs))\n"
          ]
        },
        {
          "name": "stdout",
          "output_type": "stream",
          "text": [
            "\u001b[32m[I 2022-10-10 00:38:10,016]\u001b[0m Trial 145 finished with value: 0.81468 and parameters: {'C': 7.379361053510181, 'solver': 'liblinear', 'max_iter': 331, 'penalty': 'l1'}. Best is trial 2 with value: 0.81476.\u001b[0m\n"
          ]
        },
        {
          "name": "stderr",
          "output_type": "stream",
          "text": [
            "/usr/local/lib/python3.7/dist-packages/sklearn/linear_model/_logistic.py:1526: UserWarning: 'n_jobs' > 1 does not have any effect when 'solver' is set to 'liblinear'. Got 'n_jobs' = 2.\n",
            "  \" = {}.\".format(effective_n_jobs(self.n_jobs))\n"
          ]
        },
        {
          "name": "stdout",
          "output_type": "stream",
          "text": [
            "\u001b[32m[I 2022-10-10 00:38:19,642]\u001b[0m Trial 143 finished with value: 0.81472 and parameters: {'C': 7.367990761731089, 'solver': 'liblinear', 'max_iter': 132, 'penalty': 'l1'}. Best is trial 2 with value: 0.81476.\u001b[0m\n"
          ]
        },
        {
          "name": "stderr",
          "output_type": "stream",
          "text": [
            "/usr/local/lib/python3.7/dist-packages/sklearn/linear_model/_logistic.py:1526: UserWarning: 'n_jobs' > 1 does not have any effect when 'solver' is set to 'liblinear'. Got 'n_jobs' = 2.\n",
            "  \" = {}.\".format(effective_n_jobs(self.n_jobs))\n"
          ]
        },
        {
          "name": "stdout",
          "output_type": "stream",
          "text": [
            "\u001b[32m[I 2022-10-10 00:38:21,437]\u001b[0m Trial 146 finished with value: 0.81476 and parameters: {'C': 3.275921216579232, 'solver': 'liblinear', 'max_iter': 355, 'penalty': 'l1'}. Best is trial 2 with value: 0.81476.\u001b[0m\n"
          ]
        },
        {
          "name": "stderr",
          "output_type": "stream",
          "text": [
            "/usr/local/lib/python3.7/dist-packages/sklearn/linear_model/_logistic.py:1526: UserWarning: 'n_jobs' > 1 does not have any effect when 'solver' is set to 'liblinear'. Got 'n_jobs' = 2.\n",
            "  \" = {}.\".format(effective_n_jobs(self.n_jobs))\n"
          ]
        },
        {
          "name": "stdout",
          "output_type": "stream",
          "text": [
            "\u001b[32m[I 2022-10-10 00:38:24,300]\u001b[0m Trial 147 finished with value: 0.81468 and parameters: {'C': 5.5568502527540335, 'solver': 'liblinear', 'max_iter': 226, 'penalty': 'l1'}. Best is trial 2 with value: 0.81476.\u001b[0m\n"
          ]
        },
        {
          "name": "stderr",
          "output_type": "stream",
          "text": [
            "/usr/local/lib/python3.7/dist-packages/sklearn/linear_model/_logistic.py:1526: UserWarning: 'n_jobs' > 1 does not have any effect when 'solver' is set to 'liblinear'. Got 'n_jobs' = 2.\n",
            "  \" = {}.\".format(effective_n_jobs(self.n_jobs))\n"
          ]
        },
        {
          "name": "stdout",
          "output_type": "stream",
          "text": [
            "\u001b[32m[I 2022-10-10 00:38:29,874]\u001b[0m Trial 149 finished with value: 0.81468 and parameters: {'C': 5.125417610379594, 'solver': 'liblinear', 'max_iter': 133, 'penalty': 'l1'}. Best is trial 2 with value: 0.81476.\u001b[0m\n",
            "\u001b[32m[I 2022-10-10 00:38:30,703]\u001b[0m Trial 148 finished with value: 0.81476 and parameters: {'C': 7.646366641671124, 'solver': 'liblinear', 'max_iter': 116, 'penalty': 'l1'}. Best is trial 2 with value: 0.81476.\u001b[0m\n"
          ]
        },
        {
          "name": "stderr",
          "output_type": "stream",
          "text": [
            "/usr/local/lib/python3.7/dist-packages/sklearn/linear_model/_sag.py:354: ConvergenceWarning: The max_iter was reached which means the coef_ did not converge\n",
            "  ConvergenceWarning,\n"
          ]
        },
        {
          "name": "stdout",
          "output_type": "stream",
          "text": [
            "\u001b[32m[I 2022-10-10 00:38:37,428]\u001b[0m Trial 151 finished with value: 0.77108 and parameters: {'C': 9.653228031672061, 'solver': 'sag', 'max_iter': 129}. Best is trial 2 with value: 0.81476.\u001b[0m\n"
          ]
        },
        {
          "name": "stderr",
          "output_type": "stream",
          "text": [
            "/usr/local/lib/python3.7/dist-packages/sklearn/linear_model/_logistic.py:1526: UserWarning: 'n_jobs' > 1 does not have any effect when 'solver' is set to 'liblinear'. Got 'n_jobs' = 2.\n",
            "  \" = {}.\".format(effective_n_jobs(self.n_jobs))\n"
          ]
        },
        {
          "name": "stdout",
          "output_type": "stream",
          "text": [
            "\u001b[32m[I 2022-10-10 00:38:40,694]\u001b[0m Trial 152 finished with value: 0.81468 and parameters: {'C': 6.383836303119667, 'solver': 'liblinear', 'max_iter': 143, 'penalty': 'l1'}. Best is trial 2 with value: 0.81476.\u001b[0m\n"
          ]
        },
        {
          "name": "stderr",
          "output_type": "stream",
          "text": [
            "/usr/local/lib/python3.7/dist-packages/sklearn/linear_model/_sag.py:354: ConvergenceWarning: The max_iter was reached which means the coef_ did not converge\n",
            "  ConvergenceWarning,\n"
          ]
        },
        {
          "name": "stdout",
          "output_type": "stream",
          "text": [
            "\u001b[32m[I 2022-10-10 00:38:43,367]\u001b[0m Trial 150 finished with value: 0.77108 and parameters: {'C': 9.76202764878725, 'solver': 'sag', 'max_iter': 242}. Best is trial 2 with value: 0.81476.\u001b[0m\n",
            "\u001b[32m[I 2022-10-10 00:38:51,524]\u001b[0m Trial 153 finished with value: 0.81472 and parameters: {'C': 8.967594249481916, 'solver': 'newton-cg', 'max_iter': 100}. Best is trial 2 with value: 0.81476.\u001b[0m\n"
          ]
        },
        {
          "name": "stderr",
          "output_type": "stream",
          "text": [
            "/usr/local/lib/python3.7/dist-packages/sklearn/linear_model/_logistic.py:1526: UserWarning: 'n_jobs' > 1 does not have any effect when 'solver' is set to 'liblinear'. Got 'n_jobs' = 2.\n",
            "  \" = {}.\".format(effective_n_jobs(self.n_jobs))\n"
          ]
        },
        {
          "name": "stdout",
          "output_type": "stream",
          "text": [
            "\u001b[32m[I 2022-10-10 00:39:02,278]\u001b[0m Trial 155 finished with value: 0.81476 and parameters: {'C': 5.280031902945738, 'solver': 'liblinear', 'max_iter': 239, 'penalty': 'l1'}. Best is trial 2 with value: 0.81476.\u001b[0m\n"
          ]
        },
        {
          "name": "stderr",
          "output_type": "stream",
          "text": [
            "/usr/local/lib/python3.7/dist-packages/sklearn/linear_model/_logistic.py:1526: UserWarning: 'n_jobs' > 1 does not have any effect when 'solver' is set to 'liblinear'. Got 'n_jobs' = 2.\n",
            "  \" = {}.\".format(effective_n_jobs(self.n_jobs))\n"
          ]
        },
        {
          "name": "stdout",
          "output_type": "stream",
          "text": [
            "\u001b[32m[I 2022-10-10 00:39:06,053]\u001b[0m Trial 154 finished with value: 0.81472 and parameters: {'C': 4.933847197998098, 'solver': 'newton-cg', 'max_iter': 254}. Best is trial 2 with value: 0.81476.\u001b[0m\n"
          ]
        },
        {
          "name": "stderr",
          "output_type": "stream",
          "text": [
            "/usr/local/lib/python3.7/dist-packages/sklearn/linear_model/_logistic.py:1526: UserWarning: 'n_jobs' > 1 does not have any effect when 'solver' is set to 'liblinear'. Got 'n_jobs' = 2.\n",
            "  \" = {}.\".format(effective_n_jobs(self.n_jobs))\n"
          ]
        },
        {
          "name": "stdout",
          "output_type": "stream",
          "text": [
            "\u001b[32m[I 2022-10-10 00:39:10,831]\u001b[0m Trial 156 finished with value: 0.81476 and parameters: {'C': 5.818733504609936, 'solver': 'liblinear', 'max_iter': 124, 'penalty': 'l1'}. Best is trial 2 with value: 0.81476.\u001b[0m\n"
          ]
        },
        {
          "name": "stderr",
          "output_type": "stream",
          "text": [
            "/usr/local/lib/python3.7/dist-packages/sklearn/linear_model/_logistic.py:1526: UserWarning: 'n_jobs' > 1 does not have any effect when 'solver' is set to 'liblinear'. Got 'n_jobs' = 2.\n",
            "  \" = {}.\".format(effective_n_jobs(self.n_jobs))\n"
          ]
        },
        {
          "name": "stdout",
          "output_type": "stream",
          "text": [
            "\u001b[32m[I 2022-10-10 00:39:12,084]\u001b[0m Trial 157 finished with value: 0.81468 and parameters: {'C': 5.761227706948593, 'solver': 'liblinear', 'max_iter': 359, 'penalty': 'l1'}. Best is trial 2 with value: 0.81476.\u001b[0m\n",
            "\u001b[32m[I 2022-10-10 00:39:13,872]\u001b[0m Trial 159 finished with value: 0.78636 and parameters: {'C': 8.549466949610661, 'solver': 'lbfgs', 'max_iter': 214}. Best is trial 2 with value: 0.81476.\u001b[0m\n",
            "\u001b[32m[I 2022-10-10 00:39:14,074]\u001b[0m Trial 158 finished with value: 0.81468 and parameters: {'C': 6.919846425417999, 'solver': 'liblinear', 'max_iter': 107, 'penalty': 'l1'}. Best is trial 2 with value: 0.81476.\u001b[0m\n"
          ]
        },
        {
          "name": "stderr",
          "output_type": "stream",
          "text": [
            "/usr/local/lib/python3.7/dist-packages/sklearn/linear_model/_sag.py:354: ConvergenceWarning: The max_iter was reached which means the coef_ did not converge\n",
            "  ConvergenceWarning,\n"
          ]
        },
        {
          "name": "stdout",
          "output_type": "stream",
          "text": [
            "\u001b[32m[I 2022-10-10 00:39:20,946]\u001b[0m Trial 160 finished with value: 0.77108 and parameters: {'C': 3.9555136749006605, 'solver': 'saga', 'max_iter': 108, 'penalty': 'l2'}. Best is trial 2 with value: 0.81476.\u001b[0m\n"
          ]
        },
        {
          "name": "stderr",
          "output_type": "stream",
          "text": [
            "/usr/local/lib/python3.7/dist-packages/sklearn/linear_model/_logistic.py:1526: UserWarning: 'n_jobs' > 1 does not have any effect when 'solver' is set to 'liblinear'. Got 'n_jobs' = 2.\n",
            "  \" = {}.\".format(effective_n_jobs(self.n_jobs))\n"
          ]
        },
        {
          "name": "stdout",
          "output_type": "stream",
          "text": [
            "\u001b[32m[I 2022-10-10 00:39:26,169]\u001b[0m Trial 161 finished with value: 0.81472 and parameters: {'C': 9.33535892698344, 'solver': 'newton-cg', 'max_iter': 111}. Best is trial 2 with value: 0.81476.\u001b[0m\n",
            "\u001b[32m[I 2022-10-10 00:39:27,419]\u001b[0m Trial 162 finished with value: 0.81468 and parameters: {'C': 7.840907786699756, 'solver': 'liblinear', 'max_iter': 346, 'penalty': 'l1'}. Best is trial 2 with value: 0.81476.\u001b[0m\n",
            "\u001b[32m[I 2022-10-10 00:39:43,395]\u001b[0m Trial 163 finished with value: 0.81472 and parameters: {'C': 3.4796368335235695, 'solver': 'newton-cg', 'max_iter': 141}. Best is trial 2 with value: 0.81476.\u001b[0m\n"
          ]
        },
        {
          "name": "stderr",
          "output_type": "stream",
          "text": [
            "/usr/local/lib/python3.7/dist-packages/sklearn/linear_model/_logistic.py:1526: UserWarning: 'n_jobs' > 1 does not have any effect when 'solver' is set to 'liblinear'. Got 'n_jobs' = 2.\n",
            "  \" = {}.\".format(effective_n_jobs(self.n_jobs))\n"
          ]
        },
        {
          "name": "stdout",
          "output_type": "stream",
          "text": [
            "\u001b[32m[I 2022-10-10 00:39:45,651]\u001b[0m Trial 164 finished with value: 0.81472 and parameters: {'C': 3.6364680979412074, 'solver': 'newton-cg', 'max_iter': 154}. Best is trial 2 with value: 0.81476.\u001b[0m\n"
          ]
        },
        {
          "name": "stderr",
          "output_type": "stream",
          "text": [
            "/usr/local/lib/python3.7/dist-packages/sklearn/linear_model/_logistic.py:1526: UserWarning: 'n_jobs' > 1 does not have any effect when 'solver' is set to 'liblinear'. Got 'n_jobs' = 2.\n",
            "  \" = {}.\".format(effective_n_jobs(self.n_jobs))\n"
          ]
        },
        {
          "name": "stdout",
          "output_type": "stream",
          "text": [
            "\u001b[32m[I 2022-10-10 00:39:47,683]\u001b[0m Trial 165 finished with value: 0.81468 and parameters: {'C': 5.413773143379132, 'solver': 'liblinear', 'max_iter': 227, 'penalty': 'l1'}. Best is trial 2 with value: 0.81476.\u001b[0m\n"
          ]
        },
        {
          "name": "stderr",
          "output_type": "stream",
          "text": [
            "/usr/local/lib/python3.7/dist-packages/sklearn/linear_model/_logistic.py:1526: UserWarning: 'n_jobs' > 1 does not have any effect when 'solver' is set to 'liblinear'. Got 'n_jobs' = 2.\n",
            "  \" = {}.\".format(effective_n_jobs(self.n_jobs))\n"
          ]
        },
        {
          "name": "stdout",
          "output_type": "stream",
          "text": [
            "\u001b[32m[I 2022-10-10 00:39:52,303]\u001b[0m Trial 167 finished with value: 0.81468 and parameters: {'C': 7.566719822099795, 'solver': 'liblinear', 'max_iter': 203, 'penalty': 'l1'}. Best is trial 2 with value: 0.81476.\u001b[0m\n"
          ]
        },
        {
          "name": "stderr",
          "output_type": "stream",
          "text": [
            "/usr/local/lib/python3.7/dist-packages/sklearn/linear_model/_logistic.py:1526: UserWarning: 'n_jobs' > 1 does not have any effect when 'solver' is set to 'liblinear'. Got 'n_jobs' = 2.\n",
            "  \" = {}.\".format(effective_n_jobs(self.n_jobs))\n"
          ]
        },
        {
          "name": "stdout",
          "output_type": "stream",
          "text": [
            "\u001b[32m[I 2022-10-10 00:39:56,699]\u001b[0m Trial 166 finished with value: 0.81476 and parameters: {'C': 5.411932438669222, 'solver': 'liblinear', 'max_iter': 230, 'penalty': 'l1'}. Best is trial 2 with value: 0.81476.\u001b[0m\n"
          ]
        },
        {
          "name": "stderr",
          "output_type": "stream",
          "text": [
            "/usr/local/lib/python3.7/dist-packages/sklearn/linear_model/_logistic.py:1526: UserWarning: 'n_jobs' > 1 does not have any effect when 'solver' is set to 'liblinear'. Got 'n_jobs' = 2.\n",
            "  \" = {}.\".format(effective_n_jobs(self.n_jobs))\n"
          ]
        },
        {
          "name": "stdout",
          "output_type": "stream",
          "text": [
            "\u001b[32m[I 2022-10-10 00:39:59,148]\u001b[0m Trial 168 finished with value: 0.81476 and parameters: {'C': 7.687651580130916, 'solver': 'liblinear', 'max_iter': 117, 'penalty': 'l1'}. Best is trial 2 with value: 0.81476.\u001b[0m\n"
          ]
        },
        {
          "name": "stderr",
          "output_type": "stream",
          "text": [
            "/usr/local/lib/python3.7/dist-packages/sklearn/linear_model/_logistic.py:1526: UserWarning: 'n_jobs' > 1 does not have any effect when 'solver' is set to 'liblinear'. Got 'n_jobs' = 2.\n",
            "  \" = {}.\".format(effective_n_jobs(self.n_jobs))\n"
          ]
        },
        {
          "name": "stdout",
          "output_type": "stream",
          "text": [
            "\u001b[32m[I 2022-10-10 00:40:02,237]\u001b[0m Trial 169 finished with value: 0.81468 and parameters: {'C': 7.648947693701245, 'solver': 'liblinear', 'max_iter': 375, 'penalty': 'l1'}. Best is trial 2 with value: 0.81476.\u001b[0m\n"
          ]
        },
        {
          "name": "stderr",
          "output_type": "stream",
          "text": [
            "/usr/local/lib/python3.7/dist-packages/sklearn/linear_model/_logistic.py:1526: UserWarning: 'n_jobs' > 1 does not have any effect when 'solver' is set to 'liblinear'. Got 'n_jobs' = 2.\n",
            "  \" = {}.\".format(effective_n_jobs(self.n_jobs))\n"
          ]
        },
        {
          "name": "stdout",
          "output_type": "stream",
          "text": [
            "\u001b[32m[I 2022-10-10 00:40:02,450]\u001b[0m Trial 170 finished with value: 0.81468 and parameters: {'C': 4.256793024094155, 'solver': 'liblinear', 'max_iter': 249, 'penalty': 'l1'}. Best is trial 2 with value: 0.81476.\u001b[0m\n",
            "\u001b[32m[I 2022-10-10 00:40:08,411]\u001b[0m Trial 171 finished with value: 0.81476 and parameters: {'C': 7.681928104329302, 'solver': 'liblinear', 'max_iter': 309, 'penalty': 'l1'}. Best is trial 2 with value: 0.81476.\u001b[0m\n"
          ]
        },
        {
          "name": "stderr",
          "output_type": "stream",
          "text": [
            "/usr/local/lib/python3.7/dist-packages/sklearn/linear_model/_logistic.py:1526: UserWarning: 'n_jobs' > 1 does not have any effect when 'solver' is set to 'liblinear'. Got 'n_jobs' = 2.\n",
            "  \" = {}.\".format(effective_n_jobs(self.n_jobs))\n"
          ]
        },
        {
          "name": "stdout",
          "output_type": "stream",
          "text": [
            "\u001b[32m[I 2022-10-10 00:40:13,457]\u001b[0m Trial 173 finished with value: 0.81468 and parameters: {'C': 4.810527750565553, 'solver': 'liblinear', 'max_iter': 121, 'penalty': 'l1'}. Best is trial 2 with value: 0.81476.\u001b[0m\n"
          ]
        },
        {
          "name": "stderr",
          "output_type": "stream",
          "text": [
            "/usr/local/lib/python3.7/dist-packages/sklearn/linear_model/_logistic.py:1526: UserWarning: 'n_jobs' > 1 does not have any effect when 'solver' is set to 'liblinear'. Got 'n_jobs' = 2.\n",
            "  \" = {}.\".format(effective_n_jobs(self.n_jobs))\n"
          ]
        },
        {
          "name": "stdout",
          "output_type": "stream",
          "text": [
            "\u001b[32m[I 2022-10-10 00:40:15,761]\u001b[0m Trial 174 finished with value: 0.81468 and parameters: {'C': 3.988200591711632, 'solver': 'liblinear', 'max_iter': 138, 'penalty': 'l1'}. Best is trial 2 with value: 0.81476.\u001b[0m\n"
          ]
        },
        {
          "name": "stderr",
          "output_type": "stream",
          "text": [
            "/usr/local/lib/python3.7/dist-packages/sklearn/linear_model/_logistic.py:1526: UserWarning: 'n_jobs' > 1 does not have any effect when 'solver' is set to 'liblinear'. Got 'n_jobs' = 2.\n",
            "  \" = {}.\".format(effective_n_jobs(self.n_jobs))\n"
          ]
        },
        {
          "name": "stdout",
          "output_type": "stream",
          "text": [
            "\u001b[32m[I 2022-10-10 00:40:17,488]\u001b[0m Trial 172 finished with value: 0.81472 and parameters: {'C': 3.3008489570793924, 'solver': 'newton-cg', 'max_iter': 116}. Best is trial 2 with value: 0.81476.\u001b[0m\n"
          ]
        },
        {
          "name": "stderr",
          "output_type": "stream",
          "text": [
            "/usr/local/lib/python3.7/dist-packages/sklearn/linear_model/_logistic.py:1526: UserWarning: 'n_jobs' > 1 does not have any effect when 'solver' is set to 'liblinear'. Got 'n_jobs' = 2.\n",
            "  \" = {}.\".format(effective_n_jobs(self.n_jobs))\n"
          ]
        },
        {
          "name": "stdout",
          "output_type": "stream",
          "text": [
            "\u001b[32m[I 2022-10-10 00:40:20,035]\u001b[0m Trial 175 finished with value: 0.81468 and parameters: {'C': 3.2420965819172323, 'solver': 'liblinear', 'max_iter': 163, 'penalty': 'l1'}. Best is trial 2 with value: 0.81476.\u001b[0m\n"
          ]
        },
        {
          "name": "stderr",
          "output_type": "stream",
          "text": [
            "/usr/local/lib/python3.7/dist-packages/sklearn/linear_model/_logistic.py:1526: UserWarning: 'n_jobs' > 1 does not have any effect when 'solver' is set to 'liblinear'. Got 'n_jobs' = 2.\n",
            "  \" = {}.\".format(effective_n_jobs(self.n_jobs))\n"
          ]
        },
        {
          "name": "stdout",
          "output_type": "stream",
          "text": [
            "\u001b[32m[I 2022-10-10 00:40:21,618]\u001b[0m Trial 176 finished with value: 0.81468 and parameters: {'C': 4.59037457374586, 'solver': 'liblinear', 'max_iter': 121, 'penalty': 'l1'}. Best is trial 2 with value: 0.81476.\u001b[0m\n"
          ]
        },
        {
          "name": "stderr",
          "output_type": "stream",
          "text": [
            "/usr/local/lib/python3.7/dist-packages/sklearn/linear_model/_logistic.py:1526: UserWarning: 'n_jobs' > 1 does not have any effect when 'solver' is set to 'liblinear'. Got 'n_jobs' = 2.\n",
            "  \" = {}.\".format(effective_n_jobs(self.n_jobs))\n"
          ]
        },
        {
          "name": "stdout",
          "output_type": "stream",
          "text": [
            "\u001b[32m[I 2022-10-10 00:40:25,220]\u001b[0m Trial 177 finished with value: 0.81468 and parameters: {'C': 5.935233620112005, 'solver': 'liblinear', 'max_iter': 115, 'penalty': 'l1'}. Best is trial 2 with value: 0.81476.\u001b[0m\n"
          ]
        },
        {
          "name": "stderr",
          "output_type": "stream",
          "text": [
            "/usr/local/lib/python3.7/dist-packages/sklearn/linear_model/_logistic.py:1526: UserWarning: 'n_jobs' > 1 does not have any effect when 'solver' is set to 'liblinear'. Got 'n_jobs' = 2.\n",
            "  \" = {}.\".format(effective_n_jobs(self.n_jobs))\n"
          ]
        },
        {
          "name": "stdout",
          "output_type": "stream",
          "text": [
            "\u001b[32m[I 2022-10-10 00:40:28,421]\u001b[0m Trial 178 finished with value: 0.81468 and parameters: {'C': 3.5011571842870386, 'solver': 'liblinear', 'max_iter': 125, 'penalty': 'l1'}. Best is trial 2 with value: 0.81476.\u001b[0m\n"
          ]
        },
        {
          "name": "stderr",
          "output_type": "stream",
          "text": [
            "/usr/local/lib/python3.7/dist-packages/sklearn/linear_model/_logistic.py:1526: UserWarning: 'n_jobs' > 1 does not have any effect when 'solver' is set to 'liblinear'. Got 'n_jobs' = 2.\n",
            "  \" = {}.\".format(effective_n_jobs(self.n_jobs))\n"
          ]
        },
        {
          "name": "stdout",
          "output_type": "stream",
          "text": [
            "\u001b[32m[I 2022-10-10 00:40:29,213]\u001b[0m Trial 179 finished with value: 0.81468 and parameters: {'C': 8.10634829644178, 'solver': 'liblinear', 'max_iter': 129, 'penalty': 'l1'}. Best is trial 2 with value: 0.81476.\u001b[0m\n"
          ]
        },
        {
          "name": "stderr",
          "output_type": "stream",
          "text": [
            "/usr/local/lib/python3.7/dist-packages/sklearn/linear_model/_logistic.py:1526: UserWarning: 'n_jobs' > 1 does not have any effect when 'solver' is set to 'liblinear'. Got 'n_jobs' = 2.\n",
            "  \" = {}.\".format(effective_n_jobs(self.n_jobs))\n"
          ]
        },
        {
          "name": "stdout",
          "output_type": "stream",
          "text": [
            "\u001b[32m[I 2022-10-10 00:40:37,368]\u001b[0m Trial 181 finished with value: 0.81476 and parameters: {'C': 6.9354830846969575, 'solver': 'liblinear', 'max_iter': 133, 'penalty': 'l1'}. Best is trial 2 with value: 0.81476.\u001b[0m\n"
          ]
        },
        {
          "name": "stderr",
          "output_type": "stream",
          "text": [
            "/usr/local/lib/python3.7/dist-packages/sklearn/linear_model/_logistic.py:1526: UserWarning: 'n_jobs' > 1 does not have any effect when 'solver' is set to 'liblinear'. Got 'n_jobs' = 2.\n",
            "  \" = {}.\".format(effective_n_jobs(self.n_jobs))\n"
          ]
        },
        {
          "name": "stdout",
          "output_type": "stream",
          "text": [
            "\u001b[32m[I 2022-10-10 00:40:40,235]\u001b[0m Trial 180 finished with value: 0.81476 and parameters: {'C': 6.20107533390515, 'solver': 'liblinear', 'max_iter': 113, 'penalty': 'l1'}. Best is trial 2 with value: 0.81476.\u001b[0m\n"
          ]
        },
        {
          "name": "stderr",
          "output_type": "stream",
          "text": [
            "/usr/local/lib/python3.7/dist-packages/sklearn/linear_model/_logistic.py:1526: UserWarning: 'n_jobs' > 1 does not have any effect when 'solver' is set to 'liblinear'. Got 'n_jobs' = 2.\n",
            "  \" = {}.\".format(effective_n_jobs(self.n_jobs))\n"
          ]
        },
        {
          "name": "stdout",
          "output_type": "stream",
          "text": [
            "\u001b[32m[I 2022-10-10 00:40:43,182]\u001b[0m Trial 182 finished with value: 0.81468 and parameters: {'C': 4.368230419372411, 'solver': 'liblinear', 'max_iter': 107, 'penalty': 'l1'}. Best is trial 2 with value: 0.81476.\u001b[0m\n"
          ]
        },
        {
          "name": "stderr",
          "output_type": "stream",
          "text": [
            "/usr/local/lib/python3.7/dist-packages/sklearn/linear_model/_logistic.py:1526: UserWarning: 'n_jobs' > 1 does not have any effect when 'solver' is set to 'liblinear'. Got 'n_jobs' = 2.\n",
            "  \" = {}.\".format(effective_n_jobs(self.n_jobs))\n"
          ]
        },
        {
          "name": "stdout",
          "output_type": "stream",
          "text": [
            "\u001b[32m[I 2022-10-10 00:40:52,118]\u001b[0m Trial 184 finished with value: 0.81476 and parameters: {'C': 7.156695725185396, 'solver': 'liblinear', 'max_iter': 209, 'penalty': 'l1'}. Best is trial 2 with value: 0.81476.\u001b[0m\n"
          ]
        },
        {
          "name": "stderr",
          "output_type": "stream",
          "text": [
            "/usr/local/lib/python3.7/dist-packages/sklearn/linear_model/_logistic.py:1526: UserWarning: 'n_jobs' > 1 does not have any effect when 'solver' is set to 'liblinear'. Got 'n_jobs' = 2.\n",
            "  \" = {}.\".format(effective_n_jobs(self.n_jobs))\n"
          ]
        },
        {
          "name": "stdout",
          "output_type": "stream",
          "text": [
            "\u001b[32m[I 2022-10-10 00:40:58,182]\u001b[0m Trial 183 finished with value: 0.81472 and parameters: {'C': 6.6981262977750395, 'solver': 'liblinear', 'max_iter': 105, 'penalty': 'l1'}. Best is trial 2 with value: 0.81476.\u001b[0m\n"
          ]
        },
        {
          "name": "stderr",
          "output_type": "stream",
          "text": [
            "/usr/local/lib/python3.7/dist-packages/sklearn/linear_model/_logistic.py:1526: UserWarning: 'n_jobs' > 1 does not have any effect when 'solver' is set to 'liblinear'. Got 'n_jobs' = 2.\n",
            "  \" = {}.\".format(effective_n_jobs(self.n_jobs))\n"
          ]
        },
        {
          "name": "stdout",
          "output_type": "stream",
          "text": [
            "\u001b[32m[I 2022-10-10 00:41:00,579]\u001b[0m Trial 185 finished with value: 0.81476 and parameters: {'C': 6.572633759466942, 'solver': 'liblinear', 'max_iter': 100, 'penalty': 'l1'}. Best is trial 2 with value: 0.81476.\u001b[0m\n"
          ]
        },
        {
          "name": "stderr",
          "output_type": "stream",
          "text": [
            "/usr/local/lib/python3.7/dist-packages/sklearn/linear_model/_logistic.py:1526: UserWarning: 'n_jobs' > 1 does not have any effect when 'solver' is set to 'liblinear'. Got 'n_jobs' = 2.\n",
            "  \" = {}.\".format(effective_n_jobs(self.n_jobs))\n"
          ]
        },
        {
          "name": "stdout",
          "output_type": "stream",
          "text": [
            "\u001b[32m[I 2022-10-10 00:41:05,569]\u001b[0m Trial 187 finished with value: 0.81468 and parameters: {'C': 5.9631108424390264, 'solver': 'liblinear', 'max_iter': 124, 'penalty': 'l1'}. Best is trial 2 with value: 0.81476.\u001b[0m\n",
            "\u001b[32m[I 2022-10-10 00:41:05,897]\u001b[0m Trial 186 finished with value: 0.81476 and parameters: {'C': 5.104535577411623, 'solver': 'liblinear', 'max_iter': 230, 'penalty': 'l1'}. Best is trial 2 with value: 0.81476.\u001b[0m\n"
          ]
        },
        {
          "name": "stderr",
          "output_type": "stream",
          "text": [
            "/usr/local/lib/python3.7/dist-packages/sklearn/linear_model/_logistic.py:1526: UserWarning: 'n_jobs' > 1 does not have any effect when 'solver' is set to 'liblinear'. Got 'n_jobs' = 2.\n",
            "  \" = {}.\".format(effective_n_jobs(self.n_jobs))\n"
          ]
        },
        {
          "name": "stdout",
          "output_type": "stream",
          "text": [
            "\u001b[32m[I 2022-10-10 00:41:13,105]\u001b[0m Trial 189 finished with value: 0.81476 and parameters: {'C': 5.656620592370308, 'solver': 'liblinear', 'max_iter': 117, 'penalty': 'l1'}. Best is trial 2 with value: 0.81476.\u001b[0m\n"
          ]
        },
        {
          "name": "stderr",
          "output_type": "stream",
          "text": [
            "/usr/local/lib/python3.7/dist-packages/sklearn/linear_model/_logistic.py:1526: UserWarning: 'n_jobs' > 1 does not have any effect when 'solver' is set to 'liblinear'. Got 'n_jobs' = 2.\n",
            "  \" = {}.\".format(effective_n_jobs(self.n_jobs))\n"
          ]
        },
        {
          "name": "stdout",
          "output_type": "stream",
          "text": [
            "\u001b[32m[I 2022-10-10 00:41:20,368]\u001b[0m Trial 190 finished with value: 0.81476 and parameters: {'C': 7.56088188021098, 'solver': 'liblinear', 'max_iter': 115, 'penalty': 'l1'}. Best is trial 2 with value: 0.81476.\u001b[0m\n"
          ]
        },
        {
          "name": "stderr",
          "output_type": "stream",
          "text": [
            "/usr/local/lib/python3.7/dist-packages/sklearn/linear_model/_logistic.py:1526: UserWarning: 'n_jobs' > 1 does not have any effect when 'solver' is set to 'liblinear'. Got 'n_jobs' = 2.\n",
            "  \" = {}.\".format(effective_n_jobs(self.n_jobs))\n"
          ]
        },
        {
          "name": "stdout",
          "output_type": "stream",
          "text": [
            "\u001b[32m[I 2022-10-10 00:41:25,422]\u001b[0m Trial 188 finished with value: 0.81472 and parameters: {'C': 4.624959427496092, 'solver': 'newton-cg', 'max_iter': 236}. Best is trial 2 with value: 0.81476.\u001b[0m\n"
          ]
        },
        {
          "name": "stderr",
          "output_type": "stream",
          "text": [
            "/usr/local/lib/python3.7/dist-packages/sklearn/linear_model/_logistic.py:1526: UserWarning: 'n_jobs' > 1 does not have any effect when 'solver' is set to 'liblinear'. Got 'n_jobs' = 2.\n",
            "  \" = {}.\".format(effective_n_jobs(self.n_jobs))\n"
          ]
        },
        {
          "name": "stdout",
          "output_type": "stream",
          "text": [
            "\u001b[32m[I 2022-10-10 00:41:27,210]\u001b[0m Trial 191 finished with value: 0.81476 and parameters: {'C': 7.93294423201623, 'solver': 'liblinear', 'max_iter': 117, 'penalty': 'l1'}. Best is trial 2 with value: 0.81476.\u001b[0m\n"
          ]
        },
        {
          "name": "stderr",
          "output_type": "stream",
          "text": [
            "/usr/local/lib/python3.7/dist-packages/sklearn/linear_model/_logistic.py:1526: UserWarning: 'n_jobs' > 1 does not have any effect when 'solver' is set to 'liblinear'. Got 'n_jobs' = 2.\n",
            "  \" = {}.\".format(effective_n_jobs(self.n_jobs))\n"
          ]
        },
        {
          "name": "stdout",
          "output_type": "stream",
          "text": [
            "\u001b[32m[I 2022-10-10 00:41:29,959]\u001b[0m Trial 192 finished with value: 0.81468 and parameters: {'C': 5.51692829685621, 'solver': 'liblinear', 'max_iter': 108, 'penalty': 'l1'}. Best is trial 2 with value: 0.81476.\u001b[0m\n"
          ]
        },
        {
          "name": "stderr",
          "output_type": "stream",
          "text": [
            "/usr/local/lib/python3.7/dist-packages/sklearn/linear_model/_logistic.py:1526: UserWarning: 'n_jobs' > 1 does not have any effect when 'solver' is set to 'liblinear'. Got 'n_jobs' = 2.\n",
            "  \" = {}.\".format(effective_n_jobs(self.n_jobs))\n"
          ]
        },
        {
          "name": "stdout",
          "output_type": "stream",
          "text": [
            "\u001b[32m[I 2022-10-10 00:41:34,973]\u001b[0m Trial 194 finished with value: 0.81468 and parameters: {'C': 6.926296679206674, 'solver': 'liblinear', 'max_iter': 323, 'penalty': 'l1'}. Best is trial 2 with value: 0.81476.\u001b[0m\n"
          ]
        },
        {
          "name": "stderr",
          "output_type": "stream",
          "text": [
            "/usr/local/lib/python3.7/dist-packages/sklearn/linear_model/_logistic.py:1526: UserWarning: 'n_jobs' > 1 does not have any effect when 'solver' is set to 'liblinear'. Got 'n_jobs' = 2.\n",
            "  \" = {}.\".format(effective_n_jobs(self.n_jobs))\n"
          ]
        },
        {
          "name": "stdout",
          "output_type": "stream",
          "text": [
            "\u001b[32m[I 2022-10-10 00:41:37,393]\u001b[0m Trial 193 finished with value: 0.81476 and parameters: {'C': 4.866598899849556, 'solver': 'liblinear', 'max_iter': 109, 'penalty': 'l1'}. Best is trial 2 with value: 0.81476.\u001b[0m\n"
          ]
        },
        {
          "name": "stderr",
          "output_type": "stream",
          "text": [
            "/usr/local/lib/python3.7/dist-packages/sklearn/linear_model/_logistic.py:1526: UserWarning: 'n_jobs' > 1 does not have any effect when 'solver' is set to 'liblinear'. Got 'n_jobs' = 2.\n",
            "  \" = {}.\".format(effective_n_jobs(self.n_jobs))\n"
          ]
        },
        {
          "name": "stdout",
          "output_type": "stream",
          "text": [
            "\u001b[32m[I 2022-10-10 00:41:41,576]\u001b[0m Trial 196 finished with value: 0.81468 and parameters: {'C': 7.339217355090095, 'solver': 'liblinear', 'max_iter': 124, 'penalty': 'l1'}. Best is trial 2 with value: 0.81476.\u001b[0m\n"
          ]
        },
        {
          "name": "stderr",
          "output_type": "stream",
          "text": [
            "/usr/local/lib/python3.7/dist-packages/sklearn/linear_model/_logistic.py:1526: UserWarning: 'n_jobs' > 1 does not have any effect when 'solver' is set to 'liblinear'. Got 'n_jobs' = 2.\n",
            "  \" = {}.\".format(effective_n_jobs(self.n_jobs))\n"
          ]
        },
        {
          "name": "stdout",
          "output_type": "stream",
          "text": [
            "\u001b[32m[I 2022-10-10 00:41:44,528]\u001b[0m Trial 195 finished with value: 0.81476 and parameters: {'C': 6.288495498526795, 'solver': 'liblinear', 'max_iter': 135, 'penalty': 'l1'}. Best is trial 2 with value: 0.81476.\u001b[0m\n"
          ]
        },
        {
          "name": "stderr",
          "output_type": "stream",
          "text": [
            "/usr/local/lib/python3.7/dist-packages/sklearn/linear_model/_logistic.py:1526: UserWarning: 'n_jobs' > 1 does not have any effect when 'solver' is set to 'liblinear'. Got 'n_jobs' = 2.\n",
            "  \" = {}.\".format(effective_n_jobs(self.n_jobs))\n"
          ]
        },
        {
          "name": "stdout",
          "output_type": "stream",
          "text": [
            "\u001b[32m[I 2022-10-10 00:41:48,830]\u001b[0m Trial 197 finished with value: 0.81476 and parameters: {'C': 7.378921686599762, 'solver': 'liblinear', 'max_iter': 222, 'penalty': 'l1'}. Best is trial 2 with value: 0.81476.\u001b[0m\n"
          ]
        },
        {
          "name": "stderr",
          "output_type": "stream",
          "text": [
            "/usr/local/lib/python3.7/dist-packages/sklearn/linear_model/_logistic.py:1526: UserWarning: 'n_jobs' > 1 does not have any effect when 'solver' is set to 'liblinear'. Got 'n_jobs' = 2.\n",
            "  \" = {}.\".format(effective_n_jobs(self.n_jobs))\n"
          ]
        },
        {
          "name": "stdout",
          "output_type": "stream",
          "text": [
            "\u001b[32m[I 2022-10-10 00:41:50,766]\u001b[0m Trial 198 finished with value: 0.81468 and parameters: {'C': 5.114051879678075, 'solver': 'liblinear', 'max_iter': 214, 'penalty': 'l1'}. Best is trial 2 with value: 0.81476.\u001b[0m\n"
          ]
        },
        {
          "name": "stderr",
          "output_type": "stream",
          "text": [
            "/usr/local/lib/python3.7/dist-packages/sklearn/linear_model/_logistic.py:1526: UserWarning: 'n_jobs' > 1 does not have any effect when 'solver' is set to 'liblinear'. Got 'n_jobs' = 2.\n",
            "  \" = {}.\".format(effective_n_jobs(self.n_jobs))\n"
          ]
        },
        {
          "name": "stdout",
          "output_type": "stream",
          "text": [
            "\u001b[32m[I 2022-10-10 00:41:51,455]\u001b[0m Trial 199 finished with value: 0.81468 and parameters: {'C': 5.09617879437383, 'solver': 'liblinear', 'max_iter': 233, 'penalty': 'l1'}. Best is trial 2 with value: 0.81476.\u001b[0m\n"
          ]
        },
        {
          "name": "stderr",
          "output_type": "stream",
          "text": [
            "/usr/local/lib/python3.7/dist-packages/sklearn/linear_model/_logistic.py:1526: UserWarning: 'n_jobs' > 1 does not have any effect when 'solver' is set to 'liblinear'. Got 'n_jobs' = 2.\n",
            "  \" = {}.\".format(effective_n_jobs(self.n_jobs))\n"
          ]
        },
        {
          "name": "stdout",
          "output_type": "stream",
          "text": [
            "\u001b[32m[I 2022-10-10 00:41:55,007]\u001b[0m Trial 201 finished with value: 0.81468 and parameters: {'C': 6.125929135410453, 'solver': 'liblinear', 'max_iter': 238, 'penalty': 'l1'}. Best is trial 2 with value: 0.81476.\u001b[0m\n"
          ]
        },
        {
          "name": "stderr",
          "output_type": "stream",
          "text": [
            "/usr/local/lib/python3.7/dist-packages/sklearn/linear_model/_logistic.py:1526: UserWarning: 'n_jobs' > 1 does not have any effect when 'solver' is set to 'liblinear'. Got 'n_jobs' = 2.\n",
            "  \" = {}.\".format(effective_n_jobs(self.n_jobs))\n"
          ]
        },
        {
          "name": "stdout",
          "output_type": "stream",
          "text": [
            "\u001b[32m[I 2022-10-10 00:41:58,032]\u001b[0m Trial 200 finished with value: 0.81476 and parameters: {'C': 9.886606603942568, 'solver': 'liblinear', 'max_iter': 242, 'penalty': 'l1'}. Best is trial 2 with value: 0.81476.\u001b[0m\n",
            "\u001b[32m[I 2022-10-10 00:42:02,270]\u001b[0m Trial 202 finished with value: 0.81476 and parameters: {'C': 7.157608046349552, 'solver': 'liblinear', 'max_iter': 143, 'penalty': 'l1'}. Best is trial 2 with value: 0.81476.\u001b[0m\n",
            "\u001b[32m[I 2022-10-10 00:42:03,938]\u001b[0m Trial 204 finished with value: 0.78636 and parameters: {'C': 2.574742478057175, 'solver': 'lbfgs', 'max_iter': 287}. Best is trial 2 with value: 0.81476.\u001b[0m\n"
          ]
        },
        {
          "name": "stderr",
          "output_type": "stream",
          "text": [
            "/usr/local/lib/python3.7/dist-packages/sklearn/linear_model/_logistic.py:1526: UserWarning: 'n_jobs' > 1 does not have any effect when 'solver' is set to 'liblinear'. Got 'n_jobs' = 2.\n",
            "  \" = {}.\".format(effective_n_jobs(self.n_jobs))\n"
          ]
        },
        {
          "name": "stdout",
          "output_type": "stream",
          "text": [
            "\u001b[32m[I 2022-10-10 00:42:07,302]\u001b[0m Trial 205 finished with value: 0.81468 and parameters: {'C': 6.614990351962888, 'solver': 'liblinear', 'max_iter': 208, 'penalty': 'l1'}. Best is trial 2 with value: 0.81476.\u001b[0m\n"
          ]
        },
        {
          "name": "stderr",
          "output_type": "stream",
          "text": [
            "/usr/local/lib/python3.7/dist-packages/sklearn/linear_model/_sag.py:354: ConvergenceWarning: The max_iter was reached which means the coef_ did not converge\n",
            "  ConvergenceWarning,\n"
          ]
        },
        {
          "name": "stdout",
          "output_type": "stream",
          "text": [
            "\u001b[32m[I 2022-10-10 00:42:14,504]\u001b[0m Trial 206 finished with value: 0.77108 and parameters: {'C': 6.755858154668027, 'solver': 'saga', 'max_iter': 101, 'penalty': 'l1'}. Best is trial 2 with value: 0.81476.\u001b[0m\n"
          ]
        },
        {
          "name": "stderr",
          "output_type": "stream",
          "text": [
            "/usr/local/lib/python3.7/dist-packages/sklearn/linear_model/_logistic.py:1526: UserWarning: 'n_jobs' > 1 does not have any effect when 'solver' is set to 'liblinear'. Got 'n_jobs' = 2.\n",
            "  \" = {}.\".format(effective_n_jobs(self.n_jobs))\n",
            "/usr/local/lib/python3.7/dist-packages/sklearn/linear_model/_sag.py:354: ConvergenceWarning: The max_iter was reached which means the coef_ did not converge\n",
            "  ConvergenceWarning,\n"
          ]
        },
        {
          "name": "stdout",
          "output_type": "stream",
          "text": [
            "\u001b[32m[I 2022-10-10 00:42:16,799]\u001b[0m Trial 203 finished with value: 0.77108 and parameters: {'C': 9.98996754443361, 'solver': 'saga', 'max_iter': 308, 'penalty': 'l2'}. Best is trial 2 with value: 0.81476.\u001b[0m\n"
          ]
        },
        {
          "name": "stderr",
          "output_type": "stream",
          "text": [
            "/usr/local/lib/python3.7/dist-packages/sklearn/linear_model/_logistic.py:1526: UserWarning: 'n_jobs' > 1 does not have any effect when 'solver' is set to 'liblinear'. Got 'n_jobs' = 2.\n",
            "  \" = {}.\".format(effective_n_jobs(self.n_jobs))\n",
            "/usr/local/lib/python3.7/dist-packages/sklearn/svm/_base.py:1208: ConvergenceWarning: Liblinear failed to converge, increase the number of iterations.\n",
            "  ConvergenceWarning,\n"
          ]
        },
        {
          "name": "stdout",
          "output_type": "stream",
          "text": [
            "\u001b[32m[I 2022-10-10 00:42:19,406]\u001b[0m Trial 207 finished with value: 0.77408 and parameters: {'C': 8.253281395148326, 'solver': 'liblinear', 'max_iter': 114, 'penalty': 'l2'}. Best is trial 2 with value: 0.81476.\u001b[0m\n"
          ]
        },
        {
          "name": "stderr",
          "output_type": "stream",
          "text": [
            "/usr/local/lib/python3.7/dist-packages/sklearn/linear_model/_logistic.py:1526: UserWarning: 'n_jobs' > 1 does not have any effect when 'solver' is set to 'liblinear'. Got 'n_jobs' = 2.\n",
            "  \" = {}.\".format(effective_n_jobs(self.n_jobs))\n"
          ]
        },
        {
          "name": "stdout",
          "output_type": "stream",
          "text": [
            "\u001b[32m[I 2022-10-10 00:42:27,374]\u001b[0m Trial 208 finished with value: 0.81476 and parameters: {'C': 6.450159111993052, 'solver': 'liblinear', 'max_iter': 102, 'penalty': 'l1'}. Best is trial 2 with value: 0.81476.\u001b[0m\n",
            "\u001b[32m[I 2022-10-10 00:42:28,310]\u001b[0m Trial 209 finished with value: 0.81476 and parameters: {'C': 7.856867761248247, 'solver': 'liblinear', 'max_iter': 112, 'penalty': 'l1'}. Best is trial 2 with value: 0.81476.\u001b[0m\n",
            "\u001b[32m[I 2022-10-10 00:42:39,857]\u001b[0m Trial 211 finished with value: 0.81476 and parameters: {'C': 3.713601801407812, 'solver': 'newton-cg', 'max_iter': 100}. Best is trial 2 with value: 0.81476.\u001b[0m\n",
            "\u001b[32m[I 2022-10-10 00:42:45,202]\u001b[0m Trial 210 finished with value: 0.81472 and parameters: {'C': 9.001572392042691, 'solver': 'newton-cg', 'max_iter': 146}. Best is trial 2 with value: 0.81476.\u001b[0m\n",
            "\u001b[32m[I 2022-10-10 00:42:57,796]\u001b[0m Trial 212 finished with value: 0.81472 and parameters: {'C': 3.6437987819585036, 'solver': 'newton-cg', 'max_iter': 147}. Best is trial 2 with value: 0.81476.\u001b[0m\n",
            "\u001b[32m[I 2022-10-10 00:43:16,467]\u001b[0m Trial 213 finished with value: 0.81472 and parameters: {'C': 3.673547007457766, 'solver': 'newton-cg', 'max_iter': 362}. Best is trial 2 with value: 0.81476.\u001b[0m\n",
            "\u001b[32m[I 2022-10-10 00:43:26,279]\u001b[0m Trial 214 finished with value: 0.81472 and parameters: {'C': 3.35966539909584, 'solver': 'newton-cg', 'max_iter': 362}. Best is trial 2 with value: 0.81476.\u001b[0m\n"
          ]
        },
        {
          "name": "stderr",
          "output_type": "stream",
          "text": [
            "/usr/local/lib/python3.7/dist-packages/sklearn/linear_model/_logistic.py:1526: UserWarning: 'n_jobs' > 1 does not have any effect when 'solver' is set to 'liblinear'. Got 'n_jobs' = 2.\n",
            "  \" = {}.\".format(effective_n_jobs(self.n_jobs))\n"
          ]
        },
        {
          "name": "stdout",
          "output_type": "stream",
          "text": [
            "\u001b[32m[I 2022-10-10 00:43:29,762]\u001b[0m Trial 216 finished with value: 0.81468 and parameters: {'C': 7.405554666165333, 'solver': 'liblinear', 'max_iter': 222, 'penalty': 'l1'}. Best is trial 2 with value: 0.81476.\u001b[0m\n"
          ]
        },
        {
          "name": "stderr",
          "output_type": "stream",
          "text": [
            "/usr/local/lib/python3.7/dist-packages/sklearn/linear_model/_logistic.py:1526: UserWarning: 'n_jobs' > 1 does not have any effect when 'solver' is set to 'liblinear'. Got 'n_jobs' = 2.\n",
            "  \" = {}.\".format(effective_n_jobs(self.n_jobs))\n"
          ]
        },
        {
          "name": "stdout",
          "output_type": "stream",
          "text": [
            "\u001b[32m[I 2022-10-10 00:43:31,279]\u001b[0m Trial 217 finished with value: 0.81468 and parameters: {'C': 5.841054262894013, 'solver': 'liblinear', 'max_iter': 225, 'penalty': 'l1'}. Best is trial 2 with value: 0.81476.\u001b[0m\n"
          ]
        },
        {
          "name": "stderr",
          "output_type": "stream",
          "text": [
            "/usr/local/lib/python3.7/dist-packages/sklearn/linear_model/_logistic.py:1526: UserWarning: 'n_jobs' > 1 does not have any effect when 'solver' is set to 'liblinear'. Got 'n_jobs' = 2.\n",
            "  \" = {}.\".format(effective_n_jobs(self.n_jobs))\n"
          ]
        },
        {
          "name": "stdout",
          "output_type": "stream",
          "text": [
            "\u001b[32m[I 2022-10-10 00:43:33,628]\u001b[0m Trial 218 finished with value: 0.81468 and parameters: {'C': 2.9215033434715822, 'solver': 'liblinear', 'max_iter': 244, 'penalty': 'l1'}. Best is trial 2 with value: 0.81476.\u001b[0m\n"
          ]
        },
        {
          "name": "stderr",
          "output_type": "stream",
          "text": [
            "/usr/local/lib/python3.7/dist-packages/sklearn/linear_model/_logistic.py:1526: UserWarning: 'n_jobs' > 1 does not have any effect when 'solver' is set to 'liblinear'. Got 'n_jobs' = 2.\n",
            "  \" = {}.\".format(effective_n_jobs(self.n_jobs))\n",
            "/usr/local/lib/python3.7/dist-packages/sklearn/linear_model/_sag.py:354: ConvergenceWarning: The max_iter was reached which means the coef_ did not converge\n",
            "  ConvergenceWarning,\n"
          ]
        },
        {
          "name": "stdout",
          "output_type": "stream",
          "text": [
            "\u001b[32m[I 2022-10-10 00:43:38,645]\u001b[0m Trial 215 finished with value: 0.77108 and parameters: {'C': 5.262954856772101, 'solver': 'sag', 'max_iter': 355}. Best is trial 2 with value: 0.81476.\u001b[0m\n"
          ]
        },
        {
          "name": "stderr",
          "output_type": "stream",
          "text": [
            "/usr/local/lib/python3.7/dist-packages/sklearn/linear_model/_logistic.py:1526: UserWarning: 'n_jobs' > 1 does not have any effect when 'solver' is set to 'liblinear'. Got 'n_jobs' = 2.\n",
            "  \" = {}.\".format(effective_n_jobs(self.n_jobs))\n"
          ]
        },
        {
          "name": "stdout",
          "output_type": "stream",
          "text": [
            "\u001b[32m[I 2022-10-10 00:43:41,405]\u001b[0m Trial 219 finished with value: 0.81476 and parameters: {'C': 9.399833300036788, 'solver': 'liblinear', 'max_iter': 133, 'penalty': 'l1'}. Best is trial 2 with value: 0.81476.\u001b[0m\n",
            "\u001b[32m[I 2022-10-10 00:43:41,549]\u001b[0m Trial 220 finished with value: 0.81468 and parameters: {'C': 5.694632577847516, 'solver': 'liblinear', 'max_iter': 231, 'penalty': 'l1'}. Best is trial 2 with value: 0.81476.\u001b[0m\n"
          ]
        },
        {
          "name": "stderr",
          "output_type": "stream",
          "text": [
            "/usr/local/lib/python3.7/dist-packages/sklearn/linear_model/_logistic.py:1526: UserWarning: 'n_jobs' > 1 does not have any effect when 'solver' is set to 'liblinear'. Got 'n_jobs' = 2.\n",
            "  \" = {}.\".format(effective_n_jobs(self.n_jobs))\n",
            "/usr/local/lib/python3.7/dist-packages/sklearn/linear_model/_logistic.py:1526: UserWarning: 'n_jobs' > 1 does not have any effect when 'solver' is set to 'liblinear'. Got 'n_jobs' = 2.\n",
            "  \" = {}.\".format(effective_n_jobs(self.n_jobs))\n"
          ]
        },
        {
          "name": "stdout",
          "output_type": "stream",
          "text": [
            "\u001b[32m[I 2022-10-10 00:43:43,597]\u001b[0m Trial 222 finished with value: 0.81468 and parameters: {'C': 7.010455082431293, 'solver': 'liblinear', 'max_iter': 117, 'penalty': 'l1'}. Best is trial 2 with value: 0.81476.\u001b[0m\n"
          ]
        },
        {
          "name": "stderr",
          "output_type": "stream",
          "text": [
            "/usr/local/lib/python3.7/dist-packages/sklearn/linear_model/_logistic.py:1526: UserWarning: 'n_jobs' > 1 does not have any effect when 'solver' is set to 'liblinear'. Got 'n_jobs' = 2.\n",
            "  \" = {}.\".format(effective_n_jobs(self.n_jobs))\n"
          ]
        },
        {
          "name": "stdout",
          "output_type": "stream",
          "text": [
            "\u001b[32m[I 2022-10-10 00:43:44,228]\u001b[0m Trial 221 finished with value: 0.81468 and parameters: {'C': 9.08096199457687, 'solver': 'liblinear', 'max_iter': 129, 'penalty': 'l1'}. Best is trial 2 with value: 0.81476.\u001b[0m\n"
          ]
        },
        {
          "name": "stderr",
          "output_type": "stream",
          "text": [
            "/usr/local/lib/python3.7/dist-packages/sklearn/linear_model/_logistic.py:1526: UserWarning: 'n_jobs' > 1 does not have any effect when 'solver' is set to 'liblinear'. Got 'n_jobs' = 2.\n",
            "  \" = {}.\".format(effective_n_jobs(self.n_jobs))\n"
          ]
        },
        {
          "name": "stdout",
          "output_type": "stream",
          "text": [
            "\u001b[32m[I 2022-10-10 00:43:48,974]\u001b[0m Trial 223 finished with value: 0.81468 and parameters: {'C': 6.308891246313942, 'solver': 'liblinear', 'max_iter': 113, 'penalty': 'l1'}. Best is trial 2 with value: 0.81476.\u001b[0m\n",
            "\u001b[32m[I 2022-10-10 00:43:49,053]\u001b[0m Trial 224 finished with value: 0.81468 and parameters: {'C': 6.340846518793983, 'solver': 'liblinear', 'max_iter': 260, 'penalty': 'l1'}. Best is trial 2 with value: 0.81476.\u001b[0m\n"
          ]
        },
        {
          "name": "stderr",
          "output_type": "stream",
          "text": [
            "/usr/local/lib/python3.7/dist-packages/sklearn/linear_model/_logistic.py:1526: UserWarning: 'n_jobs' > 1 does not have any effect when 'solver' is set to 'liblinear'. Got 'n_jobs' = 2.\n",
            "  \" = {}.\".format(effective_n_jobs(self.n_jobs))\n",
            "/usr/local/lib/python3.7/dist-packages/sklearn/linear_model/_logistic.py:1526: UserWarning: 'n_jobs' > 1 does not have any effect when 'solver' is set to 'liblinear'. Got 'n_jobs' = 2.\n",
            "  \" = {}.\".format(effective_n_jobs(self.n_jobs))\n"
          ]
        },
        {
          "name": "stdout",
          "output_type": "stream",
          "text": [
            "\u001b[32m[I 2022-10-10 00:43:49,978]\u001b[0m Trial 225 finished with value: 0.81468 and parameters: {'C': 7.824294488379736, 'solver': 'liblinear', 'max_iter': 112, 'penalty': 'l1'}. Best is trial 2 with value: 0.81476.\u001b[0m\n"
          ]
        },
        {
          "name": "stderr",
          "output_type": "stream",
          "text": [
            "/usr/local/lib/python3.7/dist-packages/sklearn/linear_model/_logistic.py:1526: UserWarning: 'n_jobs' > 1 does not have any effect when 'solver' is set to 'liblinear'. Got 'n_jobs' = 2.\n",
            "  \" = {}.\".format(effective_n_jobs(self.n_jobs))\n"
          ]
        },
        {
          "name": "stdout",
          "output_type": "stream",
          "text": [
            "\u001b[32m[I 2022-10-10 00:43:52,610]\u001b[0m Trial 226 finished with value: 0.81468 and parameters: {'C': 7.895964811762447, 'solver': 'liblinear', 'max_iter': 111, 'penalty': 'l1'}. Best is trial 2 with value: 0.81476.\u001b[0m\n"
          ]
        },
        {
          "name": "stderr",
          "output_type": "stream",
          "text": [
            "/usr/local/lib/python3.7/dist-packages/sklearn/linear_model/_logistic.py:1526: UserWarning: 'n_jobs' > 1 does not have any effect when 'solver' is set to 'liblinear'. Got 'n_jobs' = 2.\n",
            "  \" = {}.\".format(effective_n_jobs(self.n_jobs))\n"
          ]
        },
        {
          "name": "stdout",
          "output_type": "stream",
          "text": [
            "\u001b[32m[I 2022-10-10 00:43:55,520]\u001b[0m Trial 227 finished with value: 0.81468 and parameters: {'C': 7.991916639854853, 'solver': 'liblinear', 'max_iter': 120, 'penalty': 'l1'}. Best is trial 2 with value: 0.81476.\u001b[0m\n"
          ]
        },
        {
          "name": "stderr",
          "output_type": "stream",
          "text": [
            "/usr/local/lib/python3.7/dist-packages/sklearn/linear_model/_logistic.py:1526: UserWarning: 'n_jobs' > 1 does not have any effect when 'solver' is set to 'liblinear'. Got 'n_jobs' = 2.\n",
            "  \" = {}.\".format(effective_n_jobs(self.n_jobs))\n"
          ]
        },
        {
          "name": "stdout",
          "output_type": "stream",
          "text": [
            "\u001b[32m[I 2022-10-10 00:43:57,083]\u001b[0m Trial 228 finished with value: 0.81468 and parameters: {'C': 7.202954010451282, 'solver': 'liblinear', 'max_iter': 122, 'penalty': 'l1'}. Best is trial 2 with value: 0.81476.\u001b[0m\n"
          ]
        },
        {
          "name": "stderr",
          "output_type": "stream",
          "text": [
            "/usr/local/lib/python3.7/dist-packages/sklearn/linear_model/_logistic.py:1526: UserWarning: 'n_jobs' > 1 does not have any effect when 'solver' is set to 'liblinear'. Got 'n_jobs' = 2.\n",
            "  \" = {}.\".format(effective_n_jobs(self.n_jobs))\n"
          ]
        },
        {
          "name": "stdout",
          "output_type": "stream",
          "text": [
            "\u001b[32m[I 2022-10-10 00:44:07,657]\u001b[0m Trial 229 finished with value: 0.81476 and parameters: {'C': 7.717470596214871, 'solver': 'liblinear', 'max_iter': 137, 'penalty': 'l1'}. Best is trial 2 with value: 0.81476.\u001b[0m\n"
          ]
        },
        {
          "name": "stderr",
          "output_type": "stream",
          "text": [
            "/usr/local/lib/python3.7/dist-packages/sklearn/linear_model/_logistic.py:1526: UserWarning: 'n_jobs' > 1 does not have any effect when 'solver' is set to 'liblinear'. Got 'n_jobs' = 2.\n",
            "  \" = {}.\".format(effective_n_jobs(self.n_jobs))\n"
          ]
        },
        {
          "name": "stdout",
          "output_type": "stream",
          "text": [
            "\u001b[32m[I 2022-10-10 00:44:08,280]\u001b[0m Trial 230 finished with value: 0.81476 and parameters: {'C': 6.633026798445428, 'solver': 'liblinear', 'max_iter': 105, 'penalty': 'l1'}. Best is trial 2 with value: 0.81476.\u001b[0m\n"
          ]
        },
        {
          "name": "stderr",
          "output_type": "stream",
          "text": [
            "/usr/local/lib/python3.7/dist-packages/sklearn/linear_model/_logistic.py:1526: UserWarning: 'n_jobs' > 1 does not have any effect when 'solver' is set to 'liblinear'. Got 'n_jobs' = 2.\n",
            "  \" = {}.\".format(effective_n_jobs(self.n_jobs))\n"
          ]
        },
        {
          "name": "stdout",
          "output_type": "stream",
          "text": [
            "\u001b[32m[I 2022-10-10 00:44:14,360]\u001b[0m Trial 231 finished with value: 0.81476 and parameters: {'C': 6.053518129001947, 'solver': 'liblinear', 'max_iter': 105, 'penalty': 'l1'}. Best is trial 2 with value: 0.81476.\u001b[0m\n"
          ]
        },
        {
          "name": "stderr",
          "output_type": "stream",
          "text": [
            "/usr/local/lib/python3.7/dist-packages/sklearn/linear_model/_logistic.py:1526: UserWarning: 'n_jobs' > 1 does not have any effect when 'solver' is set to 'liblinear'. Got 'n_jobs' = 2.\n",
            "  \" = {}.\".format(effective_n_jobs(self.n_jobs))\n"
          ]
        },
        {
          "name": "stdout",
          "output_type": "stream",
          "text": [
            "\u001b[32m[I 2022-10-10 00:44:17,392]\u001b[0m Trial 232 finished with value: 0.81476 and parameters: {'C': 9.768763043672022, 'solver': 'liblinear', 'max_iter': 106, 'penalty': 'l1'}. Best is trial 2 with value: 0.81476.\u001b[0m\n"
          ]
        },
        {
          "name": "stderr",
          "output_type": "stream",
          "text": [
            "/usr/local/lib/python3.7/dist-packages/sklearn/linear_model/_logistic.py:1526: UserWarning: 'n_jobs' > 1 does not have any effect when 'solver' is set to 'liblinear'. Got 'n_jobs' = 2.\n",
            "  \" = {}.\".format(effective_n_jobs(self.n_jobs))\n"
          ]
        },
        {
          "name": "stdout",
          "output_type": "stream",
          "text": [
            "\u001b[32m[I 2022-10-10 00:44:22,176]\u001b[0m Trial 234 finished with value: 0.81468 and parameters: {'C': 6.159060839244443, 'solver': 'liblinear', 'max_iter': 103, 'penalty': 'l1'}. Best is trial 2 with value: 0.81476.\u001b[0m\n"
          ]
        },
        {
          "name": "stderr",
          "output_type": "stream",
          "text": [
            "/usr/local/lib/python3.7/dist-packages/sklearn/linear_model/_logistic.py:1526: UserWarning: 'n_jobs' > 1 does not have any effect when 'solver' is set to 'liblinear'. Got 'n_jobs' = 2.\n",
            "  \" = {}.\".format(effective_n_jobs(self.n_jobs))\n"
          ]
        },
        {
          "name": "stdout",
          "output_type": "stream",
          "text": [
            "\u001b[32m[I 2022-10-10 00:44:23,894]\u001b[0m Trial 233 finished with value: 0.81476 and parameters: {'C': 6.200646075294528, 'solver': 'liblinear', 'max_iter': 110, 'penalty': 'l1'}. Best is trial 2 with value: 0.81476.\u001b[0m\n",
            "\u001b[32m[I 2022-10-10 00:44:23,982]\u001b[0m Trial 235 finished with value: 0.81468 and parameters: {'C': 7.5104074861172805, 'solver': 'liblinear', 'max_iter': 220, 'penalty': 'l1'}. Best is trial 2 with value: 0.81476.\u001b[0m\n"
          ]
        },
        {
          "name": "stderr",
          "output_type": "stream",
          "text": [
            "/usr/local/lib/python3.7/dist-packages/sklearn/linear_model/_logistic.py:1526: UserWarning: 'n_jobs' > 1 does not have any effect when 'solver' is set to 'liblinear'. Got 'n_jobs' = 2.\n",
            "  \" = {}.\".format(effective_n_jobs(self.n_jobs))\n",
            "/usr/local/lib/python3.7/dist-packages/sklearn/linear_model/_logistic.py:1526: UserWarning: 'n_jobs' > 1 does not have any effect when 'solver' is set to 'liblinear'. Got 'n_jobs' = 2.\n",
            "  \" = {}.\".format(effective_n_jobs(self.n_jobs))\n"
          ]
        },
        {
          "name": "stdout",
          "output_type": "stream",
          "text": [
            "\u001b[32m[I 2022-10-10 00:44:27,477]\u001b[0m Trial 237 finished with value: 0.81468 and parameters: {'C': 8.464204679164412, 'solver': 'liblinear', 'max_iter': 118, 'penalty': 'l1'}. Best is trial 2 with value: 0.81476.\u001b[0m\n"
          ]
        },
        {
          "name": "stderr",
          "output_type": "stream",
          "text": [
            "/usr/local/lib/python3.7/dist-packages/sklearn/linear_model/_logistic.py:1526: UserWarning: 'n_jobs' > 1 does not have any effect when 'solver' is set to 'liblinear'. Got 'n_jobs' = 2.\n",
            "  \" = {}.\".format(effective_n_jobs(self.n_jobs))\n"
          ]
        },
        {
          "name": "stdout",
          "output_type": "stream",
          "text": [
            "\u001b[32m[I 2022-10-10 00:44:32,005]\u001b[0m Trial 238 finished with value: 0.81468 and parameters: {'C': 8.085957418631466, 'solver': 'liblinear', 'max_iter': 240, 'penalty': 'l1'}. Best is trial 2 with value: 0.81476.\u001b[0m\n"
          ]
        },
        {
          "name": "stderr",
          "output_type": "stream",
          "text": [
            "/usr/local/lib/python3.7/dist-packages/sklearn/linear_model/_logistic.py:1526: UserWarning: 'n_jobs' > 1 does not have any effect when 'solver' is set to 'liblinear'. Got 'n_jobs' = 2.\n",
            "  \" = {}.\".format(effective_n_jobs(self.n_jobs))\n"
          ]
        },
        {
          "name": "stdout",
          "output_type": "stream",
          "text": [
            "\u001b[32m[I 2022-10-10 00:44:35,902]\u001b[0m Trial 236 finished with value: 0.81476 and parameters: {'C': 8.456927993998454, 'solver': 'liblinear', 'max_iter': 119, 'penalty': 'l1'}. Best is trial 2 with value: 0.81476.\u001b[0m\n",
            "\u001b[32m[I 2022-10-10 00:44:35,939]\u001b[0m Trial 239 finished with value: 0.81468 and parameters: {'C': 7.5256433980105095, 'solver': 'liblinear', 'max_iter': 117, 'penalty': 'l1'}. Best is trial 2 with value: 0.81476.\u001b[0m\n",
            "\u001b[32m[I 2022-10-10 00:44:37,591]\u001b[0m Trial 240 finished with value: 0.78636 and parameters: {'C': 6.479444020756783, 'solver': 'lbfgs', 'max_iter': 211}. Best is trial 2 with value: 0.81476.\u001b[0m\n",
            "\u001b[32m[I 2022-10-10 00:44:37,668]\u001b[0m Trial 241 finished with value: 0.78636 and parameters: {'C': 6.822152506942002, 'solver': 'lbfgs', 'max_iter': 101}. Best is trial 2 with value: 0.81476.\u001b[0m\n",
            "\u001b[32m[I 2022-10-10 00:44:56,620]\u001b[0m Trial 242 finished with value: 0.81472 and parameters: {'C': 3.1399090368052702, 'solver': 'newton-cg', 'max_iter': 154}. Best is trial 2 with value: 0.81476.\u001b[0m\n"
          ]
        },
        {
          "name": "stderr",
          "output_type": "stream",
          "text": [
            "/usr/local/lib/python3.7/dist-packages/sklearn/linear_model/_logistic.py:1526: UserWarning: 'n_jobs' > 1 does not have any effect when 'solver' is set to 'liblinear'. Got 'n_jobs' = 2.\n",
            "  \" = {}.\".format(effective_n_jobs(self.n_jobs))\n"
          ]
        },
        {
          "name": "stdout",
          "output_type": "stream",
          "text": [
            "\u001b[32m[I 2022-10-10 00:45:00,224]\u001b[0m Trial 244 finished with value: 0.81468 and parameters: {'C': 2.791986230617817, 'solver': 'liblinear', 'max_iter': 386, 'penalty': 'l1'}. Best is trial 2 with value: 0.81476.\u001b[0m\n"
          ]
        },
        {
          "name": "stderr",
          "output_type": "stream",
          "text": [
            "/usr/local/lib/python3.7/dist-packages/sklearn/linear_model/_logistic.py:1526: UserWarning: 'n_jobs' > 1 does not have any effect when 'solver' is set to 'liblinear'. Got 'n_jobs' = 2.\n",
            "  \" = {}.\".format(effective_n_jobs(self.n_jobs))\n"
          ]
        },
        {
          "name": "stdout",
          "output_type": "stream",
          "text": [
            "\u001b[32m[I 2022-10-10 00:45:04,083]\u001b[0m Trial 243 finished with value: 0.81472 and parameters: {'C': 3.09062648036397, 'solver': 'newton-cg', 'max_iter': 389}. Best is trial 2 with value: 0.81476.\u001b[0m\n"
          ]
        },
        {
          "name": "stderr",
          "output_type": "stream",
          "text": [
            "/usr/local/lib/python3.7/dist-packages/sklearn/linear_model/_logistic.py:1526: UserWarning: 'n_jobs' > 1 does not have any effect when 'solver' is set to 'liblinear'. Got 'n_jobs' = 2.\n",
            "  \" = {}.\".format(effective_n_jobs(self.n_jobs))\n"
          ]
        },
        {
          "name": "stdout",
          "output_type": "stream",
          "text": [
            "\u001b[32m[I 2022-10-10 00:45:05,590]\u001b[0m Trial 245 finished with value: 0.81472 and parameters: {'C': 9.409559555412823, 'solver': 'liblinear', 'max_iter': 202, 'penalty': 'l1'}. Best is trial 2 with value: 0.81476.\u001b[0m\n"
          ]
        },
        {
          "name": "stderr",
          "output_type": "stream",
          "text": [
            "/usr/local/lib/python3.7/dist-packages/sklearn/linear_model/_logistic.py:1526: UserWarning: 'n_jobs' > 1 does not have any effect when 'solver' is set to 'liblinear'. Got 'n_jobs' = 2.\n",
            "  \" = {}.\".format(effective_n_jobs(self.n_jobs))\n"
          ]
        },
        {
          "name": "stdout",
          "output_type": "stream",
          "text": [
            "\u001b[32m[I 2022-10-10 00:45:08,904]\u001b[0m Trial 247 finished with value: 0.81468 and parameters: {'C': 9.620137557290743, 'solver': 'liblinear', 'max_iter': 220, 'penalty': 'l1'}. Best is trial 2 with value: 0.81476.\u001b[0m\n"
          ]
        },
        {
          "name": "stderr",
          "output_type": "stream",
          "text": [
            "/usr/local/lib/python3.7/dist-packages/sklearn/linear_model/_logistic.py:1526: UserWarning: 'n_jobs' > 1 does not have any effect when 'solver' is set to 'liblinear'. Got 'n_jobs' = 2.\n",
            "  \" = {}.\".format(effective_n_jobs(self.n_jobs))\n"
          ]
        },
        {
          "name": "stdout",
          "output_type": "stream",
          "text": [
            "\u001b[32m[I 2022-10-10 00:45:20,115]\u001b[0m Trial 248 finished with value: 0.81476 and parameters: {'C': 9.843370646915204, 'solver': 'liblinear', 'max_iter': 133, 'penalty': 'l1'}. Best is trial 2 with value: 0.81476.\u001b[0m\n"
          ]
        },
        {
          "name": "stderr",
          "output_type": "stream",
          "text": [
            "/usr/local/lib/python3.7/dist-packages/sklearn/linear_model/_logistic.py:1526: UserWarning: 'n_jobs' > 1 does not have any effect when 'solver' is set to 'liblinear'. Got 'n_jobs' = 2.\n",
            "  \" = {}.\".format(effective_n_jobs(self.n_jobs))\n"
          ]
        },
        {
          "name": "stdout",
          "output_type": "stream",
          "text": [
            "\u001b[32m[I 2022-10-10 00:45:21,240]\u001b[0m Trial 246 finished with value: 0.81472 and parameters: {'C': 7.738252397318763, 'solver': 'liblinear', 'max_iter': 138, 'penalty': 'l1'}. Best is trial 2 with value: 0.81476.\u001b[0m\n",
            "\u001b[32m[I 2022-10-10 00:45:24,018]\u001b[0m Trial 249 finished with value: 0.81468 and parameters: {'C': 4.864650537972726, 'solver': 'liblinear', 'max_iter': 129, 'penalty': 'l1'}. Best is trial 2 with value: 0.81476.\u001b[0m\n"
          ]
        },
        {
          "name": "stderr",
          "output_type": "stream",
          "text": [
            "/usr/local/lib/python3.7/dist-packages/sklearn/linear_model/_logistic.py:1526: UserWarning: 'n_jobs' > 1 does not have any effect when 'solver' is set to 'liblinear'. Got 'n_jobs' = 2.\n",
            "  \" = {}.\".format(effective_n_jobs(self.n_jobs))\n"
          ]
        },
        {
          "name": "stdout",
          "output_type": "stream",
          "text": [
            "\u001b[32m[I 2022-10-10 00:45:25,543]\u001b[0m Trial 251 finished with value: 0.81468 and parameters: {'C': 8.253247601009747, 'solver': 'liblinear', 'max_iter': 128, 'penalty': 'l1'}. Best is trial 2 with value: 0.81476.\u001b[0m\n"
          ]
        },
        {
          "name": "stderr",
          "output_type": "stream",
          "text": [
            "/usr/local/lib/python3.7/dist-packages/sklearn/linear_model/_logistic.py:1526: UserWarning: 'n_jobs' > 1 does not have any effect when 'solver' is set to 'liblinear'. Got 'n_jobs' = 2.\n",
            "  \" = {}.\".format(effective_n_jobs(self.n_jobs))\n"
          ]
        },
        {
          "name": "stdout",
          "output_type": "stream",
          "text": [
            "\u001b[32m[I 2022-10-10 00:45:27,732]\u001b[0m Trial 252 finished with value: 0.81468 and parameters: {'C': 6.525640908994312, 'solver': 'liblinear', 'max_iter': 217, 'penalty': 'l1'}. Best is trial 2 with value: 0.81476.\u001b[0m\n"
          ]
        },
        {
          "name": "stderr",
          "output_type": "stream",
          "text": [
            "/usr/local/lib/python3.7/dist-packages/sklearn/linear_model/_logistic.py:1526: UserWarning: 'n_jobs' > 1 does not have any effect when 'solver' is set to 'liblinear'. Got 'n_jobs' = 2.\n",
            "  \" = {}.\".format(effective_n_jobs(self.n_jobs))\n"
          ]
        },
        {
          "name": "stdout",
          "output_type": "stream",
          "text": [
            "\u001b[32m[I 2022-10-10 00:45:30,263]\u001b[0m Trial 253 finished with value: 0.81468 and parameters: {'C': 5.732624297890432, 'solver': 'liblinear', 'max_iter': 137, 'penalty': 'l1'}. Best is trial 2 with value: 0.81476.\u001b[0m\n",
            "\u001b[32m[I 2022-10-10 00:45:36,767]\u001b[0m Trial 250 finished with value: 0.81472 and parameters: {'C': 5.2440634966829425, 'solver': 'newton-cg', 'max_iter': 125}. Best is trial 2 with value: 0.81476.\u001b[0m\n",
            "\u001b[32m[I 2022-10-10 00:45:46,738]\u001b[0m Trial 254 finished with value: 0.81472 and parameters: {'C': 3.9096115166932583, 'solver': 'newton-cg', 'max_iter': 181}. Best is trial 2 with value: 0.81476.\u001b[0m\n"
          ]
        },
        {
          "name": "stderr",
          "output_type": "stream",
          "text": [
            "/usr/local/lib/python3.7/dist-packages/sklearn/linear_model/_logistic.py:1526: UserWarning: 'n_jobs' > 1 does not have any effect when 'solver' is set to 'liblinear'. Got 'n_jobs' = 2.\n",
            "  \" = {}.\".format(effective_n_jobs(self.n_jobs))\n"
          ]
        },
        {
          "name": "stdout",
          "output_type": "stream",
          "text": [
            "\u001b[32m[I 2022-10-10 00:45:48,305]\u001b[0m Trial 255 finished with value: 0.81476 and parameters: {'C': 3.969099421614134, 'solver': 'newton-cg', 'max_iter': 100}. Best is trial 2 with value: 0.81476.\u001b[0m\n"
          ]
        },
        {
          "name": "stderr",
          "output_type": "stream",
          "text": [
            "/usr/local/lib/python3.7/dist-packages/sklearn/linear_model/_logistic.py:1526: UserWarning: 'n_jobs' > 1 does not have any effect when 'solver' is set to 'liblinear'. Got 'n_jobs' = 2.\n",
            "  \" = {}.\".format(effective_n_jobs(self.n_jobs))\n"
          ]
        },
        {
          "name": "stdout",
          "output_type": "stream",
          "text": [
            "\u001b[32m[I 2022-10-10 00:45:48,620]\u001b[0m Trial 256 finished with value: 0.81468 and parameters: {'C': 3.3273922253471993, 'solver': 'liblinear', 'max_iter': 229, 'penalty': 'l1'}. Best is trial 2 with value: 0.81476.\u001b[0m\n",
            "\u001b[32m[I 2022-10-10 00:45:49,403]\u001b[0m Trial 257 finished with value: 0.81468 and parameters: {'C': 3.47278971714983, 'solver': 'liblinear', 'max_iter': 231, 'penalty': 'l1'}. Best is trial 2 with value: 0.81476.\u001b[0m\n"
          ]
        },
        {
          "name": "stderr",
          "output_type": "stream",
          "text": [
            "/usr/local/lib/python3.7/dist-packages/sklearn/linear_model/_logistic.py:1526: UserWarning: 'n_jobs' > 1 does not have any effect when 'solver' is set to 'liblinear'. Got 'n_jobs' = 2.\n",
            "  \" = {}.\".format(effective_n_jobs(self.n_jobs))\n"
          ]
        },
        {
          "name": "stdout",
          "output_type": "stream",
          "text": [
            "\u001b[32m[I 2022-10-10 00:45:52,926]\u001b[0m Trial 259 finished with value: 0.81468 and parameters: {'C': 7.19178310344583, 'solver': 'liblinear', 'max_iter': 100, 'penalty': 'l1'}. Best is trial 2 with value: 0.81476.\u001b[0m\n"
          ]
        },
        {
          "name": "stderr",
          "output_type": "stream",
          "text": [
            "/usr/local/lib/python3.7/dist-packages/sklearn/linear_model/_logistic.py:1526: UserWarning: 'n_jobs' > 1 does not have any effect when 'solver' is set to 'liblinear'. Got 'n_jobs' = 2.\n",
            "  \" = {}.\".format(effective_n_jobs(self.n_jobs))\n"
          ]
        },
        {
          "name": "stdout",
          "output_type": "stream",
          "text": [
            "\u001b[32m[I 2022-10-10 00:45:55,167]\u001b[0m Trial 260 finished with value: 0.81468 and parameters: {'C': 5.61266546757782, 'solver': 'liblinear', 'max_iter': 110, 'penalty': 'l1'}. Best is trial 2 with value: 0.81476.\u001b[0m\n"
          ]
        },
        {
          "name": "stderr",
          "output_type": "stream",
          "text": [
            "/usr/local/lib/python3.7/dist-packages/sklearn/linear_model/_logistic.py:1526: UserWarning: 'n_jobs' > 1 does not have any effect when 'solver' is set to 'liblinear'. Got 'n_jobs' = 2.\n",
            "  \" = {}.\".format(effective_n_jobs(self.n_jobs))\n",
            "/usr/local/lib/python3.7/dist-packages/sklearn/linear_model/_sag.py:354: ConvergenceWarning: The max_iter was reached which means the coef_ did not converge\n",
            "  ConvergenceWarning,\n"
          ]
        },
        {
          "name": "stdout",
          "output_type": "stream",
          "text": [
            "\u001b[32m[I 2022-10-10 00:45:55,785]\u001b[0m Trial 258 finished with value: 0.77108 and parameters: {'C': 7.196993894221161, 'solver': 'sag', 'max_iter': 108}. Best is trial 2 with value: 0.81476.\u001b[0m\n"
          ]
        },
        {
          "name": "stderr",
          "output_type": "stream",
          "text": [
            "/usr/local/lib/python3.7/dist-packages/sklearn/linear_model/_logistic.py:1526: UserWarning: 'n_jobs' > 1 does not have any effect when 'solver' is set to 'liblinear'. Got 'n_jobs' = 2.\n",
            "  \" = {}.\".format(effective_n_jobs(self.n_jobs))\n"
          ]
        },
        {
          "name": "stdout",
          "output_type": "stream",
          "text": [
            "\u001b[32m[I 2022-10-10 00:46:04,165]\u001b[0m Trial 262 finished with value: 0.81476 and parameters: {'C': 6.094258533525826, 'solver': 'liblinear', 'max_iter': 252, 'penalty': 'l1'}. Best is trial 2 with value: 0.81476.\u001b[0m\n"
          ]
        },
        {
          "name": "stderr",
          "output_type": "stream",
          "text": [
            "/usr/local/lib/python3.7/dist-packages/sklearn/linear_model/_logistic.py:1526: UserWarning: 'n_jobs' > 1 does not have any effect when 'solver' is set to 'liblinear'. Got 'n_jobs' = 2.\n",
            "  \" = {}.\".format(effective_n_jobs(self.n_jobs))\n",
            "/usr/local/lib/python3.7/dist-packages/sklearn/svm/_base.py:1208: ConvergenceWarning: Liblinear failed to converge, increase the number of iterations.\n",
            "  ConvergenceWarning,\n"
          ]
        },
        {
          "name": "stdout",
          "output_type": "stream",
          "text": [
            "\u001b[32m[I 2022-10-10 00:46:08,926]\u001b[0m Trial 263 finished with value: 0.6416 and parameters: {'C': 6.9145951788654365, 'solver': 'liblinear', 'max_iter': 105, 'penalty': 'l2'}. Best is trial 2 with value: 0.81476.\u001b[0m\n"
          ]
        },
        {
          "name": "stderr",
          "output_type": "stream",
          "text": [
            "/usr/local/lib/python3.7/dist-packages/sklearn/linear_model/_logistic.py:1526: UserWarning: 'n_jobs' > 1 does not have any effect when 'solver' is set to 'liblinear'. Got 'n_jobs' = 2.\n",
            "  \" = {}.\".format(effective_n_jobs(self.n_jobs))\n"
          ]
        },
        {
          "name": "stdout",
          "output_type": "stream",
          "text": [
            "\u001b[32m[I 2022-10-10 00:46:12,698]\u001b[0m Trial 264 finished with value: 0.81468 and parameters: {'C': 5.501249067069876, 'solver': 'liblinear', 'max_iter': 234, 'penalty': 'l1'}. Best is trial 2 with value: 0.81476.\u001b[0m\n"
          ]
        },
        {
          "name": "stderr",
          "output_type": "stream",
          "text": [
            "/usr/local/lib/python3.7/dist-packages/sklearn/linear_model/_logistic.py:1526: UserWarning: 'n_jobs' > 1 does not have any effect when 'solver' is set to 'liblinear'. Got 'n_jobs' = 2.\n",
            "  \" = {}.\".format(effective_n_jobs(self.n_jobs))\n"
          ]
        },
        {
          "name": "stdout",
          "output_type": "stream",
          "text": [
            "\u001b[32m[I 2022-10-10 00:46:13,605]\u001b[0m Trial 261 finished with value: 0.81472 and parameters: {'C': 6.0443925611685225, 'solver': 'liblinear', 'max_iter': 135, 'penalty': 'l1'}. Best is trial 2 with value: 0.81476.\u001b[0m\n"
          ]
        },
        {
          "name": "stderr",
          "output_type": "stream",
          "text": [
            "/usr/local/lib/python3.7/dist-packages/sklearn/linear_model/_logistic.py:1526: UserWarning: 'n_jobs' > 1 does not have any effect when 'solver' is set to 'liblinear'. Got 'n_jobs' = 2.\n",
            "  \" = {}.\".format(effective_n_jobs(self.n_jobs))\n"
          ]
        },
        {
          "name": "stdout",
          "output_type": "stream",
          "text": [
            "\u001b[32m[I 2022-10-10 00:46:17,528]\u001b[0m Trial 266 finished with value: 0.81468 and parameters: {'C': 6.713196232669594, 'solver': 'liblinear', 'max_iter': 336, 'penalty': 'l1'}. Best is trial 2 with value: 0.81476.\u001b[0m\n"
          ]
        },
        {
          "name": "stderr",
          "output_type": "stream",
          "text": [
            "/usr/local/lib/python3.7/dist-packages/sklearn/linear_model/_logistic.py:1526: UserWarning: 'n_jobs' > 1 does not have any effect when 'solver' is set to 'liblinear'. Got 'n_jobs' = 2.\n",
            "  \" = {}.\".format(effective_n_jobs(self.n_jobs))\n"
          ]
        },
        {
          "name": "stdout",
          "output_type": "stream",
          "text": [
            "\u001b[32m[I 2022-10-10 00:46:20,101]\u001b[0m Trial 267 finished with value: 0.81468 and parameters: {'C': 9.791795163481405, 'solver': 'liblinear', 'max_iter': 190, 'penalty': 'l1'}. Best is trial 2 with value: 0.81476.\u001b[0m\n",
            "\u001b[32m[I 2022-10-10 00:46:20,210]\u001b[0m Trial 265 finished with value: 0.81476 and parameters: {'C': 9.906389014380311, 'solver': 'liblinear', 'max_iter': 144, 'penalty': 'l1'}. Best is trial 2 with value: 0.81476.\u001b[0m\n"
          ]
        },
        {
          "name": "stderr",
          "output_type": "stream",
          "text": [
            "/usr/local/lib/python3.7/dist-packages/sklearn/linear_model/_logistic.py:1526: UserWarning: 'n_jobs' > 1 does not have any effect when 'solver' is set to 'liblinear'. Got 'n_jobs' = 2.\n",
            "  \" = {}.\".format(effective_n_jobs(self.n_jobs))\n"
          ]
        },
        {
          "name": "stdout",
          "output_type": "stream",
          "text": [
            "\u001b[32m[I 2022-10-10 00:46:22,075]\u001b[0m Trial 269 finished with value: 0.81468 and parameters: {'C': 8.663545763279865, 'solver': 'liblinear', 'max_iter': 106, 'penalty': 'l1'}. Best is trial 2 with value: 0.81476.\u001b[0m\n"
          ]
        },
        {
          "name": "stderr",
          "output_type": "stream",
          "text": [
            "/usr/local/lib/python3.7/dist-packages/sklearn/linear_model/_logistic.py:1526: UserWarning: 'n_jobs' > 1 does not have any effect when 'solver' is set to 'liblinear'. Got 'n_jobs' = 2.\n",
            "  \" = {}.\".format(effective_n_jobs(self.n_jobs))\n"
          ]
        },
        {
          "name": "stdout",
          "output_type": "stream",
          "text": [
            "\u001b[32m[I 2022-10-10 00:46:24,241]\u001b[0m Trial 270 finished with value: 0.81468 and parameters: {'C': 9.56994815171943, 'solver': 'liblinear', 'max_iter': 111, 'penalty': 'l1'}. Best is trial 2 with value: 0.81476.\u001b[0m\n"
          ]
        },
        {
          "name": "stderr",
          "output_type": "stream",
          "text": [
            "/usr/local/lib/python3.7/dist-packages/sklearn/linear_model/_logistic.py:1526: UserWarning: 'n_jobs' > 1 does not have any effect when 'solver' is set to 'liblinear'. Got 'n_jobs' = 2.\n",
            "  \" = {}.\".format(effective_n_jobs(self.n_jobs))\n",
            "/usr/local/lib/python3.7/dist-packages/sklearn/linear_model/_sag.py:354: ConvergenceWarning: The max_iter was reached which means the coef_ did not converge\n",
            "  ConvergenceWarning,\n"
          ]
        },
        {
          "name": "stdout",
          "output_type": "stream",
          "text": [
            "\u001b[32m[I 2022-10-10 00:46:29,418]\u001b[0m Trial 268 finished with value: 0.77108 and parameters: {'C': 9.202269706798806, 'solver': 'saga', 'max_iter': 109, 'penalty': 'l1'}. Best is trial 2 with value: 0.81476.\u001b[0m\n"
          ]
        },
        {
          "name": "stderr",
          "output_type": "stream",
          "text": [
            "/usr/local/lib/python3.7/dist-packages/sklearn/linear_model/_logistic.py:1526: UserWarning: 'n_jobs' > 1 does not have any effect when 'solver' is set to 'liblinear'. Got 'n_jobs' = 2.\n",
            "  \" = {}.\".format(effective_n_jobs(self.n_jobs))\n"
          ]
        },
        {
          "name": "stdout",
          "output_type": "stream",
          "text": [
            "\u001b[32m[I 2022-10-10 00:46:38,127]\u001b[0m Trial 271 finished with value: 0.81476 and parameters: {'C': 9.361744287194028, 'solver': 'liblinear', 'max_iter': 243, 'penalty': 'l1'}. Best is trial 2 with value: 0.81476.\u001b[0m\n"
          ]
        },
        {
          "name": "stderr",
          "output_type": "stream",
          "text": [
            "/usr/local/lib/python3.7/dist-packages/sklearn/linear_model/_logistic.py:1526: UserWarning: 'n_jobs' > 1 does not have any effect when 'solver' is set to 'liblinear'. Got 'n_jobs' = 2.\n",
            "  \" = {}.\".format(effective_n_jobs(self.n_jobs))\n"
          ]
        },
        {
          "name": "stdout",
          "output_type": "stream",
          "text": [
            "\u001b[32m[I 2022-10-10 00:46:39,350]\u001b[0m Trial 272 finished with value: 0.81476 and parameters: {'C': 9.302668097288283, 'solver': 'liblinear', 'max_iter': 133, 'penalty': 'l1'}. Best is trial 2 with value: 0.81476.\u001b[0m\n"
          ]
        },
        {
          "name": "stderr",
          "output_type": "stream",
          "text": [
            "/usr/local/lib/python3.7/dist-packages/sklearn/linear_model/_logistic.py:1526: UserWarning: 'n_jobs' > 1 does not have any effect when 'solver' is set to 'liblinear'. Got 'n_jobs' = 2.\n",
            "  \" = {}.\".format(effective_n_jobs(self.n_jobs))\n"
          ]
        },
        {
          "name": "stdout",
          "output_type": "stream",
          "text": [
            "\u001b[32m[I 2022-10-10 00:46:42,332]\u001b[0m Trial 273 finished with value: 0.81468 and parameters: {'C': 7.079244341275128, 'solver': 'liblinear', 'max_iter': 238, 'penalty': 'l1'}. Best is trial 2 with value: 0.81476.\u001b[0m\n"
          ]
        },
        {
          "name": "stderr",
          "output_type": "stream",
          "text": [
            "/usr/local/lib/python3.7/dist-packages/sklearn/linear_model/_logistic.py:1526: UserWarning: 'n_jobs' > 1 does not have any effect when 'solver' is set to 'liblinear'. Got 'n_jobs' = 2.\n",
            "  \" = {}.\".format(effective_n_jobs(self.n_jobs))\n"
          ]
        },
        {
          "name": "stdout",
          "output_type": "stream",
          "text": [
            "\u001b[32m[I 2022-10-10 00:46:44,635]\u001b[0m Trial 274 finished with value: 0.81468 and parameters: {'C': 7.071376429984782, 'solver': 'liblinear', 'max_iter': 196, 'penalty': 'l1'}. Best is trial 2 with value: 0.81476.\u001b[0m\n"
          ]
        },
        {
          "name": "stderr",
          "output_type": "stream",
          "text": [
            "/usr/local/lib/python3.7/dist-packages/sklearn/linear_model/_logistic.py:1526: UserWarning: 'n_jobs' > 1 does not have any effect when 'solver' is set to 'liblinear'. Got 'n_jobs' = 2.\n",
            "  \" = {}.\".format(effective_n_jobs(self.n_jobs))\n"
          ]
        },
        {
          "name": "stdout",
          "output_type": "stream",
          "text": [
            "\u001b[32m[I 2022-10-10 00:46:51,758]\u001b[0m Trial 275 finished with value: 0.81476 and parameters: {'C': 9.242497203745902, 'solver': 'liblinear', 'max_iter': 138, 'penalty': 'l1'}. Best is trial 2 with value: 0.81476.\u001b[0m\n"
          ]
        },
        {
          "name": "stderr",
          "output_type": "stream",
          "text": [
            "/usr/local/lib/python3.7/dist-packages/sklearn/linear_model/_logistic.py:1526: UserWarning: 'n_jobs' > 1 does not have any effect when 'solver' is set to 'liblinear'. Got 'n_jobs' = 2.\n",
            "  \" = {}.\".format(effective_n_jobs(self.n_jobs))\n"
          ]
        },
        {
          "name": "stdout",
          "output_type": "stream",
          "text": [
            "\u001b[32m[I 2022-10-10 00:46:51,989]\u001b[0m Trial 276 finished with value: 0.81476 and parameters: {'C': 4.4856338304462335, 'solver': 'liblinear', 'max_iter': 150, 'penalty': 'l1'}. Best is trial 2 with value: 0.81476.\u001b[0m\n"
          ]
        },
        {
          "name": "stderr",
          "output_type": "stream",
          "text": [
            "/usr/local/lib/python3.7/dist-packages/sklearn/linear_model/_logistic.py:1526: UserWarning: 'n_jobs' > 1 does not have any effect when 'solver' is set to 'liblinear'. Got 'n_jobs' = 2.\n",
            "  \" = {}.\".format(effective_n_jobs(self.n_jobs))\n"
          ]
        },
        {
          "name": "stdout",
          "output_type": "stream",
          "text": [
            "\u001b[32m[I 2022-10-10 00:46:55,837]\u001b[0m Trial 278 finished with value: 0.81468 and parameters: {'C': 5.391842383599371, 'solver': 'liblinear', 'max_iter': 396, 'penalty': 'l1'}. Best is trial 2 with value: 0.81476.\u001b[0m\n"
          ]
        },
        {
          "name": "stderr",
          "output_type": "stream",
          "text": [
            "/usr/local/lib/python3.7/dist-packages/sklearn/linear_model/_logistic.py:1526: UserWarning: 'n_jobs' > 1 does not have any effect when 'solver' is set to 'liblinear'. Got 'n_jobs' = 2.\n",
            "  \" = {}.\".format(effective_n_jobs(self.n_jobs))\n"
          ]
        },
        {
          "name": "stdout",
          "output_type": "stream",
          "text": [
            "\u001b[32m[I 2022-10-10 00:46:56,073]\u001b[0m Trial 277 finished with value: 0.81468 and parameters: {'C': 4.631729045933995, 'solver': 'liblinear', 'max_iter': 142, 'penalty': 'l1'}. Best is trial 2 with value: 0.81476.\u001b[0m\n"
          ]
        },
        {
          "name": "stderr",
          "output_type": "stream",
          "text": [
            "/usr/local/lib/python3.7/dist-packages/sklearn/svm/_base.py:1208: ConvergenceWarning: Liblinear failed to converge, increase the number of iterations.\n",
            "  ConvergenceWarning,\n"
          ]
        },
        {
          "name": "stdout",
          "output_type": "stream",
          "text": [
            "\u001b[32m[I 2022-10-10 00:47:01,136]\u001b[0m Trial 279 finished with value: 0.78532 and parameters: {'C': 6.787025490608195, 'solver': 'liblinear', 'max_iter': 121, 'penalty': 'l2'}. Best is trial 2 with value: 0.81476.\u001b[0m\n"
          ]
        },
        {
          "name": "stderr",
          "output_type": "stream",
          "text": [
            "/usr/local/lib/python3.7/dist-packages/sklearn/linear_model/_logistic.py:1526: UserWarning: 'n_jobs' > 1 does not have any effect when 'solver' is set to 'liblinear'. Got 'n_jobs' = 2.\n",
            "  \" = {}.\".format(effective_n_jobs(self.n_jobs))\n"
          ]
        },
        {
          "name": "stdout",
          "output_type": "stream",
          "text": [
            "\u001b[32m[I 2022-10-10 00:47:04,875]\u001b[0m Trial 281 finished with value: 0.81468 and parameters: {'C': 5.431825589165748, 'solver': 'liblinear', 'max_iter': 249, 'penalty': 'l1'}. Best is trial 2 with value: 0.81476.\u001b[0m\n"
          ]
        },
        {
          "name": "stderr",
          "output_type": "stream",
          "text": [
            "/usr/local/lib/python3.7/dist-packages/sklearn/linear_model/_logistic.py:1526: UserWarning: 'n_jobs' > 1 does not have any effect when 'solver' is set to 'liblinear'. Got 'n_jobs' = 2.\n",
            "  \" = {}.\".format(effective_n_jobs(self.n_jobs))\n"
          ]
        },
        {
          "name": "stdout",
          "output_type": "stream",
          "text": [
            "\u001b[32m[I 2022-10-10 00:47:08,548]\u001b[0m Trial 280 finished with value: 0.81472 and parameters: {'C': 9.640954793837155, 'solver': 'newton-cg', 'max_iter': 100}. Best is trial 2 with value: 0.81476.\u001b[0m\n",
            "\u001b[32m[I 2022-10-10 00:47:08,719]\u001b[0m Trial 282 finished with value: 0.81468 and parameters: {'C': 9.665992964674366, 'solver': 'liblinear', 'max_iter': 132, 'penalty': 'l1'}. Best is trial 2 with value: 0.81476.\u001b[0m\n"
          ]
        },
        {
          "name": "stderr",
          "output_type": "stream",
          "text": [
            "/usr/local/lib/python3.7/dist-packages/sklearn/linear_model/_logistic.py:1526: UserWarning: 'n_jobs' > 1 does not have any effect when 'solver' is set to 'liblinear'. Got 'n_jobs' = 2.\n",
            "  \" = {}.\".format(effective_n_jobs(self.n_jobs))\n",
            "/usr/local/lib/python3.7/dist-packages/sklearn/linear_model/_logistic.py:1526: UserWarning: 'n_jobs' > 1 does not have any effect when 'solver' is set to 'liblinear'. Got 'n_jobs' = 2.\n",
            "  \" = {}.\".format(effective_n_jobs(self.n_jobs))\n"
          ]
        },
        {
          "name": "stdout",
          "output_type": "stream",
          "text": [
            "\u001b[32m[I 2022-10-10 00:47:13,491]\u001b[0m Trial 283 finished with value: 0.81468 and parameters: {'C': 9.460381342666908, 'solver': 'liblinear', 'max_iter': 106, 'penalty': 'l1'}. Best is trial 2 with value: 0.81476.\u001b[0m\n"
          ]
        },
        {
          "name": "stderr",
          "output_type": "stream",
          "text": [
            "/usr/local/lib/python3.7/dist-packages/sklearn/linear_model/_logistic.py:1526: UserWarning: 'n_jobs' > 1 does not have any effect when 'solver' is set to 'liblinear'. Got 'n_jobs' = 2.\n",
            "  \" = {}.\".format(effective_n_jobs(self.n_jobs))\n"
          ]
        },
        {
          "name": "stdout",
          "output_type": "stream",
          "text": [
            "\u001b[32m[I 2022-10-10 00:47:16,794]\u001b[0m Trial 284 finished with value: 0.81476 and parameters: {'C': 5.854868792314814, 'solver': 'liblinear', 'max_iter': 105, 'penalty': 'l1'}. Best is trial 2 with value: 0.81476.\u001b[0m\n",
            "\u001b[32m[I 2022-10-10 00:47:19,405]\u001b[0m Trial 285 finished with value: 0.81472 and parameters: {'C': 6.193711682937914, 'solver': 'liblinear', 'max_iter': 268, 'penalty': 'l1'}. Best is trial 2 with value: 0.81476.\u001b[0m\n"
          ]
        },
        {
          "name": "stderr",
          "output_type": "stream",
          "text": [
            "/usr/local/lib/python3.7/dist-packages/sklearn/linear_model/_sag.py:354: ConvergenceWarning: The max_iter was reached which means the coef_ did not converge\n",
            "  ConvergenceWarning,\n"
          ]
        },
        {
          "name": "stdout",
          "output_type": "stream",
          "text": [
            "\u001b[32m[I 2022-10-10 00:47:24,226]\u001b[0m Trial 286 finished with value: 0.77108 and parameters: {'C': 8.344680834013971, 'solver': 'sag', 'max_iter': 125}. Best is trial 2 with value: 0.81476.\u001b[0m\n"
          ]
        },
        {
          "name": "stderr",
          "output_type": "stream",
          "text": [
            "/usr/local/lib/python3.7/dist-packages/sklearn/linear_model/_logistic.py:1526: UserWarning: 'n_jobs' > 1 does not have any effect when 'solver' is set to 'liblinear'. Got 'n_jobs' = 2.\n",
            "  \" = {}.\".format(effective_n_jobs(self.n_jobs))\n"
          ]
        },
        {
          "name": "stdout",
          "output_type": "stream",
          "text": [
            "\u001b[32m[I 2022-10-10 00:47:28,258]\u001b[0m Trial 288 finished with value: 0.81468 and parameters: {'C': 5.383997744876379, 'solver': 'liblinear', 'max_iter': 252, 'penalty': 'l1'}. Best is trial 2 with value: 0.81476.\u001b[0m\n",
            "\u001b[32m[I 2022-10-10 00:47:39,482]\u001b[0m Trial 287 finished with value: 0.81472 and parameters: {'C': 9.836456989879387, 'solver': 'newton-cg', 'max_iter': 158}. Best is trial 2 with value: 0.81476.\u001b[0m\n",
            "\u001b[32m[I 2022-10-10 00:47:47,705]\u001b[0m Trial 289 finished with value: 0.81476 and parameters: {'C': 3.083949394542423, 'solver': 'newton-cg', 'max_iter': 157}. Best is trial 2 with value: 0.81476.\u001b[0m\n",
            "\u001b[32m[I 2022-10-10 00:47:57,875]\u001b[0m Trial 290 finished with value: 0.81472 and parameters: {'C': 8.826990430977771, 'solver': 'newton-cg', 'max_iter': 148}. Best is trial 2 with value: 0.81476.\u001b[0m\n",
            "\u001b[32m[I 2022-10-10 00:47:59,681]\u001b[0m Trial 291 finished with value: 0.81472 and parameters: {'C': 8.048437211104236, 'solver': 'newton-cg', 'max_iter': 105}. Best is trial 2 with value: 0.81476.\u001b[0m\n",
            "\u001b[32m[I 2022-10-10 00:48:19,091]\u001b[0m Trial 292 finished with value: 0.81472 and parameters: {'C': 3.046034054497138, 'solver': 'newton-cg', 'max_iter': 168}. Best is trial 2 with value: 0.81476.\u001b[0m\n",
            "\u001b[32m[I 2022-10-10 00:48:19,182]\u001b[0m Trial 293 finished with value: 0.81476 and parameters: {'C': 4.298023078360251, 'solver': 'newton-cg', 'max_iter': 275}. Best is trial 2 with value: 0.81476.\u001b[0m\n"
          ]
        },
        {
          "name": "stderr",
          "output_type": "stream",
          "text": [
            "/usr/local/lib/python3.7/dist-packages/sklearn/linear_model/_logistic.py:1526: UserWarning: 'n_jobs' > 1 does not have any effect when 'solver' is set to 'liblinear'. Got 'n_jobs' = 2.\n",
            "  \" = {}.\".format(effective_n_jobs(self.n_jobs))\n",
            "/usr/local/lib/python3.7/dist-packages/sklearn/linear_model/_logistic.py:1526: UserWarning: 'n_jobs' > 1 does not have any effect when 'solver' is set to 'liblinear'. Got 'n_jobs' = 2.\n",
            "  \" = {}.\".format(effective_n_jobs(self.n_jobs))\n"
          ]
        },
        {
          "name": "stdout",
          "output_type": "stream",
          "text": [
            "\u001b[32m[I 2022-10-10 00:48:22,523]\u001b[0m Trial 295 finished with value: 0.81468 and parameters: {'C': 5.125327123786128, 'solver': 'liblinear', 'max_iter': 378, 'penalty': 'l1'}. Best is trial 2 with value: 0.81476.\u001b[0m\n"
          ]
        },
        {
          "name": "stderr",
          "output_type": "stream",
          "text": [
            "/usr/local/lib/python3.7/dist-packages/sklearn/linear_model/_logistic.py:1526: UserWarning: 'n_jobs' > 1 does not have any effect when 'solver' is set to 'liblinear'. Got 'n_jobs' = 2.\n",
            "  \" = {}.\".format(effective_n_jobs(self.n_jobs))\n"
          ]
        },
        {
          "name": "stdout",
          "output_type": "stream",
          "text": [
            "\u001b[32m[I 2022-10-10 00:48:28,252]\u001b[0m Trial 294 finished with value: 0.81476 and parameters: {'C': 7.442329292671371, 'solver': 'liblinear', 'max_iter': 302, 'penalty': 'l1'}. Best is trial 2 with value: 0.81476.\u001b[0m\n"
          ]
        },
        {
          "name": "stderr",
          "output_type": "stream",
          "text": [
            "/usr/local/lib/python3.7/dist-packages/sklearn/linear_model/_logistic.py:1526: UserWarning: 'n_jobs' > 1 does not have any effect when 'solver' is set to 'liblinear'. Got 'n_jobs' = 2.\n",
            "  \" = {}.\".format(effective_n_jobs(self.n_jobs))\n"
          ]
        },
        {
          "name": "stdout",
          "output_type": "stream",
          "text": [
            "\u001b[32m[I 2022-10-10 00:48:38,339]\u001b[0m Trial 296 finished with value: 0.81476 and parameters: {'C': 7.557835551602432, 'solver': 'liblinear', 'max_iter': 260, 'penalty': 'l1'}. Best is trial 2 with value: 0.81476.\u001b[0m\n"
          ]
        },
        {
          "name": "stderr",
          "output_type": "stream",
          "text": [
            "/usr/local/lib/python3.7/dist-packages/sklearn/linear_model/_logistic.py:1526: UserWarning: 'n_jobs' > 1 does not have any effect when 'solver' is set to 'liblinear'. Got 'n_jobs' = 2.\n",
            "  \" = {}.\".format(effective_n_jobs(self.n_jobs))\n"
          ]
        },
        {
          "name": "stdout",
          "output_type": "stream",
          "text": [
            "\u001b[32m[I 2022-10-10 00:48:47,039]\u001b[0m Trial 297 finished with value: 0.81472 and parameters: {'C': 9.96104282328528, 'solver': 'liblinear', 'max_iter': 131, 'penalty': 'l1'}. Best is trial 2 with value: 0.81476.\u001b[0m\n"
          ]
        },
        {
          "name": "stderr",
          "output_type": "stream",
          "text": [
            "/usr/local/lib/python3.7/dist-packages/sklearn/linear_model/_logistic.py:1526: UserWarning: 'n_jobs' > 1 does not have any effect when 'solver' is set to 'liblinear'. Got 'n_jobs' = 2.\n",
            "  \" = {}.\".format(effective_n_jobs(self.n_jobs))\n"
          ]
        },
        {
          "name": "stdout",
          "output_type": "stream",
          "text": [
            "\u001b[32m[I 2022-10-10 00:48:49,817]\u001b[0m Trial 299 finished with value: 0.81468 and parameters: {'C': 7.639514126168127, 'solver': 'liblinear', 'max_iter': 120, 'penalty': 'l1'}. Best is trial 2 with value: 0.81476.\u001b[0m\n",
            "\u001b[32m[I 2022-10-10 00:48:50,228]\u001b[0m Trial 298 finished with value: 0.81476 and parameters: {'C': 5.275371059742841, 'solver': 'liblinear', 'max_iter': 235, 'penalty': 'l1'}. Best is trial 2 with value: 0.81476.\u001b[0m\n"
          ]
        },
        {
          "name": "stderr",
          "output_type": "stream",
          "text": [
            "/usr/local/lib/python3.7/dist-packages/sklearn/linear_model/_sag.py:354: ConvergenceWarning: The max_iter was reached which means the coef_ did not converge\n",
            "  ConvergenceWarning,\n"
          ]
        },
        {
          "name": "stdout",
          "output_type": "stream",
          "text": [
            "\u001b[32m[I 2022-10-10 00:48:57,646]\u001b[0m Trial 300 finished with value: 0.77108 and parameters: {'C': 4.9967096638198765, 'solver': 'saga', 'max_iter': 111, 'penalty': 'l1'}. Best is trial 2 with value: 0.81476.\u001b[0m\n"
          ]
        },
        {
          "name": "stderr",
          "output_type": "stream",
          "text": [
            "/usr/local/lib/python3.7/dist-packages/sklearn/linear_model/_logistic.py:1526: UserWarning: 'n_jobs' > 1 does not have any effect when 'solver' is set to 'liblinear'. Got 'n_jobs' = 2.\n",
            "  \" = {}.\".format(effective_n_jobs(self.n_jobs))\n",
            "/usr/local/lib/python3.7/dist-packages/sklearn/linear_model/_sag.py:354: ConvergenceWarning: The max_iter was reached which means the coef_ did not converge\n",
            "  ConvergenceWarning,\n"
          ]
        },
        {
          "name": "stdout",
          "output_type": "stream",
          "text": [
            "\u001b[32m[I 2022-10-10 00:48:58,340]\u001b[0m Trial 301 finished with value: 0.77108 and parameters: {'C': 9.781279176370026, 'solver': 'saga', 'max_iter': 115, 'penalty': 'l1'}. Best is trial 2 with value: 0.81476.\u001b[0m\n"
          ]
        },
        {
          "name": "stderr",
          "output_type": "stream",
          "text": [
            "/usr/local/lib/python3.7/dist-packages/sklearn/linear_model/_logistic.py:1526: UserWarning: 'n_jobs' > 1 does not have any effect when 'solver' is set to 'liblinear'. Got 'n_jobs' = 2.\n",
            "  \" = {}.\".format(effective_n_jobs(self.n_jobs))\n"
          ]
        },
        {
          "name": "stdout",
          "output_type": "stream",
          "text": [
            "\u001b[32m[I 2022-10-10 00:49:01,952]\u001b[0m Trial 303 finished with value: 0.81468 and parameters: {'C': 6.949818295966563, 'solver': 'liblinear', 'max_iter': 118, 'penalty': 'l1'}. Best is trial 2 with value: 0.81476.\u001b[0m\n",
            "\u001b[32m[I 2022-10-10 00:49:02,068]\u001b[0m Trial 302 finished with value: 0.81468 and parameters: {'C': 6.4361520287779275, 'solver': 'liblinear', 'max_iter': 341, 'penalty': 'l1'}. Best is trial 2 with value: 0.81476.\u001b[0m\n",
            "\u001b[32m[I 2022-10-10 00:49:03,737]\u001b[0m Trial 304 finished with value: 0.78636 and parameters: {'C': 4.7074320311366575, 'solver': 'lbfgs', 'max_iter': 174}. Best is trial 2 with value: 0.81476.\u001b[0m\n",
            "\u001b[32m[I 2022-10-10 00:49:15,822]\u001b[0m Trial 306 finished with value: 0.81472 and parameters: {'C': 9.101768607857927, 'solver': 'newton-cg', 'max_iter': 106}. Best is trial 2 with value: 0.81476.\u001b[0m\n"
          ]
        },
        {
          "name": "stderr",
          "output_type": "stream",
          "text": [
            "/usr/local/lib/python3.7/dist-packages/sklearn/linear_model/_logistic.py:1526: UserWarning: 'n_jobs' > 1 does not have any effect when 'solver' is set to 'liblinear'. Got 'n_jobs' = 2.\n",
            "  \" = {}.\".format(effective_n_jobs(self.n_jobs))\n"
          ]
        },
        {
          "name": "stdout",
          "output_type": "stream",
          "text": [
            "\u001b[32m[I 2022-10-10 00:49:19,615]\u001b[0m Trial 307 finished with value: 0.81468 and parameters: {'C': 4.44726606419489, 'solver': 'liblinear', 'max_iter': 151, 'penalty': 'l1'}. Best is trial 2 with value: 0.81476.\u001b[0m\n"
          ]
        },
        {
          "name": "stderr",
          "output_type": "stream",
          "text": [
            "/usr/local/lib/python3.7/dist-packages/sklearn/linear_model/_logistic.py:1526: UserWarning: 'n_jobs' > 1 does not have any effect when 'solver' is set to 'liblinear'. Got 'n_jobs' = 2.\n",
            "  \" = {}.\".format(effective_n_jobs(self.n_jobs))\n"
          ]
        },
        {
          "name": "stdout",
          "output_type": "stream",
          "text": [
            "\u001b[32m[I 2022-10-10 00:49:21,691]\u001b[0m Trial 308 finished with value: 0.81468 and parameters: {'C': 4.110776533267374, 'solver': 'liblinear', 'max_iter': 140, 'penalty': 'l1'}. Best is trial 2 with value: 0.81476.\u001b[0m\n",
            "\u001b[32m[I 2022-10-10 00:49:24,439]\u001b[0m Trial 305 finished with value: 0.81476 and parameters: {'C': 3.815330249123029, 'solver': 'newton-cg', 'max_iter': 166}. Best is trial 2 with value: 0.81476.\u001b[0m\n",
            "\u001b[32m[I 2022-10-10 00:49:38,869]\u001b[0m Trial 309 finished with value: 0.81472 and parameters: {'C': 8.898151615020895, 'solver': 'newton-cg', 'max_iter': 241}. Best is trial 2 with value: 0.81476.\u001b[0m\n"
          ]
        },
        {
          "name": "stderr",
          "output_type": "stream",
          "text": [
            "/usr/local/lib/python3.7/dist-packages/sklearn/linear_model/_logistic.py:1526: UserWarning: 'n_jobs' > 1 does not have any effect when 'solver' is set to 'liblinear'. Got 'n_jobs' = 2.\n",
            "  \" = {}.\".format(effective_n_jobs(self.n_jobs))\n"
          ]
        },
        {
          "name": "stdout",
          "output_type": "stream",
          "text": [
            "\u001b[32m[I 2022-10-10 00:49:43,063]\u001b[0m Trial 310 finished with value: 0.81476 and parameters: {'C': 9.201607316723855, 'solver': 'newton-cg', 'max_iter': 150}. Best is trial 2 with value: 0.81476.\u001b[0m\n"
          ]
        },
        {
          "name": "stderr",
          "output_type": "stream",
          "text": [
            "/usr/local/lib/python3.7/dist-packages/sklearn/linear_model/_logistic.py:1526: UserWarning: 'n_jobs' > 1 does not have any effect when 'solver' is set to 'liblinear'. Got 'n_jobs' = 2.\n",
            "  \" = {}.\".format(effective_n_jobs(self.n_jobs))\n"
          ]
        },
        {
          "name": "stdout",
          "output_type": "stream",
          "text": [
            "\u001b[32m[I 2022-10-10 00:49:48,378]\u001b[0m Trial 312 finished with value: 0.81468 and parameters: {'C': 5.602456356245099, 'solver': 'liblinear', 'max_iter': 354, 'penalty': 'l1'}. Best is trial 2 with value: 0.81476.\u001b[0m\n",
            "\u001b[32m[I 2022-10-10 00:49:54,437]\u001b[0m Trial 311 finished with value: 0.81472 and parameters: {'C': 7.311631086331006, 'solver': 'liblinear', 'max_iter': 114, 'penalty': 'l1'}. Best is trial 2 with value: 0.81476.\u001b[0m\n"
          ]
        },
        {
          "name": "stderr",
          "output_type": "stream",
          "text": [
            "/usr/local/lib/python3.7/dist-packages/sklearn/linear_model/_logistic.py:1526: UserWarning: 'n_jobs' > 1 does not have any effect when 'solver' is set to 'liblinear'. Got 'n_jobs' = 2.\n",
            "  \" = {}.\".format(effective_n_jobs(self.n_jobs))\n",
            "/usr/local/lib/python3.7/dist-packages/sklearn/svm/_base.py:1208: ConvergenceWarning: Liblinear failed to converge, increase the number of iterations.\n",
            "  ConvergenceWarning,\n"
          ]
        },
        {
          "name": "stdout",
          "output_type": "stream",
          "text": [
            "\u001b[32m[I 2022-10-10 00:50:03,968]\u001b[0m Trial 314 finished with value: 0.77448 and parameters: {'C': 9.275751333435931, 'solver': 'liblinear', 'max_iter': 248, 'penalty': 'l2'}. Best is trial 2 with value: 0.81476.\u001b[0m\n"
          ]
        },
        {
          "name": "stderr",
          "output_type": "stream",
          "text": [
            "/usr/local/lib/python3.7/dist-packages/sklearn/linear_model/_logistic.py:1526: UserWarning: 'n_jobs' > 1 does not have any effect when 'solver' is set to 'liblinear'. Got 'n_jobs' = 2.\n",
            "  \" = {}.\".format(effective_n_jobs(self.n_jobs))\n",
            "/usr/local/lib/python3.7/dist-packages/sklearn/linear_model/_sag.py:354: ConvergenceWarning: The max_iter was reached which means the coef_ did not converge\n",
            "  ConvergenceWarning,\n"
          ]
        },
        {
          "name": "stdout",
          "output_type": "stream",
          "text": [
            "\u001b[32m[I 2022-10-10 00:50:04,428]\u001b[0m Trial 313 finished with value: 0.77108 and parameters: {'C': 9.507011632000232, 'solver': 'sag', 'max_iter': 246}. Best is trial 2 with value: 0.81476.\u001b[0m\n"
          ]
        },
        {
          "name": "stderr",
          "output_type": "stream",
          "text": [
            "/usr/local/lib/python3.7/dist-packages/sklearn/linear_model/_logistic.py:1526: UserWarning: 'n_jobs' > 1 does not have any effect when 'solver' is set to 'liblinear'. Got 'n_jobs' = 2.\n",
            "  \" = {}.\".format(effective_n_jobs(self.n_jobs))\n"
          ]
        },
        {
          "name": "stdout",
          "output_type": "stream",
          "text": [
            "\u001b[32m[I 2022-10-10 00:50:06,816]\u001b[0m Trial 315 finished with value: 0.81468 and parameters: {'C': 5.883950776984648, 'solver': 'liblinear', 'max_iter': 313, 'penalty': 'l1'}. Best is trial 2 with value: 0.81476.\u001b[0m\n",
            "\u001b[32m[I 2022-10-10 00:50:10,399]\u001b[0m Trial 316 finished with value: 0.81468 and parameters: {'C': 7.452322789344733, 'solver': 'liblinear', 'max_iter': 298, 'penalty': 'l1'}. Best is trial 2 with value: 0.81476.\u001b[0m\n",
            "\u001b[32m[I 2022-10-10 00:50:26,476]\u001b[0m Trial 317 finished with value: 0.81476 and parameters: {'C': 3.5575119500816155, 'solver': 'newton-cg', 'max_iter': 156}. Best is trial 2 with value: 0.81476.\u001b[0m\n",
            "\u001b[32m[I 2022-10-10 00:50:28,104]\u001b[0m Trial 318 finished with value: 0.81476 and parameters: {'C': 3.9798362286715214, 'solver': 'newton-cg', 'max_iter': 145}. Best is trial 2 with value: 0.81476.\u001b[0m\n",
            "\u001b[32m[I 2022-10-10 00:50:46,159]\u001b[0m Trial 320 finished with value: 0.81472 and parameters: {'C': 3.557535537627458, 'solver': 'newton-cg', 'max_iter': 146}. Best is trial 2 with value: 0.81476.\u001b[0m\n",
            "\u001b[32m[I 2022-10-10 00:50:47,262]\u001b[0m Trial 319 finished with value: 0.81472 and parameters: {'C': 3.2592865729771674, 'solver': 'newton-cg', 'max_iter': 160}. Best is trial 2 with value: 0.81476.\u001b[0m\n"
          ]
        },
        {
          "name": "stderr",
          "output_type": "stream",
          "text": [
            "/usr/local/lib/python3.7/dist-packages/sklearn/linear_model/_logistic.py:1526: UserWarning: 'n_jobs' > 1 does not have any effect when 'solver' is set to 'liblinear'. Got 'n_jobs' = 2.\n",
            "  \" = {}.\".format(effective_n_jobs(self.n_jobs))\n"
          ]
        },
        {
          "name": "stdout",
          "output_type": "stream",
          "text": [
            "\u001b[32m[I 2022-10-10 00:50:47,866]\u001b[0m Trial 321 finished with value: 0.78636 and parameters: {'C': 4.336077911668616, 'solver': 'lbfgs', 'max_iter': 287}. Best is trial 2 with value: 0.81476.\u001b[0m\n"
          ]
        },
        {
          "name": "stderr",
          "output_type": "stream",
          "text": [
            "/usr/local/lib/python3.7/dist-packages/sklearn/linear_model/_logistic.py:1526: UserWarning: 'n_jobs' > 1 does not have any effect when 'solver' is set to 'liblinear'. Got 'n_jobs' = 2.\n",
            "  \" = {}.\".format(effective_n_jobs(self.n_jobs))\n"
          ]
        },
        {
          "name": "stdout",
          "output_type": "stream",
          "text": [
            "\u001b[32m[I 2022-10-10 00:50:55,532]\u001b[0m Trial 323 finished with value: 0.81476 and parameters: {'C': 9.81926867322592, 'solver': 'liblinear', 'max_iter': 255, 'penalty': 'l1'}. Best is trial 2 with value: 0.81476.\u001b[0m\n"
          ]
        },
        {
          "name": "stderr",
          "output_type": "stream",
          "text": [
            "/usr/local/lib/python3.7/dist-packages/sklearn/linear_model/_logistic.py:1526: UserWarning: 'n_jobs' > 1 does not have any effect when 'solver' is set to 'liblinear'. Got 'n_jobs' = 2.\n",
            "  \" = {}.\".format(effective_n_jobs(self.n_jobs))\n"
          ]
        },
        {
          "name": "stdout",
          "output_type": "stream",
          "text": [
            "\u001b[32m[I 2022-10-10 00:50:56,772]\u001b[0m Trial 322 finished with value: 0.81476 and parameters: {'C': 4.798356912285097, 'solver': 'liblinear', 'max_iter': 207, 'penalty': 'l1'}. Best is trial 2 with value: 0.81476.\u001b[0m\n"
          ]
        },
        {
          "name": "stderr",
          "output_type": "stream",
          "text": [
            "/usr/local/lib/python3.7/dist-packages/sklearn/linear_model/_logistic.py:1526: UserWarning: 'n_jobs' > 1 does not have any effect when 'solver' is set to 'liblinear'. Got 'n_jobs' = 2.\n",
            "  \" = {}.\".format(effective_n_jobs(self.n_jobs))\n"
          ]
        },
        {
          "name": "stdout",
          "output_type": "stream",
          "text": [
            "\u001b[32m[I 2022-10-10 00:50:58,307]\u001b[0m Trial 324 finished with value: 0.81468 and parameters: {'C': 7.9181297390679894, 'solver': 'liblinear', 'max_iter': 226, 'penalty': 'l1'}. Best is trial 2 with value: 0.81476.\u001b[0m\n"
          ]
        },
        {
          "name": "stderr",
          "output_type": "stream",
          "text": [
            "/usr/local/lib/python3.7/dist-packages/sklearn/linear_model/_logistic.py:1526: UserWarning: 'n_jobs' > 1 does not have any effect when 'solver' is set to 'liblinear'. Got 'n_jobs' = 2.\n",
            "  \" = {}.\".format(effective_n_jobs(self.n_jobs))\n"
          ]
        },
        {
          "name": "stdout",
          "output_type": "stream",
          "text": [
            "\u001b[32m[I 2022-10-10 00:51:01,076]\u001b[0m Trial 325 finished with value: 0.81468 and parameters: {'C': 7.377381487738768, 'solver': 'liblinear', 'max_iter': 229, 'penalty': 'l1'}. Best is trial 2 with value: 0.81476.\u001b[0m\n"
          ]
        },
        {
          "name": "stderr",
          "output_type": "stream",
          "text": [
            "/usr/local/lib/python3.7/dist-packages/sklearn/linear_model/_logistic.py:1526: UserWarning: 'n_jobs' > 1 does not have any effect when 'solver' is set to 'liblinear'. Got 'n_jobs' = 2.\n",
            "  \" = {}.\".format(effective_n_jobs(self.n_jobs))\n",
            "/usr/local/lib/python3.7/dist-packages/sklearn/svm/_base.py:1208: ConvergenceWarning: Liblinear failed to converge, increase the number of iterations.\n",
            "  ConvergenceWarning,\n"
          ]
        },
        {
          "name": "stdout",
          "output_type": "stream",
          "text": [
            "\u001b[32m[I 2022-10-10 00:51:04,070]\u001b[0m Trial 326 finished with value: 0.73532 and parameters: {'C': 3.080868237607256, 'solver': 'liblinear', 'max_iter': 124, 'penalty': 'l2'}. Best is trial 2 with value: 0.81476.\u001b[0m\n"
          ]
        },
        {
          "name": "stderr",
          "output_type": "stream",
          "text": [
            "/usr/local/lib/python3.7/dist-packages/sklearn/linear_model/_logistic.py:1526: UserWarning: 'n_jobs' > 1 does not have any effect when 'solver' is set to 'liblinear'. Got 'n_jobs' = 2.\n",
            "  \" = {}.\".format(effective_n_jobs(self.n_jobs))\n"
          ]
        },
        {
          "name": "stdout",
          "output_type": "stream",
          "text": [
            "\u001b[32m[I 2022-10-10 00:51:05,501]\u001b[0m Trial 327 finished with value: 0.81468 and parameters: {'C': 7.813877289430064, 'solver': 'liblinear', 'max_iter': 265, 'penalty': 'l1'}. Best is trial 2 with value: 0.81476.\u001b[0m\n"
          ]
        },
        {
          "name": "stderr",
          "output_type": "stream",
          "text": [
            "/usr/local/lib/python3.7/dist-packages/sklearn/linear_model/_logistic.py:1526: UserWarning: 'n_jobs' > 1 does not have any effect when 'solver' is set to 'liblinear'. Got 'n_jobs' = 2.\n",
            "  \" = {}.\".format(effective_n_jobs(self.n_jobs))\n"
          ]
        },
        {
          "name": "stdout",
          "output_type": "stream",
          "text": [
            "\u001b[32m[I 2022-10-10 00:51:07,991]\u001b[0m Trial 329 finished with value: 0.81468 and parameters: {'C': 8.540277804798706, 'solver': 'liblinear', 'max_iter': 274, 'penalty': 'l1'}. Best is trial 2 with value: 0.81476.\u001b[0m\n",
            "\u001b[32m[I 2022-10-10 00:51:08,121]\u001b[0m Trial 328 finished with value: 0.81468 and parameters: {'C': 7.6128790540886415, 'solver': 'liblinear', 'max_iter': 315, 'penalty': 'l1'}. Best is trial 2 with value: 0.81476.\u001b[0m\n"
          ]
        },
        {
          "name": "stderr",
          "output_type": "stream",
          "text": [
            "/usr/local/lib/python3.7/dist-packages/sklearn/linear_model/_logistic.py:1526: UserWarning: 'n_jobs' > 1 does not have any effect when 'solver' is set to 'liblinear'. Got 'n_jobs' = 2.\n",
            "  \" = {}.\".format(effective_n_jobs(self.n_jobs))\n"
          ]
        },
        {
          "name": "stdout",
          "output_type": "stream",
          "text": [
            "\u001b[32m[I 2022-10-10 00:51:14,209]\u001b[0m Trial 330 finished with value: 0.81472 and parameters: {'C': 4.25424752140488, 'solver': 'liblinear', 'max_iter': 238, 'penalty': 'l1'}. Best is trial 2 with value: 0.81476.\u001b[0m\n"
          ]
        },
        {
          "name": "stderr",
          "output_type": "stream",
          "text": [
            "/usr/local/lib/python3.7/dist-packages/sklearn/linear_model/_logistic.py:1526: UserWarning: 'n_jobs' > 1 does not have any effect when 'solver' is set to 'liblinear'. Got 'n_jobs' = 2.\n",
            "  \" = {}.\".format(effective_n_jobs(self.n_jobs))\n"
          ]
        },
        {
          "name": "stdout",
          "output_type": "stream",
          "text": [
            "\u001b[32m[I 2022-10-10 00:51:17,415]\u001b[0m Trial 332 finished with value: 0.81468 and parameters: {'C': 5.51875870855808, 'solver': 'liblinear', 'max_iter': 182, 'penalty': 'l1'}. Best is trial 2 with value: 0.81476.\u001b[0m\n"
          ]
        },
        {
          "name": "stderr",
          "output_type": "stream",
          "text": [
            "/usr/local/lib/python3.7/dist-packages/sklearn/linear_model/_logistic.py:1526: UserWarning: 'n_jobs' > 1 does not have any effect when 'solver' is set to 'liblinear'. Got 'n_jobs' = 2.\n",
            "  \" = {}.\".format(effective_n_jobs(self.n_jobs))\n"
          ]
        },
        {
          "name": "stdout",
          "output_type": "stream",
          "text": [
            "\u001b[32m[I 2022-10-10 00:51:27,253]\u001b[0m Trial 331 finished with value: 0.81472 and parameters: {'C': 3.640295639791545, 'solver': 'newton-cg', 'max_iter': 262}. Best is trial 2 with value: 0.81476.\u001b[0m\n"
          ]
        },
        {
          "name": "stderr",
          "output_type": "stream",
          "text": [
            "/usr/local/lib/python3.7/dist-packages/sklearn/linear_model/_logistic.py:1526: UserWarning: 'n_jobs' > 1 does not have any effect when 'solver' is set to 'liblinear'. Got 'n_jobs' = 2.\n",
            "  \" = {}.\".format(effective_n_jobs(self.n_jobs))\n"
          ]
        },
        {
          "name": "stdout",
          "output_type": "stream",
          "text": [
            "\u001b[32m[I 2022-10-10 00:51:30,828]\u001b[0m Trial 333 finished with value: 0.81476 and parameters: {'C': 4.593752636890645, 'solver': 'liblinear', 'max_iter': 122, 'penalty': 'l1'}. Best is trial 2 with value: 0.81476.\u001b[0m\n"
          ]
        },
        {
          "name": "stderr",
          "output_type": "stream",
          "text": [
            "/usr/local/lib/python3.7/dist-packages/sklearn/linear_model/_logistic.py:1526: UserWarning: 'n_jobs' > 1 does not have any effect when 'solver' is set to 'liblinear'. Got 'n_jobs' = 2.\n",
            "  \" = {}.\".format(effective_n_jobs(self.n_jobs))\n"
          ]
        },
        {
          "name": "stdout",
          "output_type": "stream",
          "text": [
            "\u001b[32m[I 2022-10-10 00:51:34,659]\u001b[0m Trial 335 finished with value: 0.81468 and parameters: {'C': 5.158452010425696, 'solver': 'liblinear', 'max_iter': 115, 'penalty': 'l1'}. Best is trial 2 with value: 0.81476.\u001b[0m\n",
            "\u001b[32m[I 2022-10-10 00:51:37,111]\u001b[0m Trial 334 finished with value: 0.81476 and parameters: {'C': 2.5176829968514856, 'solver': 'liblinear', 'max_iter': 153, 'penalty': 'l1'}. Best is trial 2 with value: 0.81476.\u001b[0m\n"
          ]
        },
        {
          "name": "stderr",
          "output_type": "stream",
          "text": [
            "/usr/local/lib/python3.7/dist-packages/sklearn/linear_model/_sag.py:354: ConvergenceWarning: The max_iter was reached which means the coef_ did not converge\n",
            "  ConvergenceWarning,\n"
          ]
        },
        {
          "name": "stdout",
          "output_type": "stream",
          "text": [
            "\u001b[32m[I 2022-10-10 00:51:47,014]\u001b[0m Trial 336 finished with value: 0.77108 and parameters: {'C': 4.3995045090649345, 'solver': 'sag', 'max_iter': 215}. Best is trial 2 with value: 0.81476.\u001b[0m\n",
            "\u001b[32m[I 2022-10-10 00:51:57,222]\u001b[0m Trial 337 finished with value: 0.81476 and parameters: {'C': 7.935292112983338, 'solver': 'newton-cg', 'max_iter': 270}. Best is trial 2 with value: 0.81476.\u001b[0m\n"
          ]
        },
        {
          "name": "stderr",
          "output_type": "stream",
          "text": [
            "/usr/local/lib/python3.7/dist-packages/sklearn/linear_model/_logistic.py:1526: UserWarning: 'n_jobs' > 1 does not have any effect when 'solver' is set to 'liblinear'. Got 'n_jobs' = 2.\n",
            "  \" = {}.\".format(effective_n_jobs(self.n_jobs))\n"
          ]
        },
        {
          "name": "stdout",
          "output_type": "stream",
          "text": [
            "\u001b[32m[I 2022-10-10 00:52:05,477]\u001b[0m Trial 338 finished with value: 0.81472 and parameters: {'C': 3.9832377130253582, 'solver': 'newton-cg', 'max_iter': 143}. Best is trial 2 with value: 0.81476.\u001b[0m\n",
            "\u001b[32m[I 2022-10-10 00:52:08,635]\u001b[0m Trial 339 finished with value: 0.81476 and parameters: {'C': 6.831609619547025, 'solver': 'liblinear', 'max_iter': 125, 'penalty': 'l1'}. Best is trial 2 with value: 0.81476.\u001b[0m\n"
          ]
        },
        {
          "name": "stderr",
          "output_type": "stream",
          "text": [
            "/usr/local/lib/python3.7/dist-packages/sklearn/linear_model/_logistic.py:1526: UserWarning: 'n_jobs' > 1 does not have any effect when 'solver' is set to 'liblinear'. Got 'n_jobs' = 2.\n",
            "  \" = {}.\".format(effective_n_jobs(self.n_jobs))\n"
          ]
        },
        {
          "name": "stdout",
          "output_type": "stream",
          "text": [
            "\u001b[32m[I 2022-10-10 00:52:17,911]\u001b[0m Trial 341 finished with value: 0.81476 and parameters: {'C': 8.942822209079132, 'solver': 'liblinear', 'max_iter': 139, 'penalty': 'l1'}. Best is trial 2 with value: 0.81476.\u001b[0m\n"
          ]
        },
        {
          "name": "stderr",
          "output_type": "stream",
          "text": [
            "/usr/local/lib/python3.7/dist-packages/sklearn/linear_model/_logistic.py:1526: UserWarning: 'n_jobs' > 1 does not have any effect when 'solver' is set to 'liblinear'. Got 'n_jobs' = 2.\n",
            "  \" = {}.\".format(effective_n_jobs(self.n_jobs))\n"
          ]
        },
        {
          "name": "stdout",
          "output_type": "stream",
          "text": [
            "\u001b[32m[I 2022-10-10 00:52:21,691]\u001b[0m Trial 340 finished with value: 0.81472 and parameters: {'C': 3.7701272001645116, 'solver': 'newton-cg', 'max_iter': 129}. Best is trial 2 with value: 0.81476.\u001b[0m\n"
          ]
        },
        {
          "name": "stderr",
          "output_type": "stream",
          "text": [
            "/usr/local/lib/python3.7/dist-packages/sklearn/linear_model/_logistic.py:1526: UserWarning: 'n_jobs' > 1 does not have any effect when 'solver' is set to 'liblinear'. Got 'n_jobs' = 2.\n",
            "  \" = {}.\".format(effective_n_jobs(self.n_jobs))\n"
          ]
        },
        {
          "name": "stdout",
          "output_type": "stream",
          "text": [
            "\u001b[32m[I 2022-10-10 00:52:23,179]\u001b[0m Trial 343 finished with value: 0.81468 and parameters: {'C': 5.793326071394702, 'solver': 'liblinear', 'max_iter': 293, 'penalty': 'l1'}. Best is trial 2 with value: 0.81476.\u001b[0m\n"
          ]
        },
        {
          "name": "stderr",
          "output_type": "stream",
          "text": [
            "/usr/local/lib/python3.7/dist-packages/sklearn/linear_model/_logistic.py:1526: UserWarning: 'n_jobs' > 1 does not have any effect when 'solver' is set to 'liblinear'. Got 'n_jobs' = 2.\n",
            "  \" = {}.\".format(effective_n_jobs(self.n_jobs))\n"
          ]
        },
        {
          "name": "stdout",
          "output_type": "stream",
          "text": [
            "\u001b[32m[I 2022-10-10 00:52:26,307]\u001b[0m Trial 342 finished with value: 0.81476 and parameters: {'C': 9.297725286291067, 'solver': 'liblinear', 'max_iter': 279, 'penalty': 'l1'}. Best is trial 2 with value: 0.81476.\u001b[0m\n"
          ]
        },
        {
          "name": "stderr",
          "output_type": "stream",
          "text": [
            "/usr/local/lib/python3.7/dist-packages/sklearn/linear_model/_logistic.py:1526: UserWarning: 'n_jobs' > 1 does not have any effect when 'solver' is set to 'liblinear'. Got 'n_jobs' = 2.\n",
            "  \" = {}.\".format(effective_n_jobs(self.n_jobs))\n"
          ]
        },
        {
          "name": "stdout",
          "output_type": "stream",
          "text": [
            "\u001b[32m[I 2022-10-10 00:52:31,931]\u001b[0m Trial 344 finished with value: 0.81476 and parameters: {'C': 5.259569659505205, 'solver': 'liblinear', 'max_iter': 323, 'penalty': 'l1'}. Best is trial 2 with value: 0.81476.\u001b[0m\n"
          ]
        },
        {
          "name": "stderr",
          "output_type": "stream",
          "text": [
            "/usr/local/lib/python3.7/dist-packages/sklearn/linear_model/_logistic.py:1526: UserWarning: 'n_jobs' > 1 does not have any effect when 'solver' is set to 'liblinear'. Got 'n_jobs' = 2.\n",
            "  \" = {}.\".format(effective_n_jobs(self.n_jobs))\n"
          ]
        },
        {
          "name": "stdout",
          "output_type": "stream",
          "text": [
            "\u001b[32m[I 2022-10-10 00:52:33,599]\u001b[0m Trial 345 finished with value: 0.81472 and parameters: {'C': 9.335290895632983, 'solver': 'liblinear', 'max_iter': 261, 'penalty': 'l1'}. Best is trial 2 with value: 0.81476.\u001b[0m\n"
          ]
        },
        {
          "name": "stderr",
          "output_type": "stream",
          "text": [
            "/usr/local/lib/python3.7/dist-packages/sklearn/linear_model/_logistic.py:1526: UserWarning: 'n_jobs' > 1 does not have any effect when 'solver' is set to 'liblinear'. Got 'n_jobs' = 2.\n",
            "  \" = {}.\".format(effective_n_jobs(self.n_jobs))\n"
          ]
        },
        {
          "name": "stdout",
          "output_type": "stream",
          "text": [
            "\u001b[32m[I 2022-10-10 00:52:35,604]\u001b[0m Trial 347 finished with value: 0.81468 and parameters: {'C': 8.176973895150091, 'solver': 'liblinear', 'max_iter': 109, 'penalty': 'l1'}. Best is trial 2 with value: 0.81476.\u001b[0m\n"
          ]
        },
        {
          "name": "stderr",
          "output_type": "stream",
          "text": [
            "/usr/local/lib/python3.7/dist-packages/sklearn/linear_model/_logistic.py:1526: UserWarning: 'n_jobs' > 1 does not have any effect when 'solver' is set to 'liblinear'. Got 'n_jobs' = 2.\n",
            "  \" = {}.\".format(effective_n_jobs(self.n_jobs))\n"
          ]
        },
        {
          "name": "stdout",
          "output_type": "stream",
          "text": [
            "\u001b[32m[I 2022-10-10 00:52:36,566]\u001b[0m Trial 346 finished with value: 0.81468 and parameters: {'C': 8.163961402930195, 'solver': 'liblinear', 'max_iter': 112, 'penalty': 'l1'}. Best is trial 2 with value: 0.81476.\u001b[0m\n"
          ]
        },
        {
          "name": "stderr",
          "output_type": "stream",
          "text": [
            "/usr/local/lib/python3.7/dist-packages/sklearn/linear_model/_logistic.py:1526: UserWarning: 'n_jobs' > 1 does not have any effect when 'solver' is set to 'liblinear'. Got 'n_jobs' = 2.\n",
            "  \" = {}.\".format(effective_n_jobs(self.n_jobs))\n"
          ]
        },
        {
          "name": "stdout",
          "output_type": "stream",
          "text": [
            "\u001b[32m[I 2022-10-10 00:52:43,168]\u001b[0m Trial 348 finished with value: 0.81472 and parameters: {'C': 5.990518542826079, 'solver': 'liblinear', 'max_iter': 252, 'penalty': 'l1'}. Best is trial 2 with value: 0.81476.\u001b[0m\n",
            "\u001b[32m[I 2022-10-10 00:52:43,579]\u001b[0m Trial 349 finished with value: 0.81472 and parameters: {'C': 6.148001313689623, 'solver': 'liblinear', 'max_iter': 106, 'penalty': 'l1'}. Best is trial 2 with value: 0.81476.\u001b[0m\n"
          ]
        }
      ],
      "source": [
        "study = optuna.create_study(direction='maximize')\n",
        "study.optimize(objective, n_trials=350,\n",
        "               show_progress_bar=True, n_jobs=-1)"
      ]
    },
    {
      "cell_type": "code",
      "execution_count": 91,
      "metadata": {
        "colab": {
          "base_uri": "https://localhost:8080/"
        },
        "id": "bLnkcIQKAEmQ",
        "outputId": "0659c9ab-3c42-43ec-e95b-0852b98e33ba"
      },
      "outputs": [
        {
          "data": {
            "text/plain": [
              "{'C': 6.006877562630546,\n",
              " 'solver': 'liblinear',\n",
              " 'max_iter': 360,\n",
              " 'penalty': 'l1'}"
            ]
          },
          "execution_count": 91,
          "metadata": {},
          "output_type": "execute_result"
        }
      ],
      "source": [
        "Best_trial = study.best_trial.params\n",
        "#Best_trial[\"n_estimators\"], Best_trial[\"tree_method\"] = 10000, 'gpu_hist'\n",
        "Best_trial\n"
      ]
    },
    {
      "cell_type": "code",
      "execution_count": 92,
      "metadata": {
        "colab": {
          "base_uri": "https://localhost:8080/"
        },
        "id": "Cfe_AFwXAFjZ",
        "outputId": "c0f00fa3-3e10-452e-f8aa-06daefaff039"
      },
      "outputs": [
        {
          "data": {
            "text/plain": [
              "0.81476"
            ]
          },
          "execution_count": 92,
          "metadata": {},
          "output_type": "execute_result"
        }
      ],
      "source": [
        "study.best_trial.value"
      ]
    },
    {
      "cell_type": "code",
      "execution_count": null,
      "metadata": {
        "colab": {
          "base_uri": "https://localhost:8080/"
        },
        "id": "13u9a1L8CDDL",
        "outputId": "8cdb0a78-0aac-44bb-8553-9df890a3c2cf"
      },
      "outputs": [
        {
          "name": "stdout",
          "output_type": "stream",
          "text": [
            "0.8101849525054028\n",
            "0.8150065333199317\n",
            "CPU times: user 9.29 s, sys: 1.15 s, total: 10.4 s\n",
            "Wall time: 5.38 s\n"
          ]
        }
      ],
      "source": [
        "%%time\n",
        "Lg = LogisticRegression()\n",
        "Lg.fit(x_train, y_train)\n",
        "print(Lg.score(x_train , y_train))\n",
        "print(Lg.score(x_test , y_test))"
      ]
    },
    {
      "cell_type": "code",
      "execution_count": null,
      "metadata": {
        "colab": {
          "base_uri": "https://localhost:8080/",
          "height": 381
        },
        "id": "qCWd7IxX7B_E",
        "outputId": "89909e1f-600c-4f62-f20c-025a41da8446"
      },
      "outputs": [
        {
          "ename": "KeyboardInterrupt",
          "evalue": "ignored",
          "output_type": "error",
          "traceback": [
            "\u001b[0;31m---------------------------------------------------------------------------\u001b[0m",
            "\u001b[0;31mKeyboardInterrupt\u001b[0m                         Traceback (most recent call last)",
            "\u001b[0;32m<ipython-input-22-096ce4ed48d4>\u001b[0m in \u001b[0;36m<module>\u001b[0;34m\u001b[0m\n\u001b[1;32m      2\u001b[0m \u001b[0mlogreg\u001b[0m\u001b[0;34m=\u001b[0m\u001b[0mLogisticRegression\u001b[0m\u001b[0;34m(\u001b[0m\u001b[0;34m)\u001b[0m\u001b[0;34m\u001b[0m\u001b[0;34m\u001b[0m\u001b[0m\n\u001b[1;32m      3\u001b[0m \u001b[0mlogreg_cv\u001b[0m\u001b[0;34m=\u001b[0m\u001b[0mGridSearchCV\u001b[0m\u001b[0;34m(\u001b[0m\u001b[0mlogreg\u001b[0m\u001b[0;34m,\u001b[0m\u001b[0mgrid\u001b[0m\u001b[0;34m,\u001b[0m\u001b[0mcv\u001b[0m\u001b[0;34m=\u001b[0m\u001b[0;36m6\u001b[0m\u001b[0;34m,\u001b[0m \u001b[0mn_jobs\u001b[0m\u001b[0;34m=\u001b[0m\u001b[0;34m-\u001b[0m\u001b[0;36m1\u001b[0m\u001b[0;34m)\u001b[0m\u001b[0;34m\u001b[0m\u001b[0;34m\u001b[0m\u001b[0m\n\u001b[0;32m----> 4\u001b[0;31m \u001b[0mlogreg_cv\u001b[0m\u001b[0;34m.\u001b[0m\u001b[0mfit\u001b[0m\u001b[0;34m(\u001b[0m\u001b[0mx_train\u001b[0m\u001b[0;34m,\u001b[0m\u001b[0my_train\u001b[0m\u001b[0;34m)\u001b[0m\u001b[0;34m\u001b[0m\u001b[0;34m\u001b[0m\u001b[0m\n\u001b[0m\u001b[1;32m      5\u001b[0m \u001b[0;34m\u001b[0m\u001b[0m\n\u001b[1;32m      6\u001b[0m \u001b[0mprint\u001b[0m\u001b[0;34m(\u001b[0m\u001b[0;34m\"tuned hpyerparameters :(best parameters) \"\u001b[0m\u001b[0;34m,\u001b[0m\u001b[0mlogreg_cv\u001b[0m\u001b[0;34m.\u001b[0m\u001b[0mbest_params_\u001b[0m\u001b[0;34m)\u001b[0m\u001b[0;34m\u001b[0m\u001b[0;34m\u001b[0m\u001b[0m\n",
            "\u001b[0;32m/usr/local/lib/python3.7/dist-packages/sklearn/model_selection/_search.py\u001b[0m in \u001b[0;36mfit\u001b[0;34m(self, X, y, groups, **fit_params)\u001b[0m\n\u001b[1;32m    889\u001b[0m                 \u001b[0;32mreturn\u001b[0m \u001b[0mresults\u001b[0m\u001b[0;34m\u001b[0m\u001b[0;34m\u001b[0m\u001b[0m\n\u001b[1;32m    890\u001b[0m \u001b[0;34m\u001b[0m\u001b[0m\n\u001b[0;32m--> 891\u001b[0;31m             \u001b[0mself\u001b[0m\u001b[0;34m.\u001b[0m\u001b[0m_run_search\u001b[0m\u001b[0;34m(\u001b[0m\u001b[0mevaluate_candidates\u001b[0m\u001b[0;34m)\u001b[0m\u001b[0;34m\u001b[0m\u001b[0;34m\u001b[0m\u001b[0m\n\u001b[0m\u001b[1;32m    892\u001b[0m \u001b[0;34m\u001b[0m\u001b[0m\n\u001b[1;32m    893\u001b[0m             \u001b[0;31m# multimetric is determined here because in the case of a callable\u001b[0m\u001b[0;34m\u001b[0m\u001b[0;34m\u001b[0m\u001b[0;34m\u001b[0m\u001b[0m\n",
            "\u001b[0;32m/usr/local/lib/python3.7/dist-packages/sklearn/model_selection/_search.py\u001b[0m in \u001b[0;36m_run_search\u001b[0;34m(self, evaluate_candidates)\u001b[0m\n\u001b[1;32m   1390\u001b[0m     \u001b[0;32mdef\u001b[0m \u001b[0m_run_search\u001b[0m\u001b[0;34m(\u001b[0m\u001b[0mself\u001b[0m\u001b[0;34m,\u001b[0m \u001b[0mevaluate_candidates\u001b[0m\u001b[0;34m)\u001b[0m\u001b[0;34m:\u001b[0m\u001b[0;34m\u001b[0m\u001b[0;34m\u001b[0m\u001b[0m\n\u001b[1;32m   1391\u001b[0m         \u001b[0;34m\"\"\"Search all candidates in param_grid\"\"\"\u001b[0m\u001b[0;34m\u001b[0m\u001b[0;34m\u001b[0m\u001b[0m\n\u001b[0;32m-> 1392\u001b[0;31m         \u001b[0mevaluate_candidates\u001b[0m\u001b[0;34m(\u001b[0m\u001b[0mParameterGrid\u001b[0m\u001b[0;34m(\u001b[0m\u001b[0mself\u001b[0m\u001b[0;34m.\u001b[0m\u001b[0mparam_grid\u001b[0m\u001b[0;34m)\u001b[0m\u001b[0;34m)\u001b[0m\u001b[0;34m\u001b[0m\u001b[0;34m\u001b[0m\u001b[0m\n\u001b[0m\u001b[1;32m   1393\u001b[0m \u001b[0;34m\u001b[0m\u001b[0m\n\u001b[1;32m   1394\u001b[0m \u001b[0;34m\u001b[0m\u001b[0m\n",
            "\u001b[0;32m/usr/local/lib/python3.7/dist-packages/sklearn/model_selection/_search.py\u001b[0m in \u001b[0;36mevaluate_candidates\u001b[0;34m(candidate_params, cv, more_results)\u001b[0m\n\u001b[1;32m    849\u001b[0m                     )\n\u001b[1;32m    850\u001b[0m                     for (cand_idx, parameters), (split_idx, (train, test)) in product(\n\u001b[0;32m--> 851\u001b[0;31m                         \u001b[0menumerate\u001b[0m\u001b[0;34m(\u001b[0m\u001b[0mcandidate_params\u001b[0m\u001b[0;34m)\u001b[0m\u001b[0;34m,\u001b[0m \u001b[0menumerate\u001b[0m\u001b[0;34m(\u001b[0m\u001b[0mcv\u001b[0m\u001b[0;34m.\u001b[0m\u001b[0msplit\u001b[0m\u001b[0;34m(\u001b[0m\u001b[0mX\u001b[0m\u001b[0;34m,\u001b[0m \u001b[0my\u001b[0m\u001b[0;34m,\u001b[0m \u001b[0mgroups\u001b[0m\u001b[0;34m)\u001b[0m\u001b[0;34m)\u001b[0m\u001b[0;34m\u001b[0m\u001b[0;34m\u001b[0m\u001b[0m\n\u001b[0m\u001b[1;32m    852\u001b[0m                     )\n\u001b[1;32m    853\u001b[0m                 )\n",
            "\u001b[0;32m/usr/local/lib/python3.7/dist-packages/joblib/parallel.py\u001b[0m in \u001b[0;36m__call__\u001b[0;34m(self, iterable)\u001b[0m\n\u001b[1;32m   1096\u001b[0m \u001b[0;34m\u001b[0m\u001b[0m\n\u001b[1;32m   1097\u001b[0m             \u001b[0;32mwith\u001b[0m \u001b[0mself\u001b[0m\u001b[0;34m.\u001b[0m\u001b[0m_backend\u001b[0m\u001b[0;34m.\u001b[0m\u001b[0mretrieval_context\u001b[0m\u001b[0;34m(\u001b[0m\u001b[0;34m)\u001b[0m\u001b[0;34m:\u001b[0m\u001b[0;34m\u001b[0m\u001b[0;34m\u001b[0m\u001b[0m\n\u001b[0;32m-> 1098\u001b[0;31m                 \u001b[0mself\u001b[0m\u001b[0;34m.\u001b[0m\u001b[0mretrieve\u001b[0m\u001b[0;34m(\u001b[0m\u001b[0;34m)\u001b[0m\u001b[0;34m\u001b[0m\u001b[0;34m\u001b[0m\u001b[0m\n\u001b[0m\u001b[1;32m   1099\u001b[0m             \u001b[0;31m# Make sure that we get a last message telling us we are done\u001b[0m\u001b[0;34m\u001b[0m\u001b[0;34m\u001b[0m\u001b[0;34m\u001b[0m\u001b[0m\n\u001b[1;32m   1100\u001b[0m             \u001b[0melapsed_time\u001b[0m \u001b[0;34m=\u001b[0m \u001b[0mtime\u001b[0m\u001b[0;34m.\u001b[0m\u001b[0mtime\u001b[0m\u001b[0;34m(\u001b[0m\u001b[0;34m)\u001b[0m \u001b[0;34m-\u001b[0m \u001b[0mself\u001b[0m\u001b[0;34m.\u001b[0m\u001b[0m_start_time\u001b[0m\u001b[0;34m\u001b[0m\u001b[0;34m\u001b[0m\u001b[0m\n",
            "\u001b[0;32m/usr/local/lib/python3.7/dist-packages/joblib/parallel.py\u001b[0m in \u001b[0;36mretrieve\u001b[0;34m(self)\u001b[0m\n\u001b[1;32m    973\u001b[0m             \u001b[0;32mtry\u001b[0m\u001b[0;34m:\u001b[0m\u001b[0;34m\u001b[0m\u001b[0;34m\u001b[0m\u001b[0m\n\u001b[1;32m    974\u001b[0m                 \u001b[0;32mif\u001b[0m \u001b[0mgetattr\u001b[0m\u001b[0;34m(\u001b[0m\u001b[0mself\u001b[0m\u001b[0;34m.\u001b[0m\u001b[0m_backend\u001b[0m\u001b[0;34m,\u001b[0m \u001b[0;34m'supports_timeout'\u001b[0m\u001b[0;34m,\u001b[0m \u001b[0;32mFalse\u001b[0m\u001b[0;34m)\u001b[0m\u001b[0;34m:\u001b[0m\u001b[0;34m\u001b[0m\u001b[0;34m\u001b[0m\u001b[0m\n\u001b[0;32m--> 975\u001b[0;31m                     \u001b[0mself\u001b[0m\u001b[0;34m.\u001b[0m\u001b[0m_output\u001b[0m\u001b[0;34m.\u001b[0m\u001b[0mextend\u001b[0m\u001b[0;34m(\u001b[0m\u001b[0mjob\u001b[0m\u001b[0;34m.\u001b[0m\u001b[0mget\u001b[0m\u001b[0;34m(\u001b[0m\u001b[0mtimeout\u001b[0m\u001b[0;34m=\u001b[0m\u001b[0mself\u001b[0m\u001b[0;34m.\u001b[0m\u001b[0mtimeout\u001b[0m\u001b[0;34m)\u001b[0m\u001b[0;34m)\u001b[0m\u001b[0;34m\u001b[0m\u001b[0;34m\u001b[0m\u001b[0m\n\u001b[0m\u001b[1;32m    976\u001b[0m                 \u001b[0;32melse\u001b[0m\u001b[0;34m:\u001b[0m\u001b[0;34m\u001b[0m\u001b[0;34m\u001b[0m\u001b[0m\n\u001b[1;32m    977\u001b[0m                     \u001b[0mself\u001b[0m\u001b[0;34m.\u001b[0m\u001b[0m_output\u001b[0m\u001b[0;34m.\u001b[0m\u001b[0mextend\u001b[0m\u001b[0;34m(\u001b[0m\u001b[0mjob\u001b[0m\u001b[0;34m.\u001b[0m\u001b[0mget\u001b[0m\u001b[0;34m(\u001b[0m\u001b[0;34m)\u001b[0m\u001b[0;34m)\u001b[0m\u001b[0;34m\u001b[0m\u001b[0;34m\u001b[0m\u001b[0m\n",
            "\u001b[0;32m/usr/local/lib/python3.7/dist-packages/joblib/_parallel_backends.py\u001b[0m in \u001b[0;36mwrap_future_result\u001b[0;34m(future, timeout)\u001b[0m\n\u001b[1;32m    565\u001b[0m         AsyncResults.get from multiprocessing.\"\"\"\n\u001b[1;32m    566\u001b[0m         \u001b[0;32mtry\u001b[0m\u001b[0;34m:\u001b[0m\u001b[0;34m\u001b[0m\u001b[0;34m\u001b[0m\u001b[0m\n\u001b[0;32m--> 567\u001b[0;31m             \u001b[0;32mreturn\u001b[0m \u001b[0mfuture\u001b[0m\u001b[0;34m.\u001b[0m\u001b[0mresult\u001b[0m\u001b[0;34m(\u001b[0m\u001b[0mtimeout\u001b[0m\u001b[0;34m=\u001b[0m\u001b[0mtimeout\u001b[0m\u001b[0;34m)\u001b[0m\u001b[0;34m\u001b[0m\u001b[0;34m\u001b[0m\u001b[0m\n\u001b[0m\u001b[1;32m    568\u001b[0m         \u001b[0;32mexcept\u001b[0m \u001b[0mCfTimeoutError\u001b[0m \u001b[0;32mas\u001b[0m \u001b[0me\u001b[0m\u001b[0;34m:\u001b[0m\u001b[0;34m\u001b[0m\u001b[0;34m\u001b[0m\u001b[0m\n\u001b[1;32m    569\u001b[0m             \u001b[0;32mraise\u001b[0m \u001b[0mTimeoutError\u001b[0m \u001b[0;32mfrom\u001b[0m \u001b[0me\u001b[0m\u001b[0;34m\u001b[0m\u001b[0;34m\u001b[0m\u001b[0m\n",
            "\u001b[0;32m/usr/lib/python3.7/concurrent/futures/_base.py\u001b[0m in \u001b[0;36mresult\u001b[0;34m(self, timeout)\u001b[0m\n\u001b[1;32m    428\u001b[0m                 \u001b[0;32mreturn\u001b[0m \u001b[0mself\u001b[0m\u001b[0;34m.\u001b[0m\u001b[0m__get_result\u001b[0m\u001b[0;34m(\u001b[0m\u001b[0;34m)\u001b[0m\u001b[0;34m\u001b[0m\u001b[0;34m\u001b[0m\u001b[0m\n\u001b[1;32m    429\u001b[0m \u001b[0;34m\u001b[0m\u001b[0m\n\u001b[0;32m--> 430\u001b[0;31m             \u001b[0mself\u001b[0m\u001b[0;34m.\u001b[0m\u001b[0m_condition\u001b[0m\u001b[0;34m.\u001b[0m\u001b[0mwait\u001b[0m\u001b[0;34m(\u001b[0m\u001b[0mtimeout\u001b[0m\u001b[0;34m)\u001b[0m\u001b[0;34m\u001b[0m\u001b[0;34m\u001b[0m\u001b[0m\n\u001b[0m\u001b[1;32m    431\u001b[0m \u001b[0;34m\u001b[0m\u001b[0m\n\u001b[1;32m    432\u001b[0m             \u001b[0;32mif\u001b[0m \u001b[0mself\u001b[0m\u001b[0;34m.\u001b[0m\u001b[0m_state\u001b[0m \u001b[0;32min\u001b[0m \u001b[0;34m[\u001b[0m\u001b[0mCANCELLED\u001b[0m\u001b[0;34m,\u001b[0m \u001b[0mCANCELLED_AND_NOTIFIED\u001b[0m\u001b[0;34m]\u001b[0m\u001b[0;34m:\u001b[0m\u001b[0;34m\u001b[0m\u001b[0;34m\u001b[0m\u001b[0m\n",
            "\u001b[0;32m/usr/lib/python3.7/threading.py\u001b[0m in \u001b[0;36mwait\u001b[0;34m(self, timeout)\u001b[0m\n\u001b[1;32m    294\u001b[0m         \u001b[0;32mtry\u001b[0m\u001b[0;34m:\u001b[0m    \u001b[0;31m# restore state no matter what (e.g., KeyboardInterrupt)\u001b[0m\u001b[0;34m\u001b[0m\u001b[0;34m\u001b[0m\u001b[0m\n\u001b[1;32m    295\u001b[0m             \u001b[0;32mif\u001b[0m \u001b[0mtimeout\u001b[0m \u001b[0;32mis\u001b[0m \u001b[0;32mNone\u001b[0m\u001b[0;34m:\u001b[0m\u001b[0;34m\u001b[0m\u001b[0;34m\u001b[0m\u001b[0m\n\u001b[0;32m--> 296\u001b[0;31m                 \u001b[0mwaiter\u001b[0m\u001b[0;34m.\u001b[0m\u001b[0macquire\u001b[0m\u001b[0;34m(\u001b[0m\u001b[0;34m)\u001b[0m\u001b[0;34m\u001b[0m\u001b[0;34m\u001b[0m\u001b[0m\n\u001b[0m\u001b[1;32m    297\u001b[0m                 \u001b[0mgotit\u001b[0m \u001b[0;34m=\u001b[0m \u001b[0;32mTrue\u001b[0m\u001b[0;34m\u001b[0m\u001b[0;34m\u001b[0m\u001b[0m\n\u001b[1;32m    298\u001b[0m             \u001b[0;32melse\u001b[0m\u001b[0;34m:\u001b[0m\u001b[0;34m\u001b[0m\u001b[0;34m\u001b[0m\u001b[0m\n",
            "\u001b[0;31mKeyboardInterrupt\u001b[0m: "
          ]
        }
      ],
      "source": [
        "grid={\"C\":np.arange(-20,20,0.5), \"penalty\":[\"l1\",\"l2\",\"none\",\"elasticnet\"], \"solver\":['newton-cg', 'lbfgs', 'liblinear', 'sag', 'saga'], \"max_iter\":[200]}# l1 lasso l2 ridge\n",
        "logreg=LogisticRegression()\n",
        "logreg_cv=GridSearchCV(logreg,grid,cv=6, n_jobs=-1)\n",
        "logreg_cv.fit(x_train,y_train)\n",
        "\n",
        "print(\"tuned hpyerparameters :(best parameters) \",logreg_cv.best_params_)\n",
        "print(\"accuracy :\",logreg_cv.best_score_)"
      ]
    },
    {
      "cell_type": "code",
      "execution_count": null,
      "metadata": {
        "colab": {
          "base_uri": "https://localhost:8080/",
          "height": 1000
        },
        "id": "tH8vCQY2LO5A",
        "outputId": "c44500a0-de32-453a-828c-a1cd27dd713c"
      },
      "outputs": [
        {
          "data": {
            "text/html": [
              "\n",
              "  <div id=\"df-3d4c3010-ee62-45c3-b133-6fea7d175b5a\">\n",
              "    <div class=\"colab-df-container\">\n",
              "      <div>\n",
              "<style scoped>\n",
              "    .dataframe tbody tr th:only-of-type {\n",
              "        vertical-align: middle;\n",
              "    }\n",
              "\n",
              "    .dataframe tbody tr th {\n",
              "        vertical-align: top;\n",
              "    }\n",
              "\n",
              "    .dataframe thead th {\n",
              "        text-align: right;\n",
              "    }\n",
              "</style>\n",
              "<table border=\"1\" class=\"dataframe\">\n",
              "  <thead>\n",
              "    <tr style=\"text-align: right;\">\n",
              "      <th></th>\n",
              "      <th>Loan ID</th>\n",
              "      <th>Customer ID</th>\n",
              "      <th>Current Loan Amount</th>\n",
              "      <th>Term</th>\n",
              "      <th>Credit Score</th>\n",
              "      <th>Annual Income</th>\n",
              "      <th>Years in current job</th>\n",
              "      <th>Home Ownership</th>\n",
              "      <th>Purpose</th>\n",
              "      <th>Monthly Debt</th>\n",
              "      <th>Years of Credit History</th>\n",
              "      <th>Months since last delinquent</th>\n",
              "      <th>Number of Open Accounts</th>\n",
              "      <th>Number of Credit Problems</th>\n",
              "      <th>Current Credit Balance</th>\n",
              "      <th>Maximum Open Credit</th>\n",
              "      <th>Bankruptcies</th>\n",
              "      <th>Tax Liens</th>\n",
              "    </tr>\n",
              "  </thead>\n",
              "  <tbody>\n",
              "    <tr>\n",
              "      <th>0</th>\n",
              "      <td>f738779f-c726-40dc-92cf-689d73af533d</td>\n",
              "      <td>ded0b3c3-6bf4-4091-8726-47039f2c1b90</td>\n",
              "      <td>611314</td>\n",
              "      <td>Short Term</td>\n",
              "      <td>747.0</td>\n",
              "      <td>2074116.0</td>\n",
              "      <td>10+ years</td>\n",
              "      <td>Home Mortgage</td>\n",
              "      <td>Debt Consolidation</td>\n",
              "      <td>42000.83</td>\n",
              "      <td>21.8</td>\n",
              "      <td>NaN</td>\n",
              "      <td>9</td>\n",
              "      <td>0</td>\n",
              "      <td>621908</td>\n",
              "      <td>1058970</td>\n",
              "      <td>0.0</td>\n",
              "      <td>0.0</td>\n",
              "    </tr>\n",
              "    <tr>\n",
              "      <th>1</th>\n",
              "      <td>6dcc0947-164d-476c-a1de-3ae7283dde0a</td>\n",
              "      <td>1630e6e3-34e3-461a-8fda-09297d3140c8</td>\n",
              "      <td>266662</td>\n",
              "      <td>Short Term</td>\n",
              "      <td>734.0</td>\n",
              "      <td>1919190.0</td>\n",
              "      <td>10+ years</td>\n",
              "      <td>Home Mortgage</td>\n",
              "      <td>Debt Consolidation</td>\n",
              "      <td>36624.40</td>\n",
              "      <td>19.4</td>\n",
              "      <td>NaN</td>\n",
              "      <td>11</td>\n",
              "      <td>0</td>\n",
              "      <td>679573</td>\n",
              "      <td>904442</td>\n",
              "      <td>0.0</td>\n",
              "      <td>0.0</td>\n",
              "    </tr>\n",
              "    <tr>\n",
              "      <th>2</th>\n",
              "      <td>f7744d01-894b-49c3-8777-fc6431a2cff1</td>\n",
              "      <td>2c60938b-ad2b-4702-804d-eeca43949c52</td>\n",
              "      <td>153494</td>\n",
              "      <td>Short Term</td>\n",
              "      <td>709.0</td>\n",
              "      <td>871112.0</td>\n",
              "      <td>2 years</td>\n",
              "      <td>Rent</td>\n",
              "      <td>Debt Consolidation</td>\n",
              "      <td>8391.73</td>\n",
              "      <td>12.5</td>\n",
              "      <td>10.0</td>\n",
              "      <td>10</td>\n",
              "      <td>0</td>\n",
              "      <td>38532</td>\n",
              "      <td>388036</td>\n",
              "      <td>0.0</td>\n",
              "      <td>0.0</td>\n",
              "    </tr>\n",
              "    <tr>\n",
              "      <th>3</th>\n",
              "      <td>83721ffb-b99a-4a0f-aea5-ef472a138b41</td>\n",
              "      <td>12116614-2f3c-4d16-ad34-d92883718806</td>\n",
              "      <td>176242</td>\n",
              "      <td>Short Term</td>\n",
              "      <td>727.0</td>\n",
              "      <td>780083.0</td>\n",
              "      <td>10+ years</td>\n",
              "      <td>Rent</td>\n",
              "      <td>Debt Consolidation</td>\n",
              "      <td>16771.87</td>\n",
              "      <td>16.5</td>\n",
              "      <td>27.0</td>\n",
              "      <td>16</td>\n",
              "      <td>1</td>\n",
              "      <td>156940</td>\n",
              "      <td>531322</td>\n",
              "      <td>1.0</td>\n",
              "      <td>0.0</td>\n",
              "    </tr>\n",
              "    <tr>\n",
              "      <th>4</th>\n",
              "      <td>08f3789f-5714-4b10-929d-e1527ab5e5a3</td>\n",
              "      <td>39888105-fd5f-4023-860a-30a3e6f5ccb7</td>\n",
              "      <td>321992</td>\n",
              "      <td>Short Term</td>\n",
              "      <td>744.0</td>\n",
              "      <td>1761148.0</td>\n",
              "      <td>10+ years</td>\n",
              "      <td>Home Mortgage</td>\n",
              "      <td>Debt Consolidation</td>\n",
              "      <td>39478.77</td>\n",
              "      <td>26.0</td>\n",
              "      <td>44.0</td>\n",
              "      <td>14</td>\n",
              "      <td>0</td>\n",
              "      <td>359765</td>\n",
              "      <td>468072</td>\n",
              "      <td>0.0</td>\n",
              "      <td>0.0</td>\n",
              "    </tr>\n",
              "    <tr>\n",
              "      <th>...</th>\n",
              "      <td>...</td>\n",
              "      <td>...</td>\n",
              "      <td>...</td>\n",
              "      <td>...</td>\n",
              "      <td>...</td>\n",
              "      <td>...</td>\n",
              "      <td>...</td>\n",
              "      <td>...</td>\n",
              "      <td>...</td>\n",
              "      <td>...</td>\n",
              "      <td>...</td>\n",
              "      <td>...</td>\n",
              "      <td>...</td>\n",
              "      <td>...</td>\n",
              "      <td>...</td>\n",
              "      <td>...</td>\n",
              "      <td>...</td>\n",
              "      <td>...</td>\n",
              "    </tr>\n",
              "    <tr>\n",
              "      <th>9995</th>\n",
              "      <td>c4ab66f9-833c-43b8-879c-4f8bcb64dd14</td>\n",
              "      <td>8ee2002b-8fb6-4af0-ab74-25a1c23e7647</td>\n",
              "      <td>157806</td>\n",
              "      <td>Short Term</td>\n",
              "      <td>731.0</td>\n",
              "      <td>1514376.0</td>\n",
              "      <td>6 years</td>\n",
              "      <td>Rent</td>\n",
              "      <td>Debt Consolidation</td>\n",
              "      <td>4795.41</td>\n",
              "      <td>12.5</td>\n",
              "      <td>NaN</td>\n",
              "      <td>9</td>\n",
              "      <td>0</td>\n",
              "      <td>87058</td>\n",
              "      <td>234410</td>\n",
              "      <td>0.0</td>\n",
              "      <td>0.0</td>\n",
              "    </tr>\n",
              "    <tr>\n",
              "      <th>9996</th>\n",
              "      <td>bbd3a392-01b4-4e0e-9c28-b2a4a39beac7</td>\n",
              "      <td>6c306306-f5c2-4db5-b74a-af2895123ecb</td>\n",
              "      <td>132550</td>\n",
              "      <td>Short Term</td>\n",
              "      <td>718.0</td>\n",
              "      <td>763192.0</td>\n",
              "      <td>4 years</td>\n",
              "      <td>Home Mortgage</td>\n",
              "      <td>Debt Consolidation</td>\n",
              "      <td>12401.87</td>\n",
              "      <td>9.9</td>\n",
              "      <td>20.0</td>\n",
              "      <td>8</td>\n",
              "      <td>0</td>\n",
              "      <td>74309</td>\n",
              "      <td>329692</td>\n",
              "      <td>0.0</td>\n",
              "      <td>0.0</td>\n",
              "    </tr>\n",
              "    <tr>\n",
              "      <th>9997</th>\n",
              "      <td>da9870de-4280-46a3-8fc6-91cfe5bfde9d</td>\n",
              "      <td>cc94e25e-1060-4465-b603-194e122f0239</td>\n",
              "      <td>223212</td>\n",
              "      <td>Long Term</td>\n",
              "      <td>NaN</td>\n",
              "      <td>NaN</td>\n",
              "      <td>NaN</td>\n",
              "      <td>Rent</td>\n",
              "      <td>Debt Consolidation</td>\n",
              "      <td>4354.42</td>\n",
              "      <td>27.2</td>\n",
              "      <td>NaN</td>\n",
              "      <td>8</td>\n",
              "      <td>1</td>\n",
              "      <td>99636</td>\n",
              "      <td>568370</td>\n",
              "      <td>1.0</td>\n",
              "      <td>0.0</td>\n",
              "    </tr>\n",
              "    <tr>\n",
              "      <th>9998</th>\n",
              "      <td>0cc8e0e0-1bc6-49d7-ad0f-0598b647458f</td>\n",
              "      <td>f90cf410-a34b-49e7-8af9-2b405e17b827</td>\n",
              "      <td>99999999</td>\n",
              "      <td>Short Term</td>\n",
              "      <td>721.0</td>\n",
              "      <td>972097.0</td>\n",
              "      <td>10+ years</td>\n",
              "      <td>Home Mortgage</td>\n",
              "      <td>Debt Consolidation</td>\n",
              "      <td>12232.20</td>\n",
              "      <td>16.8</td>\n",
              "      <td>24.0</td>\n",
              "      <td>8</td>\n",
              "      <td>1</td>\n",
              "      <td>184984</td>\n",
              "      <td>240658</td>\n",
              "      <td>0.0</td>\n",
              "      <td>0.0</td>\n",
              "    </tr>\n",
              "    <tr>\n",
              "      <th>9999</th>\n",
              "      <td>14f94b64-26c4-48fd-b916-1388d7adcc1d</td>\n",
              "      <td>f1838fa9-7ad9-44d5-97a6-7a6d3f3529d7</td>\n",
              "      <td>99999999</td>\n",
              "      <td>Short Term</td>\n",
              "      <td>748.0</td>\n",
              "      <td>1079960.0</td>\n",
              "      <td>6 years</td>\n",
              "      <td>Home Mortgage</td>\n",
              "      <td>Debt Consolidation</td>\n",
              "      <td>12239.61</td>\n",
              "      <td>19.7</td>\n",
              "      <td>NaN</td>\n",
              "      <td>14</td>\n",
              "      <td>0</td>\n",
              "      <td>179018</td>\n",
              "      <td>607882</td>\n",
              "      <td>0.0</td>\n",
              "      <td>0.0</td>\n",
              "    </tr>\n",
              "  </tbody>\n",
              "</table>\n",
              "<p>10000 rows × 18 columns</p>\n",
              "</div>\n",
              "      <button class=\"colab-df-convert\" onclick=\"convertToInteractive('df-3d4c3010-ee62-45c3-b133-6fea7d175b5a')\"\n",
              "              title=\"Convert this dataframe to an interactive table.\"\n",
              "              style=\"display:none;\">\n",
              "        \n",
              "  <svg xmlns=\"http://www.w3.org/2000/svg\" height=\"24px\"viewBox=\"0 0 24 24\"\n",
              "       width=\"24px\">\n",
              "    <path d=\"M0 0h24v24H0V0z\" fill=\"none\"/>\n",
              "    <path d=\"M18.56 5.44l.94 2.06.94-2.06 2.06-.94-2.06-.94-.94-2.06-.94 2.06-2.06.94zm-11 1L8.5 8.5l.94-2.06 2.06-.94-2.06-.94L8.5 2.5l-.94 2.06-2.06.94zm10 10l.94 2.06.94-2.06 2.06-.94-2.06-.94-.94-2.06-.94 2.06-2.06.94z\"/><path d=\"M17.41 7.96l-1.37-1.37c-.4-.4-.92-.59-1.43-.59-.52 0-1.04.2-1.43.59L10.3 9.45l-7.72 7.72c-.78.78-.78 2.05 0 2.83L4 21.41c.39.39.9.59 1.41.59.51 0 1.02-.2 1.41-.59l7.78-7.78 2.81-2.81c.8-.78.8-2.07 0-2.86zM5.41 20L4 18.59l7.72-7.72 1.47 1.35L5.41 20z\"/>\n",
              "  </svg>\n",
              "      </button>\n",
              "      \n",
              "  <style>\n",
              "    .colab-df-container {\n",
              "      display:flex;\n",
              "      flex-wrap:wrap;\n",
              "      gap: 12px;\n",
              "    }\n",
              "\n",
              "    .colab-df-convert {\n",
              "      background-color: #E8F0FE;\n",
              "      border: none;\n",
              "      border-radius: 50%;\n",
              "      cursor: pointer;\n",
              "      display: none;\n",
              "      fill: #1967D2;\n",
              "      height: 32px;\n",
              "      padding: 0 0 0 0;\n",
              "      width: 32px;\n",
              "    }\n",
              "\n",
              "    .colab-df-convert:hover {\n",
              "      background-color: #E2EBFA;\n",
              "      box-shadow: 0px 1px 2px rgba(60, 64, 67, 0.3), 0px 1px 3px 1px rgba(60, 64, 67, 0.15);\n",
              "      fill: #174EA6;\n",
              "    }\n",
              "\n",
              "    [theme=dark] .colab-df-convert {\n",
              "      background-color: #3B4455;\n",
              "      fill: #D2E3FC;\n",
              "    }\n",
              "\n",
              "    [theme=dark] .colab-df-convert:hover {\n",
              "      background-color: #434B5C;\n",
              "      box-shadow: 0px 1px 3px 1px rgba(0, 0, 0, 0.15);\n",
              "      filter: drop-shadow(0px 1px 2px rgba(0, 0, 0, 0.3));\n",
              "      fill: #FFFFFF;\n",
              "    }\n",
              "  </style>\n",
              "\n",
              "      <script>\n",
              "        const buttonEl =\n",
              "          document.querySelector('#df-3d4c3010-ee62-45c3-b133-6fea7d175b5a button.colab-df-convert');\n",
              "        buttonEl.style.display =\n",
              "          google.colab.kernel.accessAllowed ? 'block' : 'none';\n",
              "\n",
              "        async function convertToInteractive(key) {\n",
              "          const element = document.querySelector('#df-3d4c3010-ee62-45c3-b133-6fea7d175b5a');\n",
              "          const dataTable =\n",
              "            await google.colab.kernel.invokeFunction('convertToInteractive',\n",
              "                                                     [key], {});\n",
              "          if (!dataTable) return;\n",
              "\n",
              "          const docLinkHtml = 'Like what you see? Visit the ' +\n",
              "            '<a target=\"_blank\" href=https://colab.research.google.com/notebooks/data_table.ipynb>data table notebook</a>'\n",
              "            + ' to learn more about interactive tables.';\n",
              "          element.innerHTML = '';\n",
              "          dataTable['output_type'] = 'display_data';\n",
              "          await google.colab.output.renderOutput(dataTable, element);\n",
              "          const docLink = document.createElement('div');\n",
              "          docLink.innerHTML = docLinkHtml;\n",
              "          element.appendChild(docLink);\n",
              "        }\n",
              "      </script>\n",
              "    </div>\n",
              "  </div>\n",
              "  "
            ],
            "text/plain": [
              "                                   Loan ID  \\\n",
              "0     f738779f-c726-40dc-92cf-689d73af533d   \n",
              "1     6dcc0947-164d-476c-a1de-3ae7283dde0a   \n",
              "2     f7744d01-894b-49c3-8777-fc6431a2cff1   \n",
              "3     83721ffb-b99a-4a0f-aea5-ef472a138b41   \n",
              "4     08f3789f-5714-4b10-929d-e1527ab5e5a3   \n",
              "...                                    ...   \n",
              "9995  c4ab66f9-833c-43b8-879c-4f8bcb64dd14   \n",
              "9996  bbd3a392-01b4-4e0e-9c28-b2a4a39beac7   \n",
              "9997  da9870de-4280-46a3-8fc6-91cfe5bfde9d   \n",
              "9998  0cc8e0e0-1bc6-49d7-ad0f-0598b647458f   \n",
              "9999  14f94b64-26c4-48fd-b916-1388d7adcc1d   \n",
              "\n",
              "                               Customer ID  Current Loan Amount        Term  \\\n",
              "0     ded0b3c3-6bf4-4091-8726-47039f2c1b90               611314  Short Term   \n",
              "1     1630e6e3-34e3-461a-8fda-09297d3140c8               266662  Short Term   \n",
              "2     2c60938b-ad2b-4702-804d-eeca43949c52               153494  Short Term   \n",
              "3     12116614-2f3c-4d16-ad34-d92883718806               176242  Short Term   \n",
              "4     39888105-fd5f-4023-860a-30a3e6f5ccb7               321992  Short Term   \n",
              "...                                    ...                  ...         ...   \n",
              "9995  8ee2002b-8fb6-4af0-ab74-25a1c23e7647               157806  Short Term   \n",
              "9996  6c306306-f5c2-4db5-b74a-af2895123ecb               132550  Short Term   \n",
              "9997  cc94e25e-1060-4465-b603-194e122f0239               223212   Long Term   \n",
              "9998  f90cf410-a34b-49e7-8af9-2b405e17b827             99999999  Short Term   \n",
              "9999  f1838fa9-7ad9-44d5-97a6-7a6d3f3529d7             99999999  Short Term   \n",
              "\n",
              "      Credit Score  Annual Income Years in current job Home Ownership  \\\n",
              "0            747.0      2074116.0            10+ years  Home Mortgage   \n",
              "1            734.0      1919190.0            10+ years  Home Mortgage   \n",
              "2            709.0       871112.0              2 years           Rent   \n",
              "3            727.0       780083.0            10+ years           Rent   \n",
              "4            744.0      1761148.0            10+ years  Home Mortgage   \n",
              "...            ...            ...                  ...            ...   \n",
              "9995         731.0      1514376.0              6 years           Rent   \n",
              "9996         718.0       763192.0              4 years  Home Mortgage   \n",
              "9997           NaN            NaN                  NaN           Rent   \n",
              "9998         721.0       972097.0            10+ years  Home Mortgage   \n",
              "9999         748.0      1079960.0              6 years  Home Mortgage   \n",
              "\n",
              "                 Purpose  Monthly Debt  Years of Credit History  \\\n",
              "0     Debt Consolidation      42000.83                     21.8   \n",
              "1     Debt Consolidation      36624.40                     19.4   \n",
              "2     Debt Consolidation       8391.73                     12.5   \n",
              "3     Debt Consolidation      16771.87                     16.5   \n",
              "4     Debt Consolidation      39478.77                     26.0   \n",
              "...                  ...           ...                      ...   \n",
              "9995  Debt Consolidation       4795.41                     12.5   \n",
              "9996  Debt Consolidation      12401.87                      9.9   \n",
              "9997  Debt Consolidation       4354.42                     27.2   \n",
              "9998  Debt Consolidation      12232.20                     16.8   \n",
              "9999  Debt Consolidation      12239.61                     19.7   \n",
              "\n",
              "      Months since last delinquent  Number of Open Accounts  \\\n",
              "0                              NaN                        9   \n",
              "1                              NaN                       11   \n",
              "2                             10.0                       10   \n",
              "3                             27.0                       16   \n",
              "4                             44.0                       14   \n",
              "...                            ...                      ...   \n",
              "9995                           NaN                        9   \n",
              "9996                          20.0                        8   \n",
              "9997                           NaN                        8   \n",
              "9998                          24.0                        8   \n",
              "9999                           NaN                       14   \n",
              "\n",
              "      Number of Credit Problems  Current Credit Balance  Maximum Open Credit  \\\n",
              "0                             0                  621908              1058970   \n",
              "1                             0                  679573               904442   \n",
              "2                             0                   38532               388036   \n",
              "3                             1                  156940               531322   \n",
              "4                             0                  359765               468072   \n",
              "...                         ...                     ...                  ...   \n",
              "9995                          0                   87058               234410   \n",
              "9996                          0                   74309               329692   \n",
              "9997                          1                   99636               568370   \n",
              "9998                          1                  184984               240658   \n",
              "9999                          0                  179018               607882   \n",
              "\n",
              "      Bankruptcies  Tax Liens  \n",
              "0              0.0        0.0  \n",
              "1              0.0        0.0  \n",
              "2              0.0        0.0  \n",
              "3              1.0        0.0  \n",
              "4              0.0        0.0  \n",
              "...            ...        ...  \n",
              "9995           0.0        0.0  \n",
              "9996           0.0        0.0  \n",
              "9997           1.0        0.0  \n",
              "9998           0.0        0.0  \n",
              "9999           0.0        0.0  \n",
              "\n",
              "[10000 rows x 18 columns]"
            ]
          },
          "execution_count": 69,
          "metadata": {},
          "output_type": "execute_result"
        }
      ],
      "source": [
        "df_test = pd.read_csv('/content/credit_test.csv')\n",
        "df_test"
      ]
    },
    {
      "cell_type": "code",
      "execution_count": null,
      "metadata": {
        "id": "c0lDLFY4StGc"
      },
      "outputs": [],
      "source": [
        "df_test = df_test.drop(labels=['Loan ID','Customer ID'], axis=1)\n",
        "df_test['Credit Score']=df_test['Credit Score'].fillna(pd.Series(np.random.choice(df_test['Credit Score'].dropna(),size=len(df_test.index))))\n",
        "df_test['Bankruptcies'].fillna(df_test['Bankruptcies'].std(),inplace=True)\n",
        "df_test['Annual Income']=df_test['Annual Income'].fillna(pd.Series(np.random.choice(df_test['Annual Income'].dropna(),size=len(df_test.index))))\n",
        "df_test['Tax Liens'].fillna(df_test['Tax Liens'].std(),inplace=True)\n",
        "df_test['Years in current job']=df_test['Years in current job'].fillna(pd.Series(np.random.choice(df_test['Years in current job'].dropna(),size=len(df_test.index))))\n",
        "df_test['Maximum Open Credit'].fillna(df_test['Maximum Open Credit'].mean(),inplace=True)\n",
        "df_test['Months since last delinquent']=df_test['Months since last delinquent'].fillna(pd.Series(np.random.choice(df_test['Months since last delinquent'].dropna(),size=len(df_test.index))))\n",
        "df_test['Current Credit Balance'].fillna(df_test['Current Credit Balance'].mean(),inplace=True)"
      ]
    },
    {
      "cell_type": "code",
      "execution_count": null,
      "metadata": {
        "id": "cq6QU4DbTTXC"
      },
      "outputs": [],
      "source": [
        "df_test['Term']=label_encoder.fit_transform(df_test['Term'])\n",
        "df_test['Years in current job']=label_encoder.fit_transform(df_test['Years in current job'])\n",
        "df_test['Home Ownership']=label_encoder.fit_transform(df_test['Home Ownership'])\n",
        "df_test['Purpose']=label_encoder.fit_transform(df_test['Purpose'])"
      ]
    },
    {
      "cell_type": "code",
      "execution_count": null,
      "metadata": {
        "colab": {
          "base_uri": "https://localhost:8080/",
          "height": 540
        },
        "id": "DqNvQCXSTgcQ",
        "outputId": "f8b44038-4079-42f2-e22b-552fb8589284"
      },
      "outputs": [
        {
          "data": {
            "text/html": [
              "\n",
              "  <div id=\"df-95ecce2d-5bbc-49c4-89b5-012c3d76ae3e\">\n",
              "    <div class=\"colab-df-container\">\n",
              "      <div>\n",
              "<style scoped>\n",
              "    .dataframe tbody tr th:only-of-type {\n",
              "        vertical-align: middle;\n",
              "    }\n",
              "\n",
              "    .dataframe tbody tr th {\n",
              "        vertical-align: top;\n",
              "    }\n",
              "\n",
              "    .dataframe thead th {\n",
              "        text-align: right;\n",
              "    }\n",
              "</style>\n",
              "<table border=\"1\" class=\"dataframe\">\n",
              "  <thead>\n",
              "    <tr style=\"text-align: right;\">\n",
              "      <th></th>\n",
              "      <th>Current Loan Amount</th>\n",
              "      <th>Term</th>\n",
              "      <th>Credit Score</th>\n",
              "      <th>Annual Income</th>\n",
              "      <th>Years in current job</th>\n",
              "      <th>Home Ownership</th>\n",
              "      <th>Purpose</th>\n",
              "      <th>Monthly Debt</th>\n",
              "      <th>Years of Credit History</th>\n",
              "      <th>Months since last delinquent</th>\n",
              "      <th>Number of Open Accounts</th>\n",
              "      <th>Number of Credit Problems</th>\n",
              "      <th>Current Credit Balance</th>\n",
              "      <th>Maximum Open Credit</th>\n",
              "      <th>Bankruptcies</th>\n",
              "      <th>Tax Liens</th>\n",
              "    </tr>\n",
              "  </thead>\n",
              "  <tbody>\n",
              "    <tr>\n",
              "      <th>0</th>\n",
              "      <td>611314</td>\n",
              "      <td>1</td>\n",
              "      <td>747.0</td>\n",
              "      <td>2074116.0</td>\n",
              "      <td>1</td>\n",
              "      <td>1</td>\n",
              "      <td>3</td>\n",
              "      <td>42000.83</td>\n",
              "      <td>21.8</td>\n",
              "      <td>46.0</td>\n",
              "      <td>9</td>\n",
              "      <td>0</td>\n",
              "      <td>621908</td>\n",
              "      <td>1058970</td>\n",
              "      <td>0.0</td>\n",
              "      <td>0.0</td>\n",
              "    </tr>\n",
              "    <tr>\n",
              "      <th>1</th>\n",
              "      <td>266662</td>\n",
              "      <td>1</td>\n",
              "      <td>734.0</td>\n",
              "      <td>1919190.0</td>\n",
              "      <td>1</td>\n",
              "      <td>1</td>\n",
              "      <td>3</td>\n",
              "      <td>36624.40</td>\n",
              "      <td>19.4</td>\n",
              "      <td>26.0</td>\n",
              "      <td>11</td>\n",
              "      <td>0</td>\n",
              "      <td>679573</td>\n",
              "      <td>904442</td>\n",
              "      <td>0.0</td>\n",
              "      <td>0.0</td>\n",
              "    </tr>\n",
              "    <tr>\n",
              "      <th>2</th>\n",
              "      <td>153494</td>\n",
              "      <td>1</td>\n",
              "      <td>709.0</td>\n",
              "      <td>871112.0</td>\n",
              "      <td>2</td>\n",
              "      <td>3</td>\n",
              "      <td>3</td>\n",
              "      <td>8391.73</td>\n",
              "      <td>12.5</td>\n",
              "      <td>10.0</td>\n",
              "      <td>10</td>\n",
              "      <td>0</td>\n",
              "      <td>38532</td>\n",
              "      <td>388036</td>\n",
              "      <td>0.0</td>\n",
              "      <td>0.0</td>\n",
              "    </tr>\n",
              "    <tr>\n",
              "      <th>3</th>\n",
              "      <td>176242</td>\n",
              "      <td>1</td>\n",
              "      <td>727.0</td>\n",
              "      <td>780083.0</td>\n",
              "      <td>1</td>\n",
              "      <td>3</td>\n",
              "      <td>3</td>\n",
              "      <td>16771.87</td>\n",
              "      <td>16.5</td>\n",
              "      <td>27.0</td>\n",
              "      <td>16</td>\n",
              "      <td>1</td>\n",
              "      <td>156940</td>\n",
              "      <td>531322</td>\n",
              "      <td>1.0</td>\n",
              "      <td>0.0</td>\n",
              "    </tr>\n",
              "    <tr>\n",
              "      <th>4</th>\n",
              "      <td>321992</td>\n",
              "      <td>1</td>\n",
              "      <td>744.0</td>\n",
              "      <td>1761148.0</td>\n",
              "      <td>1</td>\n",
              "      <td>1</td>\n",
              "      <td>3</td>\n",
              "      <td>39478.77</td>\n",
              "      <td>26.0</td>\n",
              "      <td>44.0</td>\n",
              "      <td>14</td>\n",
              "      <td>0</td>\n",
              "      <td>359765</td>\n",
              "      <td>468072</td>\n",
              "      <td>0.0</td>\n",
              "      <td>0.0</td>\n",
              "    </tr>\n",
              "    <tr>\n",
              "      <th>...</th>\n",
              "      <td>...</td>\n",
              "      <td>...</td>\n",
              "      <td>...</td>\n",
              "      <td>...</td>\n",
              "      <td>...</td>\n",
              "      <td>...</td>\n",
              "      <td>...</td>\n",
              "      <td>...</td>\n",
              "      <td>...</td>\n",
              "      <td>...</td>\n",
              "      <td>...</td>\n",
              "      <td>...</td>\n",
              "      <td>...</td>\n",
              "      <td>...</td>\n",
              "      <td>...</td>\n",
              "      <td>...</td>\n",
              "    </tr>\n",
              "    <tr>\n",
              "      <th>9995</th>\n",
              "      <td>157806</td>\n",
              "      <td>1</td>\n",
              "      <td>731.0</td>\n",
              "      <td>1514376.0</td>\n",
              "      <td>6</td>\n",
              "      <td>3</td>\n",
              "      <td>3</td>\n",
              "      <td>4795.41</td>\n",
              "      <td>12.5</td>\n",
              "      <td>42.0</td>\n",
              "      <td>9</td>\n",
              "      <td>0</td>\n",
              "      <td>87058</td>\n",
              "      <td>234410</td>\n",
              "      <td>0.0</td>\n",
              "      <td>0.0</td>\n",
              "    </tr>\n",
              "    <tr>\n",
              "      <th>9996</th>\n",
              "      <td>132550</td>\n",
              "      <td>1</td>\n",
              "      <td>718.0</td>\n",
              "      <td>763192.0</td>\n",
              "      <td>4</td>\n",
              "      <td>1</td>\n",
              "      <td>3</td>\n",
              "      <td>12401.87</td>\n",
              "      <td>9.9</td>\n",
              "      <td>20.0</td>\n",
              "      <td>8</td>\n",
              "      <td>0</td>\n",
              "      <td>74309</td>\n",
              "      <td>329692</td>\n",
              "      <td>0.0</td>\n",
              "      <td>0.0</td>\n",
              "    </tr>\n",
              "    <tr>\n",
              "      <th>9997</th>\n",
              "      <td>223212</td>\n",
              "      <td>0</td>\n",
              "      <td>717.0</td>\n",
              "      <td>1637781.0</td>\n",
              "      <td>1</td>\n",
              "      <td>3</td>\n",
              "      <td>3</td>\n",
              "      <td>4354.42</td>\n",
              "      <td>27.2</td>\n",
              "      <td>8.0</td>\n",
              "      <td>8</td>\n",
              "      <td>1</td>\n",
              "      <td>99636</td>\n",
              "      <td>568370</td>\n",
              "      <td>1.0</td>\n",
              "      <td>0.0</td>\n",
              "    </tr>\n",
              "    <tr>\n",
              "      <th>9998</th>\n",
              "      <td>99999999</td>\n",
              "      <td>1</td>\n",
              "      <td>721.0</td>\n",
              "      <td>972097.0</td>\n",
              "      <td>1</td>\n",
              "      <td>1</td>\n",
              "      <td>3</td>\n",
              "      <td>12232.20</td>\n",
              "      <td>16.8</td>\n",
              "      <td>24.0</td>\n",
              "      <td>8</td>\n",
              "      <td>1</td>\n",
              "      <td>184984</td>\n",
              "      <td>240658</td>\n",
              "      <td>0.0</td>\n",
              "      <td>0.0</td>\n",
              "    </tr>\n",
              "    <tr>\n",
              "      <th>9999</th>\n",
              "      <td>99999999</td>\n",
              "      <td>1</td>\n",
              "      <td>748.0</td>\n",
              "      <td>1079960.0</td>\n",
              "      <td>6</td>\n",
              "      <td>1</td>\n",
              "      <td>3</td>\n",
              "      <td>12239.61</td>\n",
              "      <td>19.7</td>\n",
              "      <td>9.0</td>\n",
              "      <td>14</td>\n",
              "      <td>0</td>\n",
              "      <td>179018</td>\n",
              "      <td>607882</td>\n",
              "      <td>0.0</td>\n",
              "      <td>0.0</td>\n",
              "    </tr>\n",
              "  </tbody>\n",
              "</table>\n",
              "<p>10000 rows × 16 columns</p>\n",
              "</div>\n",
              "      <button class=\"colab-df-convert\" onclick=\"convertToInteractive('df-95ecce2d-5bbc-49c4-89b5-012c3d76ae3e')\"\n",
              "              title=\"Convert this dataframe to an interactive table.\"\n",
              "              style=\"display:none;\">\n",
              "        \n",
              "  <svg xmlns=\"http://www.w3.org/2000/svg\" height=\"24px\"viewBox=\"0 0 24 24\"\n",
              "       width=\"24px\">\n",
              "    <path d=\"M0 0h24v24H0V0z\" fill=\"none\"/>\n",
              "    <path d=\"M18.56 5.44l.94 2.06.94-2.06 2.06-.94-2.06-.94-.94-2.06-.94 2.06-2.06.94zm-11 1L8.5 8.5l.94-2.06 2.06-.94-2.06-.94L8.5 2.5l-.94 2.06-2.06.94zm10 10l.94 2.06.94-2.06 2.06-.94-2.06-.94-.94-2.06-.94 2.06-2.06.94z\"/><path d=\"M17.41 7.96l-1.37-1.37c-.4-.4-.92-.59-1.43-.59-.52 0-1.04.2-1.43.59L10.3 9.45l-7.72 7.72c-.78.78-.78 2.05 0 2.83L4 21.41c.39.39.9.59 1.41.59.51 0 1.02-.2 1.41-.59l7.78-7.78 2.81-2.81c.8-.78.8-2.07 0-2.86zM5.41 20L4 18.59l7.72-7.72 1.47 1.35L5.41 20z\"/>\n",
              "  </svg>\n",
              "      </button>\n",
              "      \n",
              "  <style>\n",
              "    .colab-df-container {\n",
              "      display:flex;\n",
              "      flex-wrap:wrap;\n",
              "      gap: 12px;\n",
              "    }\n",
              "\n",
              "    .colab-df-convert {\n",
              "      background-color: #E8F0FE;\n",
              "      border: none;\n",
              "      border-radius: 50%;\n",
              "      cursor: pointer;\n",
              "      display: none;\n",
              "      fill: #1967D2;\n",
              "      height: 32px;\n",
              "      padding: 0 0 0 0;\n",
              "      width: 32px;\n",
              "    }\n",
              "\n",
              "    .colab-df-convert:hover {\n",
              "      background-color: #E2EBFA;\n",
              "      box-shadow: 0px 1px 2px rgba(60, 64, 67, 0.3), 0px 1px 3px 1px rgba(60, 64, 67, 0.15);\n",
              "      fill: #174EA6;\n",
              "    }\n",
              "\n",
              "    [theme=dark] .colab-df-convert {\n",
              "      background-color: #3B4455;\n",
              "      fill: #D2E3FC;\n",
              "    }\n",
              "\n",
              "    [theme=dark] .colab-df-convert:hover {\n",
              "      background-color: #434B5C;\n",
              "      box-shadow: 0px 1px 3px 1px rgba(0, 0, 0, 0.15);\n",
              "      filter: drop-shadow(0px 1px 2px rgba(0, 0, 0, 0.3));\n",
              "      fill: #FFFFFF;\n",
              "    }\n",
              "  </style>\n",
              "\n",
              "      <script>\n",
              "        const buttonEl =\n",
              "          document.querySelector('#df-95ecce2d-5bbc-49c4-89b5-012c3d76ae3e button.colab-df-convert');\n",
              "        buttonEl.style.display =\n",
              "          google.colab.kernel.accessAllowed ? 'block' : 'none';\n",
              "\n",
              "        async function convertToInteractive(key) {\n",
              "          const element = document.querySelector('#df-95ecce2d-5bbc-49c4-89b5-012c3d76ae3e');\n",
              "          const dataTable =\n",
              "            await google.colab.kernel.invokeFunction('convertToInteractive',\n",
              "                                                     [key], {});\n",
              "          if (!dataTable) return;\n",
              "\n",
              "          const docLinkHtml = 'Like what you see? Visit the ' +\n",
              "            '<a target=\"_blank\" href=https://colab.research.google.com/notebooks/data_table.ipynb>data table notebook</a>'\n",
              "            + ' to learn more about interactive tables.';\n",
              "          element.innerHTML = '';\n",
              "          dataTable['output_type'] = 'display_data';\n",
              "          await google.colab.output.renderOutput(dataTable, element);\n",
              "          const docLink = document.createElement('div');\n",
              "          docLink.innerHTML = docLinkHtml;\n",
              "          element.appendChild(docLink);\n",
              "        }\n",
              "      </script>\n",
              "    </div>\n",
              "  </div>\n",
              "  "
            ],
            "text/plain": [
              "      Current Loan Amount  Term  Credit Score  Annual Income  \\\n",
              "0                  611314     1         747.0      2074116.0   \n",
              "1                  266662     1         734.0      1919190.0   \n",
              "2                  153494     1         709.0       871112.0   \n",
              "3                  176242     1         727.0       780083.0   \n",
              "4                  321992     1         744.0      1761148.0   \n",
              "...                   ...   ...           ...            ...   \n",
              "9995               157806     1         731.0      1514376.0   \n",
              "9996               132550     1         718.0       763192.0   \n",
              "9997               223212     0         717.0      1637781.0   \n",
              "9998             99999999     1         721.0       972097.0   \n",
              "9999             99999999     1         748.0      1079960.0   \n",
              "\n",
              "      Years in current job  Home Ownership  Purpose  Monthly Debt  \\\n",
              "0                        1               1        3      42000.83   \n",
              "1                        1               1        3      36624.40   \n",
              "2                        2               3        3       8391.73   \n",
              "3                        1               3        3      16771.87   \n",
              "4                        1               1        3      39478.77   \n",
              "...                    ...             ...      ...           ...   \n",
              "9995                     6               3        3       4795.41   \n",
              "9996                     4               1        3      12401.87   \n",
              "9997                     1               3        3       4354.42   \n",
              "9998                     1               1        3      12232.20   \n",
              "9999                     6               1        3      12239.61   \n",
              "\n",
              "      Years of Credit History  Months since last delinquent  \\\n",
              "0                        21.8                          46.0   \n",
              "1                        19.4                          26.0   \n",
              "2                        12.5                          10.0   \n",
              "3                        16.5                          27.0   \n",
              "4                        26.0                          44.0   \n",
              "...                       ...                           ...   \n",
              "9995                     12.5                          42.0   \n",
              "9996                      9.9                          20.0   \n",
              "9997                     27.2                           8.0   \n",
              "9998                     16.8                          24.0   \n",
              "9999                     19.7                           9.0   \n",
              "\n",
              "      Number of Open Accounts  Number of Credit Problems  \\\n",
              "0                           9                          0   \n",
              "1                          11                          0   \n",
              "2                          10                          0   \n",
              "3                          16                          1   \n",
              "4                          14                          0   \n",
              "...                       ...                        ...   \n",
              "9995                        9                          0   \n",
              "9996                        8                          0   \n",
              "9997                        8                          1   \n",
              "9998                        8                          1   \n",
              "9999                       14                          0   \n",
              "\n",
              "      Current Credit Balance  Maximum Open Credit  Bankruptcies  Tax Liens  \n",
              "0                     621908              1058970           0.0        0.0  \n",
              "1                     679573               904442           0.0        0.0  \n",
              "2                      38532               388036           0.0        0.0  \n",
              "3                     156940               531322           1.0        0.0  \n",
              "4                     359765               468072           0.0        0.0  \n",
              "...                      ...                  ...           ...        ...  \n",
              "9995                   87058               234410           0.0        0.0  \n",
              "9996                   74309               329692           0.0        0.0  \n",
              "9997                   99636               568370           1.0        0.0  \n",
              "9998                  184984               240658           0.0        0.0  \n",
              "9999                  179018               607882           0.0        0.0  \n",
              "\n",
              "[10000 rows x 16 columns]"
            ]
          },
          "execution_count": 72,
          "metadata": {},
          "output_type": "execute_result"
        }
      ],
      "source": [
        "df_test.dropna(thresh=4)"
      ]
    },
    {
      "cell_type": "code",
      "execution_count": null,
      "metadata": {
        "id": "s9R5AwW3Wbck"
      },
      "outputs": [],
      "source": [
        "df_test.isnull().sum()"
      ]
    },
    {
      "cell_type": "code",
      "execution_count": null,
      "metadata": {
        "id": "SBFIzynQWgxh"
      },
      "outputs": [],
      "source": [
        "#df_test.drop(df_test.tail(353).index, inplace=True)"
      ]
    },
    {
      "cell_type": "code",
      "execution_count": null,
      "metadata": {
        "id": "ATHxdlzgS0vr"
      },
      "outputs": [],
      "source": [
        "res = Lg.predict(df_test)"
      ]
    },
    {
      "cell_type": "code",
      "execution_count": null,
      "metadata": {
        "id": "3P41JyqcWok6"
      },
      "outputs": [],
      "source": [
        "df_test = pd.read_csv('/content/credit_test.csv')"
      ]
    },
    {
      "cell_type": "code",
      "execution_count": null,
      "metadata": {
        "id": "QyonidQJW-Hv"
      },
      "outputs": [],
      "source": [
        "temp = []\n",
        "for i in res:\n",
        "  if (i==1):\n",
        "    temp.append(\"Fully Paid\")\n",
        "  else:\n",
        "    temp.append(\"Charged Off\")"
      ]
    },
    {
      "cell_type": "code",
      "execution_count": null,
      "metadata": {
        "id": "hyZeZoPJX_iR"
      },
      "outputs": [],
      "source": [
        "df_test['Loan Status']=temp"
      ]
    },
    {
      "cell_type": "code",
      "execution_count": null,
      "metadata": {
        "id": "zcJAt5BIv9Z3"
      },
      "outputs": [],
      "source": [
        "df_test"
      ]
    },
    {
      "cell_type": "code",
      "execution_count": null,
      "metadata": {
        "id": "GVEMJeAKwcGF"
      },
      "outputs": [],
      "source": [
        "df_test.set_index('Loan ID', inplace=True)"
      ]
    },
    {
      "cell_type": "code",
      "execution_count": null,
      "metadata": {
        "id": "-YfyrAxVZsYL"
      },
      "outputs": [],
      "source": [
        "header = [\"Loan Status\"]\n",
        "df_test.to_csv('output_logregr.csv', columns = header)"
      ]
    },
    {
      "cell_type": "markdown",
      "metadata": {
        "id": "y2ZnRP54Y5go"
      },
      "source": [
        "\n",
        "\n",
        "---\n",
        "\n",
        "\n",
        "\n",
        "---\n",
        "\n"
      ]
    },
    {
      "cell_type": "code",
      "execution_count": 170,
      "metadata": {
        "colab": {
          "base_uri": "https://localhost:8080/"
        },
        "id": "PBEIMmZDcZwS",
        "outputId": "08a7ec3a-67a4-414f-f0bd-46b512c05c66"
      },
      "outputs": [
        {
          "data": {
            "text/plain": [
              "LogisticRegression(C=6.006877562630546, max_iter=360, penalty='l1',\n",
              "                   solver='liblinear')"
            ]
          },
          "execution_count": 170,
          "metadata": {},
          "output_type": "execute_result"
        }
      ],
      "source": [
        "dt =LogisticRegression(C= 6.006877562630546,\n",
        " solver='liblinear',\n",
        " max_iter=360,\n",
        " penalty= 'l1')\n",
        "dt.fit(x_train ,label_encoder.fit_transform(np.log(y_train+1)) )"
      ]
    },
    {
      "cell_type": "code",
      "execution_count": 171,
      "metadata": {
        "colab": {
          "base_uri": "https://localhost:8080/"
        },
        "id": "67jKnaPXdzFA",
        "outputId": "52d45598-bc5c-4e46-964a-fe197339ad6e"
      },
      "outputs": [
        {
          "data": {
            "text/plain": [
              "0.81548"
            ]
          },
          "execution_count": 171,
          "metadata": {},
          "output_type": "execute_result"
        }
      ],
      "source": [
        "(dt.score(x_test , y_test))"
      ]
    },
    {
      "cell_type": "code",
      "execution_count": 172,
      "metadata": {
        "colab": {
          "base_uri": "https://localhost:8080/",
          "height": 1000
        },
        "id": "rYSgkQLmZbr_",
        "outputId": "856886af-576a-4767-8fd2-7671f6218aba"
      },
      "outputs": [
        {
          "data": {
            "text/html": [
              "\n",
              "  <div id=\"df-d450d140-da96-44eb-ad9f-3b8ea15a699e\">\n",
              "    <div class=\"colab-df-container\">\n",
              "      <div>\n",
              "<style scoped>\n",
              "    .dataframe tbody tr th:only-of-type {\n",
              "        vertical-align: middle;\n",
              "    }\n",
              "\n",
              "    .dataframe tbody tr th {\n",
              "        vertical-align: top;\n",
              "    }\n",
              "\n",
              "    .dataframe thead th {\n",
              "        text-align: right;\n",
              "    }\n",
              "</style>\n",
              "<table border=\"1\" class=\"dataframe\">\n",
              "  <thead>\n",
              "    <tr style=\"text-align: right;\">\n",
              "      <th></th>\n",
              "      <th>Loan ID</th>\n",
              "      <th>Customer ID</th>\n",
              "      <th>Current Loan Amount</th>\n",
              "      <th>Term</th>\n",
              "      <th>Credit Score</th>\n",
              "      <th>Annual Income</th>\n",
              "      <th>Years in current job</th>\n",
              "      <th>Home Ownership</th>\n",
              "      <th>Purpose</th>\n",
              "      <th>Monthly Debt</th>\n",
              "      <th>Years of Credit History</th>\n",
              "      <th>Months since last delinquent</th>\n",
              "      <th>Number of Open Accounts</th>\n",
              "      <th>Number of Credit Problems</th>\n",
              "      <th>Current Credit Balance</th>\n",
              "      <th>Maximum Open Credit</th>\n",
              "      <th>Bankruptcies</th>\n",
              "      <th>Tax Liens</th>\n",
              "    </tr>\n",
              "  </thead>\n",
              "  <tbody>\n",
              "    <tr>\n",
              "      <th>0</th>\n",
              "      <td>f738779f-c726-40dc-92cf-689d73af533d</td>\n",
              "      <td>ded0b3c3-6bf4-4091-8726-47039f2c1b90</td>\n",
              "      <td>611314</td>\n",
              "      <td>Short Term</td>\n",
              "      <td>747.0</td>\n",
              "      <td>2074116.0</td>\n",
              "      <td>10+ years</td>\n",
              "      <td>Home Mortgage</td>\n",
              "      <td>Debt Consolidation</td>\n",
              "      <td>42000.83</td>\n",
              "      <td>21.8</td>\n",
              "      <td>NaN</td>\n",
              "      <td>9</td>\n",
              "      <td>0</td>\n",
              "      <td>621908</td>\n",
              "      <td>1058970</td>\n",
              "      <td>0.0</td>\n",
              "      <td>0.0</td>\n",
              "    </tr>\n",
              "    <tr>\n",
              "      <th>1</th>\n",
              "      <td>6dcc0947-164d-476c-a1de-3ae7283dde0a</td>\n",
              "      <td>1630e6e3-34e3-461a-8fda-09297d3140c8</td>\n",
              "      <td>266662</td>\n",
              "      <td>Short Term</td>\n",
              "      <td>734.0</td>\n",
              "      <td>1919190.0</td>\n",
              "      <td>10+ years</td>\n",
              "      <td>Home Mortgage</td>\n",
              "      <td>Debt Consolidation</td>\n",
              "      <td>36624.40</td>\n",
              "      <td>19.4</td>\n",
              "      <td>NaN</td>\n",
              "      <td>11</td>\n",
              "      <td>0</td>\n",
              "      <td>679573</td>\n",
              "      <td>904442</td>\n",
              "      <td>0.0</td>\n",
              "      <td>0.0</td>\n",
              "    </tr>\n",
              "    <tr>\n",
              "      <th>2</th>\n",
              "      <td>f7744d01-894b-49c3-8777-fc6431a2cff1</td>\n",
              "      <td>2c60938b-ad2b-4702-804d-eeca43949c52</td>\n",
              "      <td>153494</td>\n",
              "      <td>Short Term</td>\n",
              "      <td>709.0</td>\n",
              "      <td>871112.0</td>\n",
              "      <td>2 years</td>\n",
              "      <td>Rent</td>\n",
              "      <td>Debt Consolidation</td>\n",
              "      <td>8391.73</td>\n",
              "      <td>12.5</td>\n",
              "      <td>10.0</td>\n",
              "      <td>10</td>\n",
              "      <td>0</td>\n",
              "      <td>38532</td>\n",
              "      <td>388036</td>\n",
              "      <td>0.0</td>\n",
              "      <td>0.0</td>\n",
              "    </tr>\n",
              "    <tr>\n",
              "      <th>3</th>\n",
              "      <td>83721ffb-b99a-4a0f-aea5-ef472a138b41</td>\n",
              "      <td>12116614-2f3c-4d16-ad34-d92883718806</td>\n",
              "      <td>176242</td>\n",
              "      <td>Short Term</td>\n",
              "      <td>727.0</td>\n",
              "      <td>780083.0</td>\n",
              "      <td>10+ years</td>\n",
              "      <td>Rent</td>\n",
              "      <td>Debt Consolidation</td>\n",
              "      <td>16771.87</td>\n",
              "      <td>16.5</td>\n",
              "      <td>27.0</td>\n",
              "      <td>16</td>\n",
              "      <td>1</td>\n",
              "      <td>156940</td>\n",
              "      <td>531322</td>\n",
              "      <td>1.0</td>\n",
              "      <td>0.0</td>\n",
              "    </tr>\n",
              "    <tr>\n",
              "      <th>4</th>\n",
              "      <td>08f3789f-5714-4b10-929d-e1527ab5e5a3</td>\n",
              "      <td>39888105-fd5f-4023-860a-30a3e6f5ccb7</td>\n",
              "      <td>321992</td>\n",
              "      <td>Short Term</td>\n",
              "      <td>744.0</td>\n",
              "      <td>1761148.0</td>\n",
              "      <td>10+ years</td>\n",
              "      <td>Home Mortgage</td>\n",
              "      <td>Debt Consolidation</td>\n",
              "      <td>39478.77</td>\n",
              "      <td>26.0</td>\n",
              "      <td>44.0</td>\n",
              "      <td>14</td>\n",
              "      <td>0</td>\n",
              "      <td>359765</td>\n",
              "      <td>468072</td>\n",
              "      <td>0.0</td>\n",
              "      <td>0.0</td>\n",
              "    </tr>\n",
              "    <tr>\n",
              "      <th>...</th>\n",
              "      <td>...</td>\n",
              "      <td>...</td>\n",
              "      <td>...</td>\n",
              "      <td>...</td>\n",
              "      <td>...</td>\n",
              "      <td>...</td>\n",
              "      <td>...</td>\n",
              "      <td>...</td>\n",
              "      <td>...</td>\n",
              "      <td>...</td>\n",
              "      <td>...</td>\n",
              "      <td>...</td>\n",
              "      <td>...</td>\n",
              "      <td>...</td>\n",
              "      <td>...</td>\n",
              "      <td>...</td>\n",
              "      <td>...</td>\n",
              "      <td>...</td>\n",
              "    </tr>\n",
              "    <tr>\n",
              "      <th>9995</th>\n",
              "      <td>c4ab66f9-833c-43b8-879c-4f8bcb64dd14</td>\n",
              "      <td>8ee2002b-8fb6-4af0-ab74-25a1c23e7647</td>\n",
              "      <td>157806</td>\n",
              "      <td>Short Term</td>\n",
              "      <td>731.0</td>\n",
              "      <td>1514376.0</td>\n",
              "      <td>6 years</td>\n",
              "      <td>Rent</td>\n",
              "      <td>Debt Consolidation</td>\n",
              "      <td>4795.41</td>\n",
              "      <td>12.5</td>\n",
              "      <td>NaN</td>\n",
              "      <td>9</td>\n",
              "      <td>0</td>\n",
              "      <td>87058</td>\n",
              "      <td>234410</td>\n",
              "      <td>0.0</td>\n",
              "      <td>0.0</td>\n",
              "    </tr>\n",
              "    <tr>\n",
              "      <th>9996</th>\n",
              "      <td>bbd3a392-01b4-4e0e-9c28-b2a4a39beac7</td>\n",
              "      <td>6c306306-f5c2-4db5-b74a-af2895123ecb</td>\n",
              "      <td>132550</td>\n",
              "      <td>Short Term</td>\n",
              "      <td>718.0</td>\n",
              "      <td>763192.0</td>\n",
              "      <td>4 years</td>\n",
              "      <td>Home Mortgage</td>\n",
              "      <td>Debt Consolidation</td>\n",
              "      <td>12401.87</td>\n",
              "      <td>9.9</td>\n",
              "      <td>20.0</td>\n",
              "      <td>8</td>\n",
              "      <td>0</td>\n",
              "      <td>74309</td>\n",
              "      <td>329692</td>\n",
              "      <td>0.0</td>\n",
              "      <td>0.0</td>\n",
              "    </tr>\n",
              "    <tr>\n",
              "      <th>9997</th>\n",
              "      <td>da9870de-4280-46a3-8fc6-91cfe5bfde9d</td>\n",
              "      <td>cc94e25e-1060-4465-b603-194e122f0239</td>\n",
              "      <td>223212</td>\n",
              "      <td>Long Term</td>\n",
              "      <td>NaN</td>\n",
              "      <td>NaN</td>\n",
              "      <td>NaN</td>\n",
              "      <td>Rent</td>\n",
              "      <td>Debt Consolidation</td>\n",
              "      <td>4354.42</td>\n",
              "      <td>27.2</td>\n",
              "      <td>NaN</td>\n",
              "      <td>8</td>\n",
              "      <td>1</td>\n",
              "      <td>99636</td>\n",
              "      <td>568370</td>\n",
              "      <td>1.0</td>\n",
              "      <td>0.0</td>\n",
              "    </tr>\n",
              "    <tr>\n",
              "      <th>9998</th>\n",
              "      <td>0cc8e0e0-1bc6-49d7-ad0f-0598b647458f</td>\n",
              "      <td>f90cf410-a34b-49e7-8af9-2b405e17b827</td>\n",
              "      <td>99999999</td>\n",
              "      <td>Short Term</td>\n",
              "      <td>721.0</td>\n",
              "      <td>972097.0</td>\n",
              "      <td>10+ years</td>\n",
              "      <td>Home Mortgage</td>\n",
              "      <td>Debt Consolidation</td>\n",
              "      <td>12232.20</td>\n",
              "      <td>16.8</td>\n",
              "      <td>24.0</td>\n",
              "      <td>8</td>\n",
              "      <td>1</td>\n",
              "      <td>184984</td>\n",
              "      <td>240658</td>\n",
              "      <td>0.0</td>\n",
              "      <td>0.0</td>\n",
              "    </tr>\n",
              "    <tr>\n",
              "      <th>9999</th>\n",
              "      <td>14f94b64-26c4-48fd-b916-1388d7adcc1d</td>\n",
              "      <td>f1838fa9-7ad9-44d5-97a6-7a6d3f3529d7</td>\n",
              "      <td>99999999</td>\n",
              "      <td>Short Term</td>\n",
              "      <td>748.0</td>\n",
              "      <td>1079960.0</td>\n",
              "      <td>6 years</td>\n",
              "      <td>Home Mortgage</td>\n",
              "      <td>Debt Consolidation</td>\n",
              "      <td>12239.61</td>\n",
              "      <td>19.7</td>\n",
              "      <td>NaN</td>\n",
              "      <td>14</td>\n",
              "      <td>0</td>\n",
              "      <td>179018</td>\n",
              "      <td>607882</td>\n",
              "      <td>0.0</td>\n",
              "      <td>0.0</td>\n",
              "    </tr>\n",
              "  </tbody>\n",
              "</table>\n",
              "<p>10000 rows × 18 columns</p>\n",
              "</div>\n",
              "      <button class=\"colab-df-convert\" onclick=\"convertToInteractive('df-d450d140-da96-44eb-ad9f-3b8ea15a699e')\"\n",
              "              title=\"Convert this dataframe to an interactive table.\"\n",
              "              style=\"display:none;\">\n",
              "        \n",
              "  <svg xmlns=\"http://www.w3.org/2000/svg\" height=\"24px\"viewBox=\"0 0 24 24\"\n",
              "       width=\"24px\">\n",
              "    <path d=\"M0 0h24v24H0V0z\" fill=\"none\"/>\n",
              "    <path d=\"M18.56 5.44l.94 2.06.94-2.06 2.06-.94-2.06-.94-.94-2.06-.94 2.06-2.06.94zm-11 1L8.5 8.5l.94-2.06 2.06-.94-2.06-.94L8.5 2.5l-.94 2.06-2.06.94zm10 10l.94 2.06.94-2.06 2.06-.94-2.06-.94-.94-2.06-.94 2.06-2.06.94z\"/><path d=\"M17.41 7.96l-1.37-1.37c-.4-.4-.92-.59-1.43-.59-.52 0-1.04.2-1.43.59L10.3 9.45l-7.72 7.72c-.78.78-.78 2.05 0 2.83L4 21.41c.39.39.9.59 1.41.59.51 0 1.02-.2 1.41-.59l7.78-7.78 2.81-2.81c.8-.78.8-2.07 0-2.86zM5.41 20L4 18.59l7.72-7.72 1.47 1.35L5.41 20z\"/>\n",
              "  </svg>\n",
              "      </button>\n",
              "      \n",
              "  <style>\n",
              "    .colab-df-container {\n",
              "      display:flex;\n",
              "      flex-wrap:wrap;\n",
              "      gap: 12px;\n",
              "    }\n",
              "\n",
              "    .colab-df-convert {\n",
              "      background-color: #E8F0FE;\n",
              "      border: none;\n",
              "      border-radius: 50%;\n",
              "      cursor: pointer;\n",
              "      display: none;\n",
              "      fill: #1967D2;\n",
              "      height: 32px;\n",
              "      padding: 0 0 0 0;\n",
              "      width: 32px;\n",
              "    }\n",
              "\n",
              "    .colab-df-convert:hover {\n",
              "      background-color: #E2EBFA;\n",
              "      box-shadow: 0px 1px 2px rgba(60, 64, 67, 0.3), 0px 1px 3px 1px rgba(60, 64, 67, 0.15);\n",
              "      fill: #174EA6;\n",
              "    }\n",
              "\n",
              "    [theme=dark] .colab-df-convert {\n",
              "      background-color: #3B4455;\n",
              "      fill: #D2E3FC;\n",
              "    }\n",
              "\n",
              "    [theme=dark] .colab-df-convert:hover {\n",
              "      background-color: #434B5C;\n",
              "      box-shadow: 0px 1px 3px 1px rgba(0, 0, 0, 0.15);\n",
              "      filter: drop-shadow(0px 1px 2px rgba(0, 0, 0, 0.3));\n",
              "      fill: #FFFFFF;\n",
              "    }\n",
              "  </style>\n",
              "\n",
              "      <script>\n",
              "        const buttonEl =\n",
              "          document.querySelector('#df-d450d140-da96-44eb-ad9f-3b8ea15a699e button.colab-df-convert');\n",
              "        buttonEl.style.display =\n",
              "          google.colab.kernel.accessAllowed ? 'block' : 'none';\n",
              "\n",
              "        async function convertToInteractive(key) {\n",
              "          const element = document.querySelector('#df-d450d140-da96-44eb-ad9f-3b8ea15a699e');\n",
              "          const dataTable =\n",
              "            await google.colab.kernel.invokeFunction('convertToInteractive',\n",
              "                                                     [key], {});\n",
              "          if (!dataTable) return;\n",
              "\n",
              "          const docLinkHtml = 'Like what you see? Visit the ' +\n",
              "            '<a target=\"_blank\" href=https://colab.research.google.com/notebooks/data_table.ipynb>data table notebook</a>'\n",
              "            + ' to learn more about interactive tables.';\n",
              "          element.innerHTML = '';\n",
              "          dataTable['output_type'] = 'display_data';\n",
              "          await google.colab.output.renderOutput(dataTable, element);\n",
              "          const docLink = document.createElement('div');\n",
              "          docLink.innerHTML = docLinkHtml;\n",
              "          element.appendChild(docLink);\n",
              "        }\n",
              "      </script>\n",
              "    </div>\n",
              "  </div>\n",
              "  "
            ],
            "text/plain": [
              "                                   Loan ID  \\\n",
              "0     f738779f-c726-40dc-92cf-689d73af533d   \n",
              "1     6dcc0947-164d-476c-a1de-3ae7283dde0a   \n",
              "2     f7744d01-894b-49c3-8777-fc6431a2cff1   \n",
              "3     83721ffb-b99a-4a0f-aea5-ef472a138b41   \n",
              "4     08f3789f-5714-4b10-929d-e1527ab5e5a3   \n",
              "...                                    ...   \n",
              "9995  c4ab66f9-833c-43b8-879c-4f8bcb64dd14   \n",
              "9996  bbd3a392-01b4-4e0e-9c28-b2a4a39beac7   \n",
              "9997  da9870de-4280-46a3-8fc6-91cfe5bfde9d   \n",
              "9998  0cc8e0e0-1bc6-49d7-ad0f-0598b647458f   \n",
              "9999  14f94b64-26c4-48fd-b916-1388d7adcc1d   \n",
              "\n",
              "                               Customer ID  Current Loan Amount        Term  \\\n",
              "0     ded0b3c3-6bf4-4091-8726-47039f2c1b90               611314  Short Term   \n",
              "1     1630e6e3-34e3-461a-8fda-09297d3140c8               266662  Short Term   \n",
              "2     2c60938b-ad2b-4702-804d-eeca43949c52               153494  Short Term   \n",
              "3     12116614-2f3c-4d16-ad34-d92883718806               176242  Short Term   \n",
              "4     39888105-fd5f-4023-860a-30a3e6f5ccb7               321992  Short Term   \n",
              "...                                    ...                  ...         ...   \n",
              "9995  8ee2002b-8fb6-4af0-ab74-25a1c23e7647               157806  Short Term   \n",
              "9996  6c306306-f5c2-4db5-b74a-af2895123ecb               132550  Short Term   \n",
              "9997  cc94e25e-1060-4465-b603-194e122f0239               223212   Long Term   \n",
              "9998  f90cf410-a34b-49e7-8af9-2b405e17b827             99999999  Short Term   \n",
              "9999  f1838fa9-7ad9-44d5-97a6-7a6d3f3529d7             99999999  Short Term   \n",
              "\n",
              "      Credit Score  Annual Income Years in current job Home Ownership  \\\n",
              "0            747.0      2074116.0            10+ years  Home Mortgage   \n",
              "1            734.0      1919190.0            10+ years  Home Mortgage   \n",
              "2            709.0       871112.0              2 years           Rent   \n",
              "3            727.0       780083.0            10+ years           Rent   \n",
              "4            744.0      1761148.0            10+ years  Home Mortgage   \n",
              "...            ...            ...                  ...            ...   \n",
              "9995         731.0      1514376.0              6 years           Rent   \n",
              "9996         718.0       763192.0              4 years  Home Mortgage   \n",
              "9997           NaN            NaN                  NaN           Rent   \n",
              "9998         721.0       972097.0            10+ years  Home Mortgage   \n",
              "9999         748.0      1079960.0              6 years  Home Mortgage   \n",
              "\n",
              "                 Purpose  Monthly Debt  Years of Credit History  \\\n",
              "0     Debt Consolidation      42000.83                     21.8   \n",
              "1     Debt Consolidation      36624.40                     19.4   \n",
              "2     Debt Consolidation       8391.73                     12.5   \n",
              "3     Debt Consolidation      16771.87                     16.5   \n",
              "4     Debt Consolidation      39478.77                     26.0   \n",
              "...                  ...           ...                      ...   \n",
              "9995  Debt Consolidation       4795.41                     12.5   \n",
              "9996  Debt Consolidation      12401.87                      9.9   \n",
              "9997  Debt Consolidation       4354.42                     27.2   \n",
              "9998  Debt Consolidation      12232.20                     16.8   \n",
              "9999  Debt Consolidation      12239.61                     19.7   \n",
              "\n",
              "      Months since last delinquent  Number of Open Accounts  \\\n",
              "0                              NaN                        9   \n",
              "1                              NaN                       11   \n",
              "2                             10.0                       10   \n",
              "3                             27.0                       16   \n",
              "4                             44.0                       14   \n",
              "...                            ...                      ...   \n",
              "9995                           NaN                        9   \n",
              "9996                          20.0                        8   \n",
              "9997                           NaN                        8   \n",
              "9998                          24.0                        8   \n",
              "9999                           NaN                       14   \n",
              "\n",
              "      Number of Credit Problems  Current Credit Balance  Maximum Open Credit  \\\n",
              "0                             0                  621908              1058970   \n",
              "1                             0                  679573               904442   \n",
              "2                             0                   38532               388036   \n",
              "3                             1                  156940               531322   \n",
              "4                             0                  359765               468072   \n",
              "...                         ...                     ...                  ...   \n",
              "9995                          0                   87058               234410   \n",
              "9996                          0                   74309               329692   \n",
              "9997                          1                   99636               568370   \n",
              "9998                          1                  184984               240658   \n",
              "9999                          0                  179018               607882   \n",
              "\n",
              "      Bankruptcies  Tax Liens  \n",
              "0              0.0        0.0  \n",
              "1              0.0        0.0  \n",
              "2              0.0        0.0  \n",
              "3              1.0        0.0  \n",
              "4              0.0        0.0  \n",
              "...            ...        ...  \n",
              "9995           0.0        0.0  \n",
              "9996           0.0        0.0  \n",
              "9997           1.0        0.0  \n",
              "9998           0.0        0.0  \n",
              "9999           0.0        0.0  \n",
              "\n",
              "[10000 rows x 18 columns]"
            ]
          },
          "execution_count": 172,
          "metadata": {},
          "output_type": "execute_result"
        }
      ],
      "source": [
        "df_test = pd.read_csv('/content/credit_test.csv')\n",
        "df_test"
      ]
    },
    {
      "cell_type": "code",
      "execution_count": 173,
      "metadata": {
        "id": "GKyoPsWKZbsA"
      },
      "outputs": [],
      "source": [
        "df_test = df_test.drop(labels=['Loan ID','Customer ID'], axis=1)\n",
        "df_test['Credit Score']=df_test['Credit Score'].fillna(pd.Series(np.random.choice(df_test['Credit Score'].dropna(),size=len(df_test.index))))\n",
        "df_test['Bankruptcies'].fillna(df_test['Bankruptcies'].std(),inplace=True)\n",
        "df_test['Annual Income']=df_test['Annual Income'].fillna(pd.Series(np.random.choice(df_test['Annual Income'].dropna(),size=len(df_test.index))))\n",
        "df_test['Tax Liens'].fillna(df_test['Tax Liens'].std(),inplace=True)\n",
        "df_test['Years in current job']=df_test['Years in current job'].fillna(pd.Series(np.random.choice(df_test['Years in current job'].dropna(),size=len(df_test.index))))\n",
        "df_test['Maximum Open Credit'].fillna(df_test['Maximum Open Credit'].mean(),inplace=True)\n",
        "df_test['Months since last delinquent']=df_test['Months since last delinquent'].fillna(pd.Series(np.random.choice(df_test['Months since last delinquent'].dropna(),size=len(df_test.index))))\n",
        "df_test['Current Credit Balance'].fillna(df_test['Current Credit Balance'].mean(),inplace=True)"
      ]
    },
    {
      "cell_type": "code",
      "execution_count": 174,
      "metadata": {
        "id": "PeldR09iZbsB"
      },
      "outputs": [],
      "source": [
        "df_test['Term']=label_encoder.fit_transform(df_test['Term'])\n",
        "df_test['Years in current job']=label_encoder.fit_transform(df_test['Years in current job'])\n",
        "df_test['Home Ownership']=label_encoder.fit_transform(df_test['Home Ownership'])\n",
        "df_test['Purpose']=label_encoder.fit_transform(df_test['Purpose'])\n"
      ]
    },
    {
      "cell_type": "code",
      "execution_count": null,
      "metadata": {
        "id": "rEOg_aweZbsB"
      },
      "outputs": [],
      "source": [
        "df_test.dropna(thresh=4)"
      ]
    },
    {
      "cell_type": "code",
      "execution_count": 175,
      "metadata": {
        "colab": {
          "base_uri": "https://localhost:8080/"
        },
        "id": "vpZTeHftZbsC",
        "outputId": "504aedb4-f4b8-48f4-89d8-fddc049dc4fd"
      },
      "outputs": [
        {
          "data": {
            "text/plain": [
              "Current Loan Amount             0\n",
              "Term                            0\n",
              "Credit Score                    0\n",
              "Annual Income                   0\n",
              "Years in current job            0\n",
              "Home Ownership                  0\n",
              "Purpose                         0\n",
              "Monthly Debt                    0\n",
              "Years of Credit History         0\n",
              "Months since last delinquent    0\n",
              "Number of Open Accounts         0\n",
              "Number of Credit Problems       0\n",
              "Current Credit Balance          0\n",
              "Maximum Open Credit             0\n",
              "Bankruptcies                    0\n",
              "Tax Liens                       0\n",
              "dtype: int64"
            ]
          },
          "execution_count": 175,
          "metadata": {},
          "output_type": "execute_result"
        }
      ],
      "source": [
        "df_test.isnull().sum()"
      ]
    },
    {
      "cell_type": "code",
      "execution_count": 176,
      "metadata": {
        "id": "8tu64OyVZbsC"
      },
      "outputs": [],
      "source": [
        "res = dt.predict(df_test)"
      ]
    },
    {
      "cell_type": "code",
      "execution_count": 182,
      "metadata": {
        "colab": {
          "base_uri": "https://localhost:8080/"
        },
        "id": "iDjxdeTHhmlS",
        "outputId": "193fddef-8e1c-477b-c9fc-282cb8513d37"
      },
      "outputs": [
        {
          "data": {
            "text/plain": [
              "array([], dtype=int64)"
            ]
          },
          "execution_count": 182,
          "metadata": {},
          "output_type": "execute_result"
        }
      ],
      "source": [
        "res[res<1]"
      ]
    },
    {
      "cell_type": "code",
      "execution_count": 177,
      "metadata": {
        "id": "o249XIlHZbsC"
      },
      "outputs": [],
      "source": [
        "df_test = pd.read_csv('/content/credit_test.csv')"
      ]
    },
    {
      "cell_type": "code",
      "execution_count": 178,
      "metadata": {
        "id": "-gg8FxsKZbsD"
      },
      "outputs": [],
      "source": [
        "temp = []\n",
        "for i in res:\n",
        "  if (i==1):\n",
        "    temp.append(\"Fully Paid\")\n",
        "  else:\n",
        "    temp.append(\"Charged Off\")"
      ]
    },
    {
      "cell_type": "code",
      "execution_count": 179,
      "metadata": {
        "id": "RoNFJQCgaVjs"
      },
      "outputs": [],
      "source": [
        "df_test['Loan Status']=temp"
      ]
    },
    {
      "cell_type": "code",
      "execution_count": 180,
      "metadata": {
        "id": "f-f1clXbxGur"
      },
      "outputs": [],
      "source": [
        "df_test.set_index('Loan ID', inplace=True)"
      ]
    },
    {
      "cell_type": "code",
      "execution_count": 181,
      "metadata": {
        "id": "sW6Qb-qdZUVa"
      },
      "outputs": [],
      "source": [
        "header = [\"Loan Status\"]\n",
        "df_test.to_csv('output_dectree.csv', columns = header)"
      ]
    },
    {
      "cell_type": "markdown",
      "metadata": {
        "id": "oCQwIgk8j7x0"
      },
      "source": [
        "\n",
        "\n",
        "---\n",
        "XGBoost\n"
      ]
    },
    {
      "cell_type": "code",
      "execution_count": null,
      "metadata": {
        "id": "8KSi7OG2q2XG"
      },
      "outputs": [],
      "source": [
        "df.info()"
      ]
    },
    {
      "cell_type": "code",
      "execution_count": null,
      "metadata": {
        "id": "jHVYXE0iq8Qv"
      },
      "outputs": [],
      "source": [
        "df_test.info()"
      ]
    },
    {
      "cell_type": "code",
      "execution_count": null,
      "metadata": {
        "colab": {
          "base_uri": "https://localhost:8080/",
          "height": 1000
        },
        "id": "c0wRLmHJkHfX",
        "outputId": "e666d52b-c4b1-46b9-e6ba-f7db8252adca"
      },
      "outputs": [
        {
          "data": {
            "text/html": [
              "\n",
              "  <div id=\"df-0340e45b-881f-4c9a-aa56-3aa3ffc8e6d8\">\n",
              "    <div class=\"colab-df-container\">\n",
              "      <div>\n",
              "<style scoped>\n",
              "    .dataframe tbody tr th:only-of-type {\n",
              "        vertical-align: middle;\n",
              "    }\n",
              "\n",
              "    .dataframe tbody tr th {\n",
              "        vertical-align: top;\n",
              "    }\n",
              "\n",
              "    .dataframe thead th {\n",
              "        text-align: right;\n",
              "    }\n",
              "</style>\n",
              "<table border=\"1\" class=\"dataframe\">\n",
              "  <thead>\n",
              "    <tr style=\"text-align: right;\">\n",
              "      <th></th>\n",
              "      <th>Loan ID</th>\n",
              "      <th>Customer ID</th>\n",
              "      <th>Current Loan Amount</th>\n",
              "      <th>Term</th>\n",
              "      <th>Credit Score</th>\n",
              "      <th>Annual Income</th>\n",
              "      <th>Years in current job</th>\n",
              "      <th>Home Ownership</th>\n",
              "      <th>Purpose</th>\n",
              "      <th>Monthly Debt</th>\n",
              "      <th>Years of Credit History</th>\n",
              "      <th>Months since last delinquent</th>\n",
              "      <th>Number of Open Accounts</th>\n",
              "      <th>Number of Credit Problems</th>\n",
              "      <th>Current Credit Balance</th>\n",
              "      <th>Maximum Open Credit</th>\n",
              "      <th>Bankruptcies</th>\n",
              "      <th>Tax Liens</th>\n",
              "    </tr>\n",
              "  </thead>\n",
              "  <tbody>\n",
              "    <tr>\n",
              "      <th>0</th>\n",
              "      <td>f738779f-c726-40dc-92cf-689d73af533d</td>\n",
              "      <td>ded0b3c3-6bf4-4091-8726-47039f2c1b90</td>\n",
              "      <td>611314</td>\n",
              "      <td>Short Term</td>\n",
              "      <td>747.0</td>\n",
              "      <td>2074116.0</td>\n",
              "      <td>10+ years</td>\n",
              "      <td>Home Mortgage</td>\n",
              "      <td>Debt Consolidation</td>\n",
              "      <td>42000.83</td>\n",
              "      <td>21.8</td>\n",
              "      <td>NaN</td>\n",
              "      <td>9</td>\n",
              "      <td>0</td>\n",
              "      <td>621908</td>\n",
              "      <td>1058970</td>\n",
              "      <td>0.0</td>\n",
              "      <td>0.0</td>\n",
              "    </tr>\n",
              "    <tr>\n",
              "      <th>1</th>\n",
              "      <td>6dcc0947-164d-476c-a1de-3ae7283dde0a</td>\n",
              "      <td>1630e6e3-34e3-461a-8fda-09297d3140c8</td>\n",
              "      <td>266662</td>\n",
              "      <td>Short Term</td>\n",
              "      <td>734.0</td>\n",
              "      <td>1919190.0</td>\n",
              "      <td>10+ years</td>\n",
              "      <td>Home Mortgage</td>\n",
              "      <td>Debt Consolidation</td>\n",
              "      <td>36624.40</td>\n",
              "      <td>19.4</td>\n",
              "      <td>NaN</td>\n",
              "      <td>11</td>\n",
              "      <td>0</td>\n",
              "      <td>679573</td>\n",
              "      <td>904442</td>\n",
              "      <td>0.0</td>\n",
              "      <td>0.0</td>\n",
              "    </tr>\n",
              "    <tr>\n",
              "      <th>2</th>\n",
              "      <td>f7744d01-894b-49c3-8777-fc6431a2cff1</td>\n",
              "      <td>2c60938b-ad2b-4702-804d-eeca43949c52</td>\n",
              "      <td>153494</td>\n",
              "      <td>Short Term</td>\n",
              "      <td>709.0</td>\n",
              "      <td>871112.0</td>\n",
              "      <td>2 years</td>\n",
              "      <td>Rent</td>\n",
              "      <td>Debt Consolidation</td>\n",
              "      <td>8391.73</td>\n",
              "      <td>12.5</td>\n",
              "      <td>10.0</td>\n",
              "      <td>10</td>\n",
              "      <td>0</td>\n",
              "      <td>38532</td>\n",
              "      <td>388036</td>\n",
              "      <td>0.0</td>\n",
              "      <td>0.0</td>\n",
              "    </tr>\n",
              "    <tr>\n",
              "      <th>3</th>\n",
              "      <td>83721ffb-b99a-4a0f-aea5-ef472a138b41</td>\n",
              "      <td>12116614-2f3c-4d16-ad34-d92883718806</td>\n",
              "      <td>176242</td>\n",
              "      <td>Short Term</td>\n",
              "      <td>727.0</td>\n",
              "      <td>780083.0</td>\n",
              "      <td>10+ years</td>\n",
              "      <td>Rent</td>\n",
              "      <td>Debt Consolidation</td>\n",
              "      <td>16771.87</td>\n",
              "      <td>16.5</td>\n",
              "      <td>27.0</td>\n",
              "      <td>16</td>\n",
              "      <td>1</td>\n",
              "      <td>156940</td>\n",
              "      <td>531322</td>\n",
              "      <td>1.0</td>\n",
              "      <td>0.0</td>\n",
              "    </tr>\n",
              "    <tr>\n",
              "      <th>4</th>\n",
              "      <td>08f3789f-5714-4b10-929d-e1527ab5e5a3</td>\n",
              "      <td>39888105-fd5f-4023-860a-30a3e6f5ccb7</td>\n",
              "      <td>321992</td>\n",
              "      <td>Short Term</td>\n",
              "      <td>744.0</td>\n",
              "      <td>1761148.0</td>\n",
              "      <td>10+ years</td>\n",
              "      <td>Home Mortgage</td>\n",
              "      <td>Debt Consolidation</td>\n",
              "      <td>39478.77</td>\n",
              "      <td>26.0</td>\n",
              "      <td>44.0</td>\n",
              "      <td>14</td>\n",
              "      <td>0</td>\n",
              "      <td>359765</td>\n",
              "      <td>468072</td>\n",
              "      <td>0.0</td>\n",
              "      <td>0.0</td>\n",
              "    </tr>\n",
              "    <tr>\n",
              "      <th>...</th>\n",
              "      <td>...</td>\n",
              "      <td>...</td>\n",
              "      <td>...</td>\n",
              "      <td>...</td>\n",
              "      <td>...</td>\n",
              "      <td>...</td>\n",
              "      <td>...</td>\n",
              "      <td>...</td>\n",
              "      <td>...</td>\n",
              "      <td>...</td>\n",
              "      <td>...</td>\n",
              "      <td>...</td>\n",
              "      <td>...</td>\n",
              "      <td>...</td>\n",
              "      <td>...</td>\n",
              "      <td>...</td>\n",
              "      <td>...</td>\n",
              "      <td>...</td>\n",
              "    </tr>\n",
              "    <tr>\n",
              "      <th>9995</th>\n",
              "      <td>c4ab66f9-833c-43b8-879c-4f8bcb64dd14</td>\n",
              "      <td>8ee2002b-8fb6-4af0-ab74-25a1c23e7647</td>\n",
              "      <td>157806</td>\n",
              "      <td>Short Term</td>\n",
              "      <td>731.0</td>\n",
              "      <td>1514376.0</td>\n",
              "      <td>6 years</td>\n",
              "      <td>Rent</td>\n",
              "      <td>Debt Consolidation</td>\n",
              "      <td>4795.41</td>\n",
              "      <td>12.5</td>\n",
              "      <td>NaN</td>\n",
              "      <td>9</td>\n",
              "      <td>0</td>\n",
              "      <td>87058</td>\n",
              "      <td>234410</td>\n",
              "      <td>0.0</td>\n",
              "      <td>0.0</td>\n",
              "    </tr>\n",
              "    <tr>\n",
              "      <th>9996</th>\n",
              "      <td>bbd3a392-01b4-4e0e-9c28-b2a4a39beac7</td>\n",
              "      <td>6c306306-f5c2-4db5-b74a-af2895123ecb</td>\n",
              "      <td>132550</td>\n",
              "      <td>Short Term</td>\n",
              "      <td>718.0</td>\n",
              "      <td>763192.0</td>\n",
              "      <td>4 years</td>\n",
              "      <td>Home Mortgage</td>\n",
              "      <td>Debt Consolidation</td>\n",
              "      <td>12401.87</td>\n",
              "      <td>9.9</td>\n",
              "      <td>20.0</td>\n",
              "      <td>8</td>\n",
              "      <td>0</td>\n",
              "      <td>74309</td>\n",
              "      <td>329692</td>\n",
              "      <td>0.0</td>\n",
              "      <td>0.0</td>\n",
              "    </tr>\n",
              "    <tr>\n",
              "      <th>9997</th>\n",
              "      <td>da9870de-4280-46a3-8fc6-91cfe5bfde9d</td>\n",
              "      <td>cc94e25e-1060-4465-b603-194e122f0239</td>\n",
              "      <td>223212</td>\n",
              "      <td>Long Term</td>\n",
              "      <td>NaN</td>\n",
              "      <td>NaN</td>\n",
              "      <td>NaN</td>\n",
              "      <td>Rent</td>\n",
              "      <td>Debt Consolidation</td>\n",
              "      <td>4354.42</td>\n",
              "      <td>27.2</td>\n",
              "      <td>NaN</td>\n",
              "      <td>8</td>\n",
              "      <td>1</td>\n",
              "      <td>99636</td>\n",
              "      <td>568370</td>\n",
              "      <td>1.0</td>\n",
              "      <td>0.0</td>\n",
              "    </tr>\n",
              "    <tr>\n",
              "      <th>9998</th>\n",
              "      <td>0cc8e0e0-1bc6-49d7-ad0f-0598b647458f</td>\n",
              "      <td>f90cf410-a34b-49e7-8af9-2b405e17b827</td>\n",
              "      <td>99999999</td>\n",
              "      <td>Short Term</td>\n",
              "      <td>721.0</td>\n",
              "      <td>972097.0</td>\n",
              "      <td>10+ years</td>\n",
              "      <td>Home Mortgage</td>\n",
              "      <td>Debt Consolidation</td>\n",
              "      <td>12232.20</td>\n",
              "      <td>16.8</td>\n",
              "      <td>24.0</td>\n",
              "      <td>8</td>\n",
              "      <td>1</td>\n",
              "      <td>184984</td>\n",
              "      <td>240658</td>\n",
              "      <td>0.0</td>\n",
              "      <td>0.0</td>\n",
              "    </tr>\n",
              "    <tr>\n",
              "      <th>9999</th>\n",
              "      <td>14f94b64-26c4-48fd-b916-1388d7adcc1d</td>\n",
              "      <td>f1838fa9-7ad9-44d5-97a6-7a6d3f3529d7</td>\n",
              "      <td>99999999</td>\n",
              "      <td>Short Term</td>\n",
              "      <td>748.0</td>\n",
              "      <td>1079960.0</td>\n",
              "      <td>6 years</td>\n",
              "      <td>Home Mortgage</td>\n",
              "      <td>Debt Consolidation</td>\n",
              "      <td>12239.61</td>\n",
              "      <td>19.7</td>\n",
              "      <td>NaN</td>\n",
              "      <td>14</td>\n",
              "      <td>0</td>\n",
              "      <td>179018</td>\n",
              "      <td>607882</td>\n",
              "      <td>0.0</td>\n",
              "      <td>0.0</td>\n",
              "    </tr>\n",
              "  </tbody>\n",
              "</table>\n",
              "<p>10000 rows × 18 columns</p>\n",
              "</div>\n",
              "      <button class=\"colab-df-convert\" onclick=\"convertToInteractive('df-0340e45b-881f-4c9a-aa56-3aa3ffc8e6d8')\"\n",
              "              title=\"Convert this dataframe to an interactive table.\"\n",
              "              style=\"display:none;\">\n",
              "        \n",
              "  <svg xmlns=\"http://www.w3.org/2000/svg\" height=\"24px\"viewBox=\"0 0 24 24\"\n",
              "       width=\"24px\">\n",
              "    <path d=\"M0 0h24v24H0V0z\" fill=\"none\"/>\n",
              "    <path d=\"M18.56 5.44l.94 2.06.94-2.06 2.06-.94-2.06-.94-.94-2.06-.94 2.06-2.06.94zm-11 1L8.5 8.5l.94-2.06 2.06-.94-2.06-.94L8.5 2.5l-.94 2.06-2.06.94zm10 10l.94 2.06.94-2.06 2.06-.94-2.06-.94-.94-2.06-.94 2.06-2.06.94z\"/><path d=\"M17.41 7.96l-1.37-1.37c-.4-.4-.92-.59-1.43-.59-.52 0-1.04.2-1.43.59L10.3 9.45l-7.72 7.72c-.78.78-.78 2.05 0 2.83L4 21.41c.39.39.9.59 1.41.59.51 0 1.02-.2 1.41-.59l7.78-7.78 2.81-2.81c.8-.78.8-2.07 0-2.86zM5.41 20L4 18.59l7.72-7.72 1.47 1.35L5.41 20z\"/>\n",
              "  </svg>\n",
              "      </button>\n",
              "      \n",
              "  <style>\n",
              "    .colab-df-container {\n",
              "      display:flex;\n",
              "      flex-wrap:wrap;\n",
              "      gap: 12px;\n",
              "    }\n",
              "\n",
              "    .colab-df-convert {\n",
              "      background-color: #E8F0FE;\n",
              "      border: none;\n",
              "      border-radius: 50%;\n",
              "      cursor: pointer;\n",
              "      display: none;\n",
              "      fill: #1967D2;\n",
              "      height: 32px;\n",
              "      padding: 0 0 0 0;\n",
              "      width: 32px;\n",
              "    }\n",
              "\n",
              "    .colab-df-convert:hover {\n",
              "      background-color: #E2EBFA;\n",
              "      box-shadow: 0px 1px 2px rgba(60, 64, 67, 0.3), 0px 1px 3px 1px rgba(60, 64, 67, 0.15);\n",
              "      fill: #174EA6;\n",
              "    }\n",
              "\n",
              "    [theme=dark] .colab-df-convert {\n",
              "      background-color: #3B4455;\n",
              "      fill: #D2E3FC;\n",
              "    }\n",
              "\n",
              "    [theme=dark] .colab-df-convert:hover {\n",
              "      background-color: #434B5C;\n",
              "      box-shadow: 0px 1px 3px 1px rgba(0, 0, 0, 0.15);\n",
              "      filter: drop-shadow(0px 1px 2px rgba(0, 0, 0, 0.3));\n",
              "      fill: #FFFFFF;\n",
              "    }\n",
              "  </style>\n",
              "\n",
              "      <script>\n",
              "        const buttonEl =\n",
              "          document.querySelector('#df-0340e45b-881f-4c9a-aa56-3aa3ffc8e6d8 button.colab-df-convert');\n",
              "        buttonEl.style.display =\n",
              "          google.colab.kernel.accessAllowed ? 'block' : 'none';\n",
              "\n",
              "        async function convertToInteractive(key) {\n",
              "          const element = document.querySelector('#df-0340e45b-881f-4c9a-aa56-3aa3ffc8e6d8');\n",
              "          const dataTable =\n",
              "            await google.colab.kernel.invokeFunction('convertToInteractive',\n",
              "                                                     [key], {});\n",
              "          if (!dataTable) return;\n",
              "\n",
              "          const docLinkHtml = 'Like what you see? Visit the ' +\n",
              "            '<a target=\"_blank\" href=https://colab.research.google.com/notebooks/data_table.ipynb>data table notebook</a>'\n",
              "            + ' to learn more about interactive tables.';\n",
              "          element.innerHTML = '';\n",
              "          dataTable['output_type'] = 'display_data';\n",
              "          await google.colab.output.renderOutput(dataTable, element);\n",
              "          const docLink = document.createElement('div');\n",
              "          docLink.innerHTML = docLinkHtml;\n",
              "          element.appendChild(docLink);\n",
              "        }\n",
              "      </script>\n",
              "    </div>\n",
              "  </div>\n",
              "  "
            ],
            "text/plain": [
              "                                   Loan ID  \\\n",
              "0     f738779f-c726-40dc-92cf-689d73af533d   \n",
              "1     6dcc0947-164d-476c-a1de-3ae7283dde0a   \n",
              "2     f7744d01-894b-49c3-8777-fc6431a2cff1   \n",
              "3     83721ffb-b99a-4a0f-aea5-ef472a138b41   \n",
              "4     08f3789f-5714-4b10-929d-e1527ab5e5a3   \n",
              "...                                    ...   \n",
              "9995  c4ab66f9-833c-43b8-879c-4f8bcb64dd14   \n",
              "9996  bbd3a392-01b4-4e0e-9c28-b2a4a39beac7   \n",
              "9997  da9870de-4280-46a3-8fc6-91cfe5bfde9d   \n",
              "9998  0cc8e0e0-1bc6-49d7-ad0f-0598b647458f   \n",
              "9999  14f94b64-26c4-48fd-b916-1388d7adcc1d   \n",
              "\n",
              "                               Customer ID  Current Loan Amount        Term  \\\n",
              "0     ded0b3c3-6bf4-4091-8726-47039f2c1b90               611314  Short Term   \n",
              "1     1630e6e3-34e3-461a-8fda-09297d3140c8               266662  Short Term   \n",
              "2     2c60938b-ad2b-4702-804d-eeca43949c52               153494  Short Term   \n",
              "3     12116614-2f3c-4d16-ad34-d92883718806               176242  Short Term   \n",
              "4     39888105-fd5f-4023-860a-30a3e6f5ccb7               321992  Short Term   \n",
              "...                                    ...                  ...         ...   \n",
              "9995  8ee2002b-8fb6-4af0-ab74-25a1c23e7647               157806  Short Term   \n",
              "9996  6c306306-f5c2-4db5-b74a-af2895123ecb               132550  Short Term   \n",
              "9997  cc94e25e-1060-4465-b603-194e122f0239               223212   Long Term   \n",
              "9998  f90cf410-a34b-49e7-8af9-2b405e17b827             99999999  Short Term   \n",
              "9999  f1838fa9-7ad9-44d5-97a6-7a6d3f3529d7             99999999  Short Term   \n",
              "\n",
              "      Credit Score  Annual Income Years in current job Home Ownership  \\\n",
              "0            747.0      2074116.0            10+ years  Home Mortgage   \n",
              "1            734.0      1919190.0            10+ years  Home Mortgage   \n",
              "2            709.0       871112.0              2 years           Rent   \n",
              "3            727.0       780083.0            10+ years           Rent   \n",
              "4            744.0      1761148.0            10+ years  Home Mortgage   \n",
              "...            ...            ...                  ...            ...   \n",
              "9995         731.0      1514376.0              6 years           Rent   \n",
              "9996         718.0       763192.0              4 years  Home Mortgage   \n",
              "9997           NaN            NaN                  NaN           Rent   \n",
              "9998         721.0       972097.0            10+ years  Home Mortgage   \n",
              "9999         748.0      1079960.0              6 years  Home Mortgage   \n",
              "\n",
              "                 Purpose  Monthly Debt  Years of Credit History  \\\n",
              "0     Debt Consolidation      42000.83                     21.8   \n",
              "1     Debt Consolidation      36624.40                     19.4   \n",
              "2     Debt Consolidation       8391.73                     12.5   \n",
              "3     Debt Consolidation      16771.87                     16.5   \n",
              "4     Debt Consolidation      39478.77                     26.0   \n",
              "...                  ...           ...                      ...   \n",
              "9995  Debt Consolidation       4795.41                     12.5   \n",
              "9996  Debt Consolidation      12401.87                      9.9   \n",
              "9997  Debt Consolidation       4354.42                     27.2   \n",
              "9998  Debt Consolidation      12232.20                     16.8   \n",
              "9999  Debt Consolidation      12239.61                     19.7   \n",
              "\n",
              "      Months since last delinquent  Number of Open Accounts  \\\n",
              "0                              NaN                        9   \n",
              "1                              NaN                       11   \n",
              "2                             10.0                       10   \n",
              "3                             27.0                       16   \n",
              "4                             44.0                       14   \n",
              "...                            ...                      ...   \n",
              "9995                           NaN                        9   \n",
              "9996                          20.0                        8   \n",
              "9997                           NaN                        8   \n",
              "9998                          24.0                        8   \n",
              "9999                           NaN                       14   \n",
              "\n",
              "      Number of Credit Problems  Current Credit Balance  Maximum Open Credit  \\\n",
              "0                             0                  621908              1058970   \n",
              "1                             0                  679573               904442   \n",
              "2                             0                   38532               388036   \n",
              "3                             1                  156940               531322   \n",
              "4                             0                  359765               468072   \n",
              "...                         ...                     ...                  ...   \n",
              "9995                          0                   87058               234410   \n",
              "9996                          0                   74309               329692   \n",
              "9997                          1                   99636               568370   \n",
              "9998                          1                  184984               240658   \n",
              "9999                          0                  179018               607882   \n",
              "\n",
              "      Bankruptcies  Tax Liens  \n",
              "0              0.0        0.0  \n",
              "1              0.0        0.0  \n",
              "2              0.0        0.0  \n",
              "3              1.0        0.0  \n",
              "4              0.0        0.0  \n",
              "...            ...        ...  \n",
              "9995           0.0        0.0  \n",
              "9996           0.0        0.0  \n",
              "9997           1.0        0.0  \n",
              "9998           0.0        0.0  \n",
              "9999           0.0        0.0  \n",
              "\n",
              "[10000 rows x 18 columns]"
            ]
          },
          "execution_count": 21,
          "metadata": {},
          "output_type": "execute_result"
        }
      ],
      "source": [
        "df_test = pd.read_csv('/content/credit_test.csv')\n",
        "df_test"
      ]
    },
    {
      "cell_type": "code",
      "execution_count": null,
      "metadata": {
        "id": "LX12zWMnkHfX"
      },
      "outputs": [],
      "source": [
        "df_test = df_test.drop(labels=['Loan ID','Customer ID'], axis=1)\n",
        "df_test['Credit Score']=df_test['Credit Score'].fillna(pd.Series(np.random.choice(df_test['Credit Score'].dropna(),size=len(df_test.index))))\n",
        "df_test['Bankruptcies'].fillna(df_test['Bankruptcies'].std(),inplace=True)\n",
        "df_test['Annual Income']=df_test['Annual Income'].fillna(pd.Series(np.random.choice(df_test['Annual Income'].dropna(),size=len(df_test.index))))\n",
        "df_test['Tax Liens'].fillna(df_test['Tax Liens'].std(),inplace=True)\n",
        "df_test['Years in current job']=df_test['Years in current job'].fillna(pd.Series(np.random.choice(df_test['Years in current job'].dropna(),size=len(df_test.index))))\n",
        "df_test['Maximum Open Credit'].fillna(df_test['Maximum Open Credit'].mean(),inplace=True)\n",
        "df_test['Months since last delinquent']=df_test['Months since last delinquent'].fillna(pd.Series(np.random.choice(df_test['Months since last delinquent'].dropna(),size=len(df_test.index))))\n",
        "df_test['Current Credit Balance'].fillna(df_test['Current Credit Balance'].mean(),inplace=True)"
      ]
    },
    {
      "cell_type": "code",
      "execution_count": null,
      "metadata": {
        "id": "94EiAkPpkHfZ"
      },
      "outputs": [],
      "source": [
        "df_test['Term']=label_encoder.fit_transform(df_test['Term'])\n",
        "df_test['Years in current job']=label_encoder.fit_transform(df_test['Years in current job'])\n",
        "df_test['Home Ownership']=label_encoder.fit_transform(df_test['Home Ownership'])\n",
        "df_test['Purpose']=label_encoder.fit_transform(df_test['Purpose'])\n"
      ]
    },
    {
      "cell_type": "code",
      "execution_count": null,
      "metadata": {
        "colab": {
          "base_uri": "https://localhost:8080/",
          "height": 540
        },
        "id": "Q1H1c91Gt-mn",
        "outputId": "54351670-bcaf-4e37-aaad-b9293aa60d87"
      },
      "outputs": [
        {
          "data": {
            "text/html": [
              "\n",
              "  <div id=\"df-ea9111cb-ef5d-4e10-8362-e5fd3fceb5b9\">\n",
              "    <div class=\"colab-df-container\">\n",
              "      <div>\n",
              "<style scoped>\n",
              "    .dataframe tbody tr th:only-of-type {\n",
              "        vertical-align: middle;\n",
              "    }\n",
              "\n",
              "    .dataframe tbody tr th {\n",
              "        vertical-align: top;\n",
              "    }\n",
              "\n",
              "    .dataframe thead th {\n",
              "        text-align: right;\n",
              "    }\n",
              "</style>\n",
              "<table border=\"1\" class=\"dataframe\">\n",
              "  <thead>\n",
              "    <tr style=\"text-align: right;\">\n",
              "      <th></th>\n",
              "      <th>Current Loan Amount</th>\n",
              "      <th>Term</th>\n",
              "      <th>Credit Score</th>\n",
              "      <th>Annual Income</th>\n",
              "      <th>Years in current job</th>\n",
              "      <th>Home Ownership</th>\n",
              "      <th>Purpose</th>\n",
              "      <th>Monthly Debt</th>\n",
              "      <th>Years of Credit History</th>\n",
              "      <th>Months since last delinquent</th>\n",
              "      <th>Number of Open Accounts</th>\n",
              "      <th>Number of Credit Problems</th>\n",
              "      <th>Current Credit Balance</th>\n",
              "      <th>Maximum Open Credit</th>\n",
              "      <th>Bankruptcies</th>\n",
              "      <th>Tax Liens</th>\n",
              "    </tr>\n",
              "  </thead>\n",
              "  <tbody>\n",
              "    <tr>\n",
              "      <th>0</th>\n",
              "      <td>611314</td>\n",
              "      <td>1</td>\n",
              "      <td>747.0</td>\n",
              "      <td>2074116.0</td>\n",
              "      <td>1</td>\n",
              "      <td>1</td>\n",
              "      <td>3</td>\n",
              "      <td>42000.83</td>\n",
              "      <td>21.8</td>\n",
              "      <td>12.0</td>\n",
              "      <td>9</td>\n",
              "      <td>0</td>\n",
              "      <td>621908</td>\n",
              "      <td>1058970</td>\n",
              "      <td>0.0</td>\n",
              "      <td>0.0</td>\n",
              "    </tr>\n",
              "    <tr>\n",
              "      <th>1</th>\n",
              "      <td>266662</td>\n",
              "      <td>1</td>\n",
              "      <td>734.0</td>\n",
              "      <td>1919190.0</td>\n",
              "      <td>1</td>\n",
              "      <td>1</td>\n",
              "      <td>3</td>\n",
              "      <td>36624.40</td>\n",
              "      <td>19.4</td>\n",
              "      <td>31.0</td>\n",
              "      <td>11</td>\n",
              "      <td>0</td>\n",
              "      <td>679573</td>\n",
              "      <td>904442</td>\n",
              "      <td>0.0</td>\n",
              "      <td>0.0</td>\n",
              "    </tr>\n",
              "    <tr>\n",
              "      <th>2</th>\n",
              "      <td>153494</td>\n",
              "      <td>1</td>\n",
              "      <td>709.0</td>\n",
              "      <td>871112.0</td>\n",
              "      <td>2</td>\n",
              "      <td>3</td>\n",
              "      <td>3</td>\n",
              "      <td>8391.73</td>\n",
              "      <td>12.5</td>\n",
              "      <td>10.0</td>\n",
              "      <td>10</td>\n",
              "      <td>0</td>\n",
              "      <td>38532</td>\n",
              "      <td>388036</td>\n",
              "      <td>0.0</td>\n",
              "      <td>0.0</td>\n",
              "    </tr>\n",
              "    <tr>\n",
              "      <th>3</th>\n",
              "      <td>176242</td>\n",
              "      <td>1</td>\n",
              "      <td>727.0</td>\n",
              "      <td>780083.0</td>\n",
              "      <td>1</td>\n",
              "      <td>3</td>\n",
              "      <td>3</td>\n",
              "      <td>16771.87</td>\n",
              "      <td>16.5</td>\n",
              "      <td>27.0</td>\n",
              "      <td>16</td>\n",
              "      <td>1</td>\n",
              "      <td>156940</td>\n",
              "      <td>531322</td>\n",
              "      <td>1.0</td>\n",
              "      <td>0.0</td>\n",
              "    </tr>\n",
              "    <tr>\n",
              "      <th>4</th>\n",
              "      <td>321992</td>\n",
              "      <td>1</td>\n",
              "      <td>744.0</td>\n",
              "      <td>1761148.0</td>\n",
              "      <td>1</td>\n",
              "      <td>1</td>\n",
              "      <td>3</td>\n",
              "      <td>39478.77</td>\n",
              "      <td>26.0</td>\n",
              "      <td>44.0</td>\n",
              "      <td>14</td>\n",
              "      <td>0</td>\n",
              "      <td>359765</td>\n",
              "      <td>468072</td>\n",
              "      <td>0.0</td>\n",
              "      <td>0.0</td>\n",
              "    </tr>\n",
              "    <tr>\n",
              "      <th>...</th>\n",
              "      <td>...</td>\n",
              "      <td>...</td>\n",
              "      <td>...</td>\n",
              "      <td>...</td>\n",
              "      <td>...</td>\n",
              "      <td>...</td>\n",
              "      <td>...</td>\n",
              "      <td>...</td>\n",
              "      <td>...</td>\n",
              "      <td>...</td>\n",
              "      <td>...</td>\n",
              "      <td>...</td>\n",
              "      <td>...</td>\n",
              "      <td>...</td>\n",
              "      <td>...</td>\n",
              "      <td>...</td>\n",
              "    </tr>\n",
              "    <tr>\n",
              "      <th>9995</th>\n",
              "      <td>157806</td>\n",
              "      <td>1</td>\n",
              "      <td>731.0</td>\n",
              "      <td>1514376.0</td>\n",
              "      <td>6</td>\n",
              "      <td>3</td>\n",
              "      <td>3</td>\n",
              "      <td>4795.41</td>\n",
              "      <td>12.5</td>\n",
              "      <td>19.0</td>\n",
              "      <td>9</td>\n",
              "      <td>0</td>\n",
              "      <td>87058</td>\n",
              "      <td>234410</td>\n",
              "      <td>0.0</td>\n",
              "      <td>0.0</td>\n",
              "    </tr>\n",
              "    <tr>\n",
              "      <th>9996</th>\n",
              "      <td>132550</td>\n",
              "      <td>1</td>\n",
              "      <td>718.0</td>\n",
              "      <td>763192.0</td>\n",
              "      <td>4</td>\n",
              "      <td>1</td>\n",
              "      <td>3</td>\n",
              "      <td>12401.87</td>\n",
              "      <td>9.9</td>\n",
              "      <td>20.0</td>\n",
              "      <td>8</td>\n",
              "      <td>0</td>\n",
              "      <td>74309</td>\n",
              "      <td>329692</td>\n",
              "      <td>0.0</td>\n",
              "      <td>0.0</td>\n",
              "    </tr>\n",
              "    <tr>\n",
              "      <th>9997</th>\n",
              "      <td>223212</td>\n",
              "      <td>0</td>\n",
              "      <td>725.0</td>\n",
              "      <td>821085.0</td>\n",
              "      <td>10</td>\n",
              "      <td>3</td>\n",
              "      <td>3</td>\n",
              "      <td>4354.42</td>\n",
              "      <td>27.2</td>\n",
              "      <td>62.0</td>\n",
              "      <td>8</td>\n",
              "      <td>1</td>\n",
              "      <td>99636</td>\n",
              "      <td>568370</td>\n",
              "      <td>1.0</td>\n",
              "      <td>0.0</td>\n",
              "    </tr>\n",
              "    <tr>\n",
              "      <th>9998</th>\n",
              "      <td>99999999</td>\n",
              "      <td>1</td>\n",
              "      <td>721.0</td>\n",
              "      <td>972097.0</td>\n",
              "      <td>1</td>\n",
              "      <td>1</td>\n",
              "      <td>3</td>\n",
              "      <td>12232.20</td>\n",
              "      <td>16.8</td>\n",
              "      <td>24.0</td>\n",
              "      <td>8</td>\n",
              "      <td>1</td>\n",
              "      <td>184984</td>\n",
              "      <td>240658</td>\n",
              "      <td>0.0</td>\n",
              "      <td>0.0</td>\n",
              "    </tr>\n",
              "    <tr>\n",
              "      <th>9999</th>\n",
              "      <td>99999999</td>\n",
              "      <td>1</td>\n",
              "      <td>748.0</td>\n",
              "      <td>1079960.0</td>\n",
              "      <td>6</td>\n",
              "      <td>1</td>\n",
              "      <td>3</td>\n",
              "      <td>12239.61</td>\n",
              "      <td>19.7</td>\n",
              "      <td>44.0</td>\n",
              "      <td>14</td>\n",
              "      <td>0</td>\n",
              "      <td>179018</td>\n",
              "      <td>607882</td>\n",
              "      <td>0.0</td>\n",
              "      <td>0.0</td>\n",
              "    </tr>\n",
              "  </tbody>\n",
              "</table>\n",
              "<p>10000 rows × 16 columns</p>\n",
              "</div>\n",
              "      <button class=\"colab-df-convert\" onclick=\"convertToInteractive('df-ea9111cb-ef5d-4e10-8362-e5fd3fceb5b9')\"\n",
              "              title=\"Convert this dataframe to an interactive table.\"\n",
              "              style=\"display:none;\">\n",
              "        \n",
              "  <svg xmlns=\"http://www.w3.org/2000/svg\" height=\"24px\"viewBox=\"0 0 24 24\"\n",
              "       width=\"24px\">\n",
              "    <path d=\"M0 0h24v24H0V0z\" fill=\"none\"/>\n",
              "    <path d=\"M18.56 5.44l.94 2.06.94-2.06 2.06-.94-2.06-.94-.94-2.06-.94 2.06-2.06.94zm-11 1L8.5 8.5l.94-2.06 2.06-.94-2.06-.94L8.5 2.5l-.94 2.06-2.06.94zm10 10l.94 2.06.94-2.06 2.06-.94-2.06-.94-.94-2.06-.94 2.06-2.06.94z\"/><path d=\"M17.41 7.96l-1.37-1.37c-.4-.4-.92-.59-1.43-.59-.52 0-1.04.2-1.43.59L10.3 9.45l-7.72 7.72c-.78.78-.78 2.05 0 2.83L4 21.41c.39.39.9.59 1.41.59.51 0 1.02-.2 1.41-.59l7.78-7.78 2.81-2.81c.8-.78.8-2.07 0-2.86zM5.41 20L4 18.59l7.72-7.72 1.47 1.35L5.41 20z\"/>\n",
              "  </svg>\n",
              "      </button>\n",
              "      \n",
              "  <style>\n",
              "    .colab-df-container {\n",
              "      display:flex;\n",
              "      flex-wrap:wrap;\n",
              "      gap: 12px;\n",
              "    }\n",
              "\n",
              "    .colab-df-convert {\n",
              "      background-color: #E8F0FE;\n",
              "      border: none;\n",
              "      border-radius: 50%;\n",
              "      cursor: pointer;\n",
              "      display: none;\n",
              "      fill: #1967D2;\n",
              "      height: 32px;\n",
              "      padding: 0 0 0 0;\n",
              "      width: 32px;\n",
              "    }\n",
              "\n",
              "    .colab-df-convert:hover {\n",
              "      background-color: #E2EBFA;\n",
              "      box-shadow: 0px 1px 2px rgba(60, 64, 67, 0.3), 0px 1px 3px 1px rgba(60, 64, 67, 0.15);\n",
              "      fill: #174EA6;\n",
              "    }\n",
              "\n",
              "    [theme=dark] .colab-df-convert {\n",
              "      background-color: #3B4455;\n",
              "      fill: #D2E3FC;\n",
              "    }\n",
              "\n",
              "    [theme=dark] .colab-df-convert:hover {\n",
              "      background-color: #434B5C;\n",
              "      box-shadow: 0px 1px 3px 1px rgba(0, 0, 0, 0.15);\n",
              "      filter: drop-shadow(0px 1px 2px rgba(0, 0, 0, 0.3));\n",
              "      fill: #FFFFFF;\n",
              "    }\n",
              "  </style>\n",
              "\n",
              "      <script>\n",
              "        const buttonEl =\n",
              "          document.querySelector('#df-ea9111cb-ef5d-4e10-8362-e5fd3fceb5b9 button.colab-df-convert');\n",
              "        buttonEl.style.display =\n",
              "          google.colab.kernel.accessAllowed ? 'block' : 'none';\n",
              "\n",
              "        async function convertToInteractive(key) {\n",
              "          const element = document.querySelector('#df-ea9111cb-ef5d-4e10-8362-e5fd3fceb5b9');\n",
              "          const dataTable =\n",
              "            await google.colab.kernel.invokeFunction('convertToInteractive',\n",
              "                                                     [key], {});\n",
              "          if (!dataTable) return;\n",
              "\n",
              "          const docLinkHtml = 'Like what you see? Visit the ' +\n",
              "            '<a target=\"_blank\" href=https://colab.research.google.com/notebooks/data_table.ipynb>data table notebook</a>'\n",
              "            + ' to learn more about interactive tables.';\n",
              "          element.innerHTML = '';\n",
              "          dataTable['output_type'] = 'display_data';\n",
              "          await google.colab.output.renderOutput(dataTable, element);\n",
              "          const docLink = document.createElement('div');\n",
              "          docLink.innerHTML = docLinkHtml;\n",
              "          element.appendChild(docLink);\n",
              "        }\n",
              "      </script>\n",
              "    </div>\n",
              "  </div>\n",
              "  "
            ],
            "text/plain": [
              "      Current Loan Amount  Term  Credit Score  Annual Income  \\\n",
              "0                  611314     1         747.0      2074116.0   \n",
              "1                  266662     1         734.0      1919190.0   \n",
              "2                  153494     1         709.0       871112.0   \n",
              "3                  176242     1         727.0       780083.0   \n",
              "4                  321992     1         744.0      1761148.0   \n",
              "...                   ...   ...           ...            ...   \n",
              "9995               157806     1         731.0      1514376.0   \n",
              "9996               132550     1         718.0       763192.0   \n",
              "9997               223212     0         725.0       821085.0   \n",
              "9998             99999999     1         721.0       972097.0   \n",
              "9999             99999999     1         748.0      1079960.0   \n",
              "\n",
              "      Years in current job  Home Ownership  Purpose  Monthly Debt  \\\n",
              "0                        1               1        3      42000.83   \n",
              "1                        1               1        3      36624.40   \n",
              "2                        2               3        3       8391.73   \n",
              "3                        1               3        3      16771.87   \n",
              "4                        1               1        3      39478.77   \n",
              "...                    ...             ...      ...           ...   \n",
              "9995                     6               3        3       4795.41   \n",
              "9996                     4               1        3      12401.87   \n",
              "9997                    10               3        3       4354.42   \n",
              "9998                     1               1        3      12232.20   \n",
              "9999                     6               1        3      12239.61   \n",
              "\n",
              "      Years of Credit History  Months since last delinquent  \\\n",
              "0                        21.8                          12.0   \n",
              "1                        19.4                          31.0   \n",
              "2                        12.5                          10.0   \n",
              "3                        16.5                          27.0   \n",
              "4                        26.0                          44.0   \n",
              "...                       ...                           ...   \n",
              "9995                     12.5                          19.0   \n",
              "9996                      9.9                          20.0   \n",
              "9997                     27.2                          62.0   \n",
              "9998                     16.8                          24.0   \n",
              "9999                     19.7                          44.0   \n",
              "\n",
              "      Number of Open Accounts  Number of Credit Problems  \\\n",
              "0                           9                          0   \n",
              "1                          11                          0   \n",
              "2                          10                          0   \n",
              "3                          16                          1   \n",
              "4                          14                          0   \n",
              "...                       ...                        ...   \n",
              "9995                        9                          0   \n",
              "9996                        8                          0   \n",
              "9997                        8                          1   \n",
              "9998                        8                          1   \n",
              "9999                       14                          0   \n",
              "\n",
              "      Current Credit Balance  Maximum Open Credit  Bankruptcies  Tax Liens  \n",
              "0                     621908              1058970           0.0        0.0  \n",
              "1                     679573               904442           0.0        0.0  \n",
              "2                      38532               388036           0.0        0.0  \n",
              "3                     156940               531322           1.0        0.0  \n",
              "4                     359765               468072           0.0        0.0  \n",
              "...                      ...                  ...           ...        ...  \n",
              "9995                   87058               234410           0.0        0.0  \n",
              "9996                   74309               329692           0.0        0.0  \n",
              "9997                   99636               568370           1.0        0.0  \n",
              "9998                  184984               240658           0.0        0.0  \n",
              "9999                  179018               607882           0.0        0.0  \n",
              "\n",
              "[10000 rows x 16 columns]"
            ]
          },
          "execution_count": 26,
          "metadata": {},
          "output_type": "execute_result"
        }
      ],
      "source": [
        "test_df = df_test[df.drop(labels='Loan Status', axis=1).columns]\n",
        "test_df.dropna(thresh=4)"
      ]
    },
    {
      "cell_type": "code",
      "execution_count": null,
      "metadata": {
        "colab": {
          "base_uri": "https://localhost:8080/",
          "height": 540
        },
        "id": "fNDH6eCckHfZ",
        "outputId": "66f071f3-4039-4d00-b965-d6c1e855aa0a"
      },
      "outputs": [
        {
          "data": {
            "text/html": [
              "\n",
              "  <div id=\"df-cda29a3c-77b0-4770-96a8-9d140667517a\">\n",
              "    <div class=\"colab-df-container\">\n",
              "      <div>\n",
              "<style scoped>\n",
              "    .dataframe tbody tr th:only-of-type {\n",
              "        vertical-align: middle;\n",
              "    }\n",
              "\n",
              "    .dataframe tbody tr th {\n",
              "        vertical-align: top;\n",
              "    }\n",
              "\n",
              "    .dataframe thead th {\n",
              "        text-align: right;\n",
              "    }\n",
              "</style>\n",
              "<table border=\"1\" class=\"dataframe\">\n",
              "  <thead>\n",
              "    <tr style=\"text-align: right;\">\n",
              "      <th></th>\n",
              "      <th>Current Loan Amount</th>\n",
              "      <th>Term</th>\n",
              "      <th>Credit Score</th>\n",
              "      <th>Annual Income</th>\n",
              "      <th>Years in current job</th>\n",
              "      <th>Home Ownership</th>\n",
              "      <th>Purpose</th>\n",
              "      <th>Monthly Debt</th>\n",
              "      <th>Years of Credit History</th>\n",
              "      <th>Months since last delinquent</th>\n",
              "      <th>Number of Open Accounts</th>\n",
              "      <th>Number of Credit Problems</th>\n",
              "      <th>Current Credit Balance</th>\n",
              "      <th>Maximum Open Credit</th>\n",
              "      <th>Bankruptcies</th>\n",
              "      <th>Tax Liens</th>\n",
              "    </tr>\n",
              "  </thead>\n",
              "  <tbody>\n",
              "    <tr>\n",
              "      <th>0</th>\n",
              "      <td>611314</td>\n",
              "      <td>1</td>\n",
              "      <td>747.0</td>\n",
              "      <td>2074116.0</td>\n",
              "      <td>1</td>\n",
              "      <td>1</td>\n",
              "      <td>3</td>\n",
              "      <td>42000.83</td>\n",
              "      <td>21.8</td>\n",
              "      <td>31.0</td>\n",
              "      <td>9</td>\n",
              "      <td>0</td>\n",
              "      <td>621908</td>\n",
              "      <td>1058970</td>\n",
              "      <td>0.0</td>\n",
              "      <td>0.0</td>\n",
              "    </tr>\n",
              "    <tr>\n",
              "      <th>1</th>\n",
              "      <td>266662</td>\n",
              "      <td>1</td>\n",
              "      <td>734.0</td>\n",
              "      <td>1919190.0</td>\n",
              "      <td>1</td>\n",
              "      <td>1</td>\n",
              "      <td>3</td>\n",
              "      <td>36624.40</td>\n",
              "      <td>19.4</td>\n",
              "      <td>56.0</td>\n",
              "      <td>11</td>\n",
              "      <td>0</td>\n",
              "      <td>679573</td>\n",
              "      <td>904442</td>\n",
              "      <td>0.0</td>\n",
              "      <td>0.0</td>\n",
              "    </tr>\n",
              "    <tr>\n",
              "      <th>2</th>\n",
              "      <td>153494</td>\n",
              "      <td>1</td>\n",
              "      <td>709.0</td>\n",
              "      <td>871112.0</td>\n",
              "      <td>2</td>\n",
              "      <td>3</td>\n",
              "      <td>3</td>\n",
              "      <td>8391.73</td>\n",
              "      <td>12.5</td>\n",
              "      <td>10.0</td>\n",
              "      <td>10</td>\n",
              "      <td>0</td>\n",
              "      <td>38532</td>\n",
              "      <td>388036</td>\n",
              "      <td>0.0</td>\n",
              "      <td>0.0</td>\n",
              "    </tr>\n",
              "    <tr>\n",
              "      <th>3</th>\n",
              "      <td>176242</td>\n",
              "      <td>1</td>\n",
              "      <td>727.0</td>\n",
              "      <td>780083.0</td>\n",
              "      <td>1</td>\n",
              "      <td>3</td>\n",
              "      <td>3</td>\n",
              "      <td>16771.87</td>\n",
              "      <td>16.5</td>\n",
              "      <td>27.0</td>\n",
              "      <td>16</td>\n",
              "      <td>1</td>\n",
              "      <td>156940</td>\n",
              "      <td>531322</td>\n",
              "      <td>1.0</td>\n",
              "      <td>0.0</td>\n",
              "    </tr>\n",
              "    <tr>\n",
              "      <th>4</th>\n",
              "      <td>321992</td>\n",
              "      <td>1</td>\n",
              "      <td>744.0</td>\n",
              "      <td>1761148.0</td>\n",
              "      <td>1</td>\n",
              "      <td>1</td>\n",
              "      <td>3</td>\n",
              "      <td>39478.77</td>\n",
              "      <td>26.0</td>\n",
              "      <td>44.0</td>\n",
              "      <td>14</td>\n",
              "      <td>0</td>\n",
              "      <td>359765</td>\n",
              "      <td>468072</td>\n",
              "      <td>0.0</td>\n",
              "      <td>0.0</td>\n",
              "    </tr>\n",
              "    <tr>\n",
              "      <th>...</th>\n",
              "      <td>...</td>\n",
              "      <td>...</td>\n",
              "      <td>...</td>\n",
              "      <td>...</td>\n",
              "      <td>...</td>\n",
              "      <td>...</td>\n",
              "      <td>...</td>\n",
              "      <td>...</td>\n",
              "      <td>...</td>\n",
              "      <td>...</td>\n",
              "      <td>...</td>\n",
              "      <td>...</td>\n",
              "      <td>...</td>\n",
              "      <td>...</td>\n",
              "      <td>...</td>\n",
              "      <td>...</td>\n",
              "    </tr>\n",
              "    <tr>\n",
              "      <th>9995</th>\n",
              "      <td>157806</td>\n",
              "      <td>1</td>\n",
              "      <td>731.0</td>\n",
              "      <td>1514376.0</td>\n",
              "      <td>6</td>\n",
              "      <td>3</td>\n",
              "      <td>3</td>\n",
              "      <td>4795.41</td>\n",
              "      <td>12.5</td>\n",
              "      <td>62.0</td>\n",
              "      <td>9</td>\n",
              "      <td>0</td>\n",
              "      <td>87058</td>\n",
              "      <td>234410</td>\n",
              "      <td>0.0</td>\n",
              "      <td>0.0</td>\n",
              "    </tr>\n",
              "    <tr>\n",
              "      <th>9996</th>\n",
              "      <td>132550</td>\n",
              "      <td>1</td>\n",
              "      <td>718.0</td>\n",
              "      <td>763192.0</td>\n",
              "      <td>4</td>\n",
              "      <td>1</td>\n",
              "      <td>3</td>\n",
              "      <td>12401.87</td>\n",
              "      <td>9.9</td>\n",
              "      <td>20.0</td>\n",
              "      <td>8</td>\n",
              "      <td>0</td>\n",
              "      <td>74309</td>\n",
              "      <td>329692</td>\n",
              "      <td>0.0</td>\n",
              "      <td>0.0</td>\n",
              "    </tr>\n",
              "    <tr>\n",
              "      <th>9997</th>\n",
              "      <td>223212</td>\n",
              "      <td>0</td>\n",
              "      <td>730.0</td>\n",
              "      <td>658160.0</td>\n",
              "      <td>5</td>\n",
              "      <td>3</td>\n",
              "      <td>3</td>\n",
              "      <td>4354.42</td>\n",
              "      <td>27.2</td>\n",
              "      <td>19.0</td>\n",
              "      <td>8</td>\n",
              "      <td>1</td>\n",
              "      <td>99636</td>\n",
              "      <td>568370</td>\n",
              "      <td>1.0</td>\n",
              "      <td>0.0</td>\n",
              "    </tr>\n",
              "    <tr>\n",
              "      <th>9998</th>\n",
              "      <td>99999999</td>\n",
              "      <td>1</td>\n",
              "      <td>721.0</td>\n",
              "      <td>972097.0</td>\n",
              "      <td>1</td>\n",
              "      <td>1</td>\n",
              "      <td>3</td>\n",
              "      <td>12232.20</td>\n",
              "      <td>16.8</td>\n",
              "      <td>24.0</td>\n",
              "      <td>8</td>\n",
              "      <td>1</td>\n",
              "      <td>184984</td>\n",
              "      <td>240658</td>\n",
              "      <td>0.0</td>\n",
              "      <td>0.0</td>\n",
              "    </tr>\n",
              "    <tr>\n",
              "      <th>9999</th>\n",
              "      <td>99999999</td>\n",
              "      <td>1</td>\n",
              "      <td>748.0</td>\n",
              "      <td>1079960.0</td>\n",
              "      <td>6</td>\n",
              "      <td>1</td>\n",
              "      <td>3</td>\n",
              "      <td>12239.61</td>\n",
              "      <td>19.7</td>\n",
              "      <td>79.0</td>\n",
              "      <td>14</td>\n",
              "      <td>0</td>\n",
              "      <td>179018</td>\n",
              "      <td>607882</td>\n",
              "      <td>0.0</td>\n",
              "      <td>0.0</td>\n",
              "    </tr>\n",
              "  </tbody>\n",
              "</table>\n",
              "<p>10000 rows × 16 columns</p>\n",
              "</div>\n",
              "      <button class=\"colab-df-convert\" onclick=\"convertToInteractive('df-cda29a3c-77b0-4770-96a8-9d140667517a')\"\n",
              "              title=\"Convert this dataframe to an interactive table.\"\n",
              "              style=\"display:none;\">\n",
              "        \n",
              "  <svg xmlns=\"http://www.w3.org/2000/svg\" height=\"24px\"viewBox=\"0 0 24 24\"\n",
              "       width=\"24px\">\n",
              "    <path d=\"M0 0h24v24H0V0z\" fill=\"none\"/>\n",
              "    <path d=\"M18.56 5.44l.94 2.06.94-2.06 2.06-.94-2.06-.94-.94-2.06-.94 2.06-2.06.94zm-11 1L8.5 8.5l.94-2.06 2.06-.94-2.06-.94L8.5 2.5l-.94 2.06-2.06.94zm10 10l.94 2.06.94-2.06 2.06-.94-2.06-.94-.94-2.06-.94 2.06-2.06.94z\"/><path d=\"M17.41 7.96l-1.37-1.37c-.4-.4-.92-.59-1.43-.59-.52 0-1.04.2-1.43.59L10.3 9.45l-7.72 7.72c-.78.78-.78 2.05 0 2.83L4 21.41c.39.39.9.59 1.41.59.51 0 1.02-.2 1.41-.59l7.78-7.78 2.81-2.81c.8-.78.8-2.07 0-2.86zM5.41 20L4 18.59l7.72-7.72 1.47 1.35L5.41 20z\"/>\n",
              "  </svg>\n",
              "      </button>\n",
              "      \n",
              "  <style>\n",
              "    .colab-df-container {\n",
              "      display:flex;\n",
              "      flex-wrap:wrap;\n",
              "      gap: 12px;\n",
              "    }\n",
              "\n",
              "    .colab-df-convert {\n",
              "      background-color: #E8F0FE;\n",
              "      border: none;\n",
              "      border-radius: 50%;\n",
              "      cursor: pointer;\n",
              "      display: none;\n",
              "      fill: #1967D2;\n",
              "      height: 32px;\n",
              "      padding: 0 0 0 0;\n",
              "      width: 32px;\n",
              "    }\n",
              "\n",
              "    .colab-df-convert:hover {\n",
              "      background-color: #E2EBFA;\n",
              "      box-shadow: 0px 1px 2px rgba(60, 64, 67, 0.3), 0px 1px 3px 1px rgba(60, 64, 67, 0.15);\n",
              "      fill: #174EA6;\n",
              "    }\n",
              "\n",
              "    [theme=dark] .colab-df-convert {\n",
              "      background-color: #3B4455;\n",
              "      fill: #D2E3FC;\n",
              "    }\n",
              "\n",
              "    [theme=dark] .colab-df-convert:hover {\n",
              "      background-color: #434B5C;\n",
              "      box-shadow: 0px 1px 3px 1px rgba(0, 0, 0, 0.15);\n",
              "      filter: drop-shadow(0px 1px 2px rgba(0, 0, 0, 0.3));\n",
              "      fill: #FFFFFF;\n",
              "    }\n",
              "  </style>\n",
              "\n",
              "      <script>\n",
              "        const buttonEl =\n",
              "          document.querySelector('#df-cda29a3c-77b0-4770-96a8-9d140667517a button.colab-df-convert');\n",
              "        buttonEl.style.display =\n",
              "          google.colab.kernel.accessAllowed ? 'block' : 'none';\n",
              "\n",
              "        async function convertToInteractive(key) {\n",
              "          const element = document.querySelector('#df-cda29a3c-77b0-4770-96a8-9d140667517a');\n",
              "          const dataTable =\n",
              "            await google.colab.kernel.invokeFunction('convertToInteractive',\n",
              "                                                     [key], {});\n",
              "          if (!dataTable) return;\n",
              "\n",
              "          const docLinkHtml = 'Like what you see? Visit the ' +\n",
              "            '<a target=\"_blank\" href=https://colab.research.google.com/notebooks/data_table.ipynb>data table notebook</a>'\n",
              "            + ' to learn more about interactive tables.';\n",
              "          element.innerHTML = '';\n",
              "          dataTable['output_type'] = 'display_data';\n",
              "          await google.colab.output.renderOutput(dataTable, element);\n",
              "          const docLink = document.createElement('div');\n",
              "          docLink.innerHTML = docLinkHtml;\n",
              "          element.appendChild(docLink);\n",
              "        }\n",
              "      </script>\n",
              "    </div>\n",
              "  </div>\n",
              "  "
            ],
            "text/plain": [
              "      Current Loan Amount  Term  Credit Score  Annual Income  \\\n",
              "0                  611314     1         747.0      2074116.0   \n",
              "1                  266662     1         734.0      1919190.0   \n",
              "2                  153494     1         709.0       871112.0   \n",
              "3                  176242     1         727.0       780083.0   \n",
              "4                  321992     1         744.0      1761148.0   \n",
              "...                   ...   ...           ...            ...   \n",
              "9995               157806     1         731.0      1514376.0   \n",
              "9996               132550     1         718.0       763192.0   \n",
              "9997               223212     0         730.0       658160.0   \n",
              "9998             99999999     1         721.0       972097.0   \n",
              "9999             99999999     1         748.0      1079960.0   \n",
              "\n",
              "      Years in current job  Home Ownership  Purpose  Monthly Debt  \\\n",
              "0                        1               1        3      42000.83   \n",
              "1                        1               1        3      36624.40   \n",
              "2                        2               3        3       8391.73   \n",
              "3                        1               3        3      16771.87   \n",
              "4                        1               1        3      39478.77   \n",
              "...                    ...             ...      ...           ...   \n",
              "9995                     6               3        3       4795.41   \n",
              "9996                     4               1        3      12401.87   \n",
              "9997                     5               3        3       4354.42   \n",
              "9998                     1               1        3      12232.20   \n",
              "9999                     6               1        3      12239.61   \n",
              "\n",
              "      Years of Credit History  Months since last delinquent  \\\n",
              "0                        21.8                          31.0   \n",
              "1                        19.4                          56.0   \n",
              "2                        12.5                          10.0   \n",
              "3                        16.5                          27.0   \n",
              "4                        26.0                          44.0   \n",
              "...                       ...                           ...   \n",
              "9995                     12.5                          62.0   \n",
              "9996                      9.9                          20.0   \n",
              "9997                     27.2                          19.0   \n",
              "9998                     16.8                          24.0   \n",
              "9999                     19.7                          79.0   \n",
              "\n",
              "      Number of Open Accounts  Number of Credit Problems  \\\n",
              "0                           9                          0   \n",
              "1                          11                          0   \n",
              "2                          10                          0   \n",
              "3                          16                          1   \n",
              "4                          14                          0   \n",
              "...                       ...                        ...   \n",
              "9995                        9                          0   \n",
              "9996                        8                          0   \n",
              "9997                        8                          1   \n",
              "9998                        8                          1   \n",
              "9999                       14                          0   \n",
              "\n",
              "      Current Credit Balance  Maximum Open Credit  Bankruptcies  Tax Liens  \n",
              "0                     621908              1058970           0.0        0.0  \n",
              "1                     679573               904442           0.0        0.0  \n",
              "2                      38532               388036           0.0        0.0  \n",
              "3                     156940               531322           1.0        0.0  \n",
              "4                     359765               468072           0.0        0.0  \n",
              "...                      ...                  ...           ...        ...  \n",
              "9995                   87058               234410           0.0        0.0  \n",
              "9996                   74309               329692           0.0        0.0  \n",
              "9997                   99636               568370           1.0        0.0  \n",
              "9998                  184984               240658           0.0        0.0  \n",
              "9999                  179018               607882           0.0        0.0  \n",
              "\n",
              "[10000 rows x 16 columns]"
            ]
          },
          "execution_count": 46,
          "metadata": {},
          "output_type": "execute_result"
        }
      ],
      "source": [
        "df_test.dropna(thresh=4)"
      ]
    },
    {
      "cell_type": "code",
      "execution_count": null,
      "metadata": {
        "colab": {
          "base_uri": "https://localhost:8080/"
        },
        "id": "nxD2mtLXkHfZ",
        "outputId": "02890f81-7872-40ea-f0c2-edaa138597b4"
      },
      "outputs": [
        {
          "data": {
            "text/plain": [
              "Current Loan Amount             0\n",
              "Term                            0\n",
              "Credit Score                    0\n",
              "Annual Income                   0\n",
              "Years in current job            0\n",
              "Home Ownership                  0\n",
              "Purpose                         0\n",
              "Monthly Debt                    0\n",
              "Years of Credit History         0\n",
              "Months since last delinquent    0\n",
              "Number of Open Accounts         0\n",
              "Number of Credit Problems       0\n",
              "Current Credit Balance          0\n",
              "Maximum Open Credit             0\n",
              "Bankruptcies                    0\n",
              "Tax Liens                       0\n",
              "dtype: int64"
            ]
          },
          "execution_count": 20,
          "metadata": {},
          "output_type": "execute_result"
        }
      ],
      "source": [
        "df_test.isnull().sum()"
      ]
    },
    {
      "cell_type": "code",
      "execution_count": null,
      "metadata": {
        "id": "OQKwvL_AmBmV"
      },
      "outputs": [],
      "source": [
        "params = {\n",
        "        'booster':[\"gbtree\",\"dart\"],\n",
        "        'min_child_weight': range(1,16,1),\n",
        "        'gamma': np.arange(0.0,3.0,0.5),\n",
        "        'subsample': np.linspace(0.1,1,11),\n",
        "        'colsample_bytree': np.linspace(0.1,1,11),\n",
        "        \"max_depth\":range(1,16,1),\n",
        "        \"learning_rate\":np.linspace(0.1,1,11),\n",
        "        \"n_estimators\":[100,200,300]\n",
        "        }"
      ]
    },
    {
      "cell_type": "code",
      "execution_count": null,
      "metadata": {
        "colab": {
          "base_uri": "https://localhost:8080/",
          "height": 606
        },
        "id": "63h1YnImmvIj",
        "outputId": "9d39ff49-20c4-40d0-8905-ab44c680154b"
      },
      "outputs": [
        {
          "name": "stdout",
          "output_type": "stream",
          "text": [
            "n_iterations: 8\n",
            "n_required_iterations: 15\n",
            "n_possible_iterations: 8\n",
            "min_resources_: 24\n",
            "max_resources_: 79588\n",
            "aggressive_elimination: False\n",
            "factor: 3\n",
            "----------\n",
            "iter: 0\n",
            "n_candidates: 10781100\n",
            "n_resources: 24\n",
            "Fitting 6 folds for each of 10781100 candidates, totalling 64686600 fits\n"
          ]
        },
        {
          "ename": "KeyboardInterrupt",
          "evalue": "ignored",
          "output_type": "error",
          "traceback": [
            "\u001b[0;31m---------------------------------------------------------------------------\u001b[0m",
            "\u001b[0;31mKeyboardInterrupt\u001b[0m                         Traceback (most recent call last)",
            "\u001b[0;32m<ipython-input-22-2ca3c81f6e52>\u001b[0m in \u001b[0;36m<module>\u001b[0;34m\u001b[0m\n\u001b[1;32m      1\u001b[0m \u001b[0mgrid\u001b[0m \u001b[0;34m=\u001b[0m \u001b[0mHalvingGridSearchCV\u001b[0m\u001b[0;34m(\u001b[0m\u001b[0mestimator\u001b[0m\u001b[0;34m=\u001b[0m\u001b[0mXGBClassifier\u001b[0m\u001b[0;34m(\u001b[0m\u001b[0;34m)\u001b[0m\u001b[0;34m,\u001b[0m \u001b[0mparam_grid\u001b[0m\u001b[0;34m=\u001b[0m\u001b[0mparams\u001b[0m \u001b[0;34m,\u001b[0m \u001b[0mscoring\u001b[0m\u001b[0;34m=\u001b[0m\u001b[0;34m'roc_auc'\u001b[0m\u001b[0;34m,\u001b[0m \u001b[0mn_jobs\u001b[0m\u001b[0;34m=\u001b[0m\u001b[0;34m-\u001b[0m\u001b[0;36m1\u001b[0m\u001b[0;34m,\u001b[0m \u001b[0mcv\u001b[0m\u001b[0;34m=\u001b[0m\u001b[0;36m6\u001b[0m\u001b[0;34m,\u001b[0m \u001b[0mverbose\u001b[0m\u001b[0;34m=\u001b[0m\u001b[0;36m2\u001b[0m \u001b[0;34m)\u001b[0m\u001b[0;34m\u001b[0m\u001b[0;34m\u001b[0m\u001b[0m\n\u001b[0;32m----> 2\u001b[0;31m \u001b[0mgrid\u001b[0m\u001b[0;34m.\u001b[0m\u001b[0mfit\u001b[0m\u001b[0;34m(\u001b[0m\u001b[0mx_train\u001b[0m\u001b[0;34m,\u001b[0m \u001b[0my_train\u001b[0m\u001b[0;34m)\u001b[0m\u001b[0;34m\u001b[0m\u001b[0;34m\u001b[0m\u001b[0m\n\u001b[0m\u001b[1;32m      3\u001b[0m \u001b[0mprint\u001b[0m\u001b[0;34m(\u001b[0m\u001b[0;34m'\\n All results:'\u001b[0m\u001b[0;34m)\u001b[0m\u001b[0;34m\u001b[0m\u001b[0;34m\u001b[0m\u001b[0m\n\u001b[1;32m      4\u001b[0m \u001b[0mprint\u001b[0m\u001b[0;34m(\u001b[0m\u001b[0mgrid\u001b[0m\u001b[0;34m.\u001b[0m\u001b[0mcv_results_\u001b[0m\u001b[0;34m)\u001b[0m\u001b[0;34m\u001b[0m\u001b[0;34m\u001b[0m\u001b[0m\n\u001b[1;32m      5\u001b[0m \u001b[0mprint\u001b[0m\u001b[0;34m(\u001b[0m\u001b[0;34m'\\n Best estimator:'\u001b[0m\u001b[0;34m)\u001b[0m\u001b[0;34m\u001b[0m\u001b[0;34m\u001b[0m\u001b[0m\n",
            "\u001b[0;32m/usr/local/lib/python3.7/dist-packages/sklearn/model_selection/_search_successive_halving.py\u001b[0m in \u001b[0;36mfit\u001b[0;34m(self, X, y, groups, **fit_params)\u001b[0m\n\u001b[1;32m    260\u001b[0m         \u001b[0mself\u001b[0m\u001b[0;34m.\u001b[0m\u001b[0m_n_samples_orig\u001b[0m \u001b[0;34m=\u001b[0m \u001b[0m_num_samples\u001b[0m\u001b[0;34m(\u001b[0m\u001b[0mX\u001b[0m\u001b[0;34m)\u001b[0m\u001b[0;34m\u001b[0m\u001b[0;34m\u001b[0m\u001b[0m\n\u001b[1;32m    261\u001b[0m \u001b[0;34m\u001b[0m\u001b[0m\n\u001b[0;32m--> 262\u001b[0;31m         \u001b[0msuper\u001b[0m\u001b[0;34m(\u001b[0m\u001b[0;34m)\u001b[0m\u001b[0;34m.\u001b[0m\u001b[0mfit\u001b[0m\u001b[0;34m(\u001b[0m\u001b[0mX\u001b[0m\u001b[0;34m,\u001b[0m \u001b[0my\u001b[0m\u001b[0;34m=\u001b[0m\u001b[0my\u001b[0m\u001b[0;34m,\u001b[0m \u001b[0mgroups\u001b[0m\u001b[0;34m=\u001b[0m\u001b[0mgroups\u001b[0m\u001b[0;34m,\u001b[0m \u001b[0;34m**\u001b[0m\u001b[0mfit_params\u001b[0m\u001b[0;34m)\u001b[0m\u001b[0;34m\u001b[0m\u001b[0;34m\u001b[0m\u001b[0m\n\u001b[0m\u001b[1;32m    263\u001b[0m \u001b[0;34m\u001b[0m\u001b[0m\n\u001b[1;32m    264\u001b[0m         \u001b[0;31m# Set best_score_: BaseSearchCV does not set it, as refit is a callable\u001b[0m\u001b[0;34m\u001b[0m\u001b[0;34m\u001b[0m\u001b[0;34m\u001b[0m\u001b[0m\n",
            "\u001b[0;32m/usr/local/lib/python3.7/dist-packages/sklearn/model_selection/_search.py\u001b[0m in \u001b[0;36mfit\u001b[0;34m(self, X, y, groups, **fit_params)\u001b[0m\n\u001b[1;32m    889\u001b[0m                 \u001b[0;32mreturn\u001b[0m \u001b[0mresults\u001b[0m\u001b[0;34m\u001b[0m\u001b[0;34m\u001b[0m\u001b[0m\n\u001b[1;32m    890\u001b[0m \u001b[0;34m\u001b[0m\u001b[0m\n\u001b[0;32m--> 891\u001b[0;31m             \u001b[0mself\u001b[0m\u001b[0;34m.\u001b[0m\u001b[0m_run_search\u001b[0m\u001b[0;34m(\u001b[0m\u001b[0mevaluate_candidates\u001b[0m\u001b[0;34m)\u001b[0m\u001b[0;34m\u001b[0m\u001b[0;34m\u001b[0m\u001b[0m\n\u001b[0m\u001b[1;32m    892\u001b[0m \u001b[0;34m\u001b[0m\u001b[0m\n\u001b[1;32m    893\u001b[0m             \u001b[0;31m# multimetric is determined here because in the case of a callable\u001b[0m\u001b[0;34m\u001b[0m\u001b[0;34m\u001b[0m\u001b[0;34m\u001b[0m\u001b[0m\n",
            "\u001b[0;32m/usr/local/lib/python3.7/dist-packages/sklearn/model_selection/_search_successive_halving.py\u001b[0m in \u001b[0;36m_run_search\u001b[0;34m(self, evaluate_candidates)\u001b[0m\n\u001b[1;32m    366\u001b[0m \u001b[0;34m\u001b[0m\u001b[0m\n\u001b[1;32m    367\u001b[0m             results = evaluate_candidates(\n\u001b[0;32m--> 368\u001b[0;31m                 \u001b[0mcandidate_params\u001b[0m\u001b[0;34m,\u001b[0m \u001b[0mcv\u001b[0m\u001b[0;34m,\u001b[0m \u001b[0mmore_results\u001b[0m\u001b[0;34m=\u001b[0m\u001b[0mmore_results\u001b[0m\u001b[0;34m\u001b[0m\u001b[0;34m\u001b[0m\u001b[0m\n\u001b[0m\u001b[1;32m    369\u001b[0m             )\n\u001b[1;32m    370\u001b[0m \u001b[0;34m\u001b[0m\u001b[0m\n",
            "\u001b[0;32m/usr/local/lib/python3.7/dist-packages/sklearn/model_selection/_search.py\u001b[0m in \u001b[0;36mevaluate_candidates\u001b[0;34m(candidate_params, cv, more_results)\u001b[0m\n\u001b[1;32m    849\u001b[0m                     )\n\u001b[1;32m    850\u001b[0m                     for (cand_idx, parameters), (split_idx, (train, test)) in product(\n\u001b[0;32m--> 851\u001b[0;31m                         \u001b[0menumerate\u001b[0m\u001b[0;34m(\u001b[0m\u001b[0mcandidate_params\u001b[0m\u001b[0;34m)\u001b[0m\u001b[0;34m,\u001b[0m \u001b[0menumerate\u001b[0m\u001b[0;34m(\u001b[0m\u001b[0mcv\u001b[0m\u001b[0;34m.\u001b[0m\u001b[0msplit\u001b[0m\u001b[0;34m(\u001b[0m\u001b[0mX\u001b[0m\u001b[0;34m,\u001b[0m \u001b[0my\u001b[0m\u001b[0;34m,\u001b[0m \u001b[0mgroups\u001b[0m\u001b[0;34m)\u001b[0m\u001b[0;34m)\u001b[0m\u001b[0;34m\u001b[0m\u001b[0;34m\u001b[0m\u001b[0m\n\u001b[0m\u001b[1;32m    852\u001b[0m                     )\n\u001b[1;32m    853\u001b[0m                 )\n",
            "\u001b[0;32m/usr/local/lib/python3.7/dist-packages/joblib/parallel.py\u001b[0m in \u001b[0;36m__call__\u001b[0;34m(self, iterable)\u001b[0m\n\u001b[1;32m   1054\u001b[0m \u001b[0;34m\u001b[0m\u001b[0m\n\u001b[1;32m   1055\u001b[0m             \u001b[0;32mwith\u001b[0m \u001b[0mself\u001b[0m\u001b[0;34m.\u001b[0m\u001b[0m_backend\u001b[0m\u001b[0;34m.\u001b[0m\u001b[0mretrieval_context\u001b[0m\u001b[0;34m(\u001b[0m\u001b[0;34m)\u001b[0m\u001b[0;34m:\u001b[0m\u001b[0;34m\u001b[0m\u001b[0;34m\u001b[0m\u001b[0m\n\u001b[0;32m-> 1056\u001b[0;31m                 \u001b[0mself\u001b[0m\u001b[0;34m.\u001b[0m\u001b[0mretrieve\u001b[0m\u001b[0;34m(\u001b[0m\u001b[0;34m)\u001b[0m\u001b[0;34m\u001b[0m\u001b[0;34m\u001b[0m\u001b[0m\n\u001b[0m\u001b[1;32m   1057\u001b[0m             \u001b[0;31m# Make sure that we get a last message telling us we are done\u001b[0m\u001b[0;34m\u001b[0m\u001b[0;34m\u001b[0m\u001b[0;34m\u001b[0m\u001b[0m\n\u001b[1;32m   1058\u001b[0m             \u001b[0melapsed_time\u001b[0m \u001b[0;34m=\u001b[0m \u001b[0mtime\u001b[0m\u001b[0;34m.\u001b[0m\u001b[0mtime\u001b[0m\u001b[0;34m(\u001b[0m\u001b[0;34m)\u001b[0m \u001b[0;34m-\u001b[0m \u001b[0mself\u001b[0m\u001b[0;34m.\u001b[0m\u001b[0m_start_time\u001b[0m\u001b[0;34m\u001b[0m\u001b[0;34m\u001b[0m\u001b[0m\n",
            "\u001b[0;32m/usr/local/lib/python3.7/dist-packages/joblib/parallel.py\u001b[0m in \u001b[0;36mretrieve\u001b[0;34m(self)\u001b[0m\n\u001b[1;32m    933\u001b[0m             \u001b[0;32mtry\u001b[0m\u001b[0;34m:\u001b[0m\u001b[0;34m\u001b[0m\u001b[0;34m\u001b[0m\u001b[0m\n\u001b[1;32m    934\u001b[0m                 \u001b[0;32mif\u001b[0m \u001b[0mgetattr\u001b[0m\u001b[0;34m(\u001b[0m\u001b[0mself\u001b[0m\u001b[0;34m.\u001b[0m\u001b[0m_backend\u001b[0m\u001b[0;34m,\u001b[0m \u001b[0;34m'supports_timeout'\u001b[0m\u001b[0;34m,\u001b[0m \u001b[0;32mFalse\u001b[0m\u001b[0;34m)\u001b[0m\u001b[0;34m:\u001b[0m\u001b[0;34m\u001b[0m\u001b[0;34m\u001b[0m\u001b[0m\n\u001b[0;32m--> 935\u001b[0;31m                     \u001b[0mself\u001b[0m\u001b[0;34m.\u001b[0m\u001b[0m_output\u001b[0m\u001b[0;34m.\u001b[0m\u001b[0mextend\u001b[0m\u001b[0;34m(\u001b[0m\u001b[0mjob\u001b[0m\u001b[0;34m.\u001b[0m\u001b[0mget\u001b[0m\u001b[0;34m(\u001b[0m\u001b[0mtimeout\u001b[0m\u001b[0;34m=\u001b[0m\u001b[0mself\u001b[0m\u001b[0;34m.\u001b[0m\u001b[0mtimeout\u001b[0m\u001b[0;34m)\u001b[0m\u001b[0;34m)\u001b[0m\u001b[0;34m\u001b[0m\u001b[0;34m\u001b[0m\u001b[0m\n\u001b[0m\u001b[1;32m    936\u001b[0m                 \u001b[0;32melse\u001b[0m\u001b[0;34m:\u001b[0m\u001b[0;34m\u001b[0m\u001b[0;34m\u001b[0m\u001b[0m\n\u001b[1;32m    937\u001b[0m                     \u001b[0mself\u001b[0m\u001b[0;34m.\u001b[0m\u001b[0m_output\u001b[0m\u001b[0;34m.\u001b[0m\u001b[0mextend\u001b[0m\u001b[0;34m(\u001b[0m\u001b[0mjob\u001b[0m\u001b[0;34m.\u001b[0m\u001b[0mget\u001b[0m\u001b[0;34m(\u001b[0m\u001b[0;34m)\u001b[0m\u001b[0;34m)\u001b[0m\u001b[0;34m\u001b[0m\u001b[0;34m\u001b[0m\u001b[0m\n",
            "\u001b[0;32m/usr/local/lib/python3.7/dist-packages/joblib/_parallel_backends.py\u001b[0m in \u001b[0;36mwrap_future_result\u001b[0;34m(future, timeout)\u001b[0m\n\u001b[1;32m    540\u001b[0m         AsyncResults.get from multiprocessing.\"\"\"\n\u001b[1;32m    541\u001b[0m         \u001b[0;32mtry\u001b[0m\u001b[0;34m:\u001b[0m\u001b[0;34m\u001b[0m\u001b[0;34m\u001b[0m\u001b[0m\n\u001b[0;32m--> 542\u001b[0;31m             \u001b[0;32mreturn\u001b[0m \u001b[0mfuture\u001b[0m\u001b[0;34m.\u001b[0m\u001b[0mresult\u001b[0m\u001b[0;34m(\u001b[0m\u001b[0mtimeout\u001b[0m\u001b[0;34m=\u001b[0m\u001b[0mtimeout\u001b[0m\u001b[0;34m)\u001b[0m\u001b[0;34m\u001b[0m\u001b[0;34m\u001b[0m\u001b[0m\n\u001b[0m\u001b[1;32m    543\u001b[0m         \u001b[0;32mexcept\u001b[0m \u001b[0mCfTimeoutError\u001b[0m \u001b[0;32mas\u001b[0m \u001b[0me\u001b[0m\u001b[0;34m:\u001b[0m\u001b[0;34m\u001b[0m\u001b[0;34m\u001b[0m\u001b[0m\n\u001b[1;32m    544\u001b[0m             \u001b[0;32mraise\u001b[0m \u001b[0mTimeoutError\u001b[0m \u001b[0;32mfrom\u001b[0m \u001b[0me\u001b[0m\u001b[0;34m\u001b[0m\u001b[0;34m\u001b[0m\u001b[0m\n",
            "\u001b[0;32m/usr/lib/python3.7/concurrent/futures/_base.py\u001b[0m in \u001b[0;36mresult\u001b[0;34m(self, timeout)\u001b[0m\n\u001b[1;32m    428\u001b[0m                 \u001b[0;32mreturn\u001b[0m \u001b[0mself\u001b[0m\u001b[0;34m.\u001b[0m\u001b[0m__get_result\u001b[0m\u001b[0;34m(\u001b[0m\u001b[0;34m)\u001b[0m\u001b[0;34m\u001b[0m\u001b[0;34m\u001b[0m\u001b[0m\n\u001b[1;32m    429\u001b[0m \u001b[0;34m\u001b[0m\u001b[0m\n\u001b[0;32m--> 430\u001b[0;31m             \u001b[0mself\u001b[0m\u001b[0;34m.\u001b[0m\u001b[0m_condition\u001b[0m\u001b[0;34m.\u001b[0m\u001b[0mwait\u001b[0m\u001b[0;34m(\u001b[0m\u001b[0mtimeout\u001b[0m\u001b[0;34m)\u001b[0m\u001b[0;34m\u001b[0m\u001b[0;34m\u001b[0m\u001b[0m\n\u001b[0m\u001b[1;32m    431\u001b[0m \u001b[0;34m\u001b[0m\u001b[0m\n\u001b[1;32m    432\u001b[0m             \u001b[0;32mif\u001b[0m \u001b[0mself\u001b[0m\u001b[0;34m.\u001b[0m\u001b[0m_state\u001b[0m \u001b[0;32min\u001b[0m \u001b[0;34m[\u001b[0m\u001b[0mCANCELLED\u001b[0m\u001b[0;34m,\u001b[0m \u001b[0mCANCELLED_AND_NOTIFIED\u001b[0m\u001b[0;34m]\u001b[0m\u001b[0;34m:\u001b[0m\u001b[0;34m\u001b[0m\u001b[0;34m\u001b[0m\u001b[0m\n",
            "\u001b[0;32m/usr/lib/python3.7/threading.py\u001b[0m in \u001b[0;36mwait\u001b[0;34m(self, timeout)\u001b[0m\n\u001b[1;32m    294\u001b[0m         \u001b[0;32mtry\u001b[0m\u001b[0;34m:\u001b[0m    \u001b[0;31m# restore state no matter what (e.g., KeyboardInterrupt)\u001b[0m\u001b[0;34m\u001b[0m\u001b[0;34m\u001b[0m\u001b[0m\n\u001b[1;32m    295\u001b[0m             \u001b[0;32mif\u001b[0m \u001b[0mtimeout\u001b[0m \u001b[0;32mis\u001b[0m \u001b[0;32mNone\u001b[0m\u001b[0;34m:\u001b[0m\u001b[0;34m\u001b[0m\u001b[0;34m\u001b[0m\u001b[0m\n\u001b[0;32m--> 296\u001b[0;31m                 \u001b[0mwaiter\u001b[0m\u001b[0;34m.\u001b[0m\u001b[0macquire\u001b[0m\u001b[0;34m(\u001b[0m\u001b[0;34m)\u001b[0m\u001b[0;34m\u001b[0m\u001b[0;34m\u001b[0m\u001b[0m\n\u001b[0m\u001b[1;32m    297\u001b[0m                 \u001b[0mgotit\u001b[0m \u001b[0;34m=\u001b[0m \u001b[0;32mTrue\u001b[0m\u001b[0;34m\u001b[0m\u001b[0;34m\u001b[0m\u001b[0m\n\u001b[1;32m    298\u001b[0m             \u001b[0;32melse\u001b[0m\u001b[0;34m:\u001b[0m\u001b[0;34m\u001b[0m\u001b[0;34m\u001b[0m\u001b[0m\n",
            "\u001b[0;31mKeyboardInterrupt\u001b[0m: "
          ]
        }
      ],
      "source": [
        "grid = HalvingGridSearchCV(estimator=XGBClassifier(), param_grid=params , scoring='roc_auc', n_jobs=-1, cv=6, verbose=2 )\n",
        "grid.fit(x_train, y_train)\n",
        "print('\\n All results:')\n",
        "print(grid.cv_results_)\n",
        "print('\\n Best estimator:')\n",
        "print(grid.best_estimator_)\n",
        "print('\\n Best score:')\n",
        "print(grid.best_score_ * 2 - 1)\n",
        "print(grid.best_score_)\n",
        "print('\\n Best parameters:')\n",
        "print(grid.best_params_)\n",
        "\n"
      ]
    },
    {
      "cell_type": "code",
      "execution_count": null,
      "metadata": {
        "id": "14E5xl8F_Ank"
      },
      "outputs": [],
      "source": [
        "# y_test = grid.best_estimator_.predict(df_test)\n",
        "# print(y_test)"
      ]
    },
    {
      "cell_type": "code",
      "execution_count": null,
      "metadata": {
        "id": "IregtsxynJRX"
      },
      "outputs": [],
      "source": [
        "xgb = XGBClassifier()"
      ]
    },
    {
      "cell_type": "code",
      "execution_count": null,
      "metadata": {
        "colab": {
          "base_uri": "https://localhost:8080/"
        },
        "id": "j2wfd7KQkXdf",
        "outputId": "91bc76b7-90bb-4512-ae33-bb28024f0fd9"
      },
      "outputs": [
        {
          "data": {
            "text/plain": [
              "XGBClassifier(alpha=0.29921737135036547, colsample_bytree=0.7124,\n",
              "              lambda=0.012545058401897765, learning_rate=2.1310000000000002,\n",
              "              max_depth=6, min_child_weight=8, n_estimators=5000, nthread=-1,\n",
              "              num_parallel_tree=5, random_state=2020,\n",
              "              subsample=0.8277152717961418, tree_method='hist')"
            ]
          },
          "execution_count": 32,
          "metadata": {},
          "output_type": "execute_result"
        }
      ],
      "source": [
        "params = {\n",
        "        'nthread':-1,\n",
        "        'tree_method':'hist',  # this parameter means using the GPU when training our model to speedup the training process\n",
        "                'num_parallel_tree':5,\n",
        "        'n_estimators': 5000,\n",
        "'lambda': 0.012545058401897765, 'alpha': 0.29921737135036547, 'colsample_bytree': 0.7124, 'subsample': 0.8277152717961418, 'learning_rate': 2.1310000000000002, 'max_depth': 6, 'random_state': 2020, 'min_child_weight': 8\n",
        "}\n",
        "xgb = XGBClassifier(**params)  \n",
        "\n",
        "xgb.fit(x_train,y_train)\n",
        "\n",
        "#preds = model.predict(test_x)"
      ]
    },
    {
      "cell_type": "code",
      "execution_count": null,
      "metadata": {
        "colab": {
          "base_uri": "https://localhost:8080/"
        },
        "id": "tk5kjZ34l14u",
        "outputId": "656b502d-ea5c-41e6-e3dc-ce2be36d4046"
      },
      "outputs": [
        {
          "name": "stdout",
          "output_type": "stream",
          "text": [
            "0.6543574408202242\n",
            "0.6572519851241331\n"
          ]
        }
      ],
      "source": [
        "print(xgb.score(x_train , y_train))\n",
        "print(xgb.score(x_test , y_test))"
      ]
    },
    {
      "cell_type": "code",
      "execution_count": null,
      "metadata": {
        "colab": {
          "base_uri": "https://localhost:8080/",
          "height": 467
        },
        "id": "Vd27gbSgkHfZ",
        "outputId": "6c52db6e-3328-42a1-d39d-ca0e188e7dbc"
      },
      "outputs": [
        {
          "ename": "ValueError",
          "evalue": "ignored",
          "output_type": "error",
          "traceback": [
            "\u001b[0;31m---------------------------------------------------------------------------\u001b[0m",
            "\u001b[0;31mValueError\u001b[0m                                Traceback (most recent call last)",
            "\u001b[0;32m<ipython-input-144-692f819c68f6>\u001b[0m in \u001b[0;36m<module>\u001b[0;34m\u001b[0m\n\u001b[0;32m----> 1\u001b[0;31m \u001b[0mres\u001b[0m \u001b[0;34m=\u001b[0m \u001b[0mxgb\u001b[0m\u001b[0;34m.\u001b[0m\u001b[0mpredict\u001b[0m\u001b[0;34m(\u001b[0m\u001b[0mtest_df\u001b[0m\u001b[0;34m)\u001b[0m\u001b[0;34m\u001b[0m\u001b[0;34m\u001b[0m\u001b[0m\n\u001b[0m",
            "\u001b[0;32m/usr/local/lib/python3.7/dist-packages/xgboost/sklearn.py\u001b[0m in \u001b[0;36mpredict\u001b[0;34m(self, data, output_margin, ntree_limit, validate_features)\u001b[0m\n\u001b[1;32m    789\u001b[0m                                                  \u001b[0moutput_margin\u001b[0m\u001b[0;34m=\u001b[0m\u001b[0moutput_margin\u001b[0m\u001b[0;34m,\u001b[0m\u001b[0;34m\u001b[0m\u001b[0;34m\u001b[0m\u001b[0m\n\u001b[1;32m    790\u001b[0m                                                  \u001b[0mntree_limit\u001b[0m\u001b[0;34m=\u001b[0m\u001b[0mntree_limit\u001b[0m\u001b[0;34m,\u001b[0m\u001b[0;34m\u001b[0m\u001b[0;34m\u001b[0m\u001b[0m\n\u001b[0;32m--> 791\u001b[0;31m                                                  validate_features=validate_features)\n\u001b[0m\u001b[1;32m    792\u001b[0m         \u001b[0;32mif\u001b[0m \u001b[0moutput_margin\u001b[0m\u001b[0;34m:\u001b[0m\u001b[0;34m\u001b[0m\u001b[0;34m\u001b[0m\u001b[0m\n\u001b[1;32m    793\u001b[0m             \u001b[0;31m# If output_margin is active, simply return the scores\u001b[0m\u001b[0;34m\u001b[0m\u001b[0;34m\u001b[0m\u001b[0;34m\u001b[0m\u001b[0m\n",
            "\u001b[0;32m/usr/local/lib/python3.7/dist-packages/xgboost/core.py\u001b[0m in \u001b[0;36mpredict\u001b[0;34m(self, data, output_margin, ntree_limit, pred_leaf, pred_contribs, approx_contribs, pred_interactions, validate_features)\u001b[0m\n\u001b[1;32m   1282\u001b[0m \u001b[0;34m\u001b[0m\u001b[0m\n\u001b[1;32m   1283\u001b[0m         \u001b[0;32mif\u001b[0m \u001b[0mvalidate_features\u001b[0m\u001b[0;34m:\u001b[0m\u001b[0;34m\u001b[0m\u001b[0;34m\u001b[0m\u001b[0m\n\u001b[0;32m-> 1284\u001b[0;31m             \u001b[0mself\u001b[0m\u001b[0;34m.\u001b[0m\u001b[0m_validate_features\u001b[0m\u001b[0;34m(\u001b[0m\u001b[0mdata\u001b[0m\u001b[0;34m)\u001b[0m\u001b[0;34m\u001b[0m\u001b[0;34m\u001b[0m\u001b[0m\n\u001b[0m\u001b[1;32m   1285\u001b[0m \u001b[0;34m\u001b[0m\u001b[0m\n\u001b[1;32m   1286\u001b[0m         \u001b[0mlength\u001b[0m \u001b[0;34m=\u001b[0m \u001b[0mc_bst_ulong\u001b[0m\u001b[0;34m(\u001b[0m\u001b[0;34m)\u001b[0m\u001b[0;34m\u001b[0m\u001b[0;34m\u001b[0m\u001b[0m\n",
            "\u001b[0;32m/usr/local/lib/python3.7/dist-packages/xgboost/core.py\u001b[0m in \u001b[0;36m_validate_features\u001b[0;34m(self, data)\u001b[0m\n\u001b[1;32m   1688\u001b[0m \u001b[0;34m\u001b[0m\u001b[0m\n\u001b[1;32m   1689\u001b[0m                 raise ValueError(msg.format(self.feature_names,\n\u001b[0;32m-> 1690\u001b[0;31m                                             data.feature_names))\n\u001b[0m\u001b[1;32m   1691\u001b[0m \u001b[0;34m\u001b[0m\u001b[0m\n\u001b[1;32m   1692\u001b[0m     \u001b[0;32mdef\u001b[0m \u001b[0mget_split_value_histogram\u001b[0m\u001b[0;34m(\u001b[0m\u001b[0mself\u001b[0m\u001b[0;34m,\u001b[0m \u001b[0mfeature\u001b[0m\u001b[0;34m,\u001b[0m \u001b[0mfmap\u001b[0m\u001b[0;34m=\u001b[0m\u001b[0;34m''\u001b[0m\u001b[0;34m,\u001b[0m \u001b[0mbins\u001b[0m\u001b[0;34m=\u001b[0m\u001b[0;32mNone\u001b[0m\u001b[0;34m,\u001b[0m \u001b[0mas_pandas\u001b[0m\u001b[0;34m=\u001b[0m\u001b[0;32mTrue\u001b[0m\u001b[0;34m)\u001b[0m\u001b[0;34m:\u001b[0m\u001b[0;34m\u001b[0m\u001b[0;34m\u001b[0m\u001b[0m\n",
            "\u001b[0;31mValueError\u001b[0m: feature_names mismatch: ['f0', 'f1', 'f2', 'f3', 'f4', 'f5', 'f6', 'f7', 'f8', 'f9', 'f10', 'f11', 'f12', 'f13', 'f14', 'f15'] ['Current Loan Amount', 'Term', 'Credit Score', 'Annual Income', 'Years in current job', 'Home Ownership', 'Purpose', 'Monthly Debt', 'Years of Credit History', 'Months since last delinquent', 'Number of Open Accounts', 'Number of Credit Problems', 'Current Credit Balance', 'Maximum Open Credit', 'Bankruptcies', 'Tax Liens']\nexpected f9, f7, f0, f2, f5, f1, f8, f10, f13, f4, f15, f3, f11, f12, f14, f6 in input data\ntraining data did not have the following fields: Current Credit Balance, Credit Score, Current Loan Amount, Bankruptcies, Monthly Debt, Term, Months since last delinquent, Number of Credit Problems, Home Ownership, Number of Open Accounts, Maximum Open Credit, Purpose, Years of Credit History, Years in current job, Tax Liens, Annual Income"
          ]
        }
      ],
      "source": [
        "res = xgb.predict(test_df)"
      ]
    },
    {
      "cell_type": "code",
      "execution_count": null,
      "metadata": {
        "id": "-7K3xhTekHfa"
      },
      "outputs": [],
      "source": [
        "df_test = pd.read_csv('/content/credit_test.csv')"
      ]
    },
    {
      "cell_type": "code",
      "execution_count": null,
      "metadata": {
        "id": "bmn5eHuBkHfa"
      },
      "outputs": [],
      "source": [
        "temp = []\n",
        "for i in res:\n",
        "  if (i==1):\n",
        "    temp.append(\"Fully Paid\")\n",
        "  else:\n",
        "    temp.append(\"Charged Off\")"
      ]
    },
    {
      "cell_type": "code",
      "execution_count": null,
      "metadata": {
        "id": "F8q6dMpTkHfa"
      },
      "outputs": [],
      "source": [
        "df_test['Loan Status']=temp"
      ]
    },
    {
      "cell_type": "code",
      "execution_count": null,
      "metadata": {
        "id": "d11hy5OUkHfa"
      },
      "outputs": [],
      "source": [
        "df_test.set_index('Loan ID', inplace=True)"
      ]
    },
    {
      "cell_type": "code",
      "execution_count": null,
      "metadata": {
        "id": "tWnCYctGkHfa"
      },
      "outputs": [],
      "source": [
        "header = [\"Loan Status\"]\n",
        "df_test.to_csv('output_xgboost.csv', columns = header)"
      ]
    },
    {
      "cell_type": "markdown",
      "metadata": {
        "id": "CSZuDsCtQx1s"
      },
      "source": [
        "**OPTUNA XGBOOST**"
      ]
    },
    {
      "cell_type": "code",
      "execution_count": null,
      "metadata": {
        "id": "PZ3w7v9VdiWG"
      },
      "outputs": [],
      "source": [
        "def objective(trial,data=X,target=y):\n",
        "    \n",
        "    train_x, test_x, train_y, test_y = train_test_split(data, target, test_size=0.25,random_state=42)\n",
        "    param = {\n",
        "        'nthread':-1,\n",
        "        'tree_method':'hist',  # this parameter means using the GPU when training our model to speedup the training process\n",
        "        'num_parallel_tree':5,\n",
        "        'n_estimators': 5000,\n",
        "        'lambda': trial.suggest_float('lambda', 1e-5, 1.0),\n",
        "        'alpha': trial.suggest_float('alpha', 1e-5, 1.0),\n",
        "        'colsample_bytree': trial.suggest_categorical('colsample_bytree', np.arange(0.0000,1,0.0001)),\n",
        "        'subsample': trial.suggest_float('subsample',  1e-5, 1.0),\n",
        "        'learning_rate': trial.suggest_categorical('learning_rate', np.arange(0.000,5.0,0.001) ),\n",
        "        'max_depth': trial.suggest_int('max_depth',2, 20),\n",
        "        'min_child_weight': trial.suggest_int('min_child_weight', 1, 12),\n",
        "        'gamma': trial.suggest_categorical('gamma', np.arange(0.0000,10.0,0.0005)),\n",
        "        #'max_bin': 256*700,\n",
        "        \n",
        "\n",
        "    }\n",
        "    model = xgboost.XGBClassifier(**param)  \n",
        "    \n",
        "    model.fit(train_x,train_y,eval_set=[(test_x,test_y)],early_stopping_rounds=1000,verbose=False)\n",
        "    \n",
        "    preds = model.predict(test_x)\n",
        "    \n",
        "    rmse = mean_squared_error(test_y, preds,squared=False)\n",
        "    \n",
        "    return (model.score(x_test , y_test)) # (model.score(x_train , y_train))"
      ]
    },
    {
      "cell_type": "code",
      "execution_count": null,
      "metadata": {
        "colab": {
          "background_save": true,
          "base_uri": "https://localhost:8080/",
          "height": 1000,
          "referenced_widgets": [
            "f30d2be82e6a4707a0fe77d794ec7f00",
            "07a570a78fd6435aafdeb358a985a4e0",
            "8e9db369aeef44e79649655b21b6454e",
            "64077c36481743088271a5ef6eaed97a",
            "8afb30575fd24b5aa90cfc882a20fcd0",
            "9bb07c2afa3141cca9ce1e25671c3e29",
            "1f83bfb41f6a46dab1ff325231ea4689",
            "e8dd30e30311437185219a96c87137ae",
            "9f2db5fda13841e0bfb33556ebe3a79b",
            "28ab4dca359d434eadcb52d1c28f4d71",
            "6c721f8af0f44ca4ba7a7ad506938beb"
          ]
        },
        "id": "j9pRgJTXeM0C",
        "outputId": "7817547b-4c63-4282-b8a8-3cee01979b24"
      },
      "outputs": [
        {
          "name": "stderr",
          "output_type": "stream",
          "text": [
            "\u001b[32m[I 2022-10-08 09:49:03,506]\u001b[0m A new study created in memory with name: no-name-3bb93ded-a9e9-4c25-bf45-c9610fa27405\u001b[0m\n",
            "/usr/local/lib/python3.7/dist-packages/optuna/progress_bar.py:49: ExperimentalWarning: Progress bar is experimental (supported from v1.2.0). The interface can change in the future.\n",
            "  self._init_valid()\n"
          ]
        },
        {
          "data": {
            "application/vnd.jupyter.widget-view+json": {
              "model_id": "f30d2be82e6a4707a0fe77d794ec7f00",
              "version_major": 2,
              "version_minor": 0
            },
            "text/plain": [
              "  0%|          | 0/350 [00:00<?, ?it/s]"
            ]
          },
          "metadata": {},
          "output_type": "display_data"
        },
        {
          "name": "stdout",
          "output_type": "stream",
          "text": [
            "\u001b[32m[I 2022-10-08 09:55:10,721]\u001b[0m Trial 0 finished with value: 0.8119974268253458 and parameters: {'lambda': 0.2565545627498184, 'alpha': 0.5316428765631149, 'colsample_bytree': 0.6687000000000001, 'subsample': 0.3524139967782212, 'learning_rate': 0.461, 'max_depth': 11, 'min_child_weight': 4, 'gamma': 2.2195}. Best is trial 0 with value: 0.8119974268253458.\u001b[0m\n",
            "\u001b[32m[I 2022-10-08 09:56:31,961]\u001b[0m Trial 2 finished with value: 0.8128819556127372 and parameters: {'lambda': 0.3066111677728112, 'alpha': 0.7384915207758049, 'colsample_bytree': 0.5827, 'subsample': 0.6405147101747796, 'learning_rate': 2.873, 'max_depth': 9, 'min_child_weight': 11, 'gamma': 9.0595}. Best is trial 2 with value: 0.8128819556127372.\u001b[0m\n",
            "\u001b[32m[I 2022-10-08 09:58:54,231]\u001b[0m Trial 1 finished with value: 0.8143695722097137 and parameters: {'lambda': 0.66756486248798, 'alpha': 0.2943405081323294, 'colsample_bytree': 0.33140000000000003, 'subsample': 0.765228778916294, 'learning_rate': 0.096, 'max_depth': 8, 'min_child_weight': 2, 'gamma': 7.5075}. Best is trial 1 with value: 0.8143695722097137.\u001b[0m\n",
            "\u001b[32m[I 2022-10-08 10:01:40,765]\u001b[0m Trial 3 finished with value: 0.7911305886137021 and parameters: {'lambda': 0.5140390928935359, 'alpha': 0.49724767250659274, 'colsample_bytree': 0.15330000000000002, 'subsample': 0.34030278415235005, 'learning_rate': 0.6920000000000001, 'max_depth': 19, 'min_child_weight': 10, 'gamma': 3.1175}. Best is trial 1 with value: 0.8143695722097137.\u001b[0m\n",
            "\u001b[32m[I 2022-10-08 10:03:31,064]\u001b[0m Trial 4 finished with value: 0.8130829848825989 and parameters: {'lambda': 0.7287706062024095, 'alpha': 0.8530133882819539, 'colsample_bytree': 0.9336000000000001, 'subsample': 0.19733526365961154, 'learning_rate': 0.802, 'max_depth': 18, 'min_child_weight': 7, 'gamma': 8.433}. Best is trial 1 with value: 0.8143695722097137.\u001b[0m\n",
            "\u001b[32m[I 2022-10-08 10:04:16,081]\u001b[0m Trial 5 finished with value: 0.7773801865551624 and parameters: {'lambda': 0.30772903375299826, 'alpha': 0.3827698179325704, 'colsample_bytree': 0.4621, 'subsample': 0.12963659470534927, 'learning_rate': 1.24, 'max_depth': 11, 'min_child_weight': 9, 'gamma': 1.7815}. Best is trial 1 with value: 0.8143695722097137.\u001b[0m\n",
            "\u001b[32m[I 2022-10-08 10:05:38,964]\u001b[0m Trial 7 finished with value: 0.8130025731746542 and parameters: {'lambda': 0.15401314457450077, 'alpha': 0.03505067194681209, 'colsample_bytree': 0.4728, 'subsample': 0.45493404956075667, 'learning_rate': 2.496, 'max_depth': 5, 'min_child_weight': 9, 'gamma': 0.23800000000000002}. Best is trial 1 with value: 0.8143695722097137.\u001b[0m\n",
            "\u001b[32m[I 2022-10-08 10:07:04,994]\u001b[0m Trial 8 finished with value: 0.7719926021228691 and parameters: {'lambda': 0.961326398225818, 'alpha': 0.32186065366454386, 'colsample_bytree': 0.0753, 'subsample': 0.3597294896448629, 'learning_rate': 3.0580000000000003, 'max_depth': 3, 'min_child_weight': 1, 'gamma': 3.8255}. Best is trial 1 with value: 0.8143695722097137.\u001b[0m\n",
            "\u001b[32m[I 2022-10-08 10:10:57,367]\u001b[0m Trial 6 finished with value: 0.8143293663557414 and parameters: {'lambda': 0.6850618696903567, 'alpha': 0.27894873847318463, 'colsample_bytree': 0.39680000000000004, 'subsample': 0.8272817473549369, 'learning_rate': 0.179, 'max_depth': 9, 'min_child_weight': 3, 'gamma': 2.814}. Best is trial 1 with value: 0.8143695722097137.\u001b[0m\n",
            "\u001b[32m[I 2022-10-08 10:10:59,803]\u001b[0m Trial 9 finished with value: 0.8119974268253458 and parameters: {'lambda': 0.04117556790994086, 'alpha': 0.5273800247486714, 'colsample_bytree': 0.5114000000000001, 'subsample': 0.25760009770826015, 'learning_rate': 1.366, 'max_depth': 13, 'min_child_weight': 1, 'gamma': 5.1385000000000005}. Best is trial 1 with value: 0.8143695722097137.\u001b[0m\n",
            "\u001b[32m[I 2022-10-08 10:12:20,726]\u001b[0m Trial 10 finished with value: 0.8127613380508202 and parameters: {'lambda': 0.7467580956630978, 'alpha': 0.21758782431853058, 'colsample_bytree': 0.4379, 'subsample': 0.4236170787609323, 'learning_rate': 3.6310000000000002, 'max_depth': 14, 'min_child_weight': 8, 'gamma': 8.8345}. Best is trial 1 with value: 0.8143695722097137.\u001b[0m\n",
            "\u001b[32m[I 2022-10-08 10:12:23,559]\u001b[0m Trial 11 finished with value: 0.8089015760694758 and parameters: {'lambda': 0.9992832827785444, 'alpha': 0.02140565179232512, 'colsample_bytree': 0.7086, 'subsample': 0.9872499968250007, 'learning_rate': 3.834, 'max_depth': 15, 'min_child_weight': 5, 'gamma': 2.9005}. Best is trial 1 with value: 0.8143695722097137.\u001b[0m\n",
            "\u001b[32m[I 2022-10-08 10:13:41,431]\u001b[0m Trial 12 finished with value: 0.7719926021228691 and parameters: {'lambda': 0.5600371875567983, 'alpha': 0.12349137888327108, 'colsample_bytree': 0.1326, 'subsample': 0.9685668840567976, 'learning_rate': 0.968, 'max_depth': 7, 'min_child_weight': 4, 'gamma': 3.729}. Best is trial 1 with value: 0.8143695722097137.\u001b[0m\n",
            "\u001b[32m[I 2022-10-08 10:13:46,884]\u001b[0m Trial 13 finished with value: 0.7719926021228691 and parameters: {'lambda': 0.6042122925767033, 'alpha': 0.21277060624062488, 'colsample_bytree': 0.0942, 'subsample': 0.7633707472410347, 'learning_rate': 3.916, 'max_depth': 7, 'min_child_weight': 3, 'gamma': 6.140000000000001}. Best is trial 1 with value: 0.8143695722097137.\u001b[0m\n",
            "\u001b[32m[I 2022-10-08 10:15:03,793]\u001b[0m Trial 14 finished with value: 0.7719926021228691 and parameters: {'lambda': 0.724386423301908, 'alpha': 0.27071461213595926, 'colsample_bytree': 0.22740000000000002, 'subsample': 0.726695672238666, 'learning_rate': 2.0460000000000003, 'max_depth': 7, 'min_child_weight': 3, 'gamma': 9.6605}. Best is trial 1 with value: 0.8143695722097137.\u001b[0m\n",
            "\u001b[32m[I 2022-10-08 10:16:41,517]\u001b[0m Trial 15 finished with value: 0.7860244451592152 and parameters: {'lambda': 0.7858749460919238, 'alpha': 0.34887962117996973, 'colsample_bytree': 0.015300000000000001, 'subsample': 0.7875416150228428, 'learning_rate': 2.767, 'max_depth': 2, 'min_child_weight': 2, 'gamma': 9.9945}. Best is trial 1 with value: 0.8143695722097137.\u001b[0m\n",
            "\u001b[32m[I 2022-10-08 10:18:07,407]\u001b[0m Trial 17 finished with value: 0.7719926021228691 and parameters: {'lambda': 0.8580379755732926, 'alpha': 0.7048686433438114, 'colsample_bytree': 0.4053, 'subsample': 0.65250564603383, 'learning_rate': 3.204, 'max_depth': 9, 'min_child_weight': 5, 'gamma': 7.067}. Best is trial 1 with value: 0.8143695722097137.\u001b[0m\n",
            "\u001b[32m[I 2022-10-08 10:18:26,116]\u001b[0m Trial 16 finished with value: 0.8142489546477967 and parameters: {'lambda': 0.8032088520045355, 'alpha': 0.4153567002594975, 'colsample_bytree': 0.9569000000000001, 'subsample': 0.8428502074746279, 'learning_rate': 0.624, 'max_depth': 3, 'min_child_weight': 6, 'gamma': 6.057}. Best is trial 1 with value: 0.8143695722097137.\u001b[0m\n",
            "\u001b[32m[I 2022-10-08 10:19:53,352]\u001b[0m Trial 19 finished with value: 0.7719926021228691 and parameters: {'lambda': 0.449657298370071, 'alpha': 0.14215170888440898, 'colsample_bytree': 0.3402, 'subsample': 0.5910012791628199, 'learning_rate': 3.992, 'max_depth': 11, 'min_child_weight': 2, 'gamma': 8.2195}. Best is trial 1 with value: 0.8143695722097137.\u001b[0m\n",
            "\u001b[32m[I 2022-10-08 10:21:22,945]\u001b[0m Trial 20 finished with value: 0.810710839498231 and parameters: {'lambda': 0.6469064867312613, 'alpha': 0.9670461682829199, 'colsample_bytree': 0.8497, 'subsample': 0.8807793903309131, 'learning_rate': 3.7600000000000002, 'max_depth': 16, 'min_child_weight': 12, 'gamma': 1.348}. Best is trial 1 with value: 0.8143695722097137.\u001b[0m\n",
            "\u001b[32m[I 2022-10-08 10:21:36,987]\u001b[0m Trial 18 finished with value: 0.8144097780636861 and parameters: {'lambda': 0.42049394065608203, 'alpha': 0.9991348647662524, 'colsample_bytree': 0.7166, 'subsample': 0.8793601870265376, 'learning_rate': 0.196, 'max_depth': 5, 'min_child_weight': 5, 'gamma': 6.775}. Best is trial 18 with value: 0.8144097780636861.\u001b[0m\n",
            "\u001b[32m[I 2022-10-08 10:24:58,472]\u001b[0m Trial 21 finished with value: 0.8138468961080734 and parameters: {'lambda': 0.4258860506942798, 'alpha': 0.6169261680054787, 'colsample_bytree': 0.4389, 'subsample': 0.5648672325053486, 'learning_rate': 0.358, 'max_depth': 5, 'min_child_weight': 3, 'gamma': 4.0325}. Best is trial 18 with value: 0.8144097780636861.\u001b[0m\n",
            "\u001b[32m[I 2022-10-08 10:25:10,011]\u001b[0m Trial 22 finished with value: 0.810710839498231 and parameters: {'lambda': 0.43065194895052583, 'alpha': 0.6458029429752415, 'colsample_bytree': 0.37, 'subsample': 0.8738055377024732, 'learning_rate': 1.619, 'max_depth': 5, 'min_child_weight': 3, 'gamma': 1.0565}. Best is trial 18 with value: 0.8144097780636861.\u001b[0m\n",
            "\u001b[32m[I 2022-10-08 10:26:37,753]\u001b[0m Trial 24 finished with value: 0.7719926021228691 and parameters: {'lambda': 0.6253500124123261, 'alpha': 0.9806932198549931, 'colsample_bytree': 0.1462, 'subsample': 0.9132435359563418, 'learning_rate': 3.869, 'max_depth': 9, 'min_child_weight': 5, 'gamma': 9.707}. Best is trial 18 with value: 0.8144097780636861.\u001b[0m\n",
            "\u001b[32m[I 2022-10-08 10:28:09,425]\u001b[0m Trial 25 finished with value: 0.813565455130267 and parameters: {'lambda': 0.6746094166068869, 'alpha': 0.4420077340556119, 'colsample_bytree': 0.8864000000000001, 'subsample': 0.7109275005474028, 'learning_rate': 2.721, 'max_depth': 8, 'min_child_weight': 6, 'gamma': 4.1325}. Best is trial 18 with value: 0.8144097780636861.\u001b[0m\n",
            "\u001b[32m[I 2022-10-08 10:29:40,958]\u001b[0m Trial 26 finished with value: 0.7719926021228691 and parameters: {'lambda': 0.8964863611363734, 'alpha': 0.8567541534018004, 'colsample_bytree': 0.1792, 'subsample': 0.810041567653971, 'learning_rate': 3.267, 'max_depth': 5, 'min_child_weight': 2, 'gamma': 0.2415}. Best is trial 18 with value: 0.8144097780636861.\u001b[0m\n",
            "\u001b[32m[I 2022-10-08 10:31:11,171]\u001b[0m Trial 27 finished with value: 0.8091830170472821 and parameters: {'lambda': 0.5299789246539968, 'alpha': 0.14712952058042408, 'colsample_bytree': 0.5369, 'subsample': 0.92909092556773, 'learning_rate': 3.847, 'max_depth': 13, 'min_child_weight': 4, 'gamma': 3.2075}. Best is trial 18 with value: 0.8144097780636861.\u001b[0m\n",
            "\u001b[32m[I 2022-10-08 10:34:28,291]\u001b[0m Trial 23 finished with value: 0.813203602444516 and parameters: {'lambda': 0.6365594070026696, 'alpha': 0.9683468173506956, 'colsample_bytree': 0.8687, 'subsample': 0.9019446035358247, 'learning_rate': 1.216, 'max_depth': 9, 'min_child_weight': 5, 'gamma': 1.8525}. Best is trial 18 with value: 0.8144097780636861.\u001b[0m\n",
            "\u001b[32m[I 2022-10-08 10:35:58,295]\u001b[0m Trial 29 finished with value: 0.8130427790286265 and parameters: {'lambda': 0.3632918542303012, 'alpha': 0.27681557965025355, 'colsample_bytree': 0.5125000000000001, 'subsample': 0.5443347356853759, 'learning_rate': 4.9270000000000005, 'max_depth': 6, 'min_child_weight': 7, 'gamma': 9.2675}. Best is trial 18 with value: 0.8144097780636861.\u001b[0m\n",
            "\u001b[32m[I 2022-10-08 10:36:39,671]\u001b[0m Trial 28 finished with value: 0.813203602444516 and parameters: {'lambda': 0.37957111148463074, 'alpha': 0.2784414601514015, 'colsample_bytree': 0.5851000000000001, 'subsample': 0.6796705505671828, 'learning_rate': 0.6960000000000001, 'max_depth': 6, 'min_child_weight': 7, 'gamma': 6.236}. Best is trial 18 with value: 0.8144097780636861.\u001b[0m\n",
            "\u001b[32m[I 2022-10-08 10:37:27,609]\u001b[0m Trial 30 finished with value: 0.7719926021228691 and parameters: {'lambda': 0.20587381094084894, 'alpha': 0.4467705199486814, 'colsample_bytree': 0.3312, 'subsample': 0.680248592202167, 'learning_rate': 1.6620000000000001, 'max_depth': 10, 'min_child_weight': 4, 'gamma': 6.6505}. Best is trial 18 with value: 0.8144097780636861.\u001b[0m\n",
            "\u001b[32m[I 2022-10-08 10:38:10,674]\u001b[0m Trial 31 finished with value: 0.8124798970730138 and parameters: {'lambda': 0.17327397638284986, 'alpha': 0.4740929549637817, 'colsample_bytree': 0.43960000000000005, 'subsample': 0.9983100689988695, 'learning_rate': 4.97, 'max_depth': 10, 'min_child_weight': 4, 'gamma': 2.769}. Best is trial 18 with value: 0.8144097780636861.\u001b[0m\n",
            "\u001b[32m[I 2022-10-08 10:38:47,891]\u001b[0m Trial 12 finished with value: 0.8140077195239627 and parameters: {'lambda': 0.01816429269273548, 'alpha': 0.30896272247368406, 'colsample_bytree': 0.9001, 'subsample': 0.7045530660647353, 'learning_rate': 0.41100000000000003, 'max_depth': 7, 'min_child_weight': 8, 'gamma': 4.001}. Best is trial 12 with value: 0.8140077195239627.\u001b[0m\n",
            "\u001b[32m[I 2022-10-08 10:38:55,701]\u001b[0m Trial 32 finished with value: 0.8111531038919266 and parameters: {'lambda': 0.8233375392780509, 'alpha': 0.40690035607071207, 'colsample_bytree': 0.7507, 'subsample': 0.8434923495210366, 'learning_rate': 3.769, 'max_depth': 3, 'min_child_weight': 6, 'gamma': 5.4555}. Best is trial 18 with value: 0.8144097780636861.\u001b[0m\n",
            "\u001b[32m[I 2022-10-08 10:39:27,110]\u001b[0m Trial 33 finished with value: 0.8130829848825989 and parameters: {'lambda': 0.8241225489893298, 'alpha': 0.3944228530839177, 'colsample_bytree': 0.5543, 'subsample': 0.8246388122785191, 'learning_rate': 2.238, 'max_depth': 3, 'min_child_weight': 6, 'gamma': 9.887}. Best is trial 18 with value: 0.8144097780636861.\u001b[0m\n",
            "\u001b[32m[I 2022-10-08 10:40:01,479]\u001b[0m Trial 34 finished with value: 0.8126005146349309 and parameters: {'lambda': 0.9062425011552812, 'alpha': 0.6317681436059381, 'colsample_bytree': 0.9501000000000001, 'subsample': 0.8175336372646747, 'learning_rate': 3.841, 'max_depth': 3, 'min_child_weight': 6, 'gamma': 1.7555}. Best is trial 18 with value: 0.8144097780636861.\u001b[0m\n",
            "\u001b[32m[I 2022-10-08 10:40:36,792]\u001b[0m Trial 35 finished with value: 0.7719926021228691 and parameters: {'lambda': 0.6977155499770693, 'alpha': 0.5940852021849985, 'colsample_bytree': 0.3526, 'subsample': 0.7697615683724377, 'learning_rate': 4.233, 'max_depth': 4, 'min_child_weight': 2, 'gamma': 9.0675}. Best is trial 18 with value: 0.8144097780636861.\u001b[0m\n",
            "\u001b[32m[I 2022-10-08 10:41:46,196]\u001b[0m Trial 37 finished with value: 0.7719926021228691 and parameters: {'lambda': 0.48642330655168176, 'alpha': 0.8194245266517753, 'colsample_bytree': 0.1421, 'subsample': 0.5997808875306201, 'learning_rate': 4.019, 'max_depth': 8, 'min_child_weight': 8, 'gamma': 9.176}. Best is trial 18 with value: 0.8144097780636861.\u001b[0m\n",
            "\u001b[32m[I 2022-10-08 10:42:13,442]\u001b[0m Trial 36 finished with value: 0.8146912190414924 and parameters: {'lambda': 0.7101470312428977, 'alpha': 0.5609623838364081, 'colsample_bytree': 0.5749000000000001, 'subsample': 0.7469254000957516, 'learning_rate': 0.249, 'max_depth': 4, 'min_child_weight': 1, 'gamma': 7.319500000000001}. Best is trial 36 with value: 0.8146912190414924.\u001b[0m\n",
            "\u001b[32m[I 2022-10-08 10:42:53,744]\u001b[0m Trial 38 finished with value: 0.8130829848825989 and parameters: {'lambda': 0.5919977932241249, 'alpha': 0.5601712553951017, 'colsample_bytree': 0.6856, 'subsample': 0.504123226864967, 'learning_rate': 3.489, 'max_depth': 2, 'min_child_weight': 1, 'gamma': 5.3595}. Best is trial 36 with value: 0.8146912190414924.\u001b[0m\n",
            "\u001b[32m[I 2022-10-08 10:43:27,715]\u001b[0m Trial 39 finished with value: 0.8127613380508202 and parameters: {'lambda': 0.5927469856595768, 'alpha': 0.7059846224240991, 'colsample_bytree': 0.7412000000000001, 'subsample': 0.722822851398299, 'learning_rate': 3.875, 'max_depth': 20, 'min_child_weight': 1, 'gamma': 5.78}. Best is trial 36 with value: 0.8146912190414924.\u001b[0m\n",
            "\u001b[32m[I 2022-10-08 10:44:39,678]\u001b[0m Trial 41 finished with value: 0.8125603087809585 and parameters: {'lambda': 0.29308809170828876, 'alpha': 0.7937112406154376, 'colsample_bytree': 0.7481, 'subsample': 0.9427641459072638, 'learning_rate': 4.138, 'max_depth': 6, 'min_child_weight': 2, 'gamma': 0.242}. Best is trial 36 with value: 0.8146912190414924.\u001b[0m\n",
            "\u001b[32m[I 2022-10-08 10:44:57,106]\u001b[0m Trial 40 finished with value: 0.8128015439047925 and parameters: {'lambda': 0.28806423915744805, 'alpha': 0.7706308490671947, 'colsample_bytree': 0.11860000000000001, 'subsample': 0.07562778023786215, 'learning_rate': 0.015, 'max_depth': 6, 'min_child_weight': 1, 'gamma': 9.03}. Best is trial 36 with value: 0.8146912190414924.\u001b[0m\n",
            "\u001b[32m[I 2022-10-08 10:45:50,139]\u001b[0m Trial 42 finished with value: 0.8129221614667096 and parameters: {'lambda': 0.7456186176594244, 'alpha': 0.3417279274499815, 'colsample_bytree': 0.7888000000000001, 'subsample': 0.857646280526697, 'learning_rate': 4.635, 'max_depth': 4, 'min_child_weight': 1, 'gamma': 3.6295}. Best is trial 36 with value: 0.8146912190414924.\u001b[0m\n",
            "\u001b[32m[I 2022-10-08 10:46:08,399]\u001b[0m Trial 43 finished with value: 0.8130025731746542 and parameters: {'lambda': 0.7789531034553003, 'alpha': 0.32828958925442187, 'colsample_bytree': 0.5055000000000001, 'subsample': 0.8705196110226865, 'learning_rate': 2.989, 'max_depth': 4, 'min_child_weight': 3, 'gamma': 7.0495}. Best is trial 36 with value: 0.8146912190414924.\u001b[0m\n",
            "\u001b[32m[I 2022-10-08 10:46:58,921]\u001b[0m Trial 44 finished with value: 0.8127613380508202 and parameters: {'lambda': 0.774828767538626, 'alpha': 0.24515733186537922, 'colsample_bytree': 0.6074, 'subsample': 0.7600254584064045, 'learning_rate': 4.3790000000000004, 'max_depth': 4, 'min_child_weight': 3, 'gamma': 3.6605}. Best is trial 36 with value: 0.8146912190414924.\u001b[0m\n",
            "\u001b[32m[I 2022-10-08 10:47:19,793]\u001b[0m Trial 45 finished with value: 0.7719926021228691 and parameters: {'lambda': 0.6972556498153302, 'alpha': 0.2036417312715237, 'colsample_bytree': 0.016, 'subsample': 0.759656909538601, 'learning_rate': 4.077, 'max_depth': 12, 'min_child_weight': 2, 'gamma': 2.2425}. Best is trial 36 with value: 0.8146912190414924.\u001b[0m\n",
            "\u001b[32m[I 2022-10-08 10:48:08,352]\u001b[0m Trial 46 finished with value: 0.7719926021228691 and parameters: {'lambda': 0.6842209808377726, 'alpha': 0.5117716608479496, 'colsample_bytree': 0.0091, 'subsample': 0.6378851870945701, 'learning_rate': 1.919, 'max_depth': 12, 'min_child_weight': 8, 'gamma': 4.2485}. Best is trial 36 with value: 0.8146912190414924.\u001b[0m\n",
            "\u001b[32m[I 2022-10-08 10:48:30,958]\u001b[0m Trial 47 finished with value: 0.7790688324220006 and parameters: {'lambda': 0.5227368811181832, 'alpha': 0.8999917687305181, 'colsample_bytree': 0.3441, 'subsample': 0.9376516222776266, 'learning_rate': 1.929, 'max_depth': 2, 'min_child_weight': 8, 'gamma': 5.965}. Best is trial 36 with value: 0.8146912190414924.\u001b[0m\n",
            "\u001b[32m[I 2022-10-08 10:49:18,994]\u001b[0m Trial 48 finished with value: 0.8122788678031522 and parameters: {'lambda': 0.5465135268164889, 'alpha': 0.9023489977873141, 'colsample_bytree': 0.748, 'subsample': 0.8005388960835698, 'learning_rate': 2.273, 'max_depth': 8, 'min_child_weight': 10, 'gamma': 9.384500000000001}. Best is trial 36 with value: 0.8146912190414924.\u001b[0m\n",
            "\u001b[32m[I 2022-10-08 10:49:49,566]\u001b[0m Trial 49 finished with value: 0.8130829848825989 and parameters: {'lambda': 0.9376653481341508, 'alpha': 0.0964355960245655, 'colsample_bytree': 0.7806000000000001, 'subsample': 0.2392657047836491, 'learning_rate': 4.3100000000000005, 'max_depth': 8, 'min_child_weight': 5, 'gamma': 3.3040000000000003}. Best is trial 36 with value: 0.8146912190414924.\u001b[0m\n",
            "\u001b[32m[I 2022-10-08 10:50:37,563]\u001b[0m Trial 50 finished with value: 0.8130829848825989 and parameters: {'lambda': 0.4838826552411765, 'alpha': 0.16838769856720626, 'colsample_bytree': 0.6904, 'subsample': 0.17954189205014298, 'learning_rate': 2.891, 'max_depth': 7, 'min_child_weight': 5, 'gamma': 3.226}. Best is trial 36 with value: 0.8146912190414924.\u001b[0m\n",
            "\u001b[32m[I 2022-10-08 10:51:03,583]\u001b[0m Trial 51 finished with value: 0.7719926021228691 and parameters: {'lambda': 0.05266113492861174, 'alpha': 0.18590465499129527, 'colsample_bytree': 0.4244, 'subsample': 0.33067484075570697, 'learning_rate': 4.128, 'max_depth': 7, 'min_child_weight': 2, 'gamma': 5.8755}. Best is trial 36 with value: 0.8146912190414924.\u001b[0m\n",
            "\u001b[32m[I 2022-10-08 10:51:53,401]\u001b[0m Trial 52 finished with value: 0.8133242200064329 and parameters: {'lambda': 0.3735837832560443, 'alpha': 0.5561257830543027, 'colsample_bytree': 0.8009000000000001, 'subsample': 0.4555197639056282, 'learning_rate': 2.566, 'max_depth': 5, 'min_child_weight': 3, 'gamma': 3.462}. Best is trial 36 with value: 0.8146912190414924.\u001b[0m\n",
            "\u001b[32m[I 2022-10-08 10:53:58,099]\u001b[0m Trial 53 finished with value: 0.8144901897716308 and parameters: {'lambda': 0.3797851974076199, 'alpha': 0.5520496856328851, 'colsample_bytree': 0.7166, 'subsample': 0.555574422067474, 'learning_rate': 0.179, 'max_depth': 5, 'min_child_weight': 3, 'gamma': 4.555}. Best is trial 36 with value: 0.8146912190414924.\u001b[0m\n",
            "\u001b[32m[I 2022-10-08 10:55:25,669]\u001b[0m Trial 55 finished with value: 0.8130829848825989 and parameters: {'lambda': 0.34839353875913004, 'alpha': 0.36879885313174493, 'colsample_bytree': 0.6193000000000001, 'subsample': 0.6365219143832996, 'learning_rate': 1.955, 'max_depth': 3, 'min_child_weight': 4, 'gamma': 3.8055}. Best is trial 36 with value: 0.8146912190414924.\u001b[0m\n",
            "\u001b[32m[I 2022-10-08 10:57:55,582]\u001b[0m Trial 54 finished with value: 0.8121582502412351 and parameters: {'lambda': 0.421427081141734, 'alpha': 0.42135237478243115, 'colsample_bytree': 0.43870000000000003, 'subsample': 0.5971100836220972, 'learning_rate': 1.061, 'max_depth': 10, 'min_child_weight': 4, 'gamma': 1.9335}. Best is trial 36 with value: 0.8146912190414924.\u001b[0m\n",
            "\u001b[32m[I 2022-10-08 10:58:56,369]\u001b[0m Trial 56 finished with value: 0.8087407526535864 and parameters: {'lambda': 0.8416750182595917, 'alpha': 0.3107843726992131, 'colsample_bytree': 0.2823, 'subsample': 0.68685256118093, 'learning_rate': 0.928, 'max_depth': 5, 'min_child_weight': 4, 'gamma': 3.4735}. Best is trial 36 with value: 0.8146912190414924.\u001b[0m\n",
            "\u001b[32m[I 2022-10-08 11:01:14,239]\u001b[0m Trial 58 finished with value: 0.7734400128658733 and parameters: {'lambda': 0.7330006212977807, 'alpha': 0.06401557850143624, 'colsample_bytree': 0.2506, 'subsample': 0.7376251009334577, 'learning_rate': 3.463, 'max_depth': 17, 'min_child_weight': 3, 'gamma': 2.7765}. Best is trial 36 with value: 0.8146912190414924.\u001b[0m\n",
            "\u001b[32m[I 2022-10-08 11:01:24,211]\u001b[0m Trial 57 finished with value: 0.8149324541653264 and parameters: {'lambda': 0.23277831260130155, 'alpha': 0.4798688368283196, 'colsample_bytree': 0.6678000000000001, 'subsample': 0.7241931789358075, 'learning_rate': 0.263, 'max_depth': 5, 'min_child_weight': 3, 'gamma': 0.772}. Best is trial 57 with value: 0.8149324541653264.\u001b[0m\n",
            "\u001b[32m[I 2022-10-08 11:02:41,394]\u001b[0m Trial 60 finished with value: 0.7719926021228691 and parameters: {'lambda': 0.24777196117656042, 'alpha': 0.48365269221901835, 'colsample_bytree': 0.2088, 'subsample': 0.4083658228471493, 'learning_rate': 1.961, 'max_depth': 6, 'min_child_weight': 1, 'gamma': 4.3575}. Best is trial 57 with value: 0.8149324541653264.\u001b[0m\n",
            "\u001b[32m[I 2022-10-08 11:03:28,649]\u001b[0m Trial 59 finished with value: 0.8140881312319074 and parameters: {'lambda': 0.5655909235502372, 'alpha': 0.4865328554952268, 'colsample_bytree': 0.39680000000000004, 'subsample': 0.8940606196121725, 'learning_rate': 0.327, 'max_depth': 4, 'min_child_weight': 1, 'gamma': 6.6365}. Best is trial 57 with value: 0.8149324541653264.\u001b[0m\n",
            "\u001b[32m[I 2022-10-08 11:03:58,329]\u001b[0m Trial 61 finished with value: 0.7719926021228691 and parameters: {'lambda': 0.10999749970312031, 'alpha': 0.6559605579451637, 'colsample_bytree': 0.0257, 'subsample': 0.534571421713265, 'learning_rate': 3.686, 'max_depth': 7, 'min_child_weight': 2, 'gamma': 0.0245}. Best is trial 57 with value: 0.8149324541653264.\u001b[0m\n",
            "\u001b[32m[I 2022-10-08 11:04:59,188]\u001b[0m Trial 62 finished with value: 0.8125201029269862 and parameters: {'lambda': 0.6572048106697472, 'alpha': 0.543984635522309, 'colsample_bytree': 0.4425, 'subsample': 0.8392841734191199, 'learning_rate': 2.241, 'max_depth': 5, 'min_child_weight': 2, 'gamma': 5.19}. Best is trial 57 with value: 0.8149324541653264.\u001b[0m\n",
            "\u001b[32m[I 2022-10-08 11:06:12,870]\u001b[0m Trial 64 finished with value: 0.7719926021228691 and parameters: {'lambda': 0.22191945847334982, 'alpha': 0.2450202598496525, 'colsample_bytree': 0.3033, 'subsample': 0.7927525636280008, 'learning_rate': 4.543, 'max_depth': 2, 'min_child_weight': 3, 'gamma': 6.0785}. Best is trial 57 with value: 0.8149324541653264.\u001b[0m\n",
            "\u001b[32m[I 2022-10-08 11:06:44,779]\u001b[0m Trial 63 finished with value: 0.7723142489546478 and parameters: {'lambda': 0.33083419778307516, 'alpha': 0.5544447187786532, 'colsample_bytree': 0.1918, 'subsample': 0.961719765253576, 'learning_rate': 3.487, 'max_depth': 5, 'min_child_weight': 3, 'gamma': 2.574}. Best is trial 57 with value: 0.8149324541653264.\u001b[0m\n",
            "\u001b[32m[I 2022-10-08 11:07:59,606]\u001b[0m Trial 66 finished with value: 0.7720328079768414 and parameters: {'lambda': 0.8008018508713752, 'alpha': 0.45568949523640295, 'colsample_bytree': 0.42750000000000005, 'subsample': 0.7042323374915974, 'learning_rate': 2.136, 'max_depth': 4, 'min_child_weight': 5, 'gamma': 1.8475000000000001}. Best is trial 57 with value: 0.8149324541653264.\u001b[0m\n",
            "\u001b[32m[I 2022-10-08 11:08:49,480]\u001b[0m Trial 65 finished with value: 0.8146510131875201 and parameters: {'lambda': 0.3403174814906744, 'alpha': 0.44385120634384556, 'colsample_bytree': 0.9984000000000001, 'subsample': 0.9568391285089866, 'learning_rate': 0.14300000000000002, 'max_depth': 4, 'min_child_weight': 7, 'gamma': 4.0835}. Best is trial 57 with value: 0.8149324541653264.\u001b[0m\n",
            "\u001b[32m[I 2022-10-08 11:10:08,613]\u001b[0m Trial 68 finished with value: 0.7719926021228691 and parameters: {'lambda': 0.4012517102967871, 'alpha': 0.5969609069295965, 'colsample_bytree': 0.37610000000000005, 'subsample': 0.9740006292594252, 'learning_rate': 4.093, 'max_depth': 6, 'min_child_weight': 9, 'gamma': 8.072000000000001}. Best is trial 57 with value: 0.8149324541653264.\u001b[0m\n",
            "\u001b[32m[I 2022-10-08 11:10:09,863]\u001b[0m Trial 67 finished with value: 0.8138468961080734 and parameters: {'lambda': 0.8761653354385747, 'alpha': 0.3747580737907219, 'colsample_bytree': 0.9064000000000001, 'subsample': 0.7436341756878864, 'learning_rate': 1.498, 'max_depth': 3, 'min_child_weight': 7, 'gamma': 1.0355}. Best is trial 57 with value: 0.8149324541653264.\u001b[0m\n",
            "\u001b[32m[I 2022-10-08 11:11:21,571]\u001b[0m Trial 70 finished with value: 0.8136056609842393 and parameters: {'lambda': 0.4536107766742834, 'alpha': 0.6862828295234774, 'colsample_bytree': 0.8316, 'subsample': 0.8970595522785242, 'learning_rate': 3.58, 'max_depth': 8, 'min_child_weight': 2, 'gamma': 1.526}. Best is trial 57 with value: 0.8149324541653264.\u001b[0m\n",
            "\u001b[32m[I 2022-10-08 11:11:21,783]\u001b[0m Trial 69 finished with value: 0.7719926021228691 and parameters: {'lambda': 0.45862173362816533, 'alpha': 0.3671824490894866, 'colsample_bytree': 0.20220000000000002, 'subsample': 0.6517153066017873, 'learning_rate': 4.704, 'max_depth': 9, 'min_child_weight': 2, 'gamma': 5.146}. Best is trial 57 with value: 0.8149324541653264.\u001b[0m\n",
            "\u001b[32m[I 2022-10-08 11:12:38,423]\u001b[0m Trial 71 finished with value: 0.8130427790286265 and parameters: {'lambda': 0.3033506899539726, 'alpha': 0.296654240658532, 'colsample_bytree': 0.5202, 'subsample': 0.8501019047308627, 'learning_rate': 4.9430000000000005, 'max_depth': 4, 'min_child_weight': 7, 'gamma': 8.198500000000001}. Best is trial 57 with value: 0.8149324541653264.\u001b[0m\n",
            "\u001b[32m[I 2022-10-08 11:13:53,429]\u001b[0m Trial 73 finished with value: 0.7719926021228691 and parameters: {'lambda': 0.3295875223502472, 'alpha': 0.4378899610862135, 'colsample_bytree': 0.0872, 'subsample': 0.7812591445998757, 'learning_rate': 4.07, 'max_depth': 2, 'min_child_weight': 6, 'gamma': 0.3105}. Best is trial 57 with value: 0.8149324541653264.\u001b[0m\n",
            "\u001b[32m[I 2022-10-08 11:15:11,373]\u001b[0m Trial 74 finished with value: 0.8130829848825989 and parameters: {'lambda': 0.2563318426023882, 'alpha': 0.5186546342235395, 'colsample_bytree': 0.6488, 'subsample': 0.8169469137176132, 'learning_rate': 3.867, 'max_depth': 5, 'min_child_weight': 6, 'gamma': 1.868}. Best is trial 57 with value: 0.8149324541653264.\u001b[0m\n",
            "\u001b[32m[I 2022-10-08 11:15:14,687]\u001b[0m Trial 72 finished with value: 0.813927307816018 and parameters: {'lambda': 0.33155301147702565, 'alpha': 0.3042697443438076, 'colsample_bytree': 0.1832, 'subsample': 0.8307525055594882, 'learning_rate': 0.263, 'max_depth': 4, 'min_child_weight': 7, 'gamma': 6.8705}. Best is trial 57 with value: 0.8149324541653264.\u001b[0m\n",
            "\u001b[32m[I 2022-10-08 11:16:25,746]\u001b[0m Trial 75 finished with value: 0.7719926021228691 and parameters: {'lambda': 0.7135996861641387, 'alpha': 0.40799890921618215, 'colsample_bytree': 0.2954, 'subsample': 0.8767150602993092, 'learning_rate': 2.293, 'max_depth': 3, 'min_child_weight': 4, 'gamma': 3.564}. Best is trial 57 with value: 0.8149324541653264.\u001b[0m\n",
            "\u001b[32m[I 2022-10-08 11:16:30,594]\u001b[0m Trial 76 finished with value: 0.8130829848825989 and parameters: {'lambda': 0.3912766138143193, 'alpha': 0.4122337932062679, 'colsample_bytree': 0.46140000000000003, 'subsample': 0.9076840242349109, 'learning_rate': 3.097, 'max_depth': 3, 'min_child_weight': 4, 'gamma': 7.781000000000001}. Best is trial 57 with value: 0.8149324541653264.\u001b[0m\n",
            "\u001b[32m[I 2022-10-08 11:17:42,934]\u001b[0m Trial 77 finished with value: 0.7719926021228691 and parameters: {'lambda': 0.3970145073265819, 'alpha': 0.24370547408346474, 'colsample_bytree': 0.0032, 'subsample': 0.9234270991366825, 'learning_rate': 3.694, 'max_depth': 10, 'min_child_weight': 3, 'gamma': 5.51}. Best is trial 57 with value: 0.8149324541653264.\u001b[0m\n",
            "\u001b[32m[I 2022-10-08 11:19:02,621]\u001b[0m Trial 79 finished with value: 0.8137664844001287 and parameters: {'lambda': 0.1695276504237224, 'alpha': 0.585810208696262, 'colsample_bytree': 0.8983000000000001, 'subsample': 0.9582657002600776, 'learning_rate': 4.371, 'max_depth': 6, 'min_child_weight': 6, 'gamma': 6.4395}. Best is trial 57 with value: 0.8149324541653264.\u001b[0m\n",
            "\u001b[32m[I 2022-10-08 11:20:05,444]\u001b[0m Trial 78 finished with value: 0.8136458668382116 and parameters: {'lambda': 0.7612395387620216, 'alpha': 0.5835637563458632, 'colsample_bytree': 0.1423, 'subsample': 0.9284804183424616, 'learning_rate': 0.266, 'max_depth': 6, 'min_child_weight': 3, 'gamma': 0.5365}. Best is trial 57 with value: 0.8149324541653264.\u001b[0m\n",
            "\u001b[32m[I 2022-10-08 11:20:21,464]\u001b[0m Trial 80 finished with value: 0.8133242200064329 and parameters: {'lambda': 0.7568983415603339, 'alpha': 0.3457789294449847, 'colsample_bytree': 0.9791000000000001, 'subsample': 0.7783959321438981, 'learning_rate': 3.099, 'max_depth': 11, 'min_child_weight': 5, 'gamma': 8.9995}. Best is trial 57 with value: 0.8149324541653264.\u001b[0m\n",
            "\u001b[32m[I 2022-10-08 11:21:23,425]\u001b[0m Trial 81 finished with value: 0.7719926021228691 and parameters: {'lambda': 0.616666592276611, 'alpha': 0.5098260471159981, 'colsample_bytree': 0.0766, 'subsample': 0.7845044556395565, 'learning_rate': 2.634, 'max_depth': 9, 'min_child_weight': 5, 'gamma': 3.556}. Best is trial 57 with value: 0.8149324541653264.\u001b[0m\n",
            "\u001b[32m[I 2022-10-08 11:22:40,690]\u001b[0m Trial 83 finished with value: 0.8134850434223223 and parameters: {'lambda': 0.6816597227998056, 'alpha': 0.47835690048461105, 'colsample_bytree': 0.781, 'subsample': 0.8943439038478653, 'learning_rate': 4.643, 'max_depth': 4, 'min_child_weight': 1, 'gamma': 9.052}. Best is trial 57 with value: 0.8149324541653264.\u001b[0m\n",
            "\u001b[32m[I 2022-10-08 11:22:59,682]\u001b[0m Trial 82 finished with value: 0.8143293663557414 and parameters: {'lambda': 0.5710445573758202, 'alpha': 0.4928341078600038, 'colsample_bytree': 0.45640000000000003, 'subsample': 0.8873793711118658, 'learning_rate': 0.456, 'max_depth': 4, 'min_child_weight': 1, 'gamma': 2.5925000000000002}. Best is trial 57 with value: 0.8149324541653264.\u001b[0m\n",
            "\u001b[32m[I 2022-10-08 11:23:59,803]\u001b[0m Trial 84 finished with value: 0.7719926021228691 and parameters: {'lambda': 0.574809507602097, 'alpha': 0.4639489964619398, 'colsample_bytree': 0.2495, 'subsample': 0.8632859527331638, 'learning_rate': 4.925, 'max_depth': 3, 'min_child_weight': 1, 'gamma': 5.86}. Best is trial 57 with value: 0.8149324541653264.\u001b[0m\n",
            "\u001b[32m[I 2022-10-08 11:25:23,221]\u001b[0m Trial 85 finished with value: 0.8141283370858797 and parameters: {'lambda': 0.575511844750913, 'alpha': 0.4510389036562491, 'colsample_bytree': 0.5532, 'subsample': 0.9942323235536268, 'learning_rate': 0.096, 'max_depth': 3, 'min_child_weight': 1, 'gamma': 5.7355}. Best is trial 57 with value: 0.8149324541653264.\u001b[0m\n",
            "\u001b[32m[I 2022-10-08 11:27:23,230]\u001b[0m Trial 87 finished with value: 0.7757317465422966 and parameters: {'lambda': 0.6591725713083393, 'alpha': 0.7520127868509292, 'colsample_bytree': 0.3543, 'subsample': 0.7348200540627875, 'learning_rate': 2.236, 'max_depth': 7, 'min_child_weight': 2, 'gamma': 4.0835}. Best is trial 57 with value: 0.8149324541653264.\u001b[0m\n",
            "\u001b[32m[I 2022-10-08 11:29:47,092]\u001b[0m Trial 88 finished with value: 0.8128015439047925 and parameters: {'lambda': 0.5088932180411448, 'alpha': 0.5296928213910521, 'colsample_bytree': 0.44770000000000004, 'subsample': 0.6969912755720774, 'learning_rate': 1.463, 'max_depth': 4, 'min_child_weight': 12, 'gamma': 2.2435}. Best is trial 57 with value: 0.8149324541653264.\u001b[0m\n",
            "\u001b[32m[I 2022-10-08 11:29:57,322]\u001b[0m Trial 86 finished with value: 0.8137664844001287 and parameters: {'lambda': 0.6606360813507451, 'alpha': 0.5310248506738224, 'colsample_bytree': 0.8702000000000001, 'subsample': 0.9896017005911002, 'learning_rate': 0.623, 'max_depth': 7, 'min_child_weight': 2, 'gamma': 6.2095}. Best is trial 57 with value: 0.8149324541653264.\u001b[0m\n",
            "\u001b[32m[I 2022-10-08 11:31:19,846]\u001b[0m Trial 90 finished with value: 0.7719926021228691 and parameters: {'lambda': 0.27684160352857756, 'alpha': 0.940637681216241, 'colsample_bytree': 0.3095, 'subsample': 0.8044039358715076, 'learning_rate': 1.713, 'max_depth': 5, 'min_child_weight': 1, 'gamma': 5.2675}. Best is trial 57 with value: 0.8149324541653264.\u001b[0m\n",
            "\u001b[32m[I 2022-10-08 11:32:23,860]\u001b[0m Trial 89 finished with value: 0.7721936313927308 and parameters: {'lambda': 0.6392597711703469, 'alpha': 0.3862358745204761, 'colsample_bytree': 0.3326, 'subsample': 0.8154520141738891, 'learning_rate': 4.665, 'max_depth': 5, 'min_child_weight': 1, 'gamma': 1.808}. Best is trial 57 with value: 0.8149324541653264.\u001b[0m\n",
            "\u001b[32m[I 2022-10-08 11:32:31,913]\u001b[0m Trial 11 finished with value: 0.8146912190414924 and parameters: {'lambda': 0.02821036526687265, 'alpha': 0.333608659396825, 'colsample_bytree': 0.37020000000000003, 'subsample': 0.7245630764248481, 'learning_rate': 0.006, 'max_depth': 7, 'min_child_weight': 1, 'gamma': 8.4415}. Best is trial 11 with value: 0.8146912190414924.\u001b[0m\n",
            "\u001b[32m[I 2022-10-08 11:33:53,007]\u001b[0m Trial 91 finished with value: 0.8141685429398521 and parameters: {'lambda': 0.6318329130667119, 'alpha': 0.3932449959469546, 'colsample_bytree': 0.9764, 'subsample': 0.6159903602728887, 'learning_rate': 0.28200000000000003, 'max_depth': 5, 'min_child_weight': 2, 'gamma': 3.1595}. Best is trial 57 with value: 0.8149324541653264.\u001b[0m\n",
            "\u001b[32m[I 2022-10-08 11:35:51,688]\u001b[0m Trial 93 finished with value: 0.8109118687680926 and parameters: {'lambda': 0.6077342095770412, 'alpha': 0.43051091962820587, 'colsample_bytree': 0.27940000000000004, 'subsample': 0.6672262438766903, 'learning_rate': 0.553, 'max_depth': 5, 'min_child_weight': 2, 'gamma': 9.3935}. Best is trial 57 with value: 0.8149324541653264.\u001b[0m\n",
            "\u001b[32m[I 2022-10-08 11:36:38,737]\u001b[0m Trial 94 finished with value: 0.7719926021228691 and parameters: {'lambda': 0.7080971369670793, 'alpha': 0.4922398683430092, 'colsample_bytree': 0.07980000000000001, 'subsample': 0.49023642471785156, 'learning_rate': 3.105, 'max_depth': 6, 'min_child_weight': 2, 'gamma': 8.0275}. Best is trial 57 with value: 0.8149324541653264.\u001b[0m\n",
            "\u001b[32m[I 2022-10-08 11:37:48,344]\u001b[0m Trial 92 finished with value: 0.8137262785461563 and parameters: {'lambda': 0.48032274059525604, 'alpha': 0.43162485631648906, 'colsample_bytree': 0.1391, 'subsample': 0.9579281152976652, 'learning_rate': 0.042, 'max_depth': 3, 'min_child_weight': 1, 'gamma': 8.1935}. Best is trial 57 with value: 0.8149324541653264.\u001b[0m\n",
            "\u001b[32m[I 2022-10-08 11:38:09,541]\u001b[0m Trial 95 finished with value: 0.8140077195239627 and parameters: {'lambda': 0.6245223946627584, 'alpha': 0.3521548056001197, 'colsample_bytree': 0.9569000000000001, 'subsample': 0.6081026399997678, 'learning_rate': 0.781, 'max_depth': 2, 'min_child_weight': 3, 'gamma': 1.6745}. Best is trial 57 with value: 0.8149324541653264.\u001b[0m\n",
            "\u001b[32m[I 2022-10-08 11:38:37,775]\u001b[0m Trial 96 finished with value: 0.7719926021228691 and parameters: {'lambda': 0.7968515278854247, 'alpha': 0.33193970644427373, 'colsample_bytree': 0.2446, 'subsample': 0.5758773366906883, 'learning_rate': 4.743, 'max_depth': 2, 'min_child_weight': 3, 'gamma': 0.8195}. Best is trial 57 with value: 0.8149324541653264.\u001b[0m\n",
            "\u001b[32m[I 2022-10-08 11:38:59,024]\u001b[0m Trial 97 finished with value: 0.8130829848825989 and parameters: {'lambda': 0.5439636166055145, 'alpha': 0.28104687734330713, 'colsample_bytree': 0.5422, 'subsample': 0.5440071604010298, 'learning_rate': 3.31, 'max_depth': 4, 'min_child_weight': 2, 'gamma': 2.23}. Best is trial 57 with value: 0.8149324541653264.\u001b[0m\n",
            "\u001b[32m[I 2022-10-08 11:39:27,069]\u001b[0m Trial 98 finished with value: 0.812962367320682 and parameters: {'lambda': 0.41476583147291674, 'alpha': 0.26353853749911427, 'colsample_bytree': 0.927, 'subsample': 0.531407669155966, 'learning_rate': 3.922, 'max_depth': 4, 'min_child_weight': 8, 'gamma': 0.035}. Best is trial 57 with value: 0.8149324541653264.\u001b[0m\n",
            "\u001b[32m[I 2022-10-08 11:40:07,319]\u001b[0m Trial 99 finished with value: 0.7767770987455773 and parameters: {'lambda': 0.7305492089766222, 'alpha': 0.3878254197321211, 'colsample_bytree': 0.1418, 'subsample': 0.6206451431658894, 'learning_rate': 2.18, 'max_depth': 4, 'min_child_weight': 6, 'gamma': 4.503}. Best is trial 57 with value: 0.8149324541653264.\u001b[0m\n",
            "\u001b[32m[I 2022-10-08 11:40:57,771]\u001b[0m Trial 101 finished with value: 0.7720328079768414 and parameters: {'lambda': 0.14007658900418463, 'alpha': 0.6138008001707904, 'colsample_bytree': 0.3914, 'subsample': 0.7632606015156025, 'learning_rate': 4.5680000000000005, 'max_depth': 14, 'min_child_weight': 7, 'gamma': 4.2735}. Best is trial 57 with value: 0.8149324541653264.\u001b[0m\n",
            "\u001b[32m[I 2022-10-08 11:42:26,913]\u001b[0m Trial 102 finished with value: 0.8130829848825989 and parameters: {'lambda': 0.5769899944693895, 'alpha': 0.45467961292045694, 'colsample_bytree': 0.6372, 'subsample': 0.8440325006877332, 'learning_rate': 1.715, 'max_depth': 3, 'min_child_weight': 1, 'gamma': 4.555}. Best is trial 57 with value: 0.8149324541653264.\u001b[0m\n",
            "\u001b[32m[I 2022-10-08 11:43:50,674]\u001b[0m Trial 103 finished with value: 0.8130829848825989 and parameters: {'lambda': 0.596403912973499, 'alpha': 0.5085825448103517, 'colsample_bytree': 0.0465, 'subsample': 0.8801228979242379, 'learning_rate': 0.14, 'max_depth': 5, 'min_child_weight': 1, 'gamma': 8.6755}. Best is trial 57 with value: 0.8149324541653264.\u001b[0m\n",
            "\u001b[32m[I 2022-10-08 11:44:26,260]\u001b[0m Trial 100 finished with value: 0.8133644258604052 and parameters: {'lambda': 0.20969790704778413, 'alpha': 0.3911495996527551, 'colsample_bytree': 0.8782000000000001, 'subsample': 0.6136895022126477, 'learning_rate': 0.5760000000000001, 'max_depth': 12, 'min_child_weight': 2, 'gamma': 7.65}. Best is trial 57 with value: 0.8149324541653264.\u001b[0m\n",
            "\u001b[32m[I 2022-10-08 11:45:14,444]\u001b[0m Trial 105 finished with value: 0.8134046317143776 and parameters: {'lambda': 0.5439868461989574, 'alpha': 0.4675591157635859, 'colsample_bytree': 0.7528, 'subsample': 0.716100987250987, 'learning_rate': 4.197, 'max_depth': 6, 'min_child_weight': 1, 'gamma': 5.7895}. Best is trial 57 with value: 0.8149324541653264.\u001b[0m\n",
            "\u001b[32m[I 2022-10-08 11:45:27,934]\u001b[0m Trial 104 finished with value: 0.7852605339337407 and parameters: {'lambda': 0.5419166528485461, 'alpha': 0.5738390655475316, 'colsample_bytree': 0.0164, 'subsample': 0.7111975911501534, 'learning_rate': 2.157, 'max_depth': 6, 'min_child_weight': 2, 'gamma': 4.5025}. Best is trial 57 with value: 0.8149324541653264.\u001b[0m\n",
            "\u001b[32m[I 2022-10-08 11:46:41,465]\u001b[0m Trial 106 finished with value: 0.8051624316500482 and parameters: {'lambda': 0.6394318364063994, 'alpha': 0.5709972440861973, 'colsample_bytree': 0.20020000000000002, 'subsample': 0.976431002193966, 'learning_rate': 1.689, 'max_depth': 3, 'min_child_weight': 2, 'gamma': 3.384}. Best is trial 57 with value: 0.8149324541653264.\u001b[0m\n",
            "\u001b[32m[I 2022-10-08 11:47:52,150]\u001b[0m Trial 107 finished with value: 0.811193309745899 and parameters: {'lambda': 0.6864030219527893, 'alpha': 0.4967022919524509, 'colsample_bytree': 0.35050000000000003, 'subsample': 0.9998539146489855, 'learning_rate': 0.97, 'max_depth': 5, 'min_child_weight': 3, 'gamma': 4.743}. Best is trial 57 with value: 0.8149324541653264.\u001b[0m\n",
            "\u001b[32m[I 2022-10-08 11:48:16,902]\u001b[0m Trial 108 finished with value: 0.8076149887423609 and parameters: {'lambda': 0.4404507699232375, 'alpha': 0.21096659632182607, 'colsample_bytree': 0.0443, 'subsample': 0.9997103100041216, 'learning_rate': 0.845, 'max_depth': 5, 'min_child_weight': 1, 'gamma': 3.7925}. Best is trial 57 with value: 0.8149324541653264.\u001b[0m\n",
            "\u001b[32m[I 2022-10-08 11:48:45,818]\u001b[0m Trial 109 finished with value: 0.813806690254101 and parameters: {'lambda': 0.5012859245995392, 'alpha': 0.22015407899222805, 'colsample_bytree': 0.9244, 'subsample': 0.9507398439051872, 'learning_rate': 3.571, 'max_depth': 4, 'min_child_weight': 4, 'gamma': 1.5495}. Best is trial 57 with value: 0.8149324541653264.\u001b[0m\n"
          ]
        }
      ],
      "source": [
        "study = optuna.create_study(direction='maximize')\n",
        "study.optimize(objective, n_trials=350,\n",
        "               show_progress_bar=True, n_jobs=-1)"
      ]
    },
    {
      "cell_type": "code",
      "execution_count": null,
      "metadata": {
        "colab": {
          "base_uri": "https://localhost:8080/"
        },
        "id": "n2wkYZnZB9pX",
        "outputId": "175c0fe1-73e1-4ff8-c2a0-911bc6d7bf26"
      },
      "outputs": [
        {
          "name": "stdout",
          "output_type": "stream",
          "text": [
            "Number of finished trials: 200\n",
            "Best trial: {'lambda': 0.09661977140833634, 'alpha': 0.0029174956292215095, 'colsample_bytree': 0.5, 'subsample': 0.8844221105527639, 'learning_rate': 2.775, 'max_depth': 18, 'random_state': 2020, 'min_child_weight': 1}\n"
          ]
        }
      ],
      "source": [
        "print('Number of finished trials:', len(study.  trials))\n",
        "print('Best trial:', study.best_trial.params)"
      ]
    },
    {
      "cell_type": "code",
      "execution_count": null,
      "metadata": {
        "colab": {
          "base_uri": "https://localhost:8080/"
        },
        "id": "-Uw54mSveroz",
        "outputId": "e315f9ab-e1f0-4db1-b164-c1b75a4385e2"
      },
      "outputs": [
        {
          "data": {
            "text/plain": [
              "{'lambda': 0.09661977140833634,\n",
              " 'alpha': 0.0029174956292215095,\n",
              " 'colsample_bytree': 0.5,\n",
              " 'subsample': 0.8844221105527639,\n",
              " 'learning_rate': 2.775,\n",
              " 'max_depth': 18,\n",
              " 'random_state': 2020,\n",
              " 'min_child_weight': 1}"
            ]
          },
          "execution_count": 31,
          "metadata": {},
          "output_type": "execute_result"
        }
      ],
      "source": [
        "Best_trial = study.best_trial.params\n",
        "#Best_trial[\"n_estimators\"], Best_trial[\"tree_method\"] = 10000, 'gpu_hist'\n",
        "Best_trial"
      ]
    },
    {
      "cell_type": "markdown",
      "metadata": {
        "id": "vntVVGs93oNa"
      },
      "source": [
        "[I 2022-10-08 01:38:26,127] Trial 164 finished with value: 0.8160984239305242 and parameters: {'lambda': 0.7637303503539228, 'alpha': 0.4620079180566229, 'colsample_bytree': 0.9981000000000001, 'subsample': 0.6530581886736966, 'learning_rate': 0.022, 'max_depth': 5, 'random_state': 2020, 'min_child_weight': 8, 'gamma': 0.645}. Best is trial 164 with value: 0.8160984239305242.\n"
      ]
    },
    {
      "cell_type": "code",
      "execution_count": null,
      "metadata": {
        "colab": {
          "base_uri": "https://localhost:8080/"
        },
        "id": "c0IKUJN0ev4S",
        "outputId": "73ce7271-4648-4511-8a4e-15093ce76b8b"
      },
      "outputs": [
        {
          "data": {
            "text/plain": [
              "0.867165998622482"
            ]
          },
          "execution_count": 33,
          "metadata": {},
          "output_type": "execute_result"
        }
      ],
      "source": [
        "study.best_trial.value"
      ]
    },
    {
      "cell_type": "markdown",
      "metadata": {
        "id": "4uChz_X1KPkU"
      },
      "source": [
        "{'lambda': 0.09661977140833634,\n",
        " 'alpha': 0.0029174956292215095,\n",
        " 'colsample_bytree': 0.5,\n",
        " 'subsample': 0.8844221105527639,\n",
        " 'learning_rate': 2.775,\n",
        " 'max_depth': 18,\n",
        " 'random_state': 2020,\n",
        " 'min_child_weight': 1}"
      ]
    },
    {
      "cell_type": "code",
      "execution_count": null,
      "metadata": {
        "id": "tiEBqtOrKO54"
      },
      "outputs": [],
      "source": []
    }
  ],
  "metadata": {
    "colab": {
      "collapsed_sections": [],
      "provenance": []
    },
    "kernelspec": {
      "display_name": "Python 3",
      "language": "python",
      "name": "python3"
    },
    "language_info": {
      "name": "python",
      "version": "3.10.8 (tags/v3.10.8:aaaf517, Oct 11 2022, 16:50:30) [MSC v.1933 64 bit (AMD64)]"
    },
    "vscode": {
      "interpreter": {
        "hash": "45879d230168c0f99490795f212aabeb04dcc296805bce819b639e63c44b3aed"
      }
    },
    "widgets": {
      "application/vnd.jupyter.widget-state+json": {
        "0736410b21ca49b3b0a3da511d3acf82": {
          "model_module": "@jupyter-widgets/controls",
          "model_module_version": "1.5.0",
          "model_name": "ProgressStyleModel",
          "state": {
            "_model_module": "@jupyter-widgets/controls",
            "_model_module_version": "1.5.0",
            "_model_name": "ProgressStyleModel",
            "_view_count": null,
            "_view_module": "@jupyter-widgets/base",
            "_view_module_version": "1.2.0",
            "_view_name": "StyleView",
            "bar_color": null,
            "description_width": ""
          }
        },
        "07a570a78fd6435aafdeb358a985a4e0": {
          "model_module": "@jupyter-widgets/controls",
          "model_module_version": "1.5.0",
          "model_name": "HTMLModel",
          "state": {
            "_dom_classes": [],
            "_model_module": "@jupyter-widgets/controls",
            "_model_module_version": "1.5.0",
            "_model_name": "HTMLModel",
            "_view_count": null,
            "_view_module": "@jupyter-widgets/controls",
            "_view_module_version": "1.5.0",
            "_view_name": "HTMLView",
            "description": "",
            "description_tooltip": null,
            "layout": "IPY_MODEL_9bb07c2afa3141cca9ce1e25671c3e29",
            "placeholder": "​",
            "style": "IPY_MODEL_1f83bfb41f6a46dab1ff325231ea4689",
            "value": " 21%"
          }
        },
        "1484e003e24847d693ea4708c2d1e1d2": {
          "model_module": "@jupyter-widgets/base",
          "model_module_version": "1.2.0",
          "model_name": "LayoutModel",
          "state": {
            "_model_module": "@jupyter-widgets/base",
            "_model_module_version": "1.2.0",
            "_model_name": "LayoutModel",
            "_view_count": null,
            "_view_module": "@jupyter-widgets/base",
            "_view_module_version": "1.2.0",
            "_view_name": "LayoutView",
            "align_content": null,
            "align_items": null,
            "align_self": null,
            "border": null,
            "bottom": null,
            "display": null,
            "flex": null,
            "flex_flow": null,
            "grid_area": null,
            "grid_auto_columns": null,
            "grid_auto_flow": null,
            "grid_auto_rows": null,
            "grid_column": null,
            "grid_gap": null,
            "grid_row": null,
            "grid_template_areas": null,
            "grid_template_columns": null,
            "grid_template_rows": null,
            "height": null,
            "justify_content": null,
            "justify_items": null,
            "left": null,
            "margin": null,
            "max_height": null,
            "max_width": null,
            "min_height": null,
            "min_width": null,
            "object_fit": null,
            "object_position": null,
            "order": null,
            "overflow": null,
            "overflow_x": null,
            "overflow_y": null,
            "padding": null,
            "right": null,
            "top": null,
            "visibility": null,
            "width": null
          }
        },
        "1f83bfb41f6a46dab1ff325231ea4689": {
          "model_module": "@jupyter-widgets/controls",
          "model_module_version": "1.5.0",
          "model_name": "DescriptionStyleModel",
          "state": {
            "_model_module": "@jupyter-widgets/controls",
            "_model_module_version": "1.5.0",
            "_model_name": "DescriptionStyleModel",
            "_view_count": null,
            "_view_module": "@jupyter-widgets/base",
            "_view_module_version": "1.2.0",
            "_view_name": "StyleView",
            "description_width": ""
          }
        },
        "2356df6fcbe84384b0c087c1b6e756c7": {
          "model_module": "@jupyter-widgets/controls",
          "model_module_version": "1.5.0",
          "model_name": "ProgressStyleModel",
          "state": {
            "_model_module": "@jupyter-widgets/controls",
            "_model_module_version": "1.5.0",
            "_model_name": "ProgressStyleModel",
            "_view_count": null,
            "_view_module": "@jupyter-widgets/base",
            "_view_module_version": "1.2.0",
            "_view_name": "StyleView",
            "bar_color": null,
            "description_width": ""
          }
        },
        "28ab4dca359d434eadcb52d1c28f4d71": {
          "model_module": "@jupyter-widgets/base",
          "model_module_version": "1.2.0",
          "model_name": "LayoutModel",
          "state": {
            "_model_module": "@jupyter-widgets/base",
            "_model_module_version": "1.2.0",
            "_model_name": "LayoutModel",
            "_view_count": null,
            "_view_module": "@jupyter-widgets/base",
            "_view_module_version": "1.2.0",
            "_view_name": "LayoutView",
            "align_content": null,
            "align_items": null,
            "align_self": null,
            "border": null,
            "bottom": null,
            "display": null,
            "flex": null,
            "flex_flow": null,
            "grid_area": null,
            "grid_auto_columns": null,
            "grid_auto_flow": null,
            "grid_auto_rows": null,
            "grid_column": null,
            "grid_gap": null,
            "grid_row": null,
            "grid_template_areas": null,
            "grid_template_columns": null,
            "grid_template_rows": null,
            "height": null,
            "justify_content": null,
            "justify_items": null,
            "left": null,
            "margin": null,
            "max_height": null,
            "max_width": null,
            "min_height": null,
            "min_width": null,
            "object_fit": null,
            "object_position": null,
            "order": null,
            "overflow": null,
            "overflow_x": null,
            "overflow_y": null,
            "padding": null,
            "right": null,
            "top": null,
            "visibility": null,
            "width": null
          }
        },
        "29937739e32d4e888f6c7f12729d4d14": {
          "model_module": "@jupyter-widgets/base",
          "model_module_version": "1.2.0",
          "model_name": "LayoutModel",
          "state": {
            "_model_module": "@jupyter-widgets/base",
            "_model_module_version": "1.2.0",
            "_model_name": "LayoutModel",
            "_view_count": null,
            "_view_module": "@jupyter-widgets/base",
            "_view_module_version": "1.2.0",
            "_view_name": "LayoutView",
            "align_content": null,
            "align_items": null,
            "align_self": null,
            "border": null,
            "bottom": null,
            "display": null,
            "flex": null,
            "flex_flow": null,
            "grid_area": null,
            "grid_auto_columns": null,
            "grid_auto_flow": null,
            "grid_auto_rows": null,
            "grid_column": null,
            "grid_gap": null,
            "grid_row": null,
            "grid_template_areas": null,
            "grid_template_columns": null,
            "grid_template_rows": null,
            "height": null,
            "justify_content": null,
            "justify_items": null,
            "left": null,
            "margin": null,
            "max_height": null,
            "max_width": null,
            "min_height": null,
            "min_width": null,
            "object_fit": null,
            "object_position": null,
            "order": null,
            "overflow": null,
            "overflow_x": null,
            "overflow_y": null,
            "padding": null,
            "right": null,
            "top": null,
            "visibility": null,
            "width": null
          }
        },
        "2c0670ee6bf040eda7ceb3092cc3e49c": {
          "model_module": "@jupyter-widgets/controls",
          "model_module_version": "1.5.0",
          "model_name": "FloatProgressModel",
          "state": {
            "_dom_classes": [],
            "_model_module": "@jupyter-widgets/controls",
            "_model_module_version": "1.5.0",
            "_model_name": "FloatProgressModel",
            "_view_count": null,
            "_view_module": "@jupyter-widgets/controls",
            "_view_module_version": "1.5.0",
            "_view_name": "ProgressView",
            "bar_style": "success",
            "description": "",
            "description_tooltip": null,
            "layout": "IPY_MODEL_29937739e32d4e888f6c7f12729d4d14",
            "max": 350,
            "min": 0,
            "orientation": "horizontal",
            "style": "IPY_MODEL_0736410b21ca49b3b0a3da511d3acf82",
            "value": 350
          }
        },
        "3a0244302c2e46ba9cc216aa4e4c89c2": {
          "model_module": "@jupyter-widgets/controls",
          "model_module_version": "1.5.0",
          "model_name": "HTMLModel",
          "state": {
            "_dom_classes": [],
            "_model_module": "@jupyter-widgets/controls",
            "_model_module_version": "1.5.0",
            "_model_name": "HTMLModel",
            "_view_count": null,
            "_view_module": "@jupyter-widgets/controls",
            "_view_module_version": "1.5.0",
            "_view_name": "HTMLView",
            "description": "",
            "description_tooltip": null,
            "layout": "IPY_MODEL_4c572d0eb1ca41eba5ef6d8445a1fa39",
            "placeholder": "​",
            "style": "IPY_MODEL_f2ce3d6f76b746bb83c5068c2a843d88",
            "value": "100%"
          }
        },
        "3f37c339979741319748c395f6a5af3f": {
          "model_module": "@jupyter-widgets/controls",
          "model_module_version": "1.5.0",
          "model_name": "HTMLModel",
          "state": {
            "_dom_classes": [],
            "_model_module": "@jupyter-widgets/controls",
            "_model_module_version": "1.5.0",
            "_model_name": "HTMLModel",
            "_view_count": null,
            "_view_module": "@jupyter-widgets/controls",
            "_view_module_version": "1.5.0",
            "_view_name": "HTMLView",
            "description": "",
            "description_tooltip": null,
            "layout": "IPY_MODEL_cb2d751de89d404fb42482e8312fa24e",
            "placeholder": "​",
            "style": "IPY_MODEL_e0b74cf2fd354a1dab1c2caab441ad6c",
            "value": "100%"
          }
        },
        "4c572d0eb1ca41eba5ef6d8445a1fa39": {
          "model_module": "@jupyter-widgets/base",
          "model_module_version": "1.2.0",
          "model_name": "LayoutModel",
          "state": {
            "_model_module": "@jupyter-widgets/base",
            "_model_module_version": "1.2.0",
            "_model_name": "LayoutModel",
            "_view_count": null,
            "_view_module": "@jupyter-widgets/base",
            "_view_module_version": "1.2.0",
            "_view_name": "LayoutView",
            "align_content": null,
            "align_items": null,
            "align_self": null,
            "border": null,
            "bottom": null,
            "display": null,
            "flex": null,
            "flex_flow": null,
            "grid_area": null,
            "grid_auto_columns": null,
            "grid_auto_flow": null,
            "grid_auto_rows": null,
            "grid_column": null,
            "grid_gap": null,
            "grid_row": null,
            "grid_template_areas": null,
            "grid_template_columns": null,
            "grid_template_rows": null,
            "height": null,
            "justify_content": null,
            "justify_items": null,
            "left": null,
            "margin": null,
            "max_height": null,
            "max_width": null,
            "min_height": null,
            "min_width": null,
            "object_fit": null,
            "object_position": null,
            "order": null,
            "overflow": null,
            "overflow_x": null,
            "overflow_y": null,
            "padding": null,
            "right": null,
            "top": null,
            "visibility": null,
            "width": null
          }
        },
        "53a504a0e11b4fef82ad57328dbcfdb4": {
          "model_module": "@jupyter-widgets/controls",
          "model_module_version": "1.5.0",
          "model_name": "DescriptionStyleModel",
          "state": {
            "_model_module": "@jupyter-widgets/controls",
            "_model_module_version": "1.5.0",
            "_model_name": "DescriptionStyleModel",
            "_view_count": null,
            "_view_module": "@jupyter-widgets/base",
            "_view_module_version": "1.2.0",
            "_view_name": "StyleView",
            "description_width": ""
          }
        },
        "64077c36481743088271a5ef6eaed97a": {
          "model_module": "@jupyter-widgets/controls",
          "model_module_version": "1.5.0",
          "model_name": "HTMLModel",
          "state": {
            "_dom_classes": [],
            "_model_module": "@jupyter-widgets/controls",
            "_model_module_version": "1.5.0",
            "_model_name": "HTMLModel",
            "_view_count": null,
            "_view_module": "@jupyter-widgets/controls",
            "_view_module_version": "1.5.0",
            "_view_name": "HTMLView",
            "description": "",
            "description_tooltip": null,
            "layout": "IPY_MODEL_28ab4dca359d434eadcb52d1c28f4d71",
            "placeholder": "​",
            "style": "IPY_MODEL_6c721f8af0f44ca4ba7a7ad506938beb",
            "value": " 73/350 [1:24:49&lt;4:22:01, 56.75s/it]"
          }
        },
        "6c721f8af0f44ca4ba7a7ad506938beb": {
          "model_module": "@jupyter-widgets/controls",
          "model_module_version": "1.5.0",
          "model_name": "DescriptionStyleModel",
          "state": {
            "_model_module": "@jupyter-widgets/controls",
            "_model_module_version": "1.5.0",
            "_model_name": "DescriptionStyleModel",
            "_view_count": null,
            "_view_module": "@jupyter-widgets/base",
            "_view_module_version": "1.2.0",
            "_view_name": "StyleView",
            "description_width": ""
          }
        },
        "862f42e762ae4360a1b44cc43082183b": {
          "model_module": "@jupyter-widgets/base",
          "model_module_version": "1.2.0",
          "model_name": "LayoutModel",
          "state": {
            "_model_module": "@jupyter-widgets/base",
            "_model_module_version": "1.2.0",
            "_model_name": "LayoutModel",
            "_view_count": null,
            "_view_module": "@jupyter-widgets/base",
            "_view_module_version": "1.2.0",
            "_view_name": "LayoutView",
            "align_content": null,
            "align_items": null,
            "align_self": null,
            "border": null,
            "bottom": null,
            "display": null,
            "flex": null,
            "flex_flow": null,
            "grid_area": null,
            "grid_auto_columns": null,
            "grid_auto_flow": null,
            "grid_auto_rows": null,
            "grid_column": null,
            "grid_gap": null,
            "grid_row": null,
            "grid_template_areas": null,
            "grid_template_columns": null,
            "grid_template_rows": null,
            "height": null,
            "justify_content": null,
            "justify_items": null,
            "left": null,
            "margin": null,
            "max_height": null,
            "max_width": null,
            "min_height": null,
            "min_width": null,
            "object_fit": null,
            "object_position": null,
            "order": null,
            "overflow": null,
            "overflow_x": null,
            "overflow_y": null,
            "padding": null,
            "right": null,
            "top": null,
            "visibility": null,
            "width": null
          }
        },
        "89ac364e5c16460c8bc3404ded714a18": {
          "model_module": "@jupyter-widgets/base",
          "model_module_version": "1.2.0",
          "model_name": "LayoutModel",
          "state": {
            "_model_module": "@jupyter-widgets/base",
            "_model_module_version": "1.2.0",
            "_model_name": "LayoutModel",
            "_view_count": null,
            "_view_module": "@jupyter-widgets/base",
            "_view_module_version": "1.2.0",
            "_view_name": "LayoutView",
            "align_content": null,
            "align_items": null,
            "align_self": null,
            "border": null,
            "bottom": null,
            "display": null,
            "flex": null,
            "flex_flow": null,
            "grid_area": null,
            "grid_auto_columns": null,
            "grid_auto_flow": null,
            "grid_auto_rows": null,
            "grid_column": null,
            "grid_gap": null,
            "grid_row": null,
            "grid_template_areas": null,
            "grid_template_columns": null,
            "grid_template_rows": null,
            "height": null,
            "justify_content": null,
            "justify_items": null,
            "left": null,
            "margin": null,
            "max_height": null,
            "max_width": null,
            "min_height": null,
            "min_width": null,
            "object_fit": null,
            "object_position": null,
            "order": null,
            "overflow": null,
            "overflow_x": null,
            "overflow_y": null,
            "padding": null,
            "right": null,
            "top": null,
            "visibility": null,
            "width": null
          }
        },
        "8afb30575fd24b5aa90cfc882a20fcd0": {
          "model_module": "@jupyter-widgets/base",
          "model_module_version": "1.2.0",
          "model_name": "LayoutModel",
          "state": {
            "_model_module": "@jupyter-widgets/base",
            "_model_module_version": "1.2.0",
            "_model_name": "LayoutModel",
            "_view_count": null,
            "_view_module": "@jupyter-widgets/base",
            "_view_module_version": "1.2.0",
            "_view_name": "LayoutView",
            "align_content": null,
            "align_items": null,
            "align_self": null,
            "border": null,
            "bottom": null,
            "display": null,
            "flex": null,
            "flex_flow": null,
            "grid_area": null,
            "grid_auto_columns": null,
            "grid_auto_flow": null,
            "grid_auto_rows": null,
            "grid_column": null,
            "grid_gap": null,
            "grid_row": null,
            "grid_template_areas": null,
            "grid_template_columns": null,
            "grid_template_rows": null,
            "height": null,
            "justify_content": null,
            "justify_items": null,
            "left": null,
            "margin": null,
            "max_height": null,
            "max_width": null,
            "min_height": null,
            "min_width": null,
            "object_fit": null,
            "object_position": null,
            "order": null,
            "overflow": null,
            "overflow_x": null,
            "overflow_y": null,
            "padding": null,
            "right": null,
            "top": null,
            "visibility": null,
            "width": null
          }
        },
        "8b27eed79f064739b80724d77d070095": {
          "model_module": "@jupyter-widgets/base",
          "model_module_version": "1.2.0",
          "model_name": "LayoutModel",
          "state": {
            "_model_module": "@jupyter-widgets/base",
            "_model_module_version": "1.2.0",
            "_model_name": "LayoutModel",
            "_view_count": null,
            "_view_module": "@jupyter-widgets/base",
            "_view_module_version": "1.2.0",
            "_view_name": "LayoutView",
            "align_content": null,
            "align_items": null,
            "align_self": null,
            "border": null,
            "bottom": null,
            "display": null,
            "flex": null,
            "flex_flow": null,
            "grid_area": null,
            "grid_auto_columns": null,
            "grid_auto_flow": null,
            "grid_auto_rows": null,
            "grid_column": null,
            "grid_gap": null,
            "grid_row": null,
            "grid_template_areas": null,
            "grid_template_columns": null,
            "grid_template_rows": null,
            "height": null,
            "justify_content": null,
            "justify_items": null,
            "left": null,
            "margin": null,
            "max_height": null,
            "max_width": null,
            "min_height": null,
            "min_width": null,
            "object_fit": null,
            "object_position": null,
            "order": null,
            "overflow": null,
            "overflow_x": null,
            "overflow_y": null,
            "padding": null,
            "right": null,
            "top": null,
            "visibility": null,
            "width": null
          }
        },
        "8cdca399abdd40a4a2aaaa7094025d1f": {
          "model_module": "@jupyter-widgets/controls",
          "model_module_version": "1.5.0",
          "model_name": "FloatProgressModel",
          "state": {
            "_dom_classes": [],
            "_model_module": "@jupyter-widgets/controls",
            "_model_module_version": "1.5.0",
            "_model_name": "FloatProgressModel",
            "_view_count": null,
            "_view_module": "@jupyter-widgets/controls",
            "_view_module_version": "1.5.0",
            "_view_name": "ProgressView",
            "bar_style": "success",
            "description": "",
            "description_tooltip": null,
            "layout": "IPY_MODEL_89ac364e5c16460c8bc3404ded714a18",
            "max": 350,
            "min": 0,
            "orientation": "horizontal",
            "style": "IPY_MODEL_2356df6fcbe84384b0c087c1b6e756c7",
            "value": 350
          }
        },
        "8e9db369aeef44e79649655b21b6454e": {
          "model_module": "@jupyter-widgets/controls",
          "model_module_version": "1.5.0",
          "model_name": "FloatProgressModel",
          "state": {
            "_dom_classes": [],
            "_model_module": "@jupyter-widgets/controls",
            "_model_module_version": "1.5.0",
            "_model_name": "FloatProgressModel",
            "_view_count": null,
            "_view_module": "@jupyter-widgets/controls",
            "_view_module_version": "1.5.0",
            "_view_name": "ProgressView",
            "bar_style": "",
            "description": "",
            "description_tooltip": null,
            "layout": "IPY_MODEL_e8dd30e30311437185219a96c87137ae",
            "max": 350,
            "min": 0,
            "orientation": "horizontal",
            "style": "IPY_MODEL_9f2db5fda13841e0bfb33556ebe3a79b",
            "value": 73
          }
        },
        "954f36e7cc3f4c54bdc2334636798307": {
          "model_module": "@jupyter-widgets/controls",
          "model_module_version": "1.5.0",
          "model_name": "DescriptionStyleModel",
          "state": {
            "_model_module": "@jupyter-widgets/controls",
            "_model_module_version": "1.5.0",
            "_model_name": "DescriptionStyleModel",
            "_view_count": null,
            "_view_module": "@jupyter-widgets/base",
            "_view_module_version": "1.2.0",
            "_view_name": "StyleView",
            "description_width": ""
          }
        },
        "9bb07c2afa3141cca9ce1e25671c3e29": {
          "model_module": "@jupyter-widgets/base",
          "model_module_version": "1.2.0",
          "model_name": "LayoutModel",
          "state": {
            "_model_module": "@jupyter-widgets/base",
            "_model_module_version": "1.2.0",
            "_model_name": "LayoutModel",
            "_view_count": null,
            "_view_module": "@jupyter-widgets/base",
            "_view_module_version": "1.2.0",
            "_view_name": "LayoutView",
            "align_content": null,
            "align_items": null,
            "align_self": null,
            "border": null,
            "bottom": null,
            "display": null,
            "flex": null,
            "flex_flow": null,
            "grid_area": null,
            "grid_auto_columns": null,
            "grid_auto_flow": null,
            "grid_auto_rows": null,
            "grid_column": null,
            "grid_gap": null,
            "grid_row": null,
            "grid_template_areas": null,
            "grid_template_columns": null,
            "grid_template_rows": null,
            "height": null,
            "justify_content": null,
            "justify_items": null,
            "left": null,
            "margin": null,
            "max_height": null,
            "max_width": null,
            "min_height": null,
            "min_width": null,
            "object_fit": null,
            "object_position": null,
            "order": null,
            "overflow": null,
            "overflow_x": null,
            "overflow_y": null,
            "padding": null,
            "right": null,
            "top": null,
            "visibility": null,
            "width": null
          }
        },
        "9f2db5fda13841e0bfb33556ebe3a79b": {
          "model_module": "@jupyter-widgets/controls",
          "model_module_version": "1.5.0",
          "model_name": "ProgressStyleModel",
          "state": {
            "_model_module": "@jupyter-widgets/controls",
            "_model_module_version": "1.5.0",
            "_model_name": "ProgressStyleModel",
            "_view_count": null,
            "_view_module": "@jupyter-widgets/base",
            "_view_module_version": "1.2.0",
            "_view_name": "StyleView",
            "bar_color": null,
            "description_width": ""
          }
        },
        "af353b0eeeac45a8babd2e4022bd1d85": {
          "model_module": "@jupyter-widgets/controls",
          "model_module_version": "1.5.0",
          "model_name": "HTMLModel",
          "state": {
            "_dom_classes": [],
            "_model_module": "@jupyter-widgets/controls",
            "_model_module_version": "1.5.0",
            "_model_name": "HTMLModel",
            "_view_count": null,
            "_view_module": "@jupyter-widgets/controls",
            "_view_module_version": "1.5.0",
            "_view_name": "HTMLView",
            "description": "",
            "description_tooltip": null,
            "layout": "IPY_MODEL_862f42e762ae4360a1b44cc43082183b",
            "placeholder": "​",
            "style": "IPY_MODEL_954f36e7cc3f4c54bdc2334636798307",
            "value": " 350/350 [28:54&lt;00:00,  2.76s/it]"
          }
        },
        "c95a053a5a22426b9fa272de5b821d27": {
          "model_module": "@jupyter-widgets/controls",
          "model_module_version": "1.5.0",
          "model_name": "HTMLModel",
          "state": {
            "_dom_classes": [],
            "_model_module": "@jupyter-widgets/controls",
            "_model_module_version": "1.5.0",
            "_model_name": "HTMLModel",
            "_view_count": null,
            "_view_module": "@jupyter-widgets/controls",
            "_view_module_version": "1.5.0",
            "_view_name": "HTMLView",
            "description": "",
            "description_tooltip": null,
            "layout": "IPY_MODEL_1484e003e24847d693ea4708c2d1e1d2",
            "placeholder": "​",
            "style": "IPY_MODEL_53a504a0e11b4fef82ad57328dbcfdb4",
            "value": " 350/350 [6:26:12&lt;00:00, 46.85s/it]"
          }
        },
        "cb2d751de89d404fb42482e8312fa24e": {
          "model_module": "@jupyter-widgets/base",
          "model_module_version": "1.2.0",
          "model_name": "LayoutModel",
          "state": {
            "_model_module": "@jupyter-widgets/base",
            "_model_module_version": "1.2.0",
            "_model_name": "LayoutModel",
            "_view_count": null,
            "_view_module": "@jupyter-widgets/base",
            "_view_module_version": "1.2.0",
            "_view_name": "LayoutView",
            "align_content": null,
            "align_items": null,
            "align_self": null,
            "border": null,
            "bottom": null,
            "display": null,
            "flex": null,
            "flex_flow": null,
            "grid_area": null,
            "grid_auto_columns": null,
            "grid_auto_flow": null,
            "grid_auto_rows": null,
            "grid_column": null,
            "grid_gap": null,
            "grid_row": null,
            "grid_template_areas": null,
            "grid_template_columns": null,
            "grid_template_rows": null,
            "height": null,
            "justify_content": null,
            "justify_items": null,
            "left": null,
            "margin": null,
            "max_height": null,
            "max_width": null,
            "min_height": null,
            "min_width": null,
            "object_fit": null,
            "object_position": null,
            "order": null,
            "overflow": null,
            "overflow_x": null,
            "overflow_y": null,
            "padding": null,
            "right": null,
            "top": null,
            "visibility": null,
            "width": null
          }
        },
        "e0b74cf2fd354a1dab1c2caab441ad6c": {
          "model_module": "@jupyter-widgets/controls",
          "model_module_version": "1.5.0",
          "model_name": "DescriptionStyleModel",
          "state": {
            "_model_module": "@jupyter-widgets/controls",
            "_model_module_version": "1.5.0",
            "_model_name": "DescriptionStyleModel",
            "_view_count": null,
            "_view_module": "@jupyter-widgets/base",
            "_view_module_version": "1.2.0",
            "_view_name": "StyleView",
            "description_width": ""
          }
        },
        "e1f30f07ae454ca6a305e6b3f0365a32": {
          "model_module": "@jupyter-widgets/controls",
          "model_module_version": "1.5.0",
          "model_name": "HBoxModel",
          "state": {
            "_dom_classes": [],
            "_model_module": "@jupyter-widgets/controls",
            "_model_module_version": "1.5.0",
            "_model_name": "HBoxModel",
            "_view_count": null,
            "_view_module": "@jupyter-widgets/controls",
            "_view_module_version": "1.5.0",
            "_view_name": "HBoxView",
            "box_style": "",
            "children": [
              "IPY_MODEL_3f37c339979741319748c395f6a5af3f",
              "IPY_MODEL_8cdca399abdd40a4a2aaaa7094025d1f",
              "IPY_MODEL_af353b0eeeac45a8babd2e4022bd1d85"
            ],
            "layout": "IPY_MODEL_e2d85f4df08b485ab40de720a076b745"
          }
        },
        "e2d85f4df08b485ab40de720a076b745": {
          "model_module": "@jupyter-widgets/base",
          "model_module_version": "1.2.0",
          "model_name": "LayoutModel",
          "state": {
            "_model_module": "@jupyter-widgets/base",
            "_model_module_version": "1.2.0",
            "_model_name": "LayoutModel",
            "_view_count": null,
            "_view_module": "@jupyter-widgets/base",
            "_view_module_version": "1.2.0",
            "_view_name": "LayoutView",
            "align_content": null,
            "align_items": null,
            "align_self": null,
            "border": null,
            "bottom": null,
            "display": null,
            "flex": null,
            "flex_flow": null,
            "grid_area": null,
            "grid_auto_columns": null,
            "grid_auto_flow": null,
            "grid_auto_rows": null,
            "grid_column": null,
            "grid_gap": null,
            "grid_row": null,
            "grid_template_areas": null,
            "grid_template_columns": null,
            "grid_template_rows": null,
            "height": null,
            "justify_content": null,
            "justify_items": null,
            "left": null,
            "margin": null,
            "max_height": null,
            "max_width": null,
            "min_height": null,
            "min_width": null,
            "object_fit": null,
            "object_position": null,
            "order": null,
            "overflow": null,
            "overflow_x": null,
            "overflow_y": null,
            "padding": null,
            "right": null,
            "top": null,
            "visibility": null,
            "width": null
          }
        },
        "e8dd30e30311437185219a96c87137ae": {
          "model_module": "@jupyter-widgets/base",
          "model_module_version": "1.2.0",
          "model_name": "LayoutModel",
          "state": {
            "_model_module": "@jupyter-widgets/base",
            "_model_module_version": "1.2.0",
            "_model_name": "LayoutModel",
            "_view_count": null,
            "_view_module": "@jupyter-widgets/base",
            "_view_module_version": "1.2.0",
            "_view_name": "LayoutView",
            "align_content": null,
            "align_items": null,
            "align_self": null,
            "border": null,
            "bottom": null,
            "display": null,
            "flex": null,
            "flex_flow": null,
            "grid_area": null,
            "grid_auto_columns": null,
            "grid_auto_flow": null,
            "grid_auto_rows": null,
            "grid_column": null,
            "grid_gap": null,
            "grid_row": null,
            "grid_template_areas": null,
            "grid_template_columns": null,
            "grid_template_rows": null,
            "height": null,
            "justify_content": null,
            "justify_items": null,
            "left": null,
            "margin": null,
            "max_height": null,
            "max_width": null,
            "min_height": null,
            "min_width": null,
            "object_fit": null,
            "object_position": null,
            "order": null,
            "overflow": null,
            "overflow_x": null,
            "overflow_y": null,
            "padding": null,
            "right": null,
            "top": null,
            "visibility": null,
            "width": null
          }
        },
        "f2ce3d6f76b746bb83c5068c2a843d88": {
          "model_module": "@jupyter-widgets/controls",
          "model_module_version": "1.5.0",
          "model_name": "DescriptionStyleModel",
          "state": {
            "_model_module": "@jupyter-widgets/controls",
            "_model_module_version": "1.5.0",
            "_model_name": "DescriptionStyleModel",
            "_view_count": null,
            "_view_module": "@jupyter-widgets/base",
            "_view_module_version": "1.2.0",
            "_view_name": "StyleView",
            "description_width": ""
          }
        },
        "f30d2be82e6a4707a0fe77d794ec7f00": {
          "model_module": "@jupyter-widgets/controls",
          "model_module_version": "1.5.0",
          "model_name": "HBoxModel",
          "state": {
            "_dom_classes": [],
            "_model_module": "@jupyter-widgets/controls",
            "_model_module_version": "1.5.0",
            "_model_name": "HBoxModel",
            "_view_count": null,
            "_view_module": "@jupyter-widgets/controls",
            "_view_module_version": "1.5.0",
            "_view_name": "HBoxView",
            "box_style": "",
            "children": [
              "IPY_MODEL_07a570a78fd6435aafdeb358a985a4e0",
              "IPY_MODEL_8e9db369aeef44e79649655b21b6454e",
              "IPY_MODEL_64077c36481743088271a5ef6eaed97a"
            ],
            "layout": "IPY_MODEL_8afb30575fd24b5aa90cfc882a20fcd0"
          }
        },
        "f3cfee96e06e41558d947c7043d13b6f": {
          "model_module": "@jupyter-widgets/controls",
          "model_module_version": "1.5.0",
          "model_name": "HBoxModel",
          "state": {
            "_dom_classes": [],
            "_model_module": "@jupyter-widgets/controls",
            "_model_module_version": "1.5.0",
            "_model_name": "HBoxModel",
            "_view_count": null,
            "_view_module": "@jupyter-widgets/controls",
            "_view_module_version": "1.5.0",
            "_view_name": "HBoxView",
            "box_style": "",
            "children": [
              "IPY_MODEL_3a0244302c2e46ba9cc216aa4e4c89c2",
              "IPY_MODEL_2c0670ee6bf040eda7ceb3092cc3e49c",
              "IPY_MODEL_c95a053a5a22426b9fa272de5b821d27"
            ],
            "layout": "IPY_MODEL_8b27eed79f064739b80724d77d070095"
          }
        }
      }
    }
  },
  "nbformat": 4,
  "nbformat_minor": 0
}
