{
  "nbformat": 4,
  "nbformat_minor": 0,
  "metadata": {
    "colab": {
      "provenance": []
    },
    "kernelspec": {
      "name": "python3",
      "display_name": "Python 3"
    },
    "language_info": {
      "name": "python"
    }
  },
  "cells": [
    {
      "cell_type": "code",
      "execution_count": 23,
      "metadata": {
        "id": "TdurUNyNpre3"
      },
      "outputs": [],
      "source": [
        "from sklearn.datasets import load_iris\n",
        "from sklearn.model_selection import train_test_split\n",
        "from sklearn.preprocessing import StandardScaler\n",
        "from sklearn.decomposition import PCA\n",
        "from sklearn.pipeline import Pipeline\n",
        "from sklearn.linear_model import LogisticRegression\n",
        "from sklearn.neighbors import KNeighborsClassifier\n",
        "from sklearn.tree import DecisionTreeClassifier\n",
        "from sklearn import svm\n",
        "from sklearn.model_selection import GridSearchCV\n",
        "from sklearn.pipeline import make_pipeline\n",
        "from sklearn.ensemble import RandomForestClassifier"
      ]
    },
    {
      "cell_type": "code",
      "source": [
        "iris_df=load_iris()"
      ],
      "metadata": {
        "id": "Genninq4srkX"
      },
      "execution_count": 24,
      "outputs": []
    },
    {
      "cell_type": "code",
      "source": [
        "X_train,X_test,y_train,y_test=train_test_split(iris_df.data,iris_df.target,test_size=0.3,random_state=0)\n"
      ],
      "metadata": {
        "id": "legkG4mqsuYv"
      },
      "execution_count": 25,
      "outputs": []
    },
    {
      "cell_type": "code",
      "source": [
        "pipeline_lr=Pipeline([('scalar1',StandardScaler()),\n",
        "                     ('pca1',PCA(n_components=2)),\n",
        "                      ('lr_classifier',LogisticRegression(random_state=0))])"
      ],
      "metadata": {
        "id": "HjvVkPY4swoT"
      },
      "execution_count": 26,
      "outputs": []
    },
    {
      "cell_type": "code",
      "source": [
        "model = pipeline_lr.fit(X_train, y_train)\n",
        "model.score(X_test,y_test)"
      ],
      "metadata": {
        "colab": {
          "base_uri": "https://localhost:8080/"
        },
        "id": "m--F3mfgs541",
        "outputId": "4bf863c6-da3c-4869-85e2-96f7c529aa19"
      },
      "execution_count": 27,
      "outputs": [
        {
          "output_type": "execute_result",
          "data": {
            "text/plain": [
              "0.8666666666666667"
            ]
          },
          "metadata": {},
          "execution_count": 27
        }
      ]
    },
    {
      "cell_type": "code",
      "source": [
        "#('imputer', SimpleImputer(strategy='most_frequent')) #filling missing values\n",
        "\n",
        "#('onehot', OneHotEncoder(handle_unknown='ignore'))    #convert categorical "
      ],
      "metadata": {
        "id": "QFO00sZut4Pa"
      },
      "execution_count": 28,
      "outputs": []
    },
    {
      "cell_type": "code",
      "source": [
        "pipeline_lr=Pipeline([('scalar1',StandardScaler()),\n",
        "                     ('pca1',PCA(n_components=2)), \n",
        "                     ('lr_classifier',LogisticRegression())])\n",
        "pipeline_dt=Pipeline([('scalar2',StandardScaler()),\n",
        "                     ('pca2',PCA(n_components=2)),\n",
        "                     ('dt_classifier',DecisionTreeClassifier())])\n",
        "pipeline_svm = Pipeline([('scalar3', StandardScaler()),\n",
        "                      ('pca3', PCA(n_components=2)),\n",
        "                      ('clf', svm.SVC())])\n",
        "pipeline_knn=Pipeline([('scalar4',StandardScaler()),\n",
        "                     ('pca4',PCA(n_components=2)),\n",
        "                     ('knn_classifier',KNeighborsClassifier())])\n"
      ],
      "metadata": {
        "id": "PiekQ3ZfuF3p"
      },
      "execution_count": 29,
      "outputs": []
    },
    {
      "cell_type": "code",
      "source": [
        "pipelines = [pipeline_lr, pipeline_dt, pipeline_svm, pipeline_knn]"
      ],
      "metadata": {
        "id": "NQVS_8NCuaGv"
      },
      "execution_count": 30,
      "outputs": []
    },
    {
      "cell_type": "code",
      "source": [
        "pipe_dict = {0: 'Logistic Regression', 1: 'Decision Tree', 2: 'Support Vector Machine',3:'K Nearest Neighbor'}"
      ],
      "metadata": {
        "id": "d79nLQrXu7bm"
      },
      "execution_count": 31,
      "outputs": []
    },
    {
      "cell_type": "code",
      "source": [
        "for pipe in pipelines:\n",
        "  pipe.fit(X_train, y_train)\n",
        "for i,model in enumerate(pipelines):\n",
        "    print(\"{} Test Accuracy:{}\".format(pipe_dict[i],model.score(X_test,y_test)))"
      ],
      "metadata": {
        "colab": {
          "base_uri": "https://localhost:8080/"
        },
        "id": "P-oKHqBmu_5E",
        "outputId": "2b5b66f0-c970-4aad-b351-59b368e42bc5"
      },
      "execution_count": 32,
      "outputs": [
        {
          "output_type": "stream",
          "name": "stdout",
          "text": [
            "Logistic Regression Test Accuracy:0.8666666666666667\n",
            "Decision Tree Test Accuracy:0.9111111111111111\n",
            "Support Vector Machine Test Accuracy:0.9333333333333333\n",
            "K Nearest Neighbor Test Accuracy:0.9111111111111111\n"
          ]
        }
      ]
    },
    {
      "cell_type": "code",
      "source": [
        "pipe = make_pipeline((RandomForestClassifier()))\n",
        "grid_param = [\n",
        "{\"randomforestclassifier\": [RandomForestClassifier()],\n",
        "\"randomforestclassifier__n_estimators\":[10,100,1000],                    \n",
        "\"randomforestclassifier__max_depth\":[5,8,15,25,30,None],                 \n",
        "\"randomforestclassifier__min_samples_leaf\":[1,2,5,10,15,100],\n",
        "\"randomforestclassifier__max_leaf_nodes\": [2, 5,10]}]"
      ],
      "metadata": {
        "id": "jq9EIxPMvTqz"
      },
      "execution_count": 33,
      "outputs": []
    },
    {
      "cell_type": "code",
      "source": [
        "gridsearch = GridSearchCV(pipe, grid_param, cv=5, verbose=0,n_jobs=-1) "
      ],
      "metadata": {
        "id": "ggdCLXU_v-Sx"
      },
      "execution_count": 34,
      "outputs": []
    },
    {
      "cell_type": "code",
      "source": [
        "best_model = gridsearch.fit(X_train,y_train)\n",
        "best_model.score(X_test,y_test)"
      ],
      "metadata": {
        "colab": {
          "base_uri": "https://localhost:8080/"
        },
        "id": "5OSOND4NwAJu",
        "outputId": "37888d16-0fe4-4a21-82a5-e27aec764374"
      },
      "execution_count": 36,
      "outputs": [
        {
          "output_type": "execute_result",
          "data": {
            "text/plain": [
              "0.9555555555555556"
            ]
          },
          "metadata": {},
          "execution_count": 36
        }
      ]
    }
  ]
}