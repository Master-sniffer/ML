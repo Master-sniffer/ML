{
 "cells": [
  {
   "cell_type": "code",
   "execution_count": 1,
   "id": "2f5c2d6f",
   "metadata": {
    "_cell_guid": "b1076dfc-b9ad-4769-8c92-a6c4dae69d19",
    "_uuid": "8f2839f25d086af736a60e9eeb907d3b93b6e0e5",
    "execution": {
     "iopub.execute_input": "2023-11-28T02:10:26.913246Z",
     "iopub.status.busy": "2023-11-28T02:10:26.912436Z",
     "iopub.status.idle": "2023-11-28T02:10:44.578531Z",
     "shell.execute_reply": "2023-11-28T02:10:44.576950Z"
    },
    "papermill": {
     "duration": 17.673485,
     "end_time": "2023-11-28T02:10:44.581960",
     "exception": false,
     "start_time": "2023-11-28T02:10:26.908475",
     "status": "completed"
    },
    "tags": []
   },
   "outputs": [
    {
     "name": "stdout",
     "output_type": "stream",
     "text": [
      "for sample size =  100000 the estimated quantity is equal to  -13.48378\n",
      "sample variance =  2657.102807939679\n",
      "confidence interval = ( -13.80327219312811 , -13.164287806871888 )\n",
      "half width of the confidence interval =  0.31949219312811183\n"
     ]
    }
   ],
   "source": [
    "import numpy as np\n",
    "import math\n",
    "import statistics\n",
    "\n",
    "# Exercise 2.3 Questions 1 and 2\n",
    "\n",
    "nRuns = pow(10,5); #number of simulations / repetitions / runs\n",
    "nSteps = 50; #length of simulation - covers the first 50 days\n",
    "\n",
    "s0 = 5; #initial state\n",
    "TotalReward = np.zeros(nRuns) #make an empty list in which we will store all the total reward per run. at the end we average them to get an estimation. this list is the data asked in Question 1.\n",
    "\n",
    "for i in range(0,nRuns):\n",
    "    s = s0;\n",
    "    TotalRewardPerRun= 0;\n",
    "    \n",
    "    for j in range(1, nSteps):\n",
    "        demand = np.random.randint(low=0, high=5) #sample random demand\n",
    "        metDemand = min(s, demand); #compute met demand\n",
    "        unmetDemand = max((demand-s), 0); #compute unmet demand\n",
    "        TotalRewardPerRun=TotalRewardPerRun+ (  metDemand*1 - 10*unmetDemand  ); #from which we can compute the incurred reward\n",
    "        s = min((s-metDemand+2), 5); #update the new inventory level\n",
    "        \n",
    "    TotalReward[i] = TotalRewardPerRun; #add observation to the list of total reward per run\n",
    "    \n",
    "print(\"for sample size = \", nRuns, \"the estimated quantity is equal to \",statistics.mean(TotalReward))\n",
    "print(\"sample variance = \",statistics.variance(TotalReward))\n",
    "print(\"confidence interval = (\",statistics.mean(TotalReward)-1.96*math.sqrt(statistics.variance(TotalReward)/nRuns),\",\",statistics.mean(TotalReward)+1.96*math.sqrt(statistics.variance(TotalReward)/nRuns),\")\") #Confidence Interval\n",
    "print(\"half width of the confidence interval = \", 1.96*math.sqrt(statistics.variance(TotalReward)/nRuns))\n"
   ]
  },
  {
   "cell_type": "code",
   "execution_count": null,
   "id": "b105e1a7",
   "metadata": {
    "papermill": {
     "duration": 0.001435,
     "end_time": "2023-11-28T02:10:44.585279",
     "exception": false,
     "start_time": "2023-11-28T02:10:44.583844",
     "status": "completed"
    },
    "tags": []
   },
   "outputs": [],
   "source": []
  }
 ],
 "metadata": {
  "kaggle": {
   "accelerator": "none",
   "dataSources": [],
   "dockerImageVersionId": 30587,
   "isGpuEnabled": false,
   "isInternetEnabled": true,
   "language": "python",
   "sourceType": "notebook"
  },
  "kernelspec": {
   "display_name": "Python 3",
   "language": "python",
   "name": "python3"
  },
  "language_info": {
   "codemirror_mode": {
    "name": "ipython",
    "version": 3
   },
   "file_extension": ".py",
   "mimetype": "text/x-python",
   "name": "python",
   "nbconvert_exporter": "python",
   "pygments_lexer": "ipython3",
   "version": "3.10.12"
  },
  "papermill": {
   "default_parameters": {},
   "duration": 20.665664,
   "end_time": "2023-11-28T02:10:44.907379",
   "environment_variables": {},
   "exception": null,
   "input_path": "__notebook__.ipynb",
   "output_path": "__notebook__.ipynb",
   "parameters": {},
   "start_time": "2023-11-28T02:10:24.241715",
   "version": "2.4.0"
  }
 },
 "nbformat": 4,
 "nbformat_minor": 5
}
