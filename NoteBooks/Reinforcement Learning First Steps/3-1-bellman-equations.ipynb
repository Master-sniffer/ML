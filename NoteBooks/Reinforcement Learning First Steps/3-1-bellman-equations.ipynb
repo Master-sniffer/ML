{
 "cells": [
  {
   "cell_type": "code",
   "execution_count": 1,
   "id": "e5273617",
   "metadata": {
    "_cell_guid": "b1076dfc-b9ad-4769-8c92-a6c4dae69d19",
    "_uuid": "8f2839f25d086af736a60e9eeb907d3b93b6e0e5",
    "execution": {
     "iopub.execute_input": "2023-11-28T02:04:38.568544Z",
     "iopub.status.busy": "2023-11-28T02:04:38.568194Z",
     "iopub.status.idle": "2023-11-28T02:04:38.591598Z",
     "shell.execute_reply": "2023-11-28T02:04:38.588199Z"
    },
    "papermill": {
     "duration": 0.030258,
     "end_time": "2023-11-28T02:04:38.594772",
     "exception": false,
     "start_time": "2023-11-28T02:04:38.564514",
     "status": "completed"
    },
    "tags": []
   },
   "outputs": [
    {
     "name": "stdout",
     "output_type": "stream",
     "text": [
      "[[-70.49799803]\n",
      " [-60.18949163]\n",
      " [-51.00807882]\n",
      " [-43.38935961]\n",
      " [-37.97064039]\n",
      " [-34.75192118]]\n",
      "Computation for V(5):  [-34.75192118]\n"
     ]
    }
   ],
   "source": [
    "import numpy as np\n",
    "# Supply chain homework Question Bellman equations\n",
    "gamma = 0.99 #discounting factor\n",
    "P = np.array([[0, 0, 1, 0, 0, 0], [0, 0, 4/5, 1/5, 0, 0], [0, 0, 3/5, 1/5, 1/5, 0],\n",
    "[0, 0, 2/5, 1/5, 1/5, 1/5], [0, 0, 1/5, 1/5, 1/5, 2/5], [0, 0, 0, 1/5, 1/5, 3/5]])\n",
    "#transition matrix for the policy under which we replenish the inventory by exactly\n",
    "#two items as long as we do not exceed the maximum capacity\n",
    "R = np.array([[-20], [-56/5], [-23/5], [-1/5], [2], [2]]) #reward vector R with\n",
    "#elements R(x) = E[R_t+1 | X_t = x]\n",
    "I = np.identity( len(R) ) #identity matrix\n",
    "V = np.dot(np.linalg.inv(I-np.multiply(gamma,P)), R) #compute value function from\n",
    "#formula V=(I-γP)^(-1)Rx\n",
    "print(V)\n",
    "print('Computation for V(5): ', V[5])\n"
   ]
  },
  {
   "cell_type": "code",
   "execution_count": null,
   "id": "b4b783ac",
   "metadata": {
    "papermill": {
     "duration": 0.002489,
     "end_time": "2023-11-28T02:04:38.600274",
     "exception": false,
     "start_time": "2023-11-28T02:04:38.597785",
     "status": "completed"
    },
    "tags": []
   },
   "outputs": [],
   "source": []
  }
 ],
 "metadata": {
  "kaggle": {
   "accelerator": "none",
   "dataSources": [],
   "dockerImageVersionId": 30587,
   "isGpuEnabled": false,
   "isInternetEnabled": true,
   "language": "python",
   "sourceType": "notebook"
  },
  "kernelspec": {
   "display_name": "Python 3",
   "language": "python",
   "name": "python3"
  },
  "language_info": {
   "codemirror_mode": {
    "name": "ipython",
    "version": 3
   },
   "file_extension": ".py",
   "mimetype": "text/x-python",
   "name": "python",
   "nbconvert_exporter": "python",
   "pygments_lexer": "ipython3",
   "version": "3.10.12"
  },
  "papermill": {
   "default_parameters": {},
   "duration": 3.435316,
   "end_time": "2023-11-28T02:04:39.033480",
   "environment_variables": {},
   "exception": null,
   "input_path": "__notebook__.ipynb",
   "output_path": "__notebook__.ipynb",
   "parameters": {},
   "start_time": "2023-11-28T02:04:35.598164",
   "version": "2.4.0"
  }
 },
 "nbformat": 4,
 "nbformat_minor": 5
}
