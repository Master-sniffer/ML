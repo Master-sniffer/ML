{
 "cells": [
  {
   "cell_type": "code",
   "execution_count": 1,
   "id": "bcaad545",
   "metadata": {
    "_cell_guid": "b1076dfc-b9ad-4769-8c92-a6c4dae69d19",
    "_uuid": "8f2839f25d086af736a60e9eeb907d3b93b6e0e5",
    "execution": {
     "iopub.execute_input": "2023-11-28T02:22:05.791691Z",
     "iopub.status.busy": "2023-11-28T02:22:05.790937Z",
     "iopub.status.idle": "2023-11-28T02:22:05.829604Z",
     "shell.execute_reply": "2023-11-28T02:22:05.828136Z"
    },
    "papermill": {
     "duration": 0.04703,
     "end_time": "2023-11-28T02:22:05.832619",
     "exception": false,
     "start_time": "2023-11-28T02:22:05.785589",
     "status": "completed"
    },
    "tags": []
   },
   "outputs": [
    {
     "name": "stdout",
     "output_type": "stream",
     "text": [
      "[[0.0625, 0.0625, 0.0625, 0.0625, 0.125, 0.125, 0.125, 0.125, 0.25], [0.0625, 0.125, 0.0625, 0.125, 0.0625, 0.125, 0.0625, 0.25, 0.125], [0.0625, 0.0625, 0.125, 0.125, 0.125, 0.0625, 0.25, 0.0625, 0.125], [0.0625, 0.125, 0.125, 0.25, 0.0625, 0.0625, 0.125, 0.125, 0.0625], [0.0, 0.0, 0.0, 0.0, 0.25, 0.0, 0.25, 0.0, 0.5], [0.0, 0.0, 0.0, 0.0, 0.0, 0.25, 0.0, 0.25, 0.5], [0.0, 0.0, 0.0, 0.0, 0.25, 0.0, 0.5, 0.0, 0.25], [0.0, 0.0, 0.0, 0.0, 0.0, 0.25, 0.0, 0.5, 0.25], [0, 0, 0, 0, 0, 0, 0, 0, 1]]\n"
     ]
    }
   ],
   "source": [
    "import numpy as np\n",
    "P = [[1/4, 1/4, 1/2], #state (0)\n",
    "[1/4, 1/2, 1/4], #state (1)\n",
    "[0, 0, 1]] #state (2) Note that to make the state terminal, we need to adjust\n",
    "#the matrix!\n",
    "#Then, we define the 9 states as follows:\n",
    "# (0,0),(0,1),(1,0),(1,1),(0,2),(2,0),(1,2),(2,1),(2,2)\n",
    "# and provide the corresponding transition probabilities\n",
    "P_new = [\n",
    "[P[0][0]*P[0][0],P[0][0]*P[0][1],P[0][1]*P[0][0],P[0][1]*P[0][1],P[0][0]*P[0]\n",
    "[2],P[0][2]*P[0][0],P[0][1]*P[0][2],P[0][2]*P[0][1],P[0][2]*P[0][2]],\n",
    "[P[0][0]*P[1][0],P[0][0]*P[1][1],P[0][1]*P[1][0],P[0][1]*P[1][1],P[0][0]*P[1]\n",
    "[2],P[0][2]*P[1][0],P[0][1]*P[1][2],P[0][2]*P[1][1],P[0][2]*P[1][2]],\n",
    "[P[1][0]*P[0][0],P[1][0]*P[0][1],P[1][1]*P[0][0],P[1][1]*P[0][1],P[1][0]*P[0]\n",
    "[2],P[1][2]*P[0][0],P[1][1]*P[0][2],P[1][2]*P[0][1],P[1][2]*P[0][2]],\n",
    "[P[1][0]*P[1][0],P[1][0]*P[1][1],P[1][1]*P[1][0],P[1][1]*P[1][1],P[1][0]*P[1]\n",
    "[2],P[1][2]*P[1][0],P[1][1]*P[1][2],P[1][2]*P[1][1],P[1][2]*P[1][2]],\n",
    "[P[0][0]*P[2][0],P[0][0]*P[2][1],P[0][1]*P[2][0],P[0][1]*P[2][1],P[0][0]*P[2]\n",
    "[2],P[0][2]*P[2][0],P[0][1]*P[2][2],P[0][2]*P[2][1],P[0][2]*P[2][2]],\n",
    "[P[2][0]*P[0][0],P[2][0]*P[0][1],P[2][1]*P[0][0],P[2][1]*P[0][1],P[2][0]*P[0]\n",
    "[2],P[2][2]*P[0][0],P[2][1]*P[0][2],P[2][2]*P[0][1],P[2][2]*P[0][2]],\n",
    "[P[1][0]*P[2][0],P[1][0]*P[2][1],P[1][1]*P[2][0],P[1][1]*P[2][1],P[1][0]*P[2]\n",
    "[2],P[1][2]*P[2][0],P[1][1]*P[2][2],P[1][2]*P[2][1],P[1][2]*P[2][2]],\n",
    "[P[2][0]*P[1][0],P[2][0]*P[1][1],P[2][1]*P[1][0],P[2][1]*P[1][1],P[2][0]*P[1]\n",
    "[2],P[2][2]*P[1][0],P[2][1]*P[1][2],P[2][2]*P[1][1],P[2][2]*P[1][2]],\n",
    "[P[2][0]*P[2][0],P[2][0]*P[2][1],P[2][1]*P[2][0],P[2][1]*P[2][1],P[2][0]*P[2]\n",
    "[2],P[2][2]*P[2][0],P[2][1]*P[2][2],P[2][2]*P[2][1],P[2][2]*P[2][2]]]\n",
    "print(P_new)\n",
    "# [[0.0625, 0.0625, 0.0625, 0.0625, 0.125, 0.125, 0.125, 0.125, 0.25],\n",
    "# [0.0625, 0.125, 0.0625, 0.125, 0.0625, 0.125, 0.0625, 0.25, 0.125],\n",
    "# [0.0625, 0.0625, 0.125, 0.125, 0.125, 0.0625, 0.25, 0.0625, 0.125],\n",
    "# [0.0625, 0.125, 0.125, 0.25, 0.0625, 0.0625, 0.125, 0.125, 0.0625],\n",
    "# [0.0, 0.0, 0.0, 0.0, 0.25, 0.0, 0.25, 0.0, 0.5],\n",
    "# [0.0, 0.0, 0.0, 0.0, 0.0, 0.25, 0.0, 0.25, 0.5],\n",
    "# [0.0, 0.0, 0.0, 0.0, 0.25, 0.0, 0.5, 0.0, 0.25],\n",
    "# [0.0, 0.0, 0.0, 0.0, 0.0, 0.25, 0.0, 0.5, 0.25],\n",
    "# [0, 0, 0, 0, 0, 0, 0, 0, 1]]"
   ]
  },
  {
   "cell_type": "code",
   "execution_count": 2,
   "id": "757f42f2",
   "metadata": {
    "execution": {
     "iopub.execute_input": "2023-11-28T02:22:05.842976Z",
     "iopub.status.busy": "2023-11-28T02:22:05.842508Z",
     "iopub.status.idle": "2023-11-28T02:22:05.870404Z",
     "shell.execute_reply": "2023-11-28T02:22:05.866205Z"
    },
    "papermill": {
     "duration": 0.040288,
     "end_time": "2023-11-28T02:22:05.875914",
     "exception": false,
     "start_time": "2023-11-28T02:22:05.835626",
     "status": "completed"
    },
    "tags": []
   },
   "outputs": [
    {
     "name": "stdout",
     "output_type": "stream",
     "text": [
      "Computation for V(0,0)=V(0)= 2167.96690792638\n"
     ]
    }
   ],
   "source": [
    "import numpy as np\n",
    "gamma = 0.9 #discounting factor\n",
    "#First we input the given probability matrix\n",
    "P2=[[0.0625, 0.0625, 0.0625, 0.0625, 0.125, 0.125, 0.125, 0.125, 0.25],\n",
    "[0.0625, 0.125, 0.0625, 0.125, 0.0625, 0.125, 0.0625, 0.25, 0.125],\n",
    "[0.0625, 0.0625, 0.125, 0.125, 0.125, 0.0625, 0.25, 0.0625, 0.125],\n",
    "[0.0625, 0.125, 0.125, 0.25, 0.0625, 0.0625, 0.125, 0.125, 0.0625],\n",
    "[0.0, 0.0, 0.0, 0.0, 0.25, 0.0, 0.25, 0.0, 0.5],\n",
    "[0.0, 0.0, 0.0, 0.0, 0.0, 0.25, 0.0, 0.25, 0.5],\n",
    "[0.0, 0.0, 0.0, 0.0, 0.25, 0.0, 0.5, 0.0, 0.25],\n",
    "[0.0, 0.0, 0.0, 0.0, 0.0, 0.25, 0.0, 0.5, 0.25],\n",
    "[0, 0, 0, 0, 0, 0, 0, 0, 0]] #we convert this last row to accommodate the fact\n",
    "#that now state 8 is a terminal state with a one-time incurred cost\n",
    "#The cost vector for the nine states\n",
    "R = [0,0,0,0,0,0,0,0,3000]\n",
    "I = np.identity( len(R) ) #identity matrix\n",
    "V = np.dot(np.linalg.inv(I-np.multiply(gamma,P2)), R) #compute value function from\n",
    "#formula V=(I-γP)^(-1)Rx\n",
    "print('Computation for V(0,0)=V(0)=', V[0]) #V(0,0)=V(0)= 2167.96690792638"
   ]
  },
  {
   "cell_type": "code",
   "execution_count": null,
   "id": "4c3c4fdf",
   "metadata": {
    "papermill": {
     "duration": 0.004878,
     "end_time": "2023-11-28T02:22:05.886503",
     "exception": false,
     "start_time": "2023-11-28T02:22:05.881625",
     "status": "completed"
    },
    "tags": []
   },
   "outputs": [],
   "source": []
  }
 ],
 "metadata": {
  "kaggle": {
   "accelerator": "none",
   "dataSources": [],
   "dockerImageVersionId": 30587,
   "isGpuEnabled": false,
   "isInternetEnabled": true,
   "language": "python",
   "sourceType": "notebook"
  },
  "kernelspec": {
   "display_name": "Python 3",
   "language": "python",
   "name": "python3"
  },
  "language_info": {
   "codemirror_mode": {
    "name": "ipython",
    "version": 3
   },
   "file_extension": ".py",
   "mimetype": "text/x-python",
   "name": "python",
   "nbconvert_exporter": "python",
   "pygments_lexer": "ipython3",
   "version": "3.10.12"
  },
  "papermill": {
   "default_parameters": {},
   "duration": 4.451592,
   "end_time": "2023-11-28T02:22:06.417569",
   "environment_variables": {},
   "exception": null,
   "input_path": "__notebook__.ipynb",
   "output_path": "__notebook__.ipynb",
   "parameters": {},
   "start_time": "2023-11-28T02:22:01.965977",
   "version": "2.4.0"
  }
 },
 "nbformat": 4,
 "nbformat_minor": 5
}
