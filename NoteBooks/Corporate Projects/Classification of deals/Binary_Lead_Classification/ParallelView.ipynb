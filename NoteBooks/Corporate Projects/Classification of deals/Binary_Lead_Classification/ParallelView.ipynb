{
 "cells": [
  {
   "cell_type": "code",
   "execution_count": 3,
   "id": "2018b4a8",
   "metadata": {},
   "outputs": [
    {
     "name": "stdout",
     "output_type": "stream",
     "text": [
      "Defaulting to user installation because normal site-packages is not writeable\n",
      "Requirement already satisfied: pandas in c:\\users\\dasolodennikov\\appdata\\roaming\\python\\python310\\site-packages (1.5.0)\n",
      "Requirement already satisfied: pytz>=2020.1 in c:\\users\\dasolodennikov\\appdata\\roaming\\python\\python310\\site-packages (from pandas) (2022.4)\n",
      "Requirement already satisfied: numpy>=1.21.0 in c:\\users\\dasolodennikov\\appdata\\roaming\\python\\python310\\site-packages (from pandas) (1.23.4)\n",
      "Requirement already satisfied: python-dateutil>=2.8.1 in c:\\program files\\python310\\lib\\site-packages (from pandas) (2.8.2)\n",
      "Requirement already satisfied: six>=1.5 in c:\\program files\\python310\\lib\\site-packages (from python-dateutil>=2.8.1->pandas) (1.16.0)\n",
      "Note: you may need to restart the kernel to use updated packages.\n"
     ]
    },
    {
     "name": "stderr",
     "output_type": "stream",
     "text": [
      "\n",
      "[notice] A new release of pip available: 22.2.2 -> 22.3\n",
      "[notice] To update, run: python.exe -m pip install --upgrade pip\n"
     ]
    },
    {
     "name": "stdout",
     "output_type": "stream",
     "text": [
      "Defaulting to user installation because normal site-packages is not writeable\n",
      "Requirement already satisfied: catboost in c:\\users\\dasolodennikov\\appdata\\roaming\\python\\python310\\site-packages (1.1)\n",
      "Requirement already satisfied: six in c:\\program files\\python310\\lib\\site-packages (from catboost) (1.16.0)\n",
      "Requirement already satisfied: matplotlib in c:\\users\\dasolodennikov\\appdata\\roaming\\python\\python310\\site-packages (from catboost) (3.6.0)\n",
      "Requirement already satisfied: scipy in c:\\users\\dasolodennikov\\appdata\\roaming\\python\\python310\\site-packages (from catboost) (1.8.1)\n",
      "Requirement already satisfied: pandas>=0.24.0 in c:\\users\\dasolodennikov\\appdata\\roaming\\python\\python310\\site-packages (from catboost) (1.5.0)\n",
      "Requirement already satisfied: numpy>=1.16.0 in c:\\users\\dasolodennikov\\appdata\\roaming\\python\\python310\\site-packages (from catboost) (1.23.4)\n",
      "Requirement already satisfied: plotly in c:\\users\\dasolodennikov\\appdata\\roaming\\python\\python310\\site-packages (from catboost) (5.10.0)\n",
      "Requirement already satisfied: graphviz in c:\\users\\dasolodennikov\\appdata\\roaming\\python\\python310\\site-packages (from catboost) (0.20.1)\n",
      "Requirement already satisfied: python-dateutil>=2.8.1 in c:\\program files\\python310\\lib\\site-packages (from pandas>=0.24.0->catboost) (2.8.2)\n",
      "Requirement already satisfied: pytz>=2020.1 in c:\\users\\dasolodennikov\\appdata\\roaming\\python\\python310\\site-packages (from pandas>=0.24.0->catboost) (2022.4)\n",
      "Requirement already satisfied: packaging>=20.0 in c:\\program files\\python310\\lib\\site-packages (from matplotlib->catboost) (21.3)\n",
      "Requirement already satisfied: cycler>=0.10 in c:\\users\\dasolodennikov\\appdata\\roaming\\python\\python310\\site-packages (from matplotlib->catboost) (0.11.0)\n",
      "Requirement already satisfied: pillow>=6.2.0 in c:\\users\\dasolodennikov\\appdata\\roaming\\python\\python310\\site-packages (from matplotlib->catboost) (9.2.0)\n",
      "Requirement already satisfied: contourpy>=1.0.1 in c:\\users\\dasolodennikov\\appdata\\roaming\\python\\python310\\site-packages (from matplotlib->catboost) (1.0.5)\n",
      "Requirement already satisfied: pyparsing>=2.2.1 in c:\\program files\\python310\\lib\\site-packages (from matplotlib->catboost) (3.0.9)\n",
      "Requirement already satisfied: kiwisolver>=1.0.1 in c:\\users\\dasolodennikov\\appdata\\roaming\\python\\python310\\site-packages (from matplotlib->catboost) (1.4.4)\n",
      "Requirement already satisfied: fonttools>=4.22.0 in c:\\users\\dasolodennikov\\appdata\\roaming\\python\\python310\\site-packages (from matplotlib->catboost) (4.37.4)\n",
      "Requirement already satisfied: tenacity>=6.2.0 in c:\\users\\dasolodennikov\\appdata\\roaming\\python\\python310\\site-packages (from plotly->catboost) (8.1.0)\n",
      "Note: you may need to restart the kernel to use updated packages.\n"
     ]
    },
    {
     "name": "stderr",
     "output_type": "stream",
     "text": [
      "\n",
      "[notice] A new release of pip available: 22.2.2 -> 22.3\n",
      "[notice] To update, run: python.exe -m pip install --upgrade pip\n"
     ]
    },
    {
     "name": "stdout",
     "output_type": "stream",
     "text": [
      "Defaulting to user installation because normal site-packages is not writeable\n",
      "Requirement already satisfied: xgboost in c:\\users\\dasolodennikov\\appdata\\roaming\\python\\python310\\site-packages (1.6.2)\n",
      "Requirement already satisfied: scipy in c:\\users\\dasolodennikov\\appdata\\roaming\\python\\python310\\site-packages (from xgboost) (1.8.1)\n",
      "Requirement already satisfied: numpy in c:\\users\\dasolodennikov\\appdata\\roaming\\python\\python310\\site-packages (from xgboost) (1.23.4)\n",
      "Note: you may need to restart the kernel to use updated packages.\n"
     ]
    },
    {
     "name": "stderr",
     "output_type": "stream",
     "text": [
      "\n",
      "[notice] A new release of pip available: 22.2.2 -> 22.3\n",
      "[notice] To update, run: python.exe -m pip install --upgrade pip\n"
     ]
    },
    {
     "name": "stdout",
     "output_type": "stream",
     "text": [
      "Defaulting to user installation because normal site-packages is not writeable\n",
      "Requirement already satisfied: sklearn in c:\\users\\dasolodennikov\\appdata\\roaming\\python\\python310\\site-packages (0.0)\n",
      "Requirement already satisfied: scikit-learn in c:\\users\\dasolodennikov\\appdata\\roaming\\python\\python310\\site-packages (from sklearn) (1.1.2)\n",
      "Requirement already satisfied: numpy>=1.17.3 in c:\\users\\dasolodennikov\\appdata\\roaming\\python\\python310\\site-packages (from scikit-learn->sklearn) (1.23.4)\n",
      "Requirement already satisfied: threadpoolctl>=2.0.0 in c:\\users\\dasolodennikov\\appdata\\roaming\\python\\python310\\site-packages (from scikit-learn->sklearn) (3.1.0)\n",
      "Requirement already satisfied: joblib>=1.0.0 in c:\\users\\dasolodennikov\\appdata\\roaming\\python\\python310\\site-packages (from scikit-learn->sklearn) (1.2.0)\n",
      "Requirement already satisfied: scipy>=1.3.2 in c:\\users\\dasolodennikov\\appdata\\roaming\\python\\python310\\site-packages (from scikit-learn->sklearn) (1.8.1)\n",
      "Note: you may need to restart the kernel to use updated packages.\n"
     ]
    },
    {
     "name": "stderr",
     "output_type": "stream",
     "text": [
      "\n",
      "[notice] A new release of pip available: 22.2.2 -> 22.3\n",
      "[notice] To update, run: python.exe -m pip install --upgrade pip\n"
     ]
    },
    {
     "name": "stdout",
     "output_type": "stream",
     "text": [
      "Note: you may need to restart the kernel to use updated packages.Defaulting to user installation because normal site-packages is not writeable\n",
      "Requirement already satisfied: numpy in c:\\users\\dasolodennikov\\appdata\\roaming\\python\\python310\\site-packages (1.23.4)\n",
      "\n"
     ]
    },
    {
     "name": "stderr",
     "output_type": "stream",
     "text": [
      "\n",
      "[notice] A new release of pip available: 22.2.2 -> 22.3\n",
      "[notice] To update, run: python.exe -m pip install --upgrade pip\n"
     ]
    },
    {
     "name": "stdout",
     "output_type": "stream",
     "text": [
      "Note: you may need to restart the kernel to use updated packages.Defaulting to user installation because normal site-packages is not writeable\n",
      "Requirement already satisfied: matplotlib in c:\\users\\dasolodennikov\\appdata\\roaming\\python\\python310\\site-packages (3.6.0)\n",
      "Requirement already satisfied: cycler>=0.10 in c:\\users\\dasolodennikov\\appdata\\roaming\\python\\python310\\site-packages (from matplotlib) (0.11.0)\n",
      "Requirement already satisfied: pyparsing>=2.2.1 in c:\\program files\\python310\\lib\\site-packages (from matplotlib) (3.0.9)\n",
      "Requirement already satisfied: kiwisolver>=1.0.1 in c:\\users\\dasolodennikov\\appdata\\roaming\\python\\python310\\site-packages (from matplotlib) (1.4.4)\n",
      "Requirement already satisfied: contourpy>=1.0.1 in c:\\users\\dasolodennikov\\appdata\\roaming\\python\\python310\\site-packages (from matplotlib) (1.0.5)\n",
      "Requirement already satisfied: fonttools>=4.22.0 in c:\\users\\dasolodennikov\\appdata\\roaming\\python\\python310\\site-packages (from matplotlib) (4.37.4)\n",
      "Requirement already satisfied: numpy>=1.19 in c:\\users\\dasolodennikov\\appdata\\roaming\\python\\python310\\site-packages (from matplotlib) (1.23.4)\n",
      "Requirement already satisfied: packaging>=20.0 in c:\\program files\\python310\\lib\\site-packages (from matplotlib) (21.3)\n",
      "Requirement already satisfied: python-dateutil>=2.7 in c:\\program files\\python310\\lib\\site-packages (from matplotlib) (2.8.2)\n",
      "Requirement already satisfied: pillow>=6.2.0 in c:\\users\\dasolodennikov\\appdata\\roaming\\python\\python310\\site-packages (from matplotlib) (9.2.0)\n",
      "Requirement already satisfied: six>=1.5 in c:\\program files\\python310\\lib\\site-packages (from python-dateutil>=2.7->matplotlib) (1.16.0)\n",
      "\n"
     ]
    },
    {
     "name": "stderr",
     "output_type": "stream",
     "text": [
      "\n",
      "[notice] A new release of pip available: 22.2.2 -> 22.3\n",
      "[notice] To update, run: python.exe -m pip install --upgrade pip\n"
     ]
    },
    {
     "name": "stdout",
     "output_type": "stream",
     "text": [
      "Defaulting to user installation because normal site-packages is not writeable\n",
      "Requirement already satisfied: seaborn in c:\\users\\dasolodennikov\\appdata\\roaming\\python\\python310\\site-packages (0.12.1)\n",
      "Requirement already satisfied: numpy>=1.17 in c:\\users\\dasolodennikov\\appdata\\roaming\\python\\python310\\site-packages (from seaborn) (1.23.4)\n",
      "Requirement already satisfied: pandas>=0.25 in c:\\users\\dasolodennikov\\appdata\\roaming\\python\\python310\\site-packages (from seaborn) (1.5.0)\n",
      "Requirement already satisfied: matplotlib!=3.6.1,>=3.1 in c:\\users\\dasolodennikov\\appdata\\roaming\\python\\python310\\site-packages (from seaborn) (3.6.0)\n",
      "Requirement already satisfied: pyparsing>=2.2.1 in c:\\program files\\python310\\lib\\site-packages (from matplotlib!=3.6.1,>=3.1->seaborn) (3.0.9)\n",
      "Requirement already satisfied: pillow>=6.2.0 in c:\\users\\dasolodennikov\\appdata\\roaming\\python\\python310\\site-packages (from matplotlib!=3.6.1,>=3.1->seaborn) (9.2.0)\n",
      "Requirement already satisfied: python-dateutil>=2.7 in c:\\program files\\python310\\lib\\site-packages (from matplotlib!=3.6.1,>=3.1->seaborn) (2.8.2)\n",
      "Requirement already satisfied: cycler>=0.10 in c:\\users\\dasolodennikov\\appdata\\roaming\\python\\python310\\site-packages (from matplotlib!=3.6.1,>=3.1->seaborn) (0.11.0)\n",
      "Requirement already satisfied: kiwisolver>=1.0.1 in c:\\users\\dasolodennikov\\appdata\\roaming\\python\\python310\\site-packages (from matplotlib!=3.6.1,>=3.1->seaborn) (1.4.4)\n",
      "Requirement already satisfied: contourpy>=1.0.1 in c:\\users\\dasolodennikov\\appdata\\roaming\\python\\python310\\site-packages (from matplotlib!=3.6.1,>=3.1->seaborn) (1.0.5)\n",
      "Requirement already satisfied: packaging>=20.0 in c:\\program files\\python310\\lib\\site-packages (from matplotlib!=3.6.1,>=3.1->seaborn) (21.3)\n",
      "Requirement already satisfied: fonttools>=4.22.0 in c:\\users\\dasolodennikov\\appdata\\roaming\\python\\python310\\site-packages (from matplotlib!=3.6.1,>=3.1->seaborn) (4.37.4)\n",
      "Requirement already satisfied: pytz>=2020.1 in c:\\users\\dasolodennikov\\appdata\\roaming\\python\\python310\\site-packages (from pandas>=0.25->seaborn) (2022.4)\n",
      "Requirement already satisfied: six>=1.5 in c:\\program files\\python310\\lib\\site-packages (from python-dateutil>=2.7->matplotlib!=3.6.1,>=3.1->seaborn) (1.16.0)\n",
      "Note: you may need to restart the kernel to use updated packages.\n"
     ]
    },
    {
     "name": "stderr",
     "output_type": "stream",
     "text": [
      "\n",
      "[notice] A new release of pip available: 22.2.2 -> 22.3\n",
      "[notice] To update, run: python.exe -m pip install --upgrade pip\n"
     ]
    },
    {
     "name": "stdout",
     "output_type": "stream",
     "text": [
      "Defaulting to user installation because normal site-packages is not writeable\n",
      "Note: you may need to restart the kernel to use updated packages.\n"
     ]
    },
    {
     "name": "stderr",
     "output_type": "stream",
     "text": [
      "ERROR: Could not find a version that satisfies the requirement csv (from versions: none)\n",
      "ERROR: No matching distribution found for csv\n",
      "\n",
      "[notice] A new release of pip available: 22.2.2 -> 22.3\n",
      "[notice] To update, run: python.exe -m pip install --upgrade pip\n"
     ]
    },
    {
     "name": "stdout",
     "output_type": "stream",
     "text": [
      "Defaulting to user installation because normal site-packages is not writeable\n",
      "Requirement already satisfied: joblib in c:\\users\\dasolodennikov\\appdata\\roaming\\python\\python310\\site-packages (1.2.0)\n",
      "Note: you may need to restart the kernel to use updated packages.\n"
     ]
    },
    {
     "name": "stderr",
     "output_type": "stream",
     "text": [
      "\n",
      "[notice] A new release of pip available: 22.2.2 -> 22.3\n",
      "[notice] To update, run: python.exe -m pip install --upgrade pip\n"
     ]
    },
    {
     "name": "stdout",
     "output_type": "stream",
     "text": [
      "Defaulting to user installation because normal site-packages is not writeable\n",
      "Requirement already satisfied: scipy in c:\\users\\dasolodennikov\\appdata\\roaming\\python\\python310\\site-packages (1.8.1)\n",
      "Requirement already satisfied: numpy<1.25.0,>=1.17.3 in c:\\users\\dasolodennikov\\appdata\\roaming\\python\\python310\\site-packages (from scipy) (1.23.4)\n",
      "Note: you may need to restart the kernel to use updated packages.\n"
     ]
    },
    {
     "name": "stderr",
     "output_type": "stream",
     "text": [
      "\n",
      "[notice] A new release of pip available: 22.2.2 -> 22.3\n",
      "[notice] To update, run: python.exe -m pip install --upgrade pip\n"
     ]
    },
    {
     "name": "stdout",
     "output_type": "stream",
     "text": [
      "Defaulting to user installation because normal site-packages is not writeable\n",
      "Requirement already satisfied: h5py in c:\\users\\dasolodennikov\\appdata\\roaming\\python\\python310\\site-packages (3.7.0)\n",
      "Requirement already satisfied: scikit-optimize in c:\\users\\dasolodennikov\\appdata\\roaming\\python\\python310\\site-packages (0.9.0)\n",
      "Requirement already satisfied: numpy>=1.14.5 in c:\\users\\dasolodennikov\\appdata\\roaming\\python\\python310\\site-packages (from h5py) (1.23.4)\n",
      "Requirement already satisfied: scipy>=0.19.1 in c:\\users\\dasolodennikov\\appdata\\roaming\\python\\python310\\site-packages (from scikit-optimize) (1.8.1)\n",
      "Requirement already satisfied: pyaml>=16.9 in c:\\users\\dasolodennikov\\appdata\\roaming\\python\\python310\\site-packages (from scikit-optimize) (21.10.1)\n",
      "Requirement already satisfied: scikit-learn>=0.20.0 in c:\\users\\dasolodennikov\\appdata\\roaming\\python\\python310\\site-packages (from scikit-optimize) (1.1.2)\n",
      "Requirement already satisfied: joblib>=0.11 in c:\\users\\dasolodennikov\\appdata\\roaming\\python\\python310\\site-packages (from scikit-optimize) (1.2.0)\n",
      "Requirement already satisfied: PyYAML in c:\\users\\dasolodennikov\\appdata\\roaming\\python\\python310\\site-packages (from pyaml>=16.9->scikit-optimize) (6.0)\n",
      "Requirement already satisfied: threadpoolctl>=2.0.0 in c:\\users\\dasolodennikov\\appdata\\roaming\\python\\python310\\site-packages (from scikit-learn>=0.20.0->scikit-optimize) (3.1.0)\n",
      "Note: you may need to restart the kernel to use updated packages.\n"
     ]
    },
    {
     "name": "stderr",
     "output_type": "stream",
     "text": [
      "\n",
      "[notice] A new release of pip available: 22.2.2 -> 22.3\n",
      "[notice] To update, run: python.exe -m pip install --upgrade pip\n"
     ]
    },
    {
     "name": "stdout",
     "output_type": "stream",
     "text": [
      "Defaulting to user installation because normal site-packages is not writeable\n",
      "Requirement already satisfied: optuna in c:\\users\\dasolodennikov\\appdata\\roaming\\python\\python310\\site-packages (3.0.3)\n",
      "Requirement already satisfied: packaging>=20.0 in c:\\program files\\python310\\lib\\site-packages (from optuna) (21.3)\n",
      "Requirement already satisfied: cmaes>=0.8.2 in c:\\users\\dasolodennikov\\appdata\\roaming\\python\\python310\\site-packages (from optuna) (0.8.2)\n",
      "Requirement already satisfied: tqdm in c:\\users\\dasolodennikov\\appdata\\roaming\\python\\python310\\site-packages (from optuna) (4.64.1)\n",
      "Requirement already satisfied: PyYAML in c:\\users\\dasolodennikov\\appdata\\roaming\\python\\python310\\site-packages (from optuna) (6.0)\n",
      "Requirement already satisfied: numpy in c:\\users\\dasolodennikov\\appdata\\roaming\\python\\python310\\site-packages (from optuna) (1.23.4)\n",
      "Requirement already satisfied: colorlog in c:\\users\\dasolodennikov\\appdata\\roaming\\python\\python310\\site-packages (from optuna) (6.7.0)\n",
      "Requirement already satisfied: scipy<1.9.0,>=1.7.0 in c:\\users\\dasolodennikov\\appdata\\roaming\\python\\python310\\site-packages (from optuna) (1.8.1)\n",
      "Requirement already satisfied: sqlalchemy>=1.3.0 in c:\\users\\dasolodennikov\\appdata\\roaming\\python\\python310\\site-packages (from optuna) (1.4.42)\n",
      "Requirement already satisfied: importlib-metadata<5.0.0 in c:\\users\\dasolodennikov\\appdata\\roaming\\python\\python310\\site-packages (from optuna) (4.13.0)\n",
      "Requirement already satisfied: alembic>=1.5.0 in c:\\users\\dasolodennikov\\appdata\\roaming\\python\\python310\\site-packages (from optuna) (1.8.1)\n",
      "Requirement already satisfied: cliff in c:\\users\\dasolodennikov\\appdata\\roaming\\python\\python310\\site-packages (from optuna) (4.0.0)\n",
      "Requirement already satisfied: Mako in c:\\users\\dasolodennikov\\appdata\\roaming\\python\\python310\\site-packages (from alembic>=1.5.0->optuna) (1.2.3)\n",
      "Requirement already satisfied: zipp>=0.5 in c:\\users\\dasolodennikov\\appdata\\roaming\\python\\python310\\site-packages (from importlib-metadata<5.0.0->optuna) (3.10.0)\n",
      "Requirement already satisfied: pyparsing!=3.0.5,>=2.0.2 in c:\\program files\\python310\\lib\\site-packages (from packaging>=20.0->optuna) (3.0.9)\n",
      "Requirement already satisfied: greenlet!=0.4.17 in c:\\users\\dasolodennikov\\appdata\\roaming\\python\\python310\\site-packages (from sqlalchemy>=1.3.0->optuna) (1.1.3.post0)\n",
      "Requirement already satisfied: autopage>=0.4.0 in c:\\users\\dasolodennikov\\appdata\\roaming\\python\\python310\\site-packages (from cliff->optuna) (0.5.1)\n",
      "Requirement already satisfied: stevedore>=2.0.1 in c:\\users\\dasolodennikov\\appdata\\roaming\\python\\python310\\site-packages (from cliff->optuna) (4.1.0)\n",
      "Requirement already satisfied: PrettyTable>=0.7.2 in c:\\users\\dasolodennikov\\appdata\\roaming\\python\\python310\\site-packages (from cliff->optuna) (3.4.1)\n",
      "Requirement already satisfied: cmd2>=1.0.0 in c:\\users\\dasolodennikov\\appdata\\roaming\\python\\python310\\site-packages (from cliff->optuna) (2.4.2)\n",
      "Requirement already satisfied: colorama in c:\\program files\\python310\\lib\\site-packages (from colorlog->optuna) (0.4.5)\n",
      "Requirement already satisfied: wcwidth>=0.1.7 in c:\\program files\\python310\\lib\\site-packages (from cmd2>=1.0.0->cliff->optuna) (0.2.5)\n",
      "Requirement already satisfied: pyperclip>=1.6 in c:\\users\\dasolodennikov\\appdata\\roaming\\python\\python310\\site-packages (from cmd2>=1.0.0->cliff->optuna) (1.8.2)\n",
      "Requirement already satisfied: attrs>=16.3.0 in c:\\program files\\python310\\lib\\site-packages (from cmd2>=1.0.0->cliff->optuna) (22.1.0)\n",
      "Requirement already satisfied: pyreadline3 in c:\\users\\dasolodennikov\\appdata\\roaming\\python\\python310\\site-packages (from cmd2>=1.0.0->cliff->optuna) (3.4.1)\n",
      "Requirement already satisfied: pbr!=2.1.0,>=2.0.0 in c:\\users\\dasolodennikov\\appdata\\roaming\\python\\python310\\site-packages (from stevedore>=2.0.1->cliff->optuna) (5.11.0)\n",
      "Requirement already satisfied: MarkupSafe>=0.9.2 in c:\\program files\\python310\\lib\\site-packages (from Mako->alembic>=1.5.0->optuna) (2.1.1)\n",
      "Note: you may need to restart the kernel to use updated packages.\n"
     ]
    },
    {
     "name": "stderr",
     "output_type": "stream",
     "text": [
      "\n",
      "[notice] A new release of pip available: 22.2.2 -> 22.3\n",
      "[notice] To update, run: python.exe -m pip install --upgrade pip\n"
     ]
    }
   ],
   "source": [
    "%pip install pandas\n",
    "%pip install catboost\n",
    "%pip install xgboost\n",
    "%pip install sklearn\n",
    "%pip install numpy\n",
    "%pip install matplotlib\n",
    "%pip install seaborn\n",
    "%pip install csv\n",
    "%pip install joblib\n",
    "%pip install scipy\n",
    "%pip install h5py scikit-optimize\n",
    "%pip install optuna\n",
    "\n"
   ]
  },
  {
   "cell_type": "code",
   "execution_count": 1,
   "id": "c63b2fc1",
   "metadata": {},
   "outputs": [
    {
     "name": "stderr",
     "output_type": "stream",
     "text": [
      "c:\\Users\\DASolodennikov\\AppData\\Local\\Programs\\Python\\Python310\\lib\\site-packages\\tqdm\\auto.py:22: TqdmWarning: IProgress not found. Please update jupyter and ipywidgets. See https://ipywidgets.readthedocs.io/en/stable/user_install.html\n",
      "  from .autonotebook import tqdm as notebook_tqdm\n"
     ]
    }
   ],
   "source": [
    "import pandas as pd\n",
    "\n",
    "import seaborn as sns\n",
    "\n",
    "import csv\n",
    "\n",
    "import xgboost\n",
    "from xgboost import XGBClassifier, XGBRFClassifier\n",
    "from xgboost import plot_tree, plot_importance\n",
    "\n",
    "import catboost as cb\n",
    "from catboost import CatBoostError\n",
    "\n",
    "import joblib\n",
    "\n",
    "import sklearn\n",
    "from sklearn.metrics import f1_score\n",
    "from sklearn import metrics\n",
    "from sklearn.pipeline import Pipeline\n",
    "from sklearn.compose import ColumnTransformer\n",
    "from sklearn.preprocessing import FunctionTransformer\n",
    "from sklearn.model_selection import KFold\n",
    "from sklearn import preprocessing\n",
    "from sklearn.decomposition import PCA\n",
    "from sklearn.naive_bayes import GaussianNB\n",
    "from sklearn.linear_model import SGDClassifier, LogisticRegression\n",
    "from sklearn.neighbors import KNeighborsClassifier\n",
    "from sklearn.tree import DecisionTreeClassifier\n",
    "from sklearn.ensemble import RandomForestClassifier\n",
    "from sklearn.svm import SVC\n",
    "from sklearn.neural_network import MLPClassifier\n",
    "from sklearn.metrics import make_scorer , mean_squared_error, confusion_matrix, accuracy_score, roc_auc_score, roc_curve, classification_report\n",
    "from sklearn import preprocessing\n",
    "from sklearn.model_selection import train_test_split\n",
    "from sklearn.feature_selection import RFE\n",
    "from sklearn.metrics.pairwise import cosine_similarity\n",
    "\n",
    "import optuna\n",
    "\n",
    "%matplotlib inline\n",
    "import matplotlib.pyplot as plt\n",
    "\n",
    "import numpy as np\n",
    "\n",
    "import math\n",
    "\n",
    "import statistics\n"
   ]
  },
  {
   "cell_type": "code",
   "execution_count": 5,
   "metadata": {},
   "outputs": [
    {
     "data": {
      "text/html": [
       "<div>\n",
       "<style scoped>\n",
       "    .dataframe tbody tr th:only-of-type {\n",
       "        vertical-align: middle;\n",
       "    }\n",
       "\n",
       "    .dataframe tbody tr th {\n",
       "        vertical-align: top;\n",
       "    }\n",
       "\n",
       "    .dataframe thead th {\n",
       "        text-align: right;\n",
       "    }\n",
       "</style>\n",
       "<table border=\"1\" class=\"dataframe\">\n",
       "  <thead>\n",
       "    <tr style=\"text-align: right;\">\n",
       "      <th></th>\n",
       "      <th>number</th>\n",
       "      <th>value</th>\n",
       "      <th>datetime_start</th>\n",
       "      <th>datetime_complete</th>\n",
       "      <th>duration</th>\n",
       "      <th>params_allow_const_label</th>\n",
       "      <th>params_auto_class_weights</th>\n",
       "      <th>params_bagging_temperature</th>\n",
       "      <th>params_boosting_type</th>\n",
       "      <th>params_depth</th>\n",
       "      <th>...</th>\n",
       "      <th>params_loss_function</th>\n",
       "      <th>params_max_bin</th>\n",
       "      <th>params_min_data_in_leaf</th>\n",
       "      <th>params_model_shrink_mode</th>\n",
       "      <th>params_posterior_sampling</th>\n",
       "      <th>params_reg_lambda</th>\n",
       "      <th>params_rsm</th>\n",
       "      <th>params_sampling_frequency</th>\n",
       "      <th>params_score_function</th>\n",
       "      <th>state</th>\n",
       "    </tr>\n",
       "  </thead>\n",
       "  <tbody>\n",
       "    <tr>\n",
       "      <th>0</th>\n",
       "      <td>0</td>\n",
       "      <td>NaN</td>\n",
       "      <td>2022-10-31 21:30:12.612409</td>\n",
       "      <td>NaT</td>\n",
       "      <td>NaT</td>\n",
       "      <td>True</td>\n",
       "      <td>None</td>\n",
       "      <td>8.809268</td>\n",
       "      <td>Ordered</td>\n",
       "      <td>7</td>\n",
       "      <td>...</td>\n",
       "      <td>Logloss</td>\n",
       "      <td>365</td>\n",
       "      <td>6</td>\n",
       "      <td>NaN</td>\n",
       "      <td>True</td>\n",
       "      <td>7.759734</td>\n",
       "      <td>0.790510</td>\n",
       "      <td>PerTree</td>\n",
       "      <td>Cosine</td>\n",
       "      <td>RUNNING</td>\n",
       "    </tr>\n",
       "    <tr>\n",
       "      <th>1</th>\n",
       "      <td>1</td>\n",
       "      <td>0.999688</td>\n",
       "      <td>2022-10-31 21:30:12.615419</td>\n",
       "      <td>2022-10-31 21:34:44.532125</td>\n",
       "      <td>0 days 00:04:31.916706</td>\n",
       "      <td>False</td>\n",
       "      <td>NaN</td>\n",
       "      <td>15.164037</td>\n",
       "      <td>Plain</td>\n",
       "      <td>1</td>\n",
       "      <td>...</td>\n",
       "      <td>CrossEntropy</td>\n",
       "      <td>243</td>\n",
       "      <td>15</td>\n",
       "      <td>NaN</td>\n",
       "      <td>True</td>\n",
       "      <td>7.782886</td>\n",
       "      <td>0.896013</td>\n",
       "      <td>PerTree</td>\n",
       "      <td>Cosine</td>\n",
       "      <td>COMPLETE</td>\n",
       "    </tr>\n",
       "    <tr>\n",
       "      <th>2</th>\n",
       "      <td>2</td>\n",
       "      <td>NaN</td>\n",
       "      <td>2022-10-31 21:30:12.616408</td>\n",
       "      <td>NaT</td>\n",
       "      <td>NaT</td>\n",
       "      <td>False</td>\n",
       "      <td>None</td>\n",
       "      <td>3.386458</td>\n",
       "      <td>Plain</td>\n",
       "      <td>11</td>\n",
       "      <td>...</td>\n",
       "      <td>Logloss</td>\n",
       "      <td>489</td>\n",
       "      <td>9</td>\n",
       "      <td>Decreasing</td>\n",
       "      <td>False</td>\n",
       "      <td>6.529588</td>\n",
       "      <td>0.225433</td>\n",
       "      <td>PerTreeLevel</td>\n",
       "      <td>L2</td>\n",
       "      <td>RUNNING</td>\n",
       "    </tr>\n",
       "    <tr>\n",
       "      <th>3</th>\n",
       "      <td>3</td>\n",
       "      <td>NaN</td>\n",
       "      <td>2022-10-31 21:30:12.618412</td>\n",
       "      <td>NaT</td>\n",
       "      <td>NaT</td>\n",
       "      <td>True</td>\n",
       "      <td>SqrtBalanced</td>\n",
       "      <td>14.816550</td>\n",
       "      <td>Plain</td>\n",
       "      <td>13</td>\n",
       "      <td>...</td>\n",
       "      <td>Logloss</td>\n",
       "      <td>127</td>\n",
       "      <td>4</td>\n",
       "      <td>NaN</td>\n",
       "      <td>NaN</td>\n",
       "      <td>10.330070</td>\n",
       "      <td>0.656032</td>\n",
       "      <td>PerTreeLevel</td>\n",
       "      <td>L2</td>\n",
       "      <td>RUNNING</td>\n",
       "    </tr>\n",
       "    <tr>\n",
       "      <th>4</th>\n",
       "      <td>4</td>\n",
       "      <td>NaN</td>\n",
       "      <td>2022-10-31 21:30:12.620411</td>\n",
       "      <td>NaT</td>\n",
       "      <td>NaT</td>\n",
       "      <td>False</td>\n",
       "      <td>None</td>\n",
       "      <td>15.751194</td>\n",
       "      <td>Ordered</td>\n",
       "      <td>2</td>\n",
       "      <td>...</td>\n",
       "      <td>Logloss</td>\n",
       "      <td>562</td>\n",
       "      <td>9</td>\n",
       "      <td>NaN</td>\n",
       "      <td>NaN</td>\n",
       "      <td>8.498895</td>\n",
       "      <td>0.263213</td>\n",
       "      <td>PerTree</td>\n",
       "      <td>Cosine</td>\n",
       "      <td>RUNNING</td>\n",
       "    </tr>\n",
       "    <tr>\n",
       "      <th>...</th>\n",
       "      <td>...</td>\n",
       "      <td>...</td>\n",
       "      <td>...</td>\n",
       "      <td>...</td>\n",
       "      <td>...</td>\n",
       "      <td>...</td>\n",
       "      <td>...</td>\n",
       "      <td>...</td>\n",
       "      <td>...</td>\n",
       "      <td>...</td>\n",
       "      <td>...</td>\n",
       "      <td>...</td>\n",
       "      <td>...</td>\n",
       "      <td>...</td>\n",
       "      <td>...</td>\n",
       "      <td>...</td>\n",
       "      <td>...</td>\n",
       "      <td>...</td>\n",
       "      <td>...</td>\n",
       "      <td>...</td>\n",
       "      <td>...</td>\n",
       "    </tr>\n",
       "    <tr>\n",
       "      <th>56</th>\n",
       "      <td>56</td>\n",
       "      <td>0.994348</td>\n",
       "      <td>2022-11-01 03:58:17.707922</td>\n",
       "      <td>2022-11-01 03:58:44.811402</td>\n",
       "      <td>0 days 00:00:27.103480</td>\n",
       "      <td>False</td>\n",
       "      <td>NaN</td>\n",
       "      <td>14.456525</td>\n",
       "      <td>Plain</td>\n",
       "      <td>9</td>\n",
       "      <td>...</td>\n",
       "      <td>CrossEntropy</td>\n",
       "      <td>252</td>\n",
       "      <td>2</td>\n",
       "      <td>NaN</td>\n",
       "      <td>NaN</td>\n",
       "      <td>8.682014</td>\n",
       "      <td>0.003699</td>\n",
       "      <td>PerTree</td>\n",
       "      <td>Cosine</td>\n",
       "      <td>COMPLETE</td>\n",
       "    </tr>\n",
       "    <tr>\n",
       "      <th>57</th>\n",
       "      <td>57</td>\n",
       "      <td>0.999858</td>\n",
       "      <td>2022-11-01 03:58:44.823411</td>\n",
       "      <td>2022-11-01 04:08:38.638448</td>\n",
       "      <td>0 days 00:09:53.815037</td>\n",
       "      <td>True</td>\n",
       "      <td>SqrtBalanced</td>\n",
       "      <td>12.279088</td>\n",
       "      <td>Plain</td>\n",
       "      <td>6</td>\n",
       "      <td>...</td>\n",
       "      <td>Logloss</td>\n",
       "      <td>248</td>\n",
       "      <td>15</td>\n",
       "      <td>NaN</td>\n",
       "      <td>True</td>\n",
       "      <td>9.946581</td>\n",
       "      <td>0.489792</td>\n",
       "      <td>PerTree</td>\n",
       "      <td>L2</td>\n",
       "      <td>COMPLETE</td>\n",
       "    </tr>\n",
       "    <tr>\n",
       "      <th>58</th>\n",
       "      <td>58</td>\n",
       "      <td>0.999817</td>\n",
       "      <td>2022-11-01 04:00:45.562009</td>\n",
       "      <td>2022-11-01 04:11:21.286856</td>\n",
       "      <td>0 days 00:10:35.724847</td>\n",
       "      <td>False</td>\n",
       "      <td>Balanced</td>\n",
       "      <td>12.186836</td>\n",
       "      <td>Plain</td>\n",
       "      <td>3</td>\n",
       "      <td>...</td>\n",
       "      <td>Logloss</td>\n",
       "      <td>361</td>\n",
       "      <td>14</td>\n",
       "      <td>NaN</td>\n",
       "      <td>NaN</td>\n",
       "      <td>10.018326</td>\n",
       "      <td>0.592282</td>\n",
       "      <td>NaN</td>\n",
       "      <td>L2</td>\n",
       "      <td>COMPLETE</td>\n",
       "    </tr>\n",
       "    <tr>\n",
       "      <th>59</th>\n",
       "      <td>59</td>\n",
       "      <td>0.999672</td>\n",
       "      <td>2022-11-01 04:05:08.611834</td>\n",
       "      <td>2022-11-01 04:15:37.649447</td>\n",
       "      <td>0 days 00:10:29.037613</td>\n",
       "      <td>True</td>\n",
       "      <td>None</td>\n",
       "      <td>13.407713</td>\n",
       "      <td>Plain</td>\n",
       "      <td>1</td>\n",
       "      <td>...</td>\n",
       "      <td>Logloss</td>\n",
       "      <td>268</td>\n",
       "      <td>16</td>\n",
       "      <td>NaN</td>\n",
       "      <td>NaN</td>\n",
       "      <td>10.379076</td>\n",
       "      <td>0.473360</td>\n",
       "      <td>PerTree</td>\n",
       "      <td>L2</td>\n",
       "      <td>COMPLETE</td>\n",
       "    </tr>\n",
       "    <tr>\n",
       "      <th>60</th>\n",
       "      <td>60</td>\n",
       "      <td>0.999845</td>\n",
       "      <td>2022-11-01 04:06:49.322981</td>\n",
       "      <td>2022-11-01 04:16:16.002003</td>\n",
       "      <td>0 days 00:09:26.679022</td>\n",
       "      <td>True</td>\n",
       "      <td>SqrtBalanced</td>\n",
       "      <td>12.519587</td>\n",
       "      <td>Plain</td>\n",
       "      <td>4</td>\n",
       "      <td>...</td>\n",
       "      <td>Logloss</td>\n",
       "      <td>292</td>\n",
       "      <td>17</td>\n",
       "      <td>NaN</td>\n",
       "      <td>True</td>\n",
       "      <td>10.983932</td>\n",
       "      <td>0.707066</td>\n",
       "      <td>PerTreeLevel</td>\n",
       "      <td>L2</td>\n",
       "      <td>COMPLETE</td>\n",
       "    </tr>\n",
       "  </tbody>\n",
       "</table>\n",
       "<p>61 rows × 29 columns</p>\n",
       "</div>"
      ],
      "text/plain": [
       "    number     value             datetime_start          datetime_complete  \\\n",
       "0        0       NaN 2022-10-31 21:30:12.612409                        NaT   \n",
       "1        1  0.999688 2022-10-31 21:30:12.615419 2022-10-31 21:34:44.532125   \n",
       "2        2       NaN 2022-10-31 21:30:12.616408                        NaT   \n",
       "3        3       NaN 2022-10-31 21:30:12.618412                        NaT   \n",
       "4        4       NaN 2022-10-31 21:30:12.620411                        NaT   \n",
       "..     ...       ...                        ...                        ...   \n",
       "56      56  0.994348 2022-11-01 03:58:17.707922 2022-11-01 03:58:44.811402   \n",
       "57      57  0.999858 2022-11-01 03:58:44.823411 2022-11-01 04:08:38.638448   \n",
       "58      58  0.999817 2022-11-01 04:00:45.562009 2022-11-01 04:11:21.286856   \n",
       "59      59  0.999672 2022-11-01 04:05:08.611834 2022-11-01 04:15:37.649447   \n",
       "60      60  0.999845 2022-11-01 04:06:49.322981 2022-11-01 04:16:16.002003   \n",
       "\n",
       "                 duration  params_allow_const_label params_auto_class_weights  \\\n",
       "0                     NaT                      True                      None   \n",
       "1  0 days 00:04:31.916706                     False                       NaN   \n",
       "2                     NaT                     False                      None   \n",
       "3                     NaT                      True              SqrtBalanced   \n",
       "4                     NaT                     False                      None   \n",
       "..                    ...                       ...                       ...   \n",
       "56 0 days 00:00:27.103480                     False                       NaN   \n",
       "57 0 days 00:09:53.815037                      True              SqrtBalanced   \n",
       "58 0 days 00:10:35.724847                     False                  Balanced   \n",
       "59 0 days 00:10:29.037613                      True                      None   \n",
       "60 0 days 00:09:26.679022                      True              SqrtBalanced   \n",
       "\n",
       "    params_bagging_temperature params_boosting_type  params_depth  ...  \\\n",
       "0                     8.809268              Ordered             7  ...   \n",
       "1                    15.164037                Plain             1  ...   \n",
       "2                     3.386458                Plain            11  ...   \n",
       "3                    14.816550                Plain            13  ...   \n",
       "4                    15.751194              Ordered             2  ...   \n",
       "..                         ...                  ...           ...  ...   \n",
       "56                   14.456525                Plain             9  ...   \n",
       "57                   12.279088                Plain             6  ...   \n",
       "58                   12.186836                Plain             3  ...   \n",
       "59                   13.407713                Plain             1  ...   \n",
       "60                   12.519587                Plain             4  ...   \n",
       "\n",
       "   params_loss_function  params_max_bin  params_min_data_in_leaf  \\\n",
       "0               Logloss             365                        6   \n",
       "1          CrossEntropy             243                       15   \n",
       "2               Logloss             489                        9   \n",
       "3               Logloss             127                        4   \n",
       "4               Logloss             562                        9   \n",
       "..                  ...             ...                      ...   \n",
       "56         CrossEntropy             252                        2   \n",
       "57              Logloss             248                       15   \n",
       "58              Logloss             361                       14   \n",
       "59              Logloss             268                       16   \n",
       "60              Logloss             292                       17   \n",
       "\n",
       "   params_model_shrink_mode  params_posterior_sampling  params_reg_lambda  \\\n",
       "0                       NaN                       True           7.759734   \n",
       "1                       NaN                       True           7.782886   \n",
       "2                Decreasing                      False           6.529588   \n",
       "3                       NaN                        NaN          10.330070   \n",
       "4                       NaN                        NaN           8.498895   \n",
       "..                      ...                        ...                ...   \n",
       "56                      NaN                        NaN           8.682014   \n",
       "57                      NaN                       True           9.946581   \n",
       "58                      NaN                        NaN          10.018326   \n",
       "59                      NaN                        NaN          10.379076   \n",
       "60                      NaN                       True          10.983932   \n",
       "\n",
       "   params_rsm  params_sampling_frequency  params_score_function     state  \n",
       "0    0.790510                    PerTree                 Cosine   RUNNING  \n",
       "1    0.896013                    PerTree                 Cosine  COMPLETE  \n",
       "2    0.225433               PerTreeLevel                     L2   RUNNING  \n",
       "3    0.656032               PerTreeLevel                     L2   RUNNING  \n",
       "4    0.263213                    PerTree                 Cosine   RUNNING  \n",
       "..        ...                        ...                    ...       ...  \n",
       "56   0.003699                    PerTree                 Cosine  COMPLETE  \n",
       "57   0.489792                    PerTree                     L2  COMPLETE  \n",
       "58   0.592282                        NaN                     L2  COMPLETE  \n",
       "59   0.473360                    PerTree                     L2  COMPLETE  \n",
       "60   0.707066               PerTreeLevel                     L2  COMPLETE  \n",
       "\n",
       "[61 rows x 29 columns]"
      ]
     },
     "execution_count": 5,
     "metadata": {},
     "output_type": "execute_result"
    }
   ],
   "source": [
    "data = joblib.load('catboost_leads.pkl')\n",
    "\n",
    "df = data.trials_dataframe()\n",
    "df"
   ]
  },
  {
   "cell_type": "code",
   "execution_count": 12,
   "metadata": {},
   "outputs": [
    {
     "name": "stderr",
     "output_type": "stream",
     "text": [
      "\u001b[33m[W 2022-11-02 01:04:14,398]\u001b[0m You need to set up the pruning feature to utilize `plot_intermediate_values()`\u001b[0m\n"
     ]
    },
    {
     "data": {
      "application/vnd.plotly.v1+json": {
       "config": {
        "plotlyServerURL": "https://plot.ly"
       },
       "data": [],
       "layout": {
        "showlegend": false,
        "template": {
         "data": {
          "bar": [
           {
            "error_x": {
             "color": "#2a3f5f"
            },
            "error_y": {
             "color": "#2a3f5f"
            },
            "marker": {
             "line": {
              "color": "#E5ECF6",
              "width": 0.5
             },
             "pattern": {
              "fillmode": "overlay",
              "size": 10,
              "solidity": 0.2
             }
            },
            "type": "bar"
           }
          ],
          "barpolar": [
           {
            "marker": {
             "line": {
              "color": "#E5ECF6",
              "width": 0.5
             },
             "pattern": {
              "fillmode": "overlay",
              "size": 10,
              "solidity": 0.2
             }
            },
            "type": "barpolar"
           }
          ],
          "carpet": [
           {
            "aaxis": {
             "endlinecolor": "#2a3f5f",
             "gridcolor": "white",
             "linecolor": "white",
             "minorgridcolor": "white",
             "startlinecolor": "#2a3f5f"
            },
            "baxis": {
             "endlinecolor": "#2a3f5f",
             "gridcolor": "white",
             "linecolor": "white",
             "minorgridcolor": "white",
             "startlinecolor": "#2a3f5f"
            },
            "type": "carpet"
           }
          ],
          "choropleth": [
           {
            "colorbar": {
             "outlinewidth": 0,
             "ticks": ""
            },
            "type": "choropleth"
           }
          ],
          "contour": [
           {
            "colorbar": {
             "outlinewidth": 0,
             "ticks": ""
            },
            "colorscale": [
             [
              0,
              "#0d0887"
             ],
             [
              0.1111111111111111,
              "#46039f"
             ],
             [
              0.2222222222222222,
              "#7201a8"
             ],
             [
              0.3333333333333333,
              "#9c179e"
             ],
             [
              0.4444444444444444,
              "#bd3786"
             ],
             [
              0.5555555555555556,
              "#d8576b"
             ],
             [
              0.6666666666666666,
              "#ed7953"
             ],
             [
              0.7777777777777778,
              "#fb9f3a"
             ],
             [
              0.8888888888888888,
              "#fdca26"
             ],
             [
              1,
              "#f0f921"
             ]
            ],
            "type": "contour"
           }
          ],
          "contourcarpet": [
           {
            "colorbar": {
             "outlinewidth": 0,
             "ticks": ""
            },
            "type": "contourcarpet"
           }
          ],
          "heatmap": [
           {
            "colorbar": {
             "outlinewidth": 0,
             "ticks": ""
            },
            "colorscale": [
             [
              0,
              "#0d0887"
             ],
             [
              0.1111111111111111,
              "#46039f"
             ],
             [
              0.2222222222222222,
              "#7201a8"
             ],
             [
              0.3333333333333333,
              "#9c179e"
             ],
             [
              0.4444444444444444,
              "#bd3786"
             ],
             [
              0.5555555555555556,
              "#d8576b"
             ],
             [
              0.6666666666666666,
              "#ed7953"
             ],
             [
              0.7777777777777778,
              "#fb9f3a"
             ],
             [
              0.8888888888888888,
              "#fdca26"
             ],
             [
              1,
              "#f0f921"
             ]
            ],
            "type": "heatmap"
           }
          ],
          "heatmapgl": [
           {
            "colorbar": {
             "outlinewidth": 0,
             "ticks": ""
            },
            "colorscale": [
             [
              0,
              "#0d0887"
             ],
             [
              0.1111111111111111,
              "#46039f"
             ],
             [
              0.2222222222222222,
              "#7201a8"
             ],
             [
              0.3333333333333333,
              "#9c179e"
             ],
             [
              0.4444444444444444,
              "#bd3786"
             ],
             [
              0.5555555555555556,
              "#d8576b"
             ],
             [
              0.6666666666666666,
              "#ed7953"
             ],
             [
              0.7777777777777778,
              "#fb9f3a"
             ],
             [
              0.8888888888888888,
              "#fdca26"
             ],
             [
              1,
              "#f0f921"
             ]
            ],
            "type": "heatmapgl"
           }
          ],
          "histogram": [
           {
            "marker": {
             "pattern": {
              "fillmode": "overlay",
              "size": 10,
              "solidity": 0.2
             }
            },
            "type": "histogram"
           }
          ],
          "histogram2d": [
           {
            "colorbar": {
             "outlinewidth": 0,
             "ticks": ""
            },
            "colorscale": [
             [
              0,
              "#0d0887"
             ],
             [
              0.1111111111111111,
              "#46039f"
             ],
             [
              0.2222222222222222,
              "#7201a8"
             ],
             [
              0.3333333333333333,
              "#9c179e"
             ],
             [
              0.4444444444444444,
              "#bd3786"
             ],
             [
              0.5555555555555556,
              "#d8576b"
             ],
             [
              0.6666666666666666,
              "#ed7953"
             ],
             [
              0.7777777777777778,
              "#fb9f3a"
             ],
             [
              0.8888888888888888,
              "#fdca26"
             ],
             [
              1,
              "#f0f921"
             ]
            ],
            "type": "histogram2d"
           }
          ],
          "histogram2dcontour": [
           {
            "colorbar": {
             "outlinewidth": 0,
             "ticks": ""
            },
            "colorscale": [
             [
              0,
              "#0d0887"
             ],
             [
              0.1111111111111111,
              "#46039f"
             ],
             [
              0.2222222222222222,
              "#7201a8"
             ],
             [
              0.3333333333333333,
              "#9c179e"
             ],
             [
              0.4444444444444444,
              "#bd3786"
             ],
             [
              0.5555555555555556,
              "#d8576b"
             ],
             [
              0.6666666666666666,
              "#ed7953"
             ],
             [
              0.7777777777777778,
              "#fb9f3a"
             ],
             [
              0.8888888888888888,
              "#fdca26"
             ],
             [
              1,
              "#f0f921"
             ]
            ],
            "type": "histogram2dcontour"
           }
          ],
          "mesh3d": [
           {
            "colorbar": {
             "outlinewidth": 0,
             "ticks": ""
            },
            "type": "mesh3d"
           }
          ],
          "parcoords": [
           {
            "line": {
             "colorbar": {
              "outlinewidth": 0,
              "ticks": ""
             }
            },
            "type": "parcoords"
           }
          ],
          "pie": [
           {
            "automargin": true,
            "type": "pie"
           }
          ],
          "scatter": [
           {
            "fillpattern": {
             "fillmode": "overlay",
             "size": 10,
             "solidity": 0.2
            },
            "type": "scatter"
           }
          ],
          "scatter3d": [
           {
            "line": {
             "colorbar": {
              "outlinewidth": 0,
              "ticks": ""
             }
            },
            "marker": {
             "colorbar": {
              "outlinewidth": 0,
              "ticks": ""
             }
            },
            "type": "scatter3d"
           }
          ],
          "scattercarpet": [
           {
            "marker": {
             "colorbar": {
              "outlinewidth": 0,
              "ticks": ""
             }
            },
            "type": "scattercarpet"
           }
          ],
          "scattergeo": [
           {
            "marker": {
             "colorbar": {
              "outlinewidth": 0,
              "ticks": ""
             }
            },
            "type": "scattergeo"
           }
          ],
          "scattergl": [
           {
            "marker": {
             "colorbar": {
              "outlinewidth": 0,
              "ticks": ""
             }
            },
            "type": "scattergl"
           }
          ],
          "scattermapbox": [
           {
            "marker": {
             "colorbar": {
              "outlinewidth": 0,
              "ticks": ""
             }
            },
            "type": "scattermapbox"
           }
          ],
          "scatterpolar": [
           {
            "marker": {
             "colorbar": {
              "outlinewidth": 0,
              "ticks": ""
             }
            },
            "type": "scatterpolar"
           }
          ],
          "scatterpolargl": [
           {
            "marker": {
             "colorbar": {
              "outlinewidth": 0,
              "ticks": ""
             }
            },
            "type": "scatterpolargl"
           }
          ],
          "scatterternary": [
           {
            "marker": {
             "colorbar": {
              "outlinewidth": 0,
              "ticks": ""
             }
            },
            "type": "scatterternary"
           }
          ],
          "surface": [
           {
            "colorbar": {
             "outlinewidth": 0,
             "ticks": ""
            },
            "colorscale": [
             [
              0,
              "#0d0887"
             ],
             [
              0.1111111111111111,
              "#46039f"
             ],
             [
              0.2222222222222222,
              "#7201a8"
             ],
             [
              0.3333333333333333,
              "#9c179e"
             ],
             [
              0.4444444444444444,
              "#bd3786"
             ],
             [
              0.5555555555555556,
              "#d8576b"
             ],
             [
              0.6666666666666666,
              "#ed7953"
             ],
             [
              0.7777777777777778,
              "#fb9f3a"
             ],
             [
              0.8888888888888888,
              "#fdca26"
             ],
             [
              1,
              "#f0f921"
             ]
            ],
            "type": "surface"
           }
          ],
          "table": [
           {
            "cells": {
             "fill": {
              "color": "#EBF0F8"
             },
             "line": {
              "color": "white"
             }
            },
            "header": {
             "fill": {
              "color": "#C8D4E3"
             },
             "line": {
              "color": "white"
             }
            },
            "type": "table"
           }
          ]
         },
         "layout": {
          "annotationdefaults": {
           "arrowcolor": "#2a3f5f",
           "arrowhead": 0,
           "arrowwidth": 1
          },
          "autotypenumbers": "strict",
          "coloraxis": {
           "colorbar": {
            "outlinewidth": 0,
            "ticks": ""
           }
          },
          "colorscale": {
           "diverging": [
            [
             0,
             "#8e0152"
            ],
            [
             0.1,
             "#c51b7d"
            ],
            [
             0.2,
             "#de77ae"
            ],
            [
             0.3,
             "#f1b6da"
            ],
            [
             0.4,
             "#fde0ef"
            ],
            [
             0.5,
             "#f7f7f7"
            ],
            [
             0.6,
             "#e6f5d0"
            ],
            [
             0.7,
             "#b8e186"
            ],
            [
             0.8,
             "#7fbc41"
            ],
            [
             0.9,
             "#4d9221"
            ],
            [
             1,
             "#276419"
            ]
           ],
           "sequential": [
            [
             0,
             "#0d0887"
            ],
            [
             0.1111111111111111,
             "#46039f"
            ],
            [
             0.2222222222222222,
             "#7201a8"
            ],
            [
             0.3333333333333333,
             "#9c179e"
            ],
            [
             0.4444444444444444,
             "#bd3786"
            ],
            [
             0.5555555555555556,
             "#d8576b"
            ],
            [
             0.6666666666666666,
             "#ed7953"
            ],
            [
             0.7777777777777778,
             "#fb9f3a"
            ],
            [
             0.8888888888888888,
             "#fdca26"
            ],
            [
             1,
             "#f0f921"
            ]
           ],
           "sequentialminus": [
            [
             0,
             "#0d0887"
            ],
            [
             0.1111111111111111,
             "#46039f"
            ],
            [
             0.2222222222222222,
             "#7201a8"
            ],
            [
             0.3333333333333333,
             "#9c179e"
            ],
            [
             0.4444444444444444,
             "#bd3786"
            ],
            [
             0.5555555555555556,
             "#d8576b"
            ],
            [
             0.6666666666666666,
             "#ed7953"
            ],
            [
             0.7777777777777778,
             "#fb9f3a"
            ],
            [
             0.8888888888888888,
             "#fdca26"
            ],
            [
             1,
             "#f0f921"
            ]
           ]
          },
          "colorway": [
           "#636efa",
           "#EF553B",
           "#00cc96",
           "#ab63fa",
           "#FFA15A",
           "#19d3f3",
           "#FF6692",
           "#B6E880",
           "#FF97FF",
           "#FECB52"
          ],
          "font": {
           "color": "#2a3f5f"
          },
          "geo": {
           "bgcolor": "white",
           "lakecolor": "white",
           "landcolor": "#E5ECF6",
           "showlakes": true,
           "showland": true,
           "subunitcolor": "white"
          },
          "hoverlabel": {
           "align": "left"
          },
          "hovermode": "closest",
          "mapbox": {
           "style": "light"
          },
          "paper_bgcolor": "white",
          "plot_bgcolor": "#E5ECF6",
          "polar": {
           "angularaxis": {
            "gridcolor": "white",
            "linecolor": "white",
            "ticks": ""
           },
           "bgcolor": "#E5ECF6",
           "radialaxis": {
            "gridcolor": "white",
            "linecolor": "white",
            "ticks": ""
           }
          },
          "scene": {
           "xaxis": {
            "backgroundcolor": "#E5ECF6",
            "gridcolor": "white",
            "gridwidth": 2,
            "linecolor": "white",
            "showbackground": true,
            "ticks": "",
            "zerolinecolor": "white"
           },
           "yaxis": {
            "backgroundcolor": "#E5ECF6",
            "gridcolor": "white",
            "gridwidth": 2,
            "linecolor": "white",
            "showbackground": true,
            "ticks": "",
            "zerolinecolor": "white"
           },
           "zaxis": {
            "backgroundcolor": "#E5ECF6",
            "gridcolor": "white",
            "gridwidth": 2,
            "linecolor": "white",
            "showbackground": true,
            "ticks": "",
            "zerolinecolor": "white"
           }
          },
          "shapedefaults": {
           "line": {
            "color": "#2a3f5f"
           }
          },
          "ternary": {
           "aaxis": {
            "gridcolor": "white",
            "linecolor": "white",
            "ticks": ""
           },
           "baxis": {
            "gridcolor": "white",
            "linecolor": "white",
            "ticks": ""
           },
           "bgcolor": "#E5ECF6",
           "caxis": {
            "gridcolor": "white",
            "linecolor": "white",
            "ticks": ""
           }
          },
          "title": {
           "x": 0.05
          },
          "xaxis": {
           "automargin": true,
           "gridcolor": "white",
           "linecolor": "white",
           "ticks": "",
           "title": {
            "standoff": 15
           },
           "zerolinecolor": "white",
           "zerolinewidth": 2
          },
          "yaxis": {
           "automargin": true,
           "gridcolor": "white",
           "linecolor": "white",
           "ticks": "",
           "title": {
            "standoff": 15
           },
           "zerolinecolor": "white",
           "zerolinewidth": 2
          }
         }
        },
        "title": {
         "text": "Intermediate Values Plot"
        },
        "xaxis": {
         "title": {
          "text": "Step"
         }
        },
        "yaxis": {
         "title": {
          "text": "Intermediate Value"
         }
        }
       }
      }
     },
     "metadata": {},
     "output_type": "display_data"
    }
   ],
   "source": [
    "optuna.visualization.plot_intermediate_values(data)\n"
   ]
  },
  {
   "cell_type": "code",
   "execution_count": 6,
   "metadata": {},
   "outputs": [
    {
     "data": {
      "application/vnd.plotly.v1+json": {
       "config": {
        "plotlyServerURL": "https://plot.ly"
       },
       "data": [
        {
         "mode": "markers",
         "name": "Objective Value",
         "type": "scatter",
         "x": [
          1,
          7,
          8,
          9,
          12,
          14,
          17,
          20,
          24,
          33,
          34,
          35,
          36,
          37,
          41,
          42,
          43,
          44,
          46,
          47,
          48,
          49,
          50,
          51,
          52,
          55,
          56,
          57,
          58,
          59,
          60
         ],
         "y": [
          0.9996882398344529,
          0.9998300762773159,
          0.9998537347414909,
          0.9998493059258448,
          0.9997384711925047,
          0.9995906915480512,
          0.999834505092962,
          0.9997340423768586,
          0.9996778678172162,
          0.9997754161036181,
          0.9998581635571371,
          0.9992507297604958,
          0.9997148127283296,
          0.9997931313662025,
          0.9997325279909142,
          0.9997606152707352,
          0.9998019889974947,
          0.9997931313662025,
          0.9997429000081508,
          0.9998050177693836,
          0.999751757639443,
          0.9998300762773159,
          0.9998581635571371,
          0.9997606152707352,
          0.9997059550970374,
          0.9998493059258448,
          0.9943475150043288,
          0.9998581635571371,
          0.9998167898303776,
          0.9996719246156257,
          0.9998448771101986
         ]
        },
        {
         "name": "Best Value",
         "type": "scatter",
         "x": [
          1,
          7,
          8,
          9,
          12,
          14,
          17,
          20,
          24,
          33,
          34,
          35,
          36,
          37,
          41,
          42,
          43,
          44,
          46,
          47,
          48,
          49,
          50,
          51,
          52,
          55,
          56,
          57,
          58,
          59,
          60
         ],
         "y": [
          0.9996882398344529,
          0.9998300762773159,
          0.9998537347414909,
          0.9998537347414909,
          0.9998537347414909,
          0.9998537347414909,
          0.9998537347414909,
          0.9998537347414909,
          0.9998537347414909,
          0.9998537347414909,
          0.9998581635571371,
          0.9998581635571371,
          0.9998581635571371,
          0.9998581635571371,
          0.9998581635571371,
          0.9998581635571371,
          0.9998581635571371,
          0.9998581635571371,
          0.9998581635571371,
          0.9998581635571371,
          0.9998581635571371,
          0.9998581635571371,
          0.9998581635571371,
          0.9998581635571371,
          0.9998581635571371,
          0.9998581635571371,
          0.9998581635571371,
          0.9998581635571371,
          0.9998581635571371,
          0.9998581635571371,
          0.9998581635571371
         ]
        }
       ],
       "layout": {
        "template": {
         "data": {
          "bar": [
           {
            "error_x": {
             "color": "#2a3f5f"
            },
            "error_y": {
             "color": "#2a3f5f"
            },
            "marker": {
             "line": {
              "color": "#E5ECF6",
              "width": 0.5
             },
             "pattern": {
              "fillmode": "overlay",
              "size": 10,
              "solidity": 0.2
             }
            },
            "type": "bar"
           }
          ],
          "barpolar": [
           {
            "marker": {
             "line": {
              "color": "#E5ECF6",
              "width": 0.5
             },
             "pattern": {
              "fillmode": "overlay",
              "size": 10,
              "solidity": 0.2
             }
            },
            "type": "barpolar"
           }
          ],
          "carpet": [
           {
            "aaxis": {
             "endlinecolor": "#2a3f5f",
             "gridcolor": "white",
             "linecolor": "white",
             "minorgridcolor": "white",
             "startlinecolor": "#2a3f5f"
            },
            "baxis": {
             "endlinecolor": "#2a3f5f",
             "gridcolor": "white",
             "linecolor": "white",
             "minorgridcolor": "white",
             "startlinecolor": "#2a3f5f"
            },
            "type": "carpet"
           }
          ],
          "choropleth": [
           {
            "colorbar": {
             "outlinewidth": 0,
             "ticks": ""
            },
            "type": "choropleth"
           }
          ],
          "contour": [
           {
            "colorbar": {
             "outlinewidth": 0,
             "ticks": ""
            },
            "colorscale": [
             [
              0,
              "#0d0887"
             ],
             [
              0.1111111111111111,
              "#46039f"
             ],
             [
              0.2222222222222222,
              "#7201a8"
             ],
             [
              0.3333333333333333,
              "#9c179e"
             ],
             [
              0.4444444444444444,
              "#bd3786"
             ],
             [
              0.5555555555555556,
              "#d8576b"
             ],
             [
              0.6666666666666666,
              "#ed7953"
             ],
             [
              0.7777777777777778,
              "#fb9f3a"
             ],
             [
              0.8888888888888888,
              "#fdca26"
             ],
             [
              1,
              "#f0f921"
             ]
            ],
            "type": "contour"
           }
          ],
          "contourcarpet": [
           {
            "colorbar": {
             "outlinewidth": 0,
             "ticks": ""
            },
            "type": "contourcarpet"
           }
          ],
          "heatmap": [
           {
            "colorbar": {
             "outlinewidth": 0,
             "ticks": ""
            },
            "colorscale": [
             [
              0,
              "#0d0887"
             ],
             [
              0.1111111111111111,
              "#46039f"
             ],
             [
              0.2222222222222222,
              "#7201a8"
             ],
             [
              0.3333333333333333,
              "#9c179e"
             ],
             [
              0.4444444444444444,
              "#bd3786"
             ],
             [
              0.5555555555555556,
              "#d8576b"
             ],
             [
              0.6666666666666666,
              "#ed7953"
             ],
             [
              0.7777777777777778,
              "#fb9f3a"
             ],
             [
              0.8888888888888888,
              "#fdca26"
             ],
             [
              1,
              "#f0f921"
             ]
            ],
            "type": "heatmap"
           }
          ],
          "heatmapgl": [
           {
            "colorbar": {
             "outlinewidth": 0,
             "ticks": ""
            },
            "colorscale": [
             [
              0,
              "#0d0887"
             ],
             [
              0.1111111111111111,
              "#46039f"
             ],
             [
              0.2222222222222222,
              "#7201a8"
             ],
             [
              0.3333333333333333,
              "#9c179e"
             ],
             [
              0.4444444444444444,
              "#bd3786"
             ],
             [
              0.5555555555555556,
              "#d8576b"
             ],
             [
              0.6666666666666666,
              "#ed7953"
             ],
             [
              0.7777777777777778,
              "#fb9f3a"
             ],
             [
              0.8888888888888888,
              "#fdca26"
             ],
             [
              1,
              "#f0f921"
             ]
            ],
            "type": "heatmapgl"
           }
          ],
          "histogram": [
           {
            "marker": {
             "pattern": {
              "fillmode": "overlay",
              "size": 10,
              "solidity": 0.2
             }
            },
            "type": "histogram"
           }
          ],
          "histogram2d": [
           {
            "colorbar": {
             "outlinewidth": 0,
             "ticks": ""
            },
            "colorscale": [
             [
              0,
              "#0d0887"
             ],
             [
              0.1111111111111111,
              "#46039f"
             ],
             [
              0.2222222222222222,
              "#7201a8"
             ],
             [
              0.3333333333333333,
              "#9c179e"
             ],
             [
              0.4444444444444444,
              "#bd3786"
             ],
             [
              0.5555555555555556,
              "#d8576b"
             ],
             [
              0.6666666666666666,
              "#ed7953"
             ],
             [
              0.7777777777777778,
              "#fb9f3a"
             ],
             [
              0.8888888888888888,
              "#fdca26"
             ],
             [
              1,
              "#f0f921"
             ]
            ],
            "type": "histogram2d"
           }
          ],
          "histogram2dcontour": [
           {
            "colorbar": {
             "outlinewidth": 0,
             "ticks": ""
            },
            "colorscale": [
             [
              0,
              "#0d0887"
             ],
             [
              0.1111111111111111,
              "#46039f"
             ],
             [
              0.2222222222222222,
              "#7201a8"
             ],
             [
              0.3333333333333333,
              "#9c179e"
             ],
             [
              0.4444444444444444,
              "#bd3786"
             ],
             [
              0.5555555555555556,
              "#d8576b"
             ],
             [
              0.6666666666666666,
              "#ed7953"
             ],
             [
              0.7777777777777778,
              "#fb9f3a"
             ],
             [
              0.8888888888888888,
              "#fdca26"
             ],
             [
              1,
              "#f0f921"
             ]
            ],
            "type": "histogram2dcontour"
           }
          ],
          "mesh3d": [
           {
            "colorbar": {
             "outlinewidth": 0,
             "ticks": ""
            },
            "type": "mesh3d"
           }
          ],
          "parcoords": [
           {
            "line": {
             "colorbar": {
              "outlinewidth": 0,
              "ticks": ""
             }
            },
            "type": "parcoords"
           }
          ],
          "pie": [
           {
            "automargin": true,
            "type": "pie"
           }
          ],
          "scatter": [
           {
            "fillpattern": {
             "fillmode": "overlay",
             "size": 10,
             "solidity": 0.2
            },
            "type": "scatter"
           }
          ],
          "scatter3d": [
           {
            "line": {
             "colorbar": {
              "outlinewidth": 0,
              "ticks": ""
             }
            },
            "marker": {
             "colorbar": {
              "outlinewidth": 0,
              "ticks": ""
             }
            },
            "type": "scatter3d"
           }
          ],
          "scattercarpet": [
           {
            "marker": {
             "colorbar": {
              "outlinewidth": 0,
              "ticks": ""
             }
            },
            "type": "scattercarpet"
           }
          ],
          "scattergeo": [
           {
            "marker": {
             "colorbar": {
              "outlinewidth": 0,
              "ticks": ""
             }
            },
            "type": "scattergeo"
           }
          ],
          "scattergl": [
           {
            "marker": {
             "colorbar": {
              "outlinewidth": 0,
              "ticks": ""
             }
            },
            "type": "scattergl"
           }
          ],
          "scattermapbox": [
           {
            "marker": {
             "colorbar": {
              "outlinewidth": 0,
              "ticks": ""
             }
            },
            "type": "scattermapbox"
           }
          ],
          "scatterpolar": [
           {
            "marker": {
             "colorbar": {
              "outlinewidth": 0,
              "ticks": ""
             }
            },
            "type": "scatterpolar"
           }
          ],
          "scatterpolargl": [
           {
            "marker": {
             "colorbar": {
              "outlinewidth": 0,
              "ticks": ""
             }
            },
            "type": "scatterpolargl"
           }
          ],
          "scatterternary": [
           {
            "marker": {
             "colorbar": {
              "outlinewidth": 0,
              "ticks": ""
             }
            },
            "type": "scatterternary"
           }
          ],
          "surface": [
           {
            "colorbar": {
             "outlinewidth": 0,
             "ticks": ""
            },
            "colorscale": [
             [
              0,
              "#0d0887"
             ],
             [
              0.1111111111111111,
              "#46039f"
             ],
             [
              0.2222222222222222,
              "#7201a8"
             ],
             [
              0.3333333333333333,
              "#9c179e"
             ],
             [
              0.4444444444444444,
              "#bd3786"
             ],
             [
              0.5555555555555556,
              "#d8576b"
             ],
             [
              0.6666666666666666,
              "#ed7953"
             ],
             [
              0.7777777777777778,
              "#fb9f3a"
             ],
             [
              0.8888888888888888,
              "#fdca26"
             ],
             [
              1,
              "#f0f921"
             ]
            ],
            "type": "surface"
           }
          ],
          "table": [
           {
            "cells": {
             "fill": {
              "color": "#EBF0F8"
             },
             "line": {
              "color": "white"
             }
            },
            "header": {
             "fill": {
              "color": "#C8D4E3"
             },
             "line": {
              "color": "white"
             }
            },
            "type": "table"
           }
          ]
         },
         "layout": {
          "annotationdefaults": {
           "arrowcolor": "#2a3f5f",
           "arrowhead": 0,
           "arrowwidth": 1
          },
          "autotypenumbers": "strict",
          "coloraxis": {
           "colorbar": {
            "outlinewidth": 0,
            "ticks": ""
           }
          },
          "colorscale": {
           "diverging": [
            [
             0,
             "#8e0152"
            ],
            [
             0.1,
             "#c51b7d"
            ],
            [
             0.2,
             "#de77ae"
            ],
            [
             0.3,
             "#f1b6da"
            ],
            [
             0.4,
             "#fde0ef"
            ],
            [
             0.5,
             "#f7f7f7"
            ],
            [
             0.6,
             "#e6f5d0"
            ],
            [
             0.7,
             "#b8e186"
            ],
            [
             0.8,
             "#7fbc41"
            ],
            [
             0.9,
             "#4d9221"
            ],
            [
             1,
             "#276419"
            ]
           ],
           "sequential": [
            [
             0,
             "#0d0887"
            ],
            [
             0.1111111111111111,
             "#46039f"
            ],
            [
             0.2222222222222222,
             "#7201a8"
            ],
            [
             0.3333333333333333,
             "#9c179e"
            ],
            [
             0.4444444444444444,
             "#bd3786"
            ],
            [
             0.5555555555555556,
             "#d8576b"
            ],
            [
             0.6666666666666666,
             "#ed7953"
            ],
            [
             0.7777777777777778,
             "#fb9f3a"
            ],
            [
             0.8888888888888888,
             "#fdca26"
            ],
            [
             1,
             "#f0f921"
            ]
           ],
           "sequentialminus": [
            [
             0,
             "#0d0887"
            ],
            [
             0.1111111111111111,
             "#46039f"
            ],
            [
             0.2222222222222222,
             "#7201a8"
            ],
            [
             0.3333333333333333,
             "#9c179e"
            ],
            [
             0.4444444444444444,
             "#bd3786"
            ],
            [
             0.5555555555555556,
             "#d8576b"
            ],
            [
             0.6666666666666666,
             "#ed7953"
            ],
            [
             0.7777777777777778,
             "#fb9f3a"
            ],
            [
             0.8888888888888888,
             "#fdca26"
            ],
            [
             1,
             "#f0f921"
            ]
           ]
          },
          "colorway": [
           "#636efa",
           "#EF553B",
           "#00cc96",
           "#ab63fa",
           "#FFA15A",
           "#19d3f3",
           "#FF6692",
           "#B6E880",
           "#FF97FF",
           "#FECB52"
          ],
          "font": {
           "color": "#2a3f5f"
          },
          "geo": {
           "bgcolor": "white",
           "lakecolor": "white",
           "landcolor": "#E5ECF6",
           "showlakes": true,
           "showland": true,
           "subunitcolor": "white"
          },
          "hoverlabel": {
           "align": "left"
          },
          "hovermode": "closest",
          "mapbox": {
           "style": "light"
          },
          "paper_bgcolor": "white",
          "plot_bgcolor": "#E5ECF6",
          "polar": {
           "angularaxis": {
            "gridcolor": "white",
            "linecolor": "white",
            "ticks": ""
           },
           "bgcolor": "#E5ECF6",
           "radialaxis": {
            "gridcolor": "white",
            "linecolor": "white",
            "ticks": ""
           }
          },
          "scene": {
           "xaxis": {
            "backgroundcolor": "#E5ECF6",
            "gridcolor": "white",
            "gridwidth": 2,
            "linecolor": "white",
            "showbackground": true,
            "ticks": "",
            "zerolinecolor": "white"
           },
           "yaxis": {
            "backgroundcolor": "#E5ECF6",
            "gridcolor": "white",
            "gridwidth": 2,
            "linecolor": "white",
            "showbackground": true,
            "ticks": "",
            "zerolinecolor": "white"
           },
           "zaxis": {
            "backgroundcolor": "#E5ECF6",
            "gridcolor": "white",
            "gridwidth": 2,
            "linecolor": "white",
            "showbackground": true,
            "ticks": "",
            "zerolinecolor": "white"
           }
          },
          "shapedefaults": {
           "line": {
            "color": "#2a3f5f"
           }
          },
          "ternary": {
           "aaxis": {
            "gridcolor": "white",
            "linecolor": "white",
            "ticks": ""
           },
           "baxis": {
            "gridcolor": "white",
            "linecolor": "white",
            "ticks": ""
           },
           "bgcolor": "#E5ECF6",
           "caxis": {
            "gridcolor": "white",
            "linecolor": "white",
            "ticks": ""
           }
          },
          "title": {
           "x": 0.05
          },
          "xaxis": {
           "automargin": true,
           "gridcolor": "white",
           "linecolor": "white",
           "ticks": "",
           "title": {
            "standoff": 15
           },
           "zerolinecolor": "white",
           "zerolinewidth": 2
          },
          "yaxis": {
           "automargin": true,
           "gridcolor": "white",
           "linecolor": "white",
           "ticks": "",
           "title": {
            "standoff": 15
           },
           "zerolinecolor": "white",
           "zerolinewidth": 2
          }
         }
        },
        "title": {
         "text": "Optimization History Plot"
        },
        "xaxis": {
         "title": {
          "text": "Trial"
         }
        },
        "yaxis": {
         "title": {
          "text": "Objective Value"
         }
        }
       }
      }
     },
     "metadata": {},
     "output_type": "display_data"
    }
   ],
   "source": [
    "optuna.visualization.plot_optimization_history(data)\n"
   ]
  },
  {
   "cell_type": "code",
   "execution_count": 9,
   "metadata": {},
   "outputs": [
    {
     "data": {
      "application/vnd.plotly.v1+json": {
       "config": {
        "plotlyServerURL": "https://plot.ly"
       },
       "data": [
        {
         "cliponaxis": false,
         "hovertemplate": [
          "score_function (CategoricalDistribution): 6.376647155567282e-05<extra></extra>",
          "leaf_estimation_backtracking (CategoricalDistribution): 9.84919100820746e-05<extra></extra>",
          "boosting_type (CategoricalDistribution): 0.0001008589830383491<extra></extra>",
          "loss_function (CategoricalDistribution): 0.0002690865124908859<extra></extra>",
          "langevin (CategoricalDistribution): 0.0012728205906041888<extra></extra>",
          "depth (IntDistribution): 0.001293962615585366<extra></extra>",
          "eval_metric (CategoricalDistribution): 0.0017143139241175965<extra></extra>",
          "allow_const_label (CategoricalDistribution): 0.0017467495484767832<extra></extra>",
          "leaf_estimation_iterations (IntDistribution): 0.00220245464265147<extra></extra>",
          "fold_permutation_block (IntDistribution): 0.004537228096635726<extra></extra>",
          "max_bin (IntDistribution): 0.005085055120111475<extra></extra>",
          "learning_rate (FloatDistribution): 0.010333188476145474<extra></extra>",
          "fold_len_multiplier (FloatDistribution): 0.013585034401084023<extra></extra>",
          "reg_lambda (FloatDistribution): 0.025223301921615975<extra></extra>",
          "min_data_in_leaf (IntDistribution): 0.041755497352865496<extra></extra>",
          "iterations (IntDistribution): 0.04702567318144102<extra></extra>",
          "bagging_temperature (FloatDistribution): 0.19694320018186937<extra></extra>",
          "rsm (FloatDistribution): 0.6467493160696292<extra></extra>"
         ],
         "marker": {
          "color": "rgb(66,146,198)"
         },
         "orientation": "h",
         "text": [
          "<0.01",
          "<0.01",
          "<0.01",
          "<0.01",
          "<0.01",
          "<0.01",
          "<0.01",
          "<0.01",
          "<0.01",
          "<0.01",
          "<0.01",
          "0.01",
          "0.01",
          "0.03",
          "0.04",
          "0.05",
          "0.20",
          "0.65"
         ],
         "textposition": "outside",
         "type": "bar",
         "x": [
          0.00006376647155567282,
          0.0000984919100820746,
          0.0001008589830383491,
          0.0002690865124908859,
          0.0012728205906041888,
          0.001293962615585366,
          0.0017143139241175965,
          0.0017467495484767832,
          0.00220245464265147,
          0.004537228096635726,
          0.005085055120111475,
          0.010333188476145474,
          0.013585034401084023,
          0.025223301921615975,
          0.041755497352865496,
          0.04702567318144102,
          0.19694320018186937,
          0.6467493160696292
         ],
         "y": [
          "score_function",
          "leaf_estimation_backtracking",
          "boosting_type",
          "loss_function",
          "langevin",
          "depth",
          "eval_metric",
          "allow_const_label",
          "leaf_estimation_iterations",
          "fold_permutation_block",
          "max_bin",
          "learning_rate",
          "fold_len_multiplier",
          "reg_lambda",
          "min_data_in_leaf",
          "iterations",
          "bagging_temperature",
          "rsm"
         ]
        }
       ],
       "layout": {
        "showlegend": false,
        "template": {
         "data": {
          "bar": [
           {
            "error_x": {
             "color": "#2a3f5f"
            },
            "error_y": {
             "color": "#2a3f5f"
            },
            "marker": {
             "line": {
              "color": "#E5ECF6",
              "width": 0.5
             },
             "pattern": {
              "fillmode": "overlay",
              "size": 10,
              "solidity": 0.2
             }
            },
            "type": "bar"
           }
          ],
          "barpolar": [
           {
            "marker": {
             "line": {
              "color": "#E5ECF6",
              "width": 0.5
             },
             "pattern": {
              "fillmode": "overlay",
              "size": 10,
              "solidity": 0.2
             }
            },
            "type": "barpolar"
           }
          ],
          "carpet": [
           {
            "aaxis": {
             "endlinecolor": "#2a3f5f",
             "gridcolor": "white",
             "linecolor": "white",
             "minorgridcolor": "white",
             "startlinecolor": "#2a3f5f"
            },
            "baxis": {
             "endlinecolor": "#2a3f5f",
             "gridcolor": "white",
             "linecolor": "white",
             "minorgridcolor": "white",
             "startlinecolor": "#2a3f5f"
            },
            "type": "carpet"
           }
          ],
          "choropleth": [
           {
            "colorbar": {
             "outlinewidth": 0,
             "ticks": ""
            },
            "type": "choropleth"
           }
          ],
          "contour": [
           {
            "colorbar": {
             "outlinewidth": 0,
             "ticks": ""
            },
            "colorscale": [
             [
              0,
              "#0d0887"
             ],
             [
              0.1111111111111111,
              "#46039f"
             ],
             [
              0.2222222222222222,
              "#7201a8"
             ],
             [
              0.3333333333333333,
              "#9c179e"
             ],
             [
              0.4444444444444444,
              "#bd3786"
             ],
             [
              0.5555555555555556,
              "#d8576b"
             ],
             [
              0.6666666666666666,
              "#ed7953"
             ],
             [
              0.7777777777777778,
              "#fb9f3a"
             ],
             [
              0.8888888888888888,
              "#fdca26"
             ],
             [
              1,
              "#f0f921"
             ]
            ],
            "type": "contour"
           }
          ],
          "contourcarpet": [
           {
            "colorbar": {
             "outlinewidth": 0,
             "ticks": ""
            },
            "type": "contourcarpet"
           }
          ],
          "heatmap": [
           {
            "colorbar": {
             "outlinewidth": 0,
             "ticks": ""
            },
            "colorscale": [
             [
              0,
              "#0d0887"
             ],
             [
              0.1111111111111111,
              "#46039f"
             ],
             [
              0.2222222222222222,
              "#7201a8"
             ],
             [
              0.3333333333333333,
              "#9c179e"
             ],
             [
              0.4444444444444444,
              "#bd3786"
             ],
             [
              0.5555555555555556,
              "#d8576b"
             ],
             [
              0.6666666666666666,
              "#ed7953"
             ],
             [
              0.7777777777777778,
              "#fb9f3a"
             ],
             [
              0.8888888888888888,
              "#fdca26"
             ],
             [
              1,
              "#f0f921"
             ]
            ],
            "type": "heatmap"
           }
          ],
          "heatmapgl": [
           {
            "colorbar": {
             "outlinewidth": 0,
             "ticks": ""
            },
            "colorscale": [
             [
              0,
              "#0d0887"
             ],
             [
              0.1111111111111111,
              "#46039f"
             ],
             [
              0.2222222222222222,
              "#7201a8"
             ],
             [
              0.3333333333333333,
              "#9c179e"
             ],
             [
              0.4444444444444444,
              "#bd3786"
             ],
             [
              0.5555555555555556,
              "#d8576b"
             ],
             [
              0.6666666666666666,
              "#ed7953"
             ],
             [
              0.7777777777777778,
              "#fb9f3a"
             ],
             [
              0.8888888888888888,
              "#fdca26"
             ],
             [
              1,
              "#f0f921"
             ]
            ],
            "type": "heatmapgl"
           }
          ],
          "histogram": [
           {
            "marker": {
             "pattern": {
              "fillmode": "overlay",
              "size": 10,
              "solidity": 0.2
             }
            },
            "type": "histogram"
           }
          ],
          "histogram2d": [
           {
            "colorbar": {
             "outlinewidth": 0,
             "ticks": ""
            },
            "colorscale": [
             [
              0,
              "#0d0887"
             ],
             [
              0.1111111111111111,
              "#46039f"
             ],
             [
              0.2222222222222222,
              "#7201a8"
             ],
             [
              0.3333333333333333,
              "#9c179e"
             ],
             [
              0.4444444444444444,
              "#bd3786"
             ],
             [
              0.5555555555555556,
              "#d8576b"
             ],
             [
              0.6666666666666666,
              "#ed7953"
             ],
             [
              0.7777777777777778,
              "#fb9f3a"
             ],
             [
              0.8888888888888888,
              "#fdca26"
             ],
             [
              1,
              "#f0f921"
             ]
            ],
            "type": "histogram2d"
           }
          ],
          "histogram2dcontour": [
           {
            "colorbar": {
             "outlinewidth": 0,
             "ticks": ""
            },
            "colorscale": [
             [
              0,
              "#0d0887"
             ],
             [
              0.1111111111111111,
              "#46039f"
             ],
             [
              0.2222222222222222,
              "#7201a8"
             ],
             [
              0.3333333333333333,
              "#9c179e"
             ],
             [
              0.4444444444444444,
              "#bd3786"
             ],
             [
              0.5555555555555556,
              "#d8576b"
             ],
             [
              0.6666666666666666,
              "#ed7953"
             ],
             [
              0.7777777777777778,
              "#fb9f3a"
             ],
             [
              0.8888888888888888,
              "#fdca26"
             ],
             [
              1,
              "#f0f921"
             ]
            ],
            "type": "histogram2dcontour"
           }
          ],
          "mesh3d": [
           {
            "colorbar": {
             "outlinewidth": 0,
             "ticks": ""
            },
            "type": "mesh3d"
           }
          ],
          "parcoords": [
           {
            "line": {
             "colorbar": {
              "outlinewidth": 0,
              "ticks": ""
             }
            },
            "type": "parcoords"
           }
          ],
          "pie": [
           {
            "automargin": true,
            "type": "pie"
           }
          ],
          "scatter": [
           {
            "fillpattern": {
             "fillmode": "overlay",
             "size": 10,
             "solidity": 0.2
            },
            "type": "scatter"
           }
          ],
          "scatter3d": [
           {
            "line": {
             "colorbar": {
              "outlinewidth": 0,
              "ticks": ""
             }
            },
            "marker": {
             "colorbar": {
              "outlinewidth": 0,
              "ticks": ""
             }
            },
            "type": "scatter3d"
           }
          ],
          "scattercarpet": [
           {
            "marker": {
             "colorbar": {
              "outlinewidth": 0,
              "ticks": ""
             }
            },
            "type": "scattercarpet"
           }
          ],
          "scattergeo": [
           {
            "marker": {
             "colorbar": {
              "outlinewidth": 0,
              "ticks": ""
             }
            },
            "type": "scattergeo"
           }
          ],
          "scattergl": [
           {
            "marker": {
             "colorbar": {
              "outlinewidth": 0,
              "ticks": ""
             }
            },
            "type": "scattergl"
           }
          ],
          "scattermapbox": [
           {
            "marker": {
             "colorbar": {
              "outlinewidth": 0,
              "ticks": ""
             }
            },
            "type": "scattermapbox"
           }
          ],
          "scatterpolar": [
           {
            "marker": {
             "colorbar": {
              "outlinewidth": 0,
              "ticks": ""
             }
            },
            "type": "scatterpolar"
           }
          ],
          "scatterpolargl": [
           {
            "marker": {
             "colorbar": {
              "outlinewidth": 0,
              "ticks": ""
             }
            },
            "type": "scatterpolargl"
           }
          ],
          "scatterternary": [
           {
            "marker": {
             "colorbar": {
              "outlinewidth": 0,
              "ticks": ""
             }
            },
            "type": "scatterternary"
           }
          ],
          "surface": [
           {
            "colorbar": {
             "outlinewidth": 0,
             "ticks": ""
            },
            "colorscale": [
             [
              0,
              "#0d0887"
             ],
             [
              0.1111111111111111,
              "#46039f"
             ],
             [
              0.2222222222222222,
              "#7201a8"
             ],
             [
              0.3333333333333333,
              "#9c179e"
             ],
             [
              0.4444444444444444,
              "#bd3786"
             ],
             [
              0.5555555555555556,
              "#d8576b"
             ],
             [
              0.6666666666666666,
              "#ed7953"
             ],
             [
              0.7777777777777778,
              "#fb9f3a"
             ],
             [
              0.8888888888888888,
              "#fdca26"
             ],
             [
              1,
              "#f0f921"
             ]
            ],
            "type": "surface"
           }
          ],
          "table": [
           {
            "cells": {
             "fill": {
              "color": "#EBF0F8"
             },
             "line": {
              "color": "white"
             }
            },
            "header": {
             "fill": {
              "color": "#C8D4E3"
             },
             "line": {
              "color": "white"
             }
            },
            "type": "table"
           }
          ]
         },
         "layout": {
          "annotationdefaults": {
           "arrowcolor": "#2a3f5f",
           "arrowhead": 0,
           "arrowwidth": 1
          },
          "autotypenumbers": "strict",
          "coloraxis": {
           "colorbar": {
            "outlinewidth": 0,
            "ticks": ""
           }
          },
          "colorscale": {
           "diverging": [
            [
             0,
             "#8e0152"
            ],
            [
             0.1,
             "#c51b7d"
            ],
            [
             0.2,
             "#de77ae"
            ],
            [
             0.3,
             "#f1b6da"
            ],
            [
             0.4,
             "#fde0ef"
            ],
            [
             0.5,
             "#f7f7f7"
            ],
            [
             0.6,
             "#e6f5d0"
            ],
            [
             0.7,
             "#b8e186"
            ],
            [
             0.8,
             "#7fbc41"
            ],
            [
             0.9,
             "#4d9221"
            ],
            [
             1,
             "#276419"
            ]
           ],
           "sequential": [
            [
             0,
             "#0d0887"
            ],
            [
             0.1111111111111111,
             "#46039f"
            ],
            [
             0.2222222222222222,
             "#7201a8"
            ],
            [
             0.3333333333333333,
             "#9c179e"
            ],
            [
             0.4444444444444444,
             "#bd3786"
            ],
            [
             0.5555555555555556,
             "#d8576b"
            ],
            [
             0.6666666666666666,
             "#ed7953"
            ],
            [
             0.7777777777777778,
             "#fb9f3a"
            ],
            [
             0.8888888888888888,
             "#fdca26"
            ],
            [
             1,
             "#f0f921"
            ]
           ],
           "sequentialminus": [
            [
             0,
             "#0d0887"
            ],
            [
             0.1111111111111111,
             "#46039f"
            ],
            [
             0.2222222222222222,
             "#7201a8"
            ],
            [
             0.3333333333333333,
             "#9c179e"
            ],
            [
             0.4444444444444444,
             "#bd3786"
            ],
            [
             0.5555555555555556,
             "#d8576b"
            ],
            [
             0.6666666666666666,
             "#ed7953"
            ],
            [
             0.7777777777777778,
             "#fb9f3a"
            ],
            [
             0.8888888888888888,
             "#fdca26"
            ],
            [
             1,
             "#f0f921"
            ]
           ]
          },
          "colorway": [
           "#636efa",
           "#EF553B",
           "#00cc96",
           "#ab63fa",
           "#FFA15A",
           "#19d3f3",
           "#FF6692",
           "#B6E880",
           "#FF97FF",
           "#FECB52"
          ],
          "font": {
           "color": "#2a3f5f"
          },
          "geo": {
           "bgcolor": "white",
           "lakecolor": "white",
           "landcolor": "#E5ECF6",
           "showlakes": true,
           "showland": true,
           "subunitcolor": "white"
          },
          "hoverlabel": {
           "align": "left"
          },
          "hovermode": "closest",
          "mapbox": {
           "style": "light"
          },
          "paper_bgcolor": "white",
          "plot_bgcolor": "#E5ECF6",
          "polar": {
           "angularaxis": {
            "gridcolor": "white",
            "linecolor": "white",
            "ticks": ""
           },
           "bgcolor": "#E5ECF6",
           "radialaxis": {
            "gridcolor": "white",
            "linecolor": "white",
            "ticks": ""
           }
          },
          "scene": {
           "xaxis": {
            "backgroundcolor": "#E5ECF6",
            "gridcolor": "white",
            "gridwidth": 2,
            "linecolor": "white",
            "showbackground": true,
            "ticks": "",
            "zerolinecolor": "white"
           },
           "yaxis": {
            "backgroundcolor": "#E5ECF6",
            "gridcolor": "white",
            "gridwidth": 2,
            "linecolor": "white",
            "showbackground": true,
            "ticks": "",
            "zerolinecolor": "white"
           },
           "zaxis": {
            "backgroundcolor": "#E5ECF6",
            "gridcolor": "white",
            "gridwidth": 2,
            "linecolor": "white",
            "showbackground": true,
            "ticks": "",
            "zerolinecolor": "white"
           }
          },
          "shapedefaults": {
           "line": {
            "color": "#2a3f5f"
           }
          },
          "ternary": {
           "aaxis": {
            "gridcolor": "white",
            "linecolor": "white",
            "ticks": ""
           },
           "baxis": {
            "gridcolor": "white",
            "linecolor": "white",
            "ticks": ""
           },
           "bgcolor": "#E5ECF6",
           "caxis": {
            "gridcolor": "white",
            "linecolor": "white",
            "ticks": ""
           }
          },
          "title": {
           "x": 0.05
          },
          "xaxis": {
           "automargin": true,
           "gridcolor": "white",
           "linecolor": "white",
           "ticks": "",
           "title": {
            "standoff": 15
           },
           "zerolinecolor": "white",
           "zerolinewidth": 2
          },
          "yaxis": {
           "automargin": true,
           "gridcolor": "white",
           "linecolor": "white",
           "ticks": "",
           "title": {
            "standoff": 15
           },
           "zerolinecolor": "white",
           "zerolinewidth": 2
          }
         }
        },
        "title": {
         "text": "Hyperparameter Importances"
        },
        "xaxis": {
         "title": {
          "text": "Importance for Objective Value"
         }
        },
        "yaxis": {
         "title": {
          "text": "Hyperparameter"
         }
        }
       }
      }
     },
     "metadata": {},
     "output_type": "display_data"
    }
   ],
   "source": [
    "fig = optuna.visualization.plot_param_importances(data)\n",
    "fig.show()"
   ]
  },
  {
   "cell_type": "code",
   "execution_count": 151,
   "metadata": {},
   "outputs": [
    {
     "data": {
      "text/html": [
       "<div>\n",
       "<style scoped>\n",
       "    .dataframe tbody tr th:only-of-type {\n",
       "        vertical-align: middle;\n",
       "    }\n",
       "\n",
       "    .dataframe tbody tr th {\n",
       "        vertical-align: top;\n",
       "    }\n",
       "\n",
       "    .dataframe thead th {\n",
       "        text-align: right;\n",
       "    }\n",
       "</style>\n",
       "<table border=\"1\" class=\"dataframe\">\n",
       "  <thead>\n",
       "    <tr style=\"text-align: right;\">\n",
       "      <th></th>\n",
       "      <th>number</th>\n",
       "      <th>values_0</th>\n",
       "      <th>values_1</th>\n",
       "      <th>values_2</th>\n",
       "      <th>values_3</th>\n",
       "      <th>datetime_start</th>\n",
       "      <th>datetime_complete</th>\n",
       "      <th>duration</th>\n",
       "      <th>params_allow_const_label</th>\n",
       "      <th>params_auto_class_weights</th>\n",
       "      <th>...</th>\n",
       "      <th>params_max_bin</th>\n",
       "      <th>params_min_data_in_leaf</th>\n",
       "      <th>params_model_shrink_mode</th>\n",
       "      <th>params_posterior_sampling</th>\n",
       "      <th>params_reg_lambda</th>\n",
       "      <th>params_rsm</th>\n",
       "      <th>params_sampling_frequency</th>\n",
       "      <th>params_score_function</th>\n",
       "      <th>system_attrs_nsga2:generation</th>\n",
       "      <th>state</th>\n",
       "    </tr>\n",
       "  </thead>\n",
       "  <tbody>\n",
       "    <tr>\n",
       "      <th>0</th>\n",
       "      <td>0</td>\n",
       "      <td>NaN</td>\n",
       "      <td>NaN</td>\n",
       "      <td>NaN</td>\n",
       "      <td>NaN</td>\n",
       "      <td>2022-10-31 20:40:33.803250</td>\n",
       "      <td>NaT</td>\n",
       "      <td>NaT</td>\n",
       "      <td>NaN</td>\n",
       "      <td>NaN</td>\n",
       "      <td>...</td>\n",
       "      <td>NaN</td>\n",
       "      <td>6.0</td>\n",
       "      <td>NaN</td>\n",
       "      <td>NaN</td>\n",
       "      <td>NaN</td>\n",
       "      <td>0.928579</td>\n",
       "      <td>NaN</td>\n",
       "      <td>NaN</td>\n",
       "      <td>0</td>\n",
       "      <td>RUNNING</td>\n",
       "    </tr>\n",
       "    <tr>\n",
       "      <th>1</th>\n",
       "      <td>1</td>\n",
       "      <td>NaN</td>\n",
       "      <td>NaN</td>\n",
       "      <td>NaN</td>\n",
       "      <td>NaN</td>\n",
       "      <td>2022-10-31 20:40:33.806150</td>\n",
       "      <td>NaT</td>\n",
       "      <td>NaT</td>\n",
       "      <td>NaN</td>\n",
       "      <td>NaN</td>\n",
       "      <td>...</td>\n",
       "      <td>NaN</td>\n",
       "      <td>15.0</td>\n",
       "      <td>NaN</td>\n",
       "      <td>NaN</td>\n",
       "      <td>NaN</td>\n",
       "      <td>0.937689</td>\n",
       "      <td>NaN</td>\n",
       "      <td>NaN</td>\n",
       "      <td>0</td>\n",
       "      <td>RUNNING</td>\n",
       "    </tr>\n",
       "    <tr>\n",
       "      <th>2</th>\n",
       "      <td>2</td>\n",
       "      <td>NaN</td>\n",
       "      <td>NaN</td>\n",
       "      <td>NaN</td>\n",
       "      <td>NaN</td>\n",
       "      <td>2022-10-31 20:40:33.808143</td>\n",
       "      <td>NaT</td>\n",
       "      <td>NaT</td>\n",
       "      <td>NaN</td>\n",
       "      <td>NaN</td>\n",
       "      <td>...</td>\n",
       "      <td>NaN</td>\n",
       "      <td>1.0</td>\n",
       "      <td>NaN</td>\n",
       "      <td>NaN</td>\n",
       "      <td>NaN</td>\n",
       "      <td>NaN</td>\n",
       "      <td>NaN</td>\n",
       "      <td>NaN</td>\n",
       "      <td>0</td>\n",
       "      <td>RUNNING</td>\n",
       "    </tr>\n",
       "    <tr>\n",
       "      <th>3</th>\n",
       "      <td>3</td>\n",
       "      <td>NaN</td>\n",
       "      <td>NaN</td>\n",
       "      <td>NaN</td>\n",
       "      <td>NaN</td>\n",
       "      <td>2022-10-31 20:40:33.810139</td>\n",
       "      <td>NaT</td>\n",
       "      <td>NaT</td>\n",
       "      <td>NaN</td>\n",
       "      <td>NaN</td>\n",
       "      <td>...</td>\n",
       "      <td>NaN</td>\n",
       "      <td>3.0</td>\n",
       "      <td>NaN</td>\n",
       "      <td>NaN</td>\n",
       "      <td>NaN</td>\n",
       "      <td>NaN</td>\n",
       "      <td>NaN</td>\n",
       "      <td>NaN</td>\n",
       "      <td>0</td>\n",
       "      <td>RUNNING</td>\n",
       "    </tr>\n",
       "    <tr>\n",
       "      <th>4</th>\n",
       "      <td>4</td>\n",
       "      <td>NaN</td>\n",
       "      <td>NaN</td>\n",
       "      <td>NaN</td>\n",
       "      <td>NaN</td>\n",
       "      <td>2022-10-31 20:40:33.813134</td>\n",
       "      <td>2022-10-31 20:40:34.566162</td>\n",
       "      <td>0 days 00:00:00.753028</td>\n",
       "      <td>NaN</td>\n",
       "      <td>NaN</td>\n",
       "      <td>...</td>\n",
       "      <td>NaN</td>\n",
       "      <td>NaN</td>\n",
       "      <td>NaN</td>\n",
       "      <td>NaN</td>\n",
       "      <td>NaN</td>\n",
       "      <td>NaN</td>\n",
       "      <td>NaN</td>\n",
       "      <td>NaN</td>\n",
       "      <td>0</td>\n",
       "      <td>FAIL</td>\n",
       "    </tr>\n",
       "    <tr>\n",
       "      <th>5</th>\n",
       "      <td>5</td>\n",
       "      <td>NaN</td>\n",
       "      <td>NaN</td>\n",
       "      <td>NaN</td>\n",
       "      <td>NaN</td>\n",
       "      <td>2022-10-31 20:40:33.821154</td>\n",
       "      <td>NaT</td>\n",
       "      <td>NaT</td>\n",
       "      <td>NaN</td>\n",
       "      <td>NaN</td>\n",
       "      <td>...</td>\n",
       "      <td>NaN</td>\n",
       "      <td>7.0</td>\n",
       "      <td>NaN</td>\n",
       "      <td>NaN</td>\n",
       "      <td>NaN</td>\n",
       "      <td>0.084716</td>\n",
       "      <td>NaN</td>\n",
       "      <td>NaN</td>\n",
       "      <td>0</td>\n",
       "      <td>RUNNING</td>\n",
       "    </tr>\n",
       "    <tr>\n",
       "      <th>6</th>\n",
       "      <td>6</td>\n",
       "      <td>NaN</td>\n",
       "      <td>NaN</td>\n",
       "      <td>NaN</td>\n",
       "      <td>NaN</td>\n",
       "      <td>2022-10-31 20:40:33.825140</td>\n",
       "      <td>NaT</td>\n",
       "      <td>NaT</td>\n",
       "      <td>NaN</td>\n",
       "      <td>NaN</td>\n",
       "      <td>...</td>\n",
       "      <td>NaN</td>\n",
       "      <td>6.0</td>\n",
       "      <td>NaN</td>\n",
       "      <td>NaN</td>\n",
       "      <td>NaN</td>\n",
       "      <td>NaN</td>\n",
       "      <td>NaN</td>\n",
       "      <td>NaN</td>\n",
       "      <td>0</td>\n",
       "      <td>RUNNING</td>\n",
       "    </tr>\n",
       "    <tr>\n",
       "      <th>7</th>\n",
       "      <td>7</td>\n",
       "      <td>NaN</td>\n",
       "      <td>NaN</td>\n",
       "      <td>NaN</td>\n",
       "      <td>NaN</td>\n",
       "      <td>2022-10-31 20:40:33.838153</td>\n",
       "      <td>NaT</td>\n",
       "      <td>NaT</td>\n",
       "      <td>NaN</td>\n",
       "      <td>NaN</td>\n",
       "      <td>...</td>\n",
       "      <td>NaN</td>\n",
       "      <td>11.0</td>\n",
       "      <td>NaN</td>\n",
       "      <td>NaN</td>\n",
       "      <td>NaN</td>\n",
       "      <td>NaN</td>\n",
       "      <td>NaN</td>\n",
       "      <td>NaN</td>\n",
       "      <td>0</td>\n",
       "      <td>RUNNING</td>\n",
       "    </tr>\n",
       "    <tr>\n",
       "      <th>8</th>\n",
       "      <td>8</td>\n",
       "      <td>NaN</td>\n",
       "      <td>NaN</td>\n",
       "      <td>NaN</td>\n",
       "      <td>NaN</td>\n",
       "      <td>2022-10-31 20:40:33.854145</td>\n",
       "      <td>NaT</td>\n",
       "      <td>NaT</td>\n",
       "      <td>NaN</td>\n",
       "      <td>NaN</td>\n",
       "      <td>...</td>\n",
       "      <td>NaN</td>\n",
       "      <td>16.0</td>\n",
       "      <td>NaN</td>\n",
       "      <td>NaN</td>\n",
       "      <td>NaN</td>\n",
       "      <td>NaN</td>\n",
       "      <td>NaN</td>\n",
       "      <td>NaN</td>\n",
       "      <td>0</td>\n",
       "      <td>RUNNING</td>\n",
       "    </tr>\n",
       "    <tr>\n",
       "      <th>9</th>\n",
       "      <td>9</td>\n",
       "      <td>NaN</td>\n",
       "      <td>NaN</td>\n",
       "      <td>NaN</td>\n",
       "      <td>NaN</td>\n",
       "      <td>2022-10-31 20:40:33.870142</td>\n",
       "      <td>NaT</td>\n",
       "      <td>NaT</td>\n",
       "      <td>NaN</td>\n",
       "      <td>NaN</td>\n",
       "      <td>...</td>\n",
       "      <td>NaN</td>\n",
       "      <td>7.0</td>\n",
       "      <td>NaN</td>\n",
       "      <td>NaN</td>\n",
       "      <td>NaN</td>\n",
       "      <td>NaN</td>\n",
       "      <td>NaN</td>\n",
       "      <td>NaN</td>\n",
       "      <td>0</td>\n",
       "      <td>RUNNING</td>\n",
       "    </tr>\n",
       "    <tr>\n",
       "      <th>10</th>\n",
       "      <td>10</td>\n",
       "      <td>NaN</td>\n",
       "      <td>NaN</td>\n",
       "      <td>NaN</td>\n",
       "      <td>NaN</td>\n",
       "      <td>2022-10-31 20:40:33.909148</td>\n",
       "      <td>NaT</td>\n",
       "      <td>NaT</td>\n",
       "      <td>NaN</td>\n",
       "      <td>NaN</td>\n",
       "      <td>...</td>\n",
       "      <td>NaN</td>\n",
       "      <td>NaN</td>\n",
       "      <td>NaN</td>\n",
       "      <td>NaN</td>\n",
       "      <td>NaN</td>\n",
       "      <td>NaN</td>\n",
       "      <td>NaN</td>\n",
       "      <td>NaN</td>\n",
       "      <td>0</td>\n",
       "      <td>RUNNING</td>\n",
       "    </tr>\n",
       "    <tr>\n",
       "      <th>11</th>\n",
       "      <td>11</td>\n",
       "      <td>NaN</td>\n",
       "      <td>NaN</td>\n",
       "      <td>NaN</td>\n",
       "      <td>NaN</td>\n",
       "      <td>2022-10-31 20:40:33.936160</td>\n",
       "      <td>NaT</td>\n",
       "      <td>NaT</td>\n",
       "      <td>NaN</td>\n",
       "      <td>NaN</td>\n",
       "      <td>...</td>\n",
       "      <td>NaN</td>\n",
       "      <td>17.0</td>\n",
       "      <td>NaN</td>\n",
       "      <td>NaN</td>\n",
       "      <td>NaN</td>\n",
       "      <td>NaN</td>\n",
       "      <td>NaN</td>\n",
       "      <td>NaN</td>\n",
       "      <td>0</td>\n",
       "      <td>RUNNING</td>\n",
       "    </tr>\n",
       "    <tr>\n",
       "      <th>12</th>\n",
       "      <td>12</td>\n",
       "      <td>NaN</td>\n",
       "      <td>NaN</td>\n",
       "      <td>NaN</td>\n",
       "      <td>NaN</td>\n",
       "      <td>2022-10-31 20:40:34.022144</td>\n",
       "      <td>NaT</td>\n",
       "      <td>NaT</td>\n",
       "      <td>NaN</td>\n",
       "      <td>NaN</td>\n",
       "      <td>...</td>\n",
       "      <td>NaN</td>\n",
       "      <td>NaN</td>\n",
       "      <td>NaN</td>\n",
       "      <td>NaN</td>\n",
       "      <td>NaN</td>\n",
       "      <td>NaN</td>\n",
       "      <td>NaN</td>\n",
       "      <td>NaN</td>\n",
       "      <td>0</td>\n",
       "      <td>RUNNING</td>\n",
       "    </tr>\n",
       "    <tr>\n",
       "      <th>13</th>\n",
       "      <td>13</td>\n",
       "      <td>NaN</td>\n",
       "      <td>NaN</td>\n",
       "      <td>NaN</td>\n",
       "      <td>NaN</td>\n",
       "      <td>2022-10-31 20:40:34.099156</td>\n",
       "      <td>NaT</td>\n",
       "      <td>NaT</td>\n",
       "      <td>NaN</td>\n",
       "      <td>NaN</td>\n",
       "      <td>...</td>\n",
       "      <td>NaN</td>\n",
       "      <td>NaN</td>\n",
       "      <td>NaN</td>\n",
       "      <td>NaN</td>\n",
       "      <td>NaN</td>\n",
       "      <td>NaN</td>\n",
       "      <td>NaN</td>\n",
       "      <td>NaN</td>\n",
       "      <td>0</td>\n",
       "      <td>RUNNING</td>\n",
       "    </tr>\n",
       "    <tr>\n",
       "      <th>14</th>\n",
       "      <td>14</td>\n",
       "      <td>NaN</td>\n",
       "      <td>NaN</td>\n",
       "      <td>NaN</td>\n",
       "      <td>NaN</td>\n",
       "      <td>2022-10-31 20:40:34.128144</td>\n",
       "      <td>NaT</td>\n",
       "      <td>NaT</td>\n",
       "      <td>NaN</td>\n",
       "      <td>NaN</td>\n",
       "      <td>...</td>\n",
       "      <td>NaN</td>\n",
       "      <td>NaN</td>\n",
       "      <td>NaN</td>\n",
       "      <td>NaN</td>\n",
       "      <td>NaN</td>\n",
       "      <td>NaN</td>\n",
       "      <td>NaN</td>\n",
       "      <td>NaN</td>\n",
       "      <td>0</td>\n",
       "      <td>RUNNING</td>\n",
       "    </tr>\n",
       "    <tr>\n",
       "      <th>15</th>\n",
       "      <td>15</td>\n",
       "      <td>NaN</td>\n",
       "      <td>NaN</td>\n",
       "      <td>NaN</td>\n",
       "      <td>NaN</td>\n",
       "      <td>2022-10-31 20:40:34.234143</td>\n",
       "      <td>NaT</td>\n",
       "      <td>NaT</td>\n",
       "      <td>NaN</td>\n",
       "      <td>NaN</td>\n",
       "      <td>...</td>\n",
       "      <td>NaN</td>\n",
       "      <td>NaN</td>\n",
       "      <td>NaN</td>\n",
       "      <td>NaN</td>\n",
       "      <td>NaN</td>\n",
       "      <td>NaN</td>\n",
       "      <td>NaN</td>\n",
       "      <td>NaN</td>\n",
       "      <td>0</td>\n",
       "      <td>RUNNING</td>\n",
       "    </tr>\n",
       "    <tr>\n",
       "      <th>16</th>\n",
       "      <td>16</td>\n",
       "      <td>NaN</td>\n",
       "      <td>NaN</td>\n",
       "      <td>NaN</td>\n",
       "      <td>NaN</td>\n",
       "      <td>2022-10-31 20:40:34.260151</td>\n",
       "      <td>NaT</td>\n",
       "      <td>NaT</td>\n",
       "      <td>NaN</td>\n",
       "      <td>NaN</td>\n",
       "      <td>...</td>\n",
       "      <td>NaN</td>\n",
       "      <td>NaN</td>\n",
       "      <td>NaN</td>\n",
       "      <td>NaN</td>\n",
       "      <td>NaN</td>\n",
       "      <td>NaN</td>\n",
       "      <td>NaN</td>\n",
       "      <td>NaN</td>\n",
       "      <td>0</td>\n",
       "      <td>RUNNING</td>\n",
       "    </tr>\n",
       "    <tr>\n",
       "      <th>17</th>\n",
       "      <td>17</td>\n",
       "      <td>NaN</td>\n",
       "      <td>NaN</td>\n",
       "      <td>NaN</td>\n",
       "      <td>NaN</td>\n",
       "      <td>2022-10-31 20:40:34.292142</td>\n",
       "      <td>NaT</td>\n",
       "      <td>NaT</td>\n",
       "      <td>NaN</td>\n",
       "      <td>NaN</td>\n",
       "      <td>...</td>\n",
       "      <td>NaN</td>\n",
       "      <td>NaN</td>\n",
       "      <td>NaN</td>\n",
       "      <td>NaN</td>\n",
       "      <td>NaN</td>\n",
       "      <td>NaN</td>\n",
       "      <td>NaN</td>\n",
       "      <td>NaN</td>\n",
       "      <td>0</td>\n",
       "      <td>RUNNING</td>\n",
       "    </tr>\n",
       "    <tr>\n",
       "      <th>18</th>\n",
       "      <td>18</td>\n",
       "      <td>NaN</td>\n",
       "      <td>NaN</td>\n",
       "      <td>NaN</td>\n",
       "      <td>NaN</td>\n",
       "      <td>2022-10-31 20:40:34.460142</td>\n",
       "      <td>NaT</td>\n",
       "      <td>NaT</td>\n",
       "      <td>NaN</td>\n",
       "      <td>NaN</td>\n",
       "      <td>...</td>\n",
       "      <td>NaN</td>\n",
       "      <td>NaN</td>\n",
       "      <td>NaN</td>\n",
       "      <td>NaN</td>\n",
       "      <td>NaN</td>\n",
       "      <td>NaN</td>\n",
       "      <td>NaN</td>\n",
       "      <td>NaN</td>\n",
       "      <td>0</td>\n",
       "      <td>RUNNING</td>\n",
       "    </tr>\n",
       "    <tr>\n",
       "      <th>19</th>\n",
       "      <td>19</td>\n",
       "      <td>NaN</td>\n",
       "      <td>NaN</td>\n",
       "      <td>NaN</td>\n",
       "      <td>NaN</td>\n",
       "      <td>2022-10-31 20:40:34.498176</td>\n",
       "      <td>NaT</td>\n",
       "      <td>NaT</td>\n",
       "      <td>NaN</td>\n",
       "      <td>NaN</td>\n",
       "      <td>...</td>\n",
       "      <td>NaN</td>\n",
       "      <td>NaN</td>\n",
       "      <td>NaN</td>\n",
       "      <td>NaN</td>\n",
       "      <td>NaN</td>\n",
       "      <td>NaN</td>\n",
       "      <td>NaN</td>\n",
       "      <td>NaN</td>\n",
       "      <td>0</td>\n",
       "      <td>RUNNING</td>\n",
       "    </tr>\n",
       "    <tr>\n",
       "      <th>20</th>\n",
       "      <td>20</td>\n",
       "      <td>NaN</td>\n",
       "      <td>NaN</td>\n",
       "      <td>NaN</td>\n",
       "      <td>NaN</td>\n",
       "      <td>2022-10-31 20:40:34.531174</td>\n",
       "      <td>NaT</td>\n",
       "      <td>NaT</td>\n",
       "      <td>NaN</td>\n",
       "      <td>NaN</td>\n",
       "      <td>...</td>\n",
       "      <td>NaN</td>\n",
       "      <td>NaN</td>\n",
       "      <td>NaN</td>\n",
       "      <td>NaN</td>\n",
       "      <td>NaN</td>\n",
       "      <td>NaN</td>\n",
       "      <td>NaN</td>\n",
       "      <td>NaN</td>\n",
       "      <td>0</td>\n",
       "      <td>RUNNING</td>\n",
       "    </tr>\n",
       "    <tr>\n",
       "      <th>21</th>\n",
       "      <td>21</td>\n",
       "      <td>NaN</td>\n",
       "      <td>NaN</td>\n",
       "      <td>NaN</td>\n",
       "      <td>NaN</td>\n",
       "      <td>2022-10-31 20:40:34.581189</td>\n",
       "      <td>NaT</td>\n",
       "      <td>NaT</td>\n",
       "      <td>NaN</td>\n",
       "      <td>NaN</td>\n",
       "      <td>...</td>\n",
       "      <td>NaN</td>\n",
       "      <td>NaN</td>\n",
       "      <td>NaN</td>\n",
       "      <td>NaN</td>\n",
       "      <td>NaN</td>\n",
       "      <td>NaN</td>\n",
       "      <td>NaN</td>\n",
       "      <td>NaN</td>\n",
       "      <td>0</td>\n",
       "      <td>RUNNING</td>\n",
       "    </tr>\n",
       "    <tr>\n",
       "      <th>22</th>\n",
       "      <td>22</td>\n",
       "      <td>NaN</td>\n",
       "      <td>NaN</td>\n",
       "      <td>NaN</td>\n",
       "      <td>NaN</td>\n",
       "      <td>2022-10-31 20:40:34.660152</td>\n",
       "      <td>NaT</td>\n",
       "      <td>NaT</td>\n",
       "      <td>NaN</td>\n",
       "      <td>NaN</td>\n",
       "      <td>...</td>\n",
       "      <td>NaN</td>\n",
       "      <td>NaN</td>\n",
       "      <td>NaN</td>\n",
       "      <td>NaN</td>\n",
       "      <td>NaN</td>\n",
       "      <td>NaN</td>\n",
       "      <td>NaN</td>\n",
       "      <td>NaN</td>\n",
       "      <td>0</td>\n",
       "      <td>RUNNING</td>\n",
       "    </tr>\n",
       "    <tr>\n",
       "      <th>23</th>\n",
       "      <td>23</td>\n",
       "      <td>NaN</td>\n",
       "      <td>NaN</td>\n",
       "      <td>NaN</td>\n",
       "      <td>NaN</td>\n",
       "      <td>2022-10-31 20:40:34.670146</td>\n",
       "      <td>NaT</td>\n",
       "      <td>NaT</td>\n",
       "      <td>NaN</td>\n",
       "      <td>NaN</td>\n",
       "      <td>...</td>\n",
       "      <td>NaN</td>\n",
       "      <td>NaN</td>\n",
       "      <td>NaN</td>\n",
       "      <td>NaN</td>\n",
       "      <td>NaN</td>\n",
       "      <td>NaN</td>\n",
       "      <td>NaN</td>\n",
       "      <td>NaN</td>\n",
       "      <td>0</td>\n",
       "      <td>RUNNING</td>\n",
       "    </tr>\n",
       "    <tr>\n",
       "      <th>24</th>\n",
       "      <td>24</td>\n",
       "      <td>0.998724</td>\n",
       "      <td>0.999800</td>\n",
       "      <td>1.000000</td>\n",
       "      <td>1.000000</td>\n",
       "      <td>2022-10-31 21:53:00.130737</td>\n",
       "      <td>2022-11-01 00:06:16.317661</td>\n",
       "      <td>0 days 02:13:16.186924</td>\n",
       "      <td>True</td>\n",
       "      <td>NaN</td>\n",
       "      <td>...</td>\n",
       "      <td>471.0</td>\n",
       "      <td>16.0</td>\n",
       "      <td>NaN</td>\n",
       "      <td>NaN</td>\n",
       "      <td>11.015570</td>\n",
       "      <td>0.335676</td>\n",
       "      <td>PerTree</td>\n",
       "      <td>Cosine</td>\n",
       "      <td>0</td>\n",
       "      <td>COMPLETE</td>\n",
       "    </tr>\n",
       "    <tr>\n",
       "      <th>25</th>\n",
       "      <td>25</td>\n",
       "      <td>0.999344</td>\n",
       "      <td>0.999867</td>\n",
       "      <td>1.000000</td>\n",
       "      <td>1.000000</td>\n",
       "      <td>2022-10-31 21:53:00.132726</td>\n",
       "      <td>2022-10-31 23:53:35.241772</td>\n",
       "      <td>0 days 02:00:35.109046</td>\n",
       "      <td>True</td>\n",
       "      <td>NaN</td>\n",
       "      <td>...</td>\n",
       "      <td>547.0</td>\n",
       "      <td>13.0</td>\n",
       "      <td>NaN</td>\n",
       "      <td>NaN</td>\n",
       "      <td>9.052387</td>\n",
       "      <td>0.673677</td>\n",
       "      <td>PerTreeLevel</td>\n",
       "      <td>Cosine</td>\n",
       "      <td>0</td>\n",
       "      <td>COMPLETE</td>\n",
       "    </tr>\n",
       "    <tr>\n",
       "      <th>26</th>\n",
       "      <td>26</td>\n",
       "      <td>1.000000</td>\n",
       "      <td>1.000000</td>\n",
       "      <td>1.000000</td>\n",
       "      <td>1.000000</td>\n",
       "      <td>2022-10-31 21:53:00.135734</td>\n",
       "      <td>2022-11-01 00:34:13.808612</td>\n",
       "      <td>0 days 02:41:13.672878</td>\n",
       "      <td>False</td>\n",
       "      <td>SqrtBalanced</td>\n",
       "      <td>...</td>\n",
       "      <td>256.0</td>\n",
       "      <td>3.0</td>\n",
       "      <td>Decreasing</td>\n",
       "      <td>False</td>\n",
       "      <td>5.061690</td>\n",
       "      <td>0.412620</td>\n",
       "      <td>PerTree</td>\n",
       "      <td>Cosine</td>\n",
       "      <td>0</td>\n",
       "      <td>COMPLETE</td>\n",
       "    </tr>\n",
       "    <tr>\n",
       "      <th>27</th>\n",
       "      <td>27</td>\n",
       "      <td>0.999344</td>\n",
       "      <td>0.999867</td>\n",
       "      <td>1.000000</td>\n",
       "      <td>1.000000</td>\n",
       "      <td>2022-10-31 21:53:00.136744</td>\n",
       "      <td>2022-10-31 22:07:54.001592</td>\n",
       "      <td>0 days 00:14:53.864848</td>\n",
       "      <td>False</td>\n",
       "      <td>NaN</td>\n",
       "      <td>...</td>\n",
       "      <td>159.0</td>\n",
       "      <td>5.0</td>\n",
       "      <td>NaN</td>\n",
       "      <td>True</td>\n",
       "      <td>7.904740</td>\n",
       "      <td>0.231733</td>\n",
       "      <td>PerTree</td>\n",
       "      <td>L2</td>\n",
       "      <td>0</td>\n",
       "      <td>COMPLETE</td>\n",
       "    </tr>\n",
       "    <tr>\n",
       "      <th>28</th>\n",
       "      <td>28</td>\n",
       "      <td>NaN</td>\n",
       "      <td>NaN</td>\n",
       "      <td>NaN</td>\n",
       "      <td>NaN</td>\n",
       "      <td>2022-10-31 21:53:00.139742</td>\n",
       "      <td>NaT</td>\n",
       "      <td>NaT</td>\n",
       "      <td>False</td>\n",
       "      <td>SqrtBalanced</td>\n",
       "      <td>...</td>\n",
       "      <td>358.0</td>\n",
       "      <td>14.0</td>\n",
       "      <td>NaN</td>\n",
       "      <td>NaN</td>\n",
       "      <td>4.567891</td>\n",
       "      <td>0.144880</td>\n",
       "      <td>PerTree</td>\n",
       "      <td>Cosine</td>\n",
       "      <td>0</td>\n",
       "      <td>RUNNING</td>\n",
       "    </tr>\n",
       "    <tr>\n",
       "      <th>29</th>\n",
       "      <td>29</td>\n",
       "      <td>0.998139</td>\n",
       "      <td>0.999800</td>\n",
       "      <td>1.000000</td>\n",
       "      <td>1.000000</td>\n",
       "      <td>2022-10-31 21:53:00.143754</td>\n",
       "      <td>2022-10-31 22:22:22.340422</td>\n",
       "      <td>0 days 00:29:22.196668</td>\n",
       "      <td>True</td>\n",
       "      <td>NaN</td>\n",
       "      <td>...</td>\n",
       "      <td>406.0</td>\n",
       "      <td>8.0</td>\n",
       "      <td>NaN</td>\n",
       "      <td>True</td>\n",
       "      <td>2.809142</td>\n",
       "      <td>0.191053</td>\n",
       "      <td>PerTree</td>\n",
       "      <td>Cosine</td>\n",
       "      <td>0</td>\n",
       "      <td>COMPLETE</td>\n",
       "    </tr>\n",
       "    <tr>\n",
       "      <th>30</th>\n",
       "      <td>30</td>\n",
       "      <td>0.998724</td>\n",
       "      <td>0.999800</td>\n",
       "      <td>1.000000</td>\n",
       "      <td>1.000000</td>\n",
       "      <td>2022-10-31 21:53:00.159728</td>\n",
       "      <td>2022-10-31 23:29:12.469836</td>\n",
       "      <td>0 days 01:36:12.310108</td>\n",
       "      <td>False</td>\n",
       "      <td>NaN</td>\n",
       "      <td>...</td>\n",
       "      <td>446.0</td>\n",
       "      <td>11.0</td>\n",
       "      <td>NaN</td>\n",
       "      <td>NaN</td>\n",
       "      <td>9.437928</td>\n",
       "      <td>0.816894</td>\n",
       "      <td>PerTreeLevel</td>\n",
       "      <td>L2</td>\n",
       "      <td>0</td>\n",
       "      <td>COMPLETE</td>\n",
       "    </tr>\n",
       "    <tr>\n",
       "      <th>31</th>\n",
       "      <td>31</td>\n",
       "      <td>NaN</td>\n",
       "      <td>NaN</td>\n",
       "      <td>NaN</td>\n",
       "      <td>NaN</td>\n",
       "      <td>2022-10-31 21:53:00.171739</td>\n",
       "      <td>NaT</td>\n",
       "      <td>NaT</td>\n",
       "      <td>False</td>\n",
       "      <td>NaN</td>\n",
       "      <td>...</td>\n",
       "      <td>459.0</td>\n",
       "      <td>11.0</td>\n",
       "      <td>NaN</td>\n",
       "      <td>NaN</td>\n",
       "      <td>8.567053</td>\n",
       "      <td>0.750118</td>\n",
       "      <td>PerTreeLevel</td>\n",
       "      <td>Cosine</td>\n",
       "      <td>0</td>\n",
       "      <td>RUNNING</td>\n",
       "    </tr>\n",
       "    <tr>\n",
       "      <th>32</th>\n",
       "      <td>32</td>\n",
       "      <td>NaN</td>\n",
       "      <td>NaN</td>\n",
       "      <td>NaN</td>\n",
       "      <td>NaN</td>\n",
       "      <td>2022-10-31 21:53:00.176734</td>\n",
       "      <td>NaT</td>\n",
       "      <td>NaT</td>\n",
       "      <td>False</td>\n",
       "      <td>NaN</td>\n",
       "      <td>...</td>\n",
       "      <td>445.0</td>\n",
       "      <td>6.0</td>\n",
       "      <td>Constant</td>\n",
       "      <td>False</td>\n",
       "      <td>7.255891</td>\n",
       "      <td>0.152080</td>\n",
       "      <td>PerTreeLevel</td>\n",
       "      <td>Cosine</td>\n",
       "      <td>0</td>\n",
       "      <td>RUNNING</td>\n",
       "    </tr>\n",
       "    <tr>\n",
       "      <th>33</th>\n",
       "      <td>33</td>\n",
       "      <td>NaN</td>\n",
       "      <td>NaN</td>\n",
       "      <td>NaN</td>\n",
       "      <td>NaN</td>\n",
       "      <td>2022-10-31 21:53:00.183729</td>\n",
       "      <td>NaT</td>\n",
       "      <td>NaT</td>\n",
       "      <td>True</td>\n",
       "      <td>Balanced</td>\n",
       "      <td>...</td>\n",
       "      <td>217.0</td>\n",
       "      <td>10.0</td>\n",
       "      <td>Decreasing</td>\n",
       "      <td>False</td>\n",
       "      <td>1.101227</td>\n",
       "      <td>0.458506</td>\n",
       "      <td>PerTreeLevel</td>\n",
       "      <td>L2</td>\n",
       "      <td>0</td>\n",
       "      <td>RUNNING</td>\n",
       "    </tr>\n",
       "    <tr>\n",
       "      <th>34</th>\n",
       "      <td>34</td>\n",
       "      <td>0.999965</td>\n",
       "      <td>0.999933</td>\n",
       "      <td>1.000000</td>\n",
       "      <td>1.000000</td>\n",
       "      <td>2022-10-31 21:53:00.199726</td>\n",
       "      <td>2022-10-31 22:27:06.650041</td>\n",
       "      <td>0 days 00:34:06.450315</td>\n",
       "      <td>False</td>\n",
       "      <td>NaN</td>\n",
       "      <td>...</td>\n",
       "      <td>242.0</td>\n",
       "      <td>7.0</td>\n",
       "      <td>Constant</td>\n",
       "      <td>False</td>\n",
       "      <td>4.641746</td>\n",
       "      <td>0.403442</td>\n",
       "      <td>PerTreeLevel</td>\n",
       "      <td>Cosine</td>\n",
       "      <td>0</td>\n",
       "      <td>COMPLETE</td>\n",
       "    </tr>\n",
       "    <tr>\n",
       "      <th>35</th>\n",
       "      <td>35</td>\n",
       "      <td>0.999965</td>\n",
       "      <td>0.999933</td>\n",
       "      <td>0.999985</td>\n",
       "      <td>0.999971</td>\n",
       "      <td>2022-10-31 21:53:00.220731</td>\n",
       "      <td>2022-11-01 00:54:51.398089</td>\n",
       "      <td>0 days 03:01:51.177358</td>\n",
       "      <td>True</td>\n",
       "      <td>SqrtBalanced</td>\n",
       "      <td>...</td>\n",
       "      <td>538.0</td>\n",
       "      <td>11.0</td>\n",
       "      <td>NaN</td>\n",
       "      <td>NaN</td>\n",
       "      <td>5.575001</td>\n",
       "      <td>0.088941</td>\n",
       "      <td>PerTreeLevel</td>\n",
       "      <td>Cosine</td>\n",
       "      <td>0</td>\n",
       "      <td>COMPLETE</td>\n",
       "    </tr>\n",
       "    <tr>\n",
       "      <th>36</th>\n",
       "      <td>36</td>\n",
       "      <td>0.999436</td>\n",
       "      <td>0.998933</td>\n",
       "      <td>0.999607</td>\n",
       "      <td>0.999257</td>\n",
       "      <td>2022-10-31 21:53:00.300739</td>\n",
       "      <td>2022-10-31 22:12:10.183310</td>\n",
       "      <td>0 days 00:19:09.882571</td>\n",
       "      <td>True</td>\n",
       "      <td>Balanced</td>\n",
       "      <td>...</td>\n",
       "      <td>515.0</td>\n",
       "      <td>11.0</td>\n",
       "      <td>Decreasing</td>\n",
       "      <td>False</td>\n",
       "      <td>10.234780</td>\n",
       "      <td>0.066910</td>\n",
       "      <td>PerTreeLevel</td>\n",
       "      <td>L2</td>\n",
       "      <td>0</td>\n",
       "      <td>COMPLETE</td>\n",
       "    </tr>\n",
       "    <tr>\n",
       "      <th>37</th>\n",
       "      <td>37</td>\n",
       "      <td>0.998104</td>\n",
       "      <td>0.999733</td>\n",
       "      <td>1.000000</td>\n",
       "      <td>1.000000</td>\n",
       "      <td>2022-10-31 21:53:00.317741</td>\n",
       "      <td>2022-10-31 22:30:54.831254</td>\n",
       "      <td>0 days 00:37:54.513513</td>\n",
       "      <td>True</td>\n",
       "      <td>NaN</td>\n",
       "      <td>...</td>\n",
       "      <td>196.0</td>\n",
       "      <td>10.0</td>\n",
       "      <td>NaN</td>\n",
       "      <td>True</td>\n",
       "      <td>2.865690</td>\n",
       "      <td>0.318703</td>\n",
       "      <td>PerTreeLevel</td>\n",
       "      <td>Cosine</td>\n",
       "      <td>0</td>\n",
       "      <td>COMPLETE</td>\n",
       "    </tr>\n",
       "    <tr>\n",
       "      <th>38</th>\n",
       "      <td>38</td>\n",
       "      <td>0.999930</td>\n",
       "      <td>0.999867</td>\n",
       "      <td>0.999985</td>\n",
       "      <td>0.999971</td>\n",
       "      <td>2022-10-31 21:53:00.332734</td>\n",
       "      <td>2022-11-01 01:10:01.030203</td>\n",
       "      <td>0 days 03:17:00.697469</td>\n",
       "      <td>False</td>\n",
       "      <td>None</td>\n",
       "      <td>...</td>\n",
       "      <td>279.0</td>\n",
       "      <td>15.0</td>\n",
       "      <td>NaN</td>\n",
       "      <td>NaN</td>\n",
       "      <td>6.888326</td>\n",
       "      <td>0.405457</td>\n",
       "      <td>PerTree</td>\n",
       "      <td>L2</td>\n",
       "      <td>0</td>\n",
       "      <td>COMPLETE</td>\n",
       "    </tr>\n",
       "    <tr>\n",
       "      <th>39</th>\n",
       "      <td>39</td>\n",
       "      <td>0.999930</td>\n",
       "      <td>0.999867</td>\n",
       "      <td>0.999970</td>\n",
       "      <td>0.999943</td>\n",
       "      <td>2022-10-31 21:53:00.343736</td>\n",
       "      <td>2022-10-31 22:00:01.038947</td>\n",
       "      <td>0 days 00:07:00.695211</td>\n",
       "      <td>False</td>\n",
       "      <td>SqrtBalanced</td>\n",
       "      <td>...</td>\n",
       "      <td>218.0</td>\n",
       "      <td>7.0</td>\n",
       "      <td>NaN</td>\n",
       "      <td>NaN</td>\n",
       "      <td>3.115675</td>\n",
       "      <td>0.669926</td>\n",
       "      <td>PerTree</td>\n",
       "      <td>Cosine</td>\n",
       "      <td>0</td>\n",
       "      <td>COMPLETE</td>\n",
       "    </tr>\n",
       "    <tr>\n",
       "      <th>40</th>\n",
       "      <td>40</td>\n",
       "      <td>0.998104</td>\n",
       "      <td>0.999733</td>\n",
       "      <td>0.999157</td>\n",
       "      <td>0.999829</td>\n",
       "      <td>2022-10-31 21:53:00.407739</td>\n",
       "      <td>2022-10-31 21:55:49.201168</td>\n",
       "      <td>0 days 00:02:48.793429</td>\n",
       "      <td>False</td>\n",
       "      <td>NaN</td>\n",
       "      <td>...</td>\n",
       "      <td>139.0</td>\n",
       "      <td>15.0</td>\n",
       "      <td>NaN</td>\n",
       "      <td>True</td>\n",
       "      <td>9.141158</td>\n",
       "      <td>0.020505</td>\n",
       "      <td>PerTree</td>\n",
       "      <td>Cosine</td>\n",
       "      <td>0</td>\n",
       "      <td>COMPLETE</td>\n",
       "    </tr>\n",
       "    <tr>\n",
       "      <th>41</th>\n",
       "      <td>41</td>\n",
       "      <td>NaN</td>\n",
       "      <td>NaN</td>\n",
       "      <td>NaN</td>\n",
       "      <td>NaN</td>\n",
       "      <td>2022-10-31 21:53:00.445734</td>\n",
       "      <td>NaT</td>\n",
       "      <td>NaT</td>\n",
       "      <td>True</td>\n",
       "      <td>Balanced</td>\n",
       "      <td>...</td>\n",
       "      <td>416.0</td>\n",
       "      <td>16.0</td>\n",
       "      <td>NaN</td>\n",
       "      <td>NaN</td>\n",
       "      <td>7.522400</td>\n",
       "      <td>0.376282</td>\n",
       "      <td>PerTree</td>\n",
       "      <td>L2</td>\n",
       "      <td>0</td>\n",
       "      <td>RUNNING</td>\n",
       "    </tr>\n",
       "    <tr>\n",
       "      <th>42</th>\n",
       "      <td>42</td>\n",
       "      <td>NaN</td>\n",
       "      <td>NaN</td>\n",
       "      <td>NaN</td>\n",
       "      <td>NaN</td>\n",
       "      <td>2022-10-31 21:53:00.464742</td>\n",
       "      <td>NaT</td>\n",
       "      <td>NaT</td>\n",
       "      <td>True</td>\n",
       "      <td>NaN</td>\n",
       "      <td>...</td>\n",
       "      <td>169.0</td>\n",
       "      <td>7.0</td>\n",
       "      <td>NaN</td>\n",
       "      <td>NaN</td>\n",
       "      <td>10.391034</td>\n",
       "      <td>0.633783</td>\n",
       "      <td>PerTreeLevel</td>\n",
       "      <td>L2</td>\n",
       "      <td>0</td>\n",
       "      <td>RUNNING</td>\n",
       "    </tr>\n",
       "    <tr>\n",
       "      <th>43</th>\n",
       "      <td>43</td>\n",
       "      <td>1.000000</td>\n",
       "      <td>1.000000</td>\n",
       "      <td>1.000000</td>\n",
       "      <td>1.000000</td>\n",
       "      <td>2022-10-31 21:53:00.538733</td>\n",
       "      <td>2022-11-01 00:31:16.173061</td>\n",
       "      <td>0 days 02:38:15.634328</td>\n",
       "      <td>False</td>\n",
       "      <td>NaN</td>\n",
       "      <td>...</td>\n",
       "      <td>266.0</td>\n",
       "      <td>1.0</td>\n",
       "      <td>NaN</td>\n",
       "      <td>True</td>\n",
       "      <td>9.662644</td>\n",
       "      <td>0.638382</td>\n",
       "      <td>PerTreeLevel</td>\n",
       "      <td>Cosine</td>\n",
       "      <td>0</td>\n",
       "      <td>COMPLETE</td>\n",
       "    </tr>\n",
       "    <tr>\n",
       "      <th>44</th>\n",
       "      <td>44</td>\n",
       "      <td>0.999930</td>\n",
       "      <td>0.999867</td>\n",
       "      <td>0.999955</td>\n",
       "      <td>0.999914</td>\n",
       "      <td>2022-10-31 21:53:00.602757</td>\n",
       "      <td>2022-10-31 23:58:31.767303</td>\n",
       "      <td>0 days 02:05:31.164546</td>\n",
       "      <td>False</td>\n",
       "      <td>SqrtBalanced</td>\n",
       "      <td>...</td>\n",
       "      <td>237.0</td>\n",
       "      <td>16.0</td>\n",
       "      <td>NaN</td>\n",
       "      <td>NaN</td>\n",
       "      <td>6.719033</td>\n",
       "      <td>0.429968</td>\n",
       "      <td>PerTreeLevel</td>\n",
       "      <td>L2</td>\n",
       "      <td>0</td>\n",
       "      <td>COMPLETE</td>\n",
       "    </tr>\n",
       "    <tr>\n",
       "      <th>45</th>\n",
       "      <td>45</td>\n",
       "      <td>NaN</td>\n",
       "      <td>NaN</td>\n",
       "      <td>NaN</td>\n",
       "      <td>NaN</td>\n",
       "      <td>2022-10-31 21:53:00.623729</td>\n",
       "      <td>NaT</td>\n",
       "      <td>NaT</td>\n",
       "      <td>True</td>\n",
       "      <td>NaN</td>\n",
       "      <td>...</td>\n",
       "      <td>465.0</td>\n",
       "      <td>3.0</td>\n",
       "      <td>Decreasing</td>\n",
       "      <td>False</td>\n",
       "      <td>5.048246</td>\n",
       "      <td>0.430861</td>\n",
       "      <td>PerTree</td>\n",
       "      <td>L2</td>\n",
       "      <td>0</td>\n",
       "      <td>RUNNING</td>\n",
       "    </tr>\n",
       "    <tr>\n",
       "      <th>46</th>\n",
       "      <td>46</td>\n",
       "      <td>0.998759</td>\n",
       "      <td>0.999867</td>\n",
       "      <td>1.000000</td>\n",
       "      <td>1.000000</td>\n",
       "      <td>2022-10-31 21:53:00.722762</td>\n",
       "      <td>2022-10-31 21:55:20.647364</td>\n",
       "      <td>0 days 00:02:19.924602</td>\n",
       "      <td>True</td>\n",
       "      <td>SqrtBalanced</td>\n",
       "      <td>...</td>\n",
       "      <td>257.0</td>\n",
       "      <td>8.0</td>\n",
       "      <td>NaN</td>\n",
       "      <td>NaN</td>\n",
       "      <td>10.855463</td>\n",
       "      <td>0.073160</td>\n",
       "      <td>NaN</td>\n",
       "      <td>Cosine</td>\n",
       "      <td>0</td>\n",
       "      <td>COMPLETE</td>\n",
       "    </tr>\n",
       "    <tr>\n",
       "      <th>47</th>\n",
       "      <td>47</td>\n",
       "      <td>0.998724</td>\n",
       "      <td>0.999800</td>\n",
       "      <td>1.000000</td>\n",
       "      <td>1.000000</td>\n",
       "      <td>2022-10-31 21:53:00.727018</td>\n",
       "      <td>2022-10-31 22:01:59.695715</td>\n",
       "      <td>0 days 00:08:58.968697</td>\n",
       "      <td>True</td>\n",
       "      <td>NaN</td>\n",
       "      <td>...</td>\n",
       "      <td>299.0</td>\n",
       "      <td>6.0</td>\n",
       "      <td>NaN</td>\n",
       "      <td>NaN</td>\n",
       "      <td>1.530844</td>\n",
       "      <td>0.366856</td>\n",
       "      <td>PerTree</td>\n",
       "      <td>Cosine</td>\n",
       "      <td>0</td>\n",
       "      <td>COMPLETE</td>\n",
       "    </tr>\n",
       "  </tbody>\n",
       "</table>\n",
       "<p>48 rows × 33 columns</p>\n",
       "</div>"
      ],
      "text/plain": [
       "    number  values_0  values_1  values_2  values_3             datetime_start  \\\n",
       "0        0       NaN       NaN       NaN       NaN 2022-10-31 20:40:33.803250   \n",
       "1        1       NaN       NaN       NaN       NaN 2022-10-31 20:40:33.806150   \n",
       "2        2       NaN       NaN       NaN       NaN 2022-10-31 20:40:33.808143   \n",
       "3        3       NaN       NaN       NaN       NaN 2022-10-31 20:40:33.810139   \n",
       "4        4       NaN       NaN       NaN       NaN 2022-10-31 20:40:33.813134   \n",
       "5        5       NaN       NaN       NaN       NaN 2022-10-31 20:40:33.821154   \n",
       "6        6       NaN       NaN       NaN       NaN 2022-10-31 20:40:33.825140   \n",
       "7        7       NaN       NaN       NaN       NaN 2022-10-31 20:40:33.838153   \n",
       "8        8       NaN       NaN       NaN       NaN 2022-10-31 20:40:33.854145   \n",
       "9        9       NaN       NaN       NaN       NaN 2022-10-31 20:40:33.870142   \n",
       "10      10       NaN       NaN       NaN       NaN 2022-10-31 20:40:33.909148   \n",
       "11      11       NaN       NaN       NaN       NaN 2022-10-31 20:40:33.936160   \n",
       "12      12       NaN       NaN       NaN       NaN 2022-10-31 20:40:34.022144   \n",
       "13      13       NaN       NaN       NaN       NaN 2022-10-31 20:40:34.099156   \n",
       "14      14       NaN       NaN       NaN       NaN 2022-10-31 20:40:34.128144   \n",
       "15      15       NaN       NaN       NaN       NaN 2022-10-31 20:40:34.234143   \n",
       "16      16       NaN       NaN       NaN       NaN 2022-10-31 20:40:34.260151   \n",
       "17      17       NaN       NaN       NaN       NaN 2022-10-31 20:40:34.292142   \n",
       "18      18       NaN       NaN       NaN       NaN 2022-10-31 20:40:34.460142   \n",
       "19      19       NaN       NaN       NaN       NaN 2022-10-31 20:40:34.498176   \n",
       "20      20       NaN       NaN       NaN       NaN 2022-10-31 20:40:34.531174   \n",
       "21      21       NaN       NaN       NaN       NaN 2022-10-31 20:40:34.581189   \n",
       "22      22       NaN       NaN       NaN       NaN 2022-10-31 20:40:34.660152   \n",
       "23      23       NaN       NaN       NaN       NaN 2022-10-31 20:40:34.670146   \n",
       "24      24  0.998724  0.999800  1.000000  1.000000 2022-10-31 21:53:00.130737   \n",
       "25      25  0.999344  0.999867  1.000000  1.000000 2022-10-31 21:53:00.132726   \n",
       "26      26  1.000000  1.000000  1.000000  1.000000 2022-10-31 21:53:00.135734   \n",
       "27      27  0.999344  0.999867  1.000000  1.000000 2022-10-31 21:53:00.136744   \n",
       "28      28       NaN       NaN       NaN       NaN 2022-10-31 21:53:00.139742   \n",
       "29      29  0.998139  0.999800  1.000000  1.000000 2022-10-31 21:53:00.143754   \n",
       "30      30  0.998724  0.999800  1.000000  1.000000 2022-10-31 21:53:00.159728   \n",
       "31      31       NaN       NaN       NaN       NaN 2022-10-31 21:53:00.171739   \n",
       "32      32       NaN       NaN       NaN       NaN 2022-10-31 21:53:00.176734   \n",
       "33      33       NaN       NaN       NaN       NaN 2022-10-31 21:53:00.183729   \n",
       "34      34  0.999965  0.999933  1.000000  1.000000 2022-10-31 21:53:00.199726   \n",
       "35      35  0.999965  0.999933  0.999985  0.999971 2022-10-31 21:53:00.220731   \n",
       "36      36  0.999436  0.998933  0.999607  0.999257 2022-10-31 21:53:00.300739   \n",
       "37      37  0.998104  0.999733  1.000000  1.000000 2022-10-31 21:53:00.317741   \n",
       "38      38  0.999930  0.999867  0.999985  0.999971 2022-10-31 21:53:00.332734   \n",
       "39      39  0.999930  0.999867  0.999970  0.999943 2022-10-31 21:53:00.343736   \n",
       "40      40  0.998104  0.999733  0.999157  0.999829 2022-10-31 21:53:00.407739   \n",
       "41      41       NaN       NaN       NaN       NaN 2022-10-31 21:53:00.445734   \n",
       "42      42       NaN       NaN       NaN       NaN 2022-10-31 21:53:00.464742   \n",
       "43      43  1.000000  1.000000  1.000000  1.000000 2022-10-31 21:53:00.538733   \n",
       "44      44  0.999930  0.999867  0.999955  0.999914 2022-10-31 21:53:00.602757   \n",
       "45      45       NaN       NaN       NaN       NaN 2022-10-31 21:53:00.623729   \n",
       "46      46  0.998759  0.999867  1.000000  1.000000 2022-10-31 21:53:00.722762   \n",
       "47      47  0.998724  0.999800  1.000000  1.000000 2022-10-31 21:53:00.727018   \n",
       "\n",
       "            datetime_complete               duration params_allow_const_label  \\\n",
       "0                         NaT                    NaT                      NaN   \n",
       "1                         NaT                    NaT                      NaN   \n",
       "2                         NaT                    NaT                      NaN   \n",
       "3                         NaT                    NaT                      NaN   \n",
       "4  2022-10-31 20:40:34.566162 0 days 00:00:00.753028                      NaN   \n",
       "5                         NaT                    NaT                      NaN   \n",
       "6                         NaT                    NaT                      NaN   \n",
       "7                         NaT                    NaT                      NaN   \n",
       "8                         NaT                    NaT                      NaN   \n",
       "9                         NaT                    NaT                      NaN   \n",
       "10                        NaT                    NaT                      NaN   \n",
       "11                        NaT                    NaT                      NaN   \n",
       "12                        NaT                    NaT                      NaN   \n",
       "13                        NaT                    NaT                      NaN   \n",
       "14                        NaT                    NaT                      NaN   \n",
       "15                        NaT                    NaT                      NaN   \n",
       "16                        NaT                    NaT                      NaN   \n",
       "17                        NaT                    NaT                      NaN   \n",
       "18                        NaT                    NaT                      NaN   \n",
       "19                        NaT                    NaT                      NaN   \n",
       "20                        NaT                    NaT                      NaN   \n",
       "21                        NaT                    NaT                      NaN   \n",
       "22                        NaT                    NaT                      NaN   \n",
       "23                        NaT                    NaT                      NaN   \n",
       "24 2022-11-01 00:06:16.317661 0 days 02:13:16.186924                     True   \n",
       "25 2022-10-31 23:53:35.241772 0 days 02:00:35.109046                     True   \n",
       "26 2022-11-01 00:34:13.808612 0 days 02:41:13.672878                    False   \n",
       "27 2022-10-31 22:07:54.001592 0 days 00:14:53.864848                    False   \n",
       "28                        NaT                    NaT                    False   \n",
       "29 2022-10-31 22:22:22.340422 0 days 00:29:22.196668                     True   \n",
       "30 2022-10-31 23:29:12.469836 0 days 01:36:12.310108                    False   \n",
       "31                        NaT                    NaT                    False   \n",
       "32                        NaT                    NaT                    False   \n",
       "33                        NaT                    NaT                     True   \n",
       "34 2022-10-31 22:27:06.650041 0 days 00:34:06.450315                    False   \n",
       "35 2022-11-01 00:54:51.398089 0 days 03:01:51.177358                     True   \n",
       "36 2022-10-31 22:12:10.183310 0 days 00:19:09.882571                     True   \n",
       "37 2022-10-31 22:30:54.831254 0 days 00:37:54.513513                     True   \n",
       "38 2022-11-01 01:10:01.030203 0 days 03:17:00.697469                    False   \n",
       "39 2022-10-31 22:00:01.038947 0 days 00:07:00.695211                    False   \n",
       "40 2022-10-31 21:55:49.201168 0 days 00:02:48.793429                    False   \n",
       "41                        NaT                    NaT                     True   \n",
       "42                        NaT                    NaT                     True   \n",
       "43 2022-11-01 00:31:16.173061 0 days 02:38:15.634328                    False   \n",
       "44 2022-10-31 23:58:31.767303 0 days 02:05:31.164546                    False   \n",
       "45                        NaT                    NaT                     True   \n",
       "46 2022-10-31 21:55:20.647364 0 days 00:02:19.924602                     True   \n",
       "47 2022-10-31 22:01:59.695715 0 days 00:08:58.968697                     True   \n",
       "\n",
       "   params_auto_class_weights  ...  params_max_bin params_min_data_in_leaf  \\\n",
       "0                        NaN  ...             NaN                     6.0   \n",
       "1                        NaN  ...             NaN                    15.0   \n",
       "2                        NaN  ...             NaN                     1.0   \n",
       "3                        NaN  ...             NaN                     3.0   \n",
       "4                        NaN  ...             NaN                     NaN   \n",
       "5                        NaN  ...             NaN                     7.0   \n",
       "6                        NaN  ...             NaN                     6.0   \n",
       "7                        NaN  ...             NaN                    11.0   \n",
       "8                        NaN  ...             NaN                    16.0   \n",
       "9                        NaN  ...             NaN                     7.0   \n",
       "10                       NaN  ...             NaN                     NaN   \n",
       "11                       NaN  ...             NaN                    17.0   \n",
       "12                       NaN  ...             NaN                     NaN   \n",
       "13                       NaN  ...             NaN                     NaN   \n",
       "14                       NaN  ...             NaN                     NaN   \n",
       "15                       NaN  ...             NaN                     NaN   \n",
       "16                       NaN  ...             NaN                     NaN   \n",
       "17                       NaN  ...             NaN                     NaN   \n",
       "18                       NaN  ...             NaN                     NaN   \n",
       "19                       NaN  ...             NaN                     NaN   \n",
       "20                       NaN  ...             NaN                     NaN   \n",
       "21                       NaN  ...             NaN                     NaN   \n",
       "22                       NaN  ...             NaN                     NaN   \n",
       "23                       NaN  ...             NaN                     NaN   \n",
       "24                       NaN  ...           471.0                    16.0   \n",
       "25                       NaN  ...           547.0                    13.0   \n",
       "26              SqrtBalanced  ...           256.0                     3.0   \n",
       "27                       NaN  ...           159.0                     5.0   \n",
       "28              SqrtBalanced  ...           358.0                    14.0   \n",
       "29                       NaN  ...           406.0                     8.0   \n",
       "30                       NaN  ...           446.0                    11.0   \n",
       "31                       NaN  ...           459.0                    11.0   \n",
       "32                       NaN  ...           445.0                     6.0   \n",
       "33                  Balanced  ...           217.0                    10.0   \n",
       "34                       NaN  ...           242.0                     7.0   \n",
       "35              SqrtBalanced  ...           538.0                    11.0   \n",
       "36                  Balanced  ...           515.0                    11.0   \n",
       "37                       NaN  ...           196.0                    10.0   \n",
       "38                      None  ...           279.0                    15.0   \n",
       "39              SqrtBalanced  ...           218.0                     7.0   \n",
       "40                       NaN  ...           139.0                    15.0   \n",
       "41                  Balanced  ...           416.0                    16.0   \n",
       "42                       NaN  ...           169.0                     7.0   \n",
       "43                       NaN  ...           266.0                     1.0   \n",
       "44              SqrtBalanced  ...           237.0                    16.0   \n",
       "45                       NaN  ...           465.0                     3.0   \n",
       "46              SqrtBalanced  ...           257.0                     8.0   \n",
       "47                       NaN  ...           299.0                     6.0   \n",
       "\n",
       "    params_model_shrink_mode params_posterior_sampling  params_reg_lambda  \\\n",
       "0                        NaN                       NaN                NaN   \n",
       "1                        NaN                       NaN                NaN   \n",
       "2                        NaN                       NaN                NaN   \n",
       "3                        NaN                       NaN                NaN   \n",
       "4                        NaN                       NaN                NaN   \n",
       "5                        NaN                       NaN                NaN   \n",
       "6                        NaN                       NaN                NaN   \n",
       "7                        NaN                       NaN                NaN   \n",
       "8                        NaN                       NaN                NaN   \n",
       "9                        NaN                       NaN                NaN   \n",
       "10                       NaN                       NaN                NaN   \n",
       "11                       NaN                       NaN                NaN   \n",
       "12                       NaN                       NaN                NaN   \n",
       "13                       NaN                       NaN                NaN   \n",
       "14                       NaN                       NaN                NaN   \n",
       "15                       NaN                       NaN                NaN   \n",
       "16                       NaN                       NaN                NaN   \n",
       "17                       NaN                       NaN                NaN   \n",
       "18                       NaN                       NaN                NaN   \n",
       "19                       NaN                       NaN                NaN   \n",
       "20                       NaN                       NaN                NaN   \n",
       "21                       NaN                       NaN                NaN   \n",
       "22                       NaN                       NaN                NaN   \n",
       "23                       NaN                       NaN                NaN   \n",
       "24                       NaN                       NaN          11.015570   \n",
       "25                       NaN                       NaN           9.052387   \n",
       "26                Decreasing                     False           5.061690   \n",
       "27                       NaN                      True           7.904740   \n",
       "28                       NaN                       NaN           4.567891   \n",
       "29                       NaN                      True           2.809142   \n",
       "30                       NaN                       NaN           9.437928   \n",
       "31                       NaN                       NaN           8.567053   \n",
       "32                  Constant                     False           7.255891   \n",
       "33                Decreasing                     False           1.101227   \n",
       "34                  Constant                     False           4.641746   \n",
       "35                       NaN                       NaN           5.575001   \n",
       "36                Decreasing                     False          10.234780   \n",
       "37                       NaN                      True           2.865690   \n",
       "38                       NaN                       NaN           6.888326   \n",
       "39                       NaN                       NaN           3.115675   \n",
       "40                       NaN                      True           9.141158   \n",
       "41                       NaN                       NaN           7.522400   \n",
       "42                       NaN                       NaN          10.391034   \n",
       "43                       NaN                      True           9.662644   \n",
       "44                       NaN                       NaN           6.719033   \n",
       "45                Decreasing                     False           5.048246   \n",
       "46                       NaN                       NaN          10.855463   \n",
       "47                       NaN                       NaN           1.530844   \n",
       "\n",
       "    params_rsm params_sampling_frequency  params_score_function  \\\n",
       "0     0.928579                       NaN                    NaN   \n",
       "1     0.937689                       NaN                    NaN   \n",
       "2          NaN                       NaN                    NaN   \n",
       "3          NaN                       NaN                    NaN   \n",
       "4          NaN                       NaN                    NaN   \n",
       "5     0.084716                       NaN                    NaN   \n",
       "6          NaN                       NaN                    NaN   \n",
       "7          NaN                       NaN                    NaN   \n",
       "8          NaN                       NaN                    NaN   \n",
       "9          NaN                       NaN                    NaN   \n",
       "10         NaN                       NaN                    NaN   \n",
       "11         NaN                       NaN                    NaN   \n",
       "12         NaN                       NaN                    NaN   \n",
       "13         NaN                       NaN                    NaN   \n",
       "14         NaN                       NaN                    NaN   \n",
       "15         NaN                       NaN                    NaN   \n",
       "16         NaN                       NaN                    NaN   \n",
       "17         NaN                       NaN                    NaN   \n",
       "18         NaN                       NaN                    NaN   \n",
       "19         NaN                       NaN                    NaN   \n",
       "20         NaN                       NaN                    NaN   \n",
       "21         NaN                       NaN                    NaN   \n",
       "22         NaN                       NaN                    NaN   \n",
       "23         NaN                       NaN                    NaN   \n",
       "24    0.335676                   PerTree                 Cosine   \n",
       "25    0.673677              PerTreeLevel                 Cosine   \n",
       "26    0.412620                   PerTree                 Cosine   \n",
       "27    0.231733                   PerTree                     L2   \n",
       "28    0.144880                   PerTree                 Cosine   \n",
       "29    0.191053                   PerTree                 Cosine   \n",
       "30    0.816894              PerTreeLevel                     L2   \n",
       "31    0.750118              PerTreeLevel                 Cosine   \n",
       "32    0.152080              PerTreeLevel                 Cosine   \n",
       "33    0.458506              PerTreeLevel                     L2   \n",
       "34    0.403442              PerTreeLevel                 Cosine   \n",
       "35    0.088941              PerTreeLevel                 Cosine   \n",
       "36    0.066910              PerTreeLevel                     L2   \n",
       "37    0.318703              PerTreeLevel                 Cosine   \n",
       "38    0.405457                   PerTree                     L2   \n",
       "39    0.669926                   PerTree                 Cosine   \n",
       "40    0.020505                   PerTree                 Cosine   \n",
       "41    0.376282                   PerTree                     L2   \n",
       "42    0.633783              PerTreeLevel                     L2   \n",
       "43    0.638382              PerTreeLevel                 Cosine   \n",
       "44    0.429968              PerTreeLevel                     L2   \n",
       "45    0.430861                   PerTree                     L2   \n",
       "46    0.073160                       NaN                 Cosine   \n",
       "47    0.366856                   PerTree                 Cosine   \n",
       "\n",
       "   system_attrs_nsga2:generation     state  \n",
       "0                              0   RUNNING  \n",
       "1                              0   RUNNING  \n",
       "2                              0   RUNNING  \n",
       "3                              0   RUNNING  \n",
       "4                              0      FAIL  \n",
       "5                              0   RUNNING  \n",
       "6                              0   RUNNING  \n",
       "7                              0   RUNNING  \n",
       "8                              0   RUNNING  \n",
       "9                              0   RUNNING  \n",
       "10                             0   RUNNING  \n",
       "11                             0   RUNNING  \n",
       "12                             0   RUNNING  \n",
       "13                             0   RUNNING  \n",
       "14                             0   RUNNING  \n",
       "15                             0   RUNNING  \n",
       "16                             0   RUNNING  \n",
       "17                             0   RUNNING  \n",
       "18                             0   RUNNING  \n",
       "19                             0   RUNNING  \n",
       "20                             0   RUNNING  \n",
       "21                             0   RUNNING  \n",
       "22                             0   RUNNING  \n",
       "23                             0   RUNNING  \n",
       "24                             0  COMPLETE  \n",
       "25                             0  COMPLETE  \n",
       "26                             0  COMPLETE  \n",
       "27                             0  COMPLETE  \n",
       "28                             0   RUNNING  \n",
       "29                             0  COMPLETE  \n",
       "30                             0  COMPLETE  \n",
       "31                             0   RUNNING  \n",
       "32                             0   RUNNING  \n",
       "33                             0   RUNNING  \n",
       "34                             0  COMPLETE  \n",
       "35                             0  COMPLETE  \n",
       "36                             0  COMPLETE  \n",
       "37                             0  COMPLETE  \n",
       "38                             0  COMPLETE  \n",
       "39                             0  COMPLETE  \n",
       "40                             0  COMPLETE  \n",
       "41                             0   RUNNING  \n",
       "42                             0   RUNNING  \n",
       "43                             0  COMPLETE  \n",
       "44                             0  COMPLETE  \n",
       "45                             0   RUNNING  \n",
       "46                             0  COMPLETE  \n",
       "47                             0  COMPLETE  \n",
       "\n",
       "[48 rows x 33 columns]"
      ]
     },
     "execution_count": 151,
     "metadata": {},
     "output_type": "execute_result"
    }
   ],
   "source": [
    "data = joblib.load('catboost_leads_directions.pkl')\n",
    "\n",
    "df = data.trials_dataframe()\n",
    "df"
   ]
  },
  {
   "cell_type": "code",
   "execution_count": 166,
   "metadata": {},
   "outputs": [
    {
     "data": {
      "image/png": "[encoded data removed]",
      "text/plain": [
       "<Figure size 1111x1000 with 1 Axes>"
      ]
     },
     "metadata": {},
     "output_type": "display_data"
    }
   ],
   "source": [
    "dfm = df.dropna(thresh=10).iloc[:,:5].melt('number', var_name='cols', value_name='vals')\n",
    "g = sns.catplot(x=\"number\", y=\"vals\", hue='cols', data=dfm, kind='point' , height=10)\n",
    "plt.grid() \n",
    "plt.show()"
   ]
  },
  {
   "cell_type": "code",
   "execution_count": 168,
   "metadata": {},
   "outputs": [
    {
     "data": {
      "text/plain": [
       "<seaborn.axisgrid.PairGrid at 0x294d1105c90>"
      ]
     },
     "execution_count": 168,
     "metadata": {},
     "output_type": "execute_result"
    },
    {
     "data": {
      "image/png": "[encoded data removed]",
      "text/plain": [
       "<Figure size 1400x1400 with 16 Axes>"
      ]
     },
     "metadata": {},
     "output_type": "display_data"
    }
   ],
   "source": [
    "cols = ['values_0',\t'values_1',\t'values_2',\t'values_3']\n",
    "g = sns.PairGrid(df[cols], height=3.5)\n",
    "g.map(sns.scatterplot)"
   ]
  },
  {
   "cell_type": "code",
   "execution_count": 172,
   "metadata": {},
   "outputs": [
    {
     "data": {
      "text/plain": [
       "<seaborn.axisgrid.PairGrid at 0x295060be680>"
      ]
     },
     "execution_count": 172,
     "metadata": {},
     "output_type": "execute_result"
    },
    {
     "data": {
      "image/png": "[encoded data removed]",
      "text/plain": [
       "<Figure size 1267.75x1200 with 20 Axes>"
      ]
     },
     "metadata": {},
     "output_type": "display_data"
    }
   ],
   "source": [
    "g = sns.PairGrid(df, vars=cols, hue='number', height=3)\n",
    "g.map_diag(sns.histplot)\n",
    "g.map_offdiag(sns.scatterplot)\n",
    "g.add_legend()"
   ]
  },
  {
   "cell_type": "code",
   "execution_count": 174,
   "metadata": {},
   "outputs": [
    {
     "data": {
      "text/plain": [
       "<seaborn.axisgrid.PairGrid at 0x2950d0409a0>"
      ]
     },
     "execution_count": 174,
     "metadata": {},
     "output_type": "execute_result"
    },
    {
     "data": {
      "image/png": "[encoded data removed]",
      "text/plain": [
       "<Figure size 1200x1200 with 20 Axes>"
      ]
     },
     "metadata": {},
     "output_type": "display_data"
    }
   ],
   "source": [
    "g = sns.PairGrid(df.dropna(thresh=10), vars=cols, height=3)\n",
    "g.map_diag(sns.histplot)\n",
    "g.map_upper(sns.scatterplot)\n",
    "g.map_lower(sns.histplot)"
   ]
  },
  {
   "cell_type": "code",
   "execution_count": 137,
   "metadata": {},
   "outputs": [
    {
     "data": {
      "text/plain": [
       "<AxesSubplot: xlabel='number'>"
      ]
     },
     "execution_count": 137,
     "metadata": {},
     "output_type": "execute_result"
    },
    {
     "data": {
      "image/png": "[encoded data removed]",
      "text/plain": [
       "<Figure size 1200x1200 with 1 Axes>"
      ]
     },
     "metadata": {},
     "output_type": "display_data"
    }
   ],
   "source": [
    "df.dropna(thresh=10).plot(x=\"number\", y=['values_0',\t'values_1',\t'values_2',\t'values_3'], kind=\"bar\" , figsize=(12, 12))\n"
   ]
  },
  {
   "cell_type": "code",
   "execution_count": 116,
   "metadata": {},
   "outputs": [
    {
     "name": "stderr",
     "output_type": "stream",
     "text": [
      "C:\\Users\\dasolodennikov\\AppData\\Roaming\\Python\\Python310\\site-packages\\optuna\\visualization\\_utils.py:69: UserWarning:\n",
      "\n",
      "`target` is specified, but `target_name` is the default value, 'Objective Value'.\n",
      "\n"
     ]
    },
    {
     "data": {
      "application/vnd.plotly.v1+json": {
       "config": {
        "plotlyServerURL": "https://plot.ly"
       },
       "data": [
        {
         "cliponaxis": false,
         "hovertemplate": [
          "eval_metric (CategoricalDistribution): 0.0009315249288636657<extra></extra>",
          "leaf_estimation_backtracking (CategoricalDistribution): 0.006334344068019962<extra></extra>",
          "allow_const_label (CategoricalDistribution): 0.006980015124092188<extra></extra>",
          "max_bin (IntDistribution): 0.007299672541388656<extra></extra>",
          "langevin (CategoricalDistribution): 0.008012418368676498<extra></extra>",
          "fold_permutation_block (IntDistribution): 0.00885993922450916<extra></extra>",
          "min_data_in_leaf (IntDistribution): 0.01357862331341627<extra></extra>",
          "learning_rate (FloatDistribution): 0.01441879324844112<extra></extra>",
          "score_function (CategoricalDistribution): 0.01525000600825764<extra></extra>",
          "boosting_type (CategoricalDistribution): 0.017475255679523054<extra></extra>",
          "iterations (IntDistribution): 0.017517274017530116<extra></extra>",
          "leaf_estimation_iterations (IntDistribution): 0.017696559846097873<extra></extra>",
          "loss_function (CategoricalDistribution): 0.0322889464915397<extra></extra>",
          "reg_lambda (FloatDistribution): 0.04730206792614044<extra></extra>",
          "rsm (FloatDistribution): 0.07763646185002603<extra></extra>",
          "depth (IntDistribution): 0.07853704990371392<extra></extra>",
          "fold_len_multiplier (FloatDistribution): 0.11663055196877907<extra></extra>",
          "bagging_temperature (FloatDistribution): 0.5132504954909849<extra></extra>"
         ],
         "marker": {
          "color": "rgb(66,146,198)"
         },
         "orientation": "h",
         "text": [
          "<0.01",
          "<0.01",
          "<0.01",
          "<0.01",
          "<0.01",
          "<0.01",
          "0.01",
          "0.01",
          "0.02",
          "0.02",
          "0.02",
          "0.02",
          "0.03",
          "0.05",
          "0.08",
          "0.08",
          "0.12",
          "0.51"
         ],
         "textposition": "outside",
         "type": "bar",
         "x": [
          0.0009315249288636657,
          0.006334344068019962,
          0.006980015124092188,
          0.007299672541388656,
          0.008012418368676498,
          0.00885993922450916,
          0.01357862331341627,
          0.01441879324844112,
          0.01525000600825764,
          0.017475255679523054,
          0.017517274017530116,
          0.017696559846097873,
          0.0322889464915397,
          0.04730206792614044,
          0.07763646185002603,
          0.07853704990371392,
          0.11663055196877907,
          0.5132504954909849
         ],
         "y": [
          "eval_metric",
          "leaf_estimation_backtracking",
          "allow_const_label",
          "max_bin",
          "langevin",
          "fold_permutation_block",
          "min_data_in_leaf",
          "learning_rate",
          "score_function",
          "boosting_type",
          "iterations",
          "leaf_estimation_iterations",
          "loss_function",
          "reg_lambda",
          "rsm",
          "depth",
          "fold_len_multiplier",
          "bagging_temperature"
         ]
        }
       ],
       "layout": {
        "showlegend": false,
        "template": {
         "data": {
          "bar": [
           {
            "error_x": {
             "color": "#2a3f5f"
            },
            "error_y": {
             "color": "#2a3f5f"
            },
            "marker": {
             "line": {
              "color": "#E5ECF6",
              "width": 0.5
             },
             "pattern": {
              "fillmode": "overlay",
              "size": 10,
              "solidity": 0.2
             }
            },
            "type": "bar"
           }
          ],
          "barpolar": [
           {
            "marker": {
             "line": {
              "color": "#E5ECF6",
              "width": 0.5
             },
             "pattern": {
              "fillmode": "overlay",
              "size": 10,
              "solidity": 0.2
             }
            },
            "type": "barpolar"
           }
          ],
          "carpet": [
           {
            "aaxis": {
             "endlinecolor": "#2a3f5f",
             "gridcolor": "white",
             "linecolor": "white",
             "minorgridcolor": "white",
             "startlinecolor": "#2a3f5f"
            },
            "baxis": {
             "endlinecolor": "#2a3f5f",
             "gridcolor": "white",
             "linecolor": "white",
             "minorgridcolor": "white",
             "startlinecolor": "#2a3f5f"
            },
            "type": "carpet"
           }
          ],
          "choropleth": [
           {
            "colorbar": {
             "outlinewidth": 0,
             "ticks": ""
            },
            "type": "choropleth"
           }
          ],
          "contour": [
           {
            "colorbar": {
             "outlinewidth": 0,
             "ticks": ""
            },
            "colorscale": [
             [
              0,
              "#0d0887"
             ],
             [
              0.1111111111111111,
              "#46039f"
             ],
             [
              0.2222222222222222,
              "#7201a8"
             ],
             [
              0.3333333333333333,
              "#9c179e"
             ],
             [
              0.4444444444444444,
              "#bd3786"
             ],
             [
              0.5555555555555556,
              "#d8576b"
             ],
             [
              0.6666666666666666,
              "#ed7953"
             ],
             [
              0.7777777777777778,
              "#fb9f3a"
             ],
             [
              0.8888888888888888,
              "#fdca26"
             ],
             [
              1,
              "#f0f921"
             ]
            ],
            "type": "contour"
           }
          ],
          "contourcarpet": [
           {
            "colorbar": {
             "outlinewidth": 0,
             "ticks": ""
            },
            "type": "contourcarpet"
           }
          ],
          "heatmap": [
           {
            "colorbar": {
             "outlinewidth": 0,
             "ticks": ""
            },
            "colorscale": [
             [
              0,
              "#0d0887"
             ],
             [
              0.1111111111111111,
              "#46039f"
             ],
             [
              0.2222222222222222,
              "#7201a8"
             ],
             [
              0.3333333333333333,
              "#9c179e"
             ],
             [
              0.4444444444444444,
              "#bd3786"
             ],
             [
              0.5555555555555556,
              "#d8576b"
             ],
             [
              0.6666666666666666,
              "#ed7953"
             ],
             [
              0.7777777777777778,
              "#fb9f3a"
             ],
             [
              0.8888888888888888,
              "#fdca26"
             ],
             [
              1,
              "#f0f921"
             ]
            ],
            "type": "heatmap"
           }
          ],
          "heatmapgl": [
           {
            "colorbar": {
             "outlinewidth": 0,
             "ticks": ""
            },
            "colorscale": [
             [
              0,
              "#0d0887"
             ],
             [
              0.1111111111111111,
              "#46039f"
             ],
             [
              0.2222222222222222,
              "#7201a8"
             ],
             [
              0.3333333333333333,
              "#9c179e"
             ],
             [
              0.4444444444444444,
              "#bd3786"
             ],
             [
              0.5555555555555556,
              "#d8576b"
             ],
             [
              0.6666666666666666,
              "#ed7953"
             ],
             [
              0.7777777777777778,
              "#fb9f3a"
             ],
             [
              0.8888888888888888,
              "#fdca26"
             ],
             [
              1,
              "#f0f921"
             ]
            ],
            "type": "heatmapgl"
           }
          ],
          "histogram": [
           {
            "marker": {
             "pattern": {
              "fillmode": "overlay",
              "size": 10,
              "solidity": 0.2
             }
            },
            "type": "histogram"
           }
          ],
          "histogram2d": [
           {
            "colorbar": {
             "outlinewidth": 0,
             "ticks": ""
            },
            "colorscale": [
             [
              0,
              "#0d0887"
             ],
             [
              0.1111111111111111,
              "#46039f"
             ],
             [
              0.2222222222222222,
              "#7201a8"
             ],
             [
              0.3333333333333333,
              "#9c179e"
             ],
             [
              0.4444444444444444,
              "#bd3786"
             ],
             [
              0.5555555555555556,
              "#d8576b"
             ],
             [
              0.6666666666666666,
              "#ed7953"
             ],
             [
              0.7777777777777778,
              "#fb9f3a"
             ],
             [
              0.8888888888888888,
              "#fdca26"
             ],
             [
              1,
              "#f0f921"
             ]
            ],
            "type": "histogram2d"
           }
          ],
          "histogram2dcontour": [
           {
            "colorbar": {
             "outlinewidth": 0,
             "ticks": ""
            },
            "colorscale": [
             [
              0,
              "#0d0887"
             ],
             [
              0.1111111111111111,
              "#46039f"
             ],
             [
              0.2222222222222222,
              "#7201a8"
             ],
             [
              0.3333333333333333,
              "#9c179e"
             ],
             [
              0.4444444444444444,
              "#bd3786"
             ],
             [
              0.5555555555555556,
              "#d8576b"
             ],
             [
              0.6666666666666666,
              "#ed7953"
             ],
             [
              0.7777777777777778,
              "#fb9f3a"
             ],
             [
              0.8888888888888888,
              "#fdca26"
             ],
             [
              1,
              "#f0f921"
             ]
            ],
            "type": "histogram2dcontour"
           }
          ],
          "mesh3d": [
           {
            "colorbar": {
             "outlinewidth": 0,
             "ticks": ""
            },
            "type": "mesh3d"
           }
          ],
          "parcoords": [
           {
            "line": {
             "colorbar": {
              "outlinewidth": 0,
              "ticks": ""
             }
            },
            "type": "parcoords"
           }
          ],
          "pie": [
           {
            "automargin": true,
            "type": "pie"
           }
          ],
          "scatter": [
           {
            "fillpattern": {
             "fillmode": "overlay",
             "size": 10,
             "solidity": 0.2
            },
            "type": "scatter"
           }
          ],
          "scatter3d": [
           {
            "line": {
             "colorbar": {
              "outlinewidth": 0,
              "ticks": ""
             }
            },
            "marker": {
             "colorbar": {
              "outlinewidth": 0,
              "ticks": ""
             }
            },
            "type": "scatter3d"
           }
          ],
          "scattercarpet": [
           {
            "marker": {
             "colorbar": {
              "outlinewidth": 0,
              "ticks": ""
             }
            },
            "type": "scattercarpet"
           }
          ],
          "scattergeo": [
           {
            "marker": {
             "colorbar": {
              "outlinewidth": 0,
              "ticks": ""
             }
            },
            "type": "scattergeo"
           }
          ],
          "scattergl": [
           {
            "marker": {
             "colorbar": {
              "outlinewidth": 0,
              "ticks": ""
             }
            },
            "type": "scattergl"
           }
          ],
          "scattermapbox": [
           {
            "marker": {
             "colorbar": {
              "outlinewidth": 0,
              "ticks": ""
             }
            },
            "type": "scattermapbox"
           }
          ],
          "scatterpolar": [
           {
            "marker": {
             "colorbar": {
              "outlinewidth": 0,
              "ticks": ""
             }
            },
            "type": "scatterpolar"
           }
          ],
          "scatterpolargl": [
           {
            "marker": {
             "colorbar": {
              "outlinewidth": 0,
              "ticks": ""
             }
            },
            "type": "scatterpolargl"
           }
          ],
          "scatterternary": [
           {
            "marker": {
             "colorbar": {
              "outlinewidth": 0,
              "ticks": ""
             }
            },
            "type": "scatterternary"
           }
          ],
          "surface": [
           {
            "colorbar": {
             "outlinewidth": 0,
             "ticks": ""
            },
            "colorscale": [
             [
              0,
              "#0d0887"
             ],
             [
              0.1111111111111111,
              "#46039f"
             ],
             [
              0.2222222222222222,
              "#7201a8"
             ],
             [
              0.3333333333333333,
              "#9c179e"
             ],
             [
              0.4444444444444444,
              "#bd3786"
             ],
             [
              0.5555555555555556,
              "#d8576b"
             ],
             [
              0.6666666666666666,
              "#ed7953"
             ],
             [
              0.7777777777777778,
              "#fb9f3a"
             ],
             [
              0.8888888888888888,
              "#fdca26"
             ],
             [
              1,
              "#f0f921"
             ]
            ],
            "type": "surface"
           }
          ],
          "table": [
           {
            "cells": {
             "fill": {
              "color": "#EBF0F8"
             },
             "line": {
              "color": "white"
             }
            },
            "header": {
             "fill": {
              "color": "#C8D4E3"
             },
             "line": {
              "color": "white"
             }
            },
            "type": "table"
           }
          ]
         },
         "layout": {
          "annotationdefaults": {
           "arrowcolor": "#2a3f5f",
           "arrowhead": 0,
           "arrowwidth": 1
          },
          "autotypenumbers": "strict",
          "coloraxis": {
           "colorbar": {
            "outlinewidth": 0,
            "ticks": ""
           }
          },
          "colorscale": {
           "diverging": [
            [
             0,
             "#8e0152"
            ],
            [
             0.1,
             "#c51b7d"
            ],
            [
             0.2,
             "#de77ae"
            ],
            [
             0.3,
             "#f1b6da"
            ],
            [
             0.4,
             "#fde0ef"
            ],
            [
             0.5,
             "#f7f7f7"
            ],
            [
             0.6,
             "#e6f5d0"
            ],
            [
             0.7,
             "#b8e186"
            ],
            [
             0.8,
             "#7fbc41"
            ],
            [
             0.9,
             "#4d9221"
            ],
            [
             1,
             "#276419"
            ]
           ],
           "sequential": [
            [
             0,
             "#0d0887"
            ],
            [
             0.1111111111111111,
             "#46039f"
            ],
            [
             0.2222222222222222,
             "#7201a8"
            ],
            [
             0.3333333333333333,
             "#9c179e"
            ],
            [
             0.4444444444444444,
             "#bd3786"
            ],
            [
             0.5555555555555556,
             "#d8576b"
            ],
            [
             0.6666666666666666,
             "#ed7953"
            ],
            [
             0.7777777777777778,
             "#fb9f3a"
            ],
            [
             0.8888888888888888,
             "#fdca26"
            ],
            [
             1,
             "#f0f921"
            ]
           ],
           "sequentialminus": [
            [
             0,
             "#0d0887"
            ],
            [
             0.1111111111111111,
             "#46039f"
            ],
            [
             0.2222222222222222,
             "#7201a8"
            ],
            [
             0.3333333333333333,
             "#9c179e"
            ],
            [
             0.4444444444444444,
             "#bd3786"
            ],
            [
             0.5555555555555556,
             "#d8576b"
            ],
            [
             0.6666666666666666,
             "#ed7953"
            ],
            [
             0.7777777777777778,
             "#fb9f3a"
            ],
            [
             0.8888888888888888,
             "#fdca26"
            ],
            [
             1,
             "#f0f921"
            ]
           ]
          },
          "colorway": [
           "#636efa",
           "#EF553B",
           "#00cc96",
           "#ab63fa",
           "#FFA15A",
           "#19d3f3",
           "#FF6692",
           "#B6E880",
           "#FF97FF",
           "#FECB52"
          ],
          "font": {
           "color": "#2a3f5f"
          },
          "geo": {
           "bgcolor": "white",
           "lakecolor": "white",
           "landcolor": "#E5ECF6",
           "showlakes": true,
           "showland": true,
           "subunitcolor": "white"
          },
          "hoverlabel": {
           "align": "left"
          },
          "hovermode": "closest",
          "mapbox": {
           "style": "light"
          },
          "paper_bgcolor": "white",
          "plot_bgcolor": "#E5ECF6",
          "polar": {
           "angularaxis": {
            "gridcolor": "white",
            "linecolor": "white",
            "ticks": ""
           },
           "bgcolor": "#E5ECF6",
           "radialaxis": {
            "gridcolor": "white",
            "linecolor": "white",
            "ticks": ""
           }
          },
          "scene": {
           "xaxis": {
            "backgroundcolor": "#E5ECF6",
            "gridcolor": "white",
            "gridwidth": 2,
            "linecolor": "white",
            "showbackground": true,
            "ticks": "",
            "zerolinecolor": "white"
           },
           "yaxis": {
            "backgroundcolor": "#E5ECF6",
            "gridcolor": "white",
            "gridwidth": 2,
            "linecolor": "white",
            "showbackground": true,
            "ticks": "",
            "zerolinecolor": "white"
           },
           "zaxis": {
            "backgroundcolor": "#E5ECF6",
            "gridcolor": "white",
            "gridwidth": 2,
            "linecolor": "white",
            "showbackground": true,
            "ticks": "",
            "zerolinecolor": "white"
           }
          },
          "shapedefaults": {
           "line": {
            "color": "#2a3f5f"
           }
          },
          "ternary": {
           "aaxis": {
            "gridcolor": "white",
            "linecolor": "white",
            "ticks": ""
           },
           "baxis": {
            "gridcolor": "white",
            "linecolor": "white",
            "ticks": ""
           },
           "bgcolor": "#E5ECF6",
           "caxis": {
            "gridcolor": "white",
            "linecolor": "white",
            "ticks": ""
           }
          },
          "title": {
           "x": 0.05
          },
          "xaxis": {
           "automargin": true,
           "gridcolor": "white",
           "linecolor": "white",
           "ticks": "",
           "title": {
            "standoff": 15
           },
           "zerolinecolor": "white",
           "zerolinewidth": 2
          },
          "yaxis": {
           "automargin": true,
           "gridcolor": "white",
           "linecolor": "white",
           "ticks": "",
           "title": {
            "standoff": 15
           },
           "zerolinecolor": "white",
           "zerolinewidth": 2
          }
         }
        },
        "title": {
         "text": "Hyperparameter Importances"
        },
        "xaxis": {
         "title": {
          "text": "Importance for Objective Value"
         }
        },
        "yaxis": {
         "title": {
          "text": "Hyperparameter"
         }
        }
       }
      }
     },
     "metadata": {},
     "output_type": "display_data"
    }
   ],
   "source": [
    "optuna.visualization.plot_param_importances(data, target=lambda t: t.values[0])\n"
   ]
  },
  {
   "cell_type": "code",
   "execution_count": 117,
   "metadata": {},
   "outputs": [
    {
     "name": "stderr",
     "output_type": "stream",
     "text": [
      "C:\\Users\\dasolodennikov\\AppData\\Roaming\\Python\\Python310\\site-packages\\optuna\\visualization\\_utils.py:69: UserWarning:\n",
      "\n",
      "`target` is specified, but `target_name` is the default value, 'Objective Value'.\n",
      "\n"
     ]
    },
    {
     "data": {
      "application/vnd.plotly.v1+json": {
       "config": {
        "plotlyServerURL": "https://plot.ly"
       },
       "data": [
        {
         "mode": "lines",
         "name": "no-name-76d32c5d-9a85-49ff-988f-5c0cb2e30fc9",
         "type": "scatter",
         "x": [
          0.9981037316644821,
          0.9981228858900933,
          0.9981420401157046,
          0.998161194341316,
          0.9981803485669273,
          0.9981995027925386,
          0.9982186570181498,
          0.9982378112437611,
          0.9982569654693724,
          0.9982761196949838,
          0.998295273920595,
          0.9983144281462063,
          0.9983335823718176,
          0.9983527365974288,
          0.9983718908230401,
          0.9983910450486515,
          0.9984101992742628,
          0.998429353499874,
          0.9984485077254853,
          0.9984676619510966,
          0.9984868161767079,
          0.9985059704023193,
          0.9985251246279305,
          0.9985442788535418,
          0.9985634330791531,
          0.9985825873047643,
          0.9986017415303756,
          0.998620895755987,
          0.9986400499815983,
          0.9986592042072095,
          0.9986783584328208,
          0.9986975126584321,
          0.9987166668840434,
          0.9987358211096548,
          0.998754975335266,
          0.9987741295608773,
          0.9987932837864886,
          0.9988124380120998,
          0.9988315922377112,
          0.9988507464633225,
          0.9988699006889338,
          0.998889054914545,
          0.9989082091401563,
          0.9989273633657676,
          0.998946517591379,
          0.9989656718169903,
          0.9989848260426015,
          0.9990039802682128,
          0.9990231344938241,
          0.9990422887194353,
          0.9990614429450467,
          0.999080597170658,
          0.9990997513962693,
          0.9991189056218805,
          0.9991380598474918,
          0.9991572140731031,
          0.9991763682987145,
          0.9991955225243258,
          0.999214676749937,
          0.9992338309755483,
          0.9992529852011596,
          0.9992721394267708,
          0.9992912936523822,
          0.9993104478779935,
          0.9993296021036048,
          0.999348756329216,
          0.9993679105548273,
          0.9993870647804387,
          0.99940621900605,
          0.9994253732316613,
          0.9994445274572725,
          0.9994636816828838,
          0.9994828359084951,
          0.9995019901341065,
          0.9995211443597177,
          0.999540298585329,
          0.9995594528109403,
          0.9995786070365515,
          0.9995977612621628,
          0.9996169154877742,
          0.9996360697133855,
          0.9996552239389968,
          0.999674378164608,
          0.9996935323902193,
          0.9997126866158306,
          0.999731840841442,
          0.9997509950670532,
          0.9997701492926645,
          0.9997893035182758,
          0.999808457743887,
          0.9998276119694983,
          0.9998467661951097,
          0.999865920420721,
          0.9998850746463323,
          0.9999042288719435,
          0.9999233830975548,
          0.9999425373231661,
          0.9999616915487775,
          0.9999808457743887,
          1
         ],
         "y": [
          0.11764705882352941,
          0.11764705882352941,
          0.17647058823529413,
          0.17647058823529413,
          0.17647058823529413,
          0.17647058823529413,
          0.17647058823529413,
          0.17647058823529413,
          0.17647058823529413,
          0.17647058823529413,
          0.17647058823529413,
          0.17647058823529413,
          0.17647058823529413,
          0.17647058823529413,
          0.17647058823529413,
          0.17647058823529413,
          0.17647058823529413,
          0.17647058823529413,
          0.17647058823529413,
          0.17647058823529413,
          0.17647058823529413,
          0.17647058823529413,
          0.17647058823529413,
          0.17647058823529413,
          0.17647058823529413,
          0.17647058823529413,
          0.17647058823529413,
          0.17647058823529413,
          0.17647058823529413,
          0.17647058823529413,
          0.17647058823529413,
          0.17647058823529413,
          0.17647058823529413,
          0.35294117647058826,
          0.35294117647058826,
          0.4117647058823529,
          0.4117647058823529,
          0.4117647058823529,
          0.4117647058823529,
          0.4117647058823529,
          0.4117647058823529,
          0.4117647058823529,
          0.4117647058823529,
          0.4117647058823529,
          0.4117647058823529,
          0.4117647058823529,
          0.4117647058823529,
          0.4117647058823529,
          0.4117647058823529,
          0.4117647058823529,
          0.4117647058823529,
          0.4117647058823529,
          0.4117647058823529,
          0.4117647058823529,
          0.4117647058823529,
          0.4117647058823529,
          0.4117647058823529,
          0.4117647058823529,
          0.4117647058823529,
          0.4117647058823529,
          0.4117647058823529,
          0.4117647058823529,
          0.4117647058823529,
          0.4117647058823529,
          0.4117647058823529,
          0.5294117647058824,
          0.5294117647058824,
          0.5294117647058824,
          0.5294117647058824,
          0.5294117647058824,
          0.5882352941176471,
          0.5882352941176471,
          0.5882352941176471,
          0.5882352941176471,
          0.5882352941176471,
          0.5882352941176471,
          0.5882352941176471,
          0.5882352941176471,
          0.5882352941176471,
          0.5882352941176471,
          0.5882352941176471,
          0.5882352941176471,
          0.5882352941176471,
          0.5882352941176471,
          0.5882352941176471,
          0.5882352941176471,
          0.5882352941176471,
          0.5882352941176471,
          0.5882352941176471,
          0.5882352941176471,
          0.5882352941176471,
          0.5882352941176471,
          0.5882352941176471,
          0.5882352941176471,
          0.5882352941176471,
          0.5882352941176471,
          0.7647058823529411,
          0.7647058823529411,
          0.8823529411764706,
          1
         ]
        }
       ],
       "layout": {
        "template": {
         "data": {
          "bar": [
           {
            "error_x": {
             "color": "#2a3f5f"
            },
            "error_y": {
             "color": "#2a3f5f"
            },
            "marker": {
             "line": {
              "color": "#E5ECF6",
              "width": 0.5
             },
             "pattern": {
              "fillmode": "overlay",
              "size": 10,
              "solidity": 0.2
             }
            },
            "type": "bar"
           }
          ],
          "barpolar": [
           {
            "marker": {
             "line": {
              "color": "#E5ECF6",
              "width": 0.5
             },
             "pattern": {
              "fillmode": "overlay",
              "size": 10,
              "solidity": 0.2
             }
            },
            "type": "barpolar"
           }
          ],
          "carpet": [
           {
            "aaxis": {
             "endlinecolor": "#2a3f5f",
             "gridcolor": "white",
             "linecolor": "white",
             "minorgridcolor": "white",
             "startlinecolor": "#2a3f5f"
            },
            "baxis": {
             "endlinecolor": "#2a3f5f",
             "gridcolor": "white",
             "linecolor": "white",
             "minorgridcolor": "white",
             "startlinecolor": "#2a3f5f"
            },
            "type": "carpet"
           }
          ],
          "choropleth": [
           {
            "colorbar": {
             "outlinewidth": 0,
             "ticks": ""
            },
            "type": "choropleth"
           }
          ],
          "contour": [
           {
            "colorbar": {
             "outlinewidth": 0,
             "ticks": ""
            },
            "colorscale": [
             [
              0,
              "#0d0887"
             ],
             [
              0.1111111111111111,
              "#46039f"
             ],
             [
              0.2222222222222222,
              "#7201a8"
             ],
             [
              0.3333333333333333,
              "#9c179e"
             ],
             [
              0.4444444444444444,
              "#bd3786"
             ],
             [
              0.5555555555555556,
              "#d8576b"
             ],
             [
              0.6666666666666666,
              "#ed7953"
             ],
             [
              0.7777777777777778,
              "#fb9f3a"
             ],
             [
              0.8888888888888888,
              "#fdca26"
             ],
             [
              1,
              "#f0f921"
             ]
            ],
            "type": "contour"
           }
          ],
          "contourcarpet": [
           {
            "colorbar": {
             "outlinewidth": 0,
             "ticks": ""
            },
            "type": "contourcarpet"
           }
          ],
          "heatmap": [
           {
            "colorbar": {
             "outlinewidth": 0,
             "ticks": ""
            },
            "colorscale": [
             [
              0,
              "#0d0887"
             ],
             [
              0.1111111111111111,
              "#46039f"
             ],
             [
              0.2222222222222222,
              "#7201a8"
             ],
             [
              0.3333333333333333,
              "#9c179e"
             ],
             [
              0.4444444444444444,
              "#bd3786"
             ],
             [
              0.5555555555555556,
              "#d8576b"
             ],
             [
              0.6666666666666666,
              "#ed7953"
             ],
             [
              0.7777777777777778,
              "#fb9f3a"
             ],
             [
              0.8888888888888888,
              "#fdca26"
             ],
             [
              1,
              "#f0f921"
             ]
            ],
            "type": "heatmap"
           }
          ],
          "heatmapgl": [
           {
            "colorbar": {
             "outlinewidth": 0,
             "ticks": ""
            },
            "colorscale": [
             [
              0,
              "#0d0887"
             ],
             [
              0.1111111111111111,
              "#46039f"
             ],
             [
              0.2222222222222222,
              "#7201a8"
             ],
             [
              0.3333333333333333,
              "#9c179e"
             ],
             [
              0.4444444444444444,
              "#bd3786"
             ],
             [
              0.5555555555555556,
              "#d8576b"
             ],
             [
              0.6666666666666666,
              "#ed7953"
             ],
             [
              0.7777777777777778,
              "#fb9f3a"
             ],
             [
              0.8888888888888888,
              "#fdca26"
             ],
             [
              1,
              "#f0f921"
             ]
            ],
            "type": "heatmapgl"
           }
          ],
          "histogram": [
           {
            "marker": {
             "pattern": {
              "fillmode": "overlay",
              "size": 10,
              "solidity": 0.2
             }
            },
            "type": "histogram"
           }
          ],
          "histogram2d": [
           {
            "colorbar": {
             "outlinewidth": 0,
             "ticks": ""
            },
            "colorscale": [
             [
              0,
              "#0d0887"
             ],
             [
              0.1111111111111111,
              "#46039f"
             ],
             [
              0.2222222222222222,
              "#7201a8"
             ],
             [
              0.3333333333333333,
              "#9c179e"
             ],
             [
              0.4444444444444444,
              "#bd3786"
             ],
             [
              0.5555555555555556,
              "#d8576b"
             ],
             [
              0.6666666666666666,
              "#ed7953"
             ],
             [
              0.7777777777777778,
              "#fb9f3a"
             ],
             [
              0.8888888888888888,
              "#fdca26"
             ],
             [
              1,
              "#f0f921"
             ]
            ],
            "type": "histogram2d"
           }
          ],
          "histogram2dcontour": [
           {
            "colorbar": {
             "outlinewidth": 0,
             "ticks": ""
            },
            "colorscale": [
             [
              0,
              "#0d0887"
             ],
             [
              0.1111111111111111,
              "#46039f"
             ],
             [
              0.2222222222222222,
              "#7201a8"
             ],
             [
              0.3333333333333333,
              "#9c179e"
             ],
             [
              0.4444444444444444,
              "#bd3786"
             ],
             [
              0.5555555555555556,
              "#d8576b"
             ],
             [
              0.6666666666666666,
              "#ed7953"
             ],
             [
              0.7777777777777778,
              "#fb9f3a"
             ],
             [
              0.8888888888888888,
              "#fdca26"
             ],
             [
              1,
              "#f0f921"
             ]
            ],
            "type": "histogram2dcontour"
           }
          ],
          "mesh3d": [
           {
            "colorbar": {
             "outlinewidth": 0,
             "ticks": ""
            },
            "type": "mesh3d"
           }
          ],
          "parcoords": [
           {
            "line": {
             "colorbar": {
              "outlinewidth": 0,
              "ticks": ""
             }
            },
            "type": "parcoords"
           }
          ],
          "pie": [
           {
            "automargin": true,
            "type": "pie"
           }
          ],
          "scatter": [
           {
            "fillpattern": {
             "fillmode": "overlay",
             "size": 10,
             "solidity": 0.2
            },
            "type": "scatter"
           }
          ],
          "scatter3d": [
           {
            "line": {
             "colorbar": {
              "outlinewidth": 0,
              "ticks": ""
             }
            },
            "marker": {
             "colorbar": {
              "outlinewidth": 0,
              "ticks": ""
             }
            },
            "type": "scatter3d"
           }
          ],
          "scattercarpet": [
           {
            "marker": {
             "colorbar": {
              "outlinewidth": 0,
              "ticks": ""
             }
            },
            "type": "scattercarpet"
           }
          ],
          "scattergeo": [
           {
            "marker": {
             "colorbar": {
              "outlinewidth": 0,
              "ticks": ""
             }
            },
            "type": "scattergeo"
           }
          ],
          "scattergl": [
           {
            "marker": {
             "colorbar": {
              "outlinewidth": 0,
              "ticks": ""
             }
            },
            "type": "scattergl"
           }
          ],
          "scattermapbox": [
           {
            "marker": {
             "colorbar": {
              "outlinewidth": 0,
              "ticks": ""
             }
            },
            "type": "scattermapbox"
           }
          ],
          "scatterpolar": [
           {
            "marker": {
             "colorbar": {
              "outlinewidth": 0,
              "ticks": ""
             }
            },
            "type": "scatterpolar"
           }
          ],
          "scatterpolargl": [
           {
            "marker": {
             "colorbar": {
              "outlinewidth": 0,
              "ticks": ""
             }
            },
            "type": "scatterpolargl"
           }
          ],
          "scatterternary": [
           {
            "marker": {
             "colorbar": {
              "outlinewidth": 0,
              "ticks": ""
             }
            },
            "type": "scatterternary"
           }
          ],
          "surface": [
           {
            "colorbar": {
             "outlinewidth": 0,
             "ticks": ""
            },
            "colorscale": [
             [
              0,
              "#0d0887"
             ],
             [
              0.1111111111111111,
              "#46039f"
             ],
             [
              0.2222222222222222,
              "#7201a8"
             ],
             [
              0.3333333333333333,
              "#9c179e"
             ],
             [
              0.4444444444444444,
              "#bd3786"
             ],
             [
              0.5555555555555556,
              "#d8576b"
             ],
             [
              0.6666666666666666,
              "#ed7953"
             ],
             [
              0.7777777777777778,
              "#fb9f3a"
             ],
             [
              0.8888888888888888,
              "#fdca26"
             ],
             [
              1,
              "#f0f921"
             ]
            ],
            "type": "surface"
           }
          ],
          "table": [
           {
            "cells": {
             "fill": {
              "color": "#EBF0F8"
             },
             "line": {
              "color": "white"
             }
            },
            "header": {
             "fill": {
              "color": "#C8D4E3"
             },
             "line": {
              "color": "white"
             }
            },
            "type": "table"
           }
          ]
         },
         "layout": {
          "annotationdefaults": {
           "arrowcolor": "#2a3f5f",
           "arrowhead": 0,
           "arrowwidth": 1
          },
          "autotypenumbers": "strict",
          "coloraxis": {
           "colorbar": {
            "outlinewidth": 0,
            "ticks": ""
           }
          },
          "colorscale": {
           "diverging": [
            [
             0,
             "#8e0152"
            ],
            [
             0.1,
             "#c51b7d"
            ],
            [
             0.2,
             "#de77ae"
            ],
            [
             0.3,
             "#f1b6da"
            ],
            [
             0.4,
             "#fde0ef"
            ],
            [
             0.5,
             "#f7f7f7"
            ],
            [
             0.6,
             "#e6f5d0"
            ],
            [
             0.7,
             "#b8e186"
            ],
            [
             0.8,
             "#7fbc41"
            ],
            [
             0.9,
             "#4d9221"
            ],
            [
             1,
             "#276419"
            ]
           ],
           "sequential": [
            [
             0,
             "#0d0887"
            ],
            [
             0.1111111111111111,
             "#46039f"
            ],
            [
             0.2222222222222222,
             "#7201a8"
            ],
            [
             0.3333333333333333,
             "#9c179e"
            ],
            [
             0.4444444444444444,
             "#bd3786"
            ],
            [
             0.5555555555555556,
             "#d8576b"
            ],
            [
             0.6666666666666666,
             "#ed7953"
            ],
            [
             0.7777777777777778,
             "#fb9f3a"
            ],
            [
             0.8888888888888888,
             "#fdca26"
            ],
            [
             1,
             "#f0f921"
            ]
           ],
           "sequentialminus": [
            [
             0,
             "#0d0887"
            ],
            [
             0.1111111111111111,
             "#46039f"
            ],
            [
             0.2222222222222222,
             "#7201a8"
            ],
            [
             0.3333333333333333,
             "#9c179e"
            ],
            [
             0.4444444444444444,
             "#bd3786"
            ],
            [
             0.5555555555555556,
             "#d8576b"
            ],
            [
             0.6666666666666666,
             "#ed7953"
            ],
            [
             0.7777777777777778,
             "#fb9f3a"
            ],
            [
             0.8888888888888888,
             "#fdca26"
            ],
            [
             1,
             "#f0f921"
            ]
           ]
          },
          "colorway": [
           "#636efa",
           "#EF553B",
           "#00cc96",
           "#ab63fa",
           "#FFA15A",
           "#19d3f3",
           "#FF6692",
           "#B6E880",
           "#FF97FF",
           "#FECB52"
          ],
          "font": {
           "color": "#2a3f5f"
          },
          "geo": {
           "bgcolor": "white",
           "lakecolor": "white",
           "landcolor": "#E5ECF6",
           "showlakes": true,
           "showland": true,
           "subunitcolor": "white"
          },
          "hoverlabel": {
           "align": "left"
          },
          "hovermode": "closest",
          "mapbox": {
           "style": "light"
          },
          "paper_bgcolor": "white",
          "plot_bgcolor": "#E5ECF6",
          "polar": {
           "angularaxis": {
            "gridcolor": "white",
            "linecolor": "white",
            "ticks": ""
           },
           "bgcolor": "#E5ECF6",
           "radialaxis": {
            "gridcolor": "white",
            "linecolor": "white",
            "ticks": ""
           }
          },
          "scene": {
           "xaxis": {
            "backgroundcolor": "#E5ECF6",
            "gridcolor": "white",
            "gridwidth": 2,
            "linecolor": "white",
            "showbackground": true,
            "ticks": "",
            "zerolinecolor": "white"
           },
           "yaxis": {
            "backgroundcolor": "#E5ECF6",
            "gridcolor": "white",
            "gridwidth": 2,
            "linecolor": "white",
            "showbackground": true,
            "ticks": "",
            "zerolinecolor": "white"
           },
           "zaxis": {
            "backgroundcolor": "#E5ECF6",
            "gridcolor": "white",
            "gridwidth": 2,
            "linecolor": "white",
            "showbackground": true,
            "ticks": "",
            "zerolinecolor": "white"
           }
          },
          "shapedefaults": {
           "line": {
            "color": "#2a3f5f"
           }
          },
          "ternary": {
           "aaxis": {
            "gridcolor": "white",
            "linecolor": "white",
            "ticks": ""
           },
           "baxis": {
            "gridcolor": "white",
            "linecolor": "white",
            "ticks": ""
           },
           "bgcolor": "#E5ECF6",
           "caxis": {
            "gridcolor": "white",
            "linecolor": "white",
            "ticks": ""
           }
          },
          "title": {
           "x": 0.05
          },
          "xaxis": {
           "automargin": true,
           "gridcolor": "white",
           "linecolor": "white",
           "ticks": "",
           "title": {
            "standoff": 15
           },
           "zerolinecolor": "white",
           "zerolinewidth": 2
          },
          "yaxis": {
           "automargin": true,
           "gridcolor": "white",
           "linecolor": "white",
           "ticks": "",
           "title": {
            "standoff": 15
           },
           "zerolinecolor": "white",
           "zerolinewidth": 2
          }
         }
        },
        "title": {
         "text": "Empirical Distribution Function Plot"
        },
        "xaxis": {
         "title": {
          "text": "Objective Value"
         }
        },
        "yaxis": {
         "range": [
          0,
          1
         ],
         "title": {
          "text": "Cumulative Probability"
         }
        }
       }
      }
     },
     "metadata": {},
     "output_type": "display_data"
    }
   ],
   "source": [
    "optuna.visualization.plot_edf(data, target=lambda t: t.values[0])"
   ]
  },
  {
   "cell_type": "code",
   "execution_count": 118,
   "metadata": {},
   "outputs": [
    {
     "data": {
      "application/vnd.plotly.v1+json": {
       "config": {
        "plotlyServerURL": "https://plot.ly"
       },
       "data": [
        {
         "cliponaxis": false,
         "hovertemplate": [
          "allow_const_label (CategoricalDistribution): 0.0004213114662018815<extra></extra>",
          "boosting_type (CategoricalDistribution): 0.0007787835364291986<extra></extra>",
          "eval_metric (CategoricalDistribution): 0.004983797176626456<extra></extra>",
          "score_function (CategoricalDistribution): 0.009929212176427653<extra></extra>",
          "langevin (CategoricalDistribution): 0.013194539630598351<extra></extra>",
          "leaf_estimation_backtracking (CategoricalDistribution): 0.014740714693587889<extra></extra>",
          "max_bin (IntDistribution): 0.016361420740110197<extra></extra>",
          "iterations (IntDistribution): 0.017142890106987756<extra></extra>",
          "loss_function (CategoricalDistribution): 0.01777648278715395<extra></extra>",
          "learning_rate (FloatDistribution): 0.018487674792867087<extra></extra>",
          "fold_permutation_block (IntDistribution): 0.019527294431247514<extra></extra>",
          "leaf_estimation_iterations (IntDistribution): 0.03127239221687001<extra></extra>",
          "fold_len_multiplier (FloatDistribution): 0.035504215931935146<extra></extra>",
          "min_data_in_leaf (IntDistribution): 0.04373716010700206<extra></extra>",
          "bagging_temperature (FloatDistribution): 0.0510506298224382<extra></extra>",
          "reg_lambda (FloatDistribution): 0.05549358397802455<extra></extra>",
          "rsm (FloatDistribution): 0.24389614280733868<extra></extra>",
          "depth (IntDistribution): 0.4057017535981535<extra></extra>"
         ],
         "marker": {
          "color": "rgb(66,146,198)"
         },
         "orientation": "h",
         "text": [
          "<0.01",
          "<0.01",
          "<0.01",
          "<0.01",
          "0.01",
          "0.01",
          "0.02",
          "0.02",
          "0.02",
          "0.02",
          "0.02",
          "0.03",
          "0.04",
          "0.04",
          "0.05",
          "0.06",
          "0.24",
          "0.41"
         ],
         "textposition": "outside",
         "type": "bar",
         "x": [
          0.0004213114662018815,
          0.0007787835364291986,
          0.004983797176626456,
          0.009929212176427653,
          0.013194539630598351,
          0.014740714693587889,
          0.016361420740110197,
          0.017142890106987756,
          0.01777648278715395,
          0.018487674792867087,
          0.019527294431247514,
          0.03127239221687001,
          0.035504215931935146,
          0.04373716010700206,
          0.0510506298224382,
          0.05549358397802455,
          0.24389614280733868,
          0.4057017535981535
         ],
         "y": [
          "allow_const_label",
          "boosting_type",
          "eval_metric",
          "score_function",
          "langevin",
          "leaf_estimation_backtracking",
          "max_bin",
          "iterations",
          "loss_function",
          "learning_rate",
          "fold_permutation_block",
          "leaf_estimation_iterations",
          "fold_len_multiplier",
          "min_data_in_leaf",
          "bagging_temperature",
          "reg_lambda",
          "rsm",
          "depth"
         ]
        }
       ],
       "layout": {
        "showlegend": false,
        "template": {
         "data": {
          "bar": [
           {
            "error_x": {
             "color": "#2a3f5f"
            },
            "error_y": {
             "color": "#2a3f5f"
            },
            "marker": {
             "line": {
              "color": "#E5ECF6",
              "width": 0.5
             },
             "pattern": {
              "fillmode": "overlay",
              "size": 10,
              "solidity": 0.2
             }
            },
            "type": "bar"
           }
          ],
          "barpolar": [
           {
            "marker": {
             "line": {
              "color": "#E5ECF6",
              "width": 0.5
             },
             "pattern": {
              "fillmode": "overlay",
              "size": 10,
              "solidity": 0.2
             }
            },
            "type": "barpolar"
           }
          ],
          "carpet": [
           {
            "aaxis": {
             "endlinecolor": "#2a3f5f",
             "gridcolor": "white",
             "linecolor": "white",
             "minorgridcolor": "white",
             "startlinecolor": "#2a3f5f"
            },
            "baxis": {
             "endlinecolor": "#2a3f5f",
             "gridcolor": "white",
             "linecolor": "white",
             "minorgridcolor": "white",
             "startlinecolor": "#2a3f5f"
            },
            "type": "carpet"
           }
          ],
          "choropleth": [
           {
            "colorbar": {
             "outlinewidth": 0,
             "ticks": ""
            },
            "type": "choropleth"
           }
          ],
          "contour": [
           {
            "colorbar": {
             "outlinewidth": 0,
             "ticks": ""
            },
            "colorscale": [
             [
              0,
              "#0d0887"
             ],
             [
              0.1111111111111111,
              "#46039f"
             ],
             [
              0.2222222222222222,
              "#7201a8"
             ],
             [
              0.3333333333333333,
              "#9c179e"
             ],
             [
              0.4444444444444444,
              "#bd3786"
             ],
             [
              0.5555555555555556,
              "#d8576b"
             ],
             [
              0.6666666666666666,
              "#ed7953"
             ],
             [
              0.7777777777777778,
              "#fb9f3a"
             ],
             [
              0.8888888888888888,
              "#fdca26"
             ],
             [
              1,
              "#f0f921"
             ]
            ],
            "type": "contour"
           }
          ],
          "contourcarpet": [
           {
            "colorbar": {
             "outlinewidth": 0,
             "ticks": ""
            },
            "type": "contourcarpet"
           }
          ],
          "heatmap": [
           {
            "colorbar": {
             "outlinewidth": 0,
             "ticks": ""
            },
            "colorscale": [
             [
              0,
              "#0d0887"
             ],
             [
              0.1111111111111111,
              "#46039f"
             ],
             [
              0.2222222222222222,
              "#7201a8"
             ],
             [
              0.3333333333333333,
              "#9c179e"
             ],
             [
              0.4444444444444444,
              "#bd3786"
             ],
             [
              0.5555555555555556,
              "#d8576b"
             ],
             [
              0.6666666666666666,
              "#ed7953"
             ],
             [
              0.7777777777777778,
              "#fb9f3a"
             ],
             [
              0.8888888888888888,
              "#fdca26"
             ],
             [
              1,
              "#f0f921"
             ]
            ],
            "type": "heatmap"
           }
          ],
          "heatmapgl": [
           {
            "colorbar": {
             "outlinewidth": 0,
             "ticks": ""
            },
            "colorscale": [
             [
              0,
              "#0d0887"
             ],
             [
              0.1111111111111111,
              "#46039f"
             ],
             [
              0.2222222222222222,
              "#7201a8"
             ],
             [
              0.3333333333333333,
              "#9c179e"
             ],
             [
              0.4444444444444444,
              "#bd3786"
             ],
             [
              0.5555555555555556,
              "#d8576b"
             ],
             [
              0.6666666666666666,
              "#ed7953"
             ],
             [
              0.7777777777777778,
              "#fb9f3a"
             ],
             [
              0.8888888888888888,
              "#fdca26"
             ],
             [
              1,
              "#f0f921"
             ]
            ],
            "type": "heatmapgl"
           }
          ],
          "histogram": [
           {
            "marker": {
             "pattern": {
              "fillmode": "overlay",
              "size": 10,
              "solidity": 0.2
             }
            },
            "type": "histogram"
           }
          ],
          "histogram2d": [
           {
            "colorbar": {
             "outlinewidth": 0,
             "ticks": ""
            },
            "colorscale": [
             [
              0,
              "#0d0887"
             ],
             [
              0.1111111111111111,
              "#46039f"
             ],
             [
              0.2222222222222222,
              "#7201a8"
             ],
             [
              0.3333333333333333,
              "#9c179e"
             ],
             [
              0.4444444444444444,
              "#bd3786"
             ],
             [
              0.5555555555555556,
              "#d8576b"
             ],
             [
              0.6666666666666666,
              "#ed7953"
             ],
             [
              0.7777777777777778,
              "#fb9f3a"
             ],
             [
              0.8888888888888888,
              "#fdca26"
             ],
             [
              1,
              "#f0f921"
             ]
            ],
            "type": "histogram2d"
           }
          ],
          "histogram2dcontour": [
           {
            "colorbar": {
             "outlinewidth": 0,
             "ticks": ""
            },
            "colorscale": [
             [
              0,
              "#0d0887"
             ],
             [
              0.1111111111111111,
              "#46039f"
             ],
             [
              0.2222222222222222,
              "#7201a8"
             ],
             [
              0.3333333333333333,
              "#9c179e"
             ],
             [
              0.4444444444444444,
              "#bd3786"
             ],
             [
              0.5555555555555556,
              "#d8576b"
             ],
             [
              0.6666666666666666,
              "#ed7953"
             ],
             [
              0.7777777777777778,
              "#fb9f3a"
             ],
             [
              0.8888888888888888,
              "#fdca26"
             ],
             [
              1,
              "#f0f921"
             ]
            ],
            "type": "histogram2dcontour"
           }
          ],
          "mesh3d": [
           {
            "colorbar": {
             "outlinewidth": 0,
             "ticks": ""
            },
            "type": "mesh3d"
           }
          ],
          "parcoords": [
           {
            "line": {
             "colorbar": {
              "outlinewidth": 0,
              "ticks": ""
             }
            },
            "type": "parcoords"
           }
          ],
          "pie": [
           {
            "automargin": true,
            "type": "pie"
           }
          ],
          "scatter": [
           {
            "fillpattern": {
             "fillmode": "overlay",
             "size": 10,
             "solidity": 0.2
            },
            "type": "scatter"
           }
          ],
          "scatter3d": [
           {
            "line": {
             "colorbar": {
              "outlinewidth": 0,
              "ticks": ""
             }
            },
            "marker": {
             "colorbar": {
              "outlinewidth": 0,
              "ticks": ""
             }
            },
            "type": "scatter3d"
           }
          ],
          "scattercarpet": [
           {
            "marker": {
             "colorbar": {
              "outlinewidth": 0,
              "ticks": ""
             }
            },
            "type": "scattercarpet"
           }
          ],
          "scattergeo": [
           {
            "marker": {
             "colorbar": {
              "outlinewidth": 0,
              "ticks": ""
             }
            },
            "type": "scattergeo"
           }
          ],
          "scattergl": [
           {
            "marker": {
             "colorbar": {
              "outlinewidth": 0,
              "ticks": ""
             }
            },
            "type": "scattergl"
           }
          ],
          "scattermapbox": [
           {
            "marker": {
             "colorbar": {
              "outlinewidth": 0,
              "ticks": ""
             }
            },
            "type": "scattermapbox"
           }
          ],
          "scatterpolar": [
           {
            "marker": {
             "colorbar": {
              "outlinewidth": 0,
              "ticks": ""
             }
            },
            "type": "scatterpolar"
           }
          ],
          "scatterpolargl": [
           {
            "marker": {
             "colorbar": {
              "outlinewidth": 0,
              "ticks": ""
             }
            },
            "type": "scatterpolargl"
           }
          ],
          "scatterternary": [
           {
            "marker": {
             "colorbar": {
              "outlinewidth": 0,
              "ticks": ""
             }
            },
            "type": "scatterternary"
           }
          ],
          "surface": [
           {
            "colorbar": {
             "outlinewidth": 0,
             "ticks": ""
            },
            "colorscale": [
             [
              0,
              "#0d0887"
             ],
             [
              0.1111111111111111,
              "#46039f"
             ],
             [
              0.2222222222222222,
              "#7201a8"
             ],
             [
              0.3333333333333333,
              "#9c179e"
             ],
             [
              0.4444444444444444,
              "#bd3786"
             ],
             [
              0.5555555555555556,
              "#d8576b"
             ],
             [
              0.6666666666666666,
              "#ed7953"
             ],
             [
              0.7777777777777778,
              "#fb9f3a"
             ],
             [
              0.8888888888888888,
              "#fdca26"
             ],
             [
              1,
              "#f0f921"
             ]
            ],
            "type": "surface"
           }
          ],
          "table": [
           {
            "cells": {
             "fill": {
              "color": "#EBF0F8"
             },
             "line": {
              "color": "white"
             }
            },
            "header": {
             "fill": {
              "color": "#C8D4E3"
             },
             "line": {
              "color": "white"
             }
            },
            "type": "table"
           }
          ]
         },
         "layout": {
          "annotationdefaults": {
           "arrowcolor": "#2a3f5f",
           "arrowhead": 0,
           "arrowwidth": 1
          },
          "autotypenumbers": "strict",
          "coloraxis": {
           "colorbar": {
            "outlinewidth": 0,
            "ticks": ""
           }
          },
          "colorscale": {
           "diverging": [
            [
             0,
             "#8e0152"
            ],
            [
             0.1,
             "#c51b7d"
            ],
            [
             0.2,
             "#de77ae"
            ],
            [
             0.3,
             "#f1b6da"
            ],
            [
             0.4,
             "#fde0ef"
            ],
            [
             0.5,
             "#f7f7f7"
            ],
            [
             0.6,
             "#e6f5d0"
            ],
            [
             0.7,
             "#b8e186"
            ],
            [
             0.8,
             "#7fbc41"
            ],
            [
             0.9,
             "#4d9221"
            ],
            [
             1,
             "#276419"
            ]
           ],
           "sequential": [
            [
             0,
             "#0d0887"
            ],
            [
             0.1111111111111111,
             "#46039f"
            ],
            [
             0.2222222222222222,
             "#7201a8"
            ],
            [
             0.3333333333333333,
             "#9c179e"
            ],
            [
             0.4444444444444444,
             "#bd3786"
            ],
            [
             0.5555555555555556,
             "#d8576b"
            ],
            [
             0.6666666666666666,
             "#ed7953"
            ],
            [
             0.7777777777777778,
             "#fb9f3a"
            ],
            [
             0.8888888888888888,
             "#fdca26"
            ],
            [
             1,
             "#f0f921"
            ]
           ],
           "sequentialminus": [
            [
             0,
             "#0d0887"
            ],
            [
             0.1111111111111111,
             "#46039f"
            ],
            [
             0.2222222222222222,
             "#7201a8"
            ],
            [
             0.3333333333333333,
             "#9c179e"
            ],
            [
             0.4444444444444444,
             "#bd3786"
            ],
            [
             0.5555555555555556,
             "#d8576b"
            ],
            [
             0.6666666666666666,
             "#ed7953"
            ],
            [
             0.7777777777777778,
             "#fb9f3a"
            ],
            [
             0.8888888888888888,
             "#fdca26"
            ],
            [
             1,
             "#f0f921"
            ]
           ]
          },
          "colorway": [
           "#636efa",
           "#EF553B",
           "#00cc96",
           "#ab63fa",
           "#FFA15A",
           "#19d3f3",
           "#FF6692",
           "#B6E880",
           "#FF97FF",
           "#FECB52"
          ],
          "font": {
           "color": "#2a3f5f"
          },
          "geo": {
           "bgcolor": "white",
           "lakecolor": "white",
           "landcolor": "#E5ECF6",
           "showlakes": true,
           "showland": true,
           "subunitcolor": "white"
          },
          "hoverlabel": {
           "align": "left"
          },
          "hovermode": "closest",
          "mapbox": {
           "style": "light"
          },
          "paper_bgcolor": "white",
          "plot_bgcolor": "#E5ECF6",
          "polar": {
           "angularaxis": {
            "gridcolor": "white",
            "linecolor": "white",
            "ticks": ""
           },
           "bgcolor": "#E5ECF6",
           "radialaxis": {
            "gridcolor": "white",
            "linecolor": "white",
            "ticks": ""
           }
          },
          "scene": {
           "xaxis": {
            "backgroundcolor": "#E5ECF6",
            "gridcolor": "white",
            "gridwidth": 2,
            "linecolor": "white",
            "showbackground": true,
            "ticks": "",
            "zerolinecolor": "white"
           },
           "yaxis": {
            "backgroundcolor": "#E5ECF6",
            "gridcolor": "white",
            "gridwidth": 2,
            "linecolor": "white",
            "showbackground": true,
            "ticks": "",
            "zerolinecolor": "white"
           },
           "zaxis": {
            "backgroundcolor": "#E5ECF6",
            "gridcolor": "white",
            "gridwidth": 2,
            "linecolor": "white",
            "showbackground": true,
            "ticks": "",
            "zerolinecolor": "white"
           }
          },
          "shapedefaults": {
           "line": {
            "color": "#2a3f5f"
           }
          },
          "ternary": {
           "aaxis": {
            "gridcolor": "white",
            "linecolor": "white",
            "ticks": ""
           },
           "baxis": {
            "gridcolor": "white",
            "linecolor": "white",
            "ticks": ""
           },
           "bgcolor": "#E5ECF6",
           "caxis": {
            "gridcolor": "white",
            "linecolor": "white",
            "ticks": ""
           }
          },
          "title": {
           "x": 0.05
          },
          "xaxis": {
           "automargin": true,
           "gridcolor": "white",
           "linecolor": "white",
           "ticks": "",
           "title": {
            "standoff": 15
           },
           "zerolinecolor": "white",
           "zerolinewidth": 2
          },
          "yaxis": {
           "automargin": true,
           "gridcolor": "white",
           "linecolor": "white",
           "ticks": "",
           "title": {
            "standoff": 15
           },
           "zerolinecolor": "white",
           "zerolinewidth": 2
          }
         }
        },
        "title": {
         "text": "Hyperparameter Importances"
        },
        "xaxis": {
         "title": {
          "text": "Importance for duration"
         }
        },
        "yaxis": {
         "title": {
          "text": "Hyperparameter"
         }
        }
       }
      }
     },
     "metadata": {},
     "output_type": "display_data"
    }
   ],
   "source": [
    "optuna.visualization.plot_param_importances(\n",
    "    data, target=lambda t: t.duration.total_seconds(), target_name=\"duration\"\n",
    ")"
   ]
  },
  {
   "cell_type": "code",
   "execution_count": 119,
   "metadata": {},
   "outputs": [
    {
     "name": "stderr",
     "output_type": "stream",
     "text": [
      "C:\\Users\\dasolodennikov\\AppData\\Roaming\\Python\\Python310\\site-packages\\optuna\\visualization\\_utils.py:69: UserWarning:\n",
      "\n",
      "`target` is specified, but `target_name` is the default value, 'Objective Value'.\n",
      "\n"
     ]
    },
    {
     "data": {
      "application/vnd.plotly.v1+json": {
       "config": {
        "plotlyServerURL": "https://plot.ly"
       },
       "data": [
        {
         "marker": {
          "color": [
           24,
           25,
           26,
           27,
           29,
           30,
           34,
           35,
           36,
           37,
           38,
           39,
           40,
           43,
           44,
           46,
           47
          ],
          "colorbar": {
           "title": {
            "text": "Trial"
           },
           "x": 1,
           "xpad": 40
          },
          "colorscale": [
           [
            0,
            "rgb(247,251,255)"
           ],
           [
            0.125,
            "rgb(222,235,247)"
           ],
           [
            0.25,
            "rgb(198,219,239)"
           ],
           [
            0.375,
            "rgb(158,202,225)"
           ],
           [
            0.5,
            "rgb(107,174,214)"
           ],
           [
            0.625,
            "rgb(66,146,198)"
           ],
           [
            0.75,
            "rgb(33,113,181)"
           ],
           [
            0.875,
            "rgb(8,81,156)"
           ],
           [
            1,
            "rgb(8,48,107)"
           ]
          ],
          "line": {
           "color": "Grey",
           "width": 0.5
          },
          "showscale": true
         },
         "mode": "markers",
         "showlegend": false,
         "type": "scatter",
         "x": [
          true,
          true,
          false,
          false,
          true,
          false,
          false,
          true,
          true,
          true,
          false,
          false,
          false,
          false,
          false,
          true,
          true
         ],
         "xaxis": "x",
         "y": [
          0.9987240790590229,
          0.9993444264535639,
          1,
          0.9993444264535639,
          0.9981389578163772,
          0.9987240790590229,
          0.9999647738481048,
          0.9999647738481048,
          0.9994363815696774,
          0.9981037316644821,
          0.9999295476962097,
          0.9999295476962097,
          0.9981037316644821,
          1,
          0.9999295476962097,
          0.998759305210918,
          0.9987240790590229
         ],
         "yaxis": "y"
        },
        {
         "marker": {
          "color": [
           26,
           35,
           36,
           38,
           39,
           44,
           46
          ],
          "colorbar": {
           "title": {
            "text": "Trial"
           },
           "x": 1,
           "xpad": 40
          },
          "colorscale": [
           [
            0,
            "rgb(247,251,255)"
           ],
           [
            0.125,
            "rgb(222,235,247)"
           ],
           [
            0.25,
            "rgb(198,219,239)"
           ],
           [
            0.375,
            "rgb(158,202,225)"
           ],
           [
            0.5,
            "rgb(107,174,214)"
           ],
           [
            0.625,
            "rgb(66,146,198)"
           ],
           [
            0.75,
            "rgb(33,113,181)"
           ],
           [
            0.875,
            "rgb(8,81,156)"
           ],
           [
            1,
            "rgb(8,48,107)"
           ]
          ],
          "line": {
           "color": "Grey",
           "width": 0.5
          },
          "showscale": false
         },
         "mode": "markers",
         "showlegend": false,
         "type": "scatter",
         "x": [
          "SqrtBalanced",
          "SqrtBalanced",
          "Balanced",
          "None",
          "SqrtBalanced",
          "SqrtBalanced",
          "SqrtBalanced"
         ],
         "xaxis": "x2",
         "y": [
          1,
          0.9999647738481048,
          0.9994363815696774,
          0.9999295476962097,
          0.9999295476962097,
          0.9999295476962097,
          0.998759305210918
         ],
         "yaxis": "y2"
        },
        {
         "marker": {
          "color": [
           24,
           25,
           26,
           27,
           29,
           30,
           34,
           35,
           36,
           37,
           38,
           39,
           40,
           43,
           44,
           46,
           47
          ],
          "colorbar": {
           "title": {
            "text": "Trial"
           },
           "x": 1,
           "xpad": 40
          },
          "colorscale": [
           [
            0,
            "rgb(247,251,255)"
           ],
           [
            0.125,
            "rgb(222,235,247)"
           ],
           [
            0.25,
            "rgb(198,219,239)"
           ],
           [
            0.375,
            "rgb(158,202,225)"
           ],
           [
            0.5,
            "rgb(107,174,214)"
           ],
           [
            0.625,
            "rgb(66,146,198)"
           ],
           [
            0.75,
            "rgb(33,113,181)"
           ],
           [
            0.875,
            "rgb(8,81,156)"
           ],
           [
            1,
            "rgb(8,48,107)"
           ]
          ],
          "line": {
           "color": "Grey",
           "width": 0.5
          },
          "showscale": false
         },
         "mode": "markers",
         "showlegend": false,
         "type": "scatter",
         "x": [
          14.859527922462593,
          5.7737409950787395,
          11.47814252512135,
          10.49880289879489,
          13.922442521598228,
          10.125399918953798,
          3.6808443886144397,
          1.93108884978587,
          7.763778682652308,
          12.532475321942838,
          5.108385518720715,
          9.324966120433098,
          16.25898620929688,
          6.759474974215578,
          4.86207665157751,
          1.9167951050449297,
          14.970516193758911
         ],
         "xaxis": "x3",
         "y": [
          0.9987240790590229,
          0.9993444264535639,
          1,
          0.9993444264535639,
          0.9981389578163772,
          0.9987240790590229,
          0.9999647738481048,
          0.9999647738481048,
          0.9994363815696774,
          0.9981037316644821,
          0.9999295476962097,
          0.9999295476962097,
          0.9981037316644821,
          1,
          0.9999295476962097,
          0.998759305210918,
          0.9987240790590229
         ],
         "yaxis": "y3"
        },
        {
         "marker": {
          "color": [
           24,
           25,
           26,
           27,
           29,
           30,
           34,
           35,
           36,
           37,
           38,
           39,
           40,
           43,
           44,
           46,
           47
          ],
          "colorbar": {
           "title": {
            "text": "Trial"
           },
           "x": 1,
           "xpad": 40
          },
          "colorscale": [
           [
            0,
            "rgb(247,251,255)"
           ],
           [
            0.125,
            "rgb(222,235,247)"
           ],
           [
            0.25,
            "rgb(198,219,239)"
           ],
           [
            0.375,
            "rgb(158,202,225)"
           ],
           [
            0.5,
            "rgb(107,174,214)"
           ],
           [
            0.625,
            "rgb(66,146,198)"
           ],
           [
            0.75,
            "rgb(33,113,181)"
           ],
           [
            0.875,
            "rgb(8,81,156)"
           ],
           [
            1,
            "rgb(8,48,107)"
           ]
          ],
          "line": {
           "color": "Grey",
           "width": 0.5
          },
          "showscale": false
         },
         "mode": "markers",
         "showlegend": false,
         "type": "scatter",
         "x": [
          "Plain",
          "Ordered",
          "Plain",
          "Ordered",
          "Ordered",
          "Ordered",
          "Ordered",
          "Ordered",
          "Ordered",
          "Plain",
          "Ordered",
          "Plain",
          "Plain",
          "Ordered",
          "Ordered",
          "Plain",
          "Plain"
         ],
         "xaxis": "x4",
         "y": [
          0.9987240790590229,
          0.9993444264535639,
          1,
          0.9993444264535639,
          0.9981389578163772,
          0.9987240790590229,
          0.9999647738481048,
          0.9999647738481048,
          0.9994363815696774,
          0.9981037316644821,
          0.9999295476962097,
          0.9999295476962097,
          0.9981037316644821,
          1,
          0.9999295476962097,
          0.998759305210918,
          0.9987240790590229
         ],
         "yaxis": "y4"
        },
        {
         "marker": {
          "color": [
           24,
           25,
           26,
           27,
           29,
           30,
           34,
           35,
           36,
           37,
           38,
           39,
           40,
           43,
           44,
           46,
           47
          ],
          "colorbar": {
           "title": {
            "text": "Trial"
           },
           "x": 1,
           "xpad": 40
          },
          "colorscale": [
           [
            0,
            "rgb(247,251,255)"
           ],
           [
            0.125,
            "rgb(222,235,247)"
           ],
           [
            0.25,
            "rgb(198,219,239)"
           ],
           [
            0.375,
            "rgb(158,202,225)"
           ],
           [
            0.5,
            "rgb(107,174,214)"
           ],
           [
            0.625,
            "rgb(66,146,198)"
           ],
           [
            0.75,
            "rgb(33,113,181)"
           ],
           [
            0.875,
            "rgb(8,81,156)"
           ],
           [
            1,
            "rgb(8,48,107)"
           ]
          ],
          "line": {
           "color": "Grey",
           "width": 0.5
          },
          "showscale": false
         },
         "mode": "markers",
         "showlegend": false,
         "type": "scatter",
         "x": [
          11,
          9,
          13,
          6,
          5,
          6,
          10,
          12,
          11,
          2,
          15,
          5,
          7,
          8,
          15,
          1,
          8
         ],
         "xaxis": "x5",
         "y": [
          0.9987240790590229,
          0.9993444264535639,
          1,
          0.9993444264535639,
          0.9981389578163772,
          0.9987240790590229,
          0.9999647738481048,
          0.9999647738481048,
          0.9994363815696774,
          0.9981037316644821,
          0.9999295476962097,
          0.9999295476962097,
          0.9981037316644821,
          1,
          0.9999295476962097,
          0.998759305210918,
          0.9987240790590229
         ],
         "yaxis": "y5"
        },
        {
         "marker": {
          "color": [
           24,
           25,
           26,
           27,
           29,
           30,
           34,
           35,
           36,
           37,
           38,
           39,
           40,
           43,
           44,
           46,
           47
          ],
          "colorbar": {
           "title": {
            "text": "Trial"
           },
           "x": 1,
           "xpad": 40
          },
          "colorscale": [
           [
            0,
            "rgb(247,251,255)"
           ],
           [
            0.125,
            "rgb(222,235,247)"
           ],
           [
            0.25,
            "rgb(198,219,239)"
           ],
           [
            0.375,
            "rgb(158,202,225)"
           ],
           [
            0.5,
            "rgb(107,174,214)"
           ],
           [
            0.625,
            "rgb(66,146,198)"
           ],
           [
            0.75,
            "rgb(33,113,181)"
           ],
           [
            0.875,
            "rgb(8,81,156)"
           ],
           [
            1,
            "rgb(8,48,107)"
           ]
          ],
          "line": {
           "color": "Grey",
           "width": 0.5
          },
          "showscale": false
         },
         "mode": "markers",
         "showlegend": false,
         "type": "scatter",
         "x": [
          "CrossEntropy",
          "CrossEntropy",
          "CrossEntropy",
          "CrossEntropy",
          "CrossEntropy",
          "CrossEntropy",
          "F1",
          "CrossEntropy",
          "F1",
          "CrossEntropy",
          "F1",
          "F1",
          "F1",
          "CrossEntropy",
          "F1",
          "CrossEntropy",
          "F1"
         ],
         "xaxis": "x6",
         "y": [
          0.9987240790590229,
          0.9993444264535639,
          1,
          0.9993444264535639,
          0.9981389578163772,
          0.9987240790590229,
          0.9999647738481048,
          0.9999647738481048,
          0.9994363815696774,
          0.9981037316644821,
          0.9999295476962097,
          0.9999295476962097,
          0.9981037316644821,
          1,
          0.9999295476962097,
          0.998759305210918,
          0.9987240790590229
         ],
         "yaxis": "y6"
        },
        {
         "marker": {
          "color": [
           24,
           25,
           26,
           27,
           29,
           30,
           34,
           35,
           36,
           37,
           38,
           39,
           40,
           43,
           44,
           46,
           47
          ],
          "colorbar": {
           "title": {
            "text": "Trial"
           },
           "x": 1,
           "xpad": 40
          },
          "colorscale": [
           [
            0,
            "rgb(247,251,255)"
           ],
           [
            0.125,
            "rgb(222,235,247)"
           ],
           [
            0.25,
            "rgb(198,219,239)"
           ],
           [
            0.375,
            "rgb(158,202,225)"
           ],
           [
            0.5,
            "rgb(107,174,214)"
           ],
           [
            0.625,
            "rgb(66,146,198)"
           ],
           [
            0.75,
            "rgb(33,113,181)"
           ],
           [
            0.875,
            "rgb(8,81,156)"
           ],
           [
            1,
            "rgb(8,48,107)"
           ]
          ],
          "line": {
           "color": "Grey",
           "width": 0.5
          },
          "showscale": false
         },
         "mode": "markers",
         "showlegend": false,
         "type": "scatter",
         "x": [
          10.543687898398742,
          3.1161769907807724,
          7.568834451456576,
          10.010827358944036,
          4.018166441044144,
          6.018464384625521,
          8.741961224942928,
          9.379544687610986,
          8.127893704942542,
          2.2982109527046224,
          8.907728253699968,
          7.295539322294087,
          11.131748422572077,
          8.21125652526176,
          8.341631646186338,
          7.1194954002830215,
          4.724488115478168
         ],
         "xaxis": "x7",
         "y": [
          0.9987240790590229,
          0.9993444264535639,
          1,
          0.9993444264535639,
          0.9981389578163772,
          0.9987240790590229,
          0.9999647738481048,
          0.9999647738481048,
          0.9994363815696774,
          0.9981037316644821,
          0.9999295476962097,
          0.9999295476962097,
          0.9981037316644821,
          1,
          0.9999295476962097,
          0.998759305210918,
          0.9987240790590229
         ],
         "yaxis": "y7"
        },
        {
         "marker": {
          "color": [
           24,
           25,
           26,
           27,
           29,
           30,
           34,
           35,
           36,
           37,
           38,
           39,
           40,
           43,
           44,
           46,
           47
          ],
          "colorbar": {
           "title": {
            "text": "Trial"
           },
           "x": 1,
           "xpad": 40
          },
          "colorscale": [
           [
            0,
            "rgb(247,251,255)"
           ],
           [
            0.125,
            "rgb(222,235,247)"
           ],
           [
            0.25,
            "rgb(198,219,239)"
           ],
           [
            0.375,
            "rgb(158,202,225)"
           ],
           [
            0.5,
            "rgb(107,174,214)"
           ],
           [
            0.625,
            "rgb(66,146,198)"
           ],
           [
            0.75,
            "rgb(33,113,181)"
           ],
           [
            0.875,
            "rgb(8,81,156)"
           ],
           [
            1,
            "rgb(8,48,107)"
           ]
          ],
          "line": {
           "color": "Grey",
           "width": 0.5
          },
          "showscale": false
         },
         "mode": "markers",
         "showlegend": false,
         "type": "scatter",
         "x": [
          1,
          13,
          15,
          15,
          15,
          8,
          13,
          7,
          15,
          7,
          6,
          2,
          11,
          9,
          8,
          7,
          5
         ],
         "xaxis": "x8",
         "y": [
          0.9987240790590229,
          0.9993444264535639,
          1,
          0.9993444264535639,
          0.9981389578163772,
          0.9987240790590229,
          0.9999647738481048,
          0.9999647738481048,
          0.9994363815696774,
          0.9981037316644821,
          0.9999295476962097,
          0.9999295476962097,
          0.9981037316644821,
          1,
          0.9999295476962097,
          0.998759305210918,
          0.9987240790590229
         ],
         "yaxis": "y8"
        },
        {
         "marker": {
          "color": [
           24,
           26,
           37,
           39,
           40,
           46,
           47
          ],
          "colorbar": {
           "title": {
            "text": "Trial"
           },
           "x": 1,
           "xpad": 40
          },
          "colorscale": [
           [
            0,
            "rgb(247,251,255)"
           ],
           [
            0.125,
            "rgb(222,235,247)"
           ],
           [
            0.25,
            "rgb(198,219,239)"
           ],
           [
            0.375,
            "rgb(158,202,225)"
           ],
           [
            0.5,
            "rgb(107,174,214)"
           ],
           [
            0.625,
            "rgb(66,146,198)"
           ],
           [
            0.75,
            "rgb(33,113,181)"
           ],
           [
            0.875,
            "rgb(8,81,156)"
           ],
           [
            1,
            "rgb(8,48,107)"
           ]
          ],
          "line": {
           "color": "Grey",
           "width": 0.5
          },
          "showscale": false
         },
         "mode": "markers",
         "showlegend": false,
         "type": "scatter",
         "x": [
          "Depthwise",
          "SymmetricTree",
          "Depthwise",
          "Depthwise",
          "Depthwise",
          "Lossguide",
          "Depthwise"
         ],
         "xaxis": "x9",
         "y": [
          0.9987240790590229,
          1,
          0.9981037316644821,
          0.9999295476962097,
          0.9981037316644821,
          0.998759305210918,
          0.9987240790590229
         ],
         "yaxis": "y9"
        },
        {
         "marker": {
          "color": [
           24,
           25,
           26,
           27,
           29,
           30,
           34,
           35,
           36,
           37,
           38,
           39,
           40,
           43,
           44,
           46,
           47
          ],
          "colorbar": {
           "title": {
            "text": "Trial"
           },
           "x": 1,
           "xpad": 40
          },
          "colorscale": [
           [
            0,
            "rgb(247,251,255)"
           ],
           [
            0.125,
            "rgb(222,235,247)"
           ],
           [
            0.25,
            "rgb(198,219,239)"
           ],
           [
            0.375,
            "rgb(158,202,225)"
           ],
           [
            0.5,
            "rgb(107,174,214)"
           ],
           [
            0.625,
            "rgb(66,146,198)"
           ],
           [
            0.75,
            "rgb(33,113,181)"
           ],
           [
            0.875,
            "rgb(8,81,156)"
           ],
           [
            1,
            "rgb(8,48,107)"
           ]
          ],
          "line": {
           "color": "Grey",
           "width": 0.5
          },
          "showscale": false
         },
         "mode": "markers",
         "showlegend": false,
         "type": "scatter",
         "x": [
          3654,
          3484,
          2753,
          2200,
          3582,
          4328,
          6942,
          5071,
          6618,
          5315,
          5934,
          6171,
          5199,
          5313,
          6932,
          5017,
          2107
         ],
         "xaxis": "x10",
         "y": [
          0.9987240790590229,
          0.9993444264535639,
          1,
          0.9993444264535639,
          0.9981389578163772,
          0.9987240790590229,
          0.9999647738481048,
          0.9999647738481048,
          0.9994363815696774,
          0.9981037316644821,
          0.9999295476962097,
          0.9999295476962097,
          0.9981037316644821,
          1,
          0.9999295476962097,
          0.998759305210918,
          0.9987240790590229
         ],
         "yaxis": "y10"
        },
        {
         "marker": {
          "color": [
           24,
           25,
           26,
           27,
           29,
           30,
           34,
           35,
           36,
           37,
           38,
           39,
           40,
           43,
           44,
           46,
           47
          ],
          "colorbar": {
           "title": {
            "text": "Trial"
           },
           "x": 1,
           "xpad": 40
          },
          "colorscale": [
           [
            0,
            "rgb(247,251,255)"
           ],
           [
            0.125,
            "rgb(222,235,247)"
           ],
           [
            0.25,
            "rgb(198,219,239)"
           ],
           [
            0.375,
            "rgb(158,202,225)"
           ],
           [
            0.5,
            "rgb(107,174,214)"
           ],
           [
            0.625,
            "rgb(66,146,198)"
           ],
           [
            0.75,
            "rgb(33,113,181)"
           ],
           [
            0.875,
            "rgb(8,81,156)"
           ],
           [
            1,
            "rgb(8,48,107)"
           ]
          ],
          "line": {
           "color": "Grey",
           "width": 0.5
          },
          "showscale": false
         },
         "mode": "markers",
         "showlegend": false,
         "type": "scatter",
         "x": [
          false,
          false,
          true,
          true,
          true,
          false,
          true,
          false,
          true,
          true,
          false,
          false,
          true,
          true,
          false,
          false,
          false
         ],
         "xaxis": "x11",
         "y": [
          0.9987240790590229,
          0.9993444264535639,
          1,
          0.9993444264535639,
          0.9981389578163772,
          0.9987240790590229,
          0.9999647738481048,
          0.9999647738481048,
          0.9994363815696774,
          0.9981037316644821,
          0.9999295476962097,
          0.9999295476962097,
          0.9981037316644821,
          1,
          0.9999295476962097,
          0.998759305210918,
          0.9987240790590229
         ],
         "yaxis": "y11"
        },
        {
         "marker": {
          "color": [
           24,
           25,
           26,
           27,
           29,
           30,
           34,
           35,
           36,
           37,
           38,
           39,
           40,
           43,
           44,
           46,
           47
          ],
          "colorbar": {
           "title": {
            "text": "Trial"
           },
           "x": 1,
           "xpad": 40
          },
          "colorscale": [
           [
            0,
            "rgb(247,251,255)"
           ],
           [
            0.125,
            "rgb(222,235,247)"
           ],
           [
            0.25,
            "rgb(198,219,239)"
           ],
           [
            0.375,
            "rgb(158,202,225)"
           ],
           [
            0.5,
            "rgb(107,174,214)"
           ],
           [
            0.625,
            "rgb(66,146,198)"
           ],
           [
            0.75,
            "rgb(33,113,181)"
           ],
           [
            0.875,
            "rgb(8,81,156)"
           ],
           [
            1,
            "rgb(8,48,107)"
           ]
          ],
          "line": {
           "color": "Grey",
           "width": 0.5
          },
          "showscale": false
         },
         "mode": "markers",
         "showlegend": false,
         "type": "scatter",
         "x": [
          "AnyImprovement",
          "No",
          "No",
          "No",
          "No",
          "No",
          "No",
          "AnyImprovement",
          "AnyImprovement",
          "AnyImprovement",
          "No",
          "AnyImprovement",
          "No",
          "No",
          "No",
          "No",
          "No"
         ],
         "xaxis": "x12",
         "y": [
          0.9987240790590229,
          0.9993444264535639,
          1,
          0.9993444264535639,
          0.9981389578163772,
          0.9987240790590229,
          0.9999647738481048,
          0.9999647738481048,
          0.9994363815696774,
          0.9981037316644821,
          0.9999295476962097,
          0.9999295476962097,
          0.9981037316644821,
          1,
          0.9999295476962097,
          0.998759305210918,
          0.9987240790590229
         ],
         "yaxis": "y12"
        },
        {
         "marker": {
          "color": [
           24,
           25,
           26,
           27,
           29,
           30,
           34,
           35,
           36,
           37,
           38,
           39,
           40,
           43,
           44,
           46,
           47
          ],
          "colorbar": {
           "title": {
            "text": "Trial"
           },
           "x": 1,
           "xpad": 40
          },
          "colorscale": [
           [
            0,
            "rgb(247,251,255)"
           ],
           [
            0.125,
            "rgb(222,235,247)"
           ],
           [
            0.25,
            "rgb(198,219,239)"
           ],
           [
            0.375,
            "rgb(158,202,225)"
           ],
           [
            0.5,
            "rgb(107,174,214)"
           ],
           [
            0.625,
            "rgb(66,146,198)"
           ],
           [
            0.75,
            "rgb(33,113,181)"
           ],
           [
            0.875,
            "rgb(8,81,156)"
           ],
           [
            1,
            "rgb(8,48,107)"
           ]
          ],
          "line": {
           "color": "Grey",
           "width": 0.5
          },
          "showscale": false
         },
         "mode": "markers",
         "showlegend": false,
         "type": "scatter",
         "x": [
          8,
          8,
          3,
          5,
          3,
          6,
          11,
          2,
          11,
          9,
          8,
          2,
          3,
          11,
          9,
          4,
          8
         ],
         "xaxis": "x13",
         "y": [
          0.9987240790590229,
          0.9993444264535639,
          1,
          0.9993444264535639,
          0.9981389578163772,
          0.9987240790590229,
          0.9999647738481048,
          0.9999647738481048,
          0.9994363815696774,
          0.9981037316644821,
          0.9999295476962097,
          0.9999295476962097,
          0.9981037316644821,
          1,
          0.9999295476962097,
          0.998759305210918,
          0.9987240790590229
         ],
         "yaxis": "y13"
        },
        {
         "marker": {
          "color": [
           24,
           25,
           26,
           27,
           29,
           30,
           34,
           35,
           36,
           37,
           38,
           39,
           40,
           43,
           44,
           46,
           47
          ],
          "colorbar": {
           "title": {
            "text": "Trial"
           },
           "x": 1,
           "xpad": 40
          },
          "colorscale": [
           [
            0,
            "rgb(247,251,255)"
           ],
           [
            0.125,
            "rgb(222,235,247)"
           ],
           [
            0.25,
            "rgb(198,219,239)"
           ],
           [
            0.375,
            "rgb(158,202,225)"
           ],
           [
            0.5,
            "rgb(107,174,214)"
           ],
           [
            0.625,
            "rgb(66,146,198)"
           ],
           [
            0.75,
            "rgb(33,113,181)"
           ],
           [
            0.875,
            "rgb(8,81,156)"
           ],
           [
            1,
            "rgb(8,48,107)"
           ]
          ],
          "line": {
           "color": "Grey",
           "width": 0.5
          },
          "showscale": false
         },
         "mode": "markers",
         "showlegend": false,
         "type": "scatter",
         "x": [
          0.3491647143551091,
          0.6660471698574875,
          0.5038413947348755,
          0.184375728063932,
          0.8950903758973413,
          0.3169077213307755,
          0.8091518039043789,
          0.37510283643576636,
          0.7596966679646016,
          0.319876196683231,
          0.9855233912967685,
          0.09690592650955687,
          0.05737086298008054,
          0.2347711779891954,
          0.2913394712125315,
          0.6540090743097875,
          0.19341169446706966
         ],
         "xaxis": "x14",
         "y": [
          0.9987240790590229,
          0.9993444264535639,
          1,
          0.9993444264535639,
          0.9981389578163772,
          0.9987240790590229,
          0.9999647738481048,
          0.9999647738481048,
          0.9994363815696774,
          0.9981037316644821,
          0.9999295476962097,
          0.9999295476962097,
          0.9981037316644821,
          1,
          0.9999295476962097,
          0.998759305210918,
          0.9987240790590229
         ],
         "yaxis": "y14"
        },
        {
         "marker": {
          "color": [
           24,
           25,
           26,
           27,
           29,
           30,
           34,
           35,
           36,
           37,
           38,
           39,
           40,
           43,
           44,
           46,
           47
          ],
          "colorbar": {
           "title": {
            "text": "Trial"
           },
           "x": 1,
           "xpad": 40
          },
          "colorscale": [
           [
            0,
            "rgb(247,251,255)"
           ],
           [
            0.125,
            "rgb(222,235,247)"
           ],
           [
            0.25,
            "rgb(198,219,239)"
           ],
           [
            0.375,
            "rgb(158,202,225)"
           ],
           [
            0.5,
            "rgb(107,174,214)"
           ],
           [
            0.625,
            "rgb(66,146,198)"
           ],
           [
            0.75,
            "rgb(33,113,181)"
           ],
           [
            0.875,
            "rgb(8,81,156)"
           ],
           [
            1,
            "rgb(8,48,107)"
           ]
          ],
          "line": {
           "color": "Grey",
           "width": 0.5
          },
          "showscale": false
         },
         "mode": "markers",
         "showlegend": false,
         "type": "scatter",
         "x": [
          "CrossEntropy",
          "CrossEntropy",
          "Logloss",
          "CrossEntropy",
          "CrossEntropy",
          "CrossEntropy",
          "CrossEntropy",
          "Logloss",
          "Logloss",
          "CrossEntropy",
          "Logloss",
          "Logloss",
          "CrossEntropy",
          "CrossEntropy",
          "Logloss",
          "Logloss",
          "CrossEntropy"
         ],
         "xaxis": "x15",
         "y": [
          0.9987240790590229,
          0.9993444264535639,
          1,
          0.9993444264535639,
          0.9981389578163772,
          0.9987240790590229,
          0.9999647738481048,
          0.9999647738481048,
          0.9994363815696774,
          0.9981037316644821,
          0.9999295476962097,
          0.9999295476962097,
          0.9981037316644821,
          1,
          0.9999295476962097,
          0.998759305210918,
          0.9987240790590229
         ],
         "yaxis": "y15"
        },
        {
         "marker": {
          "color": [
           24,
           25,
           26,
           27,
           29,
           30,
           34,
           35,
           36,
           37,
           38,
           39,
           40,
           43,
           44,
           46,
           47
          ],
          "colorbar": {
           "title": {
            "text": "Trial"
           },
           "x": 1,
           "xpad": 40
          },
          "colorscale": [
           [
            0,
            "rgb(247,251,255)"
           ],
           [
            0.125,
            "rgb(222,235,247)"
           ],
           [
            0.25,
            "rgb(198,219,239)"
           ],
           [
            0.375,
            "rgb(158,202,225)"
           ],
           [
            0.5,
            "rgb(107,174,214)"
           ],
           [
            0.625,
            "rgb(66,146,198)"
           ],
           [
            0.75,
            "rgb(33,113,181)"
           ],
           [
            0.875,
            "rgb(8,81,156)"
           ],
           [
            1,
            "rgb(8,48,107)"
           ]
          ],
          "line": {
           "color": "Grey",
           "width": 0.5
          },
          "showscale": false
         },
         "mode": "markers",
         "showlegend": false,
         "type": "scatter",
         "x": [
          471,
          547,
          256,
          159,
          406,
          446,
          242,
          538,
          515,
          196,
          279,
          218,
          139,
          266,
          237,
          257,
          299
         ],
         "xaxis": "x16",
         "y": [
          0.9987240790590229,
          0.9993444264535639,
          1,
          0.9993444264535639,
          0.9981389578163772,
          0.9987240790590229,
          0.9999647738481048,
          0.9999647738481048,
          0.9994363815696774,
          0.9981037316644821,
          0.9999295476962097,
          0.9999295476962097,
          0.9981037316644821,
          1,
          0.9999295476962097,
          0.998759305210918,
          0.9987240790590229
         ],
         "yaxis": "y16"
        },
        {
         "marker": {
          "color": [
           24,
           25,
           26,
           27,
           29,
           30,
           34,
           35,
           36,
           37,
           38,
           39,
           40,
           43,
           44,
           46,
           47
          ],
          "colorbar": {
           "title": {
            "text": "Trial"
           },
           "x": 1,
           "xpad": 40
          },
          "colorscale": [
           [
            0,
            "rgb(247,251,255)"
           ],
           [
            0.125,
            "rgb(222,235,247)"
           ],
           [
            0.25,
            "rgb(198,219,239)"
           ],
           [
            0.375,
            "rgb(158,202,225)"
           ],
           [
            0.5,
            "rgb(107,174,214)"
           ],
           [
            0.625,
            "rgb(66,146,198)"
           ],
           [
            0.75,
            "rgb(33,113,181)"
           ],
           [
            0.875,
            "rgb(8,81,156)"
           ],
           [
            1,
            "rgb(8,48,107)"
           ]
          ],
          "line": {
           "color": "Grey",
           "width": 0.5
          },
          "showscale": false
         },
         "mode": "markers",
         "showlegend": false,
         "type": "scatter",
         "x": [
          16,
          13,
          3,
          5,
          8,
          11,
          7,
          11,
          11,
          10,
          15,
          7,
          15,
          1,
          16,
          8,
          6
         ],
         "xaxis": "x17",
         "y": [
          0.9987240790590229,
          0.9993444264535639,
          1,
          0.9993444264535639,
          0.9981389578163772,
          0.9987240790590229,
          0.9999647738481048,
          0.9999647738481048,
          0.9994363815696774,
          0.9981037316644821,
          0.9999295476962097,
          0.9999295476962097,
          0.9981037316644821,
          1,
          0.9999295476962097,
          0.998759305210918,
          0.9987240790590229
         ],
         "yaxis": "y17"
        },
        {
         "marker": {
          "color": [
           26,
           34,
           36
          ],
          "colorbar": {
           "title": {
            "text": "Trial"
           },
           "x": 1,
           "xpad": 40
          },
          "colorscale": [
           [
            0,
            "rgb(247,251,255)"
           ],
           [
            0.125,
            "rgb(222,235,247)"
           ],
           [
            0.25,
            "rgb(198,219,239)"
           ],
           [
            0.375,
            "rgb(158,202,225)"
           ],
           [
            0.5,
            "rgb(107,174,214)"
           ],
           [
            0.625,
            "rgb(66,146,198)"
           ],
           [
            0.75,
            "rgb(33,113,181)"
           ],
           [
            0.875,
            "rgb(8,81,156)"
           ],
           [
            1,
            "rgb(8,48,107)"
           ]
          ],
          "line": {
           "color": "Grey",
           "width": 0.5
          },
          "showscale": false
         },
         "mode": "markers",
         "showlegend": false,
         "type": "scatter",
         "x": [
          "Decreasing",
          "Constant",
          "Decreasing"
         ],
         "xaxis": "x18",
         "y": [
          1,
          0.9999647738481048,
          0.9994363815696774
         ],
         "yaxis": "y18"
        },
        {
         "marker": {
          "color": [
           26,
           27,
           29,
           34,
           36,
           37,
           40,
           43
          ],
          "colorbar": {
           "title": {
            "text": "Trial"
           },
           "x": 1,
           "xpad": 40
          },
          "colorscale": [
           [
            0,
            "rgb(247,251,255)"
           ],
           [
            0.125,
            "rgb(222,235,247)"
           ],
           [
            0.25,
            "rgb(198,219,239)"
           ],
           [
            0.375,
            "rgb(158,202,225)"
           ],
           [
            0.5,
            "rgb(107,174,214)"
           ],
           [
            0.625,
            "rgb(66,146,198)"
           ],
           [
            0.75,
            "rgb(33,113,181)"
           ],
           [
            0.875,
            "rgb(8,81,156)"
           ],
           [
            1,
            "rgb(8,48,107)"
           ]
          ],
          "line": {
           "color": "Grey",
           "width": 0.5
          },
          "showscale": false
         },
         "mode": "markers",
         "showlegend": false,
         "type": "scatter",
         "x": [
          false,
          true,
          true,
          false,
          false,
          true,
          true,
          true
         ],
         "xaxis": "x19",
         "y": [
          1,
          0.9993444264535639,
          0.9981389578163772,
          0.9999647738481048,
          0.9994363815696774,
          0.9981037316644821,
          0.9981037316644821,
          1
         ],
         "yaxis": "y19"
        },
        {
         "marker": {
          "color": [
           24,
           25,
           26,
           27,
           29,
           30,
           34,
           35,
           36,
           37,
           38,
           39,
           40,
           43,
           44,
           46,
           47
          ],
          "colorbar": {
           "title": {
            "text": "Trial"
           },
           "x": 1,
           "xpad": 40
          },
          "colorscale": [
           [
            0,
            "rgb(247,251,255)"
           ],
           [
            0.125,
            "rgb(222,235,247)"
           ],
           [
            0.25,
            "rgb(198,219,239)"
           ],
           [
            0.375,
            "rgb(158,202,225)"
           ],
           [
            0.5,
            "rgb(107,174,214)"
           ],
           [
            0.625,
            "rgb(66,146,198)"
           ],
           [
            0.75,
            "rgb(33,113,181)"
           ],
           [
            0.875,
            "rgb(8,81,156)"
           ],
           [
            1,
            "rgb(8,48,107)"
           ]
          ],
          "line": {
           "color": "Grey",
           "width": 0.5
          },
          "showscale": false
         },
         "mode": "markers",
         "showlegend": false,
         "type": "scatter",
         "x": [
          11.015570194424013,
          9.052387018110338,
          5.061689856424976,
          7.904739971857724,
          2.8091424981606385,
          9.437928453931047,
          4.641746292468031,
          5.575000835948284,
          10.234779609078185,
          2.865690200752054,
          6.888325859902212,
          3.1156749590484862,
          9.141158329299245,
          9.662643714880234,
          6.719032747311139,
          10.855463072613897,
          1.530844310681758
         ],
         "xaxis": "x20",
         "y": [
          0.9987240790590229,
          0.9993444264535639,
          1,
          0.9993444264535639,
          0.9981389578163772,
          0.9987240790590229,
          0.9999647738481048,
          0.9999647738481048,
          0.9994363815696774,
          0.9981037316644821,
          0.9999295476962097,
          0.9999295476962097,
          0.9981037316644821,
          1,
          0.9999295476962097,
          0.998759305210918,
          0.9987240790590229
         ],
         "yaxis": "y20"
        },
        {
         "marker": {
          "color": [
           24,
           25,
           26,
           27,
           29,
           30,
           34,
           35,
           36,
           37,
           38,
           39,
           40,
           43,
           44,
           46,
           47
          ],
          "colorbar": {
           "title": {
            "text": "Trial"
           },
           "x": 1,
           "xpad": 40
          },
          "colorscale": [
           [
            0,
            "rgb(247,251,255)"
           ],
           [
            0.125,
            "rgb(222,235,247)"
           ],
           [
            0.25,
            "rgb(198,219,239)"
           ],
           [
            0.375,
            "rgb(158,202,225)"
           ],
           [
            0.5,
            "rgb(107,174,214)"
           ],
           [
            0.625,
            "rgb(66,146,198)"
           ],
           [
            0.75,
            "rgb(33,113,181)"
           ],
           [
            0.875,
            "rgb(8,81,156)"
           ],
           [
            1,
            "rgb(8,48,107)"
           ]
          ],
          "line": {
           "color": "Grey",
           "width": 0.5
          },
          "showscale": false
         },
         "mode": "markers",
         "showlegend": false,
         "type": "scatter",
         "x": [
          0.3356757093767202,
          0.673676548547497,
          0.4126196457672877,
          0.23173328076511798,
          0.1910526951113034,
          0.8168935071147267,
          0.40344151146498813,
          0.08894054065088801,
          0.06690981829648243,
          0.3187031871198733,
          0.4054565247497284,
          0.6699258981360837,
          0.02050526883008942,
          0.6383821905298074,
          0.4299678473411706,
          0.07316037806200862,
          0.36685557922212547
         ],
         "xaxis": "x21",
         "y": [
          0.9987240790590229,
          0.9993444264535639,
          1,
          0.9993444264535639,
          0.9981389578163772,
          0.9987240790590229,
          0.9999647738481048,
          0.9999647738481048,
          0.9994363815696774,
          0.9981037316644821,
          0.9999295476962097,
          0.9999295476962097,
          0.9981037316644821,
          1,
          0.9999295476962097,
          0.998759305210918,
          0.9987240790590229
         ],
         "yaxis": "y21"
        },
        {
         "marker": {
          "color": [
           24,
           25,
           26,
           27,
           29,
           30,
           34,
           35,
           36,
           37,
           38,
           39,
           40,
           43,
           44,
           47
          ],
          "colorbar": {
           "title": {
            "text": "Trial"
           },
           "x": 1,
           "xpad": 40
          },
          "colorscale": [
           [
            0,
            "rgb(247,251,255)"
           ],
           [
            0.125,
            "rgb(222,235,247)"
           ],
           [
            0.25,
            "rgb(198,219,239)"
           ],
           [
            0.375,
            "rgb(158,202,225)"
           ],
           [
            0.5,
            "rgb(107,174,214)"
           ],
           [
            0.625,
            "rgb(66,146,198)"
           ],
           [
            0.75,
            "rgb(33,113,181)"
           ],
           [
            0.875,
            "rgb(8,81,156)"
           ],
           [
            1,
            "rgb(8,48,107)"
           ]
          ],
          "line": {
           "color": "Grey",
           "width": 0.5
          },
          "showscale": false
         },
         "mode": "markers",
         "showlegend": false,
         "type": "scatter",
         "x": [
          "PerTree",
          "PerTreeLevel",
          "PerTree",
          "PerTree",
          "PerTree",
          "PerTreeLevel",
          "PerTreeLevel",
          "PerTreeLevel",
          "PerTreeLevel",
          "PerTreeLevel",
          "PerTree",
          "PerTree",
          "PerTree",
          "PerTreeLevel",
          "PerTreeLevel",
          "PerTree"
         ],
         "xaxis": "x22",
         "y": [
          0.9987240790590229,
          0.9993444264535639,
          1,
          0.9993444264535639,
          0.9981389578163772,
          0.9987240790590229,
          0.9999647738481048,
          0.9999647738481048,
          0.9994363815696774,
          0.9981037316644821,
          0.9999295476962097,
          0.9999295476962097,
          0.9981037316644821,
          1,
          0.9999295476962097,
          0.9987240790590229
         ],
         "yaxis": "y22"
        },
        {
         "marker": {
          "color": [
           24,
           25,
           26,
           27,
           29,
           30,
           34,
           35,
           36,
           37,
           38,
           39,
           40,
           43,
           44,
           46,
           47
          ],
          "colorbar": {
           "title": {
            "text": "Trial"
           },
           "x": 1,
           "xpad": 40
          },
          "colorscale": [
           [
            0,
            "rgb(247,251,255)"
           ],
           [
            0.125,
            "rgb(222,235,247)"
           ],
           [
            0.25,
            "rgb(198,219,239)"
           ],
           [
            0.375,
            "rgb(158,202,225)"
           ],
           [
            0.5,
            "rgb(107,174,214)"
           ],
           [
            0.625,
            "rgb(66,146,198)"
           ],
           [
            0.75,
            "rgb(33,113,181)"
           ],
           [
            0.875,
            "rgb(8,81,156)"
           ],
           [
            1,
            "rgb(8,48,107)"
           ]
          ],
          "line": {
           "color": "Grey",
           "width": 0.5
          },
          "showscale": false
         },
         "mode": "markers",
         "showlegend": false,
         "type": "scatter",
         "x": [
          "Cosine",
          "Cosine",
          "Cosine",
          "L2",
          "Cosine",
          "L2",
          "Cosine",
          "Cosine",
          "L2",
          "Cosine",
          "L2",
          "Cosine",
          "Cosine",
          "Cosine",
          "L2",
          "Cosine",
          "Cosine"
         ],
         "xaxis": "x23",
         "y": [
          0.9987240790590229,
          0.9993444264535639,
          1,
          0.9993444264535639,
          0.9981389578163772,
          0.9987240790590229,
          0.9999647738481048,
          0.9999647738481048,
          0.9994363815696774,
          0.9981037316644821,
          0.9999295476962097,
          0.9999295476962097,
          0.9981037316644821,
          1,
          0.9999295476962097,
          0.998759305210918,
          0.9987240790590229
         ],
         "yaxis": "y23"
        }
       ],
       "layout": {
        "template": {
         "data": {
          "bar": [
           {
            "error_x": {
             "color": "#2a3f5f"
            },
            "error_y": {
             "color": "#2a3f5f"
            },
            "marker": {
             "line": {
              "color": "#E5ECF6",
              "width": 0.5
             },
             "pattern": {
              "fillmode": "overlay",
              "size": 10,
              "solidity": 0.2
             }
            },
            "type": "bar"
           }
          ],
          "barpolar": [
           {
            "marker": {
             "line": {
              "color": "#E5ECF6",
              "width": 0.5
             },
             "pattern": {
              "fillmode": "overlay",
              "size": 10,
              "solidity": 0.2
             }
            },
            "type": "barpolar"
           }
          ],
          "carpet": [
           {
            "aaxis": {
             "endlinecolor": "#2a3f5f",
             "gridcolor": "white",
             "linecolor": "white",
             "minorgridcolor": "white",
             "startlinecolor": "#2a3f5f"
            },
            "baxis": {
             "endlinecolor": "#2a3f5f",
             "gridcolor": "white",
             "linecolor": "white",
             "minorgridcolor": "white",
             "startlinecolor": "#2a3f5f"
            },
            "type": "carpet"
           }
          ],
          "choropleth": [
           {
            "colorbar": {
             "outlinewidth": 0,
             "ticks": ""
            },
            "type": "choropleth"
           }
          ],
          "contour": [
           {
            "colorbar": {
             "outlinewidth": 0,
             "ticks": ""
            },
            "colorscale": [
             [
              0,
              "#0d0887"
             ],
             [
              0.1111111111111111,
              "#46039f"
             ],
             [
              0.2222222222222222,
              "#7201a8"
             ],
             [
              0.3333333333333333,
              "#9c179e"
             ],
             [
              0.4444444444444444,
              "#bd3786"
             ],
             [
              0.5555555555555556,
              "#d8576b"
             ],
             [
              0.6666666666666666,
              "#ed7953"
             ],
             [
              0.7777777777777778,
              "#fb9f3a"
             ],
             [
              0.8888888888888888,
              "#fdca26"
             ],
             [
              1,
              "#f0f921"
             ]
            ],
            "type": "contour"
           }
          ],
          "contourcarpet": [
           {
            "colorbar": {
             "outlinewidth": 0,
             "ticks": ""
            },
            "type": "contourcarpet"
           }
          ],
          "heatmap": [
           {
            "colorbar": {
             "outlinewidth": 0,
             "ticks": ""
            },
            "colorscale": [
             [
              0,
              "#0d0887"
             ],
             [
              0.1111111111111111,
              "#46039f"
             ],
             [
              0.2222222222222222,
              "#7201a8"
             ],
             [
              0.3333333333333333,
              "#9c179e"
             ],
             [
              0.4444444444444444,
              "#bd3786"
             ],
             [
              0.5555555555555556,
              "#d8576b"
             ],
             [
              0.6666666666666666,
              "#ed7953"
             ],
             [
              0.7777777777777778,
              "#fb9f3a"
             ],
             [
              0.8888888888888888,
              "#fdca26"
             ],
             [
              1,
              "#f0f921"
             ]
            ],
            "type": "heatmap"
           }
          ],
          "heatmapgl": [
           {
            "colorbar": {
             "outlinewidth": 0,
             "ticks": ""
            },
            "colorscale": [
             [
              0,
              "#0d0887"
             ],
             [
              0.1111111111111111,
              "#46039f"
             ],
             [
              0.2222222222222222,
              "#7201a8"
             ],
             [
              0.3333333333333333,
              "#9c179e"
             ],
             [
              0.4444444444444444,
              "#bd3786"
             ],
             [
              0.5555555555555556,
              "#d8576b"
             ],
             [
              0.6666666666666666,
              "#ed7953"
             ],
             [
              0.7777777777777778,
              "#fb9f3a"
             ],
             [
              0.8888888888888888,
              "#fdca26"
             ],
             [
              1,
              "#f0f921"
             ]
            ],
            "type": "heatmapgl"
           }
          ],
          "histogram": [
           {
            "marker": {
             "pattern": {
              "fillmode": "overlay",
              "size": 10,
              "solidity": 0.2
             }
            },
            "type": "histogram"
           }
          ],
          "histogram2d": [
           {
            "colorbar": {
             "outlinewidth": 0,
             "ticks": ""
            },
            "colorscale": [
             [
              0,
              "#0d0887"
             ],
             [
              0.1111111111111111,
              "#46039f"
             ],
             [
              0.2222222222222222,
              "#7201a8"
             ],
             [
              0.3333333333333333,
              "#9c179e"
             ],
             [
              0.4444444444444444,
              "#bd3786"
             ],
             [
              0.5555555555555556,
              "#d8576b"
             ],
             [
              0.6666666666666666,
              "#ed7953"
             ],
             [
              0.7777777777777778,
              "#fb9f3a"
             ],
             [
              0.8888888888888888,
              "#fdca26"
             ],
             [
              1,
              "#f0f921"
             ]
            ],
            "type": "histogram2d"
           }
          ],
          "histogram2dcontour": [
           {
            "colorbar": {
             "outlinewidth": 0,
             "ticks": ""
            },
            "colorscale": [
             [
              0,
              "#0d0887"
             ],
             [
              0.1111111111111111,
              "#46039f"
             ],
             [
              0.2222222222222222,
              "#7201a8"
             ],
             [
              0.3333333333333333,
              "#9c179e"
             ],
             [
              0.4444444444444444,
              "#bd3786"
             ],
             [
              0.5555555555555556,
              "#d8576b"
             ],
             [
              0.6666666666666666,
              "#ed7953"
             ],
             [
              0.7777777777777778,
              "#fb9f3a"
             ],
             [
              0.8888888888888888,
              "#fdca26"
             ],
             [
              1,
              "#f0f921"
             ]
            ],
            "type": "histogram2dcontour"
           }
          ],
          "mesh3d": [
           {
            "colorbar": {
             "outlinewidth": 0,
             "ticks": ""
            },
            "type": "mesh3d"
           }
          ],
          "parcoords": [
           {
            "line": {
             "colorbar": {
              "outlinewidth": 0,
              "ticks": ""
             }
            },
            "type": "parcoords"
           }
          ],
          "pie": [
           {
            "automargin": true,
            "type": "pie"
           }
          ],
          "scatter": [
           {
            "fillpattern": {
             "fillmode": "overlay",
             "size": 10,
             "solidity": 0.2
            },
            "type": "scatter"
           }
          ],
          "scatter3d": [
           {
            "line": {
             "colorbar": {
              "outlinewidth": 0,
              "ticks": ""
             }
            },
            "marker": {
             "colorbar": {
              "outlinewidth": 0,
              "ticks": ""
             }
            },
            "type": "scatter3d"
           }
          ],
          "scattercarpet": [
           {
            "marker": {
             "colorbar": {
              "outlinewidth": 0,
              "ticks": ""
             }
            },
            "type": "scattercarpet"
           }
          ],
          "scattergeo": [
           {
            "marker": {
             "colorbar": {
              "outlinewidth": 0,
              "ticks": ""
             }
            },
            "type": "scattergeo"
           }
          ],
          "scattergl": [
           {
            "marker": {
             "colorbar": {
              "outlinewidth": 0,
              "ticks": ""
             }
            },
            "type": "scattergl"
           }
          ],
          "scattermapbox": [
           {
            "marker": {
             "colorbar": {
              "outlinewidth": 0,
              "ticks": ""
             }
            },
            "type": "scattermapbox"
           }
          ],
          "scatterpolar": [
           {
            "marker": {
             "colorbar": {
              "outlinewidth": 0,
              "ticks": ""
             }
            },
            "type": "scatterpolar"
           }
          ],
          "scatterpolargl": [
           {
            "marker": {
             "colorbar": {
              "outlinewidth": 0,
              "ticks": ""
             }
            },
            "type": "scatterpolargl"
           }
          ],
          "scatterternary": [
           {
            "marker": {
             "colorbar": {
              "outlinewidth": 0,
              "ticks": ""
             }
            },
            "type": "scatterternary"
           }
          ],
          "surface": [
           {
            "colorbar": {
             "outlinewidth": 0,
             "ticks": ""
            },
            "colorscale": [
             [
              0,
              "#0d0887"
             ],
             [
              0.1111111111111111,
              "#46039f"
             ],
             [
              0.2222222222222222,
              "#7201a8"
             ],
             [
              0.3333333333333333,
              "#9c179e"
             ],
             [
              0.4444444444444444,
              "#bd3786"
             ],
             [
              0.5555555555555556,
              "#d8576b"
             ],
             [
              0.6666666666666666,
              "#ed7953"
             ],
             [
              0.7777777777777778,
              "#fb9f3a"
             ],
             [
              0.8888888888888888,
              "#fdca26"
             ],
             [
              1,
              "#f0f921"
             ]
            ],
            "type": "surface"
           }
          ],
          "table": [
           {
            "cells": {
             "fill": {
              "color": "#EBF0F8"
             },
             "line": {
              "color": "white"
             }
            },
            "header": {
             "fill": {
              "color": "#C8D4E3"
             },
             "line": {
              "color": "white"
             }
            },
            "type": "table"
           }
          ]
         },
         "layout": {
          "annotationdefaults": {
           "arrowcolor": "#2a3f5f",
           "arrowhead": 0,
           "arrowwidth": 1
          },
          "autotypenumbers": "strict",
          "coloraxis": {
           "colorbar": {
            "outlinewidth": 0,
            "ticks": ""
           }
          },
          "colorscale": {
           "diverging": [
            [
             0,
             "#8e0152"
            ],
            [
             0.1,
             "#c51b7d"
            ],
            [
             0.2,
             "#de77ae"
            ],
            [
             0.3,
             "#f1b6da"
            ],
            [
             0.4,
             "#fde0ef"
            ],
            [
             0.5,
             "#f7f7f7"
            ],
            [
             0.6,
             "#e6f5d0"
            ],
            [
             0.7,
             "#b8e186"
            ],
            [
             0.8,
             "#7fbc41"
            ],
            [
             0.9,
             "#4d9221"
            ],
            [
             1,
             "#276419"
            ]
           ],
           "sequential": [
            [
             0,
             "#0d0887"
            ],
            [
             0.1111111111111111,
             "#46039f"
            ],
            [
             0.2222222222222222,
             "#7201a8"
            ],
            [
             0.3333333333333333,
             "#9c179e"
            ],
            [
             0.4444444444444444,
             "#bd3786"
            ],
            [
             0.5555555555555556,
             "#d8576b"
            ],
            [
             0.6666666666666666,
             "#ed7953"
            ],
            [
             0.7777777777777778,
             "#fb9f3a"
            ],
            [
             0.8888888888888888,
             "#fdca26"
            ],
            [
             1,
             "#f0f921"
            ]
           ],
           "sequentialminus": [
            [
             0,
             "#0d0887"
            ],
            [
             0.1111111111111111,
             "#46039f"
            ],
            [
             0.2222222222222222,
             "#7201a8"
            ],
            [
             0.3333333333333333,
             "#9c179e"
            ],
            [
             0.4444444444444444,
             "#bd3786"
            ],
            [
             0.5555555555555556,
             "#d8576b"
            ],
            [
             0.6666666666666666,
             "#ed7953"
            ],
            [
             0.7777777777777778,
             "#fb9f3a"
            ],
            [
             0.8888888888888888,
             "#fdca26"
            ],
            [
             1,
             "#f0f921"
            ]
           ]
          },
          "colorway": [
           "#636efa",
           "#EF553B",
           "#00cc96",
           "#ab63fa",
           "#FFA15A",
           "#19d3f3",
           "#FF6692",
           "#B6E880",
           "#FF97FF",
           "#FECB52"
          ],
          "font": {
           "color": "#2a3f5f"
          },
          "geo": {
           "bgcolor": "white",
           "lakecolor": "white",
           "landcolor": "#E5ECF6",
           "showlakes": true,
           "showland": true,
           "subunitcolor": "white"
          },
          "hoverlabel": {
           "align": "left"
          },
          "hovermode": "closest",
          "mapbox": {
           "style": "light"
          },
          "paper_bgcolor": "white",
          "plot_bgcolor": "#E5ECF6",
          "polar": {
           "angularaxis": {
            "gridcolor": "white",
            "linecolor": "white",
            "ticks": ""
           },
           "bgcolor": "#E5ECF6",
           "radialaxis": {
            "gridcolor": "white",
            "linecolor": "white",
            "ticks": ""
           }
          },
          "scene": {
           "xaxis": {
            "backgroundcolor": "#E5ECF6",
            "gridcolor": "white",
            "gridwidth": 2,
            "linecolor": "white",
            "showbackground": true,
            "ticks": "",
            "zerolinecolor": "white"
           },
           "yaxis": {
            "backgroundcolor": "#E5ECF6",
            "gridcolor": "white",
            "gridwidth": 2,
            "linecolor": "white",
            "showbackground": true,
            "ticks": "",
            "zerolinecolor": "white"
           },
           "zaxis": {
            "backgroundcolor": "#E5ECF6",
            "gridcolor": "white",
            "gridwidth": 2,
            "linecolor": "white",
            "showbackground": true,
            "ticks": "",
            "zerolinecolor": "white"
           }
          },
          "shapedefaults": {
           "line": {
            "color": "#2a3f5f"
           }
          },
          "ternary": {
           "aaxis": {
            "gridcolor": "white",
            "linecolor": "white",
            "ticks": ""
           },
           "baxis": {
            "gridcolor": "white",
            "linecolor": "white",
            "ticks": ""
           },
           "bgcolor": "#E5ECF6",
           "caxis": {
            "gridcolor": "white",
            "linecolor": "white",
            "ticks": ""
           }
          },
          "title": {
           "x": 0.05
          },
          "xaxis": {
           "automargin": true,
           "gridcolor": "white",
           "linecolor": "white",
           "ticks": "",
           "title": {
            "standoff": 15
           },
           "zerolinecolor": "white",
           "zerolinewidth": 2
          },
          "yaxis": {
           "automargin": true,
           "gridcolor": "white",
           "linecolor": "white",
           "ticks": "",
           "title": {
            "standoff": 15
           },
           "zerolinecolor": "white",
           "zerolinewidth": 2
          }
         }
        },
        "title": {
         "text": "Slice Plot"
        },
        "width": 6900,
        "xaxis": {
         "anchor": "y",
         "domain": [
          0,
          0.03516068052930057
         ],
         "title": {
          "text": "allow_const_label"
         }
        },
        "xaxis10": {
         "anchor": "y10",
         "domain": [
          0.3947069943289225,
          0.429867674858223
         ],
         "title": {
          "text": "iterations"
         }
        },
        "xaxis11": {
         "anchor": "y11",
         "domain": [
          0.4385633270321361,
          0.4737240075614366
         ],
         "title": {
          "text": "langevin"
         }
        },
        "xaxis12": {
         "anchor": "y12",
         "domain": [
          0.48241965973534967,
          0.5175803402646503
         ],
         "title": {
          "text": "leaf_estimation_backtracking"
         }
        },
        "xaxis13": {
         "anchor": "y13",
         "domain": [
          0.5262759924385633,
          0.5614366729678638
         ],
         "title": {
          "text": "leaf_estimation_iterations"
         }
        },
        "xaxis14": {
         "anchor": "y14",
         "domain": [
          0.5701323251417768,
          0.6052930056710774
         ],
         "title": {
          "text": "learning_rate"
         }
        },
        "xaxis15": {
         "anchor": "y15",
         "domain": [
          0.6139886578449905,
          0.649149338374291
         ],
         "title": {
          "text": "loss_function"
         }
        },
        "xaxis16": {
         "anchor": "y16",
         "domain": [
          0.6578449905482041,
          0.6930056710775047
         ],
         "title": {
          "text": "max_bin"
         }
        },
        "xaxis17": {
         "anchor": "y17",
         "domain": [
          0.7017013232514177,
          0.7368620037807182
         ],
         "title": {
          "text": "min_data_in_leaf"
         }
        },
        "xaxis18": {
         "anchor": "y18",
         "domain": [
          0.7455576559546313,
          0.7807183364839319
         ],
         "title": {
          "text": "model_shrink_mode"
         }
        },
        "xaxis19": {
         "anchor": "y19",
         "domain": [
          0.7894139886578448,
          0.8245746691871454
         ],
         "title": {
          "text": "posterior_sampling"
         }
        },
        "xaxis2": {
         "anchor": "y2",
         "domain": [
          0.04385633270321361,
          0.07901701323251417
         ],
         "title": {
          "text": "auto_class_weights"
         }
        },
        "xaxis20": {
         "anchor": "y20",
         "domain": [
          0.8332703213610584,
          0.8684310018903589
         ],
         "title": {
          "text": "reg_lambda"
         }
        },
        "xaxis21": {
         "anchor": "y21",
         "domain": [
          0.877126654064272,
          0.9122873345935726
         ],
         "title": {
          "text": "rsm"
         }
        },
        "xaxis22": {
         "anchor": "y22",
         "domain": [
          0.9209829867674857,
          0.9561436672967862
         ],
         "title": {
          "text": "sampling_frequency"
         }
        },
        "xaxis23": {
         "anchor": "y23",
         "domain": [
          0.9648393194706992,
          0.9999999999999998
         ],
         "title": {
          "text": "score_function"
         }
        },
        "xaxis3": {
         "anchor": "y3",
         "domain": [
          0.08771266540642722,
          0.1228733459357278
         ],
         "title": {
          "text": "bagging_temperature"
         }
        },
        "xaxis4": {
         "anchor": "y4",
         "domain": [
          0.13156899810964084,
          0.16672967863894142
         ],
         "title": {
          "text": "boosting_type"
         }
        },
        "xaxis5": {
         "anchor": "y5",
         "domain": [
          0.17542533081285444,
          0.21058601134215502
         ],
         "title": {
          "text": "depth"
         }
        },
        "xaxis6": {
         "anchor": "y6",
         "domain": [
          0.21928166351606806,
          0.25444234404536864
         ],
         "title": {
          "text": "eval_metric"
         }
        },
        "xaxis7": {
         "anchor": "y7",
         "domain": [
          0.2631379962192817,
          0.29829867674858224
         ],
         "title": {
          "text": "fold_len_multiplier"
         }
        },
        "xaxis8": {
         "anchor": "y8",
         "domain": [
          0.3069943289224953,
          0.34215500945179583
         ],
         "title": {
          "text": "fold_permutation_block"
         }
        },
        "xaxis9": {
         "anchor": "y9",
         "domain": [
          0.3508506616257089,
          0.38601134215500943
         ],
         "title": {
          "text": "grow_policy"
         }
        },
        "yaxis": {
         "anchor": "x",
         "domain": [
          0,
          1
         ],
         "title": {
          "text": "Objective Value"
         }
        },
        "yaxis10": {
         "anchor": "x10",
         "domain": [
          0,
          1
         ],
         "matches": "y",
         "showticklabels": false
        },
        "yaxis11": {
         "anchor": "x11",
         "domain": [
          0,
          1
         ],
         "matches": "y",
         "showticklabels": false
        },
        "yaxis12": {
         "anchor": "x12",
         "domain": [
          0,
          1
         ],
         "matches": "y",
         "showticklabels": false
        },
        "yaxis13": {
         "anchor": "x13",
         "domain": [
          0,
          1
         ],
         "matches": "y",
         "showticklabels": false
        },
        "yaxis14": {
         "anchor": "x14",
         "domain": [
          0,
          1
         ],
         "matches": "y",
         "showticklabels": false
        },
        "yaxis15": {
         "anchor": "x15",
         "domain": [
          0,
          1
         ],
         "matches": "y",
         "showticklabels": false
        },
        "yaxis16": {
         "anchor": "x16",
         "domain": [
          0,
          1
         ],
         "matches": "y",
         "showticklabels": false
        },
        "yaxis17": {
         "anchor": "x17",
         "domain": [
          0,
          1
         ],
         "matches": "y",
         "showticklabels": false
        },
        "yaxis18": {
         "anchor": "x18",
         "domain": [
          0,
          1
         ],
         "matches": "y",
         "showticklabels": false
        },
        "yaxis19": {
         "anchor": "x19",
         "domain": [
          0,
          1
         ],
         "matches": "y",
         "showticklabels": false
        },
        "yaxis2": {
         "anchor": "x2",
         "domain": [
          0,
          1
         ],
         "matches": "y",
         "showticklabels": false
        },
        "yaxis20": {
         "anchor": "x20",
         "domain": [
          0,
          1
         ],
         "matches": "y",
         "showticklabels": false
        },
        "yaxis21": {
         "anchor": "x21",
         "domain": [
          0,
          1
         ],
         "matches": "y",
         "showticklabels": false
        },
        "yaxis22": {
         "anchor": "x22",
         "domain": [
          0,
          1
         ],
         "matches": "y",
         "showticklabels": false
        },
        "yaxis23": {
         "anchor": "x23",
         "domain": [
          0,
          1
         ],
         "matches": "y",
         "showticklabels": false
        },
        "yaxis3": {
         "anchor": "x3",
         "domain": [
          0,
          1
         ],
         "matches": "y",
         "showticklabels": false
        },
        "yaxis4": {
         "anchor": "x4",
         "domain": [
          0,
          1
         ],
         "matches": "y",
         "showticklabels": false
        },
        "yaxis5": {
         "anchor": "x5",
         "domain": [
          0,
          1
         ],
         "matches": "y",
         "showticklabels": false
        },
        "yaxis6": {
         "anchor": "x6",
         "domain": [
          0,
          1
         ],
         "matches": "y",
         "showticklabels": false
        },
        "yaxis7": {
         "anchor": "x7",
         "domain": [
          0,
          1
         ],
         "matches": "y",
         "showticklabels": false
        },
        "yaxis8": {
         "anchor": "x8",
         "domain": [
          0,
          1
         ],
         "matches": "y",
         "showticklabels": false
        },
        "yaxis9": {
         "anchor": "x9",
         "domain": [
          0,
          1
         ],
         "matches": "y",
         "showticklabels": false
        }
       }
      }
     },
     "metadata": {},
     "output_type": "display_data"
    }
   ],
   "source": [
    "optuna.visualization.plot_slice(data, target=lambda t: t.values[0])\n",
    "\n"
   ]
  },
  {
   "cell_type": "code",
   "execution_count": 120,
   "metadata": {},
   "outputs": [
    {
     "name": "stderr",
     "output_type": "stream",
     "text": [
      "\u001b[33m[W 2022-11-01 04:16:12,902]\u001b[0m You need to set up the pruning feature to utilize `plot_intermediate_values()`\u001b[0m\n"
     ]
    },
    {
     "data": {
      "application/vnd.plotly.v1+json": {
       "config": {
        "plotlyServerURL": "https://plot.ly"
       },
       "data": [],
       "layout": {
        "showlegend": false,
        "template": {
         "data": {
          "bar": [
           {
            "error_x": {
             "color": "#2a3f5f"
            },
            "error_y": {
             "color": "#2a3f5f"
            },
            "marker": {
             "line": {
              "color": "#E5ECF6",
              "width": 0.5
             },
             "pattern": {
              "fillmode": "overlay",
              "size": 10,
              "solidity": 0.2
             }
            },
            "type": "bar"
           }
          ],
          "barpolar": [
           {
            "marker": {
             "line": {
              "color": "#E5ECF6",
              "width": 0.5
             },
             "pattern": {
              "fillmode": "overlay",
              "size": 10,
              "solidity": 0.2
             }
            },
            "type": "barpolar"
           }
          ],
          "carpet": [
           {
            "aaxis": {
             "endlinecolor": "#2a3f5f",
             "gridcolor": "white",
             "linecolor": "white",
             "minorgridcolor": "white",
             "startlinecolor": "#2a3f5f"
            },
            "baxis": {
             "endlinecolor": "#2a3f5f",
             "gridcolor": "white",
             "linecolor": "white",
             "minorgridcolor": "white",
             "startlinecolor": "#2a3f5f"
            },
            "type": "carpet"
           }
          ],
          "choropleth": [
           {
            "colorbar": {
             "outlinewidth": 0,
             "ticks": ""
            },
            "type": "choropleth"
           }
          ],
          "contour": [
           {
            "colorbar": {
             "outlinewidth": 0,
             "ticks": ""
            },
            "colorscale": [
             [
              0,
              "#0d0887"
             ],
             [
              0.1111111111111111,
              "#46039f"
             ],
             [
              0.2222222222222222,
              "#7201a8"
             ],
             [
              0.3333333333333333,
              "#9c179e"
             ],
             [
              0.4444444444444444,
              "#bd3786"
             ],
             [
              0.5555555555555556,
              "#d8576b"
             ],
             [
              0.6666666666666666,
              "#ed7953"
             ],
             [
              0.7777777777777778,
              "#fb9f3a"
             ],
             [
              0.8888888888888888,
              "#fdca26"
             ],
             [
              1,
              "#f0f921"
             ]
            ],
            "type": "contour"
           }
          ],
          "contourcarpet": [
           {
            "colorbar": {
             "outlinewidth": 0,
             "ticks": ""
            },
            "type": "contourcarpet"
           }
          ],
          "heatmap": [
           {
            "colorbar": {
             "outlinewidth": 0,
             "ticks": ""
            },
            "colorscale": [
             [
              0,
              "#0d0887"
             ],
             [
              0.1111111111111111,
              "#46039f"
             ],
             [
              0.2222222222222222,
              "#7201a8"
             ],
             [
              0.3333333333333333,
              "#9c179e"
             ],
             [
              0.4444444444444444,
              "#bd3786"
             ],
             [
              0.5555555555555556,
              "#d8576b"
             ],
             [
              0.6666666666666666,
              "#ed7953"
             ],
             [
              0.7777777777777778,
              "#fb9f3a"
             ],
             [
              0.8888888888888888,
              "#fdca26"
             ],
             [
              1,
              "#f0f921"
             ]
            ],
            "type": "heatmap"
           }
          ],
          "heatmapgl": [
           {
            "colorbar": {
             "outlinewidth": 0,
             "ticks": ""
            },
            "colorscale": [
             [
              0,
              "#0d0887"
             ],
             [
              0.1111111111111111,
              "#46039f"
             ],
             [
              0.2222222222222222,
              "#7201a8"
             ],
             [
              0.3333333333333333,
              "#9c179e"
             ],
             [
              0.4444444444444444,
              "#bd3786"
             ],
             [
              0.5555555555555556,
              "#d8576b"
             ],
             [
              0.6666666666666666,
              "#ed7953"
             ],
             [
              0.7777777777777778,
              "#fb9f3a"
             ],
             [
              0.8888888888888888,
              "#fdca26"
             ],
             [
              1,
              "#f0f921"
             ]
            ],
            "type": "heatmapgl"
           }
          ],
          "histogram": [
           {
            "marker": {
             "pattern": {
              "fillmode": "overlay",
              "size": 10,
              "solidity": 0.2
             }
            },
            "type": "histogram"
           }
          ],
          "histogram2d": [
           {
            "colorbar": {
             "outlinewidth": 0,
             "ticks": ""
            },
            "colorscale": [
             [
              0,
              "#0d0887"
             ],
             [
              0.1111111111111111,
              "#46039f"
             ],
             [
              0.2222222222222222,
              "#7201a8"
             ],
             [
              0.3333333333333333,
              "#9c179e"
             ],
             [
              0.4444444444444444,
              "#bd3786"
             ],
             [
              0.5555555555555556,
              "#d8576b"
             ],
             [
              0.6666666666666666,
              "#ed7953"
             ],
             [
              0.7777777777777778,
              "#fb9f3a"
             ],
             [
              0.8888888888888888,
              "#fdca26"
             ],
             [
              1,
              "#f0f921"
             ]
            ],
            "type": "histogram2d"
           }
          ],
          "histogram2dcontour": [
           {
            "colorbar": {
             "outlinewidth": 0,
             "ticks": ""
            },
            "colorscale": [
             [
              0,
              "#0d0887"
             ],
             [
              0.1111111111111111,
              "#46039f"
             ],
             [
              0.2222222222222222,
              "#7201a8"
             ],
             [
              0.3333333333333333,
              "#9c179e"
             ],
             [
              0.4444444444444444,
              "#bd3786"
             ],
             [
              0.5555555555555556,
              "#d8576b"
             ],
             [
              0.6666666666666666,
              "#ed7953"
             ],
             [
              0.7777777777777778,
              "#fb9f3a"
             ],
             [
              0.8888888888888888,
              "#fdca26"
             ],
             [
              1,
              "#f0f921"
             ]
            ],
            "type": "histogram2dcontour"
           }
          ],
          "mesh3d": [
           {
            "colorbar": {
             "outlinewidth": 0,
             "ticks": ""
            },
            "type": "mesh3d"
           }
          ],
          "parcoords": [
           {
            "line": {
             "colorbar": {
              "outlinewidth": 0,
              "ticks": ""
             }
            },
            "type": "parcoords"
           }
          ],
          "pie": [
           {
            "automargin": true,
            "type": "pie"
           }
          ],
          "scatter": [
           {
            "fillpattern": {
             "fillmode": "overlay",
             "size": 10,
             "solidity": 0.2
            },
            "type": "scatter"
           }
          ],
          "scatter3d": [
           {
            "line": {
             "colorbar": {
              "outlinewidth": 0,
              "ticks": ""
             }
            },
            "marker": {
             "colorbar": {
              "outlinewidth": 0,
              "ticks": ""
             }
            },
            "type": "scatter3d"
           }
          ],
          "scattercarpet": [
           {
            "marker": {
             "colorbar": {
              "outlinewidth": 0,
              "ticks": ""
             }
            },
            "type": "scattercarpet"
           }
          ],
          "scattergeo": [
           {
            "marker": {
             "colorbar": {
              "outlinewidth": 0,
              "ticks": ""
             }
            },
            "type": "scattergeo"
           }
          ],
          "scattergl": [
           {
            "marker": {
             "colorbar": {
              "outlinewidth": 0,
              "ticks": ""
             }
            },
            "type": "scattergl"
           }
          ],
          "scattermapbox": [
           {
            "marker": {
             "colorbar": {
              "outlinewidth": 0,
              "ticks": ""
             }
            },
            "type": "scattermapbox"
           }
          ],
          "scatterpolar": [
           {
            "marker": {
             "colorbar": {
              "outlinewidth": 0,
              "ticks": ""
             }
            },
            "type": "scatterpolar"
           }
          ],
          "scatterpolargl": [
           {
            "marker": {
             "colorbar": {
              "outlinewidth": 0,
              "ticks": ""
             }
            },
            "type": "scatterpolargl"
           }
          ],
          "scatterternary": [
           {
            "marker": {
             "colorbar": {
              "outlinewidth": 0,
              "ticks": ""
             }
            },
            "type": "scatterternary"
           }
          ],
          "surface": [
           {
            "colorbar": {
             "outlinewidth": 0,
             "ticks": ""
            },
            "colorscale": [
             [
              0,
              "#0d0887"
             ],
             [
              0.1111111111111111,
              "#46039f"
             ],
             [
              0.2222222222222222,
              "#7201a8"
             ],
             [
              0.3333333333333333,
              "#9c179e"
             ],
             [
              0.4444444444444444,
              "#bd3786"
             ],
             [
              0.5555555555555556,
              "#d8576b"
             ],
             [
              0.6666666666666666,
              "#ed7953"
             ],
             [
              0.7777777777777778,
              "#fb9f3a"
             ],
             [
              0.8888888888888888,
              "#fdca26"
             ],
             [
              1,
              "#f0f921"
             ]
            ],
            "type": "surface"
           }
          ],
          "table": [
           {
            "cells": {
             "fill": {
              "color": "#EBF0F8"
             },
             "line": {
              "color": "white"
             }
            },
            "header": {
             "fill": {
              "color": "#C8D4E3"
             },
             "line": {
              "color": "white"
             }
            },
            "type": "table"
           }
          ]
         },
         "layout": {
          "annotationdefaults": {
           "arrowcolor": "#2a3f5f",
           "arrowhead": 0,
           "arrowwidth": 1
          },
          "autotypenumbers": "strict",
          "coloraxis": {
           "colorbar": {
            "outlinewidth": 0,
            "ticks": ""
           }
          },
          "colorscale": {
           "diverging": [
            [
             0,
             "#8e0152"
            ],
            [
             0.1,
             "#c51b7d"
            ],
            [
             0.2,
             "#de77ae"
            ],
            [
             0.3,
             "#f1b6da"
            ],
            [
             0.4,
             "#fde0ef"
            ],
            [
             0.5,
             "#f7f7f7"
            ],
            [
             0.6,
             "#e6f5d0"
            ],
            [
             0.7,
             "#b8e186"
            ],
            [
             0.8,
             "#7fbc41"
            ],
            [
             0.9,
             "#4d9221"
            ],
            [
             1,
             "#276419"
            ]
           ],
           "sequential": [
            [
             0,
             "#0d0887"
            ],
            [
             0.1111111111111111,
             "#46039f"
            ],
            [
             0.2222222222222222,
             "#7201a8"
            ],
            [
             0.3333333333333333,
             "#9c179e"
            ],
            [
             0.4444444444444444,
             "#bd3786"
            ],
            [
             0.5555555555555556,
             "#d8576b"
            ],
            [
             0.6666666666666666,
             "#ed7953"
            ],
            [
             0.7777777777777778,
             "#fb9f3a"
            ],
            [
             0.8888888888888888,
             "#fdca26"
            ],
            [
             1,
             "#f0f921"
            ]
           ],
           "sequentialminus": [
            [
             0,
             "#0d0887"
            ],
            [
             0.1111111111111111,
             "#46039f"
            ],
            [
             0.2222222222222222,
             "#7201a8"
            ],
            [
             0.3333333333333333,
             "#9c179e"
            ],
            [
             0.4444444444444444,
             "#bd3786"
            ],
            [
             0.5555555555555556,
             "#d8576b"
            ],
            [
             0.6666666666666666,
             "#ed7953"
            ],
            [
             0.7777777777777778,
             "#fb9f3a"
            ],
            [
             0.8888888888888888,
             "#fdca26"
            ],
            [
             1,
             "#f0f921"
            ]
           ]
          },
          "colorway": [
           "#636efa",
           "#EF553B",
           "#00cc96",
           "#ab63fa",
           "#FFA15A",
           "#19d3f3",
           "#FF6692",
           "#B6E880",
           "#FF97FF",
           "#FECB52"
          ],
          "font": {
           "color": "#2a3f5f"
          },
          "geo": {
           "bgcolor": "white",
           "lakecolor": "white",
           "landcolor": "#E5ECF6",
           "showlakes": true,
           "showland": true,
           "subunitcolor": "white"
          },
          "hoverlabel": {
           "align": "left"
          },
          "hovermode": "closest",
          "mapbox": {
           "style": "light"
          },
          "paper_bgcolor": "white",
          "plot_bgcolor": "#E5ECF6",
          "polar": {
           "angularaxis": {
            "gridcolor": "white",
            "linecolor": "white",
            "ticks": ""
           },
           "bgcolor": "#E5ECF6",
           "radialaxis": {
            "gridcolor": "white",
            "linecolor": "white",
            "ticks": ""
           }
          },
          "scene": {
           "xaxis": {
            "backgroundcolor": "#E5ECF6",
            "gridcolor": "white",
            "gridwidth": 2,
            "linecolor": "white",
            "showbackground": true,
            "ticks": "",
            "zerolinecolor": "white"
           },
           "yaxis": {
            "backgroundcolor": "#E5ECF6",
            "gridcolor": "white",
            "gridwidth": 2,
            "linecolor": "white",
            "showbackground": true,
            "ticks": "",
            "zerolinecolor": "white"
           },
           "zaxis": {
            "backgroundcolor": "#E5ECF6",
            "gridcolor": "white",
            "gridwidth": 2,
            "linecolor": "white",
            "showbackground": true,
            "ticks": "",
            "zerolinecolor": "white"
           }
          },
          "shapedefaults": {
           "line": {
            "color": "#2a3f5f"
           }
          },
          "ternary": {
           "aaxis": {
            "gridcolor": "white",
            "linecolor": "white",
            "ticks": ""
           },
           "baxis": {
            "gridcolor": "white",
            "linecolor": "white",
            "ticks": ""
           },
           "bgcolor": "#E5ECF6",
           "caxis": {
            "gridcolor": "white",
            "linecolor": "white",
            "ticks": ""
           }
          },
          "title": {
           "x": 0.05
          },
          "xaxis": {
           "automargin": true,
           "gridcolor": "white",
           "linecolor": "white",
           "ticks": "",
           "title": {
            "standoff": 15
           },
           "zerolinecolor": "white",
           "zerolinewidth": 2
          },
          "yaxis": {
           "automargin": true,
           "gridcolor": "white",
           "linecolor": "white",
           "ticks": "",
           "title": {
            "standoff": 15
           },
           "zerolinecolor": "white",
           "zerolinewidth": 2
          }
         }
        },
        "title": {
         "text": "Intermediate Values Plot"
        },
        "xaxis": {
         "title": {
          "text": "Step"
         }
        },
        "yaxis": {
         "title": {
          "text": "Intermediate Value"
         }
        }
       }
      }
     },
     "metadata": {},
     "output_type": "display_data"
    }
   ],
   "source": [
    "optuna.visualization.plot_intermediate_values(data)\n"
   ]
  },
  {
   "cell_type": "code",
   "execution_count": 87,
   "metadata": {},
   "outputs": [
    {
     "ename": "ValueError",
     "evalue": "`plot_pareto_front` function only supports 2 or 3 objective studies when using `targets` is `None`. Please use `targets` if your objective studies have more than 3 objectives.",
     "output_type": "error",
     "traceback": [
      "\u001b[1;31m---------------------------------------------------------------------------\u001b[0m",
      "\u001b[1;31mValueError\u001b[0m                                Traceback (most recent call last)",
      "Cell \u001b[1;32mIn [87], line 1\u001b[0m\n\u001b[1;32m----> 1\u001b[0m \u001b[43moptuna\u001b[49m\u001b[38;5;241;43m.\u001b[39;49m\u001b[43mvisualization\u001b[49m\u001b[38;5;241;43m.\u001b[39;49m\u001b[43mplot_pareto_front\u001b[49m\u001b[43m(\u001b[49m\u001b[43mdata\u001b[49m\u001b[43m,\u001b[49m\u001b[43m \u001b[49m\u001b[43mtarget_names\u001b[49m\u001b[38;5;241;43m=\u001b[39;49m\u001b[43m[\u001b[49m\u001b[38;5;124;43m\"\u001b[39;49m\u001b[38;5;124;43mvalues_0\u001b[39;49m\u001b[38;5;124;43m\"\u001b[39;49m\u001b[43m,\u001b[49m\u001b[43m \u001b[49m\u001b[38;5;124;43m\"\u001b[39;49m\u001b[38;5;124;43mvalues_1\u001b[39;49m\u001b[38;5;124;43m\"\u001b[39;49m\u001b[43m]\u001b[49m\u001b[43m)\u001b[49m\n",
      "File \u001b[1;32m~\\AppData\\Roaming\\Python\\Python310\\site-packages\\optuna\\visualization\\_pareto_front.py:130\u001b[0m, in \u001b[0;36mplot_pareto_front\u001b[1;34m(study, target_names, include_dominated_trials, axis_order, constraints_func, targets)\u001b[0m\n\u001b[0;32m     <a href='file:///c%3A/Users/dasolodennikov/AppData/Roaming/Python/Python310/site-packages/optuna/visualization/_pareto_front.py?line=48'>49</a>\u001b[0m \u001b[39m\"\"\"Plot the Pareto front of a study.\u001b[39;00m\n\u001b[0;32m     <a href='file:///c%3A/Users/dasolodennikov/AppData/Roaming/Python/Python310/site-packages/optuna/visualization/_pareto_front.py?line=49'>50</a>\u001b[0m \n\u001b[0;32m     <a href='file:///c%3A/Users/dasolodennikov/AppData/Roaming/Python/Python310/site-packages/optuna/visualization/_pareto_front.py?line=50'>51</a>\u001b[0m \u001b[39m.. seealso::\u001b[39;00m\n\u001b[1;32m   (...)\u001b[0m\n\u001b[0;32m    <a href='file:///c%3A/Users/dasolodennikov/AppData/Roaming/Python/Python310/site-packages/optuna/visualization/_pareto_front.py?line=124'>125</a>\u001b[0m \u001b[39m    A :class:`plotly.graph_objs.Figure` object.\u001b[39;00m\n\u001b[0;32m    <a href='file:///c%3A/Users/dasolodennikov/AppData/Roaming/Python/Python310/site-packages/optuna/visualization/_pareto_front.py?line=125'>126</a>\u001b[0m \u001b[39m\"\"\"\u001b[39;00m\n\u001b[0;32m    <a href='file:///c%3A/Users/dasolodennikov/AppData/Roaming/Python/Python310/site-packages/optuna/visualization/_pareto_front.py?line=127'>128</a>\u001b[0m _imports\u001b[39m.\u001b[39mcheck()\n\u001b[1;32m--> <a href='file:///c%3A/Users/dasolodennikov/AppData/Roaming/Python/Python310/site-packages/optuna/visualization/_pareto_front.py?line=129'>130</a>\u001b[0m info \u001b[39m=\u001b[39m _get_pareto_front_info(\n\u001b[0;32m    <a href='file:///c%3A/Users/dasolodennikov/AppData/Roaming/Python/Python310/site-packages/optuna/visualization/_pareto_front.py?line=130'>131</a>\u001b[0m     study, target_names, include_dominated_trials, axis_order, constraints_func, targets\n\u001b[0;32m    <a href='file:///c%3A/Users/dasolodennikov/AppData/Roaming/Python/Python310/site-packages/optuna/visualization/_pareto_front.py?line=131'>132</a>\u001b[0m )\n\u001b[0;32m    <a href='file:///c%3A/Users/dasolodennikov/AppData/Roaming/Python/Python310/site-packages/optuna/visualization/_pareto_front.py?line=132'>133</a>\u001b[0m \u001b[39mreturn\u001b[39;00m _get_pareto_front_plot(info)\n",
      "File \u001b[1;32m~\\AppData\\Roaming\\Python\\Python310\\site-packages\\optuna\\visualization\\_pareto_front.py:265\u001b[0m, in \u001b[0;36m_get_pareto_front_info\u001b[1;34m(study, target_names, include_dominated_trials, axis_order, constraints_func, targets)\u001b[0m\n\u001b[0;32m    <a href='file:///c%3A/Users/dasolodennikov/AppData/Roaming/Python/Python310/site-packages/optuna/visualization/_pareto_front.py?line=262'>263</a>\u001b[0m         _targets \u001b[39m=\u001b[39m _targets_default\n\u001b[0;32m    <a href='file:///c%3A/Users/dasolodennikov/AppData/Roaming/Python/Python310/site-packages/optuna/visualization/_pareto_front.py?line=263'>264</a>\u001b[0m     \u001b[39melse\u001b[39;00m:\n\u001b[1;32m--> <a href='file:///c%3A/Users/dasolodennikov/AppData/Roaming/Python/Python310/site-packages/optuna/visualization/_pareto_front.py?line=264'>265</a>\u001b[0m         \u001b[39mraise\u001b[39;00m \u001b[39mValueError\u001b[39;00m(\n\u001b[0;32m    <a href='file:///c%3A/Users/dasolodennikov/AppData/Roaming/Python/Python310/site-packages/optuna/visualization/_pareto_front.py?line=265'>266</a>\u001b[0m             \u001b[39m\"\u001b[39m\u001b[39m`plot_pareto_front` function only supports 2 or 3 objective\u001b[39m\u001b[39m\"\u001b[39m\n\u001b[0;32m    <a href='file:///c%3A/Users/dasolodennikov/AppData/Roaming/Python/Python310/site-packages/optuna/visualization/_pareto_front.py?line=266'>267</a>\u001b[0m             \u001b[39m\"\u001b[39m\u001b[39m studies when using `targets` is `None`. Please use `targets`\u001b[39m\u001b[39m\"\u001b[39m\n\u001b[0;32m    <a href='file:///c%3A/Users/dasolodennikov/AppData/Roaming/Python/Python310/site-packages/optuna/visualization/_pareto_front.py?line=267'>268</a>\u001b[0m             \u001b[39m\"\u001b[39m\u001b[39m if your objective studies have more than 3 objectives.\u001b[39m\u001b[39m\"\u001b[39m\n\u001b[0;32m    <a href='file:///c%3A/Users/dasolodennikov/AppData/Roaming/Python/Python310/site-packages/optuna/visualization/_pareto_front.py?line=268'>269</a>\u001b[0m         )\n\u001b[0;32m    <a href='file:///c%3A/Users/dasolodennikov/AppData/Roaming/Python/Python310/site-packages/optuna/visualization/_pareto_front.py?line=270'>271</a>\u001b[0m \u001b[39mdef\u001b[39;00m \u001b[39m_make_trials_with_values\u001b[39m(\n\u001b[0;32m    <a href='file:///c%3A/Users/dasolodennikov/AppData/Roaming/Python/Python310/site-packages/optuna/visualization/_pareto_front.py?line=271'>272</a>\u001b[0m     trials: List[FrozenTrial],\n\u001b[0;32m    <a href='file:///c%3A/Users/dasolodennikov/AppData/Roaming/Python/Python310/site-packages/optuna/visualization/_pareto_front.py?line=272'>273</a>\u001b[0m     targets: Callable[[FrozenTrial], Sequence[\u001b[39mfloat\u001b[39m]],\n\u001b[0;32m    <a href='file:///c%3A/Users/dasolodennikov/AppData/Roaming/Python/Python310/site-packages/optuna/visualization/_pareto_front.py?line=273'>274</a>\u001b[0m ) \u001b[39m-\u001b[39m\u001b[39m>\u001b[39m List[Tuple[FrozenTrial, List[\u001b[39mfloat\u001b[39m]]]:\n\u001b[0;32m    <a href='file:///c%3A/Users/dasolodennikov/AppData/Roaming/Python/Python310/site-packages/optuna/visualization/_pareto_front.py?line=274'>275</a>\u001b[0m     target_values \u001b[39m=\u001b[39m [targets(trial) \u001b[39mfor\u001b[39;00m trial \u001b[39min\u001b[39;00m trials]\n",
      "\u001b[1;31mValueError\u001b[0m: `plot_pareto_front` function only supports 2 or 3 objective studies when using `targets` is `None`. Please use `targets` if your objective studies have more than 3 objectives."
     ]
    }
   ],
   "source": [
    "optuna.visualization.plot_pareto_front(data, target_names=[\"values_0\", \"values_1\"])\n",
    "#values_0\tvalues_1\tvalues_2\tvalues_3"
   ]
  },
  {
   "cell_type": "code",
   "execution_count": null,
   "metadata": {},
   "outputs": [],
   "source": []
  }
 ],
 "metadata": {
  "kernelspec": {
   "display_name": "Python 3.10.8 64-bit",
   "language": "python",
   "name": "python3"
  },
  "language_info": {
   "codemirror_mode": {
    "name": "ipython",
    "version": 3
   },
   "file_extension": ".py",
   "mimetype": "text/x-python",
   "name": "python",
   "nbconvert_exporter": "python",
   "pygments_lexer": "ipython3",
   "version": "3.10.8"
  },
  "orig_nbformat": 4,
  "vscode": {
   "interpreter": {
    "hash": "0d1ea6a2701cc51f7335574c242e22c558e57675b6a5bac882dab083e6312f72"
   }
  }
 },
 "nbformat": 4,
 "nbformat_minor": 2
}
