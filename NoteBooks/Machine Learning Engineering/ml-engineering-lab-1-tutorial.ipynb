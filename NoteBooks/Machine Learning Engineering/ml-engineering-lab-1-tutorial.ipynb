{
 "cells": [
  {
   "cell_type": "markdown",
   "id": "06746ddd",
   "metadata": {
    "papermill": {
     "duration": 0.008063,
     "end_time": "2024-02-08T17:56:00.759553",
     "exception": false,
     "start_time": "2024-02-08T17:56:00.751490",
     "status": "completed"
    },
    "slideshow": {
     "slide_type": "slide"
    },
    "tags": []
   },
   "source": [
    "# Lab 1: Machine Learning with Python\n"
   ]
  },
  {
   "cell_type": "code",
   "execution_count": 1,
   "id": "5a99c7da",
   "metadata": {
    "execution": {
     "iopub.execute_input": "2024-02-08T17:56:00.776735Z",
     "iopub.status.busy": "2024-02-08T17:56:00.776176Z",
     "iopub.status.idle": "2024-02-08T17:56:01.681003Z",
     "shell.execute_reply": "2024-02-08T17:56:01.680020Z"
    },
    "papermill": {
     "duration": 0.916798,
     "end_time": "2024-02-08T17:56:01.684068",
     "exception": false,
     "start_time": "2024-02-08T17:56:00.767270",
     "status": "completed"
    },
    "tags": []
   },
   "outputs": [],
   "source": [
    "%matplotlib inline\n",
    "import numpy as np\n",
    "import pandas as pd"
   ]
  },
  {
   "cell_type": "markdown",
   "id": "e4d62ee2",
   "metadata": {
    "papermill": {
     "duration": 0.007318,
     "end_time": "2024-02-08T17:56:01.700022",
     "exception": false,
     "start_time": "2024-02-08T17:56:01.692704",
     "status": "completed"
    },
    "slideshow": {
     "slide_type": "slide"
    },
    "tags": []
   },
   "source": [
    "## Overview\n",
    "* Why Python?\n",
    "* Intro to scikit-learn\n",
    "* Exercises"
   ]
  },
  {
   "cell_type": "markdown",
   "id": "3cebd96e",
   "metadata": {
    "papermill": {
     "duration": 0.008449,
     "end_time": "2024-02-08T17:56:01.716120",
     "exception": false,
     "start_time": "2024-02-08T17:56:01.707671",
     "status": "completed"
    },
    "slideshow": {
     "slide_type": "slide"
    },
    "tags": []
   },
   "source": [
    "# Why Python?\n",
    "* Many data-heavy applications are now developed in Python\n",
    "* Highly readable, less complexity, fast prototyping\n",
    "* Easy to offload number crunching to underlying C/Fortran/... \n",
    "* Easy to install and import many rich libraries\n",
    "    - numpy: efficient data structures\n",
    "    - scipy: fast numerical recipes\n",
    "    - matplotlib: high-quality graphs\n",
    "    - scikit-learn: machine learning algorithms\n",
    "    - tensorflow: neural networks\n",
    "    - ..."
   ]
  },
  {
   "cell_type": "markdown",
   "id": "02f0e1a8",
   "metadata": {
    "papermill": {
     "duration": 0.007359,
     "end_time": "2024-02-08T17:56:01.731252",
     "exception": false,
     "start_time": "2024-02-08T17:56:01.723893",
     "status": "completed"
    },
    "slideshow": {
     "slide_type": "subslide"
    },
    "tags": []
   },
   "source": [
    "<img src=\"https://raw.githubusercontent.com/ML-course/master/master/notebooks/images/tut_ecosystem.jpg\" alt=\"ml\" style=\"width: 1000px;\"/>"
   ]
  },
  {
   "cell_type": "markdown",
   "id": "06bbcfc5",
   "metadata": {
    "papermill": {
     "duration": 0.007525,
     "end_time": "2024-02-08T17:56:01.746550",
     "exception": false,
     "start_time": "2024-02-08T17:56:01.739025",
     "status": "completed"
    },
    "slideshow": {
     "slide_type": "slide"
    },
    "tags": []
   },
   "source": [
    "# Numpy, Scipy, Matplotlib\n",
    "* See the tutorials (in the course GitHub)\n",
    "* Many good tutorials online\n",
    "    - [Jake VanderPlas' book and notebooks](https://github.com/jakevdp/PythonDataScienceHandbook)\n",
    "    - [J.R. Johansson's notebooks](https://github.com/jrjohansson/scientific-python-lectures)\n",
    "    - [DataCamp](https://www.datacamp.com)\n",
    "    - ..."
   ]
  },
  {
   "cell_type": "markdown",
   "id": "f85d830a",
   "metadata": {
    "papermill": {
     "duration": 0.007365,
     "end_time": "2024-02-08T17:56:01.761710",
     "exception": false,
     "start_time": "2024-02-08T17:56:01.754345",
     "status": "completed"
    },
    "slideshow": {
     "slide_type": "slide"
    },
    "tags": []
   },
   "source": [
    "# scikit-learn\n",
    "One of the most prominent Python libraries for machine learning:\n",
    "\n",
    "* Contains many state-of-the-art machine learning algorithms\n",
    "* Builds on numpy (fast), implements advanced techniques\n",
    "* Wide range of evaluation measures and techniques\n",
    "* Offers [comprehensive documentation](http://scikit-learn.org/stable/documentation) about each algorithm\n",
    "* Widely used, and a wealth of [tutorials](http://scikit-learn.org/stable/user_guide.html) and code snippets are available \n",
    "* Works well with numpy, scipy, pandas, matplotlib,..."
   ]
  },
  {
   "cell_type": "markdown",
   "id": "4fb1ae13",
   "metadata": {
    "papermill": {
     "duration": 0.007449,
     "end_time": "2024-02-08T17:56:01.776706",
     "exception": false,
     "start_time": "2024-02-08T17:56:01.769257",
     "status": "completed"
    },
    "slideshow": {
     "slide_type": "subslide"
    },
    "tags": []
   },
   "source": [
    "## Algorithms\n",
    "See the [Reference](http://scikit-learn.org/dev/modules/classes.html)"
   ]
  },
  {
   "cell_type": "markdown",
   "id": "c127232a",
   "metadata": {
    "papermill": {
     "duration": 0.007378,
     "end_time": "2024-02-08T17:56:01.791695",
     "exception": false,
     "start_time": "2024-02-08T17:56:01.784317",
     "status": "completed"
    },
    "slideshow": {
     "slide_type": "fragment"
    },
    "tags": []
   },
   "source": [
    "__Supervised learning:__\n",
    "\n",
    "* Linear models (Ridge, Lasso, Elastic Net, ...)\n",
    "* Support Vector Machines\n",
    "* Tree-based methods (Classification/Regression Trees, Random Forests,...)\n",
    "* Nearest neighbors\n",
    "* Neural networks \n",
    "* Gaussian Processes\n",
    "* Feature selection"
   ]
  },
  {
   "cell_type": "markdown",
   "id": "288d9110",
   "metadata": {
    "papermill": {
     "duration": 0.007424,
     "end_time": "2024-02-08T17:56:01.806807",
     "exception": false,
     "start_time": "2024-02-08T17:56:01.799383",
     "status": "completed"
    },
    "slideshow": {
     "slide_type": "subslide"
    },
    "tags": []
   },
   "source": [
    "__Unsupervised learning:__\n",
    "    \n",
    "* Clustering (KMeans, ...)\n",
    "* Matrix Decomposition (PCA, ...)\n",
    "* Manifold Learning (Embeddings)\n",
    "* Density estimation\n",
    "* Outlier detection"
   ]
  },
  {
   "cell_type": "markdown",
   "id": "cb7182da",
   "metadata": {
    "papermill": {
     "duration": 0.007447,
     "end_time": "2024-02-08T17:56:01.821879",
     "exception": false,
     "start_time": "2024-02-08T17:56:01.814432",
     "status": "completed"
    },
    "slideshow": {
     "slide_type": "fragment"
    },
    "tags": []
   },
   "source": [
    "__Model selection and evaluation:__\n",
    "\n",
    "* Cross-validation\n",
    "* Grid-search\n",
    "* Lots of metrics"
   ]
  },
  {
   "cell_type": "markdown",
   "id": "4598b545",
   "metadata": {
    "papermill": {
     "duration": 0.007488,
     "end_time": "2024-02-08T17:56:01.837086",
     "exception": false,
     "start_time": "2024-02-08T17:56:01.829598",
     "status": "completed"
    },
    "slideshow": {
     "slide_type": "subslide"
    },
    "tags": []
   },
   "source": [
    "## Data import\n",
    "Multiple options:\n",
    "\n",
    "* A few toy datasets are included in `sklearn.datasets`\n",
    "* Import [1000s of datasets](http://www.openml.org) via `sklearn.datasets.fetch_openml`\n",
    "* You can import data files (CSV) with `pandas` or `numpy`"
   ]
  },
  {
   "cell_type": "code",
   "execution_count": 2,
   "id": "9219ed6d",
   "metadata": {
    "execution": {
     "iopub.execute_input": "2024-02-08T17:56:01.854299Z",
     "iopub.status.busy": "2024-02-08T17:56:01.853795Z",
     "iopub.status.idle": "2024-02-08T17:56:05.381044Z",
     "shell.execute_reply": "2024-02-08T17:56:05.379737Z"
    },
    "papermill": {
     "duration": 3.538197,
     "end_time": "2024-02-08T17:56:05.382998",
     "exception": false,
     "start_time": "2024-02-08T17:56:01.844801",
     "status": "completed"
    },
    "tags": []
   },
   "outputs": [
    {
     "name": "stderr",
     "output_type": "stream",
     "text": [
      "/opt/conda/lib/python3.10/site-packages/sklearn/datasets/_openml.py:968: FutureWarning: The default value of `parser` will change from `'liac-arff'` to `'auto'` in 1.4. You can set `parser='auto'` to silence this warning. Therefore, an `ImportError` will be raised from 1.4 if the dataset is dense and pandas is not installed. Note that the pandas parser may return different data types. See the Notes Section in fetch_openml's API doc for details.\n",
      "  warn(\n"
     ]
    },
    {
     "data": {
      "text/plain": [
       "{'data':      has_null  wave  gender   age  age_o  d_age d_d_age  \\\n",
       " 0           0   1.0  female  21.0   27.0    6.0   [4-6]   \n",
       " 1           0   1.0  female  21.0   22.0    1.0   [0-1]   \n",
       " 2           1   1.0  female  21.0   22.0    1.0   [0-1]   \n",
       " 3           0   1.0  female  21.0   23.0    2.0   [2-3]   \n",
       " 4           0   1.0  female  21.0   24.0    3.0   [2-3]   \n",
       " ...       ...   ...     ...   ...    ...    ...     ...   \n",
       " 8373        1  21.0    male  25.0   26.0    1.0   [0-1]   \n",
       " 8374        1  21.0    male  25.0   24.0    1.0   [0-1]   \n",
       " 8375        1  21.0    male  25.0   29.0    4.0   [4-6]   \n",
       " 8376        1  21.0    male  25.0   22.0    3.0   [2-3]   \n",
       " 8377        1  21.0    male  25.0   22.0    3.0   [2-3]   \n",
       " \n",
       "                                        race  \\\n",
       " 0     Asian/Pacific Islander/Asian-American   \n",
       " 1     Asian/Pacific Islander/Asian-American   \n",
       " 2     Asian/Pacific Islander/Asian-American   \n",
       " 3     Asian/Pacific Islander/Asian-American   \n",
       " 4     Asian/Pacific Islander/Asian-American   \n",
       " ...                                     ...   \n",
       " 8373            European/Caucasian-American   \n",
       " 8374            European/Caucasian-American   \n",
       " 8375            European/Caucasian-American   \n",
       " 8376            European/Caucasian-American   \n",
       " 8377            European/Caucasian-American   \n",
       " \n",
       "                                      race_o samerace  ...  \\\n",
       " 0               European/Caucasian-American        0  ...   \n",
       " 1               European/Caucasian-American        0  ...   \n",
       " 2     Asian/Pacific Islander/Asian-American        1  ...   \n",
       " 3               European/Caucasian-American        0  ...   \n",
       " 4                  Latino/Hispanic American        0  ...   \n",
       " ...                                     ...      ...  ...   \n",
       " 8373               Latino/Hispanic American        0  ...   \n",
       " 8374                                  Other        0  ...   \n",
       " 8375               Latino/Hispanic American        0  ...   \n",
       " 8376  Asian/Pacific Islander/Asian-American        0  ...   \n",
       " 8377  Asian/Pacific Islander/Asian-American        0  ...   \n",
       " \n",
       "       expected_num_interested_in_me  expected_num_matches  \\\n",
       " 0                               2.0                   4.0   \n",
       " 1                               2.0                   4.0   \n",
       " 2                               2.0                   4.0   \n",
       " 3                               2.0                   4.0   \n",
       " 4                               2.0                   4.0   \n",
       " ...                             ...                   ...   \n",
       " 8373                            NaN                   3.0   \n",
       " 8374                            NaN                   3.0   \n",
       " 8375                            NaN                   3.0   \n",
       " 8376                            NaN                   3.0   \n",
       " 8377                            NaN                   3.0   \n",
       " \n",
       "      d_expected_happy_with_sd_people d_expected_num_interested_in_me  \\\n",
       " 0                              [0-4]                           [0-3]   \n",
       " 1                              [0-4]                           [0-3]   \n",
       " 2                              [0-4]                           [0-3]   \n",
       " 3                              [0-4]                           [0-3]   \n",
       " 4                              [0-4]                           [0-3]   \n",
       " ...                              ...                             ...   \n",
       " 8373                          [7-10]                           [0-3]   \n",
       " 8374                          [7-10]                           [0-3]   \n",
       " 8375                          [7-10]                           [0-3]   \n",
       " 8376                          [7-10]                           [0-3]   \n",
       " 8377                          [7-10]                           [0-3]   \n",
       " \n",
       "      d_expected_num_matches  like  guess_prob_liked  d_like  \\\n",
       " 0                     [3-5]   7.0               6.0   [6-8]   \n",
       " 1                     [3-5]   7.0               5.0   [6-8]   \n",
       " 2                     [3-5]   7.0               NaN   [6-8]   \n",
       " 3                     [3-5]   7.0               6.0   [6-8]   \n",
       " 4                     [3-5]   6.0               6.0   [6-8]   \n",
       " ...                     ...   ...               ...     ...   \n",
       " 8373                  [3-5]   2.0               5.0   [0-5]   \n",
       " 8374                  [3-5]   4.0               4.0   [0-5]   \n",
       " 8375                  [3-5]   6.0               5.0   [6-8]   \n",
       " 8376                  [3-5]   5.0               5.0   [0-5]   \n",
       " 8377                  [3-5]   4.0               5.0   [0-5]   \n",
       " \n",
       "       d_guess_prob_liked  met  \n",
       " 0                  [5-6]  0.0  \n",
       " 1                  [5-6]  1.0  \n",
       " 2                  [0-4]  1.0  \n",
       " 3                  [5-6]  0.0  \n",
       " 4                  [5-6]  0.0  \n",
       " ...                  ...  ...  \n",
       " 8373               [5-6]  0.0  \n",
       " 8374               [0-4]  0.0  \n",
       " 8375               [5-6]  0.0  \n",
       " 8376               [5-6]  0.0  \n",
       " 8377               [5-6]  0.0  \n",
       " \n",
       " [8378 rows x 120 columns],\n",
       " 'target': 0       0\n",
       " 1       0\n",
       " 2       1\n",
       " 3       1\n",
       " 4       1\n",
       "        ..\n",
       " 8373    0\n",
       " 8374    0\n",
       " 8375    0\n",
       " 8376    0\n",
       " 8377    0\n",
       " Name: match, Length: 8378, dtype: category\n",
       " Categories (2, object): ['0', '1'],\n",
       " 'frame':      has_null  wave  gender   age  age_o  d_age d_d_age  \\\n",
       " 0           0   1.0  female  21.0   27.0    6.0   [4-6]   \n",
       " 1           0   1.0  female  21.0   22.0    1.0   [0-1]   \n",
       " 2           1   1.0  female  21.0   22.0    1.0   [0-1]   \n",
       " 3           0   1.0  female  21.0   23.0    2.0   [2-3]   \n",
       " 4           0   1.0  female  21.0   24.0    3.0   [2-3]   \n",
       " ...       ...   ...     ...   ...    ...    ...     ...   \n",
       " 8373        1  21.0    male  25.0   26.0    1.0   [0-1]   \n",
       " 8374        1  21.0    male  25.0   24.0    1.0   [0-1]   \n",
       " 8375        1  21.0    male  25.0   29.0    4.0   [4-6]   \n",
       " 8376        1  21.0    male  25.0   22.0    3.0   [2-3]   \n",
       " 8377        1  21.0    male  25.0   22.0    3.0   [2-3]   \n",
       " \n",
       "                                        race  \\\n",
       " 0     Asian/Pacific Islander/Asian-American   \n",
       " 1     Asian/Pacific Islander/Asian-American   \n",
       " 2     Asian/Pacific Islander/Asian-American   \n",
       " 3     Asian/Pacific Islander/Asian-American   \n",
       " 4     Asian/Pacific Islander/Asian-American   \n",
       " ...                                     ...   \n",
       " 8373            European/Caucasian-American   \n",
       " 8374            European/Caucasian-American   \n",
       " 8375            European/Caucasian-American   \n",
       " 8376            European/Caucasian-American   \n",
       " 8377            European/Caucasian-American   \n",
       " \n",
       "                                      race_o samerace  ...  \\\n",
       " 0               European/Caucasian-American        0  ...   \n",
       " 1               European/Caucasian-American        0  ...   \n",
       " 2     Asian/Pacific Islander/Asian-American        1  ...   \n",
       " 3               European/Caucasian-American        0  ...   \n",
       " 4                  Latino/Hispanic American        0  ...   \n",
       " ...                                     ...      ...  ...   \n",
       " 8373               Latino/Hispanic American        0  ...   \n",
       " 8374                                  Other        0  ...   \n",
       " 8375               Latino/Hispanic American        0  ...   \n",
       " 8376  Asian/Pacific Islander/Asian-American        0  ...   \n",
       " 8377  Asian/Pacific Islander/Asian-American        0  ...   \n",
       " \n",
       "       expected_num_matches  d_expected_happy_with_sd_people  \\\n",
       " 0                      4.0                            [0-4]   \n",
       " 1                      4.0                            [0-4]   \n",
       " 2                      4.0                            [0-4]   \n",
       " 3                      4.0                            [0-4]   \n",
       " 4                      4.0                            [0-4]   \n",
       " ...                    ...                              ...   \n",
       " 8373                   3.0                           [7-10]   \n",
       " 8374                   3.0                           [7-10]   \n",
       " 8375                   3.0                           [7-10]   \n",
       " 8376                   3.0                           [7-10]   \n",
       " 8377                   3.0                           [7-10]   \n",
       " \n",
       "      d_expected_num_interested_in_me d_expected_num_matches like  \\\n",
       " 0                              [0-3]                  [3-5]  7.0   \n",
       " 1                              [0-3]                  [3-5]  7.0   \n",
       " 2                              [0-3]                  [3-5]  7.0   \n",
       " 3                              [0-3]                  [3-5]  7.0   \n",
       " 4                              [0-3]                  [3-5]  6.0   \n",
       " ...                              ...                    ...  ...   \n",
       " 8373                           [0-3]                  [3-5]  2.0   \n",
       " 8374                           [0-3]                  [3-5]  4.0   \n",
       " 8375                           [0-3]                  [3-5]  6.0   \n",
       " 8376                           [0-3]                  [3-5]  5.0   \n",
       " 8377                           [0-3]                  [3-5]  4.0   \n",
       " \n",
       "       guess_prob_liked  d_like  d_guess_prob_liked  met  match  \n",
       " 0                  6.0   [6-8]               [5-6]  0.0      0  \n",
       " 1                  5.0   [6-8]               [5-6]  1.0      0  \n",
       " 2                  NaN   [6-8]               [0-4]  1.0      1  \n",
       " 3                  6.0   [6-8]               [5-6]  0.0      1  \n",
       " 4                  6.0   [6-8]               [5-6]  0.0      1  \n",
       " ...                ...     ...                 ...  ...    ...  \n",
       " 8373               5.0   [0-5]               [5-6]  0.0      0  \n",
       " 8374               4.0   [0-5]               [0-4]  0.0      0  \n",
       " 8375               5.0   [6-8]               [5-6]  0.0      0  \n",
       " 8376               5.0   [0-5]               [5-6]  0.0      0  \n",
       " 8377               5.0   [0-5]               [5-6]  0.0      0  \n",
       " \n",
       " [8378 rows x 121 columns],\n",
       " 'categories': None,\n",
       " 'feature_names': ['has_null',\n",
       "  'wave',\n",
       "  'gender',\n",
       "  'age',\n",
       "  'age_o',\n",
       "  'd_age',\n",
       "  'd_d_age',\n",
       "  'race',\n",
       "  'race_o',\n",
       "  'samerace',\n",
       "  'importance_same_race',\n",
       "  'importance_same_religion',\n",
       "  'd_importance_same_race',\n",
       "  'd_importance_same_religion',\n",
       "  'field',\n",
       "  'pref_o_attractive',\n",
       "  'pref_o_sincere',\n",
       "  'pref_o_intelligence',\n",
       "  'pref_o_funny',\n",
       "  'pref_o_ambitious',\n",
       "  'pref_o_shared_interests',\n",
       "  'd_pref_o_attractive',\n",
       "  'd_pref_o_sincere',\n",
       "  'd_pref_o_intelligence',\n",
       "  'd_pref_o_funny',\n",
       "  'd_pref_o_ambitious',\n",
       "  'd_pref_o_shared_interests',\n",
       "  'attractive_o',\n",
       "  'sinsere_o',\n",
       "  'intelligence_o',\n",
       "  'funny_o',\n",
       "  'ambitous_o',\n",
       "  'shared_interests_o',\n",
       "  'd_attractive_o',\n",
       "  'd_sinsere_o',\n",
       "  'd_intelligence_o',\n",
       "  'd_funny_o',\n",
       "  'd_ambitous_o',\n",
       "  'd_shared_interests_o',\n",
       "  'attractive_important',\n",
       "  'sincere_important',\n",
       "  'intellicence_important',\n",
       "  'funny_important',\n",
       "  'ambtition_important',\n",
       "  'shared_interests_important',\n",
       "  'd_attractive_important',\n",
       "  'd_sincere_important',\n",
       "  'd_intellicence_important',\n",
       "  'd_funny_important',\n",
       "  'd_ambtition_important',\n",
       "  'd_shared_interests_important',\n",
       "  'attractive',\n",
       "  'sincere',\n",
       "  'intelligence',\n",
       "  'funny',\n",
       "  'ambition',\n",
       "  'd_attractive',\n",
       "  'd_sincere',\n",
       "  'd_intelligence',\n",
       "  'd_funny',\n",
       "  'd_ambition',\n",
       "  'attractive_partner',\n",
       "  'sincere_partner',\n",
       "  'intelligence_partner',\n",
       "  'funny_partner',\n",
       "  'ambition_partner',\n",
       "  'shared_interests_partner',\n",
       "  'd_attractive_partner',\n",
       "  'd_sincere_partner',\n",
       "  'd_intelligence_partner',\n",
       "  'd_funny_partner',\n",
       "  'd_ambition_partner',\n",
       "  'd_shared_interests_partner',\n",
       "  'sports',\n",
       "  'tvsports',\n",
       "  'exercise',\n",
       "  'dining',\n",
       "  'museums',\n",
       "  'art',\n",
       "  'hiking',\n",
       "  'gaming',\n",
       "  'clubbing',\n",
       "  'reading',\n",
       "  'tv',\n",
       "  'theater',\n",
       "  'movies',\n",
       "  'concerts',\n",
       "  'music',\n",
       "  'shopping',\n",
       "  'yoga',\n",
       "  'd_sports',\n",
       "  'd_tvsports',\n",
       "  'd_exercise',\n",
       "  'd_dining',\n",
       "  'd_museums',\n",
       "  'd_art',\n",
       "  'd_hiking',\n",
       "  'd_gaming',\n",
       "  'd_clubbing',\n",
       "  'd_reading',\n",
       "  'd_tv',\n",
       "  'd_theater',\n",
       "  'd_movies',\n",
       "  'd_concerts',\n",
       "  'd_music',\n",
       "  'd_shopping',\n",
       "  'd_yoga',\n",
       "  'interests_correlate',\n",
       "  'd_interests_correlate',\n",
       "  'expected_happy_with_sd_people',\n",
       "  'expected_num_interested_in_me',\n",
       "  'expected_num_matches',\n",
       "  'd_expected_happy_with_sd_people',\n",
       "  'd_expected_num_interested_in_me',\n",
       "  'd_expected_num_matches',\n",
       "  'like',\n",
       "  'guess_prob_liked',\n",
       "  'd_like',\n",
       "  'd_guess_prob_liked',\n",
       "  'met'],\n",
       " 'target_names': ['match'],\n",
       " 'DESCR': '**Author**: Ray Fisman and Sheena Iyengar  \\n**Source**: [Columbia Business School](http://www.stat.columbia.edu/~gelman/arm/examples/speed.dating/) - 2004  \\n**Please cite**: None  \\n\\nThis data was gathered from participants in experimental speed dating events from 2002-2004. During the events, the attendees would have a four-minute \"first date\" with every other participant of the opposite sex. At the end of their four minutes, participants were asked if they would like to see their date again. They were also asked to rate their date on six attributes: Attractiveness, Sincerity, Intelligence, Fun, Ambition, and Shared Interests. The dataset also includes questionnaire data gathered from participants at different points in the process. These fields include: demographics, dating habits, self-perception across key attributes, beliefs on what others find valuable in a mate, and lifestyle information. \\n\\n### Attribute Information\\n```\\n * gender: Gender of self  \\n * age: Age of self  \\n * age_o: Age of partner  \\n * d_age: Difference in age  \\n * race: Race of self  \\n * race_o: Race of partner  \\n * samerace: Whether the two persons have the same race or not.  \\n * importance_same_race: How important is it that partner is of same race?  \\n * importance_same_religion: How important is it that partner has same religion?  \\n * field: Field of study  \\n * pref_o_attractive: How important does partner rate attractiveness  \\n * pref_o_sinsere: How important does partner rate sincerity  \\n * pref_o_intelligence: How important does partner rate intelligence  \\n * pref_o_funny: How important does partner rate being funny  \\n * pref_o_ambitious: How important does partner rate ambition  \\n * pref_o_shared_interests: How important does partner rate having shared interests  \\n * attractive_o: Rating by partner (about me) at night of event on attractiveness  \\n * sincere_o: Rating by partner (about me) at night of event on sincerity  \\n * intelligence_o: Rating by partner (about me) at night of event on intelligence  \\n * funny_o: Rating by partner (about me) at night of event on being funny  \\n * ambitous_o: Rating by partner (about me) at night of event on being ambitious  \\n * shared_interests_o: Rating by partner (about me) at night of event on shared interest  \\n * attractive_important: What do you look for in a partner - attractiveness  \\n * sincere_important: What do you look for in a partner - sincerity  \\n * intellicence_important: What do you look for in a partner - intelligence  \\n * funny_important: What do you look for in a partner - being funny  \\n * ambtition_important: What do you look for in a partner - ambition  \\n * shared_interests_important: What do you look for in a partner - shared interests  \\n * attractive: Rate yourself - attractiveness  \\n * sincere: Rate yourself - sincerity   \\n * intelligence: Rate yourself - intelligence   \\n * funny: Rate yourself - being funny   \\n * ambition: Rate yourself - ambition  \\n * attractive_partner: Rate your partner - attractiveness  \\n * sincere_partner: Rate your partner - sincerity   \\n * intelligence_partner: Rate your partner - intelligence   \\n * funny_partner: Rate your partner - being funny   \\n * ambition_partner: Rate your partner - ambition   \\n * shared_interests_partner: Rate your partner - shared interests  \\n * sports: Your own interests [1-10]  \\n * tvsports  \\n * exercise  \\n * dining  \\n * museums  \\n * art  \\n * hiking  \\n * gaming  \\n * clubbing  \\n * reading  \\n * tv  \\n * theater  \\n * movies  \\n * concerts  \\n * music  \\n * shopping  \\n * yoga  \\n * interests_correlate: Correlation between participant’s and partner’s ratings of interests.  \\n * expected_happy_with_sd_people: How happy do you expect to be with the people you meet during the speed-dating event?  \\n * expected_num_interested_in_me: Out of the 20 people you will meet, how many do you expect will be interested in dating you?  \\n * expected_num_matches: How many matches do you expect to get?  \\n * like: Did you like your partner?  \\n * guess_prob_liked: How likely do you think it is that your partner likes you?   \\n * met: Have you met your partner before?  \\n * decision: Decision at night of event.\\n * decision_o: Decision of partner at night of event.  \\n * match: Match (yes/no)\\n```\\n\\n### Relevant paper\\n\\nRaymond Fisman; Sheena S. Iyengar; Emir Kamenica; Itamar Simonson.   \\nGender Differences in Mate Selection: Evidence From a Speed Dating Experiment.   \\nThe Quarterly Journal of Economics, Volume 121, Issue 2, 1 May 2006, Pages 673–697,   \\n[https://doi.org/10.1162/qjec.2006.121.2.673](https://doi.org/10.1162/qjec.2006.121.2.673)\\n\\nDownloaded from openml.org.',\n",
       " 'details': {'id': '40536',\n",
       "  'name': 'SpeedDating',\n",
       "  'version': '1',\n",
       "  'description_version': '1',\n",
       "  'format': 'ARFF',\n",
       "  'upload_date': '2016-11-16T23:01:11',\n",
       "  'licence': 'Public',\n",
       "  'url': 'https://api.openml.org/data/v1/download/13153954/SpeedDating.arff',\n",
       "  'parquet_url': 'https://openml1.win.tue.nl/datasets/0004/40536/dataset_40536.pq',\n",
       "  'file_id': '13153954',\n",
       "  'default_target_attribute': 'match',\n",
       "  'ignore_attribute': ['decision', 'decision_o'],\n",
       "  'tag': ['Chemistry',\n",
       "   'Life Science',\n",
       "   'OpenML100',\n",
       "   'study_123',\n",
       "   'study_135',\n",
       "   'study_14',\n",
       "   'study_144'],\n",
       "  'visibility': 'public',\n",
       "  'minio_url': 'https://openml1.win.tue.nl/datasets/0004/40536/dataset_40536.pq',\n",
       "  'status': 'active',\n",
       "  'processing_date': '2021-09-16 22:36:34',\n",
       "  'md5_checksum': '0c5590a0c81750687ee1b0ee68168a5d'},\n",
       " 'url': 'https://www.openml.org/d/40536'}"
      ]
     },
     "execution_count": 2,
     "metadata": {},
     "output_type": "execute_result"
    }
   ],
   "source": [
    "from sklearn.datasets import load_iris, fetch_openml\n",
    "iris_data = load_iris()\n",
    "dating_data = fetch_openml(\"SpeedDating\", version=1)\n",
    "dating_data"
   ]
  },
  {
   "cell_type": "markdown",
   "id": "4efa3598",
   "metadata": {
    "papermill": {
     "duration": 0.007932,
     "end_time": "2024-02-08T17:56:05.399074",
     "exception": false,
     "start_time": "2024-02-08T17:56:05.391142",
     "status": "completed"
    },
    "tags": []
   },
   "source": [
    "These will return a `Bunch` object (similar to a `dict`)"
   ]
  },
  {
   "cell_type": "code",
   "execution_count": 3,
   "id": "c19c3405",
   "metadata": {
    "execution": {
     "iopub.execute_input": "2024-02-08T17:56:05.417395Z",
     "iopub.status.busy": "2024-02-08T17:56:05.417048Z",
     "iopub.status.idle": "2024-02-08T17:56:05.422924Z",
     "shell.execute_reply": "2024-02-08T17:56:05.421206Z"
    },
    "papermill": {
     "duration": 0.018409,
     "end_time": "2024-02-08T17:56:05.425892",
     "exception": false,
     "start_time": "2024-02-08T17:56:05.407483",
     "status": "completed"
    },
    "tags": []
   },
   "outputs": [
    {
     "name": "stdout",
     "output_type": "stream",
     "text": [
      "Keys of iris_dataset: dict_keys(['data', 'target', 'frame', 'target_names', 'DESCR', 'feature_names', 'filename', 'data_module'])\n",
      ".. _iris_dataset:\n",
      "\n",
      "Iris plants dataset\n",
      "--------------------\n",
      "\n",
      "**Data Set Characteristics:**\n",
      "\n",
      "    :Number of Instances: 150 (50 in each of three classes)\n",
      "    :Number of Attributes: 4 numeric, pre\n",
      "...\n"
     ]
    }
   ],
   "source": [
    "print(\"Keys of iris_dataset: {}\".format(iris_data.keys()))\n",
    "print(iris_data['DESCR'][:193] + \"\\n...\")"
   ]
  },
  {
   "cell_type": "markdown",
   "id": "4c04fcc1",
   "metadata": {
    "papermill": {
     "duration": 0.007812,
     "end_time": "2024-02-08T17:56:05.442382",
     "exception": false,
     "start_time": "2024-02-08T17:56:05.434570",
     "status": "completed"
    },
    "tags": []
   },
   "source": [
    "* Targets (classes) and features are lists of strings\n",
    "* Data and target values are always numeric (ndarrays)"
   ]
  },
  {
   "cell_type": "code",
   "execution_count": 4,
   "id": "b6295b0e",
   "metadata": {
    "execution": {
     "iopub.execute_input": "2024-02-08T17:56:05.460438Z",
     "iopub.status.busy": "2024-02-08T17:56:05.459887Z",
     "iopub.status.idle": "2024-02-08T17:56:05.466092Z",
     "shell.execute_reply": "2024-02-08T17:56:05.465268Z"
    },
    "papermill": {
     "duration": 0.017542,
     "end_time": "2024-02-08T17:56:05.468114",
     "exception": false,
     "start_time": "2024-02-08T17:56:05.450572",
     "status": "completed"
    },
    "tags": []
   },
   "outputs": [
    {
     "name": "stdout",
     "output_type": "stream",
     "text": [
      "Targets: ['setosa' 'versicolor' 'virginica']\n",
      "Features: ['sepal length (cm)', 'sepal width (cm)', 'petal length (cm)', 'petal width (cm)']\n",
      "Shape of data: (150, 4)\n",
      "First 5 rows:\n",
      "[[5.1 3.5 1.4 0.2]\n",
      " [4.9 3.  1.4 0.2]\n",
      " [4.7 3.2 1.3 0.2]\n",
      " [4.6 3.1 1.5 0.2]\n",
      " [5.  3.6 1.4 0.2]]\n",
      "Targets:\n",
      "[0 0 0 0 0 0 0 0 0 0 0 0 0 0 0 0 0 0 0 0 0 0 0 0 0 0 0 0 0 0 0 0 0 0 0 0 0\n",
      " 0 0 0 0 0 0 0 0 0 0 0 0 0 1 1 1 1 1 1 1 1 1 1 1 1 1 1 1 1 1 1 1 1 1 1 1 1\n",
      " 1 1 1 1 1 1 1 1 1 1 1 1 1 1 1 1 1 1 1 1 1 1 1 1 1 1 2 2 2 2 2 2 2 2 2 2 2\n",
      " 2 2 2 2 2 2 2 2 2 2 2 2 2 2 2 2 2 2 2 2 2 2 2 2 2 2 2 2 2 2 2 2 2 2 2 2 2\n",
      " 2 2]\n"
     ]
    }
   ],
   "source": [
    "print(\"Targets: {}\".format(iris_data['target_names']))\n",
    "print(\"Features: {}\".format(iris_data['feature_names']))\n",
    "print(\"Shape of data: {}\".format(iris_data['data'].shape))\n",
    "print(\"First 5 rows:\\n{}\".format(iris_data['data'][:5]))\n",
    "print(\"Targets:\\n{}\".format(iris_data['target']))"
   ]
  },
  {
   "cell_type": "markdown",
   "id": "3bc2e11e",
   "metadata": {
    "papermill": {
     "duration": 0.00799,
     "end_time": "2024-02-08T17:56:05.484577",
     "exception": false,
     "start_time": "2024-02-08T17:56:05.476587",
     "status": "completed"
    },
    "slideshow": {
     "slide_type": "slide"
    },
    "tags": []
   },
   "source": [
    "## Building models\n",
    "All scikitlearn _estimators_ follow the same interface"
   ]
  },
  {
   "cell_type": "markdown",
   "id": "98edb252",
   "metadata": {
    "papermill": {
     "duration": 0.008204,
     "end_time": "2024-02-08T17:56:05.501324",
     "exception": false,
     "start_time": "2024-02-08T17:56:05.493120",
     "status": "completed"
    },
    "tags": []
   },
   "source": [
    "```python\n",
    "class SupervisedEstimator(...):\n",
    "    def __init__(self, hyperparam, ...):\n",
    "\n",
    "    def fit(self, X, y):   # Fit/model the training data\n",
    "        ...                # given data X and targets y\n",
    "        return self\n",
    "     \n",
    "    def predict(self, X):  # Make predictions\n",
    "        ...                # on unseen data X  \n",
    "        return y_pred\n",
    "    \n",
    "    def score(self, X, y): # Predict and compare to true\n",
    "        ...                # labels y                \n",
    "        return score\n",
    "```"
   ]
  },
  {
   "cell_type": "markdown",
   "id": "8775d4e4",
   "metadata": {
    "papermill": {
     "duration": 0.008034,
     "end_time": "2024-02-08T17:56:05.517739",
     "exception": false,
     "start_time": "2024-02-08T17:56:05.509705",
     "status": "completed"
    },
    "slideshow": {
     "slide_type": "slide"
    },
    "tags": []
   },
   "source": [
    "### Training and testing data\n",
    "To evaluate our classifier, we need to test it on unseen data.  \n",
    "`train_test_split`: splits data randomly in 75% training and 25% test data."
   ]
  },
  {
   "cell_type": "code",
   "execution_count": 5,
   "id": "d5dfeff5",
   "metadata": {
    "execution": {
     "iopub.execute_input": "2024-02-08T17:56:05.537074Z",
     "iopub.status.busy": "2024-02-08T17:56:05.536693Z",
     "iopub.status.idle": "2024-02-08T17:56:05.647612Z",
     "shell.execute_reply": "2024-02-08T17:56:05.646530Z"
    },
    "hide_input": false,
    "papermill": {
     "duration": 0.123402,
     "end_time": "2024-02-08T17:56:05.649690",
     "exception": false,
     "start_time": "2024-02-08T17:56:05.526288",
     "status": "completed"
    },
    "tags": []
   },
   "outputs": [
    {
     "name": "stdout",
     "output_type": "stream",
     "text": [
      "X_train shape: (112, 4)\n",
      "y_train shape: (112,)\n",
      "X_test shape: (38, 4)\n",
      "y_test shape: (38,)\n"
     ]
    }
   ],
   "source": [
    "from sklearn.model_selection import train_test_split\n",
    "X_train, X_test, y_train, y_test = train_test_split(\n",
    "    iris_data['data'], iris_data['target'], \n",
    "    random_state=0)\n",
    "print(\"X_train shape: {}\".format(X_train.shape))\n",
    "print(\"y_train shape: {}\".format(y_train.shape))\n",
    "print(\"X_test shape: {}\".format(X_test.shape))\n",
    "print(\"y_test shape: {}\".format(y_test.shape))"
   ]
  },
  {
   "cell_type": "markdown",
   "id": "ff405fbf",
   "metadata": {
    "papermill": {
     "duration": 0.008,
     "end_time": "2024-02-08T17:56:05.666119",
     "exception": false,
     "start_time": "2024-02-08T17:56:05.658119",
     "status": "completed"
    },
    "tags": []
   },
   "source": [
    "We can also choose other ways to split the data. For instance, the following will create a training set of 10% of the data and a test set of 5% of the data. This is useful when dealing with very large datasets. `stratify` defines the target feature to stratify the data (ensure that the class distributions are kept the same)."
   ]
  },
  {
   "cell_type": "code",
   "execution_count": 6,
   "id": "751735e2",
   "metadata": {
    "execution": {
     "iopub.execute_input": "2024-02-08T17:56:05.684732Z",
     "iopub.status.busy": "2024-02-08T17:56:05.684384Z",
     "iopub.status.idle": "2024-02-08T17:56:05.692614Z",
     "shell.execute_reply": "2024-02-08T17:56:05.691293Z"
    },
    "papermill": {
     "duration": 0.019748,
     "end_time": "2024-02-08T17:56:05.694459",
     "exception": false,
     "start_time": "2024-02-08T17:56:05.674711",
     "status": "completed"
    },
    "tags": []
   },
   "outputs": [
    {
     "name": "stdout",
     "output_type": "stream",
     "text": [
      "Xs_train shape: (15, 4)\n",
      "Xs_test shape: (8, 4)\n"
     ]
    }
   ],
   "source": [
    "X, y = iris_data['data'], iris_data['target']\n",
    "Xs_train, Xs_test, ys_train, ys_test = train_test_split(X,y, stratify=y, train_size=0.1, test_size=0.05)\n",
    "print(\"Xs_train shape: {}\".format(Xs_train.shape))\n",
    "print(\"Xs_test shape: {}\".format(Xs_test.shape))"
   ]
  },
  {
   "cell_type": "markdown",
   "id": "148405f6",
   "metadata": {
    "papermill": {
     "duration": 0.008307,
     "end_time": "2024-02-08T17:56:05.711503",
     "exception": false,
     "start_time": "2024-02-08T17:56:05.703196",
     "status": "completed"
    },
    "slideshow": {
     "slide_type": "slide"
    },
    "tags": []
   },
   "source": [
    "### Looking at your data (with pandas)"
   ]
  },
  {
   "cell_type": "code",
   "execution_count": 7,
   "id": "e22acff7",
   "metadata": {
    "execution": {
     "iopub.execute_input": "2024-02-08T17:56:05.730408Z",
     "iopub.status.busy": "2024-02-08T17:56:05.729719Z",
     "iopub.status.idle": "2024-02-08T17:56:06.784223Z",
     "shell.execute_reply": "2024-02-08T17:56:06.783066Z"
    },
    "papermill": {
     "duration": 1.066982,
     "end_time": "2024-02-08T17:56:06.787148",
     "exception": false,
     "start_time": "2024-02-08T17:56:05.720166",
     "status": "completed"
    },
    "tags": []
   },
   "outputs": [
    {
     "data": {
      "image/png": "[encoded data removed]",
      "text/plain": [
       "<Figure size 800x800 with 16 Axes>"
      ]
     },
     "metadata": {},
     "output_type": "display_data"
    }
   ],
   "source": [
    "from pandas.plotting import scatter_matrix\n",
    "\n",
    "# Build a DataFrame with training examples and feature names\n",
    "iris_df = pd.DataFrame(X_train, \n",
    "                       columns=iris_data.feature_names)\n",
    "\n",
    "# scatter matrix from the dataframe, color by class\n",
    "sm = scatter_matrix(iris_df, c=y_train, figsize=(8, 8), \n",
    "                  marker='o', hist_kwds={'bins': 20}, s=60, \n",
    "                  alpha=.8)"
   ]
  },
  {
   "cell_type": "markdown",
   "id": "3df3624d",
   "metadata": {
    "papermill": {
     "duration": 0.011568,
     "end_time": "2024-02-08T17:56:06.810112",
     "exception": false,
     "start_time": "2024-02-08T17:56:06.798544",
     "status": "completed"
    },
    "slideshow": {
     "slide_type": "slide"
    },
    "tags": []
   },
   "source": [
    "### Fitting a model"
   ]
  },
  {
   "cell_type": "markdown",
   "id": "d327aa00",
   "metadata": {
    "papermill": {
     "duration": 0.010055,
     "end_time": "2024-02-08T17:56:06.830552",
     "exception": false,
     "start_time": "2024-02-08T17:56:06.820497",
     "status": "completed"
    },
    "tags": []
   },
   "source": [
    "The first model we'll build is a k-Nearest Neighbor classifier.  \n",
    "kNN is included in `sklearn.neighbors`, so let's build our first model"
   ]
  },
  {
   "cell_type": "code",
   "execution_count": 8,
   "id": "0a3ab0a7",
   "metadata": {
    "execution": {
     "iopub.execute_input": "2024-02-08T17:56:06.852850Z",
     "iopub.status.busy": "2024-02-08T17:56:06.852437Z",
     "iopub.status.idle": "2024-02-08T17:56:07.022088Z",
     "shell.execute_reply": "2024-02-08T17:56:07.020572Z"
    },
    "hide_input": false,
    "papermill": {
     "duration": 0.183444,
     "end_time": "2024-02-08T17:56:07.024338",
     "exception": false,
     "start_time": "2024-02-08T17:56:06.840894",
     "status": "completed"
    },
    "tags": []
   },
   "outputs": [
    {
     "data": {
      "text/html": [
       "<style>#sk-container-id-1 {color: black;background-color: white;}#sk-container-id-1 pre{padding: 0;}#sk-container-id-1 div.sk-toggleable {background-color: white;}#sk-container-id-1 label.sk-toggleable__label {cursor: pointer;display: block;width: 100%;margin-bottom: 0;padding: 0.3em;box-sizing: border-box;text-align: center;}#sk-container-id-1 label.sk-toggleable__label-arrow:before {content: \"▸\";float: left;margin-right: 0.25em;color: #696969;}#sk-container-id-1 label.sk-toggleable__label-arrow:hover:before {color: black;}#sk-container-id-1 div.sk-estimator:hover label.sk-toggleable__label-arrow:before {color: black;}#sk-container-id-1 div.sk-toggleable__content {max-height: 0;max-width: 0;overflow: hidden;text-align: left;background-color: #f0f8ff;}#sk-container-id-1 div.sk-toggleable__content pre {margin: 0.2em;color: black;border-radius: 0.25em;background-color: #f0f8ff;}#sk-container-id-1 input.sk-toggleable__control:checked~div.sk-toggleable__content {max-height: 200px;max-width: 100%;overflow: auto;}#sk-container-id-1 input.sk-toggleable__control:checked~label.sk-toggleable__label-arrow:before {content: \"▾\";}#sk-container-id-1 div.sk-estimator input.sk-toggleable__control:checked~label.sk-toggleable__label {background-color: #d4ebff;}#sk-container-id-1 div.sk-label input.sk-toggleable__control:checked~label.sk-toggleable__label {background-color: #d4ebff;}#sk-container-id-1 input.sk-hidden--visually {border: 0;clip: rect(1px 1px 1px 1px);clip: rect(1px, 1px, 1px, 1px);height: 1px;margin: -1px;overflow: hidden;padding: 0;position: absolute;width: 1px;}#sk-container-id-1 div.sk-estimator {font-family: monospace;background-color: #f0f8ff;border: 1px dotted black;border-radius: 0.25em;box-sizing: border-box;margin-bottom: 0.5em;}#sk-container-id-1 div.sk-estimator:hover {background-color: #d4ebff;}#sk-container-id-1 div.sk-parallel-item::after {content: \"\";width: 100%;border-bottom: 1px solid gray;flex-grow: 1;}#sk-container-id-1 div.sk-label:hover label.sk-toggleable__label {background-color: #d4ebff;}#sk-container-id-1 div.sk-serial::before {content: \"\";position: absolute;border-left: 1px solid gray;box-sizing: border-box;top: 0;bottom: 0;left: 50%;z-index: 0;}#sk-container-id-1 div.sk-serial {display: flex;flex-direction: column;align-items: center;background-color: white;padding-right: 0.2em;padding-left: 0.2em;position: relative;}#sk-container-id-1 div.sk-item {position: relative;z-index: 1;}#sk-container-id-1 div.sk-parallel {display: flex;align-items: stretch;justify-content: center;background-color: white;position: relative;}#sk-container-id-1 div.sk-item::before, #sk-container-id-1 div.sk-parallel-item::before {content: \"\";position: absolute;border-left: 1px solid gray;box-sizing: border-box;top: 0;bottom: 0;left: 50%;z-index: -1;}#sk-container-id-1 div.sk-parallel-item {display: flex;flex-direction: column;z-index: 1;position: relative;background-color: white;}#sk-container-id-1 div.sk-parallel-item:first-child::after {align-self: flex-end;width: 50%;}#sk-container-id-1 div.sk-parallel-item:last-child::after {align-self: flex-start;width: 50%;}#sk-container-id-1 div.sk-parallel-item:only-child::after {width: 0;}#sk-container-id-1 div.sk-dashed-wrapped {border: 1px dashed gray;margin: 0 0.4em 0.5em 0.4em;box-sizing: border-box;padding-bottom: 0.4em;background-color: white;}#sk-container-id-1 div.sk-label label {font-family: monospace;font-weight: bold;display: inline-block;line-height: 1.2em;}#sk-container-id-1 div.sk-label-container {text-align: center;}#sk-container-id-1 div.sk-container {/* jupyter's `normalize.less` sets `[hidden] { display: none; }` but bootstrap.min.css set `[hidden] { display: none !important; }` so we also need the `!important` here to be able to override the default hidden behavior on the sphinx rendered scikit-learn.org. See: https://github.com/scikit-learn/scikit-learn/issues/21755 */display: inline-block !important;position: relative;}#sk-container-id-1 div.sk-text-repr-fallback {display: none;}</style><div id=\"sk-container-id-1\" class=\"sk-top-container\"><div class=\"sk-text-repr-fallback\"><pre>KNeighborsClassifier(n_neighbors=1)</pre><b>In a Jupyter environment, please rerun this cell to show the HTML representation or trust the notebook. <br />On GitHub, the HTML representation is unable to render, please try loading this page with nbviewer.org.</b></div><div class=\"sk-container\" hidden><div class=\"sk-item\"><div class=\"sk-estimator sk-toggleable\"><input class=\"sk-toggleable__control sk-hidden--visually\" id=\"sk-estimator-id-1\" type=\"checkbox\" checked><label for=\"sk-estimator-id-1\" class=\"sk-toggleable__label sk-toggleable__label-arrow\">KNeighborsClassifier</label><div class=\"sk-toggleable__content\"><pre>KNeighborsClassifier(n_neighbors=1)</pre></div></div></div></div></div>"
      ],
      "text/plain": [
       "KNeighborsClassifier(n_neighbors=1)"
      ]
     },
     "execution_count": 8,
     "metadata": {},
     "output_type": "execute_result"
    }
   ],
   "source": [
    "from sklearn.neighbors import KNeighborsClassifier\n",
    "knn = KNeighborsClassifier(n_neighbors=1)\n",
    "knn.fit(X_train, y_train)"
   ]
  },
  {
   "cell_type": "markdown",
   "id": "0740c2f4",
   "metadata": {
    "papermill": {
     "duration": 0.00994,
     "end_time": "2024-02-08T17:56:07.044741",
     "exception": false,
     "start_time": "2024-02-08T17:56:07.034801",
     "status": "completed"
    },
    "slideshow": {
     "slide_type": "slide"
    },
    "tags": []
   },
   "source": [
    "### Making predictions\n",
    "Let's create a new example and ask the kNN model to classify it"
   ]
  },
  {
   "cell_type": "code",
   "execution_count": 9,
   "id": "ed62779d",
   "metadata": {
    "execution": {
     "iopub.execute_input": "2024-02-08T17:56:07.067129Z",
     "iopub.status.busy": "2024-02-08T17:56:07.066735Z",
     "iopub.status.idle": "2024-02-08T17:56:07.075397Z",
     "shell.execute_reply": "2024-02-08T17:56:07.074323Z"
    },
    "hide_input": false,
    "papermill": {
     "duration": 0.022276,
     "end_time": "2024-02-08T17:56:07.077464",
     "exception": false,
     "start_time": "2024-02-08T17:56:07.055188",
     "status": "completed"
    },
    "tags": []
   },
   "outputs": [
    {
     "name": "stdout",
     "output_type": "stream",
     "text": [
      "Prediction: [0]\n",
      "Predicted target name: ['setosa']\n"
     ]
    }
   ],
   "source": [
    "X_new = np.array([[5, 2.9, 1, 0.2]])\n",
    "prediction = knn.predict(X_new)\n",
    "print(\"Prediction: {}\".format(prediction))\n",
    "print(\"Predicted target name: {}\".format(\n",
    "       iris_data['target_names'][prediction]))"
   ]
  },
  {
   "cell_type": "markdown",
   "id": "f962e787",
   "metadata": {
    "papermill": {
     "duration": 0.010623,
     "end_time": "2024-02-08T17:56:07.098853",
     "exception": false,
     "start_time": "2024-02-08T17:56:07.088230",
     "status": "completed"
    },
    "slideshow": {
     "slide_type": "slide"
    },
    "tags": []
   },
   "source": [
    "### Evaluating the model\n",
    "Feeding all test examples to the model yields all predictions"
   ]
  },
  {
   "cell_type": "code",
   "execution_count": 10,
   "id": "350b667e",
   "metadata": {
    "execution": {
     "iopub.execute_input": "2024-02-08T17:56:07.122228Z",
     "iopub.status.busy": "2024-02-08T17:56:07.121528Z",
     "iopub.status.idle": "2024-02-08T17:56:07.132904Z",
     "shell.execute_reply": "2024-02-08T17:56:07.131118Z"
    },
    "hide_input": true,
    "papermill": {
     "duration": 0.025409,
     "end_time": "2024-02-08T17:56:07.135100",
     "exception": false,
     "start_time": "2024-02-08T17:56:07.109691",
     "status": "completed"
    },
    "scrolled": true,
    "tags": []
   },
   "outputs": [
    {
     "name": "stdout",
     "output_type": "stream",
     "text": [
      "Test set predictions:\n",
      " [2 1 0 2 0 2 0 1 1 1 2 1 1 1 1 0 1 1 0 0 2 1 0 0 2 0 0 1 1 0 2 1 0 2 2 1 0\n",
      " 2]\n"
     ]
    }
   ],
   "source": [
    "y_pred = knn.predict(X_test)\n",
    "print(\"Test set predictions:\\n {}\".format(y_pred))"
   ]
  },
  {
   "cell_type": "markdown",
   "id": "097df802",
   "metadata": {
    "papermill": {
     "duration": 0.010481,
     "end_time": "2024-02-08T17:56:07.156710",
     "exception": false,
     "start_time": "2024-02-08T17:56:07.146229",
     "status": "completed"
    },
    "slideshow": {
     "slide_type": "slide"
    },
    "tags": []
   },
   "source": [
    "The `score` function computes the percentage of correct predictions\n",
    "\n",
    "``` python\n",
    "knn.score(X_test, y_test)\n",
    "```"
   ]
  },
  {
   "cell_type": "code",
   "execution_count": 11,
   "id": "c1de54ad",
   "metadata": {
    "execution": {
     "iopub.execute_input": "2024-02-08T17:56:07.180445Z",
     "iopub.status.busy": "2024-02-08T17:56:07.179365Z",
     "iopub.status.idle": "2024-02-08T17:56:07.191480Z",
     "shell.execute_reply": "2024-02-08T17:56:07.190315Z"
    },
    "hide_input": true,
    "papermill": {
     "duration": 0.026377,
     "end_time": "2024-02-08T17:56:07.193955",
     "exception": false,
     "start_time": "2024-02-08T17:56:07.167578",
     "status": "completed"
    },
    "tags": []
   },
   "outputs": [
    {
     "name": "stdout",
     "output_type": "stream",
     "text": [
      "Score: 0.97\n"
     ]
    }
   ],
   "source": [
    "print(\"Score: {:.2f}\".format(knn.score(X_test, y_test) ))"
   ]
  },
  {
   "cell_type": "markdown",
   "id": "925aedc5",
   "metadata": {
    "papermill": {
     "duration": 0.010573,
     "end_time": "2024-02-08T17:56:07.215404",
     "exception": false,
     "start_time": "2024-02-08T17:56:07.204831",
     "status": "completed"
    },
    "tags": []
   },
   "source": [
    "Instead of a single train-test split, we can use `cross_validate` do run a cross-validation. \n",
    "It will return the test scores, as well as the fit and score times, for every fold.\n",
    "By default, scikit-learn does a 5-fold cross-validation, hence returning 5 test scores."
   ]
  },
  {
   "cell_type": "code",
   "execution_count": 12,
   "id": "a3c4b238",
   "metadata": {
    "execution": {
     "iopub.execute_input": "2024-02-08T17:56:07.239298Z",
     "iopub.status.busy": "2024-02-08T17:56:07.238807Z",
     "iopub.status.idle": "2024-02-08T17:56:18.959475Z",
     "shell.execute_reply": "2024-02-08T17:56:18.957884Z"
    },
    "papermill": {
     "duration": 11.735516,
     "end_time": "2024-02-08T17:56:18.962054",
     "exception": false,
     "start_time": "2024-02-08T17:56:07.226538",
     "status": "completed"
    },
    "tags": []
   },
   "outputs": [],
   "source": [
    "!pip install -U joblib -q"
   ]
  },
  {
   "cell_type": "code",
   "execution_count": 13,
   "id": "690444bb",
   "metadata": {
    "execution": {
     "iopub.execute_input": "2024-02-08T17:56:18.984641Z",
     "iopub.status.busy": "2024-02-08T17:56:18.984283Z",
     "iopub.status.idle": "2024-02-08T17:56:19.973715Z",
     "shell.execute_reply": "2024-02-08T17:56:19.972838Z"
    },
    "papermill": {
     "duration": 1.003614,
     "end_time": "2024-02-08T17:56:19.976227",
     "exception": false,
     "start_time": "2024-02-08T17:56:18.972613",
     "status": "completed"
    },
    "tags": []
   },
   "outputs": [
    {
     "data": {
      "text/plain": [
       "{'fit_time': array([0.00128818, 0.00114346, 0.00125122, 0.00123715, 0.00102186]),\n",
       " 'score_time': array([0.00463963, 0.00477624, 0.00486302, 0.00480628, 0.00438619]),\n",
       " 'test_score': array([0.96666667, 0.96666667, 0.93333333, 0.93333333, 1.        ]),\n",
       " 'train_score': array([1., 1., 1., 1., 1.])}"
      ]
     },
     "execution_count": 13,
     "metadata": {},
     "output_type": "execute_result"
    }
   ],
   "source": [
    "from sklearn.model_selection import cross_validate\n",
    "xval = cross_validate(knn, X, y, return_train_score=True, n_jobs=-1)\n",
    "xval"
   ]
  },
  {
   "cell_type": "markdown",
   "id": "fa1c9585",
   "metadata": {
    "papermill": {
     "duration": 0.011854,
     "end_time": "2024-02-08T17:56:20.002568",
     "exception": false,
     "start_time": "2024-02-08T17:56:19.990714",
     "status": "completed"
    },
    "tags": []
   },
   "source": [
    "The mean should give a better performance estimate"
   ]
  },
  {
   "cell_type": "code",
   "execution_count": 14,
   "id": "4f3b5293",
   "metadata": {
    "execution": {
     "iopub.execute_input": "2024-02-08T17:56:20.079050Z",
     "iopub.status.busy": "2024-02-08T17:56:20.078678Z",
     "iopub.status.idle": "2024-02-08T17:56:20.084503Z",
     "shell.execute_reply": "2024-02-08T17:56:20.083417Z"
    },
    "papermill": {
     "duration": 0.020334,
     "end_time": "2024-02-08T17:56:20.086623",
     "exception": false,
     "start_time": "2024-02-08T17:56:20.066289",
     "status": "completed"
    },
    "tags": []
   },
   "outputs": [
    {
     "data": {
      "text/plain": [
       "0.96"
      ]
     },
     "execution_count": 14,
     "metadata": {},
     "output_type": "execute_result"
    }
   ],
   "source": [
    "np.mean(xval['test_score'])"
   ]
  },
  {
   "cell_type": "markdown",
   "id": "d064af5f",
   "metadata": {
    "papermill": {
     "duration": 0.010863,
     "end_time": "2024-02-08T17:56:20.108429",
     "exception": false,
     "start_time": "2024-02-08T17:56:20.097566",
     "status": "completed"
    },
    "tags": []
   },
   "source": [
    "### Introspecting the model\n",
    "Most models allow you to retrieve the trained model parameters, usually called `coef_`"
   ]
  },
  {
   "cell_type": "code",
   "execution_count": 15,
   "id": "2159d70b",
   "metadata": {
    "execution": {
     "iopub.execute_input": "2024-02-08T17:56:20.132983Z",
     "iopub.status.busy": "2024-02-08T17:56:20.132593Z",
     "iopub.status.idle": "2024-02-08T17:56:20.159322Z",
     "shell.execute_reply": "2024-02-08T17:56:20.158113Z"
    },
    "papermill": {
     "duration": 0.041665,
     "end_time": "2024-02-08T17:56:20.161215",
     "exception": false,
     "start_time": "2024-02-08T17:56:20.119550",
     "status": "completed"
    },
    "tags": []
   },
   "outputs": [
    {
     "data": {
      "text/plain": [
       "array([-0.15330146, -0.02540761,  0.26698013,  0.57386186])"
      ]
     },
     "execution_count": 15,
     "metadata": {},
     "output_type": "execute_result"
    }
   ],
   "source": [
    "from sklearn.linear_model import LinearRegression\n",
    "lr = LinearRegression().fit(X_train, y_train)\n",
    "lr.coef_"
   ]
  },
  {
   "cell_type": "markdown",
   "id": "24441f26",
   "metadata": {
    "papermill": {
     "duration": 0.010985,
     "end_time": "2024-02-08T17:56:20.183294",
     "exception": false,
     "start_time": "2024-02-08T17:56:20.172309",
     "status": "completed"
    },
    "tags": []
   },
   "source": [
    "Matching these with the names of the features, we can see which features are primarily used by the model"
   ]
  },
  {
   "cell_type": "code",
   "execution_count": 16,
   "id": "70d74723",
   "metadata": {
    "execution": {
     "iopub.execute_input": "2024-02-08T17:56:20.207856Z",
     "iopub.status.busy": "2024-02-08T17:56:20.207498Z",
     "iopub.status.idle": "2024-02-08T17:56:20.214806Z",
     "shell.execute_reply": "2024-02-08T17:56:20.214061Z"
    },
    "papermill": {
     "duration": 0.022489,
     "end_time": "2024-02-08T17:56:20.217200",
     "exception": false,
     "start_time": "2024-02-08T17:56:20.194711",
     "status": "completed"
    },
    "tags": []
   },
   "outputs": [
    {
     "data": {
      "text/plain": [
       "{('petal length (cm)', 0.2669801292888397),\n",
       " ('petal width (cm)', 0.5738618608875328),\n",
       " ('sepal length (cm)', -0.15330145645467907),\n",
       " ('sepal width (cm)', -0.02540761074550385)}"
      ]
     },
     "execution_count": 16,
     "metadata": {},
     "output_type": "execute_result"
    }
   ],
   "source": [
    "d = zip(iris_data.feature_names,lr.coef_)\n",
    "set(d)"
   ]
  }
 ],
 "metadata": {
  "anaconda-cloud": {},
  "celltoolbar": "Slideshow",
  "kaggle": {
   "accelerator": "none",
   "dataSources": [],
   "dockerImageVersionId": 30646,
   "isGpuEnabled": false,
   "isInternetEnabled": true,
   "language": "python",
   "sourceType": "notebook"
  },
  "kernelspec": {
   "display_name": "Python 3",
   "language": "python",
   "name": "python3"
  },
  "language_info": {
   "codemirror_mode": {
    "name": "ipython",
    "version": 3
   },
   "file_extension": ".py",
   "mimetype": "text/x-python",
   "name": "python",
   "nbconvert_exporter": "python",
   "pygments_lexer": "ipython3",
   "version": "3.10.13"
  },
  "latex_metadata": {
   "author": "Joaquin Vanschoren",
   "title": "Introduction"
  },
  "papermill": {
   "default_parameters": {},
   "duration": 24.560726,
   "end_time": "2024-02-08T17:56:22.849094",
   "environment_variables": {},
   "exception": null,
   "input_path": "__notebook__.ipynb",
   "output_path": "__notebook__.ipynb",
   "parameters": {},
   "start_time": "2024-02-08T17:55:58.288368",
   "version": "2.5.0"
  }
 },
 "nbformat": 4,
 "nbformat_minor": 5
}
