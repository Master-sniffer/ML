{
  "nbformat": 4,
  "nbformat_minor": 0,
  "metadata": {
    "colab": {
      "name": "ML Sem1.ipynb",
      "provenance": []
    },
    "kernelspec": {
      "name": "python3",
      "display_name": "Python 3"
    },
    "language_info": {
      "name": "python"
    }
  },
  "cells": [
    {
      "cell_type": "markdown",
      "source": [
        "Взял Excel 1 вариант"
      ],
      "metadata": {
        "id": "JRMweG7da2f2"
      }
    },
    {
      "cell_type": "code",
      "source": [
        "from google.colab import drive\n",
        "drive.mount('/content/drive')"
      ],
      "metadata": {
        "colab": {
          "base_uri": "https://localhost:8080/"
        },
        "id": "ZsdKvonzbBO1",
        "outputId": "56bddac3-bbcd-4222-e60b-b09855b87ee6"
      },
      "execution_count": null,
      "outputs": [
        {
          "output_type": "stream",
          "name": "stdout",
          "text": [
            "Mounted at /content/drive\n"
          ]
        }
      ]
    },
    {
      "cell_type": "code",
      "execution_count": null,
      "metadata": {
        "colab": {
          "base_uri": "https://localhost:8080/"
        },
        "id": "1tywYwa9YWc2",
        "outputId": "d1623c22-b9bb-41a5-de6c-dfe443c5ab0e"
      },
      "outputs": [
        {
          "output_type": "stream",
          "name": "stdout",
          "text": [
            "Average -->  72.76902887139107 \n",
            "Max -->  100.0 \n",
            "Min -->  20.0 \n",
            "Sum -->  221800.0 \n",
            "Median -->  72.0\n"
          ]
        }
      ],
      "source": [
        "import pandas as pd\n",
        "import numpy as np\n",
        "from matplotlib import pyplot as plt \n",
        "\n",
        "\n",
        "df = pd.read_excel ('/content/drive/MyDrive/Colab Notebooks/ML/Вариант 1.xlsx', header=2)\n",
        "arr = df['Балл'].to_numpy()\n",
        "sub_arr = arr[:-1].copy()\n",
        "print (\"Average --> \", sub_arr.mean(),\"\\nMax --> \", sub_arr.max(),\"\\nMin --> \", sub_arr.min(),\"\\nSum --> \", sub_arr.sum(),\"\\nMedian --> \", np.median(sub_arr))"
      ]
    },
    {
      "cell_type": "markdown",
      "source": [
        "Процентное соотношение учеников. Ниже показывается процент тех, кто сдал ниже"
      ],
      "metadata": {
        "id": "FbvjKowJfib-"
      }
    },
    {
      "cell_type": "code",
      "source": [
        "(((sub_arr < sub_arr.mean()).sum())/len(sub_arr))*100"
      ],
      "metadata": {
        "colab": {
          "base_uri": "https://localhost:8080/"
        },
        "id": "K09EFoR9e24i",
        "outputId": "3e3ba80c-c31c-4e12-8a78-7c5719672925"
      },
      "execution_count": null,
      "outputs": [
        {
          "output_type": "execute_result",
          "data": {
            "text/plain": [
              "51.27952755905512"
            ]
          },
          "metadata": {},
          "execution_count": 17
        }
      ]
    },
    {
      "cell_type": "markdown",
      "source": [
        "Те, кто не сдал экз"
      ],
      "metadata": {
        "id": "LUW7fH-Gfz2M"
      }
    },
    {
      "cell_type": "code",
      "source": [
        "(((sub_arr <= 24).sum())/len(sub_arr))*100"
      ],
      "metadata": {
        "colab": {
          "base_uri": "https://localhost:8080/"
        },
        "id": "_Hai5wXCfrQg",
        "outputId": "50e7abd0-ba4b-411b-cfbf-937e3d3b369b"
      },
      "execution_count": null,
      "outputs": [
        {
          "output_type": "execute_result",
          "data": {
            "text/plain": [
              "0.19685039370078738"
            ]
          },
          "metadata": {},
          "execution_count": 18
        }
      ]
    },
    {
      "cell_type": "code",
      "source": [
        "res = [(((sub_arr <= 24).sum())/len(sub_arr))*100, 1-(((sub_arr <= 24).sum())/len(sub_arr))*100]\n",
        "fig1, ax1 = plt.subplots()\n",
        "ax1.pie(res,labels=[\"Не сдали\",\"Сдали\"], autopct='%1.1f%%',\n",
        "        shadow=True, startangle=90)\n",
        "ax1.axis('equal') \n",
        "plt.show()"
      ],
      "metadata": {
        "colab": {
          "base_uri": "https://localhost:8080/",
          "height": 248
        },
        "id": "X2iC4jnxgRST",
        "outputId": "e2add0d8-a338-4c13-a606-ebe7464c8f50"
      },
      "execution_count": null,
      "outputs": [
        {
          "output_type": "display_data",
          "data": {
            "image/png": "[encoded data removed]",
            "text/plain": [
              "<Figure size 432x288 with 1 Axes>"
            ]
          },
          "metadata": {}
        }
      ]
    },
    {
      "cell_type": "code",
      "source": [
        "import seaborn as sns\n",
        "\n",
        "plt.title(\"Ядерная статистика, угагага\", fontsize=23)\n",
        "sns.distplot(sub_arr, color=\"#ff4800\")"
      ],
      "metadata": {
        "colab": {
          "base_uri": "https://localhost:8080/",
          "height": 361
        },
        "id": "9ODu-JEpiDu-",
        "outputId": "e3a325ce-8751-4ce8-de82-5478f690d107"
      },
      "execution_count": null,
      "outputs": [
        {
          "output_type": "stream",
          "name": "stderr",
          "text": [
            "/usr/local/lib/python3.7/dist-packages/seaborn/distributions.py:2619: FutureWarning: `distplot` is a deprecated function and will be removed in a future version. Please adapt your code to use either `displot` (a figure-level function with similar flexibility) or `histplot` (an axes-level function for histograms).\n",
            "  warnings.warn(msg, FutureWarning)\n"
          ]
        },
        {
          "output_type": "execute_result",
          "data": {
            "text/plain": [
              "<matplotlib.axes._subplots.AxesSubplot at 0x7f712f006b10>"
            ]
          },
          "metadata": {},
          "execution_count": 106
        },
        {
          "output_type": "display_data",
          "data": {
            "image/png": "[encoded data removed]",
            "text/plain": [
              "<Figure size 432x288 with 1 Axes>"
            ]
          },
          "metadata": {
            "needs_background": "light"
          }
        }
      ]
    },
    {
      "cell_type": "markdown",
      "source": [
        "3 - 24 б\n",
        "\n",
        "4 - 65 б (ВКЛ)\n",
        "\n",
        "5 - 80 б (вкл)\n",
        "\n",
        "Ето оценки"
      ],
      "metadata": {
        "id": "_3qafAs_jfNg"
      }
    },
    {
      "cell_type": "markdown",
      "source": [
        "Делал на паре все правильно, но получается фигня"
      ],
      "metadata": {
        "id": "SH5s0AQgtHyK"
      }
    },
    {
      "cell_type": "code",
      "source": [
        "res = [(sub_arr < 24).sum()/len(sub_arr),((24 <= sub_arr)&(sub_arr < 65)).sum()/len(sub_arr), ((65 <= sub_arr)&(sub_arr < 80)).sum()/len(sub_arr), (80<=sub_arr).sum()/len(sub_arr)]\n",
        "res"
      ],
      "metadata": {
        "colab": {
          "base_uri": "https://localhost:8080/"
        },
        "id": "y9yvU7oTiyGR",
        "outputId": "13e875c5-7351-4f8e-ea2d-d82bf63a5f5c"
      },
      "execution_count": null,
      "outputs": [
        {
          "output_type": "execute_result",
          "data": {
            "text/plain": [
              "[0.0013123359580052493,\n",
              " 0.25918635170603677,\n",
              " 0.38976377952755903,\n",
              " 0.349737532808399]"
            ]
          },
          "metadata": {},
          "execution_count": 78
        }
      ]
    },
    {
      "cell_type": "code",
      "source": [
        "m_g=df['Пол'].to_numpy()\n",
        "m_g = m_g[:-1].copy()\n",
        "m_g"
      ],
      "metadata": {
        "colab": {
          "base_uri": "https://localhost:8080/"
        },
        "id": "1W3_cjWGvHMq",
        "outputId": "78bde7b9-eccb-49ca-9626-907fd569110c"
      },
      "execution_count": null,
      "outputs": [
        {
          "output_type": "execute_result",
          "data": {
            "text/plain": [
              "array(['М', 'М', 'Ж', ..., 'Ж', 'Ж', 'Ж'], dtype=object)"
            ]
          },
          "metadata": {},
          "execution_count": 67
        }
      ]
    },
    {
      "cell_type": "code",
      "source": [
        "#len(m_g[m_g==\"М\"])+len(m_g[m_g==\"Ж\"])\n",
        "print(((len(m_g[m_g==\"М\"]))/(len(m_g)))*100,\"/\",((len(m_g[m_g==\"Ж\"]))/(len(m_g)))*100)\n",
        "print(\"Соотношение мальчиков к девочкам\")"
      ],
      "metadata": {
        "colab": {
          "base_uri": "https://localhost:8080/"
        },
        "id": "RuhVH1buv6T7",
        "outputId": "19cec46c-6c5a-4dad-b016-506dc0e84754"
      },
      "execution_count": null,
      "outputs": [
        {
          "output_type": "stream",
          "name": "stdout",
          "text": [
            "42.02755905511811 / 57.97244094488189\n"
          ]
        }
      ]
    },
    {
      "cell_type": "code",
      "source": [
        "school=df['№ школы'].to_numpy()\n",
        "school = school[:-1].copy()\n",
        "len(np.unique(school)) # Столько школ принимало участие"
      ],
      "metadata": {
        "colab": {
          "base_uri": "https://localhost:8080/"
        },
        "id": "5emdzRTJ0oCa",
        "outputId": "d178be5a-303e-42b5-9d84-e8c081e22e10"
      },
      "execution_count": null,
      "outputs": [
        {
          "output_type": "execute_result",
          "data": {
            "text/plain": [
              "24"
            ]
          },
          "metadata": {},
          "execution_count": 77
        }
      ]
    },
    {
      "cell_type": "markdown",
      "source": [
        "ДОПЫ"
      ],
      "metadata": {
        "id": "rfQlmqUV2A63"
      }
    },
    {
      "cell_type": "markdown",
      "source": [
        "Сколько всего заданий с кратким ответом? С развернутым ответом?"
      ],
      "metadata": {
        "id": "OpQIBk2m1rEj"
      }
    },
    {
      "cell_type": "code",
      "source": [
        "arr3 = df['Задания с кратким ответом'].to_numpy()\n",
        "sub_arr3 = arr3[:-1].copy()"
      ],
      "metadata": {
        "id": "RDUgTVec1g4G"
      },
      "execution_count": null,
      "outputs": []
    },
    {
      "cell_type": "code",
      "source": [
        "len(np.unique(sub_arr3))"
      ],
      "metadata": {
        "id": "Ft2-DngJ2SLd"
      },
      "execution_count": null,
      "outputs": []
    },
    {
      "cell_type": "code",
      "source": [
        "len(sub_arr3[0])"
      ],
      "metadata": {
        "id": "xh9hsNo-2V-D"
      },
      "execution_count": null,
      "outputs": []
    },
    {
      "cell_type": "markdown",
      "source": [
        "по этой в варианте"
      ],
      "metadata": {
        "id": "W9VdtcIm2_Bv"
      }
    },
    {
      "cell_type": "markdown",
      "source": [
        "Пусть задания с кратким ответом будут задания типа В. Соответственно всего по экзамену вопросов класса В: В 1 … В к Посчитайте процент выполненных и невыполненных заданий по каждому вопросу класса В."
      ],
      "metadata": {
        "id": "pjaTza793CCO"
      }
    },
    {
      "cell_type": "code",
      "source": [
        "f = 0\n",
        "for i in sub_arr3:\n",
        "  for j in sub_arr3:\n",
        "    if (sub_arr3[i][j] == '-'):\n",
        "      f = f+1"
      ],
      "metadata": {
        "id": "AxCA9r1C37py"
      },
      "execution_count": null,
      "outputs": []
    },
    {
      "cell_type": "markdown",
      "source": [
        "Контрольные вопросы"
      ],
      "metadata": {
        "id": "5HzJB5se6LqY"
      }
    },
    {
      "cell_type": "markdown",
      "source": [
        "1) С помощью ndarray или shape (пример ниже)"
      ],
      "metadata": {
        "id": "959oocnN6Oqq"
      }
    },
    {
      "cell_type": "code",
      "source": [
        "r=np.zeros((3, 5))\n",
        "r.shape"
      ],
      "metadata": {
        "colab": {
          "base_uri": "https://localhost:8080/"
        },
        "id": "qV8I6DjK6N_H",
        "outputId": "9dd08ca0-3239-490c-e0e3-99fbf8557de2"
      },
      "execution_count": null,
      "outputs": [
        {
          "output_type": "execute_result",
          "data": {
            "text/plain": [
              "(3, 5)"
            ]
          },
          "metadata": {},
          "execution_count": 81
        }
      ]
    },
    {
      "cell_type": "code",
      "source": [
        "#2\n",
        "ar =np.array([1, 2, 3, 4])\n",
        "print(type(ar))"
      ],
      "metadata": {
        "colab": {
          "base_uri": "https://localhost:8080/"
        },
        "id": "2moUPMW56632",
        "outputId": "04a30f56-6035-4192-90a4-cf7e50a372c3"
      },
      "execution_count": null,
      "outputs": [
        {
          "output_type": "stream",
          "name": "stdout",
          "text": [
            "<class 'numpy.ndarray'>\n"
          ]
        }
      ]
    },
    {
      "cell_type": "code",
      "source": [
        "np.zeros((4, 4))"
      ],
      "metadata": {
        "colab": {
          "base_uri": "https://localhost:8080/"
        },
        "id": "bNKHSh9f7llw",
        "outputId": "0bebd9c0-5185-45ed-85cf-00f957126f10"
      },
      "execution_count": null,
      "outputs": [
        {
          "output_type": "execute_result",
          "data": {
            "text/plain": [
              "array([[0., 0., 0., 0.],\n",
              "       [0., 0., 0., 0.],\n",
              "       [0., 0., 0., 0.],\n",
              "       [0., 0., 0., 0.]])"
            ]
          },
          "metadata": {},
          "execution_count": 83
        }
      ]
    },
    {
      "cell_type": "code",
      "source": [
        "np.eye(3,4)"
      ],
      "metadata": {
        "colab": {
          "base_uri": "https://localhost:8080/"
        },
        "id": "ZX5k6vva7yDM",
        "outputId": "7efce566-6ff3-4c0d-8df8-380af5b439b5"
      },
      "execution_count": null,
      "outputs": [
        {
          "output_type": "execute_result",
          "data": {
            "text/plain": [
              "array([[1., 0., 0., 0.],\n",
              "       [0., 1., 0., 0.],\n",
              "       [0., 0., 1., 0.]])"
            ]
          },
          "metadata": {},
          "execution_count": 85
        }
      ]
    },
    {
      "cell_type": "markdown",
      "source": [
        "3 вида\n",
        "multiply \n",
        "matmul \n",
        "dot"
      ],
      "metadata": {
        "id": "KU73MoBF84qX"
      }
    },
    {
      "cell_type": "code",
      "source": [
        "kar=np.linspace(0, 100, 50)\n",
        "cou=0\n",
        "for i in range(0,len(kar),1):\n",
        "  if(i>=10 and i<=45):\n",
        "    cou+=1\n",
        "    if (cou==3):\n",
        "      print(i)\n",
        "      print(kar[i])\n",
        "      cou=0"
      ],
      "metadata": {
        "colab": {
          "base_uri": "https://localhost:8080/"
        },
        "id": "CCdMQ_UD88F2",
        "outputId": "69bd5938-d9fa-4623-af0f-29bb47704476"
      },
      "execution_count": null,
      "outputs": [
        {
          "output_type": "stream",
          "name": "stdout",
          "text": [
            "12\n",
            "24.48979591836735\n",
            "15\n",
            "30.612244897959183\n",
            "18\n",
            "36.734693877551024\n",
            "21\n",
            "42.85714285714286\n",
            "24\n",
            "48.9795918367347\n",
            "27\n",
            "55.10204081632653\n",
            "30\n",
            "61.224489795918366\n",
            "33\n",
            "67.34693877551021\n",
            "36\n",
            "73.46938775510205\n",
            "39\n",
            "79.59183673469389\n",
            "42\n",
            "85.71428571428572\n",
            "45\n",
            "91.83673469387756\n"
          ]
        }
      ]
    },
    {
      "cell_type": "code",
      "source": [
        "kar=np.linspace(0, 100, 12)\n",
        "kar.reshape(3,4)"
      ],
      "metadata": {
        "colab": {
          "base_uri": "https://localhost:8080/"
        },
        "id": "CUn2S0Bp__20",
        "outputId": "206541de-ed08-4307-d817-4de7a4cbec4b"
      },
      "execution_count": null,
      "outputs": [
        {
          "output_type": "execute_result",
          "data": {
            "text/plain": [
              "array([[  0.        ,   9.09090909,  18.18181818,  27.27272727],\n",
              "       [ 36.36363636,  45.45454545,  54.54545455,  63.63636364],\n",
              "       [ 72.72727273,  81.81818182,  90.90909091, 100.        ]])"
            ]
          },
          "metadata": {},
          "execution_count": 96
        }
      ]
    }
  ]
}