{
  "nbformat": 4,
  "nbformat_minor": 0,
  "metadata": {
    "colab": {
      "provenance": [],
      "authorship_tag": "ABX9TyM/aVQ6Vkeqvi0NjdcJ1w8G"
    },
    "kernelspec": {
      "name": "python3",
      "display_name": "Python 3"
    },
    "language_info": {
      "name": "python"
    }
  },
  "cells": [
    {
      "cell_type": "code",
      "execution_count": null,
      "metadata": {
        "id": "Ohr8SVwTY3B3"
      },
      "outputs": [],
      "source": [
        "import numpy as np"
      ]
    },
    {
      "cell_type": "code",
      "source": [
        "X = np.array([1,2,3,4], dtype=np.float32)\n",
        "Y = np.array([2,4,6,8], dtype=np.float32)\n",
        "\n",
        "w=0.0\n"
      ],
      "metadata": {
        "id": "f6_--EBoblx_"
      },
      "execution_count": null,
      "outputs": []
    },
    {
      "cell_type": "code",
      "source": [
        "#model prediction\n",
        "def forward(x):\n",
        "  return w*x"
      ],
      "metadata": {
        "id": "Lv-gK2XkdeNm"
      },
      "execution_count": null,
      "outputs": []
    },
    {
      "cell_type": "code",
      "source": [
        "#loss = MSE\n",
        "#MSE = 1/N * (w*x - y)**2\n",
        "# dJ/dw = 1/N 2x (w*x - y)\n",
        "def loss(y, y_pred):\n",
        "  return ((y_pred-y)**2).mean()"
      ],
      "metadata": {
        "id": "5ZT4-xGhdkCv"
      },
      "execution_count": null,
      "outputs": []
    },
    {
      "cell_type": "code",
      "source": [
        "#gradient\n",
        "def gradient(x,y,y_pred):\n",
        "  return (np.dot(2*x, y_pred-y).mean())"
      ],
      "metadata": {
        "id": "gR_HLqxIdlnm"
      },
      "execution_count": null,
      "outputs": []
    },
    {
      "cell_type": "code",
      "source": [
        "print(f\"prediction before trainin' f(5) = {forward(5):.3f}\")\n",
        "\n",
        "#training\n",
        "learning_rate = 0.001\n",
        "n_iters = 10\n",
        "for epoch in range(n_iters):\n",
        "  #prediction = forward pass\n",
        "  y_pred = forward(X)\n",
        "\n",
        "  l = loss(Y, y_pred)\n",
        "\n",
        "  #gradients\n",
        "  dw = gradient(X,Y,y_pred)\n",
        "\n",
        "  #update weights\n",
        "  w-= learning_rate * dw\n",
        "\n",
        "  if (epoch%3==0):\n",
        "    print(f\"epoch {epoch+1}: w = {w:.3f}, loss = {l:.8f}\")\n",
        "\n",
        "print(f'prediction after training f(5) = {forward(5):.3f}')"
      ],
      "metadata": {
        "colab": {
          "base_uri": "https://localhost:8080/"
        },
        "id": "DfVEFiCjeqb4",
        "outputId": "23ebe773-e52a-4e3c-e8f1-abf3356ef9a9"
      },
      "execution_count": null,
      "outputs": [
        {
          "output_type": "stream",
          "name": "stdout",
          "text": [
            "prediction before trainin' f(5) = 0.000\n",
            "-120.0\n",
            "epoch 1: w = 0.120, loss = 30.00000000\n",
            "-112.8\n",
            "-106.032\n",
            "-99.67008\n",
            "epoch 4: w = 0.439, loss = 20.69609451\n",
            "-93.68988\n",
            "-88.06848\n",
            "-82.78437\n",
            "epoch 7: w = 0.703, loss = 14.27760887\n",
            "-77.81731\n",
            "-73.14828\n",
            "-68.75938\n",
            "epoch 10: w = 0.923, loss = 9.84969139\n",
            "prediction after training f(5) = 4.614\n"
          ]
        }
      ]
    },
    {
      "cell_type": "code",
      "source": [
        "import torch\n"
      ],
      "metadata": {
        "id": "1bM8KozBhnH1"
      },
      "execution_count": null,
      "outputs": []
    },
    {
      "cell_type": "code",
      "source": [
        "X = torch.tensor([1,2,3,4], dtype=torch.float32)\n",
        "Y = torch.tensor([2,4,6,8], dtype=torch.float32)\n",
        "w=torch.tensor(0.0, dtype=torch.float32, requires_grad=True)"
      ],
      "metadata": {
        "id": "Uck1CB_BkNGA"
      },
      "execution_count": null,
      "outputs": []
    },
    {
      "cell_type": "code",
      "source": [
        "#model prediction\n",
        "def forward(x):\n",
        "  return w*x"
      ],
      "metadata": {
        "id": "8eprKcqBkPXP"
      },
      "execution_count": null,
      "outputs": []
    },
    {
      "cell_type": "code",
      "source": [
        "def loss(y, y_pred):\n",
        "  return ((y_pred-y)**2).mean()"
      ],
      "metadata": {
        "id": "YEPHhdN3kSKn"
      },
      "execution_count": null,
      "outputs": []
    },
    {
      "cell_type": "code",
      "source": [
        "print(f\"prediction before trainin' f(5) = {forward(5):.3f}\")\n",
        "\n",
        "#training\n",
        "learning_rate = 0.001\n",
        "n_iters = 10\n",
        "for epoch in range(n_iters):\n",
        "  #prediction = forward pass\n",
        "  y_pred = forward(X)\n",
        "\n",
        "  l = loss(Y, y_pred)\n",
        "\n",
        "  #gradients = backward\n",
        "  l.backward() #dl/dw\n",
        "\n",
        "  #update weights\n",
        "  with torch.no_grad():\n",
        "    w-= learning_rate * w.grad\n",
        "\n",
        "  w.grad.zero_()\n",
        "\n",
        "  if (epoch%3==0):\n",
        "    print(f\"epoch {epoch+1}: w = {w:.3f}, loss = {l:.8f}\")\n",
        "\n",
        "print(f'prediction after training f(5) = {forward(5):.3f}')"
      ],
      "metadata": {
        "colab": {
          "base_uri": "https://localhost:8080/"
        },
        "id": "K0AhhX86krtX",
        "outputId": "3b7b55ce-66d7-4e95-8a60-7781e5bbd2ca"
      },
      "execution_count": null,
      "outputs": [
        {
          "output_type": "stream",
          "name": "stdout",
          "text": [
            "prediction before trainin' f(5) = 0.000\n",
            "epoch 1: w = 0.060, loss = 30.00000000\n",
            "epoch 4: w = 0.146, loss = 26.57110596\n",
            "epoch 7: w = 0.228, loss = 24.26760864\n",
            "epoch 10: w = 0.307, loss = 22.16380882\n",
            "prediction after training f(5) = 1.534\n"
          ]
        }
      ]
    },
    {
      "cell_type": "code",
      "source": [],
      "metadata": {
        "id": "CqS0mI1pllkd"
      },
      "execution_count": null,
      "outputs": []
    }
  ]
}