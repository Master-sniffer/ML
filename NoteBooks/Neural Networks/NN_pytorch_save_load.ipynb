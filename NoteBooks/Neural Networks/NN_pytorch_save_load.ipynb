{
 "cells": [
  {
   "cell_type": "code",
   "execution_count": 1,
   "id": "90c27c91",
   "metadata": {
    "execution": {
     "iopub.execute_input": "2022-12-29T22:18:01.825084Z",
     "iopub.status.busy": "2022-12-29T22:18:01.824117Z",
     "iopub.status.idle": "2022-12-29T22:18:03.636860Z",
     "shell.execute_reply": "2022-12-29T22:18:03.635999Z"
    },
    "papermill": {
     "duration": 1.825077,
     "end_time": "2022-12-29T22:18:03.639609",
     "exception": false,
     "start_time": "2022-12-29T22:18:01.814532",
     "status": "completed"
    },
    "tags": []
   },
   "outputs": [],
   "source": [
    "import torch\n",
    "import torch.nn as nn"
   ]
  },
  {
   "cell_type": "code",
   "execution_count": 2,
   "id": "4950b258",
   "metadata": {
    "execution": {
     "iopub.execute_input": "2022-12-29T22:18:03.654848Z",
     "iopub.status.busy": "2022-12-29T22:18:03.653515Z",
     "iopub.status.idle": "2022-12-29T22:18:03.666183Z",
     "shell.execute_reply": "2022-12-29T22:18:03.665144Z"
    },
    "papermill": {
     "duration": 0.023026,
     "end_time": "2022-12-29T22:18:03.668813",
     "exception": false,
     "start_time": "2022-12-29T22:18:03.645787",
     "status": "completed"
    },
    "tags": []
   },
   "outputs": [],
   "source": [
    "class Model(nn.Module):\n",
    "    def __init__(self, n_input_features):\n",
    "        super(Model, self).__init__()\n",
    "        self.linear = nn.Linear(n_input_features, 1)\n",
    "\n",
    "    def forward(self, x):\n",
    "        y_pred = torch.sigmoid(self.linear(x))\n",
    "        return y_pred\n",
    "\n",
    "model = Model(n_input_features=6)"
   ]
  },
  {
   "cell_type": "code",
   "execution_count": 3,
   "id": "c8c2bb97",
   "metadata": {
    "execution": {
     "iopub.execute_input": "2022-12-29T22:18:03.683781Z",
     "iopub.status.busy": "2022-12-29T22:18:03.682198Z",
     "iopub.status.idle": "2022-12-29T22:18:03.690311Z",
     "shell.execute_reply": "2022-12-29T22:18:03.689532Z"
    },
    "papermill": {
     "duration": 0.017669,
     "end_time": "2022-12-29T22:18:03.692623",
     "exception": false,
     "start_time": "2022-12-29T22:18:03.674954",
     "status": "completed"
    },
    "tags": []
   },
   "outputs": [],
   "source": [
    "FILE = \"model.pth\"\n",
    "torch.save(model, FILE)"
   ]
  },
  {
   "cell_type": "code",
   "execution_count": 4,
   "id": "0f81dc6b",
   "metadata": {
    "execution": {
     "iopub.execute_input": "2022-12-29T22:18:03.706497Z",
     "iopub.status.busy": "2022-12-29T22:18:03.706112Z",
     "iopub.status.idle": "2022-12-29T22:18:03.716075Z",
     "shell.execute_reply": "2022-12-29T22:18:03.714969Z"
    },
    "papermill": {
     "duration": 0.020087,
     "end_time": "2022-12-29T22:18:03.718761",
     "exception": false,
     "start_time": "2022-12-29T22:18:03.698674",
     "status": "completed"
    },
    "tags": []
   },
   "outputs": [
    {
     "data": {
      "text/plain": [
       "Model(\n",
       "  (linear): Linear(in_features=6, out_features=1, bias=True)\n",
       ")"
      ]
     },
     "execution_count": 4,
     "metadata": {},
     "output_type": "execute_result"
    }
   ],
   "source": [
    "model = torch.load(FILE)\n",
    "model.eval()"
   ]
  },
  {
   "cell_type": "code",
   "execution_count": 5,
   "id": "66256dae",
   "metadata": {
    "execution": {
     "iopub.execute_input": "2022-12-29T22:18:03.732758Z",
     "iopub.status.busy": "2022-12-29T22:18:03.732398Z",
     "iopub.status.idle": "2022-12-29T22:18:03.740219Z",
     "shell.execute_reply": "2022-12-29T22:18:03.738363Z"
    },
    "papermill": {
     "duration": 0.018427,
     "end_time": "2022-12-29T22:18:03.743418",
     "exception": false,
     "start_time": "2022-12-29T22:18:03.724991",
     "status": "completed"
    },
    "tags": []
   },
   "outputs": [
    {
     "name": "stdout",
     "output_type": "stream",
     "text": [
      "Parameter containing:\n",
      "tensor([[-0.2840,  0.2932, -0.3852, -0.0927,  0.3099,  0.3473]],\n",
      "       requires_grad=True)\n",
      "Parameter containing:\n",
      "tensor([0.2393], requires_grad=True)\n"
     ]
    }
   ],
   "source": [
    "for param in model.parameters():\n",
    "    print(param)"
   ]
  },
  {
   "cell_type": "markdown",
   "id": "a4e34db4",
   "metadata": {
    "papermill": {
     "duration": 0.005662,
     "end_time": "2022-12-29T22:18:03.755487",
     "exception": false,
     "start_time": "2022-12-29T22:18:03.749825",
     "status": "completed"
    },
    "tags": []
   },
   "source": [
    "# Another way"
   ]
  },
  {
   "cell_type": "code",
   "execution_count": 6,
   "id": "4a86895d",
   "metadata": {
    "execution": {
     "iopub.execute_input": "2022-12-29T22:18:03.769092Z",
     "iopub.status.busy": "2022-12-29T22:18:03.768668Z",
     "iopub.status.idle": "2022-12-29T22:18:03.774188Z",
     "shell.execute_reply": "2022-12-29T22:18:03.773018Z"
    },
    "papermill": {
     "duration": 0.014888,
     "end_time": "2022-12-29T22:18:03.776323",
     "exception": false,
     "start_time": "2022-12-29T22:18:03.761435",
     "status": "completed"
    },
    "tags": []
   },
   "outputs": [],
   "source": [
    "import os \n",
    "os.remove(\"/kaggle/working/model.pth\")"
   ]
  },
  {
   "cell_type": "code",
   "execution_count": 7,
   "id": "8aba596a",
   "metadata": {
    "execution": {
     "iopub.execute_input": "2022-12-29T22:18:03.792032Z",
     "iopub.status.busy": "2022-12-29T22:18:03.791616Z",
     "iopub.status.idle": "2022-12-29T22:18:03.798877Z",
     "shell.execute_reply": "2022-12-29T22:18:03.797740Z"
    },
    "papermill": {
     "duration": 0.018413,
     "end_time": "2022-12-29T22:18:03.801071",
     "exception": false,
     "start_time": "2022-12-29T22:18:03.782658",
     "status": "completed"
    },
    "tags": []
   },
   "outputs": [],
   "source": [
    "class Model(nn.Module):\n",
    "    def __init__(self, n_input_features):\n",
    "        super(Model, self).__init__()\n",
    "        self.linear = nn.Linear(n_input_features, 1)\n",
    "\n",
    "    def forward(self, x):\n",
    "        y_pred = torch.sigmoid(self.linear(x))\n",
    "        return y_pred\n",
    "\n",
    "model = Model(n_input_features=6)"
   ]
  },
  {
   "cell_type": "code",
   "execution_count": 8,
   "id": "8a4c1922",
   "metadata": {
    "execution": {
     "iopub.execute_input": "2022-12-29T22:18:03.815015Z",
     "iopub.status.busy": "2022-12-29T22:18:03.814621Z",
     "iopub.status.idle": "2022-12-29T22:18:03.820089Z",
     "shell.execute_reply": "2022-12-29T22:18:03.819015Z"
    },
    "papermill": {
     "duration": 0.015152,
     "end_time": "2022-12-29T22:18:03.822310",
     "exception": false,
     "start_time": "2022-12-29T22:18:03.807158",
     "status": "completed"
    },
    "tags": []
   },
   "outputs": [],
   "source": [
    "FILE = \"model.pth\"\n",
    "torch.save(model.state_dict(), FILE)"
   ]
  },
  {
   "cell_type": "code",
   "execution_count": 9,
   "id": "74519a3f",
   "metadata": {
    "execution": {
     "iopub.execute_input": "2022-12-29T22:18:03.836164Z",
     "iopub.status.busy": "2022-12-29T22:18:03.835776Z",
     "iopub.status.idle": "2022-12-29T22:18:03.844007Z",
     "shell.execute_reply": "2022-12-29T22:18:03.843035Z"
    },
    "papermill": {
     "duration": 0.01764,
     "end_time": "2022-12-29T22:18:03.846206",
     "exception": false,
     "start_time": "2022-12-29T22:18:03.828566",
     "status": "completed"
    },
    "tags": []
   },
   "outputs": [
    {
     "data": {
      "text/plain": [
       "Model(\n",
       "  (linear): Linear(in_features=6, out_features=1, bias=True)\n",
       ")"
      ]
     },
     "execution_count": 9,
     "metadata": {},
     "output_type": "execute_result"
    }
   ],
   "source": [
    "loaded_model = Model(n_input_features=6)\n",
    "loaded_model.load_state_dict(torch.load(FILE))\n",
    "loaded_model.eval()"
   ]
  },
  {
   "cell_type": "code",
   "execution_count": 10,
   "id": "e53315a8",
   "metadata": {
    "execution": {
     "iopub.execute_input": "2022-12-29T22:18:03.860549Z",
     "iopub.status.busy": "2022-12-29T22:18:03.860192Z",
     "iopub.status.idle": "2022-12-29T22:18:03.867013Z",
     "shell.execute_reply": "2022-12-29T22:18:03.865658Z"
    },
    "papermill": {
     "duration": 0.01738,
     "end_time": "2022-12-29T22:18:03.869845",
     "exception": false,
     "start_time": "2022-12-29T22:18:03.852465",
     "status": "completed"
    },
    "tags": []
   },
   "outputs": [
    {
     "name": "stdout",
     "output_type": "stream",
     "text": [
      "Parameter containing:\n",
      "tensor([[ 0.3499,  0.2772,  0.2277,  0.1958,  0.2954, -0.3927]],\n",
      "       requires_grad=True)\n",
      "Parameter containing:\n",
      "tensor([-0.2384], requires_grad=True)\n"
     ]
    }
   ],
   "source": [
    "for param in loaded_model.parameters():\n",
    "    print(param)"
   ]
  },
  {
   "cell_type": "markdown",
   "id": "34b8051d",
   "metadata": {
    "papermill": {
     "duration": 0.005922,
     "end_time": "2022-12-29T22:18:03.882131",
     "exception": false,
     "start_time": "2022-12-29T22:18:03.876209",
     "status": "completed"
    },
    "tags": []
   },
   "source": [
    "# Saving during training MB"
   ]
  },
  {
   "cell_type": "code",
   "execution_count": 11,
   "id": "6a98396b",
   "metadata": {
    "execution": {
     "iopub.execute_input": "2022-12-29T22:18:03.897205Z",
     "iopub.status.busy": "2022-12-29T22:18:03.896820Z",
     "iopub.status.idle": "2022-12-29T22:18:03.901246Z",
     "shell.execute_reply": "2022-12-29T22:18:03.900020Z"
    },
    "papermill": {
     "duration": 0.014238,
     "end_time": "2022-12-29T22:18:03.903303",
     "exception": false,
     "start_time": "2022-12-29T22:18:03.889065",
     "status": "completed"
    },
    "tags": []
   },
   "outputs": [],
   "source": [
    "import os \n",
    "#os.remove(\"/kaggle/working/checkpoint.pth\")"
   ]
  },
  {
   "cell_type": "code",
   "execution_count": 12,
   "id": "3c72585d",
   "metadata": {
    "execution": {
     "iopub.execute_input": "2022-12-29T22:18:03.917496Z",
     "iopub.status.busy": "2022-12-29T22:18:03.917113Z",
     "iopub.status.idle": "2022-12-29T22:18:03.923804Z",
     "shell.execute_reply": "2022-12-29T22:18:03.922838Z"
    },
    "papermill": {
     "duration": 0.016418,
     "end_time": "2022-12-29T22:18:03.925941",
     "exception": false,
     "start_time": "2022-12-29T22:18:03.909523",
     "status": "completed"
    },
    "tags": []
   },
   "outputs": [],
   "source": [
    "class Model(nn.Module):\n",
    "    def __init__(self, n_input_features):\n",
    "        super(Model, self).__init__()\n",
    "        self.linear = nn.Linear(n_input_features, 1)\n",
    "\n",
    "    def forward(self, x):\n",
    "        y_pred = torch.sigmoid(self.linear(x))\n",
    "        return y_pred\n",
    "\n",
    "model = Model(n_input_features=6)"
   ]
  },
  {
   "cell_type": "code",
   "execution_count": 13,
   "id": "501c84d1",
   "metadata": {
    "execution": {
     "iopub.execute_input": "2022-12-29T22:18:03.940916Z",
     "iopub.status.busy": "2022-12-29T22:18:03.940194Z",
     "iopub.status.idle": "2022-12-29T22:18:03.946358Z",
     "shell.execute_reply": "2022-12-29T22:18:03.945100Z"
    },
    "papermill": {
     "duration": 0.016232,
     "end_time": "2022-12-29T22:18:03.948626",
     "exception": false,
     "start_time": "2022-12-29T22:18:03.932394",
     "status": "completed"
    },
    "tags": []
   },
   "outputs": [
    {
     "name": "stdout",
     "output_type": "stream",
     "text": [
      "{'state': {}, 'param_groups': [{'lr': 0.01, 'momentum': 0, 'dampening': 0, 'weight_decay': 0, 'nesterov': False, 'maximize': False, 'params': [0, 1]}]}\n"
     ]
    }
   ],
   "source": [
    "learning_rate =0.01\n",
    "optimizer = torch.optim.SGD(model.parameters(),lr=learning_rate)\n",
    "print(optimizer.state_dict())"
   ]
  },
  {
   "cell_type": "code",
   "execution_count": 14,
   "id": "e6cab417",
   "metadata": {
    "execution": {
     "iopub.execute_input": "2022-12-29T22:18:03.962986Z",
     "iopub.status.busy": "2022-12-29T22:18:03.962566Z",
     "iopub.status.idle": "2022-12-29T22:18:03.969057Z",
     "shell.execute_reply": "2022-12-29T22:18:03.967754Z"
    },
    "papermill": {
     "duration": 0.01633,
     "end_time": "2022-12-29T22:18:03.971354",
     "exception": false,
     "start_time": "2022-12-29T22:18:03.955024",
     "status": "completed"
    },
    "tags": []
   },
   "outputs": [],
   "source": [
    "checkpoint = {\n",
    "    \"epoch\": 90,\n",
    "    \"model_state\":model.state_dict(),\n",
    "    \"optim_state\":optimizer.state_dict() \n",
    "}\n",
    "\n",
    "torch.save(checkpoint, \"checkpoint.pth\")"
   ]
  },
  {
   "cell_type": "code",
   "execution_count": 15,
   "id": "edf6cd84",
   "metadata": {
    "execution": {
     "iopub.execute_input": "2022-12-29T22:18:03.985870Z",
     "iopub.status.busy": "2022-12-29T22:18:03.985493Z",
     "iopub.status.idle": "2022-12-29T22:18:03.992231Z",
     "shell.execute_reply": "2022-12-29T22:18:03.991438Z"
    },
    "papermill": {
     "duration": 0.016362,
     "end_time": "2022-12-29T22:18:03.994250",
     "exception": false,
     "start_time": "2022-12-29T22:18:03.977888",
     "status": "completed"
    },
    "tags": []
   },
   "outputs": [],
   "source": [
    "#Load checkpoint\n",
    "loaded_checkpoint = torch.load(\"checkpoint.pth\")\n",
    "epoch = loaded_checkpoint[\"epoch\"]\n",
    "\n",
    "model = Model(n_input_features=6)\n",
    "optimizer = torch.optim.SGD(model.parameters(),lr=0)"
   ]
  },
  {
   "cell_type": "code",
   "execution_count": 16,
   "id": "6ebcac07",
   "metadata": {
    "execution": {
     "iopub.execute_input": "2022-12-29T22:18:04.009224Z",
     "iopub.status.busy": "2022-12-29T22:18:04.008243Z",
     "iopub.status.idle": "2022-12-29T22:18:04.017009Z",
     "shell.execute_reply": "2022-12-29T22:18:04.016043Z"
    },
    "papermill": {
     "duration": 0.018626,
     "end_time": "2022-12-29T22:18:04.019250",
     "exception": false,
     "start_time": "2022-12-29T22:18:04.000624",
     "status": "completed"
    },
    "tags": []
   },
   "outputs": [
    {
     "data": {
      "text/plain": [
       "{'state': {},\n",
       " 'param_groups': [{'lr': 0.01,\n",
       "   'momentum': 0,\n",
       "   'dampening': 0,\n",
       "   'weight_decay': 0,\n",
       "   'nesterov': False,\n",
       "   'maximize': False,\n",
       "   'params': [0, 1]}]}"
      ]
     },
     "execution_count": 16,
     "metadata": {},
     "output_type": "execute_result"
    }
   ],
   "source": [
    "model.load_state_dict(checkpoint[\"model_state\"])\n",
    "optimizer.load_state_dict(checkpoint[\"optim_state\"])\n",
    "\n",
    "optimizer.state_dict()"
   ]
  },
  {
   "cell_type": "markdown",
   "id": "d0e7dedb",
   "metadata": {
    "papermill": {
     "duration": 0.006224,
     "end_time": "2022-12-29T22:18:04.031971",
     "exception": false,
     "start_time": "2022-12-29T22:18:04.025747",
     "status": "completed"
    },
    "tags": []
   },
   "source": [
    "# How to do it on GPU"
   ]
  },
  {
   "cell_type": "code",
   "execution_count": 17,
   "id": "65969dec",
   "metadata": {
    "execution": {
     "iopub.execute_input": "2022-12-29T22:18:04.046295Z",
     "iopub.status.busy": "2022-12-29T22:18:04.045898Z",
     "iopub.status.idle": "2022-12-29T22:18:04.052948Z",
     "shell.execute_reply": "2022-12-29T22:18:04.051919Z"
    },
    "papermill": {
     "duration": 0.016956,
     "end_time": "2022-12-29T22:18:04.055232",
     "exception": false,
     "start_time": "2022-12-29T22:18:04.038276",
     "status": "completed"
    },
    "tags": []
   },
   "outputs": [
    {
     "data": {
      "text/plain": [
       "'\\ndevice = torch.device(\"cuda\")\\nmodel.to(device)\\ntorch.save(model.state_dict(), PATH)\\n'"
      ]
     },
     "execution_count": 17,
     "metadata": {},
     "output_type": "execute_result"
    }
   ],
   "source": [
    "# 1) Save on GPU, Load on CPU\n",
    "\n",
    "\"\"\"\n",
    "device = torch.device(\"cuda\")\n",
    "model.to(device)\n",
    "torch.save(model.state_dict(), PATH)\n",
    "\"\"\""
   ]
  },
  {
   "cell_type": "code",
   "execution_count": 18,
   "id": "8c1c9112",
   "metadata": {
    "execution": {
     "iopub.execute_input": "2022-12-29T22:18:04.070385Z",
     "iopub.status.busy": "2022-12-29T22:18:04.069965Z",
     "iopub.status.idle": "2022-12-29T22:18:04.076137Z",
     "shell.execute_reply": "2022-12-29T22:18:04.075014Z"
    },
    "papermill": {
     "duration": 0.016472,
     "end_time": "2022-12-29T22:18:04.078330",
     "exception": false,
     "start_time": "2022-12-29T22:18:04.061858",
     "status": "completed"
    },
    "tags": []
   },
   "outputs": [
    {
     "data": {
      "text/plain": [
       "\"\\ndevice = torch.device('cpu')\\nmodel = Model(*args, **kwargs)\\nmodel.load_state_dict(torch.load(PATH, map_location=device))\\n\""
      ]
     },
     "execution_count": 18,
     "metadata": {},
     "output_type": "execute_result"
    }
   ],
   "source": [
    "\n",
    "\"\"\"\n",
    "device = torch.device('cpu')\n",
    "model = Model(*args, **kwargs)\n",
    "model.load_state_dict(torch.load(PATH, map_location=device))\n",
    "\"\"\""
   ]
  },
  {
   "cell_type": "code",
   "execution_count": 19,
   "id": "e812df6e",
   "metadata": {
    "execution": {
     "iopub.execute_input": "2022-12-29T22:18:04.094722Z",
     "iopub.status.busy": "2022-12-29T22:18:04.094060Z",
     "iopub.status.idle": "2022-12-29T22:18:04.100732Z",
     "shell.execute_reply": "2022-12-29T22:18:04.099819Z"
    },
    "papermill": {
     "duration": 0.017902,
     "end_time": "2022-12-29T22:18:04.102932",
     "exception": false,
     "start_time": "2022-12-29T22:18:04.085030",
     "status": "completed"
    },
    "tags": []
   },
   "outputs": [
    {
     "data": {
      "text/plain": [
       "'\\ndevice = torch.device(\"cuda\")\\nmodel.to(device)\\ntorch.save(model.state_dict(), PATH)\\n'"
      ]
     },
     "execution_count": 19,
     "metadata": {},
     "output_type": "execute_result"
    }
   ],
   "source": [
    "# 2) Save on GPU, Load on GPU\n",
    "\n",
    "\"\"\"\n",
    "device = torch.device(\"cuda\")\n",
    "model.to(device)\n",
    "torch.save(model.state_dict(), PATH)\n",
    "\"\"\""
   ]
  },
  {
   "cell_type": "code",
   "execution_count": 20,
   "id": "49c5e5fd",
   "metadata": {
    "execution": {
     "iopub.execute_input": "2022-12-29T22:18:04.118564Z",
     "iopub.status.busy": "2022-12-29T22:18:04.117948Z",
     "iopub.status.idle": "2022-12-29T22:18:04.123117Z",
     "shell.execute_reply": "2022-12-29T22:18:04.122349Z"
    },
    "papermill": {
     "duration": 0.015355,
     "end_time": "2022-12-29T22:18:04.125067",
     "exception": false,
     "start_time": "2022-12-29T22:18:04.109712",
     "status": "completed"
    },
    "tags": []
   },
   "outputs": [
    {
     "data": {
      "text/plain": [
       "\"\\nmodel = Model(*args, **kwargs)\\nmodel.load_state_dict(torch.load(PATH))\\nmodel.to(device)\\n\\n# Note: Be sure to use the .to(torch.device('cuda')) function \\n# on all model inputs, too!\\n\""
      ]
     },
     "execution_count": 20,
     "metadata": {},
     "output_type": "execute_result"
    }
   ],
   "source": [
    "\"\"\"\n",
    "model = Model(*args, **kwargs)\n",
    "model.load_state_dict(torch.load(PATH))\n",
    "model.to(device)\n",
    "\n",
    "# Note: Be sure to use the .to(torch.device('cuda')) function \n",
    "# on all model inputs, too!\n",
    "\"\"\""
   ]
  },
  {
   "cell_type": "code",
   "execution_count": 21,
   "id": "928210b1",
   "metadata": {
    "execution": {
     "iopub.execute_input": "2022-12-29T22:18:04.141024Z",
     "iopub.status.busy": "2022-12-29T22:18:04.140579Z",
     "iopub.status.idle": "2022-12-29T22:18:04.147211Z",
     "shell.execute_reply": "2022-12-29T22:18:04.145941Z"
    },
    "papermill": {
     "duration": 0.017242,
     "end_time": "2022-12-29T22:18:04.149417",
     "exception": false,
     "start_time": "2022-12-29T22:18:04.132175",
     "status": "completed"
    },
    "tags": []
   },
   "outputs": [
    {
     "data": {
      "text/plain": [
       "'\\ntorch.save(model.state_dict(), PATH)\\n'"
      ]
     },
     "execution_count": 21,
     "metadata": {},
     "output_type": "execute_result"
    }
   ],
   "source": [
    "# 3) Save on CPU, Load on GPU\n",
    "\n",
    "\"\"\"\n",
    "torch.save(model.state_dict(), PATH)\n",
    "\"\"\""
   ]
  },
  {
   "cell_type": "code",
   "execution_count": 22,
   "id": "daaac1d9",
   "metadata": {
    "execution": {
     "iopub.execute_input": "2022-12-29T22:18:04.166607Z",
     "iopub.status.busy": "2022-12-29T22:18:04.165686Z",
     "iopub.status.idle": "2022-12-29T22:18:04.172546Z",
     "shell.execute_reply": "2022-12-29T22:18:04.171602Z"
    },
    "papermill": {
     "duration": 0.018047,
     "end_time": "2022-12-29T22:18:04.174712",
     "exception": false,
     "start_time": "2022-12-29T22:18:04.156665",
     "status": "completed"
    },
    "tags": []
   },
   "outputs": [
    {
     "data": {
      "text/plain": [
       "'\\n\\ndevice = torch.device(\"cuda\")\\nmodel = Model(*args, **kwargs)\\nmodel.load_state_dict(torch.load(PATH, map_location=\"cuda:0\"))  # Choose whatever GPU device number you want\\nmodel.to(device)\\n# This loads the model to a given GPU device. \\n# Next, be sure to call model.to(torch.device(\\'cuda\\')) to convert the model’s parameter tensors to CUDA tensors\\n'"
      ]
     },
     "execution_count": 22,
     "metadata": {},
     "output_type": "execute_result"
    }
   ],
   "source": [
    "\"\"\"\n",
    "\n",
    "device = torch.device(\"cuda\")\n",
    "model = Model(*args, **kwargs)\n",
    "model.load_state_dict(torch.load(PATH, map_location=\"cuda:0\"))  # Choose whatever GPU device number you want\n",
    "model.to(device)\n",
    "# This loads the model to a given GPU device. \n",
    "# Next, be sure to call model.to(torch.device('cuda')) to convert the model’s parameter tensors to CUDA tensors\n",
    "\"\"\""
   ]
  }
 ],
 "metadata": {
  "kernelspec": {
   "display_name": "Python 3",
   "language": "python",
   "name": "python3"
  },
  "language_info": {
   "codemirror_mode": {
    "name": "ipython",
    "version": 3
   },
   "file_extension": ".py",
   "mimetype": "text/x-python",
   "name": "python",
   "nbconvert_exporter": "python",
   "pygments_lexer": "ipython3",
   "version": "3.7.12"
  },
  "papermill": {
   "default_parameters": {},
   "duration": 11.515498,
   "end_time": "2022-12-29T22:18:05.003920",
   "environment_variables": {},
   "exception": null,
   "input_path": "__notebook__.ipynb",
   "output_path": "__notebook__.ipynb",
   "parameters": {},
   "start_time": "2022-12-29T22:17:53.488422",
   "version": "2.3.4"
  }
 },
 "nbformat": 4,
 "nbformat_minor": 5
}
