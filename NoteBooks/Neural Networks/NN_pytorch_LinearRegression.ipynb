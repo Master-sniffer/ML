{
  "nbformat": 4,
  "nbformat_minor": 0,
  "metadata": {
    "colab": {
      "provenance": [],
      "authorship_tag": "ABX9TyNcRTKcJb6OmYMNLKCmEqrV"
    },
    "kernelspec": {
      "name": "python3",
      "display_name": "Python 3"
    },
    "language_info": {
      "name": "python"
    }
  },
  "cells": [
    {
      "cell_type": "code",
      "execution_count": null,
      "metadata": {
        "colab": {
          "base_uri": "https://localhost:8080/",
          "height": 35
        },
        "id": "O6tFAtGLExFt",
        "outputId": "0211f2a1-c09f-47f6-f11e-b936eeb2b7a0"
      },
      "outputs": [
        {
          "output_type": "execute_result",
          "data": {
            "text/plain": [
              "'\\n0) prepare data\\n\\n1) model\\n\\n2) loss and optimizer \\n\\n3) training loop\\n'"
            ],
            "application/vnd.google.colaboratory.intrinsic+json": {
              "type": "string"
            }
          },
          "metadata": {},
          "execution_count": 12
        }
      ],
      "source": [
        "import torch\n",
        "import torch.nn as nn\n",
        "import numpy as np\n",
        "from sklearn import datasets\n",
        "import matplotlib.pyplot as plt\n",
        "\n",
        "\"\"\"\n",
        "0) prepare data\n",
        "\n",
        "1) model\n",
        "\n",
        "2) loss and optimizer \n",
        "\n",
        "3) training loop\n",
        "\"\"\""
      ]
    },
    {
      "cell_type": "code",
      "source": [
        "#0\n",
        "\n",
        "X_numpy, y_numpy = datasets.make_regression(n_samples=100, n_features=1, noise=20, random_state=42)\n",
        "X = torch.from_numpy(X_numpy.astype(np.float32))\n",
        "Y = torch.from_numpy(y_numpy.astype(np.float32))\n",
        "\n",
        "Y = Y.view(Y.shape[0],1)\n",
        "\n",
        "n_samples, n_features = X.shape"
      ],
      "metadata": {
        "id": "NPgwDJt1FpUA"
      },
      "execution_count": null,
      "outputs": []
    },
    {
      "cell_type": "code",
      "source": [
        "#1 \n",
        "\n",
        "input_size=n_features\n",
        "output_size=1\n",
        "model = nn.Linear(input_size,output_size)"
      ],
      "metadata": {
        "id": "48Wj95phGD-l"
      },
      "execution_count": null,
      "outputs": []
    },
    {
      "cell_type": "code",
      "source": [
        "#2 \n",
        "lr=0.001\n",
        "criterion = nn.MSELoss()\n",
        "optimizer = torch.optim.SGD(model.parameters(), lr=lr)"
      ],
      "metadata": {
        "id": "lJCSH_wfGnw_"
      },
      "execution_count": null,
      "outputs": []
    },
    {
      "cell_type": "code",
      "source": [
        "#3 \n",
        "num_epochs = 1000\n",
        "for epoch in range(num_epochs):\n",
        "  #forward pass and loss\n",
        "  y_pred = model(X)\n",
        "  loss = criterion(y_pred,Y)\n",
        "\n",
        "  #backward pass\n",
        "  loss.backward()\n",
        "\n",
        "  #update \n",
        "  optimizer.step()\n",
        "\n",
        "  optimizer.zero_grad()\n",
        "\n",
        "  if ((epoch+1)%10==0):\n",
        "    print(f\"epoch {epoch+1}, loss = {loss.item():.4f}\")\n",
        "\n",
        "#plot\n",
        "predicted = model(X).detach().numpy()\n",
        "plt.plot(X_numpy, y_numpy, 'ro')\n",
        "plt.plot(X_numpy, predicted, 'b')\n",
        "plt.show()"
      ],
      "metadata": {
        "colab": {
          "base_uri": "https://localhost:8080/",
          "height": 1000
        },
        "id": "QYfKEBDwG4cA",
        "outputId": "3c39927d-9b87-4eed-f157-9aa8510321d0"
      },
      "execution_count": null,
      "outputs": [
        {
          "output_type": "stream",
          "name": "stdout",
          "text": [
            "epoch 10, loss = 2082.5515\n",
            "epoch 20, loss = 2024.6245\n",
            "epoch 30, loss = 1968.6229\n",
            "epoch 40, loss = 1914.4822\n",
            "epoch 50, loss = 1862.1389\n",
            "epoch 60, loss = 1811.5323\n",
            "epoch 70, loss = 1762.6039\n",
            "epoch 80, loss = 1715.2970\n",
            "epoch 90, loss = 1669.5569\n",
            "epoch 100, loss = 1625.3308\n",
            "epoch 110, loss = 1582.5679\n",
            "epoch 120, loss = 1541.2184\n",
            "epoch 130, loss = 1501.2351\n",
            "epoch 140, loss = 1462.5721\n",
            "epoch 150, loss = 1425.1852\n",
            "epoch 160, loss = 1389.0312\n",
            "epoch 170, loss = 1354.0691\n",
            "epoch 180, loss = 1320.2584\n",
            "epoch 190, loss = 1287.5612\n",
            "epoch 200, loss = 1255.9398\n",
            "epoch 210, loss = 1225.3584\n",
            "epoch 220, loss = 1195.7820\n",
            "epoch 230, loss = 1167.1771\n",
            "epoch 240, loss = 1139.5114\n",
            "epoch 250, loss = 1112.7534\n",
            "epoch 260, loss = 1086.8729\n",
            "epoch 270, loss = 1061.8407\n",
            "epoch 280, loss = 1037.6284\n",
            "epoch 290, loss = 1014.2087\n",
            "epoch 300, loss = 991.5555\n",
            "epoch 310, loss = 969.6433\n",
            "epoch 320, loss = 948.4471\n",
            "epoch 330, loss = 927.9435\n",
            "epoch 340, loss = 908.1092\n",
            "epoch 350, loss = 888.9222\n",
            "epoch 360, loss = 870.3611\n",
            "epoch 370, loss = 852.4052\n",
            "epoch 380, loss = 835.0341\n",
            "epoch 390, loss = 818.2290\n",
            "epoch 400, loss = 801.9706\n",
            "epoch 410, loss = 786.2415\n",
            "epoch 420, loss = 771.0237\n",
            "epoch 430, loss = 756.3005\n",
            "epoch 440, loss = 742.0557\n",
            "epoch 450, loss = 728.2734\n",
            "epoch 460, loss = 714.9384\n",
            "epoch 470, loss = 702.0359\n",
            "epoch 480, loss = 689.5516\n",
            "epoch 490, loss = 677.4719\n",
            "epoch 500, loss = 665.7835\n",
            "epoch 510, loss = 654.4736\n",
            "epoch 520, loss = 643.5296\n",
            "epoch 530, loss = 632.9396\n",
            "epoch 540, loss = 622.6920\n",
            "epoch 550, loss = 612.7755\n",
            "epoch 560, loss = 603.1792\n",
            "epoch 570, loss = 593.8928\n",
            "epoch 580, loss = 584.9062\n",
            "epoch 590, loss = 576.2094\n",
            "epoch 600, loss = 567.7929\n",
            "epoch 610, loss = 559.6476\n",
            "epoch 620, loss = 551.7649\n",
            "epoch 630, loss = 544.1359\n",
            "epoch 640, loss = 536.7526\n",
            "epoch 650, loss = 529.6066\n",
            "epoch 660, loss = 522.6906\n",
            "epoch 670, loss = 515.9966\n",
            "epoch 680, loss = 509.5180\n",
            "epoch 690, loss = 503.2473\n",
            "epoch 700, loss = 497.1780\n",
            "epoch 710, loss = 491.3035\n",
            "epoch 720, loss = 485.6173\n",
            "epoch 730, loss = 480.1134\n",
            "epoch 740, loss = 474.7860\n",
            "epoch 750, loss = 469.6292\n",
            "epoch 760, loss = 464.6376\n",
            "epoch 770, loss = 459.8058\n",
            "epoch 780, loss = 455.1287\n",
            "epoch 790, loss = 450.6011\n",
            "epoch 800, loss = 446.2183\n",
            "epoch 810, loss = 441.9757\n",
            "epoch 820, loss = 437.8686\n",
            "epoch 830, loss = 433.8927\n",
            "epoch 840, loss = 430.0438\n",
            "epoch 850, loss = 426.3176\n",
            "epoch 860, loss = 422.7104\n",
            "epoch 870, loss = 419.2184\n",
            "epoch 880, loss = 415.8374\n",
            "epoch 890, loss = 412.5643\n",
            "epoch 900, loss = 409.3954\n",
            "epoch 910, loss = 406.3275\n",
            "epoch 920, loss = 403.3574\n",
            "epoch 930, loss = 400.4817\n",
            "epoch 940, loss = 397.6974\n",
            "epoch 950, loss = 395.0015\n",
            "epoch 960, loss = 392.3915\n",
            "epoch 970, loss = 389.8645\n",
            "epoch 980, loss = 387.4178\n",
            "epoch 990, loss = 385.0487\n",
            "epoch 1000, loss = 382.7549\n"
          ]
        },
        {
          "output_type": "display_data",
          "data": {
            "text/plain": [
              "<Figure size 432x288 with 1 Axes>"
            ],
            "image/png": "[encoded data removed]"
          },
          "metadata": {
            "needs_background": "light"
          }
        }
      ]
    },
    {
      "cell_type": "code",
      "source": [],
      "metadata": {
        "id": "cZUJPRdMJhgc"
      },
      "execution_count": null,
      "outputs": []
    }
  ]
}