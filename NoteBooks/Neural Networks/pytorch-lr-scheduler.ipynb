{
 "cells": [
  {
   "cell_type": "markdown",
   "id": "2df41f55",
   "metadata": {
    "papermill": {
     "duration": 0.007211,
     "end_time": "2023-01-07T22:23:49.174834",
     "exception": false,
     "start_time": "2023-01-07T22:23:49.167623",
     "status": "completed"
    },
    "tags": []
   },
   "source": [
    "# Here i cover some basics, but you can find more in pytorch \"optim\" section"
   ]
  },
  {
   "cell_type": "code",
   "execution_count": 1,
   "id": "c56f5230",
   "metadata": {
    "execution": {
     "iopub.execute_input": "2023-01-07T22:23:49.187093Z",
     "iopub.status.busy": "2023-01-07T22:23:49.186285Z",
     "iopub.status.idle": "2023-01-07T22:23:51.226987Z",
     "shell.execute_reply": "2023-01-07T22:23:51.226059Z"
    },
    "papermill": {
     "duration": 2.049751,
     "end_time": "2023-01-07T22:23:51.229865",
     "exception": false,
     "start_time": "2023-01-07T22:23:49.180114",
     "status": "completed"
    },
    "tags": []
   },
   "outputs": [],
   "source": [
    "import torch\n",
    "import torch.nn as nn\n",
    "import torch.optim.lr_scheduler as lr_scheduler"
   ]
  },
  {
   "cell_type": "code",
   "execution_count": 2,
   "id": "54438627",
   "metadata": {
    "execution": {
     "iopub.execute_input": "2023-01-07T22:23:51.240930Z",
     "iopub.status.busy": "2023-01-07T22:23:51.240038Z",
     "iopub.status.idle": "2023-01-07T22:23:51.249284Z",
     "shell.execute_reply": "2023-01-07T22:23:51.248123Z"
    },
    "papermill": {
     "duration": 0.01743,
     "end_time": "2023-01-07T22:23:51.251833",
     "exception": false,
     "start_time": "2023-01-07T22:23:51.234403",
     "status": "completed"
    },
    "tags": []
   },
   "outputs": [],
   "source": [
    "lr= 0.1\n",
    "model = nn.Linear(10,1)"
   ]
  },
  {
   "cell_type": "code",
   "execution_count": 3,
   "id": "42756256",
   "metadata": {
    "execution": {
     "iopub.execute_input": "2023-01-07T22:23:51.262778Z",
     "iopub.status.busy": "2023-01-07T22:23:51.262349Z",
     "iopub.status.idle": "2023-01-07T22:23:51.268324Z",
     "shell.execute_reply": "2023-01-07T22:23:51.267010Z"
    },
    "papermill": {
     "duration": 0.014296,
     "end_time": "2023-01-07T22:23:51.270671",
     "exception": false,
     "start_time": "2023-01-07T22:23:51.256375",
     "status": "completed"
    },
    "tags": []
   },
   "outputs": [],
   "source": [
    "optimizer = torch.optim.Adam(model.parameters(), lr=lr)"
   ]
  },
  {
   "cell_type": "code",
   "execution_count": 4,
   "id": "16d60a1a",
   "metadata": {
    "execution": {
     "iopub.execute_input": "2023-01-07T22:23:51.281455Z",
     "iopub.status.busy": "2023-01-07T22:23:51.280874Z",
     "iopub.status.idle": "2023-01-07T22:23:51.286317Z",
     "shell.execute_reply": "2023-01-07T22:23:51.285060Z"
    },
    "papermill": {
     "duration": 0.013357,
     "end_time": "2023-01-07T22:23:51.288470",
     "exception": false,
     "start_time": "2023-01-07T22:23:51.275113",
     "status": "completed"
    },
    "tags": []
   },
   "outputs": [],
   "source": [
    "lambda1=lambda epoch: epoch/10\n",
    "scheduler =lr_scheduler.LambdaLR(optimizer,lambda1)"
   ]
  },
  {
   "cell_type": "code",
   "execution_count": 5,
   "id": "e3d1add7",
   "metadata": {
    "execution": {
     "iopub.execute_input": "2023-01-07T22:23:51.298719Z",
     "iopub.status.busy": "2023-01-07T22:23:51.298156Z",
     "iopub.status.idle": "2023-01-07T22:23:51.304348Z",
     "shell.execute_reply": "2023-01-07T22:23:51.303340Z"
    },
    "papermill": {
     "duration": 0.014763,
     "end_time": "2023-01-07T22:23:51.307429",
     "exception": false,
     "start_time": "2023-01-07T22:23:51.292666",
     "status": "completed"
    },
    "tags": []
   },
   "outputs": [
    {
     "name": "stdout",
     "output_type": "stream",
     "text": [
      "{'state': {}, 'param_groups': [{'lr': 0.0, 'betas': (0.9, 0.999), 'eps': 1e-08, 'weight_decay': 0, 'amsgrad': False, 'maximize': False, 'initial_lr': 0.1, 'params': [0, 1]}]}\n"
     ]
    }
   ],
   "source": [
    "print(optimizer.state_dict())"
   ]
  },
  {
   "cell_type": "code",
   "execution_count": 6,
   "id": "8d4fca27",
   "metadata": {
    "execution": {
     "iopub.execute_input": "2023-01-07T22:23:51.318582Z",
     "iopub.status.busy": "2023-01-07T22:23:51.318165Z",
     "iopub.status.idle": "2023-01-07T22:23:51.325888Z",
     "shell.execute_reply": "2023-01-07T22:23:51.324632Z"
    },
    "papermill": {
     "duration": 0.015972,
     "end_time": "2023-01-07T22:23:51.328555",
     "exception": false,
     "start_time": "2023-01-07T22:23:51.312583",
     "status": "completed"
    },
    "tags": []
   },
   "outputs": [
    {
     "name": "stdout",
     "output_type": "stream",
     "text": [
      "0.010000000000000002\n",
      "0.020000000000000004\n",
      "0.03\n",
      "0.04000000000000001\n",
      "0.05\n"
     ]
    }
   ],
   "source": [
    "for epoch in range(5):\n",
    "    #loss backward\n",
    "    optimizer.step()\n",
    "    #validate\n",
    "    scheduler.step()\n",
    "    print(optimizer.state_dict()['param_groups'][0]['lr'])"
   ]
  },
  {
   "cell_type": "markdown",
   "id": "b49e2cfe",
   "metadata": {
    "papermill": {
     "duration": 0.003978,
     "end_time": "2023-01-07T22:23:51.336846",
     "exception": false,
     "start_time": "2023-01-07T22:23:51.332868",
     "status": "completed"
    },
    "tags": []
   },
   "source": [
    "# With MultiplicateLR"
   ]
  },
  {
   "cell_type": "code",
   "execution_count": 7,
   "id": "8fbfb7bf",
   "metadata": {
    "execution": {
     "iopub.execute_input": "2023-01-07T22:23:51.347719Z",
     "iopub.status.busy": "2023-01-07T22:23:51.347317Z",
     "iopub.status.idle": "2023-01-07T22:23:51.352576Z",
     "shell.execute_reply": "2023-01-07T22:23:51.351313Z"
    },
    "papermill": {
     "duration": 0.013332,
     "end_time": "2023-01-07T22:23:51.354794",
     "exception": false,
     "start_time": "2023-01-07T22:23:51.341462",
     "status": "completed"
    },
    "tags": []
   },
   "outputs": [],
   "source": [
    "import torch\n",
    "import torch.nn as nn\n",
    "import torch.optim.lr_scheduler as lr_scheduler"
   ]
  },
  {
   "cell_type": "code",
   "execution_count": 8,
   "id": "daf9e145",
   "metadata": {
    "execution": {
     "iopub.execute_input": "2023-01-07T22:23:51.365381Z",
     "iopub.status.busy": "2023-01-07T22:23:51.364935Z",
     "iopub.status.idle": "2023-01-07T22:23:51.371215Z",
     "shell.execute_reply": "2023-01-07T22:23:51.369773Z"
    },
    "papermill": {
     "duration": 0.014388,
     "end_time": "2023-01-07T22:23:51.373671",
     "exception": false,
     "start_time": "2023-01-07T22:23:51.359283",
     "status": "completed"
    },
    "tags": []
   },
   "outputs": [],
   "source": [
    "lr= 0.1\n",
    "model = nn.Linear(10,1)"
   ]
  },
  {
   "cell_type": "code",
   "execution_count": 9,
   "id": "e3753665",
   "metadata": {
    "execution": {
     "iopub.execute_input": "2023-01-07T22:23:51.383947Z",
     "iopub.status.busy": "2023-01-07T22:23:51.383453Z",
     "iopub.status.idle": "2023-01-07T22:23:51.389019Z",
     "shell.execute_reply": "2023-01-07T22:23:51.387912Z"
    },
    "papermill": {
     "duration": 0.013362,
     "end_time": "2023-01-07T22:23:51.391332",
     "exception": false,
     "start_time": "2023-01-07T22:23:51.377970",
     "status": "completed"
    },
    "tags": []
   },
   "outputs": [],
   "source": [
    "optimizer = torch.optim.Adam(model.parameters(), lr=lr)"
   ]
  },
  {
   "cell_type": "code",
   "execution_count": 10,
   "id": "f72d4e0d",
   "metadata": {
    "execution": {
     "iopub.execute_input": "2023-01-07T22:23:51.401799Z",
     "iopub.status.busy": "2023-01-07T22:23:51.401342Z",
     "iopub.status.idle": "2023-01-07T22:23:51.406476Z",
     "shell.execute_reply": "2023-01-07T22:23:51.405485Z"
    },
    "papermill": {
     "duration": 0.013081,
     "end_time": "2023-01-07T22:23:51.408739",
     "exception": false,
     "start_time": "2023-01-07T22:23:51.395658",
     "status": "completed"
    },
    "tags": []
   },
   "outputs": [],
   "source": [
    "lambda1=lambda epoch: 0.95\n",
    "scheduler =lr_scheduler.MultiplicativeLR(optimizer,lambda1)"
   ]
  },
  {
   "cell_type": "code",
   "execution_count": 11,
   "id": "7a2fe5ac",
   "metadata": {
    "execution": {
     "iopub.execute_input": "2023-01-07T22:23:51.419568Z",
     "iopub.status.busy": "2023-01-07T22:23:51.419074Z",
     "iopub.status.idle": "2023-01-07T22:23:51.425956Z",
     "shell.execute_reply": "2023-01-07T22:23:51.424074Z"
    },
    "papermill": {
     "duration": 0.015636,
     "end_time": "2023-01-07T22:23:51.428741",
     "exception": false,
     "start_time": "2023-01-07T22:23:51.413105",
     "status": "completed"
    },
    "tags": []
   },
   "outputs": [
    {
     "name": "stdout",
     "output_type": "stream",
     "text": [
      "{'state': {}, 'param_groups': [{'lr': 0.1, 'betas': (0.9, 0.999), 'eps': 1e-08, 'weight_decay': 0, 'amsgrad': False, 'maximize': False, 'initial_lr': 0.1, 'params': [0, 1]}]}\n"
     ]
    }
   ],
   "source": [
    "print(optimizer.state_dict())"
   ]
  },
  {
   "cell_type": "code",
   "execution_count": 12,
   "id": "4dcb4a0c",
   "metadata": {
    "execution": {
     "iopub.execute_input": "2023-01-07T22:23:51.439853Z",
     "iopub.status.busy": "2023-01-07T22:23:51.439401Z",
     "iopub.status.idle": "2023-01-07T22:23:51.448150Z",
     "shell.execute_reply": "2023-01-07T22:23:51.446458Z"
    },
    "papermill": {
     "duration": 0.018354,
     "end_time": "2023-01-07T22:23:51.451648",
     "exception": false,
     "start_time": "2023-01-07T22:23:51.433294",
     "status": "completed"
    },
    "tags": []
   },
   "outputs": [
    {
     "name": "stdout",
     "output_type": "stream",
     "text": [
      "0.095\n",
      "0.09025\n",
      "0.0857375\n",
      "0.08145062499999998\n",
      "0.07737809374999999\n"
     ]
    }
   ],
   "source": [
    "for epoch in range(5):\n",
    "    #loss backward\n",
    "    optimizer.step()\n",
    "    #validate\n",
    "    scheduler.step()\n",
    "    print(optimizer.state_dict()['param_groups'][0]['lr'])"
   ]
  },
  {
   "cell_type": "code",
   "execution_count": null,
   "id": "e4018664",
   "metadata": {
    "papermill": {
     "duration": 0.004329,
     "end_time": "2023-01-07T22:23:51.460942",
     "exception": false,
     "start_time": "2023-01-07T22:23:51.456613",
     "status": "completed"
    },
    "tags": []
   },
   "outputs": [],
   "source": []
  }
 ],
 "metadata": {
  "kernelspec": {
   "display_name": "Python 3",
   "language": "python",
   "name": "python3"
  },
  "language_info": {
   "codemirror_mode": {
    "name": "ipython",
    "version": 3
   },
   "file_extension": ".py",
   "mimetype": "text/x-python",
   "name": "python",
   "nbconvert_exporter": "python",
   "pygments_lexer": "ipython3",
   "version": "3.7.12"
  },
  "papermill": {
   "default_parameters": {},
   "duration": 12.740022,
   "end_time": "2023-01-07T22:23:52.390398",
   "environment_variables": {},
   "exception": null,
   "input_path": "__notebook__.ipynb",
   "output_path": "__notebook__.ipynb",
   "parameters": {},
   "start_time": "2023-01-07T22:23:39.650376",
   "version": "2.3.4"
  }
 },
 "nbformat": 4,
 "nbformat_minor": 5
}
