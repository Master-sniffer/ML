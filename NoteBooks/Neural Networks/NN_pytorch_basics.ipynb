{
  "nbformat": 4,
  "nbformat_minor": 0,
  "metadata": {
    "colab": {
      "provenance": [],
      "authorship_tag": "ABX9TyNWNykcYYWdloU6lFbt/xGn"
    },
    "kernelspec": {
      "name": "python3",
      "display_name": "Python 3"
    },
    "language_info": {
      "name": "python"
    }
  },
  "cells": [
    {
      "cell_type": "code",
      "execution_count": null,
      "metadata": {
        "id": "ns-j1Q74wrVZ"
      },
      "outputs": [],
      "source": [
        "import torch\n",
        "import numpy as np\n"
      ]
    },
    {
      "cell_type": "code",
      "source": [
        "x = torch.empty(3,3)\n",
        "print(x)\n",
        "\n",
        "x = torch.rand(2,3)\n",
        "print(x)\n",
        "\n",
        "x = torch.zeros(5,3, dtype=torch.int)\n",
        "print(x)\n",
        "print(x.size())"
      ],
      "metadata": {
        "colab": {
          "base_uri": "https://localhost:8080/"
        },
        "id": "aTaFf33QyRwi",
        "outputId": "1e47f7c3-7acc-4eee-e98d-2120a5f5d4a2"
      },
      "execution_count": null,
      "outputs": [
        {
          "output_type": "stream",
          "name": "stdout",
          "text": [
            "tensor([[1.7779e-34, 0.0000e+00, 1.7852e-01],\n",
            "        [1.6761e-02, 1.8498e-01, 8.4557e-01],\n",
            "        [1.0948e+21, 9.2868e-04, 1.3556e-19]])\n",
            "tensor([[0.6505, 0.7084, 0.3013],\n",
            "        [0.0436, 0.7581, 0.1409]])\n",
            "tensor([[0, 0, 0],\n",
            "        [0, 0, 0],\n",
            "        [0, 0, 0],\n",
            "        [0, 0, 0],\n",
            "        [0, 0, 0]], dtype=torch.int32)\n",
            "torch.Size([5, 3])\n"
          ]
        }
      ]
    },
    {
      "cell_type": "code",
      "source": [
        "x = torch.tensor([2.5,3.1])\n",
        "print(x)\n"
      ],
      "metadata": {
        "colab": {
          "base_uri": "https://localhost:8080/"
        },
        "id": "GJVV0lc4zm7C",
        "outputId": "f318459a-bd41-458e-8c69-c19e98445631"
      },
      "execution_count": null,
      "outputs": [
        {
          "output_type": "stream",
          "name": "stdout",
          "text": [
            "tensor([2.5000, 3.1000])\n"
          ]
        }
      ]
    },
    {
      "cell_type": "code",
      "source": [
        "x = torch.rand(2,3)\n",
        "y = torch.rand(2,3)\n",
        "print(x)\n",
        "print(y)\n",
        "print()\n",
        "print(x+y)\n",
        "print(torch.add(x,y))\n",
        "print(torch.sub(x,y))\n",
        "print(torch.mul(x,y))"
      ],
      "metadata": {
        "colab": {
          "base_uri": "https://localhost:8080/"
        },
        "id": "QAG4E1Iw0J38",
        "outputId": "2c47d1e7-16c5-409e-b099-250fa293ce64"
      },
      "execution_count": null,
      "outputs": [
        {
          "output_type": "stream",
          "name": "stdout",
          "text": [
            "tensor([[0.8168, 0.4757, 0.4896],\n",
            "        [0.7224, 0.8774, 0.5859]])\n",
            "tensor([[0.2387, 0.8087, 0.9070],\n",
            "        [0.3981, 0.7921, 0.1247]])\n",
            "\n",
            "tensor([[1.0555, 1.2844, 1.3966],\n",
            "        [1.1205, 1.6695, 0.7106]])\n",
            "tensor([[1.0555, 1.2844, 1.3966],\n",
            "        [1.1205, 1.6695, 0.7106]])\n",
            "tensor([[ 0.5781, -0.3329, -0.4174],\n",
            "        [ 0.3242,  0.0853,  0.4611]])\n",
            "tensor([[0.1950, 0.3847, 0.4441],\n",
            "        [0.2876, 0.6950, 0.0731]])\n"
          ]
        }
      ]
    },
    {
      "cell_type": "code",
      "source": [
        "print(y.add_(x))"
      ],
      "metadata": {
        "colab": {
          "base_uri": "https://localhost:8080/"
        },
        "id": "ad48i1kn0pOK",
        "outputId": "2d7e430c-1079-461a-97c0-84abccc000dc"
      },
      "execution_count": null,
      "outputs": [
        {
          "output_type": "stream",
          "name": "stdout",
          "text": [
            "tensor([[1.4302, 1.5794, 0.8989],\n",
            "        [0.7849, 0.3151, 1.4578]])\n"
          ]
        }
      ]
    },
    {
      "cell_type": "code",
      "source": [
        "print(x.view(6))"
      ],
      "metadata": {
        "colab": {
          "base_uri": "https://localhost:8080/"
        },
        "id": "4NKMn6-l0u30",
        "outputId": "0f426590-5af9-4461-9d16-c11a480593e1"
      },
      "execution_count": null,
      "outputs": [
        {
          "output_type": "stream",
          "name": "stdout",
          "text": [
            "tensor([0.8168, 0.4757, 0.4896, 0.7224, 0.8774, 0.5859])\n"
          ]
        }
      ]
    },
    {
      "cell_type": "code",
      "source": [
        "a=torch.ones(5)\n",
        "print(a)\n",
        "b=a.numpy()\n",
        "b"
      ],
      "metadata": {
        "colab": {
          "base_uri": "https://localhost:8080/"
        },
        "id": "tRGPiwgP17Vy",
        "outputId": "e5bc4f22-f0fe-4f67-df05-54a7d721667e"
      },
      "execution_count": null,
      "outputs": [
        {
          "output_type": "stream",
          "name": "stdout",
          "text": [
            "tensor([1., 1., 1., 1., 1.])\n"
          ]
        },
        {
          "output_type": "execute_result",
          "data": {
            "text/plain": [
              "array([1., 1., 1., 1., 1.], dtype=float32)"
            ]
          },
          "metadata": {},
          "execution_count": 28
        }
      ]
    },
    {
      "cell_type": "code",
      "source": [
        "a.add_(1)\n",
        "print(a)\n",
        "print(b)"
      ],
      "metadata": {
        "colab": {
          "base_uri": "https://localhost:8080/"
        },
        "id": "eJltB5sW2VSL",
        "outputId": "6f7d1e73-8314-4c6e-87de-a80efc6ccd34"
      },
      "execution_count": null,
      "outputs": [
        {
          "output_type": "stream",
          "name": "stdout",
          "text": [
            "tensor([2., 2., 2., 2., 2.])\n",
            "[2. 2. 2. 2. 2.]\n"
          ]
        }
      ]
    },
    {
      "cell_type": "markdown",
      "source": [
        "not to share memory is down below"
      ],
      "metadata": {
        "id": "eu0mFEgq2jB6"
      }
    },
    {
      "cell_type": "code",
      "source": [
        "a=np.ones(5)\n",
        "print(a)\n",
        "b=torch.from_numpy(a)\n",
        "b"
      ],
      "metadata": {
        "colab": {
          "base_uri": "https://localhost:8080/"
        },
        "id": "ZW_fBwYY2qHS",
        "outputId": "84986e94-ff3d-4258-d40f-519991e7b8da"
      },
      "execution_count": null,
      "outputs": [
        {
          "output_type": "stream",
          "name": "stdout",
          "text": [
            "[1. 1. 1. 1. 1.]\n"
          ]
        },
        {
          "output_type": "execute_result",
          "data": {
            "text/plain": [
              "tensor([1., 1., 1., 1., 1.], dtype=torch.float64)"
            ]
          },
          "metadata": {},
          "execution_count": 33
        }
      ]
    },
    {
      "cell_type": "code",
      "source": [
        "if (torch.cuda.is_available()):\n",
        "  print(\"Cuda is available\")\n",
        "  device = torch.device(\"cuda\")\n",
        "  x = torch.ones(4, device=device)\n",
        "  y = torch.ones(4)\n",
        "  y=y.to(device)\n",
        "  z=x+y\n",
        "  z=z.to(\"cpu\")\n",
        "  x=torch.ones(5,requires_grad=True)\n",
        "  print(x)"
      ],
      "metadata": {
        "id": "CgnV80jJ3SEq"
      },
      "execution_count": null,
      "outputs": []
    }
  ]
}