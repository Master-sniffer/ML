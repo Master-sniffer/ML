{
 "cells": [
  {
   "cell_type": "code",
   "execution_count": 1,
   "id": "b96511b5",
   "metadata": {
    "execution": {
     "iopub.execute_input": "2024-09-09T18:26:10.350799Z",
     "iopub.status.busy": "2024-09-09T18:26:10.349151Z",
     "iopub.status.idle": "2024-09-09T18:26:28.816719Z",
     "shell.execute_reply": "2024-09-09T18:26:28.815095Z"
    },
    "papermill": {
     "duration": 18.478642,
     "end_time": "2024-09-09T18:26:28.820350",
     "exception": false,
     "start_time": "2024-09-09T18:26:10.341708",
     "status": "completed"
    },
    "tags": []
   },
   "outputs": [
    {
     "name": "stdout",
     "output_type": "stream",
     "text": [
      "Note: you may need to restart the kernel to use updated packages.\n"
     ]
    }
   ],
   "source": [
    "%pip install gurobipy -qU"
   ]
  },
  {
   "cell_type": "code",
   "execution_count": 2,
   "id": "a128203d",
   "metadata": {
    "execution": {
     "iopub.execute_input": "2024-09-09T18:26:28.831880Z",
     "iopub.status.busy": "2024-09-09T18:26:28.831415Z",
     "iopub.status.idle": "2024-09-09T18:26:28.850932Z",
     "shell.execute_reply": "2024-09-09T18:26:28.849504Z"
    },
    "papermill": {
     "duration": 0.028535,
     "end_time": "2024-09-09T18:26:28.853929",
     "exception": false,
     "start_time": "2024-09-09T18:26:28.825394",
     "status": "completed"
    },
    "tags": []
   },
   "outputs": [],
   "source": [
    "import gurobipy as gp\n",
    "from gurobipy import GRB"
   ]
  },
  {
   "cell_type": "code",
   "execution_count": 3,
   "id": "2d767ee4",
   "metadata": {
    "execution": {
     "iopub.execute_input": "2024-09-09T18:26:28.865120Z",
     "iopub.status.busy": "2024-09-09T18:26:28.864473Z",
     "iopub.status.idle": "2024-09-09T18:26:28.873835Z",
     "shell.execute_reply": "2024-09-09T18:26:28.872589Z"
    },
    "papermill": {
     "duration": 0.017841,
     "end_time": "2024-09-09T18:26:28.876423",
     "exception": false,
     "start_time": "2024-09-09T18:26:28.858582",
     "status": "completed"
    },
    "tags": []
   },
   "outputs": [],
   "source": [
    "items, weight, amount = gp.multidict({\n",
    "    0: [2,4],\n",
    "    1: [3,2],\n",
    "    2: [4,6],\n",
    "    3: [5,6],\n",
    "    4: [6,2],\n",
    "    5: [7,1],\n",
    "    6: [8,8],\n",
    "})\n",
    "\n",
    "capacity = 9\n",
    "patterns = [[4,0,0,0,0,0,0],[0,3,0,0,0,0,0],[0,0,2,0,0,0,0],[0,0,0,1,0,0,0],[0,0,0,0,1,0,0],[0,0,0,0,0,1,0],[0,0,0,0,0,0,1]]"
   ]
  },
  {
   "cell_type": "code",
   "execution_count": 4,
   "id": "e43a04aa",
   "metadata": {
    "execution": {
     "iopub.execute_input": "2024-09-09T18:26:28.887214Z",
     "iopub.status.busy": "2024-09-09T18:26:28.886751Z",
     "iopub.status.idle": "2024-09-09T18:26:28.899475Z",
     "shell.execute_reply": "2024-09-09T18:26:28.898314Z"
    },
    "papermill": {
     "duration": 0.021315,
     "end_time": "2024-09-09T18:26:28.902217",
     "exception": false,
     "start_time": "2024-09-09T18:26:28.880902",
     "status": "completed"
    },
    "tags": []
   },
   "outputs": [
    {
     "name": "stdout",
     "output_type": "stream",
     "text": [
      "Restricted license - for non-production use only - expires 2025-11-24\n"
     ]
    }
   ],
   "source": [
    "# Create master model\n",
    "master = gp.Model(\"MasterBin\")\n",
    "\n",
    "# Create initial variables. We have 1 initial variable per item.\n",
    "use = {}\n",
    "for i in items:\n",
    "    use[i] = master.addVar()\n",
    "\n",
    "# Create master objective\n",
    "master.setObjective(sum(use[i] for i in items), GRB.MINIMIZE)\n",
    "\n",
    "# Constraints\n",
    "demand_cons = master.addConstrs(gp.quicksum(patterns[j][i]*use[i] for j in range(0,len(patterns))) >= amount[i] for i in items)"
   ]
  },
  {
   "cell_type": "code",
   "execution_count": 5,
   "id": "0efaa4f0",
   "metadata": {
    "execution": {
     "iopub.execute_input": "2024-09-09T18:26:28.913413Z",
     "iopub.status.busy": "2024-09-09T18:26:28.912971Z",
     "iopub.status.idle": "2024-09-09T18:26:28.924901Z",
     "shell.execute_reply": "2024-09-09T18:26:28.923451Z"
    },
    "papermill": {
     "duration": 0.020452,
     "end_time": "2024-09-09T18:26:28.927421",
     "exception": false,
     "start_time": "2024-09-09T18:26:28.906969",
     "status": "completed"
    },
    "tags": []
   },
   "outputs": [
    {
     "data": {
      "text/plain": [
       "<gurobi.Constr *Awaiting Model Update*>"
      ]
     },
     "execution_count": 5,
     "metadata": {},
     "output_type": "execute_result"
    }
   ],
   "source": [
    "# Create pricing model\n",
    "pricing = gp.Model(\"PricingBin\")\n",
    "\n",
    "# Create pricing variables\n",
    "select = pricing.addVars(items, name=\"select\", vtype=GRB.INTEGER)\n",
    "\n",
    "# Create constraint\n",
    "pricing.addConstr(gp.quicksum(select[i]*weight[i] for i in items) <= capacity)\n"
   ]
  },
  {
   "cell_type": "code",
   "execution_count": 6,
   "id": "e71c511e",
   "metadata": {
    "execution": {
     "iopub.execute_input": "2024-09-09T18:26:28.938675Z",
     "iopub.status.busy": "2024-09-09T18:26:28.938182Z",
     "iopub.status.idle": "2024-09-09T18:26:29.254692Z",
     "shell.execute_reply": "2024-09-09T18:26:29.253388Z"
    },
    "papermill": {
     "duration": 0.417502,
     "end_time": "2024-09-09T18:26:29.349641",
     "exception": false,
     "start_time": "2024-09-09T18:26:28.932139",
     "status": "completed"
    },
    "tags": []
   },
   "outputs": [
    {
     "name": "stdout",
     "output_type": "stream",
     "text": [
      "Gurobi Optimizer version 11.0.3 build v11.0.3rc0 (linux64 - \"Ubuntu 20.04.6 LTS\")\n",
      "\n",
      "CPU model: Intel(R) Xeon(R) CPU @ 2.20GHz, instruction set [SSE2|AVX|AVX2]\n",
      "Thread count: 2 physical cores, 4 logical processors, using up to 4 threads\n",
      "\n",
      "Optimize a model with 7 rows, 7 columns and 7 nonzeros\n",
      "Model fingerprint: 0x06127c8d\n",
      "Coefficient statistics:\n",
      "  Matrix range     [1e+00, 4e+00]\n",
      "  Objective range  [1e+00, 1e+00]\n",
      "  Bounds range     [0e+00, 0e+00]\n",
      "  RHS range        [1e+00, 8e+00]\n",
      "Presolve removed 7 rows and 7 columns\n",
      "Presolve time: 0.01s\n",
      "Presolve: All rows and columns removed\n",
      "Iteration    Objective       Primal Inf.    Dual Inf.      Time\n",
      "       0    2.1666667e+01   0.000000e+00   0.000000e+00      0s\n",
      "\n",
      "Solved in 0 iterations and 0.01 seconds (0.00 work units)\n",
      "Optimal objective  2.166666667e+01\n",
      "Gurobi Optimizer version 11.0.3 build v11.0.3rc0 (linux64 - \"Ubuntu 20.04.6 LTS\")\n",
      "\n",
      "CPU model: Intel(R) Xeon(R) CPU @ 2.20GHz, instruction set [SSE2|AVX|AVX2]\n",
      "Thread count: 2 physical cores, 4 logical processors, using up to 4 threads\n",
      "\n",
      "Optimize a model with 1 rows, 7 columns and 7 nonzeros\n",
      "Model fingerprint: 0xc13dca4f\n",
      "Variable types: 0 continuous, 7 integer (0 binary)\n",
      "Coefficient statistics:\n",
      "  Matrix range     [2e+00, 8e+00]\n",
      "  Objective range  [2e-01, 1e+00]\n",
      "  Bounds range     [0e+00, 0e+00]\n",
      "  RHS range        [9e+00, 9e+00]\n",
      "Found heuristic solution: objective 1.0000000\n",
      "Presolve removed 1 rows and 7 columns\n",
      "Presolve time: 0.00s\n",
      "Presolve: All rows and columns removed\n",
      "\n",
      "Explored 0 nodes (0 simplex iterations) in 0.01 seconds (0.00 work units)\n",
      "Thread count was 1 (of 4 available processors)\n",
      "\n",
      "Solution count 2: 1.5 1 \n",
      "\n",
      "Optimal solution found (tolerance 1.00e-04)\n",
      "Best objective 1.500000000000e+00, best bound 1.500000000000e+00, gap 0.0000%\n",
      "Gurobi Optimizer version 11.0.3 build v11.0.3rc0 (linux64 - \"Ubuntu 20.04.6 LTS\")\n",
      "\n",
      "CPU model: Intel(R) Xeon(R) CPU @ 2.20GHz, instruction set [SSE2|AVX|AVX2]\n",
      "Thread count: 2 physical cores, 4 logical processors, using up to 4 threads\n",
      "\n",
      "Optimize a model with 7 rows, 8 columns and 9 nonzeros\n",
      "Coefficient statistics:\n",
      "  Matrix range     [1e+00, 4e+00]\n",
      "  Objective range  [1e+00, 1e+00]\n",
      "  Bounds range     [0e+00, 0e+00]\n",
      "  RHS range        [1e+00, 8e+00]\n",
      "LP warm-start: use basis\n",
      "\n",
      "Iteration    Objective       Primal Inf.    Dual Inf.      Time\n",
      "       0   -5.0000000e+29   1.500000e+30   5.000000e-01      0s\n",
      "       2    2.0666667e+01   0.000000e+00   0.000000e+00      0s\n",
      "\n",
      "Solved in 2 iterations and 0.01 seconds (0.00 work units)\n",
      "Optimal objective  2.066666667e+01\n",
      "Gurobi Optimizer version 11.0.3 build v11.0.3rc0 (linux64 - \"Ubuntu 20.04.6 LTS\")\n",
      "\n",
      "CPU model: Intel(R) Xeon(R) CPU @ 2.20GHz, instruction set [SSE2|AVX|AVX2]\n",
      "Thread count: 2 physical cores, 4 logical processors, using up to 4 threads\n",
      "\n",
      "Optimize a model with 1 rows, 7 columns and 7 nonzeros\n",
      "Model fingerprint: 0x64dd35ae\n",
      "Variable types: 0 continuous, 7 integer (0 binary)\n",
      "Coefficient statistics:\n",
      "  Matrix range     [2e+00, 8e+00]\n",
      "  Objective range  [3e-01, 1e+00]\n",
      "  Bounds range     [0e+00, 0e+00]\n",
      "  RHS range        [9e+00, 9e+00]\n",
      "\n",
      "Loaded MIP start from previous solve with objective 1\n",
      "\n",
      "Presolve removed 1 rows and 7 columns\n",
      "Presolve time: 0.00s\n",
      "Presolve: All rows and columns removed\n",
      "\n",
      "Explored 0 nodes (0 simplex iterations) in 0.01 seconds (0.00 work units)\n",
      "Thread count was 1 (of 4 available processors)\n",
      "\n",
      "Solution count 2: 1.5 1 \n",
      "\n",
      "Optimal solution found (tolerance 1.00e-04)\n",
      "Best objective 1.500000000000e+00, best bound 1.500000000000e+00, gap 0.0000%\n",
      "Gurobi Optimizer version 11.0.3 build v11.0.3rc0 (linux64 - \"Ubuntu 20.04.6 LTS\")\n",
      "\n",
      "CPU model: Intel(R) Xeon(R) CPU @ 2.20GHz, instruction set [SSE2|AVX|AVX2]\n",
      "Thread count: 2 physical cores, 4 logical processors, using up to 4 threads\n",
      "\n",
      "Optimize a model with 7 rows, 9 columns and 11 nonzeros\n",
      "Coefficient statistics:\n",
      "  Matrix range     [1e+00, 4e+00]\n",
      "  Objective range  [1e+00, 1e+00]\n",
      "  Bounds range     [0e+00, 0e+00]\n",
      "  RHS range        [1e+00, 8e+00]\n",
      "LP warm-start: use basis\n",
      "\n",
      "Iteration    Objective       Primal Inf.    Dual Inf.      Time\n",
      "       0   -5.0000000e+29   2.000000e+30   5.000000e-01      0s\n",
      "       2    1.8666667e+01   0.000000e+00   0.000000e+00      0s\n",
      "\n",
      "Solved in 2 iterations and 0.01 seconds (0.00 work units)\n",
      "Optimal objective  1.866666667e+01\n",
      "Gurobi Optimizer version 11.0.3 build v11.0.3rc0 (linux64 - \"Ubuntu 20.04.6 LTS\")\n",
      "\n",
      "CPU model: Intel(R) Xeon(R) CPU @ 2.20GHz, instruction set [SSE2|AVX|AVX2]\n",
      "Thread count: 2 physical cores, 4 logical processors, using up to 4 threads\n",
      "\n",
      "Optimize a model with 1 rows, 7 columns and 7 nonzeros\n",
      "Model fingerprint: 0x31ccedb5\n",
      "Variable types: 0 continuous, 7 integer (0 binary)\n",
      "Coefficient statistics:\n",
      "  Matrix range     [2e+00, 8e+00]\n",
      "  Objective range  [2e-01, 1e+00]\n",
      "  Bounds range     [0e+00, 0e+00]\n",
      "  RHS range        [9e+00, 9e+00]\n",
      "\n",
      "Loaded MIP start from previous solve with objective 1\n",
      "\n",
      "Presolve removed 1 rows and 7 columns\n",
      "Presolve time: 0.00s\n",
      "Presolve: All rows and columns removed\n",
      "\n",
      "Explored 0 nodes (0 simplex iterations) in 0.01 seconds (0.00 work units)\n",
      "Thread count was 1 (of 4 available processors)\n",
      "\n",
      "Solution count 2: 1.33333 1 \n",
      "\n",
      "Optimal solution found (tolerance 1.00e-04)\n",
      "Best objective 1.333333333333e+00, best bound 1.333333333333e+00, gap 0.0000%\n",
      "Gurobi Optimizer version 11.0.3 build v11.0.3rc0 (linux64 - \"Ubuntu 20.04.6 LTS\")\n",
      "\n",
      "CPU model: Intel(R) Xeon(R) CPU @ 2.20GHz, instruction set [SSE2|AVX|AVX2]\n",
      "Thread count: 2 physical cores, 4 logical processors, using up to 4 threads\n",
      "\n",
      "Optimize a model with 7 rows, 10 columns and 13 nonzeros\n",
      "Coefficient statistics:\n",
      "  Matrix range     [1e+00, 4e+00]\n",
      "  Objective range  [1e+00, 1e+00]\n",
      "  Bounds range     [0e+00, 0e+00]\n",
      "  RHS range        [1e+00, 8e+00]\n",
      "LP warm-start: use basis\n",
      "\n",
      "Iteration    Objective       Primal Inf.    Dual Inf.      Time\n",
      "       0   -3.3333333e+29   1.333333e+30   3.333333e-01      0s\n",
      "       1    1.8000000e+01   0.000000e+00   0.000000e+00      0s\n",
      "\n",
      "Solved in 1 iterations and 0.01 seconds (0.00 work units)\n",
      "Optimal objective  1.800000000e+01\n",
      "Gurobi Optimizer version 11.0.3 build v11.0.3rc0 (linux64 - \"Ubuntu 20.04.6 LTS\")\n",
      "\n",
      "CPU model: Intel(R) Xeon(R) CPU @ 2.20GHz, instruction set [SSE2|AVX|AVX2]\n",
      "Thread count: 2 physical cores, 4 logical processors, using up to 4 threads\n",
      "\n",
      "Optimize a model with 1 rows, 7 columns and 7 nonzeros\n",
      "Model fingerprint: 0x1aee9f89\n",
      "Variable types: 0 continuous, 7 integer (0 binary)\n",
      "Coefficient statistics:\n",
      "  Matrix range     [2e+00, 8e+00]\n",
      "  Objective range  [2e-01, 1e+00]\n",
      "  Bounds range     [0e+00, 0e+00]\n",
      "  RHS range        [9e+00, 9e+00]\n",
      "\n",
      "Loaded MIP start from previous solve with objective 1\n",
      "\n",
      "Presolve removed 1 rows and 7 columns\n",
      "Presolve time: 0.00s\n",
      "Presolve: All rows and columns removed\n",
      "\n",
      "Explored 0 nodes (0 simplex iterations) in 0.02 seconds (0.00 work units)\n",
      "Thread count was 1 (of 4 available processors)\n",
      "\n",
      "Solution count 2: 1.25 1 \n",
      "\n",
      "Optimal solution found (tolerance 1.00e-04)\n",
      "Best objective 1.250000000000e+00, best bound 1.250000000000e+00, gap 0.0000%\n",
      "Gurobi Optimizer version 11.0.3 build v11.0.3rc0 (linux64 - \"Ubuntu 20.04.6 LTS\")\n",
      "\n",
      "CPU model: Intel(R) Xeon(R) CPU @ 2.20GHz, instruction set [SSE2|AVX|AVX2]\n",
      "Thread count: 2 physical cores, 4 logical processors, using up to 4 threads\n",
      "\n",
      "Optimize a model with 7 rows, 11 columns and 15 nonzeros\n",
      "Coefficient statistics:\n",
      "  Matrix range     [1e+00, 4e+00]\n",
      "  Objective range  [1e+00, 1e+00]\n",
      "  Bounds range     [0e+00, 0e+00]\n",
      "  RHS range        [1e+00, 8e+00]\n",
      "LP warm-start: use basis\n",
      "\n",
      "Iteration    Objective       Primal Inf.    Dual Inf.      Time\n",
      "       0   -2.5000000e+29   1.250000e+30   2.500000e-01      0s\n",
      "       1    1.7750000e+01   0.000000e+00   0.000000e+00      0s\n",
      "\n",
      "Solved in 1 iterations and 0.01 seconds (0.00 work units)\n",
      "Optimal objective  1.775000000e+01\n",
      "Gurobi Optimizer version 11.0.3 build v11.0.3rc0 (linux64 - \"Ubuntu 20.04.6 LTS\")\n",
      "\n",
      "CPU model: Intel(R) Xeon(R) CPU @ 2.20GHz, instruction set [SSE2|AVX|AVX2]\n",
      "Thread count: 2 physical cores, 4 logical processors, using up to 4 threads\n",
      "\n",
      "Optimize a model with 1 rows, 7 columns and 7 nonzeros\n",
      "Model fingerprint: 0x5333c3e3\n",
      "Variable types: 0 continuous, 7 integer (0 binary)\n",
      "Coefficient statistics:\n",
      "  Matrix range     [2e+00, 8e+00]\n",
      "  Objective range  [2e-01, 1e+00]\n",
      "  Bounds range     [0e+00, 0e+00]\n",
      "  RHS range        [9e+00, 9e+00]\n",
      "\n",
      "Loaded MIP start from previous solve with objective 1\n",
      "\n",
      "Presolve removed 1 rows and 7 columns\n",
      "Presolve time: 0.00s\n",
      "Presolve: All rows and columns removed\n",
      "\n",
      "Explored 0 nodes (0 simplex iterations) in 0.02 seconds (0.00 work units)\n",
      "Thread count was 1 (of 4 available processors)\n",
      "\n",
      "Solution count 2: 1.08333 1 \n",
      "\n",
      "Optimal solution found (tolerance 1.00e-04)\n",
      "Best objective 1.083333333333e+00, best bound 1.083333333333e+00, gap 0.0000%\n",
      "Gurobi Optimizer version 11.0.3 build v11.0.3rc0 (linux64 - \"Ubuntu 20.04.6 LTS\")\n",
      "\n",
      "CPU model: Intel(R) Xeon(R) CPU @ 2.20GHz, instruction set [SSE2|AVX|AVX2]\n",
      "Thread count: 2 physical cores, 4 logical processors, using up to 4 threads\n",
      "\n",
      "Optimize a model with 7 rows, 12 columns and 17 nonzeros\n",
      "Coefficient statistics:\n",
      "  Matrix range     [1e+00, 4e+00]\n",
      "  Objective range  [1e+00, 1e+00]\n",
      "  Bounds range     [0e+00, 0e+00]\n",
      "  RHS range        [1e+00, 8e+00]\n",
      "LP warm-start: use basis\n",
      "\n",
      "Iteration    Objective       Primal Inf.    Dual Inf.      Time\n",
      "       0   -8.3333333e+28   1.083333e+30   8.333333e-02      0s\n",
      "       2    1.7750000e+01   0.000000e+00   0.000000e+00      0s\n",
      "\n",
      "Solved in 2 iterations and 0.01 seconds (0.00 work units)\n",
      "Optimal objective  1.775000000e+01\n",
      "Gurobi Optimizer version 11.0.3 build v11.0.3rc0 (linux64 - \"Ubuntu 20.04.6 LTS\")\n",
      "\n",
      "CPU model: Intel(R) Xeon(R) CPU @ 2.20GHz, instruction set [SSE2|AVX|AVX2]\n",
      "Thread count: 2 physical cores, 4 logical processors, using up to 4 threads\n",
      "\n",
      "Optimize a model with 1 rows, 7 columns and 7 nonzeros\n",
      "Model fingerprint: 0x8c29547b\n",
      "Variable types: 0 continuous, 7 integer (0 binary)\n",
      "Coefficient statistics:\n",
      "  Matrix range     [2e+00, 8e+00]\n",
      "  Objective range  [2e-01, 1e+00]\n",
      "  Bounds range     [0e+00, 0e+00]\n",
      "  RHS range        [9e+00, 9e+00]\n",
      "\n",
      "Loaded MIP start from previous solve with objective 1\n",
      "\n",
      "Presolve removed 1 rows and 7 columns\n",
      "Presolve time: 0.00s\n",
      "Presolve: All rows and columns removed\n",
      "\n",
      "Explored 0 nodes (0 simplex iterations) in 0.02 seconds (0.00 work units)\n",
      "Thread count was 1 (of 4 available processors)\n",
      "\n",
      "Solution count 1: 1 \n",
      "\n",
      "Optimal solution found (tolerance 1.00e-04)\n",
      "Best objective 1.000000000000e+00, best bound 1.000000000000e+00, gap 0.0000%\n"
     ]
    }
   ],
   "source": [
    "\n",
    "while 1:\n",
    "    master.optimize()\n",
    "    pricing.setObjective(gp.quicksum(demand_cons[i].Pi*select[i] for i in items), GRB.MAXIMIZE)\n",
    "    pricing.optimize()\n",
    "    # If a new pattern is found, we add it to the master problem.\n",
    "    if pricing.ObjVal > 1:\n",
    "        improve = 1\n",
    "        new_pattern = []\n",
    "        for i in items:\n",
    "            new_pattern.append(select[i].X)\n",
    "        # Due to numerical issues, it is possible that patterns incorrectly get identified as improving. If this happens, the same\n",
    "        # patterns will keep being added, and not being used in the master problem. The following statement is to identify this\n",
    "        # situation if it happens.\n",
    "        if new_pattern == patterns[len(patterns)-1]:\n",
    "            break\n",
    "        patterns.append(new_pattern)\n",
    "        # Build the new variable (and include in the objective with coefficient 1)\n",
    "        use[len(patterns)-1] = master.addVar(obj = 1)\n",
    "        # This includes the new variable/pattern in the constraints.\n",
    "        for i in items:\n",
    "            master.chgCoeff(demand_cons[i], use[len(patterns)-1], new_pattern[i])\n",
    "    else:\n",
    "        break\n",
    "        "
   ]
  },
  {
   "cell_type": "code",
   "execution_count": 7,
   "id": "9ee4b2a5",
   "metadata": {
    "execution": {
     "iopub.execute_input": "2024-09-09T18:26:29.411620Z",
     "iopub.status.busy": "2024-09-09T18:26:29.411192Z",
     "iopub.status.idle": "2024-09-09T18:26:29.420331Z",
     "shell.execute_reply": "2024-09-09T18:26:29.418638Z"
    },
    "papermill": {
     "duration": 0.042968,
     "end_time": "2024-09-09T18:26:29.423094",
     "exception": false,
     "start_time": "2024-09-09T18:26:29.380126",
     "status": "completed"
    },
    "tags": []
   },
   "outputs": [
    {
     "name": "stdout",
     "output_type": "stream",
     "text": [
      "\n",
      "Cost: 17.75\n",
      "\n",
      "Use:\n",
      "[4, 0, 0, 0, 0, 0, 0] 0.75\n",
      "[0, 0, 0, 0, 0, 0, 1] 8\n",
      "[-0.0, 0.0, 1.0, 1.0, -0.0, -0.0, -0.0] 6\n",
      "[0.0, 1.0, -0.0, -0.0, 1.0, -0.0, -0.0] 2\n",
      "[1.0, 0.0, -0.0, -0.0, -0.0, 1.0, -0.0] 1\n"
     ]
    }
   ],
   "source": [
    "def printSolution():\n",
    "    if master.status == GRB.OPTIMAL:\n",
    "        print('\\nCost: %g' % master.ObjVal)\n",
    "        print('\\nUse:')\n",
    "        for i in range(0,len(patterns)):\n",
    "            if use[i].X > 0.0001:\n",
    "                print('%s %g' % (patterns[i], use[i].X))\n",
    "    else:\n",
    "        print('No solution')\n",
    "        \n",
    "printSolution()"
   ]
  },
  {
   "cell_type": "code",
   "execution_count": 8,
   "id": "0079521d",
   "metadata": {
    "execution": {
     "iopub.execute_input": "2024-09-09T18:26:29.485224Z",
     "iopub.status.busy": "2024-09-09T18:26:29.484772Z",
     "iopub.status.idle": "2024-09-09T18:26:29.492597Z",
     "shell.execute_reply": "2024-09-09T18:26:29.491096Z"
    },
    "papermill": {
     "duration": 0.042634,
     "end_time": "2024-09-09T18:26:29.495859",
     "exception": false,
     "start_time": "2024-09-09T18:26:29.453225",
     "status": "completed"
    },
    "tags": []
   },
   "outputs": [
    {
     "name": "stdout",
     "output_type": "stream",
     "text": [
      "\\ Model MasterBin\n",
      "\\ LP format - for model browsing. Use MPS format to capture full model detail.\n",
      "Minimize\n",
      "  C0 + C1 + C2 + C3 + C4 + C5 + C6 + C7 + C8 + C9 + C10 + C11\n",
      "Subject To\n",
      " R0: 4 C0 + 2 C7 + C10 + 3 C11 >= 4\n",
      " R1: 3 C1 + C9 + C11 >= 2\n",
      " R2: 2 C2 + C8 >= 6\n",
      " R3: C3 + C7 + C8 >= 6\n",
      " R4: C4 + C9 >= 2\n",
      " R5: C5 + C10 >= 1\n",
      " R6: C6 >= 8\n",
      "Bounds\n",
      "End\n",
      "\n"
     ]
    }
   ],
   "source": [
    "master.write(\"binMaster.lp\")\n",
    "f = open(\"binMaster.lp\",\"r\")\n",
    "contents = f.read()\n",
    "print(contents)"
   ]
  },
  {
   "cell_type": "code",
   "execution_count": 9,
   "id": "a1a5a56a",
   "metadata": {
    "execution": {
     "iopub.execute_input": "2024-09-09T18:26:29.557491Z",
     "iopub.status.busy": "2024-09-09T18:26:29.557028Z",
     "iopub.status.idle": "2024-09-09T18:26:29.564396Z",
     "shell.execute_reply": "2024-09-09T18:26:29.563212Z"
    },
    "papermill": {
     "duration": 0.040617,
     "end_time": "2024-09-09T18:26:29.566844",
     "exception": false,
     "start_time": "2024-09-09T18:26:29.526227",
     "status": "completed"
    },
    "tags": []
   },
   "outputs": [
    {
     "name": "stdout",
     "output_type": "stream",
     "text": [
      "\\ Model PricingBin\n",
      "\\ LP format - for model browsing. Use MPS format to capture full model detail.\n",
      "Maximize\n",
      "  0.25 select[0] + 0.25 select[1] + 0.5 select[2] + 0.5 select[3]\n",
      "   + 0.75 select[4] + 0.75 select[5] + select[6]\n",
      "Subject To\n",
      " R0: 2 select[0] + 3 select[1] + 4 select[2] + 5 select[3] + 6 select[4]\n",
      "   + 7 select[5] + 8 select[6] <= 9\n",
      "Bounds\n",
      "Generals\n",
      " select[0] select[1] select[2] select[3] select[4] select[5] select[6]\n",
      "End\n",
      "\n"
     ]
    }
   ],
   "source": [
    "pricing.write(\"binPrice.lp\")\n",
    "f = open(\"binPrice.lp\",\"r\")\n",
    "contents = f.read()\n",
    "print(contents)"
   ]
  },
  {
   "cell_type": "code",
   "execution_count": null,
   "id": "c814eb7e",
   "metadata": {
    "papermill": {
     "duration": 0.029827,
     "end_time": "2024-09-09T18:26:29.627936",
     "exception": false,
     "start_time": "2024-09-09T18:26:29.598109",
     "status": "completed"
    },
    "tags": []
   },
   "outputs": [],
   "source": []
  }
 ],
 "metadata": {
  "kaggle": {
   "accelerator": "none",
   "dataSources": [],
   "dockerImageVersionId": 30761,
   "isGpuEnabled": false,
   "isInternetEnabled": true,
   "language": "python",
   "sourceType": "notebook"
  },
  "kernelspec": {
   "display_name": "Python 3",
   "language": "python",
   "name": "python3"
  },
  "language_info": {
   "codemirror_mode": {
    "name": "ipython",
    "version": 3
   },
   "file_extension": ".py",
   "mimetype": "text/x-python",
   "name": "python",
   "nbconvert_exporter": "python",
   "pygments_lexer": "ipython3",
   "version": "3.10.14"
  },
  "papermill": {
   "default_parameters": {},
   "duration": 22.870646,
   "end_time": "2024-09-09T18:26:30.079083",
   "environment_variables": {},
   "exception": null,
   "input_path": "__notebook__.ipynb",
   "output_path": "__notebook__.ipynb",
   "parameters": {},
   "start_time": "2024-09-09T18:26:07.208437",
   "version": "2.6.0"
  }
 },
 "nbformat": 4,
 "nbformat_minor": 5
}
