{
 "cells": [
  {
   "cell_type": "code",
   "execution_count": 1,
   "id": "5e7f70ce",
   "metadata": {
    "execution": {
     "iopub.execute_input": "2024-09-09T18:31:15.125447Z",
     "iopub.status.busy": "2024-09-09T18:31:15.124897Z",
     "iopub.status.idle": "2024-09-09T18:31:34.862855Z",
     "shell.execute_reply": "2024-09-09T18:31:34.860353Z"
    },
    "papermill": {
     "duration": 19.748034,
     "end_time": "2024-09-09T18:31:34.865917",
     "exception": false,
     "start_time": "2024-09-09T18:31:15.117883",
     "status": "completed"
    },
    "tags": []
   },
   "outputs": [
    {
     "name": "stdout",
     "output_type": "stream",
     "text": [
      "Note: you may need to restart the kernel to use updated packages.\n"
     ]
    }
   ],
   "source": [
    "%pip install gurobipy -qU"
   ]
  },
  {
   "cell_type": "code",
   "execution_count": 2,
   "id": "c146610c",
   "metadata": {
    "execution": {
     "iopub.execute_input": "2024-09-09T18:31:34.877626Z",
     "iopub.status.busy": "2024-09-09T18:31:34.877146Z",
     "iopub.status.idle": "2024-09-09T18:31:34.898458Z",
     "shell.execute_reply": "2024-09-09T18:31:34.897171Z"
    },
    "papermill": {
     "duration": 0.030818,
     "end_time": "2024-09-09T18:31:34.901651",
     "exception": false,
     "start_time": "2024-09-09T18:31:34.870833",
     "status": "completed"
    },
    "tags": []
   },
   "outputs": [],
   "source": [
    "import gurobipy as gp\n",
    "from gurobipy import GRB"
   ]
  },
  {
   "cell_type": "code",
   "execution_count": 3,
   "id": "6bebd30f",
   "metadata": {
    "execution": {
     "iopub.execute_input": "2024-09-09T18:31:34.913805Z",
     "iopub.status.busy": "2024-09-09T18:31:34.913135Z",
     "iopub.status.idle": "2024-09-09T18:31:34.920994Z",
     "shell.execute_reply": "2024-09-09T18:31:34.919571Z"
    },
    "papermill": {
     "duration": 0.017215,
     "end_time": "2024-09-09T18:31:34.923976",
     "exception": false,
     "start_time": "2024-09-09T18:31:34.906761",
     "status": "completed"
    },
    "tags": []
   },
   "outputs": [],
   "source": [
    "# A first dataset, used in the slides\n",
    "nr_items = 3\n",
    "items = range(0,nr_items)\n",
    "preferences = [[0,0.2,0],[0.8,0,0.2],[1,0.8,0]]\n",
    "orders = [[[0,1,0],[0,0,0],[1,1,0]],[[0,0,1],[1,0,1],[0,0,0]]]"
   ]
  },
  {
   "cell_type": "code",
   "execution_count": 4,
   "id": "e0f6c57b",
   "metadata": {
    "execution": {
     "iopub.execute_input": "2024-09-09T18:31:34.935441Z",
     "iopub.status.busy": "2024-09-09T18:31:34.934979Z",
     "iopub.status.idle": "2024-09-09T18:31:34.951312Z",
     "shell.execute_reply": "2024-09-09T18:31:34.949843Z"
    },
    "papermill": {
     "duration": 0.025596,
     "end_time": "2024-09-09T18:31:34.954270",
     "exception": false,
     "start_time": "2024-09-09T18:31:34.928674",
     "status": "completed"
    },
    "tags": []
   },
   "outputs": [
    {
     "name": "stdout",
     "output_type": "stream",
     "text": [
      "Restricted license - for non-production use only - expires 2025-11-24\n"
     ]
    }
   ],
   "source": [
    "# Create master model\n",
    "master = gp.Model(\"MasterRUM\")\n",
    "master.setParam('OutputFlag', 0)\n",
    "\n",
    "# Create initial variables. We have 1 initial variable per included preference order.\n",
    "x = {}\n",
    "for i in range(0,len(orders)):\n",
    "    x[i] = master.addVar(name = \"x[%d]\" %i)\n",
    "    \n",
    "# Create a slack variable, showing how far from a feasible solution we are.\n",
    "# We immediately include the objective coefficient\n",
    "slack = master.addVar(obj = 1, name = \"slack\")\n",
    "\n",
    "# Constraints to enforce preferences are explained\n",
    "constraints = {}\n",
    "for i in items:\n",
    "    constraints[i] = master.addConstrs(gp.quicksum(orders[k][i][j]*x[k] for k in range(0,len(orders))) + slack >= preferences[i][j] for j in items)     \n",
    "\n",
    "# Constraints to enforce sum of preference orders does not exceed 1\n",
    "# Since the objective is minimize, we multiply the natural constraint by -1 to keep greater than constraints.\n",
    "convex_const = master.addConstr(gp.quicksum(-x[k] for k in range(0,len(orders))) >= -1)"
   ]
  },
  {
   "cell_type": "code",
   "execution_count": 5,
   "id": "edfa977e",
   "metadata": {
    "execution": {
     "iopub.execute_input": "2024-09-09T18:31:34.966280Z",
     "iopub.status.busy": "2024-09-09T18:31:34.965818Z",
     "iopub.status.idle": "2024-09-09T18:31:34.977392Z",
     "shell.execute_reply": "2024-09-09T18:31:34.976285Z"
    },
    "papermill": {
     "duration": 0.021014,
     "end_time": "2024-09-09T18:31:34.980093",
     "exception": false,
     "start_time": "2024-09-09T18:31:34.959079",
     "status": "completed"
    },
    "tags": []
   },
   "outputs": [],
   "source": [
    "# Create pricing model\n",
    "pricing = gp.Model(\"PricingRUM\")\n",
    "pricing.setParam('OutputFlag', 0)\n",
    "\n",
    "# Create pricing variables\n",
    "y = {}\n",
    "for i in items:\n",
    "    y[i] = {}\n",
    "    for j in items:\n",
    "        if i != j:\n",
    "            y[i][j] = pricing.addVar(vtype = GRB.INTEGER, name = \"y[%d][%d]\"%(i,j))\n",
    "            \n",
    "# Constraints to enforce strict preferences. Between two alternatives, one must be preferred over the other.\n",
    "for i in items:\n",
    "    for j in range(i+1,nr_items):\n",
    "        pricing.addConstr(y[i][j] + y[j][i] == 1)\n",
    "            \n",
    "# Constraints to enforce transitivity\n",
    "for i in items:\n",
    "    for j in range(i+1,nr_items):\n",
    "        for k in range(j+1,nr_items):\n",
    "            pricing.addConstr(y[i][j] + y[j][k] + y[k][i] <= 2)\n",
    "            pricing.addConstr(y[i][k] + y[k][j] + y[j][i] <= 2)\n"
   ]
  },
  {
   "cell_type": "code",
   "execution_count": 6,
   "id": "b73fed27",
   "metadata": {
    "execution": {
     "iopub.execute_input": "2024-09-09T18:31:34.991924Z",
     "iopub.status.busy": "2024-09-09T18:31:34.991508Z",
     "iopub.status.idle": "2024-09-09T18:31:34.999123Z",
     "shell.execute_reply": "2024-09-09T18:31:34.998025Z"
    },
    "papermill": {
     "duration": 0.0169,
     "end_time": "2024-09-09T18:31:35.001730",
     "exception": false,
     "start_time": "2024-09-09T18:31:34.984830",
     "status": "completed"
    },
    "tags": []
   },
   "outputs": [],
   "source": [
    "def printMasterSolution():\n",
    "    if master.status == GRB.OPTIMAL:\n",
    "        print(\"Master Solution value = %f\" %master.Objval)\n",
    "        print(\"Slack = %f\" %slack.X)\n",
    "        for i in x:\n",
    "            print(\"Variable x[%d] = %f\" %(i,x[i].X))\n",
    "    else:\n",
    "        print('No solution')\n",
    "        \n",
    "def printPricingProblem():\n",
    "    pricing.write(\"RUMPricing.lp\")\n",
    "    f = open(\"RUMPricing.lp\",\"r\")\n",
    "    contents = f.read()\n",
    "    print(contents)"
   ]
  },
  {
   "cell_type": "code",
   "execution_count": 7,
   "id": "8958ee59",
   "metadata": {
    "execution": {
     "iopub.execute_input": "2024-09-09T18:31:35.013030Z",
     "iopub.status.busy": "2024-09-09T18:31:35.012563Z",
     "iopub.status.idle": "2024-09-09T18:31:35.032215Z",
     "shell.execute_reply": "2024-09-09T18:31:35.030705Z"
    },
    "papermill": {
     "duration": 0.028839,
     "end_time": "2024-09-09T18:31:35.035256",
     "exception": false,
     "start_time": "2024-09-09T18:31:35.006417",
     "status": "completed"
    },
    "tags": []
   },
   "outputs": [
    {
     "name": "stdout",
     "output_type": "stream",
     "text": [
      "Master Solution value = 0.400000\n",
      "Slack = 0.400000\n",
      "Variable x[0] = 0.600000\n",
      "Variable x[1] = 0.400000\n",
      "\\ Model PricingRUM\n",
      "\\ LP format - for model browsing. Use MPS format to capture full model detail.\n",
      "Maximize\n",
      "  0.5 y[1][0] + 0.5 y[2][0]\n",
      "Subject To\n",
      " R0: y[0][1] + y[1][0] = 1\n",
      " R1: y[0][2] + y[2][0] = 1\n",
      " R2: y[1][2] + y[2][1] = 1\n",
      " R3: y[0][1] + y[1][2] + y[2][0] <= 2\n",
      " R4: y[0][2] + y[1][0] + y[2][1] <= 2\n",
      "Bounds\n",
      "Generals\n",
      " y[0][1] y[0][2] y[1][0] y[1][2] y[2][0] y[2][1]\n",
      "End\n",
      "\n",
      "[[0, -0.0, -0.0], [1.0, 0, 1.0], [1.0, 0.0, 0]]\n",
      "Master Solution value = 0.300000\n",
      "Slack = 0.300000\n",
      "Variable x[0] = 0.500000\n",
      "Variable x[1] = 0.000000\n",
      "Variable x[2] = 0.500000\n",
      "\\ Model PricingRUM\n",
      "\\ LP format - for model browsing. Use MPS format to capture full model detail.\n",
      "Maximize\n",
      "  0.5 y[1][0] + 0.5 y[2][1]\n",
      "Subject To\n",
      " R0: y[0][1] + y[1][0] = 1\n",
      " R1: y[0][2] + y[2][0] = 1\n",
      " R2: y[1][2] + y[2][1] = 1\n",
      " R3: y[0][1] + y[1][2] + y[2][0] <= 2\n",
      " R4: y[0][2] + y[1][0] + y[2][1] <= 2\n",
      "Bounds\n",
      "Generals\n",
      " y[0][1] y[0][2] y[1][0] y[1][2] y[2][0] y[2][1]\n",
      "End\n",
      "\n",
      "[[0, 0.0, -0.0], [1.0, 0, -0.0], [1.0, 1.0, 0]]\n",
      "Master Solution value = 0.000000\n",
      "Slack = 0.000000\n",
      "Variable x[0] = 0.200000\n",
      "Variable x[1] = 0.000000\n",
      "Variable x[2] = 0.200000\n",
      "Variable x[3] = 0.600000\n",
      "\\ Model PricingRUM\n",
      "\\ LP format - for model browsing. Use MPS format to capture full model detail.\n",
      "Maximize\n",
      "  0.5 y[0][1] + 0.5 y[1][0]\n",
      "Subject To\n",
      " R0: y[0][1] + y[1][0] = 1\n",
      " R1: y[0][2] + y[2][0] = 1\n",
      " R2: y[1][2] + y[2][1] = 1\n",
      " R3: y[0][1] + y[1][2] + y[2][0] <= 2\n",
      " R4: y[0][2] + y[1][0] + y[2][1] <= 2\n",
      "Bounds\n",
      "Generals\n",
      " y[0][1] y[0][2] y[1][0] y[1][2] y[2][0] y[2][1]\n",
      "End\n",
      "\n"
     ]
    }
   ],
   "source": [
    "while 1:    \n",
    "    master.optimize()\n",
    "    printMasterSolution()\n",
    "    \n",
    "    pricing.setObjective(gp.quicksum(constraints[i][j].Pi*y[i][j] for i in items for j in items if i != j), GRB.MAXIMIZE)\n",
    "    printPricingProblem()\n",
    "    pricing.optimize()\n",
    "    # If a new preference order is found, we add it to the master problem.\n",
    "    if pricing.ObjVal > convex_const.Pi:\n",
    "        improve = 1\n",
    "        new_order = []\n",
    "        for i in items:\n",
    "            new_line = []\n",
    "            for j in items:\n",
    "                if i != j:\n",
    "                    new_line.append(y[i][j].X)\n",
    "                else:\n",
    "                    new_line.append(0)\n",
    "            new_order.append(new_line)\n",
    "        # Due to numerical issues, it is possible that patterns incorrectly get identified as improving. If this happens, the same\n",
    "        # patterns will keep being added, and not being used in the master problem. The following statement is to identify this\n",
    "        # situation if it happens.\n",
    "        if new_order == orders[len(orders)-1]:\n",
    "            break\n",
    "        orders.append(new_order)\n",
    "        print(new_order)\n",
    "        # Build the new variable (and include in the objective with coefficient 1)\n",
    "        x[len(orders)-1] = master.addVar()\n",
    "        # This includes the new variable/pattern in the constraints.\n",
    "        for i in items:\n",
    "            for j in items:\n",
    "                master.chgCoeff(constraints[i][j], x[len(orders)-1], new_order[i][j])\n",
    "        master.chgCoeff(convex_const, x[len(orders)-1], -1)\n",
    "    else:\n",
    "        break"
   ]
  },
  {
   "cell_type": "code",
   "execution_count": 8,
   "id": "4ade065e",
   "metadata": {
    "execution": {
     "iopub.execute_input": "2024-09-09T18:31:35.047699Z",
     "iopub.status.busy": "2024-09-09T18:31:35.047232Z",
     "iopub.status.idle": "2024-09-09T18:31:35.055879Z",
     "shell.execute_reply": "2024-09-09T18:31:35.054555Z"
    },
    "papermill": {
     "duration": 0.019254,
     "end_time": "2024-09-09T18:31:35.059951",
     "exception": false,
     "start_time": "2024-09-09T18:31:35.040697",
     "status": "completed"
    },
    "tags": []
   },
   "outputs": [
    {
     "name": "stdout",
     "output_type": "stream",
     "text": [
      "\\ Model MasterRUM\n",
      "\\ LP format - for model browsing. Use MPS format to capture full model detail.\n",
      "Minimize\n",
      "  slack\n",
      "Subject To\n",
      " R0: slack >= 0\n",
      " R1: x[0] + slack >= 0.2\n",
      " R2: x[1] + slack >= 0\n",
      " R3: x[1] + slack + C3 + C4 >= 0.8\n",
      " R4: slack >= 0\n",
      " R5: x[1] + slack + C3 >= 0.2\n",
      " R6: x[0] + slack + C3 + C4 >= 1\n",
      " R7: x[0] + slack + C4 >= 0.8\n",
      " R8: slack >= 0\n",
      " R9: - x[0] - x[1] - C3 - C4 >= -1\n",
      "Bounds\n",
      "End\n",
      "\n"
     ]
    }
   ],
   "source": [
    "master.write(\"RUMMaster.lp\")\n",
    "f = open(\"RUMMaster.lp\",\"r\")\n",
    "contents = f.read()\n",
    "print(contents)"
   ]
  },
  {
   "cell_type": "code",
   "execution_count": 9,
   "id": "59e6a634",
   "metadata": {
    "execution": {
     "iopub.execute_input": "2024-09-09T18:31:35.073034Z",
     "iopub.status.busy": "2024-09-09T18:31:35.071645Z",
     "iopub.status.idle": "2024-09-09T18:31:35.080059Z",
     "shell.execute_reply": "2024-09-09T18:31:35.078333Z"
    },
    "papermill": {
     "duration": 0.017945,
     "end_time": "2024-09-09T18:31:35.082988",
     "exception": false,
     "start_time": "2024-09-09T18:31:35.065043",
     "status": "completed"
    },
    "tags": []
   },
   "outputs": [
    {
     "name": "stdout",
     "output_type": "stream",
     "text": [
      "\\ Model PricingRUM\n",
      "\\ LP format - for model browsing. Use MPS format to capture full model detail.\n",
      "Maximize\n",
      "  0.5 y[0][1] + 0.5 y[1][0]\n",
      "Subject To\n",
      " R0: y[0][1] + y[1][0] = 1\n",
      " R1: y[0][2] + y[2][0] = 1\n",
      " R2: y[1][2] + y[2][1] = 1\n",
      " R3: y[0][1] + y[1][2] + y[2][0] <= 2\n",
      " R4: y[0][2] + y[1][0] + y[2][1] <= 2\n",
      "Bounds\n",
      "Generals\n",
      " y[0][1] y[0][2] y[1][0] y[1][2] y[2][0] y[2][1]\n",
      "End\n",
      "\n"
     ]
    }
   ],
   "source": [
    "pricing.write(\"RUMPricing.lp\")\n",
    "f = open(\"RUMPricing.lp\",\"r\")\n",
    "contents = f.read()\n",
    "print(contents)"
   ]
  },
  {
   "cell_type": "code",
   "execution_count": null,
   "id": "75c970b7",
   "metadata": {
    "papermill": {
     "duration": 0.004793,
     "end_time": "2024-09-09T18:31:35.093239",
     "exception": false,
     "start_time": "2024-09-09T18:31:35.088446",
     "status": "completed"
    },
    "tags": []
   },
   "outputs": [],
   "source": []
  }
 ],
 "metadata": {
  "kaggle": {
   "accelerator": "none",
   "dataSources": [],
   "dockerImageVersionId": 30761,
   "isGpuEnabled": false,
   "isInternetEnabled": true,
   "language": "python",
   "sourceType": "notebook"
  },
  "kernelspec": {
   "display_name": "Python 3",
   "language": "python",
   "name": "python3"
  },
  "language_info": {
   "codemirror_mode": {
    "name": "ipython",
    "version": 3
   },
   "file_extension": ".py",
   "mimetype": "text/x-python",
   "name": "python",
   "nbconvert_exporter": "python",
   "pygments_lexer": "ipython3",
   "version": "3.10.14"
  },
  "papermill": {
   "default_parameters": {},
   "duration": 23.897261,
   "end_time": "2024-09-09T18:31:35.521245",
   "environment_variables": {},
   "exception": null,
   "input_path": "__notebook__.ipynb",
   "output_path": "__notebook__.ipynb",
   "parameters": {},
   "start_time": "2024-09-09T18:31:11.623984",
   "version": "2.6.0"
  }
 },
 "nbformat": 4,
 "nbformat_minor": 5
}
