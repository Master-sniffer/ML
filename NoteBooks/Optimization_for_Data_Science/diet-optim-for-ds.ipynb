{
 "cells": [
  {
   "cell_type": "code",
   "execution_count": 1,
   "id": "f5901ff7",
   "metadata": {
    "execution": {
     "iopub.execute_input": "2024-09-09T18:30:47.912708Z",
     "iopub.status.busy": "2024-09-09T18:30:47.912156Z",
     "iopub.status.idle": "2024-09-09T18:31:03.407875Z",
     "shell.execute_reply": "2024-09-09T18:31:03.406322Z"
    },
    "papermill": {
     "duration": 15.504211,
     "end_time": "2024-09-09T18:31:03.410241",
     "exception": false,
     "start_time": "2024-09-09T18:30:47.906030",
     "status": "completed"
    },
    "tags": []
   },
   "outputs": [
    {
     "name": "stdout",
     "output_type": "stream",
     "text": [
      "Note: you may need to restart the kernel to use updated packages.\n"
     ]
    }
   ],
   "source": [
    "%pip install gurobipy -qU"
   ]
  },
  {
   "cell_type": "code",
   "execution_count": 2,
   "id": "2c65c98a",
   "metadata": {
    "execution": {
     "iopub.execute_input": "2024-09-09T18:31:03.419583Z",
     "iopub.status.busy": "2024-09-09T18:31:03.418564Z",
     "iopub.status.idle": "2024-09-09T18:31:03.437830Z",
     "shell.execute_reply": "2024-09-09T18:31:03.436755Z"
    },
    "papermill": {
     "duration": 0.026655,
     "end_time": "2024-09-09T18:31:03.440389",
     "exception": false,
     "start_time": "2024-09-09T18:31:03.413734",
     "status": "completed"
    },
    "tags": []
   },
   "outputs": [],
   "source": [
    "import gurobipy as gp\n",
    "from gurobipy import GRB"
   ]
  },
  {
   "cell_type": "code",
   "execution_count": 3,
   "id": "3735002b",
   "metadata": {
    "execution": {
     "iopub.execute_input": "2024-09-09T18:31:03.450589Z",
     "iopub.status.busy": "2024-09-09T18:31:03.449852Z",
     "iopub.status.idle": "2024-09-09T18:31:03.462686Z",
     "shell.execute_reply": "2024-09-09T18:31:03.461591Z"
    },
    "papermill": {
     "duration": 0.020558,
     "end_time": "2024-09-09T18:31:03.465071",
     "exception": false,
     "start_time": "2024-09-09T18:31:03.444513",
     "status": "completed"
    },
    "tags": []
   },
   "outputs": [],
   "source": [
    "categories, minNutrition, maxNutrition = gp.multidict({\n",
    "    'calories': [1800, 2200],\n",
    "    'protein':  [91, GRB.INFINITY],\n",
    "    'fat':      [0, 65],\n",
    "    'sodium':   [0, 1779]})\n",
    "\n",
    "foods, cost = gp.multidict({\n",
    "    'hamburger': 2.49,\n",
    "    'chicken':   2.89,\n",
    "    'hot dog':   1.50,\n",
    "    'fries':     1.89,\n",
    "    'macaroni':  2.09,\n",
    "    'pizza':     1.99,\n",
    "    'salad':     2.49,\n",
    "    'milk':      0.89,\n",
    "    'ice cream': 1.59})\n",
    "\n",
    "# Nutrition values for the foods\n",
    "nutritionValues = {\n",
    "    ('hamburger', 'calories'): 410,\n",
    "    ('hamburger', 'protein'):  24,\n",
    "    ('hamburger', 'fat'):      26,\n",
    "    ('hamburger', 'sodium'):   730,\n",
    "    ('chicken',   'calories'): 420,\n",
    "    ('chicken',   'protein'):  32,\n",
    "    ('chicken',   'fat'):      10,\n",
    "    ('chicken',   'sodium'):   1190,\n",
    "    ('hot dog',   'calories'): 560,\n",
    "    ('hot dog',   'protein'):  20,\n",
    "    ('hot dog',   'fat'):      32,\n",
    "    ('hot dog',   'sodium'):   1800,\n",
    "    ('fries',     'calories'): 380,\n",
    "    ('fries',     'protein'):  4,\n",
    "    ('fries',     'fat'):      19,\n",
    "    ('fries',     'sodium'):   270,\n",
    "    ('macaroni',  'calories'): 320,\n",
    "    ('macaroni',  'protein'):  12,\n",
    "    ('macaroni',  'fat'):      10,\n",
    "    ('macaroni',  'sodium'):   930,\n",
    "    ('pizza',     'calories'): 320,\n",
    "    ('pizza',     'protein'):  15,\n",
    "    ('pizza',     'fat'):      12,\n",
    "    ('pizza',     'sodium'):   820,\n",
    "    ('salad',     'calories'): 320,\n",
    "    ('salad',     'protein'):  31,\n",
    "    ('salad',     'fat'):      12,\n",
    "    ('salad',     'sodium'):   1230,\n",
    "    ('milk',      'calories'): 100,\n",
    "    ('milk',      'protein'):  8,\n",
    "    ('milk',      'fat'):      2.5,\n",
    "    ('milk',      'sodium'):   125,\n",
    "    ('ice cream', 'calories'): 330,\n",
    "    ('ice cream', 'protein'):  8,\n",
    "    ('ice cream', 'fat'):      10,\n",
    "    ('ice cream', 'sodium'):   180}"
   ]
  },
  {
   "cell_type": "code",
   "execution_count": 4,
   "id": "bb2dc770",
   "metadata": {
    "execution": {
     "iopub.execute_input": "2024-09-09T18:31:03.473967Z",
     "iopub.status.busy": "2024-09-09T18:31:03.473541Z",
     "iopub.status.idle": "2024-09-09T18:31:03.482804Z",
     "shell.execute_reply": "2024-09-09T18:31:03.481654Z"
    },
    "papermill": {
     "duration": 0.016725,
     "end_time": "2024-09-09T18:31:03.485520",
     "exception": false,
     "start_time": "2024-09-09T18:31:03.468795",
     "status": "completed"
    },
    "tags": []
   },
   "outputs": [
    {
     "name": "stdout",
     "output_type": "stream",
     "text": [
      "Restricted license - for non-production use only - expires 2025-11-24\n"
     ]
    }
   ],
   "source": [
    "# Model\n",
    "m = gp.Model(\"diet\")\n",
    "\n",
    "# Create decision variables for the foods to buy\n",
    "#buy = m.addVars(foods, name=\"buy\")\n",
    "buy = m.addVars(foods, lb=-1000,name = \"buy\")\n",
    "\n",
    "# You could use Python looping constructs and m.addVar() to create\n",
    "# these decision variables instead.  The following would be equivalent\n",
    "#\n",
    "# buy = {}\n",
    "# for f in foods:\n",
    "#   buy[f] = m.addVar(name=f)"
   ]
  },
  {
   "cell_type": "code",
   "execution_count": 5,
   "id": "98231118",
   "metadata": {
    "execution": {
     "iopub.execute_input": "2024-09-09T18:31:03.494150Z",
     "iopub.status.busy": "2024-09-09T18:31:03.493776Z",
     "iopub.status.idle": "2024-09-09T18:31:03.499160Z",
     "shell.execute_reply": "2024-09-09T18:31:03.498056Z"
    },
    "papermill": {
     "duration": 0.012576,
     "end_time": "2024-09-09T18:31:03.501610",
     "exception": false,
     "start_time": "2024-09-09T18:31:03.489034",
     "status": "completed"
    },
    "tags": []
   },
   "outputs": [],
   "source": [
    "# The objective is to minimize the costs\n",
    "m.setObjective(buy.prod(cost), GRB.MINIMIZE)\n",
    "\n",
    "# Using looping constructs, the preceding statement would be:\n",
    "#\n",
    "# m.setObjective(sum(buy[f]*cost[f] for f in foods), GRB.MINIMIZE)"
   ]
  },
  {
   "cell_type": "code",
   "execution_count": 6,
   "id": "4c0232d9",
   "metadata": {
    "execution": {
     "iopub.execute_input": "2024-09-09T18:31:03.510593Z",
     "iopub.status.busy": "2024-09-09T18:31:03.510165Z",
     "iopub.status.idle": "2024-09-09T18:31:03.519899Z",
     "shell.execute_reply": "2024-09-09T18:31:03.518916Z"
    },
    "papermill": {
     "duration": 0.016589,
     "end_time": "2024-09-09T18:31:03.522113",
     "exception": false,
     "start_time": "2024-09-09T18:31:03.505524",
     "status": "completed"
    },
    "tags": []
   },
   "outputs": [
    {
     "data": {
      "text/plain": [
       "{'calories': <gurobi.Constr *Awaiting Model Update*>,\n",
       " 'protein': <gurobi.Constr *Awaiting Model Update*>,\n",
       " 'fat': <gurobi.Constr *Awaiting Model Update*>,\n",
       " 'sodium': <gurobi.Constr *Awaiting Model Update*>}"
      ]
     },
     "execution_count": 6,
     "metadata": {},
     "output_type": "execute_result"
    }
   ],
   "source": [
    "# Nutrition constraints\n",
    "m.addConstrs((gp.quicksum(nutritionValues[f, c] * buy[f] for f in foods)\n",
    "             == [minNutrition[c], maxNutrition[c]]\n",
    "             for c in categories), \"_\")\n",
    "\n",
    "# Using looping constructs, the preceding statement would be:\n",
    "#\n",
    "# for c in categories:\n",
    "#  m.addRange(sum(nutritionValues[f, c] * buy[f] for f in foods),\n",
    "#             minNutrition[c], maxNutrition[c], c)"
   ]
  },
  {
   "cell_type": "code",
   "execution_count": 7,
   "id": "fb37121a",
   "metadata": {
    "execution": {
     "iopub.execute_input": "2024-09-09T18:31:03.530759Z",
     "iopub.status.busy": "2024-09-09T18:31:03.530340Z",
     "iopub.status.idle": "2024-09-09T18:31:03.537059Z",
     "shell.execute_reply": "2024-09-09T18:31:03.535819Z"
    },
    "papermill": {
     "duration": 0.013684,
     "end_time": "2024-09-09T18:31:03.539413",
     "exception": false,
     "start_time": "2024-09-09T18:31:03.525729",
     "status": "completed"
    },
    "tags": []
   },
   "outputs": [],
   "source": [
    "def printSolution():\n",
    "    if m.status == GRB.OPTIMAL:\n",
    "        print('\\nCost: %g' % m.ObjVal)\n",
    "        print('\\nBuy:')\n",
    "        for f in foods:\n",
    "            if buy[f].X > 0.0001:\n",
    "                print('%s %g' % (f, buy[f].X))\n",
    "            if buy[f].X < -0.001:\n",
    "                print('%s %g' % (f, buy[f].X))\n",
    "    else:\n",
    "        print('No solution')"
   ]
  },
  {
   "cell_type": "code",
   "execution_count": 8,
   "id": "6478ea93",
   "metadata": {
    "execution": {
     "iopub.execute_input": "2024-09-09T18:31:03.548490Z",
     "iopub.status.busy": "2024-09-09T18:31:03.547662Z",
     "iopub.status.idle": "2024-09-09T18:31:03.574349Z",
     "shell.execute_reply": "2024-09-09T18:31:03.573255Z"
    },
    "papermill": {
     "duration": 0.036661,
     "end_time": "2024-09-09T18:31:03.579708",
     "exception": false,
     "start_time": "2024-09-09T18:31:03.543047",
     "status": "completed"
    },
    "tags": []
   },
   "outputs": [
    {
     "name": "stdout",
     "output_type": "stream",
     "text": [
      "Gurobi Optimizer version 11.0.3 build v11.0.3rc0 (linux64 - \"Ubuntu 20.04.6 LTS\")\n",
      "\n",
      "CPU model: Intel(R) Xeon(R) CPU @ 2.20GHz, instruction set [SSE2|AVX|AVX2]\n",
      "Thread count: 2 physical cores, 4 logical processors, using up to 4 threads\n",
      "\n",
      "Optimize a model with 4 rows, 12 columns and 39 nonzeros\n",
      "Model fingerprint: 0x2ad7d20d\n",
      "Coefficient statistics:\n",
      "  Matrix range     [1e+00, 2e+03]\n",
      "  Objective range  [9e-01, 3e+00]\n",
      "  Bounds range     [6e+01, 2e+03]\n",
      "  RHS range        [6e+01, 2e+03]\n",
      "Presolve time: 0.01s\n",
      "Presolved: 4 rows, 12 columns, 39 nonzeros\n",
      "\n",
      "Iteration    Objective       Primal Inf.    Dual Inf.      Time\n",
      "       0   -7.6495312e+30   4.554321e+31   7.649531e+00      0s\n",
      "       6   -2.2867863e+03   0.000000e+00   0.000000e+00      0s\n",
      "\n",
      "Solved in 6 iterations and 0.01 seconds (0.00 work units)\n",
      "Optimal objective -2.286786275e+03\n",
      "\n",
      "Cost: -2286.79\n",
      "\n",
      "Buy:\n",
      "hamburger 157.011\n",
      "chicken 1251.59\n",
      "hot dog 875.297\n",
      "fries -1000\n",
      "macaroni -1000\n",
      "pizza -1000\n",
      "salad -1000\n",
      "milk -1000\n",
      "ice cream 1095.73\n"
     ]
    }
   ],
   "source": [
    "# Solve\n",
    "m.optimize()\n",
    "printSolution()"
   ]
  },
  {
   "cell_type": "code",
   "execution_count": 9,
   "id": "85af9d9e",
   "metadata": {
    "execution": {
     "iopub.execute_input": "2024-09-09T18:31:03.592112Z",
     "iopub.status.busy": "2024-09-09T18:31:03.591708Z",
     "iopub.status.idle": "2024-09-09T18:31:03.601005Z",
     "shell.execute_reply": "2024-09-09T18:31:03.599501Z"
    },
    "papermill": {
     "duration": 0.01851,
     "end_time": "2024-09-09T18:31:03.603815",
     "exception": false,
     "start_time": "2024-09-09T18:31:03.585305",
     "status": "completed"
    },
    "tags": []
   },
   "outputs": [
    {
     "name": "stdout",
     "output_type": "stream",
     "text": [
      "Warning: variable name \"buy[hot dog]\" has a space\n",
      "Warning: to let Gurobi read it back, use rlp format\n",
      "\\ Model diet\n",
      "\\ LP format - for model browsing. Use MPS format to capture full model detail.\n",
      "Minimize\n",
      "  2.49 buy[hamburger] + 2.89 buy[chicken] + 1.5 buy[hot_dog]\n",
      "   + 1.89 buy[fries] + 2.09 buy[macaroni] + 1.99 buy[pizza]\n",
      "   + 2.49 buy[salad] + 0.89 buy[milk] + 1.59 buy[ice_cream]\n",
      "Subject To\n",
      " calories: 410 buy[hamburger] + 420 buy[chicken] + 560 buy[hot_dog]\n",
      "   + 380 buy[fries] + 320 buy[macaroni] + 320 buy[pizza] + 320 buy[salad]\n",
      "   + 100 buy[milk] + 330 buy[ice_cream] + Rgcalories = 2200\n",
      " protein: 24 buy[hamburger] + 32 buy[chicken] + 20 buy[hot_dog]\n",
      "   + 4 buy[fries] + 12 buy[macaroni] + 15 buy[pizza] + 31 buy[salad]\n",
      "   + 8 buy[milk] + 8 buy[ice_cream] >= 91\n",
      " fat: 26 buy[hamburger] + 10 buy[chicken] + 32 buy[hot_dog] + 19 buy[fries]\n",
      "   + 10 buy[macaroni] + 12 buy[pizza] + 12 buy[salad] + 2.5 buy[milk]\n",
      "   + 10 buy[ice_cream] + Rgfat = 65\n",
      " sodium: 730 buy[hamburger] + 1190 buy[chicken] + 1800 buy[hot_dog]\n",
      "   + 270 buy[fries] + 930 buy[macaroni] + 820 buy[pizza] + 1230 buy[salad]\n",
      "   + 125 buy[milk] + 180 buy[ice_cream] + Rgsodium = 1779\n",
      "Bounds\n",
      " buy[hamburger] >= -1000\n",
      " buy[chicken] >= -1000\n",
      " buy[hot_dog] >= -1000\n",
      " buy[fries] >= -1000\n",
      " buy[macaroni] >= -1000\n",
      " buy[pizza] >= -1000\n",
      " buy[salad] >= -1000\n",
      " buy[milk] >= -1000\n",
      " buy[ice_cream] >= -1000\n",
      " Rgcalories <= 400\n",
      " Rgfat <= 65\n",
      " Rgsodium <= 1779\n",
      "End\n",
      "\n"
     ]
    }
   ],
   "source": [
    "m.write(\"diet.lp\")\n",
    "f = open(\"diet.lp\",\"r\")\n",
    "contents = f.read()\n",
    "print(contents)"
   ]
  },
  {
   "cell_type": "code",
   "execution_count": 10,
   "id": "d02cea18",
   "metadata": {
    "execution": {
     "iopub.execute_input": "2024-09-09T18:31:03.616408Z",
     "iopub.status.busy": "2024-09-09T18:31:03.615945Z",
     "iopub.status.idle": "2024-09-09T18:31:03.647376Z",
     "shell.execute_reply": "2024-09-09T18:31:03.646069Z"
    },
    "papermill": {
     "duration": 0.042117,
     "end_time": "2024-09-09T18:31:03.651362",
     "exception": false,
     "start_time": "2024-09-09T18:31:03.609245",
     "status": "completed"
    },
    "tags": []
   },
   "outputs": [
    {
     "name": "stdout",
     "output_type": "stream",
     "text": [
      "\n",
      "Adding constraint: at most 6 servings of dairy\n",
      "Gurobi Optimizer version 11.0.3 build v11.0.3rc0 (linux64 - \"Ubuntu 20.04.6 LTS\")\n",
      "\n",
      "CPU model: Intel(R) Xeon(R) CPU @ 2.20GHz, instruction set [SSE2|AVX|AVX2]\n",
      "Thread count: 2 physical cores, 4 logical processors, using up to 4 threads\n",
      "\n",
      "Optimize a model with 5 rows, 12 columns and 41 nonzeros\n",
      "Coefficient statistics:\n",
      "  Matrix range     [1e+00, 2e+03]\n",
      "  Objective range  [9e-01, 3e+00]\n",
      "  Bounds range     [6e+01, 2e+03]\n",
      "  RHS range        [6e+00, 2e+03]\n",
      "LP warm-start: use basis\n",
      "\n",
      "Iteration    Objective       Primal Inf.    Dual Inf.      Time\n",
      "       0   -2.2867863e+03   1.794554e+02   0.000000e+00      0s\n",
      "       1   -2.2307488e+03   0.000000e+00   0.000000e+00      0s\n",
      "\n",
      "Solved in 1 iterations and 0.01 seconds (0.00 work units)\n",
      "Optimal objective -2.230748841e+03\n",
      "\n",
      "Cost: -2230.75\n",
      "\n",
      "Buy:\n",
      "hamburger 141.524\n",
      "chicken 1288.77\n",
      "hot dog 853.017\n",
      "fries -913.624\n",
      "macaroni -1000\n",
      "pizza -1000\n",
      "salad -1000\n",
      "milk -1000\n",
      "ice cream 1006\n"
     ]
    }
   ],
   "source": [
    "print('\\nAdding constraint: at most 6 servings of dairy')\n",
    "m.addConstr(buy.sum(['milk', 'ice cream']) <= 6, \"limit_dairy\")\n",
    "\n",
    "# Solve\n",
    "m.optimize()\n",
    "printSolution()"
   ]
  }
 ],
 "metadata": {
  "kaggle": {
   "accelerator": "none",
   "dataSources": [],
   "dockerImageVersionId": 30761,
   "isGpuEnabled": false,
   "isInternetEnabled": true,
   "language": "python",
   "sourceType": "notebook"
  },
  "kernelspec": {
   "display_name": "Python 3",
   "language": "python",
   "name": "python3"
  },
  "language_info": {
   "codemirror_mode": {
    "name": "ipython",
    "version": 3
   },
   "file_extension": ".py",
   "mimetype": "text/x-python",
   "name": "python",
   "nbconvert_exporter": "python",
   "pygments_lexer": "ipython3",
   "version": "3.10.14"
  },
  "papermill": {
   "default_parameters": {},
   "duration": 18.861433,
   "end_time": "2024-09-09T18:31:04.179459",
   "environment_variables": {},
   "exception": null,
   "input_path": "__notebook__.ipynb",
   "output_path": "__notebook__.ipynb",
   "parameters": {},
   "start_time": "2024-09-09T18:30:45.318026",
   "version": "2.6.0"
  }
 },
 "nbformat": 4,
 "nbformat_minor": 5
}
