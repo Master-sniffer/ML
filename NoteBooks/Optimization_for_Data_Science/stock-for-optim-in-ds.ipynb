{
 "cells": [
  {
   "cell_type": "code",
   "execution_count": 1,
   "id": "dcb2f120",
   "metadata": {
    "execution": {
     "iopub.execute_input": "2024-09-09T18:31:43.959480Z",
     "iopub.status.busy": "2024-09-09T18:31:43.958912Z",
     "iopub.status.idle": "2024-09-09T18:32:04.757212Z",
     "shell.execute_reply": "2024-09-09T18:32:04.755283Z"
    },
    "papermill": {
     "duration": 20.810561,
     "end_time": "2024-09-09T18:32:04.760422",
     "exception": false,
     "start_time": "2024-09-09T18:31:43.949861",
     "status": "completed"
    },
    "tags": []
   },
   "outputs": [
    {
     "name": "stdout",
     "output_type": "stream",
     "text": [
      "Note: you may need to restart the kernel to use updated packages.\n"
     ]
    }
   ],
   "source": [
    "%pip install gurobipy -qU"
   ]
  },
  {
   "cell_type": "code",
   "execution_count": 2,
   "id": "6c1fe042",
   "metadata": {
    "execution": {
     "iopub.execute_input": "2024-09-09T18:32:04.775729Z",
     "iopub.status.busy": "2024-09-09T18:32:04.774450Z",
     "iopub.status.idle": "2024-09-09T18:32:04.799650Z",
     "shell.execute_reply": "2024-09-09T18:32:04.798287Z"
    },
    "papermill": {
     "duration": 0.036465,
     "end_time": "2024-09-09T18:32:04.802896",
     "exception": false,
     "start_time": "2024-09-09T18:32:04.766431",
     "status": "completed"
    },
    "tags": []
   },
   "outputs": [],
   "source": [
    "import gurobipy as gp\n",
    "from gurobipy import GRB"
   ]
  },
  {
   "cell_type": "code",
   "execution_count": 3,
   "id": "86b831e5",
   "metadata": {
    "execution": {
     "iopub.execute_input": "2024-09-09T18:32:04.817811Z",
     "iopub.status.busy": "2024-09-09T18:32:04.816789Z",
     "iopub.status.idle": "2024-09-09T18:32:04.824234Z",
     "shell.execute_reply": "2024-09-09T18:32:04.822730Z"
    },
    "papermill": {
     "duration": 0.018585,
     "end_time": "2024-09-09T18:32:04.827351",
     "exception": false,
     "start_time": "2024-09-09T18:32:04.808766",
     "status": "completed"
    },
    "tags": []
   },
   "outputs": [],
   "source": [
    "periods = range(3)\n",
    "demands = [15,35,60]\n",
    "capacity = 40\n",
    "stockcost = 3\n",
    "suppliercost = 5"
   ]
  },
  {
   "cell_type": "code",
   "execution_count": 4,
   "id": "5f203b02",
   "metadata": {
    "execution": {
     "iopub.execute_input": "2024-09-09T18:32:04.841763Z",
     "iopub.status.busy": "2024-09-09T18:32:04.841212Z",
     "iopub.status.idle": "2024-09-09T18:32:04.854330Z",
     "shell.execute_reply": "2024-09-09T18:32:04.852484Z"
    },
    "papermill": {
     "duration": 0.023856,
     "end_time": "2024-09-09T18:32:04.857587",
     "exception": false,
     "start_time": "2024-09-09T18:32:04.833731",
     "status": "completed"
    },
    "tags": []
   },
   "outputs": [
    {
     "name": "stdout",
     "output_type": "stream",
     "text": [
      "Restricted license - for non-production use only - expires 2025-11-24\n"
     ]
    }
   ],
   "source": [
    "# Model\n",
    "m = gp.Model(\"stock\")\n",
    "\n",
    "#Variables\n",
    "produce = m.addVars(periods, name = \"produce\" )\n",
    "buy = m.addVars(periods, name = \"buy\")\n",
    "stock = m.addVars(periods, name = \"stock\")"
   ]
  },
  {
   "cell_type": "code",
   "execution_count": 5,
   "id": "ee7d9b76",
   "metadata": {
    "execution": {
     "iopub.execute_input": "2024-09-09T18:32:04.871256Z",
     "iopub.status.busy": "2024-09-09T18:32:04.870697Z",
     "iopub.status.idle": "2024-09-09T18:32:04.877798Z",
     "shell.execute_reply": "2024-09-09T18:32:04.876602Z"
    },
    "papermill": {
     "duration": 0.017436,
     "end_time": "2024-09-09T18:32:04.880568",
     "exception": false,
     "start_time": "2024-09-09T18:32:04.863132",
     "status": "completed"
    },
    "tags": []
   },
   "outputs": [],
   "source": [
    "# The objective is to minimize the costs\n",
    "m.setObjective(sum(buy[p]*suppliercost for p in periods) + sum(stock[p]*stockcost for p in periods), GRB.MINIMIZE)"
   ]
  },
  {
   "cell_type": "code",
   "execution_count": 6,
   "id": "e432c0b9",
   "metadata": {
    "execution": {
     "iopub.execute_input": "2024-09-09T18:32:04.894795Z",
     "iopub.status.busy": "2024-09-09T18:32:04.893625Z",
     "iopub.status.idle": "2024-09-09T18:32:04.900574Z",
     "shell.execute_reply": "2024-09-09T18:32:04.899354Z"
    },
    "papermill": {
     "duration": 0.01779,
     "end_time": "2024-09-09T18:32:04.903971",
     "exception": false,
     "start_time": "2024-09-09T18:32:04.886181",
     "status": "completed"
    },
    "tags": []
   },
   "outputs": [],
   "source": [
    "# Constraints on the production per time period\n",
    "for p in periods:\n",
    "  m.addConstr(produce[p] <= 40)"
   ]
  },
  {
   "cell_type": "code",
   "execution_count": 7,
   "id": "ec8170fe",
   "metadata": {
    "execution": {
     "iopub.execute_input": "2024-09-09T18:32:04.917577Z",
     "iopub.status.busy": "2024-09-09T18:32:04.917026Z",
     "iopub.status.idle": "2024-09-09T18:32:04.925190Z",
     "shell.execute_reply": "2024-09-09T18:32:04.923717Z"
    },
    "papermill": {
     "duration": 0.018671,
     "end_time": "2024-09-09T18:32:04.928313",
     "exception": false,
     "start_time": "2024-09-09T18:32:04.909642",
     "status": "completed"
    },
    "tags": []
   },
   "outputs": [],
   "source": [
    "# Constraints on the production per time period\n",
    "m.addConstr(stock[0] - produce[0] + demands[0] == 0)\n",
    "for p in range(1,3):\n",
    "    m.addConstr(stock[p] -stock [p-1] - produce[p] + demands[p] == 0)"
   ]
  },
  {
   "cell_type": "code",
   "execution_count": 8,
   "id": "f1a2c80d",
   "metadata": {
    "execution": {
     "iopub.execute_input": "2024-09-09T18:32:04.942442Z",
     "iopub.status.busy": "2024-09-09T18:32:04.941299Z",
     "iopub.status.idle": "2024-09-09T18:32:04.949382Z",
     "shell.execute_reply": "2024-09-09T18:32:04.948125Z"
    },
    "papermill": {
     "duration": 0.018067,
     "end_time": "2024-09-09T18:32:04.952171",
     "exception": false,
     "start_time": "2024-09-09T18:32:04.934104",
     "status": "completed"
    },
    "tags": []
   },
   "outputs": [
    {
     "name": "stdout",
     "output_type": "stream",
     "text": [
      "\\ Model stock\n",
      "\\ LP format - for model browsing. Use MPS format to capture full model detail.\n",
      "Minimize\n",
      "  5 buy[0] + 5 buy[1] + 5 buy[2] + 3 stock[0] + 3 stock[1] + 3 stock[2]\n",
      "Subject To\n",
      " R0: produce[0] <= 40\n",
      " R1: produce[1] <= 40\n",
      " R2: produce[2] <= 40\n",
      " R3: - produce[0] + stock[0] = -15\n",
      " R4: - produce[1] - stock[0] + stock[1] = -35\n",
      " R5: - produce[2] - stock[1] + stock[2] = -60\n",
      "Bounds\n",
      "End\n",
      "\n"
     ]
    }
   ],
   "source": [
    "m.write(\"stock.lp\")\n",
    "f = open(\"stock.lp\",\"r\")\n",
    "contents = f.read()\n",
    "print(contents)"
   ]
  },
  {
   "cell_type": "code",
   "execution_count": 9,
   "id": "fb72545d",
   "metadata": {
    "execution": {
     "iopub.execute_input": "2024-09-09T18:32:04.966168Z",
     "iopub.status.busy": "2024-09-09T18:32:04.964993Z",
     "iopub.status.idle": "2024-09-09T18:32:04.996641Z",
     "shell.execute_reply": "2024-09-09T18:32:04.995298Z"
    },
    "papermill": {
     "duration": 0.049744,
     "end_time": "2024-09-09T18:32:05.007517",
     "exception": false,
     "start_time": "2024-09-09T18:32:04.957773",
     "status": "completed"
    },
    "tags": []
   },
   "outputs": [
    {
     "name": "stdout",
     "output_type": "stream",
     "text": [
      "Gurobi Optimizer version 11.0.3 build v11.0.3rc0 (linux64 - \"Ubuntu 20.04.6 LTS\")\n",
      "\n",
      "CPU model: Intel(R) Xeon(R) CPU @ 2.20GHz, instruction set [SSE2|AVX|AVX2]\n",
      "Thread count: 2 physical cores, 4 logical processors, using up to 4 threads\n",
      "\n",
      "Optimize a model with 6 rows, 9 columns and 11 nonzeros\n",
      "Model fingerprint: 0x0c34400b\n",
      "Coefficient statistics:\n",
      "  Matrix range     [1e+00, 1e+00]\n",
      "  Objective range  [3e+00, 5e+00]\n",
      "  Bounds range     [0e+00, 0e+00]\n",
      "  RHS range        [2e+01, 6e+01]\n",
      "Presolve removed 6 rows and 9 columns\n",
      "Presolve time: 0.01s\n",
      "Presolve: All rows and columns removed\n",
      "Iteration    Objective       Primal Inf.    Dual Inf.      Time\n",
      "       0    1.0500000e+02   0.000000e+00   0.000000e+00      0s\n",
      "\n",
      "Solved in 0 iterations and 0.02 seconds (0.00 work units)\n",
      "Optimal objective  1.050000000e+02\n"
     ]
    }
   ],
   "source": [
    "# Solve\n",
    "m.optimize()"
   ]
  },
  {
   "cell_type": "code",
   "execution_count": 10,
   "id": "9a7f0cf9",
   "metadata": {
    "execution": {
     "iopub.execute_input": "2024-09-09T18:32:05.025156Z",
     "iopub.status.busy": "2024-09-09T18:32:05.024625Z",
     "iopub.status.idle": "2024-09-09T18:32:05.033029Z",
     "shell.execute_reply": "2024-09-09T18:32:05.031359Z"
    },
    "papermill": {
     "duration": 0.021757,
     "end_time": "2024-09-09T18:32:05.036504",
     "exception": false,
     "start_time": "2024-09-09T18:32:05.014747",
     "status": "completed"
    },
    "tags": []
   },
   "outputs": [],
   "source": [
    "def printSolution():\n",
    "    if m.status == GRB.OPTIMAL:\n",
    "        print('\\nCost: %g' % m.ObjVal)\n",
    "        for p in periods:\n",
    "            print(\"Buy = \", buy[p].X, \" Produce = \", produce[p].X, \" Stock = \", stock[p].X)\n",
    "    else:\n",
    "        print('No solution')"
   ]
  },
  {
   "cell_type": "code",
   "execution_count": 11,
   "id": "1bc67641",
   "metadata": {
    "execution": {
     "iopub.execute_input": "2024-09-09T18:32:05.054259Z",
     "iopub.status.busy": "2024-09-09T18:32:05.053596Z",
     "iopub.status.idle": "2024-09-09T18:32:05.061473Z",
     "shell.execute_reply": "2024-09-09T18:32:05.059740Z"
    },
    "papermill": {
     "duration": 0.020639,
     "end_time": "2024-09-09T18:32:05.065043",
     "exception": false,
     "start_time": "2024-09-09T18:32:05.044404",
     "status": "completed"
    },
    "tags": []
   },
   "outputs": [
    {
     "name": "stdout",
     "output_type": "stream",
     "text": [
      "\n",
      "Cost: 105\n",
      "Buy =  0.0  Produce =  30.0  Stock =  15.0\n",
      "Buy =  0.0  Produce =  40.0  Stock =  20.0\n",
      "Buy =  0.0  Produce =  40.0  Stock =  0.0\n"
     ]
    }
   ],
   "source": [
    "printSolution()"
   ]
  },
  {
   "cell_type": "code",
   "execution_count": null,
   "id": "acf2d496",
   "metadata": {
    "papermill": {
     "duration": 0.010335,
     "end_time": "2024-09-09T18:32:05.083489",
     "exception": false,
     "start_time": "2024-09-09T18:32:05.073154",
     "status": "completed"
    },
    "tags": []
   },
   "outputs": [],
   "source": []
  }
 ],
 "metadata": {
  "kaggle": {
   "accelerator": "none",
   "dataSources": [],
   "dockerImageVersionId": 30761,
   "isGpuEnabled": false,
   "isInternetEnabled": true,
   "language": "python",
   "sourceType": "notebook"
  },
  "kernelspec": {
   "display_name": "Python 3",
   "language": "python",
   "name": "python3"
  },
  "language_info": {
   "codemirror_mode": {
    "name": "ipython",
    "version": 3
   },
   "file_extension": ".py",
   "mimetype": "text/x-python",
   "name": "python",
   "nbconvert_exporter": "python",
   "pygments_lexer": "ipython3",
   "version": "3.10.14"
  },
  "papermill": {
   "default_parameters": {},
   "duration": 25.453653,
   "end_time": "2024-09-09T18:32:05.716814",
   "environment_variables": {},
   "exception": null,
   "input_path": "__notebook__.ipynb",
   "output_path": "__notebook__.ipynb",
   "parameters": {},
   "start_time": "2024-09-09T18:31:40.263161",
   "version": "2.6.0"
  }
 },
 "nbformat": 4,
 "nbformat_minor": 5
}
