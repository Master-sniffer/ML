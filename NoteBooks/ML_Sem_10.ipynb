{
  "cells": [
    {
      "cell_type": "markdown",
      "metadata": {
        "id": "SZv8aOqB3dHX"
      },
      "source": [
        "### Импортируем библиотеки"
      ]
    },
    {
      "cell_type": "code",
      "execution_count": 1,
      "metadata": {
        "id": "KAAsLjmj3dHb"
      },
      "outputs": [],
      "source": [
        "import numpy as np\n",
        "import matplotlib.pyplot as plt\n",
        "import seaborn as sns\n",
        "import pandas as pd\n",
        "\n",
        "from sklearn import metrics\n",
        "from sklearn.datasets import load_breast_cancer\n",
        "from sklearn.model_selection import train_test_split\n",
        "from sklearn.svm import SVC\n",
        "\n",
        "import os"
      ]
    },
    {
      "cell_type": "markdown",
      "metadata": {
        "id": "d46IcXi23dHd"
      },
      "source": [
        "### Наш датасет"
      ]
    },
    {
      "cell_type": "code",
      "execution_count": 2,
      "metadata": {
        "id": "tMycFu1l3dHe",
        "colab": {
          "base_uri": "https://localhost:8080/"
        },
        "outputId": "0532de0d-4e44-4817-bcb2-5434ccd19445"
      },
      "outputs": [
        {
          "output_type": "execute_result",
          "data": {
            "text/plain": [
              "{'DESCR': '.. _breast_cancer_dataset:\\n\\nBreast cancer wisconsin (diagnostic) dataset\\n--------------------------------------------\\n\\n**Data Set Characteristics:**\\n\\n    :Number of Instances: 569\\n\\n    :Number of Attributes: 30 numeric, predictive attributes and the class\\n\\n    :Attribute Information:\\n        - radius (mean of distances from center to points on the perimeter)\\n        - texture (standard deviation of gray-scale values)\\n        - perimeter\\n        - area\\n        - smoothness (local variation in radius lengths)\\n        - compactness (perimeter^2 / area - 1.0)\\n        - concavity (severity of concave portions of the contour)\\n        - concave points (number of concave portions of the contour)\\n        - symmetry\\n        - fractal dimension (\"coastline approximation\" - 1)\\n\\n        The mean, standard error, and \"worst\" or largest (mean of the three\\n        worst/largest values) of these features were computed for each image,\\n        resulting in 30 features.  For instance, field 0 is Mean Radius, field\\n        10 is Radius SE, field 20 is Worst Radius.\\n\\n        - class:\\n                - WDBC-Malignant\\n                - WDBC-Benign\\n\\n    :Summary Statistics:\\n\\n    ===================================== ====== ======\\n                                           Min    Max\\n    ===================================== ====== ======\\n    radius (mean):                        6.981  28.11\\n    texture (mean):                       9.71   39.28\\n    perimeter (mean):                     43.79  188.5\\n    area (mean):                          143.5  2501.0\\n    smoothness (mean):                    0.053  0.163\\n    compactness (mean):                   0.019  0.345\\n    concavity (mean):                     0.0    0.427\\n    concave points (mean):                0.0    0.201\\n    symmetry (mean):                      0.106  0.304\\n    fractal dimension (mean):             0.05   0.097\\n    radius (standard error):              0.112  2.873\\n    texture (standard error):             0.36   4.885\\n    perimeter (standard error):           0.757  21.98\\n    area (standard error):                6.802  542.2\\n    smoothness (standard error):          0.002  0.031\\n    compactness (standard error):         0.002  0.135\\n    concavity (standard error):           0.0    0.396\\n    concave points (standard error):      0.0    0.053\\n    symmetry (standard error):            0.008  0.079\\n    fractal dimension (standard error):   0.001  0.03\\n    radius (worst):                       7.93   36.04\\n    texture (worst):                      12.02  49.54\\n    perimeter (worst):                    50.41  251.2\\n    area (worst):                         185.2  4254.0\\n    smoothness (worst):                   0.071  0.223\\n    compactness (worst):                  0.027  1.058\\n    concavity (worst):                    0.0    1.252\\n    concave points (worst):               0.0    0.291\\n    symmetry (worst):                     0.156  0.664\\n    fractal dimension (worst):            0.055  0.208\\n    ===================================== ====== ======\\n\\n    :Missing Attribute Values: None\\n\\n    :Class Distribution: 212 - Malignant, 357 - Benign\\n\\n    :Creator:  Dr. William H. Wolberg, W. Nick Street, Olvi L. Mangasarian\\n\\n    :Donor: Nick Street\\n\\n    :Date: November, 1995\\n\\nThis is a copy of UCI ML Breast Cancer Wisconsin (Diagnostic) datasets.\\nhttps://goo.gl/U2Uwz2\\n\\nFeatures are computed from a digitized image of a fine needle\\naspirate (FNA) of a breast mass.  They describe\\ncharacteristics of the cell nuclei present in the image.\\n\\nSeparating plane described above was obtained using\\nMultisurface Method-Tree (MSM-T) [K. P. Bennett, \"Decision Tree\\nConstruction Via Linear Programming.\" Proceedings of the 4th\\nMidwest Artificial Intelligence and Cognitive Science Society,\\npp. 97-101, 1992], a classification method which uses linear\\nprogramming to construct a decision tree.  Relevant features\\nwere selected using an exhaustive search in the space of 1-4\\nfeatures and 1-3 separating planes.\\n\\nThe actual linear program used to obtain the separating plane\\nin the 3-dimensional space is that described in:\\n[K. P. Bennett and O. L. Mangasarian: \"Robust Linear\\nProgramming Discrimination of Two Linearly Inseparable Sets\",\\nOptimization Methods and Software 1, 1992, 23-34].\\n\\nThis database is also available through the UW CS ftp server:\\n\\nftp ftp.cs.wisc.edu\\ncd math-prog/cpo-dataset/machine-learn/WDBC/\\n\\n.. topic:: References\\n\\n   - W.N. Street, W.H. Wolberg and O.L. Mangasarian. Nuclear feature extraction \\n     for breast tumor diagnosis. IS&T/SPIE 1993 International Symposium on \\n     Electronic Imaging: Science and Technology, volume 1905, pages 861-870,\\n     San Jose, CA, 1993.\\n   - O.L. Mangasarian, W.N. Street and W.H. Wolberg. Breast cancer diagnosis and \\n     prognosis via linear programming. Operations Research, 43(4), pages 570-577, \\n     July-August 1995.\\n   - W.H. Wolberg, W.N. Street, and O.L. Mangasarian. Machine learning techniques\\n     to diagnose breast cancer from fine-needle aspirates. Cancer Letters 77 (1994) \\n     163-171.',\n",
              " 'data': array([[1.799e+01, 1.038e+01, 1.228e+02, ..., 2.654e-01, 4.601e-01,\n",
              "         1.189e-01],\n",
              "        [2.057e+01, 1.777e+01, 1.329e+02, ..., 1.860e-01, 2.750e-01,\n",
              "         8.902e-02],\n",
              "        [1.969e+01, 2.125e+01, 1.300e+02, ..., 2.430e-01, 3.613e-01,\n",
              "         8.758e-02],\n",
              "        ...,\n",
              "        [1.660e+01, 2.808e+01, 1.083e+02, ..., 1.418e-01, 2.218e-01,\n",
              "         7.820e-02],\n",
              "        [2.060e+01, 2.933e+01, 1.401e+02, ..., 2.650e-01, 4.087e-01,\n",
              "         1.240e-01],\n",
              "        [7.760e+00, 2.454e+01, 4.792e+01, ..., 0.000e+00, 2.871e-01,\n",
              "         7.039e-02]]),\n",
              " 'data_module': 'sklearn.datasets.data',\n",
              " 'feature_names': array(['mean radius', 'mean texture', 'mean perimeter', 'mean area',\n",
              "        'mean smoothness', 'mean compactness', 'mean concavity',\n",
              "        'mean concave points', 'mean symmetry', 'mean fractal dimension',\n",
              "        'radius error', 'texture error', 'perimeter error', 'area error',\n",
              "        'smoothness error', 'compactness error', 'concavity error',\n",
              "        'concave points error', 'symmetry error',\n",
              "        'fractal dimension error', 'worst radius', 'worst texture',\n",
              "        'worst perimeter', 'worst area', 'worst smoothness',\n",
              "        'worst compactness', 'worst concavity', 'worst concave points',\n",
              "        'worst symmetry', 'worst fractal dimension'], dtype='<U23'),\n",
              " 'filename': 'breast_cancer.csv',\n",
              " 'frame': None,\n",
              " 'target': array([0, 0, 0, 0, 0, 0, 0, 0, 0, 0, 0, 0, 0, 0, 0, 0, 0, 0, 0, 1, 1, 1,\n",
              "        0, 0, 0, 0, 0, 0, 0, 0, 0, 0, 0, 0, 0, 0, 0, 1, 0, 0, 0, 0, 0, 0,\n",
              "        0, 0, 1, 0, 1, 1, 1, 1, 1, 0, 0, 1, 0, 0, 1, 1, 1, 1, 0, 1, 0, 0,\n",
              "        1, 1, 1, 1, 0, 1, 0, 0, 1, 0, 1, 0, 0, 1, 1, 1, 0, 0, 1, 0, 0, 0,\n",
              "        1, 1, 1, 0, 1, 1, 0, 0, 1, 1, 1, 0, 0, 1, 1, 1, 1, 0, 1, 1, 0, 1,\n",
              "        1, 1, 1, 1, 1, 1, 1, 0, 0, 0, 1, 0, 0, 1, 1, 1, 0, 0, 1, 0, 1, 0,\n",
              "        0, 1, 0, 0, 1, 1, 0, 1, 1, 0, 1, 1, 1, 1, 0, 1, 1, 1, 1, 1, 1, 1,\n",
              "        1, 1, 0, 1, 1, 1, 1, 0, 0, 1, 0, 1, 1, 0, 0, 1, 1, 0, 0, 1, 1, 1,\n",
              "        1, 0, 1, 1, 0, 0, 0, 1, 0, 1, 0, 1, 1, 1, 0, 1, 1, 0, 0, 1, 0, 0,\n",
              "        0, 0, 1, 0, 0, 0, 1, 0, 1, 0, 1, 1, 0, 1, 0, 0, 0, 0, 1, 1, 0, 0,\n",
              "        1, 1, 1, 0, 1, 1, 1, 1, 1, 0, 0, 1, 1, 0, 1, 1, 0, 0, 1, 0, 1, 1,\n",
              "        1, 1, 0, 1, 1, 1, 1, 1, 0, 1, 0, 0, 0, 0, 0, 0, 0, 0, 0, 0, 0, 0,\n",
              "        0, 0, 1, 1, 1, 1, 1, 1, 0, 1, 0, 1, 1, 0, 1, 1, 0, 1, 0, 0, 1, 1,\n",
              "        1, 1, 1, 1, 1, 1, 1, 1, 1, 1, 1, 0, 1, 1, 0, 1, 0, 1, 1, 1, 1, 1,\n",
              "        1, 1, 1, 1, 1, 1, 1, 1, 1, 0, 1, 1, 1, 0, 1, 0, 1, 1, 1, 1, 0, 0,\n",
              "        0, 1, 1, 1, 1, 0, 1, 0, 1, 0, 1, 1, 1, 0, 1, 1, 1, 1, 1, 1, 1, 0,\n",
              "        0, 0, 1, 1, 1, 1, 1, 1, 1, 1, 1, 1, 1, 0, 0, 1, 0, 0, 0, 1, 0, 0,\n",
              "        1, 1, 1, 1, 1, 0, 1, 1, 1, 1, 1, 0, 1, 1, 1, 0, 1, 1, 0, 0, 1, 1,\n",
              "        1, 1, 1, 1, 0, 1, 1, 1, 1, 1, 1, 1, 0, 1, 1, 1, 1, 1, 0, 1, 1, 0,\n",
              "        1, 1, 1, 1, 1, 1, 1, 1, 1, 1, 1, 1, 0, 1, 0, 0, 1, 0, 1, 1, 1, 1,\n",
              "        1, 0, 1, 1, 0, 1, 0, 1, 1, 0, 1, 0, 1, 1, 1, 1, 1, 1, 1, 1, 0, 0,\n",
              "        1, 1, 1, 1, 1, 1, 0, 1, 1, 1, 1, 1, 1, 1, 1, 1, 1, 0, 1, 1, 1, 1,\n",
              "        1, 1, 1, 0, 1, 0, 1, 1, 0, 1, 1, 1, 1, 1, 0, 0, 1, 0, 1, 0, 1, 1,\n",
              "        1, 1, 1, 0, 1, 1, 0, 1, 0, 1, 0, 0, 1, 1, 1, 0, 1, 1, 1, 1, 1, 1,\n",
              "        1, 1, 1, 1, 1, 0, 1, 0, 0, 1, 1, 1, 1, 1, 1, 1, 1, 1, 1, 1, 1, 1,\n",
              "        1, 1, 1, 1, 1, 1, 1, 1, 1, 1, 1, 1, 0, 0, 0, 0, 0, 0, 1]),\n",
              " 'target_names': array(['malignant', 'benign'], dtype='<U9')}"
            ]
          },
          "metadata": {},
          "execution_count": 2
        }
      ],
      "source": [
        "breast_cancer = load_breast_cancer()\n",
        "breast_cancer"
      ]
    },
    {
      "cell_type": "markdown",
      "metadata": {
        "id": "zgOx-eSq3dHg"
      },
      "source": [
        "### Выводим кол-во признаков"
      ]
    },
    {
      "cell_type": "code",
      "execution_count": 3,
      "metadata": {
        "colab": {
          "base_uri": "https://localhost:8080/"
        },
        "id": "qCATSpI-3dHg",
        "outputId": "d65df298-5313-46ef-98b6-ee6c333e6cd2"
      },
      "outputs": [
        {
          "output_type": "execute_result",
          "data": {
            "text/plain": [
              "(30,)"
            ]
          },
          "metadata": {},
          "execution_count": 3
        }
      ],
      "source": [
        "breast_cancer.data[0].shape"
      ]
    },
    {
      "cell_type": "markdown",
      "metadata": {
        "id": "PBz4IzO53dHh"
      },
      "source": [
        "### Сокращаем  кол-во признаков до 2. Таким образом мы уменьшим размерность задачи."
      ]
    },
    {
      "cell_type": "markdown",
      "metadata": {
        "id": "BdoHQ-gr3dHi"
      },
      "source": [
        "Так же, делим модель на обучающую и тестовую выборку"
      ]
    },
    {
      "cell_type": "code",
      "execution_count": 4,
      "metadata": {
        "pycharm": {
          "name": "#%%\n"
        },
        "id": "59EfzVN53dHi"
      },
      "outputs": [],
      "source": [
        "X = breast_cancer.data\n",
        "y = breast_cancer.target\n",
        "X_2d = X[:, :2]\n",
        "X_train, X_test, y_train, y_test = train_test_split(X_2d, y,\n",
        "                                                    train_size=0.80,\n",
        "                                                    random_state=42,\n",
        "                                                    stratify=y)"
      ]
    },
    {
      "cell_type": "markdown",
      "metadata": {
        "id": "YDrtA0AT3dHj"
      },
      "source": [
        "### Выводим датасет, в котором мы сократили кол-во признаков до 2"
      ]
    },
    {
      "cell_type": "code",
      "execution_count": 5,
      "metadata": {
        "pycharm": {
          "name": "#%%\n"
        },
        "colab": {
          "base_uri": "https://localhost:8080/"
        },
        "id": "IiULpPRz3dHj",
        "outputId": "cbad1f32-67f2-4ffd-c786-411287283028"
      },
      "outputs": [
        {
          "output_type": "execute_result",
          "data": {
            "text/plain": [
              "array([[17.99, 10.38],\n",
              "       [20.57, 17.77],\n",
              "       [19.69, 21.25],\n",
              "       ...,\n",
              "       [16.6 , 28.08],\n",
              "       [20.6 , 29.33],\n",
              "       [ 7.76, 24.54]])"
            ]
          },
          "metadata": {},
          "execution_count": 5
        }
      ],
      "source": [
        "X_2d"
      ]
    },
    {
      "cell_type": "markdown",
      "metadata": {
        "id": "pw-LzsS13dHk"
      },
      "source": [
        "### Обучаем модель"
      ]
    },
    {
      "cell_type": "code",
      "execution_count": 6,
      "metadata": {
        "colab": {
          "base_uri": "https://localhost:8080/"
        },
        "id": "x8zk_ljP3dHk",
        "outputId": "7b8c567b-97ab-43f2-b1f2-0e4168c70f43"
      },
      "outputs": [
        {
          "output_type": "execute_result",
          "data": {
            "text/plain": [
              "SVC(C=0.01)"
            ]
          },
          "metadata": {},
          "execution_count": 6
        }
      ],
      "source": [
        "clf = SVC(C=0.01)\n",
        "\n",
        "clf.fit(X_train, y_train)"
      ]
    },
    {
      "cell_type": "markdown",
      "metadata": {
        "id": "tmyVh8c73dHl"
      },
      "source": [
        "### Метрика точности для тестовых и обучающих выборок"
      ]
    },
    {
      "cell_type": "code",
      "execution_count": 7,
      "metadata": {
        "colab": {
          "base_uri": "https://localhost:8080/"
        },
        "id": "hL3VWsM13dHl",
        "outputId": "9d40ab2b-2828-4788-abd9-be226fca05bd"
      },
      "outputs": [
        {
          "output_type": "stream",
          "name": "stdout",
          "text": [
            "0.6989010989010989\n",
            "0.7280701754385965\n"
          ]
        }
      ],
      "source": [
        "print(clf.score(X_train, y_train))\n",
        "print(clf.score(X_test, y_test))"
      ]
    },
    {
      "cell_type": "markdown",
      "metadata": {
        "id": "uDjpGwuS3dHl"
      },
      "source": [
        "### Делаем предсказание результата класса на основе тестовой выборки"
      ]
    },
    {
      "cell_type": "code",
      "execution_count": 8,
      "metadata": {
        "pycharm": {
          "name": "#%%\n"
        },
        "scrolled": true,
        "colab": {
          "base_uri": "https://localhost:8080/",
          "height": 296
        },
        "id": "fnDaNbKo3dHl",
        "outputId": "32869385-084f-45bf-e0ee-1a9d8046489c"
      },
      "outputs": [
        {
          "output_type": "execute_result",
          "data": {
            "text/plain": [
              "Text(0.5, 15.0, 'Предсказанные значения')"
            ]
          },
          "metadata": {},
          "execution_count": 8
        },
        {
          "output_type": "display_data",
          "data": {
            "text/plain": [
              "<Figure size 432x288 with 2 Axes>"
            ],
            "image/png": "[encoded data removed]"
          },
          "metadata": {
            "needs_background": "light"
          }
        }
      ],
      "source": [
        "y_pred = clf.predict(X_test)\n",
        "\n",
        "\n",
        "class_names = [0, 1]\n",
        "fig, ax = plt.subplots()\n",
        "ticks = np.arange(len(class_names))\n",
        "plt.xticks(ticks, class_names)\n",
        "plt.yticks(ticks, class_names)\n",
        "\n",
        "\n",
        "sns.heatmap(pd.DataFrame(\n",
        "    metrics.confusion_matrix(y_test, y_pred)),\n",
        "    annot=True)\n",
        "plt.ylabel('Действительные значения')\n",
        "plt.xlabel('Предсказанные значения')\n",
        "\n",
        "#plt.plot(range(10))\n",
        "# fig.savefig('temp.png', dpi=fig.dpi)\n",
        "# plt.close(fig)"
      ]
    },
    {
      "cell_type": "markdown",
      "metadata": {
        "id": "IssUoOxZ3dHm"
      },
      "source": [
        "### Строим графическую зависимость тестовой и обучающей точности от размера обучающей выборки."
      ]
    },
    {
      "cell_type": "code",
      "execution_count": 9,
      "metadata": {
        "pycharm": {
          "name": "#%%\n"
        },
        "colab": {
          "base_uri": "https://localhost:8080/",
          "height": 320
        },
        "id": "KTOiMy183dHm",
        "outputId": "97df9938-2913-4e8f-e09c-d5fc1a83a0be"
      },
      "outputs": [
        {
          "output_type": "display_data",
          "data": {
            "text/plain": [
              "<Figure size 720x360 with 1 Axes>"
            ],
            "image/png": "[encoded data removed]"
          },
          "metadata": {
            "needs_background": "light"
          }
        }
      ],
      "source": [
        "training_scores = []\n",
        "test_scores = []\n",
        "numbers = []\n",
        "\n",
        "for i in np.linspace(20, len(X_train), 20):\n",
        "\n",
        "    clf = SVC(C=15, kernel='rbf')\n",
        "    X = X_train[:int(i)]\n",
        "    y = y_train[:int(i)]\n",
        "    clf.fit(X, y)\n",
        "\n",
        "    numbers.append(int(i))\n",
        "    training_scores.append(clf.score(X_train, y_train))\n",
        "    test_scores.append(clf.score(X_test, y_test))\n",
        "\n",
        "plt.figure(figsize=(10, 5))\n",
        "plt.plot(numbers, training_scores, label=\"training scores\")\n",
        "plt.plot(numbers, test_scores, label=\"test scores\")\n",
        "plt.legend(loc=\"best\");"
      ]
    },
    {
      "cell_type": "markdown",
      "source": [
        "Альтернативная запись !"
      ],
      "metadata": {
        "id": "5FSibxx-X47K"
      }
    },
    {
      "cell_type": "code",
      "source": [
        "#Зависимость качества модели от показателя нормализации\n",
        "breast_cancer = load_breast_cancer()\n",
        "X_ = breast_cancer.data\n",
        "y_ = breast_cancer.target\n",
        "X_2d = X_[:, :2]\n",
        "X_train, X_test, y_train, y_test = train_test_split(X_2d, y_)\n",
        "\n",
        "\n",
        "for i in range(-4, 7):\n",
        "    X_2d = X_[:, :2]\n",
        "    X_train, X_test, y_train, y_test = train_test_split(X_2d, y_)\n",
        "    \n",
        "    r = 10 ** i\n",
        "    clf = SVC(C=r)\n",
        "    clf.fit(X_train, y_train)\n",
        "\n",
        "    print(r, clf.score(X_train, y_train), clf.score(X_test, y_test))"
      ],
      "metadata": {
        "colab": {
          "base_uri": "https://localhost:8080/"
        },
        "id": "XNxtXQCDXo6Z",
        "outputId": "54b1445d-9a7d-4422-8a79-4afcf961ca72"
      },
      "execution_count": 11,
      "outputs": [
        {
          "output_type": "stream",
          "name": "stdout",
          "text": [
            "0.0001 0.647887323943662 0.5664335664335665\n",
            "0.001 0.6408450704225352 0.5874125874125874\n",
            "0.01 0.6830985915492958 0.7412587412587412\n",
            "0.1 0.8802816901408451 0.9370629370629371\n",
            "1 0.9084507042253521 0.9090909090909091\n",
            "10 0.8990610328638498 0.9230769230769231\n",
            "100 0.9154929577464789 0.9090909090909091\n",
            "1000 0.9014084507042254 0.9230769230769231\n",
            "10000 0.9178403755868545 0.8811188811188811\n",
            "100000 0.9131455399061033 0.8671328671328671\n",
            "1000000 0.9107981220657277 0.8741258741258742\n"
          ]
        }
      ]
    },
    {
      "cell_type": "code",
      "source": [
        "#Зависимость качества модели от размера параметров\n",
        "\n",
        "for i in range(30):\n",
        "    X_2d = X_[:, :i + 1]\n",
        "    X_train, X_test, y_train, y_test = train_test_split(X_2d, y_)\n",
        "    clf = SVC(C=0.01)\n",
        "    \n",
        "    clf.fit(X_train, y_train)\n",
        "\n",
        "    print(i, clf.score(X_train, y_train), clf.score(X_test, y_test))"
      ],
      "metadata": {
        "colab": {
          "base_uri": "https://localhost:8080/"
        },
        "id": "MYdg2ed4XyNP",
        "outputId": "308cd5e1-9b69-4768-d5b9-1f715821c444"
      },
      "execution_count": 12,
      "outputs": [
        {
          "output_type": "stream",
          "name": "stdout",
          "text": [
            "0 0.823943661971831 0.8321678321678322\n",
            "1 0.6807511737089202 0.7622377622377622\n",
            "2 0.6220657276995305 0.6433566433566433\n",
            "3 0.7699530516431925 0.7972027972027972\n",
            "4 0.7863849765258216 0.7062937062937062\n",
            "5 0.7863849765258216 0.7412587412587412\n",
            "6 0.7464788732394366 0.7552447552447552\n",
            "7 0.755868544600939 0.7412587412587412\n",
            "8 0.7394366197183099 0.7132867132867133\n",
            "9 0.7488262910798122 0.7552447552447552\n",
            "10 0.7511737089201878 0.7552447552447552\n",
            "11 0.7230046948356808 0.6853146853146853\n",
            "12 0.7417840375586855 0.7202797202797203\n",
            "13 0.7136150234741784 0.7482517482517482\n",
            "14 0.7535211267605634 0.8041958041958042\n",
            "15 0.7629107981220657 0.7762237762237763\n",
            "16 0.7464788732394366 0.8251748251748252\n",
            "17 0.7183098591549296 0.6713286713286714\n",
            "18 0.7488262910798122 0.7202797202797203\n",
            "19 0.7300469483568075 0.6713286713286714\n",
            "20 0.7652582159624414 0.7762237762237763\n",
            "21 0.7488262910798122 0.8181818181818182\n",
            "22 0.7089201877934272 0.6293706293706294\n",
            "23 0.7910798122065728 0.7902097902097902\n",
            "24 0.7723004694835681 0.7482517482517482\n",
            "25 0.784037558685446 0.7202797202797203\n",
            "26 0.7793427230046949 0.8251748251748252\n",
            "27 0.7816901408450704 0.8251748251748252\n",
            "28 0.7699530516431925 0.7412587412587412\n",
            "29 0.7816901408450704 0.7832167832167832\n"
          ]
        }
      ]
    },
    {
      "cell_type": "code",
      "source": [
        "X_2d = X_[:, :2]\n",
        "X_train, X_test, y_train, y_test = train_test_split(X_2d, y_)\n",
        "clf = SVC(kernel='linear', C=0.01)\n",
        " \n",
        "clf.fit(X_train, y_train)\n",
        " \n",
        "print(clf.score(X_train, y_train))\n",
        "print(clf.score(X_test, y_test))"
      ],
      "metadata": {
        "colab": {
          "base_uri": "https://localhost:8080/"
        },
        "id": "p3gGm7GJX2AU",
        "outputId": "2f32a739-b9b6-4c7a-b3c7-1b13076374e9"
      },
      "execution_count": 13,
      "outputs": [
        {
          "output_type": "stream",
          "name": "stdout",
          "text": [
            "0.8849765258215962\n",
            "0.916083916083916\n"
          ]
        }
      ]
    },
    {
      "cell_type": "markdown",
      "source": [
        "Повторите предыдущий пункт для различных значений C в\n",
        "диапазоне от 0,0001 до 1 000 000. Обратите внимание на шкалу по\n",
        "вертикальной оси. Для каких значений тестовая точность\n",
        "оптимальна? Какие значения дают недообучение? Какие -\n",
        "переобучение?"
      ],
      "metadata": {
        "id": "0bH_cd0q4xcN"
      }
    },
    {
      "cell_type": "code",
      "source": [
        "breast_cancer = load_breast_cancer()\n",
        "X = breast_cancer.data\n",
        "y = breast_cancer.target\n",
        "X_2d = X[:, :2]\n",
        "X_train, X_test, y_train, y_test = train_test_split(X_2d, y,\n",
        "                                                    train_size=0.80,\n",
        "                                                    random_state=42,\n",
        "                                                    stratify=y)"
      ],
      "metadata": {
        "id": "ZMi14RmJ42Uo"
      },
      "execution_count": null,
      "outputs": []
    },
    {
      "cell_type": "code",
      "source": [
        "dir = os.path.join(\"Result_Sets\")\n",
        "if not os.path.exists(dir):\n",
        "    os.mkdir(dir)"
      ],
      "metadata": {
        "id": "5hoj8n9VBEsu"
      },
      "execution_count": 14,
      "outputs": []
    },
    {
      "cell_type": "code",
      "source": [
        "%matplotlib inline\n",
        "i=0.0001\n",
        "while i<=1000000.0:\n",
        "  clf = SVC(C=i)\n",
        "  print(clf)\n",
        "  clf.fit(X_train, y_train)\n",
        "  print(clf.score(X_train, y_train))\n",
        "  print(clf.score(X_test, y_test))\n",
        "\n",
        "  y_pred = clf.predict(X_test)\n",
        "\n",
        "  class_names = [0, 1]\n",
        "  fig, ax = plt.subplots()\n",
        "  ticks = np.arange(len(class_names))\n",
        "  plt.xticks(ticks, class_names)\n",
        "  plt.yticks(ticks, class_names)\n",
        "\n",
        "  sns.heatmap(pd.DataFrame(\n",
        "      metrics.confusion_matrix(y_test, y_pred)),\n",
        "      annot=True)\n",
        "  plt.ylabel('Действительные значения')\n",
        "  plt.xlabel('Предсказанные значения')\n",
        "\n",
        "  fig.savefig(f\"/content/Result_Sets/Set_{i}.png\", dpi=fig.dpi)\n",
        "  plt.close(fig)\n",
        "  \n",
        "  print(\"\\n\\n\\n\")\n",
        "  i+=0.0001"
      ],
      "metadata": {
        "id": "l2JJtt8W4tfw"
      },
      "execution_count": null,
      "outputs": []
    }
  ],
  "metadata": {
    "kernelspec": {
      "display_name": "Python 3",
      "language": "python",
      "name": "python3"
    },
    "language_info": {
      "codemirror_mode": {
        "name": "ipython",
        "version": 3
      },
      "file_extension": ".py",
      "mimetype": "text/x-python",
      "name": "python",
      "nbconvert_exporter": "python",
      "pygments_lexer": "ipython3",
      "version": "3.8.5"
    },
    "colab": {
      "name": "ML Sem_10.ipynb",
      "provenance": []
    }
  },
  "nbformat": 4,
  "nbformat_minor": 0
}