{
 "cells": [
  {
   "cell_type": "markdown",
   "id": "dd9e5b9a",
   "metadata": {
    "papermill": {
     "duration": 0.017909,
     "end_time": "2024-09-09T08:58:46.133042",
     "exception": false,
     "start_time": "2024-09-09T08:58:46.115133",
     "status": "completed"
    },
    "tags": []
   },
   "source": [
    "# Network properties"
   ]
  },
  {
   "cell_type": "markdown",
   "id": "184b8226",
   "metadata": {
    "papermill": {
     "duration": 0.016284,
     "end_time": "2024-09-09T08:58:46.168781",
     "exception": false,
     "start_time": "2024-09-09T08:58:46.152497",
     "status": "completed"
    },
    "tags": []
   },
   "source": [
    "In this notebook you will learn how to use the NetworkX library to analyze basic properties of networks."
   ]
  },
  {
   "cell_type": "markdown",
   "id": "c7c761a8",
   "metadata": {
    "papermill": {
     "duration": 0.016218,
     "end_time": "2024-09-09T08:58:46.205631",
     "exception": false,
     "start_time": "2024-09-09T08:58:46.189413",
     "status": "completed"
    },
    "tags": []
   },
   "source": [
    "## Degrees"
   ]
  },
  {
   "cell_type": "markdown",
   "id": "df0a56c5",
   "metadata": {
    "papermill": {
     "duration": 0.016392,
     "end_time": "2024-09-09T08:58:46.238614",
     "exception": false,
     "start_time": "2024-09-09T08:58:46.222222",
     "status": "completed"
    },
    "tags": []
   },
   "source": [
    "The most basic property of a network is the number of connections nodes have, the *degree* of a node. In this notebook we will show how to compute different properties associated to degrees. To illustrate this we first generate a *star graph* where one central is connected to $4$ other nodes."
   ]
  },
  {
   "cell_type": "code",
   "execution_count": 1,
   "id": "4ddf627c",
   "metadata": {
    "execution": {
     "iopub.execute_input": "2024-09-09T08:58:46.273645Z",
     "iopub.status.busy": "2024-09-09T08:58:46.273017Z",
     "iopub.status.idle": "2024-09-09T08:58:47.292061Z",
     "shell.execute_reply": "2024-09-09T08:58:47.290857Z"
    },
    "papermill": {
     "duration": 1.040042,
     "end_time": "2024-09-09T08:58:47.295160",
     "exception": false,
     "start_time": "2024-09-09T08:58:46.255118",
     "status": "completed"
    },
    "tags": []
   },
   "outputs": [],
   "source": [
    "import networkx as nx"
   ]
  },
  {
   "cell_type": "code",
   "execution_count": 2,
   "id": "c1779454",
   "metadata": {
    "execution": {
     "iopub.execute_input": "2024-09-09T08:58:47.331648Z",
     "iopub.status.busy": "2024-09-09T08:58:47.330995Z",
     "iopub.status.idle": "2024-09-09T08:58:47.337620Z",
     "shell.execute_reply": "2024-09-09T08:58:47.336288Z"
    },
    "papermill": {
     "duration": 0.027687,
     "end_time": "2024-09-09T08:58:47.340426",
     "exception": false,
     "start_time": "2024-09-09T08:58:47.312739",
     "status": "completed"
    },
    "tags": []
   },
   "outputs": [],
   "source": [
    "star_graph = nx.Graph()\n",
    "\n",
    "star_graph.add_edge(1,2)\n",
    "star_graph.add_edge(1,3)\n",
    "star_graph.add_edge(1,4)\n",
    "star_graph.add_edge(1,5)"
   ]
  },
  {
   "cell_type": "markdown",
   "id": "28049728",
   "metadata": {
    "papermill": {
     "duration": 0.016276,
     "end_time": "2024-09-09T08:58:47.373217",
     "exception": false,
     "start_time": "2024-09-09T08:58:47.356941",
     "status": "completed"
    },
    "tags": []
   },
   "source": [
    "The degree of a node can be accessed by using the `degree` function of a graph. To get the degree of a node with label $i$ we simply use `degree[i]`. Below we will show this for the star graph by retreiving the degree of node $1$ (the central node) and one of its neighbors."
   ]
  },
  {
   "cell_type": "code",
   "execution_count": 3,
   "id": "35de9c4d",
   "metadata": {
    "execution": {
     "iopub.execute_input": "2024-09-09T08:58:47.408582Z",
     "iopub.status.busy": "2024-09-09T08:58:47.408089Z",
     "iopub.status.idle": "2024-09-09T08:58:47.415708Z",
     "shell.execute_reply": "2024-09-09T08:58:47.414396Z"
    },
    "papermill": {
     "duration": 0.02875,
     "end_time": "2024-09-09T08:58:47.418594",
     "exception": false,
     "start_time": "2024-09-09T08:58:47.389844",
     "status": "completed"
    },
    "tags": []
   },
   "outputs": [
    {
     "name": "stdout",
     "output_type": "stream",
     "text": [
      "Node 1 is the center node and has degree 4\n",
      "The other nodes are leaves and have degree 1\n"
     ]
    }
   ],
   "source": [
    "degree_of_node_1 = star_graph.degree[1]\n",
    "\n",
    "print(f\"Node 1 is the center node and has degree {degree_of_node_1}\")\n",
    "\n",
    "### All other nodes have the same degree\n",
    "degree_of_other_nodes = star_graph.degree[2]\n",
    "\n",
    "print(f\"The other nodes are leaves and have degree {degree_of_other_nodes}\")"
   ]
  },
  {
   "cell_type": "markdown",
   "id": "43eb507c",
   "metadata": {
    "papermill": {
     "duration": 0.016834,
     "end_time": "2024-09-09T08:58:47.452232",
     "exception": false,
     "start_time": "2024-09-09T08:58:47.435398",
     "status": "completed"
    },
    "tags": []
   },
   "source": [
    "We can also directly access all degrees in the graph using the `degree` function. By calling `degree()` we obtain a list whose elements are `(node, degree)`. We can then use this list to compute all relevant properies related to degrees. "
   ]
  },
  {
   "cell_type": "code",
   "execution_count": 4,
   "id": "5f420d70",
   "metadata": {
    "execution": {
     "iopub.execute_input": "2024-09-09T08:58:47.487986Z",
     "iopub.status.busy": "2024-09-09T08:58:47.487518Z",
     "iopub.status.idle": "2024-09-09T08:58:47.493592Z",
     "shell.execute_reply": "2024-09-09T08:58:47.492418Z"
    },
    "papermill": {
     "duration": 0.027124,
     "end_time": "2024-09-09T08:58:47.496183",
     "exception": false,
     "start_time": "2024-09-09T08:58:47.469059",
     "status": "completed"
    },
    "tags": []
   },
   "outputs": [
    {
     "name": "stdout",
     "output_type": "stream",
     "text": [
      "[(1, 4), (2, 1), (3, 1), (4, 1), (5, 1)]\n"
     ]
    }
   ],
   "source": [
    "### Here is the list of (node, degree) pairs\n",
    "print(star_graph.degree())"
   ]
  },
  {
   "cell_type": "code",
   "execution_count": 5,
   "id": "b8248678",
   "metadata": {
    "execution": {
     "iopub.execute_input": "2024-09-09T08:58:47.531708Z",
     "iopub.status.busy": "2024-09-09T08:58:47.531200Z",
     "iopub.status.idle": "2024-09-09T08:58:47.537872Z",
     "shell.execute_reply": "2024-09-09T08:58:47.536694Z"
    },
    "papermill": {
     "duration": 0.027653,
     "end_time": "2024-09-09T08:58:47.540607",
     "exception": false,
     "start_time": "2024-09-09T08:58:47.512954",
     "status": "completed"
    },
    "tags": []
   },
   "outputs": [
    {
     "name": "stdout",
     "output_type": "stream",
     "text": [
      "Node 1 has degree 4\n",
      "Node 2 has degree 1\n",
      "Node 3 has degree 1\n",
      "Node 4 has degree 1\n",
      "Node 5 has degree 1\n"
     ]
    }
   ],
   "source": [
    "### We now loop through this list an report the degree of each node\n",
    "for (node,degree) in star_graph.degree():\n",
    "    print(f\"Node {node} has degree {degree}\")"
   ]
  },
  {
   "cell_type": "markdown",
   "id": "6c8bca12",
   "metadata": {
    "papermill": {
     "duration": 0.017742,
     "end_time": "2024-09-09T08:58:47.575216",
     "exception": false,
     "start_time": "2024-09-09T08:58:47.557474",
     "status": "completed"
    },
    "tags": []
   },
   "source": [
    "By creating a list of all the second values of items in `degree()` we get the sequence of all degrees, which is called the *degree sequence*."
   ]
  },
  {
   "cell_type": "code",
   "execution_count": 6,
   "id": "8100dc29",
   "metadata": {
    "execution": {
     "iopub.execute_input": "2024-09-09T08:58:47.612170Z",
     "iopub.status.busy": "2024-09-09T08:58:47.611176Z",
     "iopub.status.idle": "2024-09-09T08:58:47.617973Z",
     "shell.execute_reply": "2024-09-09T08:58:47.616758Z"
    },
    "papermill": {
     "duration": 0.027939,
     "end_time": "2024-09-09T08:58:47.620740",
     "exception": false,
     "start_time": "2024-09-09T08:58:47.592801",
     "status": "completed"
    },
    "tags": []
   },
   "outputs": [
    {
     "name": "stdout",
     "output_type": "stream",
     "text": [
      "The degree sequence of the network is: [4, 1, 1, 1, 1]\n"
     ]
    }
   ],
   "source": [
    "degree_sequence = [degree for node, degree in star_graph.degree()]\n",
    "print(f\"The degree sequence of the network is: {degree_sequence}\")"
   ]
  },
  {
   "cell_type": "markdown",
   "id": "756a1296",
   "metadata": {
    "papermill": {
     "duration": 0.01719,
     "end_time": "2024-09-09T08:58:47.655697",
     "exception": false,
     "start_time": "2024-09-09T08:58:47.638507",
     "status": "completed"
    },
    "tags": []
   },
   "source": [
    "From the degree sequence we can compute the average degree. Below we show two ways of doing this. The first is the naive method which uses the `number_of_nodes` function from NetworkX to get the number of nodes in the graph. the second one using build-in functions of Python"
   ]
  },
  {
   "cell_type": "code",
   "execution_count": 7,
   "id": "92be37b4",
   "metadata": {
    "execution": {
     "iopub.execute_input": "2024-09-09T08:58:47.694009Z",
     "iopub.status.busy": "2024-09-09T08:58:47.693572Z",
     "iopub.status.idle": "2024-09-09T08:58:47.700667Z",
     "shell.execute_reply": "2024-09-09T08:58:47.699386Z"
    },
    "papermill": {
     "duration": 0.030218,
     "end_time": "2024-09-09T08:58:47.703268",
     "exception": false,
     "start_time": "2024-09-09T08:58:47.673050",
     "status": "completed"
    },
    "tags": []
   },
   "outputs": [
    {
     "name": "stdout",
     "output_type": "stream",
     "text": [
      "The average degree of the graph is 1.5999999999999999\n"
     ]
    }
   ],
   "source": [
    "average_degree = 0\n",
    "\n",
    "### Using the num_nodes functions from Network\n",
    "n = nx.number_of_nodes(star_graph)\n",
    "\n",
    "for degree in degree_sequence:\n",
    "    average_degree += degree/n\n",
    "    \n",
    "print(f\"The average degree of the graph is {average_degree}\")"
   ]
  },
  {
   "cell_type": "code",
   "execution_count": 8,
   "id": "2db7acd1",
   "metadata": {
    "execution": {
     "iopub.execute_input": "2024-09-09T08:58:47.739644Z",
     "iopub.status.busy": "2024-09-09T08:58:47.739147Z",
     "iopub.status.idle": "2024-09-09T08:58:47.746427Z",
     "shell.execute_reply": "2024-09-09T08:58:47.744842Z"
    },
    "papermill": {
     "duration": 0.028894,
     "end_time": "2024-09-09T08:58:47.749323",
     "exception": false,
     "start_time": "2024-09-09T08:58:47.720429",
     "status": "completed"
    },
    "tags": []
   },
   "outputs": [
    {
     "name": "stdout",
     "output_type": "stream",
     "text": [
      "The average degree of the graph is still 1.6\n"
     ]
    }
   ],
   "source": [
    "average_degree_alt = sum(degree_sequence)/len(degree_sequence)\n",
    "print(f\"The average degree of the graph is still {average_degree_alt}\")"
   ]
  },
  {
   "cell_type": "markdown",
   "id": "925dc7bf",
   "metadata": {
    "papermill": {
     "duration": 0.016831,
     "end_time": "2024-09-09T08:58:47.783484",
     "exception": false,
     "start_time": "2024-09-09T08:58:47.766653",
     "status": "completed"
    },
    "tags": []
   },
   "source": [
    "Another thing we can compute from the degree sequence is the empirical degree distribution $p_n(k)$ and plot. We will show how this works for the start graph using functions from the Python libraries *numpy* and *matplotlib*."
   ]
  },
  {
   "cell_type": "code",
   "execution_count": 9,
   "id": "ddf370ba",
   "metadata": {
    "execution": {
     "iopub.execute_input": "2024-09-09T08:58:47.820667Z",
     "iopub.status.busy": "2024-09-09T08:58:47.820212Z",
     "iopub.status.idle": "2024-09-09T08:58:48.158254Z",
     "shell.execute_reply": "2024-09-09T08:58:48.156827Z"
    },
    "papermill": {
     "duration": 0.359921,
     "end_time": "2024-09-09T08:58:48.161134",
     "exception": false,
     "start_time": "2024-09-09T08:58:47.801213",
     "status": "completed"
    },
    "tags": []
   },
   "outputs": [
    {
     "name": "stdout",
     "output_type": "stream",
     "text": [
      "The degree density list of the network is: [0.8, 0, 0, 0.2]\n"
     ]
    },
    {
     "data": {
      "image/png": "[encoded data removed]",
      "text/plain": [
       "<Figure size 640x480 with 1 Axes>"
      ]
     },
     "metadata": {},
     "output_type": "display_data"
    }
   ],
   "source": [
    "import numpy as np\n",
    "import matplotlib.pyplot as plt\n",
    "\n",
    "### First we retreive the total number of nodes in the graph\n",
    "n = nx.number_of_nodes(star_graph)\n",
    "\n",
    "### Next we compute the maximum degree and create a list for the degree density \n",
    "### whose length is equal to the maximum degree\n",
    "max_degree = max(degree_sequence)\n",
    "degree_density = [0]*max_degree\n",
    "\n",
    "### We then loop through the degree values in the degree sequence and for each value\n",
    "### we encounter we increase the corresponding value of degree_density by 1/n\n",
    "for degree in degree_sequence:\n",
    "    degree_density[degree-1] += 1/n\n",
    "\n",
    "### To see the result we output this degree density list\n",
    "print(f\"The degree density list of the network is: {degree_density}\")\n",
    "\n",
    "### Now we plot the degree density. For this we first need to construct the values for the x-axis.\n",
    "### For this we first create a list [0,...,maximum degree - 1, maximum degree] using the arrange function from numpy\n",
    "### and then select the sublist [1, ..., maximum degree]\n",
    "x = np.arange(max_degree+1)\n",
    "x = x[1:len(x)]\n",
    "\n",
    "\n",
    "### We use a bar plot from the mathplotlib for plotting the degree distribution\n",
    "plt.bar(x,degree_density)\n",
    "\n",
    "### We use the xticks function to set the values of the x-axis equal to the integers\n",
    "### corresponding to the degrees [1, ..., maximum degree]\n",
    "plt.xticks(x)\n",
    "\n",
    "### For completeness we add a title and labels for the x- and y-axis\n",
    "plt.title('Degree distribution')\n",
    "plt.xlabel('Degrees k')\n",
    "plt.ylabel('p_n(k)')\n",
    "\n",
    "plt.show()"
   ]
  },
  {
   "cell_type": "markdown",
   "id": "2fd279a2",
   "metadata": {
    "papermill": {
     "duration": 0.017738,
     "end_time": "2024-09-09T08:58:48.197265",
     "exception": false,
     "start_time": "2024-09-09T08:58:48.179527",
     "status": "completed"
    },
    "tags": []
   },
   "source": [
    "## Paths and components"
   ]
  },
  {
   "cell_type": "markdown",
   "id": "abbaa149",
   "metadata": {
    "papermill": {
     "duration": 0.017516,
     "end_time": "2024-09-09T08:58:48.232652",
     "exception": false,
     "start_time": "2024-09-09T08:58:48.215136",
     "status": "completed"
    },
    "tags": []
   },
   "source": [
    "Next to degrees, another important property of networks has to do with paths. For example, we could be interested in the distance (lenght of the shortest path) between two nodes. Or on a higher level, whether all nodes are connected to each other via a path. The NetworkX provides a wide range of functions for this. Here we will show how to find nodes a give distance from a specific nodes as well as computing the average distance and the connected component to which a node belongs."
   ]
  },
  {
   "cell_type": "markdown",
   "id": "88450599",
   "metadata": {
    "papermill": {
     "duration": 0.017397,
     "end_time": "2024-09-09T08:58:48.267846",
     "exception": false,
     "start_time": "2024-09-09T08:58:48.250449",
     "status": "completed"
    },
    "tags": []
   },
   "source": [
    "To illustrate the path functions of NetworkX we will use a cycle graph on 7 nodes.\n",
    "\n",
    "*Recall that nodes labels start at $0$ by default.*"
   ]
  },
  {
   "cell_type": "code",
   "execution_count": 10,
   "id": "098eddba",
   "metadata": {
    "execution": {
     "iopub.execute_input": "2024-09-09T08:58:48.305113Z",
     "iopub.status.busy": "2024-09-09T08:58:48.304633Z",
     "iopub.status.idle": "2024-09-09T08:58:48.311551Z",
     "shell.execute_reply": "2024-09-09T08:58:48.310196Z"
    },
    "papermill": {
     "duration": 0.028768,
     "end_time": "2024-09-09T08:58:48.314248",
     "exception": false,
     "start_time": "2024-09-09T08:58:48.285480",
     "status": "completed"
    },
    "tags": []
   },
   "outputs": [],
   "source": [
    "C = nx.cycle_graph(7)"
   ]
  },
  {
   "cell_type": "markdown",
   "id": "79a774f5",
   "metadata": {
    "papermill": {
     "duration": 0.018532,
     "end_time": "2024-09-09T08:58:48.350736",
     "exception": false,
     "start_time": "2024-09-09T08:58:48.332204",
     "status": "completed"
    },
    "tags": []
   },
   "source": [
    "If we want to compute the distance between two given nodes we can use the `shortest_path_length` function. Below we show how to compute the distance between node 0 and 5. This shoud be $3$ because the path $0-6-5-4$ is shorter than $0-1-2-3-4$."
   ]
  },
  {
   "cell_type": "code",
   "execution_count": 11,
   "id": "15bf2c37",
   "metadata": {
    "execution": {
     "iopub.execute_input": "2024-09-09T08:58:48.389206Z",
     "iopub.status.busy": "2024-09-09T08:58:48.388735Z",
     "iopub.status.idle": "2024-09-09T08:58:48.396212Z",
     "shell.execute_reply": "2024-09-09T08:58:48.394737Z"
    },
    "papermill": {
     "duration": 0.029948,
     "end_time": "2024-09-09T08:58:48.398982",
     "exception": false,
     "start_time": "2024-09-09T08:58:48.369034",
     "status": "completed"
    },
    "tags": []
   },
   "outputs": [
    {
     "name": "stdout",
     "output_type": "stream",
     "text": [
      "The distance from 0 to 4 is 3\n"
     ]
    }
   ],
   "source": [
    "distance_0_to_4 = nx.shortest_path_length(C, source=0, target=4)\n",
    "\n",
    "print(f\"The distance from 0 to 4 is {distance_0_to_4}\")"
   ]
  },
  {
   "cell_type": "markdown",
   "id": "10502a91",
   "metadata": {
    "papermill": {
     "duration": 0.018591,
     "end_time": "2024-09-09T08:58:48.435802",
     "exception": false,
     "start_time": "2024-09-09T08:58:48.417211",
     "status": "completed"
    },
    "tags": []
   },
   "source": [
    "Instead of looking only at the distance between two given nodes, we can also compute the distances from all nodes to a given node. For this we can again use the `shortest_path_length` function but this time we simply omit the `target` node.\n",
    "\n",
    "Below we list the distance of all nodes to node 0.\n",
    "\n",
    "**NOTE:** The list of distances will only contain those nodes that are connected to the source node"
   ]
  },
  {
   "cell_type": "code",
   "execution_count": 12,
   "id": "83ea0d71",
   "metadata": {
    "execution": {
     "iopub.execute_input": "2024-09-09T08:58:48.473903Z",
     "iopub.status.busy": "2024-09-09T08:58:48.473421Z",
     "iopub.status.idle": "2024-09-09T08:58:48.480618Z",
     "shell.execute_reply": "2024-09-09T08:58:48.479315Z"
    },
    "papermill": {
     "duration": 0.030079,
     "end_time": "2024-09-09T08:58:48.483917",
     "exception": false,
     "start_time": "2024-09-09T08:58:48.453838",
     "status": "completed"
    },
    "tags": []
   },
   "outputs": [
    {
     "name": "stdout",
     "output_type": "stream",
     "text": [
      "The distance between node 0 and node 0 is 0\n",
      "The distance between node 0 and node 1 is 1\n",
      "The distance between node 0 and node 6 is 1\n",
      "The distance between node 0 and node 2 is 2\n",
      "The distance between node 0 and node 5 is 2\n",
      "The distance between node 0 and node 3 is 3\n",
      "The distance between node 0 and node 4 is 3\n"
     ]
    }
   ],
   "source": [
    "list_of_distances = nx.shortest_path_length(C, source=0)\n",
    "\n",
    "for item in list_of_distances:\n",
    "    print(f\"The distance between node 0 and node {item} is {list_of_distances[item]}\")"
   ]
  },
  {
   "cell_type": "markdown",
   "id": "f13ffaa1",
   "metadata": {
    "papermill": {
     "duration": 0.017633,
     "end_time": "2024-09-09T08:58:48.520442",
     "exception": false,
     "start_time": "2024-09-09T08:58:48.502809",
     "status": "completed"
    },
    "tags": []
   },
   "source": [
    "If we also do not specify the `source` in the `shortest_path_length` function, we get the entire distance matrix. We show this below for the cycle graph and list all distances. \n",
    "\n",
    "**Note:** To be able to access the distance matrix it efficiently, it is helpful to cast it to a dictionary object using the Python `dict` function."
   ]
  },
  {
   "cell_type": "code",
   "execution_count": 13,
   "id": "86b255ac",
   "metadata": {
    "execution": {
     "iopub.execute_input": "2024-09-09T08:58:48.558113Z",
     "iopub.status.busy": "2024-09-09T08:58:48.557667Z",
     "iopub.status.idle": "2024-09-09T08:58:48.566095Z",
     "shell.execute_reply": "2024-09-09T08:58:48.564835Z"
    },
    "papermill": {
     "duration": 0.030925,
     "end_time": "2024-09-09T08:58:48.569146",
     "exception": false,
     "start_time": "2024-09-09T08:58:48.538221",
     "status": "completed"
    },
    "tags": []
   },
   "outputs": [
    {
     "name": "stdout",
     "output_type": "stream",
     "text": [
      "Distance from 0 to 0 is 0\n",
      "Distance from 0 to 1 is 1\n",
      "Distance from 0 to 6 is 1\n",
      "Distance from 0 to 2 is 2\n",
      "Distance from 0 to 5 is 2\n",
      "Distance from 0 to 3 is 3\n",
      "Distance from 0 to 4 is 3\n",
      "Distance from 1 to 1 is 0\n",
      "Distance from 1 to 0 is 1\n",
      "Distance from 1 to 2 is 1\n",
      "Distance from 1 to 6 is 2\n",
      "Distance from 1 to 3 is 2\n",
      "Distance from 1 to 5 is 3\n",
      "Distance from 1 to 4 is 3\n",
      "Distance from 2 to 2 is 0\n",
      "Distance from 2 to 1 is 1\n",
      "Distance from 2 to 3 is 1\n",
      "Distance from 2 to 0 is 2\n",
      "Distance from 2 to 4 is 2\n",
      "Distance from 2 to 6 is 3\n",
      "Distance from 2 to 5 is 3\n",
      "Distance from 3 to 3 is 0\n",
      "Distance from 3 to 2 is 1\n",
      "Distance from 3 to 4 is 1\n",
      "Distance from 3 to 1 is 2\n",
      "Distance from 3 to 5 is 2\n",
      "Distance from 3 to 0 is 3\n",
      "Distance from 3 to 6 is 3\n",
      "Distance from 4 to 4 is 0\n",
      "Distance from 4 to 3 is 1\n",
      "Distance from 4 to 5 is 1\n",
      "Distance from 4 to 2 is 2\n",
      "Distance from 4 to 6 is 2\n",
      "Distance from 4 to 1 is 3\n",
      "Distance from 4 to 0 is 3\n",
      "Distance from 5 to 5 is 0\n",
      "Distance from 5 to 4 is 1\n",
      "Distance from 5 to 6 is 1\n",
      "Distance from 5 to 3 is 2\n",
      "Distance from 5 to 0 is 2\n",
      "Distance from 5 to 2 is 3\n",
      "Distance from 5 to 1 is 3\n",
      "Distance from 6 to 6 is 0\n",
      "Distance from 6 to 5 is 1\n",
      "Distance from 6 to 0 is 1\n",
      "Distance from 6 to 4 is 2\n",
      "Distance from 6 to 1 is 2\n",
      "Distance from 6 to 3 is 3\n",
      "Distance from 6 to 2 is 3\n"
     ]
    }
   ],
   "source": [
    "### The outcome of the shortest_path_lenght function is cast to a dictionary.\n",
    "distance_matrix = dict(nx.shortest_path_length(C))\n",
    "\n",
    "### We can now access the distance from node i to j by calling distance_matrix[i][j]\n",
    "\n",
    "### Let us list all entries in the matrix\n",
    "for source in distance_matrix:\n",
    "    for target in distance_matrix[source]:\n",
    "        print(f\"Distance from {source} to {target} is {distance_matrix[source][target]}\")"
   ]
  },
  {
   "cell_type": "markdown",
   "id": "288ae018",
   "metadata": {
    "papermill": {
     "duration": 0.017862,
     "end_time": "2024-09-09T08:58:48.605979",
     "exception": false,
     "start_time": "2024-09-09T08:58:48.588117",
     "status": "completed"
    },
    "tags": []
   },
   "source": [
    "Using the distance matrix we can compute the average distance in the graph. However, NetworkX also has a direct function for this `average_shortest_path_length`."
   ]
  },
  {
   "cell_type": "code",
   "execution_count": 14,
   "id": "b0bc053b",
   "metadata": {
    "execution": {
     "iopub.execute_input": "2024-09-09T08:58:48.644689Z",
     "iopub.status.busy": "2024-09-09T08:58:48.644146Z",
     "iopub.status.idle": "2024-09-09T08:58:48.651108Z",
     "shell.execute_reply": "2024-09-09T08:58:48.649891Z"
    },
    "papermill": {
     "duration": 0.029728,
     "end_time": "2024-09-09T08:58:48.654216",
     "exception": false,
     "start_time": "2024-09-09T08:58:48.624488",
     "status": "completed"
    },
    "tags": []
   },
   "outputs": [
    {
     "name": "stdout",
     "output_type": "stream",
     "text": [
      "The average path length of the graph is 2.0\n"
     ]
    }
   ],
   "source": [
    "average_distance = nx.average_shortest_path_length(C)\n",
    "\n",
    "print(f\"The average path length of the graph is {average_distance}\")"
   ]
  },
  {
   "cell_type": "markdown",
   "id": "c18d8bdf",
   "metadata": {
    "papermill": {
     "duration": 0.019686,
     "end_time": "2024-09-09T08:58:48.692128",
     "exception": false,
     "start_time": "2024-09-09T08:58:48.672442",
     "status": "completed"
    },
    "tags": []
   },
   "source": [
    "In addition to paths, NetworkX also has functions for finding the connected components of the graph. To illustrate these functions we should use a graph that has at least two components. For this we again create a cycle graph on 7 nodes and then add a disjoint cycle on 3 nodes.  "
   ]
  },
  {
   "cell_type": "code",
   "execution_count": 15,
   "id": "7bbd4c36",
   "metadata": {
    "execution": {
     "iopub.execute_input": "2024-09-09T08:58:48.731182Z",
     "iopub.status.busy": "2024-09-09T08:58:48.730106Z",
     "iopub.status.idle": "2024-09-09T08:58:48.736731Z",
     "shell.execute_reply": "2024-09-09T08:58:48.735440Z"
    },
    "papermill": {
     "duration": 0.029186,
     "end_time": "2024-09-09T08:58:48.739721",
     "exception": false,
     "start_time": "2024-09-09T08:58:48.710535",
     "status": "completed"
    },
    "tags": []
   },
   "outputs": [],
   "source": [
    "### We first create a new cycle graph on 7 nodes\n",
    "D = nx.cycle_graph(7)\n",
    "\n",
    "### Then we add the disjoint triangle\n",
    "D.add_edge(7,8)\n",
    "D.add_edge(7,9)\n",
    "D.add_edge(8,9)"
   ]
  },
  {
   "cell_type": "markdown",
   "id": "e6677385",
   "metadata": {
    "papermill": {
     "duration": 0.017911,
     "end_time": "2024-09-09T08:58:48.776011",
     "exception": false,
     "start_time": "2024-09-09T08:58:48.758100",
     "status": "completed"
    },
    "tags": []
   },
   "source": [
    "We can now use the `is_connected` function to test if the graph is connected."
   ]
  },
  {
   "cell_type": "code",
   "execution_count": 16,
   "id": "d480b7fb",
   "metadata": {
    "execution": {
     "iopub.execute_input": "2024-09-09T08:58:48.814451Z",
     "iopub.status.busy": "2024-09-09T08:58:48.813973Z",
     "iopub.status.idle": "2024-09-09T08:58:48.820820Z",
     "shell.execute_reply": "2024-09-09T08:58:48.819264Z"
    },
    "papermill": {
     "duration": 0.029404,
     "end_time": "2024-09-09T08:58:48.823555",
     "exception": false,
     "start_time": "2024-09-09T08:58:48.794151",
     "status": "completed"
    },
    "tags": []
   },
   "outputs": [
    {
     "name": "stdout",
     "output_type": "stream",
     "text": [
      "Is the graph connected: False\n"
     ]
    }
   ],
   "source": [
    "is_connected = nx.is_connected(D)\n",
    "\n",
    "print(f\"Is the graph connected: {is_connected}\")"
   ]
  },
  {
   "cell_type": "markdown",
   "id": "3cb76efa",
   "metadata": {
    "papermill": {
     "duration": 0.018128,
     "end_time": "2024-09-09T08:58:48.860121",
     "exception": false,
     "start_time": "2024-09-09T08:58:48.841993",
     "status": "completed"
    },
    "tags": []
   },
   "source": [
    "We can also find the number of components of the graph using `number_connected_components`."
   ]
  },
  {
   "cell_type": "code",
   "execution_count": 17,
   "id": "85496b35",
   "metadata": {
    "execution": {
     "iopub.execute_input": "2024-09-09T08:58:48.899169Z",
     "iopub.status.busy": "2024-09-09T08:58:48.898753Z",
     "iopub.status.idle": "2024-09-09T08:58:48.905612Z",
     "shell.execute_reply": "2024-09-09T08:58:48.904402Z"
    },
    "papermill": {
     "duration": 0.029512,
     "end_time": "2024-09-09T08:58:48.908454",
     "exception": false,
     "start_time": "2024-09-09T08:58:48.878942",
     "status": "completed"
    },
    "tags": []
   },
   "outputs": [
    {
     "name": "stdout",
     "output_type": "stream",
     "text": [
      "The graph has 2 components\n"
     ]
    }
   ],
   "source": [
    "N_of_components = nx.number_connected_components(D)\n",
    "\n",
    "print(f\"The graph has {N_of_components} components\")"
   ]
  },
  {
   "cell_type": "markdown",
   "id": "5361eb65",
   "metadata": {
    "papermill": {
     "duration": 0.018196,
     "end_time": "2024-09-09T08:58:48.944971",
     "exception": false,
     "start_time": "2024-09-09T08:58:48.926775",
     "status": "completed"
    },
    "tags": []
   },
   "source": [
    "Finally, we can find all nodes in the component to which a specific node belongs using `node_connected_component`. To illustrate this we will list all nodes in the component of node 7."
   ]
  },
  {
   "cell_type": "code",
   "execution_count": 18,
   "id": "86f3112d",
   "metadata": {
    "execution": {
     "iopub.execute_input": "2024-09-09T08:58:48.983843Z",
     "iopub.status.busy": "2024-09-09T08:58:48.983333Z",
     "iopub.status.idle": "2024-09-09T08:58:48.990268Z",
     "shell.execute_reply": "2024-09-09T08:58:48.989059Z"
    },
    "papermill": {
     "duration": 0.029607,
     "end_time": "2024-09-09T08:58:48.992931",
     "exception": false,
     "start_time": "2024-09-09T08:58:48.963324",
     "status": "completed"
    },
    "tags": []
   },
   "outputs": [
    {
     "name": "stdout",
     "output_type": "stream",
     "text": [
      "Node 8 belongs to the component of node 7\n",
      "Node 9 belongs to the component of node 7\n",
      "Node 7 belongs to the component of node 7\n"
     ]
    }
   ],
   "source": [
    "component_7 = nx.node_connected_component(D,7)\n",
    "\n",
    "for node in component_7:\n",
    "    print(f\"Node {node} belongs to the component of node 7\")"
   ]
  },
  {
   "cell_type": "markdown",
   "id": "5c443b86",
   "metadata": {
    "papermill": {
     "duration": 0.018418,
     "end_time": "2024-09-09T08:58:49.031407",
     "exception": false,
     "start_time": "2024-09-09T08:58:49.012989",
     "status": "completed"
    },
    "tags": []
   },
   "source": [
    "## Triangles and clustering"
   ]
  },
  {
   "cell_type": "markdown",
   "id": "3977b51b",
   "metadata": {
    "papermill": {
     "duration": 0.018162,
     "end_time": "2024-09-09T08:58:49.067997",
     "exception": false,
     "start_time": "2024-09-09T08:58:49.049835",
     "status": "completed"
    },
    "tags": []
   },
   "source": [
    "The final property we cover in the notebook is clustering. The NetworkX library has several functions to analyze triangles in a network and compute the clustering coefficient of each nodes and the average over the whole graph. To illustrate this we create a very simple graph consisting of one triangle."
   ]
  },
  {
   "cell_type": "code",
   "execution_count": 19,
   "id": "0c4b4c0d",
   "metadata": {
    "execution": {
     "iopub.execute_input": "2024-09-09T08:58:49.107037Z",
     "iopub.status.busy": "2024-09-09T08:58:49.106585Z",
     "iopub.status.idle": "2024-09-09T08:58:49.112170Z",
     "shell.execute_reply": "2024-09-09T08:58:49.111085Z"
    },
    "papermill": {
     "duration": 0.028036,
     "end_time": "2024-09-09T08:58:49.114698",
     "exception": false,
     "start_time": "2024-09-09T08:58:49.086662",
     "status": "completed"
    },
    "tags": []
   },
   "outputs": [],
   "source": [
    "triangle_graph = nx.Graph()\n",
    "\n",
    "triangle_graph.add_edge(1,2)\n",
    "triangle_graph.add_edge(2,3)\n",
    "triangle_graph.add_edge(3,1)"
   ]
  },
  {
   "cell_type": "markdown",
   "id": "088b872c",
   "metadata": {
    "papermill": {
     "duration": 0.073513,
     "end_time": "2024-09-09T08:58:49.206621",
     "exception": false,
     "start_time": "2024-09-09T08:58:49.133108",
     "status": "completed"
    },
    "tags": []
   },
   "source": [
    "With the `triangles` function we can obtain a full dictionary that lists for each node how many triangles it is part of."
   ]
  },
  {
   "cell_type": "code",
   "execution_count": 20,
   "id": "7e915e4f",
   "metadata": {
    "execution": {
     "iopub.execute_input": "2024-09-09T08:58:49.245428Z",
     "iopub.status.busy": "2024-09-09T08:58:49.244955Z",
     "iopub.status.idle": "2024-09-09T08:58:49.253063Z",
     "shell.execute_reply": "2024-09-09T08:58:49.251671Z"
    },
    "papermill": {
     "duration": 0.030671,
     "end_time": "2024-09-09T08:58:49.255758",
     "exception": false,
     "start_time": "2024-09-09T08:58:49.225087",
     "status": "completed"
    },
    "tags": []
   },
   "outputs": [
    {
     "name": "stdout",
     "output_type": "stream",
     "text": [
      "The full output is {1: 1, 2: 1, 3: 1}\n",
      "Node 1 is part of 1 triangle(s)\n",
      "Node 2 is part of 1 triangle(s)\n",
      "Node 3 is part of 1 triangle(s)\n"
     ]
    }
   ],
   "source": [
    "triangle_per_node = nx.triangles(triangle_graph)\n",
    "\n",
    "### The output is a dictionary object\n",
    "print(f\"The full output is {triangle_per_node}\")\n",
    "\n",
    "### We can use this to loop through all nodes and check the number of triangles\n",
    "for node in triangle_per_node:\n",
    "    print(f\"Node {node} is part of {triangle_per_node[node]} triangle(s)\")"
   ]
  },
  {
   "cell_type": "markdown",
   "id": "31f58b19",
   "metadata": {
    "papermill": {
     "duration": 0.018297,
     "end_time": "2024-09-09T08:58:49.292439",
     "exception": false,
     "start_time": "2024-09-09T08:58:49.274142",
     "status": "completed"
    },
    "tags": []
   },
   "source": [
    "If we are only interested in a single node we can simply add its label as the second parameter."
   ]
  },
  {
   "cell_type": "code",
   "execution_count": 21,
   "id": "d9b2eb1b",
   "metadata": {
    "execution": {
     "iopub.execute_input": "2024-09-09T08:58:49.331479Z",
     "iopub.status.busy": "2024-09-09T08:58:49.330994Z",
     "iopub.status.idle": "2024-09-09T08:58:49.338408Z",
     "shell.execute_reply": "2024-09-09T08:58:49.336963Z"
    },
    "papermill": {
     "duration": 0.03047,
     "end_time": "2024-09-09T08:58:49.341399",
     "exception": false,
     "start_time": "2024-09-09T08:58:49.310929",
     "status": "completed"
    },
    "tags": []
   },
   "outputs": [
    {
     "name": "stdout",
     "output_type": "stream",
     "text": [
      "Node 2 is part of 1 triangle(s)\n"
     ]
    }
   ],
   "source": [
    "triangles_node_2 = nx.triangles(triangle_graph,2)\n",
    "\n",
    "print(f\"Node 2 is part of {triangles_node_2} triangle(s)\")"
   ]
  },
  {
   "cell_type": "markdown",
   "id": "3449052b",
   "metadata": {
    "papermill": {
     "duration": 0.018506,
     "end_time": "2024-09-09T08:58:49.378519",
     "exception": false,
     "start_time": "2024-09-09T08:58:49.360013",
     "status": "completed"
    },
    "tags": []
   },
   "source": [
    "We can now combine the result from the `triangles` function with the degrees to compute the average clustering coefficient of each node and hence of the entire graph. However, NetworkX has a function `clustering` that does this for us. It works in a similar way as the `traingles` function."
   ]
  },
  {
   "cell_type": "code",
   "execution_count": 22,
   "id": "e83c276a",
   "metadata": {
    "execution": {
     "iopub.execute_input": "2024-09-09T08:58:49.417680Z",
     "iopub.status.busy": "2024-09-09T08:58:49.417164Z",
     "iopub.status.idle": "2024-09-09T08:58:49.424645Z",
     "shell.execute_reply": "2024-09-09T08:58:49.423453Z"
    },
    "papermill": {
     "duration": 0.030509,
     "end_time": "2024-09-09T08:58:49.427637",
     "exception": false,
     "start_time": "2024-09-09T08:58:49.397128",
     "status": "completed"
    },
    "tags": []
   },
   "outputs": [
    {
     "name": "stdout",
     "output_type": "stream",
     "text": [
      "The clustering coefficient of node 1 is 1.0\n",
      "The clustering coefficient of node 2 is 1.0\n",
      "The clustering coefficient of node 3 is 1.0\n",
      "Node 2 has clustering coefficient 1.0\n"
     ]
    }
   ],
   "source": [
    "clustering_per_node = nx.clustering(triangle_graph)\n",
    "\n",
    "for node in clustering_per_node:\n",
    "    print(f\"The clustering coefficient of node {node} is {clustering_per_node[node]}\")\n",
    "\n",
    "### If we only want the clustering of a specific node we specify its label.\n",
    "clustering_node_2 = nx.clustering(triangle_graph,2)\n",
    "print(f\"Node 2 has clustering coefficient {clustering_node_2}\")"
   ]
  },
  {
   "cell_type": "markdown",
   "id": "e66077a9",
   "metadata": {
    "papermill": {
     "duration": 0.018414,
     "end_time": "2024-09-09T08:58:49.464683",
     "exception": false,
     "start_time": "2024-09-09T08:58:49.446269",
     "status": "completed"
    },
    "tags": []
   },
   "source": [
    "To compute the average clustering coefficient of the graph we use `average_clustering`."
   ]
  },
  {
   "cell_type": "code",
   "execution_count": 23,
   "id": "b8acbc80",
   "metadata": {
    "execution": {
     "iopub.execute_input": "2024-09-09T08:58:49.505158Z",
     "iopub.status.busy": "2024-09-09T08:58:49.504702Z",
     "iopub.status.idle": "2024-09-09T08:58:49.511663Z",
     "shell.execute_reply": "2024-09-09T08:58:49.510184Z"
    },
    "papermill": {
     "duration": 0.030998,
     "end_time": "2024-09-09T08:58:49.514287",
     "exception": false,
     "start_time": "2024-09-09T08:58:49.483289",
     "status": "completed"
    },
    "tags": []
   },
   "outputs": [
    {
     "name": "stdout",
     "output_type": "stream",
     "text": [
      "The average clustering coefficient of the graph is 1.0\n"
     ]
    }
   ],
   "source": [
    "cc = nx.average_clustering(triangle_graph)\n",
    "print(f\"The average clustering coefficient of the graph is {cc}\")"
   ]
  },
  {
   "cell_type": "markdown",
   "id": "38eb57e2",
   "metadata": {
    "papermill": {
     "duration": 0.018696,
     "end_time": "2024-09-09T08:58:49.551880",
     "exception": false,
     "start_time": "2024-09-09T08:58:49.533184",
     "status": "completed"
    },
    "tags": []
   },
   "source": [
    "## Exercises"
   ]
  },
  {
   "cell_type": "markdown",
   "id": "6077557b",
   "metadata": {
    "papermill": {
     "duration": 0.018874,
     "end_time": "2024-09-09T08:58:49.589545",
     "exception": false,
     "start_time": "2024-09-09T08:58:49.570671",
     "status": "completed"
    },
    "tags": []
   },
   "source": [
    "**Exercise 1**\n",
    "Another way to look at the degrees is to consider the *cummulative distribution function*. This is defined for the degrees as follows: \n",
    "\n",
    "$F_n(k) = \\frac{1}{n} \\sum_{i = 1}^n 1[d_i \\le k]$. \n",
    "\n",
    "Use the method below to create a network, then compute the cummulative distribution function of the degrees and plot it.\n",
    "\n",
    "**Note:** You can use `cumfreq` from the `scipy.stats` library to compute the empirical cdfs. See https://docs.scipy.org/doc/scipy-1.10.1/reference/generated/scipy.stats.cumfreq.html for more info."
   ]
  },
  {
   "cell_type": "code",
   "execution_count": 24,
   "id": "c70939f4",
   "metadata": {
    "execution": {
     "iopub.execute_input": "2024-09-09T08:58:49.629880Z",
     "iopub.status.busy": "2024-09-09T08:58:49.629426Z",
     "iopub.status.idle": "2024-09-09T08:58:49.641095Z",
     "shell.execute_reply": "2024-09-09T08:58:49.639786Z"
    },
    "papermill": {
     "duration": 0.035305,
     "end_time": "2024-09-09T08:58:49.644027",
     "exception": false,
     "start_time": "2024-09-09T08:58:49.608722",
     "status": "completed"
    },
    "tags": []
   },
   "outputs": [],
   "source": [
    "### Generate a graph with 100 nodes\n",
    "G1 = nx.erdos_renyi_graph(100,0.3)"
   ]
  },
  {
   "cell_type": "code",
   "execution_count": 25,
   "id": "4d6b3ed9",
   "metadata": {
    "execution": {
     "iopub.execute_input": "2024-09-09T08:58:49.685267Z",
     "iopub.status.busy": "2024-09-09T08:58:49.684788Z",
     "iopub.status.idle": "2024-09-09T08:58:51.269556Z",
     "shell.execute_reply": "2024-09-09T08:58:51.268366Z"
    },
    "papermill": {
     "duration": 1.609419,
     "end_time": "2024-09-09T08:58:51.273090",
     "exception": false,
     "start_time": "2024-09-09T08:58:49.663671",
     "status": "completed"
    },
    "tags": []
   },
   "outputs": [
    {
     "data": {
      "image/png": "[encoded data removed]",
      "text/plain": [
       "<Figure size 1000x600 with 1 Axes>"
      ]
     },
     "metadata": {},
     "output_type": "display_data"
    }
   ],
   "source": [
    "### Solution\n",
    "from scipy.stats import cumfreq\n",
    "\n",
    "# Step 2: Compute the degrees of each node in the graph\n",
    "degrees = [G1.degree(node) for node in G1.nodes]\n",
    "\n",
    "# Step 3: Calculate the cumulative distribution function of the degrees using scipy's cumfreq\n",
    "cum_freq_result = cumfreq(degrees, numbins=max(degrees) + 1)\n",
    "\n",
    "# Extract the values for the x-axis (bin edges) and y-axis (cumulative frequencies)\n",
    "x_values = cum_freq_result.lowerlimit + np.arange(cum_freq_result.cumcount.size) * cum_freq_result.binsize\n",
    "y_values = cum_freq_result.cumcount / len(G1.nodes)  # Normalize by the total number of nodes to get the CDF\n",
    "\n",
    "# Step 4: Plot the cumulative distribution function\n",
    "plt.figure(figsize=(10, 6))\n",
    "plt.step(x_values, y_values, where='post', color='blue', label='CDF of Degrees')\n",
    "plt.xlabel('Degree')\n",
    "plt.ylabel('Cumulative Distribution Function (CDF)')\n",
    "plt.title('Cumulative Distribution Function (CDF) of Node Degrees in Erdos-Renyi Graph')\n",
    "plt.grid(True)\n",
    "plt.legend()\n",
    "plt.show()"
   ]
  },
  {
   "cell_type": "markdown",
   "id": "bd3e718d",
   "metadata": {
    "papermill": {
     "duration": 0.019205,
     "end_time": "2024-09-09T08:58:51.314595",
     "exception": false,
     "start_time": "2024-09-09T08:58:51.295390",
     "status": "completed"
    },
    "tags": []
   },
   "source": [
    "**Exercise 2**\n",
    "\n",
    "Use the code below to generate a graph. Then find a node with $d_i > 0$ and list all nodes that are at distance 3 from that node."
   ]
  },
  {
   "cell_type": "code",
   "execution_count": 26,
   "id": "dcd88eb1",
   "metadata": {
    "execution": {
     "iopub.execute_input": "2024-09-09T08:58:51.355417Z",
     "iopub.status.busy": "2024-09-09T08:58:51.354748Z",
     "iopub.status.idle": "2024-09-09T08:58:51.365949Z",
     "shell.execute_reply": "2024-09-09T08:58:51.364733Z"
    },
    "papermill": {
     "duration": 0.034931,
     "end_time": "2024-09-09T08:58:51.368789",
     "exception": false,
     "start_time": "2024-09-09T08:58:51.333858",
     "status": "completed"
    },
    "tags": []
   },
   "outputs": [
    {
     "name": "stdout",
     "output_type": "stream",
     "text": [
      "Node with degree > 0: 0\n",
      "Nodes at distance 3 from node 0: [33, 4, 31, 49, 59, 93, 23, 8, 44, 96, 75]\n"
     ]
    }
   ],
   "source": [
    "### Generate a graph with 100 nodes\n",
    "G2 = nx.erdos_renyi_graph(100,0.02)\n",
    "\n",
    "node_with_positive_degree = None\n",
    "for node in G2.nodes:\n",
    "    if G2.degree(node) > 0:\n",
    "        node_with_positive_degree = node\n",
    "        break\n",
    "\n",
    "if node_with_positive_degree is None:\n",
    "    print(\"No nodes with degree greater than 0 were found in the graph.\")\n",
    "else:\n",
    "    # Step 3: Find all nodes at distance 3 from the selected node\n",
    "    nodes_at_distance_3 = [n for n, dist in nx.single_source_shortest_path_length(G2, node_with_positive_degree).items() if dist == 3]\n",
    "\n",
    "    # Step 4: Output the results\n",
    "    print(f\"Node with degree > 0: {node_with_positive_degree}\")\n",
    "    print(f\"Nodes at distance 3 from node {node_with_positive_degree}: {nodes_at_distance_3}\")"
   ]
  },
  {
   "cell_type": "markdown",
   "id": "b68c2cd3",
   "metadata": {
    "papermill": {
     "duration": 0.019092,
     "end_time": "2024-09-09T08:58:51.407632",
     "exception": false,
     "start_time": "2024-09-09T08:58:51.388540",
     "status": "completed"
    },
    "tags": []
   },
   "source": [
    "**Exercise 3** Check if the graph is connected. If not, list how many components it has and compute the size of the largest and smallest component. For this last part the function `connected_components` could be helpful."
   ]
  },
  {
   "cell_type": "code",
   "execution_count": 27,
   "id": "86d2c19b",
   "metadata": {
    "execution": {
     "iopub.execute_input": "2024-09-09T08:58:51.448530Z",
     "iopub.status.busy": "2024-09-09T08:58:51.448062Z",
     "iopub.status.idle": "2024-09-09T08:58:51.457039Z",
     "shell.execute_reply": "2024-09-09T08:58:51.455734Z"
    },
    "papermill": {
     "duration": 0.033056,
     "end_time": "2024-09-09T08:58:51.460079",
     "exception": false,
     "start_time": "2024-09-09T08:58:51.427023",
     "status": "completed"
    },
    "tags": []
   },
   "outputs": [
    {
     "name": "stdout",
     "output_type": "stream",
     "text": [
      "The graph is not connected.\n",
      "Number of connected components: 22\n",
      "Size of the largest component: 75\n",
      "Size of the smallest component: 1\n"
     ]
    }
   ],
   "source": [
    "### Solution\n",
    "\n",
    "if nx.is_connected(G2):\n",
    "    print(\"The graph is connected.\")\n",
    "else:\n",
    "    # Step 3: If not connected, find the number of connected components\n",
    "    components = list(nx.connected_components(G2))\n",
    "    num_components = len(components)\n",
    "\n",
    "    # Compute the size of each component\n",
    "    component_sizes = [len(component) for component in components]\n",
    "\n",
    "    # Find the largest and smallest components\n",
    "    largest_component_size = max(component_sizes)\n",
    "    smallest_component_size = min(component_sizes)\n",
    "\n",
    "    # Output the results\n",
    "    print(f\"The graph is not connected.\")\n",
    "    print(f\"Number of connected components: {num_components}\")\n",
    "    print(f\"Size of the largest component: {largest_component_size}\")\n",
    "    print(f\"Size of the smallest component: {smallest_component_size}\")"
   ]
  },
  {
   "cell_type": "markdown",
   "id": "c9d95878",
   "metadata": {
    "papermill": {
     "duration": 0.019257,
     "end_time": "2024-09-09T08:58:51.499014",
     "exception": false,
     "start_time": "2024-09-09T08:58:51.479757",
     "status": "completed"
    },
    "tags": []
   },
   "source": [
    "**Exercise 4** Use the graph from the previous exercise and find the node with the highest clustering coefficient."
   ]
  },
  {
   "cell_type": "code",
   "execution_count": 28,
   "id": "77764309",
   "metadata": {
    "execution": {
     "iopub.execute_input": "2024-09-09T08:58:51.540506Z",
     "iopub.status.busy": "2024-09-09T08:58:51.539504Z",
     "iopub.status.idle": "2024-09-09T08:58:51.548895Z",
     "shell.execute_reply": "2024-09-09T08:58:51.547535Z"
    },
    "papermill": {
     "duration": 0.033289,
     "end_time": "2024-09-09T08:58:51.551795",
     "exception": false,
     "start_time": "2024-09-09T08:58:51.518506",
     "status": "completed"
    },
    "tags": []
   },
   "outputs": [
    {
     "name": "stdout",
     "output_type": "stream",
     "text": [
      "Node with the highest clustering coefficient: 0\n",
      "Highest clustering coefficient value: 0.0000\n"
     ]
    }
   ],
   "source": [
    "### Solution\n",
    "\n",
    "clustering_coefficients = nx.clustering(G2)\n",
    "\n",
    "# Step 2: Find the node with the highest clustering coefficient\n",
    "node_with_highest_clustering = max(clustering_coefficients, key=clustering_coefficients.get)\n",
    "highest_clustering_coefficient = clustering_coefficients[node_with_highest_clustering]\n",
    "\n",
    "# Output the results\n",
    "print(f\"Node with the highest clustering coefficient: {node_with_highest_clustering}\")\n",
    "print(f\"Highest clustering coefficient value: {highest_clustering_coefficient:.4f}\")"
   ]
  },
  {
   "cell_type": "code",
   "execution_count": 29,
   "id": "028ca7d8",
   "metadata": {
    "execution": {
     "iopub.execute_input": "2024-09-09T08:58:51.593414Z",
     "iopub.status.busy": "2024-09-09T08:58:51.592957Z",
     "iopub.status.idle": "2024-09-09T08:58:51.604076Z",
     "shell.execute_reply": "2024-09-09T08:58:51.602854Z"
    },
    "papermill": {
     "duration": 0.035968,
     "end_time": "2024-09-09T08:58:51.607582",
     "exception": false,
     "start_time": "2024-09-09T08:58:51.571614",
     "status": "completed"
    },
    "tags": []
   },
   "outputs": [
    {
     "name": "stdout",
     "output_type": "stream",
     "text": [
      "Clustering coefficients for all nodes:\n",
      "Node 0: 0.0000\n",
      "Node 1: 0.0000\n",
      "Node 2: 0.0000\n",
      "Node 3: 0.0000\n",
      "Node 4: 0.0000\n",
      "Node 5: 0.0000\n",
      "Node 6: 0.0000\n",
      "Node 7: 0.0000\n",
      "Node 8: 0.0000\n",
      "Node 9: 0.0000\n",
      "Node 10: 0.0000\n",
      "Node 11: 0.0000\n",
      "Node 12: 0.0000\n",
      "Node 13: 0.0000\n",
      "Node 14: 0.0000\n",
      "Node 15: 0.0000\n",
      "Node 16: 0.0000\n",
      "Node 17: 0.0000\n",
      "Node 18: 0.0000\n",
      "Node 19: 0.0000\n",
      "Node 20: 0.0000\n",
      "Node 21: 0.0000\n",
      "Node 22: 0.0000\n",
      "Node 23: 0.0000\n",
      "Node 24: 0.0000\n",
      "Node 25: 0.0000\n",
      "Node 26: 0.0000\n",
      "Node 27: 0.0000\n",
      "Node 28: 0.0000\n",
      "Node 29: 0.0000\n",
      "Node 30: 0.0000\n",
      "Node 31: 0.0000\n",
      "Node 32: 0.0000\n",
      "Node 33: 0.0000\n",
      "Node 34: 0.0000\n",
      "Node 35: 0.0000\n",
      "Node 36: 0.0000\n",
      "Node 37: 0.0000\n",
      "Node 38: 0.0000\n",
      "Node 39: 0.0000\n",
      "Node 40: 0.0000\n",
      "Node 41: 0.0000\n",
      "Node 42: 0.0000\n",
      "Node 43: 0.0000\n",
      "Node 44: 0.0000\n",
      "Node 45: 0.0000\n",
      "Node 46: 0.0000\n",
      "Node 47: 0.0000\n",
      "Node 48: 0.0000\n",
      "Node 49: 0.0000\n",
      "Node 50: 0.0000\n",
      "Node 51: 0.0000\n",
      "Node 52: 0.0000\n",
      "Node 53: 0.0000\n",
      "Node 54: 0.0000\n",
      "Node 55: 0.0000\n",
      "Node 56: 0.0000\n",
      "Node 57: 0.0000\n",
      "Node 58: 0.0000\n",
      "Node 59: 0.0000\n",
      "Node 60: 0.0000\n",
      "Node 61: 0.0000\n",
      "Node 62: 0.0000\n",
      "Node 63: 0.0000\n",
      "Node 64: 0.0000\n",
      "Node 65: 0.0000\n",
      "Node 66: 0.0000\n",
      "Node 67: 0.0000\n",
      "Node 68: 0.0000\n",
      "Node 69: 0.0000\n",
      "Node 70: 0.0000\n",
      "Node 71: 0.0000\n",
      "Node 72: 0.0000\n",
      "Node 73: 0.0000\n",
      "Node 74: 0.0000\n",
      "Node 75: 0.0000\n",
      "Node 76: 0.0000\n",
      "Node 77: 0.0000\n",
      "Node 78: 0.0000\n",
      "Node 79: 0.0000\n",
      "Node 80: 0.0000\n",
      "Node 81: 0.0000\n",
      "Node 82: 0.0000\n",
      "Node 83: 0.0000\n",
      "Node 84: 0.0000\n",
      "Node 85: 0.0000\n",
      "Node 86: 0.0000\n",
      "Node 87: 0.0000\n",
      "Node 88: 0.0000\n",
      "Node 89: 0.0000\n",
      "Node 90: 0.0000\n",
      "Node 91: 0.0000\n",
      "Node 92: 0.0000\n",
      "Node 93: 0.0000\n",
      "Node 94: 0.0000\n",
      "Node 95: 0.0000\n",
      "Node 96: 0.0000\n",
      "Node 97: 0.0000\n",
      "Node 98: 0.0000\n",
      "Node 99: 0.0000\n",
      "\n",
      "Node with the highest clustering coefficient: 0\n",
      "Highest clustering coefficient value: 0.0000\n"
     ]
    }
   ],
   "source": [
    "clustering_coefficients = nx.clustering(G2)\n",
    "\n",
    "# Output the clustering coefficients for verification\n",
    "print(\"Clustering coefficients for all nodes:\")\n",
    "for node, coeff in clustering_coefficients.items():\n",
    "    print(f\"Node {node}: {coeff:.4f}\")\n",
    "\n",
    "# Step 2: Find the node with the highest clustering coefficient\n",
    "node_with_highest_clustering = max(clustering_coefficients, key=clustering_coefficients.get)\n",
    "highest_clustering_coefficient = clustering_coefficients[node_with_highest_clustering]\n",
    "\n",
    "# Output the results\n",
    "print(f\"\\nNode with the highest clustering coefficient: {node_with_highest_clustering}\")\n",
    "print(f\"Highest clustering coefficient value: {highest_clustering_coefficient:.4f}\")"
   ]
  },
  {
   "cell_type": "markdown",
   "id": "4009ab79",
   "metadata": {
    "papermill": {
     "duration": 0.019545,
     "end_time": "2024-09-09T08:58:51.647135",
     "exception": false,
     "start_time": "2024-09-09T08:58:51.627590",
     "status": "completed"
    },
    "tags": []
   },
   "source": [
    "**Exercise 5** Another way of looking at the clustering of the graph is via the *global clustering coefficient*. This is defined as \n",
    "$$C(G) = \\frac{3\\Delta(G)}{\\wedge(G)},$$\n",
    "where $\\Delta(G)$ is the total number of triangles in $G$ and $\\wedge(G)$ is the total number of wegdes (paths of lenght $2$) in $G$.\n",
    "\n",
    "Compute the global clustering coefficient of the graph from the previous exercise and compare it to the average clustering coefficient."
   ]
  },
  {
   "cell_type": "code",
   "execution_count": 30,
   "id": "e71295cd",
   "metadata": {
    "execution": {
     "iopub.execute_input": "2024-09-09T08:58:51.689509Z",
     "iopub.status.busy": "2024-09-09T08:58:51.688417Z",
     "iopub.status.idle": "2024-09-09T08:58:51.702662Z",
     "shell.execute_reply": "2024-09-09T08:58:51.700359Z"
    },
    "papermill": {
     "duration": 0.039296,
     "end_time": "2024-09-09T08:58:51.706274",
     "exception": false,
     "start_time": "2024-09-09T08:58:51.666978",
     "status": "completed"
    },
    "tags": []
   },
   "outputs": [
    {
     "name": "stdout",
     "output_type": "stream",
     "text": [
      "Total number of triangles (Δ(G)): 0\n",
      "Total number of wedges (∧(G)): 213\n",
      "Global Clustering Coefficient (C(G)): 0.0000\n",
      "Average Clustering Coefficient: 0.0000\n"
     ]
    }
   ],
   "source": [
    "### Solution\n",
    "import itertools\n",
    "\n",
    "\n",
    "# Step 1: Calculate the total number of triangles in the graph\n",
    "triangle_counts = nx.triangles(G2)  # dictionary of number of triangles per node\n",
    "total_triangles = sum(triangle_counts.values()) // 3  # Each triangle is counted 3 times\n",
    "\n",
    "# Step 2: Calculate the total number of wedges in the graph\n",
    "total_wedges = 0\n",
    "for node in G2.nodes():\n",
    "    neighbors = list(G2.neighbors(node))\n",
    "    if len(neighbors) >= 2:\n",
    "        # Calculate the number of pairs of neighbors (wedge contributions)\n",
    "        total_wedges += len(list(itertools.combinations(neighbors, 2)))\n",
    "\n",
    "# Step 3: Compute the global clustering coefficient\n",
    "if total_wedges > 0:\n",
    "    global_clustering_coefficient = (3 * total_triangles) / total_wedges\n",
    "else:\n",
    "    global_clustering_coefficient = 0\n",
    "\n",
    "# Step 4: Compute the average clustering coefficient\n",
    "average_clustering_coefficient = nx.average_clustering(G2)\n",
    "\n",
    "# Output the results\n",
    "print(f\"Total number of triangles (Δ(G)): {total_triangles}\")\n",
    "print(f\"Total number of wedges (∧(G)): {total_wedges}\")\n",
    "print(f\"Global Clustering Coefficient (C(G)): {global_clustering_coefficient:.4f}\")\n",
    "print(f\"Average Clustering Coefficient: {average_clustering_coefficient:.4f}\")"
   ]
  },
  {
   "cell_type": "code",
   "execution_count": null,
   "id": "9b83704c",
   "metadata": {
    "papermill": {
     "duration": 0.019688,
     "end_time": "2024-09-09T08:58:51.746277",
     "exception": false,
     "start_time": "2024-09-09T08:58:51.726589",
     "status": "completed"
    },
    "tags": []
   },
   "outputs": [],
   "source": []
  }
 ],
 "metadata": {
  "kaggle": {
   "accelerator": "none",
   "dataSources": [],
   "dockerImageVersionId": 30761,
   "isGpuEnabled": false,
   "isInternetEnabled": true,
   "language": "python",
   "sourceType": "notebook"
  },
  "kernelspec": {
   "display_name": "Python 3",
   "language": "python",
   "name": "python3"
  },
  "language_info": {
   "codemirror_mode": {
    "name": "ipython",
    "version": 3
   },
   "file_extension": ".py",
   "mimetype": "text/x-python",
   "name": "python",
   "nbconvert_exporter": "python",
   "pygments_lexer": "ipython3",
   "version": "3.10.14"
  },
  "papermill": {
   "default_parameters": {},
   "duration": 9.270866,
   "end_time": "2024-09-09T08:58:52.287215",
   "environment_variables": {},
   "exception": null,
   "input_path": "__notebook__.ipynb",
   "output_path": "__notebook__.ipynb",
   "parameters": {},
   "start_time": "2024-09-09T08:58:43.016349",
   "version": "2.6.0"
  }
 },
 "nbformat": 4,
 "nbformat_minor": 5
}
