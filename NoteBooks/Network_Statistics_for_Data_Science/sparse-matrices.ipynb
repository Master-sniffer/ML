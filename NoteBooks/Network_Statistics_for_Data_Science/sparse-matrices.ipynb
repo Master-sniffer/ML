{
 "cells": [
  {
   "cell_type": "markdown",
   "id": "f403cd04",
   "metadata": {
    "papermill": {
     "duration": 0.012337,
     "end_time": "2024-09-05T18:49:14.269512",
     "exception": false,
     "start_time": "2024-09-05T18:49:14.257175",
     "status": "completed"
    },
    "tags": []
   },
   "source": [
    "# Sparse matrix respresentation"
   ]
  },
  {
   "cell_type": "markdown",
   "id": "a8ccd988",
   "metadata": {
    "papermill": {
     "duration": 0.009913,
     "end_time": "2024-09-05T18:49:14.290213",
     "exception": false,
     "start_time": "2024-09-05T18:49:14.280300",
     "status": "completed"
    },
    "tags": []
   },
   "source": [
    "In this notebook will introduce you to the concepts of **sparse matrix representation**. This is a useful way to numerically represent matrices when the amount of zeros is really large. It ensures that such large matrices can still be stored into memory without causing errors. We will focus on the different sparse matrix formats that exist, and a Python library (called *scipy sparse*) that allows you to use sparse matrices."
   ]
  },
  {
   "cell_type": "markdown",
   "id": "9b2f9a74",
   "metadata": {
    "papermill": {
     "duration": 0.009726,
     "end_time": "2024-09-05T18:49:14.310279",
     "exception": false,
     "start_time": "2024-09-05T18:49:14.300553",
     "status": "completed"
    },
    "tags": []
   },
   "source": [
    "## The issue"
   ]
  },
  {
   "cell_type": "markdown",
   "id": "a9b8b9ad",
   "metadata": {
    "papermill": {
     "duration": 0.009615,
     "end_time": "2024-09-05T18:49:14.329783",
     "exception": false,
     "start_time": "2024-09-05T18:49:14.320168",
     "status": "completed"
    },
    "tags": []
   },
   "source": [
    "In the code below, we create a square matrix with only one nonzero entry. Namely, there will be a value of '2' in the second entry of the first row."
   ]
  },
  {
   "cell_type": "code",
   "execution_count": 1,
   "id": "37a9807a",
   "metadata": {
    "execution": {
     "iopub.execute_input": "2024-09-05T18:49:14.351526Z",
     "iopub.status.busy": "2024-09-05T18:49:14.351041Z",
     "iopub.status.idle": "2024-09-05T18:49:14.369827Z",
     "shell.execute_reply": "2024-09-05T18:49:14.368629Z"
    },
    "papermill": {
     "duration": 0.03303,
     "end_time": "2024-09-05T18:49:14.372664",
     "exception": false,
     "start_time": "2024-09-05T18:49:14.339634",
     "status": "completed"
    },
    "tags": []
   },
   "outputs": [
    {
     "data": {
      "text/plain": [
       "array([[0., 2., 0., ..., 0., 0., 0.],\n",
       "       [0., 0., 0., ..., 0., 0., 0.],\n",
       "       [0., 0., 0., ..., 0., 0., 0.],\n",
       "       ...,\n",
       "       [0., 0., 0., ..., 0., 0., 0.],\n",
       "       [0., 0., 0., ..., 0., 0., 0.],\n",
       "       [0., 0., 0., ..., 0., 0., 0.]])"
      ]
     },
     "execution_count": 1,
     "metadata": {},
     "output_type": "execute_result"
    }
   ],
   "source": [
    "import numpy as np\n",
    "n = 100 #dimension of the matrix\n",
    "A = np.zeros((n,n)) #start with an all-zero matrix\n",
    "A[0, 1] = 2 #Change the value in the first row and second column to a 1\n",
    "\n",
    "A"
   ]
  },
  {
   "cell_type": "markdown",
   "id": "5921328d",
   "metadata": {
    "papermill": {
     "duration": 0.010019,
     "end_time": "2024-09-05T18:49:14.392983",
     "exception": false,
     "start_time": "2024-09-05T18:49:14.382964",
     "status": "completed"
    },
    "tags": []
   },
   "source": [
    "As expected, running this code is not difficult. There is nothing big going on. However, try changing the value of $n$ to e.g. $n = 1000000$, and you will see an interesting error pop up. Apparently, a huge amount of RAM is being using to store such a trivial matrix. What is going wrong here? In essence, Python is trying to allocate a piece of memory for every entry of the matrix; even the zeros. We call this **full-format** storage of the matrix. Full-format storage wastes a lot of space to zeros, causing the memory to be completely flooded. The idea of sparse matrix representation is to only store non-zero values. In case of our trivial matrix, this will reduce memory allocation significantly."
   ]
  },
  {
   "cell_type": "markdown",
   "id": "e6fac9a0",
   "metadata": {
    "papermill": {
     "duration": 0.009692,
     "end_time": "2024-09-05T18:49:14.412803",
     "exception": false,
     "start_time": "2024-09-05T18:49:14.403111",
     "status": "completed"
    },
    "tags": []
   },
   "source": [
    "## Full-format storage"
   ]
  },
  {
   "cell_type": "markdown",
   "id": "5564e5da",
   "metadata": {
    "papermill": {
     "duration": 0.009766,
     "end_time": "2024-09-05T18:49:14.432591",
     "exception": false,
     "start_time": "2024-09-05T18:49:14.422825",
     "status": "completed"
    },
    "tags": []
   },
   "source": [
    "Memory in your computer is sequential. It can be modelled as a big sequence of stored numbers. The main problem with matrices, is that they are usually not considered to be a sequence. Matrices are usually represented as a block. So, how do we turn this block into a sequence? In full-format storage, we give the entire matrix one adress in memory, and then store the following sequentially at the adress:\n",
    "1. We first store the dimensions of the matrix.\n",
    "2. We then store the data in the matrix column by column or row by row.\n",
    "\n",
    "The two examples below show how full-format matrices are stored in memory."
   ]
  },
  {
   "cell_type": "code",
   "execution_count": 2,
   "id": "ed99f3e1",
   "metadata": {
    "execution": {
     "iopub.execute_input": "2024-09-05T18:49:14.454951Z",
     "iopub.status.busy": "2024-09-05T18:49:14.453960Z",
     "iopub.status.idle": "2024-09-05T18:49:14.465269Z",
     "shell.execute_reply": "2024-09-05T18:49:14.463625Z"
    },
    "papermill": {
     "duration": 0.025223,
     "end_time": "2024-09-05T18:49:14.467786",
     "exception": false,
     "start_time": "2024-09-05T18:49:14.442563",
     "status": "completed"
    },
    "tags": []
   },
   "outputs": [
    {
     "name": "stdout",
     "output_type": "stream",
     "text": [
      "[[1 2 3]\n",
      " [4 5 6]\n",
      " [7 8 9]]\n",
      "The dimensions are 3 by 3\n",
      "The data in the matrix is: [1 2 3 4 5 6 7 8 9]\n"
     ]
    }
   ],
   "source": [
    "#Row-by-row storage\n",
    "B = np.array([[1,2,3],[4,5,6],[7,8,9]])\n",
    "print(B)\n",
    "\n",
    "#In memory, first store the dimensions\n",
    "print(\"The dimensions are {} by {}\".format(B.shape[0], B.shape[1]))\n",
    "#Then, store the data row by row\n",
    "print(\"The data in the matrix is: {}\".format(B.flatten()))"
   ]
  },
  {
   "cell_type": "code",
   "execution_count": 3,
   "id": "1acd92b8",
   "metadata": {
    "execution": {
     "iopub.execute_input": "2024-09-05T18:49:14.490675Z",
     "iopub.status.busy": "2024-09-05T18:49:14.490188Z",
     "iopub.status.idle": "2024-09-05T18:49:14.498655Z",
     "shell.execute_reply": "2024-09-05T18:49:14.497457Z"
    },
    "papermill": {
     "duration": 0.022595,
     "end_time": "2024-09-05T18:49:14.501149",
     "exception": false,
     "start_time": "2024-09-05T18:49:14.478554",
     "status": "completed"
    },
    "tags": []
   },
   "outputs": [
    {
     "name": "stdout",
     "output_type": "stream",
     "text": [
      "[[1 2 3]\n",
      " [4 5 6]\n",
      " [7 8 9]]\n",
      "The dimensions are 3 by 3\n",
      "The data in the matrix is: [1 4 7 2 5 8 3 6 9]\n"
     ]
    }
   ],
   "source": [
    "#Column-by-column storage\n",
    "B = np.array([[1,2,3],[4,5,6],[7,8,9]])\n",
    "print(B)\n",
    "\n",
    "#In memory, first store the dimensions\n",
    "print(\"The dimensions are {} by {}\".format(B.shape[0], B.shape[1]))\n",
    "#Then, store the data row by row\n",
    "print(\"The data in the matrix is: {}\".format(B.flatten(\"F\")))"
   ]
  },
  {
   "cell_type": "markdown",
   "id": "d021e76c",
   "metadata": {
    "papermill": {
     "duration": 0.010008,
     "end_time": "2024-09-05T18:49:14.521753",
     "exception": false,
     "start_time": "2024-09-05T18:49:14.511745",
     "status": "completed"
    },
    "tags": []
   },
   "source": [
    "For Python, row by row storage is default. Note this is not the case for all programming languages. MatLab, for example, uses column by column storage is its default. This difference might cause issues e.g. when using linear indexing for matrices."
   ]
  },
  {
   "cell_type": "markdown",
   "id": "9b7be499",
   "metadata": {
    "papermill": {
     "duration": 0.009998,
     "end_time": "2024-09-05T18:49:14.542059",
     "exception": false,
     "start_time": "2024-09-05T18:49:14.532061",
     "status": "completed"
    },
    "tags": []
   },
   "source": [
    "## COO sparse storage"
   ]
  },
  {
   "cell_type": "markdown",
   "id": "60fdec77",
   "metadata": {
    "papermill": {
     "duration": 0.010067,
     "end_time": "2024-09-05T18:49:14.564307",
     "exception": false,
     "start_time": "2024-09-05T18:49:14.554240",
     "status": "completed"
    },
    "tags": []
   },
   "source": [
    "All sparse storage of matrices is handled by the *Scipy* package in Python. The simplest format to create a sparse matrix in Python is by using the **COO (coordinate) format**. The idea of this matrix storage method is simple. You store:\n",
    "1. The dimensions of the matrix.\n",
    "2. A vector containing the row indices of the nonzero entries.\n",
    "3. A vector containing the column indices of the nonzero entries.\n",
    "4. A vector with the nonzero entries.\n",
    "\n",
    "Below is an example that shows how we would define the 1000000 by 1000000 matrix *A* from before in COO-format."
   ]
  },
  {
   "cell_type": "code",
   "execution_count": 4,
   "id": "a4ba2000",
   "metadata": {
    "execution": {
     "iopub.execute_input": "2024-09-05T18:49:14.587220Z",
     "iopub.status.busy": "2024-09-05T18:49:14.586744Z",
     "iopub.status.idle": "2024-09-05T18:49:14.955180Z",
     "shell.execute_reply": "2024-09-05T18:49:14.953959Z"
    },
    "papermill": {
     "duration": 0.38322,
     "end_time": "2024-09-05T18:49:14.957994",
     "exception": false,
     "start_time": "2024-09-05T18:49:14.574774",
     "status": "completed"
    },
    "tags": []
   },
   "outputs": [
    {
     "name": "stdout",
     "output_type": "stream",
     "text": [
      "<COOrdinate sparse matrix of dtype 'int64'\n",
      "\twith 1 stored elements and shape (1000000, 1000000)>\n",
      "  Coords\tValues\n",
      "  (0, 1)\t2\n"
     ]
    }
   ],
   "source": [
    "import scipy as sp\n",
    "\n",
    "#Data for COO-storage\n",
    "n, m = 1000000, 1000000\n",
    "row = np.array([0])\n",
    "col = np.array([1])\n",
    "data = np.array([2])\n",
    "#Creating the matrix\n",
    "A = sp.sparse.coo_matrix((data, (row, col)), shape = (n, m))\n",
    "#Printing all-nonzero values and their coordinates\n",
    "print(A)"
   ]
  },
  {
   "cell_type": "markdown",
   "id": "124c20c9",
   "metadata": {
    "papermill": {
     "duration": 0.010377,
     "end_time": "2024-09-05T18:49:14.979214",
     "exception": false,
     "start_time": "2024-09-05T18:49:14.968837",
     "status": "completed"
    },
    "tags": []
   },
   "source": [
    "Be aware that COO-format is usually only used to create sparse matrices. It is not really possible to do any operations with these matrices. You would need to convert COO-matrices to other sparse formats to do operations with them. Be aware never to convert sparse matrices to dense formats, since this will again use up all memory, defeating the point of sparse storage, as the example below shows."
   ]
  },
  {
   "cell_type": "code",
   "execution_count": 5,
   "id": "92f89d13",
   "metadata": {
    "execution": {
     "iopub.execute_input": "2024-09-05T18:49:15.002659Z",
     "iopub.status.busy": "2024-09-05T18:49:15.002053Z",
     "iopub.status.idle": "2024-09-05T18:49:15.010274Z",
     "shell.execute_reply": "2024-09-05T18:49:15.009137Z"
    },
    "papermill": {
     "duration": 0.022495,
     "end_time": "2024-09-05T18:49:15.012771",
     "exception": false,
     "start_time": "2024-09-05T18:49:14.990276",
     "status": "completed"
    },
    "tags": []
   },
   "outputs": [
    {
     "data": {
      "text/plain": [
       "matrix([[0, 2, 0, ..., 0, 0, 0],\n",
       "        [0, 0, 0, ..., 0, 0, 0],\n",
       "        [0, 0, 0, ..., 0, 0, 0],\n",
       "        ...,\n",
       "        [0, 0, 0, ..., 0, 0, 0],\n",
       "        [0, 0, 0, ..., 0, 0, 0],\n",
       "        [0, 0, 0, ..., 0, 0, 0]])"
      ]
     },
     "execution_count": 5,
     "metadata": {},
     "output_type": "execute_result"
    }
   ],
   "source": [
    "#Go from sparse format to full-format\n",
    "A.todense()"
   ]
  },
  {
   "cell_type": "markdown",
   "id": "62aa9894",
   "metadata": {
    "papermill": {
     "duration": 0.01046,
     "end_time": "2024-09-05T18:49:15.033742",
     "exception": false,
     "start_time": "2024-09-05T18:49:15.023282",
     "status": "completed"
    },
    "tags": []
   },
   "source": [
    "## CSC and CSR sparse storage"
   ]
  },
  {
   "cell_type": "markdown",
   "id": "8bedcb00",
   "metadata": {
    "papermill": {
     "duration": 0.01008,
     "end_time": "2024-09-05T18:49:15.054609",
     "exception": false,
     "start_time": "2024-09-05T18:49:15.044529",
     "status": "completed"
    },
    "tags": []
   },
   "source": [
    "Two sparse storgage formats that produce matrices that allow for easy manipulation are the **CSC (compressed sparse column) format** and the **CSR (compressed sparse row) format**. In case of the CSC-format, the following data is supplied to memory:\n",
    "1. The dimensions of the matrix\n",
    "2. A vector $v$ storing the row-indices of each nonzero entry.\n",
    "3. A vector storing at which index of $v$ each column starts.\n",
    "4. A vector containing all nonzero entries of the matrix.\n",
    "\n",
    "Below is an example where we create our matrix *A* in CSC-format."
   ]
  },
  {
   "cell_type": "code",
   "execution_count": 6,
   "id": "c57b24b6",
   "metadata": {
    "execution": {
     "iopub.execute_input": "2024-09-05T18:49:15.077465Z",
     "iopub.status.busy": "2024-09-05T18:49:15.077026Z",
     "iopub.status.idle": "2024-09-05T18:49:15.097602Z",
     "shell.execute_reply": "2024-09-05T18:49:15.095968Z"
    },
    "papermill": {
     "duration": 0.035073,
     "end_time": "2024-09-05T18:49:15.100327",
     "exception": false,
     "start_time": "2024-09-05T18:49:15.065254",
     "status": "completed"
    },
    "tags": []
   },
   "outputs": [
    {
     "name": "stdout",
     "output_type": "stream",
     "text": [
      "<Compressed Sparse Column sparse matrix of dtype 'int64'\n",
      "\twith 1 stored elements and shape (1000000, 1000000)>\n",
      "  Coords\tValues\n",
      "  (0, 1)\t2\n"
     ]
    }
   ],
   "source": [
    "#Data for CSC-storage\n",
    "n, m = 1000000, 1000000\n",
    "row = np.array([0]) \n",
    "colstart = np.ones(m + 1)\n",
    "colstart[[0,1]] = [0, 0]\n",
    "data = np.array([2])\n",
    "#Creating the matrix\n",
    "A = sp.sparse.csc_matrix((data, row, colstart), shape = (n, m))\n",
    "#Printing all-nonzero values and their coordinates\n",
    "print(A)"
   ]
  },
  {
   "cell_type": "markdown",
   "id": "e3f94155",
   "metadata": {
    "papermill": {
     "duration": 0.010672,
     "end_time": "2024-09-05T18:49:15.121887",
     "exception": false,
     "start_time": "2024-09-05T18:49:15.111215",
     "status": "completed"
    },
    "tags": []
   },
   "source": [
    "Note that in the example above `colstart` needs to be a vector of size 1000001 since it needs to indicate for every column where it starts and ends with respect to the row index array. `colstart` begins with two zeros, since the first column is empty. The second entry in `colstart` is zero and the third is one. This means that the second column starts at index zero of `row` and ends at index one. This end index is not considered part of the column. Hence, this shows there is one nonzero entry in the second column. Its row-index is given by `row[0] = 0` and its value by `data[0] = 2`. Finally, all the other values in `colstart` are one, indicating that all other columns have that their nonzero values start at index one of `row` (which does not exist) and also end there, meaning all the other columns only contain zeros.\n",
    "\n",
    "You might have noticed that the CSC-format to define a matrix is pretty cumbersome. Hence, usually you want to define your matrix in COO-format and convert to CSC-format to do calculations with it. The example below shows how you would do that."
   ]
  },
  {
   "cell_type": "code",
   "execution_count": 7,
   "id": "a7ac4edd",
   "metadata": {
    "execution": {
     "iopub.execute_input": "2024-09-05T18:49:15.144955Z",
     "iopub.status.busy": "2024-09-05T18:49:15.144456Z",
     "iopub.status.idle": "2024-09-05T18:49:15.157891Z",
     "shell.execute_reply": "2024-09-05T18:49:15.156590Z"
    },
    "papermill": {
     "duration": 0.028006,
     "end_time": "2024-09-05T18:49:15.160475",
     "exception": false,
     "start_time": "2024-09-05T18:49:15.132469",
     "status": "completed"
    },
    "tags": []
   },
   "outputs": [
    {
     "data": {
      "text/plain": [
       "<Compressed Sparse Column sparse matrix of dtype 'int64'\n",
       "\twith 1 stored elements and shape (1000000, 1000000)>"
      ]
     },
     "execution_count": 7,
     "metadata": {},
     "output_type": "execute_result"
    }
   ],
   "source": [
    "#Data for COO-storage\n",
    "n, m = 1000000, 1000000\n",
    "row = np.array([0])\n",
    "col = np.array([1])\n",
    "data = np.array([2])\n",
    "#Creating the matrix in COO-format\n",
    "A = sp.sparse.coo_matrix((data, (row, col)), shape = (n, m))\n",
    "#Converting to CSC-format\n",
    "A = A.tocsc()\n",
    "\n",
    "A #Showing that the format is indeed CSC"
   ]
  },
  {
   "cell_type": "markdown",
   "id": "af9aad0c",
   "metadata": {
    "papermill": {
     "duration": 0.010664,
     "end_time": "2024-09-05T18:49:15.182499",
     "exception": false,
     "start_time": "2024-09-05T18:49:15.171835",
     "status": "completed"
    },
    "tags": []
   },
   "source": [
    "CSR-format is similar to CSC-format, but in this case the role of the two index arrays flip. The following information needs to be provided:\n",
    "\n",
    "1. The dimensions of the matrix\n",
    "2. A vector $v$ storing the **column**-indices of each nonzero entry.\n",
    "3. A vector storing at which index of $v$ each **row** starts.\n",
    "4. A vector containing all nonzero entries of the matrix.\n",
    "\n",
    "Again we will give our matrix *A* as an example. Try to explain yourself why this code creates the correct format."
   ]
  },
  {
   "cell_type": "code",
   "execution_count": 8,
   "id": "a12893a0",
   "metadata": {
    "execution": {
     "iopub.execute_input": "2024-09-05T18:49:15.206952Z",
     "iopub.status.busy": "2024-09-05T18:49:15.206501Z",
     "iopub.status.idle": "2024-09-05T18:49:15.223170Z",
     "shell.execute_reply": "2024-09-05T18:49:15.221789Z"
    },
    "papermill": {
     "duration": 0.03222,
     "end_time": "2024-09-05T18:49:15.226061",
     "exception": false,
     "start_time": "2024-09-05T18:49:15.193841",
     "status": "completed"
    },
    "tags": []
   },
   "outputs": [
    {
     "name": "stdout",
     "output_type": "stream",
     "text": [
      "<Compressed Sparse Row sparse matrix of dtype 'int64'\n",
      "\twith 1 stored elements and shape (1000000, 1000000)>\n",
      "  Coords\tValues\n",
      "  (0, 1)\t2\n"
     ]
    }
   ],
   "source": [
    "#Data for CSR-storage\n",
    "n, m = 1000000, 1000000\n",
    "column = np.array([1]) \n",
    "rowstart = np.ones(m + 1)\n",
    "rowstart[0] = 0\n",
    "data = np.array([2])\n",
    "#Creating the matrix\n",
    "A = sp.sparse.csr_matrix((data, column, rowstart), shape = (n, m))\n",
    "#Printing all-nonzero values and their coordinates\n",
    "print(A)"
   ]
  },
  {
   "cell_type": "markdown",
   "id": "791b6fb4",
   "metadata": {
    "papermill": {
     "duration": 0.010572,
     "end_time": "2024-09-05T18:49:15.247669",
     "exception": false,
     "start_time": "2024-09-05T18:49:15.237097",
     "status": "completed"
    },
    "tags": []
   },
   "source": [
    "Below is one more example where we create a sparse matrix in CSR-format. We first give the matrix in full-format, then define the matrix is CSR-format, and finally check whether these two matrices are the same. Try to explain again why this way of defining the CSR-format matrix is correct."
   ]
  },
  {
   "cell_type": "code",
   "execution_count": 9,
   "id": "29a9c00f",
   "metadata": {
    "execution": {
     "iopub.execute_input": "2024-09-05T18:49:15.272040Z",
     "iopub.status.busy": "2024-09-05T18:49:15.270909Z",
     "iopub.status.idle": "2024-09-05T18:49:15.282815Z",
     "shell.execute_reply": "2024-09-05T18:49:15.281550Z"
    },
    "papermill": {
     "duration": 0.027176,
     "end_time": "2024-09-05T18:49:15.285763",
     "exception": false,
     "start_time": "2024-09-05T18:49:15.258587",
     "status": "completed"
    },
    "tags": []
   },
   "outputs": [
    {
     "name": "stdout",
     "output_type": "stream",
     "text": [
      "[[0 2 0 0 3]\n",
      " [1 0 0 6 3]\n",
      " [0 0 0 0 0]\n",
      " [0 0 0 9 2]]\n",
      "<Compressed Sparse Row sparse matrix of dtype 'int64'\n",
      "\twith 7 stored elements and shape (4, 5)>\n",
      "  Coords\tValues\n",
      "  (0, 1)\t2\n",
      "  (0, 4)\t3\n",
      "  (1, 0)\t1\n",
      "  (1, 3)\t6\n",
      "  (1, 4)\t3\n",
      "  (3, 3)\t9\n",
      "  (3, 4)\t2\n",
      "[[ True  True  True  True  True]\n",
      " [ True  True  True  True  True]\n",
      " [ True  True  True  True  True]\n",
      " [ True  True  True  True  True]]\n"
     ]
    }
   ],
   "source": [
    "#Full-format matrix\n",
    "Mdense = np.array([[0,2,0,0,3],[1,0,0,6,3],[0,0,0,0,0],[0,0,0,9,2]])\n",
    "print(Mdense)\n",
    "\n",
    "#Sparse CSR-matrix\n",
    "n, m = 4, 5\n",
    "column = np.array([1, 4, 0, 3, 4, 3, 4])\n",
    "rowstart = np.array([0, 2, 5, 5, 7])\n",
    "data = np.array([2, 3, 1, 6, 3, 9, 2])\n",
    "Msparse = sp.sparse.csr_matrix((data, column, rowstart), shape = (n, m))\n",
    "print(Msparse)\n",
    "\n",
    "#Checking whether Mdense and Msparse are the same\n",
    "print(Mdense == Msparse)"
   ]
  },
  {
   "cell_type": "markdown",
   "id": "e46dc314",
   "metadata": {
    "papermill": {
     "duration": 0.010841,
     "end_time": "2024-09-05T18:49:15.307572",
     "exception": false,
     "start_time": "2024-09-05T18:49:15.296731",
     "status": "completed"
    },
    "tags": []
   },
   "source": [
    "**Exercise.** The first code block below generates a random full-format matrix. Use the second code block below to implement it as a sparse matrix. Experiment with COO-, CSC- and CSR-formats to get more familiar with them. You can also try to implement code that automatically turns a full-format matrix into a sparse format."
   ]
  },
  {
   "cell_type": "code",
   "execution_count": 10,
   "id": "e4c106d4",
   "metadata": {
    "execution": {
     "iopub.execute_input": "2024-09-05T18:49:15.332649Z",
     "iopub.status.busy": "2024-09-05T18:49:15.332226Z",
     "iopub.status.idle": "2024-09-05T18:49:15.345030Z",
     "shell.execute_reply": "2024-09-05T18:49:15.343719Z"
    },
    "papermill": {
     "duration": 0.028813,
     "end_time": "2024-09-05T18:49:15.348009",
     "exception": false,
     "start_time": "2024-09-05T18:49:15.319196",
     "status": "completed"
    },
    "tags": []
   },
   "outputs": [
    {
     "name": "stdout",
     "output_type": "stream",
     "text": [
      "The dense matrix is:\n",
      "[[0 1 0 1 0 0]\n",
      " [1 1 1 1 1 1]\n",
      " [0 0 1 0 0 0]\n",
      " [0 0 1 0 0 0]]\n"
     ]
    }
   ],
   "source": [
    "#Creating a random matrix in full-format\n",
    "[n, m] = np.random.default_rng().integers(2, high = 7, size = 2)\n",
    "Mdense = np.random.default_rng().choice(3, size = (n, m), p = [0.5, 0.4, 0.1])\n",
    "print(\"The dense matrix is:\")\n",
    "print(Mdense)"
   ]
  },
  {
   "cell_type": "code",
   "execution_count": 11,
   "id": "ac12326c",
   "metadata": {
    "execution": {
     "iopub.execute_input": "2024-09-05T18:49:15.372020Z",
     "iopub.status.busy": "2024-09-05T18:49:15.371545Z",
     "iopub.status.idle": "2024-09-05T18:49:15.378015Z",
     "shell.execute_reply": "2024-09-05T18:49:15.376853Z"
    },
    "papermill": {
     "duration": 0.021244,
     "end_time": "2024-09-05T18:49:15.380420",
     "exception": false,
     "start_time": "2024-09-05T18:49:15.359176",
     "status": "completed"
    },
    "tags": []
   },
   "outputs": [
    {
     "name": "stdout",
     "output_type": "stream",
     "text": [
      "Something went wrong\n"
     ]
    }
   ],
   "source": [
    "#Use this code block to make a sparse matrix (called Msparse) that is the same as Mdense\n",
    "\n",
    "\n",
    "#Check whether you are correct\n",
    "try:\n",
    "    print(Mdense == Msparse)\n",
    "except Exception:\n",
    "    print(\"Something went wrong\")"
   ]
  },
  {
   "cell_type": "markdown",
   "id": "a1d2a6b4",
   "metadata": {
    "papermill": {
     "duration": 0.01095,
     "end_time": "2024-09-05T18:49:15.402650",
     "exception": false,
     "start_time": "2024-09-05T18:49:15.391700",
     "status": "completed"
    },
    "tags": []
   },
   "source": [
    "## Some notes on matrix operations and auxiliary functions"
   ]
  },
  {
   "cell_type": "markdown",
   "id": "d36752d3",
   "metadata": {
    "papermill": {
     "duration": 0.011075,
     "end_time": "2024-09-05T18:49:15.424928",
     "exception": false,
     "start_time": "2024-09-05T18:49:15.413853",
     "status": "completed"
    },
    "tags": []
   },
   "source": [
    "When you are doing matrix operations with sparse matrices, the most important thing to keep in mind is to *never convert the matrix back to full-format*. In general this means that you should avoid *NumPy* funcitons as much as you can, since they only work with full-format matrices. The *Scipy.sparse* package has many of the same options as the *NumPy* package, but does not need full-format matrices. The example below shows that."
   ]
  },
  {
   "cell_type": "code",
   "execution_count": 12,
   "id": "4fb9f63b",
   "metadata": {
    "execution": {
     "iopub.execute_input": "2024-09-05T18:49:15.449343Z",
     "iopub.status.busy": "2024-09-05T18:49:15.448893Z",
     "iopub.status.idle": "2024-09-05T18:49:15.475550Z",
     "shell.execute_reply": "2024-09-05T18:49:15.474241Z"
    },
    "papermill": {
     "duration": 0.042014,
     "end_time": "2024-09-05T18:49:15.478259",
     "exception": false,
     "start_time": "2024-09-05T18:49:15.436245",
     "status": "completed"
    },
    "tags": []
   },
   "outputs": [
    {
     "name": "stdout",
     "output_type": "stream",
     "text": [
      "The frobenius norm of A is: 2.0\n",
      "The frobenius norm of A is: <Compressed Sparse Row sparse matrix of dtype 'float64'\n",
      "\twith 0 stored elements and shape (1000000, 1000000)>\n"
     ]
    }
   ],
   "source": [
    "#Creating a sparse matrix\n",
    "n, m = 1000000, 1000000\n",
    "column = np.array([1]) \n",
    "rowstart = np.ones(m + 1)\n",
    "rowstart[0] = 0\n",
    "data = np.array([2])\n",
    "A = sp.sparse.csr_matrix((data, column, rowstart), shape = (n, m))\n",
    "\n",
    "#Calculating the frobenius norm of this matrix in a sparse way (the answer should be 2)\n",
    "out = sp.sparse.linalg.norm(A)\n",
    "print(\"The frobenius norm of A is: {}\".format(out))\n",
    "\n",
    "#Calculating the frobenius norm of this matrix using Numpy\n",
    "out = np.linalg.norm(A)\n",
    "print(\"The frobenius norm of A is: {}\".format(out))"
   ]
  },
  {
   "cell_type": "markdown",
   "id": "f4572b1f",
   "metadata": {
    "papermill": {
     "duration": 0.01108,
     "end_time": "2024-09-05T18:49:15.500684",
     "exception": false,
     "start_time": "2024-09-05T18:49:15.489604",
     "status": "completed"
    },
    "tags": []
   },
   "source": [
    "When using functions on sparse matrices, be aware that certain functions work much better in certain formats due to how things are stored in memory. Some examples are:\n",
    "- COO-matrices are not really suited for arithmatic operations and slicing. They need to be converted to a CSC- or CSR-format.\n",
    "- CSR-matrices are well suited for row selection, but terrible at column selection. This is because in CSR-format row data is placed adjacent in memory, while column data is scattered all over memory.\n",
    "- CSC-matrices are well suited for column selection, but terrible at row selection. This is because in CSC-format column data is placed adjacent in memory, while row data is scattered all over memory.\n",
    "\n",
    "The code block below should show these three examples. Be aware that it can take up to one minute to run this block. If you want a quicker, but less convincing output, remove one of the zeros from $n$ and $m$."
   ]
  },
  {
   "cell_type": "code",
   "execution_count": 13,
   "id": "0c8cffce",
   "metadata": {
    "execution": {
     "iopub.execute_input": "2024-09-05T18:49:15.525125Z",
     "iopub.status.busy": "2024-09-05T18:49:15.524698Z",
     "iopub.status.idle": "2024-09-05T18:49:23.143147Z",
     "shell.execute_reply": "2024-09-05T18:49:23.141889Z"
    },
    "papermill": {
     "duration": 7.63379,
     "end_time": "2024-09-05T18:49:23.145735",
     "exception": false,
     "start_time": "2024-09-05T18:49:15.511945",
     "status": "completed"
    },
    "tags": []
   },
   "outputs": [
    {
     "name": "stdout",
     "output_type": "stream",
     "text": [
      "I could not extract the second column from A...\n",
      "The second column of A is: <Compressed Sparse Row sparse matrix of dtype 'int64'\n",
      "\twith 1 stored elements and shape (100000000, 1)>\n",
      "  Coords\tValues\n",
      "  (0, 0)\t1\n",
      "This operation took me 0.9693334102630615 seconds in CSR-format\n",
      "The second column of A is: <Compressed Sparse Column sparse matrix of dtype 'int64'\n",
      "\twith 1 stored elements and shape (100000000, 1)>\n",
      "  Coords\tValues\n",
      "  (0, 0)\t1\n",
      "This operation took me 0.0008356571197509766 seconds in CSC-format\n"
     ]
    }
   ],
   "source": [
    "#The matrix A contains all zeros except for the first row, which only contains ones.\n",
    "n, m = 100000000, 100000000\n",
    "row = np.zeros(m)\n",
    "col = np.arange(n)\n",
    "data = np.ones_like(col)\n",
    "A = sp.sparse.coo_matrix((data, (row, col)), shape = (n, m)) \n",
    "\n",
    "#Try to select the second column in COO-form\n",
    "try:\n",
    "    print(A[:,1])\n",
    "except:\n",
    "    print(\"I could not extract the second column from A...\")\n",
    "    \n",
    "#Try to select the second column in CSR-form and time the result\n",
    "import time\n",
    "Acsr = A.tocsr()\n",
    "t1 = time.time()\n",
    "print(\"The second column of A is: {}\".format(Acsr[:,1]))\n",
    "print(\"This operation took me {} seconds in CSR-format\".format(time.time() - t1))\n",
    "\n",
    "#Try to select the second column in CSC-form and time the result\n",
    "Acsc = A.tocsc()\n",
    "t1 = time.time()\n",
    "print(\"The second column of A is: {}\".format(Acsc[:,1]))\n",
    "print(\"This operation took me {} seconds in CSC-format\".format(time.time() - t1))"
   ]
  },
  {
   "cell_type": "markdown",
   "id": "847c4808",
   "metadata": {
    "papermill": {
     "duration": 0.011158,
     "end_time": "2024-09-05T18:49:23.169060",
     "exception": false,
     "start_time": "2024-09-05T18:49:23.157902",
     "status": "completed"
    },
    "tags": []
   },
   "source": [
    "Finally, in the course we will be working with the *NetworkX* package a lot. If you ever extract things like the adjacency matrix from this package, then it will be given in a sparse format. The example below shows this."
   ]
  },
  {
   "cell_type": "code",
   "execution_count": 14,
   "id": "7e473390",
   "metadata": {
    "execution": {
     "iopub.execute_input": "2024-09-05T18:49:23.193652Z",
     "iopub.status.busy": "2024-09-05T18:49:23.193224Z",
     "iopub.status.idle": "2024-09-05T18:49:39.925058Z",
     "shell.execute_reply": "2024-09-05T18:49:39.923920Z"
    },
    "papermill": {
     "duration": 16.747419,
     "end_time": "2024-09-05T18:49:39.927761",
     "exception": false,
     "start_time": "2024-09-05T18:49:23.180342",
     "status": "completed"
    },
    "tags": []
   },
   "outputs": [
    {
     "name": "stdout",
     "output_type": "stream",
     "text": [
      "Is the adjacency matrix sparse? True\n"
     ]
    }
   ],
   "source": [
    "import networkx as nx\n",
    "\n",
    "G = nx.fast_gnp_random_graph(10**6, 2*10**(-6)) #Create an Erdos-Renyi random graph.\n",
    "Adj = nx.adjacency_matrix(G)\n",
    "print(\"Is the adjacency matrix sparse? {}\".format(sp.sparse.issparse(Adj))) #Checks if the matrix is sparse"
   ]
  },
  {
   "cell_type": "code",
   "execution_count": null,
   "id": "6b7dc555",
   "metadata": {
    "papermill": {
     "duration": 0.011221,
     "end_time": "2024-09-05T18:49:39.950639",
     "exception": false,
     "start_time": "2024-09-05T18:49:39.939418",
     "status": "completed"
    },
    "tags": []
   },
   "outputs": [],
   "source": []
  }
 ],
 "metadata": {
  "kaggle": {
   "accelerator": "none",
   "dataSources": [],
   "dockerImageVersionId": 30761,
   "isGpuEnabled": false,
   "isInternetEnabled": true,
   "language": "python",
   "sourceType": "notebook"
  },
  "kernelspec": {
   "display_name": "Python 3",
   "language": "python",
   "name": "python3"
  },
  "language_info": {
   "codemirror_mode": {
    "name": "ipython",
    "version": 3
   },
   "file_extension": ".py",
   "mimetype": "text/x-python",
   "name": "python",
   "nbconvert_exporter": "python",
   "pygments_lexer": "ipython3",
   "version": "3.10.14"
  },
  "papermill": {
   "default_parameters": {},
   "duration": 31.565952,
   "end_time": "2024-09-05T18:49:42.742111",
   "environment_variables": {},
   "exception": null,
   "input_path": "__notebook__.ipynb",
   "output_path": "__notebook__.ipynb",
   "parameters": {},
   "start_time": "2024-09-05T18:49:11.176159",
   "version": "2.6.0"
  }
 },
 "nbformat": 4,
 "nbformat_minor": 5
}
