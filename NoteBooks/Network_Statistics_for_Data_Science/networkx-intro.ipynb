{
 "cells": [
  {
   "cell_type": "markdown",
   "id": "baa56df9",
   "metadata": {
    "papermill": {
     "duration": 0.005593,
     "end_time": "2024-09-05T17:22:17.220513",
     "exception": false,
     "start_time": "2024-09-05T17:22:17.214920",
     "status": "completed"
    },
    "tags": []
   },
   "source": [
    "# Introduction to NetworkX\n",
    "\n",
    "In this course we will use the **NetworkX library** for working with networks. This notebook is meant as a very short and basic introduction to using this library. For more information see https://networkx.org/documentation/stable/index.html or https://networkx.org/documentation/stable/tutorial.html for a quick introduction to using the library.\n",
    "\n",
    "We begin with loading in the library"
   ]
  },
  {
   "cell_type": "code",
   "execution_count": 1,
   "id": "f5058d92",
   "metadata": {
    "execution": {
     "iopub.execute_input": "2024-09-05T17:22:17.232745Z",
     "iopub.status.busy": "2024-09-05T17:22:17.232295Z",
     "iopub.status.idle": "2024-09-05T17:22:18.208459Z",
     "shell.execute_reply": "2024-09-05T17:22:18.207325Z"
    },
    "papermill": {
     "duration": 0.985521,
     "end_time": "2024-09-05T17:22:18.211202",
     "exception": false,
     "start_time": "2024-09-05T17:22:17.225681",
     "status": "completed"
    },
    "tags": []
   },
   "outputs": [],
   "source": [
    "import networkx as nx"
   ]
  },
  {
   "cell_type": "markdown",
   "id": "5688c325",
   "metadata": {
    "papermill": {
     "duration": 0.004806,
     "end_time": "2024-09-05T17:22:18.221389",
     "exception": false,
     "start_time": "2024-09-05T17:22:18.216583",
     "status": "completed"
    },
    "tags": []
   },
   "source": [
    "## Creating a graph\n",
    "\n",
    "The first thing we need to do is create a graph. This is done by first using the `Graph` function of NetworkX to create a graph object. Then we add nodes to this graphs using `add_node` and finally we create edges using `add_edges`.\n",
    "\n",
    "Below is an example code that creates a triangle graph."
   ]
  },
  {
   "cell_type": "code",
   "execution_count": 2,
   "id": "20fe374b",
   "metadata": {
    "execution": {
     "iopub.execute_input": "2024-09-05T17:22:18.233437Z",
     "iopub.status.busy": "2024-09-05T17:22:18.232828Z",
     "iopub.status.idle": "2024-09-05T17:22:18.239678Z",
     "shell.execute_reply": "2024-09-05T17:22:18.238345Z"
    },
    "papermill": {
     "duration": 0.015508,
     "end_time": "2024-09-05T17:22:18.241987",
     "exception": false,
     "start_time": "2024-09-05T17:22:18.226479",
     "status": "completed"
    },
    "tags": []
   },
   "outputs": [],
   "source": [
    "### To create a new network from scratch we use the Graph function.\n",
    "\n",
    "triangle_graph = nx.Graph()\n",
    "\n",
    "### This network has no nodes or edges. So lets start by adding three nodes.\n",
    "triangle_graph.add_node(1)\n",
    "triangle_graph.add_node(2)\n",
    "triangle_graph.add_node(3)\n",
    "\n",
    "### Next we add edges to make this network into a triangle\n",
    "triangle_graph.add_edge(1,2)\n",
    "triangle_graph.add_edge(2,3)\n",
    "triangle_graph.add_edge(3,1)"
   ]
  },
  {
   "cell_type": "markdown",
   "id": "614c7df9",
   "metadata": {
    "papermill": {
     "duration": 0.004621,
     "end_time": "2024-09-05T17:22:18.251642",
     "exception": false,
     "start_time": "2024-09-05T17:22:18.247021",
     "status": "completed"
    },
    "tags": []
   },
   "source": [
    "Once a graph is created we can access the nodes and edges in the graph using the `nodes` and `edges` functions. The `nodes` function returns an list with the node labels. The `edges` function returns a lists if *edges* where each edge is again a list of lenght 2."
   ]
  },
  {
   "cell_type": "code",
   "execution_count": 3,
   "id": "319f1872",
   "metadata": {
    "execution": {
     "iopub.execute_input": "2024-09-05T17:22:18.263146Z",
     "iopub.status.busy": "2024-09-05T17:22:18.262753Z",
     "iopub.status.idle": "2024-09-05T17:22:18.269205Z",
     "shell.execute_reply": "2024-09-05T17:22:18.268013Z"
    },
    "papermill": {
     "duration": 0.015709,
     "end_time": "2024-09-05T17:22:18.272285",
     "exception": false,
     "start_time": "2024-09-05T17:22:18.256576",
     "status": "completed"
    },
    "tags": []
   },
   "outputs": [
    {
     "name": "stdout",
     "output_type": "stream",
     "text": [
      "Node 1 is part of the graph\n",
      "Node 2 is part of the graph\n",
      "Node 3 is part of the graph\n",
      "Edge (1, 2) is part of the graph and connects 1 with 2\n",
      "Edge (1, 3) is part of the graph and connects 1 with 3\n",
      "Edge (2, 3) is part of the graph and connects 2 with 3\n"
     ]
    }
   ],
   "source": [
    "### List all nodes and edges in the graph\n",
    "\n",
    "for node in triangle_graph.nodes():\n",
    "    print(f\"Node {node} is part of the graph\")\n",
    "    \n",
    "for edge in triangle_graph.edges():\n",
    "    print(f\"Edge {edge} is part of the graph and connects {edge[0]} with {edge[1]}\")"
   ]
  },
  {
   "cell_type": "markdown",
   "id": "446de1eb",
   "metadata": {
    "papermill": {
     "duration": 0.004568,
     "end_time": "2024-09-05T17:22:18.282101",
     "exception": false,
     "start_time": "2024-09-05T17:22:18.277533",
     "status": "completed"
    },
    "tags": []
   },
   "source": [
    "Instead of first adding each node to the graph and then the edges, we can simply start with adding edges. This is because when an edge is added using `add_edge` each node that is not yet part of the graph is added automatically. Note that this way you will never have a node with $d_i=0$."
   ]
  },
  {
   "cell_type": "code",
   "execution_count": 4,
   "id": "54b9f537",
   "metadata": {
    "execution": {
     "iopub.execute_input": "2024-09-05T17:22:18.293582Z",
     "iopub.status.busy": "2024-09-05T17:22:18.293184Z",
     "iopub.status.idle": "2024-09-05T17:22:18.299823Z",
     "shell.execute_reply": "2024-09-05T17:22:18.298826Z"
    },
    "papermill": {
     "duration": 0.015168,
     "end_time": "2024-09-05T17:22:18.302187",
     "exception": false,
     "start_time": "2024-09-05T17:22:18.287019",
     "status": "completed"
    },
    "tags": []
   },
   "outputs": [
    {
     "name": "stdout",
     "output_type": "stream",
     "text": [
      "Node 1 is part of the graph\n",
      "Node 2 is part of the graph\n",
      "Node 3 is part of the graph\n"
     ]
    }
   ],
   "source": [
    "### Create the network object\n",
    "triangle_graph_alt = nx.Graph()\n",
    "\n",
    "### Now we directly add the edges to make this network into a triangle\n",
    "triangle_graph_alt.add_edge(1,2)\n",
    "triangle_graph_alt.add_edge(2,3)\n",
    "triangle_graph_alt.add_edge(3,1)\n",
    "\n",
    "\n",
    "### Let's check that all nodes are part of the graph\n",
    "for node in triangle_graph_alt.nodes():\n",
    "    print(f\"Node {node} is part of the graph\")"
   ]
  },
  {
   "cell_type": "markdown",
   "id": "af88600d",
   "metadata": {
    "papermill": {
     "duration": 0.004739,
     "end_time": "2024-09-05T17:22:18.312098",
     "exception": false,
     "start_time": "2024-09-05T17:22:18.307359",
     "status": "completed"
    },
    "tags": []
   },
   "source": [
    "## Accessing neighbors of nodes\n",
    "\n",
    "When we have a graph we can also list neighbors of given nodes and loop through them. For this we use the `adj` function which returns a dictionary where each entry has a key corresponding to the label of neighbors of a given node. For example `adj[i]` is has as keys the labels of the neighbors of the node whose label is $i$. \n",
    "\n",
    "To demonstrate we will create a graph on 4 nodes that form a square and list all neighbors of node $1$."
   ]
  },
  {
   "cell_type": "code",
   "execution_count": 5,
   "id": "733bc595",
   "metadata": {
    "execution": {
     "iopub.execute_input": "2024-09-05T17:22:18.323871Z",
     "iopub.status.busy": "2024-09-05T17:22:18.323473Z",
     "iopub.status.idle": "2024-09-05T17:22:18.330924Z",
     "shell.execute_reply": "2024-09-05T17:22:18.329752Z"
    },
    "papermill": {
     "duration": 0.016059,
     "end_time": "2024-09-05T17:22:18.333189",
     "exception": false,
     "start_time": "2024-09-05T17:22:18.317130",
     "status": "completed"
    },
    "scrolled": true,
    "tags": []
   },
   "outputs": [
    {
     "name": "stdout",
     "output_type": "stream",
     "text": [
      "Number of neighbors of node 1 is 2\n",
      "Node 1 is connected to the following nodes:\n",
      "\t node 2\n",
      "\t node 4\n"
     ]
    }
   ],
   "source": [
    "### Create the square graph\n",
    "square_graph = nx.Graph()\n",
    "\n",
    "square_graph.add_edge(1,2)\n",
    "square_graph.add_edge(2,3)\n",
    "square_graph.add_edge(3,4)\n",
    "square_graph.add_edge(4,1)\n",
    "\n",
    "### Retreive the list of neighbors of node 1\n",
    "neighbors = square_graph.adj[1]\n",
    "\n",
    "### The length of the neighbors is equal to the degree of the node\n",
    "### NOTE: In general it is better to use G.degree[1] to get the degree of node 1\n",
    "print(f\"Number of neighbors of node {1} is {len(neighbors)}\")\n",
    "\n",
    "### We can access each neighbor in a loop as follows\n",
    "\n",
    "print(f\"Node {1} is connected to the following nodes:\")\n",
    "for neighbor in neighbors:\n",
    "    print(f\"\\t node {neighbor}\")"
   ]
  },
  {
   "cell_type": "markdown",
   "id": "fbeb4a29",
   "metadata": {
    "papermill": {
     "duration": 0.004805,
     "end_time": "2024-09-05T17:22:18.343263",
     "exception": false,
     "start_time": "2024-09-05T17:22:18.338458",
     "status": "completed"
    },
    "tags": []
   },
   "source": [
    "We can also loop through all nodes and their neighbors simultaniously using `adjacency`. An example is given below. Note that since the graph is undirected, each edge is visited twice."
   ]
  },
  {
   "cell_type": "code",
   "execution_count": 6,
   "id": "155c6837",
   "metadata": {
    "execution": {
     "iopub.execute_input": "2024-09-05T17:22:18.355736Z",
     "iopub.status.busy": "2024-09-05T17:22:18.354742Z",
     "iopub.status.idle": "2024-09-05T17:22:18.361464Z",
     "shell.execute_reply": "2024-09-05T17:22:18.360215Z"
    },
    "papermill": {
     "duration": 0.015725,
     "end_time": "2024-09-05T17:22:18.364072",
     "exception": false,
     "start_time": "2024-09-05T17:22:18.348347",
     "status": "completed"
    },
    "tags": []
   },
   "outputs": [
    {
     "name": "stdout",
     "output_type": "stream",
     "text": [
      "Node 1 is connected to:\n",
      "\t node 2\n",
      "\t node 4\n",
      "Node 2 is connected to:\n",
      "\t node 1\n",
      "\t node 3\n",
      "Node 3 is connected to:\n",
      "\t node 2\n",
      "\t node 4\n",
      "Node 4 is connected to:\n",
      "\t node 3\n",
      "\t node 1\n"
     ]
    }
   ],
   "source": [
    "### Loop over all nodes in the square and their neighbors.\n",
    "for node,neighbors in square_graph.adjacency():\n",
    "    print(f\"Node {node} is connected to:\")\n",
    "    for neighbor in neighbors:\n",
    "        print(f\"\\t node {neighbor}\")"
   ]
  },
  {
   "cell_type": "markdown",
   "id": "e59b4966",
   "metadata": {
    "papermill": {
     "duration": 0.004876,
     "end_time": "2024-09-05T17:22:18.374403",
     "exception": false,
     "start_time": "2024-09-05T17:22:18.369527",
     "status": "completed"
    },
    "tags": []
   },
   "source": [
    "## Exercises"
   ]
  },
  {
   "cell_type": "markdown",
   "id": "639cde0b",
   "metadata": {
    "papermill": {
     "duration": 0.004802,
     "end_time": "2024-09-05T17:22:18.384328",
     "exception": false,
     "start_time": "2024-09-05T17:22:18.379526",
     "status": "completed"
    },
    "tags": []
   },
   "source": [
    "**Exercise 1**\n",
    "This exercise will help you to practice a bit with the basic functions.\n",
    "\n",
    "1. Create a graph using the code below.\n",
    "2. List all nodes that are neighbors of node $17$ and node $71$.\n",
    "3. Check if there exists a triangle between nodes $3$, $5$ and $7$. If not, add this triangle to the graph."
   ]
  },
  {
   "cell_type": "code",
   "execution_count": 7,
   "id": "1057cf45",
   "metadata": {
    "execution": {
     "iopub.execute_input": "2024-09-05T17:22:18.396483Z",
     "iopub.status.busy": "2024-09-05T17:22:18.396079Z",
     "iopub.status.idle": "2024-09-05T17:22:18.406595Z",
     "shell.execute_reply": "2024-09-05T17:22:18.405329Z"
    },
    "papermill": {
     "duration": 0.019702,
     "end_time": "2024-09-05T17:22:18.409270",
     "exception": false,
     "start_time": "2024-09-05T17:22:18.389568",
     "status": "completed"
    },
    "tags": []
   },
   "outputs": [
    {
     "name": "stdout",
     "output_type": "stream",
     "text": [
      "[0, 1, 2, 3, 4, 5, 6, 7, 8, 9, 10, 11, 12, 13, 14, 15, 16, 17, 18, 19, 20, 21, 22, 23, 24, 25, 26, 27, 28, 29, 30, 31, 32, 33, 34, 35, 36, 37, 38, 39, 40, 41, 42, 43, 44, 45, 46, 47, 48, 49, 50, 51, 52, 53, 54, 55, 56, 57, 58, 59, 60, 61, 62, 63, 64, 65, 66, 67, 68, 69, 70, 71, 72, 73, 74, 75, 76, 77, 78, 79, 80, 81, 82, 83, 84, 85, 86, 87, 88, 89, 90, 91, 92, 93, 94, 95, 96, 97, 98, 99]\n"
     ]
    }
   ],
   "source": [
    "### Generate a graph with 100 nodes\n",
    "graph = nx.erdos_renyi_graph(100,0.2)\n",
    "\n",
    "### Note that the nodes are labeled 0 - 99\n",
    "print(graph.nodes())"
   ]
  },
  {
   "cell_type": "code",
   "execution_count": 8,
   "id": "4ee30366",
   "metadata": {
    "execution": {
     "iopub.execute_input": "2024-09-05T17:22:18.421706Z",
     "iopub.status.busy": "2024-09-05T17:22:18.421312Z",
     "iopub.status.idle": "2024-09-05T17:22:18.428298Z",
     "shell.execute_reply": "2024-09-05T17:22:18.427036Z"
    },
    "papermill": {
     "duration": 0.016245,
     "end_time": "2024-09-05T17:22:18.430944",
     "exception": false,
     "start_time": "2024-09-05T17:22:18.414699",
     "status": "completed"
    },
    "tags": []
   },
   "outputs": [
    {
     "name": "stdout",
     "output_type": "stream",
     "text": [
      "For node 17, these are the neighbors:\n",
      "\t node 0\n",
      "\t node 1\n",
      "\t node 2\n",
      "\t node 5\n",
      "\t node 8\n",
      "\t node 10\n",
      "\t node 11\n",
      "\t node 18\n",
      "\t node 24\n",
      "\t node 28\n",
      "\t node 32\n",
      "\t node 45\n",
      "\t node 50\n",
      "\t node 53\n",
      "\t node 54\n",
      "\t node 63\n",
      "\t node 65\n",
      "\t node 70\n",
      "\t node 71\n",
      "\t node 79\n",
      "\t node 90\n",
      "\t node 92\n",
      "For node 71, these are the neighbors:\n",
      "\t node 0\n",
      "\t node 1\n",
      "\t node 2\n",
      "\t node 7\n",
      "\t node 10\n",
      "\t node 14\n",
      "\t node 17\n",
      "\t node 18\n",
      "\t node 29\n",
      "\t node 34\n",
      "\t node 42\n",
      "\t node 44\n",
      "\t node 45\n",
      "\t node 46\n",
      "\t node 50\n",
      "\t node 58\n",
      "\t node 59\n",
      "\t node 61\n",
      "\t node 63\n",
      "\t node 68\n",
      "\t node 76\n",
      "\t node 79\n",
      "\t node 85\n",
      "\t node 90\n",
      "\t node 93\n",
      "\t node 98\n"
     ]
    }
   ],
   "source": [
    "neighbors = graph.adj[17]\n",
    "print(\"For node 17, these are the neighbors:\")\n",
    "for neighbor in neighbors:\n",
    "    print(f\"\\t node {neighbor}\")\n",
    "    \n",
    "neighbors = graph.adj[71]\n",
    "print(\"For node 71, these are the neighbors:\")\n",
    "for neighbor in neighbors:\n",
    "    print(f\"\\t node {neighbor}\")\n",
    "    \n"
   ]
  },
  {
   "cell_type": "code",
   "execution_count": 9,
   "id": "61b1212c",
   "metadata": {
    "execution": {
     "iopub.execute_input": "2024-09-05T17:22:18.443733Z",
     "iopub.status.busy": "2024-09-05T17:22:18.443312Z",
     "iopub.status.idle": "2024-09-05T17:22:18.456737Z",
     "shell.execute_reply": "2024-09-05T17:22:18.455508Z"
    },
    "papermill": {
     "duration": 0.022673,
     "end_time": "2024-09-05T17:22:18.459161",
     "exception": false,
     "start_time": "2024-09-05T17:22:18.436488",
     "status": "completed"
    },
    "tags": []
   },
   "outputs": [
    {
     "name": "stdout",
     "output_type": "stream",
     "text": [
      "Node 3 is connected to:\n",
      "neighbor of node 3 is 7\n",
      "Node 5 is connected to:\n",
      "neighbor of node 5 is 7\n",
      "Node 7 is connected to:\n",
      "neighbor of node 7 is 3\n",
      "neighbor of node 7 is 5\n",
      "Added edges\n",
      "\n",
      "Node 3 is connected to:\n",
      "neighbor of node 3 is 7\n",
      "neighbor of node 3 is 5\n",
      "Node 5 is connected to:\n",
      "neighbor of node 5 is 7\n",
      "neighbor of node 5 is 3\n",
      "Node 7 is connected to:\n",
      "neighbor of node 7 is 3\n",
      "neighbor of node 7 is 5\n"
     ]
    }
   ],
   "source": [
    "for node,neighbors in graph.adjacency():\n",
    "    if(node==3):\n",
    "        print(f\"Node {node} is connected to:\")\n",
    "        for neighbor in neighbors:\n",
    "            if (int(neighbor)==5 or int(neighbor)==7):\n",
    "                print(f\"neighbor of node 3 is {neighbor}\")\n",
    "    elif(node==5):\n",
    "        print(f\"Node {node} is connected to:\")\n",
    "        for neighbor in neighbors:\n",
    "            if (int(neighbor)==3 or int(neighbor)==7):\n",
    "                print(f\"neighbor of node {node} is {neighbor}\")\n",
    "                \n",
    "    elif(node==7):\n",
    "        print(f\"Node {node} is connected to:\")\n",
    "        for neighbor in neighbors:\n",
    "            if (int(neighbor)==3 or int(neighbor)==5):\n",
    "                print(f\"neighbor of node {node} is {neighbor}\")\n",
    "                \n",
    "print(\"Added edges\\n\")         \n",
    "graph.add_edge(3,5)\n",
    "graph.add_edge(5,7)\n",
    "graph.add_edge(7,3)\n",
    "\n",
    "for node,neighbors in graph.adjacency():\n",
    "    if(node==3):\n",
    "        print(f\"Node {node} is connected to:\")\n",
    "        for neighbor in neighbors:\n",
    "            if (int(neighbor)==5 or int(neighbor)==7):\n",
    "                print(f\"neighbor of node 3 is {neighbor}\")\n",
    "    elif(node==5):\n",
    "        print(f\"Node {node} is connected to:\")\n",
    "        for neighbor in neighbors:\n",
    "            if (int(neighbor)==3 or int(neighbor)==7):\n",
    "                print(f\"neighbor of node {node} is {neighbor}\")\n",
    "                \n",
    "    elif(node==7):\n",
    "        print(f\"Node {node} is connected to:\")\n",
    "        for neighbor in neighbors:\n",
    "            if (int(neighbor)==3 or int(neighbor)==5):\n",
    "                print(f\"neighbor of node {node} is {neighbor}\")"
   ]
  },
  {
   "cell_type": "markdown",
   "id": "af67ae74",
   "metadata": {
    "papermill": {
     "duration": 0.005163,
     "end_time": "2024-09-05T17:22:18.469898",
     "exception": false,
     "start_time": "2024-09-05T17:22:18.464735",
     "status": "completed"
    },
    "tags": []
   },
   "source": [
    "**Exercise 2**\n",
    "Up to now we have dealt only with undirected graphs but NetworkX also allows for directed graphs. To create a directed graph we need to use `DiGraph` instead of `Graph`. \n",
    "\n",
    "Create a directed graph on 5 nodes such that they form a cycle, i.e. node $i$ is connected to $(i+1) \\mod 5$. Check your code by listing for each node its out-neighbors and in-neighbors. For this you can use the `successors` and `predecessors` function. "
   ]
  },
  {
   "cell_type": "code",
   "execution_count": 10,
   "id": "e1b3ff04",
   "metadata": {
    "execution": {
     "iopub.execute_input": "2024-09-05T17:22:18.482546Z",
     "iopub.status.busy": "2024-09-05T17:22:18.482119Z",
     "iopub.status.idle": "2024-09-05T17:22:18.489649Z",
     "shell.execute_reply": "2024-09-05T17:22:18.488560Z"
    },
    "papermill": {
     "duration": 0.016382,
     "end_time": "2024-09-05T17:22:18.491839",
     "exception": false,
     "start_time": "2024-09-05T17:22:18.475457",
     "status": "completed"
    },
    "tags": []
   },
   "outputs": [
    {
     "name": "stdout",
     "output_type": "stream",
     "text": [
      "Node 0: Out-neighbors (successors) -> [1], In-neighbors (predecessors) -> [4]\n",
      "Node 1: Out-neighbors (successors) -> [2], In-neighbors (predecessors) -> [0]\n",
      "Node 2: Out-neighbors (successors) -> [3], In-neighbors (predecessors) -> [1]\n",
      "Node 3: Out-neighbors (successors) -> [4], In-neighbors (predecessors) -> [2]\n",
      "Node 4: Out-neighbors (successors) -> [0], In-neighbors (predecessors) -> [3]\n"
     ]
    }
   ],
   "source": [
    "### Solution\n",
    "\n",
    "G = nx.DiGraph()\n",
    "\n",
    "# Step 2: Add edges to form a cycle (0 -> 1 -> 2 -> 3 -> 4 -> 0)\n",
    "nodes = 5\n",
    "for i in range(nodes):\n",
    "    G.add_edge(i, (i + 1) % nodes)\n",
    "\n",
    "# Step 3: Print out-neighbors (successors) and in-neighbors (predecessors) for each node\n",
    "for node in G.nodes:\n",
    "    out_neighbors = list(G.successors(node))  # Out-neighbors of the current node\n",
    "    in_neighbors = list(G.predecessors(node))  # In-neighbors of the current node\n",
    "    print(f\"Node {node}: Out-neighbors (successors) -> {out_neighbors}, In-neighbors (predecessors) -> {in_neighbors}\")"
   ]
  },
  {
   "cell_type": "code",
   "execution_count": 11,
   "id": "a445c365",
   "metadata": {
    "execution": {
     "iopub.execute_input": "2024-09-05T17:22:18.505738Z",
     "iopub.status.busy": "2024-09-05T17:22:18.504962Z",
     "iopub.status.idle": "2024-09-05T17:22:18.868645Z",
     "shell.execute_reply": "2024-09-05T17:22:18.867230Z"
    },
    "papermill": {
     "duration": 0.373263,
     "end_time": "2024-09-05T17:22:18.871189",
     "exception": false,
     "start_time": "2024-09-05T17:22:18.497926",
     "status": "completed"
    },
    "tags": []
   },
   "outputs": [
    {
     "data": {
      "image/png": "[encoded data removed]",
      "text/plain": [
       "<Figure size 640x480 with 1 Axes>"
      ]
     },
     "metadata": {},
     "output_type": "display_data"
    }
   ],
   "source": [
    "nx.draw_networkx(G)"
   ]
  },
  {
   "cell_type": "code",
   "execution_count": null,
   "id": "0f760d3e",
   "metadata": {
    "papermill": {
     "duration": 0.005799,
     "end_time": "2024-09-05T17:22:18.883349",
     "exception": false,
     "start_time": "2024-09-05T17:22:18.877550",
     "status": "completed"
    },
    "tags": []
   },
   "outputs": [],
   "source": []
  }
 ],
 "metadata": {
  "kaggle": {
   "accelerator": "none",
   "dataSources": [],
   "dockerImageVersionId": 30761,
   "isGpuEnabled": false,
   "isInternetEnabled": true,
   "language": "python",
   "sourceType": "notebook"
  },
  "kernelspec": {
   "display_name": "Python 3",
   "language": "python",
   "name": "python3"
  },
  "language_info": {
   "codemirror_mode": {
    "name": "ipython",
    "version": 3
   },
   "file_extension": ".py",
   "mimetype": "text/x-python",
   "name": "python",
   "nbconvert_exporter": "python",
   "pygments_lexer": "ipython3",
   "version": "3.10.14"
  },
  "papermill": {
   "default_parameters": {},
   "duration": 4.944163,
   "end_time": "2024-09-05T17:22:19.311041",
   "environment_variables": {},
   "exception": null,
   "input_path": "__notebook__.ipynb",
   "output_path": "__notebook__.ipynb",
   "parameters": {},
   "start_time": "2024-09-05T17:22:14.366878",
   "version": "2.6.0"
  }
 },
 "nbformat": 4,
 "nbformat_minor": 5
}
