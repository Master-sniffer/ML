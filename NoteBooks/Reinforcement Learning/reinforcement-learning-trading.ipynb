{
 "cells": [
  {
   "cell_type": "code",
   "execution_count": 1,
   "id": "e1642f22",
   "metadata": {
    "_kg_hide-output": true,
    "collapsed": true,
    "execution": {
     "iopub.execute_input": "2023-05-11T01:37:11.619428Z",
     "iopub.status.busy": "2023-05-11T01:37:11.618922Z",
     "iopub.status.idle": "2023-05-11T01:38:54.705464Z",
     "shell.execute_reply": "2023-05-11T01:38:54.703751Z"
    },
    "jupyter": {
     "outputs_hidden": true
    },
    "papermill": {
     "duration": 103.097664,
     "end_time": "2023-05-11T01:38:54.708190",
     "exception": false,
     "start_time": "2023-05-11T01:37:11.610526",
     "status": "completed"
    },
    "tags": []
   },
   "outputs": [
    {
     "name": "stdout",
     "output_type": "stream",
     "text": [
      "\u001b[31mERROR: Could not find a version that satisfies the requirement tensorflow-gpu==1.15.0 (from versions: 2.8.0rc0, 2.8.0rc1, 2.8.0, 2.8.1, 2.8.2, 2.8.3, 2.8.4, 2.9.0rc0, 2.9.0rc1, 2.9.0rc2, 2.9.0, 2.9.1, 2.9.2, 2.9.3, 2.10.0rc0, 2.10.0rc1, 2.10.0rc2, 2.10.0rc3, 2.10.0, 2.10.1, 2.11.0rc0, 2.11.0rc1, 2.11.0rc2, 2.11.0, 2.12.0)\u001b[0m\u001b[31m\r\n",
      "\u001b[0m\u001b[31mERROR: No matching distribution found for tensorflow-gpu==1.15.0\u001b[0m\u001b[31m\r\n",
      "\u001b[0mNote: you may need to restart the kernel to use updated packages.\n",
      "\u001b[33mWARNING: Running pip as the 'root' user can result in broken permissions and conflicting behaviour with the system package manager. It is recommended to use a virtual environment instead: https://pip.pypa.io/warnings/venv\u001b[0m\u001b[33m\r\n",
      "\u001b[0mNote: you may need to restart the kernel to use updated packages.\n",
      "\u001b[33mWARNING: Running pip as the 'root' user can result in broken permissions and conflicting behaviour with the system package manager. It is recommended to use a virtual environment instead: https://pip.pypa.io/warnings/venv\u001b[0m\u001b[33m\r\n",
      "\u001b[0mNote: you may need to restart the kernel to use updated packages.\n",
      "  \u001b[1;31merror\u001b[0m: \u001b[1msubprocess-exited-with-error\u001b[0m\r\n",
      "  \r\n",
      "  \u001b[31m×\u001b[0m \u001b[32mpython setup.py bdist_wheel\u001b[0m did not run successfully.\r\n",
      "  \u001b[31m│\u001b[0m exit code: \u001b[1;36m1\u001b[0m\r\n",
      "  \u001b[31m╰─>\u001b[0m \u001b[31m[18 lines of output]\u001b[0m\r\n",
      "  \u001b[31m   \u001b[0m Traceback (most recent call last):\r\n",
      "  \u001b[31m   \u001b[0m   File \"<string>\", line 2, in <module>\r\n",
      "  \u001b[31m   \u001b[0m   File \"<pip-setuptools-caller>\", line 34, in <module>\r\n",
      "  \u001b[31m   \u001b[0m   File \"/tmp/pip-install-qih1l5_h/tensorflow-gpu_1877c68c45c5478c848c06a0783cb7bb/setup.py\", line 37, in <module>\r\n",
      "  \u001b[31m   \u001b[0m     raise Exception(TF_REMOVAL_WARNING)\r\n",
      "  \u001b[31m   \u001b[0m Exception:\r\n",
      "  \u001b[31m   \u001b[0m \r\n",
      "  \u001b[31m   \u001b[0m =========================================================\r\n",
      "  \u001b[31m   \u001b[0m The \"tensorflow-gpu\" package has been removed!\r\n",
      "  \u001b[31m   \u001b[0m \r\n",
      "  \u001b[31m   \u001b[0m Please install \"tensorflow\" instead.\r\n",
      "  \u001b[31m   \u001b[0m \r\n",
      "  \u001b[31m   \u001b[0m Other than the name, the two packages have been identical\r\n",
      "  \u001b[31m   \u001b[0m since TensorFlow 2.1, or roughly since Sep 2019. For more\r\n",
      "  \u001b[31m   \u001b[0m information, see: pypi.org/project/tensorflow-gpu\r\n",
      "  \u001b[31m   \u001b[0m =========================================================\r\n",
      "  \u001b[31m   \u001b[0m \r\n",
      "  \u001b[31m   \u001b[0m \r\n",
      "  \u001b[31m   \u001b[0m \u001b[31m[end of output]\u001b[0m\r\n",
      "  \r\n",
      "  \u001b[1;35mnote\u001b[0m: This error originates from a subprocess, and is likely not a problem with pip.\r\n",
      "\u001b[31m  ERROR: Failed building wheel for tensorflow-gpu\u001b[0m\u001b[31m\r\n",
      "\u001b[0m  \u001b[1;31merror\u001b[0m: \u001b[1msubprocess-exited-with-error\u001b[0m\r\n",
      "  \r\n",
      "  \u001b[31m×\u001b[0m \u001b[32mRunning setup.py install for tensorflow-gpu\u001b[0m did not run successfully.\r\n",
      "  \u001b[31m│\u001b[0m exit code: \u001b[1;36m1\u001b[0m\r\n",
      "  \u001b[31m╰─>\u001b[0m \u001b[31m[18 lines of output]\u001b[0m\r\n",
      "  \u001b[31m   \u001b[0m Traceback (most recent call last):\r\n",
      "  \u001b[31m   \u001b[0m   File \"<string>\", line 2, in <module>\r\n",
      "  \u001b[31m   \u001b[0m   File \"<pip-setuptools-caller>\", line 34, in <module>\r\n",
      "  \u001b[31m   \u001b[0m   File \"/tmp/pip-install-qih1l5_h/tensorflow-gpu_1877c68c45c5478c848c06a0783cb7bb/setup.py\", line 37, in <module>\r\n",
      "  \u001b[31m   \u001b[0m     raise Exception(TF_REMOVAL_WARNING)\r\n",
      "  \u001b[31m   \u001b[0m Exception:\r\n",
      "  \u001b[31m   \u001b[0m \r\n",
      "  \u001b[31m   \u001b[0m =========================================================\r\n",
      "  \u001b[31m   \u001b[0m The \"tensorflow-gpu\" package has been removed!\r\n",
      "  \u001b[31m   \u001b[0m \r\n",
      "  \u001b[31m   \u001b[0m Please install \"tensorflow\" instead.\r\n",
      "  \u001b[31m   \u001b[0m \r\n",
      "  \u001b[31m   \u001b[0m Other than the name, the two packages have been identical\r\n",
      "  \u001b[31m   \u001b[0m since TensorFlow 2.1, or roughly since Sep 2019. For more\r\n",
      "  \u001b[31m   \u001b[0m information, see: pypi.org/project/tensorflow-gpu\r\n",
      "  \u001b[31m   \u001b[0m =========================================================\r\n",
      "  \u001b[31m   \u001b[0m \r\n",
      "  \u001b[31m   \u001b[0m \r\n",
      "  \u001b[31m   \u001b[0m \u001b[31m[end of output]\u001b[0m\r\n",
      "  \r\n",
      "  \u001b[1;35mnote\u001b[0m: This error originates from a subprocess, and is likely not a problem with pip.\r\n",
      "\u001b[1;31merror\u001b[0m: \u001b[1mlegacy-install-failure\u001b[0m\r\n",
      "\r\n",
      "\u001b[31m×\u001b[0m Encountered error while trying to install package.\r\n",
      "\u001b[31m╰─>\u001b[0m tensorflow-gpu\r\n",
      "\r\n",
      "\u001b[1;35mnote\u001b[0m: This is an issue with the package mentioned above, not pip.\r\n",
      "\u001b[1;36mhint\u001b[0m: See above for output from the failure.\r\n",
      "Note: you may need to restart the kernel to use updated packages.\n",
      "\u001b[31mERROR: pip's dependency resolver does not currently take into account all the packages that are installed. This behaviour is the source of the following dependency conflicts.\r\n",
      "onnx 1.13.1 requires protobuf<4,>=3.20.2, but you have protobuf 3.19.6 which is incompatible.\r\n",
      "kfp 1.8.20 requires google-api-python-client<2,>=1.7.8, but you have google-api-python-client 2.86.0 which is incompatible.\r\n",
      "kfp 1.8.20 requires PyYAML<6,>=5.3, but you have pyyaml 6.0 which is incompatible.\r\n",
      "gcsfs 2023.3.0 requires fsspec==2023.3.0, but you have fsspec 2023.4.0 which is incompatible.\r\n",
      "beatrix-jupyterlab 2023.46.184821 requires jupyter-server~=1.16, but you have jupyter-server 2.5.0 which is incompatible.\r\n",
      "apache-beam 2.46.0 requires dill<0.3.2,>=0.3.1.1, but you have dill 0.3.6 which is incompatible.\u001b[0m\u001b[31m\r\n",
      "\u001b[0m\u001b[33mWARNING: Running pip as the 'root' user can result in broken permissions and conflicting behaviour with the system package manager. It is recommended to use a virtual environment instead: https://pip.pypa.io/warnings/venv\u001b[0m\u001b[33m\r\n",
      "\u001b[0mNote: you may need to restart the kernel to use updated packages.\n",
      "  \u001b[1;31merror\u001b[0m: \u001b[1msubprocess-exited-with-error\u001b[0m\r\n",
      "  \r\n",
      "  \u001b[31m×\u001b[0m \u001b[32mpython setup.py bdist_wheel\u001b[0m did not run successfully.\r\n",
      "  \u001b[31m│\u001b[0m exit code: \u001b[1;36m1\u001b[0m\r\n",
      "  \u001b[31m╰─>\u001b[0m \u001b[31m[476 lines of output]\u001b[0m\r\n",
      "  \u001b[31m   \u001b[0m running bdist_wheel\r\n",
      "  \u001b[31m   \u001b[0m running build\r\n",
      "  \u001b[31m   \u001b[0m running build_py\r\n",
      "  \u001b[31m   \u001b[0m creating build\r\n",
      "  \u001b[31m   \u001b[0m creating build/lib\r\n",
      "  \u001b[31m   \u001b[0m creating build/lib/gym\r\n",
      "  \u001b[31m   \u001b[0m copying gym/__init__.py -> build/lib/gym\r\n",
      "  \u001b[31m   \u001b[0m copying gym/version.py -> build/lib/gym\r\n",
      "  \u001b[31m   \u001b[0m copying gym/logger.py -> build/lib/gym\r\n",
      "  \u001b[31m   \u001b[0m copying gym/error.py -> build/lib/gym\r\n",
      "  \u001b[31m   \u001b[0m copying gym/core.py -> build/lib/gym\r\n",
      "  \u001b[31m   \u001b[0m creating build/lib/gym/spaces\r\n",
      "  \u001b[31m   \u001b[0m copying gym/spaces/space.py -> build/lib/gym/spaces\r\n",
      "  \u001b[31m   \u001b[0m copying gym/spaces/multi_discrete.py -> build/lib/gym/spaces\r\n",
      "  \u001b[31m   \u001b[0m copying gym/spaces/__init__.py -> build/lib/gym/spaces\r\n",
      "  \u001b[31m   \u001b[0m copying gym/spaces/discrete.py -> build/lib/gym/spaces\r\n",
      "  \u001b[31m   \u001b[0m copying gym/spaces/multi_binary.py -> build/lib/gym/spaces\r\n",
      "  \u001b[31m   \u001b[0m copying gym/spaces/tuple.py -> build/lib/gym/spaces\r\n",
      "  \u001b[31m   \u001b[0m copying gym/spaces/box.py -> build/lib/gym/spaces\r\n",
      "  \u001b[31m   \u001b[0m copying gym/spaces/utils.py -> build/lib/gym/spaces\r\n",
      "  \u001b[31m   \u001b[0m copying gym/spaces/dict.py -> build/lib/gym/spaces\r\n",
      "  \u001b[31m   \u001b[0m creating build/lib/gym/utils\r\n",
      "  \u001b[31m   \u001b[0m copying gym/utils/__init__.py -> build/lib/gym/utils\r\n",
      "  \u001b[31m   \u001b[0m copying gym/utils/env_checker.py -> build/lib/gym/utils\r\n",
      "  \u001b[31m   \u001b[0m copying gym/utils/atomic_write.py -> build/lib/gym/utils\r\n",
      "  \u001b[31m   \u001b[0m copying gym/utils/colorize.py -> build/lib/gym/utils\r\n",
      "  \u001b[31m   \u001b[0m copying gym/utils/seeding.py -> build/lib/gym/utils\r\n",
      "  \u001b[31m   \u001b[0m copying gym/utils/closer.py -> build/lib/gym/utils\r\n",
      "  \u001b[31m   \u001b[0m copying gym/utils/json_utils.py -> build/lib/gym/utils\r\n",
      "  \u001b[31m   \u001b[0m copying gym/utils/ezpickle.py -> build/lib/gym/utils\r\n",
      "  \u001b[31m   \u001b[0m copying gym/utils/play.py -> build/lib/gym/utils\r\n",
      "  \u001b[31m   \u001b[0m creating build/lib/gym/envs\r\n",
      "  \u001b[31m   \u001b[0m copying gym/envs/__init__.py -> build/lib/gym/envs\r\n",
      "  \u001b[31m   \u001b[0m copying gym/envs/registration.py -> build/lib/gym/envs\r\n",
      "  \u001b[31m   \u001b[0m creating build/lib/gym/vector\r\n",
      "  \u001b[31m   \u001b[0m copying gym/vector/async_vector_env.py -> build/lib/gym/vector\r\n",
      "  \u001b[31m   \u001b[0m copying gym/vector/__init__.py -> build/lib/gym/vector\r\n",
      "  \u001b[31m   \u001b[0m copying gym/vector/sync_vector_env.py -> build/lib/gym/vector\r\n",
      "  \u001b[31m   \u001b[0m copying gym/vector/vector_env.py -> build/lib/gym/vector\r\n",
      "  \u001b[31m   \u001b[0m creating build/lib/gym/wrappers\r\n",
      "  \u001b[31m   \u001b[0m copying gym/wrappers/rescale_action.py -> build/lib/gym/wrappers\r\n",
      "  \u001b[31m   \u001b[0m copying gym/wrappers/time_aware_observation.py -> build/lib/gym/wrappers\r\n",
      "  \u001b[31m   \u001b[0m copying gym/wrappers/record_video.py -> build/lib/gym/wrappers\r\n",
      "  \u001b[31m   \u001b[0m copying gym/wrappers/clip_action.py -> build/lib/gym/wrappers\r\n",
      "  \u001b[31m   \u001b[0m copying gym/wrappers/__init__.py -> build/lib/gym/wrappers\r\n",
      "  \u001b[31m   \u001b[0m copying gym/wrappers/flatten_observation.py -> build/lib/gym/wrappers\r\n",
      "  \u001b[31m   \u001b[0m copying gym/wrappers/gray_scale_observation.py -> build/lib/gym/wrappers\r\n",
      "  \u001b[31m   \u001b[0m copying gym/wrappers/monitor.py -> build/lib/gym/wrappers\r\n",
      "  \u001b[31m   \u001b[0m copying gym/wrappers/order_enforcing.py -> build/lib/gym/wrappers\r\n",
      "  \u001b[31m   \u001b[0m copying gym/wrappers/normalize.py -> build/lib/gym/wrappers\r\n",
      "  \u001b[31m   \u001b[0m copying gym/wrappers/atari_preprocessing.py -> build/lib/gym/wrappers\r\n",
      "  \u001b[31m   \u001b[0m copying gym/wrappers/record_episode_statistics.py -> build/lib/gym/wrappers\r\n",
      "  \u001b[31m   \u001b[0m copying gym/wrappers/transform_observation.py -> build/lib/gym/wrappers\r\n",
      "  \u001b[31m   \u001b[0m copying gym/wrappers/time_limit.py -> build/lib/gym/wrappers\r\n",
      "  \u001b[31m   \u001b[0m copying gym/wrappers/pixel_observation.py -> build/lib/gym/wrappers\r\n",
      "  \u001b[31m   \u001b[0m copying gym/wrappers/filter_observation.py -> build/lib/gym/wrappers\r\n",
      "  \u001b[31m   \u001b[0m copying gym/wrappers/resize_observation.py -> build/lib/gym/wrappers\r\n",
      "  \u001b[31m   \u001b[0m copying gym/wrappers/frame_stack.py -> build/lib/gym/wrappers\r\n",
      "  \u001b[31m   \u001b[0m copying gym/wrappers/transform_reward.py -> build/lib/gym/wrappers\r\n",
      "  \u001b[31m   \u001b[0m creating build/lib/gym/envs/mujoco\r\n",
      "  \u001b[31m   \u001b[0m copying gym/envs/mujoco/half_cheetah.py -> build/lib/gym/envs/mujoco\r\n",
      "  \u001b[31m   \u001b[0m copying gym/envs/mujoco/half_cheetah_v3.py -> build/lib/gym/envs/mujoco\r\n",
      "  \u001b[31m   \u001b[0m copying gym/envs/mujoco/__init__.py -> build/lib/gym/envs/mujoco\r\n",
      "  \u001b[31m   \u001b[0m copying gym/envs/mujoco/swimmer_v3.py -> build/lib/gym/envs/mujoco\r\n",
      "  \u001b[31m   \u001b[0m copying gym/envs/mujoco/humanoid_v3.py -> build/lib/gym/envs/mujoco\r\n",
      "  \u001b[31m   \u001b[0m copying gym/envs/mujoco/mujoco_env.py -> build/lib/gym/envs/mujoco\r\n",
      "  \u001b[31m   \u001b[0m copying gym/envs/mujoco/striker.py -> build/lib/gym/envs/mujoco\r\n",
      "  \u001b[31m   \u001b[0m copying gym/envs/mujoco/walker2d_v3.py -> build/lib/gym/envs/mujoco\r\n",
      "  \u001b[31m   \u001b[0m copying gym/envs/mujoco/pusher.py -> build/lib/gym/envs/mujoco\r\n",
      "  \u001b[31m   \u001b[0m copying gym/envs/mujoco/hopper.py -> build/lib/gym/envs/mujoco\r\n",
      "  \u001b[31m   \u001b[0m copying gym/envs/mujoco/walker2d.py -> build/lib/gym/envs/mujoco\r\n",
      "  \u001b[31m   \u001b[0m copying gym/envs/mujoco/humanoid.py -> build/lib/gym/envs/mujoco\r\n",
      "  \u001b[31m   \u001b[0m copying gym/envs/mujoco/humanoidstandup.py -> build/lib/gym/envs/mujoco\r\n",
      "  \u001b[31m   \u001b[0m copying gym/envs/mujoco/swimmer.py -> build/lib/gym/envs/mujoco\r\n",
      "  \u001b[31m   \u001b[0m copying gym/envs/mujoco/reacher.py -> build/lib/gym/envs/mujoco\r\n",
      "  \u001b[31m   \u001b[0m copying gym/envs/mujoco/hopper_v3.py -> build/lib/gym/envs/mujoco\r\n",
      "  \u001b[31m   \u001b[0m copying gym/envs/mujoco/ant_v3.py -> build/lib/gym/envs/mujoco\r\n",
      "  \u001b[31m   \u001b[0m copying gym/envs/mujoco/thrower.py -> build/lib/gym/envs/mujoco\r\n",
      "  \u001b[31m   \u001b[0m copying gym/envs/mujoco/inverted_double_pendulum.py -> build/lib/gym/envs/mujoco\r\n",
      "  \u001b[31m   \u001b[0m copying gym/envs/mujoco/inverted_pendulum.py -> build/lib/gym/envs/mujoco\r\n",
      "  \u001b[31m   \u001b[0m copying gym/envs/mujoco/ant.py -> build/lib/gym/envs/mujoco\r\n",
      "  \u001b[31m   \u001b[0m creating build/lib/gym/envs/toy_text\r\n",
      "  \u001b[31m   \u001b[0m copying gym/envs/toy_text/blackjack.py -> build/lib/gym/envs/toy_text\r\n",
      "  \u001b[31m   \u001b[0m copying gym/envs/toy_text/__init__.py -> build/lib/gym/envs/toy_text\r\n",
      "  \u001b[31m   \u001b[0m copying gym/envs/toy_text/discrete.py -> build/lib/gym/envs/toy_text\r\n",
      "  \u001b[31m   \u001b[0m copying gym/envs/toy_text/frozen_lake.py -> build/lib/gym/envs/toy_text\r\n",
      "  \u001b[31m   \u001b[0m copying gym/envs/toy_text/taxi.py -> build/lib/gym/envs/toy_text\r\n",
      "  \u001b[31m   \u001b[0m copying gym/envs/toy_text/cliffwalking.py -> build/lib/gym/envs/toy_text\r\n",
      "  \u001b[31m   \u001b[0m creating build/lib/gym/envs/unittest\r\n",
      "  \u001b[31m   \u001b[0m copying gym/envs/unittest/__init__.py -> build/lib/gym/envs/unittest\r\n",
      "  \u001b[31m   \u001b[0m copying gym/envs/unittest/cube_crash.py -> build/lib/gym/envs/unittest\r\n",
      "  \u001b[31m   \u001b[0m copying gym/envs/unittest/memorize_digits.py -> build/lib/gym/envs/unittest\r\n",
      "  \u001b[31m   \u001b[0m creating build/lib/gym/envs/box2d\r\n",
      "  \u001b[31m   \u001b[0m copying gym/envs/box2d/__init__.py -> build/lib/gym/envs/box2d\r\n",
      "  \u001b[31m   \u001b[0m copying gym/envs/box2d/bipedal_walker.py -> build/lib/gym/envs/box2d\r\n",
      "  \u001b[31m   \u001b[0m copying gym/envs/box2d/lunar_lander.py -> build/lib/gym/envs/box2d\r\n",
      "  \u001b[31m   \u001b[0m copying gym/envs/box2d/car_racing.py -> build/lib/gym/envs/box2d\r\n",
      "  \u001b[31m   \u001b[0m copying gym/envs/box2d/car_dynamics.py -> build/lib/gym/envs/box2d\r\n",
      "  \u001b[31m   \u001b[0m creating build/lib/gym/envs/classic_control\r\n",
      "  \u001b[31m   \u001b[0m copying gym/envs/classic_control/__init__.py -> build/lib/gym/envs/classic_control\r\n",
      "  \u001b[31m   \u001b[0m copying gym/envs/classic_control/rendering.py -> build/lib/gym/envs/classic_control\r\n",
      "  \u001b[31m   \u001b[0m copying gym/envs/classic_control/mountain_car.py -> build/lib/gym/envs/classic_control\r\n",
      "  \u001b[31m   \u001b[0m copying gym/envs/classic_control/pendulum.py -> build/lib/gym/envs/classic_control\r\n",
      "  \u001b[31m   \u001b[0m copying gym/envs/classic_control/acrobot.py -> build/lib/gym/envs/classic_control\r\n",
      "  \u001b[31m   \u001b[0m copying gym/envs/classic_control/cartpole.py -> build/lib/gym/envs/classic_control\r\n",
      "  \u001b[31m   \u001b[0m copying gym/envs/classic_control/continuous_mountain_car.py -> build/lib/gym/envs/classic_control\r\n",
      "  \u001b[31m   \u001b[0m creating build/lib/gym/envs/robotics\r\n",
      "  \u001b[31m   \u001b[0m copying gym/envs/robotics/__init__.py -> build/lib/gym/envs/robotics\r\n",
      "  \u001b[31m   \u001b[0m copying gym/envs/robotics/hand_env.py -> build/lib/gym/envs/robotics\r\n",
      "  \u001b[31m   \u001b[0m copying gym/envs/robotics/robot_env.py -> build/lib/gym/envs/robotics\r\n",
      "  \u001b[31m   \u001b[0m copying gym/envs/robotics/utils.py -> build/lib/gym/envs/robotics\r\n",
      "  \u001b[31m   \u001b[0m copying gym/envs/robotics/rotations.py -> build/lib/gym/envs/robotics\r\n",
      "  \u001b[31m   \u001b[0m copying gym/envs/robotics/fetch_env.py -> build/lib/gym/envs/robotics\r\n",
      "  \u001b[31m   \u001b[0m creating build/lib/gym/envs/robotics/fetch\r\n",
      "  \u001b[31m   \u001b[0m copying gym/envs/robotics/fetch/__init__.py -> build/lib/gym/envs/robotics/fetch\r\n",
      "  \u001b[31m   \u001b[0m copying gym/envs/robotics/fetch/reach.py -> build/lib/gym/envs/robotics/fetch\r\n",
      "  \u001b[31m   \u001b[0m copying gym/envs/robotics/fetch/slide.py -> build/lib/gym/envs/robotics/fetch\r\n",
      "  \u001b[31m   \u001b[0m copying gym/envs/robotics/fetch/push.py -> build/lib/gym/envs/robotics/fetch\r\n",
      "  \u001b[31m   \u001b[0m copying gym/envs/robotics/fetch/pick_and_place.py -> build/lib/gym/envs/robotics/fetch\r\n",
      "  \u001b[31m   \u001b[0m creating build/lib/gym/envs/robotics/hand\r\n",
      "  \u001b[31m   \u001b[0m copying gym/envs/robotics/hand/__init__.py -> build/lib/gym/envs/robotics/hand\r\n",
      "  \u001b[31m   \u001b[0m copying gym/envs/robotics/hand/reach.py -> build/lib/gym/envs/robotics/hand\r\n",
      "  \u001b[31m   \u001b[0m copying gym/envs/robotics/hand/manipulate_touch_sensors.py -> build/lib/gym/envs/robotics/hand\r\n",
      "  \u001b[31m   \u001b[0m copying gym/envs/robotics/hand/manipulate.py -> build/lib/gym/envs/robotics/hand\r\n",
      "  \u001b[31m   \u001b[0m creating build/lib/gym/vector/utils\r\n",
      "  \u001b[31m   \u001b[0m copying gym/vector/utils/__init__.py -> build/lib/gym/vector/utils\r\n",
      "  \u001b[31m   \u001b[0m copying gym/vector/utils/spaces.py -> build/lib/gym/vector/utils\r\n",
      "  \u001b[31m   \u001b[0m copying gym/vector/utils/numpy_utils.py -> build/lib/gym/vector/utils\r\n",
      "  \u001b[31m   \u001b[0m copying gym/vector/utils/shared_memory.py -> build/lib/gym/vector/utils\r\n",
      "  \u001b[31m   \u001b[0m copying gym/vector/utils/misc.py -> build/lib/gym/vector/utils\r\n",
      "  \u001b[31m   \u001b[0m creating build/lib/gym/wrappers/monitoring\r\n",
      "  \u001b[31m   \u001b[0m copying gym/wrappers/monitoring/__init__.py -> build/lib/gym/wrappers/monitoring\r\n",
      "  \u001b[31m   \u001b[0m copying gym/wrappers/monitoring/stats_recorder.py -> build/lib/gym/wrappers/monitoring\r\n",
      "  \u001b[31m   \u001b[0m copying gym/wrappers/monitoring/video_recorder.py -> build/lib/gym/wrappers/monitoring\r\n",
      "  \u001b[31m   \u001b[0m creating build/lib/gym/envs/mujoco/assets\r\n",
      "  \u001b[31m   \u001b[0m copying gym/envs/mujoco/assets/point.xml -> build/lib/gym/envs/mujoco/assets\r\n",
      "  \u001b[31m   \u001b[0m copying gym/envs/mujoco/assets/reacher.xml -> build/lib/gym/envs/mujoco/assets\r\n",
      "  \u001b[31m   \u001b[0m copying gym/envs/mujoco/assets/hopper.xml -> build/lib/gym/envs/mujoco/assets\r\n",
      "  \u001b[31m   \u001b[0m copying gym/envs/mujoco/assets/inverted_pendulum.xml -> build/lib/gym/envs/mujoco/assets\r\n",
      "  \u001b[31m   \u001b[0m copying gym/envs/mujoco/assets/half_cheetah.xml -> build/lib/gym/envs/mujoco/assets\r\n",
      "  \u001b[31m   \u001b[0m copying gym/envs/mujoco/assets/pusher.xml -> build/lib/gym/envs/mujoco/assets\r\n",
      "  \u001b[31m   \u001b[0m copying gym/envs/mujoco/assets/thrower.xml -> build/lib/gym/envs/mujoco/assets\r\n",
      "  \u001b[31m   \u001b[0m copying gym/envs/mujoco/assets/inverted_double_pendulum.xml -> build/lib/gym/envs/mujoco/assets\r\n",
      "  \u001b[31m   \u001b[0m copying gym/envs/mujoco/assets/ant.xml -> build/lib/gym/envs/mujoco/assets\r\n",
      "  \u001b[31m   \u001b[0m copying gym/envs/mujoco/assets/humanoidstandup.xml -> build/lib/gym/envs/mujoco/assets\r\n",
      "  \u001b[31m   \u001b[0m copying gym/envs/mujoco/assets/striker.xml -> build/lib/gym/envs/mujoco/assets\r\n",
      "  \u001b[31m   \u001b[0m copying gym/envs/mujoco/assets/humanoid.xml -> build/lib/gym/envs/mujoco/assets\r\n",
      "  \u001b[31m   \u001b[0m copying gym/envs/mujoco/assets/walker2d.xml -> build/lib/gym/envs/mujoco/assets\r\n",
      "  \u001b[31m   \u001b[0m copying gym/envs/mujoco/assets/swimmer.xml -> build/lib/gym/envs/mujoco/assets\r\n",
      "  \u001b[31m   \u001b[0m creating build/lib/gym/envs/classic_control/assets\r\n",
      "  \u001b[31m   \u001b[0m copying gym/envs/classic_control/assets/clockwise.png -> build/lib/gym/envs/classic_control/assets\r\n",
      "  \u001b[31m   \u001b[0m creating build/lib/gym/envs/robotics/assets\r\n",
      "  \u001b[31m   \u001b[0m copying gym/envs/robotics/assets/LICENSE.md -> build/lib/gym/envs/robotics/assets\r\n",
      "  \u001b[31m   \u001b[0m creating build/lib/gym/envs/robotics/assets/fetch\r\n",
      "  \u001b[31m   \u001b[0m copying gym/envs/robotics/assets/fetch/robot.xml -> build/lib/gym/envs/robotics/assets/fetch\r\n",
      "  \u001b[31m   \u001b[0m copying gym/envs/robotics/assets/fetch/shared.xml -> build/lib/gym/envs/robotics/assets/fetch\r\n",
      "  \u001b[31m   \u001b[0m copying gym/envs/robotics/assets/fetch/pick_and_place.xml -> build/lib/gym/envs/robotics/assets/fetch\r\n",
      "  \u001b[31m   \u001b[0m copying gym/envs/robotics/assets/fetch/slide.xml -> build/lib/gym/envs/robotics/assets/fetch\r\n",
      "  \u001b[31m   \u001b[0m copying gym/envs/robotics/assets/fetch/reach.xml -> build/lib/gym/envs/robotics/assets/fetch\r\n",
      "  \u001b[31m   \u001b[0m copying gym/envs/robotics/assets/fetch/push.xml -> build/lib/gym/envs/robotics/assets/fetch\r\n",
      "  \u001b[31m   \u001b[0m creating build/lib/gym/envs/robotics/assets/hand\r\n",
      "  \u001b[31m   \u001b[0m copying gym/envs/robotics/assets/hand/robot.xml -> build/lib/gym/envs/robotics/assets/hand\r\n",
      "  \u001b[31m   \u001b[0m copying gym/envs/robotics/assets/hand/manipulate_egg.xml -> build/lib/gym/envs/robotics/assets/hand\r\n",
      "  \u001b[31m   \u001b[0m copying gym/envs/robotics/assets/hand/shared.xml -> build/lib/gym/envs/robotics/assets/hand\r\n",
      "  \u001b[31m   \u001b[0m copying gym/envs/robotics/assets/hand/robot_touch_sensors_92.xml -> build/lib/gym/envs/robotics/assets/hand\r\n",
      "  \u001b[31m   \u001b[0m copying gym/envs/robotics/assets/hand/manipulate_block_touch_sensors.xml -> build/lib/gym/envs/robotics/assets/hand\r\n",
      "  \u001b[31m   \u001b[0m copying gym/envs/robotics/assets/hand/shared_touch_sensors_92.xml -> build/lib/gym/envs/robotics/assets/hand\r\n",
      "  \u001b[31m   \u001b[0m copying gym/envs/robotics/assets/hand/manipulate_pen.xml -> build/lib/gym/envs/robotics/assets/hand\r\n",
      "  \u001b[31m   \u001b[0m copying gym/envs/robotics/assets/hand/manipulate_egg_touch_sensors.xml -> build/lib/gym/envs/robotics/assets/hand\r\n",
      "  \u001b[31m   \u001b[0m copying gym/envs/robotics/assets/hand/manipulate_block.xml -> build/lib/gym/envs/robotics/assets/hand\r\n",
      "  \u001b[31m   \u001b[0m copying gym/envs/robotics/assets/hand/manipulate_pen_touch_sensors.xml -> build/lib/gym/envs/robotics/assets/hand\r\n",
      "  \u001b[31m   \u001b[0m copying gym/envs/robotics/assets/hand/shared_asset.xml -> build/lib/gym/envs/robotics/assets/hand\r\n",
      "  \u001b[31m   \u001b[0m copying gym/envs/robotics/assets/hand/reach.xml -> build/lib/gym/envs/robotics/assets/hand\r\n",
      "  \u001b[31m   \u001b[0m creating build/lib/gym/envs/robotics/assets/stls\r\n",
      "  \u001b[31m   \u001b[0m creating build/lib/gym/envs/robotics/assets/stls/fetch\r\n",
      "  \u001b[31m   \u001b[0m copying gym/envs/robotics/assets/stls/fetch/laser_link.stl -> build/lib/gym/envs/robotics/assets/stls/fetch\r\n",
      "  \u001b[31m   \u001b[0m copying gym/envs/robotics/assets/stls/fetch/base_link_collision.stl -> build/lib/gym/envs/robotics/assets/stls/fetch\r\n",
      "  \u001b[31m   \u001b[0m copying gym/envs/robotics/assets/stls/fetch/upperarm_roll_link_collision.stl -> build/lib/gym/envs/robotics/assets/stls/fetch\r\n",
      "  \u001b[31m   \u001b[0m copying gym/envs/robotics/assets/stls/fetch/forearm_roll_link_collision.stl -> build/lib/gym/envs/robotics/assets/stls/fetch\r\n",
      "  \u001b[31m   \u001b[0m copying gym/envs/robotics/assets/stls/fetch/wrist_roll_link_collision.stl -> build/lib/gym/envs/robotics/assets/stls/fetch\r\n",
      "  \u001b[31m   \u001b[0m copying gym/envs/robotics/assets/stls/fetch/r_wheel_link_collision.stl -> build/lib/gym/envs/robotics/assets/stls/fetch\r\n",
      "  \u001b[31m   \u001b[0m copying gym/envs/robotics/assets/stls/fetch/estop_link.stl -> build/lib/gym/envs/robotics/assets/stls/fetch\r\n",
      "  \u001b[31m   \u001b[0m copying gym/envs/robotics/assets/stls/fetch/torso_lift_link_collision.stl -> build/lib/gym/envs/robotics/assets/stls/fetch\r\n",
      "  \u001b[31m   \u001b[0m copying gym/envs/robotics/assets/stls/fetch/shoulder_lift_link_collision.stl -> build/lib/gym/envs/robotics/assets/stls/fetch\r\n",
      "  \u001b[31m   \u001b[0m copying gym/envs/robotics/assets/stls/fetch/elbow_flex_link_collision.stl -> build/lib/gym/envs/robotics/assets/stls/fetch\r\n",
      "  \u001b[31m   \u001b[0m copying gym/envs/robotics/assets/stls/fetch/l_wheel_link_collision.stl -> build/lib/gym/envs/robotics/assets/stls/fetch\r\n",
      "  \u001b[31m   \u001b[0m copying gym/envs/robotics/assets/stls/fetch/shoulder_pan_link_collision.stl -> build/lib/gym/envs/robotics/assets/stls/fetch\r\n",
      "  \u001b[31m   \u001b[0m copying gym/envs/robotics/assets/stls/fetch/wrist_flex_link_collision.stl -> build/lib/gym/envs/robotics/assets/stls/fetch\r\n",
      "  \u001b[31m   \u001b[0m copying gym/envs/robotics/assets/stls/fetch/bellows_link_collision.stl -> build/lib/gym/envs/robotics/assets/stls/fetch\r\n",
      "  \u001b[31m   \u001b[0m copying gym/envs/robotics/assets/stls/fetch/head_pan_link_collision.stl -> build/lib/gym/envs/robotics/assets/stls/fetch\r\n",
      "  \u001b[31m   \u001b[0m copying gym/envs/robotics/assets/stls/fetch/torso_fixed_link.stl -> build/lib/gym/envs/robotics/assets/stls/fetch\r\n",
      "  \u001b[31m   \u001b[0m copying gym/envs/robotics/assets/stls/fetch/gripper_link.stl -> build/lib/gym/envs/robotics/assets/stls/fetch\r\n",
      "  \u001b[31m   \u001b[0m copying gym/envs/robotics/assets/stls/fetch/head_tilt_link_collision.stl -> build/lib/gym/envs/robotics/assets/stls/fetch\r\n",
      "  \u001b[31m   \u001b[0m creating build/lib/gym/envs/robotics/assets/stls/hand\r\n",
      "  \u001b[31m   \u001b[0m copying gym/envs/robotics/assets/stls/hand/forearm_electric_cvx.stl -> build/lib/gym/envs/robotics/assets/stls/hand\r\n",
      "  \u001b[31m   \u001b[0m copying gym/envs/robotics/assets/stls/hand/F1.stl -> build/lib/gym/envs/robotics/assets/stls/hand\r\n",
      "  \u001b[31m   \u001b[0m copying gym/envs/robotics/assets/stls/hand/wrist.stl -> build/lib/gym/envs/robotics/assets/stls/hand\r\n",
      "  \u001b[31m   \u001b[0m copying gym/envs/robotics/assets/stls/hand/forearm_electric.stl -> build/lib/gym/envs/robotics/assets/stls/hand\r\n",
      "  \u001b[31m   \u001b[0m copying gym/envs/robotics/assets/stls/hand/F3.stl -> build/lib/gym/envs/robotics/assets/stls/hand\r\n",
      "  \u001b[31m   \u001b[0m copying gym/envs/robotics/assets/stls/hand/TH3_z.stl -> build/lib/gym/envs/robotics/assets/stls/hand\r\n",
      "  \u001b[31m   \u001b[0m copying gym/envs/robotics/assets/stls/hand/TH1_z.stl -> build/lib/gym/envs/robotics/assets/stls/hand\r\n",
      "  \u001b[31m   \u001b[0m copying gym/envs/robotics/assets/stls/hand/palm.stl -> build/lib/gym/envs/robotics/assets/stls/hand\r\n",
      "  \u001b[31m   \u001b[0m copying gym/envs/robotics/assets/stls/hand/lfmetacarpal.stl -> build/lib/gym/envs/robotics/assets/stls/hand\r\n",
      "  \u001b[31m   \u001b[0m copying gym/envs/robotics/assets/stls/hand/TH2_z.stl -> build/lib/gym/envs/robotics/assets/stls/hand\r\n",
      "  \u001b[31m   \u001b[0m copying gym/envs/robotics/assets/stls/hand/F2.stl -> build/lib/gym/envs/robotics/assets/stls/hand\r\n",
      "  \u001b[31m   \u001b[0m copying gym/envs/robotics/assets/stls/hand/knuckle.stl -> build/lib/gym/envs/robotics/assets/stls/hand\r\n",
      "  \u001b[31m   \u001b[0m creating build/lib/gym/envs/robotics/assets/textures\r\n",
      "  \u001b[31m   \u001b[0m copying gym/envs/robotics/assets/textures/block.png -> build/lib/gym/envs/robotics/assets/textures\r\n",
      "  \u001b[31m   \u001b[0m copying gym/envs/robotics/assets/textures/block_hidden.png -> build/lib/gym/envs/robotics/assets/textures\r\n",
      "  \u001b[31m   \u001b[0m /opt/conda/lib/python3.10/site-packages/setuptools/command/install.py:34: SetuptoolsDeprecationWarning: setup.py install is deprecated. Use build and pip and other standards-based tools.\r\n",
      "  \u001b[31m   \u001b[0m   warnings.warn(\r\n",
      "  \u001b[31m   \u001b[0m running install\r\n",
      "  \u001b[31m   \u001b[0m running install_lib\r\n",
      "  \u001b[31m   \u001b[0m creating build/bdist.linux-x86_64\r\n",
      "  \u001b[31m   \u001b[0m creating build/bdist.linux-x86_64/wheel\r\n",
      "  \u001b[31m   \u001b[0m creating build/bdist.linux-x86_64/wheel/gym\r\n",
      "  \u001b[31m   \u001b[0m creating build/bdist.linux-x86_64/wheel/gym/spaces\r\n",
      "  \u001b[31m   \u001b[0m copying build/lib/gym/spaces/space.py -> build/bdist.linux-x86_64/wheel/gym/spaces\r\n",
      "  \u001b[31m   \u001b[0m copying build/lib/gym/spaces/multi_discrete.py -> build/bdist.linux-x86_64/wheel/gym/spaces\r\n",
      "  \u001b[31m   \u001b[0m copying build/lib/gym/spaces/__init__.py -> build/bdist.linux-x86_64/wheel/gym/spaces\r\n",
      "  \u001b[31m   \u001b[0m copying build/lib/gym/spaces/discrete.py -> build/bdist.linux-x86_64/wheel/gym/spaces\r\n",
      "  \u001b[31m   \u001b[0m copying build/lib/gym/spaces/multi_binary.py -> build/bdist.linux-x86_64/wheel/gym/spaces\r\n",
      "  \u001b[31m   \u001b[0m copying build/lib/gym/spaces/tuple.py -> build/bdist.linux-x86_64/wheel/gym/spaces\r\n",
      "  \u001b[31m   \u001b[0m copying build/lib/gym/spaces/box.py -> build/bdist.linux-x86_64/wheel/gym/spaces\r\n",
      "  \u001b[31m   \u001b[0m copying build/lib/gym/spaces/utils.py -> build/bdist.linux-x86_64/wheel/gym/spaces\r\n",
      "  \u001b[31m   \u001b[0m copying build/lib/gym/spaces/dict.py -> build/bdist.linux-x86_64/wheel/gym/spaces\r\n",
      "  \u001b[31m   \u001b[0m copying build/lib/gym/__init__.py -> build/bdist.linux-x86_64/wheel/gym\r\n",
      "  \u001b[31m   \u001b[0m copying build/lib/gym/version.py -> build/bdist.linux-x86_64/wheel/gym\r\n",
      "  \u001b[31m   \u001b[0m copying build/lib/gym/logger.py -> build/bdist.linux-x86_64/wheel/gym\r\n",
      "  \u001b[31m   \u001b[0m creating build/bdist.linux-x86_64/wheel/gym/utils\r\n",
      "  \u001b[31m   \u001b[0m copying build/lib/gym/utils/__init__.py -> build/bdist.linux-x86_64/wheel/gym/utils\r\n",
      "  \u001b[31m   \u001b[0m copying build/lib/gym/utils/env_checker.py -> build/bdist.linux-x86_64/wheel/gym/utils\r\n",
      "  \u001b[31m   \u001b[0m copying build/lib/gym/utils/atomic_write.py -> build/bdist.linux-x86_64/wheel/gym/utils\r\n",
      "  \u001b[31m   \u001b[0m copying build/lib/gym/utils/colorize.py -> build/bdist.linux-x86_64/wheel/gym/utils\r\n",
      "  \u001b[31m   \u001b[0m copying build/lib/gym/utils/seeding.py -> build/bdist.linux-x86_64/wheel/gym/utils\r\n",
      "  \u001b[31m   \u001b[0m copying build/lib/gym/utils/closer.py -> build/bdist.linux-x86_64/wheel/gym/utils\r\n",
      "  \u001b[31m   \u001b[0m copying build/lib/gym/utils/json_utils.py -> build/bdist.linux-x86_64/wheel/gym/utils\r\n",
      "  \u001b[31m   \u001b[0m copying build/lib/gym/utils/ezpickle.py -> build/bdist.linux-x86_64/wheel/gym/utils\r\n",
      "  \u001b[31m   \u001b[0m copying build/lib/gym/utils/play.py -> build/bdist.linux-x86_64/wheel/gym/utils\r\n",
      "  \u001b[31m   \u001b[0m creating build/bdist.linux-x86_64/wheel/gym/envs\r\n",
      "  \u001b[31m   \u001b[0m creating build/bdist.linux-x86_64/wheel/gym/envs/mujoco\r\n",
      "  \u001b[31m   \u001b[0m copying build/lib/gym/envs/mujoco/half_cheetah.py -> build/bdist.linux-x86_64/wheel/gym/envs/mujoco\r\n",
      "  \u001b[31m   \u001b[0m copying build/lib/gym/envs/mujoco/half_cheetah_v3.py -> build/bdist.linux-x86_64/wheel/gym/envs/mujoco\r\n",
      "  \u001b[31m   \u001b[0m copying build/lib/gym/envs/mujoco/__init__.py -> build/bdist.linux-x86_64/wheel/gym/envs/mujoco\r\n",
      "  \u001b[31m   \u001b[0m creating build/bdist.linux-x86_64/wheel/gym/envs/mujoco/assets\r\n",
      "  \u001b[31m   \u001b[0m copying build/lib/gym/envs/mujoco/assets/point.xml -> build/bdist.linux-x86_64/wheel/gym/envs/mujoco/assets\r\n",
      "  \u001b[31m   \u001b[0m copying build/lib/gym/envs/mujoco/assets/reacher.xml -> build/bdist.linux-x86_64/wheel/gym/envs/mujoco/assets\r\n",
      "  \u001b[31m   \u001b[0m copying build/lib/gym/envs/mujoco/assets/hopper.xml -> build/bdist.linux-x86_64/wheel/gym/envs/mujoco/assets\r\n",
      "  \u001b[31m   \u001b[0m copying build/lib/gym/envs/mujoco/assets/inverted_pendulum.xml -> build/bdist.linux-x86_64/wheel/gym/envs/mujoco/assets\r\n",
      "  \u001b[31m   \u001b[0m copying build/lib/gym/envs/mujoco/assets/half_cheetah.xml -> build/bdist.linux-x86_64/wheel/gym/envs/mujoco/assets\r\n",
      "  \u001b[31m   \u001b[0m copying build/lib/gym/envs/mujoco/assets/pusher.xml -> build/bdist.linux-x86_64/wheel/gym/envs/mujoco/assets\r\n",
      "  \u001b[31m   \u001b[0m copying build/lib/gym/envs/mujoco/assets/thrower.xml -> build/bdist.linux-x86_64/wheel/gym/envs/mujoco/assets\r\n",
      "  \u001b[31m   \u001b[0m copying build/lib/gym/envs/mujoco/assets/inverted_double_pendulum.xml -> build/bdist.linux-x86_64/wheel/gym/envs/mujoco/assets\r\n",
      "  \u001b[31m   \u001b[0m copying build/lib/gym/envs/mujoco/assets/ant.xml -> build/bdist.linux-x86_64/wheel/gym/envs/mujoco/assets\r\n",
      "  \u001b[31m   \u001b[0m copying build/lib/gym/envs/mujoco/assets/humanoidstandup.xml -> build/bdist.linux-x86_64/wheel/gym/envs/mujoco/assets\r\n",
      "  \u001b[31m   \u001b[0m copying build/lib/gym/envs/mujoco/assets/striker.xml -> build/bdist.linux-x86_64/wheel/gym/envs/mujoco/assets\r\n",
      "  \u001b[31m   \u001b[0m copying build/lib/gym/envs/mujoco/assets/humanoid.xml -> build/bdist.linux-x86_64/wheel/gym/envs/mujoco/assets\r\n",
      "  \u001b[31m   \u001b[0m copying build/lib/gym/envs/mujoco/assets/walker2d.xml -> build/bdist.linux-x86_64/wheel/gym/envs/mujoco/assets\r\n",
      "  \u001b[31m   \u001b[0m copying build/lib/gym/envs/mujoco/assets/swimmer.xml -> build/bdist.linux-x86_64/wheel/gym/envs/mujoco/assets\r\n",
      "  \u001b[31m   \u001b[0m copying build/lib/gym/envs/mujoco/swimmer_v3.py -> build/bdist.linux-x86_64/wheel/gym/envs/mujoco\r\n",
      "  \u001b[31m   \u001b[0m copying build/lib/gym/envs/mujoco/humanoid_v3.py -> build/bdist.linux-x86_64/wheel/gym/envs/mujoco\r\n",
      "  \u001b[31m   \u001b[0m copying build/lib/gym/envs/mujoco/mujoco_env.py -> build/bdist.linux-x86_64/wheel/gym/envs/mujoco\r\n",
      "  \u001b[31m   \u001b[0m copying build/lib/gym/envs/mujoco/striker.py -> build/bdist.linux-x86_64/wheel/gym/envs/mujoco\r\n",
      "  \u001b[31m   \u001b[0m copying build/lib/gym/envs/mujoco/walker2d_v3.py -> build/bdist.linux-x86_64/wheel/gym/envs/mujoco\r\n",
      "  \u001b[31m   \u001b[0m copying build/lib/gym/envs/mujoco/pusher.py -> build/bdist.linux-x86_64/wheel/gym/envs/mujoco\r\n",
      "  \u001b[31m   \u001b[0m copying build/lib/gym/envs/mujoco/hopper.py -> build/bdist.linux-x86_64/wheel/gym/envs/mujoco\r\n",
      "  \u001b[31m   \u001b[0m copying build/lib/gym/envs/mujoco/walker2d.py -> build/bdist.linux-x86_64/wheel/gym/envs/mujoco\r\n",
      "  \u001b[31m   \u001b[0m copying build/lib/gym/envs/mujoco/humanoid.py -> build/bdist.linux-x86_64/wheel/gym/envs/mujoco\r\n",
      "  \u001b[31m   \u001b[0m copying build/lib/gym/envs/mujoco/humanoidstandup.py -> build/bdist.linux-x86_64/wheel/gym/envs/mujoco\r\n",
      "  \u001b[31m   \u001b[0m copying build/lib/gym/envs/mujoco/swimmer.py -> build/bdist.linux-x86_64/wheel/gym/envs/mujoco\r\n",
      "  \u001b[31m   \u001b[0m copying build/lib/gym/envs/mujoco/reacher.py -> build/bdist.linux-x86_64/wheel/gym/envs/mujoco\r\n",
      "  \u001b[31m   \u001b[0m copying build/lib/gym/envs/mujoco/hopper_v3.py -> build/bdist.linux-x86_64/wheel/gym/envs/mujoco\r\n",
      "  \u001b[31m   \u001b[0m copying build/lib/gym/envs/mujoco/ant_v3.py -> build/bdist.linux-x86_64/wheel/gym/envs/mujoco\r\n",
      "  \u001b[31m   \u001b[0m copying build/lib/gym/envs/mujoco/thrower.py -> build/bdist.linux-x86_64/wheel/gym/envs/mujoco\r\n",
      "  \u001b[31m   \u001b[0m copying build/lib/gym/envs/mujoco/inverted_double_pendulum.py -> build/bdist.linux-x86_64/wheel/gym/envs/mujoco\r\n",
      "  \u001b[31m   \u001b[0m copying build/lib/gym/envs/mujoco/inverted_pendulum.py -> build/bdist.linux-x86_64/wheel/gym/envs/mujoco\r\n",
      "  \u001b[31m   \u001b[0m copying build/lib/gym/envs/mujoco/ant.py -> build/bdist.linux-x86_64/wheel/gym/envs/mujoco\r\n",
      "  \u001b[31m   \u001b[0m creating build/bdist.linux-x86_64/wheel/gym/envs/toy_text\r\n",
      "  \u001b[31m   \u001b[0m copying build/lib/gym/envs/toy_text/blackjack.py -> build/bdist.linux-x86_64/wheel/gym/envs/toy_text\r\n",
      "  \u001b[31m   \u001b[0m copying build/lib/gym/envs/toy_text/__init__.py -> build/bdist.linux-x86_64/wheel/gym/envs/toy_text\r\n",
      "  \u001b[31m   \u001b[0m copying build/lib/gym/envs/toy_text/discrete.py -> build/bdist.linux-x86_64/wheel/gym/envs/toy_text\r\n",
      "  \u001b[31m   \u001b[0m copying build/lib/gym/envs/toy_text/frozen_lake.py -> build/bdist.linux-x86_64/wheel/gym/envs/toy_text\r\n",
      "  \u001b[31m   \u001b[0m copying build/lib/gym/envs/toy_text/taxi.py -> build/bdist.linux-x86_64/wheel/gym/envs/toy_text\r\n",
      "  \u001b[31m   \u001b[0m copying build/lib/gym/envs/toy_text/cliffwalking.py -> build/bdist.linux-x86_64/wheel/gym/envs/toy_text\r\n",
      "  \u001b[31m   \u001b[0m copying build/lib/gym/envs/__init__.py -> build/bdist.linux-x86_64/wheel/gym/envs\r\n",
      "  \u001b[31m   \u001b[0m creating build/bdist.linux-x86_64/wheel/gym/envs/unittest\r\n",
      "  \u001b[31m   \u001b[0m copying build/lib/gym/envs/unittest/__init__.py -> build/bdist.linux-x86_64/wheel/gym/envs/unittest\r\n",
      "  \u001b[31m   \u001b[0m copying build/lib/gym/envs/unittest/cube_crash.py -> build/bdist.linux-x86_64/wheel/gym/envs/unittest\r\n",
      "  \u001b[31m   \u001b[0m copying build/lib/gym/envs/unittest/memorize_digits.py -> build/bdist.linux-x86_64/wheel/gym/envs/unittest\r\n",
      "  \u001b[31m   \u001b[0m creating build/bdist.linux-x86_64/wheel/gym/envs/box2d\r\n",
      "  \u001b[31m   \u001b[0m copying build/lib/gym/envs/box2d/__init__.py -> build/bdist.linux-x86_64/wheel/gym/envs/box2d\r\n",
      "  \u001b[31m   \u001b[0m copying build/lib/gym/envs/box2d/bipedal_walker.py -> build/bdist.linux-x86_64/wheel/gym/envs/box2d\r\n",
      "  \u001b[31m   \u001b[0m copying build/lib/gym/envs/box2d/lunar_lander.py -> build/bdist.linux-x86_64/wheel/gym/envs/box2d\r\n",
      "  \u001b[31m   \u001b[0m copying build/lib/gym/envs/box2d/car_racing.py -> build/bdist.linux-x86_64/wheel/gym/envs/box2d\r\n",
      "  \u001b[31m   \u001b[0m copying build/lib/gym/envs/box2d/car_dynamics.py -> build/bdist.linux-x86_64/wheel/gym/envs/box2d\r\n",
      "  \u001b[31m   \u001b[0m creating build/bdist.linux-x86_64/wheel/gym/envs/classic_control\r\n",
      "  \u001b[31m   \u001b[0m copying build/lib/gym/envs/classic_control/__init__.py -> build/bdist.linux-x86_64/wheel/gym/envs/classic_control\r\n",
      "  \u001b[31m   \u001b[0m creating build/bdist.linux-x86_64/wheel/gym/envs/classic_control/assets\r\n",
      "  \u001b[31m   \u001b[0m copying build/lib/gym/envs/classic_control/assets/clockwise.png -> build/bdist.linux-x86_64/wheel/gym/envs/classic_control/assets\r\n",
      "  \u001b[31m   \u001b[0m copying build/lib/gym/envs/classic_control/rendering.py -> build/bdist.linux-x86_64/wheel/gym/envs/classic_control\r\n",
      "  \u001b[31m   \u001b[0m copying build/lib/gym/envs/classic_control/mountain_car.py -> build/bdist.linux-x86_64/wheel/gym/envs/classic_control\r\n",
      "  \u001b[31m   \u001b[0m copying build/lib/gym/envs/classic_control/pendulum.py -> build/bdist.linux-x86_64/wheel/gym/envs/classic_control\r\n",
      "  \u001b[31m   \u001b[0m copying build/lib/gym/envs/classic_control/acrobot.py -> build/bdist.linux-x86_64/wheel/gym/envs/classic_control\r\n",
      "  \u001b[31m   \u001b[0m copying build/lib/gym/envs/classic_control/cartpole.py -> build/bdist.linux-x86_64/wheel/gym/envs/classic_control\r\n",
      "  \u001b[31m   \u001b[0m copying build/lib/gym/envs/classic_control/continuous_mountain_car.py -> build/bdist.linux-x86_64/wheel/gym/envs/classic_control\r\n",
      "  \u001b[31m   \u001b[0m copying build/lib/gym/envs/registration.py -> build/bdist.linux-x86_64/wheel/gym/envs\r\n",
      "  \u001b[31m   \u001b[0m creating build/bdist.linux-x86_64/wheel/gym/envs/robotics\r\n",
      "  \u001b[31m   \u001b[0m copying build/lib/gym/envs/robotics/__init__.py -> build/bdist.linux-x86_64/wheel/gym/envs/robotics\r\n",
      "  \u001b[31m   \u001b[0m creating build/bdist.linux-x86_64/wheel/gym/envs/robotics/assets\r\n",
      "  \u001b[31m   \u001b[0m creating build/bdist.linux-x86_64/wheel/gym/envs/robotics/assets/stls\r\n",
      "  \u001b[31m   \u001b[0m creating build/bdist.linux-x86_64/wheel/gym/envs/robotics/assets/stls/fetch\r\n",
      "  \u001b[31m   \u001b[0m copying build/lib/gym/envs/robotics/assets/stls/fetch/laser_link.stl -> build/bdist.linux-x86_64/wheel/gym/envs/robotics/assets/stls/fetch\r\n",
      "  \u001b[31m   \u001b[0m copying build/lib/gym/envs/robotics/assets/stls/fetch/base_link_collision.stl -> build/bdist.linux-x86_64/wheel/gym/envs/robotics/assets/stls/fetch\r\n",
      "  \u001b[31m   \u001b[0m copying build/lib/gym/envs/robotics/assets/stls/fetch/upperarm_roll_link_collision.stl -> build/bdist.linux-x86_64/wheel/gym/envs/robotics/assets/stls/fetch\r\n",
      "  \u001b[31m   \u001b[0m copying build/lib/gym/envs/robotics/assets/stls/fetch/forearm_roll_link_collision.stl -> build/bdist.linux-x86_64/wheel/gym/envs/robotics/assets/stls/fetch\r\n",
      "  \u001b[31m   \u001b[0m copying build/lib/gym/envs/robotics/assets/stls/fetch/wrist_roll_link_collision.stl -> build/bdist.linux-x86_64/wheel/gym/envs/robotics/assets/stls/fetch\r\n",
      "  \u001b[31m   \u001b[0m copying build/lib/gym/envs/robotics/assets/stls/fetch/r_wheel_link_collision.stl -> build/bdist.linux-x86_64/wheel/gym/envs/robotics/assets/stls/fetch\r\n",
      "  \u001b[31m   \u001b[0m copying build/lib/gym/envs/robotics/assets/stls/fetch/estop_link.stl -> build/bdist.linux-x86_64/wheel/gym/envs/robotics/assets/stls/fetch\r\n",
      "  \u001b[31m   \u001b[0m copying build/lib/gym/envs/robotics/assets/stls/fetch/torso_lift_link_collision.stl -> build/bdist.linux-x86_64/wheel/gym/envs/robotics/assets/stls/fetch\r\n",
      "  \u001b[31m   \u001b[0m copying build/lib/gym/envs/robotics/assets/stls/fetch/shoulder_lift_link_collision.stl -> build/bdist.linux-x86_64/wheel/gym/envs/robotics/assets/stls/fetch\r\n",
      "  \u001b[31m   \u001b[0m copying build/lib/gym/envs/robotics/assets/stls/fetch/elbow_flex_link_collision.stl -> build/bdist.linux-x86_64/wheel/gym/envs/robotics/assets/stls/fetch\r\n",
      "  \u001b[31m   \u001b[0m copying build/lib/gym/envs/robotics/assets/stls/fetch/l_wheel_link_collision.stl -> build/bdist.linux-x86_64/wheel/gym/envs/robotics/assets/stls/fetch\r\n",
      "  \u001b[31m   \u001b[0m copying build/lib/gym/envs/robotics/assets/stls/fetch/shoulder_pan_link_collision.stl -> build/bdist.linux-x86_64/wheel/gym/envs/robotics/assets/stls/fetch\r\n",
      "  \u001b[31m   \u001b[0m copying build/lib/gym/envs/robotics/assets/stls/fetch/wrist_flex_link_collision.stl -> build/bdist.linux-x86_64/wheel/gym/envs/robotics/assets/stls/fetch\r\n",
      "  \u001b[31m   \u001b[0m copying build/lib/gym/envs/robotics/assets/stls/fetch/bellows_link_collision.stl -> build/bdist.linux-x86_64/wheel/gym/envs/robotics/assets/stls/fetch\r\n",
      "  \u001b[31m   \u001b[0m copying build/lib/gym/envs/robotics/assets/stls/fetch/head_pan_link_collision.stl -> build/bdist.linux-x86_64/wheel/gym/envs/robotics/assets/stls/fetch\r\n",
      "  \u001b[31m   \u001b[0m copying build/lib/gym/envs/robotics/assets/stls/fetch/torso_fixed_link.stl -> build/bdist.linux-x86_64/wheel/gym/envs/robotics/assets/stls/fetch\r\n",
      "  \u001b[31m   \u001b[0m copying build/lib/gym/envs/robotics/assets/stls/fetch/gripper_link.stl -> build/bdist.linux-x86_64/wheel/gym/envs/robotics/assets/stls/fetch\r\n",
      "  \u001b[31m   \u001b[0m copying build/lib/gym/envs/robotics/assets/stls/fetch/head_tilt_link_collision.stl -> build/bdist.linux-x86_64/wheel/gym/envs/robotics/assets/stls/fetch\r\n",
      "  \u001b[31m   \u001b[0m creating build/bdist.linux-x86_64/wheel/gym/envs/robotics/assets/stls/hand\r\n",
      "  \u001b[31m   \u001b[0m copying build/lib/gym/envs/robotics/assets/stls/hand/forearm_electric_cvx.stl -> build/bdist.linux-x86_64/wheel/gym/envs/robotics/assets/stls/hand\r\n",
      "  \u001b[31m   \u001b[0m copying build/lib/gym/envs/robotics/assets/stls/hand/F1.stl -> build/bdist.linux-x86_64/wheel/gym/envs/robotics/assets/stls/hand\r\n",
      "  \u001b[31m   \u001b[0m copying build/lib/gym/envs/robotics/assets/stls/hand/wrist.stl -> build/bdist.linux-x86_64/wheel/gym/envs/robotics/assets/stls/hand\r\n",
      "  \u001b[31m   \u001b[0m copying build/lib/gym/envs/robotics/assets/stls/hand/forearm_electric.stl -> build/bdist.linux-x86_64/wheel/gym/envs/robotics/assets/stls/hand\r\n",
      "  \u001b[31m   \u001b[0m copying build/lib/gym/envs/robotics/assets/stls/hand/F3.stl -> build/bdist.linux-x86_64/wheel/gym/envs/robotics/assets/stls/hand\r\n",
      "  \u001b[31m   \u001b[0m copying build/lib/gym/envs/robotics/assets/stls/hand/TH3_z.stl -> build/bdist.linux-x86_64/wheel/gym/envs/robotics/assets/stls/hand\r\n",
      "  \u001b[31m   \u001b[0m copying build/lib/gym/envs/robotics/assets/stls/hand/TH1_z.stl -> build/bdist.linux-x86_64/wheel/gym/envs/robotics/assets/stls/hand\r\n",
      "  \u001b[31m   \u001b[0m copying build/lib/gym/envs/robotics/assets/stls/hand/palm.stl -> build/bdist.linux-x86_64/wheel/gym/envs/robotics/assets/stls/hand\r\n",
      "  \u001b[31m   \u001b[0m copying build/lib/gym/envs/robotics/assets/stls/hand/lfmetacarpal.stl -> build/bdist.linux-x86_64/wheel/gym/envs/robotics/assets/stls/hand\r\n",
      "  \u001b[31m   \u001b[0m copying build/lib/gym/envs/robotics/assets/stls/hand/TH2_z.stl -> build/bdist.linux-x86_64/wheel/gym/envs/robotics/assets/stls/hand\r\n",
      "  \u001b[31m   \u001b[0m copying build/lib/gym/envs/robotics/assets/stls/hand/F2.stl -> build/bdist.linux-x86_64/wheel/gym/envs/robotics/assets/stls/hand\r\n",
      "  \u001b[31m   \u001b[0m copying build/lib/gym/envs/robotics/assets/stls/hand/knuckle.stl -> build/bdist.linux-x86_64/wheel/gym/envs/robotics/assets/stls/hand\r\n",
      "  \u001b[31m   \u001b[0m creating build/bdist.linux-x86_64/wheel/gym/envs/robotics/assets/textures\r\n",
      "  \u001b[31m   \u001b[0m copying build/lib/gym/envs/robotics/assets/textures/block.png -> build/bdist.linux-x86_64/wheel/gym/envs/robotics/assets/textures\r\n",
      "  \u001b[31m   \u001b[0m copying build/lib/gym/envs/robotics/assets/textures/block_hidden.png -> build/bdist.linux-x86_64/wheel/gym/envs/robotics/assets/textures\r\n",
      "  \u001b[31m   \u001b[0m copying build/lib/gym/envs/robotics/assets/LICENSE.md -> build/bdist.linux-x86_64/wheel/gym/envs/robotics/assets\r\n",
      "  \u001b[31m   \u001b[0m creating build/bdist.linux-x86_64/wheel/gym/envs/robotics/assets/fetch\r\n",
      "  \u001b[31m   \u001b[0m copying build/lib/gym/envs/robotics/assets/fetch/robot.xml -> build/bdist.linux-x86_64/wheel/gym/envs/robotics/assets/fetch\r\n",
      "  \u001b[31m   \u001b[0m copying build/lib/gym/envs/robotics/assets/fetch/shared.xml -> build/bdist.linux-x86_64/wheel/gym/envs/robotics/assets/fetch\r\n",
      "  \u001b[31m   \u001b[0m copying build/lib/gym/envs/robotics/assets/fetch/pick_and_place.xml -> build/bdist.linux-x86_64/wheel/gym/envs/robotics/assets/fetch\r\n",
      "  \u001b[31m   \u001b[0m copying build/lib/gym/envs/robotics/assets/fetch/slide.xml -> build/bdist.linux-x86_64/wheel/gym/envs/robotics/assets/fetch\r\n",
      "  \u001b[31m   \u001b[0m copying build/lib/gym/envs/robotics/assets/fetch/reach.xml -> build/bdist.linux-x86_64/wheel/gym/envs/robotics/assets/fetch\r\n",
      "  \u001b[31m   \u001b[0m copying build/lib/gym/envs/robotics/assets/fetch/push.xml -> build/bdist.linux-x86_64/wheel/gym/envs/robotics/assets/fetch\r\n",
      "  \u001b[31m   \u001b[0m creating build/bdist.linux-x86_64/wheel/gym/envs/robotics/assets/hand\r\n",
      "  \u001b[31m   \u001b[0m copying build/lib/gym/envs/robotics/assets/hand/robot.xml -> build/bdist.linux-x86_64/wheel/gym/envs/robotics/assets/hand\r\n",
      "  \u001b[31m   \u001b[0m copying build/lib/gym/envs/robotics/assets/hand/manipulate_egg.xml -> build/bdist.linux-x86_64/wheel/gym/envs/robotics/assets/hand\r\n",
      "  \u001b[31m   \u001b[0m copying build/lib/gym/envs/robotics/assets/hand/shared.xml -> build/bdist.linux-x86_64/wheel/gym/envs/robotics/assets/hand\r\n",
      "  \u001b[31m   \u001b[0m copying build/lib/gym/envs/robotics/assets/hand/robot_touch_sensors_92.xml -> build/bdist.linux-x86_64/wheel/gym/envs/robotics/assets/hand\r\n",
      "  \u001b[31m   \u001b[0m copying build/lib/gym/envs/robotics/assets/hand/manipulate_block_touch_sensors.xml -> build/bdist.linux-x86_64/wheel/gym/envs/robotics/assets/hand\r\n",
      "  \u001b[31m   \u001b[0m copying build/lib/gym/envs/robotics/assets/hand/shared_touch_sensors_92.xml -> build/bdist.linux-x86_64/wheel/gym/envs/robotics/assets/hand\r\n",
      "  \u001b[31m   \u001b[0m copying build/lib/gym/envs/robotics/assets/hand/manipulate_pen.xml -> build/bdist.linux-x86_64/wheel/gym/envs/robotics/assets/hand\r\n",
      "  \u001b[31m   \u001b[0m copying build/lib/gym/envs/robotics/assets/hand/manipulate_egg_touch_sensors.xml -> build/bdist.linux-x86_64/wheel/gym/envs/robotics/assets/hand\r\n",
      "  \u001b[31m   \u001b[0m copying build/lib/gym/envs/robotics/assets/hand/manipulate_block.xml -> build/bdist.linux-x86_64/wheel/gym/envs/robotics/assets/hand\r\n",
      "  \u001b[31m   \u001b[0m copying build/lib/gym/envs/robotics/assets/hand/manipulate_pen_touch_sensors.xml -> build/bdist.linux-x86_64/wheel/gym/envs/robotics/assets/hand\r\n",
      "  \u001b[31m   \u001b[0m copying build/lib/gym/envs/robotics/assets/hand/shared_asset.xml -> build/bdist.linux-x86_64/wheel/gym/envs/robotics/assets/hand\r\n",
      "  \u001b[31m   \u001b[0m copying build/lib/gym/envs/robotics/assets/hand/reach.xml -> build/bdist.linux-x86_64/wheel/gym/envs/robotics/assets/hand\r\n",
      "  \u001b[31m   \u001b[0m copying build/lib/gym/envs/robotics/hand_env.py -> build/bdist.linux-x86_64/wheel/gym/envs/robotics\r\n",
      "  \u001b[31m   \u001b[0m copying build/lib/gym/envs/robotics/robot_env.py -> build/bdist.linux-x86_64/wheel/gym/envs/robotics\r\n",
      "  \u001b[31m   \u001b[0m copying build/lib/gym/envs/robotics/utils.py -> build/bdist.linux-x86_64/wheel/gym/envs/robotics\r\n",
      "  \u001b[31m   \u001b[0m creating build/bdist.linux-x86_64/wheel/gym/envs/robotics/fetch\r\n",
      "  \u001b[31m   \u001b[0m copying build/lib/gym/envs/robotics/fetch/__init__.py -> build/bdist.linux-x86_64/wheel/gym/envs/robotics/fetch\r\n",
      "  \u001b[31m   \u001b[0m copying build/lib/gym/envs/robotics/fetch/reach.py -> build/bdist.linux-x86_64/wheel/gym/envs/robotics/fetch\r\n",
      "  \u001b[31m   \u001b[0m copying build/lib/gym/envs/robotics/fetch/slide.py -> build/bdist.linux-x86_64/wheel/gym/envs/robotics/fetch\r\n",
      "  \u001b[31m   \u001b[0m copying build/lib/gym/envs/robotics/fetch/push.py -> build/bdist.linux-x86_64/wheel/gym/envs/robotics/fetch\r\n",
      "  \u001b[31m   \u001b[0m copying build/lib/gym/envs/robotics/fetch/pick_and_place.py -> build/bdist.linux-x86_64/wheel/gym/envs/robotics/fetch\r\n",
      "  \u001b[31m   \u001b[0m copying build/lib/gym/envs/robotics/rotations.py -> build/bdist.linux-x86_64/wheel/gym/envs/robotics\r\n",
      "  \u001b[31m   \u001b[0m copying build/lib/gym/envs/robotics/fetch_env.py -> build/bdist.linux-x86_64/wheel/gym/envs/robotics\r\n",
      "  \u001b[31m   \u001b[0m creating build/bdist.linux-x86_64/wheel/gym/envs/robotics/hand\r\n",
      "  \u001b[31m   \u001b[0m copying build/lib/gym/envs/robotics/hand/__init__.py -> build/bdist.linux-x86_64/wheel/gym/envs/robotics/hand\r\n",
      "  \u001b[31m   \u001b[0m copying build/lib/gym/envs/robotics/hand/reach.py -> build/bdist.linux-x86_64/wheel/gym/envs/robotics/hand\r\n",
      "  \u001b[31m   \u001b[0m copying build/lib/gym/envs/robotics/hand/manipulate_touch_sensors.py -> build/bdist.linux-x86_64/wheel/gym/envs/robotics/hand\r\n",
      "  \u001b[31m   \u001b[0m copying build/lib/gym/envs/robotics/hand/manipulate.py -> build/bdist.linux-x86_64/wheel/gym/envs/robotics/hand\r\n",
      "  \u001b[31m   \u001b[0m copying build/lib/gym/error.py -> build/bdist.linux-x86_64/wheel/gym\r\n",
      "  \u001b[31m   \u001b[0m creating build/bdist.linux-x86_64/wheel/gym/vector\r\n",
      "  \u001b[31m   \u001b[0m copying build/lib/gym/vector/async_vector_env.py -> build/bdist.linux-x86_64/wheel/gym/vector\r\n",
      "  \u001b[31m   \u001b[0m copying build/lib/gym/vector/__init__.py -> build/bdist.linux-x86_64/wheel/gym/vector\r\n",
      "  \u001b[31m   \u001b[0m copying build/lib/gym/vector/sync_vector_env.py -> build/bdist.linux-x86_64/wheel/gym/vector\r\n",
      "  \u001b[31m   \u001b[0m creating build/bdist.linux-x86_64/wheel/gym/vector/utils\r\n",
      "  \u001b[31m   \u001b[0m copying build/lib/gym/vector/utils/__init__.py -> build/bdist.linux-x86_64/wheel/gym/vector/utils\r\n",
      "  \u001b[31m   \u001b[0m copying build/lib/gym/vector/utils/spaces.py -> build/bdist.linux-x86_64/wheel/gym/vector/utils\r\n",
      "  \u001b[31m   \u001b[0m copying build/lib/gym/vector/utils/numpy_utils.py -> build/bdist.linux-x86_64/wheel/gym/vector/utils\r\n",
      "  \u001b[31m   \u001b[0m copying build/lib/gym/vector/utils/shared_memory.py -> build/bdist.linux-x86_64/wheel/gym/vector/utils\r\n",
      "  \u001b[31m   \u001b[0m copying build/lib/gym/vector/utils/misc.py -> build/bdist.linux-x86_64/wheel/gym/vector/utils\r\n",
      "  \u001b[31m   \u001b[0m copying build/lib/gym/vector/vector_env.py -> build/bdist.linux-x86_64/wheel/gym/vector\r\n",
      "  \u001b[31m   \u001b[0m creating build/bdist.linux-x86_64/wheel/gym/wrappers\r\n",
      "  \u001b[31m   \u001b[0m copying build/lib/gym/wrappers/rescale_action.py -> build/bdist.linux-x86_64/wheel/gym/wrappers\r\n",
      "  \u001b[31m   \u001b[0m copying build/lib/gym/wrappers/time_aware_observation.py -> build/bdist.linux-x86_64/wheel/gym/wrappers\r\n",
      "  \u001b[31m   \u001b[0m copying build/lib/gym/wrappers/record_video.py -> build/bdist.linux-x86_64/wheel/gym/wrappers\r\n",
      "  \u001b[31m   \u001b[0m copying build/lib/gym/wrappers/clip_action.py -> build/bdist.linux-x86_64/wheel/gym/wrappers\r\n",
      "  \u001b[31m   \u001b[0m copying build/lib/gym/wrappers/__init__.py -> build/bdist.linux-x86_64/wheel/gym/wrappers\r\n",
      "  \u001b[31m   \u001b[0m copying build/lib/gym/wrappers/flatten_observation.py -> build/bdist.linux-x86_64/wheel/gym/wrappers\r\n",
      "  \u001b[31m   \u001b[0m copying build/lib/gym/wrappers/gray_scale_observation.py -> build/bdist.linux-x86_64/wheel/gym/wrappers\r\n",
      "  \u001b[31m   \u001b[0m copying build/lib/gym/wrappers/monitor.py -> build/bdist.linux-x86_64/wheel/gym/wrappers\r\n",
      "  \u001b[31m   \u001b[0m copying build/lib/gym/wrappers/order_enforcing.py -> build/bdist.linux-x86_64/wheel/gym/wrappers\r\n",
      "  \u001b[31m   \u001b[0m copying build/lib/gym/wrappers/normalize.py -> build/bdist.linux-x86_64/wheel/gym/wrappers\r\n",
      "  \u001b[31m   \u001b[0m copying build/lib/gym/wrappers/atari_preprocessing.py -> build/bdist.linux-x86_64/wheel/gym/wrappers\r\n",
      "  \u001b[31m   \u001b[0m copying build/lib/gym/wrappers/record_episode_statistics.py -> build/bdist.linux-x86_64/wheel/gym/wrappers\r\n",
      "  \u001b[31m   \u001b[0m copying build/lib/gym/wrappers/transform_observation.py -> build/bdist.linux-x86_64/wheel/gym/wrappers\r\n",
      "  \u001b[31m   \u001b[0m copying build/lib/gym/wrappers/time_limit.py -> build/bdist.linux-x86_64/wheel/gym/wrappers\r\n",
      "  \u001b[31m   \u001b[0m copying build/lib/gym/wrappers/pixel_observation.py -> build/bdist.linux-x86_64/wheel/gym/wrappers\r\n",
      "  \u001b[31m   \u001b[0m copying build/lib/gym/wrappers/filter_observation.py -> build/bdist.linux-x86_64/wheel/gym/wrappers\r\n",
      "  \u001b[31m   \u001b[0m creating build/bdist.linux-x86_64/wheel/gym/wrappers/monitoring\r\n",
      "  \u001b[31m   \u001b[0m copying build/lib/gym/wrappers/monitoring/__init__.py -> build/bdist.linux-x86_64/wheel/gym/wrappers/monitoring\r\n",
      "  \u001b[31m   \u001b[0m copying build/lib/gym/wrappers/monitoring/stats_recorder.py -> build/bdist.linux-x86_64/wheel/gym/wrappers/monitoring\r\n",
      "  \u001b[31m   \u001b[0m copying build/lib/gym/wrappers/monitoring/video_recorder.py -> build/bdist.linux-x86_64/wheel/gym/wrappers/monitoring\r\n",
      "  \u001b[31m   \u001b[0m copying build/lib/gym/wrappers/resize_observation.py -> build/bdist.linux-x86_64/wheel/gym/wrappers\r\n",
      "  \u001b[31m   \u001b[0m copying build/lib/gym/wrappers/frame_stack.py -> build/bdist.linux-x86_64/wheel/gym/wrappers\r\n",
      "  \u001b[31m   \u001b[0m copying build/lib/gym/wrappers/transform_reward.py -> build/bdist.linux-x86_64/wheel/gym/wrappers\r\n",
      "  \u001b[31m   \u001b[0m copying build/lib/gym/core.py -> build/bdist.linux-x86_64/wheel/gym\r\n",
      "  \u001b[31m   \u001b[0m running install_egg_info\r\n",
      "  \u001b[31m   \u001b[0m running egg_info\r\n",
      "  \u001b[31m   \u001b[0m writing gym.egg-info/PKG-INFO\r\n",
      "  \u001b[31m   \u001b[0m writing dependency_links to gym.egg-info/dependency_links.txt\r\n",
      "  \u001b[31m   \u001b[0m writing requirements to gym.egg-info/requires.txt\r\n",
      "  \u001b[31m   \u001b[0m writing top-level names to gym.egg-info/top_level.txt\r\n",
      "  \u001b[31m   \u001b[0m reading manifest file 'gym.egg-info/SOURCES.txt'\r\n",
      "  \u001b[31m   \u001b[0m writing manifest file 'gym.egg-info/SOURCES.txt'\r\n",
      "  \u001b[31m   \u001b[0m Copying gym.egg-info to build/bdist.linux-x86_64/wheel/gym-0.21.0-py3.10.egg-info\r\n",
      "  \u001b[31m   \u001b[0m running install_scripts\r\n",
      "  \u001b[31m   \u001b[0m Traceback (most recent call last):\r\n",
      "  \u001b[31m   \u001b[0m   File \"/opt/conda/lib/python3.10/site-packages/wheel/vendored/packaging/requirements.py\", line 35, in __init__\r\n",
      "  \u001b[31m   \u001b[0m     parsed = parse_requirement(requirement_string)\r\n",
      "  \u001b[31m   \u001b[0m   File \"/opt/conda/lib/python3.10/site-packages/wheel/vendored/packaging/_parser.py\", line 64, in parse_requirement\r\n",
      "  \u001b[31m   \u001b[0m     return _parse_requirement(Tokenizer(source, rules=DEFAULT_RULES))\r\n",
      "  \u001b[31m   \u001b[0m   File \"/opt/conda/lib/python3.10/site-packages/wheel/vendored/packaging/_parser.py\", line 82, in _parse_requirement\r\n",
      "  \u001b[31m   \u001b[0m     url, specifier, marker = _parse_requirement_details(tokenizer)\r\n",
      "  \u001b[31m   \u001b[0m   File \"/opt/conda/lib/python3.10/site-packages/wheel/vendored/packaging/_parser.py\", line 126, in _parse_requirement_details\r\n",
      "  \u001b[31m   \u001b[0m     marker = _parse_requirement_marker(\r\n",
      "  \u001b[31m   \u001b[0m   File \"/opt/conda/lib/python3.10/site-packages/wheel/vendored/packaging/_parser.py\", line 147, in _parse_requirement_marker\r\n",
      "  \u001b[31m   \u001b[0m     tokenizer.raise_syntax_error(\r\n",
      "  \u001b[31m   \u001b[0m   File \"/opt/conda/lib/python3.10/site-packages/wheel/vendored/packaging/_tokenizer.py\", line 163, in raise_syntax_error\r\n",
      "  \u001b[31m   \u001b[0m     raise ParserSyntaxError(\r\n",
      "  \u001b[31m   \u001b[0m wheel.vendored.packaging._tokenizer.ParserSyntaxError: Expected end or semicolon (after version specifier)\r\n",
      "  \u001b[31m   \u001b[0m     opencv-python>=3.\r\n",
      "  \u001b[31m   \u001b[0m                  ~~~^\r\n",
      "  \u001b[31m   \u001b[0m \r\n",
      "  \u001b[31m   \u001b[0m The above exception was the direct cause of the following exception:\r\n",
      "  \u001b[31m   \u001b[0m \r\n",
      "  \u001b[31m   \u001b[0m Traceback (most recent call last):\r\n",
      "  \u001b[31m   \u001b[0m   File \"<string>\", line 2, in <module>\r\n",
      "  \u001b[31m   \u001b[0m   File \"<pip-setuptools-caller>\", line 34, in <module>\r\n",
      "  \u001b[31m   \u001b[0m   File \"/tmp/pip-install-ztqcl23q/gym_1a07a579df4449daa2e10f7433ba9845/setup.py\", line 39, in <module>\r\n",
      "  \u001b[31m   \u001b[0m     setup(\r\n",
      "  \u001b[31m   \u001b[0m   File \"/opt/conda/lib/python3.10/site-packages/setuptools/__init__.py\", line 153, in setup\r\n",
      "  \u001b[31m   \u001b[0m     return distutils.core.setup(**attrs)\r\n",
      "  \u001b[31m   \u001b[0m   File \"/opt/conda/lib/python3.10/distutils/core.py\", line 148, in setup\r\n",
      "  \u001b[31m   \u001b[0m     dist.run_commands()\r\n",
      "  \u001b[31m   \u001b[0m   File \"/opt/conda/lib/python3.10/distutils/dist.py\", line 966, in run_commands\r\n",
      "  \u001b[31m   \u001b[0m     self.run_command(cmd)\r\n",
      "  \u001b[31m   \u001b[0m   File \"/opt/conda/lib/python3.10/distutils/dist.py\", line 985, in run_command\r\n",
      "  \u001b[31m   \u001b[0m     cmd_obj.run()\r\n",
      "  \u001b[31m   \u001b[0m   File \"/opt/conda/lib/python3.10/site-packages/wheel/bdist_wheel.py\", line 395, in run\r\n",
      "  \u001b[31m   \u001b[0m     self.egg2dist(self.egginfo_dir, distinfo_dir)\r\n",
      "  \u001b[31m   \u001b[0m   File \"/opt/conda/lib/python3.10/site-packages/wheel/bdist_wheel.py\", line 534, in egg2dist\r\n",
      "  \u001b[31m   \u001b[0m     pkg_info = pkginfo_to_metadata(egginfo_path, pkginfo_path)\r\n",
      "  \u001b[31m   \u001b[0m   File \"/opt/conda/lib/python3.10/site-packages/wheel/metadata.py\", line 160, in pkginfo_to_metadata\r\n",
      "  \u001b[31m   \u001b[0m     for key, value in generate_requirements({extra: reqs}):\r\n",
      "  \u001b[31m   \u001b[0m   File \"/opt/conda/lib/python3.10/site-packages/wheel/metadata.py\", line 138, in generate_requirements\r\n",
      "  \u001b[31m   \u001b[0m     for new_req in convert_requirements(depends):\r\n",
      "  \u001b[31m   \u001b[0m   File \"/opt/conda/lib/python3.10/site-packages/wheel/metadata.py\", line 103, in convert_requirements\r\n",
      "  \u001b[31m   \u001b[0m     parsed_requirement = Requirement(req)\r\n",
      "  \u001b[31m   \u001b[0m   File \"/opt/conda/lib/python3.10/site-packages/wheel/vendored/packaging/requirements.py\", line 37, in __init__\r\n",
      "  \u001b[31m   \u001b[0m     raise InvalidRequirement(str(e)) from e\r\n",
      "  \u001b[31m   \u001b[0m wheel.vendored.packaging.requirements.InvalidRequirement: Expected end or semicolon (after version specifier)\r\n",
      "  \u001b[31m   \u001b[0m     opencv-python>=3.\r\n",
      "  \u001b[31m   \u001b[0m                  ~~~^\r\n",
      "  \u001b[31m   \u001b[0m \u001b[31m[end of output]\u001b[0m\r\n",
      "  \r\n",
      "  \u001b[1;35mnote\u001b[0m: This error originates from a subprocess, and is likely not a problem with pip.\r\n",
      "\u001b[31m  ERROR: Failed building wheel for gym\u001b[0m\u001b[31m\r\n",
      "\u001b[0m\u001b[33m  DEPRECATION: gym was installed using the legacy 'setup.py install' method, because a wheel could not be built for it. pip 23.1 will enforce this behaviour change. A possible replacement is to fix the wheel build issue reported above. Discussion can be found at https://github.com/pypa/pip/issues/8368\u001b[0m\u001b[33m\r\n",
      "\u001b[0m\u001b[31mERROR: pip's dependency resolver does not currently take into account all the packages that are installed. This behaviour is the source of the following dependency conflicts.\r\n",
      "opentelemetry-api 1.17.0 requires importlib-metadata~=6.0.0, but you have importlib-metadata 4.13.0 which is incompatible.\r\n",
      "cmudict 1.0.13 requires importlib-metadata<6.0.0,>=5.1.0, but you have importlib-metadata 4.13.0 which is incompatible.\u001b[0m\u001b[31m\r\n",
      "\u001b[0m\u001b[33mWARNING: Running pip as the 'root' user can result in broken permissions and conflicting behaviour with the system package manager. It is recommended to use a virtual environment instead: https://pip.pypa.io/warnings/venv\u001b[0m\u001b[33m\r\n",
      "\u001b[0mNote: you may need to restart the kernel to use updated packages.\n",
      "\u001b[33mWARNING: Running pip as the 'root' user can result in broken permissions and conflicting behaviour with the system package manager. It is recommended to use a virtual environment instead: https://pip.pypa.io/warnings/venv\u001b[0m\u001b[33m\r\n",
      "\u001b[0mNote: you may need to restart the kernel to use updated packages.\n"
     ]
    }
   ],
   "source": [
    "%pip install tensorflow-gpu==1.15.0 tensorflow==1.15.0 stable-baselines gym-anytrading gym -q\n",
    "%pip install gym==0.23.0 -q\n",
    "%pip install gym-anytrading -q\n",
    "%pip install tensorflow-gpu -q\n",
    "%pip install tensorflow -q\n",
    "%pip install stable_baselines3 -q\n",
    "%pip install finta -q"
   ]
  },
  {
   "cell_type": "code",
   "execution_count": 2,
   "id": "5ab488a9",
   "metadata": {
    "execution": {
     "iopub.execute_input": "2023-05-11T01:38:54.728831Z",
     "iopub.status.busy": "2023-05-11T01:38:54.728459Z",
     "iopub.status.idle": "2023-05-11T01:39:06.425084Z",
     "shell.execute_reply": "2023-05-11T01:39:06.424026Z"
    },
    "papermill": {
     "duration": 11.710986,
     "end_time": "2023-05-11T01:39:06.427979",
     "exception": false,
     "start_time": "2023-05-11T01:38:54.716993",
     "status": "completed"
    },
    "tags": []
   },
   "outputs": [
    {
     "name": "stderr",
     "output_type": "stream",
     "text": [
      "/opt/conda/lib/python3.10/site-packages/scipy/__init__.py:146: UserWarning: A NumPy version >=1.16.5 and <1.23.0 is required for this version of SciPy (detected version 1.23.5\n",
      "  warnings.warn(f\"A NumPy version >={np_minversion} and <{np_maxversion}\"\n"
     ]
    }
   ],
   "source": [
    "# Gym stuff\n",
    "import importlib\n",
    "import gym\n",
    "#importlib.reload(gym)\n",
    "import gym_anytrading\n",
    "#import tf_slim as slim\n",
    "\n",
    "# Stable baselines - rl stuff\n",
    "from stable_baselines3.common.vec_env import DummyVecEnv\n",
    "from stable_baselines3 import A2C\n",
    "\n",
    "# Processing libraries\n",
    "import numpy as np\n",
    "import pandas as pd\n",
    "from matplotlib import pyplot as plt"
   ]
  },
  {
   "cell_type": "markdown",
   "id": "ac82a9a1",
   "metadata": {
    "papermill": {
     "duration": 0.008061,
     "end_time": "2023-05-11T01:39:06.444612",
     "exception": false,
     "start_time": "2023-05-11T01:39:06.436551",
     "status": "completed"
    },
    "tags": []
   },
   "source": [
    "# Using GME Data"
   ]
  },
  {
   "cell_type": "markdown",
   "id": "85146257",
   "metadata": {
    "papermill": {
     "duration": 0.00797,
     "end_time": "2023-05-11T01:39:06.460870",
     "exception": false,
     "start_time": "2023-05-11T01:39:06.452900",
     "status": "completed"
    },
    "tags": []
   },
   "source": [
    "https://www.marketwatch.com/investing/stock/gme/download-data?startDate=11/1/2019&endDate=03/12/2021"
   ]
  },
  {
   "cell_type": "code",
   "execution_count": 3,
   "id": "7dc0f973",
   "metadata": {
    "execution": {
     "iopub.execute_input": "2023-05-11T01:39:06.479935Z",
     "iopub.status.busy": "2023-05-11T01:39:06.479025Z",
     "iopub.status.idle": "2023-05-11T01:39:06.493231Z",
     "shell.execute_reply": "2023-05-11T01:39:06.492063Z"
    },
    "papermill": {
     "duration": 0.026311,
     "end_time": "2023-05-11T01:39:06.495590",
     "exception": false,
     "start_time": "2023-05-11T01:39:06.469279",
     "status": "completed"
    },
    "tags": []
   },
   "outputs": [],
   "source": [
    "df = pd.read_csv('/kaggle/input/gmedata-tutorial/gmedata.csv')"
   ]
  },
  {
   "cell_type": "code",
   "execution_count": 4,
   "id": "704a78f2",
   "metadata": {
    "execution": {
     "iopub.execute_input": "2023-05-11T01:39:06.514647Z",
     "iopub.status.busy": "2023-05-11T01:39:06.514232Z",
     "iopub.status.idle": "2023-05-11T01:39:06.542910Z",
     "shell.execute_reply": "2023-05-11T01:39:06.541860Z"
    },
    "papermill": {
     "duration": 0.041269,
     "end_time": "2023-05-11T01:39:06.545411",
     "exception": false,
     "start_time": "2023-05-11T01:39:06.504142",
     "status": "completed"
    },
    "tags": []
   },
   "outputs": [
    {
     "data": {
      "text/html": [
       "<div>\n",
       "<style scoped>\n",
       "    .dataframe tbody tr th:only-of-type {\n",
       "        vertical-align: middle;\n",
       "    }\n",
       "\n",
       "    .dataframe tbody tr th {\n",
       "        vertical-align: top;\n",
       "    }\n",
       "\n",
       "    .dataframe thead th {\n",
       "        text-align: right;\n",
       "    }\n",
       "</style>\n",
       "<table border=\"1\" class=\"dataframe\">\n",
       "  <thead>\n",
       "    <tr style=\"text-align: right;\">\n",
       "      <th></th>\n",
       "      <th>Date</th>\n",
       "      <th>Open</th>\n",
       "      <th>High</th>\n",
       "      <th>Low</th>\n",
       "      <th>Close</th>\n",
       "      <th>Volume</th>\n",
       "    </tr>\n",
       "  </thead>\n",
       "  <tbody>\n",
       "    <tr>\n",
       "      <th>0</th>\n",
       "      <td>03/12/2021</td>\n",
       "      <td>275.00</td>\n",
       "      <td>295.50</td>\n",
       "      <td>262.27</td>\n",
       "      <td>264.5</td>\n",
       "      <td>25,845,900</td>\n",
       "    </tr>\n",
       "    <tr>\n",
       "      <th>1</th>\n",
       "      <td>03/11/2021</td>\n",
       "      <td>241.64</td>\n",
       "      <td>281.50</td>\n",
       "      <td>232.60</td>\n",
       "      <td>260.0</td>\n",
       "      <td>28,312,490</td>\n",
       "    </tr>\n",
       "    <tr>\n",
       "      <th>2</th>\n",
       "      <td>03/10/2021</td>\n",
       "      <td>269.43</td>\n",
       "      <td>348.50</td>\n",
       "      <td>172.00</td>\n",
       "      <td>265.0</td>\n",
       "      <td>71,570,570</td>\n",
       "    </tr>\n",
       "    <tr>\n",
       "      <th>3</th>\n",
       "      <td>03/09/2021</td>\n",
       "      <td>217.71</td>\n",
       "      <td>249.85</td>\n",
       "      <td>208.51</td>\n",
       "      <td>246.9</td>\n",
       "      <td>39,099,328</td>\n",
       "    </tr>\n",
       "    <tr>\n",
       "      <th>4</th>\n",
       "      <td>03/08/2021</td>\n",
       "      <td>154.89</td>\n",
       "      <td>210.87</td>\n",
       "      <td>146.10</td>\n",
       "      <td>194.5</td>\n",
       "      <td>63,565,621</td>\n",
       "    </tr>\n",
       "  </tbody>\n",
       "</table>\n",
       "</div>"
      ],
      "text/plain": [
       "         Date    Open    High     Low  Close      Volume\n",
       "0  03/12/2021  275.00  295.50  262.27  264.5  25,845,900\n",
       "1  03/11/2021  241.64  281.50  232.60  260.0  28,312,490\n",
       "2  03/10/2021  269.43  348.50  172.00  265.0  71,570,570\n",
       "3  03/09/2021  217.71  249.85  208.51  246.9  39,099,328\n",
       "4  03/08/2021  154.89  210.87  146.10  194.5  63,565,621"
      ]
     },
     "execution_count": 4,
     "metadata": {},
     "output_type": "execute_result"
    }
   ],
   "source": [
    "df.head()"
   ]
  },
  {
   "cell_type": "code",
   "execution_count": 5,
   "id": "ab4b353b",
   "metadata": {
    "execution": {
     "iopub.execute_input": "2023-05-11T01:39:06.564374Z",
     "iopub.status.busy": "2023-05-11T01:39:06.563749Z",
     "iopub.status.idle": "2023-05-11T01:39:06.573144Z",
     "shell.execute_reply": "2023-05-11T01:39:06.572316Z"
    },
    "papermill": {
     "duration": 0.020961,
     "end_time": "2023-05-11T01:39:06.575003",
     "exception": false,
     "start_time": "2023-05-11T01:39:06.554042",
     "status": "completed"
    },
    "tags": []
   },
   "outputs": [
    {
     "data": {
      "text/plain": [
       "Date      datetime64[ns]\n",
       "Open             float64\n",
       "High             float64\n",
       "Low              float64\n",
       "Close            float64\n",
       "Volume            object\n",
       "dtype: object"
      ]
     },
     "execution_count": 5,
     "metadata": {},
     "output_type": "execute_result"
    }
   ],
   "source": [
    "df['Date'] = pd.to_datetime(df['Date'])\n",
    "df.dtypes"
   ]
  },
  {
   "cell_type": "code",
   "execution_count": 6,
   "id": "34437edc",
   "metadata": {
    "execution": {
     "iopub.execute_input": "2023-05-11T01:39:06.595158Z",
     "iopub.status.busy": "2023-05-11T01:39:06.594131Z",
     "iopub.status.idle": "2023-05-11T01:39:06.609848Z",
     "shell.execute_reply": "2023-05-11T01:39:06.609149Z"
    },
    "papermill": {
     "duration": 0.027712,
     "end_time": "2023-05-11T01:39:06.611892",
     "exception": false,
     "start_time": "2023-05-11T01:39:06.584180",
     "status": "completed"
    },
    "tags": []
   },
   "outputs": [
    {
     "data": {
      "text/html": [
       "<div>\n",
       "<style scoped>\n",
       "    .dataframe tbody tr th:only-of-type {\n",
       "        vertical-align: middle;\n",
       "    }\n",
       "\n",
       "    .dataframe tbody tr th {\n",
       "        vertical-align: top;\n",
       "    }\n",
       "\n",
       "    .dataframe thead th {\n",
       "        text-align: right;\n",
       "    }\n",
       "</style>\n",
       "<table border=\"1\" class=\"dataframe\">\n",
       "  <thead>\n",
       "    <tr style=\"text-align: right;\">\n",
       "      <th></th>\n",
       "      <th>Date</th>\n",
       "      <th>Open</th>\n",
       "      <th>High</th>\n",
       "      <th>Low</th>\n",
       "      <th>Close</th>\n",
       "      <th>Volume</th>\n",
       "    </tr>\n",
       "  </thead>\n",
       "  <tbody>\n",
       "    <tr>\n",
       "      <th>250</th>\n",
       "      <td>2020-03-16</td>\n",
       "      <td>3.93</td>\n",
       "      <td>4.57</td>\n",
       "      <td>3.90</td>\n",
       "      <td>4.37</td>\n",
       "      <td>4,866,696</td>\n",
       "    </tr>\n",
       "    <tr>\n",
       "      <th>249</th>\n",
       "      <td>2020-03-17</td>\n",
       "      <td>4.40</td>\n",
       "      <td>4.65</td>\n",
       "      <td>4.11</td>\n",
       "      <td>4.23</td>\n",
       "      <td>3,562,210</td>\n",
       "    </tr>\n",
       "    <tr>\n",
       "      <th>248</th>\n",
       "      <td>2020-03-18</td>\n",
       "      <td>4.10</td>\n",
       "      <td>4.25</td>\n",
       "      <td>3.50</td>\n",
       "      <td>3.77</td>\n",
       "      <td>3,651,709</td>\n",
       "    </tr>\n",
       "    <tr>\n",
       "      <th>247</th>\n",
       "      <td>2020-03-19</td>\n",
       "      <td>3.71</td>\n",
       "      <td>4.20</td>\n",
       "      <td>3.55</td>\n",
       "      <td>4.19</td>\n",
       "      <td>5,039,539</td>\n",
       "    </tr>\n",
       "    <tr>\n",
       "      <th>246</th>\n",
       "      <td>2020-03-20</td>\n",
       "      <td>4.08</td>\n",
       "      <td>4.08</td>\n",
       "      <td>3.65</td>\n",
       "      <td>3.76</td>\n",
       "      <td>7,722,194</td>\n",
       "    </tr>\n",
       "  </tbody>\n",
       "</table>\n",
       "</div>"
      ],
      "text/plain": [
       "          Date  Open  High   Low  Close     Volume\n",
       "250 2020-03-16  3.93  4.57  3.90   4.37  4,866,696\n",
       "249 2020-03-17  4.40  4.65  4.11   4.23  3,562,210\n",
       "248 2020-03-18  4.10  4.25  3.50   3.77  3,651,709\n",
       "247 2020-03-19  3.71  4.20  3.55   4.19  5,039,539\n",
       "246 2020-03-20  4.08  4.08  3.65   3.76  7,722,194"
      ]
     },
     "execution_count": 6,
     "metadata": {},
     "output_type": "execute_result"
    }
   ],
   "source": [
    "df.sort_values('Date', ascending=True, inplace=True)\n",
    "df.head()"
   ]
  },
  {
   "cell_type": "code",
   "execution_count": 7,
   "id": "282a54c8",
   "metadata": {
    "execution": {
     "iopub.execute_input": "2023-05-11T01:39:06.632469Z",
     "iopub.status.busy": "2023-05-11T01:39:06.631580Z",
     "iopub.status.idle": "2023-05-11T01:39:06.644409Z",
     "shell.execute_reply": "2023-05-11T01:39:06.643655Z"
    },
    "papermill": {
     "duration": 0.025099,
     "end_time": "2023-05-11T01:39:06.646278",
     "exception": false,
     "start_time": "2023-05-11T01:39:06.621179",
     "status": "completed"
    },
    "tags": []
   },
   "outputs": [
    {
     "data": {
      "text/html": [
       "<div>\n",
       "<style scoped>\n",
       "    .dataframe tbody tr th:only-of-type {\n",
       "        vertical-align: middle;\n",
       "    }\n",
       "\n",
       "    .dataframe tbody tr th {\n",
       "        vertical-align: top;\n",
       "    }\n",
       "\n",
       "    .dataframe thead th {\n",
       "        text-align: right;\n",
       "    }\n",
       "</style>\n",
       "<table border=\"1\" class=\"dataframe\">\n",
       "  <thead>\n",
       "    <tr style=\"text-align: right;\">\n",
       "      <th></th>\n",
       "      <th>Open</th>\n",
       "      <th>High</th>\n",
       "      <th>Low</th>\n",
       "      <th>Close</th>\n",
       "      <th>Volume</th>\n",
       "    </tr>\n",
       "    <tr>\n",
       "      <th>Date</th>\n",
       "      <th></th>\n",
       "      <th></th>\n",
       "      <th></th>\n",
       "      <th></th>\n",
       "      <th></th>\n",
       "    </tr>\n",
       "  </thead>\n",
       "  <tbody>\n",
       "    <tr>\n",
       "      <th>2020-03-16</th>\n",
       "      <td>3.93</td>\n",
       "      <td>4.57</td>\n",
       "      <td>3.90</td>\n",
       "      <td>4.37</td>\n",
       "      <td>4,866,696</td>\n",
       "    </tr>\n",
       "    <tr>\n",
       "      <th>2020-03-17</th>\n",
       "      <td>4.40</td>\n",
       "      <td>4.65</td>\n",
       "      <td>4.11</td>\n",
       "      <td>4.23</td>\n",
       "      <td>3,562,210</td>\n",
       "    </tr>\n",
       "    <tr>\n",
       "      <th>2020-03-18</th>\n",
       "      <td>4.10</td>\n",
       "      <td>4.25</td>\n",
       "      <td>3.50</td>\n",
       "      <td>3.77</td>\n",
       "      <td>3,651,709</td>\n",
       "    </tr>\n",
       "    <tr>\n",
       "      <th>2020-03-19</th>\n",
       "      <td>3.71</td>\n",
       "      <td>4.20</td>\n",
       "      <td>3.55</td>\n",
       "      <td>4.19</td>\n",
       "      <td>5,039,539</td>\n",
       "    </tr>\n",
       "    <tr>\n",
       "      <th>2020-03-20</th>\n",
       "      <td>4.08</td>\n",
       "      <td>4.08</td>\n",
       "      <td>3.65</td>\n",
       "      <td>3.76</td>\n",
       "      <td>7,722,194</td>\n",
       "    </tr>\n",
       "  </tbody>\n",
       "</table>\n",
       "</div>"
      ],
      "text/plain": [
       "            Open  High   Low  Close     Volume\n",
       "Date                                          \n",
       "2020-03-16  3.93  4.57  3.90   4.37  4,866,696\n",
       "2020-03-17  4.40  4.65  4.11   4.23  3,562,210\n",
       "2020-03-18  4.10  4.25  3.50   3.77  3,651,709\n",
       "2020-03-19  3.71  4.20  3.55   4.19  5,039,539\n",
       "2020-03-20  4.08  4.08  3.65   3.76  7,722,194"
      ]
     },
     "execution_count": 7,
     "metadata": {},
     "output_type": "execute_result"
    }
   ],
   "source": [
    "df.set_index('Date', inplace=True)\n",
    "df.head()"
   ]
  },
  {
   "cell_type": "markdown",
   "id": "4a367cbe",
   "metadata": {
    "papermill": {
     "duration": 0.009434,
     "end_time": "2023-05-11T01:39:06.664691",
     "exception": false,
     "start_time": "2023-05-11T01:39:06.655257",
     "status": "completed"
    },
    "tags": []
   },
   "source": [
    "# Build ENV"
   ]
  },
  {
   "cell_type": "code",
   "execution_count": 8,
   "id": "b41c79b7",
   "metadata": {
    "execution": {
     "iopub.execute_input": "2023-05-11T01:39:06.685319Z",
     "iopub.status.busy": "2023-05-11T01:39:06.684600Z",
     "iopub.status.idle": "2023-05-11T01:39:06.691890Z",
     "shell.execute_reply": "2023-05-11T01:39:06.691146Z"
    },
    "papermill": {
     "duration": 0.019829,
     "end_time": "2023-05-11T01:39:06.693977",
     "exception": false,
     "start_time": "2023-05-11T01:39:06.674148",
     "status": "completed"
    },
    "tags": []
   },
   "outputs": [],
   "source": [
    "env = gym.make('stocks-v0', df=df, frame_bound=(5,100), window_size=5) # frambe_bound = what portionn of data we want to include (our case we start from 5 step and go to 100 steps)\n",
    "                                                        # Window size = how many sets of prices our bot takes. In our case 5 "
   ]
  },
  {
   "cell_type": "code",
   "execution_count": 9,
   "id": "549a8556",
   "metadata": {
    "execution": {
     "iopub.execute_input": "2023-05-11T01:39:06.714323Z",
     "iopub.status.busy": "2023-05-11T01:39:06.713950Z",
     "iopub.status.idle": "2023-05-11T01:39:06.720824Z",
     "shell.execute_reply": "2023-05-11T01:39:06.719754Z"
    },
    "papermill": {
     "duration": 0.019701,
     "end_time": "2023-05-11T01:39:06.723050",
     "exception": false,
     "start_time": "2023-05-11T01:39:06.703349",
     "status": "completed"
    },
    "tags": []
   },
   "outputs": [
    {
     "data": {
      "text/plain": [
       "array([4.37, 4.23, 3.77, 4.19, 3.76, 3.81, 4.16, 4.17, 4.41, 4.22, 3.65,\n",
       "       3.5 , 3.25, 2.85, 2.8 , 3.09, 3.27, 3.41, 3.89, 4.74, 5.95, 5.27,\n",
       "       5.03, 4.88, 5.61, 4.78, 4.89, 4.7 , 4.77, 5.82, 5.64, 6.04, 5.73,\n",
       "       6.05, 5.48, 5.39, 4.93, 4.87, 4.98, 4.76, 4.54, 4.21, 4.13, 4.22,\n",
       "       4.58, 4.44, 4.43, 4.44, 4.18, 4.42, 4.69, 4.33, 4.06, 4.13, 4.18,\n",
       "       4.44, 4.47, 4.14, 5.01, 4.96, 5.07, 4.37, 4.72, 4.69, 4.64, 4.76,\n",
       "       4.95, 4.88, 4.87, 4.83, 4.41, 4.46, 4.35, 4.38, 4.34, 4.44, 4.29,\n",
       "       4.24, 4.09, 4.26, 4.21, 4.34, 4.26, 4.08, 4.19, 4.17, 3.96, 3.85,\n",
       "       4.01, 4.11, 4.11, 4.03, 4.01, 3.94, 4.06, 4.1 , 4.01, 4.15, 4.43,\n",
       "       4.63])"
      ]
     },
     "execution_count": 9,
     "metadata": {},
     "output_type": "execute_result"
    }
   ],
   "source": [
    "env.prices"
   ]
  },
  {
   "cell_type": "code",
   "execution_count": 10,
   "id": "bf471a47",
   "metadata": {
    "execution": {
     "iopub.execute_input": "2023-05-11T01:39:06.743134Z",
     "iopub.status.busy": "2023-05-11T01:39:06.742737Z",
     "iopub.status.idle": "2023-05-11T01:39:07.054667Z",
     "shell.execute_reply": "2023-05-11T01:39:07.053716Z"
    },
    "papermill": {
     "duration": 0.324491,
     "end_time": "2023-05-11T01:39:07.056909",
     "exception": false,
     "start_time": "2023-05-11T01:39:06.732418",
     "status": "completed"
    },
    "tags": []
   },
   "outputs": [
    {
     "name": "stdout",
     "output_type": "stream",
     "text": [
      "info {'total_reward': 0.9700000000000015, 'total_profit': 0.8500181102629171, 'position': 1}\n"
     ]
    },
    {
     "data": {
      "image/png": "[encoded data removed]",
      "text/plain": [
       "<Figure size 1500x600 with 1 Axes>"
      ]
     },
     "metadata": {},
     "output_type": "display_data"
    }
   ],
   "source": [
    "state = env.reset()\n",
    "while True:\n",
    "    action = env.action_space.sample() # Making a random action\n",
    "    n_state, reward, done, info = env.step(action) # Applying random action to our ENV\n",
    "    if done:\n",
    "        print(\"info\", info)\n",
    "        break\n",
    "plt.figure(figsize=(15,6))\n",
    "plt.cla()\n",
    "env.render_all() # Enables us to render everything\n",
    "plt.show()"
   ]
  },
  {
   "cell_type": "markdown",
   "id": "b898ef84",
   "metadata": {
    "papermill": {
     "duration": 0.01059,
     "end_time": "2023-05-11T01:39:07.078263",
     "exception": false,
     "start_time": "2023-05-11T01:39:07.067673",
     "status": "completed"
    },
    "tags": []
   },
   "source": [
    "# Addind indicators"
   ]
  },
  {
   "cell_type": "code",
   "execution_count": 11,
   "id": "ec3c4891",
   "metadata": {
    "execution": {
     "iopub.execute_input": "2023-05-11T01:39:07.102216Z",
     "iopub.status.busy": "2023-05-11T01:39:07.101524Z",
     "iopub.status.idle": "2023-05-11T01:39:07.108966Z",
     "shell.execute_reply": "2023-05-11T01:39:07.108188Z"
    },
    "papermill": {
     "duration": 0.021841,
     "end_time": "2023-05-11T01:39:07.111122",
     "exception": false,
     "start_time": "2023-05-11T01:39:07.089281",
     "status": "completed"
    },
    "tags": []
   },
   "outputs": [],
   "source": [
    "from gym_anytrading.envs import StocksEnv\n",
    "from finta import TA"
   ]
  },
  {
   "cell_type": "code",
   "execution_count": 12,
   "id": "ff5d9df1",
   "metadata": {
    "execution": {
     "iopub.execute_input": "2023-05-11T01:39:07.134292Z",
     "iopub.status.busy": "2023-05-11T01:39:07.133654Z",
     "iopub.status.idle": "2023-05-11T01:39:07.138827Z",
     "shell.execute_reply": "2023-05-11T01:39:07.138071Z"
    },
    "papermill": {
     "duration": 0.01895,
     "end_time": "2023-05-11T01:39:07.140738",
     "exception": false,
     "start_time": "2023-05-11T01:39:07.121788",
     "status": "completed"
    },
    "tags": []
   },
   "outputs": [],
   "source": [
    "df['Volume'] = df['Volume'].apply(lambda x: float(x.replace(\",\", \"\")))"
   ]
  },
  {
   "cell_type": "markdown",
   "id": "10df0e3c",
   "metadata": {
    "papermill": {
     "duration": 0.010165,
     "end_time": "2023-05-11T01:39:07.161531",
     "exception": false,
     "start_time": "2023-05-11T01:39:07.151366",
     "status": "completed"
    },
    "tags": []
   },
   "source": [
    "## Calculating indicators"
   ]
  },
  {
   "cell_type": "code",
   "execution_count": 13,
   "id": "3906e931",
   "metadata": {
    "execution": {
     "iopub.execute_input": "2023-05-11T01:39:07.185038Z",
     "iopub.status.busy": "2023-05-11T01:39:07.184450Z",
     "iopub.status.idle": "2023-05-11T01:39:07.203893Z",
     "shell.execute_reply": "2023-05-11T01:39:07.202566Z"
    },
    "papermill": {
     "duration": 0.034604,
     "end_time": "2023-05-11T01:39:07.207001",
     "exception": false,
     "start_time": "2023-05-11T01:39:07.172397",
     "status": "completed"
    },
    "tags": []
   },
   "outputs": [],
   "source": [
    "df['SMA']= TA.SMA(df,12)\n",
    "df['RSI']= TA.RSI(df)\n",
    "df['OBV']= TA.OBV(df)\n",
    "df.fillna(0, inplace=True)"
   ]
  },
  {
   "cell_type": "code",
   "execution_count": 14,
   "id": "d23d7b53",
   "metadata": {
    "execution": {
     "iopub.execute_input": "2023-05-11T01:39:07.233848Z",
     "iopub.status.busy": "2023-05-11T01:39:07.233440Z",
     "iopub.status.idle": "2023-05-11T01:39:07.250685Z",
     "shell.execute_reply": "2023-05-11T01:39:07.249784Z"
    },
    "papermill": {
     "duration": 0.034298,
     "end_time": "2023-05-11T01:39:07.252858",
     "exception": false,
     "start_time": "2023-05-11T01:39:07.218560",
     "status": "completed"
    },
    "tags": []
   },
   "outputs": [
    {
     "data": {
      "text/html": [
       "<div>\n",
       "<style scoped>\n",
       "    .dataframe tbody tr th:only-of-type {\n",
       "        vertical-align: middle;\n",
       "    }\n",
       "\n",
       "    .dataframe tbody tr th {\n",
       "        vertical-align: top;\n",
       "    }\n",
       "\n",
       "    .dataframe thead th {\n",
       "        text-align: right;\n",
       "    }\n",
       "</style>\n",
       "<table border=\"1\" class=\"dataframe\">\n",
       "  <thead>\n",
       "    <tr style=\"text-align: right;\">\n",
       "      <th></th>\n",
       "      <th>Open</th>\n",
       "      <th>High</th>\n",
       "      <th>Low</th>\n",
       "      <th>Close</th>\n",
       "      <th>Volume</th>\n",
       "      <th>SMA</th>\n",
       "      <th>RSI</th>\n",
       "      <th>OBV</th>\n",
       "    </tr>\n",
       "    <tr>\n",
       "      <th>Date</th>\n",
       "      <th></th>\n",
       "      <th></th>\n",
       "      <th></th>\n",
       "      <th></th>\n",
       "      <th></th>\n",
       "      <th></th>\n",
       "      <th></th>\n",
       "      <th></th>\n",
       "    </tr>\n",
       "  </thead>\n",
       "  <tbody>\n",
       "    <tr>\n",
       "      <th>2020-03-16</th>\n",
       "      <td>3.93</td>\n",
       "      <td>4.57</td>\n",
       "      <td>3.90</td>\n",
       "      <td>4.37</td>\n",
       "      <td>4866696.0</td>\n",
       "      <td>0.0</td>\n",
       "      <td>0.000000</td>\n",
       "      <td>0.0</td>\n",
       "    </tr>\n",
       "    <tr>\n",
       "      <th>2020-03-17</th>\n",
       "      <td>4.40</td>\n",
       "      <td>4.65</td>\n",
       "      <td>4.11</td>\n",
       "      <td>4.23</td>\n",
       "      <td>3562210.0</td>\n",
       "      <td>0.0</td>\n",
       "      <td>0.000000</td>\n",
       "      <td>-3562210.0</td>\n",
       "    </tr>\n",
       "    <tr>\n",
       "      <th>2020-03-18</th>\n",
       "      <td>4.10</td>\n",
       "      <td>4.25</td>\n",
       "      <td>3.50</td>\n",
       "      <td>3.77</td>\n",
       "      <td>3651709.0</td>\n",
       "      <td>0.0</td>\n",
       "      <td>0.000000</td>\n",
       "      <td>-7213919.0</td>\n",
       "    </tr>\n",
       "    <tr>\n",
       "      <th>2020-03-19</th>\n",
       "      <td>3.71</td>\n",
       "      <td>4.20</td>\n",
       "      <td>3.55</td>\n",
       "      <td>4.19</td>\n",
       "      <td>5039539.0</td>\n",
       "      <td>0.0</td>\n",
       "      <td>43.394834</td>\n",
       "      <td>-2174380.0</td>\n",
       "    </tr>\n",
       "    <tr>\n",
       "      <th>2020-03-20</th>\n",
       "      <td>4.08</td>\n",
       "      <td>4.08</td>\n",
       "      <td>3.65</td>\n",
       "      <td>3.76</td>\n",
       "      <td>7722194.0</td>\n",
       "      <td>0.0</td>\n",
       "      <td>29.351457</td>\n",
       "      <td>-9896574.0</td>\n",
       "    </tr>\n",
       "  </tbody>\n",
       "</table>\n",
       "</div>"
      ],
      "text/plain": [
       "            Open  High   Low  Close     Volume  SMA        RSI        OBV\n",
       "Date                                                                     \n",
       "2020-03-16  3.93  4.57  3.90   4.37  4866696.0  0.0   0.000000        0.0\n",
       "2020-03-17  4.40  4.65  4.11   4.23  3562210.0  0.0   0.000000 -3562210.0\n",
       "2020-03-18  4.10  4.25  3.50   3.77  3651709.0  0.0   0.000000 -7213919.0\n",
       "2020-03-19  3.71  4.20  3.55   4.19  5039539.0  0.0  43.394834 -2174380.0\n",
       "2020-03-20  4.08  4.08  3.65   3.76  7722194.0  0.0  29.351457 -9896574.0"
      ]
     },
     "execution_count": 14,
     "metadata": {},
     "output_type": "execute_result"
    }
   ],
   "source": [
    "df.head()"
   ]
  },
  {
   "cell_type": "markdown",
   "id": "4af25fad",
   "metadata": {
    "papermill": {
     "duration": 0.010676,
     "end_time": "2023-05-11T01:39:07.274847",
     "exception": false,
     "start_time": "2023-05-11T01:39:07.264171",
     "status": "completed"
    },
    "tags": []
   },
   "source": [
    "# Create New Signals"
   ]
  },
  {
   "cell_type": "code",
   "execution_count": 15,
   "id": "f438dabc",
   "metadata": {
    "execution": {
     "iopub.execute_input": "2023-05-11T01:39:07.301467Z",
     "iopub.status.busy": "2023-05-11T01:39:07.299716Z",
     "iopub.status.idle": "2023-05-11T01:39:07.307058Z",
     "shell.execute_reply": "2023-05-11T01:39:07.306022Z"
    },
    "papermill": {
     "duration": 0.023341,
     "end_time": "2023-05-11T01:39:07.309503",
     "exception": false,
     "start_time": "2023-05-11T01:39:07.286162",
     "status": "completed"
    },
    "tags": []
   },
   "outputs": [],
   "source": [
    "def add_signals(env):\n",
    "    start = env.frame_bound[0] - env.window_size # Calculating the start index (frame_bound[0] is equal to first element in window size from 5 to 100 (our case is 5))\n",
    "    end = env.frame_bound[1] # Grabbing 100 from the range\n",
    "    prices = env.df.loc[:, 'Low'].to_numpy()[start:end]  # Taking prices\n",
    "    signal_features = env.df.loc[:, ['Low','Volume','SMA','RSI', 'OBV']].to_numpy()[start:end] # What Indicators we want to calculate\n",
    "    return prices, signal_features"
   ]
  },
  {
   "cell_type": "code",
   "execution_count": 16,
   "id": "93bf0132",
   "metadata": {
    "execution": {
     "iopub.execute_input": "2023-05-11T01:39:07.334141Z",
     "iopub.status.busy": "2023-05-11T01:39:07.332878Z",
     "iopub.status.idle": "2023-05-11T01:39:07.340725Z",
     "shell.execute_reply": "2023-05-11T01:39:07.339869Z"
    },
    "papermill": {
     "duration": 0.022734,
     "end_time": "2023-05-11T01:39:07.343133",
     "exception": false,
     "start_time": "2023-05-11T01:39:07.320399",
     "status": "completed"
    },
    "tags": []
   },
   "outputs": [],
   "source": [
    "class MyCustomEnv(StocksEnv):\n",
    "    _process_data = add_signals\n",
    "\n",
    "env2 = MyCustomEnv(df=df, window_size=12, frame_bound=(12,190)) # Frame bound is used for choosing training data"
   ]
  },
  {
   "cell_type": "markdown",
   "id": "4fda8c71",
   "metadata": {
    "papermill": {
     "duration": 0.010497,
     "end_time": "2023-05-11T01:39:07.364511",
     "exception": false,
     "start_time": "2023-05-11T01:39:07.354014",
     "status": "completed"
    },
    "tags": []
   },
   "source": [
    "# Build env with Train"
   ]
  },
  {
   "cell_type": "code",
   "execution_count": 17,
   "id": "fb870b10",
   "metadata": {
    "execution": {
     "iopub.execute_input": "2023-05-11T01:39:07.388730Z",
     "iopub.status.busy": "2023-05-11T01:39:07.388084Z",
     "iopub.status.idle": "2023-05-11T01:39:07.392723Z",
     "shell.execute_reply": "2023-05-11T01:39:07.392007Z"
    },
    "papermill": {
     "duration": 0.019458,
     "end_time": "2023-05-11T01:39:07.394656",
     "exception": false,
     "start_time": "2023-05-11T01:39:07.375198",
     "status": "completed"
    },
    "tags": []
   },
   "outputs": [],
   "source": [
    "env_maker = lambda: env2\n",
    "env = DummyVecEnv([env_maker])"
   ]
  },
  {
   "cell_type": "code",
   "execution_count": 18,
   "id": "f909e728",
   "metadata": {
    "_kg_hide-output": true,
    "execution": {
     "iopub.execute_input": "2023-05-11T01:39:07.418065Z",
     "iopub.status.busy": "2023-05-11T01:39:07.417427Z",
     "iopub.status.idle": "2023-05-11T02:02:47.998555Z",
     "shell.execute_reply": "2023-05-11T02:02:47.997585Z"
    },
    "papermill": {
     "duration": 1420.604521,
     "end_time": "2023-05-11T02:02:48.009750",
     "exception": false,
     "start_time": "2023-05-11T01:39:07.405229",
     "status": "completed"
    },
    "tags": []
   },
   "outputs": [
    {
     "data": {
      "text/plain": [
       "<stable_baselines3.a2c.a2c.A2C at 0x7c77e8b7cb80>"
      ]
     },
     "execution_count": 18,
     "metadata": {},
     "output_type": "execute_result"
    }
   ],
   "source": [
    "model = A2C('MlpPolicy', env, verbose=0) \n",
    "model.learn(total_timesteps=1_000_000) # Look for good 'explained_variance' If it equals 1 then we have already a really good result"
   ]
  },
  {
   "cell_type": "markdown",
   "id": "f7754c48",
   "metadata": {
    "papermill": {
     "duration": 0.01061,
     "end_time": "2023-05-11T02:02:48.031168",
     "exception": false,
     "start_time": "2023-05-11T02:02:48.020558",
     "status": "completed"
    },
    "tags": []
   },
   "source": [
    "# Evaluate"
   ]
  },
  {
   "cell_type": "code",
   "execution_count": 19,
   "id": "59458c6c",
   "metadata": {
    "execution": {
     "iopub.execute_input": "2023-05-11T02:02:48.056639Z",
     "iopub.status.busy": "2023-05-11T02:02:48.055546Z",
     "iopub.status.idle": "2023-05-11T02:02:48.092819Z",
     "shell.execute_reply": "2023-05-11T02:02:48.091652Z"
    },
    "papermill": {
     "duration": 0.052012,
     "end_time": "2023-05-11T02:02:48.095351",
     "exception": false,
     "start_time": "2023-05-11T02:02:48.043339",
     "status": "completed"
    },
    "tags": []
   },
   "outputs": [
    {
     "name": "stdout",
     "output_type": "stream",
     "text": [
      "info {'total_reward': 338.35, 'total_profit': 15.39101969590652, 'position': 0}\n"
     ]
    }
   ],
   "source": [
    "env = MyCustomEnv(df=df, window_size=12, frame_bound=(200,300))\n",
    "obs = env.reset()\n",
    "while True: \n",
    "    obs = obs[np.newaxis, ...]\n",
    "    action, _states = model.predict(obs)\n",
    "    obs, rewards, done, info = env.step(action)\n",
    "    if done:\n",
    "        print(\"info\", info)\n",
    "        break"
   ]
  },
  {
   "cell_type": "code",
   "execution_count": 20,
   "id": "191ca60f",
   "metadata": {
    "execution": {
     "iopub.execute_input": "2023-05-11T02:02:48.120029Z",
     "iopub.status.busy": "2023-05-11T02:02:48.118967Z",
     "iopub.status.idle": "2023-05-11T02:02:48.358539Z",
     "shell.execute_reply": "2023-05-11T02:02:48.357540Z"
    },
    "papermill": {
     "duration": 0.254031,
     "end_time": "2023-05-11T02:02:48.360642",
     "exception": false,
     "start_time": "2023-05-11T02:02:48.106611",
     "status": "completed"
    },
    "tags": []
   },
   "outputs": [
    {
     "data": {
      "image/png": "[encoded data removed]",
      "text/plain": [
       "<Figure size 1500x600 with 1 Axes>"
      ]
     },
     "metadata": {},
     "output_type": "display_data"
    }
   ],
   "source": [
    "plt.figure(figsize=(15,6))\n",
    "plt.cla()\n",
    "env.render_all()\n",
    "plt.show()"
   ]
  },
  {
   "cell_type": "code",
   "execution_count": null,
   "id": "d2b43ba0",
   "metadata": {
    "papermill": {
     "duration": 0.011799,
     "end_time": "2023-05-11T02:02:48.384502",
     "exception": false,
     "start_time": "2023-05-11T02:02:48.372703",
     "status": "completed"
    },
    "tags": []
   },
   "outputs": [],
   "source": []
  }
 ],
 "metadata": {
  "kernelspec": {
   "display_name": "Python 3",
   "language": "python",
   "name": "python3"
  },
  "language_info": {
   "codemirror_mode": {
    "name": "ipython",
    "version": 3
   },
   "file_extension": ".py",
   "mimetype": "text/x-python",
   "name": "python",
   "nbconvert_exporter": "python",
   "pygments_lexer": "ipython3",
   "version": "3.10.10"
  },
  "papermill": {
   "default_parameters": {},
   "duration": 1550.270103,
   "end_time": "2023-05-11T02:02:51.761250",
   "environment_variables": {},
   "exception": null,
   "input_path": "__notebook__.ipynb",
   "output_path": "__notebook__.ipynb",
   "parameters": {},
   "start_time": "2023-05-11T01:37:01.491147",
   "version": "2.4.0"
  }
 },
 "nbformat": 4,
 "nbformat_minor": 5
}
